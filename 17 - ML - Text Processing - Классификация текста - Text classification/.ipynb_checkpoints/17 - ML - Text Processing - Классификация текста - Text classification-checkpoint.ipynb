{
 "cells": [
  {
   "cell_type": "markdown",
   "metadata": {
    "toc": true
   },
   "source": [
    "<h1>Содержание<span class=\"tocSkip\"></span></h1>\n",
    "<div class=\"toc\"><ul class=\"toc-item\"><li><span><a href=\"#Описание-проекта\" data-toc-modified-id=\"Описание-проекта-1\"><span class=\"toc-item-num\">1&nbsp;&nbsp;</span>Описание проекта</a></span></li><li><span><a href=\"#Служебные-ячейки\" data-toc-modified-id=\"Служебные-ячейки-2\"><span class=\"toc-item-num\">2&nbsp;&nbsp;</span>Служебные ячейки</a></span><ul class=\"toc-item\"><li><span><a href=\"#Импорт-библиотек\" data-toc-modified-id=\"Импорт-библиотек-2.1\"><span class=\"toc-item-num\">2.1&nbsp;&nbsp;</span>Импорт библиотек</a></span></li><li><span><a href=\"#Начальные-настройки-среды\" data-toc-modified-id=\"Начальные-настройки-среды-2.2\"><span class=\"toc-item-num\">2.2&nbsp;&nbsp;</span>Начальные настройки среды</a></span></li><li><span><a href=\"#Глобальные-переменные\" data-toc-modified-id=\"Глобальные-переменные-2.3\"><span class=\"toc-item-num\">2.3&nbsp;&nbsp;</span>Глобальные переменные</a></span></li></ul></li><li><span><a href=\"#Подготовка\" data-toc-modified-id=\"Подготовка-3\"><span class=\"toc-item-num\">3&nbsp;&nbsp;</span>Подготовка</a></span><ul class=\"toc-item\"><li><span><a href=\"#Загрузка-данных\" data-toc-modified-id=\"Загрузка-данных-3.1\"><span class=\"toc-item-num\">3.1&nbsp;&nbsp;</span>Загрузка данных</a></span></li><li><span><a href=\"#Предобработка-текста\" data-toc-modified-id=\"Предобработка-текста-3.2\"><span class=\"toc-item-num\">3.2&nbsp;&nbsp;</span>Предобработка текста</a></span><ul class=\"toc-item\"><li><span><a href=\"#Создание-корпуса-текстов\" data-toc-modified-id=\"Создание-корпуса-текстов-3.2.1\"><span class=\"toc-item-num\">3.2.1&nbsp;&nbsp;</span>Создание корпуса текстов</a></span></li><li><span><a href=\"#Токенизация-и-лемматизация-текста,-исследование-библиотек\" data-toc-modified-id=\"Токенизация-и-лемматизация-текста,-исследование-библиотек-3.2.2\"><span class=\"toc-item-num\">3.2.2&nbsp;&nbsp;</span>Токенизация и лемматизация текста, исследование библиотек</a></span></li><li><span><a href=\"#Токенизация-и-лемматизация-корпуса-текстов\" data-toc-modified-id=\"Токенизация-и-лемматизация-корпуса-текстов-3.2.3\"><span class=\"toc-item-num\">3.2.3&nbsp;&nbsp;</span>Токенизация и лемматизация корпуса текстов</a></span></li><li><span><a href=\"#Проверка-размера-корпуса-и-результатов-токенизации/лемматизации\" data-toc-modified-id=\"Проверка-размера-корпуса-и-результатов-токенизации/лемматизации-3.2.4\"><span class=\"toc-item-num\">3.2.4&nbsp;&nbsp;</span>Проверка размера корпуса и результатов токенизации/лемматизации</a></span></li></ul></li><li><span><a href=\"#Выделение-тестовой-выборки\" data-toc-modified-id=\"Выделение-тестовой-выборки-3.3\"><span class=\"toc-item-num\">3.3&nbsp;&nbsp;</span>Выделение тестовой выборки</a></span></li><li><span><a href=\"#Создание-признаков\" data-toc-modified-id=\"Создание-признаков-3.4\"><span class=\"toc-item-num\">3.4&nbsp;&nbsp;</span>Создание признаков</a></span></li><li><span><a href=\"#Вывод-по-разделу-Подготовка\" data-toc-modified-id=\"Вывод-по-разделу-Подготовка-3.5\"><span class=\"toc-item-num\">3.5&nbsp;&nbsp;</span>Вывод по разделу Подготовка</a></span></li></ul></li><li><span><a href=\"#Обучение\" data-toc-modified-id=\"Обучение-4\"><span class=\"toc-item-num\">4&nbsp;&nbsp;</span>Обучение</a></span><ul class=\"toc-item\"><li><span><a href=\"#Исследование-модели-LogisticRegression\" data-toc-modified-id=\"Исследование-модели-LogisticRegression-4.1\"><span class=\"toc-item-num\">4.1&nbsp;&nbsp;</span>Исследование модели LogisticRegression</a></span></li><li><span><a href=\"#Исследование-модели-DecisionTreeClassifier\" data-toc-modified-id=\"Исследование-модели-DecisionTreeClassifier-4.2\"><span class=\"toc-item-num\">4.2&nbsp;&nbsp;</span>Исследование модели DecisionTreeClassifier</a></span></li><li><span><a href=\"#Исследование-модели-LGBMClassifier\" data-toc-modified-id=\"Исследование-модели-LGBMClassifier-4.3\"><span class=\"toc-item-num\">4.3&nbsp;&nbsp;</span>Исследование модели LGBMClassifier</a></span></li><li><span><a href=\"#Исследование-модели-MultinomialNB\" data-toc-modified-id=\"Исследование-модели-MultinomialNB-4.4\"><span class=\"toc-item-num\">4.4&nbsp;&nbsp;</span>Исследование модели MultinomialNB</a></span></li><li><span><a href=\"#Вывод-по-разделу-Обучение\" data-toc-modified-id=\"Вывод-по-разделу-Обучение-4.5\"><span class=\"toc-item-num\">4.5&nbsp;&nbsp;</span>Вывод по разделу Обучение</a></span></li></ul></li><li><span><a href=\"#Проверка\" data-toc-modified-id=\"Проверка-5\"><span class=\"toc-item-num\">5&nbsp;&nbsp;</span>Проверка</a></span><ul class=\"toc-item\"><li><span><a href=\"#Создание-признаков-для-тестовой-выборки\" data-toc-modified-id=\"Создание-признаков-для-тестовой-выборки-5.1\"><span class=\"toc-item-num\">5.1&nbsp;&nbsp;</span>Создание признаков для тестовой выборки</a></span></li><li><span><a href=\"#Проверка-адекватности-модели\" data-toc-modified-id=\"Проверка-адекватности-модели-5.2\"><span class=\"toc-item-num\">5.2&nbsp;&nbsp;</span>Проверка адекватности модели</a></span></li><li><span><a href=\"#Вывод-по-разделу---Проверка\" data-toc-modified-id=\"Вывод-по-разделу---Проверка-5.3\"><span class=\"toc-item-num\">5.3&nbsp;&nbsp;</span>Вывод по разделу - Проверка</a></span></li></ul></li><li><span><a href=\"#Выводы\" data-toc-modified-id=\"Выводы-6\"><span class=\"toc-item-num\">6&nbsp;&nbsp;</span>Выводы</a></span></li></ul></div>"
   ]
  },
  {
   "cell_type": "markdown",
   "metadata": {},
   "source": [
    "## Описание проекта"
   ]
  },
  {
   "cell_type": "markdown",
   "metadata": {},
   "source": [
    "# Проект для «Викишоп» - без BERT\n",
    "\n",
    "**Описание проекта (оригинальное)**\n",
    "\n",
    "Интернет-магазин «Викишоп» запускает новый сервис. Теперь пользователи могут редактировать и дополнять описания товаров, как в вики-сообществах. То есть клиенты предлагают свои правки и комментируют изменения других. Магазину нужен инструмент, который будет искать токсичные комментарии и отправлять их на модерацию. \n",
    "\n",
    "Обучите модель классифицировать комментарии на позитивные и негативные. В вашем распоряжении набор данных с разметкой о токсичности правок.\n",
    "\n",
    "Постройте модель со значением метрики качества *F1* не меньше 0.75. \n",
    "\n",
    "**Инструкция по выполнению проекта**\n",
    "\n",
    "1. Загрузите и подготовьте данные.\n",
    "2. Обучите разные модели. \n",
    "3. Сделайте выводы.\n",
    "\n",
    "Для выполнения проекта применять *BERT* необязательно, но вы можете попробовать.\n",
    "\n",
    "**Описание данных**\n",
    "\n",
    "Данные находятся в файле `toxic_comments.csv`. Столбец *text* в нём содержит текст комментария, а *toxic* — целевой признак.\n",
    "\n",
    "**Декомпозиция задания проекта**\n",
    "\n",
    "*Исходные данные от заказчика*\n",
    "\n",
    "- Данные лежат в файле `toxic_comments.csv`. \n",
    "- Столбец text в нём содержит текст комментария, а toxic — целевой признак.\n",
    "\n",
    "*Задача*\n",
    "\n",
    "Магазину нужен инструмент, который будет искать токсичные комментарии и отправлять их на модерацию.\n",
    "Необходимо обучить модель классифицировать комментарии на позитивные и негативные\n",
    "\n",
    "Значение метрики качества F1 должно быть не меньше 0.75.\n",
    "\n",
    "*План работы*\n",
    "\n",
    "1. Загрузить данные и провести токенизацию и лемматизацию текстов.\n",
    "2. Выделить тестовую выборку размером 10% от исходных данных.\n",
    "3. Создать признаки векторизацией слов и созданием оценок важности слова\n",
    "3. Обучить разные модели с различными гиперпараметрами. \n",
    "4. Проверить данные на тестовой выборке и сделать выводы."
   ]
  },
  {
   "cell_type": "markdown",
   "metadata": {},
   "source": [
    "## Служебные ячейки"
   ]
  },
  {
   "cell_type": "markdown",
   "metadata": {},
   "source": [
    "### Импорт библиотек"
   ]
  },
  {
   "cell_type": "code",
   "execution_count": 1,
   "metadata": {},
   "outputs": [],
   "source": [
    "# СЛУЖЕБНОЕ Ячейка с импортом библиотек, импорт происходит только в этой ячейке\n",
    "\n",
    "# БИБЛИОТЕКИ ОСНОВНЫЕ\n",
    "import pandas as pd\n",
    "import numpy as np\n",
    "import re \n",
    "from scipy.sparse import hstack\n",
    "\n",
    "# БИБЛИОТЕКИ ГРАФИЧЕСКОГО ВЫВОДА\n",
    "import matplotlib.pyplot as plt\n",
    "\n",
    "# БИБЛИОТЕКИ ДЛЯ ФУНКЦИОНАЛА СРЕДЫ\n",
    "import warnings\n",
    "from tqdm import notebook    \n",
    "\n",
    "# БИБЛИОТЕКИ ОБРАБОТКИ ТЕКСТА\n",
    "import spacy\n",
    "import nltk \n",
    "from nltk.corpus import stopwords, wordnet\n",
    "from nltk.stem import WordNetLemmatizer\n",
    "#import torch\n",
    "#import transformers\n",
    "#from pymystem3 import Mystem\n",
    "\n",
    "# БИБЛИОТЕКИ ML\n",
    "\n",
    "import lightgbm as lgb\n",
    "\n",
    "from sklearn.base import BaseEstimator, TransformerMixin\n",
    "from sklearn.feature_extraction.text import CountVectorizer, TfidfVectorizer\n",
    "\n",
    "from sklearn.model_selection import train_test_split, GridSearchCV\n",
    "\n",
    "from sklearn.pipeline import Pipeline\n",
    "\n",
    "from sklearn.linear_model import LogisticRegression\n",
    "from sklearn.tree import DecisionTreeClassifier\n",
    "from sklearn.naive_bayes import MultinomialNB\n",
    "\n",
    "from sklearn.metrics import f1_score\n",
    "\n",
    "from sklearn.dummy import DummyClassifier"
   ]
  },
  {
   "cell_type": "code",
   "execution_count": 2,
   "metadata": {},
   "outputs": [
    {
     "name": "stderr",
     "output_type": "stream",
     "text": [
      "[nltk_data] Downloading package punkt to\n",
      "[nltk_data]     C:\\Users\\user\\AppData\\Roaming\\nltk_data...\n",
      "[nltk_data]   Package punkt is already up-to-date!\n",
      "[nltk_data] Downloading package wordnet to\n",
      "[nltk_data]     C:\\Users\\user\\AppData\\Roaming\\nltk_data...\n",
      "[nltk_data]   Package wordnet is already up-to-date!\n",
      "[nltk_data] Downloading package averaged_perceptron_tagger to\n",
      "[nltk_data]     C:\\Users\\user\\AppData\\Roaming\\nltk_data...\n",
      "[nltk_data]   Package averaged_perceptron_tagger is already up-to-\n",
      "[nltk_data]       date!\n"
     ]
    },
    {
     "data": {
      "text/plain": [
       "True"
      ]
     },
     "execution_count": 2,
     "metadata": {},
     "output_type": "execute_result"
    }
   ],
   "source": [
    "# Загрузка пакетов\n",
    "nltk.download('punkt')\n",
    "nltk.download('wordnet')\n",
    "nltk.download('averaged_perceptron_tagger')\n"
   ]
  },
  {
   "cell_type": "markdown",
   "metadata": {},
   "source": [
    "### Начальные настройки среды"
   ]
  },
  {
   "cell_type": "code",
   "execution_count": 3,
   "metadata": {},
   "outputs": [],
   "source": [
    "# СЛУЖЕБНОЕ Ячейка с c начальными настройками библиотек и Python\n",
    "\n",
    "pd.set_option('display.max_columns', 50)\n",
    "pd.set_option('display.max_rows', 50) \n",
    "pd.options.mode.chained_assignment = None\n",
    "warnings.filterwarnings('ignore')"
   ]
  },
  {
   "cell_type": "markdown",
   "metadata": {},
   "source": [
    "### Глобальные переменные"
   ]
  },
  {
   "cell_type": "code",
   "execution_count": 4,
   "metadata": {},
   "outputs": [],
   "source": [
    "# СЛУЖЕБНОЕ Ячейка с c глобальными переменными к проекту\n",
    "\n",
    "DATASET_PATH = '/datasets/toxic_comments.csv'\n",
    "RANDOM_STATE = 3141592654 # int, состояние генератора, 3141592654 by default\n",
    "CV_VALUE = 5 # Количество фолдов для CV, 5 by default\n",
    "REM_LIMIT = 0.1 # Предельная максимальная доля объектов, возможная для удаления из полной выборки, 0.05 by default\n",
    "#METRIC_MAX_LIMIT = 48 # Предельное максимальное значение метрики\n",
    "METRIC_MIN_LIMIT = 0.75 # Предельное минимальное значение метрики\n",
    "SCORER = 'f1'\n",
    "VERBOSE = 2\n",
    "N_JOBS = None\n",
    "\n",
    "# Глобальные переменные, определяющие параметры векторизатора\n",
    "\n",
    "USE_IDF_LIST = [False]#[True, False]      \n",
    "MAX_DF_LIST = [0.5]#[0.1, 0.3, 0.5]           # float Максимальная доля распространенности для слова,учитываемого в векторизаторе\n",
    "MIN_DF_RANGE = [10]#range(5, 51, 5)          # int Минимальная распространенность для слова, учитываемого в векторизаторе\n",
    "BINARY_LIST = [False]\n",
    "\n",
    "# Глобальные переменные, определяющие параметры моделей\n",
    "\n",
    "ITERATIONS_LIST = [500]#[100, 500]            # список, количество итераций бустинга\n",
    "ETA_LIST = [0.1]#[0.01, 0.1, 0.3, 0.5]        # список, значения шага обучения\n",
    "MAX_DEPTH_BOOSTING_LIST = [-1]          # список, значения максимальной глубины дерева\n",
    "\n",
    "MAX_DEPTH_RANGE = [50]#range(20, 81, 10)     # диапазон количества макс глубины дерева, третье число - шаг\n",
    "MIN_SAMPLES_RANGE = [3]#range(2, 4)         # диапазон значений мин. количества выборок, необходимых для разделения узла"
   ]
  },
  {
   "cell_type": "markdown",
   "metadata": {},
   "source": [
    "## Подготовка"
   ]
  },
  {
   "cell_type": "markdown",
   "metadata": {},
   "source": [
    "### Загрузка данных "
   ]
  },
  {
   "cell_type": "code",
   "execution_count": 5,
   "metadata": {},
   "outputs": [],
   "source": [
    "try:\n",
    "    data = pd.read_csv(DATASET_PATH)\n",
    "except:\n",
    "    data = pd.read_csv('https://code.s3.yandex.net' + DATASET_PATH)\n",
    "\n",
    "#data = data.sample(500).reset_index(drop=True) # сэмпл применялся для тестирования кода"
   ]
  },
  {
   "cell_type": "code",
   "execution_count": 6,
   "metadata": {
    "scrolled": true
   },
   "outputs": [
    {
     "name": "stdout",
     "output_type": "stream",
     "text": [
      "<class 'pandas.core.frame.DataFrame'>\n",
      "RangeIndex: 159292 entries, 0 to 159291\n",
      "Data columns (total 3 columns):\n",
      " #   Column      Non-Null Count   Dtype \n",
      "---  ------      --------------   ----- \n",
      " 0   Unnamed: 0  159292 non-null  int64 \n",
      " 1   text        159292 non-null  object\n",
      " 2   toxic       159292 non-null  int64 \n",
      "dtypes: int64(2), object(1)\n",
      "memory usage: 3.6+ MB\n"
     ]
    }
   ],
   "source": [
    "data.info()"
   ]
  },
  {
   "cell_type": "markdown",
   "metadata": {},
   "source": [
    "-  в данных 159_292 объекта, пропуски отсутствуют"
   ]
  },
  {
   "cell_type": "code",
   "execution_count": 7,
   "metadata": {
    "scrolled": false
   },
   "outputs": [
    {
     "data": {
      "text/html": [
       "<div>\n",
       "<style scoped>\n",
       "    .dataframe tbody tr th:only-of-type {\n",
       "        vertical-align: middle;\n",
       "    }\n",
       "\n",
       "    .dataframe tbody tr th {\n",
       "        vertical-align: top;\n",
       "    }\n",
       "\n",
       "    .dataframe thead th {\n",
       "        text-align: right;\n",
       "    }\n",
       "</style>\n",
       "<table border=\"1\" class=\"dataframe\">\n",
       "  <thead>\n",
       "    <tr style=\"text-align: right;\">\n",
       "      <th></th>\n",
       "      <th>Unnamed: 0</th>\n",
       "      <th>text</th>\n",
       "      <th>toxic</th>\n",
       "    </tr>\n",
       "  </thead>\n",
       "  <tbody>\n",
       "    <tr>\n",
       "      <th>0</th>\n",
       "      <td>0</td>\n",
       "      <td>Explanation\\nWhy the edits made under my usern...</td>\n",
       "      <td>0</td>\n",
       "    </tr>\n",
       "    <tr>\n",
       "      <th>1</th>\n",
       "      <td>1</td>\n",
       "      <td>D'aww! He matches this background colour I'm s...</td>\n",
       "      <td>0</td>\n",
       "    </tr>\n",
       "    <tr>\n",
       "      <th>2</th>\n",
       "      <td>2</td>\n",
       "      <td>Hey man, I'm really not trying to edit war. It...</td>\n",
       "      <td>0</td>\n",
       "    </tr>\n",
       "    <tr>\n",
       "      <th>3</th>\n",
       "      <td>3</td>\n",
       "      <td>\"\\nMore\\nI can't make any real suggestions on ...</td>\n",
       "      <td>0</td>\n",
       "    </tr>\n",
       "    <tr>\n",
       "      <th>4</th>\n",
       "      <td>4</td>\n",
       "      <td>You, sir, are my hero. Any chance you remember...</td>\n",
       "      <td>0</td>\n",
       "    </tr>\n",
       "    <tr>\n",
       "      <th>5</th>\n",
       "      <td>5</td>\n",
       "      <td>\"\\n\\nCongratulations from me as well, use the ...</td>\n",
       "      <td>0</td>\n",
       "    </tr>\n",
       "    <tr>\n",
       "      <th>6</th>\n",
       "      <td>6</td>\n",
       "      <td>COCKSUCKER BEFORE YOU PISS AROUND ON MY WORK</td>\n",
       "      <td>1</td>\n",
       "    </tr>\n",
       "    <tr>\n",
       "      <th>7</th>\n",
       "      <td>7</td>\n",
       "      <td>Your vandalism to the Matt Shirvington article...</td>\n",
       "      <td>0</td>\n",
       "    </tr>\n",
       "    <tr>\n",
       "      <th>8</th>\n",
       "      <td>8</td>\n",
       "      <td>Sorry if the word 'nonsense' was offensive to ...</td>\n",
       "      <td>0</td>\n",
       "    </tr>\n",
       "    <tr>\n",
       "      <th>9</th>\n",
       "      <td>9</td>\n",
       "      <td>alignment on this subject and which are contra...</td>\n",
       "      <td>0</td>\n",
       "    </tr>\n",
       "    <tr>\n",
       "      <th>10</th>\n",
       "      <td>10</td>\n",
       "      <td>\"\\nFair use rationale for Image:Wonju.jpg\\n\\nT...</td>\n",
       "      <td>0</td>\n",
       "    </tr>\n",
       "    <tr>\n",
       "      <th>11</th>\n",
       "      <td>11</td>\n",
       "      <td>bbq \\n\\nbe a man and lets discuss it-maybe ove...</td>\n",
       "      <td>0</td>\n",
       "    </tr>\n",
       "    <tr>\n",
       "      <th>12</th>\n",
       "      <td>12</td>\n",
       "      <td>Hey... what is it..\\n@ | talk .\\nWhat is it......</td>\n",
       "      <td>1</td>\n",
       "    </tr>\n",
       "  </tbody>\n",
       "</table>\n",
       "</div>"
      ],
      "text/plain": [
       "    Unnamed: 0                                               text  toxic\n",
       "0            0  Explanation\\nWhy the edits made under my usern...      0\n",
       "1            1  D'aww! He matches this background colour I'm s...      0\n",
       "2            2  Hey man, I'm really not trying to edit war. It...      0\n",
       "3            3  \"\\nMore\\nI can't make any real suggestions on ...      0\n",
       "4            4  You, sir, are my hero. Any chance you remember...      0\n",
       "5            5  \"\\n\\nCongratulations from me as well, use the ...      0\n",
       "6            6       COCKSUCKER BEFORE YOU PISS AROUND ON MY WORK      1\n",
       "7            7  Your vandalism to the Matt Shirvington article...      0\n",
       "8            8  Sorry if the word 'nonsense' was offensive to ...      0\n",
       "9            9  alignment on this subject and which are contra...      0\n",
       "10          10  \"\\nFair use rationale for Image:Wonju.jpg\\n\\nT...      0\n",
       "11          11  bbq \\n\\nbe a man and lets discuss it-maybe ove...      0\n",
       "12          12  Hey... what is it..\\n@ | talk .\\nWhat is it......      1"
      ]
     },
     "metadata": {},
     "output_type": "display_data"
    },
    {
     "data": {
      "text/html": [
       "<div>\n",
       "<style scoped>\n",
       "    .dataframe tbody tr th:only-of-type {\n",
       "        vertical-align: middle;\n",
       "    }\n",
       "\n",
       "    .dataframe tbody tr th {\n",
       "        vertical-align: top;\n",
       "    }\n",
       "\n",
       "    .dataframe thead th {\n",
       "        text-align: right;\n",
       "    }\n",
       "</style>\n",
       "<table border=\"1\" class=\"dataframe\">\n",
       "  <thead>\n",
       "    <tr style=\"text-align: right;\">\n",
       "      <th></th>\n",
       "      <th>Unnamed: 0</th>\n",
       "      <th>text</th>\n",
       "      <th>toxic</th>\n",
       "    </tr>\n",
       "  </thead>\n",
       "  <tbody>\n",
       "    <tr>\n",
       "      <th>159279</th>\n",
       "      <td>159438</td>\n",
       "      <td>Please stop removing content from Wikipedia; i...</td>\n",
       "      <td>0</td>\n",
       "    </tr>\n",
       "    <tr>\n",
       "      <th>159280</th>\n",
       "      <td>159439</td>\n",
       "      <td>Image:Barack-obama-mother.jpg listed for delet...</td>\n",
       "      <td>0</td>\n",
       "    </tr>\n",
       "    <tr>\n",
       "      <th>159281</th>\n",
       "      <td>159440</td>\n",
       "      <td>\"Editing of article without Consensus &amp; Remova...</td>\n",
       "      <td>0</td>\n",
       "    </tr>\n",
       "    <tr>\n",
       "      <th>159282</th>\n",
       "      <td>159441</td>\n",
       "      <td>\"\\nNo he did not, read it again (I would have ...</td>\n",
       "      <td>0</td>\n",
       "    </tr>\n",
       "    <tr>\n",
       "      <th>159283</th>\n",
       "      <td>159442</td>\n",
       "      <td>\"\\n Auto guides and the motoring press are not...</td>\n",
       "      <td>0</td>\n",
       "    </tr>\n",
       "    <tr>\n",
       "      <th>159284</th>\n",
       "      <td>159443</td>\n",
       "      <td>\"\\nplease identify what part of BLP applies be...</td>\n",
       "      <td>0</td>\n",
       "    </tr>\n",
       "    <tr>\n",
       "      <th>159285</th>\n",
       "      <td>159444</td>\n",
       "      <td>Catalan independentism is the social movement ...</td>\n",
       "      <td>0</td>\n",
       "    </tr>\n",
       "    <tr>\n",
       "      <th>159286</th>\n",
       "      <td>159445</td>\n",
       "      <td>The numbers in parentheses are the additional ...</td>\n",
       "      <td>0</td>\n",
       "    </tr>\n",
       "    <tr>\n",
       "      <th>159287</th>\n",
       "      <td>159446</td>\n",
       "      <td>\":::::And for the second time of asking, when ...</td>\n",
       "      <td>0</td>\n",
       "    </tr>\n",
       "    <tr>\n",
       "      <th>159288</th>\n",
       "      <td>159447</td>\n",
       "      <td>You should be ashamed of yourself \\n\\nThat is ...</td>\n",
       "      <td>0</td>\n",
       "    </tr>\n",
       "    <tr>\n",
       "      <th>159289</th>\n",
       "      <td>159448</td>\n",
       "      <td>Spitzer \\n\\nUmm, theres no actual article for ...</td>\n",
       "      <td>0</td>\n",
       "    </tr>\n",
       "    <tr>\n",
       "      <th>159290</th>\n",
       "      <td>159449</td>\n",
       "      <td>And it looks like it was actually you who put ...</td>\n",
       "      <td>0</td>\n",
       "    </tr>\n",
       "    <tr>\n",
       "      <th>159291</th>\n",
       "      <td>159450</td>\n",
       "      <td>\"\\nAnd ... I really don't think you understand...</td>\n",
       "      <td>0</td>\n",
       "    </tr>\n",
       "  </tbody>\n",
       "</table>\n",
       "</div>"
      ],
      "text/plain": [
       "        Unnamed: 0                                               text  toxic\n",
       "159279      159438  Please stop removing content from Wikipedia; i...      0\n",
       "159280      159439  Image:Barack-obama-mother.jpg listed for delet...      0\n",
       "159281      159440  \"Editing of article without Consensus & Remova...      0\n",
       "159282      159441  \"\\nNo he did not, read it again (I would have ...      0\n",
       "159283      159442  \"\\n Auto guides and the motoring press are not...      0\n",
       "159284      159443  \"\\nplease identify what part of BLP applies be...      0\n",
       "159285      159444  Catalan independentism is the social movement ...      0\n",
       "159286      159445  The numbers in parentheses are the additional ...      0\n",
       "159287      159446  \":::::And for the second time of asking, when ...      0\n",
       "159288      159447  You should be ashamed of yourself \\n\\nThat is ...      0\n",
       "159289      159448  Spitzer \\n\\nUmm, theres no actual article for ...      0\n",
       "159290      159449  And it looks like it was actually you who put ...      0\n",
       "159291      159450  \"\\nAnd ... I really don't think you understand...      0"
      ]
     },
     "metadata": {},
     "output_type": "display_data"
    }
   ],
   "source": [
    "display(data.head(13))\n",
    "display(data.tail(13))\n",
    "# Запомним начальную длину датасета\n",
    "len_orig = len(data)\n",
    "# Запомним произвольный текст датасета\n",
    "some_index = 3\n",
    "some_text = data['text'][some_index]"
   ]
  },
  {
   "cell_type": "markdown",
   "metadata": {},
   "source": [
    "-  Набор символов - латинница, язык определен как английский, исходя из этого предположения в дальнейшем будем обрабатывать текст "
   ]
  },
  {
   "cell_type": "code",
   "execution_count": 8,
   "metadata": {},
   "outputs": [
    {
     "name": "stdout",
     "output_type": "stream",
     "text": [
      "Уникальные значения признака `toxic`: [0 1]\n"
     ]
    }
   ],
   "source": [
    "print(f'Уникальные значения признака `toxic`: {data.toxic.unique()}')"
   ]
  },
  {
   "cell_type": "markdown",
   "metadata": {},
   "source": [
    "### Предобработка текста"
   ]
  },
  {
   "cell_type": "markdown",
   "metadata": {},
   "source": [
    "Для того чтобы извлечь признаки из текста упростим его, применим:\n",
    "\n",
    "- Токенизацию (англ. tokenization) — разбиение текста на токены: отдельные фразы, слова, символы.\n",
    "- Лемматизацию (англ. lemmatization) — приведение слова к начальной форме — лемме."
   ]
  },
  {
   "cell_type": "markdown",
   "metadata": {},
   "source": [
    "#### Создание корпуса текстов \n",
    "\n",
    "Прежде всего создадим корпус из текстов, с переводом текстов в стандартный для Python формат: кодировку Unicode "
   ]
  },
  {
   "cell_type": "code",
   "execution_count": 9,
   "metadata": {},
   "outputs": [],
   "source": [
    "corpus = list(data['text']) #.values.astype('U'))"
   ]
  },
  {
   "cell_type": "markdown",
   "metadata": {},
   "source": [
    "#### Токенизация и лемматизация текста, исследование библиотек"
   ]
  },
  {
   "cell_type": "markdown",
   "metadata": {},
   "source": [
    "Токенизацию будем делать используя регулярные выражения, лемматизацию - проведем исследование библиотек `Spacy` и `NLTK WordNet Lemmatizer`, использующую встроенную в `WordNet` функцию `morphy`\n",
    "\n",
    "В качестве лемматизатора была выбрана библиотека `Spacy`.\n",
    "\n",
    "Объявим функцию для токенизации и лемматизации текста и применим ее к корпусу с текстами"
   ]
  },
  {
   "cell_type": "code",
   "execution_count": 10,
   "metadata": {},
   "outputs": [],
   "source": [
    "def tokenize_lemmatize_wordnet(text):\n",
    "    '''\n",
    "    text: object, must contain text\n",
    "    the function performs preprocessing text using re, nltk.stem.wordnet.WordNetLemmatizer()\n",
    "    \n",
    "    Returns preprocessed text\n",
    "    '''\n",
    "    def get_wordnet_pos(word):\n",
    "        tag = nltk.pos_tag([word])[0][1][0].upper()\n",
    "        tag_dict = {\"J\": wordnet.ADJ,\n",
    "                    \"N\": wordnet.NOUN,\n",
    "                    \"V\": wordnet.VERB,\n",
    "                    \"R\": wordnet.ADV}\n",
    "        return tag_dict.get(tag, wordnet.NOUN)\n",
    "    \n",
    "    string = re.sub(r'[^a-zA-Z]', ' ', text)\n",
    "    string = string.split()\n",
    "    \n",
    "    lemmatizer = WordNetLemmatizer()\n",
    "    lemmatized_output = ' '.join([lemmatizer.lemmatize(word, get_wordnet_pos(word)) for word in string])\n",
    "    return lemmatized_output"
   ]
  },
  {
   "cell_type": "code",
   "execution_count": 11,
   "metadata": {},
   "outputs": [],
   "source": [
    "def tokenize_lemmatize_spacy(list_of_text, verbose=True):\n",
    "    '''\n",
    "    list_of_text: list-like, must contain text\n",
    "    verbose: Boolean, default=True. If True, shows the progress bar using tqdm\n",
    "    the function performs preprocessing of a list of texts using re, spacy\n",
    "    \n",
    "    Returns a list with preprocessed text\n",
    "    '''\n",
    "    nlp = spacy.load('en_core_web_sm', disable=['parser', 'ner']) \n",
    "        \n",
    "    return_series = []\n",
    "    for text in notebook.tqdm(list_of_text):\n",
    "        string = re.sub(r'[^a-zA-Z]', ' ', text)\n",
    "        #string = string.split()\n",
    "        \n",
    "        string = nlp(string)\n",
    "           \n",
    "        return_series.append(' '.join([token.lemma_ for token in string]))\n",
    "    \n",
    "    return return_series"
   ]
  },
  {
   "cell_type": "markdown",
   "metadata": {},
   "source": [
    "#### Токенизация и лемматизация корпуса текстов"
   ]
  },
  {
   "cell_type": "code",
   "execution_count": 12,
   "metadata": {
    "scrolled": true
   },
   "outputs": [],
   "source": [
    "#%%time\n",
    "#corpus = tokenize_lemmatize_spacy(corpus)"
   ]
  },
  {
   "cell_type": "markdown",
   "metadata": {},
   "source": [
    "Результат выполнения ячейки на машине студента (скриншот):"
   ]
  },
  {
   "cell_type": "markdown",
   "metadata": {},
   "source": [
    "<img src='https://getfile.dokpub.com/yandex/get/https://disk.yandex.ru/i/6ed5yidAmjS5og' align=\"left\">"
   ]
  },
  {
   "cell_type": "markdown",
   "metadata": {},
   "source": [
    "Время потраченное на токенизацию и лемматизацию корпуса текстов на машине студента:\n",
    "\n",
    "CPU times: total: 33min 34s\n",
    "\n",
    "Wall time: 33min 23s   "
   ]
  },
  {
   "cell_type": "markdown",
   "metadata": {},
   "source": [
    "  -  Для сокращения времени выполнения в тетрадку подгружается заранее лемматизированный корпус текстов с Я.Диска.\n",
    "  - если корпус не подгружается/происходит ошибка, то ячейки в подразделе _до_ этого комментария  надо раскомментировать, а _последующие_ - закомментировать"
   ]
  },
  {
   "cell_type": "code",
   "execution_count": 13,
   "metadata": {},
   "outputs": [],
   "source": [
    "# Save to local drive\n",
    "\n",
    "#pd.DataFrame(corpus).to_csv('shared_files/toxic_comments_lemm.csv')"
   ]
  },
  {
   "cell_type": "code",
   "execution_count": 14,
   "metadata": {},
   "outputs": [],
   "source": [
    "# downloads the corpus (lemmatized) from the internet\n",
    "\n",
    "corpus_path_http = 'https://getfile.dokpub.com/yandex/get/https://disk.yandex.ru/d/V_yUwtToOj1Hcg'\n",
    "\n",
    "corpus = list(pd.read_csv(corpus_path_http)['0']) #.values.astype('U'))"
   ]
  },
  {
   "cell_type": "code",
   "execution_count": 15,
   "metadata": {},
   "outputs": [],
   "source": [
    "# downloads the corpus (lemmatized) from local drive\n",
    "# CSV с лемматизированным текстом можно взять здесь disk.yandex.ru/d/V_yUwtToOj1Hcg\n",
    "\n",
    "#corpus = list(pd.read_csv('shared_files/toxic_comments_lemm.csv')['0']) #.values.astype('U'))"
   ]
  },
  {
   "cell_type": "markdown",
   "metadata": {},
   "source": [
    "#### Проверка размера корпуса и результатов токенизации/лемматизации"
   ]
  },
  {
   "cell_type": "code",
   "execution_count": 16,
   "metadata": {
    "scrolled": true
   },
   "outputs": [
    {
     "name": "stdout",
     "output_type": "stream",
     "text": [
      "Длина корпуса текстов: 159292\n",
      "ОК! Длина корпуса текстов соответствует изначальному количеству объектов.\n"
     ]
    }
   ],
   "source": [
    "print(f'Длина корпуса текстов: {len(corpus)}')\n",
    "\n",
    "if len(corpus) == len_orig:\n",
    "    print('ОК! Длина корпуса текстов соответствует изначальному количеству объектов.')\n",
    "else:\n",
    "    print(f'ERROR! Длина корпуса текстов НЕ СООТВЕТСТВУЕТ изначальному количеству объектов.\\nНачальная длина = {len_orig}\\nДлина корпуса текстов = {len(corpus)}')"
   ]
  },
  {
   "cell_type": "code",
   "execution_count": 17,
   "metadata": {},
   "outputs": [
    {
     "name": "stdout",
     "output_type": "stream",
     "text": [
      "Образец текста ДО токенизации и лемматизации:\n",
      "\"\n",
      "More\n",
      "I can't make any real suggestions on improvement - I wondered if the section statistics should be later on, or a subsection of \"\"types of accidents\"\"  -I think the references may need tidying so that they are all in the exact same format ie date format etc. I can do that later on, if no-one else does first - if you have any preferences for formatting style on references or want to do it yourself please let me know.\n",
      "\n",
      "There appears to be a backlog on articles for review so I guess there may be a delay until a reviewer turns up. It's listed in the relevant form eg Wikipedia:Good_article_nominations#Transport  \"\n",
      "\n",
      "Образец текста ПОСЛЕ токенизации и лемматизации:\n",
      "   More I can t make any real suggestion on improvement    I wonder if the section statistic should be later on   or a subsection of    type of accident      I think the reference may need tidy so that they be all in the exact same format ie date format etc   I can do that later on   if no one else do first    if you have any preference for format style on reference or want to do it yourself please let I know    there appear to be a backlog on article for review so I guess there may be a delay until a reviewer turn up   it s list in the relevant form eg Wikipedia good article nomination Transport   \n"
     ]
    }
   ],
   "source": [
    "print('Образец текста ДО токенизации и лемматизации:')\n",
    "print(some_text)\n",
    "print()\n",
    "print('Образец текста ПОСЛЕ токенизации и лемматизации:')\n",
    "print(corpus[some_index])\n"
   ]
  },
  {
   "cell_type": "markdown",
   "metadata": {},
   "source": [
    "###  Выделение тестовой выборки"
   ]
  },
  {
   "cell_type": "markdown",
   "metadata": {},
   "source": [
    "Для задач проверки качетсва моделей выделим тестовую выборку. \n",
    "\n",
    "Данные из тестовой выборки не должны никоим образом участвовать в создании признаков и обучении моделей, поэтому разделение проходит до этапа создания признаков.\n",
    "\n",
    "Примем размер тестовой выборки в 10% от исходных данных.\n",
    "\n",
    "Проверку моделей будем производить кросс-валидацией, поэтому отдельно валидационную выборку не выделяем."
   ]
  },
  {
   "cell_type": "code",
   "execution_count": 18,
   "metadata": {
    "scrolled": true
   },
   "outputs": [],
   "source": [
    "corpus_train, corpus_test, target_train, target_test = train_test_split(corpus, data['toxic'], \n",
    "                                                                        test_size=0.1, \n",
    "                                                                        random_state = RANDOM_STATE, \n",
    "                                                                        shuffle=True)"
   ]
  },
  {
   "cell_type": "markdown",
   "metadata": {},
   "source": [
    "### Создание признаков"
   ]
  },
  {
   "cell_type": "markdown",
   "metadata": {},
   "source": [
    "В качестве призаков будем использовать:\n",
    "\n",
    "- векторы, созданные из слов («мешок слов» (англ. bag of words), то есть преобразуем текст в вектор, не учитывая порядок слов, используя класс `CountVectorizer()` из модуля `sklearn.feature_extraction.text`\n",
    "- оценку важности слова (величина TF-IDF (от англ. term frequency, «частота терма, или слова»; inverse document frequency, «обратная частота документа, или текста»), используя класс `TfidfVectorizer()` из модуля `sklearn.feature_extraction.text`. \n",
    "- полученные признаки объединим в единый набор"
   ]
  },
  {
   "cell_type": "markdown",
   "metadata": {},
   "source": [
    "Для того, чтобы на этапе кросс-валидации модели устранить возможное использование данных из фолдов в создании признаков в исследовании будет использован метод `PipeLine` для объединения процессов создания признаков и кросс-валидации.\n",
    "\n",
    "Для того, чтобы использовать предложенный вариант создания признаков создадим класс, подходящий для `Pipeline` и передадим ей требуемые классы `sklearn`.\n",
    "\n",
    "Для задач векторизации создадим набор стоп-слов, чтобы почистить корпус слов. Используем пакет `stopwords`, который находится в модуле `nltk.corpus` библиотеки `nltk`:"
   ]
  },
  {
   "cell_type": "code",
   "execution_count": 19,
   "metadata": {},
   "outputs": [],
   "source": [
    "stop_words = set(stopwords.words('english'))"
   ]
  },
  {
   "cell_type": "markdown",
   "metadata": {},
   "source": [
    "Создание класса для PipeLine - создание и объединение признаков "
   ]
  },
  {
   "cell_type": "code",
   "execution_count": 20,
   "metadata": {},
   "outputs": [],
   "source": [
    "class CountTfidf_make_features(BaseEstimator, TransformerMixin):\n",
    "    \n",
    "    def __init__(self,  \n",
    "                 max_df=1.0, min_df=1,\n",
    "                 max_features=None,\n",
    "                 ngram_range=(1,1), \n",
    "                 binary=False, use_idf=True):\n",
    "        \n",
    "        \n",
    "        stop_words = set(stopwords.words('english'))\n",
    "        self.max_df = max_df\n",
    "        self.min_df = min_df\n",
    "        self.max_features = max_features\n",
    "        self.ngram_range = ngram_range\n",
    "        self.binary = binary\n",
    "        self.use_idf = use_idf\n",
    "        \n",
    "        \n",
    "        \n",
    "    def fit(self, X, y):\n",
    "        from sklearn.feature_extraction.text import CountVectorizer, TfidfVectorizer\n",
    "        \n",
    "        count_vect_func = CountVectorizer(stop_words=stop_words, \n",
    "                                          max_df=self.max_df, min_df=self.min_df,\n",
    "                                          max_features=self.max_features, \n",
    "                                          ngram_range=self.ngram_range,\n",
    "                                          binary=self.binary)\n",
    "        \n",
    "        count_tf_idf_func = TfidfVectorizer(stop_words=stop_words, \n",
    "                                            max_df=self.max_df, min_df=self.min_df, \n",
    "                                            max_features=self.max_features, \n",
    "                                            ngram_range=self.ngram_range, \n",
    "                                            binary=self.binary, \n",
    "                                            use_idf=self.use_idf)\n",
    "        \n",
    "        self.bow_func = count_vect_func.fit(X)\n",
    "        self.tf_idf_func = count_tf_idf_func.fit(X)\n",
    "        \n",
    "        return self\n",
    "    \n",
    "    def transform(self, x):\n",
    "        #from scipy.sparse import hstack\n",
    "        return hstack((self.bow_func.transform(x), self.tf_idf_func.transform(x)))"
   ]
  },
  {
   "cell_type": "markdown",
   "metadata": {},
   "source": [
    "### Вывод по разделу Подготовка\n",
    "\n",
    "-  в данных 159_292 объекта, пропуски отсутствуют\n",
    "-  Целевой признак 'toxic' - категориальный, присутствуют значения только 1 и 0, т.е. решаем задачу классификации\n",
    "-  Набор символов - латинница, язык определен как английский, исходя из этого предположения в дальнейшем будем обрабатывать текст \n",
    "- проведена токенизация и лемматизация корпуса текста\n",
    "- выделена обучающая и тестовая выборки признаков и целевого признака. Размер тестовой выборки принят в 10% от исх. данных\n",
    "- создана класс с функциями обучения векторизатора и создания признаков"
   ]
  },
  {
   "cell_type": "markdown",
   "metadata": {},
   "source": [
    "## Обучение"
   ]
  },
  {
   "cell_type": "markdown",
   "metadata": {},
   "source": [
    "Исходя из вывода по разделу Подготовка, подбираем модели для решения задач Классификации\n",
    "\n",
    "Рассмотирим четыре модели:\n",
    "\n",
    "- Логистическая регрессия sklearn.linear_model.LogisticRegression\n",
    "- Решающее дерево sklearn.tree.DecisionTreeClassifier\n",
    "- Классификатор градиентного бустинга lightgbm.LGBMClassifier\n",
    "- Классификатор по теореме Байеса для полиномиальных моделей sklearn.naive_bayes.MultinomialNB\n",
    "\n",
    "Все четыре модели проверим кросс-валидацией, используя обучающую выборку. Создание признаков и проверку моделей соединим методом Pipeline"
   ]
  },
  {
   "cell_type": "code",
   "execution_count": 21,
   "metadata": {},
   "outputs": [],
   "source": [
    "# создание таблицы с результатами\n",
    "result_model_table = pd.DataFrame({'model':[],\n",
    "                                   'use_idf':False,\n",
    "                                   'max_df':[],\n",
    "                                   'min_df':[],\n",
    "                                   'binary':False,\n",
    "                                   'max_depth':[],\n",
    "                                   'min_samples_split':[],\n",
    "                                   'n_estimators':[],\n",
    "                                   'learning_rate':[],\n",
    "                                   'fit_time':[],\n",
    "                                   'research_time':[],\n",
    "                                   'cv_f1':[]})\n"
   ]
  },
  {
   "cell_type": "code",
   "execution_count": 22,
   "metadata": {},
   "outputs": [],
   "source": [
    "def cv_result_log(best_score, research_time, fit_time, best_params=None):\n",
    "    '''\n",
    "    '''\n",
    "    print(f'Среднее значение метрики RMSE на обучающем наборе при КРОСС-ВАЛИДАЦИИ = {best_score:.2f}')\n",
    "    print()\n",
    "    if best_params!= None:\n",
    "        print(f'Подобранные гиперпараметры:')\n",
    "        display(pd.DataFrame(best_params, index=[0]))\n",
    "            \n",
    "    print(f'Суммарное время обучения модели и её кросс-валидации: {research_time:.2f} сек.')\n",
    "    print(f'Время обучения модели на выбранных гиперпараметрах: {fit_time:.2f} сек.')\n",
    "\n",
    "    return None"
   ]
  },
  {
   "cell_type": "markdown",
   "metadata": {},
   "source": [
    "### Исследование модели LogisticRegression"
   ]
  },
  {
   "cell_type": "code",
   "execution_count": 23,
   "metadata": {},
   "outputs": [],
   "source": [
    "preprocessor_name = 'cnt_tfidf'"
   ]
  },
  {
   "cell_type": "code",
   "execution_count": 24,
   "metadata": {
    "scrolled": false
   },
   "outputs": [
    {
     "name": "stdout",
     "output_type": "stream",
     "text": [
      "Fitting 5 folds for each of 1 candidates, totalling 5 fits\n",
      "[CV] END cnt_tfidf__binary=False, cnt_tfidf__max_df=0.5, cnt_tfidf__min_df=10, cnt_tfidf__use_idf=False; total time=  44.6s\n",
      "[CV] END cnt_tfidf__binary=False, cnt_tfidf__max_df=0.5, cnt_tfidf__min_df=10, cnt_tfidf__use_idf=False; total time=  43.0s\n",
      "[CV] END cnt_tfidf__binary=False, cnt_tfidf__max_df=0.5, cnt_tfidf__min_df=10, cnt_tfidf__use_idf=False; total time=  42.6s\n",
      "[CV] END cnt_tfidf__binary=False, cnt_tfidf__max_df=0.5, cnt_tfidf__min_df=10, cnt_tfidf__use_idf=False; total time=  42.4s\n",
      "[CV] END cnt_tfidf__binary=False, cnt_tfidf__max_df=0.5, cnt_tfidf__min_df=10, cnt_tfidf__use_idf=False; total time=  48.4s\n",
      "4min 35s ± 0 ns per loop (mean ± std. dev. of 1 run, 1 loop each)\n"
     ]
    },
    {
     "ename": "NameError",
     "evalue": "name 'best_model' is not defined",
     "output_type": "error",
     "traceback": [
      "\u001b[1;31m---------------------------------------------------------------------------\u001b[0m",
      "\u001b[1;31mNameError\u001b[0m                                 Traceback (most recent call last)",
      "File \u001b[1;32m<timed exec>:19\u001b[0m, in \u001b[0;36m<module>\u001b[1;34m\u001b[0m\n",
      "\u001b[1;31mNameError\u001b[0m: name 'best_model' is not defined"
     ]
    }
   ],
   "source": [
    "%%time\n",
    "\n",
    "model_name = ['LogisticRegression', 'logr']\n",
    "\n",
    "text_clf_lr = Pipeline([(preprocessor_name, CountTfidf_make_features()),\n",
    "                     (model_name[1], LogisticRegression())\n",
    "                    ])\n",
    "\n",
    "parameters = {\n",
    "    preprocessor_name+'__use_idf': USE_IDF_LIST,\n",
    "    preprocessor_name+'__max_df': MAX_DF_LIST,\n",
    "    preprocessor_name+'__min_df': MIN_DF_RANGE,\n",
    "    preprocessor_name+'__binary': BINARY_LIST}\n",
    "\n",
    "grids_clf_lr = GridSearchCV(text_clf_lr, \n",
    "                            parameters, scoring=SCORER, \n",
    "                            cv=CV_VALUE, verbose=VERBOSE, n_jobs=N_JOBS)\n",
    "\n",
    "research_time_lr_obj = %timeit -o -r1 -n1  grids_clf_lr.fit(corpus_train, target_train)\n",
    "\n",
    "best_model"
   ]
  },
  {
   "cell_type": "code",
   "execution_count": 25,
   "metadata": {
    "scrolled": true
   },
   "outputs": [
    {
     "name": "stdout",
     "output_type": "stream",
     "text": [
      "Среднее значение метрики RMSE на обучающем наборе при КРОСС-ВАЛИДАЦИИ = 0.77\n",
      "\n",
      "Подобранные гиперпараметры:\n"
     ]
    },
    {
     "data": {
      "text/html": [
       "<div>\n",
       "<style scoped>\n",
       "    .dataframe tbody tr th:only-of-type {\n",
       "        vertical-align: middle;\n",
       "    }\n",
       "\n",
       "    .dataframe tbody tr th {\n",
       "        vertical-align: top;\n",
       "    }\n",
       "\n",
       "    .dataframe thead th {\n",
       "        text-align: right;\n",
       "    }\n",
       "</style>\n",
       "<table border=\"1\" class=\"dataframe\">\n",
       "  <thead>\n",
       "    <tr style=\"text-align: right;\">\n",
       "      <th></th>\n",
       "      <th>cnt_tfidf__binary</th>\n",
       "      <th>cnt_tfidf__max_df</th>\n",
       "      <th>cnt_tfidf__min_df</th>\n",
       "      <th>cnt_tfidf__use_idf</th>\n",
       "    </tr>\n",
       "  </thead>\n",
       "  <tbody>\n",
       "    <tr>\n",
       "      <th>0</th>\n",
       "      <td>False</td>\n",
       "      <td>0.5</td>\n",
       "      <td>10</td>\n",
       "      <td>False</td>\n",
       "    </tr>\n",
       "  </tbody>\n",
       "</table>\n",
       "</div>"
      ],
      "text/plain": [
       "   cnt_tfidf__binary  cnt_tfidf__max_df  cnt_tfidf__min_df  cnt_tfidf__use_idf\n",
       "0              False                0.5                 10               False"
      ]
     },
     "metadata": {},
     "output_type": "display_data"
    },
    {
     "name": "stdout",
     "output_type": "stream",
     "text": [
      "Суммарное время обучения модели и её кросс-валидации: 275.52 сек.\n",
      "Время обучения модели на выбранных гиперпараметрах: 40.13 сек.\n"
     ]
    }
   ],
   "source": [
    "best_score_lr = abs(grids_clf_lr.best_score_)\n",
    "best_params_lr = grids_clf_lr.best_params_\n",
    "best_model_lr = grids_clf_lr.best_estimator_\n",
    "research_time_lr = research_time_lr_obj.best\n",
    "fit_time_lr = grids_clf_lr.cv_results_['mean_fit_time'][0]\n",
    "\n",
    "cv_result_log(best_score_lr, research_time_lr, fit_time_lr,  best_params=best_params_lr)"
   ]
  },
  {
   "cell_type": "code",
   "execution_count": 26,
   "metadata": {},
   "outputs": [],
   "source": [
    "row = {'model': model_name[0],\n",
    "       'use_idf':best_params_lr[preprocessor_name+'__use_idf'],\n",
    "       'max_df':best_params_lr[preprocessor_name+'__max_df'],\n",
    "       'min_df':best_params_lr[preprocessor_name+'__min_df'],\n",
    "       'binary':best_params_lr[preprocessor_name+'__binary'],\n",
    "       'max_depth':np.nan,\n",
    "       'min_samples_split':np.nan,\n",
    "       'n_estimators':np.nan,\n",
    "       'learning_rate':np.nan,\n",
    "       'fit_time':fit_time_lr,\n",
    "       'research_time':research_time_lr,\n",
    "       'cv_f1':best_score_lr}\n",
    "       \n",
    "result_model_table = result_model_table.append(row, ignore_index=True)   "
   ]
  },
  {
   "cell_type": "markdown",
   "metadata": {},
   "source": [
    "### Исследование модели DecisionTreeClassifier"
   ]
  },
  {
   "cell_type": "code",
   "execution_count": 27,
   "metadata": {},
   "outputs": [
    {
     "name": "stdout",
     "output_type": "stream",
     "text": [
      "Fitting 5 folds for each of 1 candidates, totalling 5 fits\n",
      "[CV] END cnt_tfidf__binary=False, cnt_tfidf__max_df=0.5, cnt_tfidf__min_df=10, cnt_tfidf__use_idf=False, dt_clf__max_depth=50, dt_clf__min_samples_split=3; total time= 1.3min\n",
      "[CV] END cnt_tfidf__binary=False, cnt_tfidf__max_df=0.5, cnt_tfidf__min_df=10, cnt_tfidf__use_idf=False, dt_clf__max_depth=50, dt_clf__min_samples_split=3; total time= 1.3min\n",
      "[CV] END cnt_tfidf__binary=False, cnt_tfidf__max_df=0.5, cnt_tfidf__min_df=10, cnt_tfidf__use_idf=False, dt_clf__max_depth=50, dt_clf__min_samples_split=3; total time= 1.3min\n",
      "[CV] END cnt_tfidf__binary=False, cnt_tfidf__max_df=0.5, cnt_tfidf__min_df=10, cnt_tfidf__use_idf=False, dt_clf__max_depth=50, dt_clf__min_samples_split=3; total time= 1.4min\n",
      "[CV] END cnt_tfidf__binary=False, cnt_tfidf__max_df=0.5, cnt_tfidf__min_df=10, cnt_tfidf__use_idf=False, dt_clf__max_depth=50, dt_clf__min_samples_split=3; total time= 1.2min\n",
      "8min 4s ± 0 ns per loop (mean ± std. dev. of 1 run, 1 loop each)\n",
      "CPU times: total: 8min 2s\n",
      "Wall time: 8min 4s\n"
     ]
    }
   ],
   "source": [
    "%%time\n",
    "\n",
    "model_name = ['DecisionTreeClassifier', 'dt_clf']\n",
    "\n",
    "text_clf_dt = Pipeline([(preprocessor_name, CountTfidf_make_features()),\n",
    "                     (model_name[1], DecisionTreeClassifier(random_state=RANDOM_STATE))\n",
    "                      ])\n",
    "\n",
    "parameters = {\n",
    "    preprocessor_name+'__use_idf': USE_IDF_LIST,\n",
    "    preprocessor_name+'__max_df': MAX_DF_LIST,\n",
    "    preprocessor_name+'__min_df': MIN_DF_RANGE,\n",
    "    preprocessor_name+'__binary': BINARY_LIST,\n",
    "    model_name[1]+'__max_depth': MAX_DEPTH_RANGE,\n",
    "    model_name[1]+'__min_samples_split': MIN_SAMPLES_RANGE\n",
    "}\n",
    "\n",
    "grids_clf_dt = GridSearchCV(text_clf_dt, \n",
    "                            parameters, scoring=SCORER, \n",
    "                            cv=CV_VALUE, verbose=VERBOSE, n_jobs=N_JOBS)\n",
    "\n",
    "research_time_dt_obj = %timeit -o -r1 -n1  grids_clf_dt.fit(corpus_train, target_train)"
   ]
  },
  {
   "cell_type": "code",
   "execution_count": 28,
   "metadata": {},
   "outputs": [
    {
     "name": "stdout",
     "output_type": "stream",
     "text": [
      "Среднее значение метрики RMSE на обучающем наборе при КРОСС-ВАЛИДАЦИИ = 0.71\n",
      "\n",
      "Подобранные гиперпараметры:\n"
     ]
    },
    {
     "data": {
      "text/html": [
       "<div>\n",
       "<style scoped>\n",
       "    .dataframe tbody tr th:only-of-type {\n",
       "        vertical-align: middle;\n",
       "    }\n",
       "\n",
       "    .dataframe tbody tr th {\n",
       "        vertical-align: top;\n",
       "    }\n",
       "\n",
       "    .dataframe thead th {\n",
       "        text-align: right;\n",
       "    }\n",
       "</style>\n",
       "<table border=\"1\" class=\"dataframe\">\n",
       "  <thead>\n",
       "    <tr style=\"text-align: right;\">\n",
       "      <th></th>\n",
       "      <th>cnt_tfidf__binary</th>\n",
       "      <th>cnt_tfidf__max_df</th>\n",
       "      <th>cnt_tfidf__min_df</th>\n",
       "      <th>cnt_tfidf__use_idf</th>\n",
       "      <th>dt_clf__max_depth</th>\n",
       "      <th>dt_clf__min_samples_split</th>\n",
       "    </tr>\n",
       "  </thead>\n",
       "  <tbody>\n",
       "    <tr>\n",
       "      <th>0</th>\n",
       "      <td>False</td>\n",
       "      <td>0.5</td>\n",
       "      <td>10</td>\n",
       "      <td>False</td>\n",
       "      <td>50</td>\n",
       "      <td>3</td>\n",
       "    </tr>\n",
       "  </tbody>\n",
       "</table>\n",
       "</div>"
      ],
      "text/plain": [
       "   cnt_tfidf__binary  cnt_tfidf__max_df  cnt_tfidf__min_df  \\\n",
       "0              False                0.5                 10   \n",
       "\n",
       "   cnt_tfidf__use_idf  dt_clf__max_depth  dt_clf__min_samples_split  \n",
       "0               False                 50                          3  "
      ]
     },
     "metadata": {},
     "output_type": "display_data"
    },
    {
     "name": "stdout",
     "output_type": "stream",
     "text": [
      "Суммарное время обучения модели и её кросс-валидации: 484.40 сек.\n",
      "Время обучения модели на выбранных гиперпараметрах: 73.88 сек.\n"
     ]
    }
   ],
   "source": [
    "best_score_dt = abs(grids_clf_dt.best_score_)\n",
    "best_params_dt = grids_clf_dt.best_params_\n",
    "best_model_dt = grids_clf_dt.best_estimator_\n",
    "research_time_dt = research_time_dt_obj.best\n",
    "fit_time_dt = grids_clf_dt.cv_results_['mean_fit_time'][0]\n",
    "\n",
    "cv_result_log(best_score_dt, research_time_dt, fit_time_dt, best_params=best_params_dt)"
   ]
  },
  {
   "cell_type": "code",
   "execution_count": 29,
   "metadata": {},
   "outputs": [],
   "source": [
    "row = {'model': model_name[0],\n",
    "       'use_idf':best_params_dt[preprocessor_name+'__use_idf'],\n",
    "       'max_df':best_params_dt[preprocessor_name+'__max_df'],\n",
    "       'min_df':best_params_dt[preprocessor_name+'__min_df'],\n",
    "       'binary':best_params_dt[preprocessor_name+'__binary'],\n",
    "       'max_depth':best_params_dt[model_name[1]+'__max_depth'],\n",
    "       'min_samples_split':best_params_dt[model_name[1]+'__min_samples_split'],\n",
    "       'n_estimators':np.nan,\n",
    "       'learning_rate':np.nan,\n",
    "       'fit_time':fit_time_dt,\n",
    "       'research_time':research_time_dt,\n",
    "       'cv_f1':best_score_dt}\n",
    "       \n",
    "result_model_table = result_model_table.append(row, ignore_index=True)   "
   ]
  },
  {
   "cell_type": "markdown",
   "metadata": {},
   "source": [
    "### Исследование модели LGBMClassifier"
   ]
  },
  {
   "cell_type": "code",
   "execution_count": 30,
   "metadata": {},
   "outputs": [
    {
     "name": "stdout",
     "output_type": "stream",
     "text": [
      "Fitting 5 folds for each of 1 candidates, totalling 5 fits\n",
      "[CV] END cnt_tfidf__binary=False, cnt_tfidf__max_df=0.5, cnt_tfidf__min_df=10, cnt_tfidf__use_idf=False, lgbm_clf__learning_rate=0.1, lgbm_clf__max_depth=-1, lgbm_clf__n_estimators=500; total time= 3.3min\n",
      "[CV] END cnt_tfidf__binary=False, cnt_tfidf__max_df=0.5, cnt_tfidf__min_df=10, cnt_tfidf__use_idf=False, lgbm_clf__learning_rate=0.1, lgbm_clf__max_depth=-1, lgbm_clf__n_estimators=500; total time= 3.1min\n",
      "[CV] END cnt_tfidf__binary=False, cnt_tfidf__max_df=0.5, cnt_tfidf__min_df=10, cnt_tfidf__use_idf=False, lgbm_clf__learning_rate=0.1, lgbm_clf__max_depth=-1, lgbm_clf__n_estimators=500; total time= 3.1min\n",
      "[CV] END cnt_tfidf__binary=False, cnt_tfidf__max_df=0.5, cnt_tfidf__min_df=10, cnt_tfidf__use_idf=False, lgbm_clf__learning_rate=0.1, lgbm_clf__max_depth=-1, lgbm_clf__n_estimators=500; total time= 3.1min\n",
      "[CV] END cnt_tfidf__binary=False, cnt_tfidf__max_df=0.5, cnt_tfidf__min_df=10, cnt_tfidf__use_idf=False, lgbm_clf__learning_rate=0.1, lgbm_clf__max_depth=-1, lgbm_clf__n_estimators=500; total time= 3.1min\n",
      "19min 22s ± 0 ns per loop (mean ± std. dev. of 1 run, 1 loop each)\n",
      "CPU times: total: 1h 48min 44s\n",
      "Wall time: 19min 22s\n"
     ]
    }
   ],
   "source": [
    "%%time\n",
    "\n",
    "model_name = ['LGBMClassifier', 'lgbm_clf']\n",
    "\n",
    "text_clf_lgbm = Pipeline([(preprocessor_name, CountTfidf_make_features()),\n",
    "                     (model_name[1], lgb.LGBMClassifier(random_state=RANDOM_STATE))\n",
    "                      ])\n",
    "\n",
    "parameters = {\n",
    "    preprocessor_name+'__use_idf': USE_IDF_LIST,\n",
    "    preprocessor_name+'__max_df': MAX_DF_LIST,\n",
    "    preprocessor_name+'__min_df': MIN_DF_RANGE,\n",
    "    preprocessor_name+'__binary': BINARY_LIST,\n",
    "    model_name[1]+'__max_depth': MAX_DEPTH_BOOSTING_LIST,\n",
    "    model_name[1]+'__n_estimators': ITERATIONS_LIST,\n",
    "    model_name[1]+'__learning_rate': ETA_LIST\n",
    "}\n",
    "\n",
    "grids_clf_lgbm = GridSearchCV(text_clf_lgbm, \n",
    "                              parameters, scoring=SCORER, \n",
    "                              cv=CV_VALUE, verbose=VERBOSE, n_jobs=N_JOBS)\n",
    "\n",
    "research_time_lgbm_obj = %timeit -o -r1 -n1  grids_clf_lgbm.fit(corpus_train, target_train)"
   ]
  },
  {
   "cell_type": "code",
   "execution_count": 31,
   "metadata": {},
   "outputs": [
    {
     "name": "stdout",
     "output_type": "stream",
     "text": [
      "Среднее значение метрики RMSE на обучающем наборе при КРОСС-ВАЛИДАЦИИ = 0.78\n",
      "\n",
      "Подобранные гиперпараметры:\n"
     ]
    },
    {
     "data": {
      "text/html": [
       "<div>\n",
       "<style scoped>\n",
       "    .dataframe tbody tr th:only-of-type {\n",
       "        vertical-align: middle;\n",
       "    }\n",
       "\n",
       "    .dataframe tbody tr th {\n",
       "        vertical-align: top;\n",
       "    }\n",
       "\n",
       "    .dataframe thead th {\n",
       "        text-align: right;\n",
       "    }\n",
       "</style>\n",
       "<table border=\"1\" class=\"dataframe\">\n",
       "  <thead>\n",
       "    <tr style=\"text-align: right;\">\n",
       "      <th></th>\n",
       "      <th>cnt_tfidf__binary</th>\n",
       "      <th>cnt_tfidf__max_df</th>\n",
       "      <th>cnt_tfidf__min_df</th>\n",
       "      <th>cnt_tfidf__use_idf</th>\n",
       "      <th>lgbm_clf__learning_rate</th>\n",
       "      <th>lgbm_clf__max_depth</th>\n",
       "      <th>lgbm_clf__n_estimators</th>\n",
       "    </tr>\n",
       "  </thead>\n",
       "  <tbody>\n",
       "    <tr>\n",
       "      <th>0</th>\n",
       "      <td>False</td>\n",
       "      <td>0.5</td>\n",
       "      <td>10</td>\n",
       "      <td>False</td>\n",
       "      <td>0.1</td>\n",
       "      <td>-1</td>\n",
       "      <td>500</td>\n",
       "    </tr>\n",
       "  </tbody>\n",
       "</table>\n",
       "</div>"
      ],
      "text/plain": [
       "   cnt_tfidf__binary  cnt_tfidf__max_df  cnt_tfidf__min_df  \\\n",
       "0              False                0.5                 10   \n",
       "\n",
       "   cnt_tfidf__use_idf  lgbm_clf__learning_rate  lgbm_clf__max_depth  \\\n",
       "0               False                      0.1                   -1   \n",
       "\n",
       "   lgbm_clf__n_estimators  \n",
       "0                     500  "
      ]
     },
     "metadata": {},
     "output_type": "display_data"
    },
    {
     "name": "stdout",
     "output_type": "stream",
     "text": [
      "Суммарное время обучения модели и её кросс-валидации: 1162.30 сек.\n",
      "Время обучения модели на выбранных гиперпараметрах: 184.69 сек.\n"
     ]
    }
   ],
   "source": [
    "best_score_lgbm = abs(grids_clf_lgbm.best_score_)\n",
    "best_params_lgbm = grids_clf_lgbm.best_params_\n",
    "best_model_lgbm = grids_clf_lgbm.best_estimator_\n",
    "research_time_lgbm = research_time_lgbm_obj.best\n",
    "fit_time_lgbm = grids_clf_lgbm.cv_results_['mean_fit_time'][0]\n",
    "\n",
    "cv_result_log(best_score_lgbm, research_time_lgbm, fit_time_lgbm, best_params=best_params_lgbm)"
   ]
  },
  {
   "cell_type": "code",
   "execution_count": 32,
   "metadata": {},
   "outputs": [],
   "source": [
    "row = {'model': model_name[0],\n",
    "       'use_idf':best_params_lgbm[preprocessor_name+'__use_idf'],\n",
    "       'max_df':best_params_lgbm[preprocessor_name+'__max_df'],\n",
    "       'min_df':best_params_lgbm[preprocessor_name+'__min_df'],\n",
    "       'binary':best_params_lgbm[preprocessor_name+'__binary'],\n",
    "       'max_depth':best_params_lgbm[model_name[1]+'__max_depth'],\n",
    "       'min_samples_split':np.nan,\n",
    "       'n_estimators':best_params_lgbm[model_name[1]+'__n_estimators'],\n",
    "       'learning_rate':best_params_lgbm[model_name[1]+'__learning_rate'],\n",
    "       'fit_time':fit_time_lgbm,\n",
    "       'research_time':research_time_lgbm,\n",
    "       'cv_f1':best_score_lgbm}\n",
    "       \n",
    "result_model_table = result_model_table.append(row, ignore_index=True)   "
   ]
  },
  {
   "cell_type": "markdown",
   "metadata": {},
   "source": [
    "### Исследование модели MultinomialNB"
   ]
  },
  {
   "cell_type": "code",
   "execution_count": 33,
   "metadata": {},
   "outputs": [
    {
     "name": "stdout",
     "output_type": "stream",
     "text": [
      "Fitting 5 folds for each of 1 candidates, totalling 5 fits\n",
      "[CV] END cnt_tfidf__binary=False, cnt_tfidf__max_df=0.5, cnt_tfidf__min_df=10, cnt_tfidf__use_idf=False; total time=  38.1s\n",
      "[CV] END cnt_tfidf__binary=False, cnt_tfidf__max_df=0.5, cnt_tfidf__min_df=10, cnt_tfidf__use_idf=False; total time=  36.5s\n",
      "[CV] END cnt_tfidf__binary=False, cnt_tfidf__max_df=0.5, cnt_tfidf__min_df=10, cnt_tfidf__use_idf=False; total time=  34.3s\n",
      "[CV] END cnt_tfidf__binary=False, cnt_tfidf__max_df=0.5, cnt_tfidf__min_df=10, cnt_tfidf__use_idf=False; total time=  34.4s\n",
      "[CV] END cnt_tfidf__binary=False, cnt_tfidf__max_df=0.5, cnt_tfidf__min_df=10, cnt_tfidf__use_idf=False; total time=  35.8s\n",
      "3min 38s ± 0 ns per loop (mean ± std. dev. of 1 run, 1 loop each)\n",
      "CPU times: total: 3min 37s\n",
      "Wall time: 3min 38s\n"
     ]
    }
   ],
   "source": [
    "%%time\n",
    "\n",
    "model_name = ['MultinomialNB', 'mnb_clf']\n",
    "\n",
    "text_clf_mnb = Pipeline([(preprocessor_name, CountTfidf_make_features()),\n",
    "                     (model_name[1], MultinomialNB())\n",
    "                    ])\n",
    "\n",
    "parameters = {\n",
    "    preprocessor_name+'__use_idf': USE_IDF_LIST,\n",
    "    preprocessor_name+'__max_df': MAX_DF_LIST,\n",
    "    preprocessor_name+'__min_df': MIN_DF_RANGE,\n",
    "    preprocessor_name+'__binary': BINARY_LIST}\n",
    "\n",
    "grids_clf_mnb = GridSearchCV(text_clf_mnb, \n",
    "                             parameters, scoring=SCORER, \n",
    "                             cv=CV_VALUE, verbose=VERBOSE, n_jobs=N_JOBS)\n",
    "\n",
    "research_time_mnb_obj = %timeit -o -r1 -n1  grids_clf_mnb.fit(corpus_train, target_train)"
   ]
  },
  {
   "cell_type": "code",
   "execution_count": 34,
   "metadata": {},
   "outputs": [
    {
     "name": "stdout",
     "output_type": "stream",
     "text": [
      "Среднее значение метрики RMSE на обучающем наборе при КРОСС-ВАЛИДАЦИИ = 0.72\n",
      "\n",
      "Подобранные гиперпараметры:\n"
     ]
    },
    {
     "data": {
      "text/html": [
       "<div>\n",
       "<style scoped>\n",
       "    .dataframe tbody tr th:only-of-type {\n",
       "        vertical-align: middle;\n",
       "    }\n",
       "\n",
       "    .dataframe tbody tr th {\n",
       "        vertical-align: top;\n",
       "    }\n",
       "\n",
       "    .dataframe thead th {\n",
       "        text-align: right;\n",
       "    }\n",
       "</style>\n",
       "<table border=\"1\" class=\"dataframe\">\n",
       "  <thead>\n",
       "    <tr style=\"text-align: right;\">\n",
       "      <th></th>\n",
       "      <th>cnt_tfidf__binary</th>\n",
       "      <th>cnt_tfidf__max_df</th>\n",
       "      <th>cnt_tfidf__min_df</th>\n",
       "      <th>cnt_tfidf__use_idf</th>\n",
       "    </tr>\n",
       "  </thead>\n",
       "  <tbody>\n",
       "    <tr>\n",
       "      <th>0</th>\n",
       "      <td>False</td>\n",
       "      <td>0.5</td>\n",
       "      <td>10</td>\n",
       "      <td>False</td>\n",
       "    </tr>\n",
       "  </tbody>\n",
       "</table>\n",
       "</div>"
      ],
      "text/plain": [
       "   cnt_tfidf__binary  cnt_tfidf__max_df  cnt_tfidf__min_df  cnt_tfidf__use_idf\n",
       "0              False                0.5                 10               False"
      ]
     },
     "metadata": {},
     "output_type": "display_data"
    },
    {
     "name": "stdout",
     "output_type": "stream",
     "text": [
      "Суммарное время обучения модели и её кросс-валидации: 218.03 сек.\n",
      "Время обучения модели на выбранных гиперпараметрах: 31.82 сек.\n"
     ]
    }
   ],
   "source": [
    "best_score_mnb = abs(grids_clf_mnb.best_score_)\n",
    "best_params_mnb = grids_clf_mnb.best_params_\n",
    "best_model_mnb = grids_clf_mnb.best_estimator_\n",
    "research_time_mnb = research_time_mnb_obj.best\n",
    "fit_time_mnb = grids_clf_mnb.cv_results_['mean_fit_time'][0]\n",
    "\n",
    "cv_result_log(best_score_mnb, research_time_mnb, fit_time_mnb, best_params=best_params_mnb)"
   ]
  },
  {
   "cell_type": "code",
   "execution_count": 35,
   "metadata": {},
   "outputs": [],
   "source": [
    "row = {'model': model_name[0],\n",
    "       'use_idf':best_params_mnb[preprocessor_name+'__use_idf'],\n",
    "       'max_df':best_params_mnb[preprocessor_name+'__max_df'],\n",
    "       'min_df':best_params_mnb[preprocessor_name+'__min_df'],\n",
    "       'binary':best_params_mnb[preprocessor_name+'__binary'],\n",
    "       'max_depth':np.nan,\n",
    "       'min_samples_split':np.nan,\n",
    "       'fit_time':fit_time_mnb,\n",
    "       'research_time':research_time_mnb,\n",
    "       'cv_f1':best_score_mnb}\n",
    "       \n",
    "result_model_table = result_model_table.append(row, ignore_index=True)   "
   ]
  },
  {
   "cell_type": "code",
   "execution_count": 36,
   "metadata": {},
   "outputs": [
    {
     "name": "stdout",
     "output_type": "stream",
     "text": [
      "Сводная таблица с параметрами, значениями метрик и временем обучения подобранных моделей\n"
     ]
    },
    {
     "data": {
      "text/html": [
       "<div>\n",
       "<style scoped>\n",
       "    .dataframe tbody tr th:only-of-type {\n",
       "        vertical-align: middle;\n",
       "    }\n",
       "\n",
       "    .dataframe tbody tr th {\n",
       "        vertical-align: top;\n",
       "    }\n",
       "\n",
       "    .dataframe thead th {\n",
       "        text-align: right;\n",
       "    }\n",
       "</style>\n",
       "<table border=\"1\" class=\"dataframe\">\n",
       "  <thead>\n",
       "    <tr style=\"text-align: right;\">\n",
       "      <th></th>\n",
       "      <th>model</th>\n",
       "      <th>use_idf</th>\n",
       "      <th>max_df</th>\n",
       "      <th>min_df</th>\n",
       "      <th>binary</th>\n",
       "      <th>max_depth</th>\n",
       "      <th>min_samples_split</th>\n",
       "      <th>n_estimators</th>\n",
       "      <th>learning_rate</th>\n",
       "      <th>fit_time</th>\n",
       "      <th>research_time</th>\n",
       "      <th>cv_f1</th>\n",
       "    </tr>\n",
       "  </thead>\n",
       "  <tbody>\n",
       "    <tr>\n",
       "      <th>0</th>\n",
       "      <td>LogisticRegression</td>\n",
       "      <td>False</td>\n",
       "      <td>0.5</td>\n",
       "      <td>10.0</td>\n",
       "      <td>False</td>\n",
       "      <td>NaN</td>\n",
       "      <td>NaN</td>\n",
       "      <td>NaN</td>\n",
       "      <td>NaN</td>\n",
       "      <td>40.125242</td>\n",
       "      <td>275.518165</td>\n",
       "      <td>0.768769</td>\n",
       "    </tr>\n",
       "    <tr>\n",
       "      <th>1</th>\n",
       "      <td>DecisionTreeClassifier</td>\n",
       "      <td>False</td>\n",
       "      <td>0.5</td>\n",
       "      <td>10.0</td>\n",
       "      <td>False</td>\n",
       "      <td>50.0</td>\n",
       "      <td>3.0</td>\n",
       "      <td>NaN</td>\n",
       "      <td>NaN</td>\n",
       "      <td>73.875199</td>\n",
       "      <td>484.398935</td>\n",
       "      <td>0.711487</td>\n",
       "    </tr>\n",
       "    <tr>\n",
       "      <th>2</th>\n",
       "      <td>LGBMClassifier</td>\n",
       "      <td>False</td>\n",
       "      <td>0.5</td>\n",
       "      <td>10.0</td>\n",
       "      <td>False</td>\n",
       "      <td>-1.0</td>\n",
       "      <td>NaN</td>\n",
       "      <td>500.0</td>\n",
       "      <td>0.1</td>\n",
       "      <td>184.690337</td>\n",
       "      <td>1162.295144</td>\n",
       "      <td>0.780216</td>\n",
       "    </tr>\n",
       "    <tr>\n",
       "      <th>3</th>\n",
       "      <td>MultinomialNB</td>\n",
       "      <td>False</td>\n",
       "      <td>0.5</td>\n",
       "      <td>10.0</td>\n",
       "      <td>False</td>\n",
       "      <td>NaN</td>\n",
       "      <td>NaN</td>\n",
       "      <td>NaN</td>\n",
       "      <td>NaN</td>\n",
       "      <td>31.815864</td>\n",
       "      <td>218.034720</td>\n",
       "      <td>0.722170</td>\n",
       "    </tr>\n",
       "  </tbody>\n",
       "</table>\n",
       "</div>"
      ],
      "text/plain": [
       "                    model  use_idf  max_df  min_df  binary  max_depth  \\\n",
       "0      LogisticRegression    False     0.5    10.0   False        NaN   \n",
       "1  DecisionTreeClassifier    False     0.5    10.0   False       50.0   \n",
       "2          LGBMClassifier    False     0.5    10.0   False       -1.0   \n",
       "3           MultinomialNB    False     0.5    10.0   False        NaN   \n",
       "\n",
       "   min_samples_split  n_estimators  learning_rate    fit_time  research_time  \\\n",
       "0                NaN           NaN            NaN   40.125242     275.518165   \n",
       "1                3.0           NaN            NaN   73.875199     484.398935   \n",
       "2                NaN         500.0            0.1  184.690337    1162.295144   \n",
       "3                NaN           NaN            NaN   31.815864     218.034720   \n",
       "\n",
       "      cv_f1  \n",
       "0  0.768769  \n",
       "1  0.711487  \n",
       "2  0.780216  \n",
       "3  0.722170  "
      ]
     },
     "metadata": {},
     "output_type": "display_data"
    }
   ],
   "source": [
    "print('Сводная таблица с параметрами, значениями метрик и временем обучения подобранных моделей')\n",
    "display(result_model_table)"
   ]
  },
  {
   "cell_type": "code",
   "execution_count": 37,
   "metadata": {
    "scrolled": false
   },
   "outputs": [
    {
     "data": {
      "image/png": "[encoded data removed]",
      "text/plain": [
       "<Figure size 1500x700 with 1 Axes>"
      ]
     },
     "metadata": {},
     "output_type": "display_data"
    },
    {
     "data": {
      "image/png": "[encoded data removed]",
      "text/plain": [
       "<Figure size 1500x700 with 1 Axes>"
      ]
     },
     "metadata": {},
     "output_type": "display_data"
    },
    {
     "data": {
      "image/png": "[encoded data removed]",
      "text/plain": [
       "<Figure size 1500x700 with 1 Axes>"
      ]
     },
     "metadata": {},
     "output_type": "display_data"
    }
   ],
   "source": [
    "result_model_table.plot(y=['cv_f1'], kind='bar',\n",
    "                        grid=1, figsize=(15, 7), title='Лучшие значения метрик моделей');\n",
    "plt.ylabel('Значение метрики');\n",
    "plt.legend(['Значение F1'], loc='upper left');\n",
    "plt.xticks(ticks=result_model_table.index, labels=result_model_table['model'], rotation=90);\n",
    "\n",
    "result_model_table.plot(y=['fit_time'], kind='bar', color='g',\n",
    "                        grid=1, figsize=(15, 7), title='Время обучения модели на выбранных гиперпараметрах');\n",
    "plt.ylabel('Время обучения');\n",
    "plt.legend(['Время обучения, сек'], loc='upper left');\n",
    "plt.xticks(ticks=result_model_table.index, labels=result_model_table['model'], rotation=90);\n",
    "\n",
    "result_model_table.plot(y=['research_time'], kind='bar', color='y',\n",
    "                        grid=1, figsize=(15, 7), title='Суммарное время обучения модели и её кросс-валидации');\n",
    "plt.ylabel('Суммарное время обучения');\n",
    "plt.legend(['Суммарное время обучения, сек'], loc='upper left');\n",
    "plt.xticks(ticks=result_model_table.index, labels=result_model_table['model'], rotation=90);"
   ]
  },
  {
   "cell_type": "markdown",
   "metadata": {},
   "source": [
    "Модель `LGBMClassifier` исключаем из вариантов для выбора лучшей модели - её скорость обучения на порядок выше скорости прочих моделей, при сравнимых значениях метрик, что не подходит для задач оперативного анализа комментариев. "
   ]
  },
  {
   "cell_type": "code",
   "execution_count": 38,
   "metadata": {},
   "outputs": [
    {
     "name": "stdout",
     "output_type": "stream",
     "text": [
      "Для задач предсказания выбрана следующая модель: LogisticRegression\n"
     ]
    },
    {
     "data": {
      "text/html": [
       "<div>\n",
       "<style scoped>\n",
       "    .dataframe tbody tr th:only-of-type {\n",
       "        vertical-align: middle;\n",
       "    }\n",
       "\n",
       "    .dataframe tbody tr th {\n",
       "        vertical-align: top;\n",
       "    }\n",
       "\n",
       "    .dataframe thead th {\n",
       "        text-align: right;\n",
       "    }\n",
       "</style>\n",
       "<table border=\"1\" class=\"dataframe\">\n",
       "  <thead>\n",
       "    <tr style=\"text-align: right;\">\n",
       "      <th></th>\n",
       "      <th>model</th>\n",
       "      <th>use_idf</th>\n",
       "      <th>max_df</th>\n",
       "      <th>min_df</th>\n",
       "      <th>binary</th>\n",
       "      <th>max_depth</th>\n",
       "      <th>min_samples_split</th>\n",
       "      <th>n_estimators</th>\n",
       "      <th>learning_rate</th>\n",
       "      <th>fit_time</th>\n",
       "      <th>research_time</th>\n",
       "      <th>cv_f1</th>\n",
       "    </tr>\n",
       "  </thead>\n",
       "  <tbody>\n",
       "    <tr>\n",
       "      <th>0</th>\n",
       "      <td>LogisticRegression</td>\n",
       "      <td>False</td>\n",
       "      <td>0.5</td>\n",
       "      <td>10.0</td>\n",
       "      <td>False</td>\n",
       "      <td>NaN</td>\n",
       "      <td>NaN</td>\n",
       "      <td>NaN</td>\n",
       "      <td>NaN</td>\n",
       "      <td>40.125242</td>\n",
       "      <td>275.518165</td>\n",
       "      <td>0.768769</td>\n",
       "    </tr>\n",
       "  </tbody>\n",
       "</table>\n",
       "</div>"
      ],
      "text/plain": [
       "                model  use_idf  max_df  min_df  binary  max_depth  \\\n",
       "0  LogisticRegression    False     0.5    10.0   False        NaN   \n",
       "\n",
       "   min_samples_split  n_estimators  learning_rate   fit_time  research_time  \\\n",
       "0                NaN           NaN            NaN  40.125242     275.518165   \n",
       "\n",
       "      cv_f1  \n",
       "0  0.768769  "
      ]
     },
     "metadata": {},
     "output_type": "display_data"
    }
   ],
   "source": [
    "best_model_table = result_model_table[result_model_table['model'] != 'LGBMClassifier']\n",
    "best_model_table = best_model_table[best_model_table['cv_f1'] == best_model_table['cv_f1'].max()].reset_index(drop=True)\n",
    "    \n",
    "best_model_name = best_model_table.loc[0,'model']\n",
    "\n",
    "\n",
    "\n",
    "print(f'Для задач предсказания выбрана следующая модель: {best_model_name}')\n",
    "best_model = LogisticRegression()\n",
    "\n",
    "display(best_model_table)"
   ]
  },
  {
   "cell_type": "markdown",
   "metadata": {},
   "source": [
    "### Вывод по разделу Обучение\n",
    "\n",
    "- Для обучения выбраны следующие модели:\n",
    "   - Логистическая регрессия sklearn.linear_model.`LogisticRegression`\n",
    "   - Решающее дерево sklearn.tree.`DecisionTreeClassifier`\n",
    "   - Классификатор градиентного бустинга lightgbm.`LGBMClassifier`\n",
    "   - Классификатор по теореме Байеса для полиномиальных моделей sklearn.naive_bayes.`MultinomialNB`\n",
    "    \n",
    "- После проведения исследования моделей, для задач предсказания выбрана модель Логистическая регрессия LGBMClassifier, со следующими гиперпараметрами модели, параметрами векторизатора, метриками на обучающей выборке и временем обучения кросс-валидацией:\n",
    "  - Лучшее значение метрики F1 на обучающем наборе = `0.769`\n",
    "  - Суммарное время проверки модели, поиска параметров и кросс-валидации: `6 мин.`\n",
    "  - Время обучения модели на подобранных гиперпараметрах: `55 сек.`\n",
    "  - Подобранные гиперпараметры для модели: `default`\n",
    "  - Подобранные гиперпараметры для векторизатора: \n",
    "      - use_idf = False\n",
    "      - max_df = 0.5\n",
    "      - min_df = 10.0\n",
    "      - binary = False\n",
    "- Обоснование выбора модели\n",
    "  - Лучшее значение метрики c оптимальным временем обучения\n",
    "  "
   ]
  },
  {
   "cell_type": "markdown",
   "metadata": {},
   "source": [
    "## Проверка"
   ]
  },
  {
   "cell_type": "markdown",
   "metadata": {},
   "source": [
    "### Создание признаков для тестовой выборки\n",
    "\n",
    "Для тестовой выборки создадим признаки, аналогичные признакам для обучающей выборки, используя подобранные параметры векторизатора:"
   ]
  },
  {
   "cell_type": "code",
   "execution_count": 39,
   "metadata": {
    "scrolled": false
   },
   "outputs": [
    {
     "data": {
      "text/html": [
       "<div>\n",
       "<style scoped>\n",
       "    .dataframe tbody tr th:only-of-type {\n",
       "        vertical-align: middle;\n",
       "    }\n",
       "\n",
       "    .dataframe tbody tr th {\n",
       "        vertical-align: top;\n",
       "    }\n",
       "\n",
       "    .dataframe thead th {\n",
       "        text-align: right;\n",
       "    }\n",
       "</style>\n",
       "<table border=\"1\" class=\"dataframe\">\n",
       "  <thead>\n",
       "    <tr style=\"text-align: right;\">\n",
       "      <th></th>\n",
       "      <th>model</th>\n",
       "      <th>use_idf</th>\n",
       "      <th>max_df</th>\n",
       "      <th>min_df</th>\n",
       "      <th>binary</th>\n",
       "      <th>max_depth</th>\n",
       "      <th>min_samples_split</th>\n",
       "      <th>n_estimators</th>\n",
       "      <th>learning_rate</th>\n",
       "      <th>fit_time</th>\n",
       "      <th>research_time</th>\n",
       "      <th>cv_f1</th>\n",
       "    </tr>\n",
       "  </thead>\n",
       "  <tbody>\n",
       "    <tr>\n",
       "      <th>0</th>\n",
       "      <td>LogisticRegression</td>\n",
       "      <td>False</td>\n",
       "      <td>0.5</td>\n",
       "      <td>10.0</td>\n",
       "      <td>False</td>\n",
       "      <td>NaN</td>\n",
       "      <td>NaN</td>\n",
       "      <td>NaN</td>\n",
       "      <td>NaN</td>\n",
       "      <td>40.125242</td>\n",
       "      <td>275.518165</td>\n",
       "      <td>0.768769</td>\n",
       "    </tr>\n",
       "  </tbody>\n",
       "</table>\n",
       "</div>"
      ],
      "text/plain": [
       "                model  use_idf  max_df  min_df  binary  max_depth  \\\n",
       "0  LogisticRegression    False     0.5    10.0   False        NaN   \n",
       "\n",
       "   min_samples_split  n_estimators  learning_rate   fit_time  research_time  \\\n",
       "0                NaN           NaN            NaN  40.125242     275.518165   \n",
       "\n",
       "      cv_f1  \n",
       "0  0.768769  "
      ]
     },
     "metadata": {},
     "output_type": "display_data"
    }
   ],
   "source": [
    "display(best_model_table)"
   ]
  },
  {
   "cell_type": "code",
   "execution_count": 40,
   "metadata": {},
   "outputs": [],
   "source": [
    "vectorizer = CountTfidf_make_features(max_df=best_model_table['max_df'][0], min_df=int(best_model_table['min_df'][0]),\n",
    "                                       binary=best_model_table['binary'][0], use_idf=best_model_table['use_idf'][0])\n",
    "\n",
    "vectorizer.fit(corpus_train, None)\n",
    "\n",
    "features_test = vectorizer.transform(corpus_test)\n",
    "features_train = vectorizer.transform(corpus_train)"
   ]
  },
  {
   "cell_type": "code",
   "execution_count": 41,
   "metadata": {},
   "outputs": [
    {
     "name": "stdout",
     "output_type": "stream",
     "text": [
      "3.5 ms ± 0 ns per loop (mean ± std. dev. of 1 run, 1 loop each)\n"
     ]
    }
   ],
   "source": [
    "best_model.fit(features_train, target_train)\n",
    "\n",
    "y_pred = best_model.predict(features_test)\n",
    "\n",
    "predict_time_obj = %timeit -o -r1 -n1 best_model.predict(features_test)\n",
    "\n",
    "test_score = f1_score(target_test, y_pred)"
   ]
  },
  {
   "cell_type": "code",
   "execution_count": 42,
   "metadata": {},
   "outputs": [
    {
     "name": "stdout",
     "output_type": "stream",
     "text": [
      "\n",
      "Значение метрики F1 выбранной модели на тестовой выборке: 0.78\n",
      "Выбранная модель прошла проверку на максимально допустимое значение метрики (МИН = 0.75)\n",
      "Время предсказания на тестовой выборке: 0.003 сек.\n"
     ]
    }
   ],
   "source": [
    "print()\n",
    "print(f'Значение метрики F1 выбранной модели на тестовой выборке: {test_score:.2f}')\n",
    "if test_score >= METRIC_MIN_LIMIT:\n",
    "    print(f'Выбранная модель прошла проверку на максимально допустимое значение метрики (МИН = {METRIC_MIN_LIMIT})')\n",
    "else:\n",
    "    print(f'ОШИБКА! Значение метрики ниже допустимого! (МИН = {METRIC_MIN_LIMIT})')\n",
    "    \n",
    "print(f'Время предсказания на тестовой выборке: {predict_time_obj.best:.3f} сек.')\n",
    "\n",
    "row = {'model': best_model_name,\n",
    "       'test_f1':test_score,\n",
    "       'predict_time':predict_time_obj.best}"
   ]
  },
  {
   "cell_type": "code",
   "execution_count": 43,
   "metadata": {},
   "outputs": [
    {
     "name": "stdout",
     "output_type": "stream",
     "text": [
      "Сводная таблица с параметрами, значениями метрик и временем обучения подобранных моделей\n",
      "Cо значением метрики F1 выбранной модели на тестовой выборке\n"
     ]
    },
    {
     "data": {
      "text/html": [
       "<div>\n",
       "<style scoped>\n",
       "    .dataframe tbody tr th:only-of-type {\n",
       "        vertical-align: middle;\n",
       "    }\n",
       "\n",
       "    .dataframe tbody tr th {\n",
       "        vertical-align: top;\n",
       "    }\n",
       "\n",
       "    .dataframe thead th {\n",
       "        text-align: right;\n",
       "    }\n",
       "</style>\n",
       "<table border=\"1\" class=\"dataframe\">\n",
       "  <thead>\n",
       "    <tr style=\"text-align: right;\">\n",
       "      <th></th>\n",
       "      <th>model</th>\n",
       "      <th>use_idf</th>\n",
       "      <th>max_df</th>\n",
       "      <th>min_df</th>\n",
       "      <th>binary</th>\n",
       "      <th>max_depth</th>\n",
       "      <th>min_samples_split</th>\n",
       "      <th>n_estimators</th>\n",
       "      <th>learning_rate</th>\n",
       "      <th>fit_time</th>\n",
       "      <th>research_time</th>\n",
       "      <th>cv_f1</th>\n",
       "      <th>test_f1</th>\n",
       "      <th>predict_time</th>\n",
       "    </tr>\n",
       "  </thead>\n",
       "  <tbody>\n",
       "    <tr>\n",
       "      <th>0</th>\n",
       "      <td>LogisticRegression</td>\n",
       "      <td>False</td>\n",
       "      <td>0.5</td>\n",
       "      <td>10.0</td>\n",
       "      <td>False</td>\n",
       "      <td>NaN</td>\n",
       "      <td>NaN</td>\n",
       "      <td>NaN</td>\n",
       "      <td>NaN</td>\n",
       "      <td>40.125242</td>\n",
       "      <td>275.518165</td>\n",
       "      <td>0.768769</td>\n",
       "      <td>0.777402</td>\n",
       "      <td>0.003498</td>\n",
       "    </tr>\n",
       "    <tr>\n",
       "      <th>1</th>\n",
       "      <td>DecisionTreeClassifier</td>\n",
       "      <td>False</td>\n",
       "      <td>0.5</td>\n",
       "      <td>10.0</td>\n",
       "      <td>False</td>\n",
       "      <td>50.0</td>\n",
       "      <td>3.0</td>\n",
       "      <td>NaN</td>\n",
       "      <td>NaN</td>\n",
       "      <td>73.875199</td>\n",
       "      <td>484.398935</td>\n",
       "      <td>0.711487</td>\n",
       "      <td>NaN</td>\n",
       "      <td>NaN</td>\n",
       "    </tr>\n",
       "    <tr>\n",
       "      <th>2</th>\n",
       "      <td>LGBMClassifier</td>\n",
       "      <td>False</td>\n",
       "      <td>0.5</td>\n",
       "      <td>10.0</td>\n",
       "      <td>False</td>\n",
       "      <td>-1.0</td>\n",
       "      <td>NaN</td>\n",
       "      <td>500.0</td>\n",
       "      <td>0.1</td>\n",
       "      <td>184.690337</td>\n",
       "      <td>1162.295144</td>\n",
       "      <td>0.780216</td>\n",
       "      <td>NaN</td>\n",
       "      <td>NaN</td>\n",
       "    </tr>\n",
       "    <tr>\n",
       "      <th>3</th>\n",
       "      <td>MultinomialNB</td>\n",
       "      <td>False</td>\n",
       "      <td>0.5</td>\n",
       "      <td>10.0</td>\n",
       "      <td>False</td>\n",
       "      <td>NaN</td>\n",
       "      <td>NaN</td>\n",
       "      <td>NaN</td>\n",
       "      <td>NaN</td>\n",
       "      <td>31.815864</td>\n",
       "      <td>218.034720</td>\n",
       "      <td>0.722170</td>\n",
       "      <td>NaN</td>\n",
       "      <td>NaN</td>\n",
       "    </tr>\n",
       "  </tbody>\n",
       "</table>\n",
       "</div>"
      ],
      "text/plain": [
       "                    model  use_idf  max_df  min_df  binary  max_depth  \\\n",
       "0      LogisticRegression    False     0.5    10.0   False        NaN   \n",
       "1  DecisionTreeClassifier    False     0.5    10.0   False       50.0   \n",
       "2          LGBMClassifier    False     0.5    10.0   False       -1.0   \n",
       "3           MultinomialNB    False     0.5    10.0   False        NaN   \n",
       "\n",
       "   min_samples_split  n_estimators  learning_rate    fit_time  research_time  \\\n",
       "0                NaN           NaN            NaN   40.125242     275.518165   \n",
       "1                3.0           NaN            NaN   73.875199     484.398935   \n",
       "2                NaN         500.0            0.1  184.690337    1162.295144   \n",
       "3                NaN           NaN            NaN   31.815864     218.034720   \n",
       "\n",
       "      cv_f1   test_f1  predict_time  \n",
       "0  0.768769  0.777402      0.003498  \n",
       "1  0.711487       NaN           NaN  \n",
       "2  0.780216       NaN           NaN  \n",
       "3  0.722170       NaN           NaN  "
      ]
     },
     "metadata": {},
     "output_type": "display_data"
    }
   ],
   "source": [
    "result_model_table = result_model_table.merge(pd.DataFrame({'model': [],\n",
    "                                                            'test_f1': [],\n",
    "                                                            'predict_time': []})\n",
    "                                              .append(row, ignore_index=True), on='model', how='outer')\n",
    "\n",
    "print('Сводная таблица с параметрами, значениями метрик и временем обучения подобранных моделей\\nCо значением метрики F1 выбранной модели на тестовой выборке')\n",
    "display(result_model_table)"
   ]
  },
  {
   "cell_type": "markdown",
   "metadata": {},
   "source": [
    "### Проверка адекватности модели\n",
    "\n",
    "Проверим модель на адекватность, сравнением с константной моделью (далее - проверочная модель), используя `DummyClassifier`"
   ]
  },
  {
   "cell_type": "code",
   "execution_count": 44,
   "metadata": {},
   "outputs": [],
   "source": [
    "dummy_clf = DummyClassifier(strategy='constant', constant=1, random_state=RANDOM_STATE)\n",
    "\n",
    "dummy_clf.fit(features_train, target_train)\n",
    "\n",
    "y_dummy = dummy_clf.predict(features_test)\n",
    "\n",
    "dummy_score = f1_score(target_test, y_dummy)"
   ]
  },
  {
   "cell_type": "code",
   "execution_count": 45,
   "metadata": {
    "scrolled": true
   },
   "outputs": [
    {
     "name": "stdout",
     "output_type": "stream",
     "text": [
      "Метрика F1 проверочной (константной) модели: 0.18\n",
      "Выбранная модель прошла проверку на адекватность. Её метрика выше чем метрика проверочной модели (dummy_score = 0.18)\n"
     ]
    }
   ],
   "source": [
    "print(f'Метрика F1 проверочной (константной) модели: {dummy_score:.2f}')\n",
    "if test_score > dummy_score:\n",
    "    print(f'Выбранная модель прошла проверку на адекватность. Её метрика выше чем метрика проверочной модели (dummy_score = {dummy_score:.2f})')\n",
    "else:\n",
    "    print(f'ОШИБКА! Значение метрики выбранной модели ниже чем метрика проверочной модели! (dummy_score = {dummy_score:.2f})')"
   ]
  },
  {
   "cell_type": "markdown",
   "metadata": {},
   "source": [
    "### Вывод по разделу - Проверка\n",
    "\n",
    "- Значение метрики F1 выбранной модели на тестовой выборке: `0.779`\n",
    "- Выбранная модель прошла проверку на минимально допустимое значение метрики (`МИН = 0.75`)\n",
    "- Время предсказания на тестовой выборке: `0.1 cек.`\n",
    "- Для проверки адекватности выбранной модели требуемые значения прогнозируются константным значением, метрика F1 такого предсказания должна быть ниже метрики F1 выбранной модели\n",
    "- Выбранная модель `прошла проверку на адекватность.` Её метрика выше чем метрика проверочной модели"
   ]
  },
  {
   "cell_type": "markdown",
   "metadata": {},
   "source": [
    "## Выводы"
   ]
  },
  {
   "cell_type": "markdown",
   "metadata": {},
   "source": [
    "**Исходные данные от заказчика**\n",
    "\n",
    "- Данные лежат в файле `toxic_comments.csv`. \n",
    "- Столбец text в нём содержит текст комментария, а toxic — целевой признак.\n",
    "\n",
    "**Задача**\n",
    "\n",
    "Магазину нужен инструмент, который будет искать токсичные комментарии и отправлять их на модерацию.\n",
    "Необходимо обучить модель классифицировать комментарии на позитивные и негативные\n",
    "\n",
    "Значение метрики качества F1 должно быть не меньше 0.75.\n",
    "\n",
    "**Выводы по проекту**\n",
    "\n",
    "*Подготовка*\n",
    "\n",
    "-  в данных 159_292 объекта, пропуски отсутствуют\n",
    "-  Целевой признак 'toxic' - категориальный, присутствуют значения только 1 и 0, т.е. решаем задачу классификации\n",
    "-  Набор символов - латинница, язык определен как английский, исходя из этого предположения в дальнейшем будем обрабатывать текст \n",
    "- проведена токенизация и лемматизация корпуса текста\n",
    "- выделена обучающая и тестовая выборки признаков и целевого признака. Размер тестовой выборки принят в 10% от исх. данных\n",
    "- создана класс с функциями обучения векторизатора и создания признаков\n",
    "\n",
    "*Обучение*\n",
    "\n",
    "- Для обучения выбраны следующие модели:\n",
    "   - Логистическая регрессия sklearn.linear_model.`LogisticRegression`\n",
    "   - Решающее дерево sklearn.tree.`DecisionTreeClassifier`\n",
    "   - Классификатор градиентного бустинга lightgbm.`LGBMClassifier`\n",
    "   - Классификатор по теореме Байеса для полиномиальных моделей sklearn.naive_bayes.`MultinomialNB`\n",
    "    \n",
    "- После проведения исследования моделей, для задач предсказания выбрана модель Логистическая регрессия LGBMClassifier, со следующими гиперпараметрами модели, параметрами векторизатора, метриками на обучающей выборке и временем обучения кросс-валидацией:\n",
    "  - Лучшее значение метрики F1 на обучающем наборе = `0.769`\n",
    "  - Суммарное время проверки модели, поиска параметров и кросс-валидации: `6 мин.`\n",
    "  - Время обучения модели на подобранных гиперпараметрах: `55 сек.`\n",
    "  - Подобранные гиперпараметры для модели: `default`\n",
    "  - Подобранные гиперпараметры для векторизатора: \n",
    "      - use_idf = False\n",
    "      - max_df = 0.5\n",
    "      - min_df = 10.0\n",
    "      - binary = False\n",
    "- Обоснование выбора модели\n",
    "  - Лучшее значение метрики c оптимальным временем обучения\n",
    "  \n",
    "\n",
    "*Проверка*\n",
    "\n",
    "- Значение метрики F1 выбранной модели на тестовой выборке: 0.779\n",
    "- Выбранная модель прошла проверку на минимально допустимое значение метрики (МИН = 0.75)\n",
    "- Время предсказания на тестовой выборке: 0.01 cек.\n",
    "- Для проверки адекватности выбранной модели требуемые значения прогнозируются константным значением, метрика F1 такого предсказания должна быть ниже метрики F1 выбранной модели\n",
    "- Выбранная модель прошла проверку на адекватность. Её метрика выше чем метрика проверочной модели\n",
    "\n",
    "\n",
    "# Основной вывод\n",
    "\n",
    "- Для задач заказчика **подобрана модель Логистическая регрессия** (sklearn.linear_model.LogisticRegression)\n",
    "- Значение метрики **F1 выбранной модели** на тестовой выборке: **0.779**\n",
    "- Подобранные **гиперпараметры модели**: {default}\n",
    "- Подобранные **параметры векторизатора**: { use_idf = False, max_df = 0.5, min_df = 10.0, binary = False }\n",
    "- Выбранная **модель прошла проверку на минимально допустимое значение метрики (МИН = 0.75)**\n",
    "- Время предсказания на тестовой выборке: 0.1 сек.\n",
    "- Выбранная **модель прошла проверку на адекватность.** Её метрика выше чем метрика проверочной модели"
   ]
  }
 ],
 "metadata": {
  "ExecuteTimeLog": [
   {
    "duration": 2987,
    "start_time": "2022-11-23T16:38:32.312Z"
   },
   {
    "duration": 3174,
    "start_time": "2022-11-23T16:39:55.621Z"
   },
   {
    "duration": 12,
    "start_time": "2022-11-23T16:40:10.298Z"
   },
   {
    "duration": 38,
    "start_time": "2022-11-23T16:40:24.156Z"
   },
   {
    "duration": 26,
    "start_time": "2022-11-23T16:41:37.559Z"
   },
   {
    "duration": 7,
    "start_time": "2022-11-23T16:44:30.308Z"
   },
   {
    "duration": 2163,
    "start_time": "2022-11-23T16:47:58.911Z"
   },
   {
    "duration": 19,
    "start_time": "2022-11-23T16:48:01.076Z"
   },
   {
    "duration": 840,
    "start_time": "2022-11-23T16:48:16.716Z"
   },
   {
    "duration": 5,
    "start_time": "2022-11-23T16:50:51.520Z"
   },
   {
    "duration": 2710,
    "start_time": "2022-11-23T16:51:05.725Z"
   },
   {
    "duration": 797,
    "start_time": "2022-11-23T16:51:08.437Z"
   },
   {
    "duration": 16,
    "start_time": "2022-11-23T16:51:09.235Z"
   },
   {
    "duration": 33,
    "start_time": "2022-11-23T16:51:09.253Z"
   },
   {
    "duration": 28,
    "start_time": "2022-11-23T16:51:09.288Z"
   },
   {
    "duration": 2009,
    "start_time": "2022-11-23T16:51:09.318Z"
   },
   {
    "duration": 6,
    "start_time": "2022-11-23T16:51:11.328Z"
   },
   {
    "duration": 795,
    "start_time": "2022-11-23T16:51:11.335Z"
   },
   {
    "duration": 2724,
    "start_time": "2022-11-23T16:53:43.387Z"
   },
   {
    "duration": 3232,
    "start_time": "2022-11-23T16:53:46.113Z"
   },
   {
    "duration": 11,
    "start_time": "2022-11-23T16:53:49.347Z"
   },
   {
    "duration": 35,
    "start_time": "2022-11-23T16:53:49.360Z"
   },
   {
    "duration": 27,
    "start_time": "2022-11-23T16:53:49.397Z"
   },
   {
    "duration": 2767,
    "start_time": "2022-11-23T16:53:49.426Z"
   },
   {
    "duration": 4,
    "start_time": "2022-11-23T16:53:52.250Z"
   },
   {
    "duration": 9,
    "start_time": "2022-11-23T16:53:52.255Z"
   },
   {
    "duration": 919,
    "start_time": "2022-11-23T16:53:52.266Z"
   },
   {
    "duration": 2783,
    "start_time": "2022-11-23T16:56:43.352Z"
   },
   {
    "duration": 3760,
    "start_time": "2022-11-23T16:56:46.137Z"
   },
   {
    "duration": 55,
    "start_time": "2022-11-23T16:56:49.899Z"
   },
   {
    "duration": 36,
    "start_time": "2022-11-23T16:56:49.956Z"
   },
   {
    "duration": 78,
    "start_time": "2022-11-23T16:56:49.995Z"
   },
   {
    "duration": 2255,
    "start_time": "2022-11-23T16:56:50.075Z"
   },
   {
    "duration": 5,
    "start_time": "2022-11-23T16:56:52.332Z"
   },
   {
    "duration": 6,
    "start_time": "2022-11-23T16:56:52.339Z"
   },
   {
    "duration": 793,
    "start_time": "2022-11-23T16:56:52.346Z"
   },
   {
    "duration": 4,
    "start_time": "2022-11-23T16:58:17.529Z"
   },
   {
    "duration": 713,
    "start_time": "2022-11-23T16:58:18.397Z"
   },
   {
    "duration": 3,
    "start_time": "2022-11-23T16:58:31.472Z"
   },
   {
    "duration": 754,
    "start_time": "2022-11-23T16:58:32.141Z"
   },
   {
    "duration": 3,
    "start_time": "2022-11-23T17:00:55.094Z"
   },
   {
    "duration": 699,
    "start_time": "2022-11-23T17:00:55.973Z"
   },
   {
    "duration": 4,
    "start_time": "2022-11-23T17:01:37.759Z"
   },
   {
    "duration": 3,
    "start_time": "2022-11-23T17:01:38.690Z"
   },
   {
    "duration": 781,
    "start_time": "2022-11-23T17:01:39.548Z"
   },
   {
    "duration": 2716,
    "start_time": "2022-11-23T17:02:05.480Z"
   },
   {
    "duration": 865,
    "start_time": "2022-11-23T17:02:08.198Z"
   },
   {
    "duration": 12,
    "start_time": "2022-11-23T17:02:09.066Z"
   },
   {
    "duration": 55,
    "start_time": "2022-11-23T17:02:09.081Z"
   },
   {
    "duration": 50,
    "start_time": "2022-11-23T17:02:09.138Z"
   },
   {
    "duration": 2232,
    "start_time": "2022-11-23T17:02:09.190Z"
   },
   {
    "duration": 10,
    "start_time": "2022-11-23T17:02:11.424Z"
   },
   {
    "duration": 7,
    "start_time": "2022-11-23T17:02:11.436Z"
   },
   {
    "duration": 791,
    "start_time": "2022-11-23T17:02:11.445Z"
   },
   {
    "duration": 197,
    "start_time": "2022-11-23T17:02:44.175Z"
   },
   {
    "duration": 13,
    "start_time": "2022-11-23T17:02:59.253Z"
   },
   {
    "duration": 694,
    "start_time": "2022-11-23T17:03:08.875Z"
   },
   {
    "duration": 763,
    "start_time": "2022-11-23T17:06:07.894Z"
   },
   {
    "duration": 4,
    "start_time": "2022-11-23T17:06:35.982Z"
   },
   {
    "duration": 761,
    "start_time": "2022-11-23T17:06:36.859Z"
   },
   {
    "duration": 5,
    "start_time": "2022-11-23T17:09:03.830Z"
   },
   {
    "duration": 4,
    "start_time": "2022-11-23T17:10:51.708Z"
   },
   {
    "duration": 210,
    "start_time": "2022-11-23T17:12:16.872Z"
   },
   {
    "duration": 5,
    "start_time": "2022-11-23T17:13:04.084Z"
   },
   {
    "duration": 7590,
    "start_time": "2022-11-23T17:13:07.880Z"
   },
   {
    "duration": 4,
    "start_time": "2022-11-23T17:13:16.163Z"
   },
   {
    "duration": 19,
    "start_time": "2022-11-23T17:14:01.231Z"
   },
   {
    "duration": 30,
    "start_time": "2022-11-23T17:15:04.326Z"
   },
   {
    "duration": 25179,
    "start_time": "2022-11-23T17:15:05.864Z"
   },
   {
    "duration": 4,
    "start_time": "2022-11-23T17:15:31.045Z"
   },
   {
    "duration": 25632,
    "start_time": "2022-11-23T17:17:45.866Z"
   },
   {
    "duration": 4,
    "start_time": "2022-11-23T17:18:28.165Z"
   },
   {
    "duration": 4,
    "start_time": "2022-11-23T17:23:15.404Z"
   },
   {
    "duration": 23,
    "start_time": "2022-11-23T17:24:48.370Z"
   },
   {
    "duration": 2888,
    "start_time": "2022-11-23T17:24:57.970Z"
   },
   {
    "duration": 815,
    "start_time": "2022-11-23T17:25:00.860Z"
   },
   {
    "duration": 12,
    "start_time": "2022-11-23T17:25:01.677Z"
   },
   {
    "duration": 35,
    "start_time": "2022-11-23T17:25:01.691Z"
   },
   {
    "duration": 41,
    "start_time": "2022-11-23T17:25:01.728Z"
   },
   {
    "duration": 2043,
    "start_time": "2022-11-23T17:25:01.771Z"
   },
   {
    "duration": 7,
    "start_time": "2022-11-23T17:25:03.816Z"
   },
   {
    "duration": 6,
    "start_time": "2022-11-23T17:25:03.824Z"
   },
   {
    "duration": 754,
    "start_time": "2022-11-23T17:25:03.831Z"
   },
   {
    "duration": 241,
    "start_time": "2022-11-23T17:25:04.587Z"
   },
   {
    "duration": 26673,
    "start_time": "2022-11-23T17:25:04.830Z"
   },
   {
    "duration": 24456,
    "start_time": "2022-11-23T17:25:31.505Z"
   },
   {
    "duration": 3,
    "start_time": "2022-11-23T17:25:55.963Z"
   },
   {
    "duration": 184,
    "start_time": "2022-11-23T17:25:55.969Z"
   },
   {
    "duration": 23,
    "start_time": "2022-11-23T17:26:36.061Z"
   },
   {
    "duration": 21,
    "start_time": "2022-11-23T17:27:13.397Z"
   },
   {
    "duration": 3,
    "start_time": "2022-11-23T17:29:12.184Z"
   },
   {
    "duration": 7912,
    "start_time": "2022-11-23T17:29:14.124Z"
   },
   {
    "duration": 3,
    "start_time": "2022-11-23T17:29:50.211Z"
   },
   {
    "duration": 3343,
    "start_time": "2022-11-23T17:31:49.864Z"
   },
   {
    "duration": 3128,
    "start_time": "2022-11-23T17:31:53.209Z"
   },
   {
    "duration": 13,
    "start_time": "2022-11-23T17:31:56.339Z"
   },
   {
    "duration": 34,
    "start_time": "2022-11-23T17:31:56.354Z"
   },
   {
    "duration": 29,
    "start_time": "2022-11-23T17:31:56.391Z"
   },
   {
    "duration": 2058,
    "start_time": "2022-11-23T17:31:56.422Z"
   },
   {
    "duration": 10,
    "start_time": "2022-11-23T17:31:58.482Z"
   },
   {
    "duration": 7,
    "start_time": "2022-11-23T17:31:58.494Z"
   },
   {
    "duration": 777,
    "start_time": "2022-11-23T17:31:58.502Z"
   },
   {
    "duration": 180,
    "start_time": "2022-11-23T17:31:59.281Z"
   },
   {
    "duration": 25813,
    "start_time": "2022-11-23T17:31:59.463Z"
   },
   {
    "duration": 3277,
    "start_time": "2022-11-23T19:50:35.873Z"
   },
   {
    "duration": 3191,
    "start_time": "2022-11-23T19:50:39.151Z"
   },
   {
    "duration": 10,
    "start_time": "2022-11-23T19:50:42.344Z"
   },
   {
    "duration": 41,
    "start_time": "2022-11-23T19:50:42.357Z"
   },
   {
    "duration": 27,
    "start_time": "2022-11-23T19:50:42.400Z"
   },
   {
    "duration": 1966,
    "start_time": "2022-11-23T19:50:42.429Z"
   },
   {
    "duration": 5,
    "start_time": "2022-11-23T19:50:44.397Z"
   },
   {
    "duration": 10,
    "start_time": "2022-11-23T19:50:44.403Z"
   },
   {
    "duration": 792,
    "start_time": "2022-11-23T19:50:44.415Z"
   },
   {
    "duration": 243,
    "start_time": "2022-11-23T19:50:45.209Z"
   },
   {
    "duration": 25031,
    "start_time": "2022-11-23T19:50:45.454Z"
   },
   {
    "duration": 2,
    "start_time": "2022-11-23T19:51:10.487Z"
   },
   {
    "duration": 6,
    "start_time": "2022-11-23T19:51:10.491Z"
   },
   {
    "duration": 6,
    "start_time": "2022-11-23T19:51:10.499Z"
   },
   {
    "duration": 6990,
    "start_time": "2022-11-23T19:51:10.506Z"
   },
   {
    "duration": 4,
    "start_time": "2022-11-23T19:51:17.498Z"
   },
   {
    "duration": 3377,
    "start_time": "2022-11-23T19:54:23.366Z"
   },
   {
    "duration": 3159,
    "start_time": "2022-11-23T19:54:26.746Z"
   },
   {
    "duration": 10,
    "start_time": "2022-11-23T19:54:29.907Z"
   },
   {
    "duration": 32,
    "start_time": "2022-11-23T19:54:29.919Z"
   },
   {
    "duration": 25,
    "start_time": "2022-11-23T19:54:29.952Z"
   },
   {
    "duration": 1952,
    "start_time": "2022-11-23T19:54:29.979Z"
   },
   {
    "duration": 19,
    "start_time": "2022-11-23T19:54:31.932Z"
   },
   {
    "duration": 9,
    "start_time": "2022-11-23T19:54:31.952Z"
   },
   {
    "duration": 792,
    "start_time": "2022-11-23T19:54:31.963Z"
   },
   {
    "duration": 218,
    "start_time": "2022-11-23T19:54:32.757Z"
   },
   {
    "duration": 24156,
    "start_time": "2022-11-23T19:54:32.976Z"
   },
   {
    "duration": 3,
    "start_time": "2022-11-23T19:54:57.133Z"
   },
   {
    "duration": 14,
    "start_time": "2022-11-23T19:54:57.137Z"
   },
   {
    "duration": 5,
    "start_time": "2022-11-23T19:54:57.153Z"
   },
   {
    "duration": 6847,
    "start_time": "2022-11-23T19:54:57.160Z"
   },
   {
    "duration": 3,
    "start_time": "2022-11-23T19:55:04.008Z"
   },
   {
    "duration": 2166,
    "start_time": "2022-11-23T19:55:04.013Z"
   },
   {
    "duration": 50,
    "start_time": "2022-11-23T19:55:17.012Z"
   },
   {
    "duration": 3282,
    "start_time": "2022-11-23T19:55:26.937Z"
   },
   {
    "duration": 3170,
    "start_time": "2022-11-23T19:55:30.221Z"
   },
   {
    "duration": 11,
    "start_time": "2022-11-23T19:55:33.393Z"
   },
   {
    "duration": 29,
    "start_time": "2022-11-23T19:55:33.408Z"
   },
   {
    "duration": 24,
    "start_time": "2022-11-23T19:55:33.439Z"
   },
   {
    "duration": 1916,
    "start_time": "2022-11-23T19:55:33.465Z"
   },
   {
    "duration": 15,
    "start_time": "2022-11-23T19:55:35.382Z"
   },
   {
    "duration": 6,
    "start_time": "2022-11-23T19:55:35.398Z"
   },
   {
    "duration": 814,
    "start_time": "2022-11-23T19:55:35.405Z"
   },
   {
    "duration": 230,
    "start_time": "2022-11-23T19:55:36.222Z"
   },
   {
    "duration": 23576,
    "start_time": "2022-11-23T19:55:36.453Z"
   },
   {
    "duration": 2,
    "start_time": "2022-11-23T19:56:00.031Z"
   },
   {
    "duration": 8,
    "start_time": "2022-11-23T19:56:00.035Z"
   },
   {
    "duration": 7,
    "start_time": "2022-11-23T19:56:00.044Z"
   },
   {
    "duration": 7053,
    "start_time": "2022-11-23T19:56:00.052Z"
   },
   {
    "duration": 5,
    "start_time": "2022-11-23T19:56:07.106Z"
   },
   {
    "duration": 2258,
    "start_time": "2022-11-23T19:56:07.113Z"
   },
   {
    "duration": 601,
    "start_time": "2022-11-23T19:56:09.373Z"
   },
   {
    "duration": 55451,
    "start_time": "2022-11-23T19:56:09.976Z"
   },
   {
    "duration": 166,
    "start_time": "2022-11-23T19:57:05.429Z"
   },
   {
    "duration": 3310,
    "start_time": "2022-11-23T20:04:41.813Z"
   },
   {
    "duration": 3235,
    "start_time": "2022-11-23T20:04:45.124Z"
   },
   {
    "duration": 10,
    "start_time": "2022-11-23T20:04:48.361Z"
   },
   {
    "duration": 33,
    "start_time": "2022-11-23T20:04:48.374Z"
   },
   {
    "duration": 29,
    "start_time": "2022-11-23T20:04:48.409Z"
   },
   {
    "duration": 1975,
    "start_time": "2022-11-23T20:04:48.439Z"
   },
   {
    "duration": 10,
    "start_time": "2022-11-23T20:04:50.416Z"
   },
   {
    "duration": 13,
    "start_time": "2022-11-23T20:04:50.427Z"
   },
   {
    "duration": 735,
    "start_time": "2022-11-23T20:04:50.442Z"
   },
   {
    "duration": 277,
    "start_time": "2022-11-23T20:04:51.180Z"
   },
   {
    "duration": 24500,
    "start_time": "2022-11-23T20:04:51.459Z"
   },
   {
    "duration": 2,
    "start_time": "2022-11-23T20:05:15.961Z"
   },
   {
    "duration": 14,
    "start_time": "2022-11-23T20:05:15.965Z"
   },
   {
    "duration": 6,
    "start_time": "2022-11-23T20:05:15.981Z"
   },
   {
    "duration": 6936,
    "start_time": "2022-11-23T20:05:15.988Z"
   },
   {
    "duration": 4,
    "start_time": "2022-11-23T20:05:22.926Z"
   },
   {
    "duration": 2249,
    "start_time": "2022-11-23T20:05:22.931Z"
   },
   {
    "duration": 8,
    "start_time": "2022-11-23T20:12:06.711Z"
   },
   {
    "duration": 107,
    "start_time": "2022-11-23T20:12:08.100Z"
   },
   {
    "duration": 3448,
    "start_time": "2022-11-23T20:14:19.510Z"
   },
   {
    "duration": 3196,
    "start_time": "2022-11-23T20:14:22.960Z"
   },
   {
    "duration": 11,
    "start_time": "2022-11-23T20:14:26.158Z"
   },
   {
    "duration": 37,
    "start_time": "2022-11-23T20:14:26.172Z"
   },
   {
    "duration": 26,
    "start_time": "2022-11-23T20:14:26.211Z"
   },
   {
    "duration": 1924,
    "start_time": "2022-11-23T20:14:26.239Z"
   },
   {
    "duration": 8,
    "start_time": "2022-11-23T20:14:28.164Z"
   },
   {
    "duration": 9,
    "start_time": "2022-11-23T20:14:28.174Z"
   },
   {
    "duration": 774,
    "start_time": "2022-11-23T20:14:28.185Z"
   },
   {
    "duration": 229,
    "start_time": "2022-11-23T20:14:28.961Z"
   },
   {
    "duration": 24510,
    "start_time": "2022-11-23T20:14:29.191Z"
   },
   {
    "duration": 3,
    "start_time": "2022-11-23T20:14:53.703Z"
   },
   {
    "duration": 6,
    "start_time": "2022-11-23T20:14:53.708Z"
   },
   {
    "duration": 3,
    "start_time": "2022-11-23T20:14:53.726Z"
   },
   {
    "duration": 6703,
    "start_time": "2022-11-23T20:14:53.730Z"
   },
   {
    "duration": 3,
    "start_time": "2022-11-23T20:15:00.435Z"
   },
   {
    "duration": 2276,
    "start_time": "2022-11-23T20:15:00.440Z"
   },
   {
    "duration": 3383,
    "start_time": "2022-11-23T20:31:56.325Z"
   },
   {
    "duration": 3260,
    "start_time": "2022-11-23T20:31:59.710Z"
   },
   {
    "duration": 10,
    "start_time": "2022-11-23T20:32:02.972Z"
   },
   {
    "duration": 34,
    "start_time": "2022-11-23T20:32:02.984Z"
   },
   {
    "duration": 29,
    "start_time": "2022-11-23T20:32:03.019Z"
   },
   {
    "duration": 1944,
    "start_time": "2022-11-23T20:32:03.050Z"
   },
   {
    "duration": 6,
    "start_time": "2022-11-23T20:32:04.996Z"
   },
   {
    "duration": 9,
    "start_time": "2022-11-23T20:32:05.004Z"
   },
   {
    "duration": 861,
    "start_time": "2022-11-23T20:32:05.015Z"
   },
   {
    "duration": 167,
    "start_time": "2022-11-23T20:32:05.880Z"
   },
   {
    "duration": 7051,
    "start_time": "2022-11-23T20:32:06.049Z"
   },
   {
    "duration": 2,
    "start_time": "2022-11-23T20:32:13.102Z"
   },
   {
    "duration": 12,
    "start_time": "2022-11-23T20:32:13.106Z"
   },
   {
    "duration": 11,
    "start_time": "2022-11-23T20:32:13.120Z"
   },
   {
    "duration": 7099,
    "start_time": "2022-11-23T20:32:13.133Z"
   },
   {
    "duration": 3,
    "start_time": "2022-11-23T20:32:20.234Z"
   },
   {
    "duration": 49,
    "start_time": "2022-11-23T20:36:50.583Z"
   },
   {
    "duration": 2975,
    "start_time": "2022-11-23T20:37:05.417Z"
   },
   {
    "duration": 3222,
    "start_time": "2022-11-23T20:37:08.394Z"
   },
   {
    "duration": 14,
    "start_time": "2022-11-23T20:37:11.618Z"
   },
   {
    "duration": 35,
    "start_time": "2022-11-23T20:37:11.634Z"
   },
   {
    "duration": 28,
    "start_time": "2022-11-23T20:37:11.671Z"
   },
   {
    "duration": 2045,
    "start_time": "2022-11-23T20:37:11.700Z"
   },
   {
    "duration": 11,
    "start_time": "2022-11-23T20:37:13.746Z"
   },
   {
    "duration": 9,
    "start_time": "2022-11-23T20:37:13.759Z"
   },
   {
    "duration": 782,
    "start_time": "2022-11-23T20:37:13.770Z"
   },
   {
    "duration": 222,
    "start_time": "2022-11-23T20:37:14.555Z"
   },
   {
    "duration": 7082,
    "start_time": "2022-11-23T20:37:14.778Z"
   },
   {
    "duration": 2,
    "start_time": "2022-11-23T20:37:21.862Z"
   },
   {
    "duration": 11,
    "start_time": "2022-11-23T20:37:21.866Z"
   },
   {
    "duration": 19,
    "start_time": "2022-11-23T20:37:21.879Z"
   },
   {
    "duration": 6842,
    "start_time": "2022-11-23T20:37:21.900Z"
   },
   {
    "duration": 3,
    "start_time": "2022-11-23T20:37:28.743Z"
   },
   {
    "duration": 50,
    "start_time": "2022-11-23T20:40:15.334Z"
   },
   {
    "duration": 6,
    "start_time": "2022-11-23T20:40:20.096Z"
   },
   {
    "duration": 3334,
    "start_time": "2022-11-23T20:40:37.684Z"
   },
   {
    "duration": 5154,
    "start_time": "2022-11-23T20:40:41.020Z"
   },
   {
    "duration": 0,
    "start_time": "2022-11-23T20:40:46.176Z"
   },
   {
    "duration": 0,
    "start_time": "2022-11-23T20:40:46.177Z"
   },
   {
    "duration": 0,
    "start_time": "2022-11-23T20:40:46.178Z"
   },
   {
    "duration": 0,
    "start_time": "2022-11-23T20:40:46.179Z"
   },
   {
    "duration": 0,
    "start_time": "2022-11-23T20:40:46.180Z"
   },
   {
    "duration": 0,
    "start_time": "2022-11-23T20:40:46.181Z"
   },
   {
    "duration": 0,
    "start_time": "2022-11-23T20:40:46.182Z"
   },
   {
    "duration": 0,
    "start_time": "2022-11-23T20:40:46.183Z"
   },
   {
    "duration": 0,
    "start_time": "2022-11-23T20:40:46.184Z"
   },
   {
    "duration": 0,
    "start_time": "2022-11-23T20:40:46.185Z"
   },
   {
    "duration": 0,
    "start_time": "2022-11-23T20:40:46.186Z"
   },
   {
    "duration": 0,
    "start_time": "2022-11-23T20:40:46.187Z"
   },
   {
    "duration": 0,
    "start_time": "2022-11-23T20:40:46.188Z"
   },
   {
    "duration": 0,
    "start_time": "2022-11-23T20:40:46.188Z"
   },
   {
    "duration": 0,
    "start_time": "2022-11-23T20:40:46.189Z"
   },
   {
    "duration": 0,
    "start_time": "2022-11-23T20:40:46.191Z"
   },
   {
    "duration": 0,
    "start_time": "2022-11-23T20:40:46.191Z"
   },
   {
    "duration": 0,
    "start_time": "2022-11-23T20:40:46.192Z"
   },
   {
    "duration": 4,
    "start_time": "2022-11-23T20:40:53.555Z"
   },
   {
    "duration": 714,
    "start_time": "2022-11-23T20:40:53.561Z"
   },
   {
    "duration": 13,
    "start_time": "2022-11-23T20:40:54.277Z"
   },
   {
    "duration": 43,
    "start_time": "2022-11-23T20:40:54.292Z"
   },
   {
    "duration": 28,
    "start_time": "2022-11-23T20:40:54.337Z"
   },
   {
    "duration": 2072,
    "start_time": "2022-11-23T20:40:54.366Z"
   },
   {
    "duration": 10,
    "start_time": "2022-11-23T20:40:56.439Z"
   },
   {
    "duration": 5,
    "start_time": "2022-11-23T20:40:56.451Z"
   },
   {
    "duration": 810,
    "start_time": "2022-11-23T20:40:56.458Z"
   },
   {
    "duration": 176,
    "start_time": "2022-11-23T20:40:57.270Z"
   },
   {
    "duration": 6962,
    "start_time": "2022-11-23T20:40:57.447Z"
   },
   {
    "duration": 3,
    "start_time": "2022-11-23T20:41:04.410Z"
   },
   {
    "duration": 11,
    "start_time": "2022-11-23T20:41:04.414Z"
   },
   {
    "duration": 6,
    "start_time": "2022-11-23T20:41:04.426Z"
   },
   {
    "duration": 6836,
    "start_time": "2022-11-23T20:41:04.434Z"
   },
   {
    "duration": 43,
    "start_time": "2022-11-23T20:41:11.272Z"
   },
   {
    "duration": 17,
    "start_time": "2022-11-23T20:41:57.050Z"
   },
   {
    "duration": 6169,
    "start_time": "2022-11-23T20:42:00.900Z"
   },
   {
    "duration": 3,
    "start_time": "2022-11-23T20:42:27.935Z"
   },
   {
    "duration": 7091,
    "start_time": "2022-11-23T20:42:29.726Z"
   },
   {
    "duration": 17,
    "start_time": "2022-11-23T20:42:41.153Z"
   },
   {
    "duration": 6296,
    "start_time": "2022-11-23T20:42:43.166Z"
   },
   {
    "duration": 3,
    "start_time": "2022-11-23T20:42:58.087Z"
   },
   {
    "duration": 6385,
    "start_time": "2022-11-23T20:42:59.977Z"
   },
   {
    "duration": 3,
    "start_time": "2022-11-23T20:44:26.596Z"
   },
   {
    "duration": 6413,
    "start_time": "2022-11-23T20:44:28.901Z"
   },
   {
    "duration": 3,
    "start_time": "2022-11-23T20:44:45.694Z"
   },
   {
    "duration": 6545,
    "start_time": "2022-11-23T20:44:48.211Z"
   },
   {
    "duration": 3,
    "start_time": "2022-11-23T20:45:03.120Z"
   },
   {
    "duration": 7393,
    "start_time": "2022-11-23T20:45:05.394Z"
   },
   {
    "duration": 27,
    "start_time": "2022-11-23T20:45:15.497Z"
   },
   {
    "duration": 45,
    "start_time": "2022-11-23T20:47:45.763Z"
   },
   {
    "duration": 3519,
    "start_time": "2022-11-23T20:47:52.779Z"
   },
   {
    "duration": 3261,
    "start_time": "2022-11-23T20:47:56.300Z"
   },
   {
    "duration": 12,
    "start_time": "2022-11-23T20:47:59.563Z"
   },
   {
    "duration": 37,
    "start_time": "2022-11-23T20:47:59.578Z"
   },
   {
    "duration": 39,
    "start_time": "2022-11-23T20:47:59.617Z"
   },
   {
    "duration": 2078,
    "start_time": "2022-11-23T20:47:59.658Z"
   },
   {
    "duration": 3,
    "start_time": "2022-11-23T20:48:01.738Z"
   },
   {
    "duration": 24,
    "start_time": "2022-11-23T20:48:01.743Z"
   },
   {
    "duration": 970,
    "start_time": "2022-11-23T20:48:01.768Z"
   },
   {
    "duration": 193,
    "start_time": "2022-11-23T20:48:02.741Z"
   },
   {
    "duration": 6941,
    "start_time": "2022-11-23T20:48:02.935Z"
   },
   {
    "duration": 2,
    "start_time": "2022-11-23T20:48:09.878Z"
   },
   {
    "duration": 12,
    "start_time": "2022-11-23T20:48:09.882Z"
   },
   {
    "duration": 9,
    "start_time": "2022-11-23T20:48:09.895Z"
   },
   {
    "duration": 6142,
    "start_time": "2022-11-23T20:48:56.910Z"
   },
   {
    "duration": 3,
    "start_time": "2022-11-23T20:49:11.709Z"
   },
   {
    "duration": 7237,
    "start_time": "2022-11-23T20:49:13.477Z"
   },
   {
    "duration": 45,
    "start_time": "2022-11-23T20:50:18.728Z"
   },
   {
    "duration": 11,
    "start_time": "2022-11-23T20:50:33.848Z"
   },
   {
    "duration": 13,
    "start_time": "2022-11-23T20:52:10.012Z"
   },
   {
    "duration": 3,
    "start_time": "2022-11-23T20:52:14.635Z"
   },
   {
    "duration": 12,
    "start_time": "2022-11-23T20:52:23.355Z"
   },
   {
    "duration": 11,
    "start_time": "2022-11-23T20:52:28.809Z"
   },
   {
    "duration": 11,
    "start_time": "2022-11-23T20:52:36.690Z"
   },
   {
    "duration": 12,
    "start_time": "2022-11-23T20:53:04.213Z"
   },
   {
    "duration": 7101,
    "start_time": "2022-11-23T20:53:17.711Z"
   },
   {
    "duration": 27,
    "start_time": "2022-11-23T20:54:14.482Z"
   },
   {
    "duration": 4,
    "start_time": "2022-11-23T20:54:16.240Z"
   },
   {
    "duration": 12,
    "start_time": "2022-11-23T20:54:36.415Z"
   },
   {
    "duration": 12,
    "start_time": "2022-11-23T20:54:54.464Z"
   },
   {
    "duration": 12,
    "start_time": "2022-11-23T20:55:55.522Z"
   },
   {
    "duration": 4,
    "start_time": "2022-11-23T20:56:07.658Z"
   },
   {
    "duration": 95,
    "start_time": "2022-11-23T20:56:10.785Z"
   },
   {
    "duration": 4,
    "start_time": "2022-11-23T20:56:13.431Z"
   },
   {
    "duration": 3709,
    "start_time": "2022-11-23T20:57:06.422Z"
   },
   {
    "duration": 3248,
    "start_time": "2022-11-23T20:57:10.133Z"
   },
   {
    "duration": 12,
    "start_time": "2022-11-23T20:57:13.383Z"
   },
   {
    "duration": 34,
    "start_time": "2022-11-23T20:57:13.398Z"
   },
   {
    "duration": 27,
    "start_time": "2022-11-23T20:57:13.433Z"
   },
   {
    "duration": 2051,
    "start_time": "2022-11-23T20:57:13.462Z"
   },
   {
    "duration": 14,
    "start_time": "2022-11-23T20:57:15.514Z"
   },
   {
    "duration": 10,
    "start_time": "2022-11-23T20:57:15.529Z"
   },
   {
    "duration": 910,
    "start_time": "2022-11-23T20:57:15.540Z"
   },
   {
    "duration": 235,
    "start_time": "2022-11-23T20:57:16.453Z"
   },
   {
    "duration": 6862,
    "start_time": "2022-11-23T20:57:16.689Z"
   },
   {
    "duration": 2,
    "start_time": "2022-11-23T20:57:23.553Z"
   },
   {
    "duration": 15,
    "start_time": "2022-11-23T20:57:23.557Z"
   },
   {
    "duration": 22,
    "start_time": "2022-11-23T20:57:23.574Z"
   },
   {
    "duration": 6777,
    "start_time": "2022-11-23T20:57:23.598Z"
   },
   {
    "duration": 50,
    "start_time": "2022-11-23T20:57:30.377Z"
   },
   {
    "duration": 107,
    "start_time": "2022-11-23T20:57:30.428Z"
   },
   {
    "duration": 4,
    "start_time": "2022-11-23T20:57:30.537Z"
   },
   {
    "duration": 47,
    "start_time": "2022-11-23T20:57:48.269Z"
   },
   {
    "duration": 5,
    "start_time": "2022-11-23T20:57:56.327Z"
   },
   {
    "duration": 3540,
    "start_time": "2022-11-23T20:58:13.845Z"
   },
   {
    "duration": 3236,
    "start_time": "2022-11-23T20:58:17.387Z"
   },
   {
    "duration": 11,
    "start_time": "2022-11-23T20:58:20.625Z"
   },
   {
    "duration": 38,
    "start_time": "2022-11-23T20:58:20.638Z"
   },
   {
    "duration": 27,
    "start_time": "2022-11-23T20:58:20.677Z"
   },
   {
    "duration": 2036,
    "start_time": "2022-11-23T20:58:20.706Z"
   },
   {
    "duration": 11,
    "start_time": "2022-11-23T20:58:22.743Z"
   },
   {
    "duration": 5,
    "start_time": "2022-11-23T20:58:22.756Z"
   },
   {
    "duration": 833,
    "start_time": "2022-11-23T20:58:22.762Z"
   },
   {
    "duration": 151,
    "start_time": "2022-11-23T20:58:23.598Z"
   },
   {
    "duration": 6891,
    "start_time": "2022-11-23T20:58:23.750Z"
   },
   {
    "duration": 2,
    "start_time": "2022-11-23T20:58:30.643Z"
   },
   {
    "duration": 27,
    "start_time": "2022-11-23T20:58:30.646Z"
   },
   {
    "duration": 22,
    "start_time": "2022-11-23T20:58:30.675Z"
   },
   {
    "duration": 6966,
    "start_time": "2022-11-23T20:58:30.699Z"
   },
   {
    "duration": 45,
    "start_time": "2022-11-23T20:58:37.666Z"
   },
   {
    "duration": 119,
    "start_time": "2022-11-23T20:58:37.712Z"
   },
   {
    "duration": 4,
    "start_time": "2022-11-23T20:58:37.834Z"
   },
   {
    "duration": 23,
    "start_time": "2022-11-23T20:58:37.840Z"
   },
   {
    "duration": 33,
    "start_time": "2022-11-23T20:58:44.689Z"
   },
   {
    "duration": 1173,
    "start_time": "2022-11-23T20:58:47.470Z"
   },
   {
    "duration": 6,
    "start_time": "2022-11-23T21:00:10.747Z"
   },
   {
    "duration": 5,
    "start_time": "2022-11-23T21:01:03.269Z"
   },
   {
    "duration": 5,
    "start_time": "2022-11-23T21:01:45.429Z"
   },
   {
    "duration": 4,
    "start_time": "2022-11-23T21:02:14.083Z"
   },
   {
    "duration": 5,
    "start_time": "2022-11-23T21:02:18.744Z"
   },
   {
    "duration": 133,
    "start_time": "2022-11-23T21:02:23.308Z"
   },
   {
    "duration": 5,
    "start_time": "2022-11-23T21:02:59.334Z"
   },
   {
    "duration": 84,
    "start_time": "2022-11-23T21:03:01.319Z"
   },
   {
    "duration": 5,
    "start_time": "2022-11-23T21:04:01.516Z"
   },
   {
    "duration": 5,
    "start_time": "2022-11-23T21:04:03.910Z"
   },
   {
    "duration": 73,
    "start_time": "2022-11-23T21:04:06.568Z"
   },
   {
    "duration": 35,
    "start_time": "2022-11-23T21:04:19.637Z"
   },
   {
    "duration": 4,
    "start_time": "2022-11-23T21:04:27.239Z"
   },
   {
    "duration": 2154,
    "start_time": "2022-11-23T21:04:27.245Z"
   },
   {
    "duration": 7,
    "start_time": "2022-11-23T21:04:29.401Z"
   },
   {
    "duration": 36,
    "start_time": "2022-11-23T21:04:29.410Z"
   },
   {
    "duration": 27,
    "start_time": "2022-11-23T21:04:29.447Z"
   },
   {
    "duration": 3409,
    "start_time": "2022-11-23T21:05:17.097Z"
   },
   {
    "duration": 3204,
    "start_time": "2022-11-23T21:05:20.508Z"
   },
   {
    "duration": 11,
    "start_time": "2022-11-23T21:05:23.713Z"
   },
   {
    "duration": 29,
    "start_time": "2022-11-23T21:05:23.727Z"
   },
   {
    "duration": 26,
    "start_time": "2022-11-23T21:05:23.757Z"
   },
   {
    "duration": 2074,
    "start_time": "2022-11-23T21:05:23.784Z"
   },
   {
    "duration": 10,
    "start_time": "2022-11-23T21:05:25.860Z"
   },
   {
    "duration": 18,
    "start_time": "2022-11-23T21:05:25.872Z"
   },
   {
    "duration": 835,
    "start_time": "2022-11-23T21:05:25.891Z"
   },
   {
    "duration": 149,
    "start_time": "2022-11-23T21:05:26.730Z"
   },
   {
    "duration": 6975,
    "start_time": "2022-11-23T21:05:26.881Z"
   },
   {
    "duration": 2,
    "start_time": "2022-11-23T21:05:33.858Z"
   },
   {
    "duration": 15,
    "start_time": "2022-11-23T21:05:33.862Z"
   },
   {
    "duration": 8,
    "start_time": "2022-11-23T21:05:33.879Z"
   },
   {
    "duration": 6649,
    "start_time": "2022-11-23T21:05:33.888Z"
   },
   {
    "duration": 43,
    "start_time": "2022-11-23T21:05:40.539Z"
   },
   {
    "duration": 104,
    "start_time": "2022-11-23T21:05:40.583Z"
   },
   {
    "duration": 4,
    "start_time": "2022-11-23T21:05:40.689Z"
   },
   {
    "duration": 11,
    "start_time": "2022-11-23T21:05:40.694Z"
   },
   {
    "duration": 40,
    "start_time": "2022-11-23T21:05:40.706Z"
   },
   {
    "duration": 8,
    "start_time": "2022-11-23T21:05:40.748Z"
   },
   {
    "duration": 246,
    "start_time": "2022-11-23T21:05:40.757Z"
   },
   {
    "duration": 172,
    "start_time": "2022-11-23T21:05:41.005Z"
   },
   {
    "duration": 3508,
    "start_time": "2022-11-23T21:06:19.763Z"
   },
   {
    "duration": 3263,
    "start_time": "2022-11-23T21:06:23.273Z"
   },
   {
    "duration": 11,
    "start_time": "2022-11-23T21:06:26.538Z"
   },
   {
    "duration": 32,
    "start_time": "2022-11-23T21:06:26.551Z"
   },
   {
    "duration": 27,
    "start_time": "2022-11-23T21:06:26.584Z"
   },
   {
    "duration": 2039,
    "start_time": "2022-11-23T21:06:26.612Z"
   },
   {
    "duration": 8,
    "start_time": "2022-11-23T21:06:28.653Z"
   },
   {
    "duration": 11,
    "start_time": "2022-11-23T21:06:28.662Z"
   },
   {
    "duration": 858,
    "start_time": "2022-11-23T21:06:28.674Z"
   },
   {
    "duration": 152,
    "start_time": "2022-11-23T21:06:29.534Z"
   },
   {
    "duration": 6994,
    "start_time": "2022-11-23T21:06:29.688Z"
   },
   {
    "duration": 3,
    "start_time": "2022-11-23T21:06:36.683Z"
   },
   {
    "duration": 14,
    "start_time": "2022-11-23T21:06:36.687Z"
   },
   {
    "duration": 6,
    "start_time": "2022-11-23T21:06:36.702Z"
   },
   {
    "duration": 6738,
    "start_time": "2022-11-23T21:06:36.709Z"
   },
   {
    "duration": 42,
    "start_time": "2022-11-23T21:06:43.449Z"
   },
   {
    "duration": 107,
    "start_time": "2022-11-23T21:06:43.493Z"
   },
   {
    "duration": 4,
    "start_time": "2022-11-23T21:06:43.601Z"
   },
   {
    "duration": 3624,
    "start_time": "2022-11-23T21:07:59.430Z"
   },
   {
    "duration": 3202,
    "start_time": "2022-11-23T21:08:03.056Z"
   },
   {
    "duration": 12,
    "start_time": "2022-11-23T21:08:06.263Z"
   },
   {
    "duration": 33,
    "start_time": "2022-11-23T21:08:06.277Z"
   },
   {
    "duration": 38,
    "start_time": "2022-11-23T21:08:06.312Z"
   },
   {
    "duration": 2059,
    "start_time": "2022-11-23T21:08:06.351Z"
   },
   {
    "duration": 6,
    "start_time": "2022-11-23T21:08:08.412Z"
   },
   {
    "duration": 2,
    "start_time": "2022-11-23T21:08:08.426Z"
   },
   {
    "duration": 799,
    "start_time": "2022-11-23T21:08:08.431Z"
   },
   {
    "duration": 239,
    "start_time": "2022-11-23T21:08:09.232Z"
   },
   {
    "duration": 6954,
    "start_time": "2022-11-23T21:08:09.473Z"
   },
   {
    "duration": 3,
    "start_time": "2022-11-23T21:08:16.428Z"
   },
   {
    "duration": 1497,
    "start_time": "2022-11-23T21:08:16.432Z"
   },
   {
    "duration": 3,
    "start_time": "2022-11-23T21:08:17.930Z"
   },
   {
    "duration": 3628,
    "start_time": "2022-11-23T21:09:29.332Z"
   },
   {
    "duration": 3202,
    "start_time": "2022-11-23T21:09:32.962Z"
   },
   {
    "duration": 12,
    "start_time": "2022-11-23T21:09:36.167Z"
   },
   {
    "duration": 42,
    "start_time": "2022-11-23T21:09:36.180Z"
   },
   {
    "duration": 43,
    "start_time": "2022-11-23T21:09:36.223Z"
   },
   {
    "duration": 2074,
    "start_time": "2022-11-23T21:09:36.267Z"
   },
   {
    "duration": 13,
    "start_time": "2022-11-23T21:09:38.342Z"
   },
   {
    "duration": 8,
    "start_time": "2022-11-23T21:09:38.356Z"
   },
   {
    "duration": 846,
    "start_time": "2022-11-23T21:09:38.367Z"
   },
   {
    "duration": 224,
    "start_time": "2022-11-23T21:09:39.215Z"
   },
   {
    "duration": 6931,
    "start_time": "2022-11-23T21:09:39.440Z"
   },
   {
    "duration": 2,
    "start_time": "2022-11-23T21:09:46.373Z"
   },
   {
    "duration": 10,
    "start_time": "2022-11-23T21:09:46.376Z"
   },
   {
    "duration": 6,
    "start_time": "2022-11-23T21:09:46.388Z"
   },
   {
    "duration": 6835,
    "start_time": "2022-11-23T21:09:46.396Z"
   },
   {
    "duration": 3,
    "start_time": "2022-11-23T21:09:53.233Z"
   },
   {
    "duration": 101,
    "start_time": "2022-11-23T21:09:53.237Z"
   },
   {
    "duration": 4,
    "start_time": "2022-11-23T21:09:53.339Z"
   },
   {
    "duration": 3289,
    "start_time": "2022-11-23T21:10:39.586Z"
   },
   {
    "duration": 3200,
    "start_time": "2022-11-23T21:10:42.877Z"
   },
   {
    "duration": 11,
    "start_time": "2022-11-23T21:10:46.078Z"
   },
   {
    "duration": 32,
    "start_time": "2022-11-23T21:10:46.090Z"
   },
   {
    "duration": 24,
    "start_time": "2022-11-23T21:10:46.124Z"
   },
   {
    "duration": 2057,
    "start_time": "2022-11-23T21:10:46.150Z"
   },
   {
    "duration": 5,
    "start_time": "2022-11-23T21:10:48.209Z"
   },
   {
    "duration": 15,
    "start_time": "2022-11-23T21:10:48.215Z"
   },
   {
    "duration": 799,
    "start_time": "2022-11-23T21:10:48.232Z"
   },
   {
    "duration": 178,
    "start_time": "2022-11-23T21:10:49.035Z"
   },
   {
    "duration": 6892,
    "start_time": "2022-11-23T21:10:49.214Z"
   },
   {
    "duration": 3,
    "start_time": "2022-11-23T21:10:56.107Z"
   },
   {
    "duration": 7,
    "start_time": "2022-11-23T21:10:56.111Z"
   },
   {
    "duration": 3,
    "start_time": "2022-11-23T21:10:56.126Z"
   },
   {
    "duration": 6751,
    "start_time": "2022-11-23T21:10:56.130Z"
   },
   {
    "duration": 3,
    "start_time": "2022-11-23T21:11:02.882Z"
   },
   {
    "duration": 107,
    "start_time": "2022-11-23T21:11:02.887Z"
   },
   {
    "duration": 4,
    "start_time": "2022-11-23T21:11:02.996Z"
   },
   {
    "duration": 5,
    "start_time": "2022-11-23T21:11:03.002Z"
   },
   {
    "duration": 43,
    "start_time": "2022-11-23T21:11:03.008Z"
   },
   {
    "duration": 7,
    "start_time": "2022-11-23T21:11:03.053Z"
   },
   {
    "duration": 242,
    "start_time": "2022-11-23T21:11:03.062Z"
   },
   {
    "duration": 156,
    "start_time": "2022-11-23T21:11:03.306Z"
   },
   {
    "duration": 1115,
    "start_time": "2022-11-23T21:11:19.106Z"
   },
   {
    "duration": 4561,
    "start_time": "2022-11-23T21:11:54.437Z"
   },
   {
    "duration": 27,
    "start_time": "2022-11-23T21:15:15.573Z"
   },
   {
    "duration": 1067,
    "start_time": "2022-11-23T21:16:35.050Z"
   },
   {
    "duration": 1183,
    "start_time": "2022-11-23T21:16:51.529Z"
   },
   {
    "duration": 129,
    "start_time": "2022-11-23T21:17:57.228Z"
   },
   {
    "duration": 1491,
    "start_time": "2022-11-23T21:18:07.650Z"
   },
   {
    "duration": 1978,
    "start_time": "2022-11-23T21:18:12.759Z"
   },
   {
    "duration": 118,
    "start_time": "2022-11-23T21:18:24.570Z"
   },
   {
    "duration": 2681,
    "start_time": "2022-11-23T21:18:29.662Z"
   },
   {
    "duration": 2564,
    "start_time": "2022-11-23T21:18:38.569Z"
   },
   {
    "duration": 4,
    "start_time": "2022-11-23T21:19:58.125Z"
   },
   {
    "duration": 5,
    "start_time": "2022-11-23T21:20:10.369Z"
   },
   {
    "duration": 81,
    "start_time": "2022-11-23T21:20:22.026Z"
   },
   {
    "duration": 216,
    "start_time": "2022-11-23T21:20:44.833Z"
   },
   {
    "duration": 275,
    "start_time": "2022-11-23T21:20:55.778Z"
   },
   {
    "duration": 50,
    "start_time": "2022-11-23T21:24:52.952Z"
   },
   {
    "duration": 3692,
    "start_time": "2022-11-23T21:25:15.438Z"
   },
   {
    "duration": 3315,
    "start_time": "2022-11-23T21:25:19.133Z"
   },
   {
    "duration": 11,
    "start_time": "2022-11-23T21:25:22.450Z"
   },
   {
    "duration": 56,
    "start_time": "2022-11-23T21:25:22.462Z"
   },
   {
    "duration": 35,
    "start_time": "2022-11-23T21:25:22.520Z"
   },
   {
    "duration": 2217,
    "start_time": "2022-11-23T21:25:22.557Z"
   },
   {
    "duration": 30,
    "start_time": "2022-11-23T21:25:24.775Z"
   },
   {
    "duration": 24,
    "start_time": "2022-11-23T21:25:24.806Z"
   },
   {
    "duration": 983,
    "start_time": "2022-11-23T21:25:24.832Z"
   },
   {
    "duration": 154,
    "start_time": "2022-11-23T21:25:25.818Z"
   },
   {
    "duration": 7521,
    "start_time": "2022-11-23T21:25:25.974Z"
   },
   {
    "duration": 2,
    "start_time": "2022-11-23T21:25:33.497Z"
   },
   {
    "duration": 8,
    "start_time": "2022-11-23T21:25:33.501Z"
   },
   {
    "duration": 8,
    "start_time": "2022-11-23T21:25:33.512Z"
   },
   {
    "duration": 7440,
    "start_time": "2022-11-23T21:25:33.526Z"
   },
   {
    "duration": 3,
    "start_time": "2022-11-23T21:25:40.968Z"
   },
   {
    "duration": 115,
    "start_time": "2022-11-23T21:25:40.973Z"
   },
   {
    "duration": 4,
    "start_time": "2022-11-23T21:25:41.090Z"
   },
   {
    "duration": 21,
    "start_time": "2022-11-23T21:25:41.095Z"
   },
   {
    "duration": 142,
    "start_time": "2022-11-23T21:25:41.118Z"
   },
   {
    "duration": 215,
    "start_time": "2022-11-23T21:27:47.041Z"
   },
   {
    "duration": 84,
    "start_time": "2022-11-23T21:28:01.819Z"
   },
   {
    "duration": 6054,
    "start_time": "2022-11-23T21:28:07.113Z"
   },
   {
    "duration": 33,
    "start_time": "2022-11-23T21:28:39.601Z"
   },
   {
    "duration": 14,
    "start_time": "2022-11-23T21:28:42.434Z"
   },
   {
    "duration": 14,
    "start_time": "2022-11-23T21:28:48.141Z"
   },
   {
    "duration": 5,
    "start_time": "2022-11-23T21:28:57.671Z"
   },
   {
    "duration": 2204,
    "start_time": "2022-11-23T21:28:57.679Z"
   },
   {
    "duration": 7,
    "start_time": "2022-11-23T21:28:59.885Z"
   },
   {
    "duration": 39,
    "start_time": "2022-11-23T21:28:59.894Z"
   },
   {
    "duration": 28,
    "start_time": "2022-11-23T21:28:59.935Z"
   },
   {
    "duration": 3695,
    "start_time": "2022-11-23T21:29:22.002Z"
   },
   {
    "duration": 3301,
    "start_time": "2022-11-23T21:29:25.700Z"
   },
   {
    "duration": 14,
    "start_time": "2022-11-23T21:29:29.003Z"
   },
   {
    "duration": 36,
    "start_time": "2022-11-23T21:29:29.018Z"
   },
   {
    "duration": 33,
    "start_time": "2022-11-23T21:29:29.055Z"
   },
   {
    "duration": 2203,
    "start_time": "2022-11-23T21:29:29.090Z"
   },
   {
    "duration": 36,
    "start_time": "2022-11-23T21:29:31.295Z"
   },
   {
    "duration": 17,
    "start_time": "2022-11-23T21:29:31.333Z"
   },
   {
    "duration": 959,
    "start_time": "2022-11-23T21:29:31.351Z"
   },
   {
    "duration": 172,
    "start_time": "2022-11-23T21:29:32.313Z"
   },
   {
    "duration": 7308,
    "start_time": "2022-11-23T21:29:32.486Z"
   },
   {
    "duration": 3,
    "start_time": "2022-11-23T21:29:39.796Z"
   },
   {
    "duration": 7,
    "start_time": "2022-11-23T21:29:39.801Z"
   },
   {
    "duration": 18,
    "start_time": "2022-11-23T21:29:39.810Z"
   },
   {
    "duration": 7494,
    "start_time": "2022-11-23T21:29:39.830Z"
   },
   {
    "duration": 4,
    "start_time": "2022-11-23T21:29:47.326Z"
   },
   {
    "duration": 111,
    "start_time": "2022-11-23T21:29:47.332Z"
   },
   {
    "duration": 178,
    "start_time": "2022-11-23T21:29:52.991Z"
   },
   {
    "duration": 5840,
    "start_time": "2022-11-23T21:30:35.093Z"
   },
   {
    "duration": 89,
    "start_time": "2022-11-23T21:32:13.158Z"
   },
   {
    "duration": 94,
    "start_time": "2022-11-23T21:33:25.326Z"
   },
   {
    "duration": 4,
    "start_time": "2022-11-23T21:35:06.588Z"
   },
   {
    "duration": 18,
    "start_time": "2022-11-23T21:35:23.658Z"
   },
   {
    "duration": 13,
    "start_time": "2022-11-23T21:35:47.120Z"
   },
   {
    "duration": 12,
    "start_time": "2022-11-23T21:35:51.758Z"
   },
   {
    "duration": 4,
    "start_time": "2022-11-23T21:36:09.112Z"
   },
   {
    "duration": 7409,
    "start_time": "2022-11-23T21:36:40.135Z"
   },
   {
    "duration": 3,
    "start_time": "2022-11-23T21:36:57.794Z"
   },
   {
    "duration": 4,
    "start_time": "2022-11-23T21:36:59.872Z"
   },
   {
    "duration": 4,
    "start_time": "2022-11-23T21:37:02.873Z"
   },
   {
    "duration": 15,
    "start_time": "2022-11-23T21:37:08.790Z"
   },
   {
    "duration": 49,
    "start_time": "2022-11-23T21:40:00.392Z"
   },
   {
    "duration": 6039,
    "start_time": "2022-11-23T21:40:11.733Z"
   },
   {
    "duration": 3293,
    "start_time": "2022-11-23T21:40:17.774Z"
   },
   {
    "duration": 11,
    "start_time": "2022-11-23T21:40:21.069Z"
   },
   {
    "duration": 37,
    "start_time": "2022-11-23T21:40:21.082Z"
   },
   {
    "duration": 36,
    "start_time": "2022-11-23T21:40:21.120Z"
   },
   {
    "duration": 2209,
    "start_time": "2022-11-23T21:40:21.158Z"
   },
   {
    "duration": 21,
    "start_time": "2022-11-23T21:40:23.369Z"
   },
   {
    "duration": 22,
    "start_time": "2022-11-23T21:40:23.392Z"
   },
   {
    "duration": 920,
    "start_time": "2022-11-23T21:40:23.416Z"
   },
   {
    "duration": 158,
    "start_time": "2022-11-23T21:40:24.339Z"
   },
   {
    "duration": 7212,
    "start_time": "2022-11-23T21:40:24.498Z"
   },
   {
    "duration": 2,
    "start_time": "2022-11-23T21:40:31.712Z"
   },
   {
    "duration": 6,
    "start_time": "2022-11-23T21:40:31.726Z"
   },
   {
    "duration": 6,
    "start_time": "2022-11-23T21:40:31.733Z"
   },
   {
    "duration": 7118,
    "start_time": "2022-11-23T21:40:31.740Z"
   },
   {
    "duration": 4,
    "start_time": "2022-11-23T21:40:38.860Z"
   },
   {
    "duration": 16,
    "start_time": "2022-11-23T21:40:38.865Z"
   },
   {
    "duration": 48,
    "start_time": "2022-11-23T21:41:47.370Z"
   },
   {
    "duration": 3704,
    "start_time": "2022-11-23T21:41:51.979Z"
   },
   {
    "duration": 3310,
    "start_time": "2022-11-23T21:41:55.685Z"
   },
   {
    "duration": 11,
    "start_time": "2022-11-23T21:41:58.997Z"
   },
   {
    "duration": 40,
    "start_time": "2022-11-23T21:41:59.010Z"
   },
   {
    "duration": 30,
    "start_time": "2022-11-23T21:41:59.052Z"
   },
   {
    "duration": 2196,
    "start_time": "2022-11-23T21:41:59.084Z"
   },
   {
    "duration": 22,
    "start_time": "2022-11-23T21:42:01.282Z"
   },
   {
    "duration": 26,
    "start_time": "2022-11-23T21:42:01.306Z"
   },
   {
    "duration": 956,
    "start_time": "2022-11-23T21:42:01.334Z"
   },
   {
    "duration": 161,
    "start_time": "2022-11-23T21:42:02.293Z"
   },
   {
    "duration": 7842,
    "start_time": "2022-11-23T21:42:02.456Z"
   },
   {
    "duration": 3,
    "start_time": "2022-11-23T21:42:10.299Z"
   },
   {
    "duration": 7,
    "start_time": "2022-11-23T21:42:10.304Z"
   },
   {
    "duration": 3,
    "start_time": "2022-11-23T21:42:10.326Z"
   },
   {
    "duration": 7583,
    "start_time": "2022-11-23T21:42:10.331Z"
   },
   {
    "duration": 4,
    "start_time": "2022-11-23T21:42:17.915Z"
   },
   {
    "duration": 7,
    "start_time": "2022-11-23T21:42:17.927Z"
   },
   {
    "duration": 8,
    "start_time": "2022-11-23T21:42:17.936Z"
   },
   {
    "duration": 4,
    "start_time": "2022-11-23T21:42:51.037Z"
   },
   {
    "duration": 723,
    "start_time": "2022-11-23T21:50:34.601Z"
   },
   {
    "duration": 6,
    "start_time": "2022-11-23T21:51:20.402Z"
   },
   {
    "duration": 2257,
    "start_time": "2022-11-23T21:51:20.411Z"
   },
   {
    "duration": 8,
    "start_time": "2022-11-23T21:51:22.669Z"
   },
   {
    "duration": 37,
    "start_time": "2022-11-23T21:51:22.678Z"
   },
   {
    "duration": 30,
    "start_time": "2022-11-23T21:51:22.717Z"
   },
   {
    "duration": 3611,
    "start_time": "2022-11-23T21:51:38.182Z"
   },
   {
    "duration": 3339,
    "start_time": "2022-11-23T21:51:41.794Z"
   },
   {
    "duration": 12,
    "start_time": "2022-11-23T21:51:45.134Z"
   },
   {
    "duration": 39,
    "start_time": "2022-11-23T21:51:45.149Z"
   },
   {
    "duration": 55,
    "start_time": "2022-11-23T21:51:45.190Z"
   },
   {
    "duration": 2233,
    "start_time": "2022-11-23T21:51:45.246Z"
   },
   {
    "duration": 7,
    "start_time": "2022-11-23T21:51:47.481Z"
   },
   {
    "duration": 11,
    "start_time": "2022-11-23T21:51:47.490Z"
   },
   {
    "duration": 958,
    "start_time": "2022-11-23T21:51:47.502Z"
   },
   {
    "duration": 753,
    "start_time": "2022-11-23T21:51:48.463Z"
   },
   {
    "duration": 178,
    "start_time": "2022-11-23T21:51:49.218Z"
   },
   {
    "duration": 0,
    "start_time": "2022-11-23T21:51:49.397Z"
   },
   {
    "duration": 0,
    "start_time": "2022-11-23T21:51:49.399Z"
   },
   {
    "duration": 0,
    "start_time": "2022-11-23T21:51:49.400Z"
   },
   {
    "duration": 0,
    "start_time": "2022-11-23T21:51:49.401Z"
   },
   {
    "duration": 0,
    "start_time": "2022-11-23T21:51:49.403Z"
   },
   {
    "duration": 0,
    "start_time": "2022-11-23T21:51:49.403Z"
   },
   {
    "duration": 0,
    "start_time": "2022-11-23T21:51:49.426Z"
   },
   {
    "duration": 0,
    "start_time": "2022-11-23T21:51:49.427Z"
   },
   {
    "duration": 0,
    "start_time": "2022-11-23T21:51:49.428Z"
   },
   {
    "duration": 0,
    "start_time": "2022-11-23T21:51:49.429Z"
   },
   {
    "duration": 0,
    "start_time": "2022-11-23T21:51:49.431Z"
   },
   {
    "duration": 0,
    "start_time": "2022-11-23T21:51:49.432Z"
   },
   {
    "duration": 0,
    "start_time": "2022-11-23T21:51:49.433Z"
   },
   {
    "duration": 0,
    "start_time": "2022-11-23T21:51:49.434Z"
   },
   {
    "duration": 0,
    "start_time": "2022-11-23T21:51:49.435Z"
   },
   {
    "duration": 215,
    "start_time": "2022-11-23T21:52:08.101Z"
   },
   {
    "duration": 14,
    "start_time": "2022-11-23T21:52:11.780Z"
   },
   {
    "duration": 4,
    "start_time": "2022-11-23T21:53:24.714Z"
   },
   {
    "duration": 12,
    "start_time": "2022-11-23T21:53:26.762Z"
   },
   {
    "duration": 15,
    "start_time": "2022-11-23T21:53:33.008Z"
   },
   {
    "duration": 4,
    "start_time": "2022-11-23T21:53:45.844Z"
   },
   {
    "duration": 11,
    "start_time": "2022-11-23T21:53:51.132Z"
   },
   {
    "duration": 5,
    "start_time": "2022-11-23T21:54:04.062Z"
   },
   {
    "duration": 2260,
    "start_time": "2022-11-23T21:54:04.068Z"
   },
   {
    "duration": 9,
    "start_time": "2022-11-23T21:54:06.329Z"
   },
   {
    "duration": 42,
    "start_time": "2022-11-23T21:54:06.340Z"
   },
   {
    "duration": 29,
    "start_time": "2022-11-23T21:54:06.384Z"
   },
   {
    "duration": 3660,
    "start_time": "2022-11-23T21:54:18.886Z"
   },
   {
    "duration": 3308,
    "start_time": "2022-11-23T21:54:22.548Z"
   },
   {
    "duration": 11,
    "start_time": "2022-11-23T21:54:25.858Z"
   },
   {
    "duration": 34,
    "start_time": "2022-11-23T21:54:25.870Z"
   },
   {
    "duration": 30,
    "start_time": "2022-11-23T21:54:25.906Z"
   },
   {
    "duration": 2243,
    "start_time": "2022-11-23T21:54:25.938Z"
   },
   {
    "duration": 7,
    "start_time": "2022-11-23T21:54:28.183Z"
   },
   {
    "duration": 6,
    "start_time": "2022-11-23T21:54:28.191Z"
   },
   {
    "duration": 938,
    "start_time": "2022-11-23T21:54:28.198Z"
   },
   {
    "duration": 3,
    "start_time": "2022-11-23T21:54:29.138Z"
   },
   {
    "duration": 166,
    "start_time": "2022-11-23T21:54:29.142Z"
   },
   {
    "duration": 6921,
    "start_time": "2022-11-23T21:54:29.309Z"
   },
   {
    "duration": 2,
    "start_time": "2022-11-23T21:54:36.232Z"
   },
   {
    "duration": 11,
    "start_time": "2022-11-23T21:54:36.237Z"
   },
   {
    "duration": 6,
    "start_time": "2022-11-23T21:54:36.249Z"
   },
   {
    "duration": 2955,
    "start_time": "2022-11-23T21:54:36.256Z"
   },
   {
    "duration": 0,
    "start_time": "2022-11-23T21:54:39.213Z"
   },
   {
    "duration": 0,
    "start_time": "2022-11-23T21:54:39.214Z"
   },
   {
    "duration": 0,
    "start_time": "2022-11-23T21:54:39.215Z"
   },
   {
    "duration": 0,
    "start_time": "2022-11-23T21:54:39.216Z"
   },
   {
    "duration": 0,
    "start_time": "2022-11-23T21:54:39.227Z"
   },
   {
    "duration": 0,
    "start_time": "2022-11-23T21:54:39.228Z"
   },
   {
    "duration": 0,
    "start_time": "2022-11-23T21:54:39.229Z"
   },
   {
    "duration": 0,
    "start_time": "2022-11-23T21:54:39.230Z"
   },
   {
    "duration": 0,
    "start_time": "2022-11-23T21:54:39.231Z"
   },
   {
    "duration": 0,
    "start_time": "2022-11-23T21:54:39.232Z"
   },
   {
    "duration": 25,
    "start_time": "2022-11-23T21:54:51.867Z"
   },
   {
    "duration": 73,
    "start_time": "2022-11-23T21:56:17.089Z"
   },
   {
    "duration": 3688,
    "start_time": "2022-11-23T21:56:31.280Z"
   },
   {
    "duration": 3320,
    "start_time": "2022-11-23T21:56:34.970Z"
   },
   {
    "duration": 12,
    "start_time": "2022-11-23T21:56:38.292Z"
   },
   {
    "duration": 16,
    "start_time": "2022-11-23T21:56:38.306Z"
   },
   {
    "duration": 10,
    "start_time": "2022-11-23T21:56:38.325Z"
   },
   {
    "duration": 48,
    "start_time": "2022-11-23T21:56:38.337Z"
   },
   {
    "duration": 166,
    "start_time": "2022-11-23T21:56:45.780Z"
   },
   {
    "duration": 3,
    "start_time": "2022-11-23T21:56:49.119Z"
   },
   {
    "duration": 3,
    "start_time": "2022-11-23T21:56:50.756Z"
   },
   {
    "duration": 891,
    "start_time": "2022-11-23T21:56:55.256Z"
   },
   {
    "duration": 717,
    "start_time": "2022-11-23T21:57:21.583Z"
   },
   {
    "duration": 4,
    "start_time": "2022-11-23T21:57:30.520Z"
   },
   {
    "duration": 4,
    "start_time": "2022-11-23T21:57:37.702Z"
   },
   {
    "duration": 701,
    "start_time": "2022-11-23T21:57:45.899Z"
   },
   {
    "duration": 4,
    "start_time": "2022-11-23T21:57:50.054Z"
   },
   {
    "duration": 5357,
    "start_time": "2022-11-24T14:35:08.861Z"
   },
   {
    "duration": 771,
    "start_time": "2022-11-24T14:35:14.220Z"
   },
   {
    "duration": 12,
    "start_time": "2022-11-24T14:35:14.992Z"
   },
   {
    "duration": 26,
    "start_time": "2022-11-24T14:35:15.007Z"
   },
   {
    "duration": 23,
    "start_time": "2022-11-24T14:35:15.035Z"
   },
   {
    "duration": 54,
    "start_time": "2022-11-24T14:35:15.060Z"
   },
   {
    "duration": 7,
    "start_time": "2022-11-24T14:35:15.115Z"
   },
   {
    "duration": 17,
    "start_time": "2022-11-24T14:35:15.123Z"
   },
   {
    "duration": 715,
    "start_time": "2022-11-24T14:35:15.142Z"
   },
   {
    "duration": 1322469,
    "start_time": "2022-11-24T14:35:15.860Z"
   },
   {
    "duration": 26,
    "start_time": "2022-11-24T14:57:18.332Z"
   },
   {
    "duration": 20,
    "start_time": "2022-11-24T14:57:18.359Z"
   },
   {
    "duration": 217,
    "start_time": "2022-11-24T14:57:18.381Z"
   },
   {
    "duration": 97,
    "start_time": "2022-11-24T14:57:18.600Z"
   },
   {
    "duration": 2,
    "start_time": "2022-11-24T14:57:18.699Z"
   },
   {
    "duration": 7,
    "start_time": "2022-11-24T14:57:18.702Z"
   },
   {
    "duration": 7,
    "start_time": "2022-11-24T14:57:18.710Z"
   },
   {
    "duration": 112,
    "start_time": "2022-11-24T14:57:18.719Z"
   },
   {
    "duration": 3,
    "start_time": "2022-11-24T14:57:18.832Z"
   },
   {
    "duration": 10,
    "start_time": "2022-11-24T14:57:18.837Z"
   },
   {
    "duration": 6,
    "start_time": "2022-11-24T14:57:18.848Z"
   },
   {
    "duration": 6,
    "start_time": "2022-11-24T14:57:18.855Z"
   },
   {
    "duration": 227,
    "start_time": "2022-11-24T14:57:18.863Z"
   },
   {
    "duration": 2,
    "start_time": "2022-11-24T14:57:19.092Z"
   },
   {
    "duration": 83,
    "start_time": "2022-11-24T14:57:19.095Z"
   },
   {
    "duration": 2672,
    "start_time": "2022-11-24T14:57:19.180Z"
   },
   {
    "duration": 3286,
    "start_time": "2022-11-24T14:57:21.854Z"
   },
   {
    "duration": 361,
    "start_time": "2022-11-24T14:57:25.143Z"
   },
   {
    "duration": 3239,
    "start_time": "2022-11-24T15:37:41.420Z"
   },
   {
    "duration": 766,
    "start_time": "2022-11-24T15:37:44.661Z"
   },
   {
    "duration": 15,
    "start_time": "2022-11-24T15:37:45.429Z"
   },
   {
    "duration": 42,
    "start_time": "2022-11-24T15:37:45.446Z"
   },
   {
    "duration": 45,
    "start_time": "2022-11-24T15:37:45.490Z"
   },
   {
    "duration": 2117,
    "start_time": "2022-11-24T15:37:45.537Z"
   },
   {
    "duration": 17,
    "start_time": "2022-11-24T15:37:47.656Z"
   },
   {
    "duration": 14,
    "start_time": "2022-11-24T15:37:47.675Z"
   },
   {
    "duration": 873,
    "start_time": "2022-11-24T15:37:47.691Z"
   },
   {
    "duration": 6842108,
    "start_time": "2022-11-24T15:37:48.567Z"
   },
   {
    "duration": 0,
    "start_time": "2022-11-24T17:31:50.676Z"
   },
   {
    "duration": 0,
    "start_time": "2022-11-24T17:31:50.677Z"
   },
   {
    "duration": 0,
    "start_time": "2022-11-24T17:31:50.678Z"
   },
   {
    "duration": 0,
    "start_time": "2022-11-24T17:31:50.679Z"
   },
   {
    "duration": 0,
    "start_time": "2022-11-24T17:31:50.680Z"
   },
   {
    "duration": 1,
    "start_time": "2022-11-24T17:31:50.681Z"
   },
   {
    "duration": 0,
    "start_time": "2022-11-24T17:31:50.682Z"
   },
   {
    "duration": 0,
    "start_time": "2022-11-24T17:31:50.683Z"
   },
   {
    "duration": 0,
    "start_time": "2022-11-24T17:31:50.684Z"
   },
   {
    "duration": 0,
    "start_time": "2022-11-24T17:31:50.685Z"
   },
   {
    "duration": 0,
    "start_time": "2022-11-24T17:31:50.686Z"
   },
   {
    "duration": 0,
    "start_time": "2022-11-24T17:31:50.687Z"
   },
   {
    "duration": 0,
    "start_time": "2022-11-24T17:31:50.688Z"
   },
   {
    "duration": 0,
    "start_time": "2022-11-24T17:31:50.689Z"
   },
   {
    "duration": 0,
    "start_time": "2022-11-24T17:31:50.690Z"
   },
   {
    "duration": 0,
    "start_time": "2022-11-24T17:31:50.691Z"
   },
   {
    "duration": 0,
    "start_time": "2022-11-24T17:31:50.692Z"
   },
   {
    "duration": 4,
    "start_time": "2022-11-24T17:32:27.641Z"
   },
   {
    "duration": 4,
    "start_time": "2022-11-24T17:33:50.242Z"
   },
   {
    "duration": 11,
    "start_time": "2022-11-24T17:34:05.276Z"
   },
   {
    "duration": 1297,
    "start_time": "2022-11-24T17:34:14.346Z"
   },
   {
    "duration": 11,
    "start_time": "2022-11-24T17:38:49.121Z"
   },
   {
    "duration": 3,
    "start_time": "2022-11-24T17:39:57.916Z"
   },
   {
    "duration": 114,
    "start_time": "2022-11-24T17:40:00.311Z"
   },
   {
    "duration": 20287,
    "start_time": "2022-11-24T17:40:06.875Z"
   },
   {
    "duration": 24,
    "start_time": "2022-11-24T17:47:15.255Z"
   },
   {
    "duration": 187,
    "start_time": "2022-11-24T17:47:23.559Z"
   },
   {
    "duration": 6663,
    "start_time": "2022-11-24T17:47:48.273Z"
   },
   {
    "duration": 6,
    "start_time": "2022-11-24T17:49:24.743Z"
   },
   {
    "duration": 2,
    "start_time": "2022-11-24T17:49:28.076Z"
   },
   {
    "duration": 6505,
    "start_time": "2022-11-24T17:50:23.165Z"
   },
   {
    "duration": 3,
    "start_time": "2022-11-24T17:50:31.231Z"
   },
   {
    "duration": 5,
    "start_time": "2022-11-24T17:50:35.360Z"
   },
   {
    "duration": 4,
    "start_time": "2022-11-24T17:50:37.320Z"
   },
   {
    "duration": 3,
    "start_time": "2022-11-24T17:51:09.638Z"
   },
   {
    "duration": 4,
    "start_time": "2022-11-24T17:51:22.983Z"
   },
   {
    "duration": 11,
    "start_time": "2022-11-24T17:51:43.678Z"
   },
   {
    "duration": 116,
    "start_time": "2022-11-24T17:52:11.439Z"
   },
   {
    "duration": 83,
    "start_time": "2022-11-24T17:52:19.872Z"
   },
   {
    "duration": 84,
    "start_time": "2022-11-24T17:52:26.505Z"
   },
   {
    "duration": 3,
    "start_time": "2022-11-24T17:52:31.858Z"
   },
   {
    "duration": 4,
    "start_time": "2022-11-24T17:52:33.813Z"
   },
   {
    "duration": 4087,
    "start_time": "2022-11-24T17:55:15.808Z"
   },
   {
    "duration": 3222,
    "start_time": "2022-11-24T17:55:19.897Z"
   },
   {
    "duration": 10,
    "start_time": "2022-11-24T17:55:23.121Z"
   },
   {
    "duration": 33,
    "start_time": "2022-11-24T17:55:23.133Z"
   },
   {
    "duration": 27,
    "start_time": "2022-11-24T17:55:23.168Z"
   },
   {
    "duration": 2085,
    "start_time": "2022-11-24T17:55:23.197Z"
   },
   {
    "duration": 10,
    "start_time": "2022-11-24T17:55:25.283Z"
   },
   {
    "duration": 13,
    "start_time": "2022-11-24T17:55:25.295Z"
   },
   {
    "duration": 839,
    "start_time": "2022-11-24T17:55:25.309Z"
   },
   {
    "duration": 3,
    "start_time": "2022-11-24T17:55:26.152Z"
   },
   {
    "duration": 21584,
    "start_time": "2022-11-24T17:55:26.156Z"
   },
   {
    "duration": 22,
    "start_time": "2022-11-24T17:55:47.742Z"
   },
   {
    "duration": 157,
    "start_time": "2022-11-24T17:55:47.766Z"
   },
   {
    "duration": 6687,
    "start_time": "2022-11-24T17:55:47.925Z"
   },
   {
    "duration": 2,
    "start_time": "2022-11-24T17:55:54.614Z"
   },
   {
    "duration": 3,
    "start_time": "2022-11-24T17:55:54.626Z"
   },
   {
    "duration": 8,
    "start_time": "2022-11-24T17:55:54.630Z"
   },
   {
    "duration": 7069,
    "start_time": "2022-11-24T17:55:54.639Z"
   },
   {
    "duration": 3,
    "start_time": "2022-11-24T17:56:01.710Z"
   },
   {
    "duration": 15,
    "start_time": "2022-11-24T17:56:01.714Z"
   },
   {
    "duration": 9,
    "start_time": "2022-11-24T17:56:01.731Z"
   },
   {
    "duration": 7,
    "start_time": "2022-11-24T17:56:01.741Z"
   },
   {
    "duration": 47,
    "start_time": "2022-11-24T18:00:10.411Z"
   },
   {
    "duration": 3401,
    "start_time": "2022-11-24T18:00:23.924Z"
   },
   {
    "duration": 3247,
    "start_time": "2022-11-24T18:00:27.328Z"
   },
   {
    "duration": 10,
    "start_time": "2022-11-24T18:00:30.579Z"
   },
   {
    "duration": 51,
    "start_time": "2022-11-24T18:00:30.591Z"
   },
   {
    "duration": 36,
    "start_time": "2022-11-24T18:00:30.644Z"
   },
   {
    "duration": 2109,
    "start_time": "2022-11-24T18:00:30.681Z"
   },
   {
    "duration": 15,
    "start_time": "2022-11-24T18:00:32.791Z"
   },
   {
    "duration": 13,
    "start_time": "2022-11-24T18:00:32.808Z"
   },
   {
    "duration": 813,
    "start_time": "2022-11-24T18:00:32.823Z"
   },
   {
    "duration": 3,
    "start_time": "2022-11-24T18:00:33.638Z"
   },
   {
    "duration": 21995,
    "start_time": "2022-11-24T18:00:33.642Z"
   },
   {
    "duration": 4,
    "start_time": "2022-11-24T18:00:55.639Z"
   },
   {
    "duration": 5,
    "start_time": "2022-11-24T18:02:18.782Z"
   },
   {
    "duration": 2880,
    "start_time": "2022-11-24T18:02:18.789Z"
   },
   {
    "duration": 7,
    "start_time": "2022-11-24T18:02:21.671Z"
   },
   {
    "duration": 40,
    "start_time": "2022-11-24T18:02:21.681Z"
   },
   {
    "duration": 28,
    "start_time": "2022-11-24T18:02:21.723Z"
   },
   {
    "duration": 3310,
    "start_time": "2022-11-24T18:02:46.550Z"
   },
   {
    "duration": 3226,
    "start_time": "2022-11-24T18:02:49.862Z"
   },
   {
    "duration": 11,
    "start_time": "2022-11-24T18:02:53.090Z"
   },
   {
    "duration": 39,
    "start_time": "2022-11-24T18:02:53.102Z"
   },
   {
    "duration": 28,
    "start_time": "2022-11-24T18:02:53.143Z"
   },
   {
    "duration": 2123,
    "start_time": "2022-11-24T18:02:53.173Z"
   },
   {
    "duration": 2,
    "start_time": "2022-11-24T18:02:55.298Z"
   },
   {
    "duration": 6,
    "start_time": "2022-11-24T18:02:55.302Z"
   },
   {
    "duration": 861,
    "start_time": "2022-11-24T18:02:55.309Z"
   },
   {
    "duration": 2,
    "start_time": "2022-11-24T18:02:56.172Z"
   },
   {
    "duration": 1436,
    "start_time": "2022-11-24T18:02:56.176Z"
   },
   {
    "duration": 0,
    "start_time": "2022-11-24T18:02:57.613Z"
   },
   {
    "duration": 20435,
    "start_time": "2022-11-24T18:03:18.850Z"
   },
   {
    "duration": 6,
    "start_time": "2022-11-24T18:03:45.438Z"
   },
   {
    "duration": 5,
    "start_time": "2022-11-24T18:04:00.566Z"
   },
   {
    "duration": 82,
    "start_time": "2022-11-24T18:13:21.756Z"
   },
   {
    "duration": 11,
    "start_time": "2022-11-24T18:13:25.229Z"
   },
   {
    "duration": 3612,
    "start_time": "2022-11-24T18:14:13.251Z"
   },
   {
    "duration": 2956,
    "start_time": "2022-11-24T18:14:16.865Z"
   },
   {
    "duration": 11,
    "start_time": "2022-11-24T18:14:19.823Z"
   },
   {
    "duration": 12,
    "start_time": "2022-11-24T18:14:19.837Z"
   },
   {
    "duration": 99,
    "start_time": "2022-11-24T18:14:19.851Z"
   },
   {
    "duration": 4,
    "start_time": "2022-11-24T18:14:19.952Z"
   },
   {
    "duration": 5,
    "start_time": "2022-11-24T18:14:19.958Z"
   },
   {
    "duration": 692,
    "start_time": "2022-11-24T18:14:19.965Z"
   },
   {
    "duration": 155,
    "start_time": "2022-11-24T18:14:20.659Z"
   },
   {
    "duration": 359,
    "start_time": "2022-11-24T18:14:20.817Z"
   },
   {
    "duration": 3,
    "start_time": "2022-11-24T18:14:21.178Z"
   },
   {
    "duration": 7,
    "start_time": "2022-11-24T18:14:21.182Z"
   },
   {
    "duration": 6,
    "start_time": "2022-11-24T18:14:21.190Z"
   },
   {
    "duration": 247,
    "start_time": "2022-11-24T18:14:21.197Z"
   },
   {
    "duration": 4,
    "start_time": "2022-11-24T18:14:21.445Z"
   },
   {
    "duration": 7,
    "start_time": "2022-11-24T18:14:21.450Z"
   },
   {
    "duration": 5,
    "start_time": "2022-11-24T18:14:21.458Z"
   },
   {
    "duration": 5,
    "start_time": "2022-11-24T18:14:21.465Z"
   },
   {
    "duration": 9,
    "start_time": "2022-11-24T18:14:21.472Z"
   },
   {
    "duration": 5,
    "start_time": "2022-11-24T18:14:21.482Z"
   },
   {
    "duration": 183,
    "start_time": "2022-11-24T18:14:21.489Z"
   },
   {
    "duration": 97,
    "start_time": "2022-11-24T18:14:21.674Z"
   },
   {
    "duration": 774,
    "start_time": "2022-11-24T18:15:15.833Z"
   },
   {
    "duration": 3180,
    "start_time": "2022-11-24T18:15:22.881Z"
   },
   {
    "duration": 784,
    "start_time": "2022-11-24T18:15:26.063Z"
   },
   {
    "duration": 12,
    "start_time": "2022-11-24T18:15:26.848Z"
   },
   {
    "duration": 36,
    "start_time": "2022-11-24T18:15:26.862Z"
   },
   {
    "duration": 2166,
    "start_time": "2022-11-24T18:15:26.900Z"
   },
   {
    "duration": 14,
    "start_time": "2022-11-24T18:15:29.067Z"
   },
   {
    "duration": 9,
    "start_time": "2022-11-24T18:15:29.082Z"
   },
   {
    "duration": 903,
    "start_time": "2022-11-24T18:15:29.093Z"
   },
   {
    "duration": 238,
    "start_time": "2022-11-24T18:15:29.998Z"
   },
   {
    "duration": 7370,
    "start_time": "2022-11-24T18:15:30.238Z"
   },
   {
    "duration": 2,
    "start_time": "2022-11-24T18:15:37.610Z"
   },
   {
    "duration": 13,
    "start_time": "2022-11-24T18:15:37.614Z"
   },
   {
    "duration": 4,
    "start_time": "2022-11-24T18:15:37.628Z"
   },
   {
    "duration": 7112,
    "start_time": "2022-11-24T18:15:37.633Z"
   },
   {
    "duration": 3,
    "start_time": "2022-11-24T18:15:44.746Z"
   },
   {
    "duration": 8,
    "start_time": "2022-11-24T18:15:44.751Z"
   },
   {
    "duration": 20,
    "start_time": "2022-11-24T18:15:44.761Z"
   },
   {
    "duration": 23,
    "start_time": "2022-11-24T18:15:44.782Z"
   },
   {
    "duration": 117,
    "start_time": "2022-11-24T18:15:44.807Z"
   },
   {
    "duration": 48,
    "start_time": "2022-11-24T18:15:44.925Z"
   },
   {
    "duration": 2180,
    "start_time": "2022-11-24T18:15:44.975Z"
   },
   {
    "duration": 2343,
    "start_time": "2022-11-24T18:15:47.158Z"
   },
   {
    "duration": 3154,
    "start_time": "2022-11-24T18:16:20.817Z"
   },
   {
    "duration": 3132,
    "start_time": "2022-11-24T18:16:23.974Z"
   },
   {
    "duration": 12,
    "start_time": "2022-11-24T18:16:27.108Z"
   },
   {
    "duration": 36,
    "start_time": "2022-11-24T18:16:27.122Z"
   },
   {
    "duration": 2151,
    "start_time": "2022-11-24T18:16:27.160Z"
   },
   {
    "duration": 5,
    "start_time": "2022-11-24T18:16:29.313Z"
   },
   {
    "duration": 11,
    "start_time": "2022-11-24T18:16:29.327Z"
   },
   {
    "duration": 857,
    "start_time": "2022-11-24T18:16:29.339Z"
   },
   {
    "duration": 3,
    "start_time": "2022-11-24T18:16:30.198Z"
   },
   {
    "duration": 270,
    "start_time": "2022-11-24T18:16:30.204Z"
   },
   {
    "duration": 7495,
    "start_time": "2022-11-24T18:16:30.476Z"
   },
   {
    "duration": 3,
    "start_time": "2022-11-24T18:16:37.973Z"
   },
   {
    "duration": 13,
    "start_time": "2022-11-24T18:16:37.977Z"
   },
   {
    "duration": 21,
    "start_time": "2022-11-24T18:16:37.992Z"
   },
   {
    "duration": 7366,
    "start_time": "2022-11-24T18:16:38.015Z"
   },
   {
    "duration": 4,
    "start_time": "2022-11-24T18:16:45.383Z"
   },
   {
    "duration": 5,
    "start_time": "2022-11-24T18:16:45.389Z"
   },
   {
    "duration": 7,
    "start_time": "2022-11-24T18:16:45.396Z"
   },
   {
    "duration": 22,
    "start_time": "2022-11-24T18:16:45.405Z"
   },
   {
    "duration": 122,
    "start_time": "2022-11-24T18:16:45.429Z"
   },
   {
    "duration": 58,
    "start_time": "2022-11-24T18:16:45.553Z"
   },
   {
    "duration": 2777,
    "start_time": "2022-11-24T18:16:45.613Z"
   },
   {
    "duration": 2799,
    "start_time": "2022-11-24T18:16:48.392Z"
   },
   {
    "duration": 109,
    "start_time": "2022-11-24T18:17:14.274Z"
   },
   {
    "duration": 3639,
    "start_time": "2022-11-24T18:17:59.927Z"
   },
   {
    "duration": 2948,
    "start_time": "2022-11-24T18:18:03.568Z"
   },
   {
    "duration": 11,
    "start_time": "2022-11-24T18:18:06.518Z"
   },
   {
    "duration": 33,
    "start_time": "2022-11-24T18:18:06.532Z"
   },
   {
    "duration": 2083,
    "start_time": "2022-11-24T18:18:06.567Z"
   },
   {
    "duration": 4,
    "start_time": "2022-11-24T18:18:08.652Z"
   },
   {
    "duration": 11,
    "start_time": "2022-11-24T18:18:08.658Z"
   },
   {
    "duration": 865,
    "start_time": "2022-11-24T18:18:08.671Z"
   },
   {
    "duration": 3,
    "start_time": "2022-11-24T18:18:09.539Z"
   },
   {
    "duration": 158,
    "start_time": "2022-11-24T18:18:09.546Z"
   },
   {
    "duration": 7183,
    "start_time": "2022-11-24T18:18:09.706Z"
   },
   {
    "duration": 3,
    "start_time": "2022-11-24T18:18:16.891Z"
   },
   {
    "duration": 8,
    "start_time": "2022-11-24T18:18:16.895Z"
   },
   {
    "duration": 5,
    "start_time": "2022-11-24T18:18:16.904Z"
   },
   {
    "duration": 7039,
    "start_time": "2022-11-24T18:18:16.911Z"
   },
   {
    "duration": 3,
    "start_time": "2022-11-24T18:18:23.952Z"
   },
   {
    "duration": 8,
    "start_time": "2022-11-24T18:18:23.956Z"
   },
   {
    "duration": 9,
    "start_time": "2022-11-24T18:18:23.965Z"
   },
   {
    "duration": 6,
    "start_time": "2022-11-24T18:18:23.975Z"
   },
   {
    "duration": 131,
    "start_time": "2022-11-24T18:18:23.983Z"
   },
   {
    "duration": 62,
    "start_time": "2022-11-24T18:18:24.116Z"
   },
   {
    "duration": 20954,
    "start_time": "2022-11-24T18:18:24.180Z"
   },
   {
    "duration": 23391,
    "start_time": "2022-11-24T18:18:45.136Z"
   },
   {
    "duration": 3112,
    "start_time": "2022-11-24T18:20:45.484Z"
   },
   {
    "duration": 3075,
    "start_time": "2022-11-24T18:20:48.598Z"
   },
   {
    "duration": 11,
    "start_time": "2022-11-24T18:20:51.674Z"
   },
   {
    "duration": 33,
    "start_time": "2022-11-24T18:20:51.686Z"
   },
   {
    "duration": 2189,
    "start_time": "2022-11-24T18:20:51.720Z"
   },
   {
    "duration": 13,
    "start_time": "2022-11-24T18:20:53.911Z"
   },
   {
    "duration": 10,
    "start_time": "2022-11-24T18:20:53.926Z"
   },
   {
    "duration": 864,
    "start_time": "2022-11-24T18:20:53.938Z"
   },
   {
    "duration": 3,
    "start_time": "2022-11-24T18:20:54.804Z"
   },
   {
    "duration": 227,
    "start_time": "2022-11-24T18:20:54.810Z"
   },
   {
    "duration": 7194,
    "start_time": "2022-11-24T18:20:55.039Z"
   },
   {
    "duration": 2,
    "start_time": "2022-11-24T18:21:02.235Z"
   },
   {
    "duration": 33,
    "start_time": "2022-11-24T18:21:02.239Z"
   },
   {
    "duration": 36,
    "start_time": "2022-11-24T18:21:02.274Z"
   },
   {
    "duration": 6929,
    "start_time": "2022-11-24T18:21:02.312Z"
   },
   {
    "duration": 4,
    "start_time": "2022-11-24T18:21:09.243Z"
   },
   {
    "duration": 7,
    "start_time": "2022-11-24T18:21:09.249Z"
   },
   {
    "duration": 5,
    "start_time": "2022-11-24T18:21:09.258Z"
   },
   {
    "duration": 7,
    "start_time": "2022-11-24T18:21:09.264Z"
   },
   {
    "duration": 192,
    "start_time": "2022-11-24T18:21:09.273Z"
   },
   {
    "duration": 81,
    "start_time": "2022-11-24T18:21:09.467Z"
   },
   {
    "duration": 62902,
    "start_time": "2022-11-24T18:21:09.550Z"
   },
   {
    "duration": 63983,
    "start_time": "2022-11-24T18:22:12.454Z"
   },
   {
    "duration": 3508,
    "start_time": "2022-11-24T18:33:54.119Z"
   },
   {
    "duration": 3209,
    "start_time": "2022-11-24T18:33:57.629Z"
   },
   {
    "duration": 11,
    "start_time": "2022-11-24T18:34:00.840Z"
   },
   {
    "duration": 36,
    "start_time": "2022-11-24T18:34:00.853Z"
   },
   {
    "duration": 3515,
    "start_time": "2022-11-24T18:37:44.438Z"
   },
   {
    "duration": 3213,
    "start_time": "2022-11-24T18:37:47.955Z"
   },
   {
    "duration": 9,
    "start_time": "2022-11-24T18:37:51.170Z"
   },
   {
    "duration": 33,
    "start_time": "2022-11-24T18:37:51.181Z"
   },
   {
    "duration": 91,
    "start_time": "2022-11-27T15:23:53.026Z"
   },
   {
    "duration": 5534,
    "start_time": "2022-11-27T15:25:41.902Z"
   },
   {
    "duration": 817,
    "start_time": "2022-11-27T15:25:47.439Z"
   },
   {
    "duration": 4,
    "start_time": "2022-11-27T15:25:48.258Z"
   },
   {
    "duration": 8,
    "start_time": "2022-11-27T15:25:48.264Z"
   },
   {
    "duration": 397,
    "start_time": "2022-11-27T15:25:48.273Z"
   },
   {
    "duration": 0,
    "start_time": "2022-11-27T15:25:48.672Z"
   },
   {
    "duration": 0,
    "start_time": "2022-11-27T15:25:48.673Z"
   },
   {
    "duration": 0,
    "start_time": "2022-11-27T15:25:48.674Z"
   },
   {
    "duration": 0,
    "start_time": "2022-11-27T15:25:48.675Z"
   },
   {
    "duration": 0,
    "start_time": "2022-11-27T15:25:48.677Z"
   },
   {
    "duration": 0,
    "start_time": "2022-11-27T15:25:48.679Z"
   },
   {
    "duration": 0,
    "start_time": "2022-11-27T15:25:48.681Z"
   },
   {
    "duration": 0,
    "start_time": "2022-11-27T15:25:48.682Z"
   },
   {
    "duration": 0,
    "start_time": "2022-11-27T15:25:48.684Z"
   },
   {
    "duration": 0,
    "start_time": "2022-11-27T15:25:48.685Z"
   },
   {
    "duration": 0,
    "start_time": "2022-11-27T15:25:48.687Z"
   },
   {
    "duration": 0,
    "start_time": "2022-11-27T15:25:48.688Z"
   },
   {
    "duration": 1,
    "start_time": "2022-11-27T15:25:48.689Z"
   },
   {
    "duration": 0,
    "start_time": "2022-11-27T15:25:48.691Z"
   },
   {
    "duration": 0,
    "start_time": "2022-11-27T15:25:48.692Z"
   },
   {
    "duration": 0,
    "start_time": "2022-11-27T15:25:48.694Z"
   },
   {
    "duration": 0,
    "start_time": "2022-11-27T15:25:48.696Z"
   },
   {
    "duration": 0,
    "start_time": "2022-11-27T15:25:48.697Z"
   },
   {
    "duration": 0,
    "start_time": "2022-11-27T15:25:48.699Z"
   },
   {
    "duration": 0,
    "start_time": "2022-11-27T15:25:48.700Z"
   },
   {
    "duration": 0,
    "start_time": "2022-11-27T15:25:48.702Z"
   },
   {
    "duration": 0,
    "start_time": "2022-11-27T15:25:48.703Z"
   },
   {
    "duration": 0,
    "start_time": "2022-11-27T15:25:48.704Z"
   },
   {
    "duration": 0,
    "start_time": "2022-11-27T15:25:48.706Z"
   },
   {
    "duration": 0,
    "start_time": "2022-11-27T15:25:48.707Z"
   },
   {
    "duration": 0,
    "start_time": "2022-11-27T15:25:48.709Z"
   },
   {
    "duration": 0,
    "start_time": "2022-11-27T15:25:48.710Z"
   },
   {
    "duration": 0,
    "start_time": "2022-11-27T15:25:48.712Z"
   },
   {
    "duration": 0,
    "start_time": "2022-11-27T15:25:48.713Z"
   },
   {
    "duration": 0,
    "start_time": "2022-11-27T15:25:48.715Z"
   },
   {
    "duration": 0,
    "start_time": "2022-11-27T15:25:48.778Z"
   },
   {
    "duration": 0,
    "start_time": "2022-11-27T15:25:48.780Z"
   },
   {
    "duration": 0,
    "start_time": "2022-11-27T15:25:48.782Z"
   },
   {
    "duration": 1,
    "start_time": "2022-11-27T15:25:48.783Z"
   },
   {
    "duration": 0,
    "start_time": "2022-11-27T15:25:48.786Z"
   },
   {
    "duration": 0,
    "start_time": "2022-11-27T15:25:48.787Z"
   },
   {
    "duration": 0,
    "start_time": "2022-11-27T15:25:48.789Z"
   },
   {
    "duration": 0,
    "start_time": "2022-11-27T15:25:48.790Z"
   },
   {
    "duration": 0,
    "start_time": "2022-11-27T15:25:48.792Z"
   },
   {
    "duration": 0,
    "start_time": "2022-11-27T15:25:48.793Z"
   },
   {
    "duration": 4249,
    "start_time": "2022-11-27T15:26:27.238Z"
   },
   {
    "duration": 198,
    "start_time": "2022-11-27T15:26:31.488Z"
   },
   {
    "duration": 4,
    "start_time": "2022-11-27T15:26:31.688Z"
   },
   {
    "duration": 11,
    "start_time": "2022-11-27T15:26:31.695Z"
   },
   {
    "duration": 3282,
    "start_time": "2022-11-27T15:26:31.709Z"
   },
   {
    "duration": 38,
    "start_time": "2022-11-27T15:26:34.993Z"
   },
   {
    "duration": 20,
    "start_time": "2022-11-27T15:26:35.033Z"
   },
   {
    "duration": 5,
    "start_time": "2022-11-27T15:26:35.055Z"
   },
   {
    "duration": 31,
    "start_time": "2022-11-27T15:26:35.078Z"
   },
   {
    "duration": 14,
    "start_time": "2022-11-27T15:26:35.112Z"
   },
   {
    "duration": 25,
    "start_time": "2022-11-27T15:26:35.128Z"
   },
   {
    "duration": 11,
    "start_time": "2022-11-27T15:26:35.156Z"
   },
   {
    "duration": 6,
    "start_time": "2022-11-27T15:26:35.169Z"
   },
   {
    "duration": 5,
    "start_time": "2022-11-27T15:26:35.178Z"
   },
   {
    "duration": 0,
    "start_time": "2022-11-27T15:26:35.185Z"
   },
   {
    "duration": 0,
    "start_time": "2022-11-27T15:26:35.186Z"
   },
   {
    "duration": 0,
    "start_time": "2022-11-27T15:26:35.188Z"
   },
   {
    "duration": 1,
    "start_time": "2022-11-27T15:26:35.189Z"
   },
   {
    "duration": 0,
    "start_time": "2022-11-27T15:26:35.191Z"
   },
   {
    "duration": 0,
    "start_time": "2022-11-27T15:26:35.193Z"
   },
   {
    "duration": 0,
    "start_time": "2022-11-27T15:26:35.194Z"
   },
   {
    "duration": 0,
    "start_time": "2022-11-27T15:26:35.196Z"
   },
   {
    "duration": 0,
    "start_time": "2022-11-27T15:26:35.197Z"
   },
   {
    "duration": 0,
    "start_time": "2022-11-27T15:26:35.199Z"
   },
   {
    "duration": 0,
    "start_time": "2022-11-27T15:26:35.207Z"
   },
   {
    "duration": 0,
    "start_time": "2022-11-27T15:26:35.209Z"
   },
   {
    "duration": 0,
    "start_time": "2022-11-27T15:26:35.210Z"
   },
   {
    "duration": 0,
    "start_time": "2022-11-27T15:26:35.211Z"
   },
   {
    "duration": 0,
    "start_time": "2022-11-27T15:26:35.213Z"
   },
   {
    "duration": 0,
    "start_time": "2022-11-27T15:26:35.213Z"
   },
   {
    "duration": 0,
    "start_time": "2022-11-27T15:26:35.215Z"
   },
   {
    "duration": 0,
    "start_time": "2022-11-27T15:26:35.216Z"
   },
   {
    "duration": 0,
    "start_time": "2022-11-27T15:26:35.218Z"
   },
   {
    "duration": 0,
    "start_time": "2022-11-27T15:26:35.219Z"
   },
   {
    "duration": 0,
    "start_time": "2022-11-27T15:26:35.279Z"
   },
   {
    "duration": 0,
    "start_time": "2022-11-27T15:26:35.281Z"
   },
   {
    "duration": 0,
    "start_time": "2022-11-27T15:26:35.282Z"
   },
   {
    "duration": 0,
    "start_time": "2022-11-27T15:26:35.283Z"
   },
   {
    "duration": 0,
    "start_time": "2022-11-27T15:26:35.284Z"
   },
   {
    "duration": 0,
    "start_time": "2022-11-27T15:26:35.285Z"
   },
   {
    "duration": 0,
    "start_time": "2022-11-27T15:26:35.286Z"
   },
   {
    "duration": 0,
    "start_time": "2022-11-27T15:26:35.288Z"
   },
   {
    "duration": 0,
    "start_time": "2022-11-27T15:26:35.289Z"
   },
   {
    "duration": 0,
    "start_time": "2022-11-27T15:26:35.291Z"
   },
   {
    "duration": 0,
    "start_time": "2022-11-27T15:26:35.293Z"
   },
   {
    "duration": 4201,
    "start_time": "2022-11-27T15:27:10.915Z"
   },
   {
    "duration": 294,
    "start_time": "2022-11-27T15:27:15.118Z"
   },
   {
    "duration": 5,
    "start_time": "2022-11-27T15:27:15.413Z"
   },
   {
    "duration": 11,
    "start_time": "2022-11-27T15:27:15.421Z"
   },
   {
    "duration": 771,
    "start_time": "2022-11-27T15:27:15.433Z"
   },
   {
    "duration": 30,
    "start_time": "2022-11-27T15:27:16.206Z"
   },
   {
    "duration": 15,
    "start_time": "2022-11-27T15:27:16.237Z"
   },
   {
    "duration": 4,
    "start_time": "2022-11-27T15:27:16.253Z"
   },
   {
    "duration": 42,
    "start_time": "2022-11-27T15:27:16.278Z"
   },
   {
    "duration": 20,
    "start_time": "2022-11-27T15:27:16.323Z"
   },
   {
    "duration": 28,
    "start_time": "2022-11-27T15:27:16.344Z"
   },
   {
    "duration": 21,
    "start_time": "2022-11-27T15:27:16.374Z"
   },
   {
    "duration": 12,
    "start_time": "2022-11-27T15:27:16.397Z"
   },
   {
    "duration": 2906,
    "start_time": "2022-11-27T15:27:16.411Z"
   },
   {
    "duration": 2,
    "start_time": "2022-11-27T15:27:19.319Z"
   },
   {
    "duration": 17,
    "start_time": "2022-11-27T15:27:19.323Z"
   },
   {
    "duration": 29,
    "start_time": "2022-11-27T15:27:19.342Z"
   },
   {
    "duration": 79,
    "start_time": "2022-11-27T15:27:19.372Z"
   },
   {
    "duration": 4,
    "start_time": "2022-11-27T15:27:19.453Z"
   },
   {
    "duration": 18,
    "start_time": "2022-11-27T15:27:19.458Z"
   },
   {
    "duration": 55,
    "start_time": "2022-11-27T15:27:19.480Z"
   },
   {
    "duration": 67,
    "start_time": "2022-11-27T15:27:19.536Z"
   },
   {
    "duration": 31,
    "start_time": "2022-11-27T15:27:19.605Z"
   },
   {
    "duration": 330957,
    "start_time": "2022-11-27T15:27:19.638Z"
   },
   {
    "duration": 12,
    "start_time": "2022-11-27T15:32:50.597Z"
   },
   {
    "duration": 30,
    "start_time": "2022-11-27T15:32:50.612Z"
   },
   {
    "duration": 251210,
    "start_time": "2022-11-27T15:32:50.644Z"
   },
   {
    "duration": 13,
    "start_time": "2022-11-27T15:37:01.857Z"
   },
   {
    "duration": 11,
    "start_time": "2022-11-27T15:37:01.878Z"
   },
   {
    "duration": 3757819,
    "start_time": "2022-11-27T15:37:01.891Z"
   },
   {
    "duration": 18,
    "start_time": "2022-11-27T16:39:39.714Z"
   },
   {
    "duration": 13,
    "start_time": "2022-11-27T16:39:39.734Z"
   },
   {
    "duration": 150390,
    "start_time": "2022-11-27T16:39:39.749Z"
   },
   {
    "duration": 12,
    "start_time": "2022-11-27T16:42:10.140Z"
   },
   {
    "duration": 40,
    "start_time": "2022-11-27T16:42:10.154Z"
   },
   {
    "duration": 35,
    "start_time": "2022-11-27T16:42:10.196Z"
   },
   {
    "duration": 894,
    "start_time": "2022-11-27T16:42:10.233Z"
   },
   {
    "duration": 23,
    "start_time": "2022-11-27T16:42:11.129Z"
   },
   {
    "duration": 42,
    "start_time": "2022-11-27T16:42:11.155Z"
   },
   {
    "duration": 28411,
    "start_time": "2022-11-27T16:42:11.199Z"
   },
   {
    "duration": 41081,
    "start_time": "2022-11-27T16:42:39.612Z"
   },
   {
    "duration": 5,
    "start_time": "2022-11-27T16:43:20.695Z"
   },
   {
    "duration": 118,
    "start_time": "2022-11-27T16:43:20.702Z"
   },
   {
    "duration": 20,
    "start_time": "2022-11-27T16:43:20.822Z"
   },
   {
    "duration": 3,
    "start_time": "2022-11-27T16:43:20.844Z"
   },
   {
    "duration": 6105,
    "start_time": "2022-12-01T17:58:44.529Z"
   },
   {
    "duration": 877,
    "start_time": "2022-12-01T17:58:50.636Z"
   },
   {
    "duration": 3,
    "start_time": "2022-12-01T17:58:51.515Z"
   },
   {
    "duration": 7,
    "start_time": "2022-12-01T17:58:51.520Z"
   },
   {
    "duration": 340,
    "start_time": "2022-12-01T17:58:51.528Z"
   },
   {
    "duration": 0,
    "start_time": "2022-12-01T17:58:51.870Z"
   },
   {
    "duration": 0,
    "start_time": "2022-12-01T17:58:51.871Z"
   },
   {
    "duration": 0,
    "start_time": "2022-12-01T17:58:51.878Z"
   },
   {
    "duration": 0,
    "start_time": "2022-12-01T17:58:51.879Z"
   },
   {
    "duration": 0,
    "start_time": "2022-12-01T17:58:51.880Z"
   },
   {
    "duration": 0,
    "start_time": "2022-12-01T17:58:51.880Z"
   },
   {
    "duration": 0,
    "start_time": "2022-12-01T17:58:51.882Z"
   },
   {
    "duration": 0,
    "start_time": "2022-12-01T17:58:51.883Z"
   },
   {
    "duration": 0,
    "start_time": "2022-12-01T17:58:51.884Z"
   },
   {
    "duration": 0,
    "start_time": "2022-12-01T17:58:51.885Z"
   },
   {
    "duration": 0,
    "start_time": "2022-12-01T17:58:51.886Z"
   },
   {
    "duration": 0,
    "start_time": "2022-12-01T17:58:51.887Z"
   },
   {
    "duration": 0,
    "start_time": "2022-12-01T17:58:51.887Z"
   },
   {
    "duration": 0,
    "start_time": "2022-12-01T17:58:51.888Z"
   },
   {
    "duration": 0,
    "start_time": "2022-12-01T17:58:51.889Z"
   },
   {
    "duration": 0,
    "start_time": "2022-12-01T17:58:51.890Z"
   },
   {
    "duration": 0,
    "start_time": "2022-12-01T17:58:51.891Z"
   },
   {
    "duration": 0,
    "start_time": "2022-12-01T17:58:51.892Z"
   },
   {
    "duration": 0,
    "start_time": "2022-12-01T17:58:51.893Z"
   },
   {
    "duration": 0,
    "start_time": "2022-12-01T17:58:51.894Z"
   },
   {
    "duration": 0,
    "start_time": "2022-12-01T17:58:51.896Z"
   },
   {
    "duration": 0,
    "start_time": "2022-12-01T17:58:51.896Z"
   },
   {
    "duration": 0,
    "start_time": "2022-12-01T17:58:51.897Z"
   },
   {
    "duration": 0,
    "start_time": "2022-12-01T17:58:51.898Z"
   },
   {
    "duration": 0,
    "start_time": "2022-12-01T17:58:51.899Z"
   },
   {
    "duration": 0,
    "start_time": "2022-12-01T17:58:51.901Z"
   },
   {
    "duration": 0,
    "start_time": "2022-12-01T17:58:51.902Z"
   },
   {
    "duration": 0,
    "start_time": "2022-12-01T17:58:51.903Z"
   },
   {
    "duration": 0,
    "start_time": "2022-12-01T17:58:51.904Z"
   },
   {
    "duration": 0,
    "start_time": "2022-12-01T17:58:51.905Z"
   },
   {
    "duration": 0,
    "start_time": "2022-12-01T17:58:51.906Z"
   }
  ],
  "kernelspec": {
   "display_name": "Python 3 (ipykernel)",
   "language": "python",
   "name": "python3"
  },
  "language_info": {
   "codemirror_mode": {
    "name": "ipython",
    "version": 3
   },
   "file_extension": ".py",
   "mimetype": "text/x-python",
   "name": "python",
   "nbconvert_exporter": "python",
   "pygments_lexer": "ipython3",
   "version": "3.9.13"
  },
  "toc": {
   "base_numbering": 1,
   "nav_menu": {},
   "number_sections": true,
   "sideBar": true,
   "skip_h1_title": true,
   "title_cell": "Содержание",
   "title_sidebar": "Содержание",
   "toc_cell": true,
   "toc_position": {
    "height": "calc(100% - 180px)",
    "left": "10px",
    "top": "150px",
    "width": "562.391px"
   },
   "toc_section_display": true,
   "toc_window_display": true
  }
 },
 "nbformat": 4,
 "nbformat_minor": 2
}
