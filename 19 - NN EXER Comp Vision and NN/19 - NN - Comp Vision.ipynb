{
 "cells": [
  {
   "cell_type": "markdown",
   "metadata": {
    "toc": true
   },
   "source": [
    "<h1>Содержание<span class=\"tocSkip\"></span></h1>\n",
    "<div class=\"toc\"><ul class=\"toc-item\"><li><span><a href=\"#Описание-и-задачи-проекта\" data-toc-modified-id=\"Описание-и-задачи-проекта-1\"><span class=\"toc-item-num\">1&nbsp;&nbsp;</span>Описание и задачи проекта</a></span></li><li><span><a href=\"#Служебные-ячейки-с-импортом-библиотек,-глобальными-переменными-и-функциями\" data-toc-modified-id=\"Служебные-ячейки-с-импортом-библиотек,-глобальными-переменными-и-функциями-2\"><span class=\"toc-item-num\">2&nbsp;&nbsp;</span>Служебные ячейки с импортом библиотек, глобальными переменными и функциями</a></span></li><li><span><a href=\"#Исследовательский-анализ-данных\" data-toc-modified-id=\"Исследовательский-анализ-данных-3\"><span class=\"toc-item-num\">3&nbsp;&nbsp;</span>Исследовательский анализ данных</a></span><ul class=\"toc-item\"><li><span><a href=\"#Загрузка-датасета-с-целевым-признаком\" data-toc-modified-id=\"Загрузка-датасета-с-целевым-признаком-3.1\"><span class=\"toc-item-num\">3.1&nbsp;&nbsp;</span>Загрузка датасета с целевым признаком</a></span></li><li><span><a href=\"#Оценка-значений-целевого-признака\" data-toc-modified-id=\"Оценка-значений-целевого-признака-3.2\"><span class=\"toc-item-num\">3.2&nbsp;&nbsp;</span>Оценка значений целевого признака</a></span></li><li><span><a href=\"#Формирование-загрузчика-и-потока-для-загрузки-изображений\" data-toc-modified-id=\"Формирование-загрузчика-и-потока-для-загрузки-изображений-3.3\"><span class=\"toc-item-num\">3.3&nbsp;&nbsp;</span>Формирование загрузчика и потока для загрузки изображений</a></span></li><li><span><a href=\"#Визуальная-оценка-корректности-возраста-объектов-(для-возраста-=-1-год)\" data-toc-modified-id=\"Визуальная-оценка-корректности-возраста-объектов-(для-возраста-=-1-год)-3.4\"><span class=\"toc-item-num\">3.4&nbsp;&nbsp;</span>Визуальная оценка корректности возраста объектов (для возраста = 1 год)</a></span></li><li><span><a href=\"#Выводы-по-исследовательскому-анализу\" data-toc-modified-id=\"Выводы-по-исследовательскому-анализу-3.5\"><span class=\"toc-item-num\">3.5&nbsp;&nbsp;</span>Выводы по исследовательскому анализу</a></span></li></ul></li><li><span><a href=\"#Обучение-модели\" data-toc-modified-id=\"Обучение-модели-4\"><span class=\"toc-item-num\">4&nbsp;&nbsp;</span>Обучение модели</a></span><ul class=\"toc-item\"><li><span><a href=\"#Исходный-код-создания-и-обучения-модели\" data-toc-modified-id=\"Исходный-код-создания-и-обучения-модели-4.1\"><span class=\"toc-item-num\">4.1&nbsp;&nbsp;</span>Исходный код создания и обучения модели</a></span></li><li><span><a href=\"#Лог-работы-кода\" data-toc-modified-id=\"Лог-работы-кода-4.2\"><span class=\"toc-item-num\">4.2&nbsp;&nbsp;</span>Лог работы кода</a></span></li></ul></li><li><span><a href=\"#Анализ-обученной-модели\" data-toc-modified-id=\"Анализ-обученной-модели-5\"><span class=\"toc-item-num\">5&nbsp;&nbsp;</span>Анализ обученной модели</a></span></li><li><span><a href=\"#Чек-лист\" data-toc-modified-id=\"Чек-лист-6\"><span class=\"toc-item-num\">6&nbsp;&nbsp;</span>Чек-лист</a></span></li></ul></div>"
   ]
  },
  {
   "cell_type": "markdown",
   "metadata": {},
   "source": [
    "# Определение возраста покупателей"
   ]
  },
  {
   "cell_type": "markdown",
   "metadata": {},
   "source": [
    "## Описание и задачи проекта"
   ]
  },
  {
   "cell_type": "markdown",
   "metadata": {},
   "source": [
    "**Описание проекта**\n",
    "\n",
    "Сетевой супермаркет «Хлеб-Соль» внедряет систему компьютерного зрения для обработки фотографий покупателей. \n",
    "\n",
    "Фотофиксация в прикассовой зоне поможет определять возраст клиентов, чтобы:\n",
    "- Анализировать покупки и предлагать товары, которые могут заинтересовать покупателей этой возрастной группы;\n",
    "- Контролировать добросовестность кассиров при продаже алкоголя.\n",
    "\n",
    "Постройте модель, которая по фотографии определит приблизительный возраст человека. \n",
    "\n",
    "В вашем распоряжении набор фотографий людей с указанием возраста.\n",
    "\n",
    "**Исходные данные**\n",
    "\n",
    "В папке path содержится csv-файл `labels.csv` с двумя колонками `file_name` и `real_age` и папка с изображениями `/final_files`.\n",
    "\n",
    "**План работы**\n",
    "\n",
    "1. Проведение исследовательского анализа набора фотографий.\n",
    "2. Подготовка данных к обучению.\n",
    "3. Постройка и обучение свёрточной нейронной сети на датасете с фотографиями людей. \n",
    "4. Подбор параметров сети для получения значения MAE на тестовой выборке не больше 8."
   ]
  },
  {
   "cell_type": "markdown",
   "metadata": {},
   "source": [
    "## Служебные ячейки с импортом библиотек, глобальными переменными и функциями"
   ]
  },
  {
   "cell_type": "code",
   "execution_count": 1,
   "metadata": {},
   "outputs": [],
   "source": [
    "# СЛУЖЕБНОЕ Импорт библиотек\n",
    "from tensorflow.keras import Sequential\n",
    "from tensorflow.keras.layers import Conv2D, Flatten, Dense, AvgPool2D\n",
    "from tensorflow.keras.optimizers import Adam\n",
    "from tensorflow.keras.preprocessing.image import ImageDataGenerator\n",
    "\n",
    "import numpy as np\n",
    "import pandas as pd\n",
    "import matplotlib.pyplot as plt"
   ]
  },
  {
   "cell_type": "code",
   "execution_count": 2,
   "metadata": {},
   "outputs": [],
   "source": [
    "# СЛУЖЕБНОЕ Глобальные переменные\n",
    "RANDOM_STATE = 3141592654\n",
    "\n",
    "DATASET_PATH = '/datasets/faces/labels.csv'\n",
    "DIR_PATH = '/datasets/faces/final_files/'"
   ]
  },
  {
   "cell_type": "markdown",
   "metadata": {},
   "source": [
    "## Исследовательский анализ данных"
   ]
  },
  {
   "cell_type": "markdown",
   "metadata": {},
   "source": [
    "### Загрузка датасета с целевым признаком"
   ]
  },
  {
   "cell_type": "code",
   "execution_count": 3,
   "metadata": {
    "scrolled": true
   },
   "outputs": [
    {
     "name": "stdout",
     "output_type": "stream",
     "text": [
      "<class 'pandas.core.frame.DataFrame'>\n",
      "RangeIndex: 7591 entries, 0 to 7590\n",
      "Data columns (total 2 columns):\n",
      " #   Column     Non-Null Count  Dtype \n",
      "---  ------     --------------  ----- \n",
      " 0   file_name  7591 non-null   object\n",
      " 1   real_age   7591 non-null   int64 \n",
      "dtypes: int64(1), object(1)\n",
      "memory usage: 118.7+ KB\n"
     ]
    },
    {
     "data": {
      "text/html": [
       "<div>\n",
       "<style scoped>\n",
       "    .dataframe tbody tr th:only-of-type {\n",
       "        vertical-align: middle;\n",
       "    }\n",
       "\n",
       "    .dataframe tbody tr th {\n",
       "        vertical-align: top;\n",
       "    }\n",
       "\n",
       "    .dataframe thead th {\n",
       "        text-align: right;\n",
       "    }\n",
       "</style>\n",
       "<table border=\"1\" class=\"dataframe\">\n",
       "  <thead>\n",
       "    <tr style=\"text-align: right;\">\n",
       "      <th></th>\n",
       "      <th>real_age</th>\n",
       "    </tr>\n",
       "  </thead>\n",
       "  <tbody>\n",
       "    <tr>\n",
       "      <th>count</th>\n",
       "      <td>7591.000000</td>\n",
       "    </tr>\n",
       "    <tr>\n",
       "      <th>mean</th>\n",
       "      <td>31.201159</td>\n",
       "    </tr>\n",
       "    <tr>\n",
       "      <th>std</th>\n",
       "      <td>17.145060</td>\n",
       "    </tr>\n",
       "    <tr>\n",
       "      <th>min</th>\n",
       "      <td>1.000000</td>\n",
       "    </tr>\n",
       "    <tr>\n",
       "      <th>25%</th>\n",
       "      <td>20.000000</td>\n",
       "    </tr>\n",
       "    <tr>\n",
       "      <th>50%</th>\n",
       "      <td>29.000000</td>\n",
       "    </tr>\n",
       "    <tr>\n",
       "      <th>75%</th>\n",
       "      <td>41.000000</td>\n",
       "    </tr>\n",
       "    <tr>\n",
       "      <th>max</th>\n",
       "      <td>100.000000</td>\n",
       "    </tr>\n",
       "  </tbody>\n",
       "</table>\n",
       "</div>"
      ],
      "text/plain": [
       "          real_age\n",
       "count  7591.000000\n",
       "mean     31.201159\n",
       "std      17.145060\n",
       "min       1.000000\n",
       "25%      20.000000\n",
       "50%      29.000000\n",
       "75%      41.000000\n",
       "max     100.000000"
      ]
     },
     "execution_count": 3,
     "metadata": {},
     "output_type": "execute_result"
    }
   ],
   "source": [
    "labels = pd.read_csv(DATASET_PATH)\n",
    "labels.info()\n",
    "labels.describe()"
   ]
  },
  {
   "cell_type": "markdown",
   "metadata": {},
   "source": [
    "### Оценка значений целевого признака"
   ]
  },
  {
   "cell_type": "code",
   "execution_count": 4,
   "metadata": {
    "scrolled": false
   },
   "outputs": [
    {
     "data": {
      "image/png": "[encoded data removed]",
      "text/plain": [
       "<Figure size 720x504 with 1 Axes>"
      ]
     },
     "metadata": {
      "needs_background": "light"
     },
     "output_type": "display_data"
    }
   ],
   "source": [
    "labels.hist(column='real_age', bins=100, figsize=(10,7));\n",
    "plt.xlabel('Возраст')\n",
    "plt.ylabel('Количество объектов')\n",
    "plt.title('Распределение возраста объектов')\n",
    "plt.show()"
   ]
  },
  {
   "cell_type": "markdown",
   "metadata": {},
   "source": [
    "В диапазоне возрастов 0-5 лет выявлены выбросы, нехарактерные для возрастно-половой пирамиды, рассмотрим этот интервал подробнее."
   ]
  },
  {
   "cell_type": "code",
   "execution_count": 5,
   "metadata": {
    "scrolled": false
   },
   "outputs": [
    {
     "data": {
      "image/png": "[encoded data removed]",
      "text/plain": [
       "<Figure size 720x504 with 1 Axes>"
      ]
     },
     "metadata": {
      "needs_background": "light"
     },
     "output_type": "display_data"
    }
   ],
   "source": [
    "labels.hist(column='real_age', bins=12, figsize=(10,7), range=(0,12));\n",
    "plt.xlabel('Возраст')\n",
    "plt.ylabel('Количество объектов')\n",
    "plt.title('Распределение возраста объектов. [Объекты 0-12 лет]')\n",
    "plt.show()"
   ]
  },
  {
   "cell_type": "markdown",
   "metadata": {},
   "source": [
    "Для проверки корректности данных в выбросах:\n",
    "- При формировании загрузчика и просмотра изображений оценим соответствие изображений возрасту объекта для возраста = 1 год"
   ]
  },
  {
   "cell_type": "markdown",
   "metadata": {},
   "source": [
    "### Формирование загрузчика и потока для загрузки изображений"
   ]
  },
  {
   "cell_type": "code",
   "execution_count": null,
   "metadata": {},
   "outputs": [],
   "source": [
    "train_datagen = ImageDataGenerator(rescale=1./255)\n",
    "train_gen_flow = train_datagen.flow_from_dataframe(\n",
    "        dataframe=labels,\n",
    "        directory=DIR_PATH,\n",
    "        x_col='file_name',\n",
    "        y_col='real_age',\n",
    "        target_size=(224, 224),\n",
    "        batch_size=32,\n",
    "        class_mode='raw',\n",
    "        seed=RANDOM_STATE)"
   ]
  },
  {
   "cell_type": "code",
   "execution_count": null,
   "metadata": {},
   "outputs": [],
   "source": [
    "features, target = next(train_gen_flow)"
   ]
  },
  {
   "cell_type": "code",
   "execution_count": null,
   "metadata": {
    "scrolled": false
   },
   "outputs": [],
   "source": [
    "fig = plt.figure(figsize=(10,10))\n",
    "for i in range(16):\n",
    "    fig.add_subplot(4, 4, i+1)\n",
    "    plt.imshow(features[i])\n",
    "    plt.text(180, 200, target[i], size=20, backgroundcolor='y')\n",
    "    plt.xticks([])\n",
    "    plt.yticks([])\n",
    "    plt.tight_layout()\n"
   ]
  },
  {
   "cell_type": "markdown",
   "metadata": {},
   "source": [
    "Выборка из 16 случайных изображений объектов и их возраста (цифры на желтом фоне)"
   ]
  },
  {
   "cell_type": "markdown",
   "metadata": {},
   "source": [
    "### Визуальная оценка корректности возраста объектов (для возраста = 1 год)"
   ]
  },
  {
   "cell_type": "code",
   "execution_count": null,
   "metadata": {},
   "outputs": [],
   "source": [
    "train_datagen_baby = ImageDataGenerator(rescale=1./255)\n",
    "train_gen_flow_baby = train_datagen.flow_from_dataframe(\n",
    "        dataframe=labels[labels['real_age'] == 1],\n",
    "        directory=DIR_PATH,\n",
    "        x_col='file_name',\n",
    "        y_col='real_age',\n",
    "        target_size=(224, 224),\n",
    "        batch_size=50,\n",
    "        class_mode='raw',\n",
    "        seed=RANDOM_STATE)"
   ]
  },
  {
   "cell_type": "code",
   "execution_count": null,
   "metadata": {},
   "outputs": [],
   "source": [
    "features_baby, target_baby = next(train_gen_flow_baby)"
   ]
  },
  {
   "cell_type": "markdown",
   "metadata": {},
   "source": [
    "Для визуального определения корректности маркировки целевого признака в выборке, выведем изображения случайных 50 объектов с возрастом = 1 год."
   ]
  },
  {
   "cell_type": "code",
   "execution_count": null,
   "metadata": {
    "scrolled": false
   },
   "outputs": [],
   "source": [
    "fig = plt.figure(figsize=(10,10))\n",
    "for i in range(50):\n",
    "    fig.add_subplot(10, 5, i+1)\n",
    "    plt.imshow(features_baby[i])\n",
    "    plt.text(180, 200, target_baby[i], size=20, backgroundcolor='y')\n",
    "    plt.xticks([])\n",
    "    plt.yticks([])\n",
    "    plt.tight_layout()"
   ]
  },
  {
   "cell_type": "markdown",
   "metadata": {},
   "source": [
    "### Выводы по исследовательскому анализу"
   ]
  },
  {
   "cell_type": "markdown",
   "metadata": {},
   "source": [
    " - В обучающем наборе 7591 объект\n",
    " - пропуски отстутствуют\n",
    " - возраст покупателей распределен непрерывно нормально\n",
    " - выбросы обнаружены для значений целевого признака (возраст): 1 год\n",
    " - исследованием определено, что аномалия в количестве изображений объектов с возрастом 1 год является особенностью обучающей выборки: объектам с целевым признаком (возраст) = 1 год действительно соответствуют корректные изображения объектов."
   ]
  },
  {
   "cell_type": "markdown",
   "metadata": {},
   "source": [
    "## Обучение модели"
   ]
  },
  {
   "cell_type": "markdown",
   "metadata": {},
   "source": [
    "### Исходный код создания и обучения модели"
   ]
  },
  {
   "cell_type": "markdown",
   "metadata": {},
   "source": [
    "Код в этом разделе запускается в отдельном GPU-тренажёре, поэтому оформлен не как ячейка с кодом, а как код в текстовой ячейке"
   ]
  },
  {
   "cell_type": "markdown",
   "metadata": {},
   "source": [
    "```python\n",
    "from tensorflow.keras import Sequential\n",
    "from tensorflow.keras.layers import Dense, Flatten, GlobalAveragePooling2D, GlobalMaxPooling2D\n",
    "from tensorflow.keras.optimizers import Adam\n",
    "from tensorflow.keras.preprocessing.image import ImageDataGenerator\n",
    "from tensorflow.keras.applications.resnet import ResNet50\n",
    "\n",
    "import pandas as pd\n",
    "\n",
    "RANDOM_STATE = 3141592654\n",
    "\n",
    "def load_train(path):\n",
    "\n",
    "    labels = pd.read_csv(path + 'labels.csv')\n",
    "    \n",
    "    train_datagen = ImageDataGenerator(validation_split=0.1,\n",
    "                            horizontal_flip=True, vertical_flip=True,\n",
    "                            rotation_range=45, \n",
    "                            width_shift_range=0.2, height_shift_range=0.2,\n",
    "                            rescale=1./255)\n",
    "\n",
    "    train_datagen_flow = train_datagen.flow_from_dataframe(\n",
    "        dataframe=labels,\n",
    "        directory=path + 'final_files/',\n",
    "        x_col='file_name',\n",
    "        y_col='real_age',\n",
    "        target_size=(224, 224),\n",
    "        batch_size=16,\n",
    "        class_mode='raw',\n",
    "        subset='training',\n",
    "        seed=RANDOM_STATE)\n",
    "       \n",
    "    return train_datagen_flow\n",
    "    \n",
    "def load_test(path):\n",
    "\n",
    "    labels = pd.read_csv(path + 'labels.csv')\n",
    "                            \n",
    "    test_datagen = ImageDataGenerator(validation_split=0.1,\n",
    "                            rescale=1./255)\n",
    "\n",
    "    test_datagen_flow = test_datagen.flow_from_dataframe(\n",
    "        dataframe=labels,\n",
    "        directory=path + 'final_files/',\n",
    "        x_col='file_name',\n",
    "        y_col='real_age',\n",
    "        target_size=(224, 224),\n",
    "        batch_size=16,\n",
    "        class_mode='raw',\n",
    "        subset='validation',\n",
    "        seed=RANDOM_STATE)\n",
    "       \n",
    "    return test_datagen_flow\n",
    "\t\n",
    "def create_model(input_shape):\n",
    "\n",
    "    # объявляем ResNet50, загрузка весов с сервера\n",
    "    backbone = ResNet50(input_shape=input_shape,\n",
    "                    weights='/datasets/keras_models/resnet50_weights_tf_dim_ordering_tf_kernels_notop.h5',\n",
    "                    include_top=False) \n",
    "                    \n",
    "    model = Sequential()\n",
    "    \n",
    "    # слои \n",
    "\n",
    "    model.add(backbone)\n",
    "    model.add(GlobalMaxPooling2D())\n",
    "    model.add(Dense(100, activation='linear')) \n",
    " \n",
    "    # конец слоев\n",
    "    \n",
    "    model.compile(optimizer=Adam(lr=0.0001), loss='mse', metrics=['mae']) \n",
    "\n",
    "    return model\n",
    "\t\n",
    "def train_model(model, train_data, test_data, batch_size=None, epochs=5,\n",
    "                steps_per_epoch=None, validation_steps=None):\n",
    "\n",
    "    model.fit(train_data, \n",
    "              validation_data=test_data,\n",
    "              steps_per_epoch=steps_per_epoch,\n",
    "              batch_size=batch_size,\n",
    "              validation_steps=validation_steps,\n",
    "              verbose=2, epochs=epochs)\n",
    "\n",
    "    return model\n",
    "```"
   ]
  },
  {
   "cell_type": "markdown",
   "metadata": {},
   "source": [
    "### Лог работы кода"
   ]
  },
  {
   "cell_type": "markdown",
   "metadata": {},
   "source": [
    "```\n",
    "Using TensorFlow backend.\n",
    "Found 6832 validated image filenames.\n",
    "Found 759 validated image filenames.\n",
    "<class 'tensorflow.python.keras.engine.sequential.Sequential'>\n",
    "WARNING:tensorflow:sample_weight modes were coerced from\n",
    "  ...\n",
    "    to  \n",
    "  ['...']\n",
    "WARNING:tensorflow:sample_weight modes were coerced from\n",
    "  ...\n",
    "    to  \n",
    "  ['...']\n",
    "Train for 427 steps, validate for 48 steps\n",
    "Epoch 1/5\n",
    "2023-01-04 22:59:20.313661: I tensorflow/stream_executor/platform/default/dso_loader.cc:44] Successfully opened dynamic library libcublas.so.10\n",
    "2023-01-04 22:59:20.615420: I tensorflow/stream_executor/platform/default/dso_loader.cc:44] Successfully opened dynamic library libcudnn.so.7\n",
    "427/427 - 60s - loss: 182.3533 - mae: 9.9116 - val_loss: 435.1362 - val_mae: 15.8660\n",
    "Epoch 2/5\n",
    "427/427 - 39s - loss: 65.5817 - mae: 6.2329 - val_loss: 94.4097 - val_mae: 7.3885\n",
    "Epoch 3/5\n",
    "427/427 - 39s - loss: 32.1017 - mae: 4.3987 - val_loss: 80.5998 - val_mae: 6.6631\n",
    "Epoch 4/5\n",
    "427/427 - 38s - loss: 20.9862 - mae: 3.5476 - val_loss: 93.1479 - val_mae: 7.5996\n",
    "Epoch 5/5\n",
    "427/427 - 38s - loss: 15.7553 - mae: 3.0222 - val_loss: 67.1211 - val_mae: 6.3115\n",
    "WARNING:tensorflow:sample_weight modes were coerced from\n",
    "  ...\n",
    "    to  \n",
    "  ['...']\n",
    "48/48 - 4s - loss: 67.1211 - mae: 6.3115\n",
    "Test MAE: 6.3115\n",
    "```"
   ]
  },
  {
   "cell_type": "markdown",
   "metadata": {},
   "source": [
    "## Анализ обученной модели"
   ]
  },
  {
   "cell_type": "markdown",
   "metadata": {},
   "source": [
    "**Описание проекта**\n",
    "\n",
    "Сетевой супермаркет «Хлеб-Соль» внедряет систему компьютерного зрения для обработки фотографий покупателей. \n",
    "\n",
    "Фотофиксация в прикассовой зоне поможет определять возраст клиентов, чтобы:\n",
    "- Анализировать покупки и предлагать товары, которые могут заинтересовать покупателей этой возрастной группы;\n",
    "- Контролировать добросовестность кассиров при продаже алкоголя.\n",
    "\n",
    "Постройте модель, которая по фотографии определит приблизительный возраст человека. \n",
    "\n",
    "В вашем распоряжении набор фотографий людей с указанием возраста.\n",
    "Значение MAE на тестовой выборке не должно быть больше 8.\n",
    "\n",
    "**Выводы по исследовательскому анализу данных**\n",
    "\n",
    " - В обучающем наборе 7591 объект\n",
    " - пропуски отстутствуют\n",
    " - возраст покупателей распределен непрерывно нормально\n",
    " - выбросы обнаружены для значений целевого признака (возраст): 1 год\n",
    " - исследованием определено, что аномалия в количестве изображений объектов с возрастом 1 год является особенностью обучающей выборки: объектам с целевым признаком (возраст) = 1 год действительно соответствуют корректные изображения объектов.\n",
    " \n",
    " \n",
    " **Выводы по результатам обучения модели**\n",
    " \n",
    " *Предобработка/аугментация данных в выборке*\n",
    " - предоставленная выборка была разделена на тренировочную и тестовую в пропорции 9:1\n",
    " - для задач аугментации, т.е. увеличения выборки на основе имеющихся данных были применены горизонтальные и вертикальные отражения изображений, повороты до 90 град, растяжения и сжатия ширины и высоты изображений.\n",
    " - яркость изображений приведена к стандартному диапазону 0..1 \n",
    " \n",
    " \n",
    " *Исследованием принята для задач регрессии следующая модель:*\n",
    " \n",
    " - ResNet50, обученный на ImageNet c исключенным финальными пулингом GlobalAveragePooling2D и полносвязным слоем Dense\n",
    " - пулинг GlobalMaxPooling2D, обученный на предоставленной выборке\n",
    " - полносвязный слой Dense с кол-вом нейронов = 100, обученный на предоставленной выборке\n",
    " - функция потерь для задач регрессии принята MSE\n",
    " - активация последнего слоя сети производилось линейной функцией linear\n",
    " - обучение на 5 эпохах методом градиентного спуска с learning rate = 1e-3 \n",
    "\n",
    "\n",
    " *Результаты обучения моделей.*\n",
    " \n",
    " - значение метрики модели на тестовой выборке **MAE = 6.31**\n",
    " - полученное **значение MAE соответствует условиям ТЗ** и может быть уменьшено при дальнейшей работе над моделью."
   ]
  },
  {
   "cell_type": "markdown",
   "metadata": {},
   "source": [
    "## Чек-лист"
   ]
  },
  {
   "cell_type": "markdown",
   "metadata": {},
   "source": [
    "- [x]  Jupyter Notebook открыт\n",
    "- [x]  Весь код выполняется без ошибок\n",
    "- [x]  Ячейки с кодом расположены в порядке исполнения\n",
    "- [x]  Исследовательский анализ данных выполнен\n",
    "- [x]  Результаты исследовательского анализа данных перенесены в финальную тетрадь\n",
    "- [x]  MAE модели не больше 8\n",
    "- [x]  Код обучения модели скопирован в финальную тетрадь\n",
    "- [x]  Результат вывода модели на экран перенесён в финальную тетрадь\n",
    "- [x]  По итогам обучения модели сделаны выводы"
   ]
  }
 ],
 "metadata": {
  "ExecuteTimeLog": [
   {
    "duration": 4,
    "start_time": "2023-01-04T07:15:13.230Z"
   },
   {
    "duration": 2260,
    "start_time": "2023-01-04T07:15:13.236Z"
   },
   {
    "duration": 59,
    "start_time": "2023-01-04T07:15:15.498Z"
   },
   {
    "duration": 231,
    "start_time": "2023-01-04T07:15:36.722Z"
   },
   {
    "duration": 218,
    "start_time": "2023-01-04T07:15:47.192Z"
   },
   {
    "duration": 261,
    "start_time": "2023-01-04T07:16:20.396Z"
   },
   {
    "duration": 381,
    "start_time": "2023-01-04T07:16:26.707Z"
   },
   {
    "duration": 249,
    "start_time": "2023-01-04T07:16:54.860Z"
   },
   {
    "duration": 251,
    "start_time": "2023-01-04T07:18:19.672Z"
   },
   {
    "duration": 258,
    "start_time": "2023-01-04T07:18:58.182Z"
   },
   {
    "duration": 264,
    "start_time": "2023-01-04T07:19:09.201Z"
   },
   {
    "duration": 258,
    "start_time": "2023-01-04T07:19:20.550Z"
   },
   {
    "duration": 431,
    "start_time": "2023-01-04T07:19:35.651Z"
   },
   {
    "duration": 2,
    "start_time": "2023-01-04T07:25:36.682Z"
   },
   {
    "duration": 2,
    "start_time": "2023-01-04T07:27:29.052Z"
   },
   {
    "duration": 83347,
    "start_time": "2023-01-04T07:29:27.198Z"
   },
   {
    "duration": 1402,
    "start_time": "2023-01-04T07:31:38.209Z"
   },
   {
    "duration": 1394,
    "start_time": "2023-01-04T07:31:42.503Z"
   },
   {
    "duration": 241,
    "start_time": "2023-01-04T07:34:31.798Z"
   },
   {
    "duration": 134,
    "start_time": "2023-01-04T07:34:37.522Z"
   },
   {
    "duration": 173,
    "start_time": "2023-01-04T07:35:35.479Z"
   },
   {
    "duration": 159,
    "start_time": "2023-01-04T07:35:55.252Z"
   },
   {
    "duration": 19,
    "start_time": "2023-01-04T07:36:32.801Z"
   },
   {
    "duration": 249,
    "start_time": "2023-01-04T07:36:58.331Z"
   },
   {
    "duration": 7279,
    "start_time": "2023-01-04T07:38:28.278Z"
   },
   {
    "duration": 1334,
    "start_time": "2023-01-04T07:38:41.894Z"
   },
   {
    "duration": 1508,
    "start_time": "2023-01-04T07:38:44.597Z"
   },
   {
    "duration": 22,
    "start_time": "2023-01-04T07:41:23.599Z"
   },
   {
    "duration": 3965,
    "start_time": "2023-01-04T07:41:26.351Z"
   },
   {
    "duration": 1307,
    "start_time": "2023-01-04T07:41:58.527Z"
   },
   {
    "duration": 333,
    "start_time": "2023-01-04T07:42:00.510Z"
   },
   {
    "duration": 117,
    "start_time": "2023-01-04T07:42:04.456Z"
   },
   {
    "duration": 1431,
    "start_time": "2023-01-04T07:42:09.514Z"
   },
   {
    "duration": 54,
    "start_time": "2023-01-04T07:42:35.556Z"
   },
   {
    "duration": 38,
    "start_time": "2023-01-04T07:42:39.219Z"
   },
   {
    "duration": 19,
    "start_time": "2023-01-04T07:42:45.076Z"
   },
   {
    "duration": 1642,
    "start_time": "2023-01-04T07:42:48.896Z"
   },
   {
    "duration": 1169,
    "start_time": "2023-01-04T07:42:52.357Z"
   },
   {
    "duration": 1519,
    "start_time": "2023-01-04T07:42:54.837Z"
   },
   {
    "duration": 1355,
    "start_time": "2023-01-04T07:44:06.159Z"
   },
   {
    "duration": 403,
    "start_time": "2023-01-04T07:45:18.102Z"
   },
   {
    "duration": 1406,
    "start_time": "2023-01-04T07:45:35.058Z"
   },
   {
    "duration": 1609,
    "start_time": "2023-01-04T07:46:02.470Z"
   },
   {
    "duration": 106,
    "start_time": "2023-01-04T07:46:17.552Z"
   },
   {
    "duration": 1360,
    "start_time": "2023-01-04T07:46:42.286Z"
   },
   {
    "duration": 1490,
    "start_time": "2023-01-04T07:47:00.693Z"
   },
   {
    "duration": 1390,
    "start_time": "2023-01-04T07:47:14.204Z"
   },
   {
    "duration": 1350,
    "start_time": "2023-01-04T07:48:16.881Z"
   },
   {
    "duration": 1540,
    "start_time": "2023-01-04T07:48:39.033Z"
   },
   {
    "duration": 1353,
    "start_time": "2023-01-04T07:49:13.664Z"
   },
   {
    "duration": 1321,
    "start_time": "2023-01-04T07:49:34.442Z"
   },
   {
    "duration": 1538,
    "start_time": "2023-01-04T07:49:48.709Z"
   },
   {
    "duration": 1385,
    "start_time": "2023-01-04T07:50:01.489Z"
   },
   {
    "duration": 1408,
    "start_time": "2023-01-04T07:50:19.873Z"
   },
   {
    "duration": 1443,
    "start_time": "2023-01-04T07:56:12.569Z"
   },
   {
    "duration": 2737,
    "start_time": "2023-01-04T07:57:06.711Z"
   },
   {
    "duration": 2648,
    "start_time": "2023-01-04T07:57:18.572Z"
   },
   {
    "duration": 1485,
    "start_time": "2023-01-04T07:57:44.928Z"
   },
   {
    "duration": 1516,
    "start_time": "2023-01-04T07:58:02.182Z"
   },
   {
    "duration": 2593,
    "start_time": "2023-01-04T07:58:26.538Z"
   },
   {
    "duration": 2695,
    "start_time": "2023-01-04T07:58:37.724Z"
   },
   {
    "duration": 283,
    "start_time": "2023-01-04T07:58:46.602Z"
   },
   {
    "duration": 2668,
    "start_time": "2023-01-04T07:59:00.548Z"
   },
   {
    "duration": 3274,
    "start_time": "2023-01-04T07:59:36.818Z"
   },
   {
    "duration": 2973,
    "start_time": "2023-01-04T07:59:56.476Z"
   },
   {
    "duration": 1652,
    "start_time": "2023-01-04T08:00:31.809Z"
   },
   {
    "duration": 3300,
    "start_time": "2023-01-04T08:00:39.490Z"
   },
   {
    "duration": 1650,
    "start_time": "2023-01-04T08:00:47.082Z"
   },
   {
    "duration": 589,
    "start_time": "2023-01-04T08:00:49.477Z"
   },
   {
    "duration": 3603,
    "start_time": "2023-01-04T08:00:51.169Z"
   },
   {
    "duration": 1424,
    "start_time": "2023-01-04T08:36:02.649Z"
   },
   {
    "duration": 1525,
    "start_time": "2023-01-04T08:36:52.339Z"
   },
   {
    "duration": 3718,
    "start_time": "2023-01-04T08:36:57.987Z"
   },
   {
    "duration": 2564,
    "start_time": "2023-01-04T09:33:02.941Z"
   },
   {
    "duration": 2,
    "start_time": "2023-01-04T09:33:05.508Z"
   },
   {
    "duration": 88,
    "start_time": "2023-01-04T09:33:05.511Z"
   },
   {
    "duration": 299,
    "start_time": "2023-01-04T09:33:05.601Z"
   },
   {
    "duration": 254,
    "start_time": "2023-01-04T09:33:05.903Z"
   },
   {
    "duration": 83509,
    "start_time": "2023-01-04T09:33:06.160Z"
   },
   {
    "duration": 540,
    "start_time": "2023-01-04T09:34:29.671Z"
   },
   {
    "duration": 1601,
    "start_time": "2023-01-04T09:34:30.212Z"
   },
   {
    "duration": 26,
    "start_time": "2023-01-04T09:34:31.815Z"
   },
   {
    "duration": 1664,
    "start_time": "2023-01-04T09:34:31.843Z"
   },
   {
    "duration": 241,
    "start_time": "2023-01-04T09:34:33.509Z"
   },
   {
    "duration": 3646,
    "start_time": "2023-01-04T09:34:33.751Z"
   },
   {
    "duration": 1666,
    "start_time": "2023-01-04T19:37:25.369Z"
   },
   {
    "duration": 515,
    "start_time": "2023-01-04T19:37:29.363Z"
   },
   {
    "duration": 3686,
    "start_time": "2023-01-04T19:37:31.462Z"
   },
   {
    "duration": 1638,
    "start_time": "2023-01-04T19:38:33.375Z"
   },
   {
    "duration": 4631,
    "start_time": "2023-01-04T19:38:37.243Z"
   },
   {
    "duration": 3366,
    "start_time": "2023-01-04T19:39:04.912Z"
   },
   {
    "duration": 39052,
    "start_time": "2023-01-04T19:39:22.611Z"
   },
   {
    "duration": 38000,
    "start_time": "2023-01-04T19:40:43.305Z"
   },
   {
    "duration": 19846,
    "start_time": "2023-01-04T19:42:02.985Z"
   },
   {
    "duration": 21271,
    "start_time": "2023-01-04T19:42:55.743Z"
   },
   {
    "duration": 32516,
    "start_time": "2023-01-04T19:46:19.992Z"
   },
   {
    "duration": 1641,
    "start_time": "2023-01-04T19:46:52.509Z"
   },
   {
    "duration": 688,
    "start_time": "2023-01-04T19:46:56.371Z"
   },
   {
    "duration": 6195,
    "start_time": "2023-01-04T19:46:59.163Z"
   },
   {
    "duration": 1639,
    "start_time": "2023-01-04T19:47:18.188Z"
   },
   {
    "duration": 713,
    "start_time": "2023-01-04T19:47:25.017Z"
   },
   {
    "duration": 5780,
    "start_time": "2023-01-04T19:47:26.562Z"
   },
   {
    "duration": 1665,
    "start_time": "2023-01-04T19:47:42.986Z"
   },
   {
    "duration": 707,
    "start_time": "2023-01-04T19:47:45.242Z"
   },
   {
    "duration": 5960,
    "start_time": "2023-01-04T19:47:50.427Z"
   },
   {
    "duration": 6065,
    "start_time": "2023-01-04T19:48:04.244Z"
   },
   {
    "duration": 2260,
    "start_time": "2023-01-04T19:49:32.803Z"
   },
   {
    "duration": 2,
    "start_time": "2023-01-04T19:49:35.065Z"
   },
   {
    "duration": 67,
    "start_time": "2023-01-04T19:49:35.069Z"
   },
   {
    "duration": 254,
    "start_time": "2023-01-04T19:49:35.137Z"
   },
   {
    "duration": 161,
    "start_time": "2023-01-04T19:49:35.396Z"
   },
   {
    "duration": 83243,
    "start_time": "2023-01-04T19:49:35.558Z"
   },
   {
    "duration": 522,
    "start_time": "2023-01-04T19:50:58.803Z"
   },
   {
    "duration": 1579,
    "start_time": "2023-01-04T19:50:59.326Z"
   },
   {
    "duration": 1674,
    "start_time": "2023-01-04T19:51:00.907Z"
   },
   {
    "duration": 369,
    "start_time": "2023-01-04T19:51:02.583Z"
   },
   {
    "duration": 5681,
    "start_time": "2023-01-04T19:51:02.953Z"
   },
   {
    "duration": 2311,
    "start_time": "2023-01-04T22:13:57.574Z"
   },
   {
    "duration": 2,
    "start_time": "2023-01-04T22:13:59.887Z"
   },
   {
    "duration": 66,
    "start_time": "2023-01-04T22:13:59.891Z"
   },
   {
    "duration": 269,
    "start_time": "2023-01-04T22:13:59.959Z"
   },
   {
    "duration": 193,
    "start_time": "2023-01-04T22:14:00.230Z"
   },
   {
    "duration": 83431,
    "start_time": "2023-01-04T22:14:00.424Z"
   },
   {
    "duration": 541,
    "start_time": "2023-01-04T22:15:23.857Z"
   },
   {
    "duration": 1569,
    "start_time": "2023-01-04T22:15:24.401Z"
   },
   {
    "duration": 1661,
    "start_time": "2023-01-04T22:15:25.972Z"
   },
   {
    "duration": 375,
    "start_time": "2023-01-04T22:15:27.634Z"
   },
   {
    "duration": 5872,
    "start_time": "2023-01-04T22:15:28.011Z"
   },
   {
    "duration": 2178,
    "start_time": "2023-01-04T23:09:32.783Z"
   },
   {
    "duration": 3,
    "start_time": "2023-01-04T23:09:34.963Z"
   },
   {
    "duration": 63,
    "start_time": "2023-01-04T23:09:34.968Z"
   },
   {
    "duration": 283,
    "start_time": "2023-01-04T23:09:35.033Z"
   },
   {
    "duration": 168,
    "start_time": "2023-01-04T23:09:35.319Z"
   }
  ],
  "kernelspec": {
   "display_name": "Python 3 (ipykernel)",
   "language": "python",
   "name": "python3"
  },
  "language_info": {
   "codemirror_mode": {
    "name": "ipython",
    "version": 3
   },
   "file_extension": ".py",
   "mimetype": "text/x-python",
   "name": "python",
   "nbconvert_exporter": "python",
   "pygments_lexer": "ipython3",
   "version": "3.9.5"
  },
  "toc": {
   "base_numbering": 1,
   "nav_menu": {},
   "number_sections": true,
   "sideBar": true,
   "skip_h1_title": true,
   "title_cell": "Содержание",
   "title_sidebar": "Содержание",
   "toc_cell": true,
   "toc_position": {},
   "toc_section_display": true,
   "toc_window_display": true
  }
 },
 "nbformat": 4,
 "nbformat_minor": 2
}
