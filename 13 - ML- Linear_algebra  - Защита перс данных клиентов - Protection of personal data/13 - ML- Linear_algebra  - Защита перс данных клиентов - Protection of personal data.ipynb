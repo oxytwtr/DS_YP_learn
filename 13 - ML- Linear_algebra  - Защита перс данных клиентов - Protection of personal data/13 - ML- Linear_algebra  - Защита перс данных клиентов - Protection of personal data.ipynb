{
 "cells": [
  {
   "cell_type": "markdown",
   "metadata": {
    "toc": true
   },
   "source": [
    "<h1>Содержание<span class=\"tocSkip\"></span></h1>\n",
    "<div class=\"toc\"><ul class=\"toc-item\"><li><span><a href=\"#Загрузка-и-подготовка-данных\" data-toc-modified-id=\"Загрузка-и-подготовка-данных-1\"><span class=\"toc-item-num\">1&nbsp;&nbsp;</span>Загрузка и подготовка данных</a></span><ul class=\"toc-item\"><li><span><a href=\"#Открытие-файлов,-знакомство-с-данными\" data-toc-modified-id=\"Открытие-файлов,-знакомство-с-данными-1.1\"><span class=\"toc-item-num\">1.1&nbsp;&nbsp;</span>Открытие файлов, знакомство с данными</a></span></li><li><span><a href=\"#Предобработка-данных\" data-toc-modified-id=\"Предобработка-данных-1.2\"><span class=\"toc-item-num\">1.2&nbsp;&nbsp;</span>Предобработка данных</a></span><ul class=\"toc-item\"><li><span><a href=\"#Стандартизация-названий-признаков\" data-toc-modified-id=\"Стандартизация-названий-признаков-1.2.1\"><span class=\"toc-item-num\">1.2.1&nbsp;&nbsp;</span>Стандартизация названий признаков</a></span></li><li><span><a href=\"#Поиск-и-обработка-дубликатов,-анализ-пропусков,-выбросов-и-избыточных-данных\" data-toc-modified-id=\"Поиск-и-обработка-дубликатов,-анализ-пропусков,-выбросов-и-избыточных-данных-1.2.2\"><span class=\"toc-item-num\">1.2.2&nbsp;&nbsp;</span>Поиск и обработка дубликатов, анализ пропусков, выбросов и избыточных данных</a></span></li></ul></li><li><span><a href=\"#Вывод-по-разделу-1\" data-toc-modified-id=\"Вывод-по-разделу-1-1.3\"><span class=\"toc-item-num\">1.3&nbsp;&nbsp;</span>Вывод по разделу 1</a></span></li></ul></li><li><span><a href=\"#Умножение-матриц\" data-toc-modified-id=\"Умножение-матриц-2\"><span class=\"toc-item-num\">2&nbsp;&nbsp;</span>Умножение матриц</a></span><ul class=\"toc-item\"><li><span><a href=\"#Вывод-по-разделу-2\" data-toc-modified-id=\"Вывод-по-разделу-2-2.1\"><span class=\"toc-item-num\">2.1&nbsp;&nbsp;</span>Вывод по разделу 2</a></span></li></ul></li><li><span><a href=\"#Алгоритм-преобразования\" data-toc-modified-id=\"Алгоритм-преобразования-3\"><span class=\"toc-item-num\">3&nbsp;&nbsp;</span>Алгоритм преобразования</a></span><ul class=\"toc-item\"><li><span><a href=\"#Алгоритм---Метод-1\" data-toc-modified-id=\"Алгоритм---Метод-1-3.1\"><span class=\"toc-item-num\">3.1&nbsp;&nbsp;</span>Алгоритм - Метод 1</a></span></li><li><span><a href=\"#Алгоритм---Метод-2\" data-toc-modified-id=\"Алгоритм---Метод-2-3.2\"><span class=\"toc-item-num\">3.2&nbsp;&nbsp;</span>Алгоритм - Метод 2</a></span></li><li><span><a href=\"#Алгоритм---Проверка-адекватности-шифрования\" data-toc-modified-id=\"Алгоритм---Проверка-адекватности-шифрования-3.3\"><span class=\"toc-item-num\">3.3&nbsp;&nbsp;</span>Алгоритм - Проверка адекватности шифрования</a></span></li><li><span><a href=\"#Вывод-по-разделу-3\" data-toc-modified-id=\"Вывод-по-разделу-3-3.4\"><span class=\"toc-item-num\">3.4&nbsp;&nbsp;</span>Вывод по разделу 3</a></span></li></ul></li><li><span><a href=\"#Проверка-алгоритма\" data-toc-modified-id=\"Проверка-алгоритма-4\"><span class=\"toc-item-num\">4&nbsp;&nbsp;</span>Проверка алгоритма</a></span><ul class=\"toc-item\"><li><span><a href=\"#Выделение-признаков-и-целевых-признаков.\" data-toc-modified-id=\"Выделение-признаков-и-целевых-признаков.-4.1\"><span class=\"toc-item-num\">4.1&nbsp;&nbsp;</span>Выделение признаков и целевых признаков.</a></span></li><li><span><a href=\"#Шифрование-по-методу-1\" data-toc-modified-id=\"Шифрование-по-методу-1-4.2\"><span class=\"toc-item-num\">4.2&nbsp;&nbsp;</span>Шифрование по методу 1</a></span></li><li><span><a href=\"#Шифрование-по-методу-2\" data-toc-modified-id=\"Шифрование-по-методу-2-4.3\"><span class=\"toc-item-num\">4.3&nbsp;&nbsp;</span>Шифрование по методу 2</a></span></li><li><span><a href=\"#Получение-случайных-предсказаний-для-проверки-адекватности-шифрования\" data-toc-modified-id=\"Получение-случайных-предсказаний-для-проверки-адекватности-шифрования-4.4\"><span class=\"toc-item-num\">4.4&nbsp;&nbsp;</span>Получение случайных предсказаний для проверки адекватности шифрования</a></span></li><li><span><a href=\"#Получение-метрик-модели-Линейной-регрессии-для-исходных-и-зашифрованных-признаков\" data-toc-modified-id=\"Получение-метрик-модели-Линейной-регрессии-для-исходных-и-зашифрованных-признаков-4.5\"><span class=\"toc-item-num\">4.5&nbsp;&nbsp;</span>Получение метрик модели Линейной регрессии для исходных и зашифрованных признаков</a></span></li><li><span><a href=\"#Проверка-качества-линейной-регрессии-(метрика-R2)-из-sklearn-до-и-после-шифрования.\" data-toc-modified-id=\"Проверка-качества-линейной-регрессии-(метрика-R2)-из-sklearn-до-и-после-шифрования.-4.6\"><span class=\"toc-item-num\">4.6&nbsp;&nbsp;</span>Проверка качества линейной регрессии (метрика R2) из sklearn до и после шифрования.</a></span></li><li><span><a href=\"#Проверка-адекватности-шиврования\" data-toc-modified-id=\"Проверка-адекватности-шиврования-4.7\"><span class=\"toc-item-num\">4.7&nbsp;&nbsp;</span>Проверка адекватности шиврования</a></span></li><li><span><a href=\"#Оценка-исходных-и-зашифрованных-признаков\" data-toc-modified-id=\"Оценка-исходных-и-зашифрованных-признаков-4.8\"><span class=\"toc-item-num\">4.8&nbsp;&nbsp;</span>Оценка исходных и зашифрованных признаков</a></span></li><li><span><a href=\"#Вывод-по-разделу-4\" data-toc-modified-id=\"Вывод-по-разделу-4-4.9\"><span class=\"toc-item-num\">4.9&nbsp;&nbsp;</span>Вывод по разделу 4</a></span></li></ul></li><li><span><a href=\"#Общий-вывод\" data-toc-modified-id=\"Общий-вывод-5\"><span class=\"toc-item-num\">5&nbsp;&nbsp;</span>Общий вывод</a></span></li></ul></div>"
   ]
  },
  {
   "cell_type": "markdown",
   "metadata": {},
   "source": [
    "# Защита персональных данных клиентов"
   ]
  },
  {
   "cell_type": "markdown",
   "metadata": {},
   "source": [
    "Вам нужно защитить данные клиентов страховой компании «Хоть потоп». Разработайте такой метод преобразования данных, чтобы по ним было сложно восстановить персональную информацию. Обоснуйте корректность его работы.\n",
    "\n",
    "Нужно защитить данные, чтобы при преобразовании качество моделей машинного обучения не ухудшилось. Подбирать наилучшую модель не требуется."
   ]
  },
  {
   "cell_type": "markdown",
   "metadata": {},
   "source": [
    "**Исходные данные от заказчика**\n",
    "Набор данных находится в файле `/datasets/insurance.csv`\n",
    "Признаки: пол, возраст и зарплата застрахованного, количество членов его семьи.\n",
    "Целевой признак: количество страховых выплат клиенту за последние 5 лет.\n",
    "\n",
    "**Задача**\n",
    " - Ответить на вопрос и обосновать решение:\n",
    "   - Признаки умножают на обратимую матрицу. Изменится ли качество линейной регрессии? (Её можно обучить заново.)\n",
    " - Предложить алгоритм преобразования данных для решения задачи. Обосновать, почему качество линейной регрессии не поменяется."
   ]
  },
  {
   "cell_type": "code",
   "execution_count": 1,
   "metadata": {},
   "outputs": [],
   "source": [
    "# СЛУЖЕБНОЕ Ячейка с импортом библиотек, импорт происходит только в этой ячейке\n",
    "\n",
    "import pandas as pd\n",
    "import numpy as np\n",
    "import random\n",
    "import matplotlib.pyplot as plt\n",
    "\n",
    "#from sklearn.model_selection import train_test_split\n",
    "from sklearn.model_selection import cross_val_score, train_test_split\n",
    "\n",
    "from sklearn.preprocessing import StandardScaler\n",
    "from sklearn.pipeline import Pipeline\n",
    "\n",
    "from sklearn.linear_model import LinearRegression\n",
    "\n",
    "\n",
    "from sklearn.metrics import r2_score"
   ]
  },
  {
   "cell_type": "code",
   "execution_count": 2,
   "metadata": {},
   "outputs": [],
   "source": [
    "# СЛУЖЕБНОЕ Ячейка с c начальными настройками библиотек и Python\n",
    "\n",
    "pd.set_option('display.max_columns', 50)\n",
    "pd.set_option('display.max_rows', 50) \n",
    "pd.options.mode.chained_assignment = None\n"
   ]
  },
  {
   "cell_type": "code",
   "execution_count": 3,
   "metadata": {},
   "outputs": [],
   "source": [
    "# СЛУЖЕБНОЕ Ячейка с c глобальными переменными к проекту\n",
    "\n",
    "RANDOM_STATE = 3141592654\n",
    "CV_VALUE = 5"
   ]
  },
  {
   "cell_type": "markdown",
   "metadata": {},
   "source": [
    "**Функции общего назначения**"
   ]
  },
  {
   "cell_type": "code",
   "execution_count": 4,
   "metadata": {},
   "outputs": [],
   "source": [
    "def first_info(dataframe, data_title='Неопознанный набор данных',\n",
    "               head_length=6, bins=42, figsize=(15,12),\n",
    "               info_show=True, describe_show=True, corr_show=True, hist_show=True):\n",
    "    '''\n",
    "    dataframe: датафрейм для анализа\n",
    "    data_title: пользовательское название набора данных\n",
    "    head_length: количество строк, отображаемых функцией при выводе датасета\n",
    "    bins: для гистограммы - количество корзин, 42 by default\n",
    "    figsize: для гистограммы - размер графика, кортеж (15,12) by default\n",
    "    info_show: True, если нужно показывать результат метода DataFrame.info(), True by default \n",
    "    describe_show: True, если нужно показывать результат метода DataFrame.describe(), True by default \n",
    "    corr_show: True, если нужно показывать результат метода DataFrame.сorr(), True by default \n",
    "    hist_show: True, если нужно показывать гистограмму распределений значений DataFrame, True by default\n",
    "    \n",
    "    Функция  принимает на вход Pandas.DataFrame, Краткое название датафрейма (для вывода в логе выполнения функции) \n",
    "    и количество строк датафрейма, которое будет выводить функция в ходе работы. \n",
    "    Функция создана для упрощения первичного знакомства с данными\n",
    "    Возвращает None\n",
    "    '''\n",
    "    try:\n",
    "        print(f'Данные по датасету: {data_title}')\n",
    "        display(dataframe.head(head_length))\n",
    "        if info_show:\n",
    "            dataframe.info()\n",
    "        if describe_show:\n",
    "            print()\n",
    "            print(f'Описательная статистика датасета: {data_title}')\n",
    "            display(dataframe.describe())\n",
    "        if corr_show:\n",
    "            print('Корреляция значений признаков')\n",
    "            display(pd.DataFrame(dataframe.corr()))\n",
    "        if hist_show:    \n",
    "            dataframe.hist(bins=bins, figsize=figsize);\n",
    "        \n",
    "    except:\n",
    "        print(f'Ошибка в передаваемых аргументах\\nПроверьте ввод!')"
   ]
  },
  {
   "cell_type": "code",
   "execution_count": 5,
   "metadata": {},
   "outputs": [],
   "source": [
    "def df_and_hist_create(X, columns_list,\n",
    "                       data_title='Преобразованная матрица признаков. Метод 1',\n",
    "                       out=False):\n",
    "    '''\n",
    "    X: array_like\n",
    "    columns_list: List with column names. The number of columns must match the X array\n",
    "    data_title: Data description text. Showed when the function is running\n",
    "    out: If True then the function returns the created pandas DataFrame\n",
    "    \n",
    "    Function creates a pandas DataFrame from X (array), builds histograms of the distribution of feature values\n",
    "    and a table with correlation of feature values. Using first_info() function\n",
    "    Returns a DataFrame if <out> is True\n",
    "    '''\n",
    "    result = None\n",
    "    df_X = pd.DataFrame(X, columns=columns_list)\n",
    "    first_info(df_X, data_title=data_title, info_show=False, describe_show=False, corr_show=False, hist_show=True)\n",
    "    if out:\n",
    "        result = df_X\n",
    "    return result"
   ]
  },
  {
   "cell_type": "markdown",
   "metadata": {},
   "source": [
    "## Загрузка и подготовка данных"
   ]
  },
  {
   "cell_type": "markdown",
   "metadata": {},
   "source": [
    "### Открытие файлов, знакомство с данными"
   ]
  },
  {
   "cell_type": "code",
   "execution_count": 6,
   "metadata": {},
   "outputs": [],
   "source": [
    "try:\n",
    "    data = pd.read_csv('/datasets/insurance.csv')\n",
    "except:\n",
    "    data = pd.read_csv('https://code.s3.yandex.net/datasets/insurance.csv')"
   ]
  },
  {
   "cell_type": "code",
   "execution_count": 7,
   "metadata": {
    "scrolled": false
   },
   "outputs": [
    {
     "name": "stdout",
     "output_type": "stream",
     "text": [
      "Данные по датасету: Персональные данные клиентов - страхователей\n"
     ]
    },
    {
     "data": {
      "text/html": [
       "<div>\n",
       "<style scoped>\n",
       "    .dataframe tbody tr th:only-of-type {\n",
       "        vertical-align: middle;\n",
       "    }\n",
       "\n",
       "    .dataframe tbody tr th {\n",
       "        vertical-align: top;\n",
       "    }\n",
       "\n",
       "    .dataframe thead th {\n",
       "        text-align: right;\n",
       "    }\n",
       "</style>\n",
       "<table border=\"1\" class=\"dataframe\">\n",
       "  <thead>\n",
       "    <tr style=\"text-align: right;\">\n",
       "      <th></th>\n",
       "      <th>Пол</th>\n",
       "      <th>Возраст</th>\n",
       "      <th>Зарплата</th>\n",
       "      <th>Члены семьи</th>\n",
       "      <th>Страховые выплаты</th>\n",
       "    </tr>\n",
       "  </thead>\n",
       "  <tbody>\n",
       "    <tr>\n",
       "      <th>0</th>\n",
       "      <td>1</td>\n",
       "      <td>41.0</td>\n",
       "      <td>49600.0</td>\n",
       "      <td>1</td>\n",
       "      <td>0</td>\n",
       "    </tr>\n",
       "    <tr>\n",
       "      <th>1</th>\n",
       "      <td>0</td>\n",
       "      <td>46.0</td>\n",
       "      <td>38000.0</td>\n",
       "      <td>1</td>\n",
       "      <td>1</td>\n",
       "    </tr>\n",
       "    <tr>\n",
       "      <th>2</th>\n",
       "      <td>0</td>\n",
       "      <td>29.0</td>\n",
       "      <td>21000.0</td>\n",
       "      <td>0</td>\n",
       "      <td>0</td>\n",
       "    </tr>\n",
       "    <tr>\n",
       "      <th>3</th>\n",
       "      <td>0</td>\n",
       "      <td>21.0</td>\n",
       "      <td>41700.0</td>\n",
       "      <td>2</td>\n",
       "      <td>0</td>\n",
       "    </tr>\n",
       "    <tr>\n",
       "      <th>4</th>\n",
       "      <td>1</td>\n",
       "      <td>28.0</td>\n",
       "      <td>26100.0</td>\n",
       "      <td>0</td>\n",
       "      <td>0</td>\n",
       "    </tr>\n",
       "    <tr>\n",
       "      <th>5</th>\n",
       "      <td>1</td>\n",
       "      <td>43.0</td>\n",
       "      <td>41000.0</td>\n",
       "      <td>2</td>\n",
       "      <td>1</td>\n",
       "    </tr>\n",
       "    <tr>\n",
       "      <th>6</th>\n",
       "      <td>1</td>\n",
       "      <td>39.0</td>\n",
       "      <td>39700.0</td>\n",
       "      <td>2</td>\n",
       "      <td>0</td>\n",
       "    </tr>\n",
       "    <tr>\n",
       "      <th>7</th>\n",
       "      <td>1</td>\n",
       "      <td>25.0</td>\n",
       "      <td>38600.0</td>\n",
       "      <td>4</td>\n",
       "      <td>0</td>\n",
       "    </tr>\n",
       "    <tr>\n",
       "      <th>8</th>\n",
       "      <td>1</td>\n",
       "      <td>36.0</td>\n",
       "      <td>49700.0</td>\n",
       "      <td>1</td>\n",
       "      <td>0</td>\n",
       "    </tr>\n",
       "    <tr>\n",
       "      <th>9</th>\n",
       "      <td>1</td>\n",
       "      <td>32.0</td>\n",
       "      <td>51700.0</td>\n",
       "      <td>1</td>\n",
       "      <td>0</td>\n",
       "    </tr>\n",
       "    <tr>\n",
       "      <th>10</th>\n",
       "      <td>1</td>\n",
       "      <td>25.0</td>\n",
       "      <td>36600.0</td>\n",
       "      <td>1</td>\n",
       "      <td>0</td>\n",
       "    </tr>\n",
       "    <tr>\n",
       "      <th>11</th>\n",
       "      <td>1</td>\n",
       "      <td>38.0</td>\n",
       "      <td>29300.0</td>\n",
       "      <td>0</td>\n",
       "      <td>0</td>\n",
       "    </tr>\n",
       "    <tr>\n",
       "      <th>12</th>\n",
       "      <td>0</td>\n",
       "      <td>23.0</td>\n",
       "      <td>39500.0</td>\n",
       "      <td>3</td>\n",
       "      <td>0</td>\n",
       "    </tr>\n",
       "  </tbody>\n",
       "</table>\n",
       "</div>"
      ],
      "text/plain": [
       "    Пол  Возраст  Зарплата  Члены семьи  Страховые выплаты\n",
       "0     1     41.0   49600.0            1                  0\n",
       "1     0     46.0   38000.0            1                  1\n",
       "2     0     29.0   21000.0            0                  0\n",
       "3     0     21.0   41700.0            2                  0\n",
       "4     1     28.0   26100.0            0                  0\n",
       "5     1     43.0   41000.0            2                  1\n",
       "6     1     39.0   39700.0            2                  0\n",
       "7     1     25.0   38600.0            4                  0\n",
       "8     1     36.0   49700.0            1                  0\n",
       "9     1     32.0   51700.0            1                  0\n",
       "10    1     25.0   36600.0            1                  0\n",
       "11    1     38.0   29300.0            0                  0\n",
       "12    0     23.0   39500.0            3                  0"
      ]
     },
     "metadata": {},
     "output_type": "display_data"
    },
    {
     "name": "stdout",
     "output_type": "stream",
     "text": [
      "<class 'pandas.core.frame.DataFrame'>\n",
      "RangeIndex: 5000 entries, 0 to 4999\n",
      "Data columns (total 5 columns):\n",
      " #   Column             Non-Null Count  Dtype  \n",
      "---  ------             --------------  -----  \n",
      " 0   Пол                5000 non-null   int64  \n",
      " 1   Возраст            5000 non-null   float64\n",
      " 2   Зарплата           5000 non-null   float64\n",
      " 3   Члены семьи        5000 non-null   int64  \n",
      " 4   Страховые выплаты  5000 non-null   int64  \n",
      "dtypes: float64(2), int64(3)\n",
      "memory usage: 195.4 KB\n",
      "\n",
      "Описательная статистика датасета: Персональные данные клиентов - страхователей\n"
     ]
    },
    {
     "data": {
      "text/html": [
       "<div>\n",
       "<style scoped>\n",
       "    .dataframe tbody tr th:only-of-type {\n",
       "        vertical-align: middle;\n",
       "    }\n",
       "\n",
       "    .dataframe tbody tr th {\n",
       "        vertical-align: top;\n",
       "    }\n",
       "\n",
       "    .dataframe thead th {\n",
       "        text-align: right;\n",
       "    }\n",
       "</style>\n",
       "<table border=\"1\" class=\"dataframe\">\n",
       "  <thead>\n",
       "    <tr style=\"text-align: right;\">\n",
       "      <th></th>\n",
       "      <th>Пол</th>\n",
       "      <th>Возраст</th>\n",
       "      <th>Зарплата</th>\n",
       "      <th>Члены семьи</th>\n",
       "      <th>Страховые выплаты</th>\n",
       "    </tr>\n",
       "  </thead>\n",
       "  <tbody>\n",
       "    <tr>\n",
       "      <th>count</th>\n",
       "      <td>5000.000000</td>\n",
       "      <td>5000.000000</td>\n",
       "      <td>5000.000000</td>\n",
       "      <td>5000.000000</td>\n",
       "      <td>5000.000000</td>\n",
       "    </tr>\n",
       "    <tr>\n",
       "      <th>mean</th>\n",
       "      <td>0.499000</td>\n",
       "      <td>30.952800</td>\n",
       "      <td>39916.360000</td>\n",
       "      <td>1.194200</td>\n",
       "      <td>0.148000</td>\n",
       "    </tr>\n",
       "    <tr>\n",
       "      <th>std</th>\n",
       "      <td>0.500049</td>\n",
       "      <td>8.440807</td>\n",
       "      <td>9900.083569</td>\n",
       "      <td>1.091387</td>\n",
       "      <td>0.463183</td>\n",
       "    </tr>\n",
       "    <tr>\n",
       "      <th>min</th>\n",
       "      <td>0.000000</td>\n",
       "      <td>18.000000</td>\n",
       "      <td>5300.000000</td>\n",
       "      <td>0.000000</td>\n",
       "      <td>0.000000</td>\n",
       "    </tr>\n",
       "    <tr>\n",
       "      <th>25%</th>\n",
       "      <td>0.000000</td>\n",
       "      <td>24.000000</td>\n",
       "      <td>33300.000000</td>\n",
       "      <td>0.000000</td>\n",
       "      <td>0.000000</td>\n",
       "    </tr>\n",
       "    <tr>\n",
       "      <th>50%</th>\n",
       "      <td>0.000000</td>\n",
       "      <td>30.000000</td>\n",
       "      <td>40200.000000</td>\n",
       "      <td>1.000000</td>\n",
       "      <td>0.000000</td>\n",
       "    </tr>\n",
       "    <tr>\n",
       "      <th>75%</th>\n",
       "      <td>1.000000</td>\n",
       "      <td>37.000000</td>\n",
       "      <td>46600.000000</td>\n",
       "      <td>2.000000</td>\n",
       "      <td>0.000000</td>\n",
       "    </tr>\n",
       "    <tr>\n",
       "      <th>max</th>\n",
       "      <td>1.000000</td>\n",
       "      <td>65.000000</td>\n",
       "      <td>79000.000000</td>\n",
       "      <td>6.000000</td>\n",
       "      <td>5.000000</td>\n",
       "    </tr>\n",
       "  </tbody>\n",
       "</table>\n",
       "</div>"
      ],
      "text/plain": [
       "               Пол      Возраст      Зарплата  Члены семьи  Страховые выплаты\n",
       "count  5000.000000  5000.000000   5000.000000  5000.000000        5000.000000\n",
       "mean      0.499000    30.952800  39916.360000     1.194200           0.148000\n",
       "std       0.500049     8.440807   9900.083569     1.091387           0.463183\n",
       "min       0.000000    18.000000   5300.000000     0.000000           0.000000\n",
       "25%       0.000000    24.000000  33300.000000     0.000000           0.000000\n",
       "50%       0.000000    30.000000  40200.000000     1.000000           0.000000\n",
       "75%       1.000000    37.000000  46600.000000     2.000000           0.000000\n",
       "max       1.000000    65.000000  79000.000000     6.000000           5.000000"
      ]
     },
     "metadata": {},
     "output_type": "display_data"
    },
    {
     "name": "stdout",
     "output_type": "stream",
     "text": [
      "Корреляция значений признаков\n"
     ]
    },
    {
     "data": {
      "text/html": [
       "<div>\n",
       "<style scoped>\n",
       "    .dataframe tbody tr th:only-of-type {\n",
       "        vertical-align: middle;\n",
       "    }\n",
       "\n",
       "    .dataframe tbody tr th {\n",
       "        vertical-align: top;\n",
       "    }\n",
       "\n",
       "    .dataframe thead th {\n",
       "        text-align: right;\n",
       "    }\n",
       "</style>\n",
       "<table border=\"1\" class=\"dataframe\">\n",
       "  <thead>\n",
       "    <tr style=\"text-align: right;\">\n",
       "      <th></th>\n",
       "      <th>Пол</th>\n",
       "      <th>Возраст</th>\n",
       "      <th>Зарплата</th>\n",
       "      <th>Члены семьи</th>\n",
       "      <th>Страховые выплаты</th>\n",
       "    </tr>\n",
       "  </thead>\n",
       "  <tbody>\n",
       "    <tr>\n",
       "      <th>Пол</th>\n",
       "      <td>1.000000</td>\n",
       "      <td>0.002074</td>\n",
       "      <td>0.014910</td>\n",
       "      <td>-0.008991</td>\n",
       "      <td>0.010140</td>\n",
       "    </tr>\n",
       "    <tr>\n",
       "      <th>Возраст</th>\n",
       "      <td>0.002074</td>\n",
       "      <td>1.000000</td>\n",
       "      <td>-0.019093</td>\n",
       "      <td>-0.006692</td>\n",
       "      <td>0.651030</td>\n",
       "    </tr>\n",
       "    <tr>\n",
       "      <th>Зарплата</th>\n",
       "      <td>0.014910</td>\n",
       "      <td>-0.019093</td>\n",
       "      <td>1.000000</td>\n",
       "      <td>-0.030296</td>\n",
       "      <td>-0.014963</td>\n",
       "    </tr>\n",
       "    <tr>\n",
       "      <th>Члены семьи</th>\n",
       "      <td>-0.008991</td>\n",
       "      <td>-0.006692</td>\n",
       "      <td>-0.030296</td>\n",
       "      <td>1.000000</td>\n",
       "      <td>-0.036290</td>\n",
       "    </tr>\n",
       "    <tr>\n",
       "      <th>Страховые выплаты</th>\n",
       "      <td>0.010140</td>\n",
       "      <td>0.651030</td>\n",
       "      <td>-0.014963</td>\n",
       "      <td>-0.036290</td>\n",
       "      <td>1.000000</td>\n",
       "    </tr>\n",
       "  </tbody>\n",
       "</table>\n",
       "</div>"
      ],
      "text/plain": [
       "                        Пол   Возраст  Зарплата  Члены семьи  \\\n",
       "Пол                1.000000  0.002074  0.014910    -0.008991   \n",
       "Возраст            0.002074  1.000000 -0.019093    -0.006692   \n",
       "Зарплата           0.014910 -0.019093  1.000000    -0.030296   \n",
       "Члены семьи       -0.008991 -0.006692 -0.030296     1.000000   \n",
       "Страховые выплаты  0.010140  0.651030 -0.014963    -0.036290   \n",
       "\n",
       "                   Страховые выплаты  \n",
       "Пол                         0.010140  \n",
       "Возраст                     0.651030  \n",
       "Зарплата                   -0.014963  \n",
       "Члены семьи                -0.036290  \n",
       "Страховые выплаты           1.000000  "
      ]
     },
     "metadata": {},
     "output_type": "display_data"
    },
    {
     "data": {
      "image/png": "[encoded data removed]",
      "text/plain": [
       "<Figure size 1080x864 with 6 Axes>"
      ]
     },
     "metadata": {
      "needs_background": "light"
     },
     "output_type": "display_data"
    }
   ],
   "source": [
    "first_info(data, data_title='Персональные данные клиентов - страхователей', head_length=13)"
   ]
  },
  {
   "cell_type": "markdown",
   "metadata": {},
   "source": [
    "Судя по гистограммам:\n",
    "- Признак `Пол` - бинарный, категориальный, распределен дискретно равномерно\n",
    "- Признаки `Возраст`, `Зарплата` и `Члены семьи` - численные, распределены непрерывно нормально\n",
    "- Признак `Возраст` содержит выбросы.\n",
    "- Признак `Члены семьи` и `Страховые выплаты` - численные, распределены дискретно по Пуассону\n",
    "- Признак `Страховые выплаты` - численный, определен как целевой. Т.е машинное обучение будет решать задачу регрессии"
   ]
  },
  {
   "cell_type": "markdown",
   "metadata": {},
   "source": [
    "### Предобработка данных"
   ]
  },
  {
   "cell_type": "markdown",
   "metadata": {},
   "source": [
    "#### Стандартизация названий признаков"
   ]
  },
  {
   "cell_type": "markdown",
   "metadata": {},
   "source": [
    "Для обеспечания задач стандартизации и совместимости переведем названия столбцов на английский и приведем к змеиному_регистру:"
   ]
  },
  {
   "cell_type": "code",
   "execution_count": 8,
   "metadata": {
    "scrolled": true
   },
   "outputs": [],
   "source": [
    "data.columns = ['gender', 'age', 'salary','family_members', 'insurance_payments']"
   ]
  },
  {
   "cell_type": "markdown",
   "metadata": {},
   "source": [
    "#### Поиск и обработка дубликатов, анализ пропусков, выбросов и избыточных данных"
   ]
  },
  {
   "cell_type": "markdown",
   "metadata": {},
   "source": [
    "Исходя из распределения значений на гистограммах, показанных на этапе знакомства с данными:\n",
    "- выбросы присутствуют для признака `Age (Возраст)`. Природу возникновения выбросов получить у заказчика не удалось. Так как данные получены от бизнеса (достоверны), а целью проекта является нахождение алгоритма шифрования значений признаков, принято решение выбросы не удалять.\n",
    "- пропуски отсутствуют\n",
    "- дубликаты отсутствуют (иходя из описания данных)\n",
    "\n",
    "\n",
    "Сводная таблица с описанием данных:\n",
    "\n",
    "| column_name        | description             | count | feature_type |        |\n",
    "|:-------------------|:------------------------|:------|:-------------|:-------|\n",
    "| gender             | Пол                     | 5000  | categorical  |        |\n",
    "| age                | Возраст                 | 5000  | numerical    |        |\n",
    "| salary             | Зарплата                | 5000  | numerical    |        |\n",
    "| family_members     | Количество членов семьи     | 5000  | numerical    |        |\n",
    "| insurance_payments | Количество страховых выплат | 5000  | numerical    | target |"
   ]
  },
  {
   "cell_type": "markdown",
   "metadata": {},
   "source": [
    "### Вывод по разделу 1\n",
    "\n",
    "- Распределение значений признаков удовлетворяет целям исследования\n",
    "- Признак `Пол` - бинарный, категориальный, распределен дискретно равномерно\n",
    "- Признаки `Возраст`, `Зарплата` и `Члены семьи` - численные, распределены непрерывно нормально\n",
    "- Признак `Возраст` содержит выбросы. Исследованием принято решение выбросы не удалять.\n",
    "- Признак `Члены семьи` и `Страховые выплаты` - численные, распределены дискретно по Пуассону\n",
    "- Признак `Страховые выплаты` - численный, определен как целевой. Т.е машинное обучение будет решать задачу регрессии"
   ]
  },
  {
   "cell_type": "markdown",
   "metadata": {},
   "source": [
    "## Умножение матриц"
   ]
  },
  {
   "cell_type": "markdown",
   "metadata": {},
   "source": [
    "В этом задании вы можете записывать формулы в *Jupyter Notebook.*\n",
    "\n",
    "Чтобы записать формулу внутри текста, окружите её символами доллара \\\\$; если снаружи —  двойными символами \\\\$\\\\$. Эти формулы записываются на языке вёрстки *LaTeX.* \n",
    "\n",
    "Для примера мы записали формулы линейной регрессии. Можете их скопировать и отредактировать, чтобы решить задачу.\n",
    "\n",
    "Работать в *LaTeX* необязательно."
   ]
  },
  {
   "cell_type": "markdown",
   "metadata": {},
   "source": [
    "Обозначения:\n",
    "\n",
    "- $X$ — матрица признаков (нулевой столбец состоит из единиц)\n",
    "\n",
    "- $y$ — вектор целевого признака\n",
    "\n",
    "- $P$ — матрица, на которую умножаются признаки\n",
    "\n",
    "- $w$ — вектор весов линейной регрессии (нулевой элемент равен сдвигу)"
   ]
  },
  {
   "cell_type": "markdown",
   "metadata": {},
   "source": [
    "Предсказания:\n",
    "\n",
    "$$\n",
    "a = Xw\n",
    "$$\n",
    "\n",
    "Задача обучения:\n",
    "\n",
    "$$\n",
    "w = \\arg\\min_w MSE(Xw, y)\n",
    "$$\n",
    "\n",
    "Формула обучения:\n",
    "\n",
    "$$\n",
    "w = (X^T X)^{-1} X^T y\n",
    "$$"
   ]
  },
  {
   "cell_type": "markdown",
   "metadata": {},
   "source": [
    "**Вопрос**\n",
    "\n",
    "Признаки умножают на обратимую матрицу. Изменится ли качество линейной регрессии? (Её можно обучить заново.)\n",
    "\n",
    "**Ответ:** \n",
    "\n",
    "При умножении признаков на обратимую матрицу качество линейной регрессии **не изменится**.\n",
    "\n",
    "**Обоснование:**\n",
    "\n",
    "Обратная для квадратной матрицы A (англ. inverse matrix) — матрица A с верхним индексом -1, произведение которой на А равно единичной матрице. Умножение может быть в любом порядке:\n",
    "$$\n",
    "AA^{-1} = A^{-1}A = E\n",
    "$$\n",
    "Квадратные матрицы, для которых можно найти обратные, называются обратимыми (англ. invertible matrix).\n",
    "\n",
    "пусть:\n",
    "\n",
    "- $X$ — матрица признаков (нулевой столбец состоит из единиц)\n",
    "\n",
    "- $y$ — вектор целевого признака\n",
    "\n",
    "- $P$ — обратимая матрица, на которую умножаются признаки\n",
    "\n",
    "- $w$ — вектор весов линейной регрессии (нулевой элемент равен сдвигу)\n",
    "\n",
    "Умножим матрицу признаков на P (обратимую матрицу), тогда формула обучения примет вид:\n",
    "$$\n",
    "w(p) = ((XP)^T (XP))^{-1} (XP)^T y\n",
    "$$\n",
    "    \n",
    "вынесем P за скобки:\n",
    "\n",
    "$$\n",
    "w(p) = P^{-1}((XP)^{T}X)^{-1} P^TX^T y\n",
    "$$\n",
    "\n",
    "раскроем скобки:\n",
    "\n",
    "$$\n",
    "w(p) = P^{-1}(X^{T} P^{T} X)^{-1} P^TX^T y\n",
    "$$\n",
    "\n",
    "тогда:\n",
    "$$\n",
    "w(p) = P^{-1}(X^T X)^{-1}(P^T)^{-1} P^T X^T y\n",
    "$$\n",
    "\n",
    "или:\n",
    "$$\n",
    "w(p) = P^{-1} (P^T)^{-1} P^T (X^T X)^{-1} X^T y\n",
    "$$\n",
    "\n",
    "если:\n",
    "$$\n",
    "w = (X^T X)^{-1} X^T y\n",
    "$$\n",
    "\n",
    "то:\n",
    "$$\n",
    "w(p) = P^{-1} (P^T)^{-1} P^T w\n",
    "$$\n",
    "\n",
    "Произведение матрицы на обратную матрицу равно единичной матрице, а произведение матрицы на единичную дает ту же матрицу, тогда:\n",
    "$$\n",
    "w(p) = P^{-1} E w\n",
    "$$\n",
    "$$\n",
    "w(p) = P^{-1} w\n",
    "$$\n",
    "\n",
    "\n",
    "Предсказания для исходных признаков:\n",
    "\n",
    "$$\n",
    "a = Xw\n",
    "$$\n",
    "\n",
    "Предсказания для умноженных на P признаков:\n",
    "\n",
    "$$\n",
    "a(p) = XPw(p)\n",
    "$$\n",
    "\n",
    "или:\n",
    "\n",
    "$$\n",
    "a(p) = X P P^{-1} w\n",
    "$$\n",
    "\n",
    "Здесь снова умножение матрицы на обратную матрицу, результат умножения равен E, а значит:\n",
    "$$\n",
    "a(p) = X E w\n",
    "$$\n",
    "\n",
    "или:\n",
    "$$\n",
    "a(p) = Xw = a\n",
    "$$\n",
    "\n",
    "предсказания для исходных признаков и для преобразованных (умноженных на P) равны, а значит качество линейной регрессии не изменится."
   ]
  },
  {
   "cell_type": "markdown",
   "metadata": {},
   "source": [
    "### Вывод по разделу 2\n",
    "\n",
    "- При умножении признаков на обратимую матрицу качество линейной регрессии не изменяется\n",
    "- Такое умножение можно использовать для задач шифрования признаков"
   ]
  },
  {
   "cell_type": "markdown",
   "metadata": {},
   "source": [
    "## Алгоритм преобразования"
   ]
  },
  {
   "cell_type": "markdown",
   "metadata": {},
   "source": [
    "### Алгоритм - Метод 1"
   ]
  },
  {
   "cell_type": "markdown",
   "metadata": {},
   "source": [
    "- Создадим основу ключа для шифрования:  матрицу с размерностью, соответствующей количеству исходных признаков\n",
    "- Найдем ключ: обратимую матрицу для основы ключа\n",
    "- Матрицу исходных признаков скалярно умножим на ключ (обратимую матрицу)\n",
    "\n",
    "**Обоснование**\n",
    "\n",
    "- математическое обоснование такого метода дано в разделе 2"
   ]
  },
  {
   "cell_type": "markdown",
   "metadata": {},
   "source": [
    "### Алгоритм - Метод 2"
   ]
  },
  {
   "cell_type": "markdown",
   "metadata": {},
   "source": [
    "- Создадим ключ для шифрования: квадратную матрицу с размерностью, соответствующей количеству исходных признаков\n",
    "- Если матрицу ключа умножать на вектор Xi, представляющий собой набор признаков одного объекта выборки, то компоненты полученного вектора Ci будут представлять собой зашифрованные значения признаков Xi.\n",
    "- Расшифрование осуществляется с использованием того же правила умножения матриц на вектор, только в качестве основы берется матрица, обратная матрице ключа, а в качестве вектора-сомножителя – вектор с набором зашифрованных признаков одного объекта выборки. Тогда значениями вектора-результата будут исходные значения признаков."
   ]
  },
  {
   "cell_type": "markdown",
   "metadata": {},
   "source": [
    "### Алгоритм - Проверка адекватности шифрования"
   ]
  },
  {
   "cell_type": "markdown",
   "metadata": {},
   "source": [
    "- Создадим матрицу со случайными значениями признаков с размерностью, соответствующей исходной матрице признаков\n",
    "- Сравним полученные значения метрик с метриками моделей, работающих с исходными признаками и зашифрованными признаками.\n",
    "- Если метрики на случайных признаках не равны метрикам на зашифрованных признаках - значит шифрование адекватно."
   ]
  },
  {
   "cell_type": "markdown",
   "metadata": {},
   "source": [
    "### Вывод по разделу 3\n",
    "\n",
    "- Предложены два метода шифрования признаков, дано обоснование методов\n",
    "- Предложен метод проверки адекватности шифрования"
   ]
  },
  {
   "cell_type": "markdown",
   "metadata": {},
   "source": [
    "## Проверка алгоритма"
   ]
  },
  {
   "cell_type": "markdown",
   "metadata": {},
   "source": [
    "### Выделение признаков и целевых признаков."
   ]
  },
  {
   "cell_type": "markdown",
   "metadata": {},
   "source": [
    "Выделим целевой признак и признаки для рассматриваемых объектов:\n",
    "\n",
    "Cогласно исходным данным:\n",
    "\n",
    "| column_name        | description             | count | feature_type |        |\n",
    "|:-------------------|:------------------------|:------|:-------------|:-------|\n",
    "| gender             | Пол                     | 5000  | categorical  |        |\n",
    "| age                | Возраст                 | 5000  | numerical    |        |\n",
    "| salary             | Зарплата                | 5000  | numerical    |        |\n",
    "| family_members     | Количество членов семьи     | 5000  | numerical    |        |\n",
    "| insurance_payments | Количество страховых выплат | 5000  | numerical    | target |"
   ]
  },
  {
   "cell_type": "code",
   "execution_count": 9,
   "metadata": {},
   "outputs": [],
   "source": [
    "features = data.drop('insurance_payments', axis=1)\n",
    "target = data['insurance_payments']"
   ]
  },
  {
   "cell_type": "code",
   "execution_count": 29,
   "metadata": {},
   "outputs": [
    {
     "data": {
      "text/plain": [
       "array([[3, 1, 4, 1],\n",
       "       [5, 9, 2, 6],\n",
       "       [5, 3, 5, 8],\n",
       "       [9, 7, 9, 3]])"
      ]
     },
     "metadata": {},
     "output_type": "display_data"
    }
   ],
   "source": [
    "X = features.values\n",
    "y = target.values\n",
    "\n",
    "X.shape\n",
    "\n",
    "required_size = features.shape[1]\n",
    "\n",
    "top_secret_key = np.array(list(\n",
    "    str(np.around(np.pi, decimals = required_size ** 2)).replace('.', ''))).reshape(required_size,required_size).astype(int)\n",
    "\n",
    "\n",
    "display(top_secret_key)"
   ]
  },
  {
   "cell_type": "markdown",
   "metadata": {},
   "source": [
    "Объявим функцию lr_research для исследования модели Линейной регрессии с учетом масштабирования данных"
   ]
  },
  {
   "cell_type": "code",
   "execution_count": null,
   "metadata": {},
   "outputs": [],
   "source": [
    "def lr_research(X, y, random_state=RANDOM_STATE, log_show=False):\n",
    "    '''\n",
    "    X: Data to predict on\n",
    "    y: Targets\n",
    "    rnd_state: Controls the shuffling applied to the data before applying the split.\n",
    "    Pass an int for reproducible output across multiple function calls. Global var. name RANDOM_STATE by default.\n",
    "    log_show: True if the operation log and metric values should be displayed while the function is running. False by default\n",
    "    \n",
    "    Function creates and trains a model (sklearn LinearRegression) on the training data and makes predictions on the test data.\n",
    "    The transmitted data is divided in a ratio of 75/25. The quality of the prediction is estimated by the metric R2.\n",
    "    It also scales features with StandartScaler using Pipeline.\n",
    "    Returns the value of R2 metrics on the training and test data\n",
    "    '''\n",
    "    X_train, X_test, y_train, y_test = train_test_split(X, y, random_state=random_state)\n",
    "    \n",
    "    pipe = Pipeline([(\"scaler\", StandardScaler()), (\"LinearRegression\", LinearRegression())])\n",
    "        \n",
    "    if log_show:\n",
    "        print('Исследование модели ЛИНЕЙНАЯ РЕГРЕССИЯ,\\nС МАСШТАБИРОВАНИЕМ признаков\\nкросс-валидация средствами sklearn:')\n",
    "        print()\n",
    "\n",
    "    scores_lr_auto_cross_val = cross_val_score(pipe,\n",
    "                                               X_train, y_train,\n",
    "                                               scoring='r2',\n",
    "                                               cv=CV_VALUE) \n",
    "\n",
    "    train_best_score_lr = (abs(scores_lr_auto_cross_val)).mean()\n",
    "    pipe.fit(X_train, y_train);\n",
    "    test_score_lr = pipe.score(X_test, y_test)\n",
    "    \n",
    "    if log_show:\n",
    "        print(f'Лучшее значение R2 на обучающем наборе = {train_best_score_lr:.4}')\n",
    "        print(f'Значение R2 на тестовом наборе: {test_score_lr:.4}')\n",
    "    \n",
    "    return train_best_score_lr, test_score_lr\n",
    "    "
   ]
  },
  {
   "cell_type": "markdown",
   "metadata": {},
   "source": [
    "### Шифрование по методу 1"
   ]
  },
  {
   "cell_type": "code",
   "execution_count": null,
   "metadata": {},
   "outputs": [],
   "source": [
    "key_base = np.array([\n",
    "    [3, 1, 4, 1],\n",
    "    [5, 9, 2, 6],\n",
    "    [5, 3, 5, 8],\n",
    "    [9, 7, 9, 3]])\n",
    "\n",
    "key1 = np.linalg.inv(key_base)\n",
    "X_encrypted1 = (X @ key_base) "
   ]
  },
  {
   "cell_type": "markdown",
   "metadata": {},
   "source": [
    "### Шифрование по методу 2"
   ]
  },
  {
   "cell_type": "code",
   "execution_count": null,
   "metadata": {
    "scrolled": false
   },
   "outputs": [],
   "source": [
    "key2 = key_base\n",
    "\n",
    "X_encrypted2 = np.array([[0, 0, 0, 0]])\n",
    "\n",
    "for row in X:\n",
    "    X_encrypted2 = np.append(X_encrypted2, [key2 @ row], axis=0)\n",
    "    \n",
    "X_encrypted2 = np.delete(X_encrypted2, 0, axis = 0)\n"
   ]
  },
  {
   "cell_type": "markdown",
   "metadata": {},
   "source": [
    "### Получение случайных предсказаний для проверки адекватности шифрования"
   ]
  },
  {
   "cell_type": "code",
   "execution_count": null,
   "metadata": {},
   "outputs": [],
   "source": [
    "X_random_normal = np.random.normal(size=X.shape)"
   ]
  },
  {
   "cell_type": "markdown",
   "metadata": {},
   "source": [
    "### Получение метрик модели Линейной регрессии для исходных и зашифрованных признаков"
   ]
  },
  {
   "cell_type": "code",
   "execution_count": null,
   "metadata": {
    "scrolled": true
   },
   "outputs": [],
   "source": [
    "log_show_temporary = False\n",
    "\n",
    "for X_wing in [X, X_encrypted1, X_encrypted2, X_random_normal]:\n",
    "    lr_research(X_wing, y, log_show=log_show_temporary);\n",
    "    if log_show_temporary == True:\n",
    "        print()\n",
    "\n",
    "result_table = pd.DataFrame({'Часть набора':['Обучающая выборка', 'Тестовая выборка'], \n",
    "                             'Исходные признаки':[lr_research(X, y)[0], lr_research(X, y)[1]],\n",
    "                             'Шифрование по методу 1':[lr_research(X_encrypted1, y)[0], lr_research(X_encrypted1, y)[1]],\n",
    "                             'Шифрование по методу 2':[lr_research(X_encrypted2, y)[0], lr_research(X_encrypted2, y)[1]],\n",
    "                             'Случайные данные, норм':[lr_research(X_random_normal, y)[0], lr_research(X_random_normal, y)[1]]})\n",
    "\n",
    "print('Сводная таблица со значениями метрики R2 для различных методов шифрования:')\n",
    "display(result_table)"
   ]
  },
  {
   "cell_type": "markdown",
   "metadata": {},
   "source": [
    "### Проверка качества линейной регрессии (метрика R2) из sklearn до и после шифрования."
   ]
  },
  {
   "cell_type": "code",
   "execution_count": null,
   "metadata": {},
   "outputs": [],
   "source": [
    "if (result_table.loc[1, 'Исходные признаки'] - result_table.loc[1, 'Шифрование по методу 1']) < 0.00001:\n",
    "    print('Качество линейной регрессии (метрика R2) из sklearn до и после шифрования не изменяется.')\n",
    "else:\n",
    "    print('ERROR! Метрика R2 модели на исходных признаках не совпала с метрикой модели на зашифрованных признаках!')"
   ]
  },
  {
   "cell_type": "markdown",
   "metadata": {},
   "source": [
    "### Проверка адекватности шиврования"
   ]
  },
  {
   "cell_type": "code",
   "execution_count": null,
   "metadata": {},
   "outputs": [],
   "source": [
    "if ( (result_table.loc[1, 'Случайные данные, норм'] == result_table.loc[1, 'Шифрование по методу 1'])\n",
    "    or (result_table.loc[1, 'Случайные данные, норм'] == result_table.loc[1, 'Шифрование по методу 2'])\n",
    "    or (result_table.loc[1, 'Случайные данные, норм'] == result_table.loc[1, 'Исходные признаки'])):\n",
    "    print('ERROR! Метрика R2 модели на случайных признаках совпала с метрикой модели на зашифрованных признаках!')\n",
    "else:\n",
    "    print('Методы шифрования адекватны. Метрики на зашифрованных данных отличаются от метрик случайных признаков.')"
   ]
  },
  {
   "cell_type": "markdown",
   "metadata": {},
   "source": [
    "### Оценка исходных и зашифрованных признаков"
   ]
  },
  {
   "cell_type": "code",
   "execution_count": null,
   "metadata": {},
   "outputs": [],
   "source": [
    "df_and_hist_create(X_encrypted1, \n",
    "                   data_title='Преобразованная матрица признаков.\\nМетод 1', \n",
    "                   columns_list=features.columns)"
   ]
  },
  {
   "cell_type": "code",
   "execution_count": null,
   "metadata": {},
   "outputs": [],
   "source": [
    "df_and_hist_create(X_encrypted2, \n",
    "                   data_title='Преобразованная матрица признаков.\\nМетод 2', \n",
    "                   columns_list=features.columns)"
   ]
  },
  {
   "cell_type": "code",
   "execution_count": null,
   "metadata": {
    "scrolled": false
   },
   "outputs": [],
   "source": [
    "df_and_hist_create(X_random_normal, \n",
    "                   data_title='Матрица признаков со случайными значениями, распределенными нормально.\\nПроверка адекватности №1', \n",
    "                   columns_list=features.columns)"
   ]
  },
  {
   "cell_type": "markdown",
   "metadata": {},
   "source": [
    "### Вывод по разделу 4\n",
    "\n",
    "- Запрограммированы и выполнены два алгоритма методов шифрования признаков\n",
    "- Запрограммирован и выполнен алгоритм метод проверки адекватности шифрования\n",
    "- Качество линейной регрессии (метрика R2) из sklearn до и после шифрования не изменяется.\n",
    "- Методы шифрования адекватны. Метрики на зашифрованных данных отличаются от метрик случайных признаков"
   ]
  },
  {
   "cell_type": "markdown",
   "metadata": {},
   "source": [
    "## Общий вывод"
   ]
  },
  {
   "cell_type": "markdown",
   "metadata": {},
   "source": [
    "**Исходные данные от заказчика**\n",
    "Набор данных находится в файле `/datasets/insurance.csv`\n",
    "Признаки: пол, возраст и зарплата застрахованного, количество членов его семьи.\n",
    "Целевой признак: количество страховых выплат клиенту за последние 5 лет.\n",
    "\n",
    "**Задача**\n",
    " - Ответить на вопрос и обосновать решение:\n",
    "   - Признаки умножают на обратимую матрицу. Изменится ли качество линейной регрессии? (Её можно обучить заново.)\n",
    " - Предложить алгоритм преобразования данных для решения задачи. Обосновать, почему качество линейной регрессии не поменяется.\n",
    "\n",
    "**Выводы по проекту**\n",
    "\n",
    "*Знакомство с данными и предобработка*\n",
    "\n",
    "- Распределение значений признаков удовлетворяет целям исследования\n",
    "- Признак `Пол` - бинарный, категориальный, распределен дискретно равномерно\n",
    "- Признаки `Возраст`, `Зарплата` и `Члены семьи` - численные, распределены непрерывно нормально\n",
    "- Признак `Возраст` содержит выбросы. Исследованием принято решение выбросы не удалять.\n",
    "- Признак `Члены семьи` и `Страховые выплаты` - численные, распределены дискретно по Пуассону\n",
    "- Признак `Страховые выплаты` - численный, определен как целевой. Т.е машинное обучение будет решать задачу регрессии\n",
    "\n",
    "*Умножение матриц*\n",
    "- При умножении признаков на обратимую матрицу качество линейной регрессии не изменяется, дано обоснование\n",
    "- Такое умножение можно использовать для задач шифрования признаков\n",
    "\n",
    "*Алгоритм преобразования*\n",
    "- Предложены два метода шифрования признаков, дано обоснование методов\n",
    "- Предложен метод проверки адекватности шифрования\n",
    "\n",
    "# *Основной вывод*\n",
    "\n",
    "- При умножении признаков на обратимую матрицу качество линейной регрессии не изменяется.\n",
    "- Запрограммированы и выполнены два алгоритма методов шифрования признаков\n",
    "- Запрограммирован и выполнен алгоритм метод проверки адекватности шифрования\n",
    "- Качество линейной регрессии (метрика R2) из sklearn до и после шифрования не изменяется.\n",
    "- Методы шифрования адекватны. Метрики на зашифрованных данных отличаются от метрик случайных признаков\n",
    "\n"
   ]
  }
 ],
 "metadata": {
  "ExecuteTimeLog": [
   {
    "duration": 1719,
    "start_time": "2022-10-22T13:29:32.184Z"
   },
   {
    "duration": 3,
    "start_time": "2022-10-22T13:29:33.905Z"
   },
   {
    "duration": 13,
    "start_time": "2022-10-22T13:29:33.911Z"
   },
   {
    "duration": 113,
    "start_time": "2022-10-22T13:29:33.926Z"
   },
   {
    "duration": 56,
    "start_time": "2022-10-22T13:29:34.042Z"
   },
   {
    "duration": 37,
    "start_time": "2022-10-22T13:30:13.646Z"
   },
   {
    "duration": 72,
    "start_time": "2022-10-22T13:30:28.198Z"
   },
   {
    "duration": 42,
    "start_time": "2022-10-22T13:30:31.829Z"
   },
   {
    "duration": 39,
    "start_time": "2022-10-22T13:32:14.230Z"
   },
   {
    "duration": 542,
    "start_time": "2022-10-22T13:32:50.737Z"
   },
   {
    "duration": 708,
    "start_time": "2022-10-22T13:33:00.419Z"
   },
   {
    "duration": 888,
    "start_time": "2022-10-22T13:33:11.525Z"
   },
   {
    "duration": 1063,
    "start_time": "2022-10-22T13:33:17.986Z"
   },
   {
    "duration": 887,
    "start_time": "2022-10-22T13:33:20.733Z"
   },
   {
    "duration": 3,
    "start_time": "2022-10-22T13:51:02.947Z"
   },
   {
    "duration": 14,
    "start_time": "2022-10-22T13:51:09.786Z"
   },
   {
    "duration": 4,
    "start_time": "2022-10-22T14:01:48.609Z"
   },
   {
    "duration": 5,
    "start_time": "2022-10-22T14:19:19.742Z"
   },
   {
    "duration": 6,
    "start_time": "2022-10-22T14:19:19.749Z"
   },
   {
    "duration": 5,
    "start_time": "2022-10-22T14:19:19.756Z"
   },
   {
    "duration": 5,
    "start_time": "2022-10-22T14:19:19.763Z"
   },
   {
    "duration": 31,
    "start_time": "2022-10-22T14:19:19.771Z"
   },
   {
    "duration": 38,
    "start_time": "2022-10-22T14:19:19.803Z"
   },
   {
    "duration": 1029,
    "start_time": "2022-10-22T14:19:19.843Z"
   },
   {
    "duration": 4,
    "start_time": "2022-10-22T14:19:20.874Z"
   },
   {
    "duration": 16,
    "start_time": "2022-10-22T14:19:20.879Z"
   },
   {
    "duration": 115,
    "start_time": "2022-10-22T14:19:20.896Z"
   },
   {
    "duration": 0,
    "start_time": "2022-10-22T14:19:21.013Z"
   },
   {
    "duration": 0,
    "start_time": "2022-10-22T14:19:21.014Z"
   },
   {
    "duration": 0,
    "start_time": "2022-10-22T14:19:21.016Z"
   },
   {
    "duration": 4,
    "start_time": "2022-10-22T14:19:54.797Z"
   },
   {
    "duration": 4,
    "start_time": "2022-10-22T14:20:00.202Z"
   },
   {
    "duration": 10,
    "start_time": "2022-10-22T14:20:00.208Z"
   },
   {
    "duration": 10,
    "start_time": "2022-10-22T14:20:00.221Z"
   },
   {
    "duration": 10,
    "start_time": "2022-10-22T14:20:00.233Z"
   },
   {
    "duration": 39,
    "start_time": "2022-10-22T14:20:00.245Z"
   },
   {
    "duration": 41,
    "start_time": "2022-10-22T14:20:00.285Z"
   },
   {
    "duration": 854,
    "start_time": "2022-10-22T14:20:00.328Z"
   },
   {
    "duration": 4,
    "start_time": "2022-10-22T14:20:01.184Z"
   },
   {
    "duration": 5,
    "start_time": "2022-10-22T14:20:01.195Z"
   },
   {
    "duration": 15,
    "start_time": "2022-10-22T14:20:01.201Z"
   },
   {
    "duration": 72,
    "start_time": "2022-10-22T14:20:01.217Z"
   },
   {
    "duration": 0,
    "start_time": "2022-10-22T14:20:01.290Z"
   },
   {
    "duration": 0,
    "start_time": "2022-10-22T14:20:01.292Z"
   },
   {
    "duration": 4,
    "start_time": "2022-10-22T14:20:06.709Z"
   },
   {
    "duration": 13,
    "start_time": "2022-10-22T14:20:09.009Z"
   },
   {
    "duration": 26,
    "start_time": "2022-10-22T14:20:16.480Z"
   },
   {
    "duration": 26,
    "start_time": "2022-10-22T14:20:33.916Z"
   },
   {
    "duration": 24,
    "start_time": "2022-10-22T14:20:40.326Z"
   },
   {
    "duration": 9,
    "start_time": "2022-10-22T14:20:46.026Z"
   },
   {
    "duration": 10,
    "start_time": "2022-10-22T14:20:48.677Z"
   },
   {
    "duration": 26,
    "start_time": "2022-10-22T14:20:55.978Z"
   },
   {
    "duration": 3,
    "start_time": "2022-10-22T14:20:59.769Z"
   },
   {
    "duration": 25,
    "start_time": "2022-10-22T14:21:01.583Z"
   },
   {
    "duration": 21,
    "start_time": "2022-10-22T14:22:03.124Z"
   },
   {
    "duration": 12,
    "start_time": "2022-10-22T14:22:15.761Z"
   },
   {
    "duration": 28,
    "start_time": "2022-10-22T14:22:17.023Z"
   },
   {
    "duration": 7,
    "start_time": "2022-10-22T14:22:19.825Z"
   },
   {
    "duration": 69,
    "start_time": "2022-10-22T14:22:50.031Z"
   },
   {
    "duration": 94,
    "start_time": "2022-10-22T14:22:53.323Z"
   },
   {
    "duration": 8,
    "start_time": "2022-10-22T14:22:55.856Z"
   },
   {
    "duration": 8,
    "start_time": "2022-10-22T14:28:18.867Z"
   },
   {
    "duration": 48,
    "start_time": "2022-10-22T14:28:33.238Z"
   },
   {
    "duration": 8,
    "start_time": "2022-10-22T14:28:40.756Z"
   },
   {
    "duration": 48,
    "start_time": "2022-10-22T14:28:42.677Z"
   },
   {
    "duration": 8,
    "start_time": "2022-10-22T14:28:58.768Z"
   },
   {
    "duration": 6,
    "start_time": "2022-10-22T14:29:44.969Z"
   },
   {
    "duration": 41,
    "start_time": "2022-10-22T14:29:46.925Z"
   },
   {
    "duration": 5,
    "start_time": "2022-10-22T14:30:55.725Z"
   },
   {
    "duration": 7,
    "start_time": "2022-10-22T14:31:00.335Z"
   },
   {
    "duration": 44,
    "start_time": "2022-10-22T14:31:03.082Z"
   },
   {
    "duration": 8,
    "start_time": "2022-10-22T14:31:17.342Z"
   },
   {
    "duration": 7,
    "start_time": "2022-10-22T14:31:18.857Z"
   },
   {
    "duration": 44,
    "start_time": "2022-10-22T14:31:20.878Z"
   },
   {
    "duration": 29,
    "start_time": "2022-10-22T14:31:40.238Z"
   },
   {
    "duration": 24,
    "start_time": "2022-10-22T14:38:15.920Z"
   },
   {
    "duration": 13,
    "start_time": "2022-10-22T14:38:44.332Z"
   },
   {
    "duration": 3,
    "start_time": "2022-10-22T14:39:25.998Z"
   },
   {
    "duration": 4,
    "start_time": "2022-10-22T14:39:52.662Z"
   },
   {
    "duration": 18,
    "start_time": "2022-10-22T14:39:53.989Z"
   },
   {
    "duration": 5,
    "start_time": "2022-10-22T14:40:01.512Z"
   },
   {
    "duration": 4,
    "start_time": "2022-10-22T14:40:03.152Z"
   },
   {
    "duration": 34,
    "start_time": "2022-10-22T14:40:04.692Z"
   },
   {
    "duration": 25,
    "start_time": "2022-10-22T14:40:15.771Z"
   },
   {
    "duration": 12,
    "start_time": "2022-10-22T14:41:55.973Z"
   },
   {
    "duration": 19,
    "start_time": "2022-10-22T14:42:02.746Z"
   },
   {
    "duration": 3,
    "start_time": "2022-10-22T14:42:05.916Z"
   },
   {
    "duration": 6,
    "start_time": "2022-10-22T14:42:07.550Z"
   },
   {
    "duration": 10,
    "start_time": "2022-10-22T14:44:08.454Z"
   },
   {
    "duration": 6,
    "start_time": "2022-10-22T14:44:10.850Z"
   },
   {
    "duration": 6,
    "start_time": "2022-10-22T14:44:12.459Z"
   },
   {
    "duration": 4,
    "start_time": "2022-10-22T14:44:22.323Z"
   },
   {
    "duration": 8,
    "start_time": "2022-10-22T14:44:30.639Z"
   },
   {
    "duration": 96,
    "start_time": "2022-10-22T14:44:39.708Z"
   },
   {
    "duration": 55,
    "start_time": "2022-10-22T14:45:39.141Z"
   },
   {
    "duration": 7,
    "start_time": "2022-10-22T14:45:40.875Z"
   },
   {
    "duration": 22,
    "start_time": "2022-10-22T14:46:47.890Z"
   },
   {
    "duration": 16,
    "start_time": "2022-10-22T14:47:12.175Z"
   },
   {
    "duration": 23,
    "start_time": "2022-10-22T14:47:43.637Z"
   },
   {
    "duration": 765,
    "start_time": "2022-10-22T14:48:21.360Z"
   },
   {
    "duration": 937,
    "start_time": "2022-10-22T14:51:36.568Z"
   },
   {
    "duration": 114,
    "start_time": "2022-10-22T14:51:49.292Z"
   },
   {
    "duration": 17,
    "start_time": "2022-10-22T14:51:57.191Z"
   },
   {
    "duration": 16,
    "start_time": "2022-10-22T14:52:07.931Z"
   },
   {
    "duration": 5,
    "start_time": "2022-10-22T14:53:37.283Z"
   },
   {
    "duration": 15,
    "start_time": "2022-10-22T14:53:42.970Z"
   },
   {
    "duration": 13,
    "start_time": "2022-10-22T14:57:11.171Z"
   },
   {
    "duration": 16,
    "start_time": "2022-10-22T14:57:16.560Z"
   },
   {
    "duration": 15,
    "start_time": "2022-10-22T14:57:29.258Z"
   },
   {
    "duration": 13,
    "start_time": "2022-10-22T14:59:12.314Z"
   },
   {
    "duration": 15,
    "start_time": "2022-10-22T14:59:14.569Z"
   },
   {
    "duration": 16,
    "start_time": "2022-10-22T14:59:16.581Z"
   },
   {
    "duration": 14,
    "start_time": "2022-10-22T14:59:23.114Z"
   },
   {
    "duration": 16,
    "start_time": "2022-10-22T14:59:36.828Z"
   },
   {
    "duration": 17,
    "start_time": "2022-10-22T14:59:39.641Z"
   },
   {
    "duration": 14,
    "start_time": "2022-10-22T14:59:51.076Z"
   },
   {
    "duration": 14,
    "start_time": "2022-10-22T15:01:03.785Z"
   },
   {
    "duration": 13,
    "start_time": "2022-10-22T15:01:08.587Z"
   },
   {
    "duration": 17,
    "start_time": "2022-10-22T15:02:25.704Z"
   },
   {
    "duration": 15,
    "start_time": "2022-10-22T15:02:29.217Z"
   },
   {
    "duration": 19,
    "start_time": "2022-10-22T15:06:37.267Z"
   },
   {
    "duration": 15,
    "start_time": "2022-10-22T15:06:49.349Z"
   },
   {
    "duration": 15,
    "start_time": "2022-10-22T15:06:57.648Z"
   },
   {
    "duration": 16,
    "start_time": "2022-10-22T15:08:40.234Z"
   },
   {
    "duration": 224,
    "start_time": "2022-10-22T15:10:04.796Z"
   },
   {
    "duration": 10,
    "start_time": "2022-10-22T15:18:06.623Z"
   },
   {
    "duration": 23,
    "start_time": "2022-10-22T15:18:20.091Z"
   },
   {
    "duration": 11,
    "start_time": "2022-10-22T15:18:33.081Z"
   },
   {
    "duration": 11,
    "start_time": "2022-10-22T15:19:14.436Z"
   },
   {
    "duration": 1624,
    "start_time": "2022-10-22T15:21:28.185Z"
   },
   {
    "duration": 169,
    "start_time": "2022-10-22T15:21:37.709Z"
   },
   {
    "duration": 1942,
    "start_time": "2022-10-22T15:21:54.058Z"
   },
   {
    "duration": 155,
    "start_time": "2022-10-22T15:23:38.744Z"
   },
   {
    "duration": 120,
    "start_time": "2022-10-22T15:24:09.387Z"
   },
   {
    "duration": 186,
    "start_time": "2022-10-22T15:24:41.614Z"
   },
   {
    "duration": 262,
    "start_time": "2022-10-22T15:27:16.598Z"
   },
   {
    "duration": 185,
    "start_time": "2022-10-22T15:27:42.383Z"
   },
   {
    "duration": 57,
    "start_time": "2022-10-22T15:27:48.211Z"
   },
   {
    "duration": 137,
    "start_time": "2022-10-22T15:28:20.078Z"
   },
   {
    "duration": 126,
    "start_time": "2022-10-22T15:28:26.669Z"
   },
   {
    "duration": 104,
    "start_time": "2022-10-22T15:28:32.309Z"
   },
   {
    "duration": 193,
    "start_time": "2022-10-22T15:28:43.089Z"
   },
   {
    "duration": 1771,
    "start_time": "2022-10-22T15:28:56.754Z"
   },
   {
    "duration": 211,
    "start_time": "2022-10-22T15:30:03.127Z"
   },
   {
    "duration": 191,
    "start_time": "2022-10-22T15:30:14.542Z"
   },
   {
    "duration": 21,
    "start_time": "2022-10-22T15:30:30.096Z"
   },
   {
    "duration": 11,
    "start_time": "2022-10-22T15:30:47.377Z"
   },
   {
    "duration": 180,
    "start_time": "2022-10-22T15:30:59.521Z"
   },
   {
    "duration": 2080,
    "start_time": "2022-10-22T15:31:09.826Z"
   },
   {
    "duration": 99,
    "start_time": "2022-10-22T15:31:24.012Z"
   },
   {
    "duration": 207,
    "start_time": "2022-10-22T15:31:59.980Z"
   },
   {
    "duration": 2175,
    "start_time": "2022-10-22T15:32:14.920Z"
   },
   {
    "duration": 2168,
    "start_time": "2022-10-22T15:32:26.652Z"
   },
   {
    "duration": 200,
    "start_time": "2022-10-22T15:33:00.437Z"
   },
   {
    "duration": 2147,
    "start_time": "2022-10-22T15:33:09.976Z"
   },
   {
    "duration": 213,
    "start_time": "2022-10-22T15:33:39.344Z"
   },
   {
    "duration": 2452,
    "start_time": "2022-10-22T15:33:55.644Z"
   },
   {
    "duration": 99,
    "start_time": "2022-10-22T15:33:59.811Z"
   },
   {
    "duration": 111,
    "start_time": "2022-10-22T15:34:05.212Z"
   },
   {
    "duration": 997,
    "start_time": "2022-10-22T15:34:23.539Z"
   },
   {
    "duration": 3215,
    "start_time": "2022-10-22T15:35:01.609Z"
   },
   {
    "duration": 4526,
    "start_time": "2022-10-22T15:35:37.233Z"
   },
   {
    "duration": 947,
    "start_time": "2022-10-22T15:36:16.886Z"
   },
   {
    "duration": 1142,
    "start_time": "2022-10-22T15:37:09.547Z"
   },
   {
    "duration": 67,
    "start_time": "2022-10-22T15:38:12.349Z"
   },
   {
    "duration": 60,
    "start_time": "2022-10-22T15:39:23.523Z"
   },
   {
    "duration": 950,
    "start_time": "2022-10-22T15:39:27.336Z"
   },
   {
    "duration": 974,
    "start_time": "2022-10-22T15:39:40.641Z"
   },
   {
    "duration": 5,
    "start_time": "2022-10-22T15:44:54.399Z"
   },
   {
    "duration": 65,
    "start_time": "2022-10-22T15:46:13.050Z"
   },
   {
    "duration": 5,
    "start_time": "2022-10-22T15:46:15.065Z"
   },
   {
    "duration": 132,
    "start_time": "2022-10-22T15:46:17.963Z"
   },
   {
    "duration": 7,
    "start_time": "2022-10-22T15:46:33.942Z"
   },
   {
    "duration": 5,
    "start_time": "2022-10-22T15:46:35.299Z"
   },
   {
    "duration": 49,
    "start_time": "2022-10-22T15:46:37.159Z"
   },
   {
    "duration": 49,
    "start_time": "2022-10-22T15:46:43.172Z"
   },
   {
    "duration": 1292,
    "start_time": "2022-10-22T15:47:40.867Z"
   },
   {
    "duration": 961,
    "start_time": "2022-10-22T15:47:48.724Z"
   },
   {
    "duration": 9,
    "start_time": "2022-10-22T15:49:56.472Z"
   },
   {
    "duration": 6,
    "start_time": "2022-10-22T15:49:58.204Z"
   },
   {
    "duration": 213,
    "start_time": "2022-10-22T15:50:06.185Z"
   },
   {
    "duration": 1362,
    "start_time": "2022-10-22T15:50:10.912Z"
   },
   {
    "duration": 1330,
    "start_time": "2022-10-22T15:50:50.336Z"
   },
   {
    "duration": 1230,
    "start_time": "2022-10-22T15:51:36.024Z"
   },
   {
    "duration": 1314,
    "start_time": "2022-10-22T15:51:49.975Z"
   },
   {
    "duration": 1190,
    "start_time": "2022-10-22T15:52:43.523Z"
   },
   {
    "duration": 647,
    "start_time": "2022-10-22T15:54:05.214Z"
   },
   {
    "duration": 5,
    "start_time": "2022-10-22T15:55:47.650Z"
   },
   {
    "duration": 4,
    "start_time": "2022-10-22T15:55:53.003Z"
   },
   {
    "duration": 4,
    "start_time": "2022-10-22T15:55:56.366Z"
   },
   {
    "duration": 43,
    "start_time": "2022-10-22T15:55:59.424Z"
   },
   {
    "duration": 6,
    "start_time": "2022-10-22T15:57:34.402Z"
   },
   {
    "duration": 6,
    "start_time": "2022-10-22T16:00:31.915Z"
   },
   {
    "duration": 44,
    "start_time": "2022-10-22T16:00:37.087Z"
   },
   {
    "duration": 5,
    "start_time": "2022-10-22T16:00:46.377Z"
   },
   {
    "duration": 4,
    "start_time": "2022-10-22T16:00:49.868Z"
   },
   {
    "duration": 126,
    "start_time": "2022-10-22T16:00:53.269Z"
   },
   {
    "duration": 9,
    "start_time": "2022-10-22T16:01:07.149Z"
   },
   {
    "duration": 212,
    "start_time": "2022-10-22T16:01:09.787Z"
   },
   {
    "duration": 1457,
    "start_time": "2022-10-22T16:01:21.353Z"
   },
   {
    "duration": 5,
    "start_time": "2022-10-22T16:02:36.033Z"
   },
   {
    "duration": 397,
    "start_time": "2022-10-22T16:02:38.503Z"
   },
   {
    "duration": 6,
    "start_time": "2022-10-22T16:03:34.307Z"
   },
   {
    "duration": 288,
    "start_time": "2022-10-22T16:03:36.512Z"
   },
   {
    "duration": 5,
    "start_time": "2022-10-22T16:03:46.271Z"
   },
   {
    "duration": 103,
    "start_time": "2022-10-22T16:03:48.605Z"
   },
   {
    "duration": 4,
    "start_time": "2022-10-22T16:06:01.266Z"
   },
   {
    "duration": 13,
    "start_time": "2022-10-22T16:06:01.273Z"
   },
   {
    "duration": 27,
    "start_time": "2022-10-22T16:06:01.288Z"
   },
   {
    "duration": 9,
    "start_time": "2022-10-22T16:06:01.318Z"
   },
   {
    "duration": 32,
    "start_time": "2022-10-22T16:06:01.330Z"
   },
   {
    "duration": 46,
    "start_time": "2022-10-22T16:06:01.364Z"
   },
   {
    "duration": 908,
    "start_time": "2022-10-22T16:06:01.412Z"
   },
   {
    "duration": 4,
    "start_time": "2022-10-22T16:06:02.322Z"
   },
   {
    "duration": 12,
    "start_time": "2022-10-22T16:06:02.328Z"
   },
   {
    "duration": 8,
    "start_time": "2022-10-22T16:06:02.343Z"
   },
   {
    "duration": 9,
    "start_time": "2022-10-22T16:06:02.353Z"
   },
   {
    "duration": 10,
    "start_time": "2022-10-22T16:06:02.364Z"
   },
   {
    "duration": 230,
    "start_time": "2022-10-22T16:06:02.377Z"
   },
   {
    "duration": 5,
    "start_time": "2022-10-22T16:06:27.166Z"
   },
   {
    "duration": 187,
    "start_time": "2022-10-22T16:06:29.130Z"
   },
   {
    "duration": 1291,
    "start_time": "2022-10-22T16:06:39.573Z"
   },
   {
    "duration": 1345,
    "start_time": "2022-10-22T16:07:33.691Z"
   },
   {
    "duration": 368,
    "start_time": "2022-10-22T16:08:02.231Z"
   },
   {
    "duration": 486,
    "start_time": "2022-10-22T16:09:02.015Z"
   },
   {
    "duration": 738,
    "start_time": "2022-10-22T16:09:30.230Z"
   },
   {
    "duration": 789,
    "start_time": "2022-10-22T16:09:34.653Z"
   },
   {
    "duration": 709,
    "start_time": "2022-10-22T16:09:37.994Z"
   },
   {
    "duration": 5,
    "start_time": "2022-10-22T16:11:16.977Z"
   },
   {
    "duration": 5,
    "start_time": "2022-10-22T16:11:25.668Z"
   },
   {
    "duration": 5,
    "start_time": "2022-10-22T16:11:27.403Z"
   },
   {
    "duration": 4,
    "start_time": "2022-10-22T16:11:29.574Z"
   },
   {
    "duration": 189,
    "start_time": "2022-10-22T16:11:31.129Z"
   },
   {
    "duration": 368,
    "start_time": "2022-10-22T16:11:32.934Z"
   },
   {
    "duration": 426,
    "start_time": "2022-10-22T16:12:09.484Z"
   },
   {
    "duration": 454,
    "start_time": "2022-10-22T16:12:21.353Z"
   },
   {
    "duration": 431,
    "start_time": "2022-10-22T16:12:28.172Z"
   },
   {
    "duration": 6,
    "start_time": "2022-10-22T16:15:14.513Z"
   },
   {
    "duration": 9,
    "start_time": "2022-10-22T16:15:16.119Z"
   },
   {
    "duration": 8,
    "start_time": "2022-10-22T16:15:17.696Z"
   },
   {
    "duration": 449,
    "start_time": "2022-10-22T16:15:38.365Z"
   },
   {
    "duration": 7,
    "start_time": "2022-10-22T16:16:53.158Z"
   },
   {
    "duration": 389,
    "start_time": "2022-10-22T16:16:55.211Z"
   },
   {
    "duration": 565,
    "start_time": "2022-10-22T16:17:57.536Z"
   },
   {
    "duration": 614,
    "start_time": "2022-10-22T16:18:18.189Z"
   },
   {
    "duration": 494,
    "start_time": "2022-10-22T16:18:37.411Z"
   },
   {
    "duration": 824,
    "start_time": "2022-10-22T16:19:02.377Z"
   },
   {
    "duration": 781,
    "start_time": "2022-10-22T16:19:09.883Z"
   },
   {
    "duration": 897,
    "start_time": "2022-10-22T16:19:20.311Z"
   },
   {
    "duration": 852,
    "start_time": "2022-10-22T16:28:46.964Z"
   },
   {
    "duration": 731,
    "start_time": "2022-10-22T16:34:15.284Z"
   },
   {
    "duration": 955,
    "start_time": "2022-10-22T16:34:48.141Z"
   },
   {
    "duration": 1146,
    "start_time": "2022-10-22T16:39:39.325Z"
   },
   {
    "duration": 1737,
    "start_time": "2022-10-22T16:40:31.443Z"
   },
   {
    "duration": 1202,
    "start_time": "2022-10-22T16:40:49.005Z"
   },
   {
    "duration": 1038,
    "start_time": "2022-10-22T18:32:04.191Z"
   },
   {
    "duration": 434,
    "start_time": "2022-10-22T18:32:31.197Z"
   },
   {
    "duration": 5,
    "start_time": "2022-10-22T18:36:27.539Z"
   },
   {
    "duration": 242,
    "start_time": "2022-10-22T18:36:30.778Z"
   },
   {
    "duration": 307,
    "start_time": "2022-10-22T18:36:39.321Z"
   },
   {
    "duration": 4,
    "start_time": "2022-10-22T18:39:05.569Z"
   },
   {
    "duration": 6,
    "start_time": "2022-10-22T18:39:10.522Z"
   },
   {
    "duration": 11,
    "start_time": "2022-10-22T18:39:11.914Z"
   },
   {
    "duration": 4,
    "start_time": "2022-10-22T18:39:13.953Z"
   },
   {
    "duration": 92,
    "start_time": "2022-10-22T18:39:15.322Z"
   },
   {
    "duration": 251,
    "start_time": "2022-10-22T18:39:21.087Z"
   },
   {
    "duration": 5,
    "start_time": "2022-10-22T18:41:14.874Z"
   },
   {
    "duration": 126,
    "start_time": "2022-10-22T18:41:18.276Z"
   },
   {
    "duration": 285,
    "start_time": "2022-10-22T18:41:20.939Z"
   },
   {
    "duration": 6,
    "start_time": "2022-10-22T18:42:59.587Z"
   },
   {
    "duration": 352,
    "start_time": "2022-10-22T18:43:03.462Z"
   },
   {
    "duration": 5,
    "start_time": "2022-10-22T18:43:30.166Z"
   },
   {
    "duration": 114,
    "start_time": "2022-10-22T18:43:32.530Z"
   },
   {
    "duration": 6,
    "start_time": "2022-10-22T18:44:10.662Z"
   },
   {
    "duration": 455,
    "start_time": "2022-10-22T18:44:14.195Z"
   },
   {
    "duration": 5,
    "start_time": "2022-10-22T18:45:03.681Z"
   },
   {
    "duration": 427,
    "start_time": "2022-10-22T18:45:06.380Z"
   },
   {
    "duration": 8,
    "start_time": "2022-10-22T18:46:53.613Z"
   },
   {
    "duration": 3,
    "start_time": "2022-10-22T18:46:58.067Z"
   },
   {
    "duration": 35,
    "start_time": "2022-10-22T18:46:59.453Z"
   },
   {
    "duration": 5,
    "start_time": "2022-10-22T18:47:18.354Z"
   },
   {
    "duration": 246,
    "start_time": "2022-10-22T18:47:21.067Z"
   },
   {
    "duration": 270,
    "start_time": "2022-10-22T18:47:44.962Z"
   },
   {
    "duration": 6,
    "start_time": "2022-10-22T18:51:55.874Z"
   },
   {
    "duration": 5,
    "start_time": "2022-10-22T19:02:45.530Z"
   },
   {
    "duration": 60,
    "start_time": "2022-10-22T19:02:50.947Z"
   },
   {
    "duration": 717,
    "start_time": "2022-10-22T19:06:11.762Z"
   },
   {
    "duration": 5,
    "start_time": "2022-10-22T19:08:46.639Z"
   },
   {
    "duration": 3,
    "start_time": "2022-10-22T19:09:44.034Z"
   },
   {
    "duration": 745,
    "start_time": "2022-10-22T19:09:46.063Z"
   },
   {
    "duration": 829,
    "start_time": "2022-10-22T19:11:14.532Z"
   },
   {
    "duration": 816,
    "start_time": "2022-10-22T19:11:26.414Z"
   },
   {
    "duration": 907,
    "start_time": "2022-10-22T19:11:37.318Z"
   },
   {
    "duration": 771,
    "start_time": "2022-10-22T19:11:46.633Z"
   },
   {
    "duration": 3,
    "start_time": "2022-10-22T19:12:25.039Z"
   },
   {
    "duration": 782,
    "start_time": "2022-10-22T19:12:29.542Z"
   },
   {
    "duration": 3,
    "start_time": "2022-10-22T19:14:50.846Z"
   },
   {
    "duration": 4,
    "start_time": "2022-10-22T19:16:58.688Z"
   },
   {
    "duration": 856,
    "start_time": "2022-10-22T19:17:02.377Z"
   },
   {
    "duration": 8,
    "start_time": "2022-10-22T19:41:19.902Z"
   },
   {
    "duration": 32,
    "start_time": "2022-10-22T19:41:19.923Z"
   },
   {
    "duration": 9,
    "start_time": "2022-10-22T19:41:19.958Z"
   },
   {
    "duration": 10,
    "start_time": "2022-10-22T19:41:19.968Z"
   },
   {
    "duration": 27,
    "start_time": "2022-10-22T19:41:20.148Z"
   },
   {
    "duration": 41,
    "start_time": "2022-10-22T19:41:20.178Z"
   },
   {
    "duration": 885,
    "start_time": "2022-10-22T19:41:20.220Z"
   },
   {
    "duration": 3,
    "start_time": "2022-10-22T19:41:21.107Z"
   },
   {
    "duration": 37,
    "start_time": "2022-10-22T19:44:23.194Z"
   },
   {
    "duration": 4,
    "start_time": "2022-10-22T19:48:17.484Z"
   },
   {
    "duration": 855,
    "start_time": "2022-10-22T19:48:23.106Z"
   },
   {
    "duration": 7,
    "start_time": "2022-10-22T19:48:34.416Z"
   },
   {
    "duration": 838,
    "start_time": "2022-10-22T19:48:37.845Z"
   },
   {
    "duration": 4,
    "start_time": "2022-10-22T19:52:36.079Z"
   },
   {
    "duration": 4,
    "start_time": "2022-10-22T19:52:53.421Z"
   },
   {
    "duration": 43,
    "start_time": "2022-10-22T19:53:00.594Z"
   },
   {
    "duration": 3,
    "start_time": "2022-10-22T19:53:23.125Z"
   },
   {
    "duration": 762,
    "start_time": "2022-10-22T19:53:26.742Z"
   },
   {
    "duration": 777,
    "start_time": "2022-10-22T19:53:42.487Z"
   },
   {
    "duration": 767,
    "start_time": "2022-10-22T19:53:50.362Z"
   },
   {
    "duration": 739,
    "start_time": "2022-10-22T19:53:56.001Z"
   },
   {
    "duration": 4,
    "start_time": "2022-10-22T19:55:10.823Z"
   },
   {
    "duration": 884,
    "start_time": "2022-10-22T19:55:14.645Z"
   },
   {
    "duration": 5,
    "start_time": "2022-10-22T19:58:01.579Z"
   },
   {
    "duration": 9,
    "start_time": "2022-10-22T19:58:43.721Z"
   },
   {
    "duration": 109,
    "start_time": "2022-10-22T20:20:20.560Z"
   },
   {
    "duration": 4,
    "start_time": "2022-10-22T20:20:29.038Z"
   },
   {
    "duration": 4,
    "start_time": "2022-10-22T20:20:34.861Z"
   },
   {
    "duration": 13,
    "start_time": "2022-10-22T20:20:44.643Z"
   },
   {
    "duration": 5,
    "start_time": "2022-10-22T20:21:37.725Z"
   },
   {
    "duration": 5,
    "start_time": "2022-10-22T20:21:41.437Z"
   },
   {
    "duration": 4,
    "start_time": "2022-10-22T20:21:42.838Z"
   },
   {
    "duration": 719,
    "start_time": "2022-10-22T20:21:51.876Z"
   },
   {
    "duration": 3,
    "start_time": "2022-10-22T20:23:00.043Z"
   },
   {
    "duration": 910,
    "start_time": "2022-10-22T20:23:15.947Z"
   },
   {
    "duration": 38,
    "start_time": "2022-10-22T20:27:23.979Z"
   },
   {
    "duration": 6,
    "start_time": "2022-10-22T20:27:25.745Z"
   },
   {
    "duration": 33,
    "start_time": "2022-10-22T20:27:28.114Z"
   },
   {
    "duration": 26,
    "start_time": "2022-10-22T20:27:39.823Z"
   },
   {
    "duration": 5,
    "start_time": "2022-10-22T20:27:47.643Z"
   },
   {
    "duration": 172,
    "start_time": "2022-10-22T20:27:49.736Z"
   },
   {
    "duration": 7,
    "start_time": "2022-10-22T20:28:23.464Z"
   },
   {
    "duration": 26,
    "start_time": "2022-10-22T20:28:25.421Z"
   },
   {
    "duration": 65,
    "start_time": "2022-10-22T20:29:47.265Z"
   },
   {
    "duration": 99,
    "start_time": "2022-10-22T20:30:06.981Z"
   },
   {
    "duration": 102,
    "start_time": "2022-10-22T20:35:44.942Z"
   },
   {
    "duration": 74,
    "start_time": "2022-10-22T20:35:48.755Z"
   },
   {
    "duration": 234,
    "start_time": "2022-10-22T20:35:50.677Z"
   },
   {
    "duration": 92,
    "start_time": "2022-10-22T20:37:02.549Z"
   },
   {
    "duration": 131,
    "start_time": "2022-10-22T20:37:09.955Z"
   },
   {
    "duration": 128,
    "start_time": "2022-10-22T20:37:37.025Z"
   },
   {
    "duration": 247,
    "start_time": "2022-10-22T20:38:02.028Z"
   },
   {
    "duration": 305,
    "start_time": "2022-10-22T20:38:42.680Z"
   },
   {
    "duration": 364,
    "start_time": "2022-10-22T20:39:04.521Z"
   },
   {
    "duration": 344,
    "start_time": "2022-10-22T20:39:21.246Z"
   },
   {
    "duration": 354,
    "start_time": "2022-10-22T20:39:30.684Z"
   },
   {
    "duration": 308,
    "start_time": "2022-10-22T20:40:18.527Z"
   },
   {
    "duration": 297,
    "start_time": "2022-10-22T20:40:42.863Z"
   },
   {
    "duration": 291,
    "start_time": "2022-10-22T20:42:50.445Z"
   },
   {
    "duration": 303,
    "start_time": "2022-10-22T20:43:00.063Z"
   },
   {
    "duration": 668,
    "start_time": "2022-10-22T20:44:49.183Z"
   },
   {
    "duration": 309,
    "start_time": "2022-10-22T20:45:42.213Z"
   },
   {
    "duration": 311,
    "start_time": "2022-10-22T20:45:52.637Z"
   },
   {
    "duration": 297,
    "start_time": "2022-10-22T20:45:58.033Z"
   },
   {
    "duration": 63,
    "start_time": "2022-10-22T20:51:49.375Z"
   },
   {
    "duration": 60,
    "start_time": "2022-10-22T20:52:12.980Z"
   },
   {
    "duration": 66,
    "start_time": "2022-10-22T20:52:27.658Z"
   },
   {
    "duration": 57,
    "start_time": "2022-10-22T20:52:36.523Z"
   },
   {
    "duration": 367,
    "start_time": "2022-10-22T20:55:07.447Z"
   },
   {
    "duration": 723,
    "start_time": "2022-10-22T20:55:34.512Z"
   },
   {
    "duration": 855,
    "start_time": "2022-10-22T21:16:16.447Z"
   },
   {
    "duration": 657,
    "start_time": "2022-10-22T21:16:23.225Z"
   },
   {
    "duration": 705,
    "start_time": "2022-10-22T21:16:30.677Z"
   },
   {
    "duration": 801,
    "start_time": "2022-10-22T21:16:39.885Z"
   },
   {
    "duration": 747,
    "start_time": "2022-10-22T21:16:46.534Z"
   },
   {
    "duration": 2,
    "start_time": "2022-10-22T21:17:11.954Z"
   },
   {
    "duration": 4,
    "start_time": "2022-10-22T23:02:28.874Z"
   },
   {
    "duration": 5,
    "start_time": "2022-10-22T23:02:28.880Z"
   },
   {
    "duration": 6,
    "start_time": "2022-10-22T23:02:28.887Z"
   },
   {
    "duration": 10,
    "start_time": "2022-10-22T23:02:28.906Z"
   },
   {
    "duration": 8,
    "start_time": "2022-10-22T23:02:28.918Z"
   },
   {
    "duration": 35,
    "start_time": "2022-10-22T23:02:28.928Z"
   },
   {
    "duration": 885,
    "start_time": "2022-10-22T23:02:28.964Z"
   },
   {
    "duration": 3,
    "start_time": "2022-10-22T23:02:29.851Z"
   },
   {
    "duration": 15,
    "start_time": "2022-10-22T23:02:29.855Z"
   },
   {
    "duration": 14,
    "start_time": "2022-10-22T23:02:29.871Z"
   },
   {
    "duration": 26,
    "start_time": "2022-10-22T23:02:29.887Z"
   },
   {
    "duration": 14,
    "start_time": "2022-10-22T23:02:29.915Z"
   },
   {
    "duration": 127,
    "start_time": "2022-10-22T23:02:30.020Z"
   },
   {
    "duration": 3,
    "start_time": "2022-10-22T23:02:30.149Z"
   },
   {
    "duration": 234,
    "start_time": "2022-10-22T23:02:30.155Z"
   },
   {
    "duration": 3,
    "start_time": "2022-10-22T23:02:56.207Z"
   },
   {
    "duration": 210,
    "start_time": "2022-10-22T23:02:58.381Z"
   },
   {
    "duration": 250,
    "start_time": "2022-10-22T23:04:26.612Z"
   },
   {
    "duration": 211,
    "start_time": "2022-10-22T23:04:43.915Z"
   },
   {
    "duration": 619,
    "start_time": "2022-10-22T23:05:14.013Z"
   },
   {
    "duration": 606,
    "start_time": "2022-10-22T23:05:17.323Z"
   },
   {
    "duration": 4,
    "start_time": "2022-10-22T23:06:05.056Z"
   },
   {
    "duration": 46,
    "start_time": "2022-10-22T23:06:06.702Z"
   },
   {
    "duration": 3,
    "start_time": "2022-10-22T23:06:09.608Z"
   },
   {
    "duration": 231,
    "start_time": "2022-10-22T23:06:11.307Z"
   },
   {
    "duration": 762,
    "start_time": "2022-10-22T23:06:14.907Z"
   },
   {
    "duration": 614,
    "start_time": "2022-10-22T23:06:18.808Z"
   },
   {
    "duration": 598,
    "start_time": "2022-10-22T23:06:28.009Z"
   },
   {
    "duration": 3,
    "start_time": "2022-10-22T23:08:32.462Z"
   },
   {
    "duration": 217,
    "start_time": "2022-10-22T23:11:10.553Z"
   },
   {
    "duration": 3,
    "start_time": "2022-10-22T23:11:35.169Z"
   },
   {
    "duration": 1285,
    "start_time": "2022-10-22T23:11:41.810Z"
   },
   {
    "duration": 4,
    "start_time": "2022-10-22T23:11:43.110Z"
   },
   {
    "duration": 5,
    "start_time": "2022-10-22T23:11:43.116Z"
   },
   {
    "duration": 7,
    "start_time": "2022-10-22T23:11:43.123Z"
   },
   {
    "duration": 109,
    "start_time": "2022-10-22T23:11:43.133Z"
   },
   {
    "duration": 0,
    "start_time": "2022-10-22T23:11:43.243Z"
   },
   {
    "duration": 0,
    "start_time": "2022-10-22T23:11:43.244Z"
   },
   {
    "duration": 0,
    "start_time": "2022-10-22T23:11:43.246Z"
   },
   {
    "duration": 0,
    "start_time": "2022-10-22T23:11:43.247Z"
   },
   {
    "duration": 0,
    "start_time": "2022-10-22T23:11:43.248Z"
   },
   {
    "duration": 0,
    "start_time": "2022-10-22T23:11:43.249Z"
   },
   {
    "duration": 0,
    "start_time": "2022-10-22T23:11:43.250Z"
   },
   {
    "duration": 0,
    "start_time": "2022-10-22T23:11:43.251Z"
   },
   {
    "duration": 0,
    "start_time": "2022-10-22T23:11:43.252Z"
   },
   {
    "duration": 0,
    "start_time": "2022-10-22T23:11:43.253Z"
   },
   {
    "duration": 0,
    "start_time": "2022-10-22T23:11:43.253Z"
   },
   {
    "duration": 0,
    "start_time": "2022-10-22T23:11:43.254Z"
   },
   {
    "duration": 0,
    "start_time": "2022-10-22T23:11:43.255Z"
   },
   {
    "duration": 9,
    "start_time": "2022-10-22T23:12:02.915Z"
   },
   {
    "duration": 15,
    "start_time": "2022-10-22T23:12:04.998Z"
   },
   {
    "duration": 8,
    "start_time": "2022-10-22T23:12:12.210Z"
   },
   {
    "duration": 8,
    "start_time": "2022-10-22T23:12:12.220Z"
   },
   {
    "duration": 5,
    "start_time": "2022-10-22T23:12:12.229Z"
   },
   {
    "duration": 6,
    "start_time": "2022-10-22T23:12:12.236Z"
   },
   {
    "duration": 11,
    "start_time": "2022-10-22T23:12:12.244Z"
   },
   {
    "duration": 0,
    "start_time": "2022-10-22T23:12:12.257Z"
   },
   {
    "duration": 0,
    "start_time": "2022-10-22T23:12:12.258Z"
   },
   {
    "duration": 0,
    "start_time": "2022-10-22T23:12:12.259Z"
   },
   {
    "duration": 0,
    "start_time": "2022-10-22T23:12:12.260Z"
   },
   {
    "duration": 0,
    "start_time": "2022-10-22T23:12:12.261Z"
   },
   {
    "duration": 0,
    "start_time": "2022-10-22T23:12:12.263Z"
   },
   {
    "duration": 0,
    "start_time": "2022-10-22T23:12:12.264Z"
   },
   {
    "duration": 0,
    "start_time": "2022-10-22T23:12:12.264Z"
   },
   {
    "duration": 0,
    "start_time": "2022-10-22T23:12:12.265Z"
   },
   {
    "duration": 0,
    "start_time": "2022-10-22T23:12:12.266Z"
   },
   {
    "duration": 0,
    "start_time": "2022-10-22T23:12:12.267Z"
   },
   {
    "duration": 0,
    "start_time": "2022-10-22T23:12:12.268Z"
   },
   {
    "duration": 0,
    "start_time": "2022-10-22T23:12:12.269Z"
   },
   {
    "duration": 4,
    "start_time": "2022-10-22T23:12:53.807Z"
   },
   {
    "duration": 4,
    "start_time": "2022-10-22T23:14:08.607Z"
   },
   {
    "duration": 7,
    "start_time": "2022-10-22T23:14:08.613Z"
   },
   {
    "duration": 4,
    "start_time": "2022-10-22T23:14:08.622Z"
   },
   {
    "duration": 6,
    "start_time": "2022-10-22T23:14:08.628Z"
   },
   {
    "duration": 8,
    "start_time": "2022-10-22T23:14:08.636Z"
   },
   {
    "duration": 35,
    "start_time": "2022-10-22T23:14:08.645Z"
   },
   {
    "duration": 897,
    "start_time": "2022-10-22T23:14:08.681Z"
   },
   {
    "duration": 2,
    "start_time": "2022-10-22T23:14:09.580Z"
   },
   {
    "duration": 22,
    "start_time": "2022-10-22T23:14:09.584Z"
   },
   {
    "duration": 16,
    "start_time": "2022-10-22T23:14:09.607Z"
   },
   {
    "duration": 14,
    "start_time": "2022-10-22T23:14:09.624Z"
   },
   {
    "duration": 9,
    "start_time": "2022-10-22T23:14:09.639Z"
   },
   {
    "duration": 51,
    "start_time": "2022-10-22T23:14:09.649Z"
   },
   {
    "duration": 0,
    "start_time": "2022-10-22T23:14:09.710Z"
   },
   {
    "duration": 0,
    "start_time": "2022-10-22T23:14:09.711Z"
   },
   {
    "duration": 0,
    "start_time": "2022-10-22T23:14:09.713Z"
   },
   {
    "duration": 0,
    "start_time": "2022-10-22T23:14:09.714Z"
   },
   {
    "duration": 0,
    "start_time": "2022-10-22T23:14:09.715Z"
   },
   {
    "duration": 48,
    "start_time": "2022-10-22T23:14:34.578Z"
   },
   {
    "duration": 3,
    "start_time": "2022-10-22T23:14:36.765Z"
   },
   {
    "duration": 218,
    "start_time": "2022-10-22T23:14:39.414Z"
   },
   {
    "duration": 70,
    "start_time": "2022-10-22T23:19:13.746Z"
   },
   {
    "duration": 82,
    "start_time": "2022-10-22T23:19:19.878Z"
   },
   {
    "duration": 3,
    "start_time": "2022-10-22T23:19:32.865Z"
   },
   {
    "duration": 4,
    "start_time": "2022-10-22T23:20:25.116Z"
   },
   {
    "duration": 4,
    "start_time": "2022-10-22T23:22:33.478Z"
   },
   {
    "duration": 4,
    "start_time": "2022-10-22T23:22:50.815Z"
   },
   {
    "duration": 5,
    "start_time": "2022-10-22T23:23:42.712Z"
   },
   {
    "duration": 4,
    "start_time": "2022-10-22T23:24:22.117Z"
   },
   {
    "duration": 3,
    "start_time": "2022-10-22T23:24:37.338Z"
   },
   {
    "duration": 219,
    "start_time": "2022-10-22T23:25:59.964Z"
   },
   {
    "duration": 4,
    "start_time": "2022-10-22T23:38:47.930Z"
   },
   {
    "duration": 6,
    "start_time": "2022-10-22T23:38:47.936Z"
   },
   {
    "duration": 6,
    "start_time": "2022-10-22T23:38:47.943Z"
   },
   {
    "duration": 9,
    "start_time": "2022-10-22T23:38:47.950Z"
   },
   {
    "duration": 5,
    "start_time": "2022-10-22T23:38:47.961Z"
   },
   {
    "duration": 43,
    "start_time": "2022-10-22T23:38:47.967Z"
   },
   {
    "duration": 782,
    "start_time": "2022-10-22T23:38:48.012Z"
   },
   {
    "duration": 4,
    "start_time": "2022-10-22T23:38:48.796Z"
   },
   {
    "duration": 6,
    "start_time": "2022-10-22T23:38:49.491Z"
   },
   {
    "duration": 15,
    "start_time": "2022-10-22T23:38:49.499Z"
   },
   {
    "duration": 8,
    "start_time": "2022-10-22T23:38:49.515Z"
   },
   {
    "duration": 9,
    "start_time": "2022-10-22T23:38:49.524Z"
   },
   {
    "duration": 177,
    "start_time": "2022-10-22T23:38:49.535Z"
   },
   {
    "duration": 3,
    "start_time": "2022-10-22T23:38:49.713Z"
   },
   {
    "duration": 227,
    "start_time": "2022-10-22T23:38:49.718Z"
   },
   {
    "duration": 4,
    "start_time": "2022-10-22T23:38:49.947Z"
   },
   {
    "duration": 6,
    "start_time": "2022-10-22T23:38:49.953Z"
   },
   {
    "duration": 648,
    "start_time": "2022-10-22T23:38:49.961Z"
   },
   {
    "duration": 734,
    "start_time": "2022-10-22T23:38:50.611Z"
   },
   {
    "duration": 620,
    "start_time": "2022-10-22T23:38:51.347Z"
   },
   {
    "duration": 1281,
    "start_time": "2022-10-22T23:51:18.592Z"
   },
   {
    "duration": 3,
    "start_time": "2022-10-22T23:51:19.874Z"
   },
   {
    "duration": 9,
    "start_time": "2022-10-22T23:51:19.878Z"
   },
   {
    "duration": 16,
    "start_time": "2022-10-22T23:51:19.889Z"
   },
   {
    "duration": 8,
    "start_time": "2022-10-22T23:51:19.907Z"
   },
   {
    "duration": 36,
    "start_time": "2022-10-22T23:51:19.917Z"
   },
   {
    "duration": 813,
    "start_time": "2022-10-22T23:51:19.954Z"
   },
   {
    "duration": 2,
    "start_time": "2022-10-22T23:51:20.769Z"
   },
   {
    "duration": 9,
    "start_time": "2022-10-22T23:51:20.773Z"
   },
   {
    "duration": 8,
    "start_time": "2022-10-22T23:51:20.784Z"
   },
   {
    "duration": 18,
    "start_time": "2022-10-22T23:51:20.794Z"
   },
   {
    "duration": 6,
    "start_time": "2022-10-22T23:51:20.813Z"
   },
   {
    "duration": 184,
    "start_time": "2022-10-22T23:51:20.821Z"
   },
   {
    "duration": 4,
    "start_time": "2022-10-22T23:51:21.006Z"
   },
   {
    "duration": 305,
    "start_time": "2022-10-22T23:51:21.011Z"
   },
   {
    "duration": 4,
    "start_time": "2022-10-22T23:51:21.317Z"
   },
   {
    "duration": 4,
    "start_time": "2022-10-22T23:51:21.323Z"
   },
   {
    "duration": 637,
    "start_time": "2022-10-22T23:51:21.328Z"
   },
   {
    "duration": 641,
    "start_time": "2022-10-22T23:51:21.967Z"
   },
   {
    "duration": 770,
    "start_time": "2022-10-22T23:51:22.610Z"
   },
   {
    "duration": 1274,
    "start_time": "2022-10-22T23:52:45.315Z"
   },
   {
    "duration": 12,
    "start_time": "2022-10-22T23:52:46.592Z"
   },
   {
    "duration": 12,
    "start_time": "2022-10-22T23:52:46.605Z"
   },
   {
    "duration": 7,
    "start_time": "2022-10-22T23:52:46.620Z"
   },
   {
    "duration": 6,
    "start_time": "2022-10-22T23:52:46.629Z"
   },
   {
    "duration": 38,
    "start_time": "2022-10-22T23:52:46.637Z"
   },
   {
    "duration": 899,
    "start_time": "2022-10-22T23:52:46.678Z"
   },
   {
    "duration": 3,
    "start_time": "2022-10-22T23:52:47.579Z"
   },
   {
    "duration": 23,
    "start_time": "2022-10-22T23:52:47.583Z"
   },
   {
    "duration": 8,
    "start_time": "2022-10-22T23:52:47.609Z"
   },
   {
    "duration": 9,
    "start_time": "2022-10-22T23:52:47.618Z"
   },
   {
    "duration": 8,
    "start_time": "2022-10-22T23:52:47.628Z"
   },
   {
    "duration": 179,
    "start_time": "2022-10-22T23:52:47.637Z"
   },
   {
    "duration": 4,
    "start_time": "2022-10-22T23:52:47.818Z"
   },
   {
    "duration": 208,
    "start_time": "2022-10-22T23:52:47.823Z"
   },
   {
    "duration": 0,
    "start_time": "2022-10-22T23:52:48.033Z"
   },
   {
    "duration": 0,
    "start_time": "2022-10-22T23:52:48.034Z"
   },
   {
    "duration": 0,
    "start_time": "2022-10-22T23:52:48.035Z"
   },
   {
    "duration": 0,
    "start_time": "2022-10-22T23:52:48.036Z"
   },
   {
    "duration": 0,
    "start_time": "2022-10-22T23:52:48.037Z"
   },
   {
    "duration": 1233,
    "start_time": "2022-10-22T23:53:19.037Z"
   },
   {
    "duration": 3,
    "start_time": "2022-10-22T23:53:20.273Z"
   },
   {
    "duration": 10,
    "start_time": "2022-10-22T23:53:20.277Z"
   },
   {
    "duration": 12,
    "start_time": "2022-10-22T23:53:20.289Z"
   },
   {
    "duration": 10,
    "start_time": "2022-10-22T23:53:20.306Z"
   },
   {
    "duration": 35,
    "start_time": "2022-10-22T23:53:20.317Z"
   },
   {
    "duration": 778,
    "start_time": "2022-10-22T23:53:20.354Z"
   },
   {
    "duration": 3,
    "start_time": "2022-10-22T23:53:21.134Z"
   },
   {
    "duration": 16,
    "start_time": "2022-10-22T23:53:21.138Z"
   },
   {
    "duration": 14,
    "start_time": "2022-10-22T23:53:21.156Z"
   },
   {
    "duration": 9,
    "start_time": "2022-10-22T23:53:21.172Z"
   },
   {
    "duration": 33,
    "start_time": "2022-10-22T23:53:21.182Z"
   },
   {
    "duration": 185,
    "start_time": "2022-10-22T23:53:21.217Z"
   },
   {
    "duration": 5,
    "start_time": "2022-10-22T23:53:21.403Z"
   },
   {
    "duration": 315,
    "start_time": "2022-10-22T23:53:21.409Z"
   },
   {
    "duration": 3,
    "start_time": "2022-10-22T23:53:21.726Z"
   },
   {
    "duration": 7,
    "start_time": "2022-10-22T23:53:21.731Z"
   },
   {
    "duration": 624,
    "start_time": "2022-10-22T23:53:21.739Z"
   },
   {
    "duration": 686,
    "start_time": "2022-10-22T23:53:22.364Z"
   },
   {
    "duration": 810,
    "start_time": "2022-10-22T23:53:23.051Z"
   },
   {
    "duration": 87,
    "start_time": "2022-10-23T13:57:22.825Z"
   },
   {
    "duration": 0,
    "start_time": "2022-10-23T13:57:22.915Z"
   },
   {
    "duration": 0,
    "start_time": "2022-10-23T13:57:22.916Z"
   },
   {
    "duration": 0,
    "start_time": "2022-10-23T13:57:22.918Z"
   },
   {
    "duration": 0,
    "start_time": "2022-10-23T13:57:22.920Z"
   },
   {
    "duration": 0,
    "start_time": "2022-10-23T13:57:22.921Z"
   },
   {
    "duration": 0,
    "start_time": "2022-10-23T13:57:22.923Z"
   },
   {
    "duration": 0,
    "start_time": "2022-10-23T13:57:22.924Z"
   },
   {
    "duration": 1358,
    "start_time": "2022-10-23T13:57:28.472Z"
   },
   {
    "duration": 4,
    "start_time": "2022-10-23T13:57:29.832Z"
   },
   {
    "duration": 6,
    "start_time": "2022-10-23T13:57:29.838Z"
   },
   {
    "duration": 7,
    "start_time": "2022-10-23T13:57:29.846Z"
   },
   {
    "duration": 7,
    "start_time": "2022-10-23T13:57:29.854Z"
   },
   {
    "duration": 21,
    "start_time": "2022-10-23T13:57:29.862Z"
   },
   {
    "duration": 880,
    "start_time": "2022-10-23T13:57:29.885Z"
   },
   {
    "duration": 3,
    "start_time": "2022-10-23T13:57:30.766Z"
   },
   {
    "duration": 70,
    "start_time": "2022-10-23T13:57:30.771Z"
   },
   {
    "duration": 17,
    "start_time": "2022-10-23T13:57:30.844Z"
   },
   {
    "duration": 12,
    "start_time": "2022-10-23T13:57:30.862Z"
   },
   {
    "duration": 8,
    "start_time": "2022-10-23T13:57:30.875Z"
   },
   {
    "duration": 153,
    "start_time": "2022-10-23T13:57:30.884Z"
   },
   {
    "duration": 3,
    "start_time": "2022-10-23T13:57:31.039Z"
   },
   {
    "duration": 307,
    "start_time": "2022-10-23T13:57:31.044Z"
   },
   {
    "duration": 4,
    "start_time": "2022-10-23T13:57:31.352Z"
   },
   {
    "duration": 20,
    "start_time": "2022-10-23T13:57:31.358Z"
   },
   {
    "duration": 659,
    "start_time": "2022-10-23T13:57:31.380Z"
   },
   {
    "duration": 745,
    "start_time": "2022-10-23T13:57:32.041Z"
   },
   {
    "duration": 745,
    "start_time": "2022-10-23T13:57:32.788Z"
   },
   {
    "duration": 4,
    "start_time": "2022-10-23T14:19:48.236Z"
   },
   {
    "duration": 4,
    "start_time": "2022-10-23T14:22:08.710Z"
   },
   {
    "duration": 5,
    "start_time": "2022-10-23T14:22:17.111Z"
   },
   {
    "duration": 5,
    "start_time": "2022-10-23T14:23:01.248Z"
   },
   {
    "duration": 126,
    "start_time": "2022-10-23T14:23:12.320Z"
   },
   {
    "duration": 5,
    "start_time": "2022-10-23T14:23:16.422Z"
   },
   {
    "duration": 5,
    "start_time": "2022-10-23T14:23:25.552Z"
   },
   {
    "duration": 50,
    "start_time": "2022-10-23T14:23:47.335Z"
   },
   {
    "duration": 10,
    "start_time": "2022-10-23T14:23:55.874Z"
   },
   {
    "duration": 11,
    "start_time": "2022-10-23T14:24:14.237Z"
   },
   {
    "duration": 10,
    "start_time": "2022-10-23T14:24:23.973Z"
   },
   {
    "duration": 10,
    "start_time": "2022-10-23T14:24:27.469Z"
   },
   {
    "duration": 1286,
    "start_time": "2022-10-23T14:24:37.334Z"
   },
   {
    "duration": 3,
    "start_time": "2022-10-23T14:24:38.622Z"
   },
   {
    "duration": 11,
    "start_time": "2022-10-23T14:24:38.627Z"
   },
   {
    "duration": 10,
    "start_time": "2022-10-23T14:24:38.640Z"
   },
   {
    "duration": 7,
    "start_time": "2022-10-23T14:24:38.651Z"
   },
   {
    "duration": 22,
    "start_time": "2022-10-23T14:24:38.660Z"
   },
   {
    "duration": 1559,
    "start_time": "2022-10-23T14:24:38.684Z"
   },
   {
    "duration": 2,
    "start_time": "2022-10-23T14:24:40.245Z"
   },
   {
    "duration": 60,
    "start_time": "2022-10-23T14:24:40.249Z"
   },
   {
    "duration": 308,
    "start_time": "2022-10-23T14:24:40.313Z"
   },
   {
    "duration": 0,
    "start_time": "2022-10-23T14:24:40.623Z"
   },
   {
    "duration": 0,
    "start_time": "2022-10-23T14:24:40.624Z"
   },
   {
    "duration": 0,
    "start_time": "2022-10-23T14:24:40.629Z"
   },
   {
    "duration": 0,
    "start_time": "2022-10-23T14:24:40.631Z"
   },
   {
    "duration": 0,
    "start_time": "2022-10-23T14:24:40.632Z"
   },
   {
    "duration": 0,
    "start_time": "2022-10-23T14:24:40.632Z"
   },
   {
    "duration": 0,
    "start_time": "2022-10-23T14:24:40.633Z"
   },
   {
    "duration": 0,
    "start_time": "2022-10-23T14:24:40.634Z"
   },
   {
    "duration": 0,
    "start_time": "2022-10-23T14:24:40.635Z"
   },
   {
    "duration": 0,
    "start_time": "2022-10-23T14:24:40.636Z"
   },
   {
    "duration": 12,
    "start_time": "2022-10-23T14:25:00.386Z"
   },
   {
    "duration": 674,
    "start_time": "2022-10-23T14:25:13.852Z"
   },
   {
    "duration": 10,
    "start_time": "2022-10-23T14:26:00.947Z"
   },
   {
    "duration": 5,
    "start_time": "2022-10-23T14:26:12.154Z"
   },
   {
    "duration": 8,
    "start_time": "2022-10-23T14:26:29.908Z"
   },
   {
    "duration": 7,
    "start_time": "2022-10-23T14:26:33.319Z"
   },
   {
    "duration": 15,
    "start_time": "2022-10-23T14:26:57.400Z"
   },
   {
    "duration": 5,
    "start_time": "2022-10-23T14:27:06.451Z"
   },
   {
    "duration": 6,
    "start_time": "2022-10-23T14:27:18.409Z"
   },
   {
    "duration": 6,
    "start_time": "2022-10-23T14:27:39.091Z"
   },
   {
    "duration": 6,
    "start_time": "2022-10-23T14:30:06.660Z"
   },
   {
    "duration": 65,
    "start_time": "2022-10-23T14:36:39.234Z"
   },
   {
    "duration": 10,
    "start_time": "2022-10-23T14:36:52.149Z"
   },
   {
    "duration": 10,
    "start_time": "2022-10-23T14:37:02.370Z"
   },
   {
    "duration": 10,
    "start_time": "2022-10-23T14:37:24.198Z"
   },
   {
    "duration": 12,
    "start_time": "2022-10-23T14:37:33.993Z"
   },
   {
    "duration": 10,
    "start_time": "2022-10-23T14:37:46.061Z"
   },
   {
    "duration": 10,
    "start_time": "2022-10-23T14:37:53.160Z"
   },
   {
    "duration": 5,
    "start_time": "2022-10-23T14:38:06.746Z"
   }
  ],
  "kernelspec": {
   "display_name": "Python 3 (ipykernel)",
   "language": "python",
   "name": "python3"
  },
  "language_info": {
   "codemirror_mode": {
    "name": "ipython",
    "version": 3
   },
   "file_extension": ".py",
   "mimetype": "text/x-python",
   "name": "python",
   "nbconvert_exporter": "python",
   "pygments_lexer": "ipython3",
   "version": "3.9.13"
  },
  "toc": {
   "base_numbering": 1,
   "nav_menu": {},
   "number_sections": true,
   "sideBar": true,
   "skip_h1_title": true,
   "title_cell": "Содержание",
   "title_sidebar": "Contents",
   "toc_cell": true,
   "toc_position": {
    "height": "calc(100% - 180px)",
    "left": "10px",
    "top": "150px",
    "width": "494.188px"
   },
   "toc_section_display": true,
   "toc_window_display": true
  }
 },
 "nbformat": 4,
 "nbformat_minor": 2
}
