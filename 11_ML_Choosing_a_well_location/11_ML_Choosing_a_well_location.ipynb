{
 "cells": [
  {
   "cell_type": "markdown",
   "metadata": {
    "toc": true
   },
   "source": [
    "<h1>Table of Contents<span class=\"tocSkip\"></span></h1>\n",
    "<div class=\"toc\"><ul class=\"toc-item\"><li><span><a href=\"#Загрузка-и-подготовка-данных\" data-toc-modified-id=\"Загрузка-и-подготовка-данных-1\"><span class=\"toc-item-num\">1&nbsp;&nbsp;</span>Загрузка и подготовка данных</a></span><ul class=\"toc-item\"><li><span><a href=\"#Открытие-файлов,-знакомство-с-данными\" data-toc-modified-id=\"Открытие-файлов,-знакомство-с-данными-1.1\"><span class=\"toc-item-num\">1.1&nbsp;&nbsp;</span>Открытие файлов, знакомство с данными</a></span></li><li><span><a href=\"#Поиск-и-обработка-пропусков\" data-toc-modified-id=\"Поиск-и-обработка-пропусков-1.2\"><span class=\"toc-item-num\">1.2&nbsp;&nbsp;</span>Поиск и обработка пропусков</a></span></li><li><span><a href=\"#Поиск-и-обработка-дубликатов\" data-toc-modified-id=\"Поиск-и-обработка-дубликатов-1.3\"><span class=\"toc-item-num\">1.3&nbsp;&nbsp;</span>Поиск и обработка дубликатов</a></span></li><li><span><a href=\"#Поиск-и-обработка-выбросов\" data-toc-modified-id=\"Поиск-и-обработка-выбросов-1.4\"><span class=\"toc-item-num\">1.4&nbsp;&nbsp;</span>Поиск и обработка выбросов</a></span></li><li><span><a href=\"#Проверка-наличия-избыточных-данных\" data-toc-modified-id=\"Проверка-наличия-избыточных-данных-1.5\"><span class=\"toc-item-num\">1.5&nbsp;&nbsp;</span>Проверка наличия избыточных данных</a></span></li><li><span><a href=\"#Оценка-данных-после-предобработки\" data-toc-modified-id=\"Оценка-данных-после-предобработки-1.6\"><span class=\"toc-item-num\">1.6&nbsp;&nbsp;</span>Оценка данных после предобработки</a></span></li><li><span><a href=\"#Вывод-по-разделу-1\" data-toc-modified-id=\"Вывод-по-разделу-1-1.7\"><span class=\"toc-item-num\">1.7&nbsp;&nbsp;</span>Вывод по разделу 1</a></span></li></ul></li><li><span><a href=\"#Обучение-и-проверка-модели\" data-toc-modified-id=\"Обучение-и-проверка-модели-2\"><span class=\"toc-item-num\">2&nbsp;&nbsp;</span>Обучение и проверка модели</a></span><ul class=\"toc-item\"><li><span><a href=\"#Разделение-данных-на-обучающую-и-валидационную-выборки-в-соотношении-75:25\" data-toc-modified-id=\"Разделение-данных-на-обучающую-и-валидационную-выборки-в-соотношении-75:25-2.1\"><span class=\"toc-item-num\">2.1&nbsp;&nbsp;</span>Разделение данных на обучающую и валидационную выборки в соотношении 75:25</a></span></li><li><span><a href=\"#Обработка-признаков\" data-toc-modified-id=\"Обработка-признаков-2.2\"><span class=\"toc-item-num\">2.2&nbsp;&nbsp;</span>Обработка признаков</a></span></li><li><span><a href=\"#Оценка-значений-после-обработки-числовых-признаков\" data-toc-modified-id=\"Оценка-значений-после-обработки-числовых-признаков-2.3\"><span class=\"toc-item-num\">2.3&nbsp;&nbsp;</span>Оценка значений после обработки числовых признаков</a></span></li><li><span><a href=\"#Обучение-модели-и-создание-предсказаний-на-валидационной-выборке.\" data-toc-modified-id=\"Обучение-модели-и-создание-предсказаний-на-валидационной-выборке.-2.4\"><span class=\"toc-item-num\">2.4&nbsp;&nbsp;</span>Обучение модели и создание предсказаний на валидационной выборке.</a></span></li><li><span><a href=\"#Сохранение-предсказаний-и-правильных-ответов-на-валидационной-выборке\" data-toc-modified-id=\"Сохранение-предсказаний-и-правильных-ответов-на-валидационной-выборке-2.5\"><span class=\"toc-item-num\">2.5&nbsp;&nbsp;</span>Сохранение предсказаний и правильных ответов на валидационной выборке</a></span></li><li><span><a href=\"#Вывод-среднего-запаса-предсказанного-сырья-и-RMSE-модели\" data-toc-modified-id=\"Вывод-среднего-запаса-предсказанного-сырья-и-RMSE-модели-2.6\"><span class=\"toc-item-num\">2.6&nbsp;&nbsp;</span>Вывод среднего запаса предсказанного сырья и RMSE модели</a></span></li><li><span><a href=\"#Проверка-адекватности-модели:-cравнение-с-метрикой-константной-модели.\" data-toc-modified-id=\"Проверка-адекватности-модели:-cравнение-с-метрикой-константной-модели.-2.7\"><span class=\"toc-item-num\">2.7&nbsp;&nbsp;</span>Проверка адекватности модели: cравнение с метрикой константной модели.</a></span></li><li><span><a href=\"#Вывод-по-разделу-2\" data-toc-modified-id=\"Вывод-по-разделу-2-2.8\"><span class=\"toc-item-num\">2.8&nbsp;&nbsp;</span>Вывод по разделу 2</a></span></li></ul></li><li><span><a href=\"#Подготовка-к-расчёту-прибыли\" data-toc-modified-id=\"Подготовка-к-расчёту-прибыли-3\"><span class=\"toc-item-num\">3&nbsp;&nbsp;</span>Подготовка к расчёту прибыли</a></span><ul class=\"toc-item\"><li><span><a href=\"#Сохранение-ключевых-значений-для-расчета\" data-toc-modified-id=\"Сохранение-ключевых-значений-для-расчета-3.1\"><span class=\"toc-item-num\">3.1&nbsp;&nbsp;</span>Сохранение ключевых значений для расчета</a></span></li><li><span><a href=\"#Расчёт-достаточного-объёма-сырья-для-безубыточной-разработки-новой-скважины.\" data-toc-modified-id=\"Расчёт-достаточного-объёма-сырья-для-безубыточной-разработки-новой-скважины.-3.2\"><span class=\"toc-item-num\">3.2&nbsp;&nbsp;</span>Расчёт достаточного объёма сырья для безубыточной разработки новой скважины.</a></span></li><li><span><a href=\"#Сравнение-полученного-достаточного-объёма-сырья-со-средним-запасом-в-каждом-регионе.\" data-toc-modified-id=\"Сравнение-полученного-достаточного-объёма-сырья-со-средним-запасом-в-каждом-регионе.-3.3\"><span class=\"toc-item-num\">3.3&nbsp;&nbsp;</span>Сравнение полученного достаточного объёма сырья со средним запасом в каждом регионе.</a></span></li><li><span><a href=\"#Вывод-по-разделу-3\" data-toc-modified-id=\"Вывод-по-разделу-3-3.4\"><span class=\"toc-item-num\">3.4&nbsp;&nbsp;</span>Вывод по разделу 3</a></span></li></ul></li><li><span><a href=\"#Расчёт-прибыли-по-выбранным-скважинам-и-предсказаниям-модели\" data-toc-modified-id=\"Расчёт-прибыли-по-выбранным-скважинам-и-предсказаниям-модели-4\"><span class=\"toc-item-num\">4&nbsp;&nbsp;</span>Расчёт прибыли по выбранным скважинам и предсказаниям модели</a></span><ul class=\"toc-item\"><li><span><a href=\"#Объявление-функции\" data-toc-modified-id=\"Объявление-функции-4.1\"><span class=\"toc-item-num\">4.1&nbsp;&nbsp;</span>Объявление функции</a></span></li><li><span><a href=\"#Тестирование-работы-функции\" data-toc-modified-id=\"Тестирование-работы-функции-4.2\"><span class=\"toc-item-num\">4.2&nbsp;&nbsp;</span>Тестирование работы функции</a></span></li><li><span><a href=\"#Вывод-по-разделу-4\" data-toc-modified-id=\"Вывод-по-разделу-4-4.3\"><span class=\"toc-item-num\">4.3&nbsp;&nbsp;</span>Вывод по разделу 4</a></span></li></ul></li><li><span><a href=\"#Расчёт-риска-и-прибыли-для-каждого-региона\" data-toc-modified-id=\"Расчёт-риска-и-прибыли-для-каждого-региона-5\"><span class=\"toc-item-num\">5&nbsp;&nbsp;</span>Расчёт риска и прибыли для каждого региона</a></span><ul class=\"toc-item\"><li><span><a href=\"#Нахождение-распределения-прибыли-техникой-Bootstrap-с-1000-выборок.\" data-toc-modified-id=\"Нахождение-распределения-прибыли-техникой-Bootstrap-с-1000-выборок.-5.1\"><span class=\"toc-item-num\">5.1&nbsp;&nbsp;</span>Нахождение распределения прибыли техникой Bootstrap с 1000 выборок.</a></span></li><li><span><a href=\"#Нахождение-для-распределения-прибыли:-средней-величины,-95%-й-доверительный-интервала-и-риска-убытков.\" data-toc-modified-id=\"Нахождение-для-распределения-прибыли:-средней-величины,-95%-й-доверительный-интервала-и-риска-убытков.-5.2\"><span class=\"toc-item-num\">5.2&nbsp;&nbsp;</span>Нахождение для распределения прибыли: средней величины, 95%-й доверительный интервала и риска убытков.</a></span></li><li><span><a href=\"#Вывод-по-разделу-5\" data-toc-modified-id=\"Вывод-по-разделу-5-5.3\"><span class=\"toc-item-num\">5.3&nbsp;&nbsp;</span>Вывод по разделу 5</a></span></li></ul></li><li><span><a href=\"#Общий-вывод\" data-toc-modified-id=\"Общий-вывод-6\"><span class=\"toc-item-num\">6&nbsp;&nbsp;</span>Общий вывод</a></span></li></ul></div>"
   ]
  },
  {
   "cell_type": "markdown",
   "metadata": {},
   "source": [
    "# Выбор локации для скважины"
   ]
  },
  {
   "cell_type": "markdown",
   "metadata": {},
   "source": [
    "Допустим, вы работаете в добывающей компании «ГлавРосГосНефть». Нужно решить, где бурить новую скважину.\n",
    "\n",
    "Вам предоставлены пробы нефти в трёх регионах: в каждом 10 000 месторождений, где измерили качество нефти и объём её запасов. Постройте модель машинного обучения, которая поможет определить регион, где добыча принесёт наибольшую прибыль. Проанализируйте возможную прибыль и риски техникой *Bootstrap.*\n",
    "\n",
    "Шаги для выбора локации:\n",
    "\n",
    "- В избранном регионе ищут месторождения, для каждого определяют значения признаков;\n",
    "- Строят модель и оценивают объём запасов;\n",
    "- Выбирают месторождения с самым высокими оценками значений. Количество месторождений зависит от бюджета компании и стоимости разработки одной скважины;\n",
    "- Прибыль равна суммарной прибыли отобранных месторождений."
   ]
  },
  {
   "cell_type": "markdown",
   "metadata": {},
   "source": [
    "# Посторойка модели для анализа прибыли"
   ]
  },
  {
   "cell_type": "markdown",
   "metadata": {},
   "source": [
    "Исходные данные от заказчика:\n",
    "\n",
    " Требуется построить систему, способную анализировать возможную прибыли и риски.\n",
    "\n",
    " Нужно построить модель для задачи регрессии, которая определит возможную прибыль, риск убытков, для конкретного региона. Необходимо сравнить полученные данные для всех регионов\n",
    " \n",
    " Условия задачи:\n",
    " \n",
    "- Для обучения модели подходит только линейная регрессия (остальные — недостаточно предсказуемые).\n",
    "- При разведке региона исследуют 500 точек, из которых с помощью машинного обучения выбирают 200 лучших для разработки.\n",
    "- Бюджет на разработку скважин в регионе — 10 млрд рублей.\n",
    "- При нынешних ценах один баррель сырья приносит 450 рублей дохода. Доход с каждой единицы продукта составляет 450 тыс. рублей, поскольку объём указан в тысячах баррелей.\n",
    "- После оценки рисков нужно оставить лишь те регионы, в которых вероятность убытков меньше 2.5%. Среди них выбирают регион с наибольшей средней прибылью.\n",
    " \n",
    "Описание данных:\n",
    "\n",
    "Каждый объект в наборе данных — это информация о одном из клиентов. Известно:\n",
    "\n",
    "**Признаки**\n",
    "- `id` — уникальный идентификатор скважины;\n",
    "- `f0, f1, f2` — три признака точек (неважно, что они означают, но сами признаки значимы);\n",
    "\n",
    "**Целевой признак**\n",
    "- `product` — объём запасов в скважине (тыс. баррелей)\n",
    "\n",
    " Предоставлены датасеты с данными по скважинам, всего три датасета, по одному на один регион. Данные синтетические: детали контрактов и характеристики месторождений не разглашаются.\n",
    "\n"
   ]
  },
  {
   "cell_type": "markdown",
   "metadata": {},
   "source": [
    " План работы:\n",
    "\n",
    "- 1) Загрузка и подготовка данных.\n",
    "  - 1.1) Открытие файлов, знакомство с данными\n",
    "  - 1.2) Поиск и обработка пропусков\n",
    "  - 1.3) Поиск и обработка дубликатов\n",
    "  - 1.4) Поиск и обработка выбросов\n",
    "  - 1.5) Проверка наличия избыточных данных\n",
    "  - 1.6) Оценка данных после предобработки\n",
    "  - 1.7) Вывод по разделу 1\n",
    "- 2) Обучение и проверка модели для каждого региона\n",
    "  - 2.1) Разделение данных на обучающую и валидационную выборки в соотношении 75:25.\n",
    "  - 2.2) Обработка признаков\n",
    "  - 2.3) Оценка значений после обработки числовых признаков\n",
    "  - 2.4) Обучение модели и создание предсказаний на валидационной выборке.\n",
    "  - 2.5) Сохранение предсказаний и правильных ответов на валидационной выборке\n",
    "  - 2.6) Вывод среднего запаса предсказанного сырья и RMSE модели\n",
    "  - 2.7) Проверка адекватности модели: cравнение с метрикой константной модели.\n",
    "  - 2.8) Вывод с анализом результатов.\n",
    "- 3) Подготовка к расчету прибыли:\n",
    "  - 3.1) Сохранение ключевых значений для расчета.\n",
    "  - 3.2) Расчёт достаточного объёма сырья для безубыточной разработки новой скважины.\n",
    "  - 3.3) Сравнение полученного достаточного объёма сырья со средним запасом в каждом регионе.\n",
    "  - 3.4) Вывод по этапу подготовки расчёта прибыли.\n",
    "- 4) Создание функции для расчёта прибыли по выбранным скважинам и предсказаниям модели\n",
    "  - 4.1) Объявление функции\n",
    "  - 4.2) Тестирование работы функции\n",
    "  - 4.3) Вывод по разделу\n",
    "- 5) Расчёт риска и прибыли для каждого региона\n",
    "  - 5.1) Нахождение распределения прибыли техникой Bootstrap с 1000 выборок.\n",
    "  - 5.2) Нахождение для распределения прибыли: средней величины, 95%-й доверительный интервала и риска убытков.\n",
    "  - 5.3) Вывод с выбором наилучшего региона и обоснованием.\n",
    "- 6) Общий вывод"
   ]
  },
  {
   "cell_type": "code",
   "execution_count": 1,
   "metadata": {},
   "outputs": [],
   "source": [
    "# СЛУЖЕБНОЕ Ячейка с импортом библиотек, импорт происходит только в этой ячейке\n",
    "\n",
    "import pandas as pd\n",
    "import numpy as np\n",
    "import matplotlib.pyplot as plt\n",
    "\n",
    "from sklearn.model_selection import train_test_split\n",
    "from sklearn.preprocessing import StandardScaler\n",
    "\n",
    "from sklearn.linear_model import LinearRegression\n",
    "\n",
    "from sklearn.metrics import mean_squared_error"
   ]
  },
  {
   "cell_type": "code",
   "execution_count": 2,
   "metadata": {},
   "outputs": [],
   "source": [
    "# СЛУЖЕБНОЕ Ячейка с c начальными настройками Pandas\n",
    "\n",
    "pd.set_option('display.max_columns', 50) \n",
    "pd.options.mode.chained_assignment = None\n"
   ]
  },
  {
   "cell_type": "code",
   "execution_count": 3,
   "metadata": {},
   "outputs": [],
   "source": [
    "# СЛУЖЕБНОЕ Ячейка с c глобальными переменными к проекту\n",
    "\n",
    "RANDOM_STATE = 3141592654\n",
    "\n",
    "BUDGET = 10 * 10 ** 9\n",
    "BARREL_INCOME = 450\n",
    "PRODUCT_INCOME = BARREL_INCOME * 10 ** 3\n",
    "NUMBER_EXPLOR_POINTS = 500\n",
    "NUMBER_SELECTED_POINTS = 200\n",
    "MAX_LOSS_PROB = 0.025\n",
    "CONF_INTRVL = 0.95"
   ]
  },
  {
   "cell_type": "markdown",
   "metadata": {},
   "source": [
    "Функции общего назначения, используемые в проекте:"
   ]
  },
  {
   "cell_type": "code",
   "execution_count": 4,
   "metadata": {},
   "outputs": [],
   "source": [
    "def first_info(dataframe, data_title='Неопознанный набор данных', head_length=6):\n",
    "    '''\n",
    "    dataframe: датафрейм для анализа\n",
    "    data_title: пользовательское название набора данных\n",
    "    head_length: количество строк, отображаемых функцией при выводе датасета\n",
    "    Функция  принимает на вход Pandas.DataFrame, Краткое название датафрейма (для вывода в логе выполнения функции) \n",
    "    и количество строк датафрейма, которое будет выводить функция в ходе работы. \n",
    "    Функция создана для упрощения первичного знакомства с данными\n",
    "    Возвращает None\n",
    "    '''\n",
    "    try:\n",
    "        print(f'Данные по датасету: {data_title}')\n",
    "        display(dataframe.head(head_length))\n",
    "        display(dataframe.info())\n",
    "        print()\n",
    "        print(f'Описательная статистика датасета: {data_title}')\n",
    "        display(dataframe.describe())\n",
    "    except:\n",
    "        print(f'Ошибка в передаваемых аргументах\\nПроверьте ввод!')"
   ]
  },
  {
   "cell_type": "code",
   "execution_count": 5,
   "metadata": {},
   "outputs": [],
   "source": [
    "def duplicate_preprocessing(dataframe, data_title='Неопознанный набор данных', columns='All', ignr_indx=True):\n",
    "    '''\n",
    "    dataframe: датафрейм для анализа\n",
    "    data_title: пользовательское название набора данных \n",
    "    columns: список колонок, в которых нужно искать и удалять дубликаты или 'All' - поиск во всех колонках\n",
    "    ignr_indx: Если True, индексы в возвращаемом (после удаления дубликатов) датафрейме будут сброшены \n",
    "    Функция принимает на вход Pandas.DataFrame и список столбцов в которых нужно искать дубликаты.\n",
    "    Функция удаляет найденные дубликаты и печатает лог работы\n",
    "    Возвращает предобработанный pandas.DataFrame\n",
    "    '''\n",
    "    \n",
    "    try:\n",
    "        dup_counts = 0\n",
    "        if columns == 'All':\n",
    "            dup_counts = dataframe.duplicated().sum()\n",
    "            print(f'Датасет {data_title}, во всех столбцах, Кол-во дубликатов: {dup_counts}')\n",
    "            if dup_counts > 0:\n",
    "                print('Найденные дубликаты удалены.')\n",
    "                return dataframe.drop_duplicates(ignore_index = ignr_indx)\n",
    "            else:\n",
    "                print('Дубликаты не найдены.')\n",
    "                return dataframe\n",
    "              \n",
    "        else:\n",
    "            dup_counts = dataframe.duplicated(subset=columns).sum()\n",
    "            print(f'Датасет {data_title}, столбцы [{columns}], Кол-во дубликатов: {dup_counts}')\n",
    "            if dup_counts > 0:\n",
    "                print('Найденные дубликаты удалены.')\n",
    "                return dataframe.drop_duplicates(subset=columns, ignore_index = ignr_indx)\n",
    "            else:\n",
    "                print('Дубликаты не найдены.')\n",
    "                return dataframe\n",
    "    except:\n",
    "       print(f'Ошибка в передаваемых аргументах\\nПроверьте ввод!')\n",
    "       return dataframe"
   ]
  },
  {
   "cell_type": "markdown",
   "metadata": {},
   "source": [
    "## Загрузка и подготовка данных"
   ]
  },
  {
   "cell_type": "markdown",
   "metadata": {},
   "source": [
    "### Открытие файлов, знакомство с данными"
   ]
  },
  {
   "cell_type": "code",
   "execution_count": 6,
   "metadata": {},
   "outputs": [],
   "source": [
    "try:\n",
    "    data_0 = pd.read_csv('/datasets/geo_data_0.csv')\n",
    "    data_1 = pd.read_csv('/datasets/geo_data_1.csv')\n",
    "    data_2 = pd.read_csv('/datasets/geo_data_2.csv')\n",
    "except:\n",
    "    data_0 = pd.read_csv('https://code.s3.yandex.net/datasets/geo_data_0.csv')\n",
    "    data_1 = pd.read_csv('https://code.s3.yandex.net/datasets/geo_data_1.csv')\n",
    "    data_2 = pd.read_csv('https://code.s3.yandex.net/datasets/geo_data_2.csv')"
   ]
  },
  {
   "cell_type": "code",
   "execution_count": 7,
   "metadata": {},
   "outputs": [
    {
     "name": "stdout",
     "output_type": "stream",
     "text": [
      "Данные по датасету: РЕГИОН 0\n"
     ]
    },
    {
     "data": {
      "text/html": [
       "<div>\n",
       "<style scoped>\n",
       "    .dataframe tbody tr th:only-of-type {\n",
       "        vertical-align: middle;\n",
       "    }\n",
       "\n",
       "    .dataframe tbody tr th {\n",
       "        vertical-align: top;\n",
       "    }\n",
       "\n",
       "    .dataframe thead th {\n",
       "        text-align: right;\n",
       "    }\n",
       "</style>\n",
       "<table border=\"1\" class=\"dataframe\">\n",
       "  <thead>\n",
       "    <tr style=\"text-align: right;\">\n",
       "      <th></th>\n",
       "      <th>id</th>\n",
       "      <th>f0</th>\n",
       "      <th>f1</th>\n",
       "      <th>f2</th>\n",
       "      <th>product</th>\n",
       "    </tr>\n",
       "  </thead>\n",
       "  <tbody>\n",
       "    <tr>\n",
       "      <th>0</th>\n",
       "      <td>txEyH</td>\n",
       "      <td>0.705745</td>\n",
       "      <td>-0.497823</td>\n",
       "      <td>1.221170</td>\n",
       "      <td>105.280062</td>\n",
       "    </tr>\n",
       "    <tr>\n",
       "      <th>1</th>\n",
       "      <td>2acmU</td>\n",
       "      <td>1.334711</td>\n",
       "      <td>-0.340164</td>\n",
       "      <td>4.365080</td>\n",
       "      <td>73.037750</td>\n",
       "    </tr>\n",
       "    <tr>\n",
       "      <th>2</th>\n",
       "      <td>409Wp</td>\n",
       "      <td>1.022732</td>\n",
       "      <td>0.151990</td>\n",
       "      <td>1.419926</td>\n",
       "      <td>85.265647</td>\n",
       "    </tr>\n",
       "    <tr>\n",
       "      <th>3</th>\n",
       "      <td>iJLyR</td>\n",
       "      <td>-0.032172</td>\n",
       "      <td>0.139033</td>\n",
       "      <td>2.978566</td>\n",
       "      <td>168.620776</td>\n",
       "    </tr>\n",
       "    <tr>\n",
       "      <th>4</th>\n",
       "      <td>Xdl7t</td>\n",
       "      <td>1.988431</td>\n",
       "      <td>0.155413</td>\n",
       "      <td>4.751769</td>\n",
       "      <td>154.036647</td>\n",
       "    </tr>\n",
       "    <tr>\n",
       "      <th>5</th>\n",
       "      <td>wX4Hy</td>\n",
       "      <td>0.969570</td>\n",
       "      <td>0.489775</td>\n",
       "      <td>-0.735383</td>\n",
       "      <td>64.741541</td>\n",
       "    </tr>\n",
       "  </tbody>\n",
       "</table>\n",
       "</div>"
      ],
      "text/plain": [
       "      id        f0        f1        f2     product\n",
       "0  txEyH  0.705745 -0.497823  1.221170  105.280062\n",
       "1  2acmU  1.334711 -0.340164  4.365080   73.037750\n",
       "2  409Wp  1.022732  0.151990  1.419926   85.265647\n",
       "3  iJLyR -0.032172  0.139033  2.978566  168.620776\n",
       "4  Xdl7t  1.988431  0.155413  4.751769  154.036647\n",
       "5  wX4Hy  0.969570  0.489775 -0.735383   64.741541"
      ]
     },
     "metadata": {},
     "output_type": "display_data"
    },
    {
     "name": "stdout",
     "output_type": "stream",
     "text": [
      "<class 'pandas.core.frame.DataFrame'>\n",
      "RangeIndex: 100000 entries, 0 to 99999\n",
      "Data columns (total 5 columns):\n",
      " #   Column   Non-Null Count   Dtype  \n",
      "---  ------   --------------   -----  \n",
      " 0   id       100000 non-null  object \n",
      " 1   f0       100000 non-null  float64\n",
      " 2   f1       100000 non-null  float64\n",
      " 3   f2       100000 non-null  float64\n",
      " 4   product  100000 non-null  float64\n",
      "dtypes: float64(4), object(1)\n",
      "memory usage: 3.8+ MB\n"
     ]
    },
    {
     "data": {
      "text/plain": [
       "None"
      ]
     },
     "metadata": {},
     "output_type": "display_data"
    },
    {
     "name": "stdout",
     "output_type": "stream",
     "text": [
      "\n",
      "Описательная статистика датасета: РЕГИОН 0\n"
     ]
    },
    {
     "data": {
      "text/html": [
       "<div>\n",
       "<style scoped>\n",
       "    .dataframe tbody tr th:only-of-type {\n",
       "        vertical-align: middle;\n",
       "    }\n",
       "\n",
       "    .dataframe tbody tr th {\n",
       "        vertical-align: top;\n",
       "    }\n",
       "\n",
       "    .dataframe thead th {\n",
       "        text-align: right;\n",
       "    }\n",
       "</style>\n",
       "<table border=\"1\" class=\"dataframe\">\n",
       "  <thead>\n",
       "    <tr style=\"text-align: right;\">\n",
       "      <th></th>\n",
       "      <th>f0</th>\n",
       "      <th>f1</th>\n",
       "      <th>f2</th>\n",
       "      <th>product</th>\n",
       "    </tr>\n",
       "  </thead>\n",
       "  <tbody>\n",
       "    <tr>\n",
       "      <th>count</th>\n",
       "      <td>100000.000000</td>\n",
       "      <td>100000.000000</td>\n",
       "      <td>100000.000000</td>\n",
       "      <td>100000.000000</td>\n",
       "    </tr>\n",
       "    <tr>\n",
       "      <th>mean</th>\n",
       "      <td>0.500419</td>\n",
       "      <td>0.250143</td>\n",
       "      <td>2.502647</td>\n",
       "      <td>92.500000</td>\n",
       "    </tr>\n",
       "    <tr>\n",
       "      <th>std</th>\n",
       "      <td>0.871832</td>\n",
       "      <td>0.504433</td>\n",
       "      <td>3.248248</td>\n",
       "      <td>44.288691</td>\n",
       "    </tr>\n",
       "    <tr>\n",
       "      <th>min</th>\n",
       "      <td>-1.408605</td>\n",
       "      <td>-0.848218</td>\n",
       "      <td>-12.088328</td>\n",
       "      <td>0.000000</td>\n",
       "    </tr>\n",
       "    <tr>\n",
       "      <th>25%</th>\n",
       "      <td>-0.072580</td>\n",
       "      <td>-0.200881</td>\n",
       "      <td>0.287748</td>\n",
       "      <td>56.497507</td>\n",
       "    </tr>\n",
       "    <tr>\n",
       "      <th>50%</th>\n",
       "      <td>0.502360</td>\n",
       "      <td>0.250252</td>\n",
       "      <td>2.515969</td>\n",
       "      <td>91.849972</td>\n",
       "    </tr>\n",
       "    <tr>\n",
       "      <th>75%</th>\n",
       "      <td>1.073581</td>\n",
       "      <td>0.700646</td>\n",
       "      <td>4.715088</td>\n",
       "      <td>128.564089</td>\n",
       "    </tr>\n",
       "    <tr>\n",
       "      <th>max</th>\n",
       "      <td>2.362331</td>\n",
       "      <td>1.343769</td>\n",
       "      <td>16.003790</td>\n",
       "      <td>185.364347</td>\n",
       "    </tr>\n",
       "  </tbody>\n",
       "</table>\n",
       "</div>"
      ],
      "text/plain": [
       "                  f0             f1             f2        product\n",
       "count  100000.000000  100000.000000  100000.000000  100000.000000\n",
       "mean        0.500419       0.250143       2.502647      92.500000\n",
       "std         0.871832       0.504433       3.248248      44.288691\n",
       "min        -1.408605      -0.848218     -12.088328       0.000000\n",
       "25%        -0.072580      -0.200881       0.287748      56.497507\n",
       "50%         0.502360       0.250252       2.515969      91.849972\n",
       "75%         1.073581       0.700646       4.715088     128.564089\n",
       "max         2.362331       1.343769      16.003790     185.364347"
      ]
     },
     "metadata": {},
     "output_type": "display_data"
    }
   ],
   "source": [
    "first_info(data_0, 'РЕГИОН 0')"
   ]
  },
  {
   "cell_type": "code",
   "execution_count": 8,
   "metadata": {},
   "outputs": [
    {
     "name": "stdout",
     "output_type": "stream",
     "text": [
      "Данные по датасету: РЕГИОН 1\n"
     ]
    },
    {
     "data": {
      "text/html": [
       "<div>\n",
       "<style scoped>\n",
       "    .dataframe tbody tr th:only-of-type {\n",
       "        vertical-align: middle;\n",
       "    }\n",
       "\n",
       "    .dataframe tbody tr th {\n",
       "        vertical-align: top;\n",
       "    }\n",
       "\n",
       "    .dataframe thead th {\n",
       "        text-align: right;\n",
       "    }\n",
       "</style>\n",
       "<table border=\"1\" class=\"dataframe\">\n",
       "  <thead>\n",
       "    <tr style=\"text-align: right;\">\n",
       "      <th></th>\n",
       "      <th>id</th>\n",
       "      <th>f0</th>\n",
       "      <th>f1</th>\n",
       "      <th>f2</th>\n",
       "      <th>product</th>\n",
       "    </tr>\n",
       "  </thead>\n",
       "  <tbody>\n",
       "    <tr>\n",
       "      <th>0</th>\n",
       "      <td>kBEdx</td>\n",
       "      <td>-15.001348</td>\n",
       "      <td>-8.276000</td>\n",
       "      <td>-0.005876</td>\n",
       "      <td>3.179103</td>\n",
       "    </tr>\n",
       "    <tr>\n",
       "      <th>1</th>\n",
       "      <td>62mP7</td>\n",
       "      <td>14.272088</td>\n",
       "      <td>-3.475083</td>\n",
       "      <td>0.999183</td>\n",
       "      <td>26.953261</td>\n",
       "    </tr>\n",
       "    <tr>\n",
       "      <th>2</th>\n",
       "      <td>vyE1P</td>\n",
       "      <td>6.263187</td>\n",
       "      <td>-5.948386</td>\n",
       "      <td>5.001160</td>\n",
       "      <td>134.766305</td>\n",
       "    </tr>\n",
       "    <tr>\n",
       "      <th>3</th>\n",
       "      <td>KcrkZ</td>\n",
       "      <td>-13.081196</td>\n",
       "      <td>-11.506057</td>\n",
       "      <td>4.999415</td>\n",
       "      <td>137.945408</td>\n",
       "    </tr>\n",
       "    <tr>\n",
       "      <th>4</th>\n",
       "      <td>AHL4O</td>\n",
       "      <td>12.702195</td>\n",
       "      <td>-8.147433</td>\n",
       "      <td>5.004363</td>\n",
       "      <td>134.766305</td>\n",
       "    </tr>\n",
       "    <tr>\n",
       "      <th>5</th>\n",
       "      <td>HHckp</td>\n",
       "      <td>-3.327590</td>\n",
       "      <td>-2.205276</td>\n",
       "      <td>3.003647</td>\n",
       "      <td>84.038886</td>\n",
       "    </tr>\n",
       "  </tbody>\n",
       "</table>\n",
       "</div>"
      ],
      "text/plain": [
       "      id         f0         f1        f2     product\n",
       "0  kBEdx -15.001348  -8.276000 -0.005876    3.179103\n",
       "1  62mP7  14.272088  -3.475083  0.999183   26.953261\n",
       "2  vyE1P   6.263187  -5.948386  5.001160  134.766305\n",
       "3  KcrkZ -13.081196 -11.506057  4.999415  137.945408\n",
       "4  AHL4O  12.702195  -8.147433  5.004363  134.766305\n",
       "5  HHckp  -3.327590  -2.205276  3.003647   84.038886"
      ]
     },
     "metadata": {},
     "output_type": "display_data"
    },
    {
     "name": "stdout",
     "output_type": "stream",
     "text": [
      "<class 'pandas.core.frame.DataFrame'>\n",
      "RangeIndex: 100000 entries, 0 to 99999\n",
      "Data columns (total 5 columns):\n",
      " #   Column   Non-Null Count   Dtype  \n",
      "---  ------   --------------   -----  \n",
      " 0   id       100000 non-null  object \n",
      " 1   f0       100000 non-null  float64\n",
      " 2   f1       100000 non-null  float64\n",
      " 3   f2       100000 non-null  float64\n",
      " 4   product  100000 non-null  float64\n",
      "dtypes: float64(4), object(1)\n",
      "memory usage: 3.8+ MB\n"
     ]
    },
    {
     "data": {
      "text/plain": [
       "None"
      ]
     },
     "metadata": {},
     "output_type": "display_data"
    },
    {
     "name": "stdout",
     "output_type": "stream",
     "text": [
      "\n",
      "Описательная статистика датасета: РЕГИОН 1\n"
     ]
    },
    {
     "data": {
      "text/html": [
       "<div>\n",
       "<style scoped>\n",
       "    .dataframe tbody tr th:only-of-type {\n",
       "        vertical-align: middle;\n",
       "    }\n",
       "\n",
       "    .dataframe tbody tr th {\n",
       "        vertical-align: top;\n",
       "    }\n",
       "\n",
       "    .dataframe thead th {\n",
       "        text-align: right;\n",
       "    }\n",
       "</style>\n",
       "<table border=\"1\" class=\"dataframe\">\n",
       "  <thead>\n",
       "    <tr style=\"text-align: right;\">\n",
       "      <th></th>\n",
       "      <th>f0</th>\n",
       "      <th>f1</th>\n",
       "      <th>f2</th>\n",
       "      <th>product</th>\n",
       "    </tr>\n",
       "  </thead>\n",
       "  <tbody>\n",
       "    <tr>\n",
       "      <th>count</th>\n",
       "      <td>100000.000000</td>\n",
       "      <td>100000.000000</td>\n",
       "      <td>100000.000000</td>\n",
       "      <td>100000.000000</td>\n",
       "    </tr>\n",
       "    <tr>\n",
       "      <th>mean</th>\n",
       "      <td>1.141296</td>\n",
       "      <td>-4.796579</td>\n",
       "      <td>2.494541</td>\n",
       "      <td>68.825000</td>\n",
       "    </tr>\n",
       "    <tr>\n",
       "      <th>std</th>\n",
       "      <td>8.965932</td>\n",
       "      <td>5.119872</td>\n",
       "      <td>1.703572</td>\n",
       "      <td>45.944423</td>\n",
       "    </tr>\n",
       "    <tr>\n",
       "      <th>min</th>\n",
       "      <td>-31.609576</td>\n",
       "      <td>-26.358598</td>\n",
       "      <td>-0.018144</td>\n",
       "      <td>0.000000</td>\n",
       "    </tr>\n",
       "    <tr>\n",
       "      <th>25%</th>\n",
       "      <td>-6.298551</td>\n",
       "      <td>-8.267985</td>\n",
       "      <td>1.000021</td>\n",
       "      <td>26.953261</td>\n",
       "    </tr>\n",
       "    <tr>\n",
       "      <th>50%</th>\n",
       "      <td>1.153055</td>\n",
       "      <td>-4.813172</td>\n",
       "      <td>2.011479</td>\n",
       "      <td>57.085625</td>\n",
       "    </tr>\n",
       "    <tr>\n",
       "      <th>75%</th>\n",
       "      <td>8.621015</td>\n",
       "      <td>-1.332816</td>\n",
       "      <td>3.999904</td>\n",
       "      <td>107.813044</td>\n",
       "    </tr>\n",
       "    <tr>\n",
       "      <th>max</th>\n",
       "      <td>29.421755</td>\n",
       "      <td>18.734063</td>\n",
       "      <td>5.019721</td>\n",
       "      <td>137.945408</td>\n",
       "    </tr>\n",
       "  </tbody>\n",
       "</table>\n",
       "</div>"
      ],
      "text/plain": [
       "                  f0             f1             f2        product\n",
       "count  100000.000000  100000.000000  100000.000000  100000.000000\n",
       "mean        1.141296      -4.796579       2.494541      68.825000\n",
       "std         8.965932       5.119872       1.703572      45.944423\n",
       "min       -31.609576     -26.358598      -0.018144       0.000000\n",
       "25%        -6.298551      -8.267985       1.000021      26.953261\n",
       "50%         1.153055      -4.813172       2.011479      57.085625\n",
       "75%         8.621015      -1.332816       3.999904     107.813044\n",
       "max        29.421755      18.734063       5.019721     137.945408"
      ]
     },
     "metadata": {},
     "output_type": "display_data"
    }
   ],
   "source": [
    "first_info(data_1, 'РЕГИОН 1')"
   ]
  },
  {
   "cell_type": "code",
   "execution_count": 9,
   "metadata": {
    "scrolled": false
   },
   "outputs": [
    {
     "name": "stdout",
     "output_type": "stream",
     "text": [
      "Данные по датасету: РЕГИОН 2\n"
     ]
    },
    {
     "data": {
      "text/html": [
       "<div>\n",
       "<style scoped>\n",
       "    .dataframe tbody tr th:only-of-type {\n",
       "        vertical-align: middle;\n",
       "    }\n",
       "\n",
       "    .dataframe tbody tr th {\n",
       "        vertical-align: top;\n",
       "    }\n",
       "\n",
       "    .dataframe thead th {\n",
       "        text-align: right;\n",
       "    }\n",
       "</style>\n",
       "<table border=\"1\" class=\"dataframe\">\n",
       "  <thead>\n",
       "    <tr style=\"text-align: right;\">\n",
       "      <th></th>\n",
       "      <th>id</th>\n",
       "      <th>f0</th>\n",
       "      <th>f1</th>\n",
       "      <th>f2</th>\n",
       "      <th>product</th>\n",
       "    </tr>\n",
       "  </thead>\n",
       "  <tbody>\n",
       "    <tr>\n",
       "      <th>0</th>\n",
       "      <td>fwXo0</td>\n",
       "      <td>-1.146987</td>\n",
       "      <td>0.963328</td>\n",
       "      <td>-0.828965</td>\n",
       "      <td>27.758673</td>\n",
       "    </tr>\n",
       "    <tr>\n",
       "      <th>1</th>\n",
       "      <td>WJtFt</td>\n",
       "      <td>0.262778</td>\n",
       "      <td>0.269839</td>\n",
       "      <td>-2.530187</td>\n",
       "      <td>56.069697</td>\n",
       "    </tr>\n",
       "    <tr>\n",
       "      <th>2</th>\n",
       "      <td>ovLUW</td>\n",
       "      <td>0.194587</td>\n",
       "      <td>0.289035</td>\n",
       "      <td>-5.586433</td>\n",
       "      <td>62.871910</td>\n",
       "    </tr>\n",
       "    <tr>\n",
       "      <th>3</th>\n",
       "      <td>q6cA6</td>\n",
       "      <td>2.236060</td>\n",
       "      <td>-0.553760</td>\n",
       "      <td>0.930038</td>\n",
       "      <td>114.572842</td>\n",
       "    </tr>\n",
       "    <tr>\n",
       "      <th>4</th>\n",
       "      <td>WPMUX</td>\n",
       "      <td>-0.515993</td>\n",
       "      <td>1.716266</td>\n",
       "      <td>5.899011</td>\n",
       "      <td>149.600746</td>\n",
       "    </tr>\n",
       "    <tr>\n",
       "      <th>5</th>\n",
       "      <td>LzZXx</td>\n",
       "      <td>-0.758092</td>\n",
       "      <td>0.710691</td>\n",
       "      <td>2.585887</td>\n",
       "      <td>90.222465</td>\n",
       "    </tr>\n",
       "  </tbody>\n",
       "</table>\n",
       "</div>"
      ],
      "text/plain": [
       "      id        f0        f1        f2     product\n",
       "0  fwXo0 -1.146987  0.963328 -0.828965   27.758673\n",
       "1  WJtFt  0.262778  0.269839 -2.530187   56.069697\n",
       "2  ovLUW  0.194587  0.289035 -5.586433   62.871910\n",
       "3  q6cA6  2.236060 -0.553760  0.930038  114.572842\n",
       "4  WPMUX -0.515993  1.716266  5.899011  149.600746\n",
       "5  LzZXx -0.758092  0.710691  2.585887   90.222465"
      ]
     },
     "metadata": {},
     "output_type": "display_data"
    },
    {
     "name": "stdout",
     "output_type": "stream",
     "text": [
      "<class 'pandas.core.frame.DataFrame'>\n",
      "RangeIndex: 100000 entries, 0 to 99999\n",
      "Data columns (total 5 columns):\n",
      " #   Column   Non-Null Count   Dtype  \n",
      "---  ------   --------------   -----  \n",
      " 0   id       100000 non-null  object \n",
      " 1   f0       100000 non-null  float64\n",
      " 2   f1       100000 non-null  float64\n",
      " 3   f2       100000 non-null  float64\n",
      " 4   product  100000 non-null  float64\n",
      "dtypes: float64(4), object(1)\n",
      "memory usage: 3.8+ MB\n"
     ]
    },
    {
     "data": {
      "text/plain": [
       "None"
      ]
     },
     "metadata": {},
     "output_type": "display_data"
    },
    {
     "name": "stdout",
     "output_type": "stream",
     "text": [
      "\n",
      "Описательная статистика датасета: РЕГИОН 2\n"
     ]
    },
    {
     "data": {
      "text/html": [
       "<div>\n",
       "<style scoped>\n",
       "    .dataframe tbody tr th:only-of-type {\n",
       "        vertical-align: middle;\n",
       "    }\n",
       "\n",
       "    .dataframe tbody tr th {\n",
       "        vertical-align: top;\n",
       "    }\n",
       "\n",
       "    .dataframe thead th {\n",
       "        text-align: right;\n",
       "    }\n",
       "</style>\n",
       "<table border=\"1\" class=\"dataframe\">\n",
       "  <thead>\n",
       "    <tr style=\"text-align: right;\">\n",
       "      <th></th>\n",
       "      <th>f0</th>\n",
       "      <th>f1</th>\n",
       "      <th>f2</th>\n",
       "      <th>product</th>\n",
       "    </tr>\n",
       "  </thead>\n",
       "  <tbody>\n",
       "    <tr>\n",
       "      <th>count</th>\n",
       "      <td>100000.000000</td>\n",
       "      <td>100000.000000</td>\n",
       "      <td>100000.000000</td>\n",
       "      <td>100000.000000</td>\n",
       "    </tr>\n",
       "    <tr>\n",
       "      <th>mean</th>\n",
       "      <td>0.002023</td>\n",
       "      <td>-0.002081</td>\n",
       "      <td>2.495128</td>\n",
       "      <td>95.000000</td>\n",
       "    </tr>\n",
       "    <tr>\n",
       "      <th>std</th>\n",
       "      <td>1.732045</td>\n",
       "      <td>1.730417</td>\n",
       "      <td>3.473445</td>\n",
       "      <td>44.749921</td>\n",
       "    </tr>\n",
       "    <tr>\n",
       "      <th>min</th>\n",
       "      <td>-8.760004</td>\n",
       "      <td>-7.084020</td>\n",
       "      <td>-11.970335</td>\n",
       "      <td>0.000000</td>\n",
       "    </tr>\n",
       "    <tr>\n",
       "      <th>25%</th>\n",
       "      <td>-1.162288</td>\n",
       "      <td>-1.174820</td>\n",
       "      <td>0.130359</td>\n",
       "      <td>59.450441</td>\n",
       "    </tr>\n",
       "    <tr>\n",
       "      <th>50%</th>\n",
       "      <td>0.009424</td>\n",
       "      <td>-0.009482</td>\n",
       "      <td>2.484236</td>\n",
       "      <td>94.925613</td>\n",
       "    </tr>\n",
       "    <tr>\n",
       "      <th>75%</th>\n",
       "      <td>1.158535</td>\n",
       "      <td>1.163678</td>\n",
       "      <td>4.858794</td>\n",
       "      <td>130.595027</td>\n",
       "    </tr>\n",
       "    <tr>\n",
       "      <th>max</th>\n",
       "      <td>7.238262</td>\n",
       "      <td>7.844801</td>\n",
       "      <td>16.739402</td>\n",
       "      <td>190.029838</td>\n",
       "    </tr>\n",
       "  </tbody>\n",
       "</table>\n",
       "</div>"
      ],
      "text/plain": [
       "                  f0             f1             f2        product\n",
       "count  100000.000000  100000.000000  100000.000000  100000.000000\n",
       "mean        0.002023      -0.002081       2.495128      95.000000\n",
       "std         1.732045       1.730417       3.473445      44.749921\n",
       "min        -8.760004      -7.084020     -11.970335       0.000000\n",
       "25%        -1.162288      -1.174820       0.130359      59.450441\n",
       "50%         0.009424      -0.009482       2.484236      94.925613\n",
       "75%         1.158535       1.163678       4.858794     130.595027\n",
       "max         7.238262       7.844801      16.739402     190.029838"
      ]
     },
     "metadata": {},
     "output_type": "display_data"
    }
   ],
   "source": [
    "first_info(data_2, 'РЕГИОН 2')"
   ]
  },
  {
   "cell_type": "markdown",
   "metadata": {},
   "source": [
    "### Поиск и обработка пропусков\n",
    "\n",
    "Пропуски в данных остутствуют"
   ]
  },
  {
   "cell_type": "markdown",
   "metadata": {},
   "source": [
    "### Поиск и обработка дубликатов\n",
    "\n",
    "Исходя из описания данных дубликаты могут присутствовать только в столбцах `id` датасета каждого региона.\n",
    "Проверим их:"
   ]
  },
  {
   "cell_type": "code",
   "execution_count": 10,
   "metadata": {},
   "outputs": [
    {
     "name": "stdout",
     "output_type": "stream",
     "text": [
      "Датасет РЕГИОН 0, столбцы [id], Кол-во дубликатов: 10\n",
      "Найденные дубликаты удалены.\n",
      "Датасет РЕГИОН 1, столбцы [id], Кол-во дубликатов: 4\n",
      "Найденные дубликаты удалены.\n",
      "Датасет РЕГИОН 2, столбцы [id], Кол-во дубликатов: 4\n",
      "Найденные дубликаты удалены.\n"
     ]
    }
   ],
   "source": [
    "data_0 = duplicate_preprocessing(data_0, 'РЕГИОН 0', 'id')\n",
    "data_1 = duplicate_preprocessing(data_1, 'РЕГИОН 1', 'id')\n",
    "data_2 = duplicate_preprocessing(data_2, 'РЕГИОН 2', 'id')\n"
   ]
  },
  {
   "cell_type": "markdown",
   "metadata": {},
   "source": [
    "### Поиск и обработка выбросов"
   ]
  },
  {
   "cell_type": "markdown",
   "metadata": {},
   "source": [
    "\n",
    "Посмотрим на распределение значений внутри датасета в графическом виде для оценки выбросов:"
   ]
  },
  {
   "cell_type": "code",
   "execution_count": 11,
   "metadata": {
    "scrolled": false
   },
   "outputs": [
    {
     "name": "stdout",
     "output_type": "stream",
     "text": [
      "Распределение значений датасета для РЕГИОН 0\n"
     ]
    },
    {
     "data": {
      "image/png": "[encoded data removed]",
      "text/plain": [
       "<Figure size 1500x1500 with 4 Axes>"
      ]
     },
     "metadata": {},
     "output_type": "display_data"
    }
   ],
   "source": [
    "print('Распределение значений датасета для РЕГИОН 0')\n",
    "data_0.hist(figsize=(15, 15), bins = 42);"
   ]
  },
  {
   "cell_type": "code",
   "execution_count": 12,
   "metadata": {},
   "outputs": [
    {
     "name": "stdout",
     "output_type": "stream",
     "text": [
      "Распределение значений датасета для РЕГИОН 1\n"
     ]
    },
    {
     "data": {
      "image/png": "[encoded data removed]",
      "text/plain": [
       "<Figure size 1500x1500 with 4 Axes>"
      ]
     },
     "metadata": {},
     "output_type": "display_data"
    }
   ],
   "source": [
    "print('Распределение значений датасета для РЕГИОН 1')\n",
    "data_1.hist(figsize=(15, 15), bins = 42);"
   ]
  },
  {
   "cell_type": "code",
   "execution_count": 13,
   "metadata": {
    "scrolled": false
   },
   "outputs": [
    {
     "name": "stdout",
     "output_type": "stream",
     "text": [
      "Распределение значений датасета для РЕГИОН 2\n"
     ]
    },
    {
     "data": {
      "image/png": "[encoded data removed]",
      "text/plain": [
       "<Figure size 1500x1500 with 4 Axes>"
      ]
     },
     "metadata": {},
     "output_type": "display_data"
    }
   ],
   "source": [
    "print('Распределение значений датасета для РЕГИОН 2')\n",
    "data_2.hist(figsize=(15, 15), bins = 42);"
   ]
  },
  {
   "cell_type": "markdown",
   "metadata": {},
   "source": [
    "Выбросы в данных остутствуют\n",
    "\n",
    "- Для `РЕГИОН 0` распределение значение признаков `f2`, и целевого признака `product` в целом соответствует нормальному распределению. `f0` - нормальное распределение с пиками у экстремумов, и двумя пиками у среднего значения, `f1` - три пика, два распределны равномерно у экстремумов и один у среднего значения\n",
    "\n",
    "- Для `РЕГИОН 1` распределение признака `f2` и целевого признка `product` значительно отличается от аналогичных распределений в `РЕГИОН 0` и `РЕГИОН 2`. \n",
    "\n",
    "Этот факт мы зафиксируем, но исправлять не будем: все признаки отмеченные как значимые заказчиком исследования, но описание их не предоставлено.\n",
    "\n",
    "- Для `РЕГИОН 2` распределение значение признаков `f1`, `f2`, `f3` и целевого признака `product` соответствует нормальному распределению."
   ]
  },
  {
   "cell_type": "markdown",
   "metadata": {},
   "source": [
    "### Проверка наличия избыточных данных"
   ]
  },
  {
   "cell_type": "markdown",
   "metadata": {},
   "source": [
    "Признак `id` - уникальный идентификатор скважины, однозначно определяет скважину и не подходит для задач машинного обучения, так его повторение в новых данных для модели не предполагается.\n",
    "\n",
    "Признак `id` не будет участвовать в обучении и проверки модели, однако из датасета удалять его не будем."
   ]
  },
  {
   "cell_type": "markdown",
   "metadata": {},
   "source": [
    "### Оценка данных после предобработки"
   ]
  },
  {
   "cell_type": "code",
   "execution_count": 14,
   "metadata": {
    "scrolled": false
   },
   "outputs": [
    {
     "name": "stdout",
     "output_type": "stream",
     "text": [
      "Данные по датасету: РЕГИОН 0\n"
     ]
    },
    {
     "data": {
      "text/html": [
       "<div>\n",
       "<style scoped>\n",
       "    .dataframe tbody tr th:only-of-type {\n",
       "        vertical-align: middle;\n",
       "    }\n",
       "\n",
       "    .dataframe tbody tr th {\n",
       "        vertical-align: top;\n",
       "    }\n",
       "\n",
       "    .dataframe thead th {\n",
       "        text-align: right;\n",
       "    }\n",
       "</style>\n",
       "<table border=\"1\" class=\"dataframe\">\n",
       "  <thead>\n",
       "    <tr style=\"text-align: right;\">\n",
       "      <th></th>\n",
       "      <th>id</th>\n",
       "      <th>f0</th>\n",
       "      <th>f1</th>\n",
       "      <th>f2</th>\n",
       "      <th>product</th>\n",
       "    </tr>\n",
       "  </thead>\n",
       "  <tbody>\n",
       "    <tr>\n",
       "      <th>0</th>\n",
       "      <td>txEyH</td>\n",
       "      <td>0.705745</td>\n",
       "      <td>-0.497823</td>\n",
       "      <td>1.221170</td>\n",
       "      <td>105.280062</td>\n",
       "    </tr>\n",
       "    <tr>\n",
       "      <th>1</th>\n",
       "      <td>2acmU</td>\n",
       "      <td>1.334711</td>\n",
       "      <td>-0.340164</td>\n",
       "      <td>4.365080</td>\n",
       "      <td>73.037750</td>\n",
       "    </tr>\n",
       "    <tr>\n",
       "      <th>2</th>\n",
       "      <td>409Wp</td>\n",
       "      <td>1.022732</td>\n",
       "      <td>0.151990</td>\n",
       "      <td>1.419926</td>\n",
       "      <td>85.265647</td>\n",
       "    </tr>\n",
       "    <tr>\n",
       "      <th>3</th>\n",
       "      <td>iJLyR</td>\n",
       "      <td>-0.032172</td>\n",
       "      <td>0.139033</td>\n",
       "      <td>2.978566</td>\n",
       "      <td>168.620776</td>\n",
       "    </tr>\n",
       "    <tr>\n",
       "      <th>4</th>\n",
       "      <td>Xdl7t</td>\n",
       "      <td>1.988431</td>\n",
       "      <td>0.155413</td>\n",
       "      <td>4.751769</td>\n",
       "      <td>154.036647</td>\n",
       "    </tr>\n",
       "    <tr>\n",
       "      <th>5</th>\n",
       "      <td>wX4Hy</td>\n",
       "      <td>0.969570</td>\n",
       "      <td>0.489775</td>\n",
       "      <td>-0.735383</td>\n",
       "      <td>64.741541</td>\n",
       "    </tr>\n",
       "  </tbody>\n",
       "</table>\n",
       "</div>"
      ],
      "text/plain": [
       "      id        f0        f1        f2     product\n",
       "0  txEyH  0.705745 -0.497823  1.221170  105.280062\n",
       "1  2acmU  1.334711 -0.340164  4.365080   73.037750\n",
       "2  409Wp  1.022732  0.151990  1.419926   85.265647\n",
       "3  iJLyR -0.032172  0.139033  2.978566  168.620776\n",
       "4  Xdl7t  1.988431  0.155413  4.751769  154.036647\n",
       "5  wX4Hy  0.969570  0.489775 -0.735383   64.741541"
      ]
     },
     "metadata": {},
     "output_type": "display_data"
    },
    {
     "name": "stdout",
     "output_type": "stream",
     "text": [
      "<class 'pandas.core.frame.DataFrame'>\n",
      "RangeIndex: 99990 entries, 0 to 99989\n",
      "Data columns (total 5 columns):\n",
      " #   Column   Non-Null Count  Dtype  \n",
      "---  ------   --------------  -----  \n",
      " 0   id       99990 non-null  object \n",
      " 1   f0       99990 non-null  float64\n",
      " 2   f1       99990 non-null  float64\n",
      " 3   f2       99990 non-null  float64\n",
      " 4   product  99990 non-null  float64\n",
      "dtypes: float64(4), object(1)\n",
      "memory usage: 3.8+ MB\n"
     ]
    },
    {
     "data": {
      "text/plain": [
       "None"
      ]
     },
     "metadata": {},
     "output_type": "display_data"
    },
    {
     "name": "stdout",
     "output_type": "stream",
     "text": [
      "\n",
      "Описательная статистика датасета: РЕГИОН 0\n"
     ]
    },
    {
     "data": {
      "text/html": [
       "<div>\n",
       "<style scoped>\n",
       "    .dataframe tbody tr th:only-of-type {\n",
       "        vertical-align: middle;\n",
       "    }\n",
       "\n",
       "    .dataframe tbody tr th {\n",
       "        vertical-align: top;\n",
       "    }\n",
       "\n",
       "    .dataframe thead th {\n",
       "        text-align: right;\n",
       "    }\n",
       "</style>\n",
       "<table border=\"1\" class=\"dataframe\">\n",
       "  <thead>\n",
       "    <tr style=\"text-align: right;\">\n",
       "      <th></th>\n",
       "      <th>f0</th>\n",
       "      <th>f1</th>\n",
       "      <th>f2</th>\n",
       "      <th>product</th>\n",
       "    </tr>\n",
       "  </thead>\n",
       "  <tbody>\n",
       "    <tr>\n",
       "      <th>count</th>\n",
       "      <td>99990.000000</td>\n",
       "      <td>99990.000000</td>\n",
       "      <td>99990.000000</td>\n",
       "      <td>99990.000000</td>\n",
       "    </tr>\n",
       "    <tr>\n",
       "      <th>mean</th>\n",
       "      <td>0.500454</td>\n",
       "      <td>0.250141</td>\n",
       "      <td>2.502629</td>\n",
       "      <td>92.499684</td>\n",
       "    </tr>\n",
       "    <tr>\n",
       "      <th>std</th>\n",
       "      <td>0.871844</td>\n",
       "      <td>0.504430</td>\n",
       "      <td>3.248149</td>\n",
       "      <td>44.288304</td>\n",
       "    </tr>\n",
       "    <tr>\n",
       "      <th>min</th>\n",
       "      <td>-1.408605</td>\n",
       "      <td>-0.848218</td>\n",
       "      <td>-12.088328</td>\n",
       "      <td>0.000000</td>\n",
       "    </tr>\n",
       "    <tr>\n",
       "      <th>25%</th>\n",
       "      <td>-0.072572</td>\n",
       "      <td>-0.200877</td>\n",
       "      <td>0.287784</td>\n",
       "      <td>56.497069</td>\n",
       "    </tr>\n",
       "    <tr>\n",
       "      <th>50%</th>\n",
       "      <td>0.502405</td>\n",
       "      <td>0.250252</td>\n",
       "      <td>2.515969</td>\n",
       "      <td>91.847928</td>\n",
       "    </tr>\n",
       "    <tr>\n",
       "      <th>75%</th>\n",
       "      <td>1.073626</td>\n",
       "      <td>0.700640</td>\n",
       "      <td>4.715035</td>\n",
       "      <td>128.563699</td>\n",
       "    </tr>\n",
       "    <tr>\n",
       "      <th>max</th>\n",
       "      <td>2.362331</td>\n",
       "      <td>1.343769</td>\n",
       "      <td>16.003790</td>\n",
       "      <td>185.364347</td>\n",
       "    </tr>\n",
       "  </tbody>\n",
       "</table>\n",
       "</div>"
      ],
      "text/plain": [
       "                 f0            f1            f2       product\n",
       "count  99990.000000  99990.000000  99990.000000  99990.000000\n",
       "mean       0.500454      0.250141      2.502629     92.499684\n",
       "std        0.871844      0.504430      3.248149     44.288304\n",
       "min       -1.408605     -0.848218    -12.088328      0.000000\n",
       "25%       -0.072572     -0.200877      0.287784     56.497069\n",
       "50%        0.502405      0.250252      2.515969     91.847928\n",
       "75%        1.073626      0.700640      4.715035    128.563699\n",
       "max        2.362331      1.343769     16.003790    185.364347"
      ]
     },
     "metadata": {},
     "output_type": "display_data"
    },
    {
     "name": "stdout",
     "output_type": "stream",
     "text": [
      "\n",
      "Данные по датасету: РЕГИОН 1\n"
     ]
    },
    {
     "data": {
      "text/html": [
       "<div>\n",
       "<style scoped>\n",
       "    .dataframe tbody tr th:only-of-type {\n",
       "        vertical-align: middle;\n",
       "    }\n",
       "\n",
       "    .dataframe tbody tr th {\n",
       "        vertical-align: top;\n",
       "    }\n",
       "\n",
       "    .dataframe thead th {\n",
       "        text-align: right;\n",
       "    }\n",
       "</style>\n",
       "<table border=\"1\" class=\"dataframe\">\n",
       "  <thead>\n",
       "    <tr style=\"text-align: right;\">\n",
       "      <th></th>\n",
       "      <th>id</th>\n",
       "      <th>f0</th>\n",
       "      <th>f1</th>\n",
       "      <th>f2</th>\n",
       "      <th>product</th>\n",
       "    </tr>\n",
       "  </thead>\n",
       "  <tbody>\n",
       "    <tr>\n",
       "      <th>0</th>\n",
       "      <td>kBEdx</td>\n",
       "      <td>-15.001348</td>\n",
       "      <td>-8.276000</td>\n",
       "      <td>-0.005876</td>\n",
       "      <td>3.179103</td>\n",
       "    </tr>\n",
       "    <tr>\n",
       "      <th>1</th>\n",
       "      <td>62mP7</td>\n",
       "      <td>14.272088</td>\n",
       "      <td>-3.475083</td>\n",
       "      <td>0.999183</td>\n",
       "      <td>26.953261</td>\n",
       "    </tr>\n",
       "    <tr>\n",
       "      <th>2</th>\n",
       "      <td>vyE1P</td>\n",
       "      <td>6.263187</td>\n",
       "      <td>-5.948386</td>\n",
       "      <td>5.001160</td>\n",
       "      <td>134.766305</td>\n",
       "    </tr>\n",
       "    <tr>\n",
       "      <th>3</th>\n",
       "      <td>KcrkZ</td>\n",
       "      <td>-13.081196</td>\n",
       "      <td>-11.506057</td>\n",
       "      <td>4.999415</td>\n",
       "      <td>137.945408</td>\n",
       "    </tr>\n",
       "    <tr>\n",
       "      <th>4</th>\n",
       "      <td>AHL4O</td>\n",
       "      <td>12.702195</td>\n",
       "      <td>-8.147433</td>\n",
       "      <td>5.004363</td>\n",
       "      <td>134.766305</td>\n",
       "    </tr>\n",
       "    <tr>\n",
       "      <th>5</th>\n",
       "      <td>HHckp</td>\n",
       "      <td>-3.327590</td>\n",
       "      <td>-2.205276</td>\n",
       "      <td>3.003647</td>\n",
       "      <td>84.038886</td>\n",
       "    </tr>\n",
       "  </tbody>\n",
       "</table>\n",
       "</div>"
      ],
      "text/plain": [
       "      id         f0         f1        f2     product\n",
       "0  kBEdx -15.001348  -8.276000 -0.005876    3.179103\n",
       "1  62mP7  14.272088  -3.475083  0.999183   26.953261\n",
       "2  vyE1P   6.263187  -5.948386  5.001160  134.766305\n",
       "3  KcrkZ -13.081196 -11.506057  4.999415  137.945408\n",
       "4  AHL4O  12.702195  -8.147433  5.004363  134.766305\n",
       "5  HHckp  -3.327590  -2.205276  3.003647   84.038886"
      ]
     },
     "metadata": {},
     "output_type": "display_data"
    },
    {
     "name": "stdout",
     "output_type": "stream",
     "text": [
      "<class 'pandas.core.frame.DataFrame'>\n",
      "RangeIndex: 99996 entries, 0 to 99995\n",
      "Data columns (total 5 columns):\n",
      " #   Column   Non-Null Count  Dtype  \n",
      "---  ------   --------------  -----  \n",
      " 0   id       99996 non-null  object \n",
      " 1   f0       99996 non-null  float64\n",
      " 2   f1       99996 non-null  float64\n",
      " 3   f2       99996 non-null  float64\n",
      " 4   product  99996 non-null  float64\n",
      "dtypes: float64(4), object(1)\n",
      "memory usage: 3.8+ MB\n"
     ]
    },
    {
     "data": {
      "text/plain": [
       "None"
      ]
     },
     "metadata": {},
     "output_type": "display_data"
    },
    {
     "name": "stdout",
     "output_type": "stream",
     "text": [
      "\n",
      "Описательная статистика датасета: РЕГИОН 1\n"
     ]
    },
    {
     "data": {
      "text/html": [
       "<div>\n",
       "<style scoped>\n",
       "    .dataframe tbody tr th:only-of-type {\n",
       "        vertical-align: middle;\n",
       "    }\n",
       "\n",
       "    .dataframe tbody tr th {\n",
       "        vertical-align: top;\n",
       "    }\n",
       "\n",
       "    .dataframe thead th {\n",
       "        text-align: right;\n",
       "    }\n",
       "</style>\n",
       "<table border=\"1\" class=\"dataframe\">\n",
       "  <thead>\n",
       "    <tr style=\"text-align: right;\">\n",
       "      <th></th>\n",
       "      <th>f0</th>\n",
       "      <th>f1</th>\n",
       "      <th>f2</th>\n",
       "      <th>product</th>\n",
       "    </tr>\n",
       "  </thead>\n",
       "  <tbody>\n",
       "    <tr>\n",
       "      <th>count</th>\n",
       "      <td>99996.000000</td>\n",
       "      <td>99996.000000</td>\n",
       "      <td>99996.000000</td>\n",
       "      <td>99996.000000</td>\n",
       "    </tr>\n",
       "    <tr>\n",
       "      <th>mean</th>\n",
       "      <td>1.141209</td>\n",
       "      <td>-4.796608</td>\n",
       "      <td>2.494501</td>\n",
       "      <td>68.823916</td>\n",
       "    </tr>\n",
       "    <tr>\n",
       "      <th>std</th>\n",
       "      <td>8.965815</td>\n",
       "      <td>5.119906</td>\n",
       "      <td>1.703579</td>\n",
       "      <td>45.944663</td>\n",
       "    </tr>\n",
       "    <tr>\n",
       "      <th>min</th>\n",
       "      <td>-31.609576</td>\n",
       "      <td>-26.358598</td>\n",
       "      <td>-0.018144</td>\n",
       "      <td>0.000000</td>\n",
       "    </tr>\n",
       "    <tr>\n",
       "      <th>25%</th>\n",
       "      <td>-6.298551</td>\n",
       "      <td>-8.267985</td>\n",
       "      <td>1.000021</td>\n",
       "      <td>26.953261</td>\n",
       "    </tr>\n",
       "    <tr>\n",
       "      <th>50%</th>\n",
       "      <td>1.153055</td>\n",
       "      <td>-4.813172</td>\n",
       "      <td>2.011475</td>\n",
       "      <td>57.085625</td>\n",
       "    </tr>\n",
       "    <tr>\n",
       "      <th>75%</th>\n",
       "      <td>8.620964</td>\n",
       "      <td>-1.332816</td>\n",
       "      <td>3.999904</td>\n",
       "      <td>107.813044</td>\n",
       "    </tr>\n",
       "    <tr>\n",
       "      <th>max</th>\n",
       "      <td>29.421755</td>\n",
       "      <td>18.734063</td>\n",
       "      <td>5.019721</td>\n",
       "      <td>137.945408</td>\n",
       "    </tr>\n",
       "  </tbody>\n",
       "</table>\n",
       "</div>"
      ],
      "text/plain": [
       "                 f0            f1            f2       product\n",
       "count  99996.000000  99996.000000  99996.000000  99996.000000\n",
       "mean       1.141209     -4.796608      2.494501     68.823916\n",
       "std        8.965815      5.119906      1.703579     45.944663\n",
       "min      -31.609576    -26.358598     -0.018144      0.000000\n",
       "25%       -6.298551     -8.267985      1.000021     26.953261\n",
       "50%        1.153055     -4.813172      2.011475     57.085625\n",
       "75%        8.620964     -1.332816      3.999904    107.813044\n",
       "max       29.421755     18.734063      5.019721    137.945408"
      ]
     },
     "metadata": {},
     "output_type": "display_data"
    },
    {
     "name": "stdout",
     "output_type": "stream",
     "text": [
      "\n",
      "Данные по датасету: РЕГИОН 2\n"
     ]
    },
    {
     "data": {
      "text/html": [
       "<div>\n",
       "<style scoped>\n",
       "    .dataframe tbody tr th:only-of-type {\n",
       "        vertical-align: middle;\n",
       "    }\n",
       "\n",
       "    .dataframe tbody tr th {\n",
       "        vertical-align: top;\n",
       "    }\n",
       "\n",
       "    .dataframe thead th {\n",
       "        text-align: right;\n",
       "    }\n",
       "</style>\n",
       "<table border=\"1\" class=\"dataframe\">\n",
       "  <thead>\n",
       "    <tr style=\"text-align: right;\">\n",
       "      <th></th>\n",
       "      <th>id</th>\n",
       "      <th>f0</th>\n",
       "      <th>f1</th>\n",
       "      <th>f2</th>\n",
       "      <th>product</th>\n",
       "    </tr>\n",
       "  </thead>\n",
       "  <tbody>\n",
       "    <tr>\n",
       "      <th>0</th>\n",
       "      <td>fwXo0</td>\n",
       "      <td>-1.146987</td>\n",
       "      <td>0.963328</td>\n",
       "      <td>-0.828965</td>\n",
       "      <td>27.758673</td>\n",
       "    </tr>\n",
       "    <tr>\n",
       "      <th>1</th>\n",
       "      <td>WJtFt</td>\n",
       "      <td>0.262778</td>\n",
       "      <td>0.269839</td>\n",
       "      <td>-2.530187</td>\n",
       "      <td>56.069697</td>\n",
       "    </tr>\n",
       "    <tr>\n",
       "      <th>2</th>\n",
       "      <td>ovLUW</td>\n",
       "      <td>0.194587</td>\n",
       "      <td>0.289035</td>\n",
       "      <td>-5.586433</td>\n",
       "      <td>62.871910</td>\n",
       "    </tr>\n",
       "    <tr>\n",
       "      <th>3</th>\n",
       "      <td>q6cA6</td>\n",
       "      <td>2.236060</td>\n",
       "      <td>-0.553760</td>\n",
       "      <td>0.930038</td>\n",
       "      <td>114.572842</td>\n",
       "    </tr>\n",
       "    <tr>\n",
       "      <th>4</th>\n",
       "      <td>WPMUX</td>\n",
       "      <td>-0.515993</td>\n",
       "      <td>1.716266</td>\n",
       "      <td>5.899011</td>\n",
       "      <td>149.600746</td>\n",
       "    </tr>\n",
       "    <tr>\n",
       "      <th>5</th>\n",
       "      <td>LzZXx</td>\n",
       "      <td>-0.758092</td>\n",
       "      <td>0.710691</td>\n",
       "      <td>2.585887</td>\n",
       "      <td>90.222465</td>\n",
       "    </tr>\n",
       "  </tbody>\n",
       "</table>\n",
       "</div>"
      ],
      "text/plain": [
       "      id        f0        f1        f2     product\n",
       "0  fwXo0 -1.146987  0.963328 -0.828965   27.758673\n",
       "1  WJtFt  0.262778  0.269839 -2.530187   56.069697\n",
       "2  ovLUW  0.194587  0.289035 -5.586433   62.871910\n",
       "3  q6cA6  2.236060 -0.553760  0.930038  114.572842\n",
       "4  WPMUX -0.515993  1.716266  5.899011  149.600746\n",
       "5  LzZXx -0.758092  0.710691  2.585887   90.222465"
      ]
     },
     "metadata": {},
     "output_type": "display_data"
    },
    {
     "name": "stdout",
     "output_type": "stream",
     "text": [
      "<class 'pandas.core.frame.DataFrame'>\n",
      "RangeIndex: 99996 entries, 0 to 99995\n",
      "Data columns (total 5 columns):\n",
      " #   Column   Non-Null Count  Dtype  \n",
      "---  ------   --------------  -----  \n",
      " 0   id       99996 non-null  object \n",
      " 1   f0       99996 non-null  float64\n",
      " 2   f1       99996 non-null  float64\n",
      " 3   f2       99996 non-null  float64\n",
      " 4   product  99996 non-null  float64\n",
      "dtypes: float64(4), object(1)\n",
      "memory usage: 3.8+ MB\n"
     ]
    },
    {
     "data": {
      "text/plain": [
       "None"
      ]
     },
     "metadata": {},
     "output_type": "display_data"
    },
    {
     "name": "stdout",
     "output_type": "stream",
     "text": [
      "\n",
      "Описательная статистика датасета: РЕГИОН 2\n"
     ]
    },
    {
     "data": {
      "text/html": [
       "<div>\n",
       "<style scoped>\n",
       "    .dataframe tbody tr th:only-of-type {\n",
       "        vertical-align: middle;\n",
       "    }\n",
       "\n",
       "    .dataframe tbody tr th {\n",
       "        vertical-align: top;\n",
       "    }\n",
       "\n",
       "    .dataframe thead th {\n",
       "        text-align: right;\n",
       "    }\n",
       "</style>\n",
       "<table border=\"1\" class=\"dataframe\">\n",
       "  <thead>\n",
       "    <tr style=\"text-align: right;\">\n",
       "      <th></th>\n",
       "      <th>f0</th>\n",
       "      <th>f1</th>\n",
       "      <th>f2</th>\n",
       "      <th>product</th>\n",
       "    </tr>\n",
       "  </thead>\n",
       "  <tbody>\n",
       "    <tr>\n",
       "      <th>count</th>\n",
       "      <td>99996.000000</td>\n",
       "      <td>99996.000000</td>\n",
       "      <td>99996.000000</td>\n",
       "      <td>99996.000000</td>\n",
       "    </tr>\n",
       "    <tr>\n",
       "      <th>mean</th>\n",
       "      <td>0.002002</td>\n",
       "      <td>-0.002159</td>\n",
       "      <td>2.495084</td>\n",
       "      <td>94.998342</td>\n",
       "    </tr>\n",
       "    <tr>\n",
       "      <th>std</th>\n",
       "      <td>1.732052</td>\n",
       "      <td>1.730397</td>\n",
       "      <td>3.473482</td>\n",
       "      <td>44.749573</td>\n",
       "    </tr>\n",
       "    <tr>\n",
       "      <th>min</th>\n",
       "      <td>-8.760004</td>\n",
       "      <td>-7.084020</td>\n",
       "      <td>-11.970335</td>\n",
       "      <td>0.000000</td>\n",
       "    </tr>\n",
       "    <tr>\n",
       "      <th>25%</th>\n",
       "      <td>-1.162328</td>\n",
       "      <td>-1.174841</td>\n",
       "      <td>0.130269</td>\n",
       "      <td>59.450028</td>\n",
       "    </tr>\n",
       "    <tr>\n",
       "      <th>50%</th>\n",
       "      <td>0.009424</td>\n",
       "      <td>-0.009661</td>\n",
       "      <td>2.484236</td>\n",
       "      <td>94.925026</td>\n",
       "    </tr>\n",
       "    <tr>\n",
       "      <th>75%</th>\n",
       "      <td>1.158477</td>\n",
       "      <td>1.163523</td>\n",
       "      <td>4.858720</td>\n",
       "      <td>130.586815</td>\n",
       "    </tr>\n",
       "    <tr>\n",
       "      <th>max</th>\n",
       "      <td>7.238262</td>\n",
       "      <td>7.844801</td>\n",
       "      <td>16.739402</td>\n",
       "      <td>190.029838</td>\n",
       "    </tr>\n",
       "  </tbody>\n",
       "</table>\n",
       "</div>"
      ],
      "text/plain": [
       "                 f0            f1            f2       product\n",
       "count  99996.000000  99996.000000  99996.000000  99996.000000\n",
       "mean       0.002002     -0.002159      2.495084     94.998342\n",
       "std        1.732052      1.730397      3.473482     44.749573\n",
       "min       -8.760004     -7.084020    -11.970335      0.000000\n",
       "25%       -1.162328     -1.174841      0.130269     59.450028\n",
       "50%        0.009424     -0.009661      2.484236     94.925026\n",
       "75%        1.158477      1.163523      4.858720    130.586815\n",
       "max        7.238262      7.844801     16.739402    190.029838"
      ]
     },
     "metadata": {},
     "output_type": "display_data"
    }
   ],
   "source": [
    "first_info(data_0, 'РЕГИОН 0')\n",
    "print()\n",
    "first_info(data_1, 'РЕГИОН 1')\n",
    "print()\n",
    "first_info(data_2, 'РЕГИОН 2')"
   ]
  },
  {
   "cell_type": "markdown",
   "metadata": {},
   "source": [
    "### Вывод по разделу 1\n",
    "\n",
    "- В данных 3 колонки (признака) \n",
    "  - Регион 0: 99990 строк (объектов)\n",
    "  - Регион 1: 99996 строк (объектов)\n",
    "  - Регион 0: 99996 строк (объектов)\n",
    "- Признак `product` определен как целевой.\n",
    "- Пропуски в данных отсутствуют. \n",
    "- После предобработки дубликаты отсутствуют\n",
    "- Выбросы в данных отсутствуют. \n",
    "- Признак `id` определен как несоответствующий задачам МО, и не будет участвовать в обучении и проверке модели\n",
    "- Для `РЕГИОН 0` распределение значение признаков `f2`, и целевого признака `product` в целом соответствует нормальному распределению. `f0` - нормальное распределение с пиками у экстремумов, и двумя пиками у среднего значения, `f1` - три пика, два распределны равномерно у экстремумов и один у среднего значения\n",
    "- Для `РЕГИОН 1` распределение признака `f2` и целевого признка `product` значительно отличается от аналогичных распределений в `РЕГИОН 0` и `РЕГИОН 2`. Этот факт мы зафиксируем, но исправлять не будем: все признаки отмеченные как значимые заказчиком исследования, но описание их не предоставлено.\n",
    "- Для `РЕГИОН 2` распределение значение признаков `f1`, `f2`, `f3` и целевого признака `product` соответствует нормальному распределению.\n"
   ]
  },
  {
   "cell_type": "markdown",
   "metadata": {},
   "source": [
    "## Обучение и проверка модели"
   ]
  },
  {
   "cell_type": "markdown",
   "metadata": {},
   "source": [
    "### Разделение данных на обучающую и валидационную выборки в соотношении 75:25\n",
    "\n",
    "Для задач машинного обучения разделим данные на обучающую и валидационную выборки, для каждого региона\n",
    "\n",
    "Признак `id`, согласно выводу из предобработки, не используется"
   ]
  },
  {
   "cell_type": "code",
   "execution_count": 15,
   "metadata": {
    "scrolled": true
   },
   "outputs": [],
   "source": [
    "# Разделение выборок РЕГИОН 0 \n",
    "features_0 = data_0[['f0', 'f1', 'f2']]\n",
    "target_0 = data_0['product'] \n",
    "\n",
    "features_train_0, features_valid_0, target_train_0, target_valid_0 = train_test_split(\n",
    "    features_0, \n",
    "    target_0,  \n",
    "    test_size=0.25, \n",
    "    random_state=RANDOM_STATE)\n"
   ]
  },
  {
   "cell_type": "code",
   "execution_count": 16,
   "metadata": {},
   "outputs": [],
   "source": [
    "# Разделение выборок РЕГИОН 1\n",
    "features_1 = data_1[['f0', 'f1', 'f2']]\n",
    "target_1 = data_1['product'] \n",
    "\n",
    "features_train_1, features_valid_1, target_train_1, target_valid_1 = train_test_split(\n",
    "    features_1, \n",
    "    target_1,  \n",
    "    test_size=0.25, \n",
    "    random_state=RANDOM_STATE)\n"
   ]
  },
  {
   "cell_type": "code",
   "execution_count": 17,
   "metadata": {},
   "outputs": [],
   "source": [
    "# Разделение выборок РЕГИОН 2\n",
    "features_2 = data_2[['f0', 'f1', 'f2']]\n",
    "target_2 = data_2['product'] \n",
    "\n",
    "features_train_2, features_valid_2, target_train_2, target_valid_2 = train_test_split(\n",
    "    features_2, \n",
    "    target_2,  \n",
    "    test_size=0.25, \n",
    "    random_state=RANDOM_STATE)\n"
   ]
  },
  {
   "cell_type": "markdown",
   "metadata": {},
   "source": [
    "### Обработка признаков\n",
    "\n",
    "Для того, чтобы алгоритмы МА не выделяли признаки со значительно отличающимися разбросами числовых значений применим один из методов масштабирования — стандартизацию данных.\n",
    "\n",
    "В датасете определены следующие числовые признаки:\n",
    "\n",
    "`f0`, `f1`, `f2`"
   ]
  },
  {
   "cell_type": "code",
   "execution_count": 18,
   "metadata": {},
   "outputs": [],
   "source": [
    "def sample_scaling(features_train, features_valid, list_of_numeric=['f0', 'f1', 'f2']):\n",
    "    '''\n",
    "    features_train: обучающая выборка - признаки\n",
    "    features_valid: валидационная выборка - признаки\n",
    "    numeric: список с названиями численных признаков, для которых выполнять масштабирование\n",
    "    Функция принимает на входе обучающие и валидационные признаки в указанном порядке и список с названиями признаков для обработки\n",
    "    возвращает эти же признаки, в том же порядке, с выполненным в них масштабированием данных\n",
    "    '''\n",
    "    scaler = StandardScaler()\n",
    "    scaler.fit(features_train[list_of_numeric]) \n",
    "\n",
    "    features_train[list_of_numeric] = scaler.transform(features_train[list_of_numeric])\n",
    "    features_valid[list_of_numeric] = scaler.transform(features_valid[list_of_numeric])\n",
    "    \n",
    "    return features_train, features_valid\n"
   ]
  },
  {
   "cell_type": "code",
   "execution_count": 19,
   "metadata": {},
   "outputs": [],
   "source": [
    "features_train_0, features_valid_0 = sample_scaling(features_train_0, features_valid_0, ['f0', 'f1', 'f2'])\n",
    "features_train_1, features_valid_1 = sample_scaling(features_train_1, features_valid_1, ['f0', 'f1', 'f2'])\n",
    "features_train_2, features_valid_2 = sample_scaling(features_train_2, features_valid_2, ['f0', 'f1', 'f2'])"
   ]
  },
  {
   "cell_type": "markdown",
   "metadata": {},
   "source": [
    "### Оценка значений после обработки числовых признаков"
   ]
  },
  {
   "cell_type": "code",
   "execution_count": 20,
   "metadata": {},
   "outputs": [
    {
     "name": "stdout",
     "output_type": "stream",
     "text": [
      "Обучающие признаки РЕГИОН 0, описательная статистика\n"
     ]
    },
    {
     "data": {
      "text/html": [
       "<div>\n",
       "<style scoped>\n",
       "    .dataframe tbody tr th:only-of-type {\n",
       "        vertical-align: middle;\n",
       "    }\n",
       "\n",
       "    .dataframe tbody tr th {\n",
       "        vertical-align: top;\n",
       "    }\n",
       "\n",
       "    .dataframe thead th {\n",
       "        text-align: right;\n",
       "    }\n",
       "</style>\n",
       "<table border=\"1\" class=\"dataframe\">\n",
       "  <thead>\n",
       "    <tr style=\"text-align: right;\">\n",
       "      <th></th>\n",
       "      <th>f0</th>\n",
       "      <th>f1</th>\n",
       "      <th>f2</th>\n",
       "    </tr>\n",
       "  </thead>\n",
       "  <tbody>\n",
       "    <tr>\n",
       "      <th>count</th>\n",
       "      <td>7.499200e+04</td>\n",
       "      <td>7.499200e+04</td>\n",
       "      <td>7.499200e+04</td>\n",
       "    </tr>\n",
       "    <tr>\n",
       "      <th>mean</th>\n",
       "      <td>-7.087236e-17</td>\n",
       "      <td>-4.358460e-17</td>\n",
       "      <td>7.248309e-18</td>\n",
       "    </tr>\n",
       "    <tr>\n",
       "      <th>std</th>\n",
       "      <td>1.000007e+00</td>\n",
       "      <td>1.000007e+00</td>\n",
       "      <td>1.000007e+00</td>\n",
       "    </tr>\n",
       "    <tr>\n",
       "      <th>min</th>\n",
       "      <td>-2.189269e+00</td>\n",
       "      <td>-2.123459e+00</td>\n",
       "      <td>-3.892094e+00</td>\n",
       "    </tr>\n",
       "    <tr>\n",
       "      <th>25%</th>\n",
       "      <td>-6.571861e-01</td>\n",
       "      <td>-8.928202e-01</td>\n",
       "      <td>-6.821492e-01</td>\n",
       "    </tr>\n",
       "    <tr>\n",
       "      <th>50%</th>\n",
       "      <td>2.973283e-03</td>\n",
       "      <td>-5.837645e-04</td>\n",
       "      <td>5.322738e-03</td>\n",
       "    </tr>\n",
       "    <tr>\n",
       "      <th>75%</th>\n",
       "      <td>6.572591e-01</td>\n",
       "      <td>8.921352e-01</td>\n",
       "      <td>6.825738e-01</td>\n",
       "    </tr>\n",
       "    <tr>\n",
       "      <th>max</th>\n",
       "      <td>2.105316e+00</td>\n",
       "      <td>2.170242e+00</td>\n",
       "      <td>4.154066e+00</td>\n",
       "    </tr>\n",
       "  </tbody>\n",
       "</table>\n",
       "</div>"
      ],
      "text/plain": [
       "                 f0            f1            f2\n",
       "count  7.499200e+04  7.499200e+04  7.499200e+04\n",
       "mean  -7.087236e-17 -4.358460e-17  7.248309e-18\n",
       "std    1.000007e+00  1.000007e+00  1.000007e+00\n",
       "min   -2.189269e+00 -2.123459e+00 -3.892094e+00\n",
       "25%   -6.571861e-01 -8.928202e-01 -6.821492e-01\n",
       "50%    2.973283e-03 -5.837645e-04  5.322738e-03\n",
       "75%    6.572591e-01  8.921352e-01  6.825738e-01\n",
       "max    2.105316e+00  2.170242e+00  4.154066e+00"
      ]
     },
     "metadata": {},
     "output_type": "display_data"
    },
    {
     "name": "stdout",
     "output_type": "stream",
     "text": [
      "\n",
      "Валидационные признаки РЕГИОН 0, описательная статистика\n"
     ]
    },
    {
     "data": {
      "text/html": [
       "<div>\n",
       "<style scoped>\n",
       "    .dataframe tbody tr th:only-of-type {\n",
       "        vertical-align: middle;\n",
       "    }\n",
       "\n",
       "    .dataframe tbody tr th {\n",
       "        vertical-align: top;\n",
       "    }\n",
       "\n",
       "    .dataframe thead th {\n",
       "        text-align: right;\n",
       "    }\n",
       "</style>\n",
       "<table border=\"1\" class=\"dataframe\">\n",
       "  <thead>\n",
       "    <tr style=\"text-align: right;\">\n",
       "      <th></th>\n",
       "      <th>f0</th>\n",
       "      <th>f1</th>\n",
       "      <th>f2</th>\n",
       "    </tr>\n",
       "  </thead>\n",
       "  <tbody>\n",
       "    <tr>\n",
       "      <th>count</th>\n",
       "      <td>24998.000000</td>\n",
       "      <td>24998.000000</td>\n",
       "      <td>24998.000000</td>\n",
       "    </tr>\n",
       "    <tr>\n",
       "      <th>mean</th>\n",
       "      <td>-0.001807</td>\n",
       "      <td>0.002598</td>\n",
       "      <td>-0.005673</td>\n",
       "    </tr>\n",
       "    <tr>\n",
       "      <th>std</th>\n",
       "      <td>0.998422</td>\n",
       "      <td>1.002840</td>\n",
       "      <td>0.998942</td>\n",
       "    </tr>\n",
       "    <tr>\n",
       "      <th>min</th>\n",
       "      <td>-2.124108</td>\n",
       "      <td>-2.178327</td>\n",
       "      <td>-4.492328</td>\n",
       "    </tr>\n",
       "    <tr>\n",
       "      <th>25%</th>\n",
       "      <td>-0.659551</td>\n",
       "      <td>-0.896932</td>\n",
       "      <td>-0.687132</td>\n",
       "    </tr>\n",
       "    <tr>\n",
       "      <th>50%</th>\n",
       "      <td>-0.001942</td>\n",
       "      <td>0.005666</td>\n",
       "      <td>-0.005747</td>\n",
       "    </tr>\n",
       "    <tr>\n",
       "      <th>75%</th>\n",
       "      <td>0.654463</td>\n",
       "      <td>0.901334</td>\n",
       "      <td>0.672155</td>\n",
       "    </tr>\n",
       "    <tr>\n",
       "      <th>max</th>\n",
       "      <td>2.134268</td>\n",
       "      <td>2.067603</td>\n",
       "      <td>3.916002</td>\n",
       "    </tr>\n",
       "  </tbody>\n",
       "</table>\n",
       "</div>"
      ],
      "text/plain": [
       "                 f0            f1            f2\n",
       "count  24998.000000  24998.000000  24998.000000\n",
       "mean      -0.001807      0.002598     -0.005673\n",
       "std        0.998422      1.002840      0.998942\n",
       "min       -2.124108     -2.178327     -4.492328\n",
       "25%       -0.659551     -0.896932     -0.687132\n",
       "50%       -0.001942      0.005666     -0.005747\n",
       "75%        0.654463      0.901334      0.672155\n",
       "max        2.134268      2.067603      3.916002"
      ]
     },
     "metadata": {},
     "output_type": "display_data"
    },
    {
     "name": "stdout",
     "output_type": "stream",
     "text": [
      "\n",
      "Обучающие признаки РЕГИОН 1, описательная статистика\n"
     ]
    },
    {
     "data": {
      "text/html": [
       "<div>\n",
       "<style scoped>\n",
       "    .dataframe tbody tr th:only-of-type {\n",
       "        vertical-align: middle;\n",
       "    }\n",
       "\n",
       "    .dataframe tbody tr th {\n",
       "        vertical-align: top;\n",
       "    }\n",
       "\n",
       "    .dataframe thead th {\n",
       "        text-align: right;\n",
       "    }\n",
       "</style>\n",
       "<table border=\"1\" class=\"dataframe\">\n",
       "  <thead>\n",
       "    <tr style=\"text-align: right;\">\n",
       "      <th></th>\n",
       "      <th>f0</th>\n",
       "      <th>f1</th>\n",
       "      <th>f2</th>\n",
       "    </tr>\n",
       "  </thead>\n",
       "  <tbody>\n",
       "    <tr>\n",
       "      <th>count</th>\n",
       "      <td>7.499700e+04</td>\n",
       "      <td>7.499700e+04</td>\n",
       "      <td>7.499700e+04</td>\n",
       "    </tr>\n",
       "    <tr>\n",
       "      <th>mean</th>\n",
       "      <td>-4.973998e-18</td>\n",
       "      <td>4.978735e-17</td>\n",
       "      <td>9.434016e-17</td>\n",
       "    </tr>\n",
       "    <tr>\n",
       "      <th>std</th>\n",
       "      <td>1.000007e+00</td>\n",
       "      <td>1.000007e+00</td>\n",
       "      <td>1.000007e+00</td>\n",
       "    </tr>\n",
       "    <tr>\n",
       "      <th>min</th>\n",
       "      <td>-3.651543e+00</td>\n",
       "      <td>-4.216314e+00</td>\n",
       "      <td>-1.475960e+00</td>\n",
       "    </tr>\n",
       "    <tr>\n",
       "      <th>25%</th>\n",
       "      <td>-8.288756e-01</td>\n",
       "      <td>-6.767422e-01</td>\n",
       "      <td>-8.783271e-01</td>\n",
       "    </tr>\n",
       "    <tr>\n",
       "      <th>50%</th>\n",
       "      <td>3.596556e-03</td>\n",
       "      <td>-3.666696e-03</td>\n",
       "      <td>-2.843358e-01</td>\n",
       "    </tr>\n",
       "    <tr>\n",
       "      <th>75%</th>\n",
       "      <td>8.332760e-01</td>\n",
       "      <td>6.741451e-01</td>\n",
       "      <td>8.825040e-01</td>\n",
       "    </tr>\n",
       "    <tr>\n",
       "      <th>max</th>\n",
       "      <td>3.148422e+00</td>\n",
       "      <td>4.600026e+00</td>\n",
       "      <td>1.481097e+00</td>\n",
       "    </tr>\n",
       "  </tbody>\n",
       "</table>\n",
       "</div>"
      ],
      "text/plain": [
       "                 f0            f1            f2\n",
       "count  7.499700e+04  7.499700e+04  7.499700e+04\n",
       "mean  -4.973998e-18  4.978735e-17  9.434016e-17\n",
       "std    1.000007e+00  1.000007e+00  1.000007e+00\n",
       "min   -3.651543e+00 -4.216314e+00 -1.475960e+00\n",
       "25%   -8.288756e-01 -6.767422e-01 -8.783271e-01\n",
       "50%    3.596556e-03 -3.666696e-03 -2.843358e-01\n",
       "75%    8.332760e-01  6.741451e-01  8.825040e-01\n",
       "max    3.148422e+00  4.600026e+00  1.481097e+00"
      ]
     },
     "metadata": {},
     "output_type": "display_data"
    },
    {
     "name": "stdout",
     "output_type": "stream",
     "text": [
      "\n",
      "Валидационные признаки РЕГИОН 1, описательная статистика\n"
     ]
    },
    {
     "data": {
      "text/html": [
       "<div>\n",
       "<style scoped>\n",
       "    .dataframe tbody tr th:only-of-type {\n",
       "        vertical-align: middle;\n",
       "    }\n",
       "\n",
       "    .dataframe tbody tr th {\n",
       "        vertical-align: top;\n",
       "    }\n",
       "\n",
       "    .dataframe thead th {\n",
       "        text-align: right;\n",
       "    }\n",
       "</style>\n",
       "<table border=\"1\" class=\"dataframe\">\n",
       "  <thead>\n",
       "    <tr style=\"text-align: right;\">\n",
       "      <th></th>\n",
       "      <th>f0</th>\n",
       "      <th>f1</th>\n",
       "      <th>f2</th>\n",
       "    </tr>\n",
       "  </thead>\n",
       "  <tbody>\n",
       "    <tr>\n",
       "      <th>count</th>\n",
       "      <td>24999.000000</td>\n",
       "      <td>24999.000000</td>\n",
       "      <td>24999.000000</td>\n",
       "    </tr>\n",
       "    <tr>\n",
       "      <th>mean</th>\n",
       "      <td>-0.010115</td>\n",
       "      <td>-0.002395</td>\n",
       "      <td>-0.004487</td>\n",
       "    </tr>\n",
       "    <tr>\n",
       "      <th>std</th>\n",
       "      <td>0.995753</td>\n",
       "      <td>1.004087</td>\n",
       "      <td>0.999767</td>\n",
       "    </tr>\n",
       "    <tr>\n",
       "      <th>min</th>\n",
       "      <td>-2.891914</td>\n",
       "      <td>-4.026864</td>\n",
       "      <td>-1.475809</td>\n",
       "    </tr>\n",
       "    <tr>\n",
       "      <th>25%</th>\n",
       "      <td>-0.839154</td>\n",
       "      <td>-0.686260</td>\n",
       "      <td>-0.878343</td>\n",
       "    </tr>\n",
       "    <tr>\n",
       "      <th>50%</th>\n",
       "      <td>-0.017879</td>\n",
       "      <td>-0.004572</td>\n",
       "      <td>-0.285332</td>\n",
       "    </tr>\n",
       "    <tr>\n",
       "      <th>75%</th>\n",
       "      <td>0.821067</td>\n",
       "      <td>0.683574</td>\n",
       "      <td>0.882481</td>\n",
       "    </tr>\n",
       "    <tr>\n",
       "      <th>max</th>\n",
       "      <td>3.034691</td>\n",
       "      <td>3.790149</td>\n",
       "      <td>1.479346</td>\n",
       "    </tr>\n",
       "  </tbody>\n",
       "</table>\n",
       "</div>"
      ],
      "text/plain": [
       "                 f0            f1            f2\n",
       "count  24999.000000  24999.000000  24999.000000\n",
       "mean      -0.010115     -0.002395     -0.004487\n",
       "std        0.995753      1.004087      0.999767\n",
       "min       -2.891914     -4.026864     -1.475809\n",
       "25%       -0.839154     -0.686260     -0.878343\n",
       "50%       -0.017879     -0.004572     -0.285332\n",
       "75%        0.821067      0.683574      0.882481\n",
       "max        3.034691      3.790149      1.479346"
      ]
     },
     "metadata": {},
     "output_type": "display_data"
    },
    {
     "name": "stdout",
     "output_type": "stream",
     "text": [
      "\n",
      "Обучающие признаки РЕГИОН 2, описательная статистика\n"
     ]
    },
    {
     "data": {
      "text/html": [
       "<div>\n",
       "<style scoped>\n",
       "    .dataframe tbody tr th:only-of-type {\n",
       "        vertical-align: middle;\n",
       "    }\n",
       "\n",
       "    .dataframe tbody tr th {\n",
       "        vertical-align: top;\n",
       "    }\n",
       "\n",
       "    .dataframe thead th {\n",
       "        text-align: right;\n",
       "    }\n",
       "</style>\n",
       "<table border=\"1\" class=\"dataframe\">\n",
       "  <thead>\n",
       "    <tr style=\"text-align: right;\">\n",
       "      <th></th>\n",
       "      <th>f0</th>\n",
       "      <th>f1</th>\n",
       "      <th>f2</th>\n",
       "    </tr>\n",
       "  </thead>\n",
       "  <tbody>\n",
       "    <tr>\n",
       "      <th>count</th>\n",
       "      <td>7.499700e+04</td>\n",
       "      <td>7.499700e+04</td>\n",
       "      <td>7.499700e+04</td>\n",
       "    </tr>\n",
       "    <tr>\n",
       "      <th>mean</th>\n",
       "      <td>-1.392719e-17</td>\n",
       "      <td>-1.155862e-17</td>\n",
       "      <td>-1.482725e-16</td>\n",
       "    </tr>\n",
       "    <tr>\n",
       "      <th>std</th>\n",
       "      <td>1.000007e+00</td>\n",
       "      <td>1.000007e+00</td>\n",
       "      <td>1.000007e+00</td>\n",
       "    </tr>\n",
       "    <tr>\n",
       "      <th>min</th>\n",
       "      <td>-5.060393e+00</td>\n",
       "      <td>-4.106619e+00</td>\n",
       "      <td>-4.165961e+00</td>\n",
       "    </tr>\n",
       "    <tr>\n",
       "      <th>25%</th>\n",
       "      <td>-6.747555e-01</td>\n",
       "      <td>-6.761865e-01</td>\n",
       "      <td>-6.811254e-01</td>\n",
       "    </tr>\n",
       "    <tr>\n",
       "      <th>50%</th>\n",
       "      <td>4.631558e-03</td>\n",
       "      <td>-6.171581e-03</td>\n",
       "      <td>-1.664351e-03</td>\n",
       "    </tr>\n",
       "    <tr>\n",
       "      <th>75%</th>\n",
       "      <td>6.685232e-01</td>\n",
       "      <td>6.738003e-01</td>\n",
       "      <td>6.804736e-01</td>\n",
       "    </tr>\n",
       "    <tr>\n",
       "      <th>max</th>\n",
       "      <td>4.182643e+00</td>\n",
       "      <td>4.496380e+00</td>\n",
       "      <td>3.994260e+00</td>\n",
       "    </tr>\n",
       "  </tbody>\n",
       "</table>\n",
       "</div>"
      ],
      "text/plain": [
       "                 f0            f1            f2\n",
       "count  7.499700e+04  7.499700e+04  7.499700e+04\n",
       "mean  -1.392719e-17 -1.155862e-17 -1.482725e-16\n",
       "std    1.000007e+00  1.000007e+00  1.000007e+00\n",
       "min   -5.060393e+00 -4.106619e+00 -4.165961e+00\n",
       "25%   -6.747555e-01 -6.761865e-01 -6.811254e-01\n",
       "50%    4.631558e-03 -6.171581e-03 -1.664351e-03\n",
       "75%    6.685232e-01  6.738003e-01  6.804736e-01\n",
       "max    4.182643e+00  4.496380e+00  3.994260e+00"
      ]
     },
     "metadata": {},
     "output_type": "display_data"
    },
    {
     "name": "stdout",
     "output_type": "stream",
     "text": [
      "\n",
      "Валидационные признаки РЕГИОН 2, описательная статистика\n"
     ]
    },
    {
     "data": {
      "text/html": [
       "<div>\n",
       "<style scoped>\n",
       "    .dataframe tbody tr th:only-of-type {\n",
       "        vertical-align: middle;\n",
       "    }\n",
       "\n",
       "    .dataframe tbody tr th {\n",
       "        vertical-align: top;\n",
       "    }\n",
       "\n",
       "    .dataframe thead th {\n",
       "        text-align: right;\n",
       "    }\n",
       "</style>\n",
       "<table border=\"1\" class=\"dataframe\">\n",
       "  <thead>\n",
       "    <tr style=\"text-align: right;\">\n",
       "      <th></th>\n",
       "      <th>f0</th>\n",
       "      <th>f1</th>\n",
       "      <th>f2</th>\n",
       "    </tr>\n",
       "  </thead>\n",
       "  <tbody>\n",
       "    <tr>\n",
       "      <th>count</th>\n",
       "      <td>24999.000000</td>\n",
       "      <td>24999.000000</td>\n",
       "      <td>24999.000000</td>\n",
       "    </tr>\n",
       "    <tr>\n",
       "      <th>mean</th>\n",
       "      <td>0.007507</td>\n",
       "      <td>-0.011078</td>\n",
       "      <td>0.003919</td>\n",
       "    </tr>\n",
       "    <tr>\n",
       "      <th>std</th>\n",
       "      <td>1.002764</td>\n",
       "      <td>1.010884</td>\n",
       "      <td>1.002309</td>\n",
       "    </tr>\n",
       "    <tr>\n",
       "      <th>min</th>\n",
       "      <td>-4.150899</td>\n",
       "      <td>-3.903206</td>\n",
       "      <td>-3.940286</td>\n",
       "    </tr>\n",
       "    <tr>\n",
       "      <th>25%</th>\n",
       "      <td>-0.660800</td>\n",
       "      <td>-0.696399</td>\n",
       "      <td>-0.676230</td>\n",
       "    </tr>\n",
       "    <tr>\n",
       "      <th>50%</th>\n",
       "      <td>0.010378</td>\n",
       "      <td>-0.010124</td>\n",
       "      <td>-0.003275</td>\n",
       "    </tr>\n",
       "    <tr>\n",
       "      <th>75%</th>\n",
       "      <td>0.674299</td>\n",
       "      <td>0.670161</td>\n",
       "      <td>0.685525</td>\n",
       "    </tr>\n",
       "    <tr>\n",
       "      <th>max</th>\n",
       "      <td>4.157426</td>\n",
       "      <td>4.544446</td>\n",
       "      <td>4.104230</td>\n",
       "    </tr>\n",
       "  </tbody>\n",
       "</table>\n",
       "</div>"
      ],
      "text/plain": [
       "                 f0            f1            f2\n",
       "count  24999.000000  24999.000000  24999.000000\n",
       "mean       0.007507     -0.011078      0.003919\n",
       "std        1.002764      1.010884      1.002309\n",
       "min       -4.150899     -3.903206     -3.940286\n",
       "25%       -0.660800     -0.696399     -0.676230\n",
       "50%        0.010378     -0.010124     -0.003275\n",
       "75%        0.674299      0.670161      0.685525\n",
       "max        4.157426      4.544446      4.104230"
      ]
     },
     "metadata": {},
     "output_type": "display_data"
    },
    {
     "name": "stdout",
     "output_type": "stream",
     "text": [
      "\n"
     ]
    }
   ],
   "source": [
    "print('Обучающие признаки РЕГИОН 0, описательная статистика')\n",
    "display(features_train_0.describe())\n",
    "print()\n",
    "print('Валидационные признаки РЕГИОН 0, описательная статистика')\n",
    "display(features_valid_0.describe())\n",
    "print()\n",
    "\n",
    "print('Обучающие признаки РЕГИОН 1, описательная статистика')\n",
    "display(features_train_1.describe())\n",
    "print()\n",
    "print('Валидационные признаки РЕГИОН 1, описательная статистика')\n",
    "display(features_valid_1.describe())\n",
    "print()\n",
    "\n",
    "print('Обучающие признаки РЕГИОН 2, описательная статистика')\n",
    "display(features_train_2.describe())\n",
    "print()\n",
    "print('Валидационные признаки РЕГИОН 2, описательная статистика')\n",
    "display(features_valid_2.describe())\n",
    "print()\n"
   ]
  },
  {
   "cell_type": "markdown",
   "metadata": {},
   "source": [
    "### Обучение модели и создание предсказаний на валидационной выборке.\n",
    "\n",
    "Для обучения модели в задачах регрессии подходит только модель Линейной регрессии (остальные — недостаточно предсказуемые).\n",
    "\n",
    "Обучим модель на обучающих выборках для каждого региона и сохраним значения предсказаний, среднее значение предсказаний и значения метрики модели на валидационной выборке.\n",
    "\n",
    "В качестве метрики для оценки моделей выберем RMSE (квадратный корень из средней квадратичной ошибки). Эта метрика позволит комплексно оценить качество моделей.\n",
    "\n",
    "Объявим функцию `lr_model_research()`, возвращающую требуемые нам значения."
   ]
  },
  {
   "cell_type": "code",
   "execution_count": 21,
   "metadata": {},
   "outputs": [],
   "source": [
    "def lr_model_research(features_train, features_valid, target_train, target_valid):\n",
    "    '''\n",
    "    features_train: обучающая выборка - признаки\n",
    "    features_valid: валидационная выборка - признаки\n",
    "    target_train: обучающая выборка - целевой признак\n",
    "    target_valid: валидационная выборка - целевой признак\n",
    "    Функция принимает на входе обучающие и валидационные признаки и целевые признаки в указанном порядке\n",
    "    возвращает массив с предсказаниями, среднее значение предсказаний и значение метрики rmse\n",
    "    '''\n",
    "    \n",
    "    model = LinearRegression() \n",
    "    model.fit(features_train, target_train) \n",
    "    predictions_valid = model.predict(features_valid) \n",
    "    predictions_valid_mean = predictions_valid.mean()\n",
    "    rmse_value = mean_squared_error(target_valid, predictions_valid) ** 0.5 \n",
    "        \n",
    "    return predictions_valid, predictions_valid_mean, rmse_value"
   ]
  },
  {
   "cell_type": "code",
   "execution_count": 22,
   "metadata": {},
   "outputs": [],
   "source": [
    "# Обучение модели и получение предсказаний РЕГИОН 0\n",
    "predictions_valid_0, predictions_valid_mean_0, rmse_value_0 = lr_model_research(\n",
    "    features_train_0, features_valid_0, \n",
    "    target_train_0, target_valid_0)"
   ]
  },
  {
   "cell_type": "code",
   "execution_count": 23,
   "metadata": {},
   "outputs": [],
   "source": [
    "# Обучение модели и получение предсказаний РЕГИОН 1\n",
    "predictions_valid_1, predictions_valid_mean_1, rmse_value_1 = lr_model_research(\n",
    "    features_train_1, features_valid_1, \n",
    "    target_train_1, target_valid_1)"
   ]
  },
  {
   "cell_type": "code",
   "execution_count": 24,
   "metadata": {},
   "outputs": [],
   "source": [
    "# Обучение модели и получение предсказаний РЕГИОН 2\n",
    "predictions_valid_2, predictions_valid_mean_2, rmse_value_2 = lr_model_research(\n",
    "    features_train_2, features_valid_2, \n",
    "    target_train_2, target_valid_2)"
   ]
  },
  {
   "cell_type": "markdown",
   "metadata": {},
   "source": [
    "### Сохранение предсказаний и правильных ответов на валидационной выборке\n",
    "\n",
    "Полученные в результате работы моделей на валидационных выборках значения сведем в таблицу"
   ]
  },
  {
   "cell_type": "code",
   "execution_count": 25,
   "metadata": {},
   "outputs": [],
   "source": [
    "result_table = pd.DataFrame(\n",
    "    {'predictions_mean': [predictions_valid_mean_0, predictions_valid_mean_1, predictions_valid_mean_2],\n",
    "     'rmse': [rmse_value_0, rmse_value_1, rmse_value_2]},\n",
    "    index = ['region_0', 'region_1', 'region_2'])"
   ]
  },
  {
   "cell_type": "markdown",
   "metadata": {},
   "source": [
    "### Вывод среднего запаса предсказанного сырья и RMSE модели"
   ]
  },
  {
   "cell_type": "code",
   "execution_count": 26,
   "metadata": {
    "scrolled": true
   },
   "outputs": [
    {
     "name": "stdout",
     "output_type": "stream",
     "text": [
      "Полученные значения среднего запаса предсказанного сырья и RMSE модели для всех регионов\n"
     ]
    },
    {
     "data": {
      "text/html": [
       "<div>\n",
       "<style scoped>\n",
       "    .dataframe tbody tr th:only-of-type {\n",
       "        vertical-align: middle;\n",
       "    }\n",
       "\n",
       "    .dataframe tbody tr th {\n",
       "        vertical-align: top;\n",
       "    }\n",
       "\n",
       "    .dataframe thead th {\n",
       "        text-align: right;\n",
       "    }\n",
       "</style>\n",
       "<table border=\"1\" class=\"dataframe\">\n",
       "  <thead>\n",
       "    <tr style=\"text-align: right;\">\n",
       "      <th></th>\n",
       "      <th>predictions_mean</th>\n",
       "      <th>rmse</th>\n",
       "    </tr>\n",
       "  </thead>\n",
       "  <tbody>\n",
       "    <tr>\n",
       "      <th>region_0</th>\n",
       "      <td>92.383052</td>\n",
       "      <td>37.650975</td>\n",
       "    </tr>\n",
       "    <tr>\n",
       "      <th>region_1</th>\n",
       "      <td>68.679612</td>\n",
       "      <td>0.888446</td>\n",
       "    </tr>\n",
       "    <tr>\n",
       "      <th>region_2</th>\n",
       "      <td>95.048181</td>\n",
       "      <td>39.957975</td>\n",
       "    </tr>\n",
       "  </tbody>\n",
       "</table>\n",
       "</div>"
      ],
      "text/plain": [
       "          predictions_mean       rmse\n",
       "region_0         92.383052  37.650975\n",
       "region_1         68.679612   0.888446\n",
       "region_2         95.048181  39.957975"
      ]
     },
     "metadata": {},
     "output_type": "display_data"
    }
   ],
   "source": [
    "print('Полученные значения среднего запаса предсказанного сырья и RMSE модели для всех регионов')\n",
    "display(result_table)"
   ]
  },
  {
   "cell_type": "markdown",
   "metadata": {},
   "source": [
    "### Проверка адекватности модели: cравнение с метрикой константной модели."
   ]
  },
  {
   "cell_type": "markdown",
   "metadata": {},
   "source": [
    "Вычислим RMSE для константной модели: каждому объекту она прогнозирует среднее значение целевого признака. "
   ]
  },
  {
   "cell_type": "code",
   "execution_count": 27,
   "metadata": {},
   "outputs": [],
   "source": [
    "def mean_model_rmse(target_train, target_valid):\n",
    "    '''\n",
    "    target_train: обучающая выборка - целевой признак\n",
    "    target_valid: валидационная выборка - целевой признак\n",
    "    Функция принимает на входе обучающие и валидационные целевые признаки в указанном порядке\n",
    "    возвращает значение rmse для предсказаний константной модели прогнозирующей среднее значение целевого признака\n",
    "    '''\n",
    "    predicted_valid_mean = [target_train.mean()] * len(target_valid)\n",
    "    \n",
    "    return mean_squared_error(target_valid, predicted_valid_mean)"
   ]
  },
  {
   "cell_type": "markdown",
   "metadata": {},
   "source": [
    "Сохраним полученные значения в сводной таблице."
   ]
  },
  {
   "cell_type": "code",
   "execution_count": 28,
   "metadata": {},
   "outputs": [],
   "source": [
    "result_table['rmse_mean_model'] = [\n",
    "    mean_model_rmse(target_train_0, target_valid_0),\n",
    "    mean_model_rmse(target_train_1, target_valid_1),\n",
    "    mean_model_rmse(target_train_2, target_valid_2)]\n",
    "    "
   ]
  },
  {
   "cell_type": "code",
   "execution_count": 29,
   "metadata": {
    "scrolled": true
   },
   "outputs": [
    {
     "name": "stdout",
     "output_type": "stream",
     "text": [
      "Полученные значения после предсказаний моделей для всех регионов\n"
     ]
    },
    {
     "data": {
      "text/html": [
       "<div>\n",
       "<style scoped>\n",
       "    .dataframe tbody tr th:only-of-type {\n",
       "        vertical-align: middle;\n",
       "    }\n",
       "\n",
       "    .dataframe tbody tr th {\n",
       "        vertical-align: top;\n",
       "    }\n",
       "\n",
       "    .dataframe thead th {\n",
       "        text-align: right;\n",
       "    }\n",
       "</style>\n",
       "<table border=\"1\" class=\"dataframe\">\n",
       "  <thead>\n",
       "    <tr style=\"text-align: right;\">\n",
       "      <th></th>\n",
       "      <th>predictions_mean</th>\n",
       "      <th>rmse</th>\n",
       "      <th>rmse_mean_model</th>\n",
       "    </tr>\n",
       "  </thead>\n",
       "  <tbody>\n",
       "    <tr>\n",
       "      <th>region_0</th>\n",
       "      <td>92.383052</td>\n",
       "      <td>37.650975</td>\n",
       "      <td>1962.447389</td>\n",
       "    </tr>\n",
       "    <tr>\n",
       "      <th>region_1</th>\n",
       "      <td>68.679612</td>\n",
       "      <td>0.888446</td>\n",
       "      <td>2110.603063</td>\n",
       "    </tr>\n",
       "    <tr>\n",
       "      <th>region_2</th>\n",
       "      <td>95.048181</td>\n",
       "      <td>39.957975</td>\n",
       "      <td>2003.519808</td>\n",
       "    </tr>\n",
       "  </tbody>\n",
       "</table>\n",
       "</div>"
      ],
      "text/plain": [
       "          predictions_mean       rmse  rmse_mean_model\n",
       "region_0         92.383052  37.650975      1962.447389\n",
       "region_1         68.679612   0.888446      2110.603063\n",
       "region_2         95.048181  39.957975      2003.519808"
      ]
     },
     "metadata": {},
     "output_type": "display_data"
    }
   ],
   "source": [
    "print('Полученные значения после предсказаний моделей для всех регионов')\n",
    "display(result_table)"
   ]
  },
  {
   "cell_type": "markdown",
   "metadata": {},
   "source": [
    "Обученные модели адекватны: их метрики RMSE значительно ниже метрик константных моделей."
   ]
  },
  {
   "cell_type": "markdown",
   "metadata": {},
   "source": [
    "### Вывод по разделу 2\n",
    "\n",
    "- выполнена обработка числовых признаков: масштабирование значений\n",
    "- Обучены модели, сохранены предсказания, значения метрик RMSE и среднего запаса предсказанного сырья\n",
    "- Модели адекватны в сравнении с константной моделью\n",
    "- Модель, обученная на данных из `РЕГИОН 1` показывает наилучшую метрику RMSE. \n",
    "  Это связано с отличием в распределении признака f2, отмеченного в первой части исследования. Так как значения признака f2 в   регионе 1 по сути дискретные, это позволяет модели Линейной регрессии предсказывать результаты гораздо точнее чем для распределенных нормально значений.\n"
   ]
  },
  {
   "cell_type": "markdown",
   "metadata": {},
   "source": [
    "## Подготовка к расчёту прибыли"
   ]
  },
  {
   "cell_type": "markdown",
   "metadata": {},
   "source": [
    "### Сохранение ключевых значений для расчета\n",
    "\n",
    "Ключевые значения для расчета сохранены в начале проекта, в ячейке для глобальных переменных:\n",
    "\n",
    "- `BUDGET` = 10 000 000 000 (Бюджет на разработку скважин в регионе)\n",
    "- `BARREL_INCOME` = 450 (Доход от добытого барреля сырья)\n",
    "- `PRODUCT_INCOME` = BARREL_PRICE * 1000 (Доход от добытой единицы продукции. 1 единица = 1000 баррелей)\n",
    "- `NUMBER_EXPLOR_POINTS` = 500 (Количество точек, исследуемых при разведке)\n",
    "- `NUMBER_SELECTED_POINTS` = 200 (Количество лучших точек, принятых для дальнейшей разработки)\n",
    "- `LOSS_PROB` = 0.025 (Верхний порог вероятности убытков)\n",
    "- `CONF_INTRVL` = 0.95 значение уровня доверия доверительного интервала. Значение от 0 до 1."
   ]
  },
  {
   "cell_type": "markdown",
   "metadata": {},
   "source": [
    "### Расчёт достаточного объёма сырья для безубыточной разработки новой скважины.\n",
    "\n",
    "Для задачи такого расчета найдем \n",
    " - достаточное количество баррелей для покрытия бюджета на регион. VOLUME = BUDGET / PRODUCT_INCOME = \n",
    " - разделим полученное значение на количество точек, принятых к дальнейшей разработке ALLOW_VOL = VOLUME / NUMBER_SELECTED_POINTS\n",
    " - добавим полученное значение к сводной таблице"
   ]
  },
  {
   "cell_type": "code",
   "execution_count": 30,
   "metadata": {
    "scrolled": true
   },
   "outputs": [
    {
     "data": {
      "text/html": [
       "<div>\n",
       "<style scoped>\n",
       "    .dataframe tbody tr th:only-of-type {\n",
       "        vertical-align: middle;\n",
       "    }\n",
       "\n",
       "    .dataframe tbody tr th {\n",
       "        vertical-align: top;\n",
       "    }\n",
       "\n",
       "    .dataframe thead th {\n",
       "        text-align: right;\n",
       "    }\n",
       "</style>\n",
       "<table border=\"1\" class=\"dataframe\">\n",
       "  <thead>\n",
       "    <tr style=\"text-align: right;\">\n",
       "      <th></th>\n",
       "      <th>predictions_mean</th>\n",
       "      <th>rmse</th>\n",
       "      <th>rmse_mean_model</th>\n",
       "      <th>allow_vol</th>\n",
       "    </tr>\n",
       "  </thead>\n",
       "  <tbody>\n",
       "    <tr>\n",
       "      <th>region_0</th>\n",
       "      <td>92.383052</td>\n",
       "      <td>37.650975</td>\n",
       "      <td>1962.447389</td>\n",
       "      <td>111.111</td>\n",
       "    </tr>\n",
       "    <tr>\n",
       "      <th>region_1</th>\n",
       "      <td>68.679612</td>\n",
       "      <td>0.888446</td>\n",
       "      <td>2110.603063</td>\n",
       "      <td>111.111</td>\n",
       "    </tr>\n",
       "    <tr>\n",
       "      <th>region_2</th>\n",
       "      <td>95.048181</td>\n",
       "      <td>39.957975</td>\n",
       "      <td>2003.519808</td>\n",
       "      <td>111.111</td>\n",
       "    </tr>\n",
       "  </tbody>\n",
       "</table>\n",
       "</div>"
      ],
      "text/plain": [
       "          predictions_mean       rmse  rmse_mean_model  allow_vol\n",
       "region_0         92.383052  37.650975      1962.447389    111.111\n",
       "region_1         68.679612   0.888446      2110.603063    111.111\n",
       "region_2         95.048181  39.957975      2003.519808    111.111"
      ]
     },
     "metadata": {},
     "output_type": "display_data"
    }
   ],
   "source": [
    "result_table['allow_vol'] = BUDGET / PRODUCT_INCOME / NUMBER_SELECTED_POINTS\n",
    "result_table['allow_vol'] = result_table['allow_vol'].round(3)\n",
    "display(result_table)"
   ]
  },
  {
   "cell_type": "markdown",
   "metadata": {},
   "source": [
    "### Сравнение полученного достаточного объёма сырья со средним запасом в каждом регионе."
   ]
  },
  {
   "cell_type": "markdown",
   "metadata": {},
   "source": [
    "Добавим в сводную таблицу значение среднего запаса в каждом регионе"
   ]
  },
  {
   "cell_type": "code",
   "execution_count": 31,
   "metadata": {
    "scrolled": true
   },
   "outputs": [
    {
     "data": {
      "text/html": [
       "<div>\n",
       "<style scoped>\n",
       "    .dataframe tbody tr th:only-of-type {\n",
       "        vertical-align: middle;\n",
       "    }\n",
       "\n",
       "    .dataframe tbody tr th {\n",
       "        vertical-align: top;\n",
       "    }\n",
       "\n",
       "    .dataframe thead th {\n",
       "        text-align: right;\n",
       "    }\n",
       "</style>\n",
       "<table border=\"1\" class=\"dataframe\">\n",
       "  <thead>\n",
       "    <tr style=\"text-align: right;\">\n",
       "      <th></th>\n",
       "      <th>predictions_mean</th>\n",
       "      <th>rmse</th>\n",
       "      <th>rmse_mean_model</th>\n",
       "      <th>allow_vol</th>\n",
       "      <th>target_mean</th>\n",
       "    </tr>\n",
       "  </thead>\n",
       "  <tbody>\n",
       "    <tr>\n",
       "      <th>region_0</th>\n",
       "      <td>92.383052</td>\n",
       "      <td>37.650975</td>\n",
       "      <td>1962.447389</td>\n",
       "      <td>111.111</td>\n",
       "      <td>92.500</td>\n",
       "    </tr>\n",
       "    <tr>\n",
       "      <th>region_1</th>\n",
       "      <td>68.679612</td>\n",
       "      <td>0.888446</td>\n",
       "      <td>2110.603063</td>\n",
       "      <td>111.111</td>\n",
       "      <td>68.824</td>\n",
       "    </tr>\n",
       "    <tr>\n",
       "      <th>region_2</th>\n",
       "      <td>95.048181</td>\n",
       "      <td>39.957975</td>\n",
       "      <td>2003.519808</td>\n",
       "      <td>111.111</td>\n",
       "      <td>94.998</td>\n",
       "    </tr>\n",
       "  </tbody>\n",
       "</table>\n",
       "</div>"
      ],
      "text/plain": [
       "          predictions_mean       rmse  rmse_mean_model  allow_vol  target_mean\n",
       "region_0         92.383052  37.650975      1962.447389    111.111       92.500\n",
       "region_1         68.679612   0.888446      2110.603063    111.111       68.824\n",
       "region_2         95.048181  39.957975      2003.519808    111.111       94.998"
      ]
     },
     "metadata": {},
     "output_type": "display_data"
    }
   ],
   "source": [
    "result_table['target_mean'] = [data_0['product'].mean().round(3), \n",
    "                               data_1['product'].mean().round(3),\n",
    "                               data_2['product'].mean().round(3)]\n",
    "display(result_table)"
   ]
  },
  {
   "cell_type": "markdown",
   "metadata": {},
   "source": [
    "### Вывод по разделу 3\n",
    "\n",
    "- Во всех трех регионах средний запас сырья меньше чем достаточный для самоокупаемости проекта. При выборе подходящих для разработки точек нужно учитывать эти значения, и использовать только те точки, предсказанный объем в которых выше чем достаточный для самоокупаемости."
   ]
  },
  {
   "cell_type": "markdown",
   "metadata": {},
   "source": [
    "## Расчёт прибыли по выбранным скважинам и предсказаниям модели"
   ]
  },
  {
   "cell_type": "markdown",
   "metadata": {},
   "source": [
    "Для задач, отмеченных в выводе раздела 3 создадим функцию для расчета прибыли по скважине или группе скважин и предсказаниям модели и протестируем её."
   ]
  },
  {
   "cell_type": "markdown",
   "metadata": {},
   "source": [
    "### Объявление функции"
   ]
  },
  {
   "cell_type": "code",
   "execution_count": 32,
   "metadata": {},
   "outputs": [],
   "source": [
    "def group_income(target, predictions, count_selected, product_income=PRODUCT_INCOME, budget=BUDGET, ascend=False):\n",
    "    '''\n",
    "    target: выборка c целевым признаком pandas.Series\n",
    "    predictions: соответствующие предсказания pandas.Series\n",
    "    count_selected: количество лучших значений предсказаний, для которых выполнять расчет\n",
    "    product_income: доход от добытой единицы продукции\n",
    "    budget: бюджет на группу\n",
    "    ascend: если True то лучшими считаются наименьшие значения предсказаний, False - наибольшие значения\n",
    "    Функция принимает на входе выборку с целевым признаком и соответствующими предсказаниями и выполняет \n",
    "    расчет прибыли от лучших предсказаний в количестве count штук. Прибыль ситается как кол-во предсказаний * product_income - budget\n",
    "    Возвращает значение прибыли\n",
    "    '''\n",
    "    \n",
    "    predictions_sorted = predictions.sort_values(ascending=ascend)\n",
    "    selected_points_income = target[predictions_sorted.index][:count_selected].sum() * product_income - budget\n",
    "    \n",
    "    return selected_points_income"
   ]
  },
  {
   "cell_type": "markdown",
   "metadata": {},
   "source": [
    "### Тестирование работы функции"
   ]
  },
  {
   "cell_type": "markdown",
   "metadata": {},
   "source": [
    "Протестируем функцию на случайной выборке из каждого региона:"
   ]
  },
  {
   "cell_type": "code",
   "execution_count": 33,
   "metadata": {},
   "outputs": [],
   "source": [
    "def random_group_income(target, predictions, count_explr=NUMBER_EXPLOR_POINTS, replc=True, rndm_st=RANDOM_STATE):\n",
    "    '''\n",
    "    target: выборка c целевым признаком. Должно быть pandas.Series с индексом 0..n\n",
    "    predictions: соответствующие предсказания pandas.Series с индексом 0..n, соответствующим target\n",
    "    count_explr: количество значений предсказаний, попадаемых в подвыборку (sample)\n",
    "    Функция принимает на входе выборку с целевым признаком и соответствующими предсказаниями,  \n",
    "    вычленяет из предсказаний случайные в количестве count_explr штук и передает их значения \n",
    "    совместно с target в функцию group_income, для расчета дохода с этой группы\n",
    "    Возвращает результат работы функции group_income\n",
    "    '''\n",
    "    \n",
    "    predictions_explored = predictions.sample(\n",
    "        n = count_explr,\n",
    "        replace=replc, random_state=rndm_st)\n",
    "    \n",
    "    selected_group_income = group_income(target, predictions_explored, count_selected=NUMBER_SELECTED_POINTS)\n",
    "    \n",
    "    return selected_group_income"
   ]
  },
  {
   "cell_type": "code",
   "execution_count": 34,
   "metadata": {
    "scrolled": true
   },
   "outputs": [
    {
     "name": "stdout",
     "output_type": "stream",
     "text": [
      "РЕГИОН 0, выборка из случайных 500 точек, прибыль лучших 200 из них = 383.126 млн. руб.\n",
      "РЕГИОН 1, выборка из случайных 500 точек, прибыль лучших 200 из них = 81.7222 млн. руб.\n",
      "РЕГИОН 2, выборка из случайных 500 точек, прибыль лучших 200 из них = 207.326 млн. руб.\n"
     ]
    }
   ],
   "source": [
    "# Сейчас наши предсказания оформлены в виде массива без индексов\n",
    "# Для дальнейшей работы преобразуем их в pandas.Series c индексами\n",
    "# тогда метод sample даст нам выборку с известными индексами предсказаний\n",
    "\n",
    "predictions_valid_0 = pd.Series(predictions_valid_0)\n",
    "predictions_valid_1 = pd.Series(predictions_valid_1)\n",
    "predictions_valid_2 = pd.Series(predictions_valid_2)\n",
    "\n",
    "# Целевые признаки - это pandas.Series с индексами, наследованными из изначальных датасетов\n",
    "# Эти индексы не имеют ничего общего с индексами предсказаний, хотя значения стоят в том же порядке\n",
    "# для корректной работы алгоритма сбросим индексы в target_valid, для того, чтобы они соответствовали предсказаниям.\n",
    "\n",
    "target_valid_0 = target_valid_0.reset_index(drop=True)\n",
    "target_valid_1 = target_valid_1.reset_index(drop=True)\n",
    "target_valid_2 = target_valid_2.reset_index(drop=True)\n",
    "\n",
    "print(f'РЕГИОН 0, выборка из случайных {NUMBER_EXPLOR_POINTS} точек, прибыль лучших {NUMBER_SELECTED_POINTS} из них = {random_group_income(target_valid_0, predictions_valid_0)/(10**6):.6} млн. руб.')\n",
    "print(f'РЕГИОН 1, выборка из случайных {NUMBER_EXPLOR_POINTS} точек, прибыль лучших {NUMBER_SELECTED_POINTS} из них = {random_group_income(target_valid_1, predictions_valid_1)/(10**6):.6} млн. руб.')\n",
    "print(f'РЕГИОН 2, выборка из случайных {NUMBER_EXPLOR_POINTS} точек, прибыль лучших {NUMBER_SELECTED_POINTS} из них = {random_group_income(target_valid_2, predictions_valid_2)/(10**6):.6} млн. руб.')"
   ]
  },
  {
   "cell_type": "markdown",
   "metadata": {},
   "source": [
    "### Вывод по разделу 4\n",
    "\n",
    "- создана и протестирована функция для расчета прибыли по выбранным скважинам и предсказаниям модели\n",
    "- результатов анализа одной случайной выборки недостаточно для исследования региона. Необходимо найти распределение значений прибыли, среднее такого распределения и оценить возможные убытки"
   ]
  },
  {
   "cell_type": "markdown",
   "metadata": {},
   "source": [
    "## Расчёт риска и прибыли для каждого региона\n",
    "\n",
    "Исходя из выводов раздела 4 необходимо более детально исследовать потенциальную прибыль от каждого региона.\n",
    "Для этого применим технику Bootstrap с 1000 случайных выборок для каждого региона и определим:\n",
    "\n",
    "- среднюю величину для распределения прибыли\n",
    "- 95%-й доверительный интервал распределения прибыли\n",
    "- риск убытков для каждого региона\n"
   ]
  },
  {
   "cell_type": "markdown",
   "metadata": {},
   "source": [
    "### Нахождение распределения прибыли техникой Bootstrap с 1000 выборок."
   ]
  },
  {
   "cell_type": "code",
   "execution_count": 35,
   "metadata": {
    "scrolled": true
   },
   "outputs": [],
   "source": [
    "final_table = pd.DataFrame(columns=[\n",
    "    'region_name',\n",
    "    'profit_average',\n",
    "    '0.025_quantile',\n",
    "    '0.975_quantile',\n",
    "    'loss_prob', \n",
    "    'acceptable_risk?'\n",
    "])"
   ]
  },
  {
   "cell_type": "code",
   "execution_count": 36,
   "metadata": {
    "scrolled": false
   },
   "outputs": [
    {
     "name": "stdout",
     "output_type": "stream",
     "text": [
      "Графическое представление распределения прибыли для регионов\n"
     ]
    },
    {
     "data": {
      "image/png": "[encoded data removed]",
      "text/plain": [
       "<Figure size 1000x700 with 1 Axes>"
      ]
     },
     "metadata": {},
     "output_type": "display_data"
    },
    {
     "data": {
      "image/png": "[encoded data removed]",
      "text/plain": [
       "<Figure size 1000x700 with 1 Axes>"
      ]
     },
     "metadata": {},
     "output_type": "display_data"
    },
    {
     "data": {
      "image/png": "[encoded data removed]",
      "text/plain": [
       "<Figure size 1000x700 with 1 Axes>"
      ]
     },
     "metadata": {},
     "output_type": "display_data"
    }
   ],
   "source": [
    "print('Графическое представление распределения прибыли для регионов')\n",
    "\n",
    "state = np.random.RandomState(RANDOM_STATE)\n",
    "\n",
    "# Очищаю таблицу final_table если в нее попали данные при непоследовательном запуске ячеек\n",
    "final_table.drop(axis=0, index=range(len(final_table)), inplace=True, errors='ignore')\n",
    "\n",
    "for [target_v, predictions_v, region_name] in [[target_valid_0, predictions_valid_0, 'region_0'],\n",
    "                                             [target_valid_1, predictions_valid_1, 'region_1'],\n",
    "                                             [target_valid_2, predictions_valid_2, 'region_2']]:\n",
    "    values_income = []\n",
    "    for i in range(1000):\n",
    "        values_income.append(random_group_income(target_v, predictions_v, rndm_st=state))\n",
    "        \n",
    "    values_income = pd.Series(values_income)\n",
    "    lower_quantile = values_income.quantile((1 - CONF_INTRVL) / 2)\n",
    "    upper_quantile = values_income.quantile(1 - (1 - CONF_INTRVL) / 2)\n",
    "    profit_average = values_income.mean()\n",
    "    #loss_prob = values_income[values_income < 0].count() / values_income.count() # - вариант расчета рисков №1\n",
    "    loss_prob = (values_income < 0).mean()                                       # - вариант расчета рисков №2\n",
    "    acceptable_risk_boolean = loss_prob < MAX_LOSS_PROB\n",
    "    row = {\n",
    "        'region_name':region_name, \n",
    "        'profit_average':profit_average, \n",
    "        '0.025_quantile':lower_quantile, \n",
    "        '0.975_quantile':upper_quantile, \n",
    "        'loss_prob':loss_prob,\n",
    "        'acceptable_risk?':acceptable_risk_boolean\n",
    "    }\n",
    "    \n",
    " \n",
    "    final_table = final_table.append(row, ignore_index=True)\n",
    "    \n",
    "    (values_income/ 10 ** 6).hist(bins=50, figsize=(10, 7), alpha=0.8)\n",
    "    plt.ylabel('Количество значений')\n",
    "    plt.xlabel('Прибыль, млн. руб')\n",
    "    plt.title(f'{region_name}\\nРаспределение суммарной прибыли группы из {NUMBER_SELECTED_POINTS} лучших точек\\nсреди {NUMBER_EXPLOR_POINTS} случайно выбранных техникой Bootstrap')\n",
    "    plt.show()"
   ]
  },
  {
   "cell_type": "markdown",
   "metadata": {},
   "source": [
    "### Нахождение для распределения прибыли: средней величины, 95%-й доверительный интервала и риска убытков.\n",
    "\n",
    "Требуемые значения после вычисления сведем в финальную таблицу:"
   ]
  },
  {
   "cell_type": "code",
   "execution_count": 37,
   "metadata": {
    "scrolled": true
   },
   "outputs": [
    {
     "data": {
      "text/html": [
       "<div>\n",
       "<style scoped>\n",
       "    .dataframe tbody tr th:only-of-type {\n",
       "        vertical-align: middle;\n",
       "    }\n",
       "\n",
       "    .dataframe tbody tr th {\n",
       "        vertical-align: top;\n",
       "    }\n",
       "\n",
       "    .dataframe thead th {\n",
       "        text-align: right;\n",
       "    }\n",
       "</style>\n",
       "<table border=\"1\" class=\"dataframe\">\n",
       "  <thead>\n",
       "    <tr style=\"text-align: right;\">\n",
       "      <th></th>\n",
       "      <th>region_name</th>\n",
       "      <th>profit_average</th>\n",
       "      <th>0.025_quantile</th>\n",
       "      <th>0.975_quantile</th>\n",
       "      <th>loss_prob</th>\n",
       "      <th>acceptable_risk?</th>\n",
       "    </tr>\n",
       "  </thead>\n",
       "  <tbody>\n",
       "    <tr>\n",
       "      <th>0</th>\n",
       "      <td>region_0</td>\n",
       "      <td>432,148,064.339</td>\n",
       "      <td>-49,980,097.776</td>\n",
       "      <td>911,707,300.448</td>\n",
       "      <td>0.042</td>\n",
       "      <td>False</td>\n",
       "    </tr>\n",
       "    <tr>\n",
       "      <th>1</th>\n",
       "      <td>region_1</td>\n",
       "      <td>433,797,034.067</td>\n",
       "      <td>50,222,605.401</td>\n",
       "      <td>827,417,295.585</td>\n",
       "      <td>0.016</td>\n",
       "      <td>True</td>\n",
       "    </tr>\n",
       "    <tr>\n",
       "      <th>2</th>\n",
       "      <td>region_2</td>\n",
       "      <td>394,144,315.767</td>\n",
       "      <td>-181,682,326.237</td>\n",
       "      <td>926,200,883.792</td>\n",
       "      <td>0.073</td>\n",
       "      <td>False</td>\n",
       "    </tr>\n",
       "  </tbody>\n",
       "</table>\n",
       "</div>"
      ],
      "text/plain": [
       "  region_name  profit_average   0.025_quantile  0.975_quantile  loss_prob  \\\n",
       "0    region_0 432,148,064.339  -49,980,097.776 911,707,300.448      0.042   \n",
       "1    region_1 433,797,034.067   50,222,605.401 827,417,295.585      0.016   \n",
       "2    region_2 394,144,315.767 -181,682,326.237 926,200,883.792      0.073   \n",
       "\n",
       "  acceptable_risk?  \n",
       "0            False  \n",
       "1             True  \n",
       "2            False  "
      ]
     },
     "metadata": {},
     "output_type": "display_data"
    }
   ],
   "source": [
    "# временное изменение формата вывода вещественных значений в pandas\n",
    "pd.options.display.float_format = '{:,.3f}'.format\n",
    "\n",
    "display(final_table)\n",
    "\n",
    "# восстановление формата вывода вещественных значений в pandas на значение по умолчанию\n",
    "pd.options.display.float_format = None"
   ]
  },
  {
   "cell_type": "markdown",
   "metadata": {},
   "source": [
    "Расшифровка названий полей финальной таблицы:\n",
    "\n",
    "- `region_name`: Номер региона,\n",
    "- `profit_average` : среднее значение распределения прибылей, руб.\n",
    "- `0.025_quantile`: нижняя граница 95% доверительного интервала распределения прибылей (0.025 квантиль), руб.\n",
    "- `0.975_quantile`: верхняя граница 95% доверительного интервала распределения прибылей (0.975 квантиль), руб.\n",
    "- `loss_prob`: риск убытка\n",
    "- `acceptable_risk?`: признак допустимого риска, если `True`, то риск допустим, т.е. меньше установленного порога"
   ]
  },
  {
   "cell_type": "markdown",
   "metadata": {},
   "source": [
    "### Вывод по разделу 5"
   ]
  },
  {
   "cell_type": "markdown",
   "metadata": {},
   "source": [
    "- для регионов 0 и 2 риск убытков превышает установленное заданием значение: 0.025\n",
    "- для разработки предлагается регион №1, со следующим обоснованием: \n",
    "  - Регион 1 имеет максимальную среднюю прибыль в распределении прибылей = 433 млн руб.,\n",
    "  - Вероятность риска убытков в Регионе 1 = 1,6%, что меньше установленной заданием (2,5%), т.е 95% доверительный интервал полностью находится в зоне положительной прибыли. \n"
   ]
  },
  {
   "cell_type": "markdown",
   "metadata": {},
   "source": [
    "## Общий вывод"
   ]
  },
  {
   "cell_type": "markdown",
   "metadata": {},
   "source": [
    "# Источник данных\n",
    " Требуется построить систему, способную анализировать возможную прибыли и риски.\n",
    "\n",
    " Предоставлены датасеты с данными по скважинам, всего три датасета, по одному на один регион. Данные синтетические: детали контрактов и характеристики месторождений не разглашаются.\n",
    " \n",
    "# Цели проекта\n",
    " \n",
    " Нужно построить модель для задачи регрессии, которая определит возможную прибыль, риск убытков для каждого конкретного региона. Необходимо сравнить полученные данные для всех регионов и выбрать наиболее подходящий для разработки.\n",
    " \n",
    "# Выводы по проекту\n",
    "\n",
    "*Предобработка данных*\n",
    "\n",
    "- После предобработки в данных 3 колонки (признака) \n",
    "  - Регион 0: 99990 строк (объектов)\n",
    "  - Регион 1: 99996 строк (объектов)\n",
    "  - Регион 0: 99996 строк (объектов)\n",
    "- Признак `product` определен как целевой.\n",
    "- Пропуски в данных отсутствуют. \n",
    "- После предобработки дубликаты отсутствуют\n",
    "- Выбросы в данных отсутствуют. \n",
    "- Признак `id` определен как несоответствующий задачам МО (машинное обучение), и не будет участвовать в обучении и проверке модели\n",
    "- Для `РЕГИОН 0` распределение значение признаков `f2`, и целевого признака `product` в целом соответствует нормальному распределению. `f0` - нормальное распределение с пиками у экстремумов, и двумя пиками у среднего значения, `f1` - три пика, два распределны равномерно у экстремумов и один у среднего значения\n",
    "- Для `РЕГИОН 1` распределение признака `f2` и целевого признка `product` значительно отличается от аналогичных распределений в `РЕГИОН 0` и `РЕГИОН 2`. Этот факт мы зафиксируем, но исправлять не будем: все признаки отмеченные как значимые заказчиком исследования, но описание их не предоставлено.\n",
    "- Для `РЕГИОН 2` распределение значение признаков `f1`, `f2`, `f3` и целевого признака `product` соответствует нормальному распределению.\n",
    "\n",
    "*Обучение и проверка модели*\n",
    "\n",
    "- выполнена обработка числовых признаков: масштабирование значений\n",
    "- Обучены модели, сохранены предсказания, значения метрик RMSE и среднего запаса предсказанного сырья\n",
    "- Модели адекватны в сравнении с константной моделью\n",
    "- Модель, обученная на данных из `РЕГИОН 1` показывает наилучшую метрику RMSE. \n",
    "  Это связано с отличием в распределении признака f2, отмеченного в первой части исследования. Так как значения признака f2 в   регионе 1 по сути дискретные, это позволяет модели Линейной регрессии предсказывать результаты гораздо точнее чем для распределенных нормально значений.\n",
    "\n",
    "*Подготовка к расчету прибыли*\n",
    "\n",
    "- Во всех трех регионах средний запас сырья меньше чем достаточный для самоокупаемости проекта. При выборе подходящих для разработки точек нужно учитывать эти значения, и использовать только те точки, предсказанный объем в которых выше чем достаточный для самоокупаемости.\n",
    "\n",
    "*Расчёт прибыли по выбранным скважинам и предсказаниям модели*\n",
    "\n",
    "- создана и протестирована функция для расчета прибыли по выбранным скважинам и предсказаниям модели\n",
    "- результатов анализа одной случайной выборки недостаточно для исследования региона. Необходимо найти распределение значений прибыли, среднее такого распределения и оценить возможные убытки\n",
    "\n",
    "*Расчёт риска и прибыли для каждого региона*\n",
    "\n",
    "- для регионов 0 и 2 риск убытков превышает установленное заданием значение: 0.025\n",
    "\n",
    "\n",
    "# *ОСНОВНОЙ ВЫВОД*\n",
    "\n",
    "- для разработки предлагается **РЕГИОН №1**. \n",
    "  - у него **максимальная средняя прибыль** в распределении прибылей  **= 433 млн руб.** среди прочих регионов,\n",
    "  - **риск убытков = 1.6%**, что **меньше допустимого** (2,5%), т.е 95% доверительный интервал полностью находится в зоне положительной прибыли. \n"
   ]
  }
 ],
 "metadata": {
  "ExecuteTimeLog": [
   {
    "duration": 1474,
    "start_time": "2022-09-27T13:17:40.356Z"
   },
   {
    "duration": 3,
    "start_time": "2022-09-27T13:17:41.832Z"
   },
   {
    "duration": 13,
    "start_time": "2022-09-27T13:17:41.837Z"
   },
   {
    "duration": 1546,
    "start_time": "2022-09-27T13:17:41.852Z"
   },
   {
    "duration": 55,
    "start_time": "2022-09-27T13:17:43.400Z"
   },
   {
    "duration": 66,
    "start_time": "2022-09-27T13:17:43.457Z"
   },
   {
    "duration": 48,
    "start_time": "2022-09-27T13:17:43.524Z"
   },
   {
    "duration": 319,
    "start_time": "2022-09-27T13:23:44.255Z"
   },
   {
    "duration": 4,
    "start_time": "2022-09-27T13:24:09.196Z"
   },
   {
    "duration": 688,
    "start_time": "2022-09-27T13:24:14.780Z"
   },
   {
    "duration": 4,
    "start_time": "2022-09-27T13:27:08.863Z"
   },
   {
    "duration": 10,
    "start_time": "2022-09-27T13:27:08.869Z"
   },
   {
    "duration": 12,
    "start_time": "2022-09-27T13:27:08.880Z"
   },
   {
    "duration": 340,
    "start_time": "2022-09-27T13:27:08.893Z"
   },
   {
    "duration": 48,
    "start_time": "2022-09-27T13:27:09.235Z"
   },
   {
    "duration": 65,
    "start_time": "2022-09-27T13:27:09.284Z"
   },
   {
    "duration": 51,
    "start_time": "2022-09-27T13:27:09.350Z"
   },
   {
    "duration": 626,
    "start_time": "2022-09-27T13:27:09.403Z"
   },
   {
    "duration": 664,
    "start_time": "2022-09-27T13:27:10.030Z"
   },
   {
    "duration": 752,
    "start_time": "2022-09-27T13:27:10.695Z"
   },
   {
    "duration": 763,
    "start_time": "2022-09-27T14:05:17.952Z"
   },
   {
    "duration": 77,
    "start_time": "2022-09-27T14:05:28.000Z"
   },
   {
    "duration": 4,
    "start_time": "2022-09-27T14:05:40.857Z"
   },
   {
    "duration": 93,
    "start_time": "2022-09-27T14:05:47.566Z"
   },
   {
    "duration": 621,
    "start_time": "2022-09-27T14:05:55.973Z"
   },
   {
    "duration": 5,
    "start_time": "2022-09-27T14:06:08.341Z"
   },
   {
    "duration": 25,
    "start_time": "2022-09-27T14:06:08.348Z"
   },
   {
    "duration": 15,
    "start_time": "2022-09-27T14:06:08.375Z"
   },
   {
    "duration": 375,
    "start_time": "2022-09-27T14:06:08.391Z"
   },
   {
    "duration": 56,
    "start_time": "2022-09-27T14:06:08.768Z"
   },
   {
    "duration": 57,
    "start_time": "2022-09-27T14:06:08.826Z"
   },
   {
    "duration": 697,
    "start_time": "2022-09-27T14:06:08.885Z"
   },
   {
    "duration": 814,
    "start_time": "2022-09-27T14:06:09.583Z"
   },
   {
    "duration": 720,
    "start_time": "2022-09-27T14:06:10.399Z"
   },
   {
    "duration": 51,
    "start_time": "2022-09-27T14:06:11.122Z"
   },
   {
    "duration": 62,
    "start_time": "2022-09-27T14:06:11.174Z"
   },
   {
    "duration": 43,
    "start_time": "2022-09-27T14:06:11.238Z"
   },
   {
    "duration": 584,
    "start_time": "2022-09-27T14:06:11.283Z"
   },
   {
    "duration": 49,
    "start_time": "2022-09-27T14:07:15.241Z"
   },
   {
    "duration": 18,
    "start_time": "2022-09-27T14:07:58.501Z"
   },
   {
    "duration": 27,
    "start_time": "2022-09-27T14:08:14.666Z"
   },
   {
    "duration": 45,
    "start_time": "2022-09-27T14:08:33.949Z"
   },
   {
    "duration": 616,
    "start_time": "2022-09-27T14:08:52.377Z"
   },
   {
    "duration": 718,
    "start_time": "2022-09-27T14:09:06.444Z"
   },
   {
    "duration": 3,
    "start_time": "2022-09-27T14:09:29.769Z"
   },
   {
    "duration": 22,
    "start_time": "2022-09-27T14:09:29.774Z"
   },
   {
    "duration": 7,
    "start_time": "2022-09-27T14:09:29.797Z"
   },
   {
    "duration": 361,
    "start_time": "2022-09-27T14:09:29.806Z"
   },
   {
    "duration": 62,
    "start_time": "2022-09-27T14:09:30.169Z"
   },
   {
    "duration": 68,
    "start_time": "2022-09-27T14:09:30.235Z"
   },
   {
    "duration": 677,
    "start_time": "2022-09-27T14:09:30.305Z"
   },
   {
    "duration": 771,
    "start_time": "2022-09-27T14:09:30.983Z"
   },
   {
    "duration": 649,
    "start_time": "2022-09-27T14:09:31.756Z"
   },
   {
    "duration": 691,
    "start_time": "2022-09-27T14:09:32.407Z"
   },
   {
    "duration": 58,
    "start_time": "2022-09-27T14:09:33.100Z"
   },
   {
    "duration": 45,
    "start_time": "2022-09-27T14:09:33.159Z"
   },
   {
    "duration": 628,
    "start_time": "2022-09-27T14:09:33.206Z"
   },
   {
    "duration": 48,
    "start_time": "2022-09-27T14:10:31.642Z"
   },
   {
    "duration": 1783,
    "start_time": "2022-09-27T14:11:09.515Z"
   },
   {
    "duration": 1665,
    "start_time": "2022-09-27T14:11:32.653Z"
   },
   {
    "duration": 26,
    "start_time": "2022-09-27T14:22:12.534Z"
   },
   {
    "duration": 43,
    "start_time": "2022-09-27T14:22:36.765Z"
   },
   {
    "duration": 35,
    "start_time": "2022-09-27T14:23:45.117Z"
   },
   {
    "duration": 21,
    "start_time": "2022-09-27T14:25:56.470Z"
   },
   {
    "duration": 9,
    "start_time": "2022-09-27T14:26:27.485Z"
   },
   {
    "duration": 5,
    "start_time": "2022-09-27T14:27:26.687Z"
   },
   {
    "duration": 11,
    "start_time": "2022-09-27T14:27:26.694Z"
   },
   {
    "duration": 9,
    "start_time": "2022-09-27T14:27:26.706Z"
   },
   {
    "duration": 354,
    "start_time": "2022-09-27T14:27:26.717Z"
   },
   {
    "duration": 67,
    "start_time": "2022-09-27T14:27:27.073Z"
   },
   {
    "duration": 59,
    "start_time": "2022-09-27T14:27:27.142Z"
   },
   {
    "duration": 797,
    "start_time": "2022-09-27T14:27:27.203Z"
   },
   {
    "duration": 688,
    "start_time": "2022-09-27T14:27:28.002Z"
   },
   {
    "duration": 669,
    "start_time": "2022-09-27T14:27:28.692Z"
   },
   {
    "duration": 12,
    "start_time": "2022-09-27T14:27:29.363Z"
   },
   {
    "duration": 61,
    "start_time": "2022-09-27T14:27:29.376Z"
   },
   {
    "duration": 44,
    "start_time": "2022-09-27T14:27:29.440Z"
   },
   {
    "duration": 49,
    "start_time": "2022-09-27T14:27:29.485Z"
   },
   {
    "duration": 613,
    "start_time": "2022-09-27T14:27:29.538Z"
   },
   {
    "duration": 516,
    "start_time": "2022-09-27T14:27:30.152Z"
   },
   {
    "duration": 523,
    "start_time": "2022-09-27T14:27:30.670Z"
   },
   {
    "duration": 16,
    "start_time": "2022-09-27T14:27:31.195Z"
   },
   {
    "duration": 47,
    "start_time": "2022-09-27T14:27:31.213Z"
   },
   {
    "duration": 16,
    "start_time": "2022-09-27T14:28:49.641Z"
   },
   {
    "duration": 12,
    "start_time": "2022-09-27T14:31:21.043Z"
   },
   {
    "duration": 81,
    "start_time": "2022-09-27T14:31:22.651Z"
   },
   {
    "duration": 4,
    "start_time": "2022-09-27T14:40:59.905Z"
   },
   {
    "duration": 10,
    "start_time": "2022-09-27T14:40:59.911Z"
   },
   {
    "duration": 6,
    "start_time": "2022-09-27T14:40:59.923Z"
   },
   {
    "duration": 366,
    "start_time": "2022-09-27T14:40:59.931Z"
   },
   {
    "duration": 53,
    "start_time": "2022-09-27T14:41:00.299Z"
   },
   {
    "duration": 83,
    "start_time": "2022-09-27T14:41:00.355Z"
   },
   {
    "duration": 818,
    "start_time": "2022-09-27T14:41:00.440Z"
   },
   {
    "duration": 663,
    "start_time": "2022-09-27T14:41:01.259Z"
   },
   {
    "duration": 755,
    "start_time": "2022-09-27T14:41:01.924Z"
   },
   {
    "duration": 3,
    "start_time": "2022-09-27T14:41:02.682Z"
   },
   {
    "duration": 81,
    "start_time": "2022-09-27T14:41:02.687Z"
   },
   {
    "duration": 56,
    "start_time": "2022-09-27T14:41:02.770Z"
   },
   {
    "duration": 47,
    "start_time": "2022-09-27T14:41:02.828Z"
   },
   {
    "duration": 636,
    "start_time": "2022-09-27T14:41:02.877Z"
   },
   {
    "duration": 508,
    "start_time": "2022-09-27T14:41:03.515Z"
   },
   {
    "duration": 494,
    "start_time": "2022-09-27T14:41:04.025Z"
   },
   {
    "duration": 14,
    "start_time": "2022-09-27T14:41:04.522Z"
   },
   {
    "duration": 102,
    "start_time": "2022-09-27T14:41:04.538Z"
   },
   {
    "duration": 14,
    "start_time": "2022-09-27T14:41:04.722Z"
   },
   {
    "duration": 101,
    "start_time": "2022-09-27T14:41:04.738Z"
   },
   {
    "duration": 91,
    "start_time": "2022-09-27T14:41:04.841Z"
   },
   {
    "duration": 90,
    "start_time": "2022-09-27T14:41:04.934Z"
   },
   {
    "duration": 4,
    "start_time": "2022-09-27T14:52:54.051Z"
   },
   {
    "duration": 14,
    "start_time": "2022-09-27T14:52:54.058Z"
   },
   {
    "duration": 15,
    "start_time": "2022-09-27T14:52:54.073Z"
   },
   {
    "duration": 343,
    "start_time": "2022-09-27T14:52:54.090Z"
   },
   {
    "duration": 71,
    "start_time": "2022-09-27T14:52:54.436Z"
   },
   {
    "duration": 69,
    "start_time": "2022-09-27T14:52:54.522Z"
   },
   {
    "duration": 778,
    "start_time": "2022-09-27T14:52:54.593Z"
   },
   {
    "duration": 673,
    "start_time": "2022-09-27T14:52:55.373Z"
   },
   {
    "duration": 731,
    "start_time": "2022-09-27T14:52:56.048Z"
   },
   {
    "duration": 3,
    "start_time": "2022-09-27T14:52:56.781Z"
   },
   {
    "duration": 54,
    "start_time": "2022-09-27T14:52:56.786Z"
   },
   {
    "duration": 55,
    "start_time": "2022-09-27T14:52:56.842Z"
   },
   {
    "duration": 80,
    "start_time": "2022-09-27T14:52:56.899Z"
   },
   {
    "duration": 629,
    "start_time": "2022-09-27T14:52:56.983Z"
   },
   {
    "duration": 525,
    "start_time": "2022-09-27T14:52:57.613Z"
   },
   {
    "duration": 495,
    "start_time": "2022-09-27T14:52:58.140Z"
   },
   {
    "duration": 11,
    "start_time": "2022-09-27T14:52:58.637Z"
   },
   {
    "duration": 15,
    "start_time": "2022-09-27T14:52:58.650Z"
   },
   {
    "duration": 19,
    "start_time": "2022-09-27T14:52:58.667Z"
   },
   {
    "duration": 135,
    "start_time": "2022-09-27T14:52:58.688Z"
   },
   {
    "duration": 102,
    "start_time": "2022-09-27T14:52:58.824Z"
   },
   {
    "duration": 193,
    "start_time": "2022-09-27T14:52:58.928Z"
   },
   {
    "duration": 14,
    "start_time": "2022-09-27T14:53:34.316Z"
   },
   {
    "duration": 3,
    "start_time": "2022-09-27T15:58:12.707Z"
   },
   {
    "duration": 8,
    "start_time": "2022-09-27T15:58:12.712Z"
   },
   {
    "duration": 7,
    "start_time": "2022-09-27T15:58:12.722Z"
   },
   {
    "duration": 329,
    "start_time": "2022-09-27T15:58:12.731Z"
   },
   {
    "duration": 47,
    "start_time": "2022-09-27T15:58:13.063Z"
   },
   {
    "duration": 57,
    "start_time": "2022-09-27T15:58:13.111Z"
   },
   {
    "duration": 610,
    "start_time": "2022-09-27T15:58:13.169Z"
   },
   {
    "duration": 730,
    "start_time": "2022-09-27T15:58:13.780Z"
   },
   {
    "duration": 627,
    "start_time": "2022-09-27T15:58:14.512Z"
   },
   {
    "duration": 2,
    "start_time": "2022-09-27T15:58:15.141Z"
   },
   {
    "duration": 45,
    "start_time": "2022-09-27T15:58:15.145Z"
   },
   {
    "duration": 51,
    "start_time": "2022-09-27T15:58:15.192Z"
   },
   {
    "duration": 40,
    "start_time": "2022-09-27T15:58:15.245Z"
   },
   {
    "duration": 523,
    "start_time": "2022-09-27T15:58:15.287Z"
   },
   {
    "duration": 658,
    "start_time": "2022-09-27T15:58:15.812Z"
   },
   {
    "duration": 530,
    "start_time": "2022-09-27T15:58:16.471Z"
   },
   {
    "duration": 18,
    "start_time": "2022-09-27T15:58:17.003Z"
   },
   {
    "duration": 11,
    "start_time": "2022-09-27T15:58:17.023Z"
   },
   {
    "duration": 25,
    "start_time": "2022-09-27T15:58:17.036Z"
   },
   {
    "duration": 15,
    "start_time": "2022-09-27T15:58:17.062Z"
   },
   {
    "duration": 102,
    "start_time": "2022-09-27T15:58:17.121Z"
   },
   {
    "duration": 108,
    "start_time": "2022-09-27T15:58:17.225Z"
   },
   {
    "duration": 14,
    "start_time": "2022-09-27T15:59:54.175Z"
   },
   {
    "duration": 17,
    "start_time": "2022-09-27T16:00:10.177Z"
   },
   {
    "duration": 13,
    "start_time": "2022-09-27T16:07:03.282Z"
   },
   {
    "duration": 26,
    "start_time": "2022-09-27T16:07:03.297Z"
   },
   {
    "duration": 10,
    "start_time": "2022-09-27T16:07:03.325Z"
   },
   {
    "duration": 351,
    "start_time": "2022-09-27T16:07:03.337Z"
   },
   {
    "duration": 53,
    "start_time": "2022-09-27T16:07:03.690Z"
   },
   {
    "duration": 56,
    "start_time": "2022-09-27T16:07:03.745Z"
   },
   {
    "duration": 666,
    "start_time": "2022-09-27T16:07:03.803Z"
   },
   {
    "duration": 815,
    "start_time": "2022-09-27T16:07:04.471Z"
   },
   {
    "duration": 685,
    "start_time": "2022-09-27T16:07:05.288Z"
   },
   {
    "duration": 3,
    "start_time": "2022-09-27T16:07:05.975Z"
   },
   {
    "duration": 73,
    "start_time": "2022-09-27T16:07:05.979Z"
   },
   {
    "duration": 68,
    "start_time": "2022-09-27T16:07:06.054Z"
   },
   {
    "duration": 53,
    "start_time": "2022-09-27T16:07:06.124Z"
   },
   {
    "duration": 529,
    "start_time": "2022-09-27T16:07:06.181Z"
   },
   {
    "duration": 611,
    "start_time": "2022-09-27T16:07:06.712Z"
   },
   {
    "duration": 577,
    "start_time": "2022-09-27T16:07:07.325Z"
   },
   {
    "duration": 19,
    "start_time": "2022-09-27T16:07:07.904Z"
   },
   {
    "duration": 46,
    "start_time": "2022-09-27T16:07:07.924Z"
   },
   {
    "duration": 26,
    "start_time": "2022-09-27T16:07:07.973Z"
   },
   {
    "duration": 42,
    "start_time": "2022-09-27T16:07:08.000Z"
   },
   {
    "duration": 191,
    "start_time": "2022-09-27T16:07:08.044Z"
   },
   {
    "duration": 199,
    "start_time": "2022-09-27T16:07:08.237Z"
   },
   {
    "duration": 190,
    "start_time": "2022-09-27T16:07:08.438Z"
   },
   {
    "duration": 4,
    "start_time": "2022-09-27T16:08:59.872Z"
   },
   {
    "duration": 6,
    "start_time": "2022-09-27T16:08:59.879Z"
   },
   {
    "duration": 8,
    "start_time": "2022-09-27T16:08:59.886Z"
   },
   {
    "duration": 337,
    "start_time": "2022-09-27T16:08:59.896Z"
   },
   {
    "duration": 53,
    "start_time": "2022-09-27T16:09:00.236Z"
   },
   {
    "duration": 65,
    "start_time": "2022-09-27T16:09:00.291Z"
   },
   {
    "duration": 663,
    "start_time": "2022-09-27T16:09:00.358Z"
   },
   {
    "duration": 752,
    "start_time": "2022-09-27T16:09:01.023Z"
   },
   {
    "duration": 651,
    "start_time": "2022-09-27T16:09:01.776Z"
   },
   {
    "duration": 12,
    "start_time": "2022-09-27T16:09:02.429Z"
   },
   {
    "duration": 17,
    "start_time": "2022-09-27T16:09:02.442Z"
   },
   {
    "duration": 29,
    "start_time": "2022-09-27T16:09:02.460Z"
   },
   {
    "duration": 42,
    "start_time": "2022-09-27T16:09:02.491Z"
   },
   {
    "duration": 135,
    "start_time": "2022-09-27T16:09:02.623Z"
   },
   {
    "duration": 167,
    "start_time": "2022-09-27T16:09:02.760Z"
   },
   {
    "duration": 97,
    "start_time": "2022-09-27T16:09:02.930Z"
   },
   {
    "duration": 20,
    "start_time": "2022-09-27T19:00:41.605Z"
   },
   {
    "duration": 7,
    "start_time": "2022-09-27T19:00:43.715Z"
   },
   {
    "duration": 1688,
    "start_time": "2022-09-28T07:11:15.653Z"
   },
   {
    "duration": 4,
    "start_time": "2022-09-28T07:11:17.353Z"
   },
   {
    "duration": 24,
    "start_time": "2022-09-28T07:11:17.358Z"
   },
   {
    "duration": 940,
    "start_time": "2022-09-28T07:11:17.384Z"
   },
   {
    "duration": 71,
    "start_time": "2022-09-28T07:11:18.326Z"
   },
   {
    "duration": 57,
    "start_time": "2022-09-28T07:11:18.398Z"
   },
   {
    "duration": 767,
    "start_time": "2022-09-28T07:11:18.457Z"
   },
   {
    "duration": 860,
    "start_time": "2022-09-28T07:11:19.225Z"
   },
   {
    "duration": 760,
    "start_time": "2022-09-28T07:11:20.087Z"
   },
   {
    "duration": 12,
    "start_time": "2022-09-28T07:11:20.849Z"
   },
   {
    "duration": 19,
    "start_time": "2022-09-28T07:11:20.863Z"
   },
   {
    "duration": 21,
    "start_time": "2022-09-28T07:11:20.885Z"
   },
   {
    "duration": 41,
    "start_time": "2022-09-28T07:11:20.909Z"
   },
   {
    "duration": 89,
    "start_time": "2022-09-28T07:11:20.955Z"
   },
   {
    "duration": 111,
    "start_time": "2022-09-28T07:11:21.047Z"
   },
   {
    "duration": 122,
    "start_time": "2022-09-28T07:11:21.237Z"
   },
   {
    "duration": 16,
    "start_time": "2022-09-28T07:14:58.184Z"
   },
   {
    "duration": 10,
    "start_time": "2022-09-28T07:15:12.887Z"
   },
   {
    "duration": 3,
    "start_time": "2022-09-28T09:47:04.973Z"
   },
   {
    "duration": 8,
    "start_time": "2022-09-28T09:50:55.751Z"
   },
   {
    "duration": 3,
    "start_time": "2022-09-28T09:57:38.481Z"
   },
   {
    "duration": 14,
    "start_time": "2022-09-28T11:17:29.766Z"
   },
   {
    "duration": 12,
    "start_time": "2022-09-28T11:17:49.261Z"
   },
   {
    "duration": 10,
    "start_time": "2022-09-28T11:18:08.977Z"
   },
   {
    "duration": 10,
    "start_time": "2022-09-28T11:19:58.806Z"
   },
   {
    "duration": 9,
    "start_time": "2022-09-28T11:20:02.624Z"
   },
   {
    "duration": 10,
    "start_time": "2022-09-28T11:20:05.752Z"
   },
   {
    "duration": 102,
    "start_time": "2022-09-28T11:25:25.992Z"
   },
   {
    "duration": 3,
    "start_time": "2022-09-28T11:25:28.701Z"
   },
   {
    "duration": 9,
    "start_time": "2022-09-28T11:25:30.183Z"
   },
   {
    "duration": 9,
    "start_time": "2022-09-28T11:27:50.845Z"
   },
   {
    "duration": 11,
    "start_time": "2022-09-28T11:28:14.186Z"
   },
   {
    "duration": 3,
    "start_time": "2022-09-28T11:29:34.026Z"
   },
   {
    "duration": 8,
    "start_time": "2022-09-28T11:29:37.560Z"
   },
   {
    "duration": 8,
    "start_time": "2022-09-28T11:40:29.647Z"
   },
   {
    "duration": 9,
    "start_time": "2022-09-28T11:40:52.957Z"
   },
   {
    "duration": 14,
    "start_time": "2022-09-28T11:41:10.829Z"
   },
   {
    "duration": 11,
    "start_time": "2022-09-28T11:46:41.465Z"
   },
   {
    "duration": 10,
    "start_time": "2022-09-28T11:46:50.333Z"
   },
   {
    "duration": 10,
    "start_time": "2022-09-28T11:46:59.044Z"
   },
   {
    "duration": 8,
    "start_time": "2022-09-28T11:55:08.353Z"
   },
   {
    "duration": 11,
    "start_time": "2022-09-28T11:55:21.266Z"
   },
   {
    "duration": 3,
    "start_time": "2022-09-28T11:55:24.005Z"
   },
   {
    "duration": 5,
    "start_time": "2022-09-28T11:55:25.489Z"
   },
   {
    "duration": 6,
    "start_time": "2022-09-28T11:56:01.732Z"
   },
   {
    "duration": 5,
    "start_time": "2022-09-28T11:56:10.686Z"
   },
   {
    "duration": 7,
    "start_time": "2022-09-28T11:56:18.914Z"
   },
   {
    "duration": 6,
    "start_time": "2022-09-28T11:56:24.146Z"
   },
   {
    "duration": 5,
    "start_time": "2022-09-28T11:56:29.176Z"
   },
   {
    "duration": 5,
    "start_time": "2022-09-28T11:56:36.905Z"
   },
   {
    "duration": 6,
    "start_time": "2022-09-28T11:56:43.952Z"
   },
   {
    "duration": 5,
    "start_time": "2022-09-28T11:56:49.482Z"
   },
   {
    "duration": 5,
    "start_time": "2022-09-28T11:56:54.256Z"
   },
   {
    "duration": 4,
    "start_time": "2022-09-28T12:09:57.391Z"
   },
   {
    "duration": 5,
    "start_time": "2022-09-28T12:11:36.799Z"
   },
   {
    "duration": 10,
    "start_time": "2022-09-28T12:11:38.688Z"
   },
   {
    "duration": 12,
    "start_time": "2022-09-28T12:12:11.958Z"
   },
   {
    "duration": 3,
    "start_time": "2022-09-28T12:12:17.063Z"
   },
   {
    "duration": 11,
    "start_time": "2022-09-28T12:12:22.484Z"
   },
   {
    "duration": 447,
    "start_time": "2022-09-28T12:12:41.906Z"
   },
   {
    "duration": 457,
    "start_time": "2022-09-28T12:13:04.270Z"
   },
   {
    "duration": 414,
    "start_time": "2022-09-28T12:13:58.224Z"
   },
   {
    "duration": 5,
    "start_time": "2022-09-28T12:14:03.013Z"
   },
   {
    "duration": 418,
    "start_time": "2022-09-28T12:14:20.931Z"
   },
   {
    "duration": 441,
    "start_time": "2022-09-28T12:14:34.053Z"
   },
   {
    "duration": 438,
    "start_time": "2022-09-28T12:17:56.572Z"
   },
   {
    "duration": 442,
    "start_time": "2022-09-28T12:18:05.572Z"
   },
   {
    "duration": 5,
    "start_time": "2022-09-28T12:19:54.126Z"
   },
   {
    "duration": 5,
    "start_time": "2022-09-28T12:20:12.706Z"
   },
   {
    "duration": 3,
    "start_time": "2022-09-28T12:22:19.105Z"
   },
   {
    "duration": 9,
    "start_time": "2022-09-28T12:22:19.110Z"
   },
   {
    "duration": 10,
    "start_time": "2022-09-28T12:22:19.121Z"
   },
   {
    "duration": 380,
    "start_time": "2022-09-28T12:22:19.132Z"
   },
   {
    "duration": 61,
    "start_time": "2022-09-28T12:22:19.514Z"
   },
   {
    "duration": 60,
    "start_time": "2022-09-28T12:22:19.577Z"
   },
   {
    "duration": 697,
    "start_time": "2022-09-28T12:22:19.639Z"
   },
   {
    "duration": 748,
    "start_time": "2022-09-28T12:22:20.338Z"
   },
   {
    "duration": 668,
    "start_time": "2022-09-28T12:22:21.088Z"
   },
   {
    "duration": 13,
    "start_time": "2022-09-28T12:22:21.758Z"
   },
   {
    "duration": 11,
    "start_time": "2022-09-28T12:22:21.772Z"
   },
   {
    "duration": 22,
    "start_time": "2022-09-28T12:22:21.785Z"
   },
   {
    "duration": 27,
    "start_time": "2022-09-28T12:22:21.809Z"
   },
   {
    "duration": 195,
    "start_time": "2022-09-28T12:22:21.838Z"
   },
   {
    "duration": 102,
    "start_time": "2022-09-28T12:22:22.036Z"
   },
   {
    "duration": 194,
    "start_time": "2022-09-28T12:22:22.140Z"
   },
   {
    "duration": 13,
    "start_time": "2022-09-28T12:22:22.336Z"
   },
   {
    "duration": 16,
    "start_time": "2022-09-28T12:22:22.351Z"
   },
   {
    "duration": 10,
    "start_time": "2022-09-28T12:22:22.369Z"
   },
   {
    "duration": 27,
    "start_time": "2022-09-28T12:22:22.381Z"
   },
   {
    "duration": 0,
    "start_time": "2022-09-28T12:22:22.409Z"
   },
   {
    "duration": 4,
    "start_time": "2022-09-28T12:24:22.119Z"
   },
   {
    "duration": 9,
    "start_time": "2022-09-28T12:24:22.125Z"
   },
   {
    "duration": 24,
    "start_time": "2022-09-28T12:24:22.136Z"
   },
   {
    "duration": 410,
    "start_time": "2022-09-28T12:24:22.162Z"
   },
   {
    "duration": 63,
    "start_time": "2022-09-28T12:24:22.574Z"
   },
   {
    "duration": 49,
    "start_time": "2022-09-28T12:24:22.638Z"
   },
   {
    "duration": 765,
    "start_time": "2022-09-28T12:24:22.689Z"
   },
   {
    "duration": 670,
    "start_time": "2022-09-28T12:24:23.456Z"
   },
   {
    "duration": 678,
    "start_time": "2022-09-28T12:24:24.127Z"
   },
   {
    "duration": 11,
    "start_time": "2022-09-28T12:24:24.808Z"
   },
   {
    "duration": 22,
    "start_time": "2022-09-28T12:24:24.821Z"
   },
   {
    "duration": 14,
    "start_time": "2022-09-28T12:24:24.845Z"
   },
   {
    "duration": 19,
    "start_time": "2022-09-28T12:24:24.860Z"
   },
   {
    "duration": 157,
    "start_time": "2022-09-28T12:24:24.882Z"
   },
   {
    "duration": 208,
    "start_time": "2022-09-28T12:24:25.041Z"
   },
   {
    "duration": 85,
    "start_time": "2022-09-28T12:24:25.251Z"
   },
   {
    "duration": 107,
    "start_time": "2022-09-28T12:24:25.338Z"
   },
   {
    "duration": 27,
    "start_time": "2022-09-28T12:24:25.446Z"
   },
   {
    "duration": 17,
    "start_time": "2022-09-28T12:24:25.475Z"
   },
   {
    "duration": 21,
    "start_time": "2022-09-28T12:24:25.493Z"
   },
   {
    "duration": 457,
    "start_time": "2022-09-28T12:24:25.516Z"
   },
   {
    "duration": 5,
    "start_time": "2022-09-28T13:07:57.806Z"
   },
   {
    "duration": 11,
    "start_time": "2022-09-28T13:07:57.813Z"
   },
   {
    "duration": 26,
    "start_time": "2022-09-28T13:07:57.825Z"
   },
   {
    "duration": 410,
    "start_time": "2022-09-28T13:07:57.852Z"
   },
   {
    "duration": 54,
    "start_time": "2022-09-28T13:07:58.264Z"
   },
   {
    "duration": 69,
    "start_time": "2022-09-28T13:07:58.320Z"
   },
   {
    "duration": 875,
    "start_time": "2022-09-28T13:07:58.391Z"
   },
   {
    "duration": 755,
    "start_time": "2022-09-28T13:07:59.268Z"
   },
   {
    "duration": 726,
    "start_time": "2022-09-28T13:08:00.024Z"
   },
   {
    "duration": 13,
    "start_time": "2022-09-28T13:08:00.753Z"
   },
   {
    "duration": 25,
    "start_time": "2022-09-28T13:08:00.767Z"
   },
   {
    "duration": 27,
    "start_time": "2022-09-28T13:08:00.794Z"
   },
   {
    "duration": 111,
    "start_time": "2022-09-28T13:08:00.823Z"
   },
   {
    "duration": 113,
    "start_time": "2022-09-28T13:08:00.944Z"
   },
   {
    "duration": 196,
    "start_time": "2022-09-28T13:08:01.064Z"
   },
   {
    "duration": 194,
    "start_time": "2022-09-28T13:08:01.262Z"
   },
   {
    "duration": 22,
    "start_time": "2022-09-28T13:08:01.458Z"
   },
   {
    "duration": 26,
    "start_time": "2022-09-28T13:08:01.482Z"
   },
   {
    "duration": 17,
    "start_time": "2022-09-28T13:08:01.511Z"
   },
   {
    "duration": 9,
    "start_time": "2022-09-28T13:12:01.286Z"
   },
   {
    "duration": 4,
    "start_time": "2022-09-28T13:47:08.796Z"
   },
   {
    "duration": 6,
    "start_time": "2022-09-28T13:47:10.191Z"
   },
   {
    "duration": 490,
    "start_time": "2022-09-28T13:47:45.036Z"
   },
   {
    "duration": 3,
    "start_time": "2022-09-28T15:46:00.754Z"
   },
   {
    "duration": 2,
    "start_time": "2022-09-28T15:46:03.841Z"
   },
   {
    "duration": 4,
    "start_time": "2022-09-28T15:46:12.820Z"
   },
   {
    "duration": 4,
    "start_time": "2022-09-28T15:57:25.596Z"
   },
   {
    "duration": 12,
    "start_time": "2022-09-28T15:57:25.602Z"
   },
   {
    "duration": 7,
    "start_time": "2022-09-28T15:57:25.615Z"
   },
   {
    "duration": 370,
    "start_time": "2022-09-28T15:57:25.623Z"
   },
   {
    "duration": 52,
    "start_time": "2022-09-28T15:57:25.996Z"
   },
   {
    "duration": 55,
    "start_time": "2022-09-28T15:57:26.050Z"
   },
   {
    "duration": 846,
    "start_time": "2022-09-28T15:57:26.106Z"
   },
   {
    "duration": 634,
    "start_time": "2022-09-28T15:57:26.953Z"
   },
   {
    "duration": 656,
    "start_time": "2022-09-28T15:57:27.589Z"
   },
   {
    "duration": 12,
    "start_time": "2022-09-28T15:57:28.246Z"
   },
   {
    "duration": 11,
    "start_time": "2022-09-28T15:57:28.260Z"
   },
   {
    "duration": 11,
    "start_time": "2022-09-28T15:57:28.272Z"
   },
   {
    "duration": 57,
    "start_time": "2022-09-28T15:57:28.285Z"
   },
   {
    "duration": 17,
    "start_time": "2022-09-28T15:57:28.434Z"
   },
   {
    "duration": 181,
    "start_time": "2022-09-28T15:57:28.453Z"
   },
   {
    "duration": 102,
    "start_time": "2022-09-28T15:57:28.636Z"
   },
   {
    "duration": 4,
    "start_time": "2022-09-28T15:57:28.741Z"
   },
   {
    "duration": 15,
    "start_time": "2022-09-28T15:57:28.747Z"
   },
   {
    "duration": 4,
    "start_time": "2022-09-28T15:57:28.764Z"
   },
   {
    "duration": 11,
    "start_time": "2022-09-28T15:57:28.771Z"
   },
   {
    "duration": 586,
    "start_time": "2022-09-28T15:57:28.784Z"
   },
   {
    "duration": 470,
    "start_time": "2022-09-28T16:04:52.609Z"
   },
   {
    "duration": 505,
    "start_time": "2022-09-28T16:11:13.642Z"
   },
   {
    "duration": 483,
    "start_time": "2022-09-28T16:12:03.361Z"
   },
   {
    "duration": 469,
    "start_time": "2022-09-28T16:12:24.638Z"
   },
   {
    "duration": 498,
    "start_time": "2022-09-28T16:12:36.738Z"
   },
   {
    "duration": 502,
    "start_time": "2022-09-28T16:14:08.632Z"
   },
   {
    "duration": 478,
    "start_time": "2022-09-28T16:14:30.131Z"
   },
   {
    "duration": 52,
    "start_time": "2022-09-28T16:16:03.848Z"
   },
   {
    "duration": 514,
    "start_time": "2022-09-28T16:16:17.406Z"
   },
   {
    "duration": 51,
    "start_time": "2022-09-28T16:16:22.034Z"
   },
   {
    "duration": 519,
    "start_time": "2022-09-28T16:16:32.091Z"
   },
   {
    "duration": 506,
    "start_time": "2022-09-28T16:19:15.589Z"
   },
   {
    "duration": 114,
    "start_time": "2022-09-29T13:15:25.188Z"
   },
   {
    "duration": 46,
    "start_time": "2022-09-29T14:11:31.927Z"
   },
   {
    "duration": 6,
    "start_time": "2022-09-29T14:11:37.310Z"
   },
   {
    "duration": 1587,
    "start_time": "2022-09-29T14:11:40.083Z"
   },
   {
    "duration": 4,
    "start_time": "2022-09-29T14:11:41.672Z"
   },
   {
    "duration": 2,
    "start_time": "2022-09-29T14:11:42.985Z"
   },
   {
    "duration": 721,
    "start_time": "2022-09-29T14:11:44.697Z"
   },
   {
    "duration": 56,
    "start_time": "2022-09-29T14:11:47.491Z"
   },
   {
    "duration": 51,
    "start_time": "2022-09-29T14:14:18.297Z"
   },
   {
    "duration": 50,
    "start_time": "2022-09-29T14:14:30.567Z"
   },
   {
    "duration": 3,
    "start_time": "2022-09-29T14:20:29.992Z"
   },
   {
    "duration": 55,
    "start_time": "2022-09-29T14:25:26.807Z"
   },
   {
    "duration": 71,
    "start_time": "2022-09-29T14:25:26.864Z"
   },
   {
    "duration": 647,
    "start_time": "2022-09-29T14:25:26.936Z"
   },
   {
    "duration": 694,
    "start_time": "2022-09-29T14:25:27.585Z"
   },
   {
    "duration": 658,
    "start_time": "2022-09-29T14:25:28.281Z"
   },
   {
    "duration": 11,
    "start_time": "2022-09-29T14:25:28.941Z"
   },
   {
    "duration": 47,
    "start_time": "2022-09-29T14:25:28.953Z"
   },
   {
    "duration": 34,
    "start_time": "2022-09-29T14:25:29.002Z"
   },
   {
    "duration": 37,
    "start_time": "2022-09-29T14:25:29.038Z"
   },
   {
    "duration": 139,
    "start_time": "2022-09-29T14:25:29.080Z"
   },
   {
    "duration": 191,
    "start_time": "2022-09-29T14:25:29.220Z"
   },
   {
    "duration": 120,
    "start_time": "2022-09-29T14:25:29.413Z"
   },
   {
    "duration": 40,
    "start_time": "2022-09-29T14:25:29.534Z"
   },
   {
    "duration": 36,
    "start_time": "2022-09-29T14:25:29.575Z"
   },
   {
    "duration": 20,
    "start_time": "2022-09-29T14:25:29.613Z"
   },
   {
    "duration": 8,
    "start_time": "2022-09-29T14:25:29.634Z"
   },
   {
    "duration": 437,
    "start_time": "2022-09-29T14:25:29.644Z"
   },
   {
    "duration": 4,
    "start_time": "2022-09-29T14:25:30.082Z"
   },
   {
    "duration": 4,
    "start_time": "2022-09-29T14:25:45.636Z"
   },
   {
    "duration": 7,
    "start_time": "2022-09-29T14:25:45.642Z"
   },
   {
    "duration": 6,
    "start_time": "2022-09-29T14:25:45.650Z"
   },
   {
    "duration": 363,
    "start_time": "2022-09-29T14:25:45.725Z"
   },
   {
    "duration": 4,
    "start_time": "2022-09-29T14:25:46.090Z"
   },
   {
    "duration": 54,
    "start_time": "2022-09-29T14:25:46.095Z"
   },
   {
    "duration": 58,
    "start_time": "2022-09-29T14:25:46.151Z"
   },
   {
    "duration": 44,
    "start_time": "2022-09-29T14:25:46.211Z"
   },
   {
    "duration": 97,
    "start_time": "2022-09-29T14:25:46.256Z"
   },
   {
    "duration": 4,
    "start_time": "2022-09-29T14:26:31.906Z"
   },
   {
    "duration": 30,
    "start_time": "2022-09-29T14:26:31.912Z"
   },
   {
    "duration": 18,
    "start_time": "2022-09-29T14:26:31.944Z"
   },
   {
    "duration": 364,
    "start_time": "2022-09-29T14:26:31.964Z"
   },
   {
    "duration": 4,
    "start_time": "2022-09-29T14:26:32.330Z"
   },
   {
    "duration": 65,
    "start_time": "2022-09-29T14:26:32.335Z"
   },
   {
    "duration": 44,
    "start_time": "2022-09-29T14:26:32.402Z"
   },
   {
    "duration": 46,
    "start_time": "2022-09-29T14:26:32.448Z"
   },
   {
    "duration": 9,
    "start_time": "2022-09-29T14:26:32.508Z"
   },
   {
    "duration": 4,
    "start_time": "2022-09-29T14:27:28.704Z"
   },
   {
    "duration": 65,
    "start_time": "2022-09-29T14:40:10.082Z"
   },
   {
    "duration": 623,
    "start_time": "2022-09-29T14:40:21.111Z"
   },
   {
    "duration": 691,
    "start_time": "2022-09-29T14:40:25.395Z"
   },
   {
    "duration": 615,
    "start_time": "2022-09-29T14:40:29.407Z"
   },
   {
    "duration": 8,
    "start_time": "2022-09-29T14:48:54.780Z"
   },
   {
    "duration": 8,
    "start_time": "2022-09-29T14:48:59.387Z"
   },
   {
    "duration": 8,
    "start_time": "2022-09-29T14:49:06.609Z"
   },
   {
    "duration": 12,
    "start_time": "2022-09-29T14:53:00.080Z"
   },
   {
    "duration": 17,
    "start_time": "2022-09-29T14:53:08.711Z"
   },
   {
    "duration": 10,
    "start_time": "2022-09-29T14:53:51.966Z"
   },
   {
    "duration": 11,
    "start_time": "2022-09-29T14:54:00.572Z"
   },
   {
    "duration": 54,
    "start_time": "2022-09-29T14:54:08.914Z"
   },
   {
    "duration": 16,
    "start_time": "2022-09-29T14:54:14.320Z"
   },
   {
    "duration": 48,
    "start_time": "2022-09-29T14:54:59.880Z"
   },
   {
    "duration": 11,
    "start_time": "2022-09-29T14:55:03.638Z"
   },
   {
    "duration": 18,
    "start_time": "2022-09-29T14:55:57.022Z"
   },
   {
    "duration": 18,
    "start_time": "2022-09-29T14:56:05.744Z"
   },
   {
    "duration": 17,
    "start_time": "2022-09-29T14:56:15.237Z"
   },
   {
    "duration": 12,
    "start_time": "2022-09-29T14:56:21.726Z"
   },
   {
    "duration": 8,
    "start_time": "2022-09-29T15:10:20.250Z"
   },
   {
    "duration": 4,
    "start_time": "2022-09-29T15:10:25.262Z"
   },
   {
    "duration": 16,
    "start_time": "2022-09-29T15:10:25.269Z"
   },
   {
    "duration": 36,
    "start_time": "2022-09-29T15:10:25.286Z"
   },
   {
    "duration": 17,
    "start_time": "2022-09-29T15:10:25.324Z"
   },
   {
    "duration": 37,
    "start_time": "2022-09-29T15:10:25.342Z"
   },
   {
    "duration": 414,
    "start_time": "2022-09-29T15:10:25.381Z"
   },
   {
    "duration": 49,
    "start_time": "2022-09-29T15:10:25.796Z"
   },
   {
    "duration": 43,
    "start_time": "2022-09-29T15:10:25.847Z"
   },
   {
    "duration": 68,
    "start_time": "2022-09-29T15:10:25.892Z"
   },
   {
    "duration": 17,
    "start_time": "2022-09-29T15:10:25.961Z"
   },
   {
    "duration": 51,
    "start_time": "2022-09-29T15:11:53.839Z"
   },
   {
    "duration": 45,
    "start_time": "2022-09-29T15:12:00.328Z"
   },
   {
    "duration": 38,
    "start_time": "2022-09-29T15:12:26.203Z"
   },
   {
    "duration": 38,
    "start_time": "2022-09-29T15:13:04.732Z"
   },
   {
    "duration": 4,
    "start_time": "2022-09-29T15:15:09.665Z"
   },
   {
    "duration": 4,
    "start_time": "2022-09-29T15:15:11.176Z"
   },
   {
    "duration": 38,
    "start_time": "2022-09-29T15:15:21.225Z"
   },
   {
    "duration": 5,
    "start_time": "2022-09-29T15:16:30.523Z"
   },
   {
    "duration": 4,
    "start_time": "2022-09-29T15:16:31.777Z"
   },
   {
    "duration": 42,
    "start_time": "2022-09-29T15:16:35.402Z"
   },
   {
    "duration": 51,
    "start_time": "2022-09-29T15:17:12.843Z"
   },
   {
    "duration": 47,
    "start_time": "2022-09-29T15:17:26.036Z"
   },
   {
    "duration": 62,
    "start_time": "2022-09-29T15:40:18.265Z"
   },
   {
    "duration": 4,
    "start_time": "2022-09-29T15:40:32.036Z"
   },
   {
    "duration": 36,
    "start_time": "2022-09-29T15:40:32.041Z"
   },
   {
    "duration": 38,
    "start_time": "2022-09-29T15:40:32.078Z"
   },
   {
    "duration": 31,
    "start_time": "2022-09-29T15:40:32.118Z"
   },
   {
    "duration": 84,
    "start_time": "2022-09-29T15:40:32.151Z"
   },
   {
    "duration": 0,
    "start_time": "2022-09-29T15:40:32.237Z"
   },
   {
    "duration": 0,
    "start_time": "2022-09-29T15:40:32.238Z"
   },
   {
    "duration": 0,
    "start_time": "2022-09-29T15:40:32.239Z"
   },
   {
    "duration": 0,
    "start_time": "2022-09-29T15:40:32.240Z"
   },
   {
    "duration": 0,
    "start_time": "2022-09-29T15:40:32.241Z"
   },
   {
    "duration": 4,
    "start_time": "2022-09-29T15:40:45.341Z"
   },
   {
    "duration": 6,
    "start_time": "2022-09-29T15:40:45.347Z"
   },
   {
    "duration": 5,
    "start_time": "2022-09-29T15:40:45.354Z"
   },
   {
    "duration": 6,
    "start_time": "2022-09-29T15:40:45.361Z"
   },
   {
    "duration": 177,
    "start_time": "2022-09-29T15:40:45.368Z"
   },
   {
    "duration": 0,
    "start_time": "2022-09-29T15:40:45.546Z"
   },
   {
    "duration": 0,
    "start_time": "2022-09-29T15:40:45.548Z"
   },
   {
    "duration": 0,
    "start_time": "2022-09-29T15:40:45.549Z"
   },
   {
    "duration": 0,
    "start_time": "2022-09-29T15:40:45.549Z"
   },
   {
    "duration": 0,
    "start_time": "2022-09-29T15:40:45.550Z"
   },
   {
    "duration": 8,
    "start_time": "2022-09-29T15:40:48.150Z"
   },
   {
    "duration": 65,
    "start_time": "2022-09-29T15:40:55.678Z"
   },
   {
    "duration": 4,
    "start_time": "2022-09-29T15:40:57.097Z"
   },
   {
    "duration": 8,
    "start_time": "2022-09-29T15:41:05.127Z"
   },
   {
    "duration": 8,
    "start_time": "2022-09-29T15:41:18.266Z"
   },
   {
    "duration": 5,
    "start_time": "2022-09-29T15:41:21.530Z"
   },
   {
    "duration": 10,
    "start_time": "2022-09-29T15:41:21.536Z"
   },
   {
    "duration": 4,
    "start_time": "2022-09-29T15:41:21.547Z"
   },
   {
    "duration": 5,
    "start_time": "2022-09-29T15:41:21.553Z"
   },
   {
    "duration": 160,
    "start_time": "2022-09-29T15:41:21.560Z"
   },
   {
    "duration": 0,
    "start_time": "2022-09-29T15:41:21.722Z"
   },
   {
    "duration": 0,
    "start_time": "2022-09-29T15:41:21.724Z"
   },
   {
    "duration": 0,
    "start_time": "2022-09-29T15:41:21.725Z"
   },
   {
    "duration": 0,
    "start_time": "2022-09-29T15:41:21.727Z"
   },
   {
    "duration": 0,
    "start_time": "2022-09-29T15:41:21.728Z"
   },
   {
    "duration": 8,
    "start_time": "2022-09-29T15:41:27.431Z"
   },
   {
    "duration": 1360,
    "start_time": "2022-09-29T15:41:37.171Z"
   },
   {
    "duration": 3,
    "start_time": "2022-09-29T15:41:38.532Z"
   },
   {
    "duration": 7,
    "start_time": "2022-09-29T15:41:38.539Z"
   },
   {
    "duration": 6,
    "start_time": "2022-09-29T15:41:38.548Z"
   },
   {
    "duration": 49,
    "start_time": "2022-09-29T15:41:38.556Z"
   },
   {
    "duration": 1,
    "start_time": "2022-09-29T15:41:38.607Z"
   },
   {
    "duration": 0,
    "start_time": "2022-09-29T15:41:38.609Z"
   },
   {
    "duration": 0,
    "start_time": "2022-09-29T15:41:38.610Z"
   },
   {
    "duration": 0,
    "start_time": "2022-09-29T15:41:38.611Z"
   },
   {
    "duration": 0,
    "start_time": "2022-09-29T15:41:38.613Z"
   },
   {
    "duration": 0,
    "start_time": "2022-09-29T15:41:38.614Z"
   },
   {
    "duration": 0,
    "start_time": "2022-09-29T15:41:38.616Z"
   },
   {
    "duration": 0,
    "start_time": "2022-09-29T15:41:38.617Z"
   },
   {
    "duration": 0,
    "start_time": "2022-09-29T15:41:38.619Z"
   },
   {
    "duration": 0,
    "start_time": "2022-09-29T15:41:38.621Z"
   },
   {
    "duration": 0,
    "start_time": "2022-09-29T15:41:38.622Z"
   },
   {
    "duration": 0,
    "start_time": "2022-09-29T15:41:38.623Z"
   },
   {
    "duration": 0,
    "start_time": "2022-09-29T15:41:38.625Z"
   },
   {
    "duration": 0,
    "start_time": "2022-09-29T15:41:38.626Z"
   },
   {
    "duration": 0,
    "start_time": "2022-09-29T15:41:38.627Z"
   },
   {
    "duration": 0,
    "start_time": "2022-09-29T15:41:38.629Z"
   },
   {
    "duration": 0,
    "start_time": "2022-09-29T15:41:38.630Z"
   },
   {
    "duration": 0,
    "start_time": "2022-09-29T15:41:38.632Z"
   },
   {
    "duration": 0,
    "start_time": "2022-09-29T15:41:38.633Z"
   },
   {
    "duration": 0,
    "start_time": "2022-09-29T15:41:38.634Z"
   },
   {
    "duration": 0,
    "start_time": "2022-09-29T15:41:38.635Z"
   },
   {
    "duration": 0,
    "start_time": "2022-09-29T15:41:38.636Z"
   },
   {
    "duration": 0,
    "start_time": "2022-09-29T15:41:38.637Z"
   },
   {
    "duration": 4,
    "start_time": "2022-09-29T15:42:10.729Z"
   },
   {
    "duration": 8,
    "start_time": "2022-09-29T15:42:10.735Z"
   },
   {
    "duration": 7,
    "start_time": "2022-09-29T15:42:10.745Z"
   },
   {
    "duration": 8,
    "start_time": "2022-09-29T15:42:10.754Z"
   },
   {
    "duration": 8,
    "start_time": "2022-09-29T15:42:10.764Z"
   },
   {
    "duration": 366,
    "start_time": "2022-09-29T15:42:10.773Z"
   },
   {
    "duration": 54,
    "start_time": "2022-09-29T15:42:11.140Z"
   },
   {
    "duration": 56,
    "start_time": "2022-09-29T15:42:11.196Z"
   },
   {
    "duration": 72,
    "start_time": "2022-09-29T15:42:11.254Z"
   },
   {
    "duration": 34,
    "start_time": "2022-09-29T15:42:11.328Z"
   },
   {
    "duration": 81,
    "start_time": "2022-09-29T15:42:30.907Z"
   },
   {
    "duration": 5,
    "start_time": "2022-09-29T15:43:21.490Z"
   },
   {
    "duration": 5,
    "start_time": "2022-09-29T15:43:31.183Z"
   },
   {
    "duration": 5,
    "start_time": "2022-09-29T15:43:43.250Z"
   },
   {
    "duration": 5,
    "start_time": "2022-09-29T15:43:43.506Z"
   },
   {
    "duration": 57,
    "start_time": "2022-09-29T15:43:47.947Z"
   },
   {
    "duration": 4,
    "start_time": "2022-09-29T15:44:21.249Z"
   },
   {
    "duration": 5,
    "start_time": "2022-09-29T15:44:21.254Z"
   },
   {
    "duration": 7,
    "start_time": "2022-09-29T15:44:21.260Z"
   },
   {
    "duration": 6,
    "start_time": "2022-09-29T15:44:21.269Z"
   },
   {
    "duration": 7,
    "start_time": "2022-09-29T15:44:21.277Z"
   },
   {
    "duration": 367,
    "start_time": "2022-09-29T15:44:21.285Z"
   },
   {
    "duration": 45,
    "start_time": "2022-09-29T15:44:21.653Z"
   },
   {
    "duration": 43,
    "start_time": "2022-09-29T15:44:21.708Z"
   },
   {
    "duration": 61,
    "start_time": "2022-09-29T15:44:21.752Z"
   },
   {
    "duration": 111,
    "start_time": "2022-09-29T15:44:21.815Z"
   },
   {
    "duration": 5,
    "start_time": "2022-09-29T15:44:55.130Z"
   },
   {
    "duration": 4,
    "start_time": "2022-09-29T15:45:00.031Z"
   },
   {
    "duration": 22,
    "start_time": "2022-09-29T15:45:00.037Z"
   },
   {
    "duration": 14,
    "start_time": "2022-09-29T15:45:00.061Z"
   },
   {
    "duration": 10,
    "start_time": "2022-09-29T15:45:00.077Z"
   },
   {
    "duration": 26,
    "start_time": "2022-09-29T15:45:00.089Z"
   },
   {
    "duration": 400,
    "start_time": "2022-09-29T15:45:00.116Z"
   },
   {
    "duration": 46,
    "start_time": "2022-09-29T15:45:00.518Z"
   },
   {
    "duration": 83,
    "start_time": "2022-09-29T15:45:00.566Z"
   },
   {
    "duration": 79,
    "start_time": "2022-09-29T15:45:00.650Z"
   },
   {
    "duration": 100,
    "start_time": "2022-09-29T15:45:00.731Z"
   },
   {
    "duration": 121,
    "start_time": "2022-09-29T16:23:18.929Z"
   },
   {
    "duration": 4,
    "start_time": "2022-09-29T16:23:35.283Z"
   },
   {
    "duration": 51,
    "start_time": "2022-09-29T16:23:35.289Z"
   },
   {
    "duration": 27,
    "start_time": "2022-09-29T16:23:35.341Z"
   },
   {
    "duration": 46,
    "start_time": "2022-09-29T16:23:35.370Z"
   },
   {
    "duration": 77,
    "start_time": "2022-09-29T16:23:35.418Z"
   },
   {
    "duration": 364,
    "start_time": "2022-09-29T16:23:35.497Z"
   },
   {
    "duration": 57,
    "start_time": "2022-09-29T16:23:35.862Z"
   },
   {
    "duration": 45,
    "start_time": "2022-09-29T16:23:35.920Z"
   },
   {
    "duration": 71,
    "start_time": "2022-09-29T16:23:35.967Z"
   },
   {
    "duration": 110,
    "start_time": "2022-09-29T16:23:36.041Z"
   },
   {
    "duration": 10,
    "start_time": "2022-09-29T16:23:36.153Z"
   },
   {
    "duration": 0,
    "start_time": "2022-09-29T16:23:36.164Z"
   },
   {
    "duration": 0,
    "start_time": "2022-09-29T16:23:36.166Z"
   },
   {
    "duration": 5,
    "start_time": "2022-09-29T16:26:12.240Z"
   },
   {
    "duration": 5,
    "start_time": "2022-09-29T16:31:39.663Z"
   },
   {
    "duration": 4,
    "start_time": "2022-09-29T16:31:56.580Z"
   },
   {
    "duration": 7,
    "start_time": "2022-09-29T16:31:56.586Z"
   },
   {
    "duration": 8,
    "start_time": "2022-09-29T16:31:56.594Z"
   },
   {
    "duration": 32,
    "start_time": "2022-09-29T16:31:56.603Z"
   },
   {
    "duration": 10,
    "start_time": "2022-09-29T16:31:56.636Z"
   },
   {
    "duration": 375,
    "start_time": "2022-09-29T16:31:56.647Z"
   },
   {
    "duration": 45,
    "start_time": "2022-09-29T16:31:57.024Z"
   },
   {
    "duration": 57,
    "start_time": "2022-09-29T16:31:57.070Z"
   },
   {
    "duration": 49,
    "start_time": "2022-09-29T16:31:57.129Z"
   },
   {
    "duration": 142,
    "start_time": "2022-09-29T16:31:57.180Z"
   },
   {
    "duration": 653,
    "start_time": "2022-09-29T16:32:16.180Z"
   },
   {
    "duration": 718,
    "start_time": "2022-09-29T16:32:20.905Z"
   },
   {
    "duration": 657,
    "start_time": "2022-09-29T16:32:24.111Z"
   },
   {
    "duration": 157,
    "start_time": "2022-09-29T18:01:28.374Z"
   },
   {
    "duration": 138,
    "start_time": "2022-09-29T18:01:39.197Z"
   },
   {
    "duration": 4,
    "start_time": "2022-09-29T18:02:29.796Z"
   },
   {
    "duration": 51,
    "start_time": "2022-09-29T18:02:34.589Z"
   },
   {
    "duration": 160,
    "start_time": "2022-09-29T18:02:41.801Z"
   },
   {
    "duration": 54,
    "start_time": "2022-09-29T19:06:27.181Z"
   },
   {
    "duration": 10,
    "start_time": "2022-09-29T19:06:31.472Z"
   },
   {
    "duration": 4,
    "start_time": "2022-09-29T19:06:34.448Z"
   },
   {
    "duration": 9,
    "start_time": "2022-09-29T19:06:36.213Z"
   },
   {
    "duration": 4,
    "start_time": "2022-09-29T19:08:34.598Z"
   },
   {
    "duration": 4,
    "start_time": "2022-09-29T19:14:58.604Z"
   },
   {
    "duration": 22,
    "start_time": "2022-09-29T19:14:58.610Z"
   },
   {
    "duration": 20,
    "start_time": "2022-09-29T19:14:58.634Z"
   },
   {
    "duration": 35,
    "start_time": "2022-09-29T19:14:58.657Z"
   },
   {
    "duration": 28,
    "start_time": "2022-09-29T19:14:58.695Z"
   },
   {
    "duration": 410,
    "start_time": "2022-09-29T19:14:58.725Z"
   },
   {
    "duration": 51,
    "start_time": "2022-09-29T19:14:59.137Z"
   },
   {
    "duration": 63,
    "start_time": "2022-09-29T19:14:59.190Z"
   },
   {
    "duration": 74,
    "start_time": "2022-09-29T19:14:59.254Z"
   },
   {
    "duration": 97,
    "start_time": "2022-09-29T19:14:59.329Z"
   },
   {
    "duration": 707,
    "start_time": "2022-09-29T19:14:59.427Z"
   },
   {
    "duration": 632,
    "start_time": "2022-09-29T19:15:00.136Z"
   },
   {
    "duration": 648,
    "start_time": "2022-09-29T19:15:00.770Z"
   },
   {
    "duration": 167,
    "start_time": "2022-09-29T19:15:01.421Z"
   },
   {
    "duration": 11,
    "start_time": "2022-09-29T19:15:01.609Z"
   },
   {
    "duration": 34,
    "start_time": "2022-09-29T19:15:01.622Z"
   },
   {
    "duration": 45,
    "start_time": "2022-09-29T19:15:01.657Z"
   },
   {
    "duration": 24,
    "start_time": "2022-09-29T19:15:01.703Z"
   },
   {
    "duration": 82,
    "start_time": "2022-09-29T19:15:01.729Z"
   },
   {
    "duration": 12,
    "start_time": "2022-09-29T19:15:01.813Z"
   },
   {
    "duration": 60,
    "start_time": "2022-09-29T19:15:01.827Z"
   },
   {
    "duration": 130,
    "start_time": "2022-09-29T19:15:01.908Z"
   },
   {
    "duration": 103,
    "start_time": "2022-09-29T19:15:02.108Z"
   },
   {
    "duration": 127,
    "start_time": "2022-09-29T19:15:02.213Z"
   },
   {
    "duration": 4,
    "start_time": "2022-09-29T19:21:59.160Z"
   },
   {
    "duration": 7,
    "start_time": "2022-09-29T19:22:03.040Z"
   },
   {
    "duration": 9,
    "start_time": "2022-09-29T19:29:21.140Z"
   },
   {
    "duration": 3,
    "start_time": "2022-09-29T19:29:33.288Z"
   },
   {
    "duration": 16,
    "start_time": "2022-09-29T19:29:33.298Z"
   },
   {
    "duration": 15,
    "start_time": "2022-09-29T19:29:33.316Z"
   },
   {
    "duration": 11,
    "start_time": "2022-09-29T19:29:33.332Z"
   },
   {
    "duration": 429,
    "start_time": "2022-09-29T19:29:33.344Z"
   },
   {
    "duration": 4,
    "start_time": "2022-09-29T19:29:33.775Z"
   },
   {
    "duration": 106,
    "start_time": "2022-09-29T19:29:51.100Z"
   },
   {
    "duration": 4,
    "start_time": "2022-09-29T19:30:07.149Z"
   },
   {
    "duration": 8,
    "start_time": "2022-09-29T19:30:09.712Z"
   },
   {
    "duration": 8,
    "start_time": "2022-09-29T19:30:11.204Z"
   },
   {
    "duration": 4,
    "start_time": "2022-09-29T19:30:42.001Z"
   },
   {
    "duration": 28,
    "start_time": "2022-09-29T19:30:42.006Z"
   },
   {
    "duration": 34,
    "start_time": "2022-09-29T19:30:42.035Z"
   },
   {
    "duration": 36,
    "start_time": "2022-09-29T19:30:42.070Z"
   },
   {
    "duration": 41,
    "start_time": "2022-09-29T19:30:42.108Z"
   },
   {
    "duration": 398,
    "start_time": "2022-09-29T19:30:42.151Z"
   },
   {
    "duration": 75,
    "start_time": "2022-09-29T19:30:42.552Z"
   },
   {
    "duration": 63,
    "start_time": "2022-09-29T19:30:42.629Z"
   },
   {
    "duration": 63,
    "start_time": "2022-09-29T19:30:42.709Z"
   },
   {
    "duration": 116,
    "start_time": "2022-09-29T19:30:42.774Z"
   },
   {
    "duration": 734,
    "start_time": "2022-09-29T19:30:42.892Z"
   },
   {
    "duration": 663,
    "start_time": "2022-09-29T19:30:43.628Z"
   },
   {
    "duration": 643,
    "start_time": "2022-09-29T19:30:44.293Z"
   },
   {
    "duration": 180,
    "start_time": "2022-09-29T19:30:44.939Z"
   },
   {
    "duration": 10,
    "start_time": "2022-09-29T19:30:45.120Z"
   },
   {
    "duration": 42,
    "start_time": "2022-09-29T19:30:45.132Z"
   },
   {
    "duration": 35,
    "start_time": "2022-09-29T19:30:45.176Z"
   },
   {
    "duration": 20,
    "start_time": "2022-09-29T19:30:45.213Z"
   },
   {
    "duration": 76,
    "start_time": "2022-09-29T19:30:45.235Z"
   },
   {
    "duration": 4,
    "start_time": "2022-09-29T19:30:45.313Z"
   },
   {
    "duration": 61,
    "start_time": "2022-09-29T19:30:45.319Z"
   },
   {
    "duration": 127,
    "start_time": "2022-09-29T19:30:45.382Z"
   },
   {
    "duration": 102,
    "start_time": "2022-09-29T19:30:45.511Z"
   },
   {
    "duration": 91,
    "start_time": "2022-09-29T19:30:45.618Z"
   },
   {
    "duration": 144,
    "start_time": "2022-09-29T19:30:45.714Z"
   },
   {
    "duration": 35,
    "start_time": "2022-09-29T19:30:45.860Z"
   },
   {
    "duration": 27,
    "start_time": "2022-09-29T19:30:45.897Z"
   },
   {
    "duration": 26,
    "start_time": "2022-09-29T19:30:45.926Z"
   },
   {
    "duration": 8,
    "start_time": "2022-09-29T19:37:24.646Z"
   },
   {
    "duration": 8,
    "start_time": "2022-09-29T19:38:03.404Z"
   },
   {
    "duration": 4,
    "start_time": "2022-09-29T19:58:05.295Z"
   },
   {
    "duration": 15,
    "start_time": "2022-09-29T19:58:05.302Z"
   },
   {
    "duration": 12,
    "start_time": "2022-09-29T19:58:05.318Z"
   },
   {
    "duration": 6,
    "start_time": "2022-09-29T19:58:05.332Z"
   },
   {
    "duration": 10,
    "start_time": "2022-09-29T19:58:05.340Z"
   },
   {
    "duration": 348,
    "start_time": "2022-09-29T19:58:05.351Z"
   },
   {
    "duration": 52,
    "start_time": "2022-09-29T19:58:05.701Z"
   },
   {
    "duration": 70,
    "start_time": "2022-09-29T19:58:05.755Z"
   },
   {
    "duration": 50,
    "start_time": "2022-09-29T19:58:05.827Z"
   },
   {
    "duration": 108,
    "start_time": "2022-09-29T19:58:05.878Z"
   },
   {
    "duration": 757,
    "start_time": "2022-09-29T19:58:05.987Z"
   },
   {
    "duration": 627,
    "start_time": "2022-09-29T19:58:06.745Z"
   },
   {
    "duration": 634,
    "start_time": "2022-09-29T19:58:07.373Z"
   },
   {
    "duration": 269,
    "start_time": "2022-09-29T19:58:08.009Z"
   },
   {
    "duration": 10,
    "start_time": "2022-09-29T19:58:08.280Z"
   },
   {
    "duration": 24,
    "start_time": "2022-09-29T19:58:08.292Z"
   },
   {
    "duration": 12,
    "start_time": "2022-09-29T19:58:08.317Z"
   },
   {
    "duration": 4,
    "start_time": "2022-09-29T19:58:08.331Z"
   },
   {
    "duration": 35,
    "start_time": "2022-09-29T19:58:08.336Z"
   },
   {
    "duration": 4,
    "start_time": "2022-09-29T19:58:08.373Z"
   },
   {
    "duration": 35,
    "start_time": "2022-09-29T19:58:08.379Z"
   },
   {
    "duration": 98,
    "start_time": "2022-09-29T19:58:08.416Z"
   },
   {
    "duration": 193,
    "start_time": "2022-09-29T19:58:08.517Z"
   },
   {
    "duration": 97,
    "start_time": "2022-09-29T19:58:08.714Z"
   },
   {
    "duration": 16,
    "start_time": "2022-09-29T19:58:08.813Z"
   },
   {
    "duration": 4,
    "start_time": "2022-09-29T19:58:08.831Z"
   },
   {
    "duration": 10,
    "start_time": "2022-09-29T19:58:08.837Z"
   },
   {
    "duration": 9,
    "start_time": "2022-09-29T19:58:08.849Z"
   },
   {
    "duration": 54,
    "start_time": "2022-09-29T19:58:08.859Z"
   },
   {
    "duration": 11,
    "start_time": "2022-09-29T19:58:08.915Z"
   },
   {
    "duration": 5,
    "start_time": "2022-09-29T20:02:30.469Z"
   },
   {
    "duration": 10,
    "start_time": "2022-09-29T20:02:37.294Z"
   },
   {
    "duration": 8,
    "start_time": "2022-09-29T20:03:13.197Z"
   },
   {
    "duration": 10,
    "start_time": "2022-09-29T20:03:51.522Z"
   },
   {
    "duration": 10,
    "start_time": "2022-09-29T20:04:04.748Z"
   },
   {
    "duration": 11,
    "start_time": "2022-09-29T20:04:37.601Z"
   },
   {
    "duration": 13,
    "start_time": "2022-09-29T20:05:27.024Z"
   },
   {
    "duration": 9,
    "start_time": "2022-09-29T20:05:42.072Z"
   },
   {
    "duration": 12,
    "start_time": "2022-09-29T20:06:01.241Z"
   },
   {
    "duration": 10,
    "start_time": "2022-09-29T20:06:07.373Z"
   },
   {
    "duration": 8,
    "start_time": "2022-09-29T20:06:17.765Z"
   },
   {
    "duration": 8,
    "start_time": "2022-09-29T20:06:28.980Z"
   },
   {
    "duration": 9,
    "start_time": "2022-09-29T20:06:42.006Z"
   },
   {
    "duration": 19,
    "start_time": "2022-09-29T20:06:54.648Z"
   },
   {
    "duration": 10,
    "start_time": "2022-09-29T20:07:08.316Z"
   },
   {
    "duration": 46,
    "start_time": "2022-09-29T20:16:01.463Z"
   },
   {
    "duration": 6,
    "start_time": "2022-09-29T20:26:11.547Z"
   },
   {
    "duration": 48,
    "start_time": "2022-09-29T20:32:06.825Z"
   },
   {
    "duration": 6,
    "start_time": "2022-09-29T20:33:38.083Z"
   },
   {
    "duration": 7,
    "start_time": "2022-09-29T20:33:52.172Z"
   },
   {
    "duration": 108,
    "start_time": "2022-09-29T20:34:14.817Z"
   },
   {
    "duration": 44,
    "start_time": "2022-09-29T20:34:22.341Z"
   },
   {
    "duration": 4,
    "start_time": "2022-09-29T20:40:44.444Z"
   },
   {
    "duration": 8,
    "start_time": "2022-09-29T20:40:44.450Z"
   },
   {
    "duration": 11,
    "start_time": "2022-09-29T20:40:44.461Z"
   },
   {
    "duration": 8,
    "start_time": "2022-09-29T20:40:44.473Z"
   },
   {
    "duration": 7,
    "start_time": "2022-09-29T20:40:44.483Z"
   },
   {
    "duration": 355,
    "start_time": "2022-09-29T20:40:44.492Z"
   },
   {
    "duration": 71,
    "start_time": "2022-09-29T20:40:44.849Z"
   },
   {
    "duration": 57,
    "start_time": "2022-09-29T20:40:44.922Z"
   },
   {
    "duration": 68,
    "start_time": "2022-09-29T20:40:44.980Z"
   },
   {
    "duration": 115,
    "start_time": "2022-09-29T20:40:45.049Z"
   },
   {
    "duration": 645,
    "start_time": "2022-09-29T20:40:45.166Z"
   },
   {
    "duration": 711,
    "start_time": "2022-09-29T20:40:45.812Z"
   },
   {
    "duration": 731,
    "start_time": "2022-09-29T20:40:46.525Z"
   },
   {
    "duration": 184,
    "start_time": "2022-09-29T20:40:47.257Z"
   },
   {
    "duration": 10,
    "start_time": "2022-09-29T20:40:47.443Z"
   },
   {
    "duration": 11,
    "start_time": "2022-09-29T20:40:47.455Z"
   },
   {
    "duration": 21,
    "start_time": "2022-09-29T20:40:47.468Z"
   },
   {
    "duration": 11,
    "start_time": "2022-09-29T20:40:47.490Z"
   },
   {
    "duration": 38,
    "start_time": "2022-09-29T20:40:47.502Z"
   },
   {
    "duration": 4,
    "start_time": "2022-09-29T20:40:47.542Z"
   },
   {
    "duration": 61,
    "start_time": "2022-09-29T20:40:47.548Z"
   },
   {
    "duration": 100,
    "start_time": "2022-09-29T20:40:47.611Z"
   },
   {
    "duration": 196,
    "start_time": "2022-09-29T20:40:47.713Z"
   },
   {
    "duration": 110,
    "start_time": "2022-09-29T20:40:47.911Z"
   },
   {
    "duration": 16,
    "start_time": "2022-09-29T20:40:48.023Z"
   },
   {
    "duration": 5,
    "start_time": "2022-09-29T20:41:32.552Z"
   },
   {
    "duration": 9,
    "start_time": "2022-09-29T20:41:32.559Z"
   },
   {
    "duration": 12,
    "start_time": "2022-09-29T20:41:32.569Z"
   },
   {
    "duration": 15,
    "start_time": "2022-09-29T20:41:32.583Z"
   },
   {
    "duration": 32,
    "start_time": "2022-09-29T20:41:32.600Z"
   },
   {
    "duration": 370,
    "start_time": "2022-09-29T20:41:32.634Z"
   },
   {
    "duration": 53,
    "start_time": "2022-09-29T20:41:33.005Z"
   },
   {
    "duration": 72,
    "start_time": "2022-09-29T20:41:33.059Z"
   },
   {
    "duration": 50,
    "start_time": "2022-09-29T20:41:33.132Z"
   },
   {
    "duration": 126,
    "start_time": "2022-09-29T20:41:33.184Z"
   },
   {
    "duration": 641,
    "start_time": "2022-09-29T20:41:33.311Z"
   },
   {
    "duration": 623,
    "start_time": "2022-09-29T20:41:33.954Z"
   },
   {
    "duration": 746,
    "start_time": "2022-09-29T20:41:34.580Z"
   },
   {
    "duration": 160,
    "start_time": "2022-09-29T20:41:35.329Z"
   },
   {
    "duration": 11,
    "start_time": "2022-09-29T20:41:35.508Z"
   },
   {
    "duration": 13,
    "start_time": "2022-09-29T20:41:35.520Z"
   },
   {
    "duration": 12,
    "start_time": "2022-09-29T20:41:35.534Z"
   },
   {
    "duration": 4,
    "start_time": "2022-09-29T20:41:35.547Z"
   },
   {
    "duration": 57,
    "start_time": "2022-09-29T20:41:35.552Z"
   },
   {
    "duration": 4,
    "start_time": "2022-09-29T20:41:35.610Z"
   },
   {
    "duration": 26,
    "start_time": "2022-09-29T20:41:35.616Z"
   },
   {
    "duration": 103,
    "start_time": "2022-09-29T20:41:35.709Z"
   },
   {
    "duration": 207,
    "start_time": "2022-09-29T20:41:35.814Z"
   },
   {
    "duration": 88,
    "start_time": "2022-09-29T20:41:36.023Z"
   },
   {
    "duration": 109,
    "start_time": "2022-09-29T20:41:36.113Z"
   },
   {
    "duration": 3,
    "start_time": "2022-09-29T20:41:36.223Z"
   },
   {
    "duration": 11,
    "start_time": "2022-09-29T20:41:36.227Z"
   },
   {
    "duration": 11,
    "start_time": "2022-09-29T20:41:36.239Z"
   },
   {
    "duration": 4,
    "start_time": "2022-09-29T20:41:36.251Z"
   },
   {
    "duration": 10,
    "start_time": "2022-09-29T20:41:36.257Z"
   },
   {
    "duration": 4,
    "start_time": "2022-09-29T20:41:48.495Z"
   },
   {
    "duration": 13,
    "start_time": "2022-09-29T20:41:48.501Z"
   },
   {
    "duration": 8,
    "start_time": "2022-09-29T20:41:48.515Z"
   },
   {
    "duration": 11,
    "start_time": "2022-09-29T20:41:48.525Z"
   },
   {
    "duration": 12,
    "start_time": "2022-09-29T20:41:48.538Z"
   },
   {
    "duration": 357,
    "start_time": "2022-09-29T20:41:48.552Z"
   },
   {
    "duration": 59,
    "start_time": "2022-09-29T20:41:48.911Z"
   },
   {
    "duration": 74,
    "start_time": "2022-09-29T20:41:48.971Z"
   },
   {
    "duration": 84,
    "start_time": "2022-09-29T20:41:49.048Z"
   },
   {
    "duration": 110,
    "start_time": "2022-09-29T20:41:49.134Z"
   },
   {
    "duration": 648,
    "start_time": "2022-09-29T20:41:49.245Z"
   },
   {
    "duration": 640,
    "start_time": "2022-09-29T20:41:49.895Z"
   },
   {
    "duration": 749,
    "start_time": "2022-09-29T20:41:50.536Z"
   },
   {
    "duration": 184,
    "start_time": "2022-09-29T20:41:51.287Z"
   },
   {
    "duration": 10,
    "start_time": "2022-09-29T20:41:51.473Z"
   },
   {
    "duration": 32,
    "start_time": "2022-09-29T20:41:51.485Z"
   },
   {
    "duration": 31,
    "start_time": "2022-09-29T20:41:51.519Z"
   },
   {
    "duration": 4,
    "start_time": "2022-09-29T20:41:51.552Z"
   },
   {
    "duration": 39,
    "start_time": "2022-09-29T20:41:51.557Z"
   },
   {
    "duration": 3,
    "start_time": "2022-09-29T20:41:51.598Z"
   },
   {
    "duration": 21,
    "start_time": "2022-09-29T20:41:51.603Z"
   },
   {
    "duration": 94,
    "start_time": "2022-09-29T20:41:51.627Z"
   },
   {
    "duration": 126,
    "start_time": "2022-09-29T20:41:51.810Z"
   },
   {
    "duration": 171,
    "start_time": "2022-09-29T20:41:51.941Z"
   },
   {
    "duration": 18,
    "start_time": "2022-09-29T20:41:52.113Z"
   },
   {
    "duration": 9,
    "start_time": "2022-09-29T20:41:52.133Z"
   },
   {
    "duration": 18,
    "start_time": "2022-09-29T20:41:52.143Z"
   },
   {
    "duration": 9,
    "start_time": "2022-09-29T20:41:52.162Z"
   },
   {
    "duration": 18,
    "start_time": "2022-09-29T20:41:52.173Z"
   },
   {
    "duration": 11,
    "start_time": "2022-09-29T20:41:52.192Z"
   },
   {
    "duration": 87,
    "start_time": "2022-09-29T20:41:52.205Z"
   },
   {
    "duration": 0,
    "start_time": "2022-09-29T20:41:52.294Z"
   },
   {
    "duration": 10,
    "start_time": "2022-09-29T20:42:04.284Z"
   },
   {
    "duration": 5,
    "start_time": "2022-09-29T20:42:09.486Z"
   },
   {
    "duration": 14,
    "start_time": "2022-09-29T20:42:09.494Z"
   },
   {
    "duration": 14,
    "start_time": "2022-09-29T20:42:09.509Z"
   },
   {
    "duration": 11,
    "start_time": "2022-09-29T20:42:09.526Z"
   },
   {
    "duration": 30,
    "start_time": "2022-09-29T20:42:09.538Z"
   },
   {
    "duration": 354,
    "start_time": "2022-09-29T20:42:09.569Z"
   },
   {
    "duration": 50,
    "start_time": "2022-09-29T20:42:09.925Z"
   },
   {
    "duration": 64,
    "start_time": "2022-09-29T20:42:09.976Z"
   },
   {
    "duration": 68,
    "start_time": "2022-09-29T20:42:10.042Z"
   },
   {
    "duration": 109,
    "start_time": "2022-09-29T20:42:10.112Z"
   },
   {
    "duration": 636,
    "start_time": "2022-09-29T20:42:10.223Z"
   },
   {
    "duration": 615,
    "start_time": "2022-09-29T20:42:10.861Z"
   },
   {
    "duration": 734,
    "start_time": "2022-09-29T20:42:11.478Z"
   },
   {
    "duration": 174,
    "start_time": "2022-09-29T20:42:12.214Z"
   },
   {
    "duration": 16,
    "start_time": "2022-09-29T20:42:12.410Z"
   },
   {
    "duration": 27,
    "start_time": "2022-09-29T20:42:12.427Z"
   },
   {
    "duration": 12,
    "start_time": "2022-09-29T20:42:12.456Z"
   },
   {
    "duration": 4,
    "start_time": "2022-09-29T20:42:12.470Z"
   },
   {
    "duration": 86,
    "start_time": "2022-09-29T20:42:12.475Z"
   },
   {
    "duration": 6,
    "start_time": "2022-09-29T20:42:12.562Z"
   },
   {
    "duration": 39,
    "start_time": "2022-09-29T20:42:12.570Z"
   },
   {
    "duration": 234,
    "start_time": "2022-09-29T20:42:12.611Z"
   },
   {
    "duration": 175,
    "start_time": "2022-09-29T20:42:12.848Z"
   },
   {
    "duration": 182,
    "start_time": "2022-09-29T20:42:13.029Z"
   },
   {
    "duration": 29,
    "start_time": "2022-09-29T20:42:13.212Z"
   },
   {
    "duration": 23,
    "start_time": "2022-09-29T20:42:13.243Z"
   },
   {
    "duration": 17,
    "start_time": "2022-09-29T20:42:13.267Z"
   },
   {
    "duration": 23,
    "start_time": "2022-09-29T20:42:13.287Z"
   },
   {
    "duration": 10,
    "start_time": "2022-09-29T20:42:13.312Z"
   },
   {
    "duration": 37,
    "start_time": "2022-09-29T20:42:13.323Z"
   },
   {
    "duration": 11,
    "start_time": "2022-09-29T20:42:13.362Z"
   },
   {
    "duration": 11,
    "start_time": "2022-09-29T20:42:49.479Z"
   },
   {
    "duration": 12,
    "start_time": "2022-09-29T20:50:15.761Z"
   },
   {
    "duration": 4,
    "start_time": "2022-09-29T20:50:19.866Z"
   },
   {
    "duration": 4,
    "start_time": "2022-09-29T20:50:30.008Z"
   },
   {
    "duration": 9,
    "start_time": "2022-09-29T20:50:30.014Z"
   },
   {
    "duration": 13,
    "start_time": "2022-09-29T20:50:30.025Z"
   },
   {
    "duration": 25,
    "start_time": "2022-09-29T20:50:30.040Z"
   },
   {
    "duration": 23,
    "start_time": "2022-09-29T20:50:30.066Z"
   },
   {
    "duration": 362,
    "start_time": "2022-09-29T20:50:30.091Z"
   },
   {
    "duration": 64,
    "start_time": "2022-09-29T20:50:30.455Z"
   },
   {
    "duration": 54,
    "start_time": "2022-09-29T20:50:30.521Z"
   },
   {
    "duration": 81,
    "start_time": "2022-09-29T20:50:30.579Z"
   },
   {
    "duration": 123,
    "start_time": "2022-09-29T20:50:30.662Z"
   },
   {
    "duration": 654,
    "start_time": "2022-09-29T20:50:30.787Z"
   },
   {
    "duration": 718,
    "start_time": "2022-09-29T20:50:31.443Z"
   },
   {
    "duration": 727,
    "start_time": "2022-09-29T20:50:32.163Z"
   },
   {
    "duration": 179,
    "start_time": "2022-09-29T20:50:32.892Z"
   },
   {
    "duration": 10,
    "start_time": "2022-09-29T20:50:33.072Z"
   },
   {
    "duration": 32,
    "start_time": "2022-09-29T20:50:33.083Z"
   },
   {
    "duration": 10,
    "start_time": "2022-09-29T20:50:33.117Z"
   },
   {
    "duration": 5,
    "start_time": "2022-09-29T20:50:33.129Z"
   },
   {
    "duration": 39,
    "start_time": "2022-09-29T20:50:33.136Z"
   },
   {
    "duration": 4,
    "start_time": "2022-09-29T20:50:33.177Z"
   },
   {
    "duration": 28,
    "start_time": "2022-09-29T20:50:33.182Z"
   },
   {
    "duration": 198,
    "start_time": "2022-09-29T20:50:33.212Z"
   },
   {
    "duration": 106,
    "start_time": "2022-09-29T20:50:33.412Z"
   },
   {
    "duration": 89,
    "start_time": "2022-09-29T20:50:33.522Z"
   },
   {
    "duration": 102,
    "start_time": "2022-09-29T20:50:33.613Z"
   },
   {
    "duration": 6,
    "start_time": "2022-09-29T20:50:33.716Z"
   },
   {
    "duration": 11,
    "start_time": "2022-09-29T20:50:33.724Z"
   },
   {
    "duration": 7,
    "start_time": "2022-09-29T20:50:33.737Z"
   },
   {
    "duration": 4,
    "start_time": "2022-09-29T20:50:33.745Z"
   },
   {
    "duration": 11,
    "start_time": "2022-09-29T20:50:33.750Z"
   },
   {
    "duration": 12,
    "start_time": "2022-09-29T20:50:33.763Z"
   },
   {
    "duration": 35,
    "start_time": "2022-09-29T20:50:33.776Z"
   },
   {
    "duration": 12,
    "start_time": "2022-09-29T20:50:33.813Z"
   },
   {
    "duration": 13,
    "start_time": "2022-09-29T20:50:33.827Z"
   },
   {
    "duration": 5,
    "start_time": "2022-09-29T21:07:35.585Z"
   },
   {
    "duration": 4,
    "start_time": "2022-09-29T21:09:20.066Z"
   },
   {
    "duration": 16,
    "start_time": "2022-09-29T21:09:20.071Z"
   },
   {
    "duration": 6,
    "start_time": "2022-09-29T21:09:20.089Z"
   },
   {
    "duration": 11,
    "start_time": "2022-09-29T21:09:20.097Z"
   },
   {
    "duration": 8,
    "start_time": "2022-09-29T21:09:20.110Z"
   },
   {
    "duration": 344,
    "start_time": "2022-09-29T21:09:20.119Z"
   },
   {
    "duration": 56,
    "start_time": "2022-09-29T21:09:20.465Z"
   },
   {
    "duration": 50,
    "start_time": "2022-09-29T21:09:20.523Z"
   },
   {
    "duration": 72,
    "start_time": "2022-09-29T21:09:20.576Z"
   },
   {
    "duration": 121,
    "start_time": "2022-09-29T21:09:20.649Z"
   },
   {
    "duration": 647,
    "start_time": "2022-09-29T21:09:20.772Z"
   },
   {
    "duration": 731,
    "start_time": "2022-09-29T21:09:21.421Z"
   },
   {
    "duration": 729,
    "start_time": "2022-09-29T21:09:22.154Z"
   },
   {
    "duration": 175,
    "start_time": "2022-09-29T21:09:22.885Z"
   },
   {
    "duration": 12,
    "start_time": "2022-09-29T21:09:23.062Z"
   },
   {
    "duration": 37,
    "start_time": "2022-09-29T21:09:23.075Z"
   },
   {
    "duration": 11,
    "start_time": "2022-09-29T21:09:23.114Z"
   },
   {
    "duration": 4,
    "start_time": "2022-09-29T21:09:23.127Z"
   },
   {
    "duration": 39,
    "start_time": "2022-09-29T21:09:23.132Z"
   },
   {
    "duration": 4,
    "start_time": "2022-09-29T21:09:23.173Z"
   },
   {
    "duration": 47,
    "start_time": "2022-09-29T21:09:23.179Z"
   },
   {
    "duration": 181,
    "start_time": "2022-09-29T21:09:23.228Z"
   },
   {
    "duration": 113,
    "start_time": "2022-09-29T21:09:23.411Z"
   },
   {
    "duration": 4,
    "start_time": "2022-09-29T21:09:23.527Z"
   },
   {
    "duration": 193,
    "start_time": "2022-09-29T21:09:23.532Z"
   },
   {
    "duration": 9,
    "start_time": "2022-09-29T21:09:23.728Z"
   },
   {
    "duration": 18,
    "start_time": "2022-09-29T21:09:23.739Z"
   },
   {
    "duration": 8,
    "start_time": "2022-09-29T21:09:23.759Z"
   },
   {
    "duration": 4,
    "start_time": "2022-09-29T21:09:23.770Z"
   },
   {
    "duration": 13,
    "start_time": "2022-09-29T21:09:23.776Z"
   },
   {
    "duration": 25,
    "start_time": "2022-09-29T21:09:23.790Z"
   },
   {
    "duration": 7,
    "start_time": "2022-09-29T21:09:23.817Z"
   },
   {
    "duration": 5,
    "start_time": "2022-09-29T21:09:23.825Z"
   },
   {
    "duration": 9,
    "start_time": "2022-09-29T21:09:23.832Z"
   },
   {
    "duration": 19,
    "start_time": "2022-09-29T21:09:23.843Z"
   },
   {
    "duration": 7,
    "start_time": "2022-09-29T21:12:05.519Z"
   },
   {
    "duration": 7,
    "start_time": "2022-09-29T21:12:11.266Z"
   },
   {
    "duration": 9,
    "start_time": "2022-09-29T21:12:46.420Z"
   },
   {
    "duration": 774,
    "start_time": "2022-09-29T21:22:36.449Z"
   },
   {
    "duration": 832,
    "start_time": "2022-09-29T21:23:41.794Z"
   },
   {
    "duration": 762,
    "start_time": "2022-09-29T21:24:12.781Z"
   },
   {
    "duration": 751,
    "start_time": "2022-09-29T21:24:21.244Z"
   },
   {
    "duration": 574,
    "start_time": "2022-09-29T21:25:05.889Z"
   },
   {
    "duration": 4,
    "start_time": "2022-09-29T21:30:40.442Z"
   },
   {
    "duration": 9,
    "start_time": "2022-09-29T21:30:42.302Z"
   },
   {
    "duration": 4,
    "start_time": "2022-09-29T21:30:47.404Z"
   },
   {
    "duration": 4,
    "start_time": "2022-09-29T21:30:51.186Z"
   },
   {
    "duration": 10,
    "start_time": "2022-09-29T21:30:57.107Z"
   },
   {
    "duration": 570,
    "start_time": "2022-09-29T21:31:19.398Z"
   },
   {
    "duration": 621,
    "start_time": "2022-09-29T21:32:12.624Z"
   },
   {
    "duration": 581,
    "start_time": "2022-09-29T21:32:28.156Z"
   },
   {
    "duration": 632,
    "start_time": "2022-09-29T21:32:42.514Z"
   },
   {
    "duration": 594,
    "start_time": "2022-09-29T21:32:49.609Z"
   },
   {
    "duration": 630,
    "start_time": "2022-09-29T21:33:13.693Z"
   },
   {
    "duration": 575,
    "start_time": "2022-09-29T21:33:25.372Z"
   },
   {
    "duration": 590,
    "start_time": "2022-09-29T21:34:12.763Z"
   },
   {
    "duration": 583,
    "start_time": "2022-09-29T21:34:18.347Z"
   },
   {
    "duration": 574,
    "start_time": "2022-09-29T21:34:21.315Z"
   },
   {
    "duration": 611,
    "start_time": "2022-09-29T21:34:24.409Z"
   },
   {
    "duration": 10,
    "start_time": "2022-09-29T21:40:15.628Z"
   },
   {
    "duration": 9,
    "start_time": "2022-09-29T21:42:58.045Z"
   },
   {
    "duration": 15,
    "start_time": "2022-09-29T21:43:22.296Z"
   },
   {
    "duration": 48,
    "start_time": "2022-09-29T21:44:07.796Z"
   },
   {
    "duration": 12,
    "start_time": "2022-09-29T21:44:16.745Z"
   },
   {
    "duration": 11,
    "start_time": "2022-09-29T21:45:01.254Z"
   },
   {
    "duration": 11,
    "start_time": "2022-09-29T21:45:19.031Z"
   },
   {
    "duration": 15,
    "start_time": "2022-09-29T21:51:56.852Z"
   },
   {
    "duration": 13,
    "start_time": "2022-09-29T21:52:07.409Z"
   },
   {
    "duration": 18,
    "start_time": "2022-09-29T21:53:42.562Z"
   },
   {
    "duration": 632,
    "start_time": "2022-09-29T21:53:44.122Z"
   },
   {
    "duration": 10,
    "start_time": "2022-09-29T21:54:32.210Z"
   },
   {
    "duration": 605,
    "start_time": "2022-09-29T21:54:34.133Z"
   },
   {
    "duration": 4,
    "start_time": "2022-09-29T21:55:18.463Z"
   },
   {
    "duration": 12,
    "start_time": "2022-09-29T21:55:18.469Z"
   },
   {
    "duration": 18,
    "start_time": "2022-09-29T21:55:18.482Z"
   },
   {
    "duration": 18,
    "start_time": "2022-09-29T21:55:18.502Z"
   },
   {
    "duration": 20,
    "start_time": "2022-09-29T21:55:18.522Z"
   },
   {
    "duration": 364,
    "start_time": "2022-09-29T21:55:18.543Z"
   },
   {
    "duration": 52,
    "start_time": "2022-09-29T21:55:18.908Z"
   },
   {
    "duration": 88,
    "start_time": "2022-09-29T21:55:18.962Z"
   },
   {
    "duration": 70,
    "start_time": "2022-09-29T21:55:19.052Z"
   },
   {
    "duration": 116,
    "start_time": "2022-09-29T21:55:19.124Z"
   },
   {
    "duration": 657,
    "start_time": "2022-09-29T21:55:19.242Z"
   },
   {
    "duration": 727,
    "start_time": "2022-09-29T21:55:19.900Z"
   },
   {
    "duration": 646,
    "start_time": "2022-09-29T21:55:20.629Z"
   },
   {
    "duration": 181,
    "start_time": "2022-09-29T21:55:21.276Z"
   },
   {
    "duration": 11,
    "start_time": "2022-09-29T21:55:21.459Z"
   },
   {
    "duration": 19,
    "start_time": "2022-09-29T21:55:21.471Z"
   },
   {
    "duration": 25,
    "start_time": "2022-09-29T21:55:21.492Z"
   },
   {
    "duration": 4,
    "start_time": "2022-09-29T21:55:21.519Z"
   },
   {
    "duration": 43,
    "start_time": "2022-09-29T21:55:21.525Z"
   },
   {
    "duration": 4,
    "start_time": "2022-09-29T21:55:21.570Z"
   },
   {
    "duration": 34,
    "start_time": "2022-09-29T21:55:21.575Z"
   },
   {
    "duration": 100,
    "start_time": "2022-09-29T21:55:21.611Z"
   },
   {
    "duration": 107,
    "start_time": "2022-09-29T21:55:21.713Z"
   },
   {
    "duration": 88,
    "start_time": "2022-09-29T21:55:21.822Z"
   },
   {
    "duration": 103,
    "start_time": "2022-09-29T21:55:21.912Z"
   },
   {
    "duration": 12,
    "start_time": "2022-09-29T21:55:22.017Z"
   },
   {
    "duration": 14,
    "start_time": "2022-09-29T21:55:22.031Z"
   },
   {
    "duration": 9,
    "start_time": "2022-09-29T21:55:22.047Z"
   },
   {
    "duration": 5,
    "start_time": "2022-09-29T21:55:22.058Z"
   },
   {
    "duration": 11,
    "start_time": "2022-09-29T21:55:22.065Z"
   },
   {
    "duration": 34,
    "start_time": "2022-09-29T21:55:22.078Z"
   },
   {
    "duration": 4,
    "start_time": "2022-09-29T21:55:22.114Z"
   },
   {
    "duration": 6,
    "start_time": "2022-09-29T21:55:22.120Z"
   },
   {
    "duration": 20,
    "start_time": "2022-09-29T21:55:22.128Z"
   },
   {
    "duration": 8,
    "start_time": "2022-09-29T21:55:22.149Z"
   },
   {
    "duration": 698,
    "start_time": "2022-09-29T21:55:22.158Z"
   },
   {
    "duration": 0,
    "start_time": "2022-09-29T21:55:22.858Z"
   },
   {
    "duration": 21,
    "start_time": "2022-09-29T21:56:27.720Z"
   },
   {
    "duration": 13,
    "start_time": "2022-09-29T21:57:43.073Z"
   },
   {
    "duration": 556,
    "start_time": "2022-09-29T21:57:54.981Z"
   },
   {
    "duration": 583,
    "start_time": "2022-09-29T21:58:06.716Z"
   },
   {
    "duration": 611,
    "start_time": "2022-09-29T21:58:36.414Z"
   },
   {
    "duration": 583,
    "start_time": "2022-09-29T21:58:55.485Z"
   },
   {
    "duration": 5559,
    "start_time": "2022-09-29T21:59:52.480Z"
   },
   {
    "duration": 597,
    "start_time": "2022-09-29T22:01:57.920Z"
   },
   {
    "duration": 636,
    "start_time": "2022-09-29T22:02:43.478Z"
   },
   {
    "duration": 583,
    "start_time": "2022-09-29T22:02:54.770Z"
   },
   {
    "duration": 571,
    "start_time": "2022-09-29T22:04:11.610Z"
   },
   {
    "duration": 602,
    "start_time": "2022-09-29T22:05:03.369Z"
   },
   {
    "duration": 3078,
    "start_time": "2022-09-29T22:06:54.901Z"
   },
   {
    "duration": 3049,
    "start_time": "2022-09-29T22:07:16.824Z"
   },
   {
    "duration": 2777,
    "start_time": "2022-09-29T22:07:32.776Z"
   },
   {
    "duration": 4736,
    "start_time": "2022-09-29T22:07:36.246Z"
   },
   {
    "duration": 1692,
    "start_time": "2022-09-29T22:07:44.682Z"
   },
   {
    "duration": 1780,
    "start_time": "2022-09-29T22:08:01.410Z"
   },
   {
    "duration": 7,
    "start_time": "2022-09-29T22:08:04.718Z"
   },
   {
    "duration": 1718,
    "start_time": "2022-09-29T22:08:34.047Z"
   },
   {
    "duration": 6,
    "start_time": "2022-09-29T22:08:37.302Z"
   },
   {
    "duration": 1730,
    "start_time": "2022-09-29T22:08:53.136Z"
   },
   {
    "duration": 8,
    "start_time": "2022-09-29T22:09:37.913Z"
   },
   {
    "duration": 1724,
    "start_time": "2022-09-29T22:09:39.333Z"
   },
   {
    "duration": 6,
    "start_time": "2022-09-29T22:09:42.733Z"
   },
   {
    "duration": 1790,
    "start_time": "2022-09-29T22:10:03.303Z"
   },
   {
    "duration": 1766,
    "start_time": "2022-09-29T22:10:22.648Z"
   },
   {
    "duration": 10,
    "start_time": "2022-09-29T22:10:25.954Z"
   },
   {
    "duration": 621,
    "start_time": "2022-09-29T22:11:46.378Z"
   },
   {
    "duration": 600,
    "start_time": "2022-09-29T22:12:05.034Z"
   },
   {
    "duration": 1781,
    "start_time": "2022-09-29T22:13:10.660Z"
   },
   {
    "duration": 17,
    "start_time": "2022-09-29T22:13:14.030Z"
   },
   {
    "duration": 9,
    "start_time": "2022-09-29T22:14:07.858Z"
   },
   {
    "duration": 1762,
    "start_time": "2022-09-29T22:14:09.309Z"
   },
   {
    "duration": 10,
    "start_time": "2022-09-29T22:14:12.852Z"
   },
   {
    "duration": 1790,
    "start_time": "2022-09-29T22:16:23.957Z"
   },
   {
    "duration": 11,
    "start_time": "2022-09-29T22:16:27.139Z"
   },
   {
    "duration": 8,
    "start_time": "2022-09-29T22:16:30.244Z"
   },
   {
    "duration": 1772,
    "start_time": "2022-09-29T22:16:31.632Z"
   },
   {
    "duration": 9,
    "start_time": "2022-09-29T22:16:35.191Z"
   },
   {
    "duration": 55,
    "start_time": "2022-09-29T22:17:42.328Z"
   },
   {
    "duration": 7,
    "start_time": "2022-09-29T22:19:42.857Z"
   },
   {
    "duration": 1845,
    "start_time": "2022-09-29T22:21:50.802Z"
   },
   {
    "duration": 1719,
    "start_time": "2022-09-29T22:24:38.610Z"
   },
   {
    "duration": 8,
    "start_time": "2022-09-29T22:24:42.328Z"
   },
   {
    "duration": 1777,
    "start_time": "2022-09-29T22:24:43.710Z"
   },
   {
    "duration": 9,
    "start_time": "2022-09-29T22:24:47.080Z"
   },
   {
    "duration": 5,
    "start_time": "2022-09-29T22:36:10.591Z"
   },
   {
    "duration": 1810,
    "start_time": "2022-09-29T22:36:11.904Z"
   },
   {
    "duration": 9,
    "start_time": "2022-09-29T22:36:15.871Z"
   },
   {
    "duration": 36,
    "start_time": "2022-09-29T22:56:58.904Z"
   },
   {
    "duration": 55,
    "start_time": "2022-09-29T22:57:29.368Z"
   },
   {
    "duration": 30,
    "start_time": "2022-09-29T22:58:07.925Z"
   },
   {
    "duration": 84,
    "start_time": "2022-09-29T22:59:21.944Z"
   },
   {
    "duration": 114,
    "start_time": "2022-09-29T22:59:47.631Z"
   },
   {
    "duration": 1446,
    "start_time": "2022-09-29T23:01:05.365Z"
   },
   {
    "duration": 3,
    "start_time": "2022-09-29T23:01:06.813Z"
   },
   {
    "duration": 7,
    "start_time": "2022-09-29T23:01:06.818Z"
   },
   {
    "duration": 9,
    "start_time": "2022-09-29T23:01:06.827Z"
   },
   {
    "duration": 11,
    "start_time": "2022-09-29T23:01:06.838Z"
   },
   {
    "duration": 359,
    "start_time": "2022-09-29T23:01:06.850Z"
   },
   {
    "duration": 59,
    "start_time": "2022-09-29T23:01:07.211Z"
   },
   {
    "duration": 74,
    "start_time": "2022-09-29T23:01:07.272Z"
   },
   {
    "duration": 68,
    "start_time": "2022-09-29T23:01:07.347Z"
   },
   {
    "duration": 115,
    "start_time": "2022-09-29T23:01:07.418Z"
   },
   {
    "duration": 668,
    "start_time": "2022-09-29T23:01:07.535Z"
   },
   {
    "duration": 707,
    "start_time": "2022-09-29T23:01:08.209Z"
   },
   {
    "duration": 643,
    "start_time": "2022-09-29T23:01:08.918Z"
   },
   {
    "duration": 175,
    "start_time": "2022-09-29T23:01:09.562Z"
   },
   {
    "duration": 10,
    "start_time": "2022-09-29T23:01:09.739Z"
   },
   {
    "duration": 12,
    "start_time": "2022-09-29T23:01:09.751Z"
   },
   {
    "duration": 13,
    "start_time": "2022-09-29T23:01:09.765Z"
   },
   {
    "duration": 29,
    "start_time": "2022-09-29T23:01:09.780Z"
   },
   {
    "duration": 42,
    "start_time": "2022-09-29T23:01:09.810Z"
   },
   {
    "duration": 121,
    "start_time": "2022-09-29T23:01:09.854Z"
   },
   {
    "duration": 4,
    "start_time": "2022-09-29T23:01:09.976Z"
   },
   {
    "duration": 31,
    "start_time": "2022-09-29T23:01:09.981Z"
   },
   {
    "duration": 201,
    "start_time": "2022-09-29T23:01:10.014Z"
   },
   {
    "duration": 93,
    "start_time": "2022-09-29T23:01:10.217Z"
   },
   {
    "duration": 99,
    "start_time": "2022-09-29T23:01:10.312Z"
   },
   {
    "duration": 111,
    "start_time": "2022-09-29T23:01:10.413Z"
   },
   {
    "duration": 8,
    "start_time": "2022-09-29T23:01:10.525Z"
   },
   {
    "duration": 12,
    "start_time": "2022-09-29T23:01:10.536Z"
   },
   {
    "duration": 10,
    "start_time": "2022-09-29T23:01:10.549Z"
   },
   {
    "duration": 12,
    "start_time": "2022-09-29T23:01:10.560Z"
   },
   {
    "duration": 12,
    "start_time": "2022-09-29T23:01:10.574Z"
   },
   {
    "duration": 3,
    "start_time": "2022-09-29T23:01:10.587Z"
   },
   {
    "duration": 18,
    "start_time": "2022-09-29T23:01:10.592Z"
   },
   {
    "duration": 14,
    "start_time": "2022-09-29T23:01:10.611Z"
   },
   {
    "duration": 8,
    "start_time": "2022-09-29T23:01:10.626Z"
   },
   {
    "duration": 126,
    "start_time": "2022-09-29T23:01:10.635Z"
   },
   {
    "duration": 0,
    "start_time": "2022-09-29T23:01:10.762Z"
   },
   {
    "duration": 1298,
    "start_time": "2022-09-29T23:01:36.054Z"
   },
   {
    "duration": 3,
    "start_time": "2022-09-29T23:01:37.355Z"
   },
   {
    "duration": 27,
    "start_time": "2022-09-29T23:01:37.359Z"
   },
   {
    "duration": 51,
    "start_time": "2022-09-29T23:01:37.388Z"
   },
   {
    "duration": 46,
    "start_time": "2022-09-29T23:01:37.441Z"
   },
   {
    "duration": 389,
    "start_time": "2022-09-29T23:01:37.488Z"
   },
   {
    "duration": 70,
    "start_time": "2022-09-29T23:01:37.878Z"
   },
   {
    "duration": 75,
    "start_time": "2022-09-29T23:01:37.950Z"
   },
   {
    "duration": 51,
    "start_time": "2022-09-29T23:01:38.027Z"
   },
   {
    "duration": 128,
    "start_time": "2022-09-29T23:01:38.081Z"
   },
   {
    "duration": 662,
    "start_time": "2022-09-29T23:01:38.210Z"
   },
   {
    "duration": 704,
    "start_time": "2022-09-29T23:01:38.874Z"
   },
   {
    "duration": 633,
    "start_time": "2022-09-29T23:01:39.579Z"
   },
   {
    "duration": 168,
    "start_time": "2022-09-29T23:01:40.213Z"
   },
   {
    "duration": 27,
    "start_time": "2022-09-29T23:01:40.383Z"
   },
   {
    "duration": 15,
    "start_time": "2022-09-29T23:01:40.411Z"
   },
   {
    "duration": 20,
    "start_time": "2022-09-29T23:01:40.428Z"
   },
   {
    "duration": 10,
    "start_time": "2022-09-29T23:01:40.449Z"
   },
   {
    "duration": 57,
    "start_time": "2022-09-29T23:01:40.461Z"
   },
   {
    "duration": 138,
    "start_time": "2022-09-29T23:01:40.520Z"
   },
   {
    "duration": 3,
    "start_time": "2022-09-29T23:01:40.660Z"
   },
   {
    "duration": 44,
    "start_time": "2022-09-29T23:01:40.665Z"
   },
   {
    "duration": 188,
    "start_time": "2022-09-29T23:01:40.722Z"
   },
   {
    "duration": 123,
    "start_time": "2022-09-29T23:01:40.912Z"
   },
   {
    "duration": 80,
    "start_time": "2022-09-29T23:01:41.037Z"
   },
   {
    "duration": 39,
    "start_time": "2022-09-29T23:01:41.208Z"
   },
   {
    "duration": 7,
    "start_time": "2022-09-29T23:01:41.249Z"
   },
   {
    "duration": 44,
    "start_time": "2022-09-29T23:01:41.259Z"
   },
   {
    "duration": 29,
    "start_time": "2022-09-29T23:01:41.305Z"
   },
   {
    "duration": 33,
    "start_time": "2022-09-29T23:01:41.336Z"
   },
   {
    "duration": 36,
    "start_time": "2022-09-29T23:01:41.370Z"
   },
   {
    "duration": 5,
    "start_time": "2022-09-29T23:01:41.407Z"
   },
   {
    "duration": 34,
    "start_time": "2022-09-29T23:01:41.413Z"
   },
   {
    "duration": 41,
    "start_time": "2022-09-29T23:01:41.449Z"
   },
   {
    "duration": 16,
    "start_time": "2022-09-29T23:01:41.491Z"
   },
   {
    "duration": 696,
    "start_time": "2022-09-29T23:01:41.508Z"
   },
   {
    "duration": 0,
    "start_time": "2022-09-29T23:01:42.206Z"
   },
   {
    "duration": 1478,
    "start_time": "2022-09-29T23:02:10.176Z"
   },
   {
    "duration": 4,
    "start_time": "2022-09-29T23:02:11.656Z"
   },
   {
    "duration": 14,
    "start_time": "2022-09-29T23:02:11.662Z"
   },
   {
    "duration": 17,
    "start_time": "2022-09-29T23:02:11.679Z"
   },
   {
    "duration": 16,
    "start_time": "2022-09-29T23:02:11.697Z"
   },
   {
    "duration": 391,
    "start_time": "2022-09-29T23:02:11.715Z"
   },
   {
    "duration": 62,
    "start_time": "2022-09-29T23:02:12.108Z"
   },
   {
    "duration": 81,
    "start_time": "2022-09-29T23:02:12.171Z"
   },
   {
    "duration": 91,
    "start_time": "2022-09-29T23:02:12.254Z"
   },
   {
    "duration": 123,
    "start_time": "2022-09-29T23:02:12.349Z"
   },
   {
    "duration": 810,
    "start_time": "2022-09-29T23:02:12.474Z"
   },
   {
    "duration": 721,
    "start_time": "2022-09-29T23:02:13.286Z"
   },
   {
    "duration": 728,
    "start_time": "2022-09-29T23:02:14.009Z"
   },
   {
    "duration": 195,
    "start_time": "2022-09-29T23:02:14.739Z"
   },
   {
    "duration": 11,
    "start_time": "2022-09-29T23:02:14.935Z"
   },
   {
    "duration": 17,
    "start_time": "2022-09-29T23:02:14.948Z"
   },
   {
    "duration": 16,
    "start_time": "2022-09-29T23:02:14.966Z"
   },
   {
    "duration": 30,
    "start_time": "2022-09-29T23:02:14.983Z"
   },
   {
    "duration": 76,
    "start_time": "2022-09-29T23:02:15.015Z"
   },
   {
    "duration": 177,
    "start_time": "2022-09-29T23:02:15.093Z"
   },
   {
    "duration": 5,
    "start_time": "2022-09-29T23:02:15.272Z"
   },
   {
    "duration": 230,
    "start_time": "2022-09-29T23:02:15.279Z"
   },
   {
    "duration": 19,
    "start_time": "2022-09-29T23:02:15.511Z"
   },
   {
    "duration": 187,
    "start_time": "2022-09-29T23:02:15.532Z"
   },
   {
    "duration": 190,
    "start_time": "2022-09-29T23:02:15.721Z"
   },
   {
    "duration": 25,
    "start_time": "2022-09-29T23:02:15.913Z"
   },
   {
    "duration": 8,
    "start_time": "2022-09-29T23:02:15.939Z"
   },
   {
    "duration": 11,
    "start_time": "2022-09-29T23:02:15.950Z"
   },
   {
    "duration": 7,
    "start_time": "2022-09-29T23:02:15.963Z"
   },
   {
    "duration": 10,
    "start_time": "2022-09-29T23:02:15.971Z"
   },
   {
    "duration": 28,
    "start_time": "2022-09-29T23:02:15.982Z"
   },
   {
    "duration": 3,
    "start_time": "2022-09-29T23:02:16.012Z"
   },
   {
    "duration": 10,
    "start_time": "2022-09-29T23:02:16.017Z"
   },
   {
    "duration": 20,
    "start_time": "2022-09-29T23:02:16.029Z"
   },
   {
    "duration": 11,
    "start_time": "2022-09-29T23:02:16.051Z"
   },
   {
    "duration": 1862,
    "start_time": "2022-09-29T23:02:16.064Z"
   },
   {
    "duration": 8,
    "start_time": "2022-09-29T23:02:17.928Z"
   },
   {
    "duration": 55,
    "start_time": "2022-09-30T10:48:30.914Z"
   },
   {
    "duration": 1576,
    "start_time": "2022-09-30T10:48:41.561Z"
   },
   {
    "duration": 3,
    "start_time": "2022-09-30T10:48:43.139Z"
   },
   {
    "duration": 29,
    "start_time": "2022-09-30T10:48:43.144Z"
   },
   {
    "duration": 6,
    "start_time": "2022-09-30T10:48:43.174Z"
   },
   {
    "duration": 6,
    "start_time": "2022-09-30T10:48:43.181Z"
   },
   {
    "duration": 776,
    "start_time": "2022-09-30T10:48:43.189Z"
   },
   {
    "duration": 61,
    "start_time": "2022-09-30T10:48:43.967Z"
   },
   {
    "duration": 52,
    "start_time": "2022-09-30T10:48:44.030Z"
   },
   {
    "duration": 71,
    "start_time": "2022-09-30T10:48:44.084Z"
   },
   {
    "duration": 126,
    "start_time": "2022-09-30T10:48:44.158Z"
   },
   {
    "duration": 690,
    "start_time": "2022-09-30T10:48:44.286Z"
   },
   {
    "duration": 734,
    "start_time": "2022-09-30T10:48:44.977Z"
   },
   {
    "duration": 726,
    "start_time": "2022-09-30T10:48:45.712Z"
   },
   {
    "duration": 196,
    "start_time": "2022-09-30T10:48:46.440Z"
   },
   {
    "duration": 11,
    "start_time": "2022-09-30T10:48:46.637Z"
   },
   {
    "duration": 15,
    "start_time": "2022-09-30T10:48:46.649Z"
   },
   {
    "duration": 15,
    "start_time": "2022-09-30T10:48:46.666Z"
   },
   {
    "duration": 11,
    "start_time": "2022-09-30T10:48:46.682Z"
   },
   {
    "duration": 54,
    "start_time": "2022-09-30T10:48:46.694Z"
   },
   {
    "duration": 135,
    "start_time": "2022-09-30T10:48:46.750Z"
   },
   {
    "duration": 4,
    "start_time": "2022-09-30T10:48:46.887Z"
   },
   {
    "duration": 41,
    "start_time": "2022-09-30T10:48:46.893Z"
   },
   {
    "duration": 200,
    "start_time": "2022-09-30T10:48:46.936Z"
   },
   {
    "duration": 108,
    "start_time": "2022-09-30T10:48:47.138Z"
   },
   {
    "duration": 185,
    "start_time": "2022-09-30T10:48:47.249Z"
   },
   {
    "duration": 16,
    "start_time": "2022-09-30T10:48:47.436Z"
   },
   {
    "duration": 12,
    "start_time": "2022-09-30T10:48:47.453Z"
   },
   {
    "duration": 28,
    "start_time": "2022-09-30T10:48:47.468Z"
   },
   {
    "duration": 8,
    "start_time": "2022-09-30T10:48:47.497Z"
   },
   {
    "duration": 15,
    "start_time": "2022-09-30T10:48:47.506Z"
   },
   {
    "duration": 19,
    "start_time": "2022-09-30T10:48:47.523Z"
   },
   {
    "duration": 13,
    "start_time": "2022-09-30T10:48:47.544Z"
   },
   {
    "duration": 35,
    "start_time": "2022-09-30T10:48:47.558Z"
   },
   {
    "duration": 28,
    "start_time": "2022-09-30T10:48:47.595Z"
   },
   {
    "duration": 12,
    "start_time": "2022-09-30T10:48:47.625Z"
   },
   {
    "duration": 774,
    "start_time": "2022-09-30T10:48:47.639Z"
   },
   {
    "duration": 0,
    "start_time": "2022-09-30T10:48:48.414Z"
   },
   {
    "duration": 2098,
    "start_time": "2022-09-30T10:49:14.901Z"
   },
   {
    "duration": 9,
    "start_time": "2022-09-30T10:49:20.592Z"
   },
   {
    "duration": 680,
    "start_time": "2022-09-30T10:53:22.485Z"
   },
   {
    "duration": 1505,
    "start_time": "2022-09-30T10:53:52.100Z"
   },
   {
    "duration": 2112,
    "start_time": "2022-09-30T10:54:21.769Z"
   },
   {
    "duration": 2038,
    "start_time": "2022-09-30T10:54:30.412Z"
   },
   {
    "duration": 3,
    "start_time": "2022-09-30T11:45:31.454Z"
   },
   {
    "duration": 47,
    "start_time": "2022-09-30T11:47:13.729Z"
   },
   {
    "duration": 2090,
    "start_time": "2022-09-30T11:50:45.443Z"
   },
   {
    "duration": 10,
    "start_time": "2022-09-30T11:50:48.548Z"
   },
   {
    "duration": 5,
    "start_time": "2022-09-30T11:51:42.800Z"
   },
   {
    "duration": 5,
    "start_time": "2022-09-30T11:52:08.146Z"
   },
   {
    "duration": 2038,
    "start_time": "2022-09-30T11:52:13.439Z"
   },
   {
    "duration": 10,
    "start_time": "2022-09-30T11:52:16.073Z"
   },
   {
    "duration": 5,
    "start_time": "2022-09-30T11:52:39.943Z"
   },
   {
    "duration": 9,
    "start_time": "2022-09-30T11:52:45.365Z"
   },
   {
    "duration": 4,
    "start_time": "2022-09-30T11:52:52.232Z"
   },
   {
    "duration": 10,
    "start_time": "2022-09-30T11:54:49.673Z"
   },
   {
    "duration": 28,
    "start_time": "2022-09-30T11:54:54.902Z"
   },
   {
    "duration": 2176,
    "start_time": "2022-09-30T11:59:14.792Z"
   },
   {
    "duration": 1327,
    "start_time": "2022-09-30T12:03:06.558Z"
   },
   {
    "duration": 3,
    "start_time": "2022-09-30T12:03:07.887Z"
   },
   {
    "duration": 8,
    "start_time": "2022-09-30T12:03:07.891Z"
   },
   {
    "duration": 11,
    "start_time": "2022-09-30T12:03:07.901Z"
   },
   {
    "duration": 13,
    "start_time": "2022-09-30T12:03:07.913Z"
   },
   {
    "duration": 405,
    "start_time": "2022-09-30T12:03:07.928Z"
   },
   {
    "duration": 63,
    "start_time": "2022-09-30T12:03:08.335Z"
   },
   {
    "duration": 74,
    "start_time": "2022-09-30T12:03:08.400Z"
   },
   {
    "duration": 83,
    "start_time": "2022-09-30T12:03:08.476Z"
   },
   {
    "duration": 119,
    "start_time": "2022-09-30T12:03:08.561Z"
   },
   {
    "duration": 732,
    "start_time": "2022-09-30T12:03:08.682Z"
   },
   {
    "duration": 786,
    "start_time": "2022-09-30T12:03:09.415Z"
   },
   {
    "duration": 695,
    "start_time": "2022-09-30T12:03:10.203Z"
   },
   {
    "duration": 192,
    "start_time": "2022-09-30T12:03:10.900Z"
   },
   {
    "duration": 12,
    "start_time": "2022-09-30T12:03:11.094Z"
   },
   {
    "duration": 39,
    "start_time": "2022-09-30T12:03:11.108Z"
   },
   {
    "duration": 15,
    "start_time": "2022-09-30T12:03:11.149Z"
   },
   {
    "duration": 16,
    "start_time": "2022-09-30T12:03:11.166Z"
   },
   {
    "duration": 54,
    "start_time": "2022-09-30T12:03:11.184Z"
   },
   {
    "duration": 139,
    "start_time": "2022-09-30T12:03:11.239Z"
   },
   {
    "duration": 4,
    "start_time": "2022-09-30T12:03:11.379Z"
   },
   {
    "duration": 60,
    "start_time": "2022-09-30T12:03:11.384Z"
   },
   {
    "duration": 101,
    "start_time": "2022-09-30T12:03:11.446Z"
   },
   {
    "duration": 94,
    "start_time": "2022-09-30T12:03:11.549Z"
   },
   {
    "duration": 210,
    "start_time": "2022-09-30T12:03:11.645Z"
   },
   {
    "duration": 26,
    "start_time": "2022-09-30T12:03:11.857Z"
   },
   {
    "duration": 6,
    "start_time": "2022-09-30T12:03:11.885Z"
   },
   {
    "duration": 11,
    "start_time": "2022-09-30T12:03:11.896Z"
   },
   {
    "duration": 10,
    "start_time": "2022-09-30T12:03:11.909Z"
   },
   {
    "duration": 17,
    "start_time": "2022-09-30T12:03:11.920Z"
   },
   {
    "duration": 38,
    "start_time": "2022-09-30T12:03:11.938Z"
   },
   {
    "duration": 4,
    "start_time": "2022-09-30T12:03:11.978Z"
   },
   {
    "duration": 24,
    "start_time": "2022-09-30T12:03:11.983Z"
   },
   {
    "duration": 38,
    "start_time": "2022-09-30T12:03:12.009Z"
   },
   {
    "duration": 21,
    "start_time": "2022-09-30T12:03:12.049Z"
   },
   {
    "duration": 2035,
    "start_time": "2022-09-30T12:03:12.072Z"
   },
   {
    "duration": 8,
    "start_time": "2022-09-30T12:03:14.109Z"
   },
   {
    "duration": 1446,
    "start_time": "2022-09-30T12:03:43.800Z"
   },
   {
    "duration": 4,
    "start_time": "2022-09-30T12:03:45.247Z"
   },
   {
    "duration": 16,
    "start_time": "2022-09-30T12:03:45.253Z"
   },
   {
    "duration": 7,
    "start_time": "2022-09-30T12:03:45.271Z"
   },
   {
    "duration": 14,
    "start_time": "2022-09-30T12:03:45.281Z"
   },
   {
    "duration": 393,
    "start_time": "2022-09-30T12:03:45.297Z"
   },
   {
    "duration": 67,
    "start_time": "2022-09-30T12:03:45.692Z"
   },
   {
    "duration": 93,
    "start_time": "2022-09-30T12:03:45.762Z"
   },
   {
    "duration": 80,
    "start_time": "2022-09-30T12:03:45.857Z"
   },
   {
    "duration": 116,
    "start_time": "2022-09-30T12:03:45.939Z"
   },
   {
    "duration": 759,
    "start_time": "2022-09-30T12:03:46.057Z"
   },
   {
    "duration": 744,
    "start_time": "2022-09-30T12:03:46.818Z"
   },
   {
    "duration": 723,
    "start_time": "2022-09-30T12:03:47.564Z"
   },
   {
    "duration": 175,
    "start_time": "2022-09-30T12:03:48.290Z"
   },
   {
    "duration": 10,
    "start_time": "2022-09-30T12:03:48.467Z"
   },
   {
    "duration": 20,
    "start_time": "2022-09-30T12:03:48.478Z"
   },
   {
    "duration": 33,
    "start_time": "2022-09-30T12:03:48.500Z"
   },
   {
    "duration": 4,
    "start_time": "2022-09-30T12:03:48.535Z"
   },
   {
    "duration": 53,
    "start_time": "2022-09-30T12:03:48.541Z"
   },
   {
    "duration": 139,
    "start_time": "2022-09-30T12:03:48.596Z"
   },
   {
    "duration": 5,
    "start_time": "2022-09-30T12:03:48.738Z"
   },
   {
    "duration": 90,
    "start_time": "2022-09-30T12:03:48.745Z"
   },
   {
    "duration": 105,
    "start_time": "2022-09-30T12:03:48.838Z"
   },
   {
    "duration": 203,
    "start_time": "2022-09-30T12:03:48.946Z"
   },
   {
    "duration": 190,
    "start_time": "2022-09-30T12:03:49.152Z"
   },
   {
    "duration": 32,
    "start_time": "2022-09-30T12:03:49.344Z"
   },
   {
    "duration": 16,
    "start_time": "2022-09-30T12:03:49.378Z"
   },
   {
    "duration": 13,
    "start_time": "2022-09-30T12:03:49.396Z"
   },
   {
    "duration": 18,
    "start_time": "2022-09-30T12:03:49.410Z"
   },
   {
    "duration": 28,
    "start_time": "2022-09-30T12:03:49.429Z"
   },
   {
    "duration": 24,
    "start_time": "2022-09-30T12:03:49.459Z"
   },
   {
    "duration": 10,
    "start_time": "2022-09-30T12:03:49.484Z"
   },
   {
    "duration": 21,
    "start_time": "2022-09-30T12:03:49.496Z"
   },
   {
    "duration": 42,
    "start_time": "2022-09-30T12:03:49.518Z"
   },
   {
    "duration": 15,
    "start_time": "2022-09-30T12:03:49.562Z"
   },
   {
    "duration": 2046,
    "start_time": "2022-09-30T12:03:49.579Z"
   },
   {
    "duration": 9,
    "start_time": "2022-09-30T12:03:51.627Z"
   },
   {
    "duration": 2083,
    "start_time": "2022-09-30T12:04:25.262Z"
   },
   {
    "duration": 9,
    "start_time": "2022-09-30T12:04:28.035Z"
   },
   {
    "duration": 106,
    "start_time": "2022-09-30T12:06:20.216Z"
   },
   {
    "duration": 86,
    "start_time": "2022-09-30T12:06:35.404Z"
   },
   {
    "duration": 79,
    "start_time": "2022-09-30T12:07:52.097Z"
   },
   {
    "duration": 1954,
    "start_time": "2022-09-30T12:08:03.100Z"
   },
   {
    "duration": 9,
    "start_time": "2022-09-30T12:08:10.800Z"
   },
   {
    "duration": 18,
    "start_time": "2022-09-30T12:08:41.028Z"
   },
   {
    "duration": 2029,
    "start_time": "2022-09-30T12:08:50.436Z"
   },
   {
    "duration": 2085,
    "start_time": "2022-09-30T12:09:45.566Z"
   },
   {
    "duration": 9,
    "start_time": "2022-09-30T12:09:50.821Z"
   },
   {
    "duration": 9,
    "start_time": "2022-09-30T12:10:59.404Z"
   },
   {
    "duration": 1993,
    "start_time": "2022-09-30T12:12:07.073Z"
   },
   {
    "duration": 9,
    "start_time": "2022-09-30T12:12:12.833Z"
   },
   {
    "duration": 2175,
    "start_time": "2022-09-30T12:12:50.022Z"
   },
   {
    "duration": 2307,
    "start_time": "2022-09-30T12:13:14.537Z"
   },
   {
    "duration": 2393,
    "start_time": "2022-09-30T12:13:30.316Z"
   },
   {
    "duration": 2265,
    "start_time": "2022-09-30T12:13:38.319Z"
   },
   {
    "duration": 2307,
    "start_time": "2022-09-30T12:13:57.997Z"
   },
   {
    "duration": 2384,
    "start_time": "2022-09-30T12:14:18.704Z"
   },
   {
    "duration": 2362,
    "start_time": "2022-09-30T12:14:29.435Z"
   },
   {
    "duration": 2469,
    "start_time": "2022-09-30T12:14:35.973Z"
   },
   {
    "duration": 2551,
    "start_time": "2022-09-30T12:14:58.203Z"
   },
   {
    "duration": 4187,
    "start_time": "2022-09-30T12:15:06.101Z"
   },
   {
    "duration": 2571,
    "start_time": "2022-09-30T12:15:13.606Z"
   },
   {
    "duration": 2402,
    "start_time": "2022-09-30T12:15:20.036Z"
   },
   {
    "duration": 2946,
    "start_time": "2022-09-30T12:15:44.003Z"
   },
   {
    "duration": 2710,
    "start_time": "2022-09-30T12:16:24.524Z"
   },
   {
    "duration": 925,
    "start_time": "2022-09-30T12:26:26.371Z"
   },
   {
    "duration": 871,
    "start_time": "2022-09-30T12:27:30.450Z"
   },
   {
    "duration": 866,
    "start_time": "2022-09-30T12:27:57.248Z"
   },
   {
    "duration": 750,
    "start_time": "2022-09-30T12:29:55.704Z"
   },
   {
    "duration": 2725,
    "start_time": "2022-09-30T12:30:18.121Z"
   },
   {
    "duration": 2727,
    "start_time": "2022-09-30T12:30:40.622Z"
   },
   {
    "duration": 2806,
    "start_time": "2022-09-30T12:30:53.909Z"
   },
   {
    "duration": 2672,
    "start_time": "2022-09-30T12:32:12.437Z"
   },
   {
    "duration": 2651,
    "start_time": "2022-09-30T12:32:19.377Z"
   },
   {
    "duration": 2825,
    "start_time": "2022-09-30T12:32:49.605Z"
   },
   {
    "duration": 2660,
    "start_time": "2022-09-30T12:33:32.175Z"
   },
   {
    "duration": 2656,
    "start_time": "2022-09-30T12:33:50.517Z"
   },
   {
    "duration": 2683,
    "start_time": "2022-09-30T12:34:13.180Z"
   },
   {
    "duration": 2680,
    "start_time": "2022-09-30T12:38:08.715Z"
   },
   {
    "duration": 9,
    "start_time": "2022-09-30T12:47:41.321Z"
   },
   {
    "duration": 1334,
    "start_time": "2022-09-30T12:54:23.175Z"
   },
   {
    "duration": 4,
    "start_time": "2022-09-30T12:54:24.511Z"
   },
   {
    "duration": 11,
    "start_time": "2022-09-30T12:54:24.516Z"
   },
   {
    "duration": 13,
    "start_time": "2022-09-30T12:54:24.529Z"
   },
   {
    "duration": 9,
    "start_time": "2022-09-30T12:54:24.544Z"
   },
   {
    "duration": 378,
    "start_time": "2022-09-30T12:54:24.555Z"
   },
   {
    "duration": 62,
    "start_time": "2022-09-30T12:54:24.935Z"
   },
   {
    "duration": 76,
    "start_time": "2022-09-30T12:54:24.999Z"
   },
   {
    "duration": 73,
    "start_time": "2022-09-30T12:54:25.077Z"
   },
   {
    "duration": 120,
    "start_time": "2022-09-30T12:54:25.153Z"
   },
   {
    "duration": 659,
    "start_time": "2022-09-30T12:54:25.275Z"
   },
   {
    "duration": 826,
    "start_time": "2022-09-30T12:54:25.935Z"
   },
   {
    "duration": 661,
    "start_time": "2022-09-30T12:54:26.763Z"
   },
   {
    "duration": 172,
    "start_time": "2022-09-30T12:54:27.425Z"
   },
   {
    "duration": 11,
    "start_time": "2022-09-30T12:54:27.598Z"
   },
   {
    "duration": 32,
    "start_time": "2022-09-30T12:54:27.610Z"
   },
   {
    "duration": 14,
    "start_time": "2022-09-30T12:54:27.644Z"
   },
   {
    "duration": 3,
    "start_time": "2022-09-30T12:54:27.660Z"
   },
   {
    "duration": 40,
    "start_time": "2022-09-30T12:54:27.665Z"
   },
   {
    "duration": 148,
    "start_time": "2022-09-30T12:54:27.707Z"
   },
   {
    "duration": 3,
    "start_time": "2022-09-30T12:54:27.857Z"
   },
   {
    "duration": 22,
    "start_time": "2022-09-30T12:54:27.861Z"
   },
   {
    "duration": 152,
    "start_time": "2022-09-30T12:54:27.884Z"
   },
   {
    "duration": 195,
    "start_time": "2022-09-30T12:54:28.039Z"
   },
   {
    "duration": 6,
    "start_time": "2022-09-30T12:54:28.237Z"
   },
   {
    "duration": 13,
    "start_time": "2022-09-30T12:54:28.335Z"
   },
   {
    "duration": 10,
    "start_time": "2022-09-30T12:54:28.349Z"
   },
   {
    "duration": 10,
    "start_time": "2022-09-30T12:54:28.363Z"
   },
   {
    "duration": 8,
    "start_time": "2022-09-30T12:54:28.375Z"
   },
   {
    "duration": 11,
    "start_time": "2022-09-30T12:54:28.385Z"
   },
   {
    "duration": 38,
    "start_time": "2022-09-30T12:54:28.398Z"
   },
   {
    "duration": 3,
    "start_time": "2022-09-30T12:54:28.438Z"
   },
   {
    "duration": 9,
    "start_time": "2022-09-30T12:54:28.443Z"
   },
   {
    "duration": 16,
    "start_time": "2022-09-30T12:54:28.454Z"
   },
   {
    "duration": 7,
    "start_time": "2022-09-30T12:54:28.472Z"
   },
   {
    "duration": 2732,
    "start_time": "2022-09-30T12:54:28.481Z"
   },
   {
    "duration": 9,
    "start_time": "2022-09-30T12:54:31.214Z"
   },
   {
    "duration": 47,
    "start_time": "2022-09-30T12:55:55.799Z"
   },
   {
    "duration": 45,
    "start_time": "2022-09-30T12:56:28.717Z"
   },
   {
    "duration": 1282,
    "start_time": "2022-09-30T13:05:33.071Z"
   },
   {
    "duration": 4,
    "start_time": "2022-09-30T13:05:34.355Z"
   },
   {
    "duration": 9,
    "start_time": "2022-09-30T13:05:34.360Z"
   },
   {
    "duration": 8,
    "start_time": "2022-09-30T13:05:34.370Z"
   },
   {
    "duration": 9,
    "start_time": "2022-09-30T13:05:34.380Z"
   },
   {
    "duration": 374,
    "start_time": "2022-09-30T13:05:34.390Z"
   },
   {
    "duration": 68,
    "start_time": "2022-09-30T13:05:34.765Z"
   },
   {
    "duration": 54,
    "start_time": "2022-09-30T13:05:34.835Z"
   },
   {
    "duration": 76,
    "start_time": "2022-09-30T13:05:34.891Z"
   },
   {
    "duration": 120,
    "start_time": "2022-09-30T13:05:34.969Z"
   },
   {
    "duration": 689,
    "start_time": "2022-09-30T13:05:35.091Z"
   },
   {
    "duration": 829,
    "start_time": "2022-09-30T13:05:35.782Z"
   },
   {
    "duration": 673,
    "start_time": "2022-09-30T13:05:36.613Z"
   },
   {
    "duration": 178,
    "start_time": "2022-09-30T13:05:37.288Z"
   },
   {
    "duration": 11,
    "start_time": "2022-09-30T13:05:37.468Z"
   },
   {
    "duration": 17,
    "start_time": "2022-09-30T13:05:37.480Z"
   },
   {
    "duration": 35,
    "start_time": "2022-09-30T13:05:37.498Z"
   },
   {
    "duration": 4,
    "start_time": "2022-09-30T13:05:37.535Z"
   },
   {
    "duration": 46,
    "start_time": "2022-09-30T13:05:37.540Z"
   },
   {
    "duration": 145,
    "start_time": "2022-09-30T13:05:37.587Z"
   },
   {
    "duration": 4,
    "start_time": "2022-09-30T13:05:37.734Z"
   },
   {
    "duration": 20,
    "start_time": "2022-09-30T13:05:37.740Z"
   },
   {
    "duration": 81,
    "start_time": "2022-09-30T13:05:37.761Z"
   },
   {
    "duration": 117,
    "start_time": "2022-09-30T13:05:37.938Z"
   },
   {
    "duration": 73,
    "start_time": "2022-09-30T13:05:38.062Z"
   },
   {
    "duration": 109,
    "start_time": "2022-09-30T13:05:38.137Z"
   },
   {
    "duration": 5,
    "start_time": "2022-09-30T13:05:38.249Z"
   },
   {
    "duration": 11,
    "start_time": "2022-09-30T13:05:38.256Z"
   },
   {
    "duration": 10,
    "start_time": "2022-09-30T13:05:38.269Z"
   },
   {
    "duration": 12,
    "start_time": "2022-09-30T13:05:38.281Z"
   },
   {
    "duration": 12,
    "start_time": "2022-09-30T13:05:38.294Z"
   },
   {
    "duration": 4,
    "start_time": "2022-09-30T13:05:38.307Z"
   },
   {
    "duration": 23,
    "start_time": "2022-09-30T13:05:38.312Z"
   },
   {
    "duration": 20,
    "start_time": "2022-09-30T13:05:38.337Z"
   },
   {
    "duration": 7,
    "start_time": "2022-09-30T13:05:38.359Z"
   },
   {
    "duration": 2746,
    "start_time": "2022-09-30T13:05:38.368Z"
   },
   {
    "duration": 9,
    "start_time": "2022-09-30T13:05:41.116Z"
   }
  ],
  "kernelspec": {
   "display_name": "Python 3 (ipykernel)",
   "language": "python",
   "name": "python3"
  },
  "language_info": {
   "codemirror_mode": {
    "name": "ipython",
    "version": 3
   },
   "file_extension": ".py",
   "mimetype": "text/x-python",
   "name": "python",
   "nbconvert_exporter": "python",
   "pygments_lexer": "ipython3",
   "version": "3.9.13"
  },
  "toc": {
   "base_numbering": 1,
   "nav_menu": {},
   "number_sections": true,
   "sideBar": true,
   "skip_h1_title": true,
   "title_cell": "Table of Contents",
   "title_sidebar": "Contents",
   "toc_cell": true,
   "toc_position": {
    "height": "calc(100% - 180px)",
    "left": "10px",
    "top": "150px",
    "width": "494.188px"
   },
   "toc_section_display": true,
   "toc_window_display": true
  }
 },
 "nbformat": 4,
 "nbformat_minor": 2
}
