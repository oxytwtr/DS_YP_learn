{
 "cells": [
  {
   "cell_type": "markdown",
   "metadata": {
    "toc": true
   },
   "source": [
    "<h1>Содержание<span class=\"tocSkip\"></span></h1>\n",
    "<div class=\"toc\"><ul class=\"toc-item\"><li><span><a href=\"#Подготовка-данных\" data-toc-modified-id=\"Подготовка-данных-1\"><span class=\"toc-item-num\">1&nbsp;&nbsp;</span>Подготовка данных</a></span><ul class=\"toc-item\"><li><span><a href=\"#Загрузка-данных-и-первичное-знакомство-с-данными\" data-toc-modified-id=\"Загрузка-данных-и-первичное-знакомство-с-данными-1.1\"><span class=\"toc-item-num\">1.1&nbsp;&nbsp;</span>Загрузка данных и первичное знакомство с данными</a></span></li><li><span><a href=\"#Предобрабтка-данных\" data-toc-modified-id=\"Предобрабтка-данных-1.2\"><span class=\"toc-item-num\">1.2&nbsp;&nbsp;</span>Предобрабтка данных</a></span><ul class=\"toc-item\"><li><span><a href=\"#Оценка-пропусков,-дубликатов-и-уникальных-значений\" data-toc-modified-id=\"Оценка-пропусков,-дубликатов-и-уникальных-значений-1.2.1\"><span class=\"toc-item-num\">1.2.1&nbsp;&nbsp;</span>Оценка пропусков, дубликатов и уникальных значений</a></span></li><li><span><a href=\"#Сводная-таблица-признаков\" data-toc-modified-id=\"Сводная-таблица-признаков-1.2.2\"><span class=\"toc-item-num\">1.2.2&nbsp;&nbsp;</span>Сводная таблица признаков</a></span></li><li><span><a href=\"#Преобразовывание-типов-данных\" data-toc-modified-id=\"Преобразовывание-типов-данных-1.2.3\"><span class=\"toc-item-num\">1.2.3&nbsp;&nbsp;</span>Преобразовывание типов данных</a></span></li><li><span><a href=\"#Оценка-и-удаление-полных-дубликатов-строк\" data-toc-modified-id=\"Оценка-и-удаление-полных-дубликатов-строк-1.2.4\"><span class=\"toc-item-num\">1.2.4&nbsp;&nbsp;</span>Оценка и удаление полных дубликатов строк</a></span></li><li><span><a href=\"#Оценка-и-удаление-неявных-дубликатов-в-значениях-признаков\" data-toc-modified-id=\"Оценка-и-удаление-неявных-дубликатов-в-значениях-признаков-1.2.5\"><span class=\"toc-item-num\">1.2.5&nbsp;&nbsp;</span>Оценка и удаление неявных дубликатов в значениях признаков</a></span></li><li><span><a href=\"#Замена-пропусков-в-значениях-признаков,-согласно-правилам-из-сводной-таблицы-признаков\" data-toc-modified-id=\"Замена-пропусков-в-значениях-признаков,-согласно-правилам-из-сводной-таблицы-признаков-1.2.6\"><span class=\"toc-item-num\">1.2.6&nbsp;&nbsp;</span>Замена пропусков в значениях признаков, согласно правилам из сводной таблицы признаков</a></span></li><li><span><a href=\"#Обработка-выявленных-выбросов-в-значениях-признаков\" data-toc-modified-id=\"Обработка-выявленных-выбросов-в-значениях-признаков-1.2.7\"><span class=\"toc-item-num\">1.2.7&nbsp;&nbsp;</span>Обработка выявленных выбросов в значениях признаков</a></span></li><li><span><a href=\"#Удаление-неинформативных-признаков,-согласно-правилам-из-сводной-таблицы-признаков\" data-toc-modified-id=\"Удаление-неинформативных-признаков,-согласно-правилам-из-сводной-таблицы-признаков-1.2.8\"><span class=\"toc-item-num\">1.2.8&nbsp;&nbsp;</span>Удаление неинформативных признаков, согласно правилам из сводной таблицы признаков</a></span></li></ul></li><li><span><a href=\"#Оценка-данных-после-предобработки\" data-toc-modified-id=\"Оценка-данных-после-предобработки-1.3\"><span class=\"toc-item-num\">1.3&nbsp;&nbsp;</span>Оценка данных после предобработки</a></span></li><li><span><a href=\"#Вывод-по-разделу-1---Предобработка-данных\" data-toc-modified-id=\"Вывод-по-разделу-1---Предобработка-данных-1.4\"><span class=\"toc-item-num\">1.4&nbsp;&nbsp;</span>Вывод по разделу 1 - Предобработка данных</a></span></li></ul></li><li><span><a href=\"#Обучение-моделей\" data-toc-modified-id=\"Обучение-моделей-2\"><span class=\"toc-item-num\">2&nbsp;&nbsp;</span>Обучение моделей</a></span><ul class=\"toc-item\"><li><span><a href=\"#Выбор-методов,-алгоритмов-или-моделей-для-сравнения\" data-toc-modified-id=\"Выбор-методов,-алгоритмов-или-моделей-для-сравнения-2.1\"><span class=\"toc-item-num\">2.1&nbsp;&nbsp;</span>Выбор методов, алгоритмов или моделей для сравнения</a></span></li><li><span><a href=\"#Разделение-набора-данных-на-обучающую-и-валидационную-выборки\" data-toc-modified-id=\"Разделение-набора-данных-на-обучающую-и-валидационную-выборки-2.2\"><span class=\"toc-item-num\">2.2&nbsp;&nbsp;</span>Разделение набора данных на обучающую и валидационную выборки</a></span></li><li><span><a href=\"#Кодирование-признаков-для-задач-обучения-моделей\" data-toc-modified-id=\"Кодирование-признаков-для-задач-обучения-моделей-2.3\"><span class=\"toc-item-num\">2.3&nbsp;&nbsp;</span>Кодирование признаков для задач обучения моделей</a></span></li><li><span><a href=\"#Оценка-данных-после-кодирования-признаков\" data-toc-modified-id=\"Оценка-данных-после-кодирования-признаков-2.4\"><span class=\"toc-item-num\">2.4&nbsp;&nbsp;</span>Оценка данных после кодирования признаков</a></span></li><li><span><a href=\"#Обучение-модели-№1---LinearRegression\" data-toc-modified-id=\"Обучение-модели-№1---LinearRegression-2.5\"><span class=\"toc-item-num\">2.5&nbsp;&nbsp;</span>Обучение модели №1 - LinearRegression</a></span></li><li><span><a href=\"#Обучение-модели-№2---LightGBM\" data-toc-modified-id=\"Обучение-модели-№2---LightGBM-2.6\"><span class=\"toc-item-num\">2.6&nbsp;&nbsp;</span>Обучение модели №2 - LightGBM</a></span></li><li><span><a href=\"#Обучение-модели-№3---CatBoost\" data-toc-modified-id=\"Обучение-модели-№3---CatBoost-2.7\"><span class=\"toc-item-num\">2.7&nbsp;&nbsp;</span>Обучение модели №3 - CatBoost</a></span></li><li><span><a href=\"#Вывод-по-разделу-2---Обучение-моделей\" data-toc-modified-id=\"Вывод-по-разделу-2---Обучение-моделей-2.8\"><span class=\"toc-item-num\">2.8&nbsp;&nbsp;</span>Вывод по разделу 2 - Обучение моделей</a></span></li></ul></li><li><span><a href=\"#Анализ-моделей\" data-toc-modified-id=\"Анализ-моделей-3\"><span class=\"toc-item-num\">3&nbsp;&nbsp;</span>Анализ моделей</a></span><ul class=\"toc-item\"><li><span><a href=\"#Определение-времени-предсказания-и-метрик-качества-на-тестовой-выборке\" data-toc-modified-id=\"Определение-времени-предсказания-и-метрик-качества-на-тестовой-выборке-3.1\"><span class=\"toc-item-num\">3.1&nbsp;&nbsp;</span>Определение времени предсказания и метрик качества на тестовой выборке</a></span></li><li><span><a href=\"#Вывод-по-разделу-3---Анализ-моделей\" data-toc-modified-id=\"Вывод-по-разделу-3---Анализ-моделей-3.2\"><span class=\"toc-item-num\">3.2&nbsp;&nbsp;</span>Вывод по разделу 3 - Анализ моделей</a></span></li></ul></li><li><span><a href=\"#Общий-вывод\" data-toc-modified-id=\"Общий-вывод-4\"><span class=\"toc-item-num\">4&nbsp;&nbsp;</span>Общий вывод</a></span></li></ul></div>"
   ]
  },
  {
   "cell_type": "markdown",
   "metadata": {},
   "source": [
    "# Определение стоимости автомобилей"
   ]
  },
  {
   "cell_type": "markdown",
   "metadata": {},
   "source": [
    "**Описание проекта (оригинальное)**\n",
    "\n",
    "Сервис по продаже автомобилей с пробегом «Не бит, не крашен» разрабатывает приложение для привлечения новых клиентов. В нём можно быстро узнать рыночную стоимость своего автомобиля. В вашем распоряжении исторические данные: технические характеристики, комплектации и цены автомобилей. Вам нужно построить модель для определения стоимости. \n",
    "\n",
    "Заказчику важны:\n",
    "\n",
    "- качество предсказания;\n",
    "- скорость предсказания;\n",
    "- время обучения.\n",
    "\n",
    "**Исходные данные от заказчика**\n",
    "\n",
    "Набор данных находится в файле `/datasets/autos.csv`\n",
    "\n",
    "Признаки\n",
    "\n",
    "| №  | Наименование признака | Описание от заказчика                           | Примечание      |\n",
    "|:---|:----------------------|:------------------------------------------------|:----------------|\n",
    "| 1  | DateCrawled           | дата скачивания анкеты из базы                  |                 |\n",
    "| 2  | VehicleType           | тип автомобильного кузова                       |                 |\n",
    "| 3  | RegistrationYear      | год регистрации автомобиля                      |                 |\n",
    "| 4  | Gearbox               | тип коробки передач                             |                 |\n",
    "| 5  | Power                 | мощность (л. с.)                                |                 |\n",
    "| 6  | Model                 | модель автомобиля                               |                 |\n",
    "| 7  | Kilometer             | пробег (км)                                     |                 |\n",
    "| 8  | RegistrationMonth     | месяц регистрации автомобиля                    |                 |\n",
    "| 9  | FuelType              | тип топлива                                     |                 |\n",
    "| 10 | Brand                 | марка автомобиля                                |                 |\n",
    "| 11 | Repaired              | была машина в ремонте или нет                   |                 |\n",
    "| 12 | DateCreated           | дата создания анкеты                            |                 |\n",
    "| 13 | NumberOfPictures      | количество фотографий автомобиля                |                 |\n",
    "| 14 | PostalCode            | почтовый индекс владельца анкеты (пользователя) |                 |\n",
    "| 15 | LastSeen              | дата последней активности пользователя          |                 |\n",
    "| 16 | Price                 | цена (евро)                                     | Целевой признак |\n",
    "\n",
    "\n",
    "**Задача**\n",
    "\n",
    "- Выбрать и построить модель определяющую целевой признак (цена)\n",
    "- Для оценки качества моделей применить метрику RMSE\n",
    "- Значение метрики RMSE должно быть меньше 2500\n",
    "- Использовать минимум две модели, одна из них не бустинг, другая - LightGBM\n",
    " \n",
    "**План работы**\n",
    "\n",
    "- Открыть и изучить данные\n",
    "- Выполнить предобработку данных\n",
    "- Подготовить выборки\n",
    "- Применить кодирование категориальных признаков.\n",
    "- Выбрать модели и обосновать\n",
    "- Обучить выбранные модели, используя разные гиперпараметры. Для обучения предполагается использовать кросс-валидацию\n",
    "- Выбрать наилучшую модель и обосновать\n",
    "- Предсказать на тестовой выборке, сохранить итоговые RMSE, время обучения и предсказания\n"
   ]
  },
  {
   "cell_type": "code",
   "execution_count": 1,
   "metadata": {},
   "outputs": [],
   "source": [
    "# СЛУЖЕБНОЕ Ячейка с импортом библиотек, импорт происходит только в этой ячейке\n",
    "\n",
    "import pandas as pd\n",
    "import numpy as np\n",
    "import random\n",
    "import re\n",
    "import matplotlib.pyplot as plt\n",
    "import warnings\n",
    "\n",
    "from sklearn.model_selection import cross_val_score, train_test_split\n",
    "\n",
    "from sklearn.preprocessing import OrdinalEncoder, StandardScaler\n",
    "\n",
    "from sklearn.linear_model import LinearRegression\n",
    "\n",
    "from sklearn.metrics import mean_squared_error\n",
    "\n",
    "from catboost import CatBoostRegressor, cv, Pool\n",
    "import lightgbm as lgb"
   ]
  },
  {
   "cell_type": "code",
   "execution_count": 2,
   "metadata": {},
   "outputs": [],
   "source": [
    "# СЛУЖЕБНОЕ Ячейка с c начальными настройками библиотек и Python\n",
    "\n",
    "pd.set_option('display.max_columns', 50)\n",
    "pd.set_option('display.max_rows', 50) \n",
    "pd.options.mode.chained_assignment = None\n",
    "warnings.filterwarnings('ignore')"
   ]
  },
  {
   "cell_type": "code",
   "execution_count": 3,
   "metadata": {},
   "outputs": [],
   "source": [
    "# СЛУЖЕБНОЕ Ячейка с c глобальными переменными к проекту\n",
    "\n",
    "RANDOM_STATE = 3141592654 # int, состояние генератора, 3141592654 by default\n",
    "CV_VALUE = 5 # Количество фолдов для CV, 5 by default\n",
    "REM_LIMIT = 0.1 # Предельная максимальная доля объектов, возможная для удаления из полной выборки, 0.05 by default\n",
    "\n",
    "# Глобальные переменные, определяющие параметры моделей\n",
    "\n",
    "ITERATIONS = 10 # Количество итераций бустинга, 200 by default\n",
    "LEARNING_RATE_RANGE = (5,6,1) # Кортеж, диапазон размеров шага на каждой итерации. Предполагается от 0.1 до 0.9. \n",
    "                              # В кортеже задается как целое число, обозначающее десятичную часть, например:\n",
    "                              # (5,6,1), где:\n",
    "                              #  5 - 0.5 - начало диапазона\n",
    "                              #  6 - 0.6 - конец диапазона\n",
    "                              #  1 - 0.1 - шаг перебора по диапазону"
   ]
  },
  {
   "cell_type": "markdown",
   "metadata": {},
   "source": [
    "**Функции общего назначения**"
   ]
  },
  {
   "cell_type": "code",
   "execution_count": 4,
   "metadata": {},
   "outputs": [],
   "source": [
    "def first_info(dataframe, data_title='Неопознанный набор данных',\n",
    "               head_length=6, bins=42, figsize=(15,12),\n",
    "               info_show=True, describe_show=True, corr_show=True, hist_show=True):\n",
    "    '''\n",
    "    dataframe: датафрейм для анализа\n",
    "    data_title: пользовательское название набора данных\n",
    "    head_length: количество строк, отображаемых функцией при выводе датасета\n",
    "    bins: для гистограммы - количество корзин, 42 by default\n",
    "    figsize: для гистограммы - размер графика, кортеж (15,12) by default\n",
    "    info_show: True, если нужно показывать результат метода DataFrame.info(), True by default \n",
    "    describe_show: True, если нужно показывать результат метода DataFrame.describe(), True by default \n",
    "    corr_show: True, если нужно показывать результат метода DataFrame.сorr(), True by default \n",
    "    hist_show: True, если нужно показывать гистограмму распределений значений DataFrame, True by default\n",
    "    \n",
    "    Функция  принимает на вход Pandas.DataFrame, Краткое название датафрейма (для вывода в логе выполнения функции) \n",
    "    и количество строк датафрейма, которое будет выводить функция в ходе работы. \n",
    "    Функция создана для упрощения первичного знакомства с данными\n",
    "    Возвращает None\n",
    "    '''\n",
    "    try:\n",
    "        print(f'Данные по датасету: {data_title}')\n",
    "        display(dataframe.head(head_length))\n",
    "        display(dataframe.tail(head_length))\n",
    "        if info_show:\n",
    "            dataframe.info()\n",
    "        if describe_show:\n",
    "            print()\n",
    "            print(f'Описательная статистика датасета:')\n",
    "            display(dataframe.describe())\n",
    "        if corr_show:\n",
    "            print('Корреляция значений признаков')\n",
    "            display(pd.DataFrame(dataframe.corr()))\n",
    "        if hist_show:    \n",
    "            dataframe.hist(bins=bins, figsize=figsize);\n",
    "        \n",
    "    except:\n",
    "        print(f'Ошибка в передаваемых аргументах\\nПроверьте ввод!')"
   ]
  },
  {
   "cell_type": "code",
   "execution_count": 5,
   "metadata": {},
   "outputs": [],
   "source": [
    "def hist_show(series,\n",
    "              title, \n",
    "              bins_first=42,\n",
    "              figsize=(16, 8),\n",
    "              range_list=[(0, 1885), (1886, 1959), (1960, 2020), (2020, 10000)]):\n",
    "    '''\n",
    "    series: list or pd.series of numeric values\n",
    "    title: series description\n",
    "    bins_first: number of bins for the full range\n",
    "    figsize: default single histogram size\n",
    "    range_list: List of tuples with ranges of values from the series. Must be exactly 4 tuples\n",
    "    \n",
    "    The function expects a list of values in _series_, draws a histogram for the entire range of values \n",
    "    and separate histograms for ranges from the _range_list_\n",
    "    return None\n",
    "    '''\n",
    "    \n",
    "    fig = plt.figure(figsize=figsize)                          #задаем фигуру\n",
    "    ax = [None for _ in range(5)]\n",
    "    \n",
    "    ax[0] = plt.subplot2grid(                                  #первый график сетки\n",
    "        (2, 4),                                                #размер сетки = 2 ряда по 4 элемента\n",
    "        (0, 0),                                                #локация первого элемента\n",
    "        colspan=4)\n",
    "\n",
    "\n",
    "    ax[1] = plt.subplot2grid((2,4), (1,0), colspan=1)          #аналогично задаем параметры остальных графиков\n",
    "    ax[2] = plt.subplot2grid((2,4), (1,1), colspan=1)\n",
    "    ax[3] = plt.subplot2grid((2,4), (1,2), colspan=1)\n",
    "    ax[4] = plt.subplot2grid((2,4), (1,3), colspan=1)           \n",
    "    \n",
    "    ax[0].set_title(f'Полный диапазон значений')\n",
    "    ax[0].hist(series, bins = bins_first)\n",
    "    \n",
    "    for num in range(len(range_list)):\n",
    "        rng = range_list[num]\n",
    "        bins = rng[1]-rng[0]\n",
    "        if bins > 300 and bins < 500:\n",
    "            bins = int(bins / 5)\n",
    "        elif bins >= 500 and bins < 1000:   \n",
    "            bins = int(bins / 50)\n",
    "        elif bins >= 1000:\n",
    "            bins = int(bins / 500)\n",
    "                           \n",
    "        ax[num + 1].set_title(f'Диапазон: {rng}')\n",
    "        ax[num + 1].hist(series, bins = bins, range = rng);\n",
    "    \n",
    "    print('Набор гистограмм признака', title, 'для различных диапазонов значений')"
   ]
  },
  {
   "cell_type": "markdown",
   "metadata": {},
   "source": [
    "## Подготовка данных"
   ]
  },
  {
   "cell_type": "markdown",
   "metadata": {},
   "source": [
    "### Загрузка данных и первичное знакомство с данными"
   ]
  },
  {
   "cell_type": "code",
   "execution_count": 6,
   "metadata": {},
   "outputs": [],
   "source": [
    "try:\n",
    "    data = pd.read_csv('/datasets/autos.csv')\n",
    "except:\n",
    "    data = pd.read_csv('https://code.s3.yandex.net/datasets/autos.csv')"
   ]
  },
  {
   "cell_type": "code",
   "execution_count": 7,
   "metadata": {
    "scrolled": false
   },
   "outputs": [
    {
     "name": "stdout",
     "output_type": "stream",
     "text": [
      "Данные по датасету: Данные об автомобилях в базе данных\n"
     ]
    },
    {
     "data": {
      "text/html": [
       "<div>\n",
       "<style scoped>\n",
       "    .dataframe tbody tr th:only-of-type {\n",
       "        vertical-align: middle;\n",
       "    }\n",
       "\n",
       "    .dataframe tbody tr th {\n",
       "        vertical-align: top;\n",
       "    }\n",
       "\n",
       "    .dataframe thead th {\n",
       "        text-align: right;\n",
       "    }\n",
       "</style>\n",
       "<table border=\"1\" class=\"dataframe\">\n",
       "  <thead>\n",
       "    <tr style=\"text-align: right;\">\n",
       "      <th></th>\n",
       "      <th>DateCrawled</th>\n",
       "      <th>Price</th>\n",
       "      <th>VehicleType</th>\n",
       "      <th>RegistrationYear</th>\n",
       "      <th>Gearbox</th>\n",
       "      <th>Power</th>\n",
       "      <th>Model</th>\n",
       "      <th>Kilometer</th>\n",
       "      <th>RegistrationMonth</th>\n",
       "      <th>FuelType</th>\n",
       "      <th>Brand</th>\n",
       "      <th>Repaired</th>\n",
       "      <th>DateCreated</th>\n",
       "      <th>NumberOfPictures</th>\n",
       "      <th>PostalCode</th>\n",
       "      <th>LastSeen</th>\n",
       "    </tr>\n",
       "  </thead>\n",
       "  <tbody>\n",
       "    <tr>\n",
       "      <th>0</th>\n",
       "      <td>2016-03-24 11:52:17</td>\n",
       "      <td>480</td>\n",
       "      <td>NaN</td>\n",
       "      <td>1993</td>\n",
       "      <td>manual</td>\n",
       "      <td>0</td>\n",
       "      <td>golf</td>\n",
       "      <td>150000</td>\n",
       "      <td>0</td>\n",
       "      <td>petrol</td>\n",
       "      <td>volkswagen</td>\n",
       "      <td>NaN</td>\n",
       "      <td>2016-03-24 00:00:00</td>\n",
       "      <td>0</td>\n",
       "      <td>70435</td>\n",
       "      <td>2016-04-07 03:16:57</td>\n",
       "    </tr>\n",
       "    <tr>\n",
       "      <th>1</th>\n",
       "      <td>2016-03-24 10:58:45</td>\n",
       "      <td>18300</td>\n",
       "      <td>coupe</td>\n",
       "      <td>2011</td>\n",
       "      <td>manual</td>\n",
       "      <td>190</td>\n",
       "      <td>NaN</td>\n",
       "      <td>125000</td>\n",
       "      <td>5</td>\n",
       "      <td>gasoline</td>\n",
       "      <td>audi</td>\n",
       "      <td>yes</td>\n",
       "      <td>2016-03-24 00:00:00</td>\n",
       "      <td>0</td>\n",
       "      <td>66954</td>\n",
       "      <td>2016-04-07 01:46:50</td>\n",
       "    </tr>\n",
       "    <tr>\n",
       "      <th>2</th>\n",
       "      <td>2016-03-14 12:52:21</td>\n",
       "      <td>9800</td>\n",
       "      <td>suv</td>\n",
       "      <td>2004</td>\n",
       "      <td>auto</td>\n",
       "      <td>163</td>\n",
       "      <td>grand</td>\n",
       "      <td>125000</td>\n",
       "      <td>8</td>\n",
       "      <td>gasoline</td>\n",
       "      <td>jeep</td>\n",
       "      <td>NaN</td>\n",
       "      <td>2016-03-14 00:00:00</td>\n",
       "      <td>0</td>\n",
       "      <td>90480</td>\n",
       "      <td>2016-04-05 12:47:46</td>\n",
       "    </tr>\n",
       "    <tr>\n",
       "      <th>3</th>\n",
       "      <td>2016-03-17 16:54:04</td>\n",
       "      <td>1500</td>\n",
       "      <td>small</td>\n",
       "      <td>2001</td>\n",
       "      <td>manual</td>\n",
       "      <td>75</td>\n",
       "      <td>golf</td>\n",
       "      <td>150000</td>\n",
       "      <td>6</td>\n",
       "      <td>petrol</td>\n",
       "      <td>volkswagen</td>\n",
       "      <td>no</td>\n",
       "      <td>2016-03-17 00:00:00</td>\n",
       "      <td>0</td>\n",
       "      <td>91074</td>\n",
       "      <td>2016-03-17 17:40:17</td>\n",
       "    </tr>\n",
       "    <tr>\n",
       "      <th>4</th>\n",
       "      <td>2016-03-31 17:25:20</td>\n",
       "      <td>3600</td>\n",
       "      <td>small</td>\n",
       "      <td>2008</td>\n",
       "      <td>manual</td>\n",
       "      <td>69</td>\n",
       "      <td>fabia</td>\n",
       "      <td>90000</td>\n",
       "      <td>7</td>\n",
       "      <td>gasoline</td>\n",
       "      <td>skoda</td>\n",
       "      <td>no</td>\n",
       "      <td>2016-03-31 00:00:00</td>\n",
       "      <td>0</td>\n",
       "      <td>60437</td>\n",
       "      <td>2016-04-06 10:17:21</td>\n",
       "    </tr>\n",
       "    <tr>\n",
       "      <th>5</th>\n",
       "      <td>2016-04-04 17:36:23</td>\n",
       "      <td>650</td>\n",
       "      <td>sedan</td>\n",
       "      <td>1995</td>\n",
       "      <td>manual</td>\n",
       "      <td>102</td>\n",
       "      <td>3er</td>\n",
       "      <td>150000</td>\n",
       "      <td>10</td>\n",
       "      <td>petrol</td>\n",
       "      <td>bmw</td>\n",
       "      <td>yes</td>\n",
       "      <td>2016-04-04 00:00:00</td>\n",
       "      <td>0</td>\n",
       "      <td>33775</td>\n",
       "      <td>2016-04-06 19:17:07</td>\n",
       "    </tr>\n",
       "    <tr>\n",
       "      <th>6</th>\n",
       "      <td>2016-04-01 20:48:51</td>\n",
       "      <td>2200</td>\n",
       "      <td>convertible</td>\n",
       "      <td>2004</td>\n",
       "      <td>manual</td>\n",
       "      <td>109</td>\n",
       "      <td>2_reihe</td>\n",
       "      <td>150000</td>\n",
       "      <td>8</td>\n",
       "      <td>petrol</td>\n",
       "      <td>peugeot</td>\n",
       "      <td>no</td>\n",
       "      <td>2016-04-01 00:00:00</td>\n",
       "      <td>0</td>\n",
       "      <td>67112</td>\n",
       "      <td>2016-04-05 18:18:39</td>\n",
       "    </tr>\n",
       "    <tr>\n",
       "      <th>7</th>\n",
       "      <td>2016-03-21 18:54:38</td>\n",
       "      <td>0</td>\n",
       "      <td>sedan</td>\n",
       "      <td>1980</td>\n",
       "      <td>manual</td>\n",
       "      <td>50</td>\n",
       "      <td>other</td>\n",
       "      <td>40000</td>\n",
       "      <td>7</td>\n",
       "      <td>petrol</td>\n",
       "      <td>volkswagen</td>\n",
       "      <td>no</td>\n",
       "      <td>2016-03-21 00:00:00</td>\n",
       "      <td>0</td>\n",
       "      <td>19348</td>\n",
       "      <td>2016-03-25 16:47:58</td>\n",
       "    </tr>\n",
       "    <tr>\n",
       "      <th>8</th>\n",
       "      <td>2016-04-04 23:42:13</td>\n",
       "      <td>14500</td>\n",
       "      <td>bus</td>\n",
       "      <td>2014</td>\n",
       "      <td>manual</td>\n",
       "      <td>125</td>\n",
       "      <td>c_max</td>\n",
       "      <td>30000</td>\n",
       "      <td>8</td>\n",
       "      <td>petrol</td>\n",
       "      <td>ford</td>\n",
       "      <td>NaN</td>\n",
       "      <td>2016-04-04 00:00:00</td>\n",
       "      <td>0</td>\n",
       "      <td>94505</td>\n",
       "      <td>2016-04-04 23:42:13</td>\n",
       "    </tr>\n",
       "    <tr>\n",
       "      <th>9</th>\n",
       "      <td>2016-03-17 10:53:50</td>\n",
       "      <td>999</td>\n",
       "      <td>small</td>\n",
       "      <td>1998</td>\n",
       "      <td>manual</td>\n",
       "      <td>101</td>\n",
       "      <td>golf</td>\n",
       "      <td>150000</td>\n",
       "      <td>0</td>\n",
       "      <td>NaN</td>\n",
       "      <td>volkswagen</td>\n",
       "      <td>NaN</td>\n",
       "      <td>2016-03-17 00:00:00</td>\n",
       "      <td>0</td>\n",
       "      <td>27472</td>\n",
       "      <td>2016-03-31 17:17:06</td>\n",
       "    </tr>\n",
       "    <tr>\n",
       "      <th>10</th>\n",
       "      <td>2016-03-26 19:54:18</td>\n",
       "      <td>2000</td>\n",
       "      <td>sedan</td>\n",
       "      <td>2004</td>\n",
       "      <td>manual</td>\n",
       "      <td>105</td>\n",
       "      <td>3_reihe</td>\n",
       "      <td>150000</td>\n",
       "      <td>12</td>\n",
       "      <td>petrol</td>\n",
       "      <td>mazda</td>\n",
       "      <td>no</td>\n",
       "      <td>2016-03-26 00:00:00</td>\n",
       "      <td>0</td>\n",
       "      <td>96224</td>\n",
       "      <td>2016-04-06 10:45:34</td>\n",
       "    </tr>\n",
       "    <tr>\n",
       "      <th>11</th>\n",
       "      <td>2016-04-07 10:06:22</td>\n",
       "      <td>2799</td>\n",
       "      <td>wagon</td>\n",
       "      <td>2005</td>\n",
       "      <td>manual</td>\n",
       "      <td>140</td>\n",
       "      <td>passat</td>\n",
       "      <td>150000</td>\n",
       "      <td>12</td>\n",
       "      <td>gasoline</td>\n",
       "      <td>volkswagen</td>\n",
       "      <td>yes</td>\n",
       "      <td>2016-04-07 00:00:00</td>\n",
       "      <td>0</td>\n",
       "      <td>57290</td>\n",
       "      <td>2016-04-07 10:25:17</td>\n",
       "    </tr>\n",
       "    <tr>\n",
       "      <th>12</th>\n",
       "      <td>2016-03-15 22:49:09</td>\n",
       "      <td>999</td>\n",
       "      <td>wagon</td>\n",
       "      <td>1995</td>\n",
       "      <td>manual</td>\n",
       "      <td>115</td>\n",
       "      <td>passat</td>\n",
       "      <td>150000</td>\n",
       "      <td>11</td>\n",
       "      <td>petrol</td>\n",
       "      <td>volkswagen</td>\n",
       "      <td>NaN</td>\n",
       "      <td>2016-03-15 00:00:00</td>\n",
       "      <td>0</td>\n",
       "      <td>37269</td>\n",
       "      <td>2016-04-01 13:16:16</td>\n",
       "    </tr>\n",
       "  </tbody>\n",
       "</table>\n",
       "</div>"
      ],
      "text/plain": [
       "            DateCrawled  Price  VehicleType  RegistrationYear Gearbox  Power  \\\n",
       "0   2016-03-24 11:52:17    480          NaN              1993  manual      0   \n",
       "1   2016-03-24 10:58:45  18300        coupe              2011  manual    190   \n",
       "2   2016-03-14 12:52:21   9800          suv              2004    auto    163   \n",
       "3   2016-03-17 16:54:04   1500        small              2001  manual     75   \n",
       "4   2016-03-31 17:25:20   3600        small              2008  manual     69   \n",
       "5   2016-04-04 17:36:23    650        sedan              1995  manual    102   \n",
       "6   2016-04-01 20:48:51   2200  convertible              2004  manual    109   \n",
       "7   2016-03-21 18:54:38      0        sedan              1980  manual     50   \n",
       "8   2016-04-04 23:42:13  14500          bus              2014  manual    125   \n",
       "9   2016-03-17 10:53:50    999        small              1998  manual    101   \n",
       "10  2016-03-26 19:54:18   2000        sedan              2004  manual    105   \n",
       "11  2016-04-07 10:06:22   2799        wagon              2005  manual    140   \n",
       "12  2016-03-15 22:49:09    999        wagon              1995  manual    115   \n",
       "\n",
       "      Model  Kilometer  RegistrationMonth  FuelType       Brand Repaired  \\\n",
       "0      golf     150000                  0    petrol  volkswagen      NaN   \n",
       "1       NaN     125000                  5  gasoline        audi      yes   \n",
       "2     grand     125000                  8  gasoline        jeep      NaN   \n",
       "3      golf     150000                  6    petrol  volkswagen       no   \n",
       "4     fabia      90000                  7  gasoline       skoda       no   \n",
       "5       3er     150000                 10    petrol         bmw      yes   \n",
       "6   2_reihe     150000                  8    petrol     peugeot       no   \n",
       "7     other      40000                  7    petrol  volkswagen       no   \n",
       "8     c_max      30000                  8    petrol        ford      NaN   \n",
       "9      golf     150000                  0       NaN  volkswagen      NaN   \n",
       "10  3_reihe     150000                 12    petrol       mazda       no   \n",
       "11   passat     150000                 12  gasoline  volkswagen      yes   \n",
       "12   passat     150000                 11    petrol  volkswagen      NaN   \n",
       "\n",
       "            DateCreated  NumberOfPictures  PostalCode             LastSeen  \n",
       "0   2016-03-24 00:00:00                 0       70435  2016-04-07 03:16:57  \n",
       "1   2016-03-24 00:00:00                 0       66954  2016-04-07 01:46:50  \n",
       "2   2016-03-14 00:00:00                 0       90480  2016-04-05 12:47:46  \n",
       "3   2016-03-17 00:00:00                 0       91074  2016-03-17 17:40:17  \n",
       "4   2016-03-31 00:00:00                 0       60437  2016-04-06 10:17:21  \n",
       "5   2016-04-04 00:00:00                 0       33775  2016-04-06 19:17:07  \n",
       "6   2016-04-01 00:00:00                 0       67112  2016-04-05 18:18:39  \n",
       "7   2016-03-21 00:00:00                 0       19348  2016-03-25 16:47:58  \n",
       "8   2016-04-04 00:00:00                 0       94505  2016-04-04 23:42:13  \n",
       "9   2016-03-17 00:00:00                 0       27472  2016-03-31 17:17:06  \n",
       "10  2016-03-26 00:00:00                 0       96224  2016-04-06 10:45:34  \n",
       "11  2016-04-07 00:00:00                 0       57290  2016-04-07 10:25:17  \n",
       "12  2016-03-15 00:00:00                 0       37269  2016-04-01 13:16:16  "
      ]
     },
     "metadata": {},
     "output_type": "display_data"
    },
    {
     "data": {
      "text/html": [
       "<div>\n",
       "<style scoped>\n",
       "    .dataframe tbody tr th:only-of-type {\n",
       "        vertical-align: middle;\n",
       "    }\n",
       "\n",
       "    .dataframe tbody tr th {\n",
       "        vertical-align: top;\n",
       "    }\n",
       "\n",
       "    .dataframe thead th {\n",
       "        text-align: right;\n",
       "    }\n",
       "</style>\n",
       "<table border=\"1\" class=\"dataframe\">\n",
       "  <thead>\n",
       "    <tr style=\"text-align: right;\">\n",
       "      <th></th>\n",
       "      <th>DateCrawled</th>\n",
       "      <th>Price</th>\n",
       "      <th>VehicleType</th>\n",
       "      <th>RegistrationYear</th>\n",
       "      <th>Gearbox</th>\n",
       "      <th>Power</th>\n",
       "      <th>Model</th>\n",
       "      <th>Kilometer</th>\n",
       "      <th>RegistrationMonth</th>\n",
       "      <th>FuelType</th>\n",
       "      <th>Brand</th>\n",
       "      <th>Repaired</th>\n",
       "      <th>DateCreated</th>\n",
       "      <th>NumberOfPictures</th>\n",
       "      <th>PostalCode</th>\n",
       "      <th>LastSeen</th>\n",
       "    </tr>\n",
       "  </thead>\n",
       "  <tbody>\n",
       "    <tr>\n",
       "      <th>354356</th>\n",
       "      <td>2016-04-04 11:45:16</td>\n",
       "      <td>999</td>\n",
       "      <td>convertible</td>\n",
       "      <td>2000</td>\n",
       "      <td>manual</td>\n",
       "      <td>95</td>\n",
       "      <td>megane</td>\n",
       "      <td>150000</td>\n",
       "      <td>4</td>\n",
       "      <td>petrol</td>\n",
       "      <td>renault</td>\n",
       "      <td>NaN</td>\n",
       "      <td>2016-04-04 00:00:00</td>\n",
       "      <td>0</td>\n",
       "      <td>88477</td>\n",
       "      <td>2016-04-06 12:44:52</td>\n",
       "    </tr>\n",
       "    <tr>\n",
       "      <th>354357</th>\n",
       "      <td>2016-03-09 11:36:55</td>\n",
       "      <td>1690</td>\n",
       "      <td>wagon</td>\n",
       "      <td>2004</td>\n",
       "      <td>manual</td>\n",
       "      <td>55</td>\n",
       "      <td>fabia</td>\n",
       "      <td>150000</td>\n",
       "      <td>4</td>\n",
       "      <td>petrol</td>\n",
       "      <td>skoda</td>\n",
       "      <td>NaN</td>\n",
       "      <td>2016-03-09 00:00:00</td>\n",
       "      <td>0</td>\n",
       "      <td>18246</td>\n",
       "      <td>2016-04-04 08:15:30</td>\n",
       "    </tr>\n",
       "    <tr>\n",
       "      <th>354358</th>\n",
       "      <td>2016-04-04 09:57:12</td>\n",
       "      <td>1490</td>\n",
       "      <td>small</td>\n",
       "      <td>1998</td>\n",
       "      <td>manual</td>\n",
       "      <td>50</td>\n",
       "      <td>lupo</td>\n",
       "      <td>150000</td>\n",
       "      <td>9</td>\n",
       "      <td>petrol</td>\n",
       "      <td>volkswagen</td>\n",
       "      <td>no</td>\n",
       "      <td>2016-04-04 00:00:00</td>\n",
       "      <td>0</td>\n",
       "      <td>48653</td>\n",
       "      <td>2016-04-06 11:17:13</td>\n",
       "    </tr>\n",
       "    <tr>\n",
       "      <th>354359</th>\n",
       "      <td>2016-03-28 13:48:07</td>\n",
       "      <td>7900</td>\n",
       "      <td>sedan</td>\n",
       "      <td>2010</td>\n",
       "      <td>manual</td>\n",
       "      <td>140</td>\n",
       "      <td>golf</td>\n",
       "      <td>150000</td>\n",
       "      <td>7</td>\n",
       "      <td>gasoline</td>\n",
       "      <td>volkswagen</td>\n",
       "      <td>no</td>\n",
       "      <td>2016-03-28 00:00:00</td>\n",
       "      <td>0</td>\n",
       "      <td>75223</td>\n",
       "      <td>2016-04-02 18:16:20</td>\n",
       "    </tr>\n",
       "    <tr>\n",
       "      <th>354360</th>\n",
       "      <td>2016-04-02 20:37:03</td>\n",
       "      <td>3999</td>\n",
       "      <td>wagon</td>\n",
       "      <td>2005</td>\n",
       "      <td>manual</td>\n",
       "      <td>3</td>\n",
       "      <td>3er</td>\n",
       "      <td>150000</td>\n",
       "      <td>5</td>\n",
       "      <td>gasoline</td>\n",
       "      <td>bmw</td>\n",
       "      <td>no</td>\n",
       "      <td>2016-04-02 00:00:00</td>\n",
       "      <td>0</td>\n",
       "      <td>81825</td>\n",
       "      <td>2016-04-06 20:47:12</td>\n",
       "    </tr>\n",
       "    <tr>\n",
       "      <th>354361</th>\n",
       "      <td>2016-03-09 13:37:43</td>\n",
       "      <td>5250</td>\n",
       "      <td>NaN</td>\n",
       "      <td>2016</td>\n",
       "      <td>auto</td>\n",
       "      <td>150</td>\n",
       "      <td>159</td>\n",
       "      <td>150000</td>\n",
       "      <td>12</td>\n",
       "      <td>NaN</td>\n",
       "      <td>alfa_romeo</td>\n",
       "      <td>no</td>\n",
       "      <td>2016-03-09 00:00:00</td>\n",
       "      <td>0</td>\n",
       "      <td>51371</td>\n",
       "      <td>2016-03-13 01:44:13</td>\n",
       "    </tr>\n",
       "    <tr>\n",
       "      <th>354362</th>\n",
       "      <td>2016-03-19 19:53:49</td>\n",
       "      <td>3200</td>\n",
       "      <td>sedan</td>\n",
       "      <td>2004</td>\n",
       "      <td>manual</td>\n",
       "      <td>225</td>\n",
       "      <td>leon</td>\n",
       "      <td>150000</td>\n",
       "      <td>5</td>\n",
       "      <td>petrol</td>\n",
       "      <td>seat</td>\n",
       "      <td>yes</td>\n",
       "      <td>2016-03-19 00:00:00</td>\n",
       "      <td>0</td>\n",
       "      <td>96465</td>\n",
       "      <td>2016-03-19 20:44:43</td>\n",
       "    </tr>\n",
       "    <tr>\n",
       "      <th>354363</th>\n",
       "      <td>2016-03-27 20:36:20</td>\n",
       "      <td>1150</td>\n",
       "      <td>bus</td>\n",
       "      <td>2000</td>\n",
       "      <td>manual</td>\n",
       "      <td>0</td>\n",
       "      <td>zafira</td>\n",
       "      <td>150000</td>\n",
       "      <td>3</td>\n",
       "      <td>petrol</td>\n",
       "      <td>opel</td>\n",
       "      <td>no</td>\n",
       "      <td>2016-03-27 00:00:00</td>\n",
       "      <td>0</td>\n",
       "      <td>26624</td>\n",
       "      <td>2016-03-29 10:17:23</td>\n",
       "    </tr>\n",
       "    <tr>\n",
       "      <th>354364</th>\n",
       "      <td>2016-03-21 09:50:58</td>\n",
       "      <td>0</td>\n",
       "      <td>NaN</td>\n",
       "      <td>2005</td>\n",
       "      <td>manual</td>\n",
       "      <td>0</td>\n",
       "      <td>colt</td>\n",
       "      <td>150000</td>\n",
       "      <td>7</td>\n",
       "      <td>petrol</td>\n",
       "      <td>mitsubishi</td>\n",
       "      <td>yes</td>\n",
       "      <td>2016-03-21 00:00:00</td>\n",
       "      <td>0</td>\n",
       "      <td>2694</td>\n",
       "      <td>2016-03-21 10:42:49</td>\n",
       "    </tr>\n",
       "    <tr>\n",
       "      <th>354365</th>\n",
       "      <td>2016-03-14 17:48:27</td>\n",
       "      <td>2200</td>\n",
       "      <td>NaN</td>\n",
       "      <td>2005</td>\n",
       "      <td>NaN</td>\n",
       "      <td>0</td>\n",
       "      <td>NaN</td>\n",
       "      <td>20000</td>\n",
       "      <td>1</td>\n",
       "      <td>NaN</td>\n",
       "      <td>sonstige_autos</td>\n",
       "      <td>NaN</td>\n",
       "      <td>2016-03-14 00:00:00</td>\n",
       "      <td>0</td>\n",
       "      <td>39576</td>\n",
       "      <td>2016-04-06 00:46:52</td>\n",
       "    </tr>\n",
       "    <tr>\n",
       "      <th>354366</th>\n",
       "      <td>2016-03-05 19:56:21</td>\n",
       "      <td>1199</td>\n",
       "      <td>convertible</td>\n",
       "      <td>2000</td>\n",
       "      <td>auto</td>\n",
       "      <td>101</td>\n",
       "      <td>fortwo</td>\n",
       "      <td>125000</td>\n",
       "      <td>3</td>\n",
       "      <td>petrol</td>\n",
       "      <td>smart</td>\n",
       "      <td>no</td>\n",
       "      <td>2016-03-05 00:00:00</td>\n",
       "      <td>0</td>\n",
       "      <td>26135</td>\n",
       "      <td>2016-03-11 18:17:12</td>\n",
       "    </tr>\n",
       "    <tr>\n",
       "      <th>354367</th>\n",
       "      <td>2016-03-19 18:57:12</td>\n",
       "      <td>9200</td>\n",
       "      <td>bus</td>\n",
       "      <td>1996</td>\n",
       "      <td>manual</td>\n",
       "      <td>102</td>\n",
       "      <td>transporter</td>\n",
       "      <td>150000</td>\n",
       "      <td>3</td>\n",
       "      <td>gasoline</td>\n",
       "      <td>volkswagen</td>\n",
       "      <td>no</td>\n",
       "      <td>2016-03-19 00:00:00</td>\n",
       "      <td>0</td>\n",
       "      <td>87439</td>\n",
       "      <td>2016-04-07 07:15:26</td>\n",
       "    </tr>\n",
       "    <tr>\n",
       "      <th>354368</th>\n",
       "      <td>2016-03-20 19:41:08</td>\n",
       "      <td>3400</td>\n",
       "      <td>wagon</td>\n",
       "      <td>2002</td>\n",
       "      <td>manual</td>\n",
       "      <td>100</td>\n",
       "      <td>golf</td>\n",
       "      <td>150000</td>\n",
       "      <td>6</td>\n",
       "      <td>gasoline</td>\n",
       "      <td>volkswagen</td>\n",
       "      <td>NaN</td>\n",
       "      <td>2016-03-20 00:00:00</td>\n",
       "      <td>0</td>\n",
       "      <td>40764</td>\n",
       "      <td>2016-03-24 12:45:21</td>\n",
       "    </tr>\n",
       "  </tbody>\n",
       "</table>\n",
       "</div>"
      ],
      "text/plain": [
       "                DateCrawled  Price  VehicleType  RegistrationYear Gearbox  \\\n",
       "354356  2016-04-04 11:45:16    999  convertible              2000  manual   \n",
       "354357  2016-03-09 11:36:55   1690        wagon              2004  manual   \n",
       "354358  2016-04-04 09:57:12   1490        small              1998  manual   \n",
       "354359  2016-03-28 13:48:07   7900        sedan              2010  manual   \n",
       "354360  2016-04-02 20:37:03   3999        wagon              2005  manual   \n",
       "354361  2016-03-09 13:37:43   5250          NaN              2016    auto   \n",
       "354362  2016-03-19 19:53:49   3200        sedan              2004  manual   \n",
       "354363  2016-03-27 20:36:20   1150          bus              2000  manual   \n",
       "354364  2016-03-21 09:50:58      0          NaN              2005  manual   \n",
       "354365  2016-03-14 17:48:27   2200          NaN              2005     NaN   \n",
       "354366  2016-03-05 19:56:21   1199  convertible              2000    auto   \n",
       "354367  2016-03-19 18:57:12   9200          bus              1996  manual   \n",
       "354368  2016-03-20 19:41:08   3400        wagon              2002  manual   \n",
       "\n",
       "        Power        Model  Kilometer  RegistrationMonth  FuelType  \\\n",
       "354356     95       megane     150000                  4    petrol   \n",
       "354357     55        fabia     150000                  4    petrol   \n",
       "354358     50         lupo     150000                  9    petrol   \n",
       "354359    140         golf     150000                  7  gasoline   \n",
       "354360      3          3er     150000                  5  gasoline   \n",
       "354361    150          159     150000                 12       NaN   \n",
       "354362    225         leon     150000                  5    petrol   \n",
       "354363      0       zafira     150000                  3    petrol   \n",
       "354364      0         colt     150000                  7    petrol   \n",
       "354365      0          NaN      20000                  1       NaN   \n",
       "354366    101       fortwo     125000                  3    petrol   \n",
       "354367    102  transporter     150000                  3  gasoline   \n",
       "354368    100         golf     150000                  6  gasoline   \n",
       "\n",
       "                 Brand Repaired          DateCreated  NumberOfPictures  \\\n",
       "354356         renault      NaN  2016-04-04 00:00:00                 0   \n",
       "354357           skoda      NaN  2016-03-09 00:00:00                 0   \n",
       "354358      volkswagen       no  2016-04-04 00:00:00                 0   \n",
       "354359      volkswagen       no  2016-03-28 00:00:00                 0   \n",
       "354360             bmw       no  2016-04-02 00:00:00                 0   \n",
       "354361      alfa_romeo       no  2016-03-09 00:00:00                 0   \n",
       "354362            seat      yes  2016-03-19 00:00:00                 0   \n",
       "354363            opel       no  2016-03-27 00:00:00                 0   \n",
       "354364      mitsubishi      yes  2016-03-21 00:00:00                 0   \n",
       "354365  sonstige_autos      NaN  2016-03-14 00:00:00                 0   \n",
       "354366           smart       no  2016-03-05 00:00:00                 0   \n",
       "354367      volkswagen       no  2016-03-19 00:00:00                 0   \n",
       "354368      volkswagen      NaN  2016-03-20 00:00:00                 0   \n",
       "\n",
       "        PostalCode             LastSeen  \n",
       "354356       88477  2016-04-06 12:44:52  \n",
       "354357       18246  2016-04-04 08:15:30  \n",
       "354358       48653  2016-04-06 11:17:13  \n",
       "354359       75223  2016-04-02 18:16:20  \n",
       "354360       81825  2016-04-06 20:47:12  \n",
       "354361       51371  2016-03-13 01:44:13  \n",
       "354362       96465  2016-03-19 20:44:43  \n",
       "354363       26624  2016-03-29 10:17:23  \n",
       "354364        2694  2016-03-21 10:42:49  \n",
       "354365       39576  2016-04-06 00:46:52  \n",
       "354366       26135  2016-03-11 18:17:12  \n",
       "354367       87439  2016-04-07 07:15:26  \n",
       "354368       40764  2016-03-24 12:45:21  "
      ]
     },
     "metadata": {},
     "output_type": "display_data"
    },
    {
     "name": "stdout",
     "output_type": "stream",
     "text": [
      "<class 'pandas.core.frame.DataFrame'>\n",
      "RangeIndex: 354369 entries, 0 to 354368\n",
      "Data columns (total 16 columns):\n",
      " #   Column             Non-Null Count   Dtype \n",
      "---  ------             --------------   ----- \n",
      " 0   DateCrawled        354369 non-null  object\n",
      " 1   Price              354369 non-null  int64 \n",
      " 2   VehicleType        316879 non-null  object\n",
      " 3   RegistrationYear   354369 non-null  int64 \n",
      " 4   Gearbox            334536 non-null  object\n",
      " 5   Power              354369 non-null  int64 \n",
      " 6   Model              334664 non-null  object\n",
      " 7   Kilometer          354369 non-null  int64 \n",
      " 8   RegistrationMonth  354369 non-null  int64 \n",
      " 9   FuelType           321474 non-null  object\n",
      " 10  Brand              354369 non-null  object\n",
      " 11  Repaired           283215 non-null  object\n",
      " 12  DateCreated        354369 non-null  object\n",
      " 13  NumberOfPictures   354369 non-null  int64 \n",
      " 14  PostalCode         354369 non-null  int64 \n",
      " 15  LastSeen           354369 non-null  object\n",
      "dtypes: int64(7), object(9)\n",
      "memory usage: 43.3+ MB\n",
      "\n",
      "Описательная статистика датасета:\n"
     ]
    },
    {
     "data": {
      "text/html": [
       "<div>\n",
       "<style scoped>\n",
       "    .dataframe tbody tr th:only-of-type {\n",
       "        vertical-align: middle;\n",
       "    }\n",
       "\n",
       "    .dataframe tbody tr th {\n",
       "        vertical-align: top;\n",
       "    }\n",
       "\n",
       "    .dataframe thead th {\n",
       "        text-align: right;\n",
       "    }\n",
       "</style>\n",
       "<table border=\"1\" class=\"dataframe\">\n",
       "  <thead>\n",
       "    <tr style=\"text-align: right;\">\n",
       "      <th></th>\n",
       "      <th>Price</th>\n",
       "      <th>RegistrationYear</th>\n",
       "      <th>Power</th>\n",
       "      <th>Kilometer</th>\n",
       "      <th>RegistrationMonth</th>\n",
       "      <th>NumberOfPictures</th>\n",
       "      <th>PostalCode</th>\n",
       "    </tr>\n",
       "  </thead>\n",
       "  <tbody>\n",
       "    <tr>\n",
       "      <th>count</th>\n",
       "      <td>354369.000000</td>\n",
       "      <td>354369.000000</td>\n",
       "      <td>354369.000000</td>\n",
       "      <td>354369.000000</td>\n",
       "      <td>354369.000000</td>\n",
       "      <td>354369.0</td>\n",
       "      <td>354369.000000</td>\n",
       "    </tr>\n",
       "    <tr>\n",
       "      <th>mean</th>\n",
       "      <td>4416.656776</td>\n",
       "      <td>2004.234448</td>\n",
       "      <td>110.094337</td>\n",
       "      <td>128211.172535</td>\n",
       "      <td>5.714645</td>\n",
       "      <td>0.0</td>\n",
       "      <td>50508.689087</td>\n",
       "    </tr>\n",
       "    <tr>\n",
       "      <th>std</th>\n",
       "      <td>4514.158514</td>\n",
       "      <td>90.227958</td>\n",
       "      <td>189.850405</td>\n",
       "      <td>37905.341530</td>\n",
       "      <td>3.726421</td>\n",
       "      <td>0.0</td>\n",
       "      <td>25783.096248</td>\n",
       "    </tr>\n",
       "    <tr>\n",
       "      <th>min</th>\n",
       "      <td>0.000000</td>\n",
       "      <td>1000.000000</td>\n",
       "      <td>0.000000</td>\n",
       "      <td>5000.000000</td>\n",
       "      <td>0.000000</td>\n",
       "      <td>0.0</td>\n",
       "      <td>1067.000000</td>\n",
       "    </tr>\n",
       "    <tr>\n",
       "      <th>25%</th>\n",
       "      <td>1050.000000</td>\n",
       "      <td>1999.000000</td>\n",
       "      <td>69.000000</td>\n",
       "      <td>125000.000000</td>\n",
       "      <td>3.000000</td>\n",
       "      <td>0.0</td>\n",
       "      <td>30165.000000</td>\n",
       "    </tr>\n",
       "    <tr>\n",
       "      <th>50%</th>\n",
       "      <td>2700.000000</td>\n",
       "      <td>2003.000000</td>\n",
       "      <td>105.000000</td>\n",
       "      <td>150000.000000</td>\n",
       "      <td>6.000000</td>\n",
       "      <td>0.0</td>\n",
       "      <td>49413.000000</td>\n",
       "    </tr>\n",
       "    <tr>\n",
       "      <th>75%</th>\n",
       "      <td>6400.000000</td>\n",
       "      <td>2008.000000</td>\n",
       "      <td>143.000000</td>\n",
       "      <td>150000.000000</td>\n",
       "      <td>9.000000</td>\n",
       "      <td>0.0</td>\n",
       "      <td>71083.000000</td>\n",
       "    </tr>\n",
       "    <tr>\n",
       "      <th>max</th>\n",
       "      <td>20000.000000</td>\n",
       "      <td>9999.000000</td>\n",
       "      <td>20000.000000</td>\n",
       "      <td>150000.000000</td>\n",
       "      <td>12.000000</td>\n",
       "      <td>0.0</td>\n",
       "      <td>99998.000000</td>\n",
       "    </tr>\n",
       "  </tbody>\n",
       "</table>\n",
       "</div>"
      ],
      "text/plain": [
       "               Price  RegistrationYear          Power      Kilometer  \\\n",
       "count  354369.000000     354369.000000  354369.000000  354369.000000   \n",
       "mean     4416.656776       2004.234448     110.094337  128211.172535   \n",
       "std      4514.158514         90.227958     189.850405   37905.341530   \n",
       "min         0.000000       1000.000000       0.000000    5000.000000   \n",
       "25%      1050.000000       1999.000000      69.000000  125000.000000   \n",
       "50%      2700.000000       2003.000000     105.000000  150000.000000   \n",
       "75%      6400.000000       2008.000000     143.000000  150000.000000   \n",
       "max     20000.000000       9999.000000   20000.000000  150000.000000   \n",
       "\n",
       "       RegistrationMonth  NumberOfPictures     PostalCode  \n",
       "count      354369.000000          354369.0  354369.000000  \n",
       "mean            5.714645               0.0   50508.689087  \n",
       "std             3.726421               0.0   25783.096248  \n",
       "min             0.000000               0.0    1067.000000  \n",
       "25%             3.000000               0.0   30165.000000  \n",
       "50%             6.000000               0.0   49413.000000  \n",
       "75%             9.000000               0.0   71083.000000  \n",
       "max            12.000000               0.0   99998.000000  "
      ]
     },
     "metadata": {},
     "output_type": "display_data"
    },
    {
     "name": "stdout",
     "output_type": "stream",
     "text": [
      "Корреляция значений признаков\n"
     ]
    },
    {
     "data": {
      "text/html": [
       "<div>\n",
       "<style scoped>\n",
       "    .dataframe tbody tr th:only-of-type {\n",
       "        vertical-align: middle;\n",
       "    }\n",
       "\n",
       "    .dataframe tbody tr th {\n",
       "        vertical-align: top;\n",
       "    }\n",
       "\n",
       "    .dataframe thead th {\n",
       "        text-align: right;\n",
       "    }\n",
       "</style>\n",
       "<table border=\"1\" class=\"dataframe\">\n",
       "  <thead>\n",
       "    <tr style=\"text-align: right;\">\n",
       "      <th></th>\n",
       "      <th>Price</th>\n",
       "      <th>RegistrationYear</th>\n",
       "      <th>Power</th>\n",
       "      <th>Kilometer</th>\n",
       "      <th>RegistrationMonth</th>\n",
       "      <th>NumberOfPictures</th>\n",
       "      <th>PostalCode</th>\n",
       "    </tr>\n",
       "  </thead>\n",
       "  <tbody>\n",
       "    <tr>\n",
       "      <th>Price</th>\n",
       "      <td>1.000000</td>\n",
       "      <td>0.026916</td>\n",
       "      <td>0.158872</td>\n",
       "      <td>-0.333199</td>\n",
       "      <td>0.110581</td>\n",
       "      <td>NaN</td>\n",
       "      <td>0.076055</td>\n",
       "    </tr>\n",
       "    <tr>\n",
       "      <th>RegistrationYear</th>\n",
       "      <td>0.026916</td>\n",
       "      <td>1.000000</td>\n",
       "      <td>-0.000828</td>\n",
       "      <td>-0.053447</td>\n",
       "      <td>-0.011619</td>\n",
       "      <td>NaN</td>\n",
       "      <td>-0.003459</td>\n",
       "    </tr>\n",
       "    <tr>\n",
       "      <th>Power</th>\n",
       "      <td>0.158872</td>\n",
       "      <td>-0.000828</td>\n",
       "      <td>1.000000</td>\n",
       "      <td>0.024002</td>\n",
       "      <td>0.043380</td>\n",
       "      <td>NaN</td>\n",
       "      <td>0.021665</td>\n",
       "    </tr>\n",
       "    <tr>\n",
       "      <th>Kilometer</th>\n",
       "      <td>-0.333199</td>\n",
       "      <td>-0.053447</td>\n",
       "      <td>0.024002</td>\n",
       "      <td>1.000000</td>\n",
       "      <td>0.009571</td>\n",
       "      <td>NaN</td>\n",
       "      <td>-0.007698</td>\n",
       "    </tr>\n",
       "    <tr>\n",
       "      <th>RegistrationMonth</th>\n",
       "      <td>0.110581</td>\n",
       "      <td>-0.011619</td>\n",
       "      <td>0.043380</td>\n",
       "      <td>0.009571</td>\n",
       "      <td>1.000000</td>\n",
       "      <td>NaN</td>\n",
       "      <td>0.013995</td>\n",
       "    </tr>\n",
       "    <tr>\n",
       "      <th>NumberOfPictures</th>\n",
       "      <td>NaN</td>\n",
       "      <td>NaN</td>\n",
       "      <td>NaN</td>\n",
       "      <td>NaN</td>\n",
       "      <td>NaN</td>\n",
       "      <td>NaN</td>\n",
       "      <td>NaN</td>\n",
       "    </tr>\n",
       "    <tr>\n",
       "      <th>PostalCode</th>\n",
       "      <td>0.076055</td>\n",
       "      <td>-0.003459</td>\n",
       "      <td>0.021665</td>\n",
       "      <td>-0.007698</td>\n",
       "      <td>0.013995</td>\n",
       "      <td>NaN</td>\n",
       "      <td>1.000000</td>\n",
       "    </tr>\n",
       "  </tbody>\n",
       "</table>\n",
       "</div>"
      ],
      "text/plain": [
       "                      Price  RegistrationYear     Power  Kilometer  \\\n",
       "Price              1.000000          0.026916  0.158872  -0.333199   \n",
       "RegistrationYear   0.026916          1.000000 -0.000828  -0.053447   \n",
       "Power              0.158872         -0.000828  1.000000   0.024002   \n",
       "Kilometer         -0.333199         -0.053447  0.024002   1.000000   \n",
       "RegistrationMonth  0.110581         -0.011619  0.043380   0.009571   \n",
       "NumberOfPictures        NaN               NaN       NaN        NaN   \n",
       "PostalCode         0.076055         -0.003459  0.021665  -0.007698   \n",
       "\n",
       "                   RegistrationMonth  NumberOfPictures  PostalCode  \n",
       "Price                       0.110581               NaN    0.076055  \n",
       "RegistrationYear           -0.011619               NaN   -0.003459  \n",
       "Power                       0.043380               NaN    0.021665  \n",
       "Kilometer                   0.009571               NaN   -0.007698  \n",
       "RegistrationMonth           1.000000               NaN    0.013995  \n",
       "NumberOfPictures                 NaN               NaN         NaN  \n",
       "PostalCode                  0.013995               NaN    1.000000  "
      ]
     },
     "metadata": {},
     "output_type": "display_data"
    },
    {
     "data": {
      "image/png": "[encoded data removed]",
      "text/plain": [
       "<Figure size 1080x864 with 9 Axes>"
      ]
     },
     "metadata": {
      "needs_background": "light"
     },
     "output_type": "display_data"
    }
   ],
   "source": [
    "first_info(data, data_title='Данные об автомобилях в базе данных', head_length=13)"
   ]
  },
  {
   "cell_type": "markdown",
   "metadata": {},
   "source": [
    "### Предобрабтка данных"
   ]
  },
  {
   "cell_type": "markdown",
   "metadata": {},
   "source": [
    "В первую очередь приведем названия признаков в змеиный_регистр"
   ]
  },
  {
   "cell_type": "code",
   "execution_count": 8,
   "metadata": {},
   "outputs": [],
   "source": [
    "def snake_case(string):\n",
    "    '''\n",
    "    '''\n",
    "    result = ''\n",
    "    result = re.sub(r'(.)([A-Z])', r'\\1_\\2', string).lower()\n",
    "    \n",
    "    return result"
   ]
  },
  {
   "cell_type": "code",
   "execution_count": 9,
   "metadata": {},
   "outputs": [],
   "source": [
    "#data.columns = ['date_crawled', 'price', 'vehicle_type', 'registration_year', 'gearbox', 'power', 'model', 'kilometer', 'registration_month', 'fuel_type', 'brand', 'repaired', 'date_created', 'number_of_pictures', 'postal_code', 'last_seen']\n",
    "\n",
    "data.columns = [snake_case(i) for i in data.columns]"
   ]
  },
  {
   "cell_type": "markdown",
   "metadata": {},
   "source": [
    "#### Оценка пропусков, дубликатов и уникальных значений"
   ]
  },
  {
   "cell_type": "markdown",
   "metadata": {},
   "source": [
    "Для определения методов замены пропусков/ методов замены дубликатов:\n",
    "- оценим уникальные значения каждого признака\n",
    "- оценим количество пропусков в признаке"
   ]
  },
  {
   "cell_type": "code",
   "execution_count": 10,
   "metadata": {
    "scrolled": true
   },
   "outputs": [
    {
     "name": "stdout",
     "output_type": "stream",
     "text": [
      "Признак: date_crawled\n",
      "- Количество уникальных значений:  271174\n",
      "- Количество пропусков:  0\n",
      "Уникальные значения:\n",
      " ['2016-03-24 11:52:17' '2016-03-24 10:58:45' '2016-03-14 12:52:21' ...\n",
      " '2016-03-21 09:50:58' '2016-03-14 17:48:27' '2016-03-19 18:57:12']\n",
      "\n",
      "Признак: price\n",
      "- Количество уникальных значений:  3731\n",
      "- Количество пропусков:  0\n",
      "Уникальные значения:\n",
      " [  480 18300  9800 ... 12395 18429 10985]\n",
      "\n",
      "Признак: vehicle_type\n",
      "- Количество уникальных значений:  9\n",
      "- Количество пропусков:  37490\n",
      "Уникальные значения:\n",
      " [nan 'coupe' 'suv' 'small' 'sedan' 'convertible' 'bus' 'wagon' 'other']\n",
      "\n",
      "Признак: registration_year\n",
      "- Количество уникальных значений:  151\n",
      "- Количество пропусков:  0\n",
      "Уникальные значения:\n",
      " [1993 2011 2004 2001 2008 1995 1980 2014 1998 2005 1910 2016 2007 2009\n",
      " 2002 2018 1997 1990 2017 1981 2003 1994 1991 1984 2006 1999 2012 2010\n",
      " 2000 1992 2013 1996 1985 1989 2015 1982 1976 1983 1973 1111 1969 1971\n",
      " 1987 1986 1988 1970 1965 1945 1925 1974 1979 1955 1978 1972 1968 1977\n",
      " 1961 1960 1966 1975 1963 1964 5000 1954 1958 1967 1959 9999 1956 3200\n",
      " 1000 1941 8888 1500 2200 4100 1962 1929 1957 1940 3000 2066 1949 2019\n",
      " 1937 1951 1800 1953 1234 8000 5300 9000 2900 6000 5900 5911 1933 1400\n",
      " 1950 4000 1948 1952 1200 8500 1932 1255 3700 3800 4800 1942 7000 1935\n",
      " 1936 6500 1923 2290 2500 1930 1001 9450 1944 1943 1934 1938 1688 2800\n",
      " 1253 1928 1919 5555 5600 1600 2222 1039 9996 1300 8455 1931 1915 4500\n",
      " 1920 1602 7800 9229 1947 1927 7100 8200 1946 7500 3500]\n",
      "\n",
      "Признак: gearbox\n",
      "- Количество уникальных значений:  3\n",
      "- Количество пропусков:  19833\n",
      "Уникальные значения:\n",
      " ['manual' 'auto' nan]\n",
      "\n",
      "Признак: power\n",
      "- Количество уникальных значений:  712\n",
      "- Количество пропусков:  0\n",
      "Уникальные значения:\n",
      " [    0   190   163    75    69   102   109    50   125   101   105   140\n",
      "   115   131    60   136   160   231    90   118   193    99   113   218\n",
      "   122   129    70   306    95    61   177    80   170    55   143    64\n",
      "   286   232   150   156    82   155    54   185    87   180    86    84\n",
      "   224   235   200   178   265    77   110   144   120   116   184   126\n",
      "   204    88   194   305   197   179   250    45   313    41   165    98\n",
      "   130   114   211    56   201   213    58   107    83   174   100   220\n",
      "    85    73   192    68    66   299    74    52   147    65   310    71\n",
      "    97   239   203     5   300   103   258   320    63    81   148    44\n",
      "   145   230   280   260   104   188   333   186   117   141    59   132\n",
      "   234   158    39    92    51   135    53   209    43   146    67   106\n",
      "   166   276   344    72   249   237   245   111   326   279    23   138\n",
      "   175    96   226    26    37   301   334   128   133   124    33   219\n",
      "   241   167    94   182   196   238  1398   228   112    48   272   139\n",
      "  1799    40   240    79   256   360   243   375   252   396   340   108\n",
      "   121   345   187   289   222   198   284   450   233   387   152   347\n",
      "   172    57   137   212   476   314    30     7    47   173   290   207\n",
      "   205   171   750    78    91    89   349   325    76   151   350   953\n",
      "    93   142   500   343   199   119   164    16   264   367   208   210\n",
      "    46   435  1001   225   127   176   161   603   307   354    35   206\n",
      "   771   355   273   223   255   123   154   149  7515  1400   268   620\n",
      "   169   400   275    34     2   242  1779   285   162   328  1753   329\n",
      "   134   420   247   168 10317   215    18   330   283    62    10   214\n",
      "   183   254    15   321   322   315   952   600   181   426   599   379\n",
      "   999    22   157    42   195   553     4   309   507   381   271   440\n",
      "   189   401  1111  2729    21   236  1240  1704   521     1  1900   270\n",
      "    24   159   292   808   515  1200   303    29    38  1993    14   216\n",
      "   610   504    49   267   331   363   261   385  1011   253   696 10520\n",
      "   376   227   311    27   217    20  1999    11  1056    25   394    12\n",
      "   298   296  1659   294   551  6920   246    17  1800  1625   368   390\n",
      "   221  1367   259   606   327  2017  1597   266   374   392     9   405\n",
      "    13   262   601   430   295     8   411   900   541  7512   382 10218\n",
      "  7544  1102   287    19   751   297  1090   457   282   602   388     6\n",
      "  1000  5411   335  1360   202  3750   805  1062  1024 11530   364  1796\n",
      "  5000   269   460  1002   288  1780 12012 17932   316  2005  1399   191\n",
      "   278  1300   380   257   449  1256   153  1653   520   560   281 12510\n",
      "     3  1500   386    32  1202  2016  1436  1405   671   274  1288  1055\n",
      " 10912 15016  6226  1115   277  1105   341  1223  2340  8404  1968   338\n",
      "   445  1920   370   517  4400 10710 10522  9010   431  1164 11509   371\n",
      "  1501   428 11635    36   304   348  1703  1910  1995   579 10000   580\n",
      "   408    31  1005   358  1403   489  5575 19211   585   960   365   353\n",
      "   490   352  1801   346   550  3199   800  7508  1312   357  1937   950\n",
      "  4700  1600  3454 19208   251   850   337   700  8011  2331  2789   487\n",
      "   519  2461  6006  3500  5815  6018  1781  1503   612  1596   229  1506\n",
      "  5809 15020  5867  2172  1598 17410  1363   584  1054   851  1339   318\n",
      "   510   525  1700    28  1151   685  6011   317   703  1771 15001   514\n",
      "   362   332   324  6045   530   425   308  6010   475   903   640  2000\n",
      "   248   651  2799 17011   505  1103  1521   351 16051   398  9000  1998\n",
      " 10311   409  1230 17019 12684  8259  1895   901  1317   871   909  2201\n",
      "  1595   776 17700 11011  1199   459  1162  1120 15033  1896   339   361\n",
      "   574  6512   454   650 13616   604   607 16312  1082   336 20000   416\n",
      "   678  6012  1401  1021  1870 13636  1250  9710   323  1158  2009   902\n",
      "  6062  1275   572   244   399  1016   743  1221  2402 16011  1362   544\n",
      "   645   907   702 12512  1986  1003  1432  9013  9011   442  1017  1394\n",
      " 15017 10910  1992   540  2018 11025  1433  1701  2792  1502  1239  1390\n",
      " 14009  1160  1351 11111  1783  9007   923  1149   754  1988   402  2004\n",
      "  5420  1793  1324   356  7511  1299   293 19312  1079  1689   998  1100\n",
      "  9012  1933   508 16311   682  1252  1922  7529   732  2389  2200  1707\n",
      "  1416  8500  1012   485  3000 10110   421  4507  1631  7518   377  1004\n",
      "  2007  2598  1548  1241]\n",
      "\n",
      "Признак: model\n",
      "- Количество уникальных значений:  251\n",
      "- Количество пропусков:  19705\n",
      "Уникальные значения:\n",
      " ['golf' nan 'grand' 'fabia' '3er' '2_reihe' 'other' 'c_max' '3_reihe'\n",
      " 'passat' 'navara' 'ka' 'polo' 'twingo' 'a_klasse' 'scirocco' '5er'\n",
      " 'meriva' 'arosa' 'c4' 'civic' 'transporter' 'punto' 'e_klasse' 'clio'\n",
      " 'kadett' 'kangoo' 'corsa' 'one' 'fortwo' '1er' 'b_klasse' 'signum'\n",
      " 'astra' 'a8' 'jetta' 'fiesta' 'c_klasse' 'micra' 'vito' 'sprinter' '156'\n",
      " 'escort' 'forester' 'xc_reihe' 'scenic' 'a4' 'a1' 'insignia' 'combo'\n",
      " 'focus' 'tt' 'a6' 'jazz' 'omega' 'slk' '7er' '80' '147' '100' 'z_reihe'\n",
      " 'sportage' 'sorento' 'v40' 'ibiza' 'mustang' 'eos' 'touran' 'getz' 'a3'\n",
      " 'almera' 'megane' 'lupo' 'r19' 'zafira' 'caddy' 'mondeo' 'cordoba' 'colt'\n",
      " 'impreza' 'vectra' 'berlingo' 'tiguan' 'i_reihe' 'espace' 'sharan'\n",
      " '6_reihe' 'panda' 'up' 'seicento' 'ceed' '5_reihe' 'yeti' 'octavia' 'mii'\n",
      " 'rx_reihe' '6er' 'modus' 'fox' 'matiz' 'beetle' 'c1' 'rio' 'touareg'\n",
      " 'logan' 'spider' 'cuore' 's_max' 'a2' 'galaxy' 'c3' 'viano' 's_klasse'\n",
      " '1_reihe' 'avensis' 'roomster' 'sl' 'kaefer' 'santa' 'cooper' 'leon'\n",
      " '4_reihe' 'a5' '500' 'laguna' 'ptcruiser' 'clk' 'primera' 'x_reihe'\n",
      " 'exeo' '159' 'transit' 'juke' 'qashqai' 'carisma' 'accord' 'corolla'\n",
      " 'lanos' 'phaeton' 'verso' 'swift' 'rav' 'picanto' 'boxster' 'kalos'\n",
      " 'superb' 'stilo' 'alhambra' 'mx_reihe' 'roadster' 'ypsilon' 'cayenne'\n",
      " 'galant' 'justy' '90' 'sirion' 'crossfire' 'agila' 'duster' 'cr_reihe'\n",
      " 'v50' 'c_reihe' 'v_klasse' 'm_klasse' 'yaris' 'c5' 'aygo' 'cc' 'carnival'\n",
      " 'fusion' '911' 'bora' 'forfour' 'm_reihe' 'cl' 'tigra' '300c' 'spark'\n",
      " 'v70' 'kuga' 'x_type' 'ducato' 's_type' 'x_trail' 'toledo' 'altea'\n",
      " 'voyager' 'calibra' 'bravo' 'antara' 'tucson' 'citigo' 'jimny' 'wrangler'\n",
      " 'lybra' 'q7' 'lancer' 'captiva' 'c2' 'discovery' 'freelander' 'sandero'\n",
      " 'note' '900' 'cherokee' 'clubman' 'samara' 'defender' '601' 'cx_reihe'\n",
      " 'legacy' 'pajero' 'auris' 'niva' 's60' 'nubira' 'vivaro' 'g_klasse'\n",
      " 'lodgy' '850' 'range_rover' 'q3' 'serie_2' 'glk' 'charade' 'croma'\n",
      " 'outlander' 'doblo' 'musa' 'move' '9000' 'v60' '145' 'aveo' '200' 'b_max'\n",
      " 'range_rover_sport' 'terios' 'rangerover' 'q5' 'range_rover_evoque'\n",
      " 'materia' 'delta' 'gl' 'kalina' 'amarok' 'elefantino' 'i3' 'kappa'\n",
      " 'serie_3' 'serie_1']\n",
      "\n",
      "Признак: kilometer\n",
      "- Количество уникальных значений:  13\n",
      "- Количество пропусков:  0\n",
      "Уникальные значения:\n",
      " [150000 125000  90000  40000  30000  70000   5000 100000  60000  20000\n",
      "  80000  50000  10000]\n",
      "\n",
      "Признак: registration_month\n",
      "- Количество уникальных значений:  13\n",
      "- Количество пропусков:  0\n",
      "Уникальные значения:\n",
      " [ 0  5  8  6  7 10 12 11  2  3  1  4  9]\n",
      "\n",
      "Признак: fuel_type\n",
      "- Количество уникальных значений:  8\n",
      "- Количество пропусков:  32895\n",
      "Уникальные значения:\n",
      " ['petrol' 'gasoline' nan 'lpg' 'other' 'hybrid' 'cng' 'electric']\n",
      "\n",
      "Признак: brand\n",
      "- Количество уникальных значений:  40\n",
      "- Количество пропусков:  0\n",
      "Уникальные значения:\n",
      " ['volkswagen' 'audi' 'jeep' 'skoda' 'bmw' 'peugeot' 'ford' 'mazda'\n",
      " 'nissan' 'renault' 'mercedes_benz' 'opel' 'seat' 'citroen' 'honda' 'fiat'\n",
      " 'mini' 'smart' 'hyundai' 'sonstige_autos' 'alfa_romeo' 'subaru' 'volvo'\n",
      " 'mitsubishi' 'kia' 'suzuki' 'lancia' 'toyota' 'chevrolet' 'dacia'\n",
      " 'daihatsu' 'trabant' 'saab' 'chrysler' 'jaguar' 'daewoo' 'porsche'\n",
      " 'rover' 'land_rover' 'lada']\n",
      "\n",
      "Признак: repaired\n"
     ]
    },
    {
     "name": "stdout",
     "output_type": "stream",
     "text": [
      "- Количество уникальных значений:  3\n",
      "- Количество пропусков:  71154\n",
      "Уникальные значения:\n",
      " [nan 'yes' 'no']\n",
      "\n",
      "Признак: date_created\n",
      "- Количество уникальных значений:  109\n",
      "- Количество пропусков:  0\n",
      "Уникальные значения:\n",
      " ['2016-03-24 00:00:00' '2016-03-14 00:00:00' '2016-03-17 00:00:00'\n",
      " '2016-03-31 00:00:00' '2016-04-04 00:00:00' '2016-04-01 00:00:00'\n",
      " '2016-03-21 00:00:00' '2016-03-26 00:00:00' '2016-04-07 00:00:00'\n",
      " '2016-03-15 00:00:00' '2016-03-11 00:00:00' '2016-03-20 00:00:00'\n",
      " '2016-03-23 00:00:00' '2016-03-27 00:00:00' '2016-03-12 00:00:00'\n",
      " '2016-03-13 00:00:00' '2016-03-18 00:00:00' '2016-03-10 00:00:00'\n",
      " '2016-03-07 00:00:00' '2016-03-09 00:00:00' '2016-03-08 00:00:00'\n",
      " '2016-04-03 00:00:00' '2016-03-29 00:00:00' '2016-03-25 00:00:00'\n",
      " '2016-03-28 00:00:00' '2016-03-30 00:00:00' '2016-03-22 00:00:00'\n",
      " '2016-02-09 00:00:00' '2016-03-05 00:00:00' '2016-04-02 00:00:00'\n",
      " '2016-03-16 00:00:00' '2016-03-19 00:00:00' '2016-04-05 00:00:00'\n",
      " '2016-03-06 00:00:00' '2016-02-12 00:00:00' '2016-03-03 00:00:00'\n",
      " '2016-03-01 00:00:00' '2016-03-04 00:00:00' '2016-04-06 00:00:00'\n",
      " '2016-02-15 00:00:00' '2016-02-24 00:00:00' '2016-02-27 00:00:00'\n",
      " '2015-03-20 00:00:00' '2016-02-28 00:00:00' '2016-02-17 00:00:00'\n",
      " '2016-01-27 00:00:00' '2016-02-20 00:00:00' '2016-02-29 00:00:00'\n",
      " '2016-02-10 00:00:00' '2016-02-23 00:00:00' '2016-02-21 00:00:00'\n",
      " '2015-11-02 00:00:00' '2016-02-19 00:00:00' '2016-02-26 00:00:00'\n",
      " '2016-02-11 00:00:00' '2016-01-10 00:00:00' '2016-02-06 00:00:00'\n",
      " '2016-02-18 00:00:00' '2016-01-29 00:00:00' '2016-03-02 00:00:00'\n",
      " '2015-12-06 00:00:00' '2016-01-24 00:00:00' '2016-01-30 00:00:00'\n",
      " '2016-02-02 00:00:00' '2016-02-16 00:00:00' '2016-02-13 00:00:00'\n",
      " '2016-02-05 00:00:00' '2016-02-22 00:00:00' '2015-11-17 00:00:00'\n",
      " '2014-03-10 00:00:00' '2016-02-07 00:00:00' '2016-01-23 00:00:00'\n",
      " '2016-02-25 00:00:00' '2016-02-14 00:00:00' '2016-01-02 00:00:00'\n",
      " '2015-09-04 00:00:00' '2015-11-12 00:00:00' '2015-12-27 00:00:00'\n",
      " '2015-11-24 00:00:00' '2016-01-20 00:00:00' '2016-02-03 00:00:00'\n",
      " '2015-12-05 00:00:00' '2015-08-07 00:00:00' '2016-01-28 00:00:00'\n",
      " '2016-01-31 00:00:00' '2016-02-08 00:00:00' '2016-01-07 00:00:00'\n",
      " '2016-01-22 00:00:00' '2016-01-18 00:00:00' '2016-01-08 00:00:00'\n",
      " '2015-11-23 00:00:00' '2016-01-13 00:00:00' '2016-01-17 00:00:00'\n",
      " '2016-01-15 00:00:00' '2015-11-08 00:00:00' '2016-01-26 00:00:00'\n",
      " '2016-02-04 00:00:00' '2016-01-25 00:00:00' '2016-01-16 00:00:00'\n",
      " '2015-08-10 00:00:00' '2016-01-03 00:00:00' '2016-01-19 00:00:00'\n",
      " '2015-12-30 00:00:00' '2016-02-01 00:00:00' '2015-12-17 00:00:00'\n",
      " '2015-11-10 00:00:00' '2016-01-06 00:00:00' '2015-09-09 00:00:00'\n",
      " '2015-06-18 00:00:00']\n",
      "\n",
      "Признак: number_of_pictures\n",
      "- Количество уникальных значений:  1\n",
      "- Количество пропусков:  0\n",
      "Уникальные значения:\n",
      " [0]\n",
      "\n",
      "Признак: postal_code\n",
      "- Количество уникальных значений:  8143\n",
      "- Количество пропусков:  0\n",
      "Уникальные значения:\n",
      " [70435 66954 90480 ... 38528 38325 31096]\n",
      "\n",
      "Признак: last_seen\n",
      "- Количество уникальных значений:  179150\n",
      "- Количество пропусков:  0\n",
      "Уникальные значения:\n",
      " ['2016-04-07 03:16:57' '2016-04-07 01:46:50' '2016-04-05 12:47:46' ...\n",
      " '2016-03-19 20:44:43' '2016-03-29 10:17:23' '2016-03-21 10:42:49']\n",
      "\n"
     ]
    }
   ],
   "source": [
    "for column in data.columns:\n",
    "    print('Признак:', column)\n",
    "    print('- Количество уникальных значений: ', len(data[column].unique()))\n",
    "    print('- Количество пропусков: ', data[column].isnull().sum())\n",
    "    print('Уникальные значения:\\n', data[column].unique())\n",
    "    print()"
   ]
  },
  {
   "cell_type": "markdown",
   "metadata": {},
   "source": [
    "#### Сводная таблица признаков"
   ]
  },
  {
   "cell_type": "markdown",
   "metadata": {},
   "source": [
    "Полученную информацию разместим в сводной таблице признаков:\n",
    "\n",
    "| feature (column)<br>name | description                                     | data type | NEW<br>data type | feature type | number of<br>records | number of<br>NaNs | replace <br>the NaN with | is there <br>a outlier? | note                                             |\n",
    "|:--------------------------|:-------------------------------------------------|:-----------|:------------------|:--------------|:----------------------|:-------------------|:--------------------------|:-------------------------|:--------------------------------------------------|\n",
    "| date_crawled             | дата скачивания анкеты из базы                  | object    | datetime64       | numerical    | 354369               | 0                 | -                        | -                       | Не информативен - не относится к стоимости авто    |\n",
    "| price                    | цена (евро)                                     | int64     | -                | numerical    | 354369               | 0                 | -                        | True                   | target                                           |\n",
    "| vehicle_type             | тип автомобильного кузова                       | object    | -                | categorical  | 316879               | 37490             | 'other'                  | -                       | -                                                |\n",
    "| registration_year        | год регистрации автомобиля                      | int64     | -                | numerical    | 354369               | 0                 | -                        | True                    | !!!Важность требует обоснования!!!               |\n",
    "| gearbox                  | тип коробки передач                             | object    | -                | categorical  | 334536               | 19833             | 'other'                  | -                       | -                                                |\n",
    "| power                    | мощность (л. с.)                                | int64     | -                | numerical    | 354369               | 0                 | -                        | True                    | -                                                |\n",
    "| model                    | модель автомобиля                               | object    | -                | categorical  | 334664               | 19705             | 'other'                  | -                       | Неявные дубликаты<br>'sonstige_autos' -> 'other' |\n",
    "| kilometer                | пробег (км)                                     | int64     | -                | numerical    | 354369               | 0                 | -                        | False                   | -                                                |\n",
    "| registration_month       | месяц регистрации автомобиля                    | int64     | -                | categorical  | 354369               | 0                 | -                        | -                       | Не информативен - не относится к стоимости авто    |\n",
    "| fuel_type                | тип топлива                                     | object    | -                | categorical  | 321474               | 32895             | 'other'                  | -                       | Неявные дубликаты:<br>'gasoline' -> 'petrol'     |\n",
    "| brand                    | марка автомобиля                                | object    | -                | categorical  | 354369               | 0                 | -                        | -                       | -                                                |\n",
    "| repaired                 | была машина в ремонте или нет                   | object    | -                | categorical  | 283215               | 71154             | 'other'                  | -                       | -                                                |\n",
    "| date_created             | дата создания анкеты                            | object    | datetime64       | numerical    | 354369               | 0                 | -                        | -                       | Не информативен - не относится к стоимости авто    |\n",
    "| number_of_pictures       | количество фотографий автомобиля                | int64     | -                | categorical  | 354369               | 0                 | -                        | -                       | Не информативен - только одно значение           |\n",
    "| postal_code              | почтовый индекс владельца анкеты (пользователя) | int64     | -                | categorical  | 354369               | 0                 | -                        | -                       | Не информативен - не относится к стоимости авто    |\n",
    "| last_seen                | дата последней активности пользователя          | object    | datetime64       | numerical    | 354369               | 0                 | -                        | -                       | Не информативен - не относится к стоимости авто    |"
   ]
  },
  {
   "cell_type": "markdown",
   "metadata": {},
   "source": [
    "`registration_year` - судя по значениям и распределению: это год первичной регистрации производства автомобиля, т.е. фактически его возраст.\n",
    "\n",
    "Более полную информацию о признаке получить у заказчика не удалось, поэтому этот признак будет считаться информативным и будет применятся для задач обучения моделей, на основании предположения в исследовании."
   ]
  },
  {
   "cell_type": "markdown",
   "metadata": {},
   "source": [
    "#### Преобразовывание типов данных"
   ]
  },
  {
   "cell_type": "markdown",
   "metadata": {},
   "source": [
    "В настоящем исследовании преобразовывать типы не обязательно,<br> \n",
    "т.к. согласно сводной таблице признаков все преобразовываемые признаки будут исключены. <br>\n",
    "<br>\n",
    "Однако в целях повторения и закрепления материала, предобработка будет выполнена."
   ]
  },
  {
   "cell_type": "code",
   "execution_count": 11,
   "metadata": {},
   "outputs": [],
   "source": [
    "data['date_crawled'] = pd.to_datetime(data['date_crawled'], format='%Y-%m-%d %H:%M:%S')\n",
    "data['date_created'] = pd.to_datetime(data['date_created'], format='%Y-%m-%d %H:%M:%S')\n",
    "data['last_seen'] = pd.to_datetime(data['last_seen'], format='%Y-%m-%d %H:%M:%S')"
   ]
  },
  {
   "cell_type": "markdown",
   "metadata": {},
   "source": [
    "#### Оценка и удаление полных дубликатов строк"
   ]
  },
  {
   "cell_type": "code",
   "execution_count": 12,
   "metadata": {
    "scrolled": true
   },
   "outputs": [
    {
     "name": "stdout",
     "output_type": "stream",
     "text": [
      "Количество полных дубликатов строк: 4\n",
      "Полные дубликаты строк удалены.\n",
      "Проверка. Осталось 0 дубликатов.\n"
     ]
    }
   ],
   "source": [
    "print('Количество полных дубликатов строк:', data.duplicated().sum())\n",
    "data.drop_duplicates(subset=None, inplace=True, ignore_index=True)\n",
    "print('Полные дубликаты строк удалены.\\nПроверка. Осталось', data.duplicated().sum(), 'дубликатов.')"
   ]
  },
  {
   "cell_type": "markdown",
   "metadata": {},
   "source": [
    "#### Оценка и удаление неявных дубликатов в значениях признаков"
   ]
  },
  {
   "cell_type": "markdown",
   "metadata": {},
   "source": [
    "Согласно сводной таблице признаков неявные дубликаты обнаружены в признаках\n",
    "  - `model`: замена 'sonstige_autos' -> 'other'\n",
    "  - `fuel_type`: замена 'gasoline' -> 'petrol'\n",
    "\n",
    "Произведем указанные замены:"
   ]
  },
  {
   "cell_type": "code",
   "execution_count": 13,
   "metadata": {},
   "outputs": [],
   "source": [
    "data['model'].replace(to_replace='sonstige_autos', value = 'other', inplace = True)\n",
    "data['fuel_type'].replace(to_replace='gasoline', value = 'petrol', inplace = True)"
   ]
  },
  {
   "cell_type": "markdown",
   "metadata": {},
   "source": [
    "#### Замена пропусков в значениях признаков, согласно правилам из сводной таблицы признаков"
   ]
  },
  {
   "cell_type": "markdown",
   "metadata": {},
   "source": [
    "В признаках `vehicle_type`, `gearbox`, `model`, `fuel_type`, `repaired` обнаружены пропуски. Так как во всех этих признаках присутствует значение 'other' заменим пропуски на это значение, как наиболее подходящее по смыслу."
   ]
  },
  {
   "cell_type": "code",
   "execution_count": 14,
   "metadata": {},
   "outputs": [],
   "source": [
    "nan_features = ['vehicle_type', 'gearbox', 'model', 'fuel_type', 'repaired']\n",
    "for column in nan_features:\n",
    "    data[column].fillna(value='other', inplace=True)"
   ]
  },
  {
   "cell_type": "markdown",
   "metadata": {},
   "source": [
    "#### Обработка выявленных выбросов в значениях признаков"
   ]
  },
  {
   "cell_type": "markdown",
   "metadata": {},
   "source": [
    "Согласно сводной таблице признаков выбросы обнаружены в признаках\n",
    "  - `price`\n",
    "  - `registration_year`\n",
    "  - `power`\n",
    "  "
   ]
  },
  {
   "cell_type": "markdown",
   "metadata": {},
   "source": [
    "Рассмотрим подробнее `price`:"
   ]
  },
  {
   "cell_type": "code",
   "execution_count": 15,
   "metadata": {
    "scrolled": false
   },
   "outputs": [
    {
     "name": "stdout",
     "output_type": "stream",
     "text": [
      "Набор гистограмм признака price (цена (евро)) для различных диапазонов значений\n"
     ]
    },
    {
     "data": {
      "image/png": "[encoded data removed]",
      "text/plain": [
       "<Figure size 1152x576 with 5 Axes>"
      ]
     },
     "metadata": {
      "needs_background": "light"
     },
     "output_type": "display_data"
    }
   ],
   "source": [
    "hist_show(data['price'], title='price (цена (евро))', \n",
    "          range_list=[(0, 2), (3, 50), (51, 100), (101, 20000)])"
   ]
  },
  {
   "cell_type": "code",
   "execution_count": 16,
   "metadata": {},
   "outputs": [],
   "source": [
    "outlier_part = 0"
   ]
  },
  {
   "cell_type": "code",
   "execution_count": 17,
   "metadata": {},
   "outputs": [
    {
     "name": "stdout",
     "output_type": "stream",
     "text": [
      "Судя по гистограммам, и принимая во внимание реалии автомобилестроения в мире,\n",
      "исследованием принят следующий достоверный диапазон значений: 100-20000\n",
      "\n",
      "Количество объектов со значением признака price вне диапазона 100-20000: 13314 шт.\n"
     ]
    }
   ],
   "source": [
    "valid_range_0 = (100,20000)\n",
    "\n",
    "print(f'Судя по гистограммам, и принимая во внимание реалии автомобилестроения в мире,\\nисследованием принят следующий достоверный диапазон значений: {valid_range_0[0]}-{valid_range_0[1]}')\n",
    "print()\n",
    "print(f'Количество объектов со значением признака price вне диапазона {valid_range_0[0]}-{valid_range_0[1]}: ', end='')\n",
    "print(len(data[(data['price'] < valid_range_0[0]) | (data['price'] > valid_range_0[1])]), 'шт.')\n",
    "\n",
    "outlier_part += len(data[(data['price'] < valid_range_0[0]) | (data['price'] > valid_range_0[1])]) / len(data)"
   ]
  },
  {
   "cell_type": "markdown",
   "metadata": {},
   "source": [
    "Рассмотрим подробнее `registration_year`:"
   ]
  },
  {
   "cell_type": "code",
   "execution_count": 18,
   "metadata": {
    "scrolled": false
   },
   "outputs": [
    {
     "name": "stdout",
     "output_type": "stream",
     "text": [
      "Набор гистограмм признака registration_year (год регистрации автомобиля) для различных диапазонов значений\n"
     ]
    },
    {
     "data": {
      "image/png": "[encoded data removed]",
      "text/plain": [
       "<Figure size 1152x576 with 5 Axes>"
      ]
     },
     "metadata": {
      "needs_background": "light"
     },
     "output_type": "display_data"
    }
   ],
   "source": [
    "hist_show(data['registration_year'], title='registration_year (год регистрации автомобиля)', \n",
    "          range_list=[(0, 1885), (1886, 1959), (1960, 2020), (2020, 10000)])"
   ]
  },
  {
   "cell_type": "markdown",
   "metadata": {},
   "source": [
    "Для опеределения верхней границы достоверного диапазона признака `registration_year` обратимся к распределению значений признака `date_crawled` и `date_created`"
   ]
  },
  {
   "cell_type": "code",
   "execution_count": 19,
   "metadata": {},
   "outputs": [
    {
     "data": {
      "image/png": "[encoded data removed]",
      "text/plain": [
       "<Figure size 1080x576 with 1 Axes>"
      ]
     },
     "metadata": {
      "needs_background": "light"
     },
     "output_type": "display_data"
    }
   ],
   "source": [
    "data['date_crawled'].hist(bins=42, figsize=(15,8));\n",
    "plt.title('Распределение значений признака `date_crawled`');"
   ]
  },
  {
   "cell_type": "code",
   "execution_count": 20,
   "metadata": {
    "scrolled": true
   },
   "outputs": [
    {
     "data": {
      "image/png": "[encoded data removed]",
      "text/plain": [
       "<Figure size 1080x576 with 1 Axes>"
      ]
     },
     "metadata": {
      "needs_background": "light"
     },
     "output_type": "display_data"
    }
   ],
   "source": [
    "data['date_created'].hist(bins=42, figsize=(15,8));\n",
    "plt.title('Распределение значений признака `date_created`');"
   ]
  },
  {
   "cell_type": "markdown",
   "metadata": {},
   "source": [
    "Согласно распределениям значений признаков `date_crawled` и `date_created` максимальное учитываемое значение признака `registration_year` не может быть больше 2016."
   ]
  },
  {
   "cell_type": "code",
   "execution_count": 21,
   "metadata": {},
   "outputs": [
    {
     "name": "stdout",
     "output_type": "stream",
     "text": [
      "Судя по гистограммам, и принимая во внимание реалии автомобилестроения в мире,\n",
      "исследованием принят следующий достоверный диапазон значений: 1911-2016\n",
      "\n",
      "Количество объектов со значением признака registration_year вне диапазона 1911-2016: 14697 шт.\n"
     ]
    }
   ],
   "source": [
    "valid_range_1 = (1911,2016)\n",
    "\n",
    "print(f'Судя по гистограммам, и принимая во внимание реалии автомобилестроения в мире,\\nисследованием принят следующий достоверный диапазон значений: {valid_range_1[0]}-{valid_range_1[1]}')\n",
    "print()\n",
    "print(f'Количество объектов со значением признака registration_year вне диапазона {valid_range_1[0]}-{valid_range_1[1]}: ', end='')\n",
    "print(len(data[(data['registration_year'] < valid_range_1[0]) | (data['registration_year'] > valid_range_1[1])]), 'шт.')\n",
    "\n",
    "outlier_part += len(data[(data['registration_year'] < valid_range_1[0]) | (data['registration_year'] > valid_range_1[1])]) / len(data)"
   ]
  },
  {
   "cell_type": "markdown",
   "metadata": {},
   "source": [
    "Рассмотрим подробнее `power`:"
   ]
  },
  {
   "cell_type": "code",
   "execution_count": 22,
   "metadata": {
    "scrolled": false
   },
   "outputs": [
    {
     "name": "stdout",
     "output_type": "stream",
     "text": [
      "Набор гистограмм признака power (мощность (л. с.)) для различных диапазонов значений\n"
     ]
    },
    {
     "data": {
      "image/png": "[encoded data removed]",
      "text/plain": [
       "<Figure size 1152x576 with 5 Axes>"
      ]
     },
     "metadata": {
      "needs_background": "light"
     },
     "output_type": "display_data"
    }
   ],
   "source": [
    "hist_show(data['power'], title='power (мощность (л. с.))', \n",
    "          range_list=[(0, 2), (3, 29), (30, 600), (601, 20000)])"
   ]
  },
  {
   "cell_type": "code",
   "execution_count": 23,
   "metadata": {},
   "outputs": [
    {
     "name": "stdout",
     "output_type": "stream",
     "text": [
      "Локальный выброс значений признака \"power\" при значении = 0, составляет 11.351% от общего размера выборки.\n",
      "\n",
      "Количество выбросов составляет более 1% от полного набора данных.\n",
      "Исследованием принято решение выбросы заменить на медианные значения.\n"
     ]
    }
   ],
   "source": [
    "zero_part = data['power'][data['power'] == 0].count() / len(data)\n",
    "print(f'Локальный выброс значений признака \"power\" при значении = 0, составляет {zero_part:.3%} от общего размера выборки.')\n",
    "print()\n",
    "\n",
    "if zero_part < 0.01:\n",
    "    print('Количество выбросов составляет менее 1% от полного набора данных.\\nИсследованием принято решение выбросы удалить.')\n",
    "    data = data[data['power'] != 0]\n",
    "else:\n",
    "    print('Количество выбросов составляет более 1% от полного набора данных.\\nИсследованием принято решение выбросы заменить на медианные значения.')\n",
    "    data['power'].replace(to_replace=0, value = int(data['power'].median()), inplace = True)"
   ]
  },
  {
   "cell_type": "code",
   "execution_count": 24,
   "metadata": {},
   "outputs": [
    {
     "name": "stdout",
     "output_type": "stream",
     "text": [
      "Судя по гистограммам, и принимая во внимание реалии автомобилестроения в мире,\n",
      "исследованием принят следующий достоверный диапазон значений: 30-600\n",
      "\n",
      "Количество объектов со значением признака power вне диапазона 30-600: 1292 шт.\n"
     ]
    }
   ],
   "source": [
    "valid_range_2 = (30,600)\n",
    "print(f'Судя по гистограммам, и принимая во внимание реалии автомобилестроения в мире,\\nисследованием принят следующий достоверный диапазон значений: {valid_range_2[0]}-{valid_range_2[1]}')\n",
    "print()\n",
    "print(f'Количество объектов со значением признака power вне диапазона {valid_range_2[0]}-{valid_range_2[1]}: ', end='')\n",
    "print(len(data[(data['power'] < valid_range_2[0]) | (data['power'] > valid_range_2[1])]), 'шт.')\n",
    "\n",
    "outlier_part += len(data[(data['power'] < valid_range_2[0]) | (data['power'] > valid_range_2[1])]) / len(data)"
   ]
  },
  {
   "cell_type": "code",
   "execution_count": 25,
   "metadata": {
    "scrolled": true
   },
   "outputs": [
    {
     "name": "stdout",
     "output_type": "stream",
     "text": [
      "Количество значений признаков \"price\", \"registration_year\" и \"power\",\n",
      "находящихся вне достоверных диапазонов составляет 8.269% от общего размера выборки.\n",
      "\n",
      "Количество выбросов составляет менее 10.0% от полного набора данных.\n",
      "Исследованием принято решение выбросы удалить.\n"
     ]
    }
   ],
   "source": [
    "print(f'Количество значений признаков \"price\", \"registration_year\" и \"power\",\\nнаходящихся вне достоверных диапазонов составляет {outlier_part:.3%} от общего размера выборки.')\n",
    "print()\n",
    "if outlier_part < REM_LIMIT:\n",
    "    print(f'Количество выбросов составляет менее {REM_LIMIT:.1%} от полного набора данных.\\nИсследованием принято решение выбросы удалить.')\n",
    "    data = data[(data['price'] >= valid_range_0[0]) & (data['power'] <= valid_range_0[1])]\n",
    "    data = data[(data['registration_year'] >= valid_range_1[0]) & (data['registration_year'] <= valid_range_1[1])]\n",
    "    data = data[(data['power'] >= valid_range_2[0]) & (data['power'] <= valid_range_2[1])]\n",
    "    \n",
    "else:\n",
    "    print(f'Количество выбросов составляет более {REM_LIMIT:.1%} от полного набора данных.\\nИсследованием принято решение выбросы оставить.')\n",
    "    "
   ]
  },
  {
   "cell_type": "markdown",
   "metadata": {},
   "source": [
    "#### Удаление неинформативных признаков, согласно правилам из сводной таблицы признаков"
   ]
  },
  {
   "cell_type": "code",
   "execution_count": 26,
   "metadata": {},
   "outputs": [],
   "source": [
    "unimportant_features = ['date_crawled', 'registration_month', 'date_created', 'number_of_pictures', 'postal_code', 'last_seen']\n",
    "data.drop(columns=unimportant_features, inplace=True)"
   ]
  },
  {
   "cell_type": "markdown",
   "metadata": {},
   "source": [
    "### Оценка данных после предобработки"
   ]
  },
  {
   "cell_type": "code",
   "execution_count": 27,
   "metadata": {
    "scrolled": false
   },
   "outputs": [
    {
     "name": "stdout",
     "output_type": "stream",
     "text": [
      "Данные по датасету: Данные об автомобилях в базе данных\n",
      "Данные после предобработки.\n"
     ]
    },
    {
     "data": {
      "text/html": [
       "<div>\n",
       "<style scoped>\n",
       "    .dataframe tbody tr th:only-of-type {\n",
       "        vertical-align: middle;\n",
       "    }\n",
       "\n",
       "    .dataframe tbody tr th {\n",
       "        vertical-align: top;\n",
       "    }\n",
       "\n",
       "    .dataframe thead th {\n",
       "        text-align: right;\n",
       "    }\n",
       "</style>\n",
       "<table border=\"1\" class=\"dataframe\">\n",
       "  <thead>\n",
       "    <tr style=\"text-align: right;\">\n",
       "      <th></th>\n",
       "      <th>price</th>\n",
       "      <th>vehicle_type</th>\n",
       "      <th>registration_year</th>\n",
       "      <th>gearbox</th>\n",
       "      <th>power</th>\n",
       "      <th>model</th>\n",
       "      <th>kilometer</th>\n",
       "      <th>fuel_type</th>\n",
       "      <th>brand</th>\n",
       "      <th>repaired</th>\n",
       "    </tr>\n",
       "  </thead>\n",
       "  <tbody>\n",
       "    <tr>\n",
       "      <th>0</th>\n",
       "      <td>480</td>\n",
       "      <td>other</td>\n",
       "      <td>1993</td>\n",
       "      <td>manual</td>\n",
       "      <td>105</td>\n",
       "      <td>golf</td>\n",
       "      <td>150000</td>\n",
       "      <td>petrol</td>\n",
       "      <td>volkswagen</td>\n",
       "      <td>other</td>\n",
       "    </tr>\n",
       "    <tr>\n",
       "      <th>1</th>\n",
       "      <td>18300</td>\n",
       "      <td>coupe</td>\n",
       "      <td>2011</td>\n",
       "      <td>manual</td>\n",
       "      <td>190</td>\n",
       "      <td>other</td>\n",
       "      <td>125000</td>\n",
       "      <td>petrol</td>\n",
       "      <td>audi</td>\n",
       "      <td>yes</td>\n",
       "    </tr>\n",
       "    <tr>\n",
       "      <th>2</th>\n",
       "      <td>9800</td>\n",
       "      <td>suv</td>\n",
       "      <td>2004</td>\n",
       "      <td>auto</td>\n",
       "      <td>163</td>\n",
       "      <td>grand</td>\n",
       "      <td>125000</td>\n",
       "      <td>petrol</td>\n",
       "      <td>jeep</td>\n",
       "      <td>other</td>\n",
       "    </tr>\n",
       "    <tr>\n",
       "      <th>3</th>\n",
       "      <td>1500</td>\n",
       "      <td>small</td>\n",
       "      <td>2001</td>\n",
       "      <td>manual</td>\n",
       "      <td>75</td>\n",
       "      <td>golf</td>\n",
       "      <td>150000</td>\n",
       "      <td>petrol</td>\n",
       "      <td>volkswagen</td>\n",
       "      <td>no</td>\n",
       "    </tr>\n",
       "    <tr>\n",
       "      <th>4</th>\n",
       "      <td>3600</td>\n",
       "      <td>small</td>\n",
       "      <td>2008</td>\n",
       "      <td>manual</td>\n",
       "      <td>69</td>\n",
       "      <td>fabia</td>\n",
       "      <td>90000</td>\n",
       "      <td>petrol</td>\n",
       "      <td>skoda</td>\n",
       "      <td>no</td>\n",
       "    </tr>\n",
       "    <tr>\n",
       "      <th>5</th>\n",
       "      <td>650</td>\n",
       "      <td>sedan</td>\n",
       "      <td>1995</td>\n",
       "      <td>manual</td>\n",
       "      <td>102</td>\n",
       "      <td>3er</td>\n",
       "      <td>150000</td>\n",
       "      <td>petrol</td>\n",
       "      <td>bmw</td>\n",
       "      <td>yes</td>\n",
       "    </tr>\n",
       "    <tr>\n",
       "      <th>6</th>\n",
       "      <td>2200</td>\n",
       "      <td>convertible</td>\n",
       "      <td>2004</td>\n",
       "      <td>manual</td>\n",
       "      <td>109</td>\n",
       "      <td>2_reihe</td>\n",
       "      <td>150000</td>\n",
       "      <td>petrol</td>\n",
       "      <td>peugeot</td>\n",
       "      <td>no</td>\n",
       "    </tr>\n",
       "    <tr>\n",
       "      <th>8</th>\n",
       "      <td>14500</td>\n",
       "      <td>bus</td>\n",
       "      <td>2014</td>\n",
       "      <td>manual</td>\n",
       "      <td>125</td>\n",
       "      <td>c_max</td>\n",
       "      <td>30000</td>\n",
       "      <td>petrol</td>\n",
       "      <td>ford</td>\n",
       "      <td>other</td>\n",
       "    </tr>\n",
       "    <tr>\n",
       "      <th>9</th>\n",
       "      <td>999</td>\n",
       "      <td>small</td>\n",
       "      <td>1998</td>\n",
       "      <td>manual</td>\n",
       "      <td>101</td>\n",
       "      <td>golf</td>\n",
       "      <td>150000</td>\n",
       "      <td>other</td>\n",
       "      <td>volkswagen</td>\n",
       "      <td>other</td>\n",
       "    </tr>\n",
       "    <tr>\n",
       "      <th>10</th>\n",
       "      <td>2000</td>\n",
       "      <td>sedan</td>\n",
       "      <td>2004</td>\n",
       "      <td>manual</td>\n",
       "      <td>105</td>\n",
       "      <td>3_reihe</td>\n",
       "      <td>150000</td>\n",
       "      <td>petrol</td>\n",
       "      <td>mazda</td>\n",
       "      <td>no</td>\n",
       "    </tr>\n",
       "    <tr>\n",
       "      <th>11</th>\n",
       "      <td>2799</td>\n",
       "      <td>wagon</td>\n",
       "      <td>2005</td>\n",
       "      <td>manual</td>\n",
       "      <td>140</td>\n",
       "      <td>passat</td>\n",
       "      <td>150000</td>\n",
       "      <td>petrol</td>\n",
       "      <td>volkswagen</td>\n",
       "      <td>yes</td>\n",
       "    </tr>\n",
       "    <tr>\n",
       "      <th>12</th>\n",
       "      <td>999</td>\n",
       "      <td>wagon</td>\n",
       "      <td>1995</td>\n",
       "      <td>manual</td>\n",
       "      <td>115</td>\n",
       "      <td>passat</td>\n",
       "      <td>150000</td>\n",
       "      <td>petrol</td>\n",
       "      <td>volkswagen</td>\n",
       "      <td>other</td>\n",
       "    </tr>\n",
       "    <tr>\n",
       "      <th>13</th>\n",
       "      <td>2500</td>\n",
       "      <td>wagon</td>\n",
       "      <td>2004</td>\n",
       "      <td>manual</td>\n",
       "      <td>131</td>\n",
       "      <td>passat</td>\n",
       "      <td>150000</td>\n",
       "      <td>other</td>\n",
       "      <td>volkswagen</td>\n",
       "      <td>no</td>\n",
       "    </tr>\n",
       "  </tbody>\n",
       "</table>\n",
       "</div>"
      ],
      "text/plain": [
       "    price vehicle_type  registration_year gearbox  power    model  kilometer  \\\n",
       "0     480        other               1993  manual    105     golf     150000   \n",
       "1   18300        coupe               2011  manual    190    other     125000   \n",
       "2    9800          suv               2004    auto    163    grand     125000   \n",
       "3    1500        small               2001  manual     75     golf     150000   \n",
       "4    3600        small               2008  manual     69    fabia      90000   \n",
       "5     650        sedan               1995  manual    102      3er     150000   \n",
       "6    2200  convertible               2004  manual    109  2_reihe     150000   \n",
       "8   14500          bus               2014  manual    125    c_max      30000   \n",
       "9     999        small               1998  manual    101     golf     150000   \n",
       "10   2000        sedan               2004  manual    105  3_reihe     150000   \n",
       "11   2799        wagon               2005  manual    140   passat     150000   \n",
       "12    999        wagon               1995  manual    115   passat     150000   \n",
       "13   2500        wagon               2004  manual    131   passat     150000   \n",
       "\n",
       "   fuel_type       brand repaired  \n",
       "0     petrol  volkswagen    other  \n",
       "1     petrol        audi      yes  \n",
       "2     petrol        jeep    other  \n",
       "3     petrol  volkswagen       no  \n",
       "4     petrol       skoda       no  \n",
       "5     petrol         bmw      yes  \n",
       "6     petrol     peugeot       no  \n",
       "8     petrol        ford    other  \n",
       "9      other  volkswagen    other  \n",
       "10    petrol       mazda       no  \n",
       "11    petrol  volkswagen      yes  \n",
       "12    petrol  volkswagen    other  \n",
       "13     other  volkswagen       no  "
      ]
     },
     "metadata": {},
     "output_type": "display_data"
    },
    {
     "data": {
      "text/html": [
       "<div>\n",
       "<style scoped>\n",
       "    .dataframe tbody tr th:only-of-type {\n",
       "        vertical-align: middle;\n",
       "    }\n",
       "\n",
       "    .dataframe tbody tr th {\n",
       "        vertical-align: top;\n",
       "    }\n",
       "\n",
       "    .dataframe thead th {\n",
       "        text-align: right;\n",
       "    }\n",
       "</style>\n",
       "<table border=\"1\" class=\"dataframe\">\n",
       "  <thead>\n",
       "    <tr style=\"text-align: right;\">\n",
       "      <th></th>\n",
       "      <th>price</th>\n",
       "      <th>vehicle_type</th>\n",
       "      <th>registration_year</th>\n",
       "      <th>gearbox</th>\n",
       "      <th>power</th>\n",
       "      <th>model</th>\n",
       "      <th>kilometer</th>\n",
       "      <th>fuel_type</th>\n",
       "      <th>brand</th>\n",
       "      <th>repaired</th>\n",
       "    </tr>\n",
       "  </thead>\n",
       "  <tbody>\n",
       "    <tr>\n",
       "      <th>354350</th>\n",
       "      <td>5000</td>\n",
       "      <td>sedan</td>\n",
       "      <td>2003</td>\n",
       "      <td>auto</td>\n",
       "      <td>260</td>\n",
       "      <td>e_klasse</td>\n",
       "      <td>150000</td>\n",
       "      <td>petrol</td>\n",
       "      <td>mercedes_benz</td>\n",
       "      <td>yes</td>\n",
       "    </tr>\n",
       "    <tr>\n",
       "      <th>354351</th>\n",
       "      <td>4400</td>\n",
       "      <td>sedan</td>\n",
       "      <td>2008</td>\n",
       "      <td>manual</td>\n",
       "      <td>105</td>\n",
       "      <td>leon</td>\n",
       "      <td>150000</td>\n",
       "      <td>petrol</td>\n",
       "      <td>seat</td>\n",
       "      <td>no</td>\n",
       "    </tr>\n",
       "    <tr>\n",
       "      <th>354352</th>\n",
       "      <td>999</td>\n",
       "      <td>convertible</td>\n",
       "      <td>2000</td>\n",
       "      <td>manual</td>\n",
       "      <td>95</td>\n",
       "      <td>megane</td>\n",
       "      <td>150000</td>\n",
       "      <td>petrol</td>\n",
       "      <td>renault</td>\n",
       "      <td>other</td>\n",
       "    </tr>\n",
       "    <tr>\n",
       "      <th>354353</th>\n",
       "      <td>1690</td>\n",
       "      <td>wagon</td>\n",
       "      <td>2004</td>\n",
       "      <td>manual</td>\n",
       "      <td>55</td>\n",
       "      <td>fabia</td>\n",
       "      <td>150000</td>\n",
       "      <td>petrol</td>\n",
       "      <td>skoda</td>\n",
       "      <td>other</td>\n",
       "    </tr>\n",
       "    <tr>\n",
       "      <th>354354</th>\n",
       "      <td>1490</td>\n",
       "      <td>small</td>\n",
       "      <td>1998</td>\n",
       "      <td>manual</td>\n",
       "      <td>50</td>\n",
       "      <td>lupo</td>\n",
       "      <td>150000</td>\n",
       "      <td>petrol</td>\n",
       "      <td>volkswagen</td>\n",
       "      <td>no</td>\n",
       "    </tr>\n",
       "    <tr>\n",
       "      <th>354355</th>\n",
       "      <td>7900</td>\n",
       "      <td>sedan</td>\n",
       "      <td>2010</td>\n",
       "      <td>manual</td>\n",
       "      <td>140</td>\n",
       "      <td>golf</td>\n",
       "      <td>150000</td>\n",
       "      <td>petrol</td>\n",
       "      <td>volkswagen</td>\n",
       "      <td>no</td>\n",
       "    </tr>\n",
       "    <tr>\n",
       "      <th>354357</th>\n",
       "      <td>5250</td>\n",
       "      <td>other</td>\n",
       "      <td>2016</td>\n",
       "      <td>auto</td>\n",
       "      <td>150</td>\n",
       "      <td>159</td>\n",
       "      <td>150000</td>\n",
       "      <td>other</td>\n",
       "      <td>alfa_romeo</td>\n",
       "      <td>no</td>\n",
       "    </tr>\n",
       "    <tr>\n",
       "      <th>354358</th>\n",
       "      <td>3200</td>\n",
       "      <td>sedan</td>\n",
       "      <td>2004</td>\n",
       "      <td>manual</td>\n",
       "      <td>225</td>\n",
       "      <td>leon</td>\n",
       "      <td>150000</td>\n",
       "      <td>petrol</td>\n",
       "      <td>seat</td>\n",
       "      <td>yes</td>\n",
       "    </tr>\n",
       "    <tr>\n",
       "      <th>354359</th>\n",
       "      <td>1150</td>\n",
       "      <td>bus</td>\n",
       "      <td>2000</td>\n",
       "      <td>manual</td>\n",
       "      <td>105</td>\n",
       "      <td>zafira</td>\n",
       "      <td>150000</td>\n",
       "      <td>petrol</td>\n",
       "      <td>opel</td>\n",
       "      <td>no</td>\n",
       "    </tr>\n",
       "    <tr>\n",
       "      <th>354361</th>\n",
       "      <td>2200</td>\n",
       "      <td>other</td>\n",
       "      <td>2005</td>\n",
       "      <td>other</td>\n",
       "      <td>105</td>\n",
       "      <td>other</td>\n",
       "      <td>20000</td>\n",
       "      <td>other</td>\n",
       "      <td>sonstige_autos</td>\n",
       "      <td>other</td>\n",
       "    </tr>\n",
       "    <tr>\n",
       "      <th>354362</th>\n",
       "      <td>1199</td>\n",
       "      <td>convertible</td>\n",
       "      <td>2000</td>\n",
       "      <td>auto</td>\n",
       "      <td>101</td>\n",
       "      <td>fortwo</td>\n",
       "      <td>125000</td>\n",
       "      <td>petrol</td>\n",
       "      <td>smart</td>\n",
       "      <td>no</td>\n",
       "    </tr>\n",
       "    <tr>\n",
       "      <th>354363</th>\n",
       "      <td>9200</td>\n",
       "      <td>bus</td>\n",
       "      <td>1996</td>\n",
       "      <td>manual</td>\n",
       "      <td>102</td>\n",
       "      <td>transporter</td>\n",
       "      <td>150000</td>\n",
       "      <td>petrol</td>\n",
       "      <td>volkswagen</td>\n",
       "      <td>no</td>\n",
       "    </tr>\n",
       "    <tr>\n",
       "      <th>354364</th>\n",
       "      <td>3400</td>\n",
       "      <td>wagon</td>\n",
       "      <td>2002</td>\n",
       "      <td>manual</td>\n",
       "      <td>100</td>\n",
       "      <td>golf</td>\n",
       "      <td>150000</td>\n",
       "      <td>petrol</td>\n",
       "      <td>volkswagen</td>\n",
       "      <td>other</td>\n",
       "    </tr>\n",
       "  </tbody>\n",
       "</table>\n",
       "</div>"
      ],
      "text/plain": [
       "        price vehicle_type  registration_year gearbox  power        model  \\\n",
       "354350   5000        sedan               2003    auto    260     e_klasse   \n",
       "354351   4400        sedan               2008  manual    105         leon   \n",
       "354352    999  convertible               2000  manual     95       megane   \n",
       "354353   1690        wagon               2004  manual     55        fabia   \n",
       "354354   1490        small               1998  manual     50         lupo   \n",
       "354355   7900        sedan               2010  manual    140         golf   \n",
       "354357   5250        other               2016    auto    150          159   \n",
       "354358   3200        sedan               2004  manual    225         leon   \n",
       "354359   1150          bus               2000  manual    105       zafira   \n",
       "354361   2200        other               2005   other    105        other   \n",
       "354362   1199  convertible               2000    auto    101       fortwo   \n",
       "354363   9200          bus               1996  manual    102  transporter   \n",
       "354364   3400        wagon               2002  manual    100         golf   \n",
       "\n",
       "        kilometer fuel_type           brand repaired  \n",
       "354350     150000    petrol   mercedes_benz      yes  \n",
       "354351     150000    petrol            seat       no  \n",
       "354352     150000    petrol         renault    other  \n",
       "354353     150000    petrol           skoda    other  \n",
       "354354     150000    petrol      volkswagen       no  \n",
       "354355     150000    petrol      volkswagen       no  \n",
       "354357     150000     other      alfa_romeo       no  \n",
       "354358     150000    petrol            seat      yes  \n",
       "354359     150000    petrol            opel       no  \n",
       "354361      20000     other  sonstige_autos    other  \n",
       "354362     125000    petrol           smart       no  \n",
       "354363     150000    petrol      volkswagen       no  \n",
       "354364     150000    petrol      volkswagen    other  "
      ]
     },
     "metadata": {},
     "output_type": "display_data"
    },
    {
     "name": "stdout",
     "output_type": "stream",
     "text": [
      "<class 'pandas.core.frame.DataFrame'>\n",
      "Int64Index: 326139 entries, 0 to 354364\n",
      "Data columns (total 10 columns):\n",
      " #   Column             Non-Null Count   Dtype \n",
      "---  ------             --------------   ----- \n",
      " 0   price              326139 non-null  int64 \n",
      " 1   vehicle_type       326139 non-null  object\n",
      " 2   registration_year  326139 non-null  int64 \n",
      " 3   gearbox            326139 non-null  object\n",
      " 4   power              326139 non-null  int64 \n",
      " 5   model              326139 non-null  object\n",
      " 6   kilometer          326139 non-null  int64 \n",
      " 7   fuel_type          326139 non-null  object\n",
      " 8   brand              326139 non-null  object\n",
      " 9   repaired           326139 non-null  object\n",
      "dtypes: int64(4), object(6)\n",
      "memory usage: 27.4+ MB\n",
      "\n",
      "Описательная статистика датасета:\n"
     ]
    },
    {
     "data": {
      "text/html": [
       "<div>\n",
       "<style scoped>\n",
       "    .dataframe tbody tr th:only-of-type {\n",
       "        vertical-align: middle;\n",
       "    }\n",
       "\n",
       "    .dataframe tbody tr th {\n",
       "        vertical-align: top;\n",
       "    }\n",
       "\n",
       "    .dataframe thead th {\n",
       "        text-align: right;\n",
       "    }\n",
       "</style>\n",
       "<table border=\"1\" class=\"dataframe\">\n",
       "  <thead>\n",
       "    <tr style=\"text-align: right;\">\n",
       "      <th></th>\n",
       "      <th>price</th>\n",
       "      <th>registration_year</th>\n",
       "      <th>power</th>\n",
       "      <th>kilometer</th>\n",
       "    </tr>\n",
       "  </thead>\n",
       "  <tbody>\n",
       "    <tr>\n",
       "      <th>count</th>\n",
       "      <td>326139.000000</td>\n",
       "      <td>326139.000000</td>\n",
       "      <td>326139.000000</td>\n",
       "      <td>326139.000000</td>\n",
       "    </tr>\n",
       "    <tr>\n",
       "      <th>mean</th>\n",
       "      <td>4644.372513</td>\n",
       "      <td>2002.672440</td>\n",
       "      <td>119.385560</td>\n",
       "      <td>128544.516295</td>\n",
       "    </tr>\n",
       "    <tr>\n",
       "      <th>std</th>\n",
       "      <td>4548.096277</td>\n",
       "      <td>6.707807</td>\n",
       "      <td>51.225637</td>\n",
       "      <td>37050.459242</td>\n",
       "    </tr>\n",
       "    <tr>\n",
       "      <th>min</th>\n",
       "      <td>100.000000</td>\n",
       "      <td>1925.000000</td>\n",
       "      <td>30.000000</td>\n",
       "      <td>5000.000000</td>\n",
       "    </tr>\n",
       "    <tr>\n",
       "      <th>25%</th>\n",
       "      <td>1200.000000</td>\n",
       "      <td>1999.000000</td>\n",
       "      <td>84.000000</td>\n",
       "      <td>125000.000000</td>\n",
       "    </tr>\n",
       "    <tr>\n",
       "      <th>50%</th>\n",
       "      <td>2950.000000</td>\n",
       "      <td>2003.000000</td>\n",
       "      <td>105.000000</td>\n",
       "      <td>150000.000000</td>\n",
       "    </tr>\n",
       "    <tr>\n",
       "      <th>75%</th>\n",
       "      <td>6700.000000</td>\n",
       "      <td>2007.000000</td>\n",
       "      <td>143.000000</td>\n",
       "      <td>150000.000000</td>\n",
       "    </tr>\n",
       "    <tr>\n",
       "      <th>max</th>\n",
       "      <td>20000.000000</td>\n",
       "      <td>2016.000000</td>\n",
       "      <td>600.000000</td>\n",
       "      <td>150000.000000</td>\n",
       "    </tr>\n",
       "  </tbody>\n",
       "</table>\n",
       "</div>"
      ],
      "text/plain": [
       "               price  registration_year          power      kilometer\n",
       "count  326139.000000      326139.000000  326139.000000  326139.000000\n",
       "mean     4644.372513        2002.672440     119.385560  128544.516295\n",
       "std      4548.096277           6.707807      51.225637   37050.459242\n",
       "min       100.000000        1925.000000      30.000000    5000.000000\n",
       "25%      1200.000000        1999.000000      84.000000  125000.000000\n",
       "50%      2950.000000        2003.000000     105.000000  150000.000000\n",
       "75%      6700.000000        2007.000000     143.000000  150000.000000\n",
       "max     20000.000000        2016.000000     600.000000  150000.000000"
      ]
     },
     "metadata": {},
     "output_type": "display_data"
    },
    {
     "name": "stdout",
     "output_type": "stream",
     "text": [
      "Корреляция значений признаков\n"
     ]
    },
    {
     "data": {
      "text/html": [
       "<div>\n",
       "<style scoped>\n",
       "    .dataframe tbody tr th:only-of-type {\n",
       "        vertical-align: middle;\n",
       "    }\n",
       "\n",
       "    .dataframe tbody tr th {\n",
       "        vertical-align: top;\n",
       "    }\n",
       "\n",
       "    .dataframe thead th {\n",
       "        text-align: right;\n",
       "    }\n",
       "</style>\n",
       "<table border=\"1\" class=\"dataframe\">\n",
       "  <thead>\n",
       "    <tr style=\"text-align: right;\">\n",
       "      <th></th>\n",
       "      <th>price</th>\n",
       "      <th>registration_year</th>\n",
       "      <th>power</th>\n",
       "      <th>kilometer</th>\n",
       "    </tr>\n",
       "  </thead>\n",
       "  <tbody>\n",
       "    <tr>\n",
       "      <th>price</th>\n",
       "      <td>1.000000</td>\n",
       "      <td>0.451072</td>\n",
       "      <td>0.504221</td>\n",
       "      <td>-0.366491</td>\n",
       "    </tr>\n",
       "    <tr>\n",
       "      <th>registration_year</th>\n",
       "      <td>0.451072</td>\n",
       "      <td>1.000000</td>\n",
       "      <td>0.124153</td>\n",
       "      <td>-0.246711</td>\n",
       "    </tr>\n",
       "    <tr>\n",
       "      <th>power</th>\n",
       "      <td>0.504221</td>\n",
       "      <td>0.124153</td>\n",
       "      <td>1.000000</td>\n",
       "      <td>0.091608</td>\n",
       "    </tr>\n",
       "    <tr>\n",
       "      <th>kilometer</th>\n",
       "      <td>-0.366491</td>\n",
       "      <td>-0.246711</td>\n",
       "      <td>0.091608</td>\n",
       "      <td>1.000000</td>\n",
       "    </tr>\n",
       "  </tbody>\n",
       "</table>\n",
       "</div>"
      ],
      "text/plain": [
       "                      price  registration_year     power  kilometer\n",
       "price              1.000000           0.451072  0.504221  -0.366491\n",
       "registration_year  0.451072           1.000000  0.124153  -0.246711\n",
       "power              0.504221           0.124153  1.000000   0.091608\n",
       "kilometer         -0.366491          -0.246711  0.091608   1.000000"
      ]
     },
     "metadata": {},
     "output_type": "display_data"
    },
    {
     "data": {
      "image/png": "[encoded data removed]",
      "text/plain": [
       "<Figure size 1080x864 with 4 Axes>"
      ]
     },
     "metadata": {
      "needs_background": "light"
     },
     "output_type": "display_data"
    }
   ],
   "source": [
    "first_info(data, data_title='Данные об автомобилях в базе данных\\nДанные после предобработки.', head_length=13)"
   ]
  },
  {
   "cell_type": "markdown",
   "metadata": {
    "scrolled": false
   },
   "source": [
    "### Вывод по разделу 1 - Предобработка данных\n",
    "\n",
    "- в исходных данных 16 типов признаков, в т.ч. 1 целевой (price) и 354_369 объектов\n",
    "- после предобработки в данных 10 типов признаков, в т.ч. 1 целевой (price) и 326_139 объектов\n",
    "- в результате предобработки исключено 8,27% от общего числа объектов\n",
    "- исправлены неявные дубликаты в признаках `model`: замена 'sonstige_autos' -> 'other' и `fuel_type`: замена 'gasoline' -> 'petrol'\n",
    "- удалены неинформативные признаки `date_crawled`, `registration_month`, `date_created`, `number_of_pictures`, `postal_code`, `last_seen`, дано обоснование.\n",
    "- в признаках `vehicle_type`, `gearbox`, `model`, `fuel_type`, `repaired` пропуски заменены на \"other\", дано обоснование.\n",
    "- в признаказ `price`, `registration_year` и `power` обнаружены выбросы. Определен достоверный диапазон значений, прочие выбросы удалены, дано обоснование. \n",
    "- Выброс на значении 0 для признака `power` заменен на медианное значение признака."
   ]
  },
  {
   "cell_type": "markdown",
   "metadata": {},
   "source": [
    "## Обучение моделей"
   ]
  },
  {
   "cell_type": "markdown",
   "metadata": {},
   "source": [
    "### Выбор методов, алгоритмов или моделей для сравнения"
   ]
  },
  {
   "cell_type": "markdown",
   "metadata": {},
   "source": [
    "Одной из задач исследования является проверка использования разных моделей, одна из которых — LightGBM, как минимум одна — не бустинг. Для каждой модели необходимо подобрать разные гиперпараметры.\n",
    "\n",
    "На этом этапе для задач исследования рассмотрим три модели: `LinearRegression`, `LightGBM` и `CatBoost`\n",
    "\n",
    "Краткие характеристики моделей показаны в сводной таблице моделей:\n",
    "\n",
    "| model name       | Developer                             | is gradient-<br>boosting? | works with<br>categorical? | speed | documentation                                                                                |\n",
    "|:------------------|:---------------------------------------|:---------------------------|:----------------------------|:-------|:------------------------------------------------------------------|\n",
    "| LinearRegression | David Cournapeau<br>(original author) | False                     | True                       | Fast  | https://scikit-learn.org/stable/modules/generated/sklearn.linear_model.LinearRegression.html |\n",
    "| LightGBM         | Microsoft                             | True                      | True                       | Fast  | https://lightgbm.readthedocs.io/                                                             |\n",
    "| CatBoost         | Yandex                                | True                      | True                       | Fast  | https://catboost.ai/                                                                         |\n",
    "\n",
    "\n",
    "Модель `LinearRegression` примем как базовую.<br> \n",
    "Метрика предлагаемой заказчику модели должна быть лучше чем метрика базовой модели.\n"
   ]
  },
  {
   "cell_type": "markdown",
   "metadata": {},
   "source": [
    "### Разделение набора данных на обучающую и валидационную выборки\n",
    "\n",
    "Так как тестовая выборка не предоставлена заказчиком исследования, выделим ее из исходного набора данных.\n",
    "\n",
    "Данные разобъем на две части: обучающую и тестовую.<br>\n",
    "Для более полного использования данных обучающую выборку будем тестировать кросс-валидацией, поэтому отдельно валидационную выборку не выделяем.\n",
    "\n",
    "Исходные данные разобъем в соотношении 75:25"
   ]
  },
  {
   "cell_type": "code",
   "execution_count": 28,
   "metadata": {},
   "outputs": [],
   "source": [
    "features_train, features_test, target_train, target_test = train_test_split(\n",
    "    data.drop('price', axis=1), \n",
    "    data.price,  \n",
    "    test_size=0.25, \n",
    "    random_state=RANDOM_STATE)\n",
    "\n",
    "features_train.reset_index(drop=True, inplace=True)\n",
    "features_test.reset_index(drop=True, inplace=True)\n",
    "target_train.reset_index(drop=True, inplace=True)\n",
    "target_test.reset_index(drop=True, inplace=True)"
   ]
  },
  {
   "cell_type": "code",
   "execution_count": 29,
   "metadata": {},
   "outputs": [],
   "source": [
    "# создание таблицы с результатами\n",
    "result_model_table = pd.DataFrame({'model':[],\n",
    "                                   'iterations':[],\n",
    "                                   'learning_rate':[],\n",
    "                                   'fit_time':[],\n",
    "                                   'train_rmse_mean':[]})"
   ]
  },
  {
   "cell_type": "markdown",
   "metadata": {},
   "source": [
    "### Кодирование признаков для задач обучения моделей"
   ]
  },
  {
   "cell_type": "markdown",
   "metadata": {},
   "source": [
    "Для задач обучения моделей произведем кодирование категориальных признаков.<br> \n",
    "\n",
    "- Используем технику прямого кодирования pandas.get_dummies для модели LinearRegression\n",
    "- Используем технику порядкового кодирования sklearn.OrdinalEncoding для бустерных моделей."
   ]
  },
  {
   "cell_type": "code",
   "execution_count": 30,
   "metadata": {},
   "outputs": [
    {
     "name": "stdout",
     "output_type": "stream",
     "text": [
      "Согласно сводной таблице признаков создадим список категориальных признаков после предобработки:\n",
      "['vehicle_type', 'gearbox', 'model', 'fuel_type', 'brand', 'repaired']\n"
     ]
    }
   ],
   "source": [
    "cat_features = ['vehicle_type', 'gearbox', 'model', 'fuel_type', 'brand', 'repaired']\n",
    "print('Согласно сводной таблице признаков создадим список категориальных признаков после предобработки:')\n",
    "print(cat_features)"
   ]
  },
  {
   "cell_type": "code",
   "execution_count": 31,
   "metadata": {},
   "outputs": [],
   "source": [
    "# Прямое кодирование pandas.get_dummies\n",
    "features_train_ohe = pd.get_dummies(features_train, drop_first=True, columns=cat_features)\n",
    "features_test_ohe = pd.get_dummies(features_test, drop_first=True, columns=cat_features)"
   ]
  },
  {
   "cell_type": "code",
   "execution_count": 32,
   "metadata": {},
   "outputs": [],
   "source": [
    "# Порядковое кодирование sklearn.OrdinalEncoding\n",
    "\n",
    "encoder = OrdinalEncoder(dtype='int64')\n",
    "\n",
    "features_train_ordinal = pd.DataFrame(encoder.fit_transform(features_train[cat_features]),\n",
    "                            columns=features_train[cat_features].columns)\n",
    "features_test_ordinal = pd.DataFrame(encoder.transform(features_test[cat_features]),\n",
    "                            columns=features_test[cat_features].columns)"
   ]
  },
  {
   "cell_type": "code",
   "execution_count": 33,
   "metadata": {},
   "outputs": [],
   "source": [
    "suffixes_tuple = ('_left', '')\n",
    "dup_features_after_merge = [i+suffixes_tuple[0] for i in cat_features]\n",
    "\n",
    "features_train_ordinal = pd.merge(features_train, features_train_ordinal, how ='left', left_index=True, right_index=True, suffixes=suffixes_tuple)\n",
    "features_test_ordinal = pd.merge(features_test, features_test_ordinal, how ='left', left_index=True, right_index=True, suffixes=suffixes_tuple)\n",
    "\n",
    "features_train_ordinal.drop(columns=dup_features_after_merge, inplace=True)\n",
    "features_test_ordinal.drop(columns=dup_features_after_merge, inplace=True)"
   ]
  },
  {
   "cell_type": "markdown",
   "metadata": {},
   "source": [
    "### Оценка данных после кодирования признаков"
   ]
  },
  {
   "cell_type": "markdown",
   "metadata": {},
   "source": [
    "**После применения техники прямого кодирования pandas.get_dummies для модели LinearRegression**"
   ]
  },
  {
   "cell_type": "code",
   "execution_count": 34,
   "metadata": {},
   "outputs": [
    {
     "name": "stdout",
     "output_type": "stream",
     "text": [
      "Данные по датасету: Обучающая выборка с признаками\n",
      "Данные после предобработки и кодирования признаков прямым кодированием OHE\n"
     ]
    },
    {
     "data": {
      "text/html": [
       "<div>\n",
       "<style scoped>\n",
       "    .dataframe tbody tr th:only-of-type {\n",
       "        vertical-align: middle;\n",
       "    }\n",
       "\n",
       "    .dataframe tbody tr th {\n",
       "        vertical-align: top;\n",
       "    }\n",
       "\n",
       "    .dataframe thead th {\n",
       "        text-align: right;\n",
       "    }\n",
       "</style>\n",
       "<table border=\"1\" class=\"dataframe\">\n",
       "  <thead>\n",
       "    <tr style=\"text-align: right;\">\n",
       "      <th></th>\n",
       "      <th>registration_year</th>\n",
       "      <th>power</th>\n",
       "      <th>kilometer</th>\n",
       "      <th>vehicle_type_convertible</th>\n",
       "      <th>vehicle_type_coupe</th>\n",
       "      <th>vehicle_type_other</th>\n",
       "      <th>vehicle_type_sedan</th>\n",
       "      <th>vehicle_type_small</th>\n",
       "      <th>vehicle_type_suv</th>\n",
       "      <th>vehicle_type_wagon</th>\n",
       "      <th>gearbox_manual</th>\n",
       "      <th>gearbox_other</th>\n",
       "      <th>model_145</th>\n",
       "      <th>model_147</th>\n",
       "      <th>model_156</th>\n",
       "      <th>model_159</th>\n",
       "      <th>model_1_reihe</th>\n",
       "      <th>model_1er</th>\n",
       "      <th>model_200</th>\n",
       "      <th>model_2_reihe</th>\n",
       "      <th>model_300c</th>\n",
       "      <th>model_3_reihe</th>\n",
       "      <th>model_3er</th>\n",
       "      <th>model_4_reihe</th>\n",
       "      <th>model_500</th>\n",
       "      <th>...</th>\n",
       "      <th>brand_lancia</th>\n",
       "      <th>brand_land_rover</th>\n",
       "      <th>brand_mazda</th>\n",
       "      <th>brand_mercedes_benz</th>\n",
       "      <th>brand_mini</th>\n",
       "      <th>brand_mitsubishi</th>\n",
       "      <th>brand_nissan</th>\n",
       "      <th>brand_opel</th>\n",
       "      <th>brand_peugeot</th>\n",
       "      <th>brand_porsche</th>\n",
       "      <th>brand_renault</th>\n",
       "      <th>brand_rover</th>\n",
       "      <th>brand_saab</th>\n",
       "      <th>brand_seat</th>\n",
       "      <th>brand_skoda</th>\n",
       "      <th>brand_smart</th>\n",
       "      <th>brand_sonstige_autos</th>\n",
       "      <th>brand_subaru</th>\n",
       "      <th>brand_suzuki</th>\n",
       "      <th>brand_toyota</th>\n",
       "      <th>brand_trabant</th>\n",
       "      <th>brand_volkswagen</th>\n",
       "      <th>brand_volvo</th>\n",
       "      <th>repaired_other</th>\n",
       "      <th>repaired_yes</th>\n",
       "    </tr>\n",
       "  </thead>\n",
       "  <tbody>\n",
       "    <tr>\n",
       "      <th>0</th>\n",
       "      <td>2007</td>\n",
       "      <td>232</td>\n",
       "      <td>150000</td>\n",
       "      <td>0</td>\n",
       "      <td>0</td>\n",
       "      <td>0</td>\n",
       "      <td>0</td>\n",
       "      <td>0</td>\n",
       "      <td>0</td>\n",
       "      <td>1</td>\n",
       "      <td>0</td>\n",
       "      <td>0</td>\n",
       "      <td>0</td>\n",
       "      <td>0</td>\n",
       "      <td>0</td>\n",
       "      <td>0</td>\n",
       "      <td>0</td>\n",
       "      <td>0</td>\n",
       "      <td>0</td>\n",
       "      <td>0</td>\n",
       "      <td>0</td>\n",
       "      <td>0</td>\n",
       "      <td>0</td>\n",
       "      <td>0</td>\n",
       "      <td>0</td>\n",
       "      <td>...</td>\n",
       "      <td>0</td>\n",
       "      <td>0</td>\n",
       "      <td>0</td>\n",
       "      <td>0</td>\n",
       "      <td>0</td>\n",
       "      <td>0</td>\n",
       "      <td>0</td>\n",
       "      <td>0</td>\n",
       "      <td>0</td>\n",
       "      <td>0</td>\n",
       "      <td>0</td>\n",
       "      <td>0</td>\n",
       "      <td>0</td>\n",
       "      <td>0</td>\n",
       "      <td>0</td>\n",
       "      <td>0</td>\n",
       "      <td>0</td>\n",
       "      <td>0</td>\n",
       "      <td>0</td>\n",
       "      <td>0</td>\n",
       "      <td>0</td>\n",
       "      <td>0</td>\n",
       "      <td>0</td>\n",
       "      <td>0</td>\n",
       "      <td>0</td>\n",
       "    </tr>\n",
       "    <tr>\n",
       "      <th>1</th>\n",
       "      <td>2012</td>\n",
       "      <td>60</td>\n",
       "      <td>20000</td>\n",
       "      <td>0</td>\n",
       "      <td>0</td>\n",
       "      <td>0</td>\n",
       "      <td>0</td>\n",
       "      <td>1</td>\n",
       "      <td>0</td>\n",
       "      <td>0</td>\n",
       "      <td>1</td>\n",
       "      <td>0</td>\n",
       "      <td>0</td>\n",
       "      <td>0</td>\n",
       "      <td>0</td>\n",
       "      <td>0</td>\n",
       "      <td>0</td>\n",
       "      <td>0</td>\n",
       "      <td>0</td>\n",
       "      <td>0</td>\n",
       "      <td>0</td>\n",
       "      <td>0</td>\n",
       "      <td>0</td>\n",
       "      <td>0</td>\n",
       "      <td>0</td>\n",
       "      <td>...</td>\n",
       "      <td>0</td>\n",
       "      <td>0</td>\n",
       "      <td>0</td>\n",
       "      <td>0</td>\n",
       "      <td>0</td>\n",
       "      <td>0</td>\n",
       "      <td>0</td>\n",
       "      <td>0</td>\n",
       "      <td>0</td>\n",
       "      <td>0</td>\n",
       "      <td>0</td>\n",
       "      <td>0</td>\n",
       "      <td>0</td>\n",
       "      <td>1</td>\n",
       "      <td>0</td>\n",
       "      <td>0</td>\n",
       "      <td>0</td>\n",
       "      <td>0</td>\n",
       "      <td>0</td>\n",
       "      <td>0</td>\n",
       "      <td>0</td>\n",
       "      <td>0</td>\n",
       "      <td>0</td>\n",
       "      <td>0</td>\n",
       "      <td>0</td>\n",
       "    </tr>\n",
       "    <tr>\n",
       "      <th>2</th>\n",
       "      <td>1999</td>\n",
       "      <td>150</td>\n",
       "      <td>150000</td>\n",
       "      <td>0</td>\n",
       "      <td>0</td>\n",
       "      <td>0</td>\n",
       "      <td>1</td>\n",
       "      <td>0</td>\n",
       "      <td>0</td>\n",
       "      <td>0</td>\n",
       "      <td>1</td>\n",
       "      <td>0</td>\n",
       "      <td>0</td>\n",
       "      <td>0</td>\n",
       "      <td>0</td>\n",
       "      <td>0</td>\n",
       "      <td>0</td>\n",
       "      <td>0</td>\n",
       "      <td>0</td>\n",
       "      <td>0</td>\n",
       "      <td>0</td>\n",
       "      <td>0</td>\n",
       "      <td>1</td>\n",
       "      <td>0</td>\n",
       "      <td>0</td>\n",
       "      <td>...</td>\n",
       "      <td>0</td>\n",
       "      <td>0</td>\n",
       "      <td>0</td>\n",
       "      <td>0</td>\n",
       "      <td>0</td>\n",
       "      <td>0</td>\n",
       "      <td>0</td>\n",
       "      <td>0</td>\n",
       "      <td>0</td>\n",
       "      <td>0</td>\n",
       "      <td>0</td>\n",
       "      <td>0</td>\n",
       "      <td>0</td>\n",
       "      <td>0</td>\n",
       "      <td>0</td>\n",
       "      <td>0</td>\n",
       "      <td>0</td>\n",
       "      <td>0</td>\n",
       "      <td>0</td>\n",
       "      <td>0</td>\n",
       "      <td>0</td>\n",
       "      <td>0</td>\n",
       "      <td>0</td>\n",
       "      <td>1</td>\n",
       "      <td>0</td>\n",
       "    </tr>\n",
       "    <tr>\n",
       "      <th>3</th>\n",
       "      <td>2016</td>\n",
       "      <td>69</td>\n",
       "      <td>5000</td>\n",
       "      <td>0</td>\n",
       "      <td>0</td>\n",
       "      <td>0</td>\n",
       "      <td>1</td>\n",
       "      <td>0</td>\n",
       "      <td>0</td>\n",
       "      <td>0</td>\n",
       "      <td>0</td>\n",
       "      <td>1</td>\n",
       "      <td>0</td>\n",
       "      <td>0</td>\n",
       "      <td>0</td>\n",
       "      <td>0</td>\n",
       "      <td>0</td>\n",
       "      <td>0</td>\n",
       "      <td>0</td>\n",
       "      <td>0</td>\n",
       "      <td>0</td>\n",
       "      <td>0</td>\n",
       "      <td>0</td>\n",
       "      <td>0</td>\n",
       "      <td>0</td>\n",
       "      <td>...</td>\n",
       "      <td>0</td>\n",
       "      <td>0</td>\n",
       "      <td>0</td>\n",
       "      <td>0</td>\n",
       "      <td>0</td>\n",
       "      <td>0</td>\n",
       "      <td>0</td>\n",
       "      <td>0</td>\n",
       "      <td>1</td>\n",
       "      <td>0</td>\n",
       "      <td>0</td>\n",
       "      <td>0</td>\n",
       "      <td>0</td>\n",
       "      <td>0</td>\n",
       "      <td>0</td>\n",
       "      <td>0</td>\n",
       "      <td>0</td>\n",
       "      <td>0</td>\n",
       "      <td>0</td>\n",
       "      <td>0</td>\n",
       "      <td>0</td>\n",
       "      <td>0</td>\n",
       "      <td>0</td>\n",
       "      <td>1</td>\n",
       "      <td>0</td>\n",
       "    </tr>\n",
       "    <tr>\n",
       "      <th>4</th>\n",
       "      <td>2001</td>\n",
       "      <td>50</td>\n",
       "      <td>150000</td>\n",
       "      <td>0</td>\n",
       "      <td>0</td>\n",
       "      <td>0</td>\n",
       "      <td>0</td>\n",
       "      <td>1</td>\n",
       "      <td>0</td>\n",
       "      <td>0</td>\n",
       "      <td>1</td>\n",
       "      <td>0</td>\n",
       "      <td>0</td>\n",
       "      <td>0</td>\n",
       "      <td>0</td>\n",
       "      <td>0</td>\n",
       "      <td>0</td>\n",
       "      <td>0</td>\n",
       "      <td>0</td>\n",
       "      <td>0</td>\n",
       "      <td>0</td>\n",
       "      <td>0</td>\n",
       "      <td>0</td>\n",
       "      <td>0</td>\n",
       "      <td>0</td>\n",
       "      <td>...</td>\n",
       "      <td>0</td>\n",
       "      <td>0</td>\n",
       "      <td>0</td>\n",
       "      <td>0</td>\n",
       "      <td>0</td>\n",
       "      <td>0</td>\n",
       "      <td>0</td>\n",
       "      <td>0</td>\n",
       "      <td>0</td>\n",
       "      <td>0</td>\n",
       "      <td>0</td>\n",
       "      <td>0</td>\n",
       "      <td>0</td>\n",
       "      <td>0</td>\n",
       "      <td>0</td>\n",
       "      <td>0</td>\n",
       "      <td>0</td>\n",
       "      <td>0</td>\n",
       "      <td>0</td>\n",
       "      <td>0</td>\n",
       "      <td>0</td>\n",
       "      <td>1</td>\n",
       "      <td>0</td>\n",
       "      <td>1</td>\n",
       "      <td>0</td>\n",
       "    </tr>\n",
       "    <tr>\n",
       "      <th>5</th>\n",
       "      <td>2006</td>\n",
       "      <td>105</td>\n",
       "      <td>150000</td>\n",
       "      <td>0</td>\n",
       "      <td>0</td>\n",
       "      <td>0</td>\n",
       "      <td>0</td>\n",
       "      <td>0</td>\n",
       "      <td>0</td>\n",
       "      <td>0</td>\n",
       "      <td>1</td>\n",
       "      <td>0</td>\n",
       "      <td>0</td>\n",
       "      <td>0</td>\n",
       "      <td>0</td>\n",
       "      <td>0</td>\n",
       "      <td>0</td>\n",
       "      <td>0</td>\n",
       "      <td>0</td>\n",
       "      <td>0</td>\n",
       "      <td>0</td>\n",
       "      <td>0</td>\n",
       "      <td>0</td>\n",
       "      <td>0</td>\n",
       "      <td>0</td>\n",
       "      <td>...</td>\n",
       "      <td>0</td>\n",
       "      <td>0</td>\n",
       "      <td>0</td>\n",
       "      <td>0</td>\n",
       "      <td>0</td>\n",
       "      <td>0</td>\n",
       "      <td>0</td>\n",
       "      <td>1</td>\n",
       "      <td>0</td>\n",
       "      <td>0</td>\n",
       "      <td>0</td>\n",
       "      <td>0</td>\n",
       "      <td>0</td>\n",
       "      <td>0</td>\n",
       "      <td>0</td>\n",
       "      <td>0</td>\n",
       "      <td>0</td>\n",
       "      <td>0</td>\n",
       "      <td>0</td>\n",
       "      <td>0</td>\n",
       "      <td>0</td>\n",
       "      <td>0</td>\n",
       "      <td>0</td>\n",
       "      <td>0</td>\n",
       "      <td>0</td>\n",
       "    </tr>\n",
       "  </tbody>\n",
       "</table>\n",
       "<p>6 rows × 307 columns</p>\n",
       "</div>"
      ],
      "text/plain": [
       "   registration_year  power  kilometer  vehicle_type_convertible  \\\n",
       "0               2007    232     150000                         0   \n",
       "1               2012     60      20000                         0   \n",
       "2               1999    150     150000                         0   \n",
       "3               2016     69       5000                         0   \n",
       "4               2001     50     150000                         0   \n",
       "5               2006    105     150000                         0   \n",
       "\n",
       "   vehicle_type_coupe  vehicle_type_other  vehicle_type_sedan  \\\n",
       "0                   0                   0                   0   \n",
       "1                   0                   0                   0   \n",
       "2                   0                   0                   1   \n",
       "3                   0                   0                   1   \n",
       "4                   0                   0                   0   \n",
       "5                   0                   0                   0   \n",
       "\n",
       "   vehicle_type_small  vehicle_type_suv  vehicle_type_wagon  gearbox_manual  \\\n",
       "0                   0                 0                   1               0   \n",
       "1                   1                 0                   0               1   \n",
       "2                   0                 0                   0               1   \n",
       "3                   0                 0                   0               0   \n",
       "4                   1                 0                   0               1   \n",
       "5                   0                 0                   0               1   \n",
       "\n",
       "   gearbox_other  model_145  model_147  model_156  model_159  model_1_reihe  \\\n",
       "0              0          0          0          0          0              0   \n",
       "1              0          0          0          0          0              0   \n",
       "2              0          0          0          0          0              0   \n",
       "3              1          0          0          0          0              0   \n",
       "4              0          0          0          0          0              0   \n",
       "5              0          0          0          0          0              0   \n",
       "\n",
       "   model_1er  model_200  model_2_reihe  model_300c  model_3_reihe  model_3er  \\\n",
       "0          0          0              0           0              0          0   \n",
       "1          0          0              0           0              0          0   \n",
       "2          0          0              0           0              0          1   \n",
       "3          0          0              0           0              0          0   \n",
       "4          0          0              0           0              0          0   \n",
       "5          0          0              0           0              0          0   \n",
       "\n",
       "   model_4_reihe  model_500  ...  brand_lancia  brand_land_rover  brand_mazda  \\\n",
       "0              0          0  ...             0                 0            0   \n",
       "1              0          0  ...             0                 0            0   \n",
       "2              0          0  ...             0                 0            0   \n",
       "3              0          0  ...             0                 0            0   \n",
       "4              0          0  ...             0                 0            0   \n",
       "5              0          0  ...             0                 0            0   \n",
       "\n",
       "   brand_mercedes_benz  brand_mini  brand_mitsubishi  brand_nissan  \\\n",
       "0                    0           0                 0             0   \n",
       "1                    0           0                 0             0   \n",
       "2                    0           0                 0             0   \n",
       "3                    0           0                 0             0   \n",
       "4                    0           0                 0             0   \n",
       "5                    0           0                 0             0   \n",
       "\n",
       "   brand_opel  brand_peugeot  brand_porsche  brand_renault  brand_rover  \\\n",
       "0           0              0              0              0            0   \n",
       "1           0              0              0              0            0   \n",
       "2           0              0              0              0            0   \n",
       "3           0              1              0              0            0   \n",
       "4           0              0              0              0            0   \n",
       "5           1              0              0              0            0   \n",
       "\n",
       "   brand_saab  brand_seat  brand_skoda  brand_smart  brand_sonstige_autos  \\\n",
       "0           0           0            0            0                     0   \n",
       "1           0           1            0            0                     0   \n",
       "2           0           0            0            0                     0   \n",
       "3           0           0            0            0                     0   \n",
       "4           0           0            0            0                     0   \n",
       "5           0           0            0            0                     0   \n",
       "\n",
       "   brand_subaru  brand_suzuki  brand_toyota  brand_trabant  brand_volkswagen  \\\n",
       "0             0             0             0              0                 0   \n",
       "1             0             0             0              0                 0   \n",
       "2             0             0             0              0                 0   \n",
       "3             0             0             0              0                 0   \n",
       "4             0             0             0              0                 1   \n",
       "5             0             0             0              0                 0   \n",
       "\n",
       "   brand_volvo  repaired_other  repaired_yes  \n",
       "0            0               0             0  \n",
       "1            0               0             0  \n",
       "2            0               1             0  \n",
       "3            0               1             0  \n",
       "4            0               1             0  \n",
       "5            0               0             0  \n",
       "\n",
       "[6 rows x 307 columns]"
      ]
     },
     "metadata": {},
     "output_type": "display_data"
    },
    {
     "data": {
      "text/html": [
       "<div>\n",
       "<style scoped>\n",
       "    .dataframe tbody tr th:only-of-type {\n",
       "        vertical-align: middle;\n",
       "    }\n",
       "\n",
       "    .dataframe tbody tr th {\n",
       "        vertical-align: top;\n",
       "    }\n",
       "\n",
       "    .dataframe thead th {\n",
       "        text-align: right;\n",
       "    }\n",
       "</style>\n",
       "<table border=\"1\" class=\"dataframe\">\n",
       "  <thead>\n",
       "    <tr style=\"text-align: right;\">\n",
       "      <th></th>\n",
       "      <th>registration_year</th>\n",
       "      <th>power</th>\n",
       "      <th>kilometer</th>\n",
       "      <th>vehicle_type_convertible</th>\n",
       "      <th>vehicle_type_coupe</th>\n",
       "      <th>vehicle_type_other</th>\n",
       "      <th>vehicle_type_sedan</th>\n",
       "      <th>vehicle_type_small</th>\n",
       "      <th>vehicle_type_suv</th>\n",
       "      <th>vehicle_type_wagon</th>\n",
       "      <th>gearbox_manual</th>\n",
       "      <th>gearbox_other</th>\n",
       "      <th>model_145</th>\n",
       "      <th>model_147</th>\n",
       "      <th>model_156</th>\n",
       "      <th>model_159</th>\n",
       "      <th>model_1_reihe</th>\n",
       "      <th>model_1er</th>\n",
       "      <th>model_200</th>\n",
       "      <th>model_2_reihe</th>\n",
       "      <th>model_300c</th>\n",
       "      <th>model_3_reihe</th>\n",
       "      <th>model_3er</th>\n",
       "      <th>model_4_reihe</th>\n",
       "      <th>model_500</th>\n",
       "      <th>...</th>\n",
       "      <th>brand_lancia</th>\n",
       "      <th>brand_land_rover</th>\n",
       "      <th>brand_mazda</th>\n",
       "      <th>brand_mercedes_benz</th>\n",
       "      <th>brand_mini</th>\n",
       "      <th>brand_mitsubishi</th>\n",
       "      <th>brand_nissan</th>\n",
       "      <th>brand_opel</th>\n",
       "      <th>brand_peugeot</th>\n",
       "      <th>brand_porsche</th>\n",
       "      <th>brand_renault</th>\n",
       "      <th>brand_rover</th>\n",
       "      <th>brand_saab</th>\n",
       "      <th>brand_seat</th>\n",
       "      <th>brand_skoda</th>\n",
       "      <th>brand_smart</th>\n",
       "      <th>brand_sonstige_autos</th>\n",
       "      <th>brand_subaru</th>\n",
       "      <th>brand_suzuki</th>\n",
       "      <th>brand_toyota</th>\n",
       "      <th>brand_trabant</th>\n",
       "      <th>brand_volkswagen</th>\n",
       "      <th>brand_volvo</th>\n",
       "      <th>repaired_other</th>\n",
       "      <th>repaired_yes</th>\n",
       "    </tr>\n",
       "  </thead>\n",
       "  <tbody>\n",
       "    <tr>\n",
       "      <th>244598</th>\n",
       "      <td>2009</td>\n",
       "      <td>141</td>\n",
       "      <td>100000</td>\n",
       "      <td>0</td>\n",
       "      <td>0</td>\n",
       "      <td>0</td>\n",
       "      <td>0</td>\n",
       "      <td>0</td>\n",
       "      <td>1</td>\n",
       "      <td>0</td>\n",
       "      <td>1</td>\n",
       "      <td>0</td>\n",
       "      <td>0</td>\n",
       "      <td>0</td>\n",
       "      <td>0</td>\n",
       "      <td>0</td>\n",
       "      <td>0</td>\n",
       "      <td>0</td>\n",
       "      <td>0</td>\n",
       "      <td>0</td>\n",
       "      <td>0</td>\n",
       "      <td>0</td>\n",
       "      <td>0</td>\n",
       "      <td>0</td>\n",
       "      <td>0</td>\n",
       "      <td>...</td>\n",
       "      <td>0</td>\n",
       "      <td>0</td>\n",
       "      <td>0</td>\n",
       "      <td>0</td>\n",
       "      <td>0</td>\n",
       "      <td>0</td>\n",
       "      <td>0</td>\n",
       "      <td>0</td>\n",
       "      <td>0</td>\n",
       "      <td>0</td>\n",
       "      <td>0</td>\n",
       "      <td>0</td>\n",
       "      <td>0</td>\n",
       "      <td>0</td>\n",
       "      <td>0</td>\n",
       "      <td>0</td>\n",
       "      <td>0</td>\n",
       "      <td>0</td>\n",
       "      <td>0</td>\n",
       "      <td>0</td>\n",
       "      <td>0</td>\n",
       "      <td>0</td>\n",
       "      <td>0</td>\n",
       "      <td>0</td>\n",
       "      <td>0</td>\n",
       "    </tr>\n",
       "    <tr>\n",
       "      <th>244599</th>\n",
       "      <td>2010</td>\n",
       "      <td>170</td>\n",
       "      <td>150000</td>\n",
       "      <td>0</td>\n",
       "      <td>0</td>\n",
       "      <td>0</td>\n",
       "      <td>1</td>\n",
       "      <td>0</td>\n",
       "      <td>0</td>\n",
       "      <td>0</td>\n",
       "      <td>1</td>\n",
       "      <td>0</td>\n",
       "      <td>0</td>\n",
       "      <td>0</td>\n",
       "      <td>0</td>\n",
       "      <td>0</td>\n",
       "      <td>0</td>\n",
       "      <td>0</td>\n",
       "      <td>0</td>\n",
       "      <td>0</td>\n",
       "      <td>0</td>\n",
       "      <td>0</td>\n",
       "      <td>0</td>\n",
       "      <td>0</td>\n",
       "      <td>0</td>\n",
       "      <td>...</td>\n",
       "      <td>0</td>\n",
       "      <td>0</td>\n",
       "      <td>0</td>\n",
       "      <td>0</td>\n",
       "      <td>0</td>\n",
       "      <td>0</td>\n",
       "      <td>0</td>\n",
       "      <td>0</td>\n",
       "      <td>0</td>\n",
       "      <td>0</td>\n",
       "      <td>0</td>\n",
       "      <td>0</td>\n",
       "      <td>0</td>\n",
       "      <td>1</td>\n",
       "      <td>0</td>\n",
       "      <td>0</td>\n",
       "      <td>0</td>\n",
       "      <td>0</td>\n",
       "      <td>0</td>\n",
       "      <td>0</td>\n",
       "      <td>0</td>\n",
       "      <td>0</td>\n",
       "      <td>0</td>\n",
       "      <td>0</td>\n",
       "      <td>0</td>\n",
       "    </tr>\n",
       "    <tr>\n",
       "      <th>244600</th>\n",
       "      <td>1997</td>\n",
       "      <td>215</td>\n",
       "      <td>150000</td>\n",
       "      <td>0</td>\n",
       "      <td>0</td>\n",
       "      <td>0</td>\n",
       "      <td>0</td>\n",
       "      <td>0</td>\n",
       "      <td>1</td>\n",
       "      <td>0</td>\n",
       "      <td>0</td>\n",
       "      <td>0</td>\n",
       "      <td>0</td>\n",
       "      <td>0</td>\n",
       "      <td>0</td>\n",
       "      <td>0</td>\n",
       "      <td>0</td>\n",
       "      <td>0</td>\n",
       "      <td>0</td>\n",
       "      <td>0</td>\n",
       "      <td>0</td>\n",
       "      <td>0</td>\n",
       "      <td>0</td>\n",
       "      <td>0</td>\n",
       "      <td>0</td>\n",
       "      <td>...</td>\n",
       "      <td>0</td>\n",
       "      <td>0</td>\n",
       "      <td>0</td>\n",
       "      <td>0</td>\n",
       "      <td>0</td>\n",
       "      <td>0</td>\n",
       "      <td>0</td>\n",
       "      <td>0</td>\n",
       "      <td>0</td>\n",
       "      <td>0</td>\n",
       "      <td>0</td>\n",
       "      <td>0</td>\n",
       "      <td>0</td>\n",
       "      <td>0</td>\n",
       "      <td>0</td>\n",
       "      <td>0</td>\n",
       "      <td>0</td>\n",
       "      <td>0</td>\n",
       "      <td>0</td>\n",
       "      <td>0</td>\n",
       "      <td>0</td>\n",
       "      <td>0</td>\n",
       "      <td>0</td>\n",
       "      <td>1</td>\n",
       "      <td>0</td>\n",
       "    </tr>\n",
       "    <tr>\n",
       "      <th>244601</th>\n",
       "      <td>2009</td>\n",
       "      <td>105</td>\n",
       "      <td>125000</td>\n",
       "      <td>0</td>\n",
       "      <td>0</td>\n",
       "      <td>0</td>\n",
       "      <td>0</td>\n",
       "      <td>1</td>\n",
       "      <td>0</td>\n",
       "      <td>0</td>\n",
       "      <td>1</td>\n",
       "      <td>0</td>\n",
       "      <td>0</td>\n",
       "      <td>0</td>\n",
       "      <td>0</td>\n",
       "      <td>0</td>\n",
       "      <td>0</td>\n",
       "      <td>0</td>\n",
       "      <td>0</td>\n",
       "      <td>0</td>\n",
       "      <td>0</td>\n",
       "      <td>0</td>\n",
       "      <td>0</td>\n",
       "      <td>0</td>\n",
       "      <td>0</td>\n",
       "      <td>...</td>\n",
       "      <td>0</td>\n",
       "      <td>0</td>\n",
       "      <td>0</td>\n",
       "      <td>0</td>\n",
       "      <td>0</td>\n",
       "      <td>0</td>\n",
       "      <td>0</td>\n",
       "      <td>0</td>\n",
       "      <td>0</td>\n",
       "      <td>0</td>\n",
       "      <td>0</td>\n",
       "      <td>0</td>\n",
       "      <td>0</td>\n",
       "      <td>0</td>\n",
       "      <td>0</td>\n",
       "      <td>0</td>\n",
       "      <td>0</td>\n",
       "      <td>0</td>\n",
       "      <td>0</td>\n",
       "      <td>0</td>\n",
       "      <td>0</td>\n",
       "      <td>0</td>\n",
       "      <td>0</td>\n",
       "      <td>1</td>\n",
       "      <td>0</td>\n",
       "    </tr>\n",
       "    <tr>\n",
       "      <th>244602</th>\n",
       "      <td>1996</td>\n",
       "      <td>75</td>\n",
       "      <td>150000</td>\n",
       "      <td>0</td>\n",
       "      <td>0</td>\n",
       "      <td>0</td>\n",
       "      <td>0</td>\n",
       "      <td>1</td>\n",
       "      <td>0</td>\n",
       "      <td>0</td>\n",
       "      <td>1</td>\n",
       "      <td>0</td>\n",
       "      <td>0</td>\n",
       "      <td>0</td>\n",
       "      <td>0</td>\n",
       "      <td>0</td>\n",
       "      <td>0</td>\n",
       "      <td>0</td>\n",
       "      <td>0</td>\n",
       "      <td>0</td>\n",
       "      <td>0</td>\n",
       "      <td>0</td>\n",
       "      <td>0</td>\n",
       "      <td>0</td>\n",
       "      <td>0</td>\n",
       "      <td>...</td>\n",
       "      <td>0</td>\n",
       "      <td>0</td>\n",
       "      <td>0</td>\n",
       "      <td>0</td>\n",
       "      <td>0</td>\n",
       "      <td>0</td>\n",
       "      <td>0</td>\n",
       "      <td>0</td>\n",
       "      <td>0</td>\n",
       "      <td>0</td>\n",
       "      <td>0</td>\n",
       "      <td>0</td>\n",
       "      <td>0</td>\n",
       "      <td>0</td>\n",
       "      <td>0</td>\n",
       "      <td>0</td>\n",
       "      <td>0</td>\n",
       "      <td>0</td>\n",
       "      <td>0</td>\n",
       "      <td>0</td>\n",
       "      <td>0</td>\n",
       "      <td>0</td>\n",
       "      <td>0</td>\n",
       "      <td>1</td>\n",
       "      <td>0</td>\n",
       "    </tr>\n",
       "    <tr>\n",
       "      <th>244603</th>\n",
       "      <td>2002</td>\n",
       "      <td>101</td>\n",
       "      <td>150000</td>\n",
       "      <td>0</td>\n",
       "      <td>0</td>\n",
       "      <td>0</td>\n",
       "      <td>0</td>\n",
       "      <td>0</td>\n",
       "      <td>0</td>\n",
       "      <td>1</td>\n",
       "      <td>1</td>\n",
       "      <td>0</td>\n",
       "      <td>0</td>\n",
       "      <td>0</td>\n",
       "      <td>0</td>\n",
       "      <td>0</td>\n",
       "      <td>0</td>\n",
       "      <td>0</td>\n",
       "      <td>0</td>\n",
       "      <td>0</td>\n",
       "      <td>0</td>\n",
       "      <td>0</td>\n",
       "      <td>0</td>\n",
       "      <td>0</td>\n",
       "      <td>0</td>\n",
       "      <td>...</td>\n",
       "      <td>0</td>\n",
       "      <td>0</td>\n",
       "      <td>0</td>\n",
       "      <td>0</td>\n",
       "      <td>0</td>\n",
       "      <td>0</td>\n",
       "      <td>0</td>\n",
       "      <td>0</td>\n",
       "      <td>0</td>\n",
       "      <td>0</td>\n",
       "      <td>0</td>\n",
       "      <td>0</td>\n",
       "      <td>0</td>\n",
       "      <td>0</td>\n",
       "      <td>0</td>\n",
       "      <td>0</td>\n",
       "      <td>0</td>\n",
       "      <td>0</td>\n",
       "      <td>0</td>\n",
       "      <td>0</td>\n",
       "      <td>0</td>\n",
       "      <td>1</td>\n",
       "      <td>0</td>\n",
       "      <td>0</td>\n",
       "      <td>0</td>\n",
       "    </tr>\n",
       "  </tbody>\n",
       "</table>\n",
       "<p>6 rows × 307 columns</p>\n",
       "</div>"
      ],
      "text/plain": [
       "        registration_year  power  kilometer  vehicle_type_convertible  \\\n",
       "244598               2009    141     100000                         0   \n",
       "244599               2010    170     150000                         0   \n",
       "244600               1997    215     150000                         0   \n",
       "244601               2009    105     125000                         0   \n",
       "244602               1996     75     150000                         0   \n",
       "244603               2002    101     150000                         0   \n",
       "\n",
       "        vehicle_type_coupe  vehicle_type_other  vehicle_type_sedan  \\\n",
       "244598                   0                   0                   0   \n",
       "244599                   0                   0                   1   \n",
       "244600                   0                   0                   0   \n",
       "244601                   0                   0                   0   \n",
       "244602                   0                   0                   0   \n",
       "244603                   0                   0                   0   \n",
       "\n",
       "        vehicle_type_small  vehicle_type_suv  vehicle_type_wagon  \\\n",
       "244598                   0                 1                   0   \n",
       "244599                   0                 0                   0   \n",
       "244600                   0                 1                   0   \n",
       "244601                   1                 0                   0   \n",
       "244602                   1                 0                   0   \n",
       "244603                   0                 0                   1   \n",
       "\n",
       "        gearbox_manual  gearbox_other  model_145  model_147  model_156  \\\n",
       "244598               1              0          0          0          0   \n",
       "244599               1              0          0          0          0   \n",
       "244600               0              0          0          0          0   \n",
       "244601               1              0          0          0          0   \n",
       "244602               1              0          0          0          0   \n",
       "244603               1              0          0          0          0   \n",
       "\n",
       "        model_159  model_1_reihe  model_1er  model_200  model_2_reihe  \\\n",
       "244598          0              0          0          0              0   \n",
       "244599          0              0          0          0              0   \n",
       "244600          0              0          0          0              0   \n",
       "244601          0              0          0          0              0   \n",
       "244602          0              0          0          0              0   \n",
       "244603          0              0          0          0              0   \n",
       "\n",
       "        model_300c  model_3_reihe  model_3er  model_4_reihe  model_500  ...  \\\n",
       "244598           0              0          0              0          0  ...   \n",
       "244599           0              0          0              0          0  ...   \n",
       "244600           0              0          0              0          0  ...   \n",
       "244601           0              0          0              0          0  ...   \n",
       "244602           0              0          0              0          0  ...   \n",
       "244603           0              0          0              0          0  ...   \n",
       "\n",
       "        brand_lancia  brand_land_rover  brand_mazda  brand_mercedes_benz  \\\n",
       "244598             0                 0            0                    0   \n",
       "244599             0                 0            0                    0   \n",
       "244600             0                 0            0                    0   \n",
       "244601             0                 0            0                    0   \n",
       "244602             0                 0            0                    0   \n",
       "244603             0                 0            0                    0   \n",
       "\n",
       "        brand_mini  brand_mitsubishi  brand_nissan  brand_opel  brand_peugeot  \\\n",
       "244598           0                 0             0           0              0   \n",
       "244599           0                 0             0           0              0   \n",
       "244600           0                 0             0           0              0   \n",
       "244601           0                 0             0           0              0   \n",
       "244602           0                 0             0           0              0   \n",
       "244603           0                 0             0           0              0   \n",
       "\n",
       "        brand_porsche  brand_renault  brand_rover  brand_saab  brand_seat  \\\n",
       "244598              0              0            0           0           0   \n",
       "244599              0              0            0           0           1   \n",
       "244600              0              0            0           0           0   \n",
       "244601              0              0            0           0           0   \n",
       "244602              0              0            0           0           0   \n",
       "244603              0              0            0           0           0   \n",
       "\n",
       "        brand_skoda  brand_smart  brand_sonstige_autos  brand_subaru  \\\n",
       "244598            0            0                     0             0   \n",
       "244599            0            0                     0             0   \n",
       "244600            0            0                     0             0   \n",
       "244601            0            0                     0             0   \n",
       "244602            0            0                     0             0   \n",
       "244603            0            0                     0             0   \n",
       "\n",
       "        brand_suzuki  brand_toyota  brand_trabant  brand_volkswagen  \\\n",
       "244598             0             0              0                 0   \n",
       "244599             0             0              0                 0   \n",
       "244600             0             0              0                 0   \n",
       "244601             0             0              0                 0   \n",
       "244602             0             0              0                 0   \n",
       "244603             0             0              0                 1   \n",
       "\n",
       "        brand_volvo  repaired_other  repaired_yes  \n",
       "244598            0               0             0  \n",
       "244599            0               0             0  \n",
       "244600            0               1             0  \n",
       "244601            0               1             0  \n",
       "244602            0               1             0  \n",
       "244603            0               0             0  \n",
       "\n",
       "[6 rows x 307 columns]"
      ]
     },
     "metadata": {},
     "output_type": "display_data"
    },
    {
     "name": "stdout",
     "output_type": "stream",
     "text": [
      "<class 'pandas.core.frame.DataFrame'>\n",
      "RangeIndex: 244604 entries, 0 to 244603\n",
      "Columns: 307 entries, registration_year to repaired_yes\n",
      "dtypes: int64(3), uint8(304)\n",
      "memory usage: 76.5 MB\n"
     ]
    }
   ],
   "source": [
    "first_info(features_train_ohe, data_title='Обучающая выборка с признаками\\nДанные после предобработки и кодирования признаков прямым кодированием OHE', \n",
    "           describe_show=False, corr_show=False, hist_show=False)"
   ]
  },
  {
   "cell_type": "code",
   "execution_count": 35,
   "metadata": {},
   "outputs": [
    {
     "name": "stdout",
     "output_type": "stream",
     "text": [
      "Данные по датасету: Тестовая выборка с признаками\n",
      "Данные после предобработки и кодирования признаков прямым кодированием OHE\n"
     ]
    },
    {
     "data": {
      "text/html": [
       "<div>\n",
       "<style scoped>\n",
       "    .dataframe tbody tr th:only-of-type {\n",
       "        vertical-align: middle;\n",
       "    }\n",
       "\n",
       "    .dataframe tbody tr th {\n",
       "        vertical-align: top;\n",
       "    }\n",
       "\n",
       "    .dataframe thead th {\n",
       "        text-align: right;\n",
       "    }\n",
       "</style>\n",
       "<table border=\"1\" class=\"dataframe\">\n",
       "  <thead>\n",
       "    <tr style=\"text-align: right;\">\n",
       "      <th></th>\n",
       "      <th>registration_year</th>\n",
       "      <th>power</th>\n",
       "      <th>kilometer</th>\n",
       "      <th>vehicle_type_convertible</th>\n",
       "      <th>vehicle_type_coupe</th>\n",
       "      <th>vehicle_type_other</th>\n",
       "      <th>vehicle_type_sedan</th>\n",
       "      <th>vehicle_type_small</th>\n",
       "      <th>vehicle_type_suv</th>\n",
       "      <th>vehicle_type_wagon</th>\n",
       "      <th>gearbox_manual</th>\n",
       "      <th>gearbox_other</th>\n",
       "      <th>model_145</th>\n",
       "      <th>model_147</th>\n",
       "      <th>model_156</th>\n",
       "      <th>model_159</th>\n",
       "      <th>model_1_reihe</th>\n",
       "      <th>model_1er</th>\n",
       "      <th>model_200</th>\n",
       "      <th>model_2_reihe</th>\n",
       "      <th>model_300c</th>\n",
       "      <th>model_3_reihe</th>\n",
       "      <th>model_3er</th>\n",
       "      <th>model_4_reihe</th>\n",
       "      <th>model_500</th>\n",
       "      <th>...</th>\n",
       "      <th>brand_lancia</th>\n",
       "      <th>brand_land_rover</th>\n",
       "      <th>brand_mazda</th>\n",
       "      <th>brand_mercedes_benz</th>\n",
       "      <th>brand_mini</th>\n",
       "      <th>brand_mitsubishi</th>\n",
       "      <th>brand_nissan</th>\n",
       "      <th>brand_opel</th>\n",
       "      <th>brand_peugeot</th>\n",
       "      <th>brand_porsche</th>\n",
       "      <th>brand_renault</th>\n",
       "      <th>brand_rover</th>\n",
       "      <th>brand_saab</th>\n",
       "      <th>brand_seat</th>\n",
       "      <th>brand_skoda</th>\n",
       "      <th>brand_smart</th>\n",
       "      <th>brand_sonstige_autos</th>\n",
       "      <th>brand_subaru</th>\n",
       "      <th>brand_suzuki</th>\n",
       "      <th>brand_toyota</th>\n",
       "      <th>brand_trabant</th>\n",
       "      <th>brand_volkswagen</th>\n",
       "      <th>brand_volvo</th>\n",
       "      <th>repaired_other</th>\n",
       "      <th>repaired_yes</th>\n",
       "    </tr>\n",
       "  </thead>\n",
       "  <tbody>\n",
       "    <tr>\n",
       "      <th>0</th>\n",
       "      <td>2001</td>\n",
       "      <td>45</td>\n",
       "      <td>125000</td>\n",
       "      <td>0</td>\n",
       "      <td>0</td>\n",
       "      <td>0</td>\n",
       "      <td>0</td>\n",
       "      <td>1</td>\n",
       "      <td>0</td>\n",
       "      <td>0</td>\n",
       "      <td>0</td>\n",
       "      <td>0</td>\n",
       "      <td>0</td>\n",
       "      <td>0</td>\n",
       "      <td>0</td>\n",
       "      <td>0</td>\n",
       "      <td>0</td>\n",
       "      <td>0</td>\n",
       "      <td>0</td>\n",
       "      <td>0</td>\n",
       "      <td>0</td>\n",
       "      <td>0</td>\n",
       "      <td>0</td>\n",
       "      <td>0</td>\n",
       "      <td>0</td>\n",
       "      <td>...</td>\n",
       "      <td>0</td>\n",
       "      <td>0</td>\n",
       "      <td>0</td>\n",
       "      <td>0</td>\n",
       "      <td>0</td>\n",
       "      <td>0</td>\n",
       "      <td>0</td>\n",
       "      <td>0</td>\n",
       "      <td>0</td>\n",
       "      <td>0</td>\n",
       "      <td>0</td>\n",
       "      <td>0</td>\n",
       "      <td>0</td>\n",
       "      <td>0</td>\n",
       "      <td>0</td>\n",
       "      <td>1</td>\n",
       "      <td>0</td>\n",
       "      <td>0</td>\n",
       "      <td>0</td>\n",
       "      <td>0</td>\n",
       "      <td>0</td>\n",
       "      <td>0</td>\n",
       "      <td>0</td>\n",
       "      <td>0</td>\n",
       "      <td>0</td>\n",
       "    </tr>\n",
       "    <tr>\n",
       "      <th>1</th>\n",
       "      <td>1999</td>\n",
       "      <td>220</td>\n",
       "      <td>150000</td>\n",
       "      <td>0</td>\n",
       "      <td>0</td>\n",
       "      <td>0</td>\n",
       "      <td>0</td>\n",
       "      <td>0</td>\n",
       "      <td>1</td>\n",
       "      <td>0</td>\n",
       "      <td>0</td>\n",
       "      <td>0</td>\n",
       "      <td>0</td>\n",
       "      <td>0</td>\n",
       "      <td>0</td>\n",
       "      <td>0</td>\n",
       "      <td>0</td>\n",
       "      <td>0</td>\n",
       "      <td>0</td>\n",
       "      <td>0</td>\n",
       "      <td>0</td>\n",
       "      <td>0</td>\n",
       "      <td>0</td>\n",
       "      <td>0</td>\n",
       "      <td>0</td>\n",
       "      <td>...</td>\n",
       "      <td>0</td>\n",
       "      <td>0</td>\n",
       "      <td>0</td>\n",
       "      <td>0</td>\n",
       "      <td>0</td>\n",
       "      <td>0</td>\n",
       "      <td>0</td>\n",
       "      <td>0</td>\n",
       "      <td>0</td>\n",
       "      <td>0</td>\n",
       "      <td>0</td>\n",
       "      <td>0</td>\n",
       "      <td>0</td>\n",
       "      <td>0</td>\n",
       "      <td>0</td>\n",
       "      <td>0</td>\n",
       "      <td>0</td>\n",
       "      <td>0</td>\n",
       "      <td>0</td>\n",
       "      <td>0</td>\n",
       "      <td>0</td>\n",
       "      <td>0</td>\n",
       "      <td>0</td>\n",
       "      <td>0</td>\n",
       "      <td>0</td>\n",
       "    </tr>\n",
       "    <tr>\n",
       "      <th>2</th>\n",
       "      <td>2002</td>\n",
       "      <td>144</td>\n",
       "      <td>150000</td>\n",
       "      <td>0</td>\n",
       "      <td>0</td>\n",
       "      <td>0</td>\n",
       "      <td>1</td>\n",
       "      <td>0</td>\n",
       "      <td>0</td>\n",
       "      <td>0</td>\n",
       "      <td>0</td>\n",
       "      <td>0</td>\n",
       "      <td>0</td>\n",
       "      <td>0</td>\n",
       "      <td>0</td>\n",
       "      <td>0</td>\n",
       "      <td>0</td>\n",
       "      <td>0</td>\n",
       "      <td>0</td>\n",
       "      <td>0</td>\n",
       "      <td>0</td>\n",
       "      <td>0</td>\n",
       "      <td>0</td>\n",
       "      <td>0</td>\n",
       "      <td>0</td>\n",
       "      <td>...</td>\n",
       "      <td>0</td>\n",
       "      <td>0</td>\n",
       "      <td>0</td>\n",
       "      <td>0</td>\n",
       "      <td>0</td>\n",
       "      <td>0</td>\n",
       "      <td>0</td>\n",
       "      <td>1</td>\n",
       "      <td>0</td>\n",
       "      <td>0</td>\n",
       "      <td>0</td>\n",
       "      <td>0</td>\n",
       "      <td>0</td>\n",
       "      <td>0</td>\n",
       "      <td>0</td>\n",
       "      <td>0</td>\n",
       "      <td>0</td>\n",
       "      <td>0</td>\n",
       "      <td>0</td>\n",
       "      <td>0</td>\n",
       "      <td>0</td>\n",
       "      <td>0</td>\n",
       "      <td>0</td>\n",
       "      <td>0</td>\n",
       "      <td>1</td>\n",
       "    </tr>\n",
       "    <tr>\n",
       "      <th>3</th>\n",
       "      <td>2003</td>\n",
       "      <td>310</td>\n",
       "      <td>150000</td>\n",
       "      <td>0</td>\n",
       "      <td>0</td>\n",
       "      <td>0</td>\n",
       "      <td>0</td>\n",
       "      <td>0</td>\n",
       "      <td>1</td>\n",
       "      <td>0</td>\n",
       "      <td>0</td>\n",
       "      <td>0</td>\n",
       "      <td>0</td>\n",
       "      <td>0</td>\n",
       "      <td>0</td>\n",
       "      <td>0</td>\n",
       "      <td>0</td>\n",
       "      <td>0</td>\n",
       "      <td>0</td>\n",
       "      <td>0</td>\n",
       "      <td>0</td>\n",
       "      <td>0</td>\n",
       "      <td>0</td>\n",
       "      <td>0</td>\n",
       "      <td>0</td>\n",
       "      <td>...</td>\n",
       "      <td>0</td>\n",
       "      <td>0</td>\n",
       "      <td>0</td>\n",
       "      <td>0</td>\n",
       "      <td>0</td>\n",
       "      <td>0</td>\n",
       "      <td>0</td>\n",
       "      <td>0</td>\n",
       "      <td>0</td>\n",
       "      <td>0</td>\n",
       "      <td>0</td>\n",
       "      <td>0</td>\n",
       "      <td>0</td>\n",
       "      <td>0</td>\n",
       "      <td>0</td>\n",
       "      <td>0</td>\n",
       "      <td>0</td>\n",
       "      <td>0</td>\n",
       "      <td>0</td>\n",
       "      <td>0</td>\n",
       "      <td>0</td>\n",
       "      <td>1</td>\n",
       "      <td>0</td>\n",
       "      <td>0</td>\n",
       "      <td>0</td>\n",
       "    </tr>\n",
       "    <tr>\n",
       "      <th>4</th>\n",
       "      <td>2011</td>\n",
       "      <td>122</td>\n",
       "      <td>90000</td>\n",
       "      <td>0</td>\n",
       "      <td>0</td>\n",
       "      <td>0</td>\n",
       "      <td>1</td>\n",
       "      <td>0</td>\n",
       "      <td>0</td>\n",
       "      <td>0</td>\n",
       "      <td>1</td>\n",
       "      <td>0</td>\n",
       "      <td>0</td>\n",
       "      <td>0</td>\n",
       "      <td>0</td>\n",
       "      <td>0</td>\n",
       "      <td>0</td>\n",
       "      <td>1</td>\n",
       "      <td>0</td>\n",
       "      <td>0</td>\n",
       "      <td>0</td>\n",
       "      <td>0</td>\n",
       "      <td>0</td>\n",
       "      <td>0</td>\n",
       "      <td>0</td>\n",
       "      <td>...</td>\n",
       "      <td>0</td>\n",
       "      <td>0</td>\n",
       "      <td>0</td>\n",
       "      <td>0</td>\n",
       "      <td>0</td>\n",
       "      <td>0</td>\n",
       "      <td>0</td>\n",
       "      <td>0</td>\n",
       "      <td>0</td>\n",
       "      <td>0</td>\n",
       "      <td>0</td>\n",
       "      <td>0</td>\n",
       "      <td>0</td>\n",
       "      <td>0</td>\n",
       "      <td>0</td>\n",
       "      <td>0</td>\n",
       "      <td>0</td>\n",
       "      <td>0</td>\n",
       "      <td>0</td>\n",
       "      <td>0</td>\n",
       "      <td>0</td>\n",
       "      <td>0</td>\n",
       "      <td>0</td>\n",
       "      <td>0</td>\n",
       "      <td>1</td>\n",
       "    </tr>\n",
       "    <tr>\n",
       "      <th>5</th>\n",
       "      <td>2007</td>\n",
       "      <td>140</td>\n",
       "      <td>150000</td>\n",
       "      <td>0</td>\n",
       "      <td>0</td>\n",
       "      <td>0</td>\n",
       "      <td>0</td>\n",
       "      <td>0</td>\n",
       "      <td>0</td>\n",
       "      <td>1</td>\n",
       "      <td>0</td>\n",
       "      <td>0</td>\n",
       "      <td>0</td>\n",
       "      <td>0</td>\n",
       "      <td>0</td>\n",
       "      <td>0</td>\n",
       "      <td>0</td>\n",
       "      <td>0</td>\n",
       "      <td>0</td>\n",
       "      <td>0</td>\n",
       "      <td>0</td>\n",
       "      <td>0</td>\n",
       "      <td>0</td>\n",
       "      <td>0</td>\n",
       "      <td>0</td>\n",
       "      <td>...</td>\n",
       "      <td>0</td>\n",
       "      <td>0</td>\n",
       "      <td>0</td>\n",
       "      <td>0</td>\n",
       "      <td>0</td>\n",
       "      <td>0</td>\n",
       "      <td>0</td>\n",
       "      <td>0</td>\n",
       "      <td>0</td>\n",
       "      <td>0</td>\n",
       "      <td>0</td>\n",
       "      <td>0</td>\n",
       "      <td>0</td>\n",
       "      <td>0</td>\n",
       "      <td>0</td>\n",
       "      <td>0</td>\n",
       "      <td>0</td>\n",
       "      <td>0</td>\n",
       "      <td>0</td>\n",
       "      <td>0</td>\n",
       "      <td>0</td>\n",
       "      <td>0</td>\n",
       "      <td>0</td>\n",
       "      <td>1</td>\n",
       "      <td>0</td>\n",
       "    </tr>\n",
       "  </tbody>\n",
       "</table>\n",
       "<p>6 rows × 304 columns</p>\n",
       "</div>"
      ],
      "text/plain": [
       "   registration_year  power  kilometer  vehicle_type_convertible  \\\n",
       "0               2001     45     125000                         0   \n",
       "1               1999    220     150000                         0   \n",
       "2               2002    144     150000                         0   \n",
       "3               2003    310     150000                         0   \n",
       "4               2011    122      90000                         0   \n",
       "5               2007    140     150000                         0   \n",
       "\n",
       "   vehicle_type_coupe  vehicle_type_other  vehicle_type_sedan  \\\n",
       "0                   0                   0                   0   \n",
       "1                   0                   0                   0   \n",
       "2                   0                   0                   1   \n",
       "3                   0                   0                   0   \n",
       "4                   0                   0                   1   \n",
       "5                   0                   0                   0   \n",
       "\n",
       "   vehicle_type_small  vehicle_type_suv  vehicle_type_wagon  gearbox_manual  \\\n",
       "0                   1                 0                   0               0   \n",
       "1                   0                 1                   0               0   \n",
       "2                   0                 0                   0               0   \n",
       "3                   0                 1                   0               0   \n",
       "4                   0                 0                   0               1   \n",
       "5                   0                 0                   1               0   \n",
       "\n",
       "   gearbox_other  model_145  model_147  model_156  model_159  model_1_reihe  \\\n",
       "0              0          0          0          0          0              0   \n",
       "1              0          0          0          0          0              0   \n",
       "2              0          0          0          0          0              0   \n",
       "3              0          0          0          0          0              0   \n",
       "4              0          0          0          0          0              0   \n",
       "5              0          0          0          0          0              0   \n",
       "\n",
       "   model_1er  model_200  model_2_reihe  model_300c  model_3_reihe  model_3er  \\\n",
       "0          0          0              0           0              0          0   \n",
       "1          0          0              0           0              0          0   \n",
       "2          0          0              0           0              0          0   \n",
       "3          0          0              0           0              0          0   \n",
       "4          1          0              0           0              0          0   \n",
       "5          0          0              0           0              0          0   \n",
       "\n",
       "   model_4_reihe  model_500  ...  brand_lancia  brand_land_rover  brand_mazda  \\\n",
       "0              0          0  ...             0                 0            0   \n",
       "1              0          0  ...             0                 0            0   \n",
       "2              0          0  ...             0                 0            0   \n",
       "3              0          0  ...             0                 0            0   \n",
       "4              0          0  ...             0                 0            0   \n",
       "5              0          0  ...             0                 0            0   \n",
       "\n",
       "   brand_mercedes_benz  brand_mini  brand_mitsubishi  brand_nissan  \\\n",
       "0                    0           0                 0             0   \n",
       "1                    0           0                 0             0   \n",
       "2                    0           0                 0             0   \n",
       "3                    0           0                 0             0   \n",
       "4                    0           0                 0             0   \n",
       "5                    0           0                 0             0   \n",
       "\n",
       "   brand_opel  brand_peugeot  brand_porsche  brand_renault  brand_rover  \\\n",
       "0           0              0              0              0            0   \n",
       "1           0              0              0              0            0   \n",
       "2           1              0              0              0            0   \n",
       "3           0              0              0              0            0   \n",
       "4           0              0              0              0            0   \n",
       "5           0              0              0              0            0   \n",
       "\n",
       "   brand_saab  brand_seat  brand_skoda  brand_smart  brand_sonstige_autos  \\\n",
       "0           0           0            0            1                     0   \n",
       "1           0           0            0            0                     0   \n",
       "2           0           0            0            0                     0   \n",
       "3           0           0            0            0                     0   \n",
       "4           0           0            0            0                     0   \n",
       "5           0           0            0            0                     0   \n",
       "\n",
       "   brand_subaru  brand_suzuki  brand_toyota  brand_trabant  brand_volkswagen  \\\n",
       "0             0             0             0              0                 0   \n",
       "1             0             0             0              0                 0   \n",
       "2             0             0             0              0                 0   \n",
       "3             0             0             0              0                 1   \n",
       "4             0             0             0              0                 0   \n",
       "5             0             0             0              0                 0   \n",
       "\n",
       "   brand_volvo  repaired_other  repaired_yes  \n",
       "0            0               0             0  \n",
       "1            0               0             0  \n",
       "2            0               0             1  \n",
       "3            0               0             0  \n",
       "4            0               0             1  \n",
       "5            0               1             0  \n",
       "\n",
       "[6 rows x 304 columns]"
      ]
     },
     "metadata": {},
     "output_type": "display_data"
    },
    {
     "data": {
      "text/html": [
       "<div>\n",
       "<style scoped>\n",
       "    .dataframe tbody tr th:only-of-type {\n",
       "        vertical-align: middle;\n",
       "    }\n",
       "\n",
       "    .dataframe tbody tr th {\n",
       "        vertical-align: top;\n",
       "    }\n",
       "\n",
       "    .dataframe thead th {\n",
       "        text-align: right;\n",
       "    }\n",
       "</style>\n",
       "<table border=\"1\" class=\"dataframe\">\n",
       "  <thead>\n",
       "    <tr style=\"text-align: right;\">\n",
       "      <th></th>\n",
       "      <th>registration_year</th>\n",
       "      <th>power</th>\n",
       "      <th>kilometer</th>\n",
       "      <th>vehicle_type_convertible</th>\n",
       "      <th>vehicle_type_coupe</th>\n",
       "      <th>vehicle_type_other</th>\n",
       "      <th>vehicle_type_sedan</th>\n",
       "      <th>vehicle_type_small</th>\n",
       "      <th>vehicle_type_suv</th>\n",
       "      <th>vehicle_type_wagon</th>\n",
       "      <th>gearbox_manual</th>\n",
       "      <th>gearbox_other</th>\n",
       "      <th>model_145</th>\n",
       "      <th>model_147</th>\n",
       "      <th>model_156</th>\n",
       "      <th>model_159</th>\n",
       "      <th>model_1_reihe</th>\n",
       "      <th>model_1er</th>\n",
       "      <th>model_200</th>\n",
       "      <th>model_2_reihe</th>\n",
       "      <th>model_300c</th>\n",
       "      <th>model_3_reihe</th>\n",
       "      <th>model_3er</th>\n",
       "      <th>model_4_reihe</th>\n",
       "      <th>model_500</th>\n",
       "      <th>...</th>\n",
       "      <th>brand_lancia</th>\n",
       "      <th>brand_land_rover</th>\n",
       "      <th>brand_mazda</th>\n",
       "      <th>brand_mercedes_benz</th>\n",
       "      <th>brand_mini</th>\n",
       "      <th>brand_mitsubishi</th>\n",
       "      <th>brand_nissan</th>\n",
       "      <th>brand_opel</th>\n",
       "      <th>brand_peugeot</th>\n",
       "      <th>brand_porsche</th>\n",
       "      <th>brand_renault</th>\n",
       "      <th>brand_rover</th>\n",
       "      <th>brand_saab</th>\n",
       "      <th>brand_seat</th>\n",
       "      <th>brand_skoda</th>\n",
       "      <th>brand_smart</th>\n",
       "      <th>brand_sonstige_autos</th>\n",
       "      <th>brand_subaru</th>\n",
       "      <th>brand_suzuki</th>\n",
       "      <th>brand_toyota</th>\n",
       "      <th>brand_trabant</th>\n",
       "      <th>brand_volkswagen</th>\n",
       "      <th>brand_volvo</th>\n",
       "      <th>repaired_other</th>\n",
       "      <th>repaired_yes</th>\n",
       "    </tr>\n",
       "  </thead>\n",
       "  <tbody>\n",
       "    <tr>\n",
       "      <th>81529</th>\n",
       "      <td>2012</td>\n",
       "      <td>60</td>\n",
       "      <td>50000</td>\n",
       "      <td>0</td>\n",
       "      <td>0</td>\n",
       "      <td>0</td>\n",
       "      <td>0</td>\n",
       "      <td>1</td>\n",
       "      <td>0</td>\n",
       "      <td>0</td>\n",
       "      <td>1</td>\n",
       "      <td>0</td>\n",
       "      <td>0</td>\n",
       "      <td>0</td>\n",
       "      <td>0</td>\n",
       "      <td>0</td>\n",
       "      <td>0</td>\n",
       "      <td>0</td>\n",
       "      <td>0</td>\n",
       "      <td>0</td>\n",
       "      <td>0</td>\n",
       "      <td>0</td>\n",
       "      <td>0</td>\n",
       "      <td>0</td>\n",
       "      <td>0</td>\n",
       "      <td>...</td>\n",
       "      <td>0</td>\n",
       "      <td>0</td>\n",
       "      <td>0</td>\n",
       "      <td>0</td>\n",
       "      <td>0</td>\n",
       "      <td>0</td>\n",
       "      <td>0</td>\n",
       "      <td>0</td>\n",
       "      <td>0</td>\n",
       "      <td>0</td>\n",
       "      <td>0</td>\n",
       "      <td>0</td>\n",
       "      <td>0</td>\n",
       "      <td>0</td>\n",
       "      <td>0</td>\n",
       "      <td>0</td>\n",
       "      <td>0</td>\n",
       "      <td>0</td>\n",
       "      <td>0</td>\n",
       "      <td>0</td>\n",
       "      <td>0</td>\n",
       "      <td>1</td>\n",
       "      <td>0</td>\n",
       "      <td>0</td>\n",
       "      <td>0</td>\n",
       "    </tr>\n",
       "    <tr>\n",
       "      <th>81530</th>\n",
       "      <td>2012</td>\n",
       "      <td>105</td>\n",
       "      <td>40000</td>\n",
       "      <td>0</td>\n",
       "      <td>0</td>\n",
       "      <td>0</td>\n",
       "      <td>0</td>\n",
       "      <td>1</td>\n",
       "      <td>0</td>\n",
       "      <td>0</td>\n",
       "      <td>0</td>\n",
       "      <td>0</td>\n",
       "      <td>0</td>\n",
       "      <td>0</td>\n",
       "      <td>0</td>\n",
       "      <td>0</td>\n",
       "      <td>0</td>\n",
       "      <td>0</td>\n",
       "      <td>0</td>\n",
       "      <td>0</td>\n",
       "      <td>0</td>\n",
       "      <td>0</td>\n",
       "      <td>0</td>\n",
       "      <td>0</td>\n",
       "      <td>0</td>\n",
       "      <td>...</td>\n",
       "      <td>0</td>\n",
       "      <td>0</td>\n",
       "      <td>0</td>\n",
       "      <td>0</td>\n",
       "      <td>0</td>\n",
       "      <td>0</td>\n",
       "      <td>0</td>\n",
       "      <td>0</td>\n",
       "      <td>0</td>\n",
       "      <td>0</td>\n",
       "      <td>0</td>\n",
       "      <td>0</td>\n",
       "      <td>0</td>\n",
       "      <td>0</td>\n",
       "      <td>0</td>\n",
       "      <td>0</td>\n",
       "      <td>0</td>\n",
       "      <td>0</td>\n",
       "      <td>0</td>\n",
       "      <td>0</td>\n",
       "      <td>0</td>\n",
       "      <td>1</td>\n",
       "      <td>0</td>\n",
       "      <td>0</td>\n",
       "      <td>0</td>\n",
       "    </tr>\n",
       "    <tr>\n",
       "      <th>81531</th>\n",
       "      <td>2005</td>\n",
       "      <td>129</td>\n",
       "      <td>100000</td>\n",
       "      <td>0</td>\n",
       "      <td>0</td>\n",
       "      <td>0</td>\n",
       "      <td>0</td>\n",
       "      <td>0</td>\n",
       "      <td>0</td>\n",
       "      <td>0</td>\n",
       "      <td>1</td>\n",
       "      <td>0</td>\n",
       "      <td>0</td>\n",
       "      <td>0</td>\n",
       "      <td>0</td>\n",
       "      <td>0</td>\n",
       "      <td>0</td>\n",
       "      <td>0</td>\n",
       "      <td>0</td>\n",
       "      <td>0</td>\n",
       "      <td>0</td>\n",
       "      <td>0</td>\n",
       "      <td>0</td>\n",
       "      <td>0</td>\n",
       "      <td>0</td>\n",
       "      <td>...</td>\n",
       "      <td>0</td>\n",
       "      <td>0</td>\n",
       "      <td>0</td>\n",
       "      <td>0</td>\n",
       "      <td>0</td>\n",
       "      <td>0</td>\n",
       "      <td>0</td>\n",
       "      <td>0</td>\n",
       "      <td>0</td>\n",
       "      <td>0</td>\n",
       "      <td>0</td>\n",
       "      <td>0</td>\n",
       "      <td>0</td>\n",
       "      <td>0</td>\n",
       "      <td>0</td>\n",
       "      <td>0</td>\n",
       "      <td>0</td>\n",
       "      <td>0</td>\n",
       "      <td>0</td>\n",
       "      <td>1</td>\n",
       "      <td>0</td>\n",
       "      <td>0</td>\n",
       "      <td>0</td>\n",
       "      <td>0</td>\n",
       "      <td>0</td>\n",
       "    </tr>\n",
       "    <tr>\n",
       "      <th>81532</th>\n",
       "      <td>2000</td>\n",
       "      <td>88</td>\n",
       "      <td>125000</td>\n",
       "      <td>0</td>\n",
       "      <td>0</td>\n",
       "      <td>0</td>\n",
       "      <td>0</td>\n",
       "      <td>0</td>\n",
       "      <td>1</td>\n",
       "      <td>0</td>\n",
       "      <td>1</td>\n",
       "      <td>0</td>\n",
       "      <td>0</td>\n",
       "      <td>0</td>\n",
       "      <td>0</td>\n",
       "      <td>0</td>\n",
       "      <td>0</td>\n",
       "      <td>0</td>\n",
       "      <td>0</td>\n",
       "      <td>0</td>\n",
       "      <td>0</td>\n",
       "      <td>0</td>\n",
       "      <td>0</td>\n",
       "      <td>0</td>\n",
       "      <td>0</td>\n",
       "      <td>...</td>\n",
       "      <td>0</td>\n",
       "      <td>0</td>\n",
       "      <td>0</td>\n",
       "      <td>0</td>\n",
       "      <td>0</td>\n",
       "      <td>0</td>\n",
       "      <td>0</td>\n",
       "      <td>0</td>\n",
       "      <td>0</td>\n",
       "      <td>0</td>\n",
       "      <td>0</td>\n",
       "      <td>0</td>\n",
       "      <td>0</td>\n",
       "      <td>0</td>\n",
       "      <td>0</td>\n",
       "      <td>0</td>\n",
       "      <td>0</td>\n",
       "      <td>0</td>\n",
       "      <td>0</td>\n",
       "      <td>0</td>\n",
       "      <td>0</td>\n",
       "      <td>1</td>\n",
       "      <td>0</td>\n",
       "      <td>0</td>\n",
       "      <td>0</td>\n",
       "    </tr>\n",
       "    <tr>\n",
       "      <th>81533</th>\n",
       "      <td>1997</td>\n",
       "      <td>60</td>\n",
       "      <td>150000</td>\n",
       "      <td>0</td>\n",
       "      <td>0</td>\n",
       "      <td>0</td>\n",
       "      <td>0</td>\n",
       "      <td>1</td>\n",
       "      <td>0</td>\n",
       "      <td>0</td>\n",
       "      <td>1</td>\n",
       "      <td>0</td>\n",
       "      <td>0</td>\n",
       "      <td>0</td>\n",
       "      <td>0</td>\n",
       "      <td>0</td>\n",
       "      <td>0</td>\n",
       "      <td>0</td>\n",
       "      <td>0</td>\n",
       "      <td>0</td>\n",
       "      <td>0</td>\n",
       "      <td>0</td>\n",
       "      <td>0</td>\n",
       "      <td>0</td>\n",
       "      <td>0</td>\n",
       "      <td>...</td>\n",
       "      <td>0</td>\n",
       "      <td>0</td>\n",
       "      <td>0</td>\n",
       "      <td>0</td>\n",
       "      <td>0</td>\n",
       "      <td>0</td>\n",
       "      <td>0</td>\n",
       "      <td>0</td>\n",
       "      <td>0</td>\n",
       "      <td>0</td>\n",
       "      <td>1</td>\n",
       "      <td>0</td>\n",
       "      <td>0</td>\n",
       "      <td>0</td>\n",
       "      <td>0</td>\n",
       "      <td>0</td>\n",
       "      <td>0</td>\n",
       "      <td>0</td>\n",
       "      <td>0</td>\n",
       "      <td>0</td>\n",
       "      <td>0</td>\n",
       "      <td>0</td>\n",
       "      <td>0</td>\n",
       "      <td>0</td>\n",
       "      <td>0</td>\n",
       "    </tr>\n",
       "    <tr>\n",
       "      <th>81534</th>\n",
       "      <td>2000</td>\n",
       "      <td>116</td>\n",
       "      <td>125000</td>\n",
       "      <td>0</td>\n",
       "      <td>0</td>\n",
       "      <td>0</td>\n",
       "      <td>0</td>\n",
       "      <td>0</td>\n",
       "      <td>1</td>\n",
       "      <td>0</td>\n",
       "      <td>1</td>\n",
       "      <td>0</td>\n",
       "      <td>0</td>\n",
       "      <td>0</td>\n",
       "      <td>0</td>\n",
       "      <td>0</td>\n",
       "      <td>0</td>\n",
       "      <td>0</td>\n",
       "      <td>0</td>\n",
       "      <td>0</td>\n",
       "      <td>0</td>\n",
       "      <td>0</td>\n",
       "      <td>0</td>\n",
       "      <td>0</td>\n",
       "      <td>0</td>\n",
       "      <td>...</td>\n",
       "      <td>0</td>\n",
       "      <td>0</td>\n",
       "      <td>0</td>\n",
       "      <td>0</td>\n",
       "      <td>0</td>\n",
       "      <td>0</td>\n",
       "      <td>0</td>\n",
       "      <td>1</td>\n",
       "      <td>0</td>\n",
       "      <td>0</td>\n",
       "      <td>0</td>\n",
       "      <td>0</td>\n",
       "      <td>0</td>\n",
       "      <td>0</td>\n",
       "      <td>0</td>\n",
       "      <td>0</td>\n",
       "      <td>0</td>\n",
       "      <td>0</td>\n",
       "      <td>0</td>\n",
       "      <td>0</td>\n",
       "      <td>0</td>\n",
       "      <td>0</td>\n",
       "      <td>0</td>\n",
       "      <td>0</td>\n",
       "      <td>0</td>\n",
       "    </tr>\n",
       "  </tbody>\n",
       "</table>\n",
       "<p>6 rows × 304 columns</p>\n",
       "</div>"
      ],
      "text/plain": [
       "       registration_year  power  kilometer  vehicle_type_convertible  \\\n",
       "81529               2012     60      50000                         0   \n",
       "81530               2012    105      40000                         0   \n",
       "81531               2005    129     100000                         0   \n",
       "81532               2000     88     125000                         0   \n",
       "81533               1997     60     150000                         0   \n",
       "81534               2000    116     125000                         0   \n",
       "\n",
       "       vehicle_type_coupe  vehicle_type_other  vehicle_type_sedan  \\\n",
       "81529                   0                   0                   0   \n",
       "81530                   0                   0                   0   \n",
       "81531                   0                   0                   0   \n",
       "81532                   0                   0                   0   \n",
       "81533                   0                   0                   0   \n",
       "81534                   0                   0                   0   \n",
       "\n",
       "       vehicle_type_small  vehicle_type_suv  vehicle_type_wagon  \\\n",
       "81529                   1                 0                   0   \n",
       "81530                   1                 0                   0   \n",
       "81531                   0                 0                   0   \n",
       "81532                   0                 1                   0   \n",
       "81533                   1                 0                   0   \n",
       "81534                   0                 1                   0   \n",
       "\n",
       "       gearbox_manual  gearbox_other  model_145  model_147  model_156  \\\n",
       "81529               1              0          0          0          0   \n",
       "81530               0              0          0          0          0   \n",
       "81531               1              0          0          0          0   \n",
       "81532               1              0          0          0          0   \n",
       "81533               1              0          0          0          0   \n",
       "81534               1              0          0          0          0   \n",
       "\n",
       "       model_159  model_1_reihe  model_1er  model_200  model_2_reihe  \\\n",
       "81529          0              0          0          0              0   \n",
       "81530          0              0          0          0              0   \n",
       "81531          0              0          0          0              0   \n",
       "81532          0              0          0          0              0   \n",
       "81533          0              0          0          0              0   \n",
       "81534          0              0          0          0              0   \n",
       "\n",
       "       model_300c  model_3_reihe  model_3er  model_4_reihe  model_500  ...  \\\n",
       "81529           0              0          0              0          0  ...   \n",
       "81530           0              0          0              0          0  ...   \n",
       "81531           0              0          0              0          0  ...   \n",
       "81532           0              0          0              0          0  ...   \n",
       "81533           0              0          0              0          0  ...   \n",
       "81534           0              0          0              0          0  ...   \n",
       "\n",
       "       brand_lancia  brand_land_rover  brand_mazda  brand_mercedes_benz  \\\n",
       "81529             0                 0            0                    0   \n",
       "81530             0                 0            0                    0   \n",
       "81531             0                 0            0                    0   \n",
       "81532             0                 0            0                    0   \n",
       "81533             0                 0            0                    0   \n",
       "81534             0                 0            0                    0   \n",
       "\n",
       "       brand_mini  brand_mitsubishi  brand_nissan  brand_opel  brand_peugeot  \\\n",
       "81529           0                 0             0           0              0   \n",
       "81530           0                 0             0           0              0   \n",
       "81531           0                 0             0           0              0   \n",
       "81532           0                 0             0           0              0   \n",
       "81533           0                 0             0           0              0   \n",
       "81534           0                 0             0           1              0   \n",
       "\n",
       "       brand_porsche  brand_renault  brand_rover  brand_saab  brand_seat  \\\n",
       "81529              0              0            0           0           0   \n",
       "81530              0              0            0           0           0   \n",
       "81531              0              0            0           0           0   \n",
       "81532              0              0            0           0           0   \n",
       "81533              0              1            0           0           0   \n",
       "81534              0              0            0           0           0   \n",
       "\n",
       "       brand_skoda  brand_smart  brand_sonstige_autos  brand_subaru  \\\n",
       "81529            0            0                     0             0   \n",
       "81530            0            0                     0             0   \n",
       "81531            0            0                     0             0   \n",
       "81532            0            0                     0             0   \n",
       "81533            0            0                     0             0   \n",
       "81534            0            0                     0             0   \n",
       "\n",
       "       brand_suzuki  brand_toyota  brand_trabant  brand_volkswagen  \\\n",
       "81529             0             0              0                 1   \n",
       "81530             0             0              0                 1   \n",
       "81531             0             1              0                 0   \n",
       "81532             0             0              0                 1   \n",
       "81533             0             0              0                 0   \n",
       "81534             0             0              0                 0   \n",
       "\n",
       "       brand_volvo  repaired_other  repaired_yes  \n",
       "81529            0               0             0  \n",
       "81530            0               0             0  \n",
       "81531            0               0             0  \n",
       "81532            0               0             0  \n",
       "81533            0               0             0  \n",
       "81534            0               0             0  \n",
       "\n",
       "[6 rows x 304 columns]"
      ]
     },
     "metadata": {},
     "output_type": "display_data"
    },
    {
     "name": "stdout",
     "output_type": "stream",
     "text": [
      "<class 'pandas.core.frame.DataFrame'>\n",
      "RangeIndex: 81535 entries, 0 to 81534\n",
      "Columns: 304 entries, registration_year to repaired_yes\n",
      "dtypes: int64(3), uint8(301)\n",
      "memory usage: 25.3 MB\n"
     ]
    }
   ],
   "source": [
    "first_info(features_test_ohe, data_title='Тестовая выборка с признаками\\nДанные после предобработки и кодирования признаков прямым кодированием OHE',\n",
    "           describe_show=False, corr_show=False, hist_show=False)"
   ]
  },
  {
   "cell_type": "markdown",
   "metadata": {},
   "source": [
    "**После применения техники техники порядкового кодирования sklearn.OrdinalEncoding для бустерных моделей.**"
   ]
  },
  {
   "cell_type": "code",
   "execution_count": 36,
   "metadata": {},
   "outputs": [
    {
     "name": "stdout",
     "output_type": "stream",
     "text": [
      "Данные по датасету: Обучающая выборка с признаками\n",
      "Данные после предобработки и кодирования признаков порядковым кодированием ORDINAL\n"
     ]
    },
    {
     "data": {
      "text/html": [
       "<div>\n",
       "<style scoped>\n",
       "    .dataframe tbody tr th:only-of-type {\n",
       "        vertical-align: middle;\n",
       "    }\n",
       "\n",
       "    .dataframe tbody tr th {\n",
       "        vertical-align: top;\n",
       "    }\n",
       "\n",
       "    .dataframe thead th {\n",
       "        text-align: right;\n",
       "    }\n",
       "</style>\n",
       "<table border=\"1\" class=\"dataframe\">\n",
       "  <thead>\n",
       "    <tr style=\"text-align: right;\">\n",
       "      <th></th>\n",
       "      <th>registration_year</th>\n",
       "      <th>power</th>\n",
       "      <th>kilometer</th>\n",
       "      <th>vehicle_type</th>\n",
       "      <th>gearbox</th>\n",
       "      <th>model</th>\n",
       "      <th>fuel_type</th>\n",
       "      <th>brand</th>\n",
       "      <th>repaired</th>\n",
       "    </tr>\n",
       "  </thead>\n",
       "  <tbody>\n",
       "    <tr>\n",
       "      <th>0</th>\n",
       "      <td>2007</td>\n",
       "      <td>232</td>\n",
       "      <td>150000</td>\n",
       "      <td>7</td>\n",
       "      <td>0</td>\n",
       "      <td>29</td>\n",
       "      <td>5</td>\n",
       "      <td>1</td>\n",
       "      <td>0</td>\n",
       "    </tr>\n",
       "    <tr>\n",
       "      <th>1</th>\n",
       "      <td>2012</td>\n",
       "      <td>60</td>\n",
       "      <td>20000</td>\n",
       "      <td>5</td>\n",
       "      <td>1</td>\n",
       "      <td>152</td>\n",
       "      <td>5</td>\n",
       "      <td>30</td>\n",
       "      <td>0</td>\n",
       "    </tr>\n",
       "    <tr>\n",
       "      <th>2</th>\n",
       "      <td>1999</td>\n",
       "      <td>150</td>\n",
       "      <td>150000</td>\n",
       "      <td>4</td>\n",
       "      <td>1</td>\n",
       "      <td>11</td>\n",
       "      <td>5</td>\n",
       "      <td>2</td>\n",
       "      <td>1</td>\n",
       "    </tr>\n",
       "    <tr>\n",
       "      <th>3</th>\n",
       "      <td>2016</td>\n",
       "      <td>69</td>\n",
       "      <td>5000</td>\n",
       "      <td>4</td>\n",
       "      <td>2</td>\n",
       "      <td>166</td>\n",
       "      <td>5</td>\n",
       "      <td>25</td>\n",
       "      <td>1</td>\n",
       "    </tr>\n",
       "    <tr>\n",
       "      <th>4</th>\n",
       "      <td>2001</td>\n",
       "      <td>50</td>\n",
       "      <td>150000</td>\n",
       "      <td>5</td>\n",
       "      <td>1</td>\n",
       "      <td>143</td>\n",
       "      <td>5</td>\n",
       "      <td>38</td>\n",
       "      <td>1</td>\n",
       "    </tr>\n",
       "    <tr>\n",
       "      <th>5</th>\n",
       "      <td>2006</td>\n",
       "      <td>105</td>\n",
       "      <td>150000</td>\n",
       "      <td>0</td>\n",
       "      <td>1</td>\n",
       "      <td>249</td>\n",
       "      <td>5</td>\n",
       "      <td>24</td>\n",
       "      <td>0</td>\n",
       "    </tr>\n",
       "  </tbody>\n",
       "</table>\n",
       "</div>"
      ],
      "text/plain": [
       "   registration_year  power  kilometer  vehicle_type  gearbox  model  \\\n",
       "0               2007    232     150000             7        0     29   \n",
       "1               2012     60      20000             5        1    152   \n",
       "2               1999    150     150000             4        1     11   \n",
       "3               2016     69       5000             4        2    166   \n",
       "4               2001     50     150000             5        1    143   \n",
       "5               2006    105     150000             0        1    249   \n",
       "\n",
       "   fuel_type  brand  repaired  \n",
       "0          5      1         0  \n",
       "1          5     30         0  \n",
       "2          5      2         1  \n",
       "3          5     25         1  \n",
       "4          5     38         1  \n",
       "5          5     24         0  "
      ]
     },
     "metadata": {},
     "output_type": "display_data"
    },
    {
     "data": {
      "text/html": [
       "<div>\n",
       "<style scoped>\n",
       "    .dataframe tbody tr th:only-of-type {\n",
       "        vertical-align: middle;\n",
       "    }\n",
       "\n",
       "    .dataframe tbody tr th {\n",
       "        vertical-align: top;\n",
       "    }\n",
       "\n",
       "    .dataframe thead th {\n",
       "        text-align: right;\n",
       "    }\n",
       "</style>\n",
       "<table border=\"1\" class=\"dataframe\">\n",
       "  <thead>\n",
       "    <tr style=\"text-align: right;\">\n",
       "      <th></th>\n",
       "      <th>registration_year</th>\n",
       "      <th>power</th>\n",
       "      <th>kilometer</th>\n",
       "      <th>vehicle_type</th>\n",
       "      <th>gearbox</th>\n",
       "      <th>model</th>\n",
       "      <th>fuel_type</th>\n",
       "      <th>brand</th>\n",
       "      <th>repaired</th>\n",
       "    </tr>\n",
       "  </thead>\n",
       "  <tbody>\n",
       "    <tr>\n",
       "      <th>244598</th>\n",
       "      <td>2009</td>\n",
       "      <td>141</td>\n",
       "      <td>100000</td>\n",
       "      <td>6</td>\n",
       "      <td>1</td>\n",
       "      <td>226</td>\n",
       "      <td>5</td>\n",
       "      <td>12</td>\n",
       "      <td>0</td>\n",
       "    </tr>\n",
       "    <tr>\n",
       "      <th>244599</th>\n",
       "      <td>2010</td>\n",
       "      <td>170</td>\n",
       "      <td>150000</td>\n",
       "      <td>4</td>\n",
       "      <td>1</td>\n",
       "      <td>140</td>\n",
       "      <td>5</td>\n",
       "      <td>30</td>\n",
       "      <td>0</td>\n",
       "    </tr>\n",
       "    <tr>\n",
       "      <th>244600</th>\n",
       "      <td>1997</td>\n",
       "      <td>215</td>\n",
       "      <td>150000</td>\n",
       "      <td>6</td>\n",
       "      <td>0</td>\n",
       "      <td>166</td>\n",
       "      <td>5</td>\n",
       "      <td>10</td>\n",
       "      <td>1</td>\n",
       "    </tr>\n",
       "    <tr>\n",
       "      <th>244601</th>\n",
       "      <td>2009</td>\n",
       "      <td>105</td>\n",
       "      <td>125000</td>\n",
       "      <td>5</td>\n",
       "      <td>1</td>\n",
       "      <td>45</td>\n",
       "      <td>3</td>\n",
       "      <td>3</td>\n",
       "      <td>1</td>\n",
       "    </tr>\n",
       "    <tr>\n",
       "      <th>244602</th>\n",
       "      <td>1996</td>\n",
       "      <td>75</td>\n",
       "      <td>150000</td>\n",
       "      <td>5</td>\n",
       "      <td>1</td>\n",
       "      <td>102</td>\n",
       "      <td>5</td>\n",
       "      <td>10</td>\n",
       "      <td>1</td>\n",
       "    </tr>\n",
       "    <tr>\n",
       "      <th>244603</th>\n",
       "      <td>2002</td>\n",
       "      <td>101</td>\n",
       "      <td>150000</td>\n",
       "      <td>7</td>\n",
       "      <td>1</td>\n",
       "      <td>116</td>\n",
       "      <td>5</td>\n",
       "      <td>38</td>\n",
       "      <td>0</td>\n",
       "    </tr>\n",
       "  </tbody>\n",
       "</table>\n",
       "</div>"
      ],
      "text/plain": [
       "        registration_year  power  kilometer  vehicle_type  gearbox  model  \\\n",
       "244598               2009    141     100000             6        1    226   \n",
       "244599               2010    170     150000             4        1    140   \n",
       "244600               1997    215     150000             6        0    166   \n",
       "244601               2009    105     125000             5        1     45   \n",
       "244602               1996     75     150000             5        1    102   \n",
       "244603               2002    101     150000             7        1    116   \n",
       "\n",
       "        fuel_type  brand  repaired  \n",
       "244598          5     12         0  \n",
       "244599          5     30         0  \n",
       "244600          5     10         1  \n",
       "244601          3      3         1  \n",
       "244602          5     10         1  \n",
       "244603          5     38         0  "
      ]
     },
     "metadata": {},
     "output_type": "display_data"
    },
    {
     "name": "stdout",
     "output_type": "stream",
     "text": [
      "<class 'pandas.core.frame.DataFrame'>\n",
      "RangeIndex: 244604 entries, 0 to 244603\n",
      "Data columns (total 9 columns):\n",
      " #   Column             Non-Null Count   Dtype\n",
      "---  ------             --------------   -----\n",
      " 0   registration_year  244604 non-null  int64\n",
      " 1   power              244604 non-null  int64\n",
      " 2   kilometer          244604 non-null  int64\n",
      " 3   vehicle_type       244604 non-null  int64\n",
      " 4   gearbox            244604 non-null  int64\n",
      " 5   model              244604 non-null  int64\n",
      " 6   fuel_type          244604 non-null  int64\n",
      " 7   brand              244604 non-null  int64\n",
      " 8   repaired           244604 non-null  int64\n",
      "dtypes: int64(9)\n",
      "memory usage: 16.8 MB\n"
     ]
    }
   ],
   "source": [
    "first_info(features_train_ordinal, data_title='Обучающая выборка с признаками\\nДанные после предобработки и кодирования признаков порядковым кодированием ORDINAL',\n",
    "           describe_show=False, corr_show=False, hist_show=False)"
   ]
  },
  {
   "cell_type": "code",
   "execution_count": 37,
   "metadata": {},
   "outputs": [
    {
     "name": "stdout",
     "output_type": "stream",
     "text": [
      "Данные по датасету: Тестовая выборка с признаками\n",
      "Данные после предобработки и кодирования признаков порядковым кодированием ORDINAL\n"
     ]
    },
    {
     "data": {
      "text/html": [
       "<div>\n",
       "<style scoped>\n",
       "    .dataframe tbody tr th:only-of-type {\n",
       "        vertical-align: middle;\n",
       "    }\n",
       "\n",
       "    .dataframe tbody tr th {\n",
       "        vertical-align: top;\n",
       "    }\n",
       "\n",
       "    .dataframe thead th {\n",
       "        text-align: right;\n",
       "    }\n",
       "</style>\n",
       "<table border=\"1\" class=\"dataframe\">\n",
       "  <thead>\n",
       "    <tr style=\"text-align: right;\">\n",
       "      <th></th>\n",
       "      <th>registration_year</th>\n",
       "      <th>power</th>\n",
       "      <th>kilometer</th>\n",
       "      <th>vehicle_type</th>\n",
       "      <th>gearbox</th>\n",
       "      <th>model</th>\n",
       "      <th>fuel_type</th>\n",
       "      <th>brand</th>\n",
       "      <th>repaired</th>\n",
       "    </tr>\n",
       "  </thead>\n",
       "  <tbody>\n",
       "    <tr>\n",
       "      <th>0</th>\n",
       "      <td>2001</td>\n",
       "      <td>45</td>\n",
       "      <td>125000</td>\n",
       "      <td>5</td>\n",
       "      <td>0</td>\n",
       "      <td>106</td>\n",
       "      <td>5</td>\n",
       "      <td>32</td>\n",
       "      <td>0</td>\n",
       "    </tr>\n",
       "    <tr>\n",
       "      <th>1</th>\n",
       "      <td>1999</td>\n",
       "      <td>220</td>\n",
       "      <td>150000</td>\n",
       "      <td>6</td>\n",
       "      <td>0</td>\n",
       "      <td>117</td>\n",
       "      <td>5</td>\n",
       "      <td>14</td>\n",
       "      <td>0</td>\n",
       "    </tr>\n",
       "    <tr>\n",
       "      <th>2</th>\n",
       "      <td>2002</td>\n",
       "      <td>144</td>\n",
       "      <td>150000</td>\n",
       "      <td>4</td>\n",
       "      <td>0</td>\n",
       "      <td>164</td>\n",
       "      <td>5</td>\n",
       "      <td>24</td>\n",
       "      <td>2</td>\n",
       "    </tr>\n",
       "    <tr>\n",
       "      <th>3</th>\n",
       "      <td>2003</td>\n",
       "      <td>310</td>\n",
       "      <td>150000</td>\n",
       "      <td>6</td>\n",
       "      <td>0</td>\n",
       "      <td>218</td>\n",
       "      <td>5</td>\n",
       "      <td>38</td>\n",
       "      <td>0</td>\n",
       "    </tr>\n",
       "    <tr>\n",
       "      <th>4</th>\n",
       "      <td>2011</td>\n",
       "      <td>122</td>\n",
       "      <td>90000</td>\n",
       "      <td>4</td>\n",
       "      <td>1</td>\n",
       "      <td>6</td>\n",
       "      <td>5</td>\n",
       "      <td>2</td>\n",
       "      <td>2</td>\n",
       "    </tr>\n",
       "    <tr>\n",
       "      <th>5</th>\n",
       "      <td>2007</td>\n",
       "      <td>140</td>\n",
       "      <td>150000</td>\n",
       "      <td>7</td>\n",
       "      <td>0</td>\n",
       "      <td>29</td>\n",
       "      <td>5</td>\n",
       "      <td>1</td>\n",
       "      <td>1</td>\n",
       "    </tr>\n",
       "  </tbody>\n",
       "</table>\n",
       "</div>"
      ],
      "text/plain": [
       "   registration_year  power  kilometer  vehicle_type  gearbox  model  \\\n",
       "0               2001     45     125000             5        0    106   \n",
       "1               1999    220     150000             6        0    117   \n",
       "2               2002    144     150000             4        0    164   \n",
       "3               2003    310     150000             6        0    218   \n",
       "4               2011    122      90000             4        1      6   \n",
       "5               2007    140     150000             7        0     29   \n",
       "\n",
       "   fuel_type  brand  repaired  \n",
       "0          5     32         0  \n",
       "1          5     14         0  \n",
       "2          5     24         2  \n",
       "3          5     38         0  \n",
       "4          5      2         2  \n",
       "5          5      1         1  "
      ]
     },
     "metadata": {},
     "output_type": "display_data"
    },
    {
     "data": {
      "text/html": [
       "<div>\n",
       "<style scoped>\n",
       "    .dataframe tbody tr th:only-of-type {\n",
       "        vertical-align: middle;\n",
       "    }\n",
       "\n",
       "    .dataframe tbody tr th {\n",
       "        vertical-align: top;\n",
       "    }\n",
       "\n",
       "    .dataframe thead th {\n",
       "        text-align: right;\n",
       "    }\n",
       "</style>\n",
       "<table border=\"1\" class=\"dataframe\">\n",
       "  <thead>\n",
       "    <tr style=\"text-align: right;\">\n",
       "      <th></th>\n",
       "      <th>registration_year</th>\n",
       "      <th>power</th>\n",
       "      <th>kilometer</th>\n",
       "      <th>vehicle_type</th>\n",
       "      <th>gearbox</th>\n",
       "      <th>model</th>\n",
       "      <th>fuel_type</th>\n",
       "      <th>brand</th>\n",
       "      <th>repaired</th>\n",
       "    </tr>\n",
       "  </thead>\n",
       "  <tbody>\n",
       "    <tr>\n",
       "      <th>81529</th>\n",
       "      <td>2012</td>\n",
       "      <td>60</td>\n",
       "      <td>50000</td>\n",
       "      <td>5</td>\n",
       "      <td>1</td>\n",
       "      <td>225</td>\n",
       "      <td>5</td>\n",
       "      <td>38</td>\n",
       "      <td>0</td>\n",
       "    </tr>\n",
       "    <tr>\n",
       "      <th>81530</th>\n",
       "      <td>2012</td>\n",
       "      <td>105</td>\n",
       "      <td>40000</td>\n",
       "      <td>5</td>\n",
       "      <td>0</td>\n",
       "      <td>173</td>\n",
       "      <td>5</td>\n",
       "      <td>38</td>\n",
       "      <td>0</td>\n",
       "    </tr>\n",
       "    <tr>\n",
       "      <th>81531</th>\n",
       "      <td>2005</td>\n",
       "      <td>129</td>\n",
       "      <td>100000</td>\n",
       "      <td>0</td>\n",
       "      <td>1</td>\n",
       "      <td>232</td>\n",
       "      <td>5</td>\n",
       "      <td>36</td>\n",
       "      <td>0</td>\n",
       "    </tr>\n",
       "    <tr>\n",
       "      <th>81532</th>\n",
       "      <td>2000</td>\n",
       "      <td>88</td>\n",
       "      <td>125000</td>\n",
       "      <td>6</td>\n",
       "      <td>1</td>\n",
       "      <td>221</td>\n",
       "      <td>5</td>\n",
       "      <td>38</td>\n",
       "      <td>0</td>\n",
       "    </tr>\n",
       "    <tr>\n",
       "      <th>81533</th>\n",
       "      <td>1997</td>\n",
       "      <td>60</td>\n",
       "      <td>150000</td>\n",
       "      <td>5</td>\n",
       "      <td>1</td>\n",
       "      <td>75</td>\n",
       "      <td>5</td>\n",
       "      <td>27</td>\n",
       "      <td>0</td>\n",
       "    </tr>\n",
       "    <tr>\n",
       "      <th>81534</th>\n",
       "      <td>2000</td>\n",
       "      <td>116</td>\n",
       "      <td>125000</td>\n",
       "      <td>6</td>\n",
       "      <td>1</td>\n",
       "      <td>166</td>\n",
       "      <td>5</td>\n",
       "      <td>24</td>\n",
       "      <td>0</td>\n",
       "    </tr>\n",
       "  </tbody>\n",
       "</table>\n",
       "</div>"
      ],
      "text/plain": [
       "       registration_year  power  kilometer  vehicle_type  gearbox  model  \\\n",
       "81529               2012     60      50000             5        1    225   \n",
       "81530               2012    105      40000             5        0    173   \n",
       "81531               2005    129     100000             0        1    232   \n",
       "81532               2000     88     125000             6        1    221   \n",
       "81533               1997     60     150000             5        1     75   \n",
       "81534               2000    116     125000             6        1    166   \n",
       "\n",
       "       fuel_type  brand  repaired  \n",
       "81529          5     38         0  \n",
       "81530          5     38         0  \n",
       "81531          5     36         0  \n",
       "81532          5     38         0  \n",
       "81533          5     27         0  \n",
       "81534          5     24         0  "
      ]
     },
     "metadata": {},
     "output_type": "display_data"
    },
    {
     "name": "stdout",
     "output_type": "stream",
     "text": [
      "<class 'pandas.core.frame.DataFrame'>\n",
      "RangeIndex: 81535 entries, 0 to 81534\n",
      "Data columns (total 9 columns):\n",
      " #   Column             Non-Null Count  Dtype\n",
      "---  ------             --------------  -----\n",
      " 0   registration_year  81535 non-null  int64\n",
      " 1   power              81535 non-null  int64\n",
      " 2   kilometer          81535 non-null  int64\n",
      " 3   vehicle_type       81535 non-null  int64\n",
      " 4   gearbox            81535 non-null  int64\n",
      " 5   model              81535 non-null  int64\n",
      " 6   fuel_type          81535 non-null  int64\n",
      " 7   brand              81535 non-null  int64\n",
      " 8   repaired           81535 non-null  int64\n",
      "dtypes: int64(9)\n",
      "memory usage: 5.6 MB\n"
     ]
    }
   ],
   "source": [
    "first_info(features_test_ordinal, data_title='Тестовая выборка с признаками\\nДанные после предобработки и кодирования признаков порядковым кодированием ORDINAL',\n",
    "           describe_show=False, corr_show=False, hist_show=False)"
   ]
  },
  {
   "cell_type": "markdown",
   "metadata": {},
   "source": [
    "### Обучение модели №1 - LinearRegression\t"
   ]
  },
  {
   "cell_type": "markdown",
   "metadata": {},
   "source": [
    "При обучении модели будем использовать масштабирование признаков. Для того, чтобы минимизировать потери данных при предсказании тестового набора методы масштабирования и обучения модели соединим при помощи Pipeline\n",
    "\n",
    "Объявим функцию, реализующую исследование модели. Оформление кода в виде функции также нужно для сохранения времени выполнения кода."
   ]
  },
  {
   "cell_type": "code",
   "execution_count": 38,
   "metadata": {},
   "outputs": [],
   "source": [
    "def lr_research(X, y, cv=None, verbose=0, log_show=False):\n",
    "    '''\n",
    "    X: Data to predict on (training data)\n",
    "    y: Targets (training data)\n",
    "    cv: int, cross-validation generator or an iterable, default=None (to use the default 5-fold cross validation)\n",
    "    verbose: int, The verbosity level, 0 by default\n",
    "    log_show: True if the operation log and metric values should be displayed while the function is running. False by default\n",
    "    \n",
    "    Function creates and trains a model (sklearn LinearRegression) on the training data and makes predictions on the test data.\n",
    "    The quality of the prediction is estimated by the metric RMSE.\n",
    "    Returns the value of RMSE metrics on the data and the fitted model\n",
    "    '''\n",
    "    model = LinearRegression()\n",
    "        \n",
    "    if log_show:\n",
    "        print('Исследование модели ЛИНЕЙНАЯ РЕГРЕССИЯ,\\nС МАСШТАБИРОВАНИЕМ признаков\\nкросс-валидация средствами sklearn:')\n",
    "        print()\n",
    "\n",
    "    scores_lr_auto_cross_val = cross_val_score(model,\n",
    "                                               X, y,\n",
    "                                               scoring='neg_root_mean_squared_error',\n",
    "                                               cv=cv,\n",
    "                                               verbose=verbose) \n",
    "\n",
    "    train_best_score_lr = (abs(scores_lr_auto_cross_val)).mean()\n",
    "        \n",
    "    if log_show:\n",
    "        print(f'Лучшее значение RMSE на обучающем наборе = {train_best_score_lr:.2f}')\n",
    "        \n",
    "    return model, train_best_score_lr"
   ]
  },
  {
   "cell_type": "code",
   "execution_count": 39,
   "metadata": {
    "scrolled": true
   },
   "outputs": [
    {
     "name": "stdout",
     "output_type": "stream",
     "text": [
      "Исследование модели ЛИНЕЙНАЯ РЕГРЕССИЯ,\n",
      "С МАСШТАБИРОВАНИЕМ признаков\n",
      "кросс-валидация средствами sklearn:\n",
      "\n"
     ]
    },
    {
     "name": "stderr",
     "output_type": "stream",
     "text": [
      "[Parallel(n_jobs=1)]: Using backend SequentialBackend with 1 concurrent workers.\n"
     ]
    },
    {
     "name": "stdout",
     "output_type": "stream",
     "text": [
      "[CV] END .................................................... total time=  15.9s\n"
     ]
    },
    {
     "name": "stderr",
     "output_type": "stream",
     "text": [
      "[Parallel(n_jobs=1)]: Done   1 out of   1 | elapsed:   15.9s remaining:    0.0s\n"
     ]
    },
    {
     "name": "stdout",
     "output_type": "stream",
     "text": [
      "[CV] END .................................................... total time=  15.9s\n",
      "[CV] END .................................................... total time=  17.3s\n",
      "[CV] END .................................................... total time=  16.1s\n",
      "[CV] END .................................................... total time=  18.8s\n",
      "Лучшее значение RMSE на обучающем наборе = 2676.89\n"
     ]
    },
    {
     "name": "stderr",
     "output_type": "stream",
     "text": [
      "[Parallel(n_jobs=1)]: Done   5 out of   5 | elapsed:  1.4min finished\n",
      "[Parallel(n_jobs=1)]: Using backend SequentialBackend with 1 concurrent workers.\n"
     ]
    },
    {
     "name": "stdout",
     "output_type": "stream",
     "text": [
      "[CV] END .................................................... total time=  15.6s\n"
     ]
    },
    {
     "name": "stderr",
     "output_type": "stream",
     "text": [
      "[Parallel(n_jobs=1)]: Done   1 out of   1 | elapsed:   15.6s remaining:    0.0s\n"
     ]
    },
    {
     "name": "stdout",
     "output_type": "stream",
     "text": [
      "[CV] END .................................................... total time=  15.5s\n",
      "[CV] END .................................................... total time=  15.9s\n",
      "[CV] END .................................................... total time=  16.0s\n",
      "[CV] END .................................................... total time=  17.2s\n",
      "1min 20s ± 0 ns per loop (mean ± std. dev. of 1 run, 1 loop each)\n"
     ]
    },
    {
     "name": "stderr",
     "output_type": "stream",
     "text": [
      "[Parallel(n_jobs=1)]: Done   5 out of   5 | elapsed:  1.3min finished\n"
     ]
    }
   ],
   "source": [
    "best_linrergr_cv_model, train_best_score_lr = lr_research(features_train_ohe, target_train, verbose=2, log_show=True)\n",
    "lrregr_fit_time_obj = %timeit -o -r1 -n1  lr_research(features_train_ohe, target_train, verbose=2, log_show=False)"
   ]
  },
  {
   "cell_type": "code",
   "execution_count": 40,
   "metadata": {},
   "outputs": [],
   "source": [
    "row = {'model': 'LinearRegression',\n",
    "       'iterations': np.nan,\n",
    "       'learning_rate': np.nan,\n",
    "       'fit_time': lrregr_fit_time_obj.best,\n",
    "       'train_rmse_mean': train_best_score_lr}\n",
    "\n",
    "result_model_table = result_model_table.append(row, ignore_index=True)                               "
   ]
  },
  {
   "cell_type": "markdown",
   "metadata": {},
   "source": [
    "### Обучение модели №2 - LightGBM\t"
   ]
  },
  {
   "cell_type": "code",
   "execution_count": 41,
   "metadata": {},
   "outputs": [],
   "source": [
    "def lightgbm_cv_regressor(params, train_set, nfold=CV_VALUE, shuffle=True, stratified=False):\n",
    "    '''\n",
    "    '''\n",
    "    \n",
    "    lgb_cv_data = lgb.cv(\n",
    "        params=params,\n",
    "        train_set=train_set,\n",
    "        nfold=nfold,\n",
    "        shuffle=shuffle,\n",
    "        stratified=stratified)\n",
    "    return lgb_cv_data"
   ]
  },
  {
   "cell_type": "code",
   "execution_count": 42,
   "metadata": {
    "scrolled": false
   },
   "outputs": [
    {
     "name": "stdout",
     "output_type": "stream",
     "text": [
      "[LightGBM] [Info] Total Bins 370\n",
      "[LightGBM] [Info] Number of data points in the train set: 195680, number of used features: 9\n",
      "[LightGBM] [Info] Total Bins 370\n",
      "[LightGBM] [Info] Number of data points in the train set: 195680, number of used features: 9\n",
      "[LightGBM] [Info] Total Bins 370\n",
      "[LightGBM] [Info] Number of data points in the train set: 195680, number of used features: 9\n",
      "[LightGBM] [Info] Total Bins 370\n",
      "[LightGBM] [Info] Number of data points in the train set: 195680, number of used features: 9\n",
      "[LightGBM] [Info] Total Bins 370\n",
      "[LightGBM] [Info] Number of data points in the train set: 195680, number of used features: 9\n",
      "[LightGBM] [Info] Start training from score 4639.345973\n",
      "[LightGBM] [Info] Start training from score 4637.075348\n",
      "[LightGBM] [Info] Start training from score 4637.964892\n",
      "[LightGBM] [Info] Start training from score 4641.773099\n",
      "[LightGBM] [Info] Start training from score 4641.893857\n",
      "[LightGBM] [Info] Total Bins 370\n",
      "[LightGBM] [Info] Number of data points in the train set: 195680, number of used features: 9\n",
      "[LightGBM] [Info] Total Bins 370\n",
      "[LightGBM] [Info] Number of data points in the train set: 195680, number of used features: 9\n",
      "[LightGBM] [Info] Total Bins 370\n",
      "[LightGBM] [Info] Number of data points in the train set: 195680, number of used features: 9\n",
      "[LightGBM] [Info] Total Bins 370\n",
      "[LightGBM] [Info] Number of data points in the train set: 195680, number of used features: 9\n",
      "[LightGBM] [Info] Total Bins 370\n",
      "[LightGBM] [Info] Number of data points in the train set: 195680, number of used features: 9\n",
      "[LightGBM] [Info] Start training from score 4639.345973\n",
      "[LightGBM] [Info] Start training from score 4637.075348\n",
      "[LightGBM] [Info] Start training from score 4637.964892\n",
      "[LightGBM] [Info] Start training from score 4641.773099\n",
      "[LightGBM] [Info] Start training from score 4641.893857\n",
      "4.98 s ± 0 ns per loop (mean ± std. dev. of 1 run, 1 loop each)\n",
      "----- iterations=10, learning_rate=0.5, RMSE = 1772.218318919637, время обучения: 5.0 сек.\n",
      "Лучшее RMSE = 1772.218318919637 при гиперпараметрах: iterations = 10, learning_rate = 0.5, время обучения: 5.0 сек.\n"
     ]
    }
   ],
   "source": [
    "best_lgb_iterations = 0\n",
    "best_lgb_learning_rate = 0\n",
    "best_lgb_fit_time = 0\n",
    "\n",
    "best_lgb_rmse_value = 10000\n",
    "best_lgb_params = {}\n",
    "\n",
    "data_lgb_train = lgb.Dataset(data = features_train_ordinal, label = target_train, categorical_feature = cat_features, free_raw_data=False)\n",
    "\n",
    "for learning_rate in range(LEARNING_RATE_RANGE[0], LEARNING_RATE_RANGE[1], LEARNING_RATE_RANGE[2]):\n",
    "    \n",
    "    params = {\n",
    "        'objective': 'regression',\n",
    "        'metrics':'RMSE',\n",
    "        'max_bin': 63,\n",
    "        'random_seed': RANDOM_STATE,\n",
    "        'num_iterations': ITERATIONS,\n",
    "        'learning_rate': learning_rate / 10,\n",
    "        'verbose': 1,\n",
    "        'force_col_wise': 'true'}\n",
    "    \n",
    "    lgb_cv_data = lightgbm_cv_regressor(params=params, train_set=data_lgb_train)\n",
    "    lgb_fit_time_obj = %timeit -o -r1 -n1  lightgbm_cv_regressor(params=params, train_set=data_lgb_train)\n",
    "    \n",
    "    rmse_value = min(lgb_cv_data['rmse-mean'])\n",
    "    print(f'----- iterations={ITERATIONS}, learning_rate={learning_rate/10:.2}, RMSE = {rmse_value}, время обучения: {lgb_fit_time_obj.best:.2} сек.')\n",
    "            \n",
    "    if rmse_value < best_lgb_rmse_value:\n",
    "        best_lgb_rmse_value = rmse_value\n",
    "        best_lgb_iterations = np.argmin(lgb_cv_data['rmse-mean']) + 1\n",
    "        best_lgb_learning_rate = learning_rate / 10\n",
    "        best_lgb_fit_time = lgb_fit_time_obj.best\n",
    "        best_lgb_params = params\n",
    "                \n",
    "print(f'Лучшее RMSE = {best_lgb_rmse_value} при гиперпараметрах: iterations = {best_lgb_iterations}, learning_rate = {best_lgb_learning_rate:.2}, время обучения: {best_lgb_fit_time:.2} сек.')     \n"
   ]
  },
  {
   "cell_type": "code",
   "execution_count": 43,
   "metadata": {},
   "outputs": [],
   "source": [
    "row = {'model': 'LightGBM',\n",
    "       'iterations': best_lgb_iterations,\n",
    "       'learning_rate': best_lgb_learning_rate,\n",
    "       'fit_time': best_lgb_fit_time, \n",
    "       'train_rmse_mean': best_lgb_rmse_value}\n",
    "\n",
    "result_model_table = result_model_table.append(row, ignore_index=True)"
   ]
  },
  {
   "cell_type": "markdown",
   "metadata": {},
   "source": [
    "### Обучение модели №3 - CatBoost\t"
   ]
  },
  {
   "cell_type": "code",
   "execution_count": 44,
   "metadata": {},
   "outputs": [],
   "source": [
    "def catboost_cv_regressor(params, pool, fold_count=CV_VALUE, shuffle=True):\n",
    "    '''\n",
    "    '''\n",
    "    \n",
    "    catboost_cv_data = cv(\n",
    "        params=params,\n",
    "        pool=pool,\n",
    "        fold_count=fold_count,\n",
    "        shuffle=shuffle)\n",
    "    return catboost_cv_data"
   ]
  },
  {
   "cell_type": "code",
   "execution_count": 45,
   "metadata": {
    "scrolled": false
   },
   "outputs": [
    {
     "name": "stdout",
     "output_type": "stream",
     "text": [
      "Training on fold [0/5]\n",
      "0:\tlearn: 4054.7229040\ttest: 4029.8355526\tbest: 4029.8355526 (0)\ttotal: 155ms\tremaining: 1.4s\n",
      "1:\tlearn: 2973.0392474\ttest: 2957.5303509\tbest: 2957.5303509 (1)\ttotal: 254ms\tremaining: 1.01s\n",
      "2:\tlearn: 2465.3900550\ttest: 2460.9874327\tbest: 2460.9874327 (2)\ttotal: 352ms\tremaining: 822ms\n",
      "3:\tlearn: 2227.7910630\ttest: 2225.2534677\tbest: 2225.2534677 (3)\ttotal: 422ms\tremaining: 632ms\n",
      "4:\tlearn: 2111.5253036\ttest: 2115.2869070\tbest: 2115.2869070 (4)\ttotal: 490ms\tremaining: 490ms\n",
      "5:\tlearn: 2043.2785008\ttest: 2044.8494837\tbest: 2044.8494837 (5)\ttotal: 562ms\tremaining: 375ms\n",
      "6:\tlearn: 2009.5550903\ttest: 2012.8233774\tbest: 2012.8233774 (6)\ttotal: 636ms\tremaining: 272ms\n",
      "7:\tlearn: 1978.6670667\ttest: 1983.3804979\tbest: 1983.3804979 (7)\ttotal: 714ms\tremaining: 178ms\n",
      "8:\tlearn: 1956.0179234\ttest: 1960.7635290\tbest: 1960.7635290 (8)\ttotal: 781ms\tremaining: 86.8ms\n",
      "9:\tlearn: 1934.2517314\ttest: 1944.6199526\tbest: 1944.6199526 (9)\ttotal: 857ms\tremaining: 0us\n",
      "\n",
      "bestTest = 1944.619953\n",
      "bestIteration = 9\n",
      "\n",
      "Training on fold [1/5]\n",
      "0:\tlearn: 4020.9673557\ttest: 4047.8794729\tbest: 4047.8794729 (0)\ttotal: 87ms\tremaining: 783ms\n",
      "1:\tlearn: 2940.8994667\ttest: 2950.9182826\tbest: 2950.9182826 (1)\ttotal: 167ms\tremaining: 667ms\n",
      "2:\tlearn: 2465.4100388\ttest: 2471.9873514\tbest: 2471.9873514 (2)\ttotal: 255ms\tremaining: 595ms\n",
      "3:\tlearn: 2228.8640193\ttest: 2233.6734009\tbest: 2233.6734009 (3)\ttotal: 329ms\tremaining: 493ms\n",
      "4:\tlearn: 2146.2317342\ttest: 2138.5277236\tbest: 2138.5277236 (4)\ttotal: 403ms\tremaining: 403ms\n",
      "5:\tlearn: 2078.2016192\ttest: 2071.1435979\tbest: 2071.1435979 (5)\ttotal: 470ms\tremaining: 313ms\n",
      "6:\tlearn: 2035.1757283\ttest: 2033.5509729\tbest: 2033.5509729 (6)\ttotal: 543ms\tremaining: 233ms\n",
      "7:\tlearn: 1994.1276862\ttest: 1989.4357489\tbest: 1989.4357489 (7)\ttotal: 616ms\tremaining: 154ms\n",
      "8:\tlearn: 1968.6842826\ttest: 1965.5215422\tbest: 1965.5215422 (8)\ttotal: 684ms\tremaining: 76ms\n",
      "9:\tlearn: 1937.3238612\ttest: 1938.8402966\tbest: 1938.8402966 (9)\ttotal: 757ms\tremaining: 0us\n",
      "\n",
      "bestTest = 1938.840297\n",
      "bestIteration = 9\n",
      "\n",
      "Training on fold [2/5]\n",
      "0:\tlearn: 4051.0498000\ttest: 4049.3381706\tbest: 4049.3381706 (0)\ttotal: 88.7ms\tremaining: 798ms\n",
      "1:\tlearn: 2972.2345822\ttest: 2972.7015474\tbest: 2972.7015474 (1)\ttotal: 170ms\tremaining: 678ms\n",
      "2:\tlearn: 2466.9830845\ttest: 2469.6779454\tbest: 2469.6779454 (2)\ttotal: 257ms\tremaining: 600ms\n",
      "3:\tlearn: 2229.4485623\ttest: 2233.2936883\tbest: 2233.2936883 (3)\ttotal: 328ms\tremaining: 492ms\n",
      "4:\tlearn: 2133.5769511\ttest: 2135.8625457\tbest: 2135.8625457 (4)\ttotal: 397ms\tremaining: 397ms\n",
      "5:\tlearn: 2064.1158799\ttest: 2065.4637928\tbest: 2065.4637928 (5)\ttotal: 467ms\tremaining: 311ms\n",
      "6:\tlearn: 2010.5540886\ttest: 2012.8190557\tbest: 2012.8190557 (6)\ttotal: 537ms\tremaining: 230ms\n",
      "7:\tlearn: 1982.3969710\ttest: 1984.3412558\tbest: 1984.3412558 (7)\ttotal: 609ms\tremaining: 152ms\n",
      "8:\tlearn: 1958.1219925\ttest: 1960.1493621\tbest: 1960.1493621 (8)\ttotal: 680ms\tremaining: 75.6ms\n",
      "9:\tlearn: 1938.2091201\ttest: 1941.4234116\tbest: 1941.4234116 (9)\ttotal: 747ms\tremaining: 0us\n",
      "\n",
      "bestTest = 1941.423412\n",
      "bestIteration = 9\n",
      "\n",
      "Training on fold [3/5]\n",
      "0:\tlearn: 4032.9818005\ttest: 4047.3535974\tbest: 4047.3535974 (0)\ttotal: 84.6ms\tremaining: 761ms\n",
      "1:\tlearn: 2965.5127934\ttest: 2983.3310684\tbest: 2983.3310684 (1)\ttotal: 176ms\tremaining: 705ms\n",
      "2:\tlearn: 2483.6141896\ttest: 2492.0203373\tbest: 2492.0203373 (2)\ttotal: 263ms\tremaining: 615ms\n",
      "3:\tlearn: 2253.0621650\ttest: 2256.4222632\tbest: 2256.4222632 (3)\ttotal: 338ms\tremaining: 507ms\n",
      "4:\tlearn: 2138.6437876\ttest: 2136.1084326\tbest: 2136.1084326 (4)\ttotal: 406ms\tremaining: 406ms\n",
      "5:\tlearn: 2071.0485752\ttest: 2065.0356593\tbest: 2065.0356593 (5)\ttotal: 475ms\tremaining: 316ms\n",
      "6:\tlearn: 2015.7574038\ttest: 2005.0104605\tbest: 2005.0104605 (6)\ttotal: 543ms\tremaining: 233ms\n",
      "7:\tlearn: 1987.7532380\ttest: 1971.9205282\tbest: 1971.9205282 (7)\ttotal: 613ms\tremaining: 153ms\n",
      "8:\tlearn: 1966.8428031\ttest: 1950.8854427\tbest: 1950.8854427 (8)\ttotal: 692ms\tremaining: 76.9ms\n",
      "9:\tlearn: 1946.2065245\ttest: 1931.7510795\tbest: 1931.7510795 (9)\ttotal: 771ms\tremaining: 0us\n",
      "\n",
      "bestTest = 1931.75108\n",
      "bestIteration = 9\n",
      "\n",
      "Training on fold [4/5]\n",
      "0:\tlearn: 4038.8570694\ttest: 4030.4983239\tbest: 4030.4983239 (0)\ttotal: 85.8ms\tremaining: 772ms\n",
      "1:\tlearn: 2906.9841337\ttest: 2900.2484452\tbest: 2900.2484452 (1)\ttotal: 175ms\tremaining: 699ms\n",
      "2:\tlearn: 2456.2751506\ttest: 2449.0221476\tbest: 2449.0221476 (2)\ttotal: 248ms\tremaining: 579ms\n",
      "3:\tlearn: 2223.9865264\ttest: 2219.4027513\tbest: 2219.4027513 (3)\ttotal: 334ms\tremaining: 501ms\n",
      "4:\tlearn: 2119.3325012\ttest: 2115.6888950\tbest: 2115.6888950 (4)\ttotal: 402ms\tremaining: 402ms\n",
      "5:\tlearn: 2053.6775845\ttest: 2049.4125498\tbest: 2049.4125498 (5)\ttotal: 475ms\tremaining: 317ms\n",
      "6:\tlearn: 2001.3723943\ttest: 2002.8012966\tbest: 2002.8012966 (6)\ttotal: 555ms\tremaining: 238ms\n",
      "7:\tlearn: 1973.8161440\ttest: 1975.9814763\tbest: 1975.9814763 (7)\ttotal: 633ms\tremaining: 158ms\n",
      "8:\tlearn: 1945.2460882\ttest: 1948.2007651\tbest: 1948.2007651 (8)\ttotal: 717ms\tremaining: 79.6ms\n",
      "9:\tlearn: 1931.9197958\ttest: 1937.4825812\tbest: 1937.4825812 (9)\ttotal: 798ms\tremaining: 0us\n",
      "\n",
      "bestTest = 1937.482581\n",
      "bestIteration = 9\n",
      "\n",
      "Training on fold [0/5]\n",
      "0:\tlearn: 4054.7229040\ttest: 4029.8355526\tbest: 4029.8355526 (0)\ttotal: 92.1ms\tremaining: 829ms\n",
      "1:\tlearn: 2973.0392474\ttest: 2957.5303509\tbest: 2957.5303509 (1)\ttotal: 177ms\tremaining: 710ms\n",
      "2:\tlearn: 2465.3900550\ttest: 2460.9874327\tbest: 2460.9874327 (2)\ttotal: 269ms\tremaining: 627ms\n",
      "3:\tlearn: 2227.7910630\ttest: 2225.2534677\tbest: 2225.2534677 (3)\ttotal: 349ms\tremaining: 524ms\n",
      "4:\tlearn: 2111.5253036\ttest: 2115.2869070\tbest: 2115.2869070 (4)\ttotal: 421ms\tremaining: 421ms\n",
      "5:\tlearn: 2043.2785008\ttest: 2044.8494837\tbest: 2044.8494837 (5)\ttotal: 495ms\tremaining: 330ms\n",
      "6:\tlearn: 2009.5550903\ttest: 2012.8233774\tbest: 2012.8233774 (6)\ttotal: 568ms\tremaining: 243ms\n",
      "7:\tlearn: 1978.6670667\ttest: 1983.3804979\tbest: 1983.3804979 (7)\ttotal: 640ms\tremaining: 160ms\n",
      "8:\tlearn: 1956.0179234\ttest: 1960.7635290\tbest: 1960.7635290 (8)\ttotal: 707ms\tremaining: 78.6ms\n",
      "9:\tlearn: 1934.2517314\ttest: 1944.6199526\tbest: 1944.6199526 (9)\ttotal: 779ms\tremaining: 0us\n",
      "\n",
      "bestTest = 1944.619953\n",
      "bestIteration = 9\n",
      "\n",
      "Training on fold [1/5]\n",
      "0:\tlearn: 4020.9673557\ttest: 4047.8794729\tbest: 4047.8794729 (0)\ttotal: 86.3ms\tremaining: 777ms\n",
      "1:\tlearn: 2940.8994667\ttest: 2950.9182826\tbest: 2950.9182826 (1)\ttotal: 167ms\tremaining: 668ms\n",
      "2:\tlearn: 2465.4100388\ttest: 2471.9873514\tbest: 2471.9873514 (2)\ttotal: 252ms\tremaining: 588ms\n",
      "3:\tlearn: 2228.8640193\ttest: 2233.6734009\tbest: 2233.6734009 (3)\ttotal: 319ms\tremaining: 479ms\n",
      "4:\tlearn: 2146.2317342\ttest: 2138.5277236\tbest: 2138.5277236 (4)\ttotal: 387ms\tremaining: 387ms\n",
      "5:\tlearn: 2078.2016192\ttest: 2071.1435979\tbest: 2071.1435979 (5)\ttotal: 453ms\tremaining: 302ms\n",
      "6:\tlearn: 2035.1757283\ttest: 2033.5509729\tbest: 2033.5509729 (6)\ttotal: 523ms\tremaining: 224ms\n",
      "7:\tlearn: 1994.1276862\ttest: 1989.4357489\tbest: 1989.4357489 (7)\ttotal: 597ms\tremaining: 149ms\n",
      "8:\tlearn: 1968.6842826\ttest: 1965.5215422\tbest: 1965.5215422 (8)\ttotal: 664ms\tremaining: 73.8ms\n",
      "9:\tlearn: 1937.3238612\ttest: 1938.8402966\tbest: 1938.8402966 (9)\ttotal: 739ms\tremaining: 0us\n",
      "\n",
      "bestTest = 1938.840297\n",
      "bestIteration = 9\n",
      "\n",
      "Training on fold [2/5]\n",
      "0:\tlearn: 4051.0498000\ttest: 4049.3381706\tbest: 4049.3381706 (0)\ttotal: 81.4ms\tremaining: 732ms\n",
      "1:\tlearn: 2972.2345822\ttest: 2972.7015474\tbest: 2972.7015474 (1)\ttotal: 163ms\tremaining: 653ms\n",
      "2:\tlearn: 2466.9830845\ttest: 2469.6779454\tbest: 2469.6779454 (2)\ttotal: 249ms\tremaining: 581ms\n",
      "3:\tlearn: 2229.4485623\ttest: 2233.2936883\tbest: 2233.2936883 (3)\ttotal: 317ms\tremaining: 476ms\n",
      "4:\tlearn: 2133.5769511\ttest: 2135.8625457\tbest: 2135.8625457 (4)\ttotal: 385ms\tremaining: 385ms\n",
      "5:\tlearn: 2064.1158799\ttest: 2065.4637928\tbest: 2065.4637928 (5)\ttotal: 451ms\tremaining: 300ms\n",
      "6:\tlearn: 2010.5540886\ttest: 2012.8190557\tbest: 2012.8190557 (6)\ttotal: 520ms\tremaining: 223ms\n",
      "7:\tlearn: 1982.3969710\ttest: 1984.3412558\tbest: 1984.3412558 (7)\ttotal: 593ms\tremaining: 148ms\n",
      "8:\tlearn: 1958.1219925\ttest: 1960.1493621\tbest: 1960.1493621 (8)\ttotal: 666ms\tremaining: 73.9ms\n",
      "9:\tlearn: 1938.2091201\ttest: 1941.4234116\tbest: 1941.4234116 (9)\ttotal: 739ms\tremaining: 0us\n",
      "\n",
      "bestTest = 1941.423412\n",
      "bestIteration = 9\n",
      "\n",
      "Training on fold [3/5]\n",
      "0:\tlearn: 4032.9818005\ttest: 4047.3535974\tbest: 4047.3535974 (0)\ttotal: 82.2ms\tremaining: 740ms\n",
      "1:\tlearn: 2965.5127934\ttest: 2983.3310684\tbest: 2983.3310684 (1)\ttotal: 169ms\tremaining: 675ms\n",
      "2:\tlearn: 2483.6141896\ttest: 2492.0203373\tbest: 2492.0203373 (2)\ttotal: 250ms\tremaining: 583ms\n"
     ]
    },
    {
     "name": "stdout",
     "output_type": "stream",
     "text": [
      "3:\tlearn: 2253.0621650\ttest: 2256.4222632\tbest: 2256.4222632 (3)\ttotal: 320ms\tremaining: 481ms\n",
      "4:\tlearn: 2138.6437876\ttest: 2136.1084326\tbest: 2136.1084326 (4)\ttotal: 387ms\tremaining: 387ms\n",
      "5:\tlearn: 2071.0485752\ttest: 2065.0356593\tbest: 2065.0356593 (5)\ttotal: 452ms\tremaining: 302ms\n",
      "6:\tlearn: 2015.7574038\ttest: 2005.0104605\tbest: 2005.0104605 (6)\ttotal: 522ms\tremaining: 224ms\n",
      "7:\tlearn: 1987.7532380\ttest: 1971.9205282\tbest: 1971.9205282 (7)\ttotal: 590ms\tremaining: 148ms\n",
      "8:\tlearn: 1966.8428031\ttest: 1950.8854427\tbest: 1950.8854427 (8)\ttotal: 662ms\tremaining: 73.5ms\n",
      "9:\tlearn: 1946.2065245\ttest: 1931.7510795\tbest: 1931.7510795 (9)\ttotal: 732ms\tremaining: 0us\n",
      "\n",
      "bestTest = 1931.75108\n",
      "bestIteration = 9\n",
      "\n",
      "Training on fold [4/5]\n",
      "0:\tlearn: 4038.8570694\ttest: 4030.4983239\tbest: 4030.4983239 (0)\ttotal: 82.1ms\tremaining: 739ms\n",
      "1:\tlearn: 2906.9841337\ttest: 2900.2484452\tbest: 2900.2484452 (1)\ttotal: 169ms\tremaining: 675ms\n",
      "2:\tlearn: 2456.2751506\ttest: 2449.0221476\tbest: 2449.0221476 (2)\ttotal: 241ms\tremaining: 561ms\n",
      "3:\tlearn: 2223.9865264\ttest: 2219.4027513\tbest: 2219.4027513 (3)\ttotal: 319ms\tremaining: 479ms\n",
      "4:\tlearn: 2119.3325012\ttest: 2115.6888950\tbest: 2115.6888950 (4)\ttotal: 384ms\tremaining: 384ms\n",
      "5:\tlearn: 2053.6775845\ttest: 2049.4125498\tbest: 2049.4125498 (5)\ttotal: 451ms\tremaining: 300ms\n",
      "6:\tlearn: 2001.3723943\ttest: 2002.8012966\tbest: 2002.8012966 (6)\ttotal: 521ms\tremaining: 223ms\n",
      "7:\tlearn: 1973.8161440\ttest: 1975.9814763\tbest: 1975.9814763 (7)\ttotal: 590ms\tremaining: 147ms\n",
      "8:\tlearn: 1945.2460882\ttest: 1948.2007651\tbest: 1948.2007651 (8)\ttotal: 660ms\tremaining: 73.3ms\n",
      "9:\tlearn: 1931.9197958\ttest: 1937.4825812\tbest: 1937.4825812 (9)\ttotal: 728ms\tremaining: 0us\n",
      "\n",
      "bestTest = 1937.482581\n",
      "bestIteration = 9\n",
      "\n",
      "7.45 s ± 0 ns per loop (mean ± std. dev. of 1 run, 1 loop each)\n",
      "----- iterations=10, learning_rate=0.5, RMSE = 1938.8234642847615, время обучения: 7.4 сек.\n",
      "Лучшее RMSE = 1938.8234642847615 при гиперпараметрах: iterations = 10, learning_rate = 0.5, время обучения: 7.4 сек.\n"
     ]
    }
   ],
   "source": [
    "best_catboost_iterations = 0\n",
    "best_catboost_learning_rate = 0\n",
    "best_catboost_fit_time = 0\n",
    "\n",
    "best_catboost_rmse_value = 10000\n",
    "best_catboost_params = {}\n",
    "\n",
    "pool_train=Pool(features_train_ordinal, label=target_train, cat_features=cat_features)\n",
    "\n",
    "for learning_rate in range(LEARNING_RATE_RANGE[0], LEARNING_RATE_RANGE[1], LEARNING_RATE_RANGE[2]):\n",
    "       \n",
    "    params = {\n",
    "        'loss_function': 'RMSE',\n",
    "        'iterations': ITERATIONS,\n",
    "        'learning_rate': learning_rate / 10,\n",
    "        'random_seed': RANDOM_STATE,\n",
    "        'verbose': 1}\n",
    "    \n",
    "    catboost_cv_data = catboost_cv_regressor(params=params, pool=pool_train)\n",
    "    catboost_fit_time_obj = %timeit -o -r1 -n1 catboost_cv_regressor(params=params, pool=pool_train)\n",
    "            \n",
    "    rmse_value = catboost_cv_data.loc[catboost_cv_data['test-RMSE-mean'] == catboost_cv_data['test-RMSE-mean'].min(),'test-RMSE-mean'].max()\n",
    "    \n",
    "    print(f'----- iterations={ITERATIONS}, learning_rate={learning_rate/10:.2}, RMSE = {rmse_value}, время обучения: {catboost_fit_time_obj.best:.2} сек.')\n",
    "        \n",
    "    if rmse_value < best_catboost_rmse_value:\n",
    "        best_catboost_rmse_value = rmse_value\n",
    "        best_catboost_iterations = catboost_cv_data.loc[catboost_cv_data['test-RMSE-mean'] == catboost_cv_data['test-RMSE-mean'].min(),'iterations'].max() + 1\n",
    "        best_catboost_learning_rate = learning_rate / 10\n",
    "        best_catboost_fit_time = catboost_fit_time_obj.best\n",
    "        best_catboost_params = params\n",
    "        \n",
    "print(f'Лучшее RMSE = {best_catboost_rmse_value} при гиперпараметрах: iterations = {best_catboost_iterations}, learning_rate = {best_catboost_learning_rate:.2}, время обучения: {best_catboost_fit_time:.2} сек.')\n"
   ]
  },
  {
   "cell_type": "code",
   "execution_count": 46,
   "metadata": {},
   "outputs": [],
   "source": [
    "row = {'model': 'CatBoost',\n",
    "       'iterations': best_catboost_iterations,\n",
    "       'learning_rate': best_catboost_learning_rate,\n",
    "       'fit_time': best_catboost_fit_time, \n",
    "       'train_rmse_mean': best_catboost_rmse_value}\n",
    "\n",
    "result_model_table = result_model_table.append(row, ignore_index=True)"
   ]
  },
  {
   "cell_type": "markdown",
   "metadata": {},
   "source": [
    "### Вывод по разделу 2 - Обучение моделей"
   ]
  },
  {
   "cell_type": "markdown",
   "metadata": {},
   "source": [
    "- для задач обучения моделей выполнено кодирование категориальных признаков. Использована техника порядкового кодирования sklearn.OrdinalEncoding\n",
    "- Выполнено обучение 3 моделей согласно заданию на исследование:<br>\n",
    "  LinearRegression, LightGBM и CatBoost\n",
    "- Определены параметры модели и метрики качества на тренировочной выборке используя метод кросс-валидации\n",
    "- Модель LinearRegression выбранна как базовая. Метрика предлагаемой заказчику модели должна быть лучше чем метрика базовой модели."
   ]
  },
  {
   "cell_type": "markdown",
   "metadata": {},
   "source": [
    "## Анализ моделей"
   ]
  },
  {
   "cell_type": "markdown",
   "metadata": {},
   "source": [
    "На данном этапе проанализируем для выбранных моделей с подобранными гиперпараметрами:\n",
    "\n",
    " - время предсказания\n",
    " - качество моделей на тестовой выборке (метрикой RMSE)\n",
    " \n",
    "Рассмотрим сводную таблицу с параметрами моделей, определенную на этапе обучения моделей:"
   ]
  },
  {
   "cell_type": "code",
   "execution_count": 47,
   "metadata": {
    "scrolled": true
   },
   "outputs": [
    {
     "data": {
      "text/html": [
       "<div>\n",
       "<style scoped>\n",
       "    .dataframe tbody tr th:only-of-type {\n",
       "        vertical-align: middle;\n",
       "    }\n",
       "\n",
       "    .dataframe tbody tr th {\n",
       "        vertical-align: top;\n",
       "    }\n",
       "\n",
       "    .dataframe thead th {\n",
       "        text-align: right;\n",
       "    }\n",
       "</style>\n",
       "<table border=\"1\" class=\"dataframe\">\n",
       "  <thead>\n",
       "    <tr style=\"text-align: right;\">\n",
       "      <th></th>\n",
       "      <th>model</th>\n",
       "      <th>iterations</th>\n",
       "      <th>learning_rate</th>\n",
       "      <th>fit_time</th>\n",
       "      <th>train_rmse_mean</th>\n",
       "    </tr>\n",
       "  </thead>\n",
       "  <tbody>\n",
       "    <tr>\n",
       "      <th>0</th>\n",
       "      <td>LinearRegression</td>\n",
       "      <td>NaN</td>\n",
       "      <td>NaN</td>\n",
       "      <td>80.301095</td>\n",
       "      <td>2676.891042</td>\n",
       "    </tr>\n",
       "    <tr>\n",
       "      <th>1</th>\n",
       "      <td>LightGBM</td>\n",
       "      <td>10.0</td>\n",
       "      <td>0.5</td>\n",
       "      <td>4.977753</td>\n",
       "      <td>1772.218319</td>\n",
       "    </tr>\n",
       "    <tr>\n",
       "      <th>2</th>\n",
       "      <td>CatBoost</td>\n",
       "      <td>10.0</td>\n",
       "      <td>0.5</td>\n",
       "      <td>7.448006</td>\n",
       "      <td>1938.823464</td>\n",
       "    </tr>\n",
       "  </tbody>\n",
       "</table>\n",
       "</div>"
      ],
      "text/plain": [
       "              model  iterations  learning_rate   fit_time  train_rmse_mean\n",
       "0  LinearRegression         NaN            NaN  80.301095      2676.891042\n",
       "1          LightGBM        10.0            0.5   4.977753      1772.218319\n",
       "2          CatBoost        10.0            0.5   7.448006      1938.823464"
      ]
     },
     "metadata": {},
     "output_type": "display_data"
    }
   ],
   "source": [
    "display(result_model_table)"
   ]
  },
  {
   "cell_type": "markdown",
   "metadata": {},
   "source": [
    "- Наилучшими результаты показывают модели градиентного бустинга: LGBMRegressor и CatBoostRegressor\n",
    "- Исследованием для задач заказчика выбрана модель **LightGBM** со следующими гиперпараметрами:\n",
    "  - `iterations` = 10.0\n",
    "  - `learning_rate` = 0.5 \n",
    "- выбор модели обусловлен лучшим значением RMSE при кросс-валидации на обучающей выборке"
   ]
  },
  {
   "cell_type": "code",
   "execution_count": 48,
   "metadata": {},
   "outputs": [],
   "source": [
    "best_model = lgb.LGBMRegressor(**best_lgb_params) \n",
    "best_model_name = 'LightGBM'\n",
    "selected_features_train = features_train_ordinal\n",
    "selected_features_test = features_test_ordinal"
   ]
  },
  {
   "cell_type": "markdown",
   "metadata": {},
   "source": [
    "### Определение времени предсказания и метрик качества на тестовой выборке"
   ]
  },
  {
   "cell_type": "markdown",
   "metadata": {},
   "source": [
    "Дополним таблицу - определим время предсказания и метрику качества на тестовой выборке для выбранной модели:"
   ]
  },
  {
   "cell_type": "code",
   "execution_count": 49,
   "metadata": {},
   "outputs": [],
   "source": [
    "def test_score_predict_time(model, model_name,\n",
    "                            X_train=features_train, X_test=features_test,\n",
    "                            y_train=target_train, y_test=target_test):\n",
    "    '''\n",
    "    '''\n",
    "    model.fit(X_train, y_train)\n",
    "    \n",
    "    predict_time_obj = %timeit -o -r1 -n1 model.predict(X_test)\n",
    "    y_pred = model.predict(X_test)\n",
    "\n",
    "    test_rmse = mean_squared_error(y_test, y_pred, squared=False)\n",
    "        \n",
    "    row = {'model': model_name,\n",
    "           'test_rmse':test_rmse,\n",
    "           'predict_time':predict_time_obj.best}\n",
    "    \n",
    "    return row"
   ]
  },
  {
   "cell_type": "code",
   "execution_count": 50,
   "metadata": {
    "scrolled": false
   },
   "outputs": [
    {
     "name": "stdout",
     "output_type": "stream",
     "text": [
      "[LightGBM] [Info] Total Bins 232\n",
      "[LightGBM] [Info] Number of data points in the train set: 244604, number of used features: 9\n",
      "[LightGBM] [Info] Start training from score 4639.594745\n",
      "12.3 ms ± 0 ns per loop (mean ± std. dev. of 1 run, 1 loop each)\n"
     ]
    },
    {
     "data": {
      "text/html": [
       "<div>\n",
       "<style scoped>\n",
       "    .dataframe tbody tr th:only-of-type {\n",
       "        vertical-align: middle;\n",
       "    }\n",
       "\n",
       "    .dataframe tbody tr th {\n",
       "        vertical-align: top;\n",
       "    }\n",
       "\n",
       "    .dataframe thead th {\n",
       "        text-align: right;\n",
       "    }\n",
       "</style>\n",
       "<table border=\"1\" class=\"dataframe\">\n",
       "  <thead>\n",
       "    <tr style=\"text-align: right;\">\n",
       "      <th></th>\n",
       "      <th>model</th>\n",
       "      <th>iterations</th>\n",
       "      <th>learning_rate</th>\n",
       "      <th>fit_time</th>\n",
       "      <th>train_rmse_mean</th>\n",
       "      <th>test_rmse</th>\n",
       "      <th>predict_time</th>\n",
       "    </tr>\n",
       "  </thead>\n",
       "  <tbody>\n",
       "    <tr>\n",
       "      <th>0</th>\n",
       "      <td>LinearRegression</td>\n",
       "      <td>NaN</td>\n",
       "      <td>NaN</td>\n",
       "      <td>80.301095</td>\n",
       "      <td>2676.891042</td>\n",
       "      <td>NaN</td>\n",
       "      <td>NaN</td>\n",
       "    </tr>\n",
       "    <tr>\n",
       "      <th>1</th>\n",
       "      <td>LightGBM</td>\n",
       "      <td>10.0</td>\n",
       "      <td>0.5</td>\n",
       "      <td>4.977753</td>\n",
       "      <td>1772.218319</td>\n",
       "      <td>1891.762433</td>\n",
       "      <td>0.01228</td>\n",
       "    </tr>\n",
       "    <tr>\n",
       "      <th>2</th>\n",
       "      <td>CatBoost</td>\n",
       "      <td>10.0</td>\n",
       "      <td>0.5</td>\n",
       "      <td>7.448006</td>\n",
       "      <td>1938.823464</td>\n",
       "      <td>NaN</td>\n",
       "      <td>NaN</td>\n",
       "    </tr>\n",
       "  </tbody>\n",
       "</table>\n",
       "</div>"
      ],
      "text/plain": [
       "              model  iterations  learning_rate   fit_time  train_rmse_mean  \\\n",
       "0  LinearRegression         NaN            NaN  80.301095      2676.891042   \n",
       "1          LightGBM        10.0            0.5   4.977753      1772.218319   \n",
       "2          CatBoost        10.0            0.5   7.448006      1938.823464   \n",
       "\n",
       "     test_rmse  predict_time  \n",
       "0          NaN           NaN  \n",
       "1  1891.762433       0.01228  \n",
       "2          NaN           NaN  "
      ]
     },
     "metadata": {},
     "output_type": "display_data"
    }
   ],
   "source": [
    "final_model = result_model_table.merge(pd.DataFrame({'model': [],\n",
    "                                                     'test_rmse': [],\n",
    "                                                     'predict_time': []})\n",
    "                                       .append(test_score_predict_time(best_model, best_model_name, X_train=selected_features_train, X_test=selected_features_test), ignore_index=True),\n",
    "                                       on='model', how='outer')\n",
    "\n",
    "display(final_model)"
   ]
  },
  {
   "cell_type": "markdown",
   "metadata": {},
   "source": [
    "### Вывод по разделу 3 - Анализ моделей"
   ]
  },
  {
   "cell_type": "markdown",
   "metadata": {},
   "source": [
    "- Наилучшими моделями определены модели градиентного бустинга: LGBMRegressor и CatBoostRegressor\n",
    "- Исследованием для задач заказчика выбрана модель **LightGBM** со следующими гиперпараметрами:\n",
    "  - `iterations` = 10.0\n",
    "  - `learning_rate` = 0.5\n",
    "- Результаты работы выбранной модели\n",
    "  - RMSE на тестовой выборке = 1891.76\n",
    "  - время обучения, методом кросс-валидации: 4.9-5.1 сек.\n",
    "  - время предсказания на тестовой выборке: 0.1 сек\n",
    "- Модель адекватна: ее метрика лучше чем метрика базовой модели (LinearRegression)"
   ]
  },
  {
   "cell_type": "markdown",
   "metadata": {},
   "source": [
    "## Общий вывод"
   ]
  },
  {
   "cell_type": "markdown",
   "metadata": {},
   "source": [
    "**Исходные данные от заказчика**\n",
    "\n",
    "Набор данных находится в файле `/datasets/autos.csv`\n",
    "\n",
    "Признаки\n",
    "\n",
    "| №  | Наименование признака | Описание от заказчика                           | Примечание      |\n",
    "|:---|:----------------------|:------------------------------------------------|:----------------|\n",
    "| 1  | DateCrawled           | дата скачивания анкеты из базы                  |                 |\n",
    "| 2  | VehicleType           | тип автомобильного кузова                       |                 |\n",
    "| 3  | RegistrationYear      | год регистрации автомобиля                      |                 |\n",
    "| 4  | Gearbox               | тип коробки передач                             |                 |\n",
    "| 5  | Power                 | мощность (л. с.)                                |                 |\n",
    "| 6  | Model                 | модель автомобиля                               |                 |\n",
    "| 7  | Kilometer             | пробег (км)                                     |                 |\n",
    "| 8  | RegistrationMonth     | месяц регистрации автомобиля                    |                 |\n",
    "| 9  | FuelType              | тип топлива                                     |                 |\n",
    "| 10 | Brand                 | марка автомобиля                                |                 |\n",
    "| 11 | Repaired              | была машина в ремонте или нет                   |                 |\n",
    "| 12 | DateCreated           | дата создания анкеты                            |                 |\n",
    "| 13 | NumberOfPictures      | количество фотографий автомобиля                |                 |\n",
    "| 14 | PostalCode            | почтовый индекс владельца анкеты (пользователя) |                 |\n",
    "| 15 | LastSeen              | дата последней активности пользователя          |                 |\n",
    "| 16 | Price                 | цена (евро)                                     | Целевой признак |\n",
    "\n",
    "\n",
    "**Задача**\n",
    "\n",
    "- Выбрать и построить модель определяющую целевой признак (цена)\n",
    "- Для оценки качества моделей применить метрику RMSE\n",
    "- Значение метрики RMSE должно быть меньше 2500\n",
    "- Использовать минимум две модели, одна из них не бустинг, другая - LightGBM\n",
    "\n",
    "**Выводы по проекту**\n",
    "\n",
    "*Предобработка данных*\n",
    "\n",
    "- в исходных данных 16 типов признаков, в т.ч. 1 целевой (price) и 354_369 объектов\n",
    "- после предобработки в данных 10 типов признаков, в т.ч. 1 целевой (price) и 326_139 объектов\n",
    "- в результате предобработки исключено 8,27% от общего числа объектов\n",
    "- исправлены неявные дубликаты в признаках `model`: замена 'sonstige_autos' -> 'other' и `fuel_type`: замена 'gasoline' -> 'petrol'\n",
    "- удалены неинформативные признаки `date_crawled`, `registration_month`, `date_created`, `number_of_pictures`, `postal_code`, `last_seen`, дано обоснование.\n",
    "- в признаках `vehicle_type`, `gearbox`, `model`, `fuel_type`, `repaired` пропуски заменены на \"other\", дано обоснование.\n",
    "- в признаказ `price`, `registration_year` и `power` обнаружены выбросы. Определен достоверный диапазон значений, прочие выбросы удалены, дано обоснование. \n",
    "- Выброс на значении 0 для признака `power` заменен на медианное значение признака.\n",
    "- для задач обучения моделей выполнено кодирование категориальных признаков. Использована техника порядкового кодирования sklearn.OrdinalEncoding\n",
    "\n",
    "*Обучение моделей*\n",
    "\n",
    "- Выполнено обучение 3 моделей согласно заданию на исследование:<br>\n",
    "  LinearRegression, LightGBM и CatBoost\n",
    "- Определены параметры модели и метрики качества на тренировочной выборке используя метод кросс-валидации\n",
    "- Модель LinearRegression выбранна как базовая. Метрика предлагаемой заказчику модели должна быть лучше чем метрика базовой модели.\n",
    "\n",
    "*Анализ моделей*\n",
    "\n",
    "- Наилучшими моделями определены модели градиентного бустинга: LGBMRegressor и CatBoostRegressor\n",
    "- При сравнимых итоговых значениях метрик и времени обучения модель CatBoostRegressor показывает значительно меньшую скорость предсказания.\n",
    "\n",
    "# *Основной вывод*\n",
    "\n",
    "- Исследованием для задач заказчика выбрана модель **LightGBM** со следующими гиперпараметрами:\n",
    "  - `iterations` = 10.0\n",
    "  - `learning_rate` = 0.5\n",
    "- Результаты работы выбранной модели\n",
    "  - RMSE на тестовой выборке = 1891.76\n",
    "  - время обучения, методом кросс-валидации: 4.9-5.1 сек.\n",
    "  - время предсказания на тестовой выборке: 0.1 сек\n",
    "- Модель адекватна: ее метрика лучше чем метрика базовой модели (LinearRegression)"
   ]
  }
 ],
 "metadata": {
  "ExecuteTimeLog": [
   {
    "duration": 1457,
    "start_time": "2022-11-04T09:20:12.971Z"
   },
   {
    "duration": 3,
    "start_time": "2022-11-04T09:20:14.429Z"
   },
   {
    "duration": 8,
    "start_time": "2022-11-04T09:20:14.433Z"
   },
   {
    "duration": 6,
    "start_time": "2022-11-04T09:20:14.443Z"
   },
   {
    "duration": 9,
    "start_time": "2022-11-04T09:20:14.451Z"
   },
   {
    "duration": 2892,
    "start_time": "2022-11-04T09:20:14.462Z"
   },
   {
    "duration": 1560,
    "start_time": "2022-11-04T09:20:17.355Z"
   },
   {
    "duration": 3,
    "start_time": "2022-11-04T09:45:59.241Z"
   },
   {
    "duration": 29,
    "start_time": "2022-11-04T09:45:59.246Z"
   },
   {
    "duration": 20,
    "start_time": "2022-11-04T09:45:59.277Z"
   },
   {
    "duration": 8,
    "start_time": "2022-11-04T09:45:59.299Z"
   },
   {
    "duration": 7,
    "start_time": "2022-11-04T09:45:59.309Z"
   },
   {
    "duration": 690,
    "start_time": "2022-11-04T09:45:59.318Z"
   },
   {
    "duration": 1470,
    "start_time": "2022-11-04T09:46:00.010Z"
   },
   {
    "duration": 390,
    "start_time": "2022-11-04T09:46:01.482Z"
   },
   {
    "duration": 0,
    "start_time": "2022-11-04T09:46:01.874Z"
   },
   {
    "duration": 3,
    "start_time": "2022-11-04T09:46:38.517Z"
   },
   {
    "duration": 9,
    "start_time": "2022-11-04T09:46:38.521Z"
   },
   {
    "duration": 5,
    "start_time": "2022-11-04T09:46:38.531Z"
   },
   {
    "duration": 11,
    "start_time": "2022-11-04T09:46:38.537Z"
   },
   {
    "duration": 7,
    "start_time": "2022-11-04T09:46:38.549Z"
   },
   {
    "duration": 643,
    "start_time": "2022-11-04T09:46:38.558Z"
   },
   {
    "duration": 1475,
    "start_time": "2022-11-04T09:46:39.202Z"
   },
   {
    "duration": 3,
    "start_time": "2022-11-04T09:46:40.678Z"
   },
   {
    "duration": 61,
    "start_time": "2022-11-04T09:46:40.683Z"
   },
   {
    "duration": 199,
    "start_time": "2022-11-04T09:48:52.233Z"
   },
   {
    "duration": 3,
    "start_time": "2022-11-04T09:54:37.479Z"
   },
   {
    "duration": 9,
    "start_time": "2022-11-04T09:54:37.484Z"
   },
   {
    "duration": 10,
    "start_time": "2022-11-04T09:54:37.495Z"
   },
   {
    "duration": 11,
    "start_time": "2022-11-04T09:54:37.506Z"
   },
   {
    "duration": 7,
    "start_time": "2022-11-04T09:54:37.519Z"
   },
   {
    "duration": 741,
    "start_time": "2022-11-04T09:54:37.527Z"
   },
   {
    "duration": 1449,
    "start_time": "2022-11-04T09:54:38.270Z"
   },
   {
    "duration": 3,
    "start_time": "2022-11-04T09:54:39.721Z"
   },
   {
    "duration": 214,
    "start_time": "2022-11-04T09:54:39.725Z"
   },
   {
    "duration": 6,
    "start_time": "2022-11-04T09:54:39.941Z"
   },
   {
    "duration": 123,
    "start_time": "2022-11-04T09:54:39.948Z"
   },
   {
    "duration": 9,
    "start_time": "2022-11-04T14:16:06.650Z"
   },
   {
    "duration": 3,
    "start_time": "2022-11-04T14:16:45.182Z"
   },
   {
    "duration": 3,
    "start_time": "2022-11-04T14:16:51.277Z"
   },
   {
    "duration": 5,
    "start_time": "2022-11-04T14:18:14.747Z"
   },
   {
    "duration": 4,
    "start_time": "2022-11-04T14:18:20.639Z"
   },
   {
    "duration": 3,
    "start_time": "2022-11-04T14:18:28.880Z"
   },
   {
    "duration": 9,
    "start_time": "2022-11-04T14:18:28.885Z"
   },
   {
    "duration": 6,
    "start_time": "2022-11-04T14:18:28.895Z"
   },
   {
    "duration": 8,
    "start_time": "2022-11-04T14:18:28.903Z"
   },
   {
    "duration": 7,
    "start_time": "2022-11-04T14:18:28.913Z"
   },
   {
    "duration": 682,
    "start_time": "2022-11-04T14:18:28.922Z"
   },
   {
    "duration": 1460,
    "start_time": "2022-11-04T14:18:29.606Z"
   },
   {
    "duration": 10,
    "start_time": "2022-11-04T14:18:31.069Z"
   },
   {
    "duration": 226,
    "start_time": "2022-11-04T14:18:31.081Z"
   },
   {
    "duration": 3,
    "start_time": "2022-11-04T14:18:31.308Z"
   },
   {
    "duration": 8,
    "start_time": "2022-11-04T14:18:31.313Z"
   },
   {
    "duration": 732,
    "start_time": "2022-11-04T14:18:31.323Z"
   },
   {
    "duration": 77,
    "start_time": "2022-11-04T14:21:17.824Z"
   },
   {
    "duration": 18,
    "start_time": "2022-11-04T14:25:52.032Z"
   },
   {
    "duration": 207,
    "start_time": "2022-11-04T14:26:38.676Z"
   },
   {
    "duration": 203,
    "start_time": "2022-11-04T14:26:47.077Z"
   },
   {
    "duration": 127,
    "start_time": "2022-11-04T14:29:21.158Z"
   },
   {
    "duration": 139,
    "start_time": "2022-11-04T14:29:24.124Z"
   },
   {
    "duration": 5,
    "start_time": "2022-11-04T14:56:46.884Z"
   },
   {
    "duration": 22,
    "start_time": "2022-11-04T14:58:34.810Z"
   },
   {
    "duration": 24,
    "start_time": "2022-11-04T14:58:42.029Z"
   },
   {
    "duration": 25,
    "start_time": "2022-11-04T14:59:12.690Z"
   },
   {
    "duration": 148,
    "start_time": "2022-11-04T14:59:21.800Z"
   },
   {
    "duration": 131,
    "start_time": "2022-11-04T14:59:32.933Z"
   },
   {
    "duration": 263,
    "start_time": "2022-11-04T15:00:21.328Z"
   },
   {
    "duration": 355,
    "start_time": "2022-11-04T15:01:23.191Z"
   },
   {
    "duration": 368,
    "start_time": "2022-11-04T15:02:01.929Z"
   },
   {
    "duration": 363,
    "start_time": "2022-11-04T15:02:31.232Z"
   },
   {
    "duration": 36,
    "start_time": "2022-11-04T15:03:18.327Z"
   },
   {
    "duration": 3,
    "start_time": "2022-11-04T15:04:22.326Z"
   },
   {
    "duration": 223,
    "start_time": "2022-11-04T15:04:25.155Z"
   },
   {
    "duration": 362,
    "start_time": "2022-11-04T15:06:16.661Z"
   },
   {
    "duration": 165,
    "start_time": "2022-11-04T15:06:41.413Z"
   },
   {
    "duration": 68,
    "start_time": "2022-11-04T15:23:24.554Z"
   },
   {
    "duration": 36,
    "start_time": "2022-11-04T15:23:31.198Z"
   },
   {
    "duration": 10435,
    "start_time": "2022-11-04T15:27:37.996Z"
   },
   {
    "duration": 0,
    "start_time": "2022-11-04T18:38:49.829Z"
   },
   {
    "duration": 7005,
    "start_time": "2022-11-04T18:38:55.588Z"
   },
   {
    "duration": 73,
    "start_time": "2022-11-04T18:39:18.729Z"
   },
   {
    "duration": 0,
    "start_time": "2022-11-04T18:43:06.012Z"
   },
   {
    "duration": 0,
    "start_time": "2022-11-04T18:43:23.247Z"
   },
   {
    "duration": 0,
    "start_time": "2022-11-04T18:44:36.469Z"
   },
   {
    "duration": 91737,
    "start_time": "2022-11-04T18:44:38.304Z"
   },
   {
    "duration": 10419,
    "start_time": "2022-11-04T18:46:11.428Z"
   },
   {
    "duration": 112636,
    "start_time": "2022-11-04T18:46:30.274Z"
   },
   {
    "duration": 188918,
    "start_time": "2022-11-04T18:48:24.466Z"
   },
   {
    "duration": 139,
    "start_time": "2022-11-04T19:08:45.130Z"
   },
   {
    "duration": 24,
    "start_time": "2022-11-04T19:09:21.414Z"
   },
   {
    "duration": 284,
    "start_time": "2022-11-04T19:09:51.638Z"
   },
   {
    "duration": 359,
    "start_time": "2022-11-04T19:14:23.866Z"
   },
   {
    "duration": 4,
    "start_time": "2022-11-04T19:48:17.946Z"
   },
   {
    "duration": 467,
    "start_time": "2022-11-04T19:48:22.022Z"
   },
   {
    "duration": 5,
    "start_time": "2022-11-04T19:49:58.788Z"
   },
   {
    "duration": 697,
    "start_time": "2022-11-04T19:50:05.177Z"
   },
   {
    "duration": 677,
    "start_time": "2022-11-04T19:50:11.577Z"
   },
   {
    "duration": 685,
    "start_time": "2022-11-04T19:50:14.890Z"
   },
   {
    "duration": 689,
    "start_time": "2022-11-04T19:50:34.992Z"
   },
   {
    "duration": 25,
    "start_time": "2022-11-04T20:00:07.400Z"
   },
   {
    "duration": 965,
    "start_time": "2022-11-04T20:00:52.070Z"
   },
   {
    "duration": 10,
    "start_time": "2022-11-04T20:12:45.236Z"
   },
   {
    "duration": 70,
    "start_time": "2022-11-04T20:12:55.485Z"
   },
   {
    "duration": 62,
    "start_time": "2022-11-04T20:13:00.419Z"
   },
   {
    "duration": 797,
    "start_time": "2022-11-04T20:13:04.098Z"
   },
   {
    "duration": 102,
    "start_time": "2022-11-04T20:22:22.677Z"
   },
   {
    "duration": 121,
    "start_time": "2022-11-04T20:23:26.498Z"
   },
   {
    "duration": 159,
    "start_time": "2022-11-04T20:23:35.388Z"
   },
   {
    "duration": 153,
    "start_time": "2022-11-04T20:23:44.637Z"
   },
   {
    "duration": 178,
    "start_time": "2022-11-04T20:24:03.189Z"
   },
   {
    "duration": 162,
    "start_time": "2022-11-04T20:24:07.352Z"
   },
   {
    "duration": 293,
    "start_time": "2022-11-04T20:24:11.396Z"
   },
   {
    "duration": 160,
    "start_time": "2022-11-04T20:24:16.306Z"
   },
   {
    "duration": 9,
    "start_time": "2022-11-04T20:24:57.133Z"
   },
   {
    "duration": 355,
    "start_time": "2022-11-04T20:25:28.937Z"
   },
   {
    "duration": 525,
    "start_time": "2022-11-04T20:26:13.451Z"
   },
   {
    "duration": 588,
    "start_time": "2022-11-04T20:26:21.542Z"
   },
   {
    "duration": 662,
    "start_time": "2022-11-04T20:26:26.655Z"
   },
   {
    "duration": 833,
    "start_time": "2022-11-04T20:27:43.476Z"
   },
   {
    "duration": 735,
    "start_time": "2022-11-04T20:28:11.973Z"
   },
   {
    "duration": 704,
    "start_time": "2022-11-04T20:28:48.424Z"
   },
   {
    "duration": 701,
    "start_time": "2022-11-04T20:28:53.065Z"
   },
   {
    "duration": 917,
    "start_time": "2022-11-04T20:28:57.391Z"
   },
   {
    "duration": 522,
    "start_time": "2022-11-04T20:29:16.474Z"
   },
   {
    "duration": 530,
    "start_time": "2022-11-04T20:29:23.254Z"
   },
   {
    "duration": 644,
    "start_time": "2022-11-04T20:29:30.292Z"
   },
   {
    "duration": 685,
    "start_time": "2022-11-04T20:29:48.337Z"
   },
   {
    "duration": 676,
    "start_time": "2022-11-04T20:29:56.004Z"
   },
   {
    "duration": 867,
    "start_time": "2022-11-04T20:30:07.925Z"
   },
   {
    "duration": 721,
    "start_time": "2022-11-04T20:30:23.033Z"
   },
   {
    "duration": 845,
    "start_time": "2022-11-04T20:30:33.175Z"
   },
   {
    "duration": 769,
    "start_time": "2022-11-04T20:30:39.320Z"
   },
   {
    "duration": 717,
    "start_time": "2022-11-04T20:31:16.596Z"
   },
   {
    "duration": 889,
    "start_time": "2022-11-04T20:31:41.442Z"
   },
   {
    "duration": 736,
    "start_time": "2022-11-04T20:31:47.993Z"
   },
   {
    "duration": 1009,
    "start_time": "2022-11-04T20:31:57.565Z"
   },
   {
    "duration": 727,
    "start_time": "2022-11-04T20:32:14.368Z"
   },
   {
    "duration": 840,
    "start_time": "2022-11-04T20:32:32.290Z"
   },
   {
    "duration": 698,
    "start_time": "2022-11-04T20:32:44.401Z"
   },
   {
    "duration": 898,
    "start_time": "2022-11-04T20:32:49.295Z"
   },
   {
    "duration": 735,
    "start_time": "2022-11-04T20:33:00.767Z"
   },
   {
    "duration": 801,
    "start_time": "2022-11-04T20:33:29.323Z"
   },
   {
    "duration": 721,
    "start_time": "2022-11-04T20:34:18.902Z"
   },
   {
    "duration": 723,
    "start_time": "2022-11-04T20:34:31.946Z"
   },
   {
    "duration": 18,
    "start_time": "2022-11-04T20:35:31.849Z"
   },
   {
    "duration": 35,
    "start_time": "2022-11-04T20:39:17.843Z"
   },
   {
    "duration": 87,
    "start_time": "2022-11-04T20:40:49.698Z"
   },
   {
    "duration": 891,
    "start_time": "2022-11-04T20:41:54.442Z"
   },
   {
    "duration": 787,
    "start_time": "2022-11-04T20:42:09.325Z"
   },
   {
    "duration": 878,
    "start_time": "2022-11-04T20:42:22.192Z"
   },
   {
    "duration": 737,
    "start_time": "2022-11-04T20:43:14.543Z"
   },
   {
    "duration": 897,
    "start_time": "2022-11-04T20:43:32.222Z"
   },
   {
    "duration": 727,
    "start_time": "2022-11-04T20:43:45.868Z"
   },
   {
    "duration": 869,
    "start_time": "2022-11-04T20:44:25.505Z"
   },
   {
    "duration": 760,
    "start_time": "2022-11-04T20:44:57.269Z"
   },
   {
    "duration": 802,
    "start_time": "2022-11-04T20:45:05.188Z"
   },
   {
    "duration": 683,
    "start_time": "2022-11-04T20:45:18.325Z"
   },
   {
    "duration": 947,
    "start_time": "2022-11-04T20:45:46.404Z"
   },
   {
    "duration": 904,
    "start_time": "2022-11-04T20:46:32.637Z"
   },
   {
    "duration": 1021,
    "start_time": "2022-11-04T20:46:52.653Z"
   },
   {
    "duration": 1128,
    "start_time": "2022-11-04T20:48:30.702Z"
   },
   {
    "duration": 10,
    "start_time": "2022-11-04T20:54:39.139Z"
   },
   {
    "duration": 14,
    "start_time": "2022-11-04T20:56:07.076Z"
   },
   {
    "duration": 9,
    "start_time": "2022-11-04T20:56:53.803Z"
   },
   {
    "duration": 13,
    "start_time": "2022-11-04T20:57:17.684Z"
   },
   {
    "duration": 9,
    "start_time": "2022-11-04T20:57:29.608Z"
   },
   {
    "duration": 12,
    "start_time": "2022-11-04T20:57:33.086Z"
   },
   {
    "duration": 13,
    "start_time": "2022-11-04T20:57:40.667Z"
   },
   {
    "duration": 11,
    "start_time": "2022-11-04T20:57:48.140Z"
   },
   {
    "duration": 12,
    "start_time": "2022-11-04T20:57:54.062Z"
   },
   {
    "duration": 11,
    "start_time": "2022-11-04T20:57:58.585Z"
   },
   {
    "duration": 8,
    "start_time": "2022-11-04T20:58:32.315Z"
   },
   {
    "duration": 8,
    "start_time": "2022-11-04T20:58:41.145Z"
   },
   {
    "duration": 8,
    "start_time": "2022-11-04T20:58:48.475Z"
   },
   {
    "duration": 1118,
    "start_time": "2022-11-04T21:00:10.914Z"
   },
   {
    "duration": 1433,
    "start_time": "2022-11-04T21:01:26.698Z"
   },
   {
    "duration": 1095,
    "start_time": "2022-11-04T21:01:49.896Z"
   },
   {
    "duration": 1124,
    "start_time": "2022-11-04T21:01:54.873Z"
   },
   {
    "duration": 996,
    "start_time": "2022-11-04T21:01:58.842Z"
   },
   {
    "duration": 1109,
    "start_time": "2022-11-04T21:03:32.192Z"
   },
   {
    "duration": 1124,
    "start_time": "2022-11-04T21:03:58.383Z"
   },
   {
    "duration": 169,
    "start_time": "2022-11-04T21:08:08.161Z"
   },
   {
    "duration": 276,
    "start_time": "2022-11-04T21:08:28.748Z"
   },
   {
    "duration": 279,
    "start_time": "2022-11-04T21:08:55.126Z"
   },
   {
    "duration": 378,
    "start_time": "2022-11-04T21:10:13.677Z"
   },
   {
    "duration": 148,
    "start_time": "2022-11-04T21:10:21.107Z"
   },
   {
    "duration": 169,
    "start_time": "2022-11-04T21:10:56.885Z"
   },
   {
    "duration": 154,
    "start_time": "2022-11-04T21:12:12.424Z"
   },
   {
    "duration": 155,
    "start_time": "2022-11-04T21:12:56.233Z"
   },
   {
    "duration": 167,
    "start_time": "2022-11-04T21:13:00.302Z"
   },
   {
    "duration": 506,
    "start_time": "2022-11-04T21:13:29.011Z"
   },
   {
    "duration": 934,
    "start_time": "2022-11-04T21:14:52.555Z"
   },
   {
    "duration": 840,
    "start_time": "2022-11-04T21:15:56.499Z"
   },
   {
    "duration": 485,
    "start_time": "2022-11-04T21:16:12.462Z"
   },
   {
    "duration": 694,
    "start_time": "2022-11-04T21:16:39.176Z"
   },
   {
    "duration": 974,
    "start_time": "2022-11-04T21:16:52.019Z"
   },
   {
    "duration": 1153,
    "start_time": "2022-11-04T21:17:49.599Z"
   },
   {
    "duration": 683,
    "start_time": "2022-11-04T21:17:55.615Z"
   },
   {
    "duration": 784,
    "start_time": "2022-11-04T21:18:28.475Z"
   },
   {
    "duration": 781,
    "start_time": "2022-11-04T21:18:50.259Z"
   },
   {
    "duration": 890,
    "start_time": "2022-11-04T21:19:07.980Z"
   },
   {
    "duration": 79,
    "start_time": "2022-11-04T21:46:36.212Z"
   },
   {
    "duration": 6,
    "start_time": "2022-11-04T21:46:46.384Z"
   },
   {
    "duration": 11205,
    "start_time": "2022-11-04T21:47:07.738Z"
   },
   {
    "duration": 14584,
    "start_time": "2022-11-04T21:55:17.277Z"
   },
   {
    "duration": 15071,
    "start_time": "2022-11-04T21:56:38.352Z"
   },
   {
    "duration": 15590,
    "start_time": "2022-11-04T21:57:11.875Z"
   },
   {
    "duration": 16332,
    "start_time": "2022-11-04T21:57:44.337Z"
   },
   {
    "duration": 15422,
    "start_time": "2022-11-04T21:58:40.078Z"
   },
   {
    "duration": 3573,
    "start_time": "2022-11-04T22:00:19.765Z"
   },
   {
    "duration": 1658,
    "start_time": "2022-11-04T22:10:54.453Z"
   },
   {
    "duration": 1823,
    "start_time": "2022-11-04T22:12:56.149Z"
   },
   {
    "duration": 981,
    "start_time": "2022-11-04T22:12:59.899Z"
   },
   {
    "duration": 928,
    "start_time": "2022-11-04T22:13:12.127Z"
   },
   {
    "duration": 947,
    "start_time": "2022-11-04T22:13:27.822Z"
   },
   {
    "duration": 3283,
    "start_time": "2022-11-04T22:14:03.938Z"
   },
   {
    "duration": 3534,
    "start_time": "2022-11-04T22:15:05.700Z"
   },
   {
    "duration": 8,
    "start_time": "2022-11-04T22:16:21.979Z"
   },
   {
    "duration": 8,
    "start_time": "2022-11-04T22:19:39.294Z"
   },
   {
    "duration": 8,
    "start_time": "2022-11-04T22:19:42.190Z"
   },
   {
    "duration": 617,
    "start_time": "2022-11-04T22:19:47.887Z"
   },
   {
    "duration": 753,
    "start_time": "2022-11-04T22:20:07.393Z"
   },
   {
    "duration": 7,
    "start_time": "2022-11-04T22:21:40.359Z"
   },
   {
    "duration": 609,
    "start_time": "2022-11-04T22:21:45.992Z"
   },
   {
    "duration": 679,
    "start_time": "2022-11-04T22:22:00.798Z"
   },
   {
    "duration": 9,
    "start_time": "2022-11-04T22:22:50.477Z"
   },
   {
    "duration": 8,
    "start_time": "2022-11-04T22:23:10.768Z"
   },
   {
    "duration": 16,
    "start_time": "2022-11-04T22:24:46.787Z"
   },
   {
    "duration": 14,
    "start_time": "2022-11-04T22:25:08.556Z"
   },
   {
    "duration": 26,
    "start_time": "2022-11-04T22:28:39.671Z"
   },
   {
    "duration": 26,
    "start_time": "2022-11-04T22:29:44.577Z"
   },
   {
    "duration": 12,
    "start_time": "2022-11-04T22:30:59.908Z"
   },
   {
    "duration": 11,
    "start_time": "2022-11-04T22:31:10.992Z"
   },
   {
    "duration": 6,
    "start_time": "2022-11-04T22:31:28.004Z"
   },
   {
    "duration": 6,
    "start_time": "2022-11-04T22:31:33.653Z"
   },
   {
    "duration": 8,
    "start_time": "2022-11-04T22:31:49.329Z"
   },
   {
    "duration": 9,
    "start_time": "2022-11-04T22:32:53.041Z"
   },
   {
    "duration": 15,
    "start_time": "2022-11-04T22:33:03.567Z"
   },
   {
    "duration": 10,
    "start_time": "2022-11-04T22:33:08.638Z"
   },
   {
    "duration": 8,
    "start_time": "2022-11-04T22:33:19.212Z"
   },
   {
    "duration": 8,
    "start_time": "2022-11-04T22:33:23.652Z"
   },
   {
    "duration": 3,
    "start_time": "2022-11-04T22:36:26.613Z"
   },
   {
    "duration": 4,
    "start_time": "2022-11-04T22:39:04.239Z"
   },
   {
    "duration": 4,
    "start_time": "2022-11-04T22:39:49.453Z"
   },
   {
    "duration": 3,
    "start_time": "2022-11-04T22:39:57.516Z"
   },
   {
    "duration": 8,
    "start_time": "2022-11-04T22:41:45.788Z"
   },
   {
    "duration": 8,
    "start_time": "2022-11-04T22:41:50.987Z"
   },
   {
    "duration": 3,
    "start_time": "2022-11-04T22:41:54.112Z"
   },
   {
    "duration": 3,
    "start_time": "2022-11-04T22:42:35.115Z"
   },
   {
    "duration": 8,
    "start_time": "2022-11-04T22:50:08.781Z"
   },
   {
    "duration": 10,
    "start_time": "2022-11-04T22:50:11.581Z"
   },
   {
    "duration": 42,
    "start_time": "2022-11-04T22:50:13.568Z"
   },
   {
    "duration": 44,
    "start_time": "2022-11-04T22:50:19.540Z"
   },
   {
    "duration": 44,
    "start_time": "2022-11-04T22:50:26.874Z"
   },
   {
    "duration": 43,
    "start_time": "2022-11-04T22:50:44.356Z"
   },
   {
    "duration": 42,
    "start_time": "2022-11-04T22:51:05.028Z"
   },
   {
    "duration": 8,
    "start_time": "2022-11-04T22:53:47.873Z"
   },
   {
    "duration": 9,
    "start_time": "2022-11-04T22:53:53.452Z"
   },
   {
    "duration": 10,
    "start_time": "2022-11-04T22:54:28.255Z"
   },
   {
    "duration": 71,
    "start_time": "2022-11-04T22:57:00.808Z"
   },
   {
    "duration": 103,
    "start_time": "2022-11-04T22:57:18.260Z"
   },
   {
    "duration": 70,
    "start_time": "2022-11-04T22:57:28.607Z"
   },
   {
    "duration": 69,
    "start_time": "2022-11-04T22:58:06.582Z"
   },
   {
    "duration": 17,
    "start_time": "2022-11-04T22:58:45.525Z"
   },
   {
    "duration": 7,
    "start_time": "2022-11-04T22:59:06.947Z"
   },
   {
    "duration": 6,
    "start_time": "2022-11-04T22:59:21.550Z"
   },
   {
    "duration": 7,
    "start_time": "2022-11-04T23:03:05.449Z"
   },
   {
    "duration": 69,
    "start_time": "2022-11-04T23:06:28.848Z"
   },
   {
    "duration": 26,
    "start_time": "2022-11-04T23:06:42.277Z"
   },
   {
    "duration": 9,
    "start_time": "2022-11-04T23:06:51.593Z"
   },
   {
    "duration": 10,
    "start_time": "2022-11-04T23:06:53.986Z"
   },
   {
    "duration": 43,
    "start_time": "2022-11-04T23:06:55.970Z"
   },
   {
    "duration": 24,
    "start_time": "2022-11-04T23:06:58.121Z"
   },
   {
    "duration": 13,
    "start_time": "2022-11-04T23:14:57.376Z"
   },
   {
    "duration": 3,
    "start_time": "2022-11-04T23:15:31.167Z"
   },
   {
    "duration": 7,
    "start_time": "2022-11-04T23:15:31.172Z"
   },
   {
    "duration": 5,
    "start_time": "2022-11-04T23:15:31.180Z"
   },
   {
    "duration": 7,
    "start_time": "2022-11-04T23:15:31.186Z"
   },
   {
    "duration": 9,
    "start_time": "2022-11-04T23:15:31.195Z"
   },
   {
    "duration": 627,
    "start_time": "2022-11-04T23:15:31.205Z"
   },
   {
    "duration": 2824,
    "start_time": "2022-11-04T23:15:31.833Z"
   },
   {
    "duration": 3,
    "start_time": "2022-11-04T23:15:34.659Z"
   },
   {
    "duration": 630,
    "start_time": "2022-11-04T23:15:34.665Z"
   },
   {
    "duration": 73,
    "start_time": "2022-11-04T23:15:35.296Z"
   },
   {
    "duration": 0,
    "start_time": "2022-11-04T23:15:35.371Z"
   },
   {
    "duration": 0,
    "start_time": "2022-11-04T23:15:35.372Z"
   },
   {
    "duration": 0,
    "start_time": "2022-11-04T23:15:35.373Z"
   },
   {
    "duration": 0,
    "start_time": "2022-11-04T23:15:35.374Z"
   },
   {
    "duration": 0,
    "start_time": "2022-11-04T23:15:35.375Z"
   },
   {
    "duration": 0,
    "start_time": "2022-11-04T23:15:35.376Z"
   },
   {
    "duration": 0,
    "start_time": "2022-11-04T23:15:35.377Z"
   },
   {
    "duration": 0,
    "start_time": "2022-11-04T23:15:35.377Z"
   },
   {
    "duration": 0,
    "start_time": "2022-11-04T23:15:35.378Z"
   },
   {
    "duration": 0,
    "start_time": "2022-11-04T23:15:35.379Z"
   },
   {
    "duration": 0,
    "start_time": "2022-11-04T23:15:35.380Z"
   },
   {
    "duration": 3,
    "start_time": "2022-11-04T23:16:05.377Z"
   },
   {
    "duration": 10,
    "start_time": "2022-11-04T23:16:05.382Z"
   },
   {
    "duration": 5,
    "start_time": "2022-11-04T23:16:05.394Z"
   },
   {
    "duration": 6,
    "start_time": "2022-11-04T23:16:05.400Z"
   },
   {
    "duration": 8,
    "start_time": "2022-11-04T23:16:05.407Z"
   },
   {
    "duration": 627,
    "start_time": "2022-11-04T23:16:05.416Z"
   },
   {
    "duration": 1339,
    "start_time": "2022-11-04T23:16:06.045Z"
   },
   {
    "duration": 4,
    "start_time": "2022-11-04T23:16:07.386Z"
   },
   {
    "duration": 685,
    "start_time": "2022-11-04T23:16:07.393Z"
   },
   {
    "duration": 210,
    "start_time": "2022-11-04T23:16:08.080Z"
   },
   {
    "duration": 640,
    "start_time": "2022-11-04T23:16:08.292Z"
   },
   {
    "duration": 16,
    "start_time": "2022-11-04T23:16:08.933Z"
   },
   {
    "duration": 29,
    "start_time": "2022-11-04T23:16:08.950Z"
   },
   {
    "duration": 59,
    "start_time": "2022-11-04T23:16:08.981Z"
   },
   {
    "duration": 613,
    "start_time": "2022-11-04T23:16:09.041Z"
   },
   {
    "duration": 9,
    "start_time": "2022-11-04T23:16:09.656Z"
   },
   {
    "duration": 912,
    "start_time": "2022-11-04T23:16:09.667Z"
   },
   {
    "duration": 10,
    "start_time": "2022-11-04T23:16:10.581Z"
   },
   {
    "duration": 42,
    "start_time": "2022-11-04T23:16:10.593Z"
   },
   {
    "duration": 85,
    "start_time": "2022-11-04T23:16:10.637Z"
   },
   {
    "duration": 772,
    "start_time": "2022-11-04T23:16:10.723Z"
   },
   {
    "duration": 725,
    "start_time": "2022-11-04T23:17:15.509Z"
   },
   {
    "duration": 44,
    "start_time": "2022-11-04T23:19:11.343Z"
   },
   {
    "duration": 26,
    "start_time": "2022-11-04T23:19:16.319Z"
   },
   {
    "duration": 947,
    "start_time": "2022-11-04T23:19:18.884Z"
   },
   {
    "duration": 10,
    "start_time": "2022-11-04T23:26:40.909Z"
   },
   {
    "duration": 4,
    "start_time": "2022-11-04T23:26:46.654Z"
   },
   {
    "duration": 553,
    "start_time": "2022-11-04T23:26:55.087Z"
   },
   {
    "duration": 735,
    "start_time": "2022-11-04T23:26:57.763Z"
   },
   {
    "duration": 1984,
    "start_time": "2022-11-04T23:27:11.410Z"
   },
   {
    "duration": 5,
    "start_time": "2022-11-04T23:29:38.119Z"
   },
   {
    "duration": 729,
    "start_time": "2022-11-04T23:29:44.826Z"
   },
   {
    "duration": 1869,
    "start_time": "2022-11-04T23:30:09.344Z"
   },
   {
    "duration": 1136,
    "start_time": "2022-11-04T23:34:04.508Z"
   },
   {
    "duration": 416,
    "start_time": "2022-11-04T23:34:18.494Z"
   },
   {
    "duration": 415,
    "start_time": "2022-11-04T23:35:23.108Z"
   },
   {
    "duration": 1381,
    "start_time": "2022-11-04T23:35:26.386Z"
   },
   {
    "duration": 718,
    "start_time": "2022-11-04T23:41:25.556Z"
   },
   {
    "duration": 61,
    "start_time": "2022-11-04T23:44:29.103Z"
   },
   {
    "duration": 58,
    "start_time": "2022-11-04T23:45:41.690Z"
   },
   {
    "duration": 456,
    "start_time": "2022-11-04T23:47:48.994Z"
   },
   {
    "duration": 58,
    "start_time": "2022-11-04T23:47:51.991Z"
   },
   {
    "duration": 462,
    "start_time": "2022-11-04T23:48:12.068Z"
   },
   {
    "duration": 50,
    "start_time": "2022-11-04T23:48:14.361Z"
   },
   {
    "duration": 117,
    "start_time": "2022-11-04T23:50:53.257Z"
   },
   {
    "duration": 117,
    "start_time": "2022-11-04T23:51:07.584Z"
   },
   {
    "duration": 2484,
    "start_time": "2022-11-04T23:51:09.784Z"
   },
   {
    "duration": 95,
    "start_time": "2022-11-04T23:51:14.066Z"
   },
   {
    "duration": 3636,
    "start_time": "2022-11-04T23:51:16.220Z"
   },
   {
    "duration": 116,
    "start_time": "2022-11-04T23:51:33.876Z"
   },
   {
    "duration": 5286,
    "start_time": "2022-11-04T23:51:39.191Z"
   },
   {
    "duration": 4,
    "start_time": "2022-11-04T23:52:51.757Z"
   },
   {
    "duration": 15,
    "start_time": "2022-11-04T23:52:51.763Z"
   },
   {
    "duration": 12,
    "start_time": "2022-11-04T23:52:51.779Z"
   },
   {
    "duration": 10,
    "start_time": "2022-11-04T23:52:51.792Z"
   },
   {
    "duration": 21,
    "start_time": "2022-11-04T23:52:51.804Z"
   },
   {
    "duration": 627,
    "start_time": "2022-11-04T23:52:51.826Z"
   },
   {
    "duration": 1378,
    "start_time": "2022-11-04T23:52:52.455Z"
   },
   {
    "duration": 4,
    "start_time": "2022-11-04T23:52:53.835Z"
   },
   {
    "duration": 653,
    "start_time": "2022-11-04T23:52:53.841Z"
   },
   {
    "duration": 210,
    "start_time": "2022-11-04T23:52:54.495Z"
   },
   {
    "duration": 645,
    "start_time": "2022-11-04T23:52:54.706Z"
   },
   {
    "duration": 17,
    "start_time": "2022-11-04T23:52:55.352Z"
   },
   {
    "duration": 18,
    "start_time": "2022-11-04T23:52:55.376Z"
   },
   {
    "duration": 57,
    "start_time": "2022-11-04T23:52:55.397Z"
   },
   {
    "duration": 976,
    "start_time": "2022-11-04T23:52:55.456Z"
   },
   {
    "duration": 10,
    "start_time": "2022-11-04T23:52:56.433Z"
   },
   {
    "duration": 684,
    "start_time": "2022-11-04T23:52:56.444Z"
   },
   {
    "duration": 9,
    "start_time": "2022-11-04T23:52:57.130Z"
   },
   {
    "duration": 68,
    "start_time": "2022-11-04T23:52:57.140Z"
   },
   {
    "duration": 67,
    "start_time": "2022-11-04T23:52:57.210Z"
   },
   {
    "duration": 470,
    "start_time": "2022-11-04T23:52:57.279Z"
   },
   {
    "duration": 89,
    "start_time": "2022-11-04T23:52:57.751Z"
   },
   {
    "duration": 1824,
    "start_time": "2022-11-04T23:52:57.842Z"
   },
   {
    "duration": 49,
    "start_time": "2022-11-04T23:54:07.261Z"
   },
   {
    "duration": 3,
    "start_time": "2022-11-04T23:54:09.749Z"
   },
   {
    "duration": 5,
    "start_time": "2022-11-04T23:54:11.955Z"
   },
   {
    "duration": 1250,
    "start_time": "2022-11-04T23:54:14.128Z"
   },
   {
    "duration": 5,
    "start_time": "2022-11-04T23:56:15.672Z"
   },
   {
    "duration": 5,
    "start_time": "2022-11-04T23:56:25.805Z"
   },
   {
    "duration": 5,
    "start_time": "2022-11-04T23:56:26.658Z"
   },
   {
    "duration": 5,
    "start_time": "2022-11-04T23:56:27.228Z"
   },
   {
    "duration": 5,
    "start_time": "2022-11-04T23:56:27.639Z"
   },
   {
    "duration": 5,
    "start_time": "2022-11-04T23:56:28.272Z"
   },
   {
    "duration": 5,
    "start_time": "2022-11-04T23:56:46.047Z"
   },
   {
    "duration": 5,
    "start_time": "2022-11-04T23:56:48.158Z"
   },
   {
    "duration": 5,
    "start_time": "2022-11-04T23:56:48.665Z"
   },
   {
    "duration": 5,
    "start_time": "2022-11-04T23:56:49.028Z"
   },
   {
    "duration": 5,
    "start_time": "2022-11-04T23:56:49.324Z"
   },
   {
    "duration": 5,
    "start_time": "2022-11-04T23:56:49.536Z"
   },
   {
    "duration": 5,
    "start_time": "2022-11-04T23:56:50.200Z"
   },
   {
    "duration": 1160,
    "start_time": "2022-11-04T23:56:56.920Z"
   },
   {
    "duration": 5,
    "start_time": "2022-11-04T23:57:09.322Z"
   },
   {
    "duration": 1225,
    "start_time": "2022-11-04T23:57:11.452Z"
   },
   {
    "duration": 5,
    "start_time": "2022-11-04T23:57:23.949Z"
   },
   {
    "duration": 1350,
    "start_time": "2022-11-04T23:57:27.129Z"
   },
   {
    "duration": 5,
    "start_time": "2022-11-04T23:57:32.776Z"
   },
   {
    "duration": 1123,
    "start_time": "2022-11-04T23:57:36.555Z"
   },
   {
    "duration": 5,
    "start_time": "2022-11-04T23:57:40.595Z"
   },
   {
    "duration": 1194,
    "start_time": "2022-11-04T23:57:43.584Z"
   },
   {
    "duration": 5,
    "start_time": "2022-11-05T00:00:40.460Z"
   },
   {
    "duration": 1332,
    "start_time": "2022-11-05T00:00:42.646Z"
   },
   {
    "duration": 5,
    "start_time": "2022-11-05T00:01:22.919Z"
   },
   {
    "duration": 1137,
    "start_time": "2022-11-05T00:01:24.641Z"
   },
   {
    "duration": 5,
    "start_time": "2022-11-05T00:01:33.746Z"
   },
   {
    "duration": 1170,
    "start_time": "2022-11-05T00:01:35.508Z"
   },
   {
    "duration": 5,
    "start_time": "2022-11-05T00:01:40.447Z"
   },
   {
    "duration": 1177,
    "start_time": "2022-11-05T00:01:42.403Z"
   },
   {
    "duration": 5,
    "start_time": "2022-11-05T00:01:46.221Z"
   },
   {
    "duration": 1258,
    "start_time": "2022-11-05T00:01:47.920Z"
   },
   {
    "duration": 4,
    "start_time": "2022-11-05T00:02:50.867Z"
   },
   {
    "duration": 1160,
    "start_time": "2022-11-05T00:02:52.820Z"
   },
   {
    "duration": 5,
    "start_time": "2022-11-05T00:09:43.672Z"
   },
   {
    "duration": 1199,
    "start_time": "2022-11-05T00:09:46.479Z"
   },
   {
    "duration": 5,
    "start_time": "2022-11-05T00:09:58.005Z"
   },
   {
    "duration": 1150,
    "start_time": "2022-11-05T00:10:02.727Z"
   },
   {
    "duration": 1249,
    "start_time": "2022-11-05T00:10:38.829Z"
   },
   {
    "duration": 272,
    "start_time": "2022-11-05T00:14:15.073Z"
   },
   {
    "duration": 263,
    "start_time": "2022-11-05T00:14:34.653Z"
   },
   {
    "duration": 278,
    "start_time": "2022-11-05T00:14:48.700Z"
   },
   {
    "duration": 1217,
    "start_time": "2022-11-05T00:15:46.723Z"
   },
   {
    "duration": 3,
    "start_time": "2022-11-05T00:15:47.942Z"
   },
   {
    "duration": 5,
    "start_time": "2022-11-05T00:15:47.946Z"
   },
   {
    "duration": 6,
    "start_time": "2022-11-05T00:15:47.952Z"
   },
   {
    "duration": 7,
    "start_time": "2022-11-05T00:15:47.960Z"
   },
   {
    "duration": 719,
    "start_time": "2022-11-05T00:15:47.968Z"
   },
   {
    "duration": 1466,
    "start_time": "2022-11-05T00:15:48.689Z"
   },
   {
    "duration": 4,
    "start_time": "2022-11-05T00:15:50.157Z"
   },
   {
    "duration": 597,
    "start_time": "2022-11-05T00:15:50.162Z"
   },
   {
    "duration": 258,
    "start_time": "2022-11-05T00:15:50.761Z"
   },
   {
    "duration": 769,
    "start_time": "2022-11-05T00:15:51.021Z"
   },
   {
    "duration": 16,
    "start_time": "2022-11-05T00:15:51.791Z"
   },
   {
    "duration": 26,
    "start_time": "2022-11-05T00:15:51.808Z"
   },
   {
    "duration": 74,
    "start_time": "2022-11-05T00:15:51.837Z"
   },
   {
    "duration": 597,
    "start_time": "2022-11-05T00:15:51.913Z"
   },
   {
    "duration": 10,
    "start_time": "2022-11-05T00:15:52.512Z"
   },
   {
    "duration": 723,
    "start_time": "2022-11-05T00:15:52.523Z"
   },
   {
    "duration": 9,
    "start_time": "2022-11-05T00:15:53.247Z"
   },
   {
    "duration": 65,
    "start_time": "2022-11-05T00:15:53.258Z"
   },
   {
    "duration": 84,
    "start_time": "2022-11-05T00:15:53.325Z"
   },
   {
    "duration": 435,
    "start_time": "2022-11-05T00:15:53.411Z"
   },
   {
    "duration": 111,
    "start_time": "2022-11-05T00:15:53.848Z"
   },
   {
    "duration": 1803,
    "start_time": "2022-11-05T00:15:53.960Z"
   },
   {
    "duration": 66,
    "start_time": "2022-11-05T00:15:55.764Z"
   },
   {
    "duration": 0,
    "start_time": "2022-11-05T00:15:55.832Z"
   },
   {
    "duration": 0,
    "start_time": "2022-11-05T00:15:55.832Z"
   },
   {
    "duration": 1269,
    "start_time": "2022-11-05T00:16:37.553Z"
   },
   {
    "duration": 2,
    "start_time": "2022-11-05T00:16:38.824Z"
   },
   {
    "duration": 5,
    "start_time": "2022-11-05T00:16:38.828Z"
   },
   {
    "duration": 5,
    "start_time": "2022-11-05T00:16:38.835Z"
   },
   {
    "duration": 8,
    "start_time": "2022-11-05T00:16:38.841Z"
   },
   {
    "duration": 707,
    "start_time": "2022-11-05T00:16:38.851Z"
   },
   {
    "duration": 1498,
    "start_time": "2022-11-05T00:16:39.559Z"
   },
   {
    "duration": 4,
    "start_time": "2022-11-05T00:16:41.058Z"
   },
   {
    "duration": 625,
    "start_time": "2022-11-05T00:16:41.063Z"
   },
   {
    "duration": 265,
    "start_time": "2022-11-05T00:16:41.691Z"
   },
   {
    "duration": 767,
    "start_time": "2022-11-05T00:16:41.958Z"
   },
   {
    "duration": 21,
    "start_time": "2022-11-05T00:16:42.727Z"
   },
   {
    "duration": 36,
    "start_time": "2022-11-05T00:16:42.750Z"
   },
   {
    "duration": 58,
    "start_time": "2022-11-05T00:16:42.787Z"
   },
   {
    "duration": 600,
    "start_time": "2022-11-05T00:16:42.847Z"
   },
   {
    "duration": 10,
    "start_time": "2022-11-05T00:16:43.449Z"
   },
   {
    "duration": 723,
    "start_time": "2022-11-05T00:16:43.460Z"
   },
   {
    "duration": 9,
    "start_time": "2022-11-05T00:16:44.185Z"
   },
   {
    "duration": 50,
    "start_time": "2022-11-05T00:16:44.195Z"
   },
   {
    "duration": 103,
    "start_time": "2022-11-05T00:16:44.246Z"
   },
   {
    "duration": 426,
    "start_time": "2022-11-05T00:16:44.351Z"
   },
   {
    "duration": 112,
    "start_time": "2022-11-05T00:16:44.778Z"
   },
   {
    "duration": 1785,
    "start_time": "2022-11-05T00:16:44.892Z"
   },
   {
    "duration": 5,
    "start_time": "2022-11-05T00:16:46.678Z"
   },
   {
    "duration": 175,
    "start_time": "2022-11-05T00:16:46.684Z"
   },
   {
    "duration": 1201,
    "start_time": "2022-11-05T00:18:23.639Z"
   },
   {
    "duration": 2,
    "start_time": "2022-11-05T00:18:24.842Z"
   },
   {
    "duration": 33,
    "start_time": "2022-11-05T00:18:24.845Z"
   },
   {
    "duration": 20,
    "start_time": "2022-11-05T00:18:24.880Z"
   },
   {
    "duration": 50,
    "start_time": "2022-11-05T00:18:24.901Z"
   },
   {
    "duration": 737,
    "start_time": "2022-11-05T00:18:24.952Z"
   },
   {
    "duration": 1467,
    "start_time": "2022-11-05T00:18:25.691Z"
   },
   {
    "duration": 4,
    "start_time": "2022-11-05T00:18:27.160Z"
   },
   {
    "duration": 644,
    "start_time": "2022-11-05T00:18:27.166Z"
   },
   {
    "duration": 274,
    "start_time": "2022-11-05T00:18:27.812Z"
   },
   {
    "duration": 752,
    "start_time": "2022-11-05T00:18:28.088Z"
   },
   {
    "duration": 16,
    "start_time": "2022-11-05T00:18:28.841Z"
   },
   {
    "duration": 36,
    "start_time": "2022-11-05T00:18:28.859Z"
   },
   {
    "duration": 57,
    "start_time": "2022-11-05T00:18:28.897Z"
   },
   {
    "duration": 616,
    "start_time": "2022-11-05T00:18:28.956Z"
   },
   {
    "duration": 11,
    "start_time": "2022-11-05T00:18:29.574Z"
   },
   {
    "duration": 701,
    "start_time": "2022-11-05T00:18:29.586Z"
   },
   {
    "duration": 10,
    "start_time": "2022-11-05T00:18:30.288Z"
   },
   {
    "duration": 57,
    "start_time": "2022-11-05T00:18:30.299Z"
   },
   {
    "duration": 81,
    "start_time": "2022-11-05T00:18:30.358Z"
   },
   {
    "duration": 437,
    "start_time": "2022-11-05T00:18:30.441Z"
   },
   {
    "duration": 118,
    "start_time": "2022-11-05T00:18:30.879Z"
   },
   {
    "duration": 1798,
    "start_time": "2022-11-05T00:18:30.998Z"
   },
   {
    "duration": 9,
    "start_time": "2022-11-05T00:18:32.797Z"
   },
   {
    "duration": 9,
    "start_time": "2022-11-05T00:18:32.807Z"
   },
   {
    "duration": 1486,
    "start_time": "2022-11-05T00:18:32.817Z"
   },
   {
    "duration": 5,
    "start_time": "2022-11-05T00:22:27.878Z"
   },
   {
    "duration": 1572,
    "start_time": "2022-11-05T00:22:29.909Z"
   },
   {
    "duration": 5,
    "start_time": "2022-11-05T00:25:04.735Z"
   },
   {
    "duration": 1642,
    "start_time": "2022-11-05T00:25:06.749Z"
   },
   {
    "duration": 6,
    "start_time": "2022-11-05T00:25:54.723Z"
   },
   {
    "duration": 1610,
    "start_time": "2022-11-05T00:25:59.780Z"
   },
   {
    "duration": 5,
    "start_time": "2022-11-05T00:28:01.485Z"
   },
   {
    "duration": 1607,
    "start_time": "2022-11-05T00:28:03.184Z"
   },
   {
    "duration": 3,
    "start_time": "2022-11-05T00:31:37.769Z"
   },
   {
    "duration": 13591,
    "start_time": "2022-11-05T00:32:32.396Z"
   },
   {
    "duration": 96,
    "start_time": "2022-11-05T00:33:53.892Z"
   },
   {
    "duration": 11834,
    "start_time": "2022-11-05T00:34:01.950Z"
   },
   {
    "duration": 3263,
    "start_time": "2022-11-05T00:34:38.019Z"
   },
   {
    "duration": 1512,
    "start_time": "2022-11-05T00:34:47.470Z"
   },
   {
    "duration": 3521,
    "start_time": "2022-11-05T00:34:54.459Z"
   },
   {
    "duration": 1524,
    "start_time": "2022-11-05T00:35:18.366Z"
   },
   {
    "duration": 73,
    "start_time": "2022-11-05T00:36:27.472Z"
   },
   {
    "duration": 1525,
    "start_time": "2022-11-05T00:36:41.362Z"
   },
   {
    "duration": 3405,
    "start_time": "2022-11-05T00:36:54.875Z"
   },
   {
    "duration": 1527,
    "start_time": "2022-11-05T00:37:02.658Z"
   },
   {
    "duration": 1510,
    "start_time": "2022-11-05T00:37:15.473Z"
   },
   {
    "duration": 3,
    "start_time": "2022-11-05T00:37:34.472Z"
   },
   {
    "duration": 2,
    "start_time": "2022-11-05T00:38:29.134Z"
   },
   {
    "duration": 23009,
    "start_time": "2022-11-05T00:39:27.587Z"
   },
   {
    "duration": 3,
    "start_time": "2022-11-05T00:39:56.178Z"
   },
   {
    "duration": 22980,
    "start_time": "2022-11-05T00:40:23.205Z"
   },
   {
    "duration": 23651,
    "start_time": "2022-11-05T00:40:46.627Z"
   },
   {
    "duration": 1560,
    "start_time": "2022-11-05T14:16:54.947Z"
   },
   {
    "duration": 3,
    "start_time": "2022-11-05T14:16:56.510Z"
   },
   {
    "duration": 4,
    "start_time": "2022-11-05T14:16:56.514Z"
   },
   {
    "duration": 15,
    "start_time": "2022-11-05T14:16:56.520Z"
   },
   {
    "duration": 18,
    "start_time": "2022-11-05T14:16:56.536Z"
   },
   {
    "duration": 1048,
    "start_time": "2022-11-05T14:16:56.556Z"
   },
   {
    "duration": 1672,
    "start_time": "2022-11-05T14:16:57.606Z"
   },
   {
    "duration": 3,
    "start_time": "2022-11-05T14:16:59.279Z"
   },
   {
    "duration": 704,
    "start_time": "2022-11-05T14:16:59.284Z"
   },
   {
    "duration": 278,
    "start_time": "2022-11-05T14:16:59.991Z"
   },
   {
    "duration": 807,
    "start_time": "2022-11-05T14:17:00.270Z"
   },
   {
    "duration": 20,
    "start_time": "2022-11-05T14:17:01.078Z"
   },
   {
    "duration": 54,
    "start_time": "2022-11-05T14:17:01.099Z"
   },
   {
    "duration": 72,
    "start_time": "2022-11-05T14:17:01.155Z"
   },
   {
    "duration": 688,
    "start_time": "2022-11-05T14:17:01.228Z"
   },
   {
    "duration": 11,
    "start_time": "2022-11-05T14:17:01.917Z"
   },
   {
    "duration": 750,
    "start_time": "2022-11-05T14:17:01.930Z"
   },
   {
    "duration": 8,
    "start_time": "2022-11-05T14:17:02.682Z"
   },
   {
    "duration": 62,
    "start_time": "2022-11-05T14:17:02.691Z"
   },
   {
    "duration": 85,
    "start_time": "2022-11-05T14:17:02.755Z"
   },
   {
    "duration": 523,
    "start_time": "2022-11-05T14:17:02.842Z"
   },
   {
    "duration": 109,
    "start_time": "2022-11-05T14:17:03.367Z"
   },
   {
    "duration": 1978,
    "start_time": "2022-11-05T14:17:03.477Z"
   },
   {
    "duration": 52,
    "start_time": "2022-11-05T14:17:05.457Z"
   },
   {
    "duration": 8,
    "start_time": "2022-11-05T14:17:05.511Z"
   },
   {
    "duration": 7,
    "start_time": "2022-11-05T14:17:05.520Z"
   },
   {
    "duration": 40,
    "start_time": "2022-11-05T14:17:05.528Z"
   },
   {
    "duration": 0,
    "start_time": "2022-11-05T14:17:05.570Z"
   },
   {
    "duration": 42,
    "start_time": "2022-11-05T14:18:05.740Z"
   },
   {
    "duration": 40,
    "start_time": "2022-11-05T14:18:57.740Z"
   },
   {
    "duration": 38,
    "start_time": "2022-11-05T14:19:16.952Z"
   },
   {
    "duration": 10682,
    "start_time": "2022-11-05T14:19:22.433Z"
   },
   {
    "duration": 3,
    "start_time": "2022-11-05T14:19:55.111Z"
   },
   {
    "duration": 3,
    "start_time": "2022-11-05T14:48:42.085Z"
   },
   {
    "duration": 112,
    "start_time": "2022-11-05T14:48:44.230Z"
   },
   {
    "duration": 59,
    "start_time": "2022-11-05T14:48:49.565Z"
   },
   {
    "duration": 2,
    "start_time": "2022-11-05T14:48:55.602Z"
   },
   {
    "duration": 1142,
    "start_time": "2022-11-05T14:48:57.237Z"
   },
   {
    "duration": 505,
    "start_time": "2022-11-05T14:50:29.128Z"
   },
   {
    "duration": 88,
    "start_time": "2022-11-05T14:50:30.860Z"
   },
   {
    "duration": 1836,
    "start_time": "2022-11-05T14:50:32.732Z"
   },
   {
    "duration": 47,
    "start_time": "2022-11-05T14:50:41.883Z"
   },
   {
    "duration": 6,
    "start_time": "2022-11-05T14:50:45.285Z"
   },
   {
    "duration": 8991,
    "start_time": "2022-11-05T14:50:47.018Z"
   },
   {
    "duration": 8844,
    "start_time": "2022-11-05T14:51:07.768Z"
   },
   {
    "duration": 4,
    "start_time": "2022-11-05T14:51:20.956Z"
   },
   {
    "duration": 2,
    "start_time": "2022-11-05T14:51:26.200Z"
   },
   {
    "duration": 17048,
    "start_time": "2022-11-05T14:51:27.523Z"
   },
   {
    "duration": 16808,
    "start_time": "2022-11-05T14:52:24.996Z"
   },
   {
    "duration": 17019,
    "start_time": "2022-11-05T14:53:00.239Z"
   },
   {
    "duration": 167064,
    "start_time": "2022-11-05T14:57:43.498Z"
   },
   {
    "duration": 0,
    "start_time": "2022-11-05T15:05:22.355Z"
   },
   {
    "duration": 23354,
    "start_time": "2022-11-05T15:05:25.561Z"
   },
   {
    "duration": 217174,
    "start_time": "2022-11-05T15:05:49.894Z"
   },
   {
    "duration": 98663,
    "start_time": "2022-11-05T15:11:34.349Z"
   },
   {
    "duration": 13,
    "start_time": "2022-11-05T15:13:19.515Z"
   },
   {
    "duration": 51343,
    "start_time": "2022-11-05T15:13:23.895Z"
   },
   {
    "duration": 8949,
    "start_time": "2022-11-05T15:14:17.880Z"
   },
   {
    "duration": 107972,
    "start_time": "2022-11-05T15:14:34.416Z"
   },
   {
    "duration": 1083,
    "start_time": "2022-11-05T15:16:27.798Z"
   },
   {
    "duration": 19088,
    "start_time": "2022-11-05T15:17:29.544Z"
   },
   {
    "duration": 7485,
    "start_time": "2022-11-05T15:18:03.249Z"
   },
   {
    "duration": 38469,
    "start_time": "2022-11-05T15:18:12.538Z"
   },
   {
    "duration": 9527,
    "start_time": "2022-11-05T15:18:55.000Z"
   },
   {
    "duration": 10938,
    "start_time": "2022-11-05T15:25:50.027Z"
   },
   {
    "duration": 10831,
    "start_time": "2022-11-05T15:39:15.385Z"
   },
   {
    "duration": 610,
    "start_time": "2022-11-05T15:55:41.693Z"
   },
   {
    "duration": 677,
    "start_time": "2022-11-05T15:55:56.397Z"
   },
   {
    "duration": 667,
    "start_time": "2022-11-05T16:05:35.815Z"
   },
   {
    "duration": 534,
    "start_time": "2022-11-05T16:08:32.577Z"
   },
   {
    "duration": 632,
    "start_time": "2022-11-05T16:08:46.314Z"
   },
   {
    "duration": 560,
    "start_time": "2022-11-05T16:08:52.512Z"
   },
   {
    "duration": 658,
    "start_time": "2022-11-05T16:09:21.662Z"
   },
   {
    "duration": 845,
    "start_time": "2022-11-05T16:12:05.342Z"
   },
   {
    "duration": 18,
    "start_time": "2022-11-05T16:15:38.322Z"
   },
   {
    "duration": 18,
    "start_time": "2022-11-05T16:15:54.821Z"
   },
   {
    "duration": 19,
    "start_time": "2022-11-05T16:16:35.591Z"
   },
   {
    "duration": 25,
    "start_time": "2022-11-05T16:16:40.670Z"
   },
   {
    "duration": 19,
    "start_time": "2022-11-05T16:18:40.583Z"
   },
   {
    "duration": 685,
    "start_time": "2022-11-05T16:22:51.977Z"
   },
   {
    "duration": 544,
    "start_time": "2022-11-05T18:42:35.125Z"
   },
   {
    "duration": 816,
    "start_time": "2022-11-05T18:43:00.666Z"
   },
   {
    "duration": 729,
    "start_time": "2022-11-05T18:46:05.944Z"
   },
   {
    "duration": 740,
    "start_time": "2022-11-05T18:46:15.411Z"
   },
   {
    "duration": 13,
    "start_time": "2022-11-05T18:46:45.549Z"
   },
   {
    "duration": 13,
    "start_time": "2022-11-05T18:46:56.945Z"
   },
   {
    "duration": 13,
    "start_time": "2022-11-05T18:47:21.879Z"
   },
   {
    "duration": 718,
    "start_time": "2022-11-05T18:47:32.863Z"
   },
   {
    "duration": 9,
    "start_time": "2022-11-05T18:47:37.837Z"
   },
   {
    "duration": 694,
    "start_time": "2022-11-05T18:48:04.869Z"
   },
   {
    "duration": 586,
    "start_time": "2022-11-05T18:48:30.313Z"
   },
   {
    "duration": 17,
    "start_time": "2022-11-05T18:48:49.189Z"
   },
   {
    "duration": 9,
    "start_time": "2022-11-05T18:48:58.206Z"
   },
   {
    "duration": 9,
    "start_time": "2022-11-05T18:49:07.690Z"
   },
   {
    "duration": 5,
    "start_time": "2022-11-05T18:49:24.065Z"
   },
   {
    "duration": 4,
    "start_time": "2022-11-05T18:49:34.163Z"
   },
   {
    "duration": 8,
    "start_time": "2022-11-05T18:49:34.169Z"
   },
   {
    "duration": 4,
    "start_time": "2022-11-05T18:49:34.179Z"
   },
   {
    "duration": 8,
    "start_time": "2022-11-05T18:49:34.185Z"
   },
   {
    "duration": 88,
    "start_time": "2022-11-05T18:49:34.194Z"
   },
   {
    "duration": 723,
    "start_time": "2022-11-05T18:49:34.284Z"
   },
   {
    "duration": 1502,
    "start_time": "2022-11-05T18:49:35.009Z"
   },
   {
    "duration": 3,
    "start_time": "2022-11-05T18:49:36.513Z"
   },
   {
    "duration": 694,
    "start_time": "2022-11-05T18:49:36.519Z"
   },
   {
    "duration": 243,
    "start_time": "2022-11-05T18:49:37.215Z"
   },
   {
    "duration": 705,
    "start_time": "2022-11-05T18:49:37.460Z"
   },
   {
    "duration": 21,
    "start_time": "2022-11-05T18:49:38.166Z"
   },
   {
    "duration": 36,
    "start_time": "2022-11-05T18:49:38.188Z"
   },
   {
    "duration": 70,
    "start_time": "2022-11-05T18:49:38.226Z"
   },
   {
    "duration": 716,
    "start_time": "2022-11-05T18:49:38.298Z"
   },
   {
    "duration": 2,
    "start_time": "2022-11-05T18:49:39.015Z"
   },
   {
    "duration": 16,
    "start_time": "2022-11-05T18:49:39.019Z"
   },
   {
    "duration": 737,
    "start_time": "2022-11-05T18:49:39.036Z"
   },
   {
    "duration": 9,
    "start_time": "2022-11-05T18:49:39.775Z"
   },
   {
    "duration": 721,
    "start_time": "2022-11-05T18:49:39.785Z"
   },
   {
    "duration": 19,
    "start_time": "2022-11-05T18:49:40.507Z"
   },
   {
    "duration": 4,
    "start_time": "2022-11-05T18:49:40.528Z"
   },
   {
    "duration": 76,
    "start_time": "2022-11-05T18:50:37.386Z"
   },
   {
    "duration": 4,
    "start_time": "2022-11-05T18:51:34.331Z"
   },
   {
    "duration": 7,
    "start_time": "2022-11-05T18:51:34.337Z"
   },
   {
    "duration": 9,
    "start_time": "2022-11-05T18:51:34.345Z"
   },
   {
    "duration": 7,
    "start_time": "2022-11-05T18:51:34.356Z"
   },
   {
    "duration": 16,
    "start_time": "2022-11-05T18:51:34.364Z"
   },
   {
    "duration": 821,
    "start_time": "2022-11-05T18:51:34.382Z"
   },
   {
    "duration": 1627,
    "start_time": "2022-11-05T18:51:35.205Z"
   },
   {
    "duration": 4,
    "start_time": "2022-11-05T18:51:36.833Z"
   },
   {
    "duration": 712,
    "start_time": "2022-11-05T18:51:36.839Z"
   },
   {
    "duration": 241,
    "start_time": "2022-11-05T18:51:37.554Z"
   },
   {
    "duration": 788,
    "start_time": "2022-11-05T18:51:37.796Z"
   },
   {
    "duration": 25,
    "start_time": "2022-11-05T18:51:38.586Z"
   },
   {
    "duration": 20,
    "start_time": "2022-11-05T18:51:38.613Z"
   },
   {
    "duration": 86,
    "start_time": "2022-11-05T18:51:38.635Z"
   },
   {
    "duration": 763,
    "start_time": "2022-11-05T18:51:38.723Z"
   },
   {
    "duration": 3,
    "start_time": "2022-11-05T18:51:39.488Z"
   },
   {
    "duration": 26,
    "start_time": "2022-11-05T18:51:39.493Z"
   },
   {
    "duration": 785,
    "start_time": "2022-11-05T18:51:39.521Z"
   },
   {
    "duration": 10,
    "start_time": "2022-11-05T18:51:40.307Z"
   },
   {
    "duration": 736,
    "start_time": "2022-11-05T18:51:40.319Z"
   },
   {
    "duration": 80,
    "start_time": "2022-11-05T18:51:41.057Z"
   },
   {
    "duration": 10,
    "start_time": "2022-11-05T18:51:41.139Z"
   },
   {
    "duration": 8,
    "start_time": "2022-11-05T18:51:41.151Z"
   },
   {
    "duration": 12,
    "start_time": "2022-11-05T18:55:34.364Z"
   },
   {
    "duration": 3,
    "start_time": "2022-11-05T18:55:44.885Z"
   },
   {
    "duration": 9,
    "start_time": "2022-11-05T18:55:44.890Z"
   },
   {
    "duration": 9,
    "start_time": "2022-11-05T18:55:44.901Z"
   },
   {
    "duration": 17,
    "start_time": "2022-11-05T18:55:44.912Z"
   },
   {
    "duration": 16,
    "start_time": "2022-11-05T18:55:44.931Z"
   },
   {
    "duration": 708,
    "start_time": "2022-11-05T18:55:44.948Z"
   },
   {
    "duration": 1548,
    "start_time": "2022-11-05T18:55:45.658Z"
   },
   {
    "duration": 4,
    "start_time": "2022-11-05T18:55:47.209Z"
   },
   {
    "duration": 673,
    "start_time": "2022-11-05T18:55:47.215Z"
   },
   {
    "duration": 236,
    "start_time": "2022-11-05T18:55:47.890Z"
   },
   {
    "duration": 728,
    "start_time": "2022-11-05T18:55:48.127Z"
   },
   {
    "duration": 19,
    "start_time": "2022-11-05T18:55:48.857Z"
   },
   {
    "duration": 32,
    "start_time": "2022-11-05T18:55:48.878Z"
   },
   {
    "duration": 69,
    "start_time": "2022-11-05T18:55:48.912Z"
   },
   {
    "duration": 718,
    "start_time": "2022-11-05T18:55:48.983Z"
   },
   {
    "duration": 7,
    "start_time": "2022-11-05T18:55:49.702Z"
   },
   {
    "duration": 14,
    "start_time": "2022-11-05T18:55:49.711Z"
   },
   {
    "duration": 643,
    "start_time": "2022-11-05T18:55:49.727Z"
   },
   {
    "duration": 8,
    "start_time": "2022-11-05T18:55:50.371Z"
   },
   {
    "duration": 812,
    "start_time": "2022-11-05T18:55:50.380Z"
   },
   {
    "duration": 81,
    "start_time": "2022-11-05T18:55:51.193Z"
   },
   {
    "duration": 11,
    "start_time": "2022-11-05T18:55:51.276Z"
   },
   {
    "duration": 63,
    "start_time": "2022-11-05T18:55:51.289Z"
   },
   {
    "duration": 1738,
    "start_time": "2022-11-05T18:56:57.570Z"
   },
   {
    "duration": 481,
    "start_time": "2022-11-05T18:56:59.583Z"
   },
   {
    "duration": 66,
    "start_time": "2022-11-05T18:57:01.631Z"
   },
   {
    "duration": 1883,
    "start_time": "2022-11-05T18:57:03.872Z"
   },
   {
    "duration": 138,
    "start_time": "2022-11-05T19:00:38.531Z"
   },
   {
    "duration": 920,
    "start_time": "2022-11-05T19:03:35.960Z"
   },
   {
    "duration": 4,
    "start_time": "2022-11-05T19:08:38.318Z"
   },
   {
    "duration": 39,
    "start_time": "2022-11-05T19:11:57.083Z"
   },
   {
    "duration": 211,
    "start_time": "2022-11-05T19:12:24.200Z"
   },
   {
    "duration": 134,
    "start_time": "2022-11-05T19:12:56.396Z"
   },
   {
    "duration": 144,
    "start_time": "2022-11-05T19:13:16.689Z"
   },
   {
    "duration": 7671,
    "start_time": "2022-11-05T19:27:05.953Z"
   },
   {
    "duration": 9,
    "start_time": "2022-11-05T19:37:31.538Z"
   },
   {
    "duration": 3,
    "start_time": "2022-11-05T19:37:37.225Z"
   },
   {
    "duration": 6,
    "start_time": "2022-11-05T19:37:37.230Z"
   },
   {
    "duration": 5,
    "start_time": "2022-11-05T19:37:37.238Z"
   },
   {
    "duration": 8,
    "start_time": "2022-11-05T19:37:37.245Z"
   },
   {
    "duration": 19,
    "start_time": "2022-11-05T19:37:37.254Z"
   },
   {
    "duration": 707,
    "start_time": "2022-11-05T19:37:37.299Z"
   },
   {
    "duration": 1507,
    "start_time": "2022-11-05T19:37:38.008Z"
   },
   {
    "duration": 4,
    "start_time": "2022-11-05T19:37:39.516Z"
   },
   {
    "duration": 687,
    "start_time": "2022-11-05T19:37:39.522Z"
   },
   {
    "duration": 227,
    "start_time": "2022-11-05T19:37:40.210Z"
   },
   {
    "duration": 703,
    "start_time": "2022-11-05T19:37:40.439Z"
   },
   {
    "duration": 21,
    "start_time": "2022-11-05T19:37:41.144Z"
   },
   {
    "duration": 31,
    "start_time": "2022-11-05T19:37:41.167Z"
   },
   {
    "duration": 73,
    "start_time": "2022-11-05T19:37:41.200Z"
   },
   {
    "duration": 1222,
    "start_time": "2022-11-05T19:37:41.276Z"
   },
   {
    "duration": 3,
    "start_time": "2022-11-05T19:37:42.500Z"
   },
   {
    "duration": 16,
    "start_time": "2022-11-05T19:37:42.508Z"
   },
   {
    "duration": 657,
    "start_time": "2022-11-05T19:37:42.526Z"
   },
   {
    "duration": 10,
    "start_time": "2022-11-05T19:37:43.185Z"
   },
   {
    "duration": 733,
    "start_time": "2022-11-05T19:37:43.209Z"
   },
   {
    "duration": 83,
    "start_time": "2022-11-05T19:37:43.944Z"
   },
   {
    "duration": 10,
    "start_time": "2022-11-05T19:37:44.029Z"
   },
   {
    "duration": 48,
    "start_time": "2022-11-05T19:37:44.041Z"
   },
   {
    "duration": 975,
    "start_time": "2022-11-05T19:37:44.090Z"
   },
   {
    "duration": 4,
    "start_time": "2022-11-05T19:37:45.067Z"
   },
   {
    "duration": 530,
    "start_time": "2022-11-05T19:37:45.072Z"
   },
   {
    "duration": 81,
    "start_time": "2022-11-05T19:37:45.604Z"
   },
   {
    "duration": 1789,
    "start_time": "2022-11-05T19:37:45.687Z"
   },
   {
    "duration": 47,
    "start_time": "2022-11-05T19:37:47.477Z"
   },
   {
    "duration": 3,
    "start_time": "2022-11-05T19:37:47.525Z"
   },
   {
    "duration": 10,
    "start_time": "2022-11-05T19:37:47.530Z"
   },
   {
    "duration": 8772,
    "start_time": "2022-11-05T19:37:47.541Z"
   },
   {
    "duration": 4,
    "start_time": "2022-11-05T19:37:56.317Z"
   },
   {
    "duration": 100,
    "start_time": "2022-11-05T19:37:56.410Z"
   },
   {
    "duration": 9,
    "start_time": "2022-11-05T19:39:31.436Z"
   },
   {
    "duration": 10,
    "start_time": "2022-11-05T19:40:19.128Z"
   },
   {
    "duration": 9,
    "start_time": "2022-11-05T19:40:22.907Z"
   },
   {
    "duration": 9,
    "start_time": "2022-11-05T19:40:50.889Z"
   },
   {
    "duration": 9,
    "start_time": "2022-11-05T19:41:02.831Z"
   },
   {
    "duration": 13,
    "start_time": "2022-11-05T19:41:16.263Z"
   },
   {
    "duration": 4,
    "start_time": "2022-11-05T19:42:10.743Z"
   },
   {
    "duration": 3,
    "start_time": "2022-11-05T19:42:16.659Z"
   },
   {
    "duration": 6,
    "start_time": "2022-11-05T19:42:16.665Z"
   },
   {
    "duration": 5,
    "start_time": "2022-11-05T19:42:16.672Z"
   },
   {
    "duration": 8,
    "start_time": "2022-11-05T19:42:16.679Z"
   },
   {
    "duration": 11,
    "start_time": "2022-11-05T19:42:16.688Z"
   },
   {
    "duration": 718,
    "start_time": "2022-11-05T19:42:16.700Z"
   },
   {
    "duration": 1460,
    "start_time": "2022-11-05T19:42:17.420Z"
   },
   {
    "duration": 3,
    "start_time": "2022-11-05T19:42:18.882Z"
   },
   {
    "duration": 697,
    "start_time": "2022-11-05T19:42:18.888Z"
   },
   {
    "duration": 241,
    "start_time": "2022-11-05T19:42:19.587Z"
   },
   {
    "duration": 766,
    "start_time": "2022-11-05T19:42:19.830Z"
   },
   {
    "duration": 22,
    "start_time": "2022-11-05T19:42:20.598Z"
   },
   {
    "duration": 20,
    "start_time": "2022-11-05T19:42:20.622Z"
   },
   {
    "duration": 82,
    "start_time": "2022-11-05T19:42:20.643Z"
   },
   {
    "duration": 741,
    "start_time": "2022-11-05T19:42:20.727Z"
   },
   {
    "duration": 3,
    "start_time": "2022-11-05T19:42:21.469Z"
   },
   {
    "duration": 25,
    "start_time": "2022-11-05T19:42:21.473Z"
   },
   {
    "duration": 765,
    "start_time": "2022-11-05T19:42:21.500Z"
   },
   {
    "duration": 10,
    "start_time": "2022-11-05T19:42:22.266Z"
   },
   {
    "duration": 722,
    "start_time": "2022-11-05T19:42:22.277Z"
   },
   {
    "duration": 83,
    "start_time": "2022-11-05T19:42:23.001Z"
   },
   {
    "duration": 24,
    "start_time": "2022-11-05T19:42:23.085Z"
   },
   {
    "duration": 49,
    "start_time": "2022-11-05T19:42:23.112Z"
   },
   {
    "duration": 894,
    "start_time": "2022-11-05T19:42:23.163Z"
   },
   {
    "duration": 3,
    "start_time": "2022-11-05T19:42:24.059Z"
   },
   {
    "duration": 535,
    "start_time": "2022-11-05T19:42:24.064Z"
   },
   {
    "duration": 64,
    "start_time": "2022-11-05T19:42:24.601Z"
   },
   {
    "duration": 1772,
    "start_time": "2022-11-05T19:42:24.667Z"
   },
   {
    "duration": 41,
    "start_time": "2022-11-05T19:42:26.441Z"
   },
   {
    "duration": 3,
    "start_time": "2022-11-05T19:42:26.483Z"
   },
   {
    "duration": 21,
    "start_time": "2022-11-05T19:42:26.488Z"
   },
   {
    "duration": 8921,
    "start_time": "2022-11-05T19:42:26.511Z"
   },
   {
    "duration": 78,
    "start_time": "2022-11-05T19:42:35.434Z"
   },
   {
    "duration": 912,
    "start_time": "2022-11-05T19:42:35.514Z"
   },
   {
    "duration": 5417,
    "start_time": "2022-11-05T19:45:33.296Z"
   },
   {
    "duration": 82,
    "start_time": "2022-11-05T19:46:02.731Z"
   },
   {
    "duration": 4403,
    "start_time": "2022-11-05T19:46:07.834Z"
   },
   {
    "duration": 3896,
    "start_time": "2022-11-05T19:46:23.535Z"
   },
   {
    "duration": 4432,
    "start_time": "2022-11-05T19:47:15.829Z"
   },
   {
    "duration": 3887,
    "start_time": "2022-11-05T19:47:35.145Z"
   },
   {
    "duration": 40133,
    "start_time": "2022-11-05T19:50:40.534Z"
   },
   {
    "duration": 40667,
    "start_time": "2022-11-05T19:56:29.369Z"
   },
   {
    "duration": 4533,
    "start_time": "2022-11-05T19:57:54.774Z"
   },
   {
    "duration": 4878,
    "start_time": "2022-11-05T19:58:43.285Z"
   },
   {
    "duration": 4677,
    "start_time": "2022-11-05T19:59:09.747Z"
   },
   {
    "duration": 4871,
    "start_time": "2022-11-05T20:00:06.892Z"
   },
   {
    "duration": 38891,
    "start_time": "2022-11-05T20:00:36.826Z"
   },
   {
    "duration": 42552,
    "start_time": "2022-11-05T20:01:16.251Z"
   },
   {
    "duration": 49,
    "start_time": "2022-11-05T20:03:19.559Z"
   },
   {
    "duration": 42290,
    "start_time": "2022-11-05T20:03:26.662Z"
   },
   {
    "duration": 11162,
    "start_time": "2022-11-05T20:04:21.810Z"
   },
   {
    "duration": 653,
    "start_time": "2022-11-05T20:04:33.334Z"
   },
   {
    "duration": 0,
    "start_time": "2022-11-05T20:05:32.785Z"
   },
   {
    "duration": 328,
    "start_time": "2022-11-05T20:05:33.906Z"
   },
   {
    "duration": 425,
    "start_time": "2022-11-05T20:06:06.137Z"
   },
   {
    "duration": 319,
    "start_time": "2022-11-05T20:06:13.391Z"
   },
   {
    "duration": 32251,
    "start_time": "2022-11-05T20:06:27.910Z"
   },
   {
    "duration": 0,
    "start_time": "2022-11-05T20:07:21.860Z"
   },
   {
    "duration": 40858,
    "start_time": "2022-11-05T20:07:24.953Z"
   },
   {
    "duration": 40816,
    "start_time": "2022-11-05T20:08:33.197Z"
   },
   {
    "duration": 1388,
    "start_time": "2022-11-05T20:12:24.949Z"
   },
   {
    "duration": 6,
    "start_time": "2022-11-05T20:12:30.272Z"
   },
   {
    "duration": 9154,
    "start_time": "2022-11-05T20:12:32.956Z"
   },
   {
    "duration": 23,
    "start_time": "2022-11-05T20:15:04.940Z"
   },
   {
    "duration": 41382,
    "start_time": "2022-11-05T20:29:08.921Z"
   },
   {
    "duration": 47,
    "start_time": "2022-11-05T20:32:03.239Z"
   },
   {
    "duration": 0,
    "start_time": "2022-11-05T20:41:16.719Z"
   },
   {
    "duration": 0,
    "start_time": "2022-11-05T20:41:16.721Z"
   },
   {
    "duration": 54,
    "start_time": "2022-11-05T20:41:55.865Z"
   },
   {
    "duration": 4104,
    "start_time": "2022-11-05T20:42:30.232Z"
   },
   {
    "duration": 67,
    "start_time": "2022-11-05T20:43:37.979Z"
   },
   {
    "duration": 4064,
    "start_time": "2022-11-05T20:43:48.078Z"
   },
   {
    "duration": 3736,
    "start_time": "2022-11-05T20:44:13.390Z"
   },
   {
    "duration": 3804,
    "start_time": "2022-11-05T20:44:20.842Z"
   },
   {
    "duration": 3695,
    "start_time": "2022-11-05T20:44:34.552Z"
   },
   {
    "duration": 3825,
    "start_time": "2022-11-05T20:45:31.921Z"
   },
   {
    "duration": 3671,
    "start_time": "2022-11-05T20:45:44.571Z"
   },
   {
    "duration": 3659,
    "start_time": "2022-11-05T20:46:05.268Z"
   },
   {
    "duration": 45,
    "start_time": "2022-11-05T20:46:46.900Z"
   },
   {
    "duration": 11,
    "start_time": "2022-11-05T20:47:02.085Z"
   },
   {
    "duration": 4,
    "start_time": "2022-11-05T20:47:14.403Z"
   },
   {
    "duration": 10,
    "start_time": "2022-11-05T20:47:14.409Z"
   },
   {
    "duration": 11,
    "start_time": "2022-11-05T20:47:14.421Z"
   },
   {
    "duration": 15,
    "start_time": "2022-11-05T20:47:14.434Z"
   },
   {
    "duration": 61,
    "start_time": "2022-11-05T20:47:14.451Z"
   },
   {
    "duration": 691,
    "start_time": "2022-11-05T20:47:14.514Z"
   },
   {
    "duration": 1537,
    "start_time": "2022-11-05T20:47:15.206Z"
   },
   {
    "duration": 4,
    "start_time": "2022-11-05T20:47:16.744Z"
   },
   {
    "duration": 680,
    "start_time": "2022-11-05T20:47:16.750Z"
   },
   {
    "duration": 227,
    "start_time": "2022-11-05T20:47:17.432Z"
   },
   {
    "duration": 722,
    "start_time": "2022-11-05T20:47:17.660Z"
   },
   {
    "duration": 26,
    "start_time": "2022-11-05T20:47:18.383Z"
   },
   {
    "duration": 19,
    "start_time": "2022-11-05T20:47:18.411Z"
   },
   {
    "duration": 82,
    "start_time": "2022-11-05T20:47:18.432Z"
   },
   {
    "duration": 727,
    "start_time": "2022-11-05T20:47:18.515Z"
   },
   {
    "duration": 3,
    "start_time": "2022-11-05T20:47:19.244Z"
   },
   {
    "duration": 21,
    "start_time": "2022-11-05T20:47:19.248Z"
   },
   {
    "duration": 763,
    "start_time": "2022-11-05T20:47:19.271Z"
   },
   {
    "duration": 9,
    "start_time": "2022-11-05T20:47:20.036Z"
   },
   {
    "duration": 713,
    "start_time": "2022-11-05T20:47:20.047Z"
   },
   {
    "duration": 83,
    "start_time": "2022-11-05T20:47:20.762Z"
   },
   {
    "duration": 10,
    "start_time": "2022-11-05T20:47:20.847Z"
   },
   {
    "duration": 67,
    "start_time": "2022-11-05T20:47:20.859Z"
   },
   {
    "duration": 919,
    "start_time": "2022-11-05T20:47:20.930Z"
   },
   {
    "duration": 4,
    "start_time": "2022-11-05T20:47:21.850Z"
   },
   {
    "duration": 511,
    "start_time": "2022-11-05T20:47:21.855Z"
   },
   {
    "duration": 92,
    "start_time": "2022-11-05T20:47:22.368Z"
   },
   {
    "duration": 1771,
    "start_time": "2022-11-05T20:47:22.461Z"
   },
   {
    "duration": 41,
    "start_time": "2022-11-05T20:47:24.234Z"
   },
   {
    "duration": 3,
    "start_time": "2022-11-05T20:47:24.277Z"
   },
   {
    "duration": 7,
    "start_time": "2022-11-05T20:47:24.281Z"
   },
   {
    "duration": 8822,
    "start_time": "2022-11-05T20:47:24.289Z"
   },
   {
    "duration": 6,
    "start_time": "2022-11-05T20:47:33.114Z"
   },
   {
    "duration": 3840,
    "start_time": "2022-11-05T20:47:33.210Z"
   },
   {
    "duration": 4,
    "start_time": "2022-11-05T20:48:17.982Z"
   },
   {
    "duration": 14,
    "start_time": "2022-11-05T20:48:17.988Z"
   },
   {
    "duration": 10,
    "start_time": "2022-11-05T20:48:18.004Z"
   },
   {
    "duration": 9,
    "start_time": "2022-11-05T20:48:18.016Z"
   },
   {
    "duration": 13,
    "start_time": "2022-11-05T20:48:18.026Z"
   },
   {
    "duration": 694,
    "start_time": "2022-11-05T20:48:18.040Z"
   },
   {
    "duration": 1557,
    "start_time": "2022-11-05T20:48:18.735Z"
   },
   {
    "duration": 3,
    "start_time": "2022-11-05T20:48:20.294Z"
   },
   {
    "duration": 676,
    "start_time": "2022-11-05T20:48:20.299Z"
   },
   {
    "duration": 231,
    "start_time": "2022-11-05T20:48:20.977Z"
   },
   {
    "duration": 712,
    "start_time": "2022-11-05T20:48:21.210Z"
   },
   {
    "duration": 20,
    "start_time": "2022-11-05T20:48:21.923Z"
   },
   {
    "duration": 19,
    "start_time": "2022-11-05T20:48:21.945Z"
   },
   {
    "duration": 83,
    "start_time": "2022-11-05T20:48:21.965Z"
   },
   {
    "duration": 698,
    "start_time": "2022-11-05T20:48:22.049Z"
   },
   {
    "duration": 3,
    "start_time": "2022-11-05T20:48:22.748Z"
   },
   {
    "duration": 21,
    "start_time": "2022-11-05T20:48:22.752Z"
   },
   {
    "duration": 754,
    "start_time": "2022-11-05T20:48:22.775Z"
   },
   {
    "duration": 9,
    "start_time": "2022-11-05T20:48:23.531Z"
   },
   {
    "duration": 717,
    "start_time": "2022-11-05T20:48:23.541Z"
   },
   {
    "duration": 78,
    "start_time": "2022-11-05T20:48:24.260Z"
   },
   {
    "duration": 9,
    "start_time": "2022-11-05T20:48:24.340Z"
   },
   {
    "duration": 66,
    "start_time": "2022-11-05T20:48:24.351Z"
   },
   {
    "duration": 810,
    "start_time": "2022-11-05T20:48:24.421Z"
   },
   {
    "duration": 4,
    "start_time": "2022-11-05T20:48:25.233Z"
   },
   {
    "duration": 512,
    "start_time": "2022-11-05T20:48:25.239Z"
   },
   {
    "duration": 70,
    "start_time": "2022-11-05T20:48:25.753Z"
   },
   {
    "duration": 1890,
    "start_time": "2022-11-05T20:48:25.825Z"
   },
   {
    "duration": 47,
    "start_time": "2022-11-05T20:48:27.716Z"
   },
   {
    "duration": 3,
    "start_time": "2022-11-05T20:48:27.765Z"
   },
   {
    "duration": 19,
    "start_time": "2022-11-05T20:48:27.770Z"
   },
   {
    "duration": 8821,
    "start_time": "2022-11-05T20:48:27.791Z"
   },
   {
    "duration": 3,
    "start_time": "2022-11-05T20:48:36.614Z"
   },
   {
    "duration": 3920,
    "start_time": "2022-11-05T20:48:36.618Z"
   },
   {
    "duration": 3655,
    "start_time": "2022-11-05T20:48:40.540Z"
   },
   {
    "duration": 3624,
    "start_time": "2022-11-05T20:50:24.113Z"
   },
   {
    "duration": 16,
    "start_time": "2022-11-05T20:50:47.977Z"
   },
   {
    "duration": 3574,
    "start_time": "2022-11-05T20:50:58.057Z"
   },
   {
    "duration": 3861,
    "start_time": "2022-11-05T20:51:13.079Z"
   },
   {
    "duration": 11,
    "start_time": "2022-11-05T20:51:21.436Z"
   },
   {
    "duration": 3728,
    "start_time": "2022-11-05T20:56:07.388Z"
   },
   {
    "duration": 9,
    "start_time": "2022-11-05T21:58:05.735Z"
   },
   {
    "duration": 4,
    "start_time": "2022-11-05T21:58:09.878Z"
   },
   {
    "duration": 9,
    "start_time": "2022-11-05T22:03:45.407Z"
   },
   {
    "duration": 8829,
    "start_time": "2022-11-05T22:03:50.983Z"
   },
   {
    "duration": 8,
    "start_time": "2022-11-05T22:04:11.403Z"
   },
   {
    "duration": 8,
    "start_time": "2022-11-05T22:04:13.782Z"
   },
   {
    "duration": 1362,
    "start_time": "2022-11-05T22:04:56.148Z"
   },
   {
    "duration": 11,
    "start_time": "2022-11-05T22:05:12.023Z"
   },
   {
    "duration": 10,
    "start_time": "2022-11-05T22:06:08.368Z"
   },
   {
    "duration": 14,
    "start_time": "2022-11-05T22:06:27.520Z"
   },
   {
    "duration": 11,
    "start_time": "2022-11-05T22:06:46.040Z"
   },
   {
    "duration": 13,
    "start_time": "2022-11-05T22:07:14.058Z"
   },
   {
    "duration": 11,
    "start_time": "2022-11-05T22:07:16.707Z"
   },
   {
    "duration": 3,
    "start_time": "2022-11-05T22:07:27.691Z"
   },
   {
    "duration": 11,
    "start_time": "2022-11-05T22:07:29.802Z"
   },
   {
    "duration": 11,
    "start_time": "2022-11-05T22:09:13.524Z"
   },
   {
    "duration": 13,
    "start_time": "2022-11-05T22:09:30.302Z"
   },
   {
    "duration": 15,
    "start_time": "2022-11-05T22:12:14.945Z"
   },
   {
    "duration": 4,
    "start_time": "2022-11-05T22:12:27.944Z"
   },
   {
    "duration": 13,
    "start_time": "2022-11-05T22:12:30.686Z"
   },
   {
    "duration": 3776,
    "start_time": "2022-11-05T22:15:53.763Z"
   },
   {
    "duration": 14,
    "start_time": "2022-11-05T22:16:05.644Z"
   },
   {
    "duration": 3793,
    "start_time": "2022-11-05T22:18:52.139Z"
   },
   {
    "duration": 13,
    "start_time": "2022-11-05T22:19:02.558Z"
   },
   {
    "duration": 1361,
    "start_time": "2022-11-05T22:23:45.212Z"
   },
   {
    "duration": 2,
    "start_time": "2022-11-05T22:23:46.576Z"
   },
   {
    "duration": 19,
    "start_time": "2022-11-05T22:23:46.580Z"
   },
   {
    "duration": 13,
    "start_time": "2022-11-05T22:23:46.601Z"
   },
   {
    "duration": 8,
    "start_time": "2022-11-05T22:23:46.615Z"
   },
   {
    "duration": 767,
    "start_time": "2022-11-05T22:23:46.625Z"
   },
   {
    "duration": 1561,
    "start_time": "2022-11-05T22:23:47.394Z"
   },
   {
    "duration": 3,
    "start_time": "2022-11-05T22:23:48.957Z"
   },
   {
    "duration": 668,
    "start_time": "2022-11-05T22:23:48.962Z"
   },
   {
    "duration": 296,
    "start_time": "2022-11-05T22:23:49.633Z"
   },
   {
    "duration": 795,
    "start_time": "2022-11-05T22:23:49.931Z"
   },
   {
    "duration": 19,
    "start_time": "2022-11-05T22:23:50.728Z"
   },
   {
    "duration": 25,
    "start_time": "2022-11-05T22:23:50.749Z"
   },
   {
    "duration": 87,
    "start_time": "2022-11-05T22:23:50.775Z"
   },
   {
    "duration": 720,
    "start_time": "2022-11-05T22:23:50.863Z"
   },
   {
    "duration": 3,
    "start_time": "2022-11-05T22:23:51.584Z"
   },
   {
    "duration": 27,
    "start_time": "2022-11-05T22:23:51.588Z"
   },
   {
    "duration": 634,
    "start_time": "2022-11-05T22:23:51.616Z"
   },
   {
    "duration": 8,
    "start_time": "2022-11-05T22:23:52.252Z"
   },
   {
    "duration": 798,
    "start_time": "2022-11-05T22:23:52.261Z"
   },
   {
    "duration": 81,
    "start_time": "2022-11-05T22:23:53.061Z"
   },
   {
    "duration": 10,
    "start_time": "2022-11-05T22:23:53.144Z"
   },
   {
    "duration": 65,
    "start_time": "2022-11-05T22:23:53.156Z"
   },
   {
    "duration": 791,
    "start_time": "2022-11-05T22:23:53.223Z"
   },
   {
    "duration": 4,
    "start_time": "2022-11-05T22:23:54.016Z"
   },
   {
    "duration": 506,
    "start_time": "2022-11-05T22:23:54.022Z"
   },
   {
    "duration": 86,
    "start_time": "2022-11-05T22:23:54.530Z"
   },
   {
    "duration": 1834,
    "start_time": "2022-11-05T22:23:54.621Z"
   },
   {
    "duration": 59,
    "start_time": "2022-11-05T22:23:56.457Z"
   },
   {
    "duration": 4,
    "start_time": "2022-11-05T22:23:56.518Z"
   },
   {
    "duration": 14,
    "start_time": "2022-11-05T22:23:56.524Z"
   },
   {
    "duration": 11,
    "start_time": "2022-11-05T22:23:56.539Z"
   },
   {
    "duration": 961,
    "start_time": "2022-11-05T22:23:56.552Z"
   },
   {
    "duration": 100,
    "start_time": "2022-11-05T22:23:57.515Z"
   },
   {
    "duration": 3897,
    "start_time": "2022-11-05T22:23:57.617Z"
   },
   {
    "duration": 6,
    "start_time": "2022-11-05T22:24:01.516Z"
   },
   {
    "duration": 4007,
    "start_time": "2022-11-05T22:24:01.525Z"
   },
   {
    "duration": 6,
    "start_time": "2022-11-05T22:24:05.534Z"
   },
   {
    "duration": 13,
    "start_time": "2022-11-05T22:24:05.542Z"
   },
   {
    "duration": 1277,
    "start_time": "2022-11-05T22:24:32.765Z"
   },
   {
    "duration": 2,
    "start_time": "2022-11-05T22:24:34.044Z"
   },
   {
    "duration": 3,
    "start_time": "2022-11-05T22:24:34.051Z"
   },
   {
    "duration": 6,
    "start_time": "2022-11-05T22:24:34.056Z"
   },
   {
    "duration": 8,
    "start_time": "2022-11-05T22:24:34.064Z"
   },
   {
    "duration": 787,
    "start_time": "2022-11-05T22:24:34.073Z"
   },
   {
    "duration": 1575,
    "start_time": "2022-11-05T22:24:34.862Z"
   },
   {
    "duration": 4,
    "start_time": "2022-11-05T22:24:36.439Z"
   },
   {
    "duration": 713,
    "start_time": "2022-11-05T22:24:36.447Z"
   },
   {
    "duration": 281,
    "start_time": "2022-11-05T22:24:37.161Z"
   },
   {
    "duration": 806,
    "start_time": "2022-11-05T22:24:37.444Z"
   },
   {
    "duration": 19,
    "start_time": "2022-11-05T22:24:38.252Z"
   },
   {
    "duration": 47,
    "start_time": "2022-11-05T22:24:38.272Z"
   },
   {
    "duration": 69,
    "start_time": "2022-11-05T22:24:38.320Z"
   },
   {
    "duration": 709,
    "start_time": "2022-11-05T22:24:38.391Z"
   },
   {
    "duration": 7,
    "start_time": "2022-11-05T22:24:39.102Z"
   },
   {
    "duration": 16,
    "start_time": "2022-11-05T22:24:39.110Z"
   },
   {
    "duration": 637,
    "start_time": "2022-11-05T22:24:39.128Z"
   },
   {
    "duration": 9,
    "start_time": "2022-11-05T22:24:39.767Z"
   },
   {
    "duration": 814,
    "start_time": "2022-11-05T22:24:39.777Z"
   },
   {
    "duration": 79,
    "start_time": "2022-11-05T22:24:40.593Z"
   },
   {
    "duration": 9,
    "start_time": "2022-11-05T22:24:40.673Z"
   },
   {
    "duration": 65,
    "start_time": "2022-11-05T22:24:40.684Z"
   },
   {
    "duration": 792,
    "start_time": "2022-11-05T22:24:40.751Z"
   },
   {
    "duration": 4,
    "start_time": "2022-11-05T22:24:41.545Z"
   },
   {
    "duration": 498,
    "start_time": "2022-11-05T22:24:41.550Z"
   },
   {
    "duration": 83,
    "start_time": "2022-11-05T22:24:42.051Z"
   },
   {
    "duration": 1801,
    "start_time": "2022-11-05T22:24:42.135Z"
   },
   {
    "duration": 49,
    "start_time": "2022-11-05T22:24:43.938Z"
   },
   {
    "duration": 4,
    "start_time": "2022-11-05T22:24:43.989Z"
   },
   {
    "duration": 16,
    "start_time": "2022-11-05T22:24:43.994Z"
   },
   {
    "duration": 14,
    "start_time": "2022-11-05T22:24:44.011Z"
   },
   {
    "duration": 983,
    "start_time": "2022-11-05T22:24:44.027Z"
   },
   {
    "duration": 98,
    "start_time": "2022-11-05T22:24:45.011Z"
   },
   {
    "duration": 3803,
    "start_time": "2022-11-05T22:24:45.111Z"
   },
   {
    "duration": 94,
    "start_time": "2022-11-05T22:24:48.916Z"
   },
   {
    "duration": 3862,
    "start_time": "2022-11-05T22:24:49.012Z"
   },
   {
    "duration": 7,
    "start_time": "2022-11-05T22:24:52.876Z"
   },
   {
    "duration": 15,
    "start_time": "2022-11-05T22:24:52.884Z"
   },
   {
    "duration": 1364,
    "start_time": "2022-11-05T22:27:39.010Z"
   },
   {
    "duration": 3,
    "start_time": "2022-11-05T22:27:40.376Z"
   },
   {
    "duration": 5,
    "start_time": "2022-11-05T22:27:40.381Z"
   },
   {
    "duration": 8,
    "start_time": "2022-11-05T22:27:40.389Z"
   },
   {
    "duration": 13,
    "start_time": "2022-11-05T22:27:40.408Z"
   },
   {
    "duration": 810,
    "start_time": "2022-11-05T22:27:40.422Z"
   },
   {
    "duration": 1556,
    "start_time": "2022-11-05T22:27:41.233Z"
   },
   {
    "duration": 4,
    "start_time": "2022-11-05T22:27:42.791Z"
   },
   {
    "duration": 672,
    "start_time": "2022-11-05T22:27:42.797Z"
   },
   {
    "duration": 297,
    "start_time": "2022-11-05T22:27:43.472Z"
   },
   {
    "duration": 802,
    "start_time": "2022-11-05T22:27:43.771Z"
   },
   {
    "duration": 19,
    "start_time": "2022-11-05T22:27:44.575Z"
   },
   {
    "duration": 33,
    "start_time": "2022-11-05T22:27:44.596Z"
   },
   {
    "duration": 68,
    "start_time": "2022-11-05T22:27:44.631Z"
   },
   {
    "duration": 715,
    "start_time": "2022-11-05T22:27:44.708Z"
   },
   {
    "duration": 3,
    "start_time": "2022-11-05T22:27:45.424Z"
   },
   {
    "duration": 28,
    "start_time": "2022-11-05T22:27:45.428Z"
   },
   {
    "duration": 632,
    "start_time": "2022-11-05T22:27:45.458Z"
   },
   {
    "duration": 17,
    "start_time": "2022-11-05T22:27:46.092Z"
   },
   {
    "duration": 795,
    "start_time": "2022-11-05T22:27:46.110Z"
   },
   {
    "duration": 76,
    "start_time": "2022-11-05T22:27:46.906Z"
   },
   {
    "duration": 8,
    "start_time": "2022-11-05T22:27:46.984Z"
   },
   {
    "duration": 50,
    "start_time": "2022-11-05T22:27:47.008Z"
   },
   {
    "duration": 797,
    "start_time": "2022-11-05T22:27:47.060Z"
   },
   {
    "duration": 3,
    "start_time": "2022-11-05T22:27:47.859Z"
   },
   {
    "duration": 490,
    "start_time": "2022-11-05T22:27:47.863Z"
   },
   {
    "duration": 83,
    "start_time": "2022-11-05T22:27:48.355Z"
   },
   {
    "duration": 1811,
    "start_time": "2022-11-05T22:27:48.442Z"
   },
   {
    "duration": 46,
    "start_time": "2022-11-05T22:27:50.254Z"
   },
   {
    "duration": 4,
    "start_time": "2022-11-05T22:27:50.309Z"
   },
   {
    "duration": 7,
    "start_time": "2022-11-05T22:27:50.314Z"
   },
   {
    "duration": 5,
    "start_time": "2022-11-05T22:27:50.322Z"
   },
   {
    "duration": 949,
    "start_time": "2022-11-05T22:27:50.328Z"
   },
   {
    "duration": 38,
    "start_time": "2022-11-05T22:27:51.279Z"
   },
   {
    "duration": 3793,
    "start_time": "2022-11-05T22:27:51.319Z"
   },
   {
    "duration": 94,
    "start_time": "2022-11-05T22:27:55.115Z"
   },
   {
    "duration": 3852,
    "start_time": "2022-11-05T22:27:55.211Z"
   },
   {
    "duration": 7,
    "start_time": "2022-11-05T22:27:59.065Z"
   },
   {
    "duration": 12,
    "start_time": "2022-11-05T22:27:59.074Z"
   },
   {
    "duration": 1317,
    "start_time": "2022-11-05T22:32:19.121Z"
   },
   {
    "duration": 3,
    "start_time": "2022-11-05T22:32:20.440Z"
   },
   {
    "duration": 8,
    "start_time": "2022-11-05T22:32:20.444Z"
   },
   {
    "duration": 6,
    "start_time": "2022-11-05T22:32:20.454Z"
   },
   {
    "duration": 8,
    "start_time": "2022-11-05T22:32:20.462Z"
   },
   {
    "duration": 760,
    "start_time": "2022-11-05T22:32:20.471Z"
   },
   {
    "duration": 1504,
    "start_time": "2022-11-05T22:32:21.233Z"
   },
   {
    "duration": 4,
    "start_time": "2022-11-05T22:32:22.738Z"
   },
   {
    "duration": 669,
    "start_time": "2022-11-05T22:32:22.743Z"
   },
   {
    "duration": 286,
    "start_time": "2022-11-05T22:32:23.415Z"
   },
   {
    "duration": 803,
    "start_time": "2022-11-05T22:32:23.702Z"
   },
   {
    "duration": 21,
    "start_time": "2022-11-05T22:32:24.506Z"
   },
   {
    "duration": 27,
    "start_time": "2022-11-05T22:32:24.528Z"
   },
   {
    "duration": 81,
    "start_time": "2022-11-05T22:32:24.557Z"
   },
   {
    "duration": 718,
    "start_time": "2022-11-05T22:32:24.640Z"
   },
   {
    "duration": 3,
    "start_time": "2022-11-05T22:32:25.359Z"
   },
   {
    "duration": 19,
    "start_time": "2022-11-05T22:32:25.364Z"
   },
   {
    "duration": 634,
    "start_time": "2022-11-05T22:32:25.385Z"
   },
   {
    "duration": 11,
    "start_time": "2022-11-05T22:32:26.020Z"
   },
   {
    "duration": 833,
    "start_time": "2022-11-05T22:32:26.032Z"
   },
   {
    "duration": 79,
    "start_time": "2022-11-05T22:32:26.866Z"
   },
   {
    "duration": 10,
    "start_time": "2022-11-05T22:32:26.947Z"
   },
   {
    "duration": 71,
    "start_time": "2022-11-05T22:32:26.958Z"
   },
   {
    "duration": 796,
    "start_time": "2022-11-05T22:32:27.031Z"
   },
   {
    "duration": 3,
    "start_time": "2022-11-05T22:32:27.829Z"
   },
   {
    "duration": 512,
    "start_time": "2022-11-05T22:32:27.834Z"
   },
   {
    "duration": 83,
    "start_time": "2022-11-05T22:32:28.348Z"
   },
   {
    "duration": 1818,
    "start_time": "2022-11-05T22:32:28.435Z"
   },
   {
    "duration": 58,
    "start_time": "2022-11-05T22:32:30.254Z"
   },
   {
    "duration": 4,
    "start_time": "2022-11-05T22:32:30.313Z"
   },
   {
    "duration": 17,
    "start_time": "2022-11-05T22:32:30.319Z"
   },
   {
    "duration": 40,
    "start_time": "2022-11-05T22:32:30.338Z"
   },
   {
    "duration": 1031,
    "start_time": "2022-11-05T22:32:30.380Z"
   },
   {
    "duration": 96,
    "start_time": "2022-11-05T22:32:31.413Z"
   },
   {
    "duration": 3808,
    "start_time": "2022-11-05T22:32:31.511Z"
   },
   {
    "duration": 7,
    "start_time": "2022-11-05T22:32:35.410Z"
   },
   {
    "duration": 3887,
    "start_time": "2022-11-05T22:32:35.419Z"
   },
   {
    "duration": 7,
    "start_time": "2022-11-05T22:32:39.308Z"
   },
   {
    "duration": 13,
    "start_time": "2022-11-05T22:32:39.316Z"
   },
   {
    "duration": 173,
    "start_time": "2022-11-05T22:38:13.175Z"
   },
   {
    "duration": 1592,
    "start_time": "2022-11-05T22:38:30.018Z"
   },
   {
    "duration": 1603,
    "start_time": "2022-11-05T22:38:46.725Z"
   },
   {
    "duration": 1544,
    "start_time": "2022-11-05T22:40:22.565Z"
   },
   {
    "duration": 5,
    "start_time": "2022-11-05T22:49:20.306Z"
   },
   {
    "duration": 1606,
    "start_time": "2022-11-05T22:49:20.313Z"
   },
   {
    "duration": 4,
    "start_time": "2022-11-05T22:49:54.960Z"
   },
   {
    "duration": 15,
    "start_time": "2022-11-05T22:49:54.966Z"
   },
   {
    "duration": 10,
    "start_time": "2022-11-05T22:49:54.982Z"
   },
   {
    "duration": 12,
    "start_time": "2022-11-05T22:49:54.994Z"
   },
   {
    "duration": 24,
    "start_time": "2022-11-05T22:49:55.007Z"
   },
   {
    "duration": 768,
    "start_time": "2022-11-05T22:49:55.033Z"
   },
   {
    "duration": 1591,
    "start_time": "2022-11-05T22:49:55.803Z"
   },
   {
    "duration": 3,
    "start_time": "2022-11-05T22:49:57.396Z"
   },
   {
    "duration": 663,
    "start_time": "2022-11-05T22:49:57.401Z"
   },
   {
    "duration": 228,
    "start_time": "2022-11-05T22:49:58.067Z"
   },
   {
    "duration": 715,
    "start_time": "2022-11-05T22:49:58.296Z"
   },
   {
    "duration": 20,
    "start_time": "2022-11-05T22:49:59.013Z"
   },
   {
    "duration": 20,
    "start_time": "2022-11-05T22:49:59.034Z"
   },
   {
    "duration": 88,
    "start_time": "2022-11-05T22:49:59.056Z"
   },
   {
    "duration": 734,
    "start_time": "2022-11-05T22:49:59.146Z"
   },
   {
    "duration": 3,
    "start_time": "2022-11-05T22:49:59.881Z"
   },
   {
    "duration": 24,
    "start_time": "2022-11-05T22:49:59.885Z"
   },
   {
    "duration": 628,
    "start_time": "2022-11-05T22:49:59.910Z"
   },
   {
    "duration": 8,
    "start_time": "2022-11-05T22:50:00.540Z"
   },
   {
    "duration": 858,
    "start_time": "2022-11-05T22:50:00.549Z"
   },
   {
    "duration": 73,
    "start_time": "2022-11-05T22:50:01.408Z"
   },
   {
    "duration": 28,
    "start_time": "2022-11-05T22:50:01.483Z"
   },
   {
    "duration": 60,
    "start_time": "2022-11-05T22:50:01.513Z"
   },
   {
    "duration": 812,
    "start_time": "2022-11-05T22:50:01.575Z"
   },
   {
    "duration": 3,
    "start_time": "2022-11-05T22:50:02.389Z"
   },
   {
    "duration": 501,
    "start_time": "2022-11-05T22:50:02.394Z"
   },
   {
    "duration": 90,
    "start_time": "2022-11-05T22:50:02.896Z"
   },
   {
    "duration": 1855,
    "start_time": "2022-11-05T22:50:02.989Z"
   },
   {
    "duration": 41,
    "start_time": "2022-11-05T22:50:04.845Z"
   },
   {
    "duration": 3,
    "start_time": "2022-11-05T22:50:04.888Z"
   },
   {
    "duration": 18,
    "start_time": "2022-11-05T22:50:04.892Z"
   },
   {
    "duration": 8,
    "start_time": "2022-11-05T22:50:04.911Z"
   },
   {
    "duration": 995,
    "start_time": "2022-11-05T22:50:04.921Z"
   },
   {
    "duration": 96,
    "start_time": "2022-11-05T22:50:05.918Z"
   },
   {
    "duration": 3726,
    "start_time": "2022-11-05T22:50:06.016Z"
   },
   {
    "duration": 6,
    "start_time": "2022-11-05T22:50:09.744Z"
   },
   {
    "duration": 3863,
    "start_time": "2022-11-05T22:50:09.752Z"
   },
   {
    "duration": 6,
    "start_time": "2022-11-05T22:50:13.617Z"
   },
   {
    "duration": 9,
    "start_time": "2022-11-05T22:50:13.624Z"
   },
   {
    "duration": 7,
    "start_time": "2022-11-05T22:51:42.634Z"
   },
   {
    "duration": 46,
    "start_time": "2022-11-05T23:05:07.421Z"
   },
   {
    "duration": 11,
    "start_time": "2022-11-05T23:05:34.616Z"
   },
   {
    "duration": 1361,
    "start_time": "2022-11-05T23:05:44.185Z"
   },
   {
    "duration": 3,
    "start_time": "2022-11-05T23:05:45.548Z"
   },
   {
    "duration": 8,
    "start_time": "2022-11-05T23:05:45.552Z"
   },
   {
    "duration": 7,
    "start_time": "2022-11-05T23:05:45.561Z"
   },
   {
    "duration": 7,
    "start_time": "2022-11-05T23:05:45.570Z"
   },
   {
    "duration": 771,
    "start_time": "2022-11-05T23:05:45.579Z"
   },
   {
    "duration": 1511,
    "start_time": "2022-11-05T23:05:46.351Z"
   },
   {
    "duration": 3,
    "start_time": "2022-11-05T23:05:47.863Z"
   },
   {
    "duration": 651,
    "start_time": "2022-11-05T23:05:47.868Z"
   },
   {
    "duration": 275,
    "start_time": "2022-11-05T23:05:48.521Z"
   },
   {
    "duration": 806,
    "start_time": "2022-11-05T23:05:48.798Z"
   },
   {
    "duration": 18,
    "start_time": "2022-11-05T23:05:49.609Z"
   },
   {
    "duration": 22,
    "start_time": "2022-11-05T23:05:49.629Z"
   },
   {
    "duration": 77,
    "start_time": "2022-11-05T23:05:49.653Z"
   },
   {
    "duration": 708,
    "start_time": "2022-11-05T23:05:49.732Z"
   },
   {
    "duration": 3,
    "start_time": "2022-11-05T23:05:50.442Z"
   },
   {
    "duration": 27,
    "start_time": "2022-11-05T23:05:50.446Z"
   },
   {
    "duration": 651,
    "start_time": "2022-11-05T23:05:50.475Z"
   },
   {
    "duration": 9,
    "start_time": "2022-11-05T23:05:51.127Z"
   },
   {
    "duration": 844,
    "start_time": "2022-11-05T23:05:51.137Z"
   },
   {
    "duration": 78,
    "start_time": "2022-11-05T23:05:51.983Z"
   },
   {
    "duration": 11,
    "start_time": "2022-11-05T23:05:52.063Z"
   },
   {
    "duration": 74,
    "start_time": "2022-11-05T23:05:52.075Z"
   },
   {
    "duration": 780,
    "start_time": "2022-11-05T23:05:52.151Z"
   },
   {
    "duration": 4,
    "start_time": "2022-11-05T23:05:52.933Z"
   },
   {
    "duration": 496,
    "start_time": "2022-11-05T23:05:52.939Z"
   },
   {
    "duration": 85,
    "start_time": "2022-11-05T23:05:53.437Z"
   },
   {
    "duration": 1821,
    "start_time": "2022-11-05T23:05:53.525Z"
   },
   {
    "duration": 62,
    "start_time": "2022-11-05T23:05:55.347Z"
   },
   {
    "duration": 3,
    "start_time": "2022-11-05T23:05:55.411Z"
   },
   {
    "duration": 5,
    "start_time": "2022-11-05T23:05:55.415Z"
   },
   {
    "duration": 5,
    "start_time": "2022-11-05T23:05:55.422Z"
   },
   {
    "duration": 982,
    "start_time": "2022-11-05T23:05:55.428Z"
   },
   {
    "duration": 98,
    "start_time": "2022-11-05T23:05:56.412Z"
   },
   {
    "duration": 4000,
    "start_time": "2022-11-05T23:05:56.512Z"
   },
   {
    "duration": 7,
    "start_time": "2022-11-05T23:06:00.516Z"
   },
   {
    "duration": 4693,
    "start_time": "2022-11-05T23:06:00.524Z"
   },
   {
    "duration": 8,
    "start_time": "2022-11-05T23:06:05.218Z"
   },
   {
    "duration": 11,
    "start_time": "2022-11-05T23:06:05.227Z"
   },
   {
    "duration": 6,
    "start_time": "2022-11-05T23:06:05.240Z"
   },
   {
    "duration": 1865,
    "start_time": "2022-11-05T23:06:05.247Z"
   },
   {
    "duration": 0,
    "start_time": "2022-11-05T23:06:07.113Z"
   },
   {
    "duration": 1683,
    "start_time": "2022-11-05T23:06:16.759Z"
   },
   {
    "duration": 11,
    "start_time": "2022-11-05T23:08:38.005Z"
   },
   {
    "duration": 3981,
    "start_time": "2022-11-05T23:08:56.690Z"
   },
   {
    "duration": 1274,
    "start_time": "2022-11-05T23:09:10.558Z"
   },
   {
    "duration": 2,
    "start_time": "2022-11-05T23:09:11.834Z"
   },
   {
    "duration": 6,
    "start_time": "2022-11-05T23:09:11.838Z"
   },
   {
    "duration": 6,
    "start_time": "2022-11-05T23:09:11.846Z"
   },
   {
    "duration": 11,
    "start_time": "2022-11-05T23:09:11.853Z"
   },
   {
    "duration": 759,
    "start_time": "2022-11-05T23:09:11.865Z"
   },
   {
    "duration": 1549,
    "start_time": "2022-11-05T23:09:12.625Z"
   },
   {
    "duration": 4,
    "start_time": "2022-11-05T23:09:14.176Z"
   },
   {
    "duration": 683,
    "start_time": "2022-11-05T23:09:14.181Z"
   },
   {
    "duration": 293,
    "start_time": "2022-11-05T23:09:14.868Z"
   },
   {
    "duration": 802,
    "start_time": "2022-11-05T23:09:15.162Z"
   },
   {
    "duration": 21,
    "start_time": "2022-11-05T23:09:15.965Z"
   },
   {
    "duration": 37,
    "start_time": "2022-11-05T23:09:15.988Z"
   },
   {
    "duration": 70,
    "start_time": "2022-11-05T23:09:16.026Z"
   },
   {
    "duration": 728,
    "start_time": "2022-11-05T23:09:16.098Z"
   },
   {
    "duration": 3,
    "start_time": "2022-11-05T23:09:16.827Z"
   },
   {
    "duration": 19,
    "start_time": "2022-11-05T23:09:16.832Z"
   },
   {
    "duration": 632,
    "start_time": "2022-11-05T23:09:16.852Z"
   },
   {
    "duration": 9,
    "start_time": "2022-11-05T23:09:17.485Z"
   },
   {
    "duration": 811,
    "start_time": "2022-11-05T23:09:17.496Z"
   },
   {
    "duration": 70,
    "start_time": "2022-11-05T23:09:18.309Z"
   },
   {
    "duration": 28,
    "start_time": "2022-11-05T23:09:18.381Z"
   },
   {
    "duration": 51,
    "start_time": "2022-11-05T23:09:18.410Z"
   },
   {
    "duration": 792,
    "start_time": "2022-11-05T23:09:18.462Z"
   },
   {
    "duration": 4,
    "start_time": "2022-11-05T23:09:19.255Z"
   },
   {
    "duration": 502,
    "start_time": "2022-11-05T23:09:19.261Z"
   },
   {
    "duration": 83,
    "start_time": "2022-11-05T23:09:19.765Z"
   },
   {
    "duration": 1767,
    "start_time": "2022-11-05T23:09:19.853Z"
   },
   {
    "duration": 47,
    "start_time": "2022-11-05T23:09:21.621Z"
   },
   {
    "duration": 4,
    "start_time": "2022-11-05T23:09:21.669Z"
   },
   {
    "duration": 5,
    "start_time": "2022-11-05T23:09:21.674Z"
   },
   {
    "duration": 5,
    "start_time": "2022-11-05T23:09:21.680Z"
   },
   {
    "duration": 1024,
    "start_time": "2022-11-05T23:09:21.686Z"
   },
   {
    "duration": 98,
    "start_time": "2022-11-05T23:09:22.712Z"
   },
   {
    "duration": 3931,
    "start_time": "2022-11-05T23:09:22.812Z"
   },
   {
    "duration": 6,
    "start_time": "2022-11-05T23:09:26.744Z"
   },
   {
    "duration": 4189,
    "start_time": "2022-11-05T23:09:26.752Z"
   },
   {
    "duration": 7,
    "start_time": "2022-11-05T23:09:30.943Z"
   },
   {
    "duration": 18,
    "start_time": "2022-11-05T23:09:30.952Z"
   },
   {
    "duration": 16,
    "start_time": "2022-11-05T23:09:30.972Z"
   },
   {
    "duration": 1687,
    "start_time": "2022-11-05T23:09:30.990Z"
   },
   {
    "duration": 1,
    "start_time": "2022-11-05T23:09:32.678Z"
   },
   {
    "duration": 3795,
    "start_time": "2022-11-05T23:12:44.214Z"
   },
   {
    "duration": 4205,
    "start_time": "2022-11-05T23:15:52.324Z"
   },
   {
    "duration": 3620,
    "start_time": "2022-11-05T23:16:11.625Z"
   },
   {
    "duration": 3755,
    "start_time": "2022-11-05T23:16:24.992Z"
   },
   {
    "duration": 3694,
    "start_time": "2022-11-05T23:19:32.647Z"
   },
   {
    "duration": 8,
    "start_time": "2022-11-05T23:19:53.797Z"
   },
   {
    "duration": 1329,
    "start_time": "2022-11-05T23:20:18.313Z"
   },
   {
    "duration": 3,
    "start_time": "2022-11-05T23:20:19.643Z"
   },
   {
    "duration": 6,
    "start_time": "2022-11-05T23:20:19.648Z"
   },
   {
    "duration": 5,
    "start_time": "2022-11-05T23:20:19.656Z"
   },
   {
    "duration": 10,
    "start_time": "2022-11-05T23:20:19.663Z"
   },
   {
    "duration": 752,
    "start_time": "2022-11-05T23:20:19.674Z"
   },
   {
    "duration": 1508,
    "start_time": "2022-11-05T23:20:20.427Z"
   },
   {
    "duration": 3,
    "start_time": "2022-11-05T23:20:21.937Z"
   },
   {
    "duration": 638,
    "start_time": "2022-11-05T23:20:21.942Z"
   },
   {
    "duration": 289,
    "start_time": "2022-11-05T23:20:22.583Z"
   },
   {
    "duration": 791,
    "start_time": "2022-11-05T23:20:22.874Z"
   },
   {
    "duration": 18,
    "start_time": "2022-11-05T23:20:23.667Z"
   },
   {
    "duration": 31,
    "start_time": "2022-11-05T23:20:23.687Z"
   },
   {
    "duration": 66,
    "start_time": "2022-11-05T23:20:23.720Z"
   },
   {
    "duration": 723,
    "start_time": "2022-11-05T23:20:23.787Z"
   },
   {
    "duration": 3,
    "start_time": "2022-11-05T23:20:24.511Z"
   },
   {
    "duration": 22,
    "start_time": "2022-11-05T23:20:24.515Z"
   },
   {
    "duration": 635,
    "start_time": "2022-11-05T23:20:24.539Z"
   },
   {
    "duration": 9,
    "start_time": "2022-11-05T23:20:25.175Z"
   },
   {
    "duration": 824,
    "start_time": "2022-11-05T23:20:25.185Z"
   },
   {
    "duration": 71,
    "start_time": "2022-11-05T23:20:26.010Z"
   },
   {
    "duration": 9,
    "start_time": "2022-11-05T23:20:26.083Z"
   },
   {
    "duration": 66,
    "start_time": "2022-11-05T23:20:26.093Z"
   },
   {
    "duration": 824,
    "start_time": "2022-11-05T23:20:26.160Z"
   },
   {
    "duration": 3,
    "start_time": "2022-11-05T23:20:26.986Z"
   },
   {
    "duration": 492,
    "start_time": "2022-11-05T23:20:26.991Z"
   },
   {
    "duration": 80,
    "start_time": "2022-11-05T23:20:27.485Z"
   },
   {
    "duration": 1739,
    "start_time": "2022-11-05T23:20:27.569Z"
   },
   {
    "duration": 47,
    "start_time": "2022-11-05T23:20:29.310Z"
   },
   {
    "duration": 3,
    "start_time": "2022-11-05T23:20:29.359Z"
   },
   {
    "duration": 14,
    "start_time": "2022-11-05T23:20:29.364Z"
   },
   {
    "duration": 18,
    "start_time": "2022-11-05T23:20:29.379Z"
   },
   {
    "duration": 1012,
    "start_time": "2022-11-05T23:20:29.398Z"
   },
   {
    "duration": 93,
    "start_time": "2022-11-05T23:20:30.416Z"
   },
   {
    "duration": 134,
    "start_time": "2022-11-05T23:20:30.511Z"
   },
   {
    "duration": 0,
    "start_time": "2022-11-05T23:20:30.646Z"
   },
   {
    "duration": 0,
    "start_time": "2022-11-05T23:20:30.647Z"
   },
   {
    "duration": 0,
    "start_time": "2022-11-05T23:20:30.649Z"
   },
   {
    "duration": 0,
    "start_time": "2022-11-05T23:20:30.650Z"
   },
   {
    "duration": 0,
    "start_time": "2022-11-05T23:20:30.650Z"
   },
   {
    "duration": 0,
    "start_time": "2022-11-05T23:20:30.652Z"
   },
   {
    "duration": 0,
    "start_time": "2022-11-05T23:20:30.653Z"
   },
   {
    "duration": 3806,
    "start_time": "2022-11-05T23:21:22.403Z"
   },
   {
    "duration": 1336,
    "start_time": "2022-11-05T23:21:32.497Z"
   },
   {
    "duration": 3,
    "start_time": "2022-11-05T23:21:33.835Z"
   },
   {
    "duration": 26,
    "start_time": "2022-11-05T23:21:33.839Z"
   },
   {
    "duration": 16,
    "start_time": "2022-11-05T23:21:33.868Z"
   },
   {
    "duration": 26,
    "start_time": "2022-11-05T23:21:33.886Z"
   },
   {
    "duration": 793,
    "start_time": "2022-11-05T23:21:33.913Z"
   },
   {
    "duration": 1550,
    "start_time": "2022-11-05T23:21:34.708Z"
   },
   {
    "duration": 3,
    "start_time": "2022-11-05T23:21:36.260Z"
   },
   {
    "duration": 673,
    "start_time": "2022-11-05T23:21:36.264Z"
   },
   {
    "duration": 287,
    "start_time": "2022-11-05T23:21:36.939Z"
   },
   {
    "duration": 783,
    "start_time": "2022-11-05T23:21:37.227Z"
   },
   {
    "duration": 20,
    "start_time": "2022-11-05T23:21:38.012Z"
   },
   {
    "duration": 23,
    "start_time": "2022-11-05T23:21:38.033Z"
   },
   {
    "duration": 88,
    "start_time": "2022-11-05T23:21:38.058Z"
   },
   {
    "duration": 711,
    "start_time": "2022-11-05T23:21:38.147Z"
   },
   {
    "duration": 2,
    "start_time": "2022-11-05T23:21:38.859Z"
   },
   {
    "duration": 16,
    "start_time": "2022-11-05T23:21:38.863Z"
   },
   {
    "duration": 629,
    "start_time": "2022-11-05T23:21:38.880Z"
   },
   {
    "duration": 9,
    "start_time": "2022-11-05T23:21:39.510Z"
   },
   {
    "duration": 794,
    "start_time": "2022-11-05T23:21:39.521Z"
   },
   {
    "duration": 71,
    "start_time": "2022-11-05T23:21:40.317Z"
   },
   {
    "duration": 23,
    "start_time": "2022-11-05T23:21:40.389Z"
   },
   {
    "duration": 53,
    "start_time": "2022-11-05T23:21:40.414Z"
   },
   {
    "duration": 788,
    "start_time": "2022-11-05T23:21:40.469Z"
   },
   {
    "duration": 3,
    "start_time": "2022-11-05T23:21:41.259Z"
   },
   {
    "duration": 502,
    "start_time": "2022-11-05T23:21:41.264Z"
   },
   {
    "duration": 82,
    "start_time": "2022-11-05T23:21:41.767Z"
   },
   {
    "duration": 1792,
    "start_time": "2022-11-05T23:21:41.852Z"
   },
   {
    "duration": 50,
    "start_time": "2022-11-05T23:21:43.645Z"
   },
   {
    "duration": 13,
    "start_time": "2022-11-05T23:21:43.697Z"
   },
   {
    "duration": 6,
    "start_time": "2022-11-05T23:21:43.711Z"
   },
   {
    "duration": 5,
    "start_time": "2022-11-05T23:21:43.719Z"
   },
   {
    "duration": 1091,
    "start_time": "2022-11-05T23:21:43.725Z"
   },
   {
    "duration": 93,
    "start_time": "2022-11-05T23:21:44.821Z"
   },
   {
    "duration": 3899,
    "start_time": "2022-11-05T23:21:44.915Z"
   },
   {
    "duration": 6,
    "start_time": "2022-11-05T23:21:48.818Z"
   },
   {
    "duration": 4026,
    "start_time": "2022-11-05T23:21:48.911Z"
   },
   {
    "duration": 6,
    "start_time": "2022-11-05T23:21:52.938Z"
   },
   {
    "duration": 12,
    "start_time": "2022-11-05T23:21:52.945Z"
   },
   {
    "duration": 6,
    "start_time": "2022-11-05T23:21:52.958Z"
   },
   {
    "duration": 1807,
    "start_time": "2022-11-05T23:21:52.965Z"
   },
   {
    "duration": 0,
    "start_time": "2022-11-05T23:21:54.773Z"
   },
   {
    "duration": 6,
    "start_time": "2022-11-05T23:26:48.245Z"
   },
   {
    "duration": 1299,
    "start_time": "2022-11-05T23:27:01.627Z"
   },
   {
    "duration": 3,
    "start_time": "2022-11-05T23:27:02.928Z"
   },
   {
    "duration": 5,
    "start_time": "2022-11-05T23:27:02.936Z"
   },
   {
    "duration": 7,
    "start_time": "2022-11-05T23:27:02.942Z"
   },
   {
    "duration": 8,
    "start_time": "2022-11-05T23:27:02.950Z"
   },
   {
    "duration": 741,
    "start_time": "2022-11-05T23:27:02.959Z"
   },
   {
    "duration": 1547,
    "start_time": "2022-11-05T23:27:03.701Z"
   },
   {
    "duration": 5,
    "start_time": "2022-11-05T23:27:05.249Z"
   },
   {
    "duration": 642,
    "start_time": "2022-11-05T23:27:05.257Z"
   },
   {
    "duration": 284,
    "start_time": "2022-11-05T23:27:05.901Z"
   },
   {
    "duration": 809,
    "start_time": "2022-11-05T23:27:06.187Z"
   },
   {
    "duration": 20,
    "start_time": "2022-11-05T23:27:06.998Z"
   },
   {
    "duration": 27,
    "start_time": "2022-11-05T23:27:07.020Z"
   },
   {
    "duration": 76,
    "start_time": "2022-11-05T23:27:07.048Z"
   },
   {
    "duration": 700,
    "start_time": "2022-11-05T23:27:07.126Z"
   },
   {
    "duration": 2,
    "start_time": "2022-11-05T23:27:07.827Z"
   },
   {
    "duration": 24,
    "start_time": "2022-11-05T23:27:07.831Z"
   },
   {
    "duration": 619,
    "start_time": "2022-11-05T23:27:07.857Z"
   },
   {
    "duration": 9,
    "start_time": "2022-11-05T23:27:08.478Z"
   },
   {
    "duration": 787,
    "start_time": "2022-11-05T23:27:08.489Z"
   },
   {
    "duration": 80,
    "start_time": "2022-11-05T23:27:09.278Z"
   },
   {
    "duration": 10,
    "start_time": "2022-11-05T23:27:09.359Z"
   },
   {
    "duration": 67,
    "start_time": "2022-11-05T23:27:09.370Z"
   },
   {
    "duration": 761,
    "start_time": "2022-11-05T23:27:09.438Z"
   },
   {
    "duration": 9,
    "start_time": "2022-11-05T23:27:10.200Z"
   },
   {
    "duration": 496,
    "start_time": "2022-11-05T23:27:10.211Z"
   },
   {
    "duration": 76,
    "start_time": "2022-11-05T23:27:10.711Z"
   },
   {
    "duration": 1790,
    "start_time": "2022-11-05T23:27:10.788Z"
   },
   {
    "duration": 59,
    "start_time": "2022-11-05T23:27:12.580Z"
   },
   {
    "duration": 4,
    "start_time": "2022-11-05T23:27:12.640Z"
   },
   {
    "duration": 28,
    "start_time": "2022-11-05T23:27:12.645Z"
   },
   {
    "duration": 23,
    "start_time": "2022-11-05T23:27:12.674Z"
   },
   {
    "duration": 1012,
    "start_time": "2022-11-05T23:27:12.698Z"
   },
   {
    "duration": 98,
    "start_time": "2022-11-05T23:27:13.711Z"
   },
   {
    "duration": 3998,
    "start_time": "2022-11-05T23:27:13.811Z"
   },
   {
    "duration": 176,
    "start_time": "2022-11-05T23:27:17.811Z"
   },
   {
    "duration": 0,
    "start_time": "2022-11-05T23:27:17.989Z"
   },
   {
    "duration": 0,
    "start_time": "2022-11-05T23:27:17.990Z"
   },
   {
    "duration": 0,
    "start_time": "2022-11-05T23:27:17.991Z"
   },
   {
    "duration": 0,
    "start_time": "2022-11-05T23:27:17.993Z"
   },
   {
    "duration": 0,
    "start_time": "2022-11-05T23:27:17.994Z"
   },
   {
    "duration": 0,
    "start_time": "2022-11-05T23:27:17.995Z"
   },
   {
    "duration": 0,
    "start_time": "2022-11-05T23:27:17.997Z"
   },
   {
    "duration": 1345,
    "start_time": "2022-11-05T23:27:37.491Z"
   },
   {
    "duration": 3,
    "start_time": "2022-11-05T23:27:38.838Z"
   },
   {
    "duration": 5,
    "start_time": "2022-11-05T23:27:38.842Z"
   },
   {
    "duration": 6,
    "start_time": "2022-11-05T23:27:38.849Z"
   },
   {
    "duration": 10,
    "start_time": "2022-11-05T23:27:38.857Z"
   },
   {
    "duration": 761,
    "start_time": "2022-11-05T23:27:38.868Z"
   },
   {
    "duration": 1511,
    "start_time": "2022-11-05T23:27:39.631Z"
   },
   {
    "duration": 3,
    "start_time": "2022-11-05T23:27:41.143Z"
   },
   {
    "duration": 642,
    "start_time": "2022-11-05T23:27:41.148Z"
   },
   {
    "duration": 286,
    "start_time": "2022-11-05T23:27:41.793Z"
   },
   {
    "duration": 772,
    "start_time": "2022-11-05T23:27:42.081Z"
   },
   {
    "duration": 19,
    "start_time": "2022-11-05T23:27:42.855Z"
   },
   {
    "duration": 21,
    "start_time": "2022-11-05T23:27:42.876Z"
   },
   {
    "duration": 68,
    "start_time": "2022-11-05T23:27:42.909Z"
   },
   {
    "duration": 704,
    "start_time": "2022-11-05T23:27:42.979Z"
   },
   {
    "duration": 2,
    "start_time": "2022-11-05T23:27:43.685Z"
   },
   {
    "duration": 23,
    "start_time": "2022-11-05T23:27:43.688Z"
   },
   {
    "duration": 598,
    "start_time": "2022-11-05T23:27:43.713Z"
   },
   {
    "duration": 8,
    "start_time": "2022-11-05T23:27:44.313Z"
   },
   {
    "duration": 800,
    "start_time": "2022-11-05T23:27:44.323Z"
   },
   {
    "duration": 70,
    "start_time": "2022-11-05T23:27:45.125Z"
   },
   {
    "duration": 18,
    "start_time": "2022-11-05T23:27:45.197Z"
   },
   {
    "duration": 49,
    "start_time": "2022-11-05T23:27:45.216Z"
   },
   {
    "duration": 790,
    "start_time": "2022-11-05T23:27:45.266Z"
   },
   {
    "duration": 4,
    "start_time": "2022-11-05T23:27:46.057Z"
   },
   {
    "duration": 501,
    "start_time": "2022-11-05T23:27:46.063Z"
   },
   {
    "duration": 85,
    "start_time": "2022-11-05T23:27:46.565Z"
   },
   {
    "duration": 1799,
    "start_time": "2022-11-05T23:27:46.653Z"
   },
   {
    "duration": 47,
    "start_time": "2022-11-05T23:27:48.453Z"
   },
   {
    "duration": 4,
    "start_time": "2022-11-05T23:27:48.509Z"
   },
   {
    "duration": 4,
    "start_time": "2022-11-05T23:27:48.514Z"
   },
   {
    "duration": 12,
    "start_time": "2022-11-05T23:27:48.520Z"
   },
   {
    "duration": 977,
    "start_time": "2022-11-05T23:27:48.533Z"
   },
   {
    "duration": 9,
    "start_time": "2022-11-05T23:27:49.512Z"
   },
   {
    "duration": 3603,
    "start_time": "2022-11-05T23:27:49.609Z"
   },
   {
    "duration": 6,
    "start_time": "2022-11-05T23:27:53.215Z"
   },
   {
    "duration": 3710,
    "start_time": "2022-11-05T23:27:53.309Z"
   },
   {
    "duration": 6,
    "start_time": "2022-11-05T23:27:57.021Z"
   },
   {
    "duration": 10,
    "start_time": "2022-11-05T23:27:57.029Z"
   },
   {
    "duration": 6,
    "start_time": "2022-11-05T23:27:57.040Z"
   },
   {
    "duration": 1936,
    "start_time": "2022-11-05T23:27:57.047Z"
   },
   {
    "duration": 0,
    "start_time": "2022-11-05T23:27:58.984Z"
   },
   {
    "duration": 1335,
    "start_time": "2022-11-05T23:36:20.291Z"
   },
   {
    "duration": 2,
    "start_time": "2022-11-05T23:36:21.628Z"
   },
   {
    "duration": 8,
    "start_time": "2022-11-05T23:36:21.632Z"
   },
   {
    "duration": 7,
    "start_time": "2022-11-05T23:36:21.641Z"
   },
   {
    "duration": 10,
    "start_time": "2022-11-05T23:36:21.649Z"
   },
   {
    "duration": 729,
    "start_time": "2022-11-05T23:36:21.660Z"
   },
   {
    "duration": 1492,
    "start_time": "2022-11-05T23:36:22.390Z"
   },
   {
    "duration": 4,
    "start_time": "2022-11-05T23:36:23.884Z"
   },
   {
    "duration": 655,
    "start_time": "2022-11-05T23:36:23.889Z"
   },
   {
    "duration": 293,
    "start_time": "2022-11-05T23:36:24.547Z"
   },
   {
    "duration": 794,
    "start_time": "2022-11-05T23:36:24.842Z"
   },
   {
    "duration": 20,
    "start_time": "2022-11-05T23:36:25.639Z"
   },
   {
    "duration": 24,
    "start_time": "2022-11-05T23:36:25.661Z"
   },
   {
    "duration": 86,
    "start_time": "2022-11-05T23:36:25.686Z"
   },
   {
    "duration": 724,
    "start_time": "2022-11-05T23:36:25.773Z"
   },
   {
    "duration": 2,
    "start_time": "2022-11-05T23:36:26.499Z"
   },
   {
    "duration": 18,
    "start_time": "2022-11-05T23:36:26.508Z"
   },
   {
    "duration": 633,
    "start_time": "2022-11-05T23:36:26.528Z"
   },
   {
    "duration": 8,
    "start_time": "2022-11-05T23:36:27.162Z"
   },
   {
    "duration": 808,
    "start_time": "2022-11-05T23:36:27.172Z"
   },
   {
    "duration": 86,
    "start_time": "2022-11-05T23:36:27.981Z"
   },
   {
    "duration": 10,
    "start_time": "2022-11-05T23:36:28.069Z"
   },
   {
    "duration": 62,
    "start_time": "2022-11-05T23:36:28.080Z"
   },
   {
    "duration": 768,
    "start_time": "2022-11-05T23:36:28.144Z"
   },
   {
    "duration": 4,
    "start_time": "2022-11-05T23:36:28.914Z"
   },
   {
    "duration": 493,
    "start_time": "2022-11-05T23:36:28.919Z"
   },
   {
    "duration": 79,
    "start_time": "2022-11-05T23:36:29.414Z"
   },
   {
    "duration": 1772,
    "start_time": "2022-11-05T23:36:29.508Z"
   },
   {
    "duration": 58,
    "start_time": "2022-11-05T23:36:31.282Z"
   },
   {
    "duration": 4,
    "start_time": "2022-11-05T23:36:31.341Z"
   },
   {
    "duration": 9,
    "start_time": "2022-11-05T23:36:31.346Z"
   },
   {
    "duration": 7,
    "start_time": "2022-11-05T23:36:31.356Z"
   },
   {
    "duration": 946,
    "start_time": "2022-11-05T23:36:31.364Z"
   },
   {
    "duration": 98,
    "start_time": "2022-11-05T23:36:32.312Z"
   },
   {
    "duration": 3697,
    "start_time": "2022-11-05T23:36:32.412Z"
   },
   {
    "duration": 6,
    "start_time": "2022-11-05T23:36:36.111Z"
   },
   {
    "duration": 3940,
    "start_time": "2022-11-05T23:36:36.119Z"
   },
   {
    "duration": 7,
    "start_time": "2022-11-05T23:36:40.060Z"
   },
   {
    "duration": 10,
    "start_time": "2022-11-05T23:36:40.068Z"
   },
   {
    "duration": 151,
    "start_time": "2022-11-05T23:36:40.080Z"
   },
   {
    "duration": 0,
    "start_time": "2022-11-05T23:36:40.232Z"
   },
   {
    "duration": 0,
    "start_time": "2022-11-05T23:36:40.233Z"
   },
   {
    "duration": 0,
    "start_time": "2022-11-05T23:36:40.234Z"
   },
   {
    "duration": 1276,
    "start_time": "2022-11-05T23:37:16.143Z"
   },
   {
    "duration": 3,
    "start_time": "2022-11-05T23:37:17.421Z"
   },
   {
    "duration": 6,
    "start_time": "2022-11-05T23:37:17.425Z"
   },
   {
    "duration": 6,
    "start_time": "2022-11-05T23:37:17.433Z"
   },
   {
    "duration": 11,
    "start_time": "2022-11-05T23:37:17.440Z"
   },
   {
    "duration": 758,
    "start_time": "2022-11-05T23:37:17.452Z"
   },
   {
    "duration": 1512,
    "start_time": "2022-11-05T23:37:18.211Z"
   },
   {
    "duration": 3,
    "start_time": "2022-11-05T23:37:19.725Z"
   },
   {
    "duration": 630,
    "start_time": "2022-11-05T23:37:19.730Z"
   },
   {
    "duration": 285,
    "start_time": "2022-11-05T23:37:20.363Z"
   },
   {
    "duration": 784,
    "start_time": "2022-11-05T23:37:20.650Z"
   },
   {
    "duration": 20,
    "start_time": "2022-11-05T23:37:21.436Z"
   },
   {
    "duration": 24,
    "start_time": "2022-11-05T23:37:21.457Z"
   },
   {
    "duration": 80,
    "start_time": "2022-11-05T23:37:21.483Z"
   },
   {
    "duration": 705,
    "start_time": "2022-11-05T23:37:21.565Z"
   },
   {
    "duration": 2,
    "start_time": "2022-11-05T23:37:22.272Z"
   },
   {
    "duration": 17,
    "start_time": "2022-11-05T23:37:22.276Z"
   },
   {
    "duration": 626,
    "start_time": "2022-11-05T23:37:22.295Z"
   },
   {
    "duration": 9,
    "start_time": "2022-11-05T23:37:22.922Z"
   },
   {
    "duration": 805,
    "start_time": "2022-11-05T23:37:22.932Z"
   },
   {
    "duration": 77,
    "start_time": "2022-11-05T23:37:23.738Z"
   },
   {
    "duration": 9,
    "start_time": "2022-11-05T23:37:23.817Z"
   },
   {
    "duration": 53,
    "start_time": "2022-11-05T23:37:23.828Z"
   },
   {
    "duration": 818,
    "start_time": "2022-11-05T23:37:23.882Z"
   },
   {
    "duration": 9,
    "start_time": "2022-11-05T23:37:24.702Z"
   },
   {
    "duration": 487,
    "start_time": "2022-11-05T23:37:24.712Z"
   },
   {
    "duration": 81,
    "start_time": "2022-11-05T23:37:25.201Z"
   },
   {
    "duration": 1826,
    "start_time": "2022-11-05T23:37:25.285Z"
   },
   {
    "duration": 46,
    "start_time": "2022-11-05T23:37:27.113Z"
   },
   {
    "duration": 3,
    "start_time": "2022-11-05T23:37:27.160Z"
   },
   {
    "duration": 7,
    "start_time": "2022-11-05T23:37:27.164Z"
   },
   {
    "duration": 6,
    "start_time": "2022-11-05T23:37:27.172Z"
   },
   {
    "duration": 1031,
    "start_time": "2022-11-05T23:37:27.179Z"
   },
   {
    "duration": 7,
    "start_time": "2022-11-05T23:37:28.212Z"
   },
   {
    "duration": 3700,
    "start_time": "2022-11-05T23:37:28.310Z"
   },
   {
    "duration": 6,
    "start_time": "2022-11-05T23:37:32.012Z"
   },
   {
    "duration": 3860,
    "start_time": "2022-11-05T23:37:32.020Z"
   },
   {
    "duration": 5,
    "start_time": "2022-11-05T23:37:35.882Z"
   },
   {
    "duration": 12,
    "start_time": "2022-11-05T23:37:35.888Z"
   },
   {
    "duration": 9,
    "start_time": "2022-11-05T23:37:35.901Z"
   },
   {
    "duration": 32,
    "start_time": "2022-11-05T23:37:35.911Z"
   },
   {
    "duration": 1804,
    "start_time": "2022-11-05T23:37:35.945Z"
   },
   {
    "duration": 0,
    "start_time": "2022-11-05T23:37:37.751Z"
   },
   {
    "duration": 3748,
    "start_time": "2022-11-05T23:39:35.580Z"
   },
   {
    "duration": 3,
    "start_time": "2022-11-05T23:43:19.372Z"
   },
   {
    "duration": 3464,
    "start_time": "2022-11-05T23:43:37.673Z"
   },
   {
    "duration": 3,
    "start_time": "2022-11-05T23:43:43.711Z"
   },
   {
    "duration": 1276,
    "start_time": "2022-11-05T23:57:32.344Z"
   },
   {
    "duration": 2,
    "start_time": "2022-11-05T23:57:33.622Z"
   },
   {
    "duration": 7,
    "start_time": "2022-11-05T23:57:33.626Z"
   },
   {
    "duration": 6,
    "start_time": "2022-11-05T23:57:33.635Z"
   },
   {
    "duration": 9,
    "start_time": "2022-11-05T23:57:33.642Z"
   },
   {
    "duration": 759,
    "start_time": "2022-11-05T23:57:33.653Z"
   },
   {
    "duration": 1519,
    "start_time": "2022-11-05T23:57:34.414Z"
   },
   {
    "duration": 3,
    "start_time": "2022-11-05T23:57:35.935Z"
   },
   {
    "duration": 673,
    "start_time": "2022-11-05T23:57:35.939Z"
   },
   {
    "duration": 289,
    "start_time": "2022-11-05T23:57:36.615Z"
   },
   {
    "duration": 777,
    "start_time": "2022-11-05T23:57:36.906Z"
   },
   {
    "duration": 26,
    "start_time": "2022-11-05T23:57:37.684Z"
   },
   {
    "duration": 24,
    "start_time": "2022-11-05T23:57:37.711Z"
   },
   {
    "duration": 78,
    "start_time": "2022-11-05T23:57:37.736Z"
   },
   {
    "duration": 694,
    "start_time": "2022-11-05T23:57:37.815Z"
   },
   {
    "duration": 3,
    "start_time": "2022-11-05T23:57:38.510Z"
   },
   {
    "duration": 18,
    "start_time": "2022-11-05T23:57:38.515Z"
   },
   {
    "duration": 624,
    "start_time": "2022-11-05T23:57:38.534Z"
   },
   {
    "duration": 8,
    "start_time": "2022-11-05T23:57:39.159Z"
   },
   {
    "duration": 805,
    "start_time": "2022-11-05T23:57:39.168Z"
   },
   {
    "duration": 78,
    "start_time": "2022-11-05T23:57:39.974Z"
   },
   {
    "duration": 9,
    "start_time": "2022-11-05T23:57:40.054Z"
   },
   {
    "duration": 65,
    "start_time": "2022-11-05T23:57:40.065Z"
   },
   {
    "duration": 777,
    "start_time": "2022-11-05T23:57:40.132Z"
   },
   {
    "duration": 3,
    "start_time": "2022-11-05T23:57:40.911Z"
   },
   {
    "duration": 491,
    "start_time": "2022-11-05T23:57:40.916Z"
   },
   {
    "duration": 78,
    "start_time": "2022-11-05T23:57:41.409Z"
   },
   {
    "duration": 1762,
    "start_time": "2022-11-05T23:57:41.490Z"
   },
   {
    "duration": 57,
    "start_time": "2022-11-05T23:57:43.253Z"
   },
   {
    "duration": 3,
    "start_time": "2022-11-05T23:57:43.312Z"
   },
   {
    "duration": 8,
    "start_time": "2022-11-05T23:57:43.316Z"
   },
   {
    "duration": 5,
    "start_time": "2022-11-05T23:57:43.325Z"
   },
   {
    "duration": 979,
    "start_time": "2022-11-05T23:57:43.331Z"
   },
   {
    "duration": 98,
    "start_time": "2022-11-05T23:57:44.312Z"
   },
   {
    "duration": 3804,
    "start_time": "2022-11-05T23:57:44.412Z"
   },
   {
    "duration": 92,
    "start_time": "2022-11-05T23:57:48.218Z"
   },
   {
    "duration": 7,
    "start_time": "2022-11-05T23:57:48.312Z"
   },
   {
    "duration": 3854,
    "start_time": "2022-11-05T23:57:48.320Z"
   },
   {
    "duration": 6,
    "start_time": "2022-11-05T23:57:52.176Z"
   },
   {
    "duration": 14,
    "start_time": "2022-11-05T23:57:52.183Z"
   },
   {
    "duration": 4,
    "start_time": "2022-11-05T23:57:52.198Z"
   },
   {
    "duration": 33,
    "start_time": "2022-11-05T23:57:52.203Z"
   },
   {
    "duration": 1820,
    "start_time": "2022-11-05T23:57:52.238Z"
   },
   {
    "duration": 0,
    "start_time": "2022-11-05T23:57:54.059Z"
   },
   {
    "duration": 4948,
    "start_time": "2022-11-06T00:00:03.489Z"
   },
   {
    "duration": 4010,
    "start_time": "2022-11-06T00:00:27.024Z"
   },
   {
    "duration": 1307,
    "start_time": "2022-11-06T00:00:45.631Z"
   },
   {
    "duration": 2,
    "start_time": "2022-11-06T00:00:46.942Z"
   },
   {
    "duration": 4,
    "start_time": "2022-11-06T00:00:46.946Z"
   },
   {
    "duration": 6,
    "start_time": "2022-11-06T00:00:46.952Z"
   },
   {
    "duration": 7,
    "start_time": "2022-11-06T00:00:46.959Z"
   },
   {
    "duration": 751,
    "start_time": "2022-11-06T00:00:46.968Z"
   },
   {
    "duration": 1525,
    "start_time": "2022-11-06T00:00:47.721Z"
   },
   {
    "duration": 3,
    "start_time": "2022-11-06T00:00:49.248Z"
   },
   {
    "duration": 639,
    "start_time": "2022-11-06T00:00:49.253Z"
   },
   {
    "duration": 291,
    "start_time": "2022-11-06T00:00:49.893Z"
   },
   {
    "duration": 779,
    "start_time": "2022-11-06T00:00:50.186Z"
   },
   {
    "duration": 20,
    "start_time": "2022-11-06T00:00:50.966Z"
   },
   {
    "duration": 34,
    "start_time": "2022-11-06T00:00:50.988Z"
   },
   {
    "duration": 68,
    "start_time": "2022-11-06T00:00:51.024Z"
   },
   {
    "duration": 707,
    "start_time": "2022-11-06T00:00:51.094Z"
   },
   {
    "duration": 3,
    "start_time": "2022-11-06T00:00:51.802Z"
   },
   {
    "duration": 17,
    "start_time": "2022-11-06T00:00:51.809Z"
   },
   {
    "duration": 638,
    "start_time": "2022-11-06T00:00:51.827Z"
   },
   {
    "duration": 8,
    "start_time": "2022-11-06T00:00:52.466Z"
   },
   {
    "duration": 796,
    "start_time": "2022-11-06T00:00:52.476Z"
   },
   {
    "duration": 77,
    "start_time": "2022-11-06T00:00:53.274Z"
   },
   {
    "duration": 9,
    "start_time": "2022-11-06T00:00:53.352Z"
   },
   {
    "duration": 64,
    "start_time": "2022-11-06T00:00:53.362Z"
   },
   {
    "duration": 771,
    "start_time": "2022-11-06T00:00:53.427Z"
   },
   {
    "duration": 3,
    "start_time": "2022-11-06T00:00:54.199Z"
   },
   {
    "duration": 495,
    "start_time": "2022-11-06T00:00:54.209Z"
   },
   {
    "duration": 79,
    "start_time": "2022-11-06T00:00:54.709Z"
   },
   {
    "duration": 1922,
    "start_time": "2022-11-06T00:00:54.789Z"
   },
   {
    "duration": 47,
    "start_time": "2022-11-06T00:00:56.713Z"
   },
   {
    "duration": 3,
    "start_time": "2022-11-06T00:00:56.762Z"
   },
   {
    "duration": 11,
    "start_time": "2022-11-06T00:00:56.766Z"
   },
   {
    "duration": 15,
    "start_time": "2022-11-06T00:00:56.779Z"
   },
   {
    "duration": 1015,
    "start_time": "2022-11-06T00:00:56.795Z"
   },
   {
    "duration": 97,
    "start_time": "2022-11-06T00:00:57.811Z"
   },
   {
    "duration": 3600,
    "start_time": "2022-11-06T00:00:57.910Z"
   },
   {
    "duration": 3,
    "start_time": "2022-11-06T00:01:01.512Z"
   },
   {
    "duration": 19,
    "start_time": "2022-11-06T00:01:01.516Z"
   },
   {
    "duration": 4202,
    "start_time": "2022-11-06T00:01:01.536Z"
   },
   {
    "duration": 6,
    "start_time": "2022-11-06T00:01:05.740Z"
   },
   {
    "duration": 11,
    "start_time": "2022-11-06T00:01:05.748Z"
   },
   {
    "duration": 6,
    "start_time": "2022-11-06T00:01:05.761Z"
   },
   {
    "duration": 31,
    "start_time": "2022-11-06T00:01:05.768Z"
   },
   {
    "duration": 175363,
    "start_time": "2022-11-06T00:01:05.800Z"
   },
   {
    "duration": 0,
    "start_time": "2022-11-06T00:04:01.164Z"
   },
   {
    "duration": 10,
    "start_time": "2022-11-06T00:04:14.166Z"
   },
   {
    "duration": 37303,
    "start_time": "2022-11-06T00:04:15.996Z"
   },
   {
    "duration": 36864,
    "start_time": "2022-11-06T00:05:57.781Z"
   },
   {
    "duration": 1281,
    "start_time": "2022-11-06T00:08:19.672Z"
   },
   {
    "duration": 3,
    "start_time": "2022-11-06T00:08:20.954Z"
   },
   {
    "duration": 20,
    "start_time": "2022-11-06T00:08:20.958Z"
   },
   {
    "duration": 18,
    "start_time": "2022-11-06T00:08:20.979Z"
   },
   {
    "duration": 16,
    "start_time": "2022-11-06T00:08:20.998Z"
   },
   {
    "duration": 767,
    "start_time": "2022-11-06T00:08:21.016Z"
   },
   {
    "duration": 1477,
    "start_time": "2022-11-06T00:08:21.785Z"
   },
   {
    "duration": 4,
    "start_time": "2022-11-06T00:08:23.264Z"
   },
   {
    "duration": 649,
    "start_time": "2022-11-06T00:08:23.270Z"
   },
   {
    "duration": 289,
    "start_time": "2022-11-06T00:08:23.922Z"
   },
   {
    "duration": 786,
    "start_time": "2022-11-06T00:08:24.212Z"
   },
   {
    "duration": 22,
    "start_time": "2022-11-06T00:08:25.000Z"
   },
   {
    "duration": 23,
    "start_time": "2022-11-06T00:08:25.024Z"
   },
   {
    "duration": 88,
    "start_time": "2022-11-06T00:08:25.048Z"
   },
   {
    "duration": 691,
    "start_time": "2022-11-06T00:08:25.138Z"
   },
   {
    "duration": 2,
    "start_time": "2022-11-06T00:08:25.831Z"
   },
   {
    "duration": 26,
    "start_time": "2022-11-06T00:08:25.835Z"
   },
   {
    "duration": 640,
    "start_time": "2022-11-06T00:08:25.862Z"
   },
   {
    "duration": 10,
    "start_time": "2022-11-06T00:08:26.503Z"
   },
   {
    "duration": 805,
    "start_time": "2022-11-06T00:08:26.514Z"
   },
   {
    "duration": 74,
    "start_time": "2022-11-06T00:08:27.320Z"
   },
   {
    "duration": 21,
    "start_time": "2022-11-06T00:08:27.396Z"
   },
   {
    "duration": 55,
    "start_time": "2022-11-06T00:08:27.418Z"
   },
   {
    "duration": 808,
    "start_time": "2022-11-06T00:08:27.474Z"
   },
   {
    "duration": 3,
    "start_time": "2022-11-06T00:08:28.284Z"
   },
   {
    "duration": 482,
    "start_time": "2022-11-06T00:08:28.288Z"
   },
   {
    "duration": 88,
    "start_time": "2022-11-06T00:08:28.772Z"
   },
   {
    "duration": 1809,
    "start_time": "2022-11-06T00:08:28.864Z"
   },
   {
    "duration": 59,
    "start_time": "2022-11-06T00:08:30.675Z"
   },
   {
    "duration": 4,
    "start_time": "2022-11-06T00:08:30.736Z"
   },
   {
    "duration": 15,
    "start_time": "2022-11-06T00:08:30.741Z"
   },
   {
    "duration": 7,
    "start_time": "2022-11-06T00:08:30.757Z"
   },
   {
    "duration": 945,
    "start_time": "2022-11-06T00:08:30.765Z"
   },
   {
    "duration": 7,
    "start_time": "2022-11-06T00:08:31.711Z"
   },
   {
    "duration": 3802,
    "start_time": "2022-11-06T00:08:31.810Z"
   },
   {
    "duration": 3,
    "start_time": "2022-11-06T00:08:35.615Z"
   },
   {
    "duration": 11,
    "start_time": "2022-11-06T00:08:35.619Z"
   },
   {
    "duration": 3973,
    "start_time": "2022-11-06T00:08:35.632Z"
   },
   {
    "duration": 6,
    "start_time": "2022-11-06T00:08:39.607Z"
   },
   {
    "duration": 10,
    "start_time": "2022-11-06T00:08:39.615Z"
   },
   {
    "duration": 5,
    "start_time": "2022-11-06T00:08:39.626Z"
   },
   {
    "duration": 33,
    "start_time": "2022-11-06T00:08:39.633Z"
   },
   {
    "duration": 36766,
    "start_time": "2022-11-06T00:08:39.668Z"
   },
   {
    "duration": 1477,
    "start_time": "2022-11-06T00:09:16.435Z"
   },
   {
    "duration": 1284,
    "start_time": "2022-11-06T00:10:13.453Z"
   },
   {
    "duration": 3,
    "start_time": "2022-11-06T00:10:14.739Z"
   },
   {
    "duration": 5,
    "start_time": "2022-11-06T00:10:14.744Z"
   },
   {
    "duration": 5,
    "start_time": "2022-11-06T00:10:14.751Z"
   },
   {
    "duration": 7,
    "start_time": "2022-11-06T00:10:14.758Z"
   },
   {
    "duration": 748,
    "start_time": "2022-11-06T00:10:14.766Z"
   },
   {
    "duration": 1509,
    "start_time": "2022-11-06T00:10:15.515Z"
   },
   {
    "duration": 3,
    "start_time": "2022-11-06T00:10:17.025Z"
   },
   {
    "duration": 647,
    "start_time": "2022-11-06T00:10:17.030Z"
   },
   {
    "duration": 282,
    "start_time": "2022-11-06T00:10:17.679Z"
   },
   {
    "duration": 768,
    "start_time": "2022-11-06T00:10:17.963Z"
   },
   {
    "duration": 20,
    "start_time": "2022-11-06T00:10:18.733Z"
   },
   {
    "duration": 22,
    "start_time": "2022-11-06T00:10:18.755Z"
   },
   {
    "duration": 84,
    "start_time": "2022-11-06T00:10:18.778Z"
   },
   {
    "duration": 685,
    "start_time": "2022-11-06T00:10:18.864Z"
   },
   {
    "duration": 3,
    "start_time": "2022-11-06T00:10:19.550Z"
   },
   {
    "duration": 17,
    "start_time": "2022-11-06T00:10:19.554Z"
   },
   {
    "duration": 616,
    "start_time": "2022-11-06T00:10:19.572Z"
   },
   {
    "duration": 9,
    "start_time": "2022-11-06T00:10:20.189Z"
   },
   {
    "duration": 785,
    "start_time": "2022-11-06T00:10:20.199Z"
   },
   {
    "duration": 77,
    "start_time": "2022-11-06T00:10:20.986Z"
   },
   {
    "duration": 9,
    "start_time": "2022-11-06T00:10:21.064Z"
   },
   {
    "duration": 63,
    "start_time": "2022-11-06T00:10:21.075Z"
   },
   {
    "duration": 769,
    "start_time": "2022-11-06T00:10:21.140Z"
   },
   {
    "duration": 4,
    "start_time": "2022-11-06T00:10:21.910Z"
   },
   {
    "duration": 479,
    "start_time": "2022-11-06T00:10:21.915Z"
   },
   {
    "duration": 82,
    "start_time": "2022-11-06T00:10:22.396Z"
   },
   {
    "duration": 1768,
    "start_time": "2022-11-06T00:10:22.481Z"
   },
   {
    "duration": 48,
    "start_time": "2022-11-06T00:10:24.250Z"
   },
   {
    "duration": 3,
    "start_time": "2022-11-06T00:10:24.309Z"
   },
   {
    "duration": 6,
    "start_time": "2022-11-06T00:10:24.313Z"
   },
   {
    "duration": 10,
    "start_time": "2022-11-06T00:10:24.320Z"
   },
   {
    "duration": 979,
    "start_time": "2022-11-06T00:10:24.331Z"
   },
   {
    "duration": 96,
    "start_time": "2022-11-06T00:10:25.315Z"
   },
   {
    "duration": 3800,
    "start_time": "2022-11-06T00:10:25.412Z"
   },
   {
    "duration": 3,
    "start_time": "2022-11-06T00:10:29.213Z"
   },
   {
    "duration": 91,
    "start_time": "2022-11-06T00:10:29.218Z"
   },
   {
    "duration": 4030,
    "start_time": "2022-11-06T00:10:29.311Z"
   },
   {
    "duration": 6,
    "start_time": "2022-11-06T00:10:33.343Z"
   },
   {
    "duration": 13,
    "start_time": "2022-11-06T00:10:33.350Z"
   },
   {
    "duration": 5,
    "start_time": "2022-11-06T00:10:33.364Z"
   },
   {
    "duration": 35,
    "start_time": "2022-11-06T00:10:33.370Z"
   },
   {
    "duration": 36734,
    "start_time": "2022-11-06T00:10:33.407Z"
   },
   {
    "duration": 1372,
    "start_time": "2022-11-06T00:11:10.142Z"
   },
   {
    "duration": 11,
    "start_time": "2022-11-06T00:15:37.317Z"
   },
   {
    "duration": 73158,
    "start_time": "2022-11-06T00:15:44.538Z"
   },
   {
    "duration": 3746,
    "start_time": "2022-11-06T00:18:19.835Z"
   },
   {
    "duration": 1288,
    "start_time": "2022-11-06T00:18:28.654Z"
   },
   {
    "duration": 3,
    "start_time": "2022-11-06T00:18:29.944Z"
   },
   {
    "duration": 6,
    "start_time": "2022-11-06T00:18:29.948Z"
   },
   {
    "duration": 5,
    "start_time": "2022-11-06T00:18:29.956Z"
   },
   {
    "duration": 9,
    "start_time": "2022-11-06T00:18:29.963Z"
   },
   {
    "duration": 756,
    "start_time": "2022-11-06T00:18:29.974Z"
   },
   {
    "duration": 1504,
    "start_time": "2022-11-06T00:18:30.732Z"
   },
   {
    "duration": 4,
    "start_time": "2022-11-06T00:18:32.238Z"
   },
   {
    "duration": 642,
    "start_time": "2022-11-06T00:18:32.243Z"
   },
   {
    "duration": 297,
    "start_time": "2022-11-06T00:18:32.887Z"
   },
   {
    "duration": 776,
    "start_time": "2022-11-06T00:18:33.186Z"
   },
   {
    "duration": 19,
    "start_time": "2022-11-06T00:18:33.963Z"
   },
   {
    "duration": 36,
    "start_time": "2022-11-06T00:18:33.984Z"
   },
   {
    "duration": 69,
    "start_time": "2022-11-06T00:18:34.021Z"
   },
   {
    "duration": 714,
    "start_time": "2022-11-06T00:18:34.092Z"
   },
   {
    "duration": 2,
    "start_time": "2022-11-06T00:18:34.808Z"
   },
   {
    "duration": 16,
    "start_time": "2022-11-06T00:18:34.812Z"
   },
   {
    "duration": 633,
    "start_time": "2022-11-06T00:18:34.829Z"
   },
   {
    "duration": 8,
    "start_time": "2022-11-06T00:18:35.464Z"
   },
   {
    "duration": 799,
    "start_time": "2022-11-06T00:18:35.473Z"
   },
   {
    "duration": 81,
    "start_time": "2022-11-06T00:18:36.274Z"
   },
   {
    "duration": 9,
    "start_time": "2022-11-06T00:18:36.356Z"
   },
   {
    "duration": 66,
    "start_time": "2022-11-06T00:18:36.367Z"
   },
   {
    "duration": 797,
    "start_time": "2022-11-06T00:18:36.434Z"
   },
   {
    "duration": 3,
    "start_time": "2022-11-06T00:18:37.234Z"
   },
   {
    "duration": 494,
    "start_time": "2022-11-06T00:18:37.239Z"
   },
   {
    "duration": 83,
    "start_time": "2022-11-06T00:18:37.735Z"
   },
   {
    "duration": 1783,
    "start_time": "2022-11-06T00:18:37.822Z"
   },
   {
    "duration": 47,
    "start_time": "2022-11-06T00:18:39.606Z"
   },
   {
    "duration": 4,
    "start_time": "2022-11-06T00:18:39.655Z"
   },
   {
    "duration": 4,
    "start_time": "2022-11-06T00:18:39.661Z"
   },
   {
    "duration": 6,
    "start_time": "2022-11-06T00:18:39.666Z"
   },
   {
    "duration": 937,
    "start_time": "2022-11-06T00:18:39.673Z"
   },
   {
    "duration": 97,
    "start_time": "2022-11-06T00:18:40.612Z"
   },
   {
    "duration": 3798,
    "start_time": "2022-11-06T00:18:40.711Z"
   },
   {
    "duration": 3,
    "start_time": "2022-11-06T00:18:44.511Z"
   },
   {
    "duration": 14,
    "start_time": "2022-11-06T00:18:44.515Z"
   },
   {
    "duration": 3964,
    "start_time": "2022-11-06T00:18:44.530Z"
   },
   {
    "duration": 8,
    "start_time": "2022-11-06T00:18:48.495Z"
   },
   {
    "duration": 18,
    "start_time": "2022-11-06T00:18:48.505Z"
   },
   {
    "duration": 4,
    "start_time": "2022-11-06T00:18:48.525Z"
   },
   {
    "duration": 39,
    "start_time": "2022-11-06T00:18:48.531Z"
   },
   {
    "duration": 73204,
    "start_time": "2022-11-06T00:18:48.572Z"
   },
   {
    "duration": 1434,
    "start_time": "2022-11-06T00:20:01.778Z"
   },
   {
    "duration": 17,
    "start_time": "2022-11-06T00:25:07.595Z"
   },
   {
    "duration": 1325,
    "start_time": "2022-11-06T00:25:13.601Z"
   },
   {
    "duration": 2,
    "start_time": "2022-11-06T00:25:14.928Z"
   },
   {
    "duration": 5,
    "start_time": "2022-11-06T00:25:14.932Z"
   },
   {
    "duration": 8,
    "start_time": "2022-11-06T00:25:14.939Z"
   },
   {
    "duration": 16,
    "start_time": "2022-11-06T00:25:14.948Z"
   },
   {
    "duration": 754,
    "start_time": "2022-11-06T00:25:14.966Z"
   },
   {
    "duration": 1533,
    "start_time": "2022-11-06T00:25:15.722Z"
   },
   {
    "duration": 4,
    "start_time": "2022-11-06T00:25:17.256Z"
   },
   {
    "duration": 632,
    "start_time": "2022-11-06T00:25:17.261Z"
   },
   {
    "duration": 286,
    "start_time": "2022-11-06T00:25:17.895Z"
   },
   {
    "duration": 777,
    "start_time": "2022-11-06T00:25:18.183Z"
   },
   {
    "duration": 20,
    "start_time": "2022-11-06T00:25:18.961Z"
   },
   {
    "duration": 34,
    "start_time": "2022-11-06T00:25:18.983Z"
   },
   {
    "duration": 69,
    "start_time": "2022-11-06T00:25:19.019Z"
   },
   {
    "duration": 708,
    "start_time": "2022-11-06T00:25:19.089Z"
   },
   {
    "duration": 3,
    "start_time": "2022-11-06T00:25:19.798Z"
   },
   {
    "duration": 16,
    "start_time": "2022-11-06T00:25:19.808Z"
   },
   {
    "duration": 633,
    "start_time": "2022-11-06T00:25:19.826Z"
   },
   {
    "duration": 8,
    "start_time": "2022-11-06T00:25:20.460Z"
   },
   {
    "duration": 794,
    "start_time": "2022-11-06T00:25:20.470Z"
   },
   {
    "duration": 75,
    "start_time": "2022-11-06T00:25:21.266Z"
   },
   {
    "duration": 9,
    "start_time": "2022-11-06T00:25:21.343Z"
   },
   {
    "duration": 64,
    "start_time": "2022-11-06T00:25:21.354Z"
   },
   {
    "duration": 778,
    "start_time": "2022-11-06T00:25:21.420Z"
   },
   {
    "duration": 10,
    "start_time": "2022-11-06T00:25:22.200Z"
   },
   {
    "duration": 474,
    "start_time": "2022-11-06T00:25:22.212Z"
   },
   {
    "duration": 83,
    "start_time": "2022-11-06T00:25:22.687Z"
   },
   {
    "duration": 1805,
    "start_time": "2022-11-06T00:25:22.773Z"
   },
   {
    "duration": 56,
    "start_time": "2022-11-06T00:25:24.580Z"
   },
   {
    "duration": 4,
    "start_time": "2022-11-06T00:25:24.637Z"
   },
   {
    "duration": 17,
    "start_time": "2022-11-06T00:25:24.642Z"
   },
   {
    "duration": 20,
    "start_time": "2022-11-06T00:25:24.660Z"
   },
   {
    "duration": 1029,
    "start_time": "2022-11-06T00:25:24.681Z"
   },
   {
    "duration": 97,
    "start_time": "2022-11-06T00:25:25.715Z"
   },
   {
    "duration": 3602,
    "start_time": "2022-11-06T00:25:25.813Z"
   },
   {
    "duration": 93,
    "start_time": "2022-11-06T00:25:29.416Z"
   },
   {
    "duration": 6,
    "start_time": "2022-11-06T00:25:29.511Z"
   },
   {
    "duration": 4027,
    "start_time": "2022-11-06T00:25:29.520Z"
   },
   {
    "duration": 7,
    "start_time": "2022-11-06T00:25:33.548Z"
   },
   {
    "duration": 14,
    "start_time": "2022-11-06T00:25:33.556Z"
   },
   {
    "duration": 3,
    "start_time": "2022-11-06T00:25:33.571Z"
   },
   {
    "duration": 42,
    "start_time": "2022-11-06T00:25:33.576Z"
   },
   {
    "duration": 72766,
    "start_time": "2022-11-06T00:25:33.620Z"
   },
   {
    "duration": 1425,
    "start_time": "2022-11-06T00:26:46.388Z"
   },
   {
    "duration": 1322,
    "start_time": "2022-11-06T00:28:17.715Z"
   },
   {
    "duration": 3,
    "start_time": "2022-11-06T00:28:19.039Z"
   },
   {
    "duration": 6,
    "start_time": "2022-11-06T00:28:19.044Z"
   },
   {
    "duration": 5,
    "start_time": "2022-11-06T00:28:19.052Z"
   },
   {
    "duration": 7,
    "start_time": "2022-11-06T00:28:19.058Z"
   },
   {
    "duration": 756,
    "start_time": "2022-11-06T00:28:19.066Z"
   },
   {
    "duration": 1480,
    "start_time": "2022-11-06T00:28:19.824Z"
   },
   {
    "duration": 5,
    "start_time": "2022-11-06T00:28:21.305Z"
   },
   {
    "duration": 624,
    "start_time": "2022-11-06T00:28:21.311Z"
   },
   {
    "duration": 293,
    "start_time": "2022-11-06T00:28:21.937Z"
   },
   {
    "duration": 772,
    "start_time": "2022-11-06T00:28:22.231Z"
   },
   {
    "duration": 21,
    "start_time": "2022-11-06T00:28:23.005Z"
   },
   {
    "duration": 23,
    "start_time": "2022-11-06T00:28:23.028Z"
   },
   {
    "duration": 86,
    "start_time": "2022-11-06T00:28:23.053Z"
   },
   {
    "duration": 690,
    "start_time": "2022-11-06T00:28:23.140Z"
   },
   {
    "duration": 2,
    "start_time": "2022-11-06T00:28:23.832Z"
   },
   {
    "duration": 17,
    "start_time": "2022-11-06T00:28:23.836Z"
   },
   {
    "duration": 644,
    "start_time": "2022-11-06T00:28:23.855Z"
   },
   {
    "duration": 12,
    "start_time": "2022-11-06T00:28:24.501Z"
   },
   {
    "duration": 802,
    "start_time": "2022-11-06T00:28:24.514Z"
   },
   {
    "duration": 72,
    "start_time": "2022-11-06T00:28:25.317Z"
   },
   {
    "duration": 21,
    "start_time": "2022-11-06T00:28:25.390Z"
   },
   {
    "duration": 49,
    "start_time": "2022-11-06T00:28:25.413Z"
   },
   {
    "duration": 769,
    "start_time": "2022-11-06T00:28:25.464Z"
   },
   {
    "duration": 3,
    "start_time": "2022-11-06T00:28:26.235Z"
   },
   {
    "duration": 513,
    "start_time": "2022-11-06T00:28:26.240Z"
   },
   {
    "duration": 84,
    "start_time": "2022-11-06T00:28:26.755Z"
   },
   {
    "duration": 1750,
    "start_time": "2022-11-06T00:28:26.842Z"
   },
   {
    "duration": 51,
    "start_time": "2022-11-06T00:28:28.594Z"
   },
   {
    "duration": 3,
    "start_time": "2022-11-06T00:28:28.647Z"
   },
   {
    "duration": 5,
    "start_time": "2022-11-06T00:28:28.651Z"
   },
   {
    "duration": 5,
    "start_time": "2022-11-06T00:28:28.658Z"
   },
   {
    "duration": 946,
    "start_time": "2022-11-06T00:28:28.664Z"
   },
   {
    "duration": 7,
    "start_time": "2022-11-06T00:28:29.612Z"
   },
   {
    "duration": 3702,
    "start_time": "2022-11-06T00:28:29.710Z"
   },
   {
    "duration": 3,
    "start_time": "2022-11-06T00:28:33.415Z"
   },
   {
    "duration": 10,
    "start_time": "2022-11-06T00:28:33.419Z"
   },
   {
    "duration": 3755,
    "start_time": "2022-11-06T00:28:33.430Z"
   },
   {
    "duration": 6,
    "start_time": "2022-11-06T00:28:37.187Z"
   },
   {
    "duration": 13,
    "start_time": "2022-11-06T00:28:37.194Z"
   },
   {
    "duration": 4,
    "start_time": "2022-11-06T00:28:37.209Z"
   },
   {
    "duration": 84,
    "start_time": "2022-11-06T00:28:37.214Z"
   },
   {
    "duration": 1,
    "start_time": "2022-11-06T00:28:37.299Z"
   },
   {
    "duration": 0,
    "start_time": "2022-11-06T00:28:37.301Z"
   },
   {
    "duration": 1335,
    "start_time": "2022-11-06T00:29:39.103Z"
   },
   {
    "duration": 3,
    "start_time": "2022-11-06T00:29:40.440Z"
   },
   {
    "duration": 7,
    "start_time": "2022-11-06T00:29:40.444Z"
   },
   {
    "duration": 6,
    "start_time": "2022-11-06T00:29:40.453Z"
   },
   {
    "duration": 10,
    "start_time": "2022-11-06T00:29:40.460Z"
   },
   {
    "duration": 756,
    "start_time": "2022-11-06T00:29:40.471Z"
   },
   {
    "duration": 1489,
    "start_time": "2022-11-06T00:29:41.228Z"
   },
   {
    "duration": 3,
    "start_time": "2022-11-06T00:29:42.719Z"
   },
   {
    "duration": 631,
    "start_time": "2022-11-06T00:29:42.723Z"
   },
   {
    "duration": 285,
    "start_time": "2022-11-06T00:29:43.357Z"
   },
   {
    "duration": 771,
    "start_time": "2022-11-06T00:29:43.644Z"
   },
   {
    "duration": 23,
    "start_time": "2022-11-06T00:29:44.417Z"
   },
   {
    "duration": 26,
    "start_time": "2022-11-06T00:29:44.442Z"
   },
   {
    "duration": 81,
    "start_time": "2022-11-06T00:29:44.469Z"
   },
   {
    "duration": 677,
    "start_time": "2022-11-06T00:29:44.552Z"
   },
   {
    "duration": 3,
    "start_time": "2022-11-06T00:29:45.230Z"
   },
   {
    "duration": 19,
    "start_time": "2022-11-06T00:29:45.234Z"
   },
   {
    "duration": 637,
    "start_time": "2022-11-06T00:29:45.255Z"
   },
   {
    "duration": 17,
    "start_time": "2022-11-06T00:29:45.894Z"
   },
   {
    "duration": 790,
    "start_time": "2022-11-06T00:29:45.913Z"
   },
   {
    "duration": 69,
    "start_time": "2022-11-06T00:29:46.705Z"
   },
   {
    "duration": 11,
    "start_time": "2022-11-06T00:29:46.776Z"
   },
   {
    "duration": 69,
    "start_time": "2022-11-06T00:29:46.789Z"
   },
   {
    "duration": 774,
    "start_time": "2022-11-06T00:29:46.860Z"
   },
   {
    "duration": 3,
    "start_time": "2022-11-06T00:29:47.635Z"
   },
   {
    "duration": 474,
    "start_time": "2022-11-06T00:29:47.640Z"
   },
   {
    "duration": 74,
    "start_time": "2022-11-06T00:29:48.115Z"
   },
   {
    "duration": 1766,
    "start_time": "2022-11-06T00:29:48.193Z"
   },
   {
    "duration": 53,
    "start_time": "2022-11-06T00:29:49.960Z"
   },
   {
    "duration": 4,
    "start_time": "2022-11-06T00:29:50.014Z"
   },
   {
    "duration": 5,
    "start_time": "2022-11-06T00:29:50.020Z"
   },
   {
    "duration": 6,
    "start_time": "2022-11-06T00:29:50.026Z"
   },
   {
    "duration": 976,
    "start_time": "2022-11-06T00:29:50.034Z"
   },
   {
    "duration": 97,
    "start_time": "2022-11-06T00:29:51.012Z"
   },
   {
    "duration": 3602,
    "start_time": "2022-11-06T00:29:51.111Z"
   },
   {
    "duration": 4,
    "start_time": "2022-11-06T00:29:54.715Z"
   },
   {
    "duration": 7,
    "start_time": "2022-11-06T00:29:54.809Z"
   },
   {
    "duration": 3689,
    "start_time": "2022-11-06T00:29:54.817Z"
   },
   {
    "duration": 6,
    "start_time": "2022-11-06T00:29:58.507Z"
   },
   {
    "duration": 8,
    "start_time": "2022-11-06T00:29:58.515Z"
   },
   {
    "duration": 4,
    "start_time": "2022-11-06T00:29:58.525Z"
   },
   {
    "duration": 44,
    "start_time": "2022-11-06T00:29:58.530Z"
   },
   {
    "duration": 170675,
    "start_time": "2022-11-06T00:29:58.576Z"
   },
   {
    "duration": 0,
    "start_time": "2022-11-06T00:32:49.253Z"
   },
   {
    "duration": 1286,
    "start_time": "2022-11-06T00:33:02.055Z"
   },
   {
    "duration": 3,
    "start_time": "2022-11-06T00:33:03.343Z"
   },
   {
    "duration": 9,
    "start_time": "2022-11-06T00:33:03.347Z"
   },
   {
    "duration": 6,
    "start_time": "2022-11-06T00:33:03.357Z"
   },
   {
    "duration": 8,
    "start_time": "2022-11-06T00:33:03.365Z"
   },
   {
    "duration": 767,
    "start_time": "2022-11-06T00:33:03.374Z"
   },
   {
    "duration": 1526,
    "start_time": "2022-11-06T00:33:04.142Z"
   },
   {
    "duration": 3,
    "start_time": "2022-11-06T00:33:05.670Z"
   },
   {
    "duration": 649,
    "start_time": "2022-11-06T00:33:05.674Z"
   },
   {
    "duration": 296,
    "start_time": "2022-11-06T00:33:06.325Z"
   },
   {
    "duration": 774,
    "start_time": "2022-11-06T00:33:06.623Z"
   },
   {
    "duration": 23,
    "start_time": "2022-11-06T00:33:07.399Z"
   },
   {
    "duration": 23,
    "start_time": "2022-11-06T00:33:07.424Z"
   },
   {
    "duration": 80,
    "start_time": "2022-11-06T00:33:07.449Z"
   },
   {
    "duration": 715,
    "start_time": "2022-11-06T00:33:07.531Z"
   },
   {
    "duration": 3,
    "start_time": "2022-11-06T00:33:08.247Z"
   },
   {
    "duration": 29,
    "start_time": "2022-11-06T00:33:08.251Z"
   },
   {
    "duration": 616,
    "start_time": "2022-11-06T00:33:08.281Z"
   },
   {
    "duration": 11,
    "start_time": "2022-11-06T00:33:08.898Z"
   },
   {
    "duration": 817,
    "start_time": "2022-11-06T00:33:08.910Z"
   },
   {
    "duration": 80,
    "start_time": "2022-11-06T00:33:09.729Z"
   },
   {
    "duration": 10,
    "start_time": "2022-11-06T00:33:09.811Z"
   },
   {
    "duration": 55,
    "start_time": "2022-11-06T00:33:09.823Z"
   },
   {
    "duration": 796,
    "start_time": "2022-11-06T00:33:09.880Z"
   },
   {
    "duration": 3,
    "start_time": "2022-11-06T00:33:10.677Z"
   },
   {
    "duration": 486,
    "start_time": "2022-11-06T00:33:10.682Z"
   },
   {
    "duration": 81,
    "start_time": "2022-11-06T00:33:11.169Z"
   },
   {
    "duration": 1795,
    "start_time": "2022-11-06T00:33:11.253Z"
   },
   {
    "duration": 47,
    "start_time": "2022-11-06T00:33:13.049Z"
   },
   {
    "duration": 14,
    "start_time": "2022-11-06T00:33:13.097Z"
   },
   {
    "duration": 9,
    "start_time": "2022-11-06T00:33:13.112Z"
   },
   {
    "duration": 7,
    "start_time": "2022-11-06T00:33:13.123Z"
   },
   {
    "duration": 979,
    "start_time": "2022-11-06T00:33:13.131Z"
   },
   {
    "duration": 96,
    "start_time": "2022-11-06T00:33:14.112Z"
   },
   {
    "duration": 3702,
    "start_time": "2022-11-06T00:33:14.210Z"
   },
   {
    "duration": 3,
    "start_time": "2022-11-06T00:33:17.915Z"
   },
   {
    "duration": 90,
    "start_time": "2022-11-06T00:33:17.921Z"
   },
   {
    "duration": 3724,
    "start_time": "2022-11-06T00:33:18.012Z"
   },
   {
    "duration": 6,
    "start_time": "2022-11-06T00:33:21.737Z"
   },
   {
    "duration": 9,
    "start_time": "2022-11-06T00:33:21.744Z"
   },
   {
    "duration": 3,
    "start_time": "2022-11-06T00:33:21.754Z"
   },
   {
    "duration": 41,
    "start_time": "2022-11-06T00:33:21.759Z"
   },
   {
    "duration": 216457,
    "start_time": "2022-11-06T00:33:21.802Z"
   },
   {
    "duration": 0,
    "start_time": "2022-11-06T00:36:58.260Z"
   },
   {
    "duration": 1309,
    "start_time": "2022-11-06T00:37:03.918Z"
   },
   {
    "duration": 4,
    "start_time": "2022-11-06T00:37:05.229Z"
   },
   {
    "duration": 6,
    "start_time": "2022-11-06T00:37:05.235Z"
   },
   {
    "duration": 8,
    "start_time": "2022-11-06T00:37:05.243Z"
   },
   {
    "duration": 13,
    "start_time": "2022-11-06T00:37:05.253Z"
   },
   {
    "duration": 754,
    "start_time": "2022-11-06T00:37:05.268Z"
   },
   {
    "duration": 1560,
    "start_time": "2022-11-06T00:37:06.024Z"
   },
   {
    "duration": 3,
    "start_time": "2022-11-06T00:37:07.586Z"
   },
   {
    "duration": 641,
    "start_time": "2022-11-06T00:37:07.590Z"
   },
   {
    "duration": 279,
    "start_time": "2022-11-06T00:37:08.233Z"
   },
   {
    "duration": 798,
    "start_time": "2022-11-06T00:37:08.514Z"
   },
   {
    "duration": 20,
    "start_time": "2022-11-06T00:37:09.313Z"
   },
   {
    "duration": 26,
    "start_time": "2022-11-06T00:37:09.334Z"
   },
   {
    "duration": 82,
    "start_time": "2022-11-06T00:37:09.362Z"
   },
   {
    "duration": 700,
    "start_time": "2022-11-06T00:37:09.445Z"
   },
   {
    "duration": 2,
    "start_time": "2022-11-06T00:37:10.147Z"
   },
   {
    "duration": 19,
    "start_time": "2022-11-06T00:37:10.151Z"
   },
   {
    "duration": 623,
    "start_time": "2022-11-06T00:37:10.171Z"
   },
   {
    "duration": 14,
    "start_time": "2022-11-06T00:37:10.795Z"
   },
   {
    "duration": 774,
    "start_time": "2022-11-06T00:37:10.811Z"
   },
   {
    "duration": 86,
    "start_time": "2022-11-06T00:37:11.586Z"
   },
   {
    "duration": 8,
    "start_time": "2022-11-06T00:37:11.674Z"
   },
   {
    "duration": 62,
    "start_time": "2022-11-06T00:37:11.684Z"
   },
   {
    "duration": 774,
    "start_time": "2022-11-06T00:37:11.748Z"
   },
   {
    "duration": 3,
    "start_time": "2022-11-06T00:37:12.524Z"
   },
   {
    "duration": 495,
    "start_time": "2022-11-06T00:37:12.529Z"
   },
   {
    "duration": 75,
    "start_time": "2022-11-06T00:37:13.025Z"
   },
   {
    "duration": 1797,
    "start_time": "2022-11-06T00:37:13.110Z"
   },
   {
    "duration": 48,
    "start_time": "2022-11-06T00:37:14.909Z"
   },
   {
    "duration": 4,
    "start_time": "2022-11-06T00:37:14.959Z"
   },
   {
    "duration": 7,
    "start_time": "2022-11-06T00:37:14.965Z"
   },
   {
    "duration": 6,
    "start_time": "2022-11-06T00:37:14.973Z"
   },
   {
    "duration": 1029,
    "start_time": "2022-11-06T00:37:14.981Z"
   },
   {
    "duration": 7,
    "start_time": "2022-11-06T00:37:16.012Z"
   },
   {
    "duration": 3505,
    "start_time": "2022-11-06T00:37:16.110Z"
   },
   {
    "duration": 93,
    "start_time": "2022-11-06T00:37:19.617Z"
   },
   {
    "duration": 7,
    "start_time": "2022-11-06T00:37:19.712Z"
   },
   {
    "duration": 4168,
    "start_time": "2022-11-06T00:37:19.721Z"
   },
   {
    "duration": 6,
    "start_time": "2022-11-06T00:37:23.890Z"
   },
   {
    "duration": 10,
    "start_time": "2022-11-06T00:37:23.898Z"
   },
   {
    "duration": 9,
    "start_time": "2022-11-06T00:37:23.909Z"
   },
   {
    "duration": 42,
    "start_time": "2022-11-06T00:37:23.919Z"
   },
   {
    "duration": 293424,
    "start_time": "2022-11-06T00:37:23.962Z"
   },
   {
    "duration": 1424,
    "start_time": "2022-11-06T00:42:17.388Z"
   },
   {
    "duration": 17,
    "start_time": "2022-11-06T00:46:39.218Z"
   },
   {
    "duration": 658,
    "start_time": "2022-11-06T00:46:41.118Z"
   },
   {
    "duration": 18,
    "start_time": "2022-11-06T00:48:14.918Z"
   },
   {
    "duration": 14,
    "start_time": "2022-11-06T00:48:18.804Z"
   },
   {
    "duration": 290917,
    "start_time": "2022-11-06T00:48:20.441Z"
   },
   {
    "duration": 1304,
    "start_time": "2022-11-06T00:55:43.165Z"
   },
   {
    "duration": 3,
    "start_time": "2022-11-06T00:55:44.470Z"
   },
   {
    "duration": 12,
    "start_time": "2022-11-06T00:55:44.474Z"
   },
   {
    "duration": 17,
    "start_time": "2022-11-06T00:55:44.488Z"
   },
   {
    "duration": 24,
    "start_time": "2022-11-06T00:55:44.507Z"
   },
   {
    "duration": 755,
    "start_time": "2022-11-06T00:55:44.532Z"
   },
   {
    "duration": 1527,
    "start_time": "2022-11-06T00:55:45.289Z"
   },
   {
    "duration": 3,
    "start_time": "2022-11-06T00:55:46.817Z"
   },
   {
    "duration": 651,
    "start_time": "2022-11-06T00:55:46.822Z"
   },
   {
    "duration": 301,
    "start_time": "2022-11-06T00:55:47.476Z"
   },
   {
    "duration": 758,
    "start_time": "2022-11-06T00:55:47.778Z"
   },
   {
    "duration": 19,
    "start_time": "2022-11-06T00:55:48.538Z"
   },
   {
    "duration": 24,
    "start_time": "2022-11-06T00:55:48.559Z"
   },
   {
    "duration": 82,
    "start_time": "2022-11-06T00:55:48.584Z"
   },
   {
    "duration": 695,
    "start_time": "2022-11-06T00:55:48.667Z"
   },
   {
    "duration": 3,
    "start_time": "2022-11-06T00:55:49.363Z"
   },
   {
    "duration": 18,
    "start_time": "2022-11-06T00:55:49.367Z"
   },
   {
    "duration": 614,
    "start_time": "2022-11-06T00:55:49.386Z"
   },
   {
    "duration": 12,
    "start_time": "2022-11-06T00:55:50.001Z"
   },
   {
    "duration": 791,
    "start_time": "2022-11-06T00:55:50.014Z"
   },
   {
    "duration": 72,
    "start_time": "2022-11-06T00:55:50.807Z"
   },
   {
    "duration": 9,
    "start_time": "2022-11-06T00:55:50.880Z"
   },
   {
    "duration": 66,
    "start_time": "2022-11-06T00:55:50.891Z"
   },
   {
    "duration": 773,
    "start_time": "2022-11-06T00:55:50.958Z"
   },
   {
    "duration": 4,
    "start_time": "2022-11-06T00:55:51.732Z"
   },
   {
    "duration": 472,
    "start_time": "2022-11-06T00:55:51.737Z"
   },
   {
    "duration": 74,
    "start_time": "2022-11-06T00:55:52.210Z"
   },
   {
    "duration": 1748,
    "start_time": "2022-11-06T00:55:52.287Z"
   },
   {
    "duration": 48,
    "start_time": "2022-11-06T00:55:54.036Z"
   },
   {
    "duration": 3,
    "start_time": "2022-11-06T00:55:54.086Z"
   },
   {
    "duration": 5,
    "start_time": "2022-11-06T00:55:54.091Z"
   },
   {
    "duration": 7,
    "start_time": "2022-11-06T00:55:54.109Z"
   },
   {
    "duration": 993,
    "start_time": "2022-11-06T00:55:54.117Z"
   },
   {
    "duration": 97,
    "start_time": "2022-11-06T00:55:55.112Z"
   },
   {
    "duration": 4001,
    "start_time": "2022-11-06T00:55:55.211Z"
   },
   {
    "duration": 3,
    "start_time": "2022-11-06T00:55:59.215Z"
   },
   {
    "duration": 8,
    "start_time": "2022-11-06T00:55:59.219Z"
   },
   {
    "duration": 4093,
    "start_time": "2022-11-06T00:55:59.229Z"
   },
   {
    "duration": 7,
    "start_time": "2022-11-06T00:56:03.324Z"
   },
   {
    "duration": 9,
    "start_time": "2022-11-06T00:56:03.332Z"
   },
   {
    "duration": 4,
    "start_time": "2022-11-06T00:56:03.343Z"
   },
   {
    "duration": 45,
    "start_time": "2022-11-06T00:56:03.348Z"
   },
   {
    "duration": 585648,
    "start_time": "2022-11-06T00:56:03.395Z"
   },
   {
    "duration": 1465,
    "start_time": "2022-11-06T01:05:49.044Z"
   },
   {
    "duration": 119,
    "start_time": "2022-11-06T01:06:44.207Z"
   },
   {
    "duration": 4,
    "start_time": "2022-11-06T01:07:49.286Z"
   },
   {
    "duration": 8362,
    "start_time": "2022-11-06T01:08:00.964Z"
   },
   {
    "duration": 20,
    "start_time": "2022-11-06T01:08:19.925Z"
   },
   {
    "duration": 204,
    "start_time": "2022-11-06T01:08:22.413Z"
   },
   {
    "duration": 18,
    "start_time": "2022-11-06T01:08:39.987Z"
   },
   {
    "duration": 12028,
    "start_time": "2022-11-06T01:08:42.694Z"
   },
   {
    "duration": 1301,
    "start_time": "2022-11-06T01:09:09.038Z"
   },
   {
    "duration": 3,
    "start_time": "2022-11-06T01:09:10.341Z"
   },
   {
    "duration": 8,
    "start_time": "2022-11-06T01:09:10.345Z"
   },
   {
    "duration": 8,
    "start_time": "2022-11-06T01:09:10.355Z"
   },
   {
    "duration": 7,
    "start_time": "2022-11-06T01:09:10.364Z"
   },
   {
    "duration": 736,
    "start_time": "2022-11-06T01:09:10.372Z"
   },
   {
    "duration": 1503,
    "start_time": "2022-11-06T01:09:11.110Z"
   },
   {
    "duration": 3,
    "start_time": "2022-11-06T01:09:12.614Z"
   },
   {
    "duration": 631,
    "start_time": "2022-11-06T01:09:12.619Z"
   },
   {
    "duration": 289,
    "start_time": "2022-11-06T01:09:13.254Z"
   },
   {
    "duration": 777,
    "start_time": "2022-11-06T01:09:13.545Z"
   },
   {
    "duration": 21,
    "start_time": "2022-11-06T01:09:14.323Z"
   },
   {
    "duration": 23,
    "start_time": "2022-11-06T01:09:14.345Z"
   },
   {
    "duration": 96,
    "start_time": "2022-11-06T01:09:14.370Z"
   },
   {
    "duration": 688,
    "start_time": "2022-11-06T01:09:14.467Z"
   },
   {
    "duration": 2,
    "start_time": "2022-11-06T01:09:15.157Z"
   },
   {
    "duration": 17,
    "start_time": "2022-11-06T01:09:15.160Z"
   },
   {
    "duration": 635,
    "start_time": "2022-11-06T01:09:15.179Z"
   },
   {
    "duration": 8,
    "start_time": "2022-11-06T01:09:15.816Z"
   },
   {
    "duration": 816,
    "start_time": "2022-11-06T01:09:15.825Z"
   },
   {
    "duration": 78,
    "start_time": "2022-11-06T01:09:16.642Z"
   },
   {
    "duration": 8,
    "start_time": "2022-11-06T01:09:16.722Z"
   },
   {
    "duration": 50,
    "start_time": "2022-11-06T01:09:16.732Z"
   },
   {
    "duration": 786,
    "start_time": "2022-11-06T01:09:16.784Z"
   },
   {
    "duration": 4,
    "start_time": "2022-11-06T01:09:17.572Z"
   },
   {
    "duration": 480,
    "start_time": "2022-11-06T01:09:17.577Z"
   },
   {
    "duration": 82,
    "start_time": "2022-11-06T01:09:18.058Z"
   },
   {
    "duration": 1748,
    "start_time": "2022-11-06T01:09:18.144Z"
   },
   {
    "duration": 61,
    "start_time": "2022-11-06T01:09:19.894Z"
   },
   {
    "duration": 4,
    "start_time": "2022-11-06T01:09:19.956Z"
   },
   {
    "duration": 5,
    "start_time": "2022-11-06T01:09:19.962Z"
   },
   {
    "duration": 10,
    "start_time": "2022-11-06T01:09:19.968Z"
   },
   {
    "duration": 931,
    "start_time": "2022-11-06T01:09:19.979Z"
   },
   {
    "duration": 7,
    "start_time": "2022-11-06T01:09:20.912Z"
   },
   {
    "duration": 3800,
    "start_time": "2022-11-06T01:09:21.010Z"
   },
   {
    "duration": 3,
    "start_time": "2022-11-06T01:09:24.812Z"
   },
   {
    "duration": 9,
    "start_time": "2022-11-06T01:09:24.817Z"
   },
   {
    "duration": 3992,
    "start_time": "2022-11-06T01:09:24.827Z"
   },
   {
    "duration": 6,
    "start_time": "2022-11-06T01:09:28.820Z"
   },
   {
    "duration": 15,
    "start_time": "2022-11-06T01:09:28.828Z"
   },
   {
    "duration": 5,
    "start_time": "2022-11-06T01:09:28.844Z"
   },
   {
    "duration": 45,
    "start_time": "2022-11-06T01:09:28.850Z"
   },
   {
    "duration": 35816,
    "start_time": "2022-11-06T01:09:28.897Z"
   },
   {
    "duration": 0,
    "start_time": "2022-11-06T01:10:04.715Z"
   },
   {
    "duration": 13,
    "start_time": "2022-11-06T01:10:29.546Z"
   },
   {
    "duration": 14,
    "start_time": "2022-11-06T01:11:00.791Z"
   },
   {
    "duration": 0,
    "start_time": "2022-11-06T01:14:20.998Z"
   },
   {
    "duration": 0,
    "start_time": "2022-11-06T01:14:21.000Z"
   },
   {
    "duration": 1327,
    "start_time": "2022-11-06T01:14:24.911Z"
   },
   {
    "duration": 3,
    "start_time": "2022-11-06T01:14:26.240Z"
   },
   {
    "duration": 7,
    "start_time": "2022-11-06T01:14:26.245Z"
   },
   {
    "duration": 14,
    "start_time": "2022-11-06T01:14:26.254Z"
   },
   {
    "duration": 8,
    "start_time": "2022-11-06T01:14:26.269Z"
   },
   {
    "duration": 756,
    "start_time": "2022-11-06T01:14:26.279Z"
   },
   {
    "duration": 1520,
    "start_time": "2022-11-06T01:14:27.037Z"
   },
   {
    "duration": 3,
    "start_time": "2022-11-06T01:14:28.559Z"
   },
   {
    "duration": 643,
    "start_time": "2022-11-06T01:14:28.564Z"
   },
   {
    "duration": 290,
    "start_time": "2022-11-06T01:14:29.210Z"
   },
   {
    "duration": 760,
    "start_time": "2022-11-06T01:14:29.502Z"
   },
   {
    "duration": 19,
    "start_time": "2022-11-06T01:14:30.264Z"
   },
   {
    "duration": 33,
    "start_time": "2022-11-06T01:14:30.284Z"
   },
   {
    "duration": 69,
    "start_time": "2022-11-06T01:14:30.318Z"
   },
   {
    "duration": 719,
    "start_time": "2022-11-06T01:14:30.389Z"
   },
   {
    "duration": 2,
    "start_time": "2022-11-06T01:14:31.110Z"
   },
   {
    "duration": 18,
    "start_time": "2022-11-06T01:14:31.114Z"
   },
   {
    "duration": 643,
    "start_time": "2022-11-06T01:14:31.134Z"
   },
   {
    "duration": 9,
    "start_time": "2022-11-06T01:14:31.778Z"
   },
   {
    "duration": 804,
    "start_time": "2022-11-06T01:14:31.788Z"
   },
   {
    "duration": 81,
    "start_time": "2022-11-06T01:14:32.594Z"
   },
   {
    "duration": 9,
    "start_time": "2022-11-06T01:14:32.677Z"
   },
   {
    "duration": 61,
    "start_time": "2022-11-06T01:14:32.687Z"
   },
   {
    "duration": 792,
    "start_time": "2022-11-06T01:14:32.750Z"
   },
   {
    "duration": 4,
    "start_time": "2022-11-06T01:14:33.543Z"
   },
   {
    "duration": 503,
    "start_time": "2022-11-06T01:14:33.548Z"
   },
   {
    "duration": 86,
    "start_time": "2022-11-06T01:14:34.053Z"
   },
   {
    "duration": 1778,
    "start_time": "2022-11-06T01:14:34.142Z"
   },
   {
    "duration": 47,
    "start_time": "2022-11-06T01:14:35.922Z"
   },
   {
    "duration": 3,
    "start_time": "2022-11-06T01:14:35.970Z"
   },
   {
    "duration": 5,
    "start_time": "2022-11-06T01:14:35.975Z"
   },
   {
    "duration": 5,
    "start_time": "2022-11-06T01:14:35.982Z"
   },
   {
    "duration": 1022,
    "start_time": "2022-11-06T01:14:35.988Z"
   },
   {
    "duration": 98,
    "start_time": "2022-11-06T01:14:37.011Z"
   },
   {
    "duration": 3501,
    "start_time": "2022-11-06T01:14:37.111Z"
   },
   {
    "duration": 4,
    "start_time": "2022-11-06T01:14:40.615Z"
   },
   {
    "duration": 93,
    "start_time": "2022-11-06T01:14:40.620Z"
   },
   {
    "duration": 3996,
    "start_time": "2022-11-06T01:14:40.714Z"
   },
   {
    "duration": 6,
    "start_time": "2022-11-06T01:14:44.712Z"
   },
   {
    "duration": 10,
    "start_time": "2022-11-06T01:14:44.719Z"
   },
   {
    "duration": 4,
    "start_time": "2022-11-06T01:14:44.730Z"
   },
   {
    "duration": 42,
    "start_time": "2022-11-06T01:14:44.735Z"
   },
   {
    "duration": 17415,
    "start_time": "2022-11-06T01:14:44.779Z"
   },
   {
    "duration": 0,
    "start_time": "2022-11-06T01:15:02.196Z"
   },
   {
    "duration": 1332,
    "start_time": "2022-11-06T01:15:06.710Z"
   },
   {
    "duration": 3,
    "start_time": "2022-11-06T01:15:08.044Z"
   },
   {
    "duration": 9,
    "start_time": "2022-11-06T01:15:08.049Z"
   },
   {
    "duration": 6,
    "start_time": "2022-11-06T01:15:08.060Z"
   },
   {
    "duration": 12,
    "start_time": "2022-11-06T01:15:08.068Z"
   },
   {
    "duration": 742,
    "start_time": "2022-11-06T01:15:08.082Z"
   },
   {
    "duration": 1486,
    "start_time": "2022-11-06T01:15:08.826Z"
   },
   {
    "duration": 3,
    "start_time": "2022-11-06T01:15:10.314Z"
   },
   {
    "duration": 626,
    "start_time": "2022-11-06T01:15:10.318Z"
   },
   {
    "duration": 286,
    "start_time": "2022-11-06T01:15:10.948Z"
   },
   {
    "duration": 760,
    "start_time": "2022-11-06T01:15:11.236Z"
   },
   {
    "duration": 20,
    "start_time": "2022-11-06T01:15:11.998Z"
   },
   {
    "duration": 45,
    "start_time": "2022-11-06T01:15:12.019Z"
   },
   {
    "duration": 67,
    "start_time": "2022-11-06T01:15:12.066Z"
   },
   {
    "duration": 678,
    "start_time": "2022-11-06T01:15:12.135Z"
   },
   {
    "duration": 3,
    "start_time": "2022-11-06T01:15:12.814Z"
   },
   {
    "duration": 15,
    "start_time": "2022-11-06T01:15:12.818Z"
   },
   {
    "duration": 614,
    "start_time": "2022-11-06T01:15:12.835Z"
   },
   {
    "duration": 9,
    "start_time": "2022-11-06T01:15:13.451Z"
   },
   {
    "duration": 765,
    "start_time": "2022-11-06T01:15:13.461Z"
   },
   {
    "duration": 70,
    "start_time": "2022-11-06T01:15:14.228Z"
   },
   {
    "duration": 9,
    "start_time": "2022-11-06T01:15:14.308Z"
   },
   {
    "duration": 49,
    "start_time": "2022-11-06T01:15:14.319Z"
   },
   {
    "duration": 802,
    "start_time": "2022-11-06T01:15:14.370Z"
   },
   {
    "duration": 3,
    "start_time": "2022-11-06T01:15:15.174Z"
   },
   {
    "duration": 511,
    "start_time": "2022-11-06T01:15:15.178Z"
   },
   {
    "duration": 83,
    "start_time": "2022-11-06T01:15:15.690Z"
   },
   {
    "duration": 1771,
    "start_time": "2022-11-06T01:15:15.776Z"
   },
   {
    "duration": 46,
    "start_time": "2022-11-06T01:15:17.549Z"
   },
   {
    "duration": 14,
    "start_time": "2022-11-06T01:15:17.596Z"
   },
   {
    "duration": 5,
    "start_time": "2022-11-06T01:15:17.612Z"
   },
   {
    "duration": 5,
    "start_time": "2022-11-06T01:15:17.618Z"
   },
   {
    "duration": 993,
    "start_time": "2022-11-06T01:15:17.624Z"
   },
   {
    "duration": 94,
    "start_time": "2022-11-06T01:15:18.618Z"
   },
   {
    "duration": 3797,
    "start_time": "2022-11-06T01:15:18.713Z"
   },
   {
    "duration": 4,
    "start_time": "2022-11-06T01:15:22.512Z"
   },
   {
    "duration": 9,
    "start_time": "2022-11-06T01:15:22.517Z"
   },
   {
    "duration": 4054,
    "start_time": "2022-11-06T01:15:22.528Z"
   },
   {
    "duration": 6,
    "start_time": "2022-11-06T01:15:26.584Z"
   },
   {
    "duration": 11,
    "start_time": "2022-11-06T01:15:26.591Z"
   },
   {
    "duration": 4,
    "start_time": "2022-11-06T01:15:26.603Z"
   },
   {
    "duration": 39,
    "start_time": "2022-11-06T01:15:26.609Z"
   },
   {
    "duration": 292363,
    "start_time": "2022-11-06T01:15:26.650Z"
   },
   {
    "duration": 0,
    "start_time": "2022-11-06T01:20:19.015Z"
   },
   {
    "duration": 4773,
    "start_time": "2022-11-06T01:27:34.184Z"
   },
   {
    "duration": 1330,
    "start_time": "2022-11-06T01:27:43.428Z"
   },
   {
    "duration": 3,
    "start_time": "2022-11-06T01:27:44.760Z"
   },
   {
    "duration": 5,
    "start_time": "2022-11-06T01:27:44.765Z"
   },
   {
    "duration": 6,
    "start_time": "2022-11-06T01:27:44.772Z"
   },
   {
    "duration": 11,
    "start_time": "2022-11-06T01:27:44.780Z"
   },
   {
    "duration": 750,
    "start_time": "2022-11-06T01:27:44.792Z"
   },
   {
    "duration": 1508,
    "start_time": "2022-11-06T01:27:45.544Z"
   },
   {
    "duration": 3,
    "start_time": "2022-11-06T01:27:47.054Z"
   },
   {
    "duration": 643,
    "start_time": "2022-11-06T01:27:47.058Z"
   },
   {
    "duration": 285,
    "start_time": "2022-11-06T01:27:47.704Z"
   },
   {
    "duration": 796,
    "start_time": "2022-11-06T01:27:47.991Z"
   },
   {
    "duration": 26,
    "start_time": "2022-11-06T01:27:48.788Z"
   },
   {
    "duration": 23,
    "start_time": "2022-11-06T01:27:48.815Z"
   },
   {
    "duration": 77,
    "start_time": "2022-11-06T01:27:48.839Z"
   },
   {
    "duration": 688,
    "start_time": "2022-11-06T01:27:48.917Z"
   },
   {
    "duration": 2,
    "start_time": "2022-11-06T01:27:49.607Z"
   },
   {
    "duration": 16,
    "start_time": "2022-11-06T01:27:49.611Z"
   },
   {
    "duration": 625,
    "start_time": "2022-11-06T01:27:49.628Z"
   },
   {
    "duration": 8,
    "start_time": "2022-11-06T01:27:50.255Z"
   },
   {
    "duration": 797,
    "start_time": "2022-11-06T01:27:50.264Z"
   },
   {
    "duration": 77,
    "start_time": "2022-11-06T01:27:51.062Z"
   },
   {
    "duration": 9,
    "start_time": "2022-11-06T01:27:51.140Z"
   },
   {
    "duration": 64,
    "start_time": "2022-11-06T01:27:51.151Z"
   },
   {
    "duration": 781,
    "start_time": "2022-11-06T01:27:51.217Z"
   },
   {
    "duration": 10,
    "start_time": "2022-11-06T01:27:52.000Z"
   },
   {
    "duration": 486,
    "start_time": "2022-11-06T01:27:52.012Z"
   },
   {
    "duration": 80,
    "start_time": "2022-11-06T01:27:52.500Z"
   },
   {
    "duration": 1783,
    "start_time": "2022-11-06T01:27:52.584Z"
   },
   {
    "duration": 63,
    "start_time": "2022-11-06T01:27:54.369Z"
   },
   {
    "duration": 4,
    "start_time": "2022-11-06T01:27:54.434Z"
   },
   {
    "duration": 8,
    "start_time": "2022-11-06T01:27:54.440Z"
   },
   {
    "duration": 21,
    "start_time": "2022-11-06T01:27:54.450Z"
   },
   {
    "duration": 937,
    "start_time": "2022-11-06T01:27:54.473Z"
   },
   {
    "duration": 98,
    "start_time": "2022-11-06T01:27:55.412Z"
   },
   {
    "duration": 3806,
    "start_time": "2022-11-06T01:27:55.512Z"
   },
   {
    "duration": 3,
    "start_time": "2022-11-06T01:27:59.410Z"
   },
   {
    "duration": 12,
    "start_time": "2022-11-06T01:27:59.414Z"
   },
   {
    "duration": 4322,
    "start_time": "2022-11-06T01:27:59.427Z"
   },
   {
    "duration": 7,
    "start_time": "2022-11-06T01:28:03.751Z"
   },
   {
    "duration": 10,
    "start_time": "2022-11-06T01:28:03.759Z"
   },
   {
    "duration": 4,
    "start_time": "2022-11-06T01:28:03.770Z"
   },
   {
    "duration": 40,
    "start_time": "2022-11-06T01:28:03.775Z"
   },
   {
    "duration": 292563,
    "start_time": "2022-11-06T01:28:03.817Z"
   },
   {
    "duration": 0,
    "start_time": "2022-11-06T01:32:56.381Z"
   },
   {
    "duration": 291440,
    "start_time": "2022-11-06T01:36:41.633Z"
   },
   {
    "duration": 4047,
    "start_time": "2022-11-06T01:53:19.748Z"
   },
   {
    "duration": 1269,
    "start_time": "2022-11-06T01:53:27.660Z"
   },
   {
    "duration": 3,
    "start_time": "2022-11-06T01:53:28.931Z"
   },
   {
    "duration": 8,
    "start_time": "2022-11-06T01:53:28.935Z"
   },
   {
    "duration": 6,
    "start_time": "2022-11-06T01:53:28.945Z"
   },
   {
    "duration": 8,
    "start_time": "2022-11-06T01:53:28.953Z"
   },
   {
    "duration": 756,
    "start_time": "2022-11-06T01:53:28.963Z"
   },
   {
    "duration": 1545,
    "start_time": "2022-11-06T01:53:29.720Z"
   },
   {
    "duration": 3,
    "start_time": "2022-11-06T01:53:31.266Z"
   },
   {
    "duration": 627,
    "start_time": "2022-11-06T01:53:31.271Z"
   },
   {
    "duration": 285,
    "start_time": "2022-11-06T01:53:31.901Z"
   },
   {
    "duration": 775,
    "start_time": "2022-11-06T01:53:32.187Z"
   },
   {
    "duration": 20,
    "start_time": "2022-11-06T01:53:32.963Z"
   },
   {
    "duration": 37,
    "start_time": "2022-11-06T01:53:32.985Z"
   },
   {
    "duration": 66,
    "start_time": "2022-11-06T01:53:33.023Z"
   },
   {
    "duration": 704,
    "start_time": "2022-11-06T01:53:33.090Z"
   },
   {
    "duration": 2,
    "start_time": "2022-11-06T01:53:33.796Z"
   },
   {
    "duration": 25,
    "start_time": "2022-11-06T01:53:33.799Z"
   },
   {
    "duration": 632,
    "start_time": "2022-11-06T01:53:33.826Z"
   },
   {
    "duration": 8,
    "start_time": "2022-11-06T01:53:34.460Z"
   },
   {
    "duration": 778,
    "start_time": "2022-11-06T01:53:34.470Z"
   },
   {
    "duration": 80,
    "start_time": "2022-11-06T01:53:35.249Z"
   },
   {
    "duration": 9,
    "start_time": "2022-11-06T01:53:35.330Z"
   },
   {
    "duration": 69,
    "start_time": "2022-11-06T01:53:35.340Z"
   },
   {
    "duration": 763,
    "start_time": "2022-11-06T01:53:35.410Z"
   },
   {
    "duration": 3,
    "start_time": "2022-11-06T01:53:36.175Z"
   },
   {
    "duration": 521,
    "start_time": "2022-11-06T01:53:36.180Z"
   },
   {
    "duration": 80,
    "start_time": "2022-11-06T01:53:36.703Z"
   },
   {
    "duration": 1783,
    "start_time": "2022-11-06T01:53:36.787Z"
   },
   {
    "duration": 53,
    "start_time": "2022-11-06T01:53:38.571Z"
   },
   {
    "duration": 3,
    "start_time": "2022-11-06T01:53:38.626Z"
   },
   {
    "duration": 5,
    "start_time": "2022-11-06T01:53:38.631Z"
   },
   {
    "duration": 8,
    "start_time": "2022-11-06T01:53:38.637Z"
   },
   {
    "duration": 966,
    "start_time": "2022-11-06T01:53:38.646Z"
   },
   {
    "duration": 99,
    "start_time": "2022-11-06T01:53:39.613Z"
   },
   {
    "duration": 3799,
    "start_time": "2022-11-06T01:53:39.714Z"
   },
   {
    "duration": 94,
    "start_time": "2022-11-06T01:53:43.515Z"
   },
   {
    "duration": 6,
    "start_time": "2022-11-06T01:53:43.611Z"
   },
   {
    "duration": 3826,
    "start_time": "2022-11-06T01:53:43.618Z"
   },
   {
    "duration": 7,
    "start_time": "2022-11-06T01:53:47.446Z"
   },
   {
    "duration": 10,
    "start_time": "2022-11-06T01:53:47.455Z"
   },
   {
    "duration": 6,
    "start_time": "2022-11-06T01:53:47.466Z"
   },
   {
    "duration": 39,
    "start_time": "2022-11-06T01:53:47.473Z"
   },
   {
    "duration": 292886,
    "start_time": "2022-11-06T01:53:47.514Z"
   },
   {
    "duration": 1418,
    "start_time": "2022-11-06T01:58:40.401Z"
   },
   {
    "duration": 17,
    "start_time": "2022-11-06T02:13:01.845Z"
   },
   {
    "duration": 431,
    "start_time": "2022-11-06T02:13:05.897Z"
   },
   {
    "duration": 277,
    "start_time": "2022-11-06T02:13:38.834Z"
   },
   {
    "duration": 21,
    "start_time": "2022-11-06T02:13:48.989Z"
   },
   {
    "duration": 581598,
    "start_time": "2022-11-06T02:13:51.575Z"
   },
   {
    "duration": 52,
    "start_time": "2022-11-06T02:24:14.368Z"
   },
   {
    "duration": 46,
    "start_time": "2022-11-06T02:24:27.605Z"
   },
   {
    "duration": 582484,
    "start_time": "2022-11-06T02:24:38.038Z"
   },
   {
    "duration": 580631,
    "start_time": "2022-11-06T02:52:04.309Z"
   },
   {
    "duration": 583562,
    "start_time": "2022-11-06T03:09:41.678Z"
   },
   {
    "duration": 51,
    "start_time": "2022-11-06T18:40:09.162Z"
   },
   {
    "duration": 1527,
    "start_time": "2022-11-06T18:40:19.712Z"
   },
   {
    "duration": 3,
    "start_time": "2022-11-06T18:40:21.241Z"
   },
   {
    "duration": 15,
    "start_time": "2022-11-06T18:40:21.246Z"
   },
   {
    "duration": 6,
    "start_time": "2022-11-06T18:40:21.264Z"
   },
   {
    "duration": 12,
    "start_time": "2022-11-06T18:40:21.272Z"
   },
   {
    "duration": 1262,
    "start_time": "2022-11-06T18:40:21.286Z"
   },
   {
    "duration": 1799,
    "start_time": "2022-11-06T18:40:22.550Z"
   },
   {
    "duration": 6,
    "start_time": "2022-11-06T18:40:24.350Z"
   },
   {
    "duration": 754,
    "start_time": "2022-11-06T18:40:24.357Z"
   },
   {
    "duration": 296,
    "start_time": "2022-11-06T18:40:25.113Z"
   },
   {
    "duration": 906,
    "start_time": "2022-11-06T18:40:25.410Z"
   },
   {
    "duration": 19,
    "start_time": "2022-11-06T18:40:26.318Z"
   },
   {
    "duration": 38,
    "start_time": "2022-11-06T18:40:26.338Z"
   },
   {
    "duration": 81,
    "start_time": "2022-11-06T18:40:26.377Z"
   },
   {
    "duration": 836,
    "start_time": "2022-11-06T18:40:26.461Z"
   },
   {
    "duration": 3,
    "start_time": "2022-11-06T18:40:27.299Z"
   },
   {
    "duration": 29,
    "start_time": "2022-11-06T18:40:27.303Z"
   },
   {
    "duration": 711,
    "start_time": "2022-11-06T18:40:27.333Z"
   },
   {
    "duration": 17,
    "start_time": "2022-11-06T18:40:28.045Z"
   },
   {
    "duration": 946,
    "start_time": "2022-11-06T18:40:28.064Z"
   },
   {
    "duration": 88,
    "start_time": "2022-11-06T18:40:29.012Z"
   },
   {
    "duration": 14,
    "start_time": "2022-11-06T18:40:29.102Z"
   },
   {
    "duration": 78,
    "start_time": "2022-11-06T18:40:29.118Z"
   },
   {
    "duration": 888,
    "start_time": "2022-11-06T18:40:29.198Z"
   },
   {
    "duration": 4,
    "start_time": "2022-11-06T18:40:30.088Z"
   },
   {
    "duration": 563,
    "start_time": "2022-11-06T18:40:30.093Z"
   },
   {
    "duration": 108,
    "start_time": "2022-11-06T18:40:30.658Z"
   },
   {
    "duration": 2185,
    "start_time": "2022-11-06T18:40:30.769Z"
   },
   {
    "duration": 72,
    "start_time": "2022-11-06T18:40:32.956Z"
   },
   {
    "duration": 4,
    "start_time": "2022-11-06T18:40:33.029Z"
   },
   {
    "duration": 19,
    "start_time": "2022-11-06T18:40:33.035Z"
   },
   {
    "duration": 5,
    "start_time": "2022-11-06T18:40:33.056Z"
   },
   {
    "duration": 1292,
    "start_time": "2022-11-06T18:40:33.063Z"
   },
   {
    "duration": 99,
    "start_time": "2022-11-06T18:40:34.359Z"
   },
   {
    "duration": 0,
    "start_time": "2022-11-06T18:41:06.302Z"
   },
   {
    "duration": 0,
    "start_time": "2022-11-06T18:41:06.304Z"
   },
   {
    "duration": 26249,
    "start_time": "2022-11-06T18:41:09.718Z"
   },
   {
    "duration": 23882,
    "start_time": "2022-11-06T18:41:49.585Z"
   },
   {
    "duration": 1560,
    "start_time": "2022-11-06T18:45:01.420Z"
   },
   {
    "duration": 3,
    "start_time": "2022-11-06T18:45:02.983Z"
   },
   {
    "duration": 38,
    "start_time": "2022-11-06T18:45:02.988Z"
   },
   {
    "duration": 12,
    "start_time": "2022-11-06T18:45:03.029Z"
   },
   {
    "duration": 42,
    "start_time": "2022-11-06T18:45:03.043Z"
   },
   {
    "duration": 915,
    "start_time": "2022-11-06T18:45:03.087Z"
   },
   {
    "duration": 1788,
    "start_time": "2022-11-06T18:45:04.004Z"
   },
   {
    "duration": 4,
    "start_time": "2022-11-06T18:45:05.794Z"
   },
   {
    "duration": 794,
    "start_time": "2022-11-06T18:45:05.800Z"
   },
   {
    "duration": 333,
    "start_time": "2022-11-06T18:45:06.597Z"
   },
   {
    "duration": 964,
    "start_time": "2022-11-06T18:45:06.932Z"
   },
   {
    "duration": 19,
    "start_time": "2022-11-06T18:45:07.898Z"
   },
   {
    "duration": 51,
    "start_time": "2022-11-06T18:45:07.918Z"
   },
   {
    "duration": 84,
    "start_time": "2022-11-06T18:45:07.971Z"
   },
   {
    "duration": 837,
    "start_time": "2022-11-06T18:45:08.057Z"
   },
   {
    "duration": 4,
    "start_time": "2022-11-06T18:45:08.896Z"
   },
   {
    "duration": 38,
    "start_time": "2022-11-06T18:45:08.902Z"
   },
   {
    "duration": 743,
    "start_time": "2022-11-06T18:45:08.942Z"
   },
   {
    "duration": 10,
    "start_time": "2022-11-06T18:45:09.687Z"
   },
   {
    "duration": 1002,
    "start_time": "2022-11-06T18:45:09.699Z"
   },
   {
    "duration": 85,
    "start_time": "2022-11-06T18:45:10.703Z"
   },
   {
    "duration": 15,
    "start_time": "2022-11-06T18:45:10.790Z"
   },
   {
    "duration": 81,
    "start_time": "2022-11-06T18:45:10.807Z"
   },
   {
    "duration": 1024,
    "start_time": "2022-11-06T18:45:10.890Z"
   },
   {
    "duration": 4,
    "start_time": "2022-11-06T18:45:11.916Z"
   },
   {
    "duration": 534,
    "start_time": "2022-11-06T18:45:11.921Z"
   },
   {
    "duration": 106,
    "start_time": "2022-11-06T18:45:12.457Z"
   },
   {
    "duration": 2139,
    "start_time": "2022-11-06T18:45:12.566Z"
   },
   {
    "duration": 79,
    "start_time": "2022-11-06T18:45:14.708Z"
   },
   {
    "duration": 5,
    "start_time": "2022-11-06T18:45:14.788Z"
   },
   {
    "duration": 7,
    "start_time": "2022-11-06T18:45:14.794Z"
   },
   {
    "duration": 5,
    "start_time": "2022-11-06T18:45:14.803Z"
   },
   {
    "duration": 1349,
    "start_time": "2022-11-06T18:45:14.809Z"
   },
   {
    "duration": 94,
    "start_time": "2022-11-06T18:45:16.160Z"
   },
   {
    "duration": 22800,
    "start_time": "2022-11-06T18:45:16.257Z"
   },
   {
    "duration": 0,
    "start_time": "2022-11-06T18:45:39.059Z"
   },
   {
    "duration": 0,
    "start_time": "2022-11-06T18:45:39.060Z"
   },
   {
    "duration": 0,
    "start_time": "2022-11-06T18:45:39.061Z"
   },
   {
    "duration": 0,
    "start_time": "2022-11-06T18:45:39.062Z"
   },
   {
    "duration": 0,
    "start_time": "2022-11-06T18:45:39.063Z"
   },
   {
    "duration": 0,
    "start_time": "2022-11-06T18:45:39.064Z"
   },
   {
    "duration": 0,
    "start_time": "2022-11-06T18:45:39.065Z"
   },
   {
    "duration": 0,
    "start_time": "2022-11-06T18:45:39.066Z"
   },
   {
    "duration": 0,
    "start_time": "2022-11-06T18:45:39.067Z"
   },
   {
    "duration": 19356,
    "start_time": "2022-11-06T18:49:46.213Z"
   },
   {
    "duration": 4812,
    "start_time": "2022-11-06T18:50:06.660Z"
   },
   {
    "duration": 107993,
    "start_time": "2022-11-06T18:50:18.186Z"
   },
   {
    "duration": 15,
    "start_time": "2022-11-06T18:53:08.281Z"
   },
   {
    "duration": 5,
    "start_time": "2022-11-06T18:53:18.181Z"
   },
   {
    "duration": 7,
    "start_time": "2022-11-06T18:53:18.189Z"
   },
   {
    "duration": 11,
    "start_time": "2022-11-06T18:53:18.198Z"
   },
   {
    "duration": 15,
    "start_time": "2022-11-06T18:53:18.212Z"
   },
   {
    "duration": 15,
    "start_time": "2022-11-06T18:53:18.229Z"
   },
   {
    "duration": 815,
    "start_time": "2022-11-06T18:53:18.245Z"
   },
   {
    "duration": 2052,
    "start_time": "2022-11-06T18:53:19.062Z"
   },
   {
    "duration": 5,
    "start_time": "2022-11-06T18:53:21.116Z"
   },
   {
    "duration": 811,
    "start_time": "2022-11-06T18:53:21.125Z"
   },
   {
    "duration": 242,
    "start_time": "2022-11-06T18:53:21.938Z"
   },
   {
    "duration": 822,
    "start_time": "2022-11-06T18:53:22.182Z"
   },
   {
    "duration": 19,
    "start_time": "2022-11-06T18:53:23.007Z"
   },
   {
    "duration": 35,
    "start_time": "2022-11-06T18:53:23.028Z"
   },
   {
    "duration": 68,
    "start_time": "2022-11-06T18:53:23.065Z"
   },
   {
    "duration": 887,
    "start_time": "2022-11-06T18:53:23.135Z"
   },
   {
    "duration": 3,
    "start_time": "2022-11-06T18:53:24.024Z"
   },
   {
    "duration": 32,
    "start_time": "2022-11-06T18:53:24.029Z"
   },
   {
    "duration": 732,
    "start_time": "2022-11-06T18:53:24.063Z"
   },
   {
    "duration": 12,
    "start_time": "2022-11-06T18:53:24.797Z"
   },
   {
    "duration": 1110,
    "start_time": "2022-11-06T18:53:24.811Z"
   },
   {
    "duration": 85,
    "start_time": "2022-11-06T18:53:25.923Z"
   },
   {
    "duration": 14,
    "start_time": "2022-11-06T18:53:26.010Z"
   },
   {
    "duration": 72,
    "start_time": "2022-11-06T18:53:26.026Z"
   },
   {
    "duration": 911,
    "start_time": "2022-11-06T18:53:26.101Z"
   },
   {
    "duration": 4,
    "start_time": "2022-11-06T18:53:27.014Z"
   },
   {
    "duration": 516,
    "start_time": "2022-11-06T18:53:27.020Z"
   },
   {
    "duration": 81,
    "start_time": "2022-11-06T18:53:27.538Z"
   },
   {
    "duration": 2186,
    "start_time": "2022-11-06T18:53:27.621Z"
   },
   {
    "duration": 66,
    "start_time": "2022-11-06T18:53:29.808Z"
   },
   {
    "duration": 4,
    "start_time": "2022-11-06T18:53:29.876Z"
   },
   {
    "duration": 6,
    "start_time": "2022-11-06T18:53:29.882Z"
   },
   {
    "duration": 7,
    "start_time": "2022-11-06T18:53:29.890Z"
   },
   {
    "duration": 1261,
    "start_time": "2022-11-06T18:53:29.899Z"
   },
   {
    "duration": 96,
    "start_time": "2022-11-06T18:53:31.162Z"
   },
   {
    "duration": 7912,
    "start_time": "2022-11-06T18:53:31.259Z"
   },
   {
    "duration": 3,
    "start_time": "2022-11-06T18:53:39.257Z"
   },
   {
    "duration": 0,
    "start_time": "2022-11-06T18:55:01.757Z"
   },
   {
    "duration": 106214,
    "start_time": "2022-11-06T18:55:03.085Z"
   },
   {
    "duration": 45,
    "start_time": "2022-11-06T19:00:17.674Z"
   },
   {
    "duration": 51,
    "start_time": "2022-11-06T19:00:24.589Z"
   },
   {
    "duration": 0,
    "start_time": "2022-11-06T19:01:42.571Z"
   },
   {
    "duration": 39249,
    "start_time": "2022-11-06T19:01:43.758Z"
   },
   {
    "duration": 36450,
    "start_time": "2022-11-06T19:03:05.141Z"
   },
   {
    "duration": 61653,
    "start_time": "2022-11-06T19:04:27.302Z"
   },
   {
    "duration": 36588,
    "start_time": "2022-11-06T19:07:21.422Z"
   },
   {
    "duration": 3895,
    "start_time": "2022-11-06T19:08:42.016Z"
   },
   {
    "duration": 4453,
    "start_time": "2022-11-06T19:09:45.453Z"
   },
   {
    "duration": 39532,
    "start_time": "2022-11-06T19:10:18.622Z"
   },
   {
    "duration": 92,
    "start_time": "2022-11-06T19:15:13.226Z"
   },
   {
    "duration": 56,
    "start_time": "2022-11-06T19:16:37.418Z"
   },
   {
    "duration": 15,
    "start_time": "2022-11-06T19:16:44.976Z"
   },
   {
    "duration": 227009,
    "start_time": "2022-11-06T19:17:58.503Z"
   },
   {
    "duration": 64,
    "start_time": "2022-11-06T19:26:42.540Z"
   },
   {
    "duration": 63,
    "start_time": "2022-11-06T19:27:13.848Z"
   },
   {
    "duration": 74,
    "start_time": "2022-11-06T19:27:19.184Z"
   },
   {
    "duration": 15,
    "start_time": "2022-11-06T19:28:07.181Z"
   },
   {
    "duration": 15,
    "start_time": "2022-11-06T19:28:26.738Z"
   },
   {
    "duration": 15,
    "start_time": "2022-11-06T19:28:47.438Z"
   },
   {
    "duration": 175008,
    "start_time": "2022-11-06T19:29:17.852Z"
   },
   {
    "duration": 238049,
    "start_time": "2022-11-06T19:32:49.236Z"
   },
   {
    "duration": 15227,
    "start_time": "2022-11-06T19:38:01.343Z"
   },
   {
    "duration": 27815,
    "start_time": "2022-11-06T19:38:20.127Z"
   },
   {
    "duration": 97530,
    "start_time": "2022-11-06T19:39:32.068Z"
   },
   {
    "duration": 61,
    "start_time": "2022-11-06T19:42:04.652Z"
   },
   {
    "duration": 59243,
    "start_time": "2022-11-06T19:42:09.129Z"
   },
   {
    "duration": 71867,
    "start_time": "2022-11-06T19:43:10.507Z"
   },
   {
    "duration": 44783,
    "start_time": "2022-11-06T19:44:26.086Z"
   },
   {
    "duration": 72958,
    "start_time": "2022-11-06T19:45:14.908Z"
   },
   {
    "duration": 59491,
    "start_time": "2022-11-06T19:46:33.779Z"
   },
   {
    "duration": 15,
    "start_time": "2022-11-06T19:47:45.584Z"
   },
   {
    "duration": 49330,
    "start_time": "2022-11-06T19:48:24.639Z"
   },
   {
    "duration": 11658,
    "start_time": "2022-11-06T19:49:15.109Z"
   },
   {
    "duration": 9859,
    "start_time": "2022-11-06T19:49:28.613Z"
   },
   {
    "duration": 48639,
    "start_time": "2022-11-06T19:49:55.660Z"
   },
   {
    "duration": 94206,
    "start_time": "2022-11-06T19:50:59.709Z"
   },
   {
    "duration": 13235,
    "start_time": "2022-11-06T19:52:53.832Z"
   },
   {
    "duration": 302565,
    "start_time": "2022-11-06T19:53:10.354Z"
   },
   {
    "duration": 29780,
    "start_time": "2022-11-06T20:01:25.094Z"
   },
   {
    "duration": 0,
    "start_time": "2022-11-06T20:01:54.954Z"
   },
   {
    "duration": 60593,
    "start_time": "2022-11-06T20:01:55.863Z"
   },
   {
    "duration": 0,
    "start_time": "2022-11-06T20:05:58.939Z"
   },
   {
    "duration": 263282,
    "start_time": "2022-11-06T20:06:02.050Z"
   },
   {
    "duration": 95265,
    "start_time": "2022-11-06T20:11:07.235Z"
   },
   {
    "duration": 17,
    "start_time": "2022-11-06T20:13:44.991Z"
   },
   {
    "duration": 22,
    "start_time": "2022-11-06T20:17:10.055Z"
   },
   {
    "duration": 11,
    "start_time": "2022-11-06T20:17:18.048Z"
   },
   {
    "duration": 14,
    "start_time": "2022-11-06T20:18:45.270Z"
   },
   {
    "duration": 4,
    "start_time": "2022-11-06T20:18:54.775Z"
   },
   {
    "duration": 78189,
    "start_time": "2022-11-06T20:18:58.407Z"
   },
   {
    "duration": 8395,
    "start_time": "2022-11-06T20:22:47.611Z"
   },
   {
    "duration": 8592,
    "start_time": "2022-11-06T20:22:59.996Z"
   },
   {
    "duration": 19293,
    "start_time": "2022-11-06T20:28:17.603Z"
   },
   {
    "duration": 8741,
    "start_time": "2022-11-06T20:28:40.726Z"
   },
   {
    "duration": 7788,
    "start_time": "2022-11-06T20:30:43.350Z"
   },
   {
    "duration": 7999,
    "start_time": "2022-11-06T20:31:09.631Z"
   },
   {
    "duration": 7833,
    "start_time": "2022-11-06T20:32:23.053Z"
   },
   {
    "duration": 4261,
    "start_time": "2022-11-06T20:33:09.826Z"
   },
   {
    "duration": 4230,
    "start_time": "2022-11-06T20:33:47.690Z"
   },
   {
    "duration": 4483,
    "start_time": "2022-11-06T20:34:03.286Z"
   },
   {
    "duration": 4315,
    "start_time": "2022-11-06T20:34:15.783Z"
   },
   {
    "duration": 4881,
    "start_time": "2022-11-06T20:35:08.466Z"
   },
   {
    "duration": 4117,
    "start_time": "2022-11-06T20:35:45.795Z"
   },
   {
    "duration": 4616,
    "start_time": "2022-11-06T20:35:59.220Z"
   },
   {
    "duration": 4323,
    "start_time": "2022-11-06T20:36:25.978Z"
   },
   {
    "duration": 4452,
    "start_time": "2022-11-06T20:36:33.378Z"
   },
   {
    "duration": 4628,
    "start_time": "2022-11-06T20:37:57.387Z"
   },
   {
    "duration": 4368,
    "start_time": "2022-11-06T20:38:53.234Z"
   },
   {
    "duration": 4282,
    "start_time": "2022-11-06T20:39:14.052Z"
   },
   {
    "duration": 8921,
    "start_time": "2022-11-06T20:39:23.535Z"
   },
   {
    "duration": 7970,
    "start_time": "2022-11-06T20:40:50.715Z"
   },
   {
    "duration": 8670,
    "start_time": "2022-11-06T20:41:22.569Z"
   },
   {
    "duration": 7950,
    "start_time": "2022-11-06T20:42:01.480Z"
   },
   {
    "duration": 50,
    "start_time": "2022-11-06T21:11:38.191Z"
   },
   {
    "duration": 8362,
    "start_time": "2022-11-06T22:02:45.814Z"
   },
   {
    "duration": 5,
    "start_time": "2022-11-06T22:06:39.379Z"
   },
   {
    "duration": 7,
    "start_time": "2022-11-06T22:06:39.386Z"
   },
   {
    "duration": 7,
    "start_time": "2022-11-06T22:06:39.395Z"
   },
   {
    "duration": 8,
    "start_time": "2022-11-06T22:06:39.405Z"
   },
   {
    "duration": 11,
    "start_time": "2022-11-06T22:06:39.415Z"
   },
   {
    "duration": 784,
    "start_time": "2022-11-06T22:06:39.428Z"
   },
   {
    "duration": 1773,
    "start_time": "2022-11-06T22:06:40.214Z"
   },
   {
    "duration": 4,
    "start_time": "2022-11-06T22:06:41.989Z"
   },
   {
    "duration": 765,
    "start_time": "2022-11-06T22:06:41.995Z"
   },
   {
    "duration": 251,
    "start_time": "2022-11-06T22:06:42.764Z"
   },
   {
    "duration": 819,
    "start_time": "2022-11-06T22:06:43.017Z"
   },
   {
    "duration": 27,
    "start_time": "2022-11-06T22:06:43.839Z"
   },
   {
    "duration": 22,
    "start_time": "2022-11-06T22:06:43.868Z"
   },
   {
    "duration": 86,
    "start_time": "2022-11-06T22:06:43.891Z"
   },
   {
    "duration": 1747,
    "start_time": "2022-11-06T22:06:43.979Z"
   },
   {
    "duration": 4,
    "start_time": "2022-11-06T22:06:45.728Z"
   },
   {
    "duration": 31,
    "start_time": "2022-11-06T22:06:45.734Z"
   },
   {
    "duration": 866,
    "start_time": "2022-11-06T22:06:45.767Z"
   },
   {
    "duration": 23,
    "start_time": "2022-11-06T22:06:46.635Z"
   },
   {
    "duration": 880,
    "start_time": "2022-11-06T22:06:46.661Z"
   },
   {
    "duration": 86,
    "start_time": "2022-11-06T22:06:47.544Z"
   },
   {
    "duration": 29,
    "start_time": "2022-11-06T22:06:47.633Z"
   },
   {
    "duration": 57,
    "start_time": "2022-11-06T22:06:47.664Z"
   },
   {
    "duration": 1248,
    "start_time": "2022-11-06T22:06:47.724Z"
   },
   {
    "duration": 4,
    "start_time": "2022-11-06T22:06:48.973Z"
   },
   {
    "duration": 540,
    "start_time": "2022-11-06T22:06:48.979Z"
   },
   {
    "duration": 81,
    "start_time": "2022-11-06T22:06:49.523Z"
   },
   {
    "duration": 2492,
    "start_time": "2022-11-06T22:06:49.606Z"
   },
   {
    "duration": 75,
    "start_time": "2022-11-06T22:06:52.100Z"
   },
   {
    "duration": 4,
    "start_time": "2022-11-06T22:06:52.177Z"
   },
   {
    "duration": 9,
    "start_time": "2022-11-06T22:06:52.182Z"
   },
   {
    "duration": 6,
    "start_time": "2022-11-06T22:06:52.193Z"
   },
   {
    "duration": 1358,
    "start_time": "2022-11-06T22:06:52.201Z"
   },
   {
    "duration": 96,
    "start_time": "2022-11-06T22:06:53.561Z"
   },
   {
    "duration": 12,
    "start_time": "2022-11-06T22:06:53.660Z"
   },
   {
    "duration": 133841,
    "start_time": "2022-11-06T22:06:53.674Z"
   },
   {
    "duration": 8,
    "start_time": "2022-11-06T22:09:07.518Z"
   },
   {
    "duration": 8320,
    "start_time": "2022-11-06T22:09:07.528Z"
   },
   {
    "duration": 8,
    "start_time": "2022-11-06T22:09:15.850Z"
   },
   {
    "duration": 25,
    "start_time": "2022-11-06T22:09:15.860Z"
   },
   {
    "duration": 3,
    "start_time": "2022-11-06T22:14:07.848Z"
   },
   {
    "duration": 4,
    "start_time": "2022-11-06T22:15:22.680Z"
   },
   {
    "duration": 3,
    "start_time": "2022-11-06T22:15:45.001Z"
   },
   {
    "duration": 4,
    "start_time": "2022-11-06T22:15:53.287Z"
   },
   {
    "duration": 6912,
    "start_time": "2022-11-06T22:16:30.446Z"
   },
   {
    "duration": 11,
    "start_time": "2022-11-06T22:18:12.459Z"
   },
   {
    "duration": 4,
    "start_time": "2022-11-06T22:18:34.085Z"
   },
   {
    "duration": 4,
    "start_time": "2022-11-06T22:20:40.758Z"
   },
   {
    "duration": 6862,
    "start_time": "2022-11-06T22:20:43.215Z"
   },
   {
    "duration": 8009,
    "start_time": "2022-11-06T22:21:24.801Z"
   },
   {
    "duration": 4,
    "start_time": "2022-11-06T22:35:24.138Z"
   },
   {
    "duration": 6,
    "start_time": "2022-11-06T22:35:24.145Z"
   },
   {
    "duration": 9,
    "start_time": "2022-11-06T22:35:24.153Z"
   },
   {
    "duration": 6,
    "start_time": "2022-11-06T22:35:24.164Z"
   },
   {
    "duration": 10,
    "start_time": "2022-11-06T22:35:24.172Z"
   },
   {
    "duration": 742,
    "start_time": "2022-11-06T22:35:24.184Z"
   },
   {
    "duration": 1659,
    "start_time": "2022-11-06T22:35:24.928Z"
   },
   {
    "duration": 4,
    "start_time": "2022-11-06T22:35:26.589Z"
   },
   {
    "duration": 775,
    "start_time": "2022-11-06T22:35:26.596Z"
   },
   {
    "duration": 247,
    "start_time": "2022-11-06T22:35:27.373Z"
   },
   {
    "duration": 832,
    "start_time": "2022-11-06T22:35:27.622Z"
   },
   {
    "duration": 20,
    "start_time": "2022-11-06T22:35:28.456Z"
   },
   {
    "duration": 24,
    "start_time": "2022-11-06T22:35:28.478Z"
   },
   {
    "duration": 88,
    "start_time": "2022-11-06T22:35:28.504Z"
   },
   {
    "duration": 1155,
    "start_time": "2022-11-06T22:35:28.594Z"
   },
   {
    "duration": 4,
    "start_time": "2022-11-06T22:35:29.750Z"
   },
   {
    "duration": 26,
    "start_time": "2022-11-06T22:35:29.755Z"
   },
   {
    "duration": 779,
    "start_time": "2022-11-06T22:35:29.783Z"
   },
   {
    "duration": 10,
    "start_time": "2022-11-06T22:35:30.565Z"
   },
   {
    "duration": 902,
    "start_time": "2022-11-06T22:35:30.577Z"
   },
   {
    "duration": 113,
    "start_time": "2022-11-06T22:35:31.482Z"
   },
   {
    "duration": 12,
    "start_time": "2022-11-06T22:35:31.597Z"
   },
   {
    "duration": 72,
    "start_time": "2022-11-06T22:35:31.613Z"
   },
   {
    "duration": 1115,
    "start_time": "2022-11-06T22:35:31.687Z"
   },
   {
    "duration": 4,
    "start_time": "2022-11-06T22:35:32.804Z"
   },
   {
    "duration": 516,
    "start_time": "2022-11-06T22:35:32.810Z"
   },
   {
    "duration": 84,
    "start_time": "2022-11-06T22:35:33.328Z"
   },
   {
    "duration": 2005,
    "start_time": "2022-11-06T22:35:33.413Z"
   },
   {
    "duration": 72,
    "start_time": "2022-11-06T22:35:35.421Z"
   },
   {
    "duration": 5,
    "start_time": "2022-11-06T22:35:35.495Z"
   },
   {
    "duration": 6,
    "start_time": "2022-11-06T22:35:35.503Z"
   },
   {
    "duration": 6,
    "start_time": "2022-11-06T22:35:35.511Z"
   },
   {
    "duration": 2950,
    "start_time": "2022-11-06T22:35:35.519Z"
   },
   {
    "duration": 89,
    "start_time": "2022-11-06T22:35:38.472Z"
   },
   {
    "duration": 93,
    "start_time": "2022-11-06T22:35:38.563Z"
   },
   {
    "duration": 13627,
    "start_time": "2022-11-06T22:35:38.658Z"
   },
   {
    "duration": 8,
    "start_time": "2022-11-06T22:35:52.287Z"
   },
   {
    "duration": 7,
    "start_time": "2022-11-06T22:35:52.297Z"
   },
   {
    "duration": 15715,
    "start_time": "2022-11-06T22:35:52.306Z"
   },
   {
    "duration": 8,
    "start_time": "2022-11-06T22:36:08.023Z"
   },
   {
    "duration": 19,
    "start_time": "2022-11-06T22:36:08.033Z"
   },
   {
    "duration": 15371,
    "start_time": "2022-11-06T22:40:32.594Z"
   },
   {
    "duration": 12,
    "start_time": "2022-11-06T23:03:42.920Z"
   },
   {
    "duration": 5,
    "start_time": "2022-11-06T23:03:45.149Z"
   },
   {
    "duration": 20,
    "start_time": "2022-11-06T23:04:01.469Z"
   },
   {
    "duration": 6,
    "start_time": "2022-11-06T23:05:43.319Z"
   },
   {
    "duration": 100,
    "start_time": "2022-11-06T23:05:50.159Z"
   },
   {
    "duration": 240,
    "start_time": "2022-11-06T23:06:21.418Z"
   },
   {
    "duration": 5,
    "start_time": "2022-11-06T23:07:39.042Z"
   },
   {
    "duration": 5,
    "start_time": "2022-11-06T23:07:43.243Z"
   },
   {
    "duration": 2749,
    "start_time": "2022-11-06T23:07:44.873Z"
   },
   {
    "duration": 52,
    "start_time": "2022-11-06T23:10:31.958Z"
   },
   {
    "duration": 5,
    "start_time": "2022-11-06T23:10:40.066Z"
   },
   {
    "duration": 2722,
    "start_time": "2022-11-06T23:10:41.769Z"
   },
   {
    "duration": 2773,
    "start_time": "2022-11-06T23:11:55.697Z"
   },
   {
    "duration": 51,
    "start_time": "2022-11-06T23:13:36.391Z"
   },
   {
    "duration": 43,
    "start_time": "2022-11-06T23:13:46.566Z"
   },
   {
    "duration": 42,
    "start_time": "2022-11-06T23:14:06.045Z"
   },
   {
    "duration": 3107,
    "start_time": "2022-11-06T23:14:50.450Z"
   },
   {
    "duration": 15,
    "start_time": "2022-11-06T23:15:15.725Z"
   },
   {
    "duration": 14,
    "start_time": "2022-11-06T23:16:34.683Z"
   },
   {
    "duration": 5948,
    "start_time": "2022-11-06T23:18:10.239Z"
   },
   {
    "duration": 2748,
    "start_time": "2022-11-06T23:19:22.206Z"
   },
   {
    "duration": 1427,
    "start_time": "2022-11-06T23:19:54.453Z"
   },
   {
    "duration": 3,
    "start_time": "2022-11-06T23:19:55.882Z"
   },
   {
    "duration": 10,
    "start_time": "2022-11-06T23:19:55.886Z"
   },
   {
    "duration": 9,
    "start_time": "2022-11-06T23:19:55.898Z"
   },
   {
    "duration": 13,
    "start_time": "2022-11-06T23:19:55.909Z"
   },
   {
    "duration": 895,
    "start_time": "2022-11-06T23:19:55.923Z"
   },
   {
    "duration": 1888,
    "start_time": "2022-11-06T23:19:56.820Z"
   },
   {
    "duration": 4,
    "start_time": "2022-11-06T23:19:58.711Z"
   },
   {
    "duration": 767,
    "start_time": "2022-11-06T23:19:58.717Z"
   },
   {
    "duration": 332,
    "start_time": "2022-11-06T23:19:59.486Z"
   },
   {
    "duration": 952,
    "start_time": "2022-11-06T23:19:59.820Z"
   },
   {
    "duration": 20,
    "start_time": "2022-11-06T23:20:00.776Z"
   },
   {
    "duration": 47,
    "start_time": "2022-11-06T23:20:00.798Z"
   },
   {
    "duration": 77,
    "start_time": "2022-11-06T23:20:00.847Z"
   },
   {
    "duration": 909,
    "start_time": "2022-11-06T23:20:00.926Z"
   },
   {
    "duration": 2,
    "start_time": "2022-11-06T23:20:01.837Z"
   },
   {
    "duration": 39,
    "start_time": "2022-11-06T23:20:01.841Z"
   },
   {
    "duration": 753,
    "start_time": "2022-11-06T23:20:01.882Z"
   },
   {
    "duration": 23,
    "start_time": "2022-11-06T23:20:02.637Z"
   },
   {
    "duration": 989,
    "start_time": "2022-11-06T23:20:02.662Z"
   },
   {
    "duration": 77,
    "start_time": "2022-11-06T23:20:03.653Z"
   },
   {
    "duration": 32,
    "start_time": "2022-11-06T23:20:03.732Z"
   },
   {
    "duration": 64,
    "start_time": "2022-11-06T23:20:03.766Z"
   },
   {
    "duration": 928,
    "start_time": "2022-11-06T23:20:03.832Z"
   },
   {
    "duration": 4,
    "start_time": "2022-11-06T23:20:04.762Z"
   },
   {
    "duration": 512,
    "start_time": "2022-11-06T23:20:04.768Z"
   },
   {
    "duration": 114,
    "start_time": "2022-11-06T23:20:05.282Z"
   },
   {
    "duration": 2088,
    "start_time": "2022-11-06T23:20:05.400Z"
   },
   {
    "duration": 75,
    "start_time": "2022-11-06T23:20:07.490Z"
   },
   {
    "duration": 4,
    "start_time": "2022-11-06T23:20:07.567Z"
   },
   {
    "duration": 5,
    "start_time": "2022-11-06T23:20:07.573Z"
   },
   {
    "duration": 6,
    "start_time": "2022-11-06T23:20:07.580Z"
   },
   {
    "duration": 2681,
    "start_time": "2022-11-06T23:20:07.588Z"
   },
   {
    "duration": 10,
    "start_time": "2022-11-06T23:20:10.353Z"
   },
   {
    "duration": 17,
    "start_time": "2022-11-06T23:20:10.455Z"
   },
   {
    "duration": 22603,
    "start_time": "2022-11-06T23:20:10.474Z"
   },
   {
    "duration": 7,
    "start_time": "2022-11-06T23:20:33.079Z"
   },
   {
    "duration": 9,
    "start_time": "2022-11-06T23:20:33.087Z"
   },
   {
    "duration": 15544,
    "start_time": "2022-11-06T23:20:33.097Z"
   },
   {
    "duration": 8,
    "start_time": "2022-11-06T23:20:48.643Z"
   },
   {
    "duration": 22,
    "start_time": "2022-11-06T23:20:48.653Z"
   },
   {
    "duration": 9,
    "start_time": "2022-11-06T23:20:48.677Z"
   },
   {
    "duration": 5031,
    "start_time": "2022-11-06T23:20:48.688Z"
   },
   {
    "duration": 2826,
    "start_time": "2022-11-06T23:20:53.721Z"
   },
   {
    "duration": 1336,
    "start_time": "2022-11-06T23:34:27.278Z"
   },
   {
    "duration": 4,
    "start_time": "2022-11-06T23:34:28.616Z"
   },
   {
    "duration": 6,
    "start_time": "2022-11-06T23:34:28.621Z"
   },
   {
    "duration": 15,
    "start_time": "2022-11-06T23:34:28.629Z"
   },
   {
    "duration": 10,
    "start_time": "2022-11-06T23:34:28.647Z"
   },
   {
    "duration": 869,
    "start_time": "2022-11-06T23:34:28.659Z"
   },
   {
    "duration": 1777,
    "start_time": "2022-11-06T23:34:29.530Z"
   },
   {
    "duration": 3,
    "start_time": "2022-11-06T23:34:31.309Z"
   },
   {
    "duration": 791,
    "start_time": "2022-11-06T23:34:31.314Z"
   },
   {
    "duration": 310,
    "start_time": "2022-11-06T23:34:32.108Z"
   },
   {
    "duration": 943,
    "start_time": "2022-11-06T23:34:32.420Z"
   },
   {
    "duration": 21,
    "start_time": "2022-11-06T23:34:33.365Z"
   },
   {
    "duration": 46,
    "start_time": "2022-11-06T23:34:33.388Z"
   },
   {
    "duration": 75,
    "start_time": "2022-11-06T23:34:33.436Z"
   },
   {
    "duration": 832,
    "start_time": "2022-11-06T23:34:33.513Z"
   },
   {
    "duration": 7,
    "start_time": "2022-11-06T23:34:34.347Z"
   },
   {
    "duration": 33,
    "start_time": "2022-11-06T23:34:34.356Z"
   },
   {
    "duration": 747,
    "start_time": "2022-11-06T23:34:34.390Z"
   },
   {
    "duration": 22,
    "start_time": "2022-11-06T23:34:35.139Z"
   },
   {
    "duration": 989,
    "start_time": "2022-11-06T23:34:35.163Z"
   },
   {
    "duration": 76,
    "start_time": "2022-11-06T23:34:36.154Z"
   },
   {
    "duration": 28,
    "start_time": "2022-11-06T23:34:36.232Z"
   },
   {
    "duration": 59,
    "start_time": "2022-11-06T23:34:36.262Z"
   },
   {
    "duration": 894,
    "start_time": "2022-11-06T23:34:36.323Z"
   },
   {
    "duration": 5,
    "start_time": "2022-11-06T23:34:37.219Z"
   },
   {
    "duration": 479,
    "start_time": "2022-11-06T23:34:37.226Z"
   },
   {
    "duration": 109,
    "start_time": "2022-11-06T23:34:37.707Z"
   },
   {
    "duration": 2086,
    "start_time": "2022-11-06T23:34:37.821Z"
   },
   {
    "duration": 81,
    "start_time": "2022-11-06T23:34:39.908Z"
   },
   {
    "duration": 4,
    "start_time": "2022-11-06T23:34:39.991Z"
   },
   {
    "duration": 16,
    "start_time": "2022-11-06T23:34:39.996Z"
   },
   {
    "duration": 10,
    "start_time": "2022-11-06T23:34:40.014Z"
   },
   {
    "duration": 2744,
    "start_time": "2022-11-06T23:34:40.025Z"
   },
   {
    "duration": 87,
    "start_time": "2022-11-06T23:34:42.771Z"
   },
   {
    "duration": 97,
    "start_time": "2022-11-06T23:34:42.861Z"
   },
   {
    "duration": 13445,
    "start_time": "2022-11-06T23:34:42.960Z"
   },
   {
    "duration": 8,
    "start_time": "2022-11-06T23:34:56.407Z"
   },
   {
    "duration": 7,
    "start_time": "2022-11-06T23:34:56.416Z"
   },
   {
    "duration": 16981,
    "start_time": "2022-11-06T23:34:56.425Z"
   },
   {
    "duration": 9,
    "start_time": "2022-11-06T23:35:13.408Z"
   },
   {
    "duration": 19,
    "start_time": "2022-11-06T23:35:13.418Z"
   },
   {
    "duration": 7,
    "start_time": "2022-11-06T23:35:13.439Z"
   },
   {
    "duration": 2827,
    "start_time": "2022-11-06T23:35:13.447Z"
   },
   {
    "duration": 3087,
    "start_time": "2022-11-06T23:35:16.276Z"
   },
   {
    "duration": 1471,
    "start_time": "2022-11-06T23:46:45.956Z"
   },
   {
    "duration": 3,
    "start_time": "2022-11-06T23:46:47.429Z"
   },
   {
    "duration": 22,
    "start_time": "2022-11-06T23:46:47.434Z"
   },
   {
    "duration": 14,
    "start_time": "2022-11-06T23:46:47.458Z"
   },
   {
    "duration": 20,
    "start_time": "2022-11-06T23:46:47.473Z"
   },
   {
    "duration": 902,
    "start_time": "2022-11-06T23:46:47.494Z"
   },
   {
    "duration": 1881,
    "start_time": "2022-11-06T23:46:48.398Z"
   },
   {
    "duration": 3,
    "start_time": "2022-11-06T23:46:50.281Z"
   },
   {
    "duration": 825,
    "start_time": "2022-11-06T23:46:50.286Z"
   },
   {
    "duration": 327,
    "start_time": "2022-11-06T23:46:51.114Z"
   },
   {
    "duration": 948,
    "start_time": "2022-11-06T23:46:51.444Z"
   },
   {
    "duration": 19,
    "start_time": "2022-11-06T23:46:52.393Z"
   },
   {
    "duration": 41,
    "start_time": "2022-11-06T23:46:52.414Z"
   },
   {
    "duration": 65,
    "start_time": "2022-11-06T23:46:52.457Z"
   },
   {
    "duration": 800,
    "start_time": "2022-11-06T23:46:52.524Z"
   },
   {
    "duration": 4,
    "start_time": "2022-11-06T23:46:53.326Z"
   },
   {
    "duration": 34,
    "start_time": "2022-11-06T23:46:53.331Z"
   },
   {
    "duration": 713,
    "start_time": "2022-11-06T23:46:53.367Z"
   },
   {
    "duration": 11,
    "start_time": "2022-11-06T23:46:54.082Z"
   },
   {
    "duration": 990,
    "start_time": "2022-11-06T23:46:54.095Z"
   },
   {
    "duration": 88,
    "start_time": "2022-11-06T23:46:55.087Z"
   },
   {
    "duration": 15,
    "start_time": "2022-11-06T23:46:55.177Z"
   },
   {
    "duration": 78,
    "start_time": "2022-11-06T23:46:55.194Z"
   },
   {
    "duration": 1595,
    "start_time": "2022-11-06T23:46:55.274Z"
   },
   {
    "duration": 4,
    "start_time": "2022-11-06T23:46:56.871Z"
   },
   {
    "duration": 826,
    "start_time": "2022-11-06T23:46:56.876Z"
   },
   {
    "duration": 200,
    "start_time": "2022-11-06T23:46:57.755Z"
   },
   {
    "duration": 2716,
    "start_time": "2022-11-06T23:46:57.958Z"
   },
   {
    "duration": 78,
    "start_time": "2022-11-06T23:47:00.676Z"
   },
   {
    "duration": 4,
    "start_time": "2022-11-06T23:47:00.756Z"
   },
   {
    "duration": 26,
    "start_time": "2022-11-06T23:47:00.761Z"
   },
   {
    "duration": 23,
    "start_time": "2022-11-06T23:47:00.788Z"
   },
   {
    "duration": 2650,
    "start_time": "2022-11-06T23:47:00.813Z"
   },
   {
    "duration": 90,
    "start_time": "2022-11-06T23:47:03.465Z"
   },
   {
    "duration": 106,
    "start_time": "2022-11-06T23:47:03.557Z"
   },
   {
    "duration": 112,
    "start_time": "2022-11-06T23:47:03.664Z"
   },
   {
    "duration": 0,
    "start_time": "2022-11-06T23:47:03.778Z"
   },
   {
    "duration": 0,
    "start_time": "2022-11-06T23:47:03.779Z"
   },
   {
    "duration": 0,
    "start_time": "2022-11-06T23:47:03.781Z"
   },
   {
    "duration": 0,
    "start_time": "2022-11-06T23:47:03.782Z"
   },
   {
    "duration": 0,
    "start_time": "2022-11-06T23:47:03.783Z"
   },
   {
    "duration": 0,
    "start_time": "2022-11-06T23:47:03.784Z"
   },
   {
    "duration": 0,
    "start_time": "2022-11-06T23:47:03.785Z"
   },
   {
    "duration": 1,
    "start_time": "2022-11-06T23:47:03.786Z"
   },
   {
    "duration": 1480,
    "start_time": "2022-11-06T23:49:02.460Z"
   },
   {
    "duration": 3,
    "start_time": "2022-11-06T23:49:03.942Z"
   },
   {
    "duration": 27,
    "start_time": "2022-11-06T23:49:03.947Z"
   },
   {
    "duration": 32,
    "start_time": "2022-11-06T23:49:03.976Z"
   },
   {
    "duration": 52,
    "start_time": "2022-11-06T23:49:04.009Z"
   },
   {
    "duration": 886,
    "start_time": "2022-11-06T23:49:04.063Z"
   },
   {
    "duration": 1823,
    "start_time": "2022-11-06T23:49:04.950Z"
   },
   {
    "duration": 4,
    "start_time": "2022-11-06T23:49:06.775Z"
   },
   {
    "duration": 710,
    "start_time": "2022-11-06T23:49:06.780Z"
   },
   {
    "duration": 332,
    "start_time": "2022-11-06T23:49:07.493Z"
   },
   {
    "duration": 899,
    "start_time": "2022-11-06T23:49:07.827Z"
   },
   {
    "duration": 26,
    "start_time": "2022-11-06T23:49:08.728Z"
   },
   {
    "duration": 27,
    "start_time": "2022-11-06T23:49:08.756Z"
   },
   {
    "duration": 75,
    "start_time": "2022-11-06T23:49:08.784Z"
   },
   {
    "duration": 801,
    "start_time": "2022-11-06T23:49:08.861Z"
   },
   {
    "duration": 2,
    "start_time": "2022-11-06T23:49:09.664Z"
   },
   {
    "duration": 27,
    "start_time": "2022-11-06T23:49:09.668Z"
   },
   {
    "duration": 734,
    "start_time": "2022-11-06T23:49:09.696Z"
   },
   {
    "duration": 11,
    "start_time": "2022-11-06T23:49:10.431Z"
   },
   {
    "duration": 947,
    "start_time": "2022-11-06T23:49:10.453Z"
   },
   {
    "duration": 111,
    "start_time": "2022-11-06T23:49:11.402Z"
   },
   {
    "duration": 15,
    "start_time": "2022-11-06T23:49:11.515Z"
   },
   {
    "duration": 82,
    "start_time": "2022-11-06T23:49:11.532Z"
   },
   {
    "duration": 909,
    "start_time": "2022-11-06T23:49:11.616Z"
   },
   {
    "duration": 4,
    "start_time": "2022-11-06T23:49:12.526Z"
   },
   {
    "duration": 490,
    "start_time": "2022-11-06T23:49:12.531Z"
   },
   {
    "duration": 108,
    "start_time": "2022-11-06T23:49:13.023Z"
   },
   {
    "duration": 2121,
    "start_time": "2022-11-06T23:49:13.135Z"
   },
   {
    "duration": 71,
    "start_time": "2022-11-06T23:49:15.258Z"
   },
   {
    "duration": 4,
    "start_time": "2022-11-06T23:49:15.330Z"
   },
   {
    "duration": 3,
    "start_time": "2022-11-06T23:49:15.354Z"
   },
   {
    "duration": 7,
    "start_time": "2022-11-06T23:49:15.359Z"
   },
   {
    "duration": 2793,
    "start_time": "2022-11-06T23:49:15.367Z"
   },
   {
    "duration": 96,
    "start_time": "2022-11-06T23:49:18.161Z"
   },
   {
    "duration": 95,
    "start_time": "2022-11-06T23:49:18.259Z"
   },
   {
    "duration": 13145,
    "start_time": "2022-11-06T23:49:18.356Z"
   },
   {
    "duration": 9,
    "start_time": "2022-11-06T23:49:31.503Z"
   },
   {
    "duration": 21,
    "start_time": "2022-11-06T23:49:31.516Z"
   },
   {
    "duration": 15583,
    "start_time": "2022-11-06T23:49:31.539Z"
   },
   {
    "duration": 7,
    "start_time": "2022-11-06T23:49:47.124Z"
   },
   {
    "duration": 16,
    "start_time": "2022-11-06T23:49:47.132Z"
   },
   {
    "duration": 6,
    "start_time": "2022-11-06T23:49:47.149Z"
   },
   {
    "duration": 3000,
    "start_time": "2022-11-06T23:49:47.157Z"
   },
   {
    "duration": 4022,
    "start_time": "2022-11-06T23:49:50.158Z"
   },
   {
    "duration": 1497,
    "start_time": "2022-11-07T00:00:29.528Z"
   },
   {
    "duration": 3,
    "start_time": "2022-11-07T00:00:31.028Z"
   },
   {
    "duration": 38,
    "start_time": "2022-11-07T00:00:31.033Z"
   },
   {
    "duration": 47,
    "start_time": "2022-11-07T00:00:31.073Z"
   },
   {
    "duration": 54,
    "start_time": "2022-11-07T00:00:31.122Z"
   },
   {
    "duration": 991,
    "start_time": "2022-11-07T00:00:31.178Z"
   },
   {
    "duration": 1818,
    "start_time": "2022-11-07T00:00:32.171Z"
   },
   {
    "duration": 3,
    "start_time": "2022-11-07T00:00:33.991Z"
   },
   {
    "duration": 767,
    "start_time": "2022-11-07T00:00:33.996Z"
   },
   {
    "duration": 312,
    "start_time": "2022-11-07T00:00:34.767Z"
   },
   {
    "duration": 1009,
    "start_time": "2022-11-07T00:00:35.081Z"
   },
   {
    "duration": 20,
    "start_time": "2022-11-07T00:00:36.092Z"
   },
   {
    "duration": 41,
    "start_time": "2022-11-07T00:00:36.114Z"
   },
   {
    "duration": 68,
    "start_time": "2022-11-07T00:00:36.157Z"
   },
   {
    "duration": 839,
    "start_time": "2022-11-07T00:00:36.228Z"
   },
   {
    "duration": 3,
    "start_time": "2022-11-07T00:00:37.068Z"
   },
   {
    "duration": 32,
    "start_time": "2022-11-07T00:00:37.073Z"
   },
   {
    "duration": 733,
    "start_time": "2022-11-07T00:00:37.107Z"
   },
   {
    "duration": 19,
    "start_time": "2022-11-07T00:00:37.842Z"
   },
   {
    "duration": 974,
    "start_time": "2022-11-07T00:00:37.862Z"
   },
   {
    "duration": 82,
    "start_time": "2022-11-07T00:00:38.838Z"
   },
   {
    "duration": 14,
    "start_time": "2022-11-07T00:00:38.922Z"
   },
   {
    "duration": 61,
    "start_time": "2022-11-07T00:00:38.955Z"
   },
   {
    "duration": 920,
    "start_time": "2022-11-07T00:00:39.018Z"
   },
   {
    "duration": 4,
    "start_time": "2022-11-07T00:00:39.940Z"
   },
   {
    "duration": 494,
    "start_time": "2022-11-07T00:00:39.955Z"
   },
   {
    "duration": 110,
    "start_time": "2022-11-07T00:00:40.451Z"
   },
   {
    "duration": 2199,
    "start_time": "2022-11-07T00:00:40.566Z"
   },
   {
    "duration": 87,
    "start_time": "2022-11-07T00:00:42.767Z"
   },
   {
    "duration": 5,
    "start_time": "2022-11-07T00:00:42.857Z"
   },
   {
    "duration": 7,
    "start_time": "2022-11-07T00:00:42.864Z"
   },
   {
    "duration": 9,
    "start_time": "2022-11-07T00:00:42.873Z"
   },
   {
    "duration": 2787,
    "start_time": "2022-11-07T00:00:42.883Z"
   },
   {
    "duration": 79,
    "start_time": "2022-11-07T00:00:45.680Z"
   },
   {
    "duration": 107,
    "start_time": "2022-11-07T00:00:45.761Z"
   },
   {
    "duration": 16040,
    "start_time": "2022-11-07T00:00:45.870Z"
   },
   {
    "duration": 47,
    "start_time": "2022-11-07T00:01:01.911Z"
   },
   {
    "duration": 18,
    "start_time": "2022-11-07T00:01:01.960Z"
   },
   {
    "duration": 17289,
    "start_time": "2022-11-07T00:01:01.980Z"
   },
   {
    "duration": 8,
    "start_time": "2022-11-07T00:01:19.270Z"
   },
   {
    "duration": 67,
    "start_time": "2022-11-07T00:01:19.280Z"
   },
   {
    "duration": 56,
    "start_time": "2022-11-07T00:01:19.349Z"
   },
   {
    "duration": 2936,
    "start_time": "2022-11-07T00:01:19.408Z"
   },
   {
    "duration": 2886,
    "start_time": "2022-11-07T00:01:22.346Z"
   },
   {
    "duration": 2288,
    "start_time": "2022-11-08T06:49:47.306Z"
   },
   {
    "duration": 4,
    "start_time": "2022-11-08T06:49:50.421Z"
   },
   {
    "duration": 3,
    "start_time": "2022-11-08T06:49:50.856Z"
   },
   {
    "duration": 6,
    "start_time": "2022-11-08T06:49:54.101Z"
   },
   {
    "duration": 7,
    "start_time": "2022-11-08T06:49:54.576Z"
   },
   {
    "duration": 1156,
    "start_time": "2022-11-08T06:49:55.960Z"
   },
   {
    "duration": 1659,
    "start_time": "2022-11-08T06:49:57.910Z"
   },
   {
    "duration": 4,
    "start_time": "2022-11-08T06:52:03.532Z"
   },
   {
    "duration": 4,
    "start_time": "2022-11-08T07:35:20.930Z"
   },
   {
    "duration": 3,
    "start_time": "2022-11-08T07:35:22.042Z"
   },
   {
    "duration": 1641,
    "start_time": "2022-11-08T07:35:33.593Z"
   },
   {
    "duration": 3,
    "start_time": "2022-11-08T07:35:35.901Z"
   },
   {
    "duration": 3,
    "start_time": "2022-11-08T07:35:36.399Z"
   },
   {
    "duration": 8,
    "start_time": "2022-11-08T07:35:38.503Z"
   },
   {
    "duration": 8,
    "start_time": "2022-11-08T07:35:39.011Z"
   },
   {
    "duration": 777,
    "start_time": "2022-11-08T07:35:40.106Z"
   },
   {
    "duration": 1700,
    "start_time": "2022-11-08T07:35:40.885Z"
   },
   {
    "duration": 4,
    "start_time": "2022-11-08T07:35:42.587Z"
   },
   {
    "duration": 686,
    "start_time": "2022-11-08T07:35:43.444Z"
   },
   {
    "duration": 257,
    "start_time": "2022-11-08T07:35:45.790Z"
   },
   {
    "duration": 855,
    "start_time": "2022-11-08T07:35:46.685Z"
   },
   {
    "duration": 18,
    "start_time": "2022-11-08T07:35:47.542Z"
   },
   {
    "duration": 19,
    "start_time": "2022-11-08T07:35:48.172Z"
   },
   {
    "duration": 65,
    "start_time": "2022-11-08T07:35:51.392Z"
   },
   {
    "duration": 770,
    "start_time": "2022-11-08T07:35:52.799Z"
   },
   {
    "duration": 2,
    "start_time": "2022-11-08T07:35:53.571Z"
   },
   {
    "duration": 17,
    "start_time": "2022-11-08T07:35:53.917Z"
   },
   {
    "duration": 711,
    "start_time": "2022-11-08T07:35:55.044Z"
   },
   {
    "duration": 9,
    "start_time": "2022-11-08T07:35:55.780Z"
   },
   {
    "duration": 879,
    "start_time": "2022-11-08T07:35:58.381Z"
   },
   {
    "duration": 72,
    "start_time": "2022-11-08T07:36:00.008Z"
   },
   {
    "duration": 13,
    "start_time": "2022-11-08T07:36:00.514Z"
   },
   {
    "duration": 52,
    "start_time": "2022-11-08T07:36:01.212Z"
   },
   {
    "duration": 880,
    "start_time": "2022-11-08T07:36:03.055Z"
   },
   {
    "duration": 4,
    "start_time": "2022-11-08T07:36:06.462Z"
   },
   {
    "duration": 470,
    "start_time": "2022-11-08T07:36:08.049Z"
   },
   {
    "duration": 113,
    "start_time": "2022-11-08T07:36:08.521Z"
   },
   {
    "duration": 2025,
    "start_time": "2022-11-08T07:36:13.396Z"
   },
   {
    "duration": 63,
    "start_time": "2022-11-08T07:36:21.867Z"
   },
   {
    "duration": 4,
    "start_time": "2022-11-08T07:36:22.379Z"
   },
   {
    "duration": 3,
    "start_time": "2022-11-08T07:36:23.243Z"
   },
   {
    "duration": 5,
    "start_time": "2022-11-08T07:36:24.770Z"
   },
   {
    "duration": 2344,
    "start_time": "2022-11-08T07:36:35.754Z"
   },
   {
    "duration": 6,
    "start_time": "2022-11-08T07:36:41.979Z"
   },
   {
    "duration": 3,
    "start_time": "2022-11-08T07:36:43.773Z"
   },
   {
    "duration": 17,
    "start_time": "2022-11-08T07:36:54.144Z"
   },
   {
    "duration": 1497,
    "start_time": "2022-11-08T15:27:44.690Z"
   },
   {
    "duration": 3,
    "start_time": "2022-11-08T15:27:46.189Z"
   },
   {
    "duration": 6,
    "start_time": "2022-11-08T15:27:46.194Z"
   },
   {
    "duration": 9,
    "start_time": "2022-11-08T15:27:46.202Z"
   },
   {
    "duration": 10,
    "start_time": "2022-11-08T15:27:46.213Z"
   },
   {
    "duration": 964,
    "start_time": "2022-11-08T15:27:46.224Z"
   },
   {
    "duration": 1543,
    "start_time": "2022-11-08T15:27:47.190Z"
   },
   {
    "duration": 3,
    "start_time": "2022-11-08T15:27:48.735Z"
   },
   {
    "duration": 633,
    "start_time": "2022-11-08T15:27:48.739Z"
   },
   {
    "duration": 248,
    "start_time": "2022-11-08T15:27:49.374Z"
   },
   {
    "duration": 5,
    "start_time": "2022-11-08T15:28:25.782Z"
   },
   {
    "duration": 72,
    "start_time": "2022-11-08T15:29:45.772Z"
   },
   {
    "duration": 123,
    "start_time": "2022-11-08T15:29:52.716Z"
   },
   {
    "duration": 4,
    "start_time": "2022-11-08T15:30:22.376Z"
   },
   {
    "duration": 79,
    "start_time": "2022-11-08T15:36:35.950Z"
   },
   {
    "duration": 1366,
    "start_time": "2022-11-08T17:59:53.918Z"
   },
   {
    "duration": 3,
    "start_time": "2022-11-08T17:59:55.287Z"
   },
   {
    "duration": 6,
    "start_time": "2022-11-08T17:59:55.292Z"
   },
   {
    "duration": 7,
    "start_time": "2022-11-08T17:59:55.300Z"
   },
   {
    "duration": 7,
    "start_time": "2022-11-08T17:59:55.309Z"
   },
   {
    "duration": 725,
    "start_time": "2022-11-08T17:59:55.334Z"
   },
   {
    "duration": 1581,
    "start_time": "2022-11-08T17:59:56.061Z"
   },
   {
    "duration": 4,
    "start_time": "2022-11-08T17:59:57.644Z"
   },
   {
    "duration": 618,
    "start_time": "2022-11-08T17:59:57.649Z"
   },
   {
    "duration": 261,
    "start_time": "2022-11-08T17:59:58.269Z"
   },
   {
    "duration": 779,
    "start_time": "2022-11-08T17:59:58.531Z"
   },
   {
    "duration": 28,
    "start_time": "2022-11-08T17:59:59.311Z"
   },
   {
    "duration": 20,
    "start_time": "2022-11-08T17:59:59.341Z"
   },
   {
    "duration": 89,
    "start_time": "2022-11-08T17:59:59.363Z"
   },
   {
    "duration": 780,
    "start_time": "2022-11-08T17:59:59.454Z"
   },
   {
    "duration": 3,
    "start_time": "2022-11-08T18:00:00.236Z"
   },
   {
    "duration": 39,
    "start_time": "2022-11-08T18:00:00.240Z"
   },
   {
    "duration": 724,
    "start_time": "2022-11-08T18:00:00.281Z"
   },
   {
    "duration": 10,
    "start_time": "2022-11-08T18:00:01.007Z"
   },
   {
    "duration": 872,
    "start_time": "2022-11-08T18:00:01.019Z"
   },
   {
    "duration": 85,
    "start_time": "2022-11-08T18:00:01.893Z"
   },
   {
    "duration": 11,
    "start_time": "2022-11-08T18:00:01.979Z"
   },
   {
    "duration": 84,
    "start_time": "2022-11-08T18:00:01.991Z"
   },
   {
    "duration": 864,
    "start_time": "2022-11-08T18:00:02.076Z"
   },
   {
    "duration": 93,
    "start_time": "2022-11-08T18:00:02.942Z"
   },
   {
    "duration": 3,
    "start_time": "2022-11-08T18:00:03.037Z"
   },
   {
    "duration": 7,
    "start_time": "2022-11-08T18:00:03.042Z"
   },
   {
    "duration": 617,
    "start_time": "2022-11-08T18:00:03.052Z"
   },
   {
    "duration": 441,
    "start_time": "2022-11-08T18:00:03.671Z"
   },
   {
    "duration": 202,
    "start_time": "2022-11-08T18:00:04.114Z"
   },
   {
    "duration": 19408,
    "start_time": "2022-11-08T18:01:29.452Z"
   },
   {
    "duration": 142,
    "start_time": "2022-11-08T18:01:48.861Z"
   },
   {
    "duration": 1855,
    "start_time": "2022-11-08T18:01:49.004Z"
   },
   {
    "duration": 6,
    "start_time": "2022-11-08T18:01:50.861Z"
   },
   {
    "duration": 62,
    "start_time": "2022-11-08T18:02:02.811Z"
   },
   {
    "duration": 1383,
    "start_time": "2022-11-08T18:02:08.217Z"
   },
   {
    "duration": 2,
    "start_time": "2022-11-08T18:02:09.603Z"
   },
   {
    "duration": 6,
    "start_time": "2022-11-08T18:02:09.607Z"
   },
   {
    "duration": 7,
    "start_time": "2022-11-08T18:02:09.615Z"
   },
   {
    "duration": 7,
    "start_time": "2022-11-08T18:02:09.634Z"
   },
   {
    "duration": 786,
    "start_time": "2022-11-08T18:02:09.643Z"
   },
   {
    "duration": 1692,
    "start_time": "2022-11-08T18:02:10.431Z"
   },
   {
    "duration": 10,
    "start_time": "2022-11-08T18:02:12.125Z"
   },
   {
    "duration": 683,
    "start_time": "2022-11-08T18:02:12.136Z"
   },
   {
    "duration": 282,
    "start_time": "2022-11-08T18:02:12.834Z"
   },
   {
    "duration": 845,
    "start_time": "2022-11-08T18:02:13.118Z"
   },
   {
    "duration": 17,
    "start_time": "2022-11-08T18:02:13.964Z"
   },
   {
    "duration": 24,
    "start_time": "2022-11-08T18:02:13.982Z"
   },
   {
    "duration": 74,
    "start_time": "2022-11-08T18:02:14.008Z"
   },
   {
    "duration": 783,
    "start_time": "2022-11-08T18:02:14.084Z"
   },
   {
    "duration": 3,
    "start_time": "2022-11-08T18:02:14.869Z"
   },
   {
    "duration": 20,
    "start_time": "2022-11-08T18:02:14.873Z"
   },
   {
    "duration": 724,
    "start_time": "2022-11-08T18:02:14.895Z"
   },
   {
    "duration": 20,
    "start_time": "2022-11-08T18:02:15.621Z"
   },
   {
    "duration": 899,
    "start_time": "2022-11-08T18:02:15.643Z"
   },
   {
    "duration": 95,
    "start_time": "2022-11-08T18:02:16.544Z"
   },
   {
    "duration": 10,
    "start_time": "2022-11-08T18:02:16.641Z"
   },
   {
    "duration": 83,
    "start_time": "2022-11-08T18:02:16.653Z"
   },
   {
    "duration": 888,
    "start_time": "2022-11-08T18:02:16.738Z"
   },
   {
    "duration": 84,
    "start_time": "2022-11-08T18:02:17.628Z"
   },
   {
    "duration": 4,
    "start_time": "2022-11-08T18:02:17.714Z"
   },
   {
    "duration": 19,
    "start_time": "2022-11-08T18:02:17.719Z"
   },
   {
    "duration": 705,
    "start_time": "2022-11-08T18:02:17.742Z"
   },
   {
    "duration": 472,
    "start_time": "2022-11-08T18:02:18.449Z"
   },
   {
    "duration": 195,
    "start_time": "2022-11-08T18:02:18.923Z"
   },
   {
    "duration": 67143,
    "start_time": "2022-11-08T18:02:22.311Z"
   },
   {
    "duration": 31708,
    "start_time": "2022-11-08T18:03:31.103Z"
   },
   {
    "duration": 1436,
    "start_time": "2022-11-08T18:04:04.110Z"
   },
   {
    "duration": 48,
    "start_time": "2022-11-08T18:06:34.087Z"
   },
   {
    "duration": 1498,
    "start_time": "2022-11-08T18:07:25.530Z"
   },
   {
    "duration": 4,
    "start_time": "2022-11-08T18:07:27.030Z"
   },
   {
    "duration": 8,
    "start_time": "2022-11-08T18:07:27.036Z"
   },
   {
    "duration": 15,
    "start_time": "2022-11-08T18:07:27.047Z"
   },
   {
    "duration": 15,
    "start_time": "2022-11-08T18:07:27.063Z"
   },
   {
    "duration": 765,
    "start_time": "2022-11-08T18:07:27.080Z"
   },
   {
    "duration": 1729,
    "start_time": "2022-11-08T18:07:27.847Z"
   },
   {
    "duration": 3,
    "start_time": "2022-11-08T18:07:29.578Z"
   },
   {
    "duration": 697,
    "start_time": "2022-11-08T18:07:29.583Z"
   },
   {
    "duration": 310,
    "start_time": "2022-11-08T18:07:30.282Z"
   },
   {
    "duration": 893,
    "start_time": "2022-11-08T18:07:30.594Z"
   },
   {
    "duration": 18,
    "start_time": "2022-11-08T18:07:31.489Z"
   },
   {
    "duration": 35,
    "start_time": "2022-11-08T18:07:31.508Z"
   },
   {
    "duration": 64,
    "start_time": "2022-11-08T18:07:31.545Z"
   },
   {
    "duration": 809,
    "start_time": "2022-11-08T18:07:31.611Z"
   },
   {
    "duration": 3,
    "start_time": "2022-11-08T18:07:32.422Z"
   },
   {
    "duration": 31,
    "start_time": "2022-11-08T18:07:32.426Z"
   },
   {
    "duration": 784,
    "start_time": "2022-11-08T18:07:32.458Z"
   },
   {
    "duration": 11,
    "start_time": "2022-11-08T18:07:33.243Z"
   },
   {
    "duration": 954,
    "start_time": "2022-11-08T18:07:33.256Z"
   },
   {
    "duration": 78,
    "start_time": "2022-11-08T18:07:34.212Z"
   },
   {
    "duration": 14,
    "start_time": "2022-11-08T18:07:34.292Z"
   },
   {
    "duration": 91,
    "start_time": "2022-11-08T18:07:34.308Z"
   },
   {
    "duration": 920,
    "start_time": "2022-11-08T18:07:34.401Z"
   },
   {
    "duration": 92,
    "start_time": "2022-11-08T18:07:35.323Z"
   },
   {
    "duration": 4,
    "start_time": "2022-11-08T18:07:35.417Z"
   },
   {
    "duration": 25,
    "start_time": "2022-11-08T18:07:35.435Z"
   },
   {
    "duration": 706,
    "start_time": "2022-11-08T18:07:35.464Z"
   },
   {
    "duration": 451,
    "start_time": "2022-11-08T18:07:36.172Z"
   },
   {
    "duration": 209,
    "start_time": "2022-11-08T18:07:36.625Z"
   },
   {
    "duration": 60,
    "start_time": "2022-11-08T18:07:36.836Z"
   },
   {
    "duration": 88,
    "start_time": "2022-11-08T18:07:36.898Z"
   },
   {
    "duration": 4,
    "start_time": "2022-11-08T18:07:36.988Z"
   },
   {
    "duration": 0,
    "start_time": "2022-11-08T18:07:36.994Z"
   },
   {
    "duration": 0,
    "start_time": "2022-11-08T18:07:36.995Z"
   },
   {
    "duration": 0,
    "start_time": "2022-11-08T18:07:36.996Z"
   },
   {
    "duration": 0,
    "start_time": "2022-11-08T18:07:36.997Z"
   },
   {
    "duration": 0,
    "start_time": "2022-11-08T18:07:36.998Z"
   },
   {
    "duration": 0,
    "start_time": "2022-11-08T18:07:36.999Z"
   },
   {
    "duration": 0,
    "start_time": "2022-11-08T18:07:37.000Z"
   },
   {
    "duration": 0,
    "start_time": "2022-11-08T18:07:37.001Z"
   },
   {
    "duration": 0,
    "start_time": "2022-11-08T18:07:37.035Z"
   },
   {
    "duration": 0,
    "start_time": "2022-11-08T18:07:37.037Z"
   },
   {
    "duration": 0,
    "start_time": "2022-11-08T18:07:37.038Z"
   },
   {
    "duration": 0,
    "start_time": "2022-11-08T18:07:37.039Z"
   },
   {
    "duration": 0,
    "start_time": "2022-11-08T18:07:37.040Z"
   },
   {
    "duration": 0,
    "start_time": "2022-11-08T18:07:37.041Z"
   },
   {
    "duration": 1403,
    "start_time": "2022-11-08T18:08:07.379Z"
   },
   {
    "duration": 3,
    "start_time": "2022-11-08T18:08:08.784Z"
   },
   {
    "duration": 5,
    "start_time": "2022-11-08T18:08:08.789Z"
   },
   {
    "duration": 8,
    "start_time": "2022-11-08T18:08:08.796Z"
   },
   {
    "duration": 17,
    "start_time": "2022-11-08T18:08:08.806Z"
   },
   {
    "duration": 759,
    "start_time": "2022-11-08T18:08:08.825Z"
   },
   {
    "duration": 2659,
    "start_time": "2022-11-08T18:08:09.585Z"
   },
   {
    "duration": 3,
    "start_time": "2022-11-08T18:08:12.246Z"
   },
   {
    "duration": 671,
    "start_time": "2022-11-08T18:08:12.251Z"
   },
   {
    "duration": 320,
    "start_time": "2022-11-08T18:08:12.925Z"
   },
   {
    "duration": 828,
    "start_time": "2022-11-08T18:08:13.246Z"
   },
   {
    "duration": 17,
    "start_time": "2022-11-08T18:08:14.076Z"
   },
   {
    "duration": 25,
    "start_time": "2022-11-08T18:08:14.095Z"
   },
   {
    "duration": 74,
    "start_time": "2022-11-08T18:08:14.121Z"
   },
   {
    "duration": 850,
    "start_time": "2022-11-08T18:08:14.197Z"
   },
   {
    "duration": 3,
    "start_time": "2022-11-08T18:08:15.049Z"
   },
   {
    "duration": 28,
    "start_time": "2022-11-08T18:08:15.054Z"
   },
   {
    "duration": 754,
    "start_time": "2022-11-08T18:08:15.084Z"
   },
   {
    "duration": 9,
    "start_time": "2022-11-08T18:08:15.840Z"
   },
   {
    "duration": 897,
    "start_time": "2022-11-08T18:08:15.850Z"
   },
   {
    "duration": 69,
    "start_time": "2022-11-08T18:08:16.748Z"
   },
   {
    "duration": 23,
    "start_time": "2022-11-08T18:08:16.819Z"
   },
   {
    "duration": 70,
    "start_time": "2022-11-08T18:08:16.843Z"
   },
   {
    "duration": 916,
    "start_time": "2022-11-08T18:08:16.915Z"
   },
   {
    "duration": 113,
    "start_time": "2022-11-08T18:08:17.835Z"
   },
   {
    "duration": 4,
    "start_time": "2022-11-08T18:08:17.949Z"
   },
   {
    "duration": 22,
    "start_time": "2022-11-08T18:08:17.955Z"
   },
   {
    "duration": 674,
    "start_time": "2022-11-08T18:08:17.981Z"
   },
   {
    "duration": 488,
    "start_time": "2022-11-08T18:08:18.657Z"
   },
   {
    "duration": 215,
    "start_time": "2022-11-08T18:08:19.147Z"
   },
   {
    "duration": 77,
    "start_time": "2022-11-08T18:08:19.364Z"
   },
   {
    "duration": 62,
    "start_time": "2022-11-08T18:08:19.444Z"
   },
   {
    "duration": 66,
    "start_time": "2022-11-08T18:08:19.508Z"
   },
   {
    "duration": 59,
    "start_time": "2022-11-08T18:08:19.576Z"
   },
   {
    "duration": 7,
    "start_time": "2022-11-08T18:08:19.638Z"
   },
   {
    "duration": 206188,
    "start_time": "2022-11-08T18:08:19.648Z"
   },
   {
    "duration": 99,
    "start_time": "2022-11-08T18:11:45.838Z"
   },
   {
    "duration": 10,
    "start_time": "2022-11-08T18:11:45.939Z"
   },
   {
    "duration": 545,
    "start_time": "2022-11-08T18:11:45.950Z"
   },
   {
    "duration": 0,
    "start_time": "2022-11-08T18:11:46.497Z"
   },
   {
    "duration": 0,
    "start_time": "2022-11-08T18:11:46.499Z"
   },
   {
    "duration": 0,
    "start_time": "2022-11-08T18:11:46.500Z"
   },
   {
    "duration": 0,
    "start_time": "2022-11-08T18:11:46.501Z"
   },
   {
    "duration": 0,
    "start_time": "2022-11-08T18:11:46.502Z"
   },
   {
    "duration": 0,
    "start_time": "2022-11-08T18:11:46.503Z"
   },
   {
    "duration": 0,
    "start_time": "2022-11-08T18:11:46.504Z"
   },
   {
    "duration": 0,
    "start_time": "2022-11-08T18:11:46.505Z"
   },
   {
    "duration": 10,
    "start_time": "2022-11-08T18:14:10.856Z"
   },
   {
    "duration": 12,
    "start_time": "2022-11-08T18:14:18.709Z"
   },
   {
    "duration": 1380,
    "start_time": "2022-11-08T18:15:31.129Z"
   },
   {
    "duration": 4,
    "start_time": "2022-11-08T18:15:32.511Z"
   },
   {
    "duration": 7,
    "start_time": "2022-11-08T18:15:32.516Z"
   },
   {
    "duration": 11,
    "start_time": "2022-11-08T18:15:32.524Z"
   },
   {
    "duration": 10,
    "start_time": "2022-11-08T18:15:32.537Z"
   },
   {
    "duration": 827,
    "start_time": "2022-11-08T18:15:32.548Z"
   },
   {
    "duration": 1699,
    "start_time": "2022-11-08T18:15:33.376Z"
   },
   {
    "duration": 4,
    "start_time": "2022-11-08T18:15:35.077Z"
   },
   {
    "duration": 708,
    "start_time": "2022-11-08T18:15:35.083Z"
   },
   {
    "duration": 284,
    "start_time": "2022-11-08T18:15:35.795Z"
   },
   {
    "duration": 867,
    "start_time": "2022-11-08T18:15:36.081Z"
   },
   {
    "duration": 20,
    "start_time": "2022-11-08T18:15:36.950Z"
   },
   {
    "duration": 25,
    "start_time": "2022-11-08T18:15:36.972Z"
   },
   {
    "duration": 86,
    "start_time": "2022-11-08T18:15:36.999Z"
   },
   {
    "duration": 784,
    "start_time": "2022-11-08T18:15:37.087Z"
   },
   {
    "duration": 3,
    "start_time": "2022-11-08T18:15:37.873Z"
   },
   {
    "duration": 26,
    "start_time": "2022-11-08T18:15:37.877Z"
   },
   {
    "duration": 685,
    "start_time": "2022-11-08T18:15:37.905Z"
   },
   {
    "duration": 10,
    "start_time": "2022-11-08T18:15:38.591Z"
   },
   {
    "duration": 1039,
    "start_time": "2022-11-08T18:15:38.603Z"
   },
   {
    "duration": 99,
    "start_time": "2022-11-08T18:15:39.644Z"
   },
   {
    "duration": 13,
    "start_time": "2022-11-08T18:15:39.745Z"
   },
   {
    "duration": 99,
    "start_time": "2022-11-08T18:15:39.760Z"
   },
   {
    "duration": 934,
    "start_time": "2022-11-08T18:15:39.861Z"
   },
   {
    "duration": 99,
    "start_time": "2022-11-08T18:15:40.797Z"
   },
   {
    "duration": 3,
    "start_time": "2022-11-08T18:15:40.898Z"
   },
   {
    "duration": 7,
    "start_time": "2022-11-08T18:15:40.902Z"
   },
   {
    "duration": 648,
    "start_time": "2022-11-08T18:15:40.912Z"
   },
   {
    "duration": 446,
    "start_time": "2022-11-08T18:15:41.561Z"
   },
   {
    "duration": 130,
    "start_time": "2022-11-08T18:15:42.009Z"
   },
   {
    "duration": 55,
    "start_time": "2022-11-08T18:15:42.141Z"
   },
   {
    "duration": 84,
    "start_time": "2022-11-08T18:15:42.198Z"
   },
   {
    "duration": 60,
    "start_time": "2022-11-08T18:15:42.283Z"
   },
   {
    "duration": 32,
    "start_time": "2022-11-08T18:15:42.344Z"
   },
   {
    "duration": 5,
    "start_time": "2022-11-08T18:15:42.378Z"
   },
   {
    "duration": 215151,
    "start_time": "2022-11-08T18:15:42.384Z"
   },
   {
    "duration": 97,
    "start_time": "2022-11-08T18:19:17.538Z"
   },
   {
    "duration": 8,
    "start_time": "2022-11-08T18:19:17.637Z"
   },
   {
    "duration": 16,
    "start_time": "2022-11-08T18:19:17.647Z"
   },
   {
    "duration": 16490,
    "start_time": "2022-11-08T18:19:17.665Z"
   },
   {
    "duration": 7,
    "start_time": "2022-11-08T18:19:34.157Z"
   },
   {
    "duration": 7,
    "start_time": "2022-11-08T18:19:34.165Z"
   },
   {
    "duration": 2073,
    "start_time": "2022-11-08T18:19:34.173Z"
   },
   {
    "duration": 0,
    "start_time": "2022-11-08T18:19:36.248Z"
   },
   {
    "duration": 0,
    "start_time": "2022-11-08T18:19:36.249Z"
   },
   {
    "duration": 0,
    "start_time": "2022-11-08T18:19:36.251Z"
   },
   {
    "duration": 0,
    "start_time": "2022-11-08T18:19:36.252Z"
   },
   {
    "duration": 0,
    "start_time": "2022-11-08T18:19:36.253Z"
   },
   {
    "duration": 4,
    "start_time": "2022-11-08T18:30:19.316Z"
   },
   {
    "duration": 1929,
    "start_time": "2022-11-08T18:30:44.470Z"
   },
   {
    "duration": 14,
    "start_time": "2022-11-08T18:31:47.484Z"
   },
   {
    "duration": 3,
    "start_time": "2022-11-08T18:31:51.130Z"
   },
   {
    "duration": 2041,
    "start_time": "2022-11-08T18:31:52.425Z"
   },
   {
    "duration": 10,
    "start_time": "2022-11-08T18:32:25.484Z"
   },
   {
    "duration": 1293,
    "start_time": "2022-11-08T18:32:53.487Z"
   },
   {
    "duration": 3,
    "start_time": "2022-11-08T18:32:54.781Z"
   },
   {
    "duration": 13,
    "start_time": "2022-11-08T18:32:54.786Z"
   },
   {
    "duration": 16,
    "start_time": "2022-11-08T18:32:54.801Z"
   },
   {
    "duration": 25,
    "start_time": "2022-11-08T18:32:54.818Z"
   },
   {
    "duration": 732,
    "start_time": "2022-11-08T18:32:54.845Z"
   },
   {
    "duration": 1624,
    "start_time": "2022-11-08T18:32:55.578Z"
   },
   {
    "duration": 3,
    "start_time": "2022-11-08T18:32:57.204Z"
   },
   {
    "duration": 676,
    "start_time": "2022-11-08T18:32:57.208Z"
   },
   {
    "duration": 279,
    "start_time": "2022-11-08T18:32:57.887Z"
   },
   {
    "duration": 1679,
    "start_time": "2022-11-08T18:32:58.168Z"
   },
   {
    "duration": 20,
    "start_time": "2022-11-08T18:32:59.849Z"
   },
   {
    "duration": 22,
    "start_time": "2022-11-08T18:32:59.871Z"
   },
   {
    "duration": 90,
    "start_time": "2022-11-08T18:32:59.895Z"
   },
   {
    "duration": 837,
    "start_time": "2022-11-08T18:32:59.987Z"
   },
   {
    "duration": 10,
    "start_time": "2022-11-08T18:33:00.826Z"
   },
   {
    "duration": 23,
    "start_time": "2022-11-08T18:33:00.837Z"
   },
   {
    "duration": 693,
    "start_time": "2022-11-08T18:33:00.862Z"
   },
   {
    "duration": 9,
    "start_time": "2022-11-08T18:33:01.557Z"
   },
   {
    "duration": 892,
    "start_time": "2022-11-08T18:33:01.568Z"
   },
   {
    "duration": 80,
    "start_time": "2022-11-08T18:33:02.462Z"
   },
   {
    "duration": 13,
    "start_time": "2022-11-08T18:33:02.544Z"
   },
   {
    "duration": 89,
    "start_time": "2022-11-08T18:33:02.559Z"
   },
   {
    "duration": 846,
    "start_time": "2022-11-08T18:33:02.650Z"
   },
   {
    "duration": 95,
    "start_time": "2022-11-08T18:33:03.497Z"
   },
   {
    "duration": 4,
    "start_time": "2022-11-08T18:33:03.593Z"
   },
   {
    "duration": 21,
    "start_time": "2022-11-08T18:33:03.599Z"
   },
   {
    "duration": 625,
    "start_time": "2022-11-08T18:33:03.624Z"
   },
   {
    "duration": 444,
    "start_time": "2022-11-08T18:33:04.251Z"
   },
   {
    "duration": 125,
    "start_time": "2022-11-08T18:33:04.697Z"
   },
   {
    "duration": 64,
    "start_time": "2022-11-08T18:33:04.824Z"
   },
   {
    "duration": 80,
    "start_time": "2022-11-08T18:33:04.890Z"
   },
   {
    "duration": 33,
    "start_time": "2022-11-08T18:33:04.972Z"
   },
   {
    "duration": 31,
    "start_time": "2022-11-08T18:33:05.034Z"
   },
   {
    "duration": 4,
    "start_time": "2022-11-08T18:33:05.067Z"
   },
   {
    "duration": 203768,
    "start_time": "2022-11-08T18:33:05.073Z"
   },
   {
    "duration": 93,
    "start_time": "2022-11-08T18:36:28.842Z"
   },
   {
    "duration": 10,
    "start_time": "2022-11-08T18:36:28.937Z"
   },
   {
    "duration": 13689,
    "start_time": "2022-11-08T18:36:28.948Z"
   },
   {
    "duration": 7,
    "start_time": "2022-11-08T18:36:42.638Z"
   },
   {
    "duration": 6,
    "start_time": "2022-11-08T18:36:42.646Z"
   },
   {
    "duration": 17,
    "start_time": "2022-11-08T18:36:42.653Z"
   },
   {
    "duration": 2376,
    "start_time": "2022-11-08T18:36:42.672Z"
   },
   {
    "duration": 0,
    "start_time": "2022-11-08T18:36:45.049Z"
   },
   {
    "duration": 0,
    "start_time": "2022-11-08T18:36:45.050Z"
   },
   {
    "duration": 0,
    "start_time": "2022-11-08T18:36:45.051Z"
   },
   {
    "duration": 0,
    "start_time": "2022-11-08T18:36:45.052Z"
   },
   {
    "duration": 0,
    "start_time": "2022-11-08T18:36:45.053Z"
   },
   {
    "duration": 1426,
    "start_time": "2022-11-08T18:41:34.508Z"
   },
   {
    "duration": 3,
    "start_time": "2022-11-08T18:41:35.936Z"
   },
   {
    "duration": 8,
    "start_time": "2022-11-08T18:41:35.941Z"
   },
   {
    "duration": 11,
    "start_time": "2022-11-08T18:41:35.951Z"
   },
   {
    "duration": 11,
    "start_time": "2022-11-08T18:41:35.964Z"
   },
   {
    "duration": 766,
    "start_time": "2022-11-08T18:41:35.977Z"
   },
   {
    "duration": 1690,
    "start_time": "2022-11-08T18:41:36.745Z"
   },
   {
    "duration": 3,
    "start_time": "2022-11-08T18:41:38.436Z"
   },
   {
    "duration": 676,
    "start_time": "2022-11-08T18:41:38.441Z"
   },
   {
    "duration": 284,
    "start_time": "2022-11-08T18:41:39.120Z"
   },
   {
    "duration": 817,
    "start_time": "2022-11-08T18:41:39.406Z"
   },
   {
    "duration": 21,
    "start_time": "2022-11-08T18:41:40.234Z"
   },
   {
    "duration": 30,
    "start_time": "2022-11-08T18:41:40.257Z"
   },
   {
    "duration": 92,
    "start_time": "2022-11-08T18:41:40.289Z"
   },
   {
    "duration": 766,
    "start_time": "2022-11-08T18:41:40.384Z"
   },
   {
    "duration": 3,
    "start_time": "2022-11-08T18:41:41.152Z"
   },
   {
    "duration": 22,
    "start_time": "2022-11-08T18:41:41.156Z"
   },
   {
    "duration": 695,
    "start_time": "2022-11-08T18:41:41.180Z"
   },
   {
    "duration": 9,
    "start_time": "2022-11-08T18:41:41.877Z"
   },
   {
    "duration": 885,
    "start_time": "2022-11-08T18:41:41.888Z"
   },
   {
    "duration": 89,
    "start_time": "2022-11-08T18:41:42.774Z"
   },
   {
    "duration": 13,
    "start_time": "2022-11-08T18:41:42.865Z"
   },
   {
    "duration": 97,
    "start_time": "2022-11-08T18:41:42.880Z"
   },
   {
    "duration": 862,
    "start_time": "2022-11-08T18:41:42.978Z"
   },
   {
    "duration": 95,
    "start_time": "2022-11-08T18:41:43.842Z"
   },
   {
    "duration": 4,
    "start_time": "2022-11-08T18:41:43.939Z"
   },
   {
    "duration": 7,
    "start_time": "2022-11-08T18:41:43.944Z"
   },
   {
    "duration": 661,
    "start_time": "2022-11-08T18:41:43.956Z"
   },
   {
    "duration": 451,
    "start_time": "2022-11-08T18:41:44.619Z"
   },
   {
    "duration": 94,
    "start_time": "2022-11-08T18:41:45.072Z"
   },
   {
    "duration": 78,
    "start_time": "2022-11-08T18:41:45.168Z"
   },
   {
    "duration": 59,
    "start_time": "2022-11-08T18:41:45.248Z"
   },
   {
    "duration": 53,
    "start_time": "2022-11-08T18:41:45.309Z"
   },
   {
    "duration": 27,
    "start_time": "2022-11-08T18:41:45.364Z"
   },
   {
    "duration": 42,
    "start_time": "2022-11-08T18:41:45.393Z"
   },
   {
    "duration": 189903,
    "start_time": "2022-11-08T18:41:45.436Z"
   },
   {
    "duration": 98,
    "start_time": "2022-11-08T18:44:55.340Z"
   },
   {
    "duration": 7,
    "start_time": "2022-11-08T18:44:55.440Z"
   },
   {
    "duration": 24895,
    "start_time": "2022-11-08T18:44:55.449Z"
   },
   {
    "duration": 9,
    "start_time": "2022-11-08T18:45:20.347Z"
   },
   {
    "duration": 11,
    "start_time": "2022-11-08T18:45:20.358Z"
   },
   {
    "duration": 21,
    "start_time": "2022-11-08T18:45:20.371Z"
   },
   {
    "duration": 16497,
    "start_time": "2022-11-08T18:45:20.394Z"
   },
   {
    "duration": 9,
    "start_time": "2022-11-08T18:45:36.893Z"
   },
   {
    "duration": 13,
    "start_time": "2022-11-08T18:45:36.904Z"
   },
   {
    "duration": 6,
    "start_time": "2022-11-08T18:45:36.919Z"
   },
   {
    "duration": 6,
    "start_time": "2022-11-08T18:45:36.926Z"
   },
   {
    "duration": 124,
    "start_time": "2022-11-08T18:45:36.934Z"
   },
   {
    "duration": 4,
    "start_time": "2022-11-08T19:01:07.225Z"
   },
   {
    "duration": 1522,
    "start_time": "2022-11-08T19:01:08.835Z"
   },
   {
    "duration": 1438,
    "start_time": "2022-11-08T19:20:03.857Z"
   },
   {
    "duration": 3,
    "start_time": "2022-11-08T19:20:05.297Z"
   },
   {
    "duration": 7,
    "start_time": "2022-11-08T19:20:05.301Z"
   },
   {
    "duration": 9,
    "start_time": "2022-11-08T19:20:05.311Z"
   },
   {
    "duration": 20,
    "start_time": "2022-11-08T19:20:05.321Z"
   },
   {
    "duration": 776,
    "start_time": "2022-11-08T19:20:05.342Z"
   },
   {
    "duration": 1659,
    "start_time": "2022-11-08T19:20:06.120Z"
   },
   {
    "duration": 4,
    "start_time": "2022-11-08T19:20:07.781Z"
   },
   {
    "duration": 671,
    "start_time": "2022-11-08T19:20:07.786Z"
   },
   {
    "duration": 280,
    "start_time": "2022-11-08T19:20:08.460Z"
   },
   {
    "duration": 874,
    "start_time": "2022-11-08T19:20:08.742Z"
   },
   {
    "duration": 32,
    "start_time": "2022-11-08T19:20:09.618Z"
   },
   {
    "duration": 23,
    "start_time": "2022-11-08T19:20:09.652Z"
   },
   {
    "duration": 87,
    "start_time": "2022-11-08T19:20:09.677Z"
   },
   {
    "duration": 1016,
    "start_time": "2022-11-08T19:20:09.766Z"
   },
   {
    "duration": 3,
    "start_time": "2022-11-08T19:20:10.783Z"
   },
   {
    "duration": 21,
    "start_time": "2022-11-08T19:20:10.787Z"
   },
   {
    "duration": 771,
    "start_time": "2022-11-08T19:20:10.809Z"
   },
   {
    "duration": 11,
    "start_time": "2022-11-08T19:20:11.582Z"
   },
   {
    "duration": 899,
    "start_time": "2022-11-08T19:20:11.596Z"
   },
   {
    "duration": 78,
    "start_time": "2022-11-08T19:20:12.497Z"
   },
   {
    "duration": 13,
    "start_time": "2022-11-08T19:20:12.577Z"
   },
   {
    "duration": 93,
    "start_time": "2022-11-08T19:20:12.592Z"
   },
   {
    "duration": 907,
    "start_time": "2022-11-08T19:20:12.687Z"
   },
   {
    "duration": 104,
    "start_time": "2022-11-08T19:20:13.596Z"
   },
   {
    "duration": 5,
    "start_time": "2022-11-08T19:20:13.702Z"
   },
   {
    "duration": 7,
    "start_time": "2022-11-08T19:20:13.709Z"
   },
   {
    "duration": 632,
    "start_time": "2022-11-08T19:20:13.734Z"
   },
   {
    "duration": 453,
    "start_time": "2022-11-08T19:20:14.367Z"
   },
   {
    "duration": 92,
    "start_time": "2022-11-08T19:20:14.822Z"
   },
   {
    "duration": 68,
    "start_time": "2022-11-08T19:20:14.915Z"
   },
   {
    "duration": 79,
    "start_time": "2022-11-08T19:20:14.985Z"
   },
   {
    "duration": 26,
    "start_time": "2022-11-08T19:20:15.066Z"
   },
   {
    "duration": 73,
    "start_time": "2022-11-08T19:20:15.094Z"
   },
   {
    "duration": 5,
    "start_time": "2022-11-08T19:20:15.169Z"
   },
   {
    "duration": 254361,
    "start_time": "2022-11-08T19:20:15.176Z"
   },
   {
    "duration": 6,
    "start_time": "2022-11-08T19:24:29.540Z"
   },
   {
    "duration": 10,
    "start_time": "2022-11-08T19:24:29.547Z"
   },
   {
    "duration": 180123,
    "start_time": "2022-11-08T19:24:29.558Z"
   },
   {
    "duration": 6,
    "start_time": "2022-11-08T19:27:29.736Z"
   },
   {
    "duration": 7,
    "start_time": "2022-11-08T19:27:29.744Z"
   },
   {
    "duration": 16035,
    "start_time": "2022-11-08T19:27:29.752Z"
   },
   {
    "duration": 7,
    "start_time": "2022-11-08T19:27:45.788Z"
   },
   {
    "duration": 15,
    "start_time": "2022-11-08T19:27:45.797Z"
   },
   {
    "duration": 5,
    "start_time": "2022-11-08T19:27:45.814Z"
   },
   {
    "duration": 5,
    "start_time": "2022-11-08T19:27:45.821Z"
   },
   {
    "duration": 2323,
    "start_time": "2022-11-08T19:27:45.828Z"
   },
   {
    "duration": 5,
    "start_time": "2022-11-08T19:33:23.365Z"
   },
   {
    "duration": 4,
    "start_time": "2022-11-08T19:37:32.125Z"
   },
   {
    "duration": 108,
    "start_time": "2022-11-08T19:37:48.635Z"
   },
   {
    "duration": 14,
    "start_time": "2022-11-08T19:38:07.930Z"
   },
   {
    "duration": 12,
    "start_time": "2022-11-08T19:38:12.010Z"
   },
   {
    "duration": 6,
    "start_time": "2022-11-08T19:38:15.501Z"
   },
   {
    "duration": 51636,
    "start_time": "2022-11-08T19:43:09.399Z"
   },
   {
    "duration": 11,
    "start_time": "2022-11-08T19:45:01.789Z"
   },
   {
    "duration": 49462,
    "start_time": "2022-11-08T19:51:04.594Z"
   },
   {
    "duration": 1091,
    "start_time": "2022-11-08T20:13:15.260Z"
   },
   {
    "duration": 5,
    "start_time": "2022-11-08T20:15:10.302Z"
   },
   {
    "duration": 19,
    "start_time": "2022-11-08T20:15:10.308Z"
   },
   {
    "duration": 6,
    "start_time": "2022-11-08T20:15:10.330Z"
   },
   {
    "duration": 18,
    "start_time": "2022-11-08T20:15:10.338Z"
   },
   {
    "duration": 21,
    "start_time": "2022-11-08T20:15:10.358Z"
   },
   {
    "duration": 688,
    "start_time": "2022-11-08T20:15:10.381Z"
   },
   {
    "duration": 1689,
    "start_time": "2022-11-08T20:15:11.071Z"
   },
   {
    "duration": 4,
    "start_time": "2022-11-08T20:15:12.761Z"
   },
   {
    "duration": 718,
    "start_time": "2022-11-08T20:15:12.767Z"
   },
   {
    "duration": 289,
    "start_time": "2022-11-08T20:15:13.486Z"
   },
   {
    "duration": 796,
    "start_time": "2022-11-08T20:15:13.777Z"
   },
   {
    "duration": 20,
    "start_time": "2022-11-08T20:15:14.575Z"
   },
   {
    "duration": 93,
    "start_time": "2022-11-08T20:15:14.596Z"
   },
   {
    "duration": 848,
    "start_time": "2022-11-08T20:15:14.692Z"
   },
   {
    "duration": 3,
    "start_time": "2022-11-08T20:15:15.542Z"
   },
   {
    "duration": 21,
    "start_time": "2022-11-08T20:15:15.547Z"
   },
   {
    "duration": 865,
    "start_time": "2022-11-08T20:15:15.570Z"
   },
   {
    "duration": 12,
    "start_time": "2022-11-08T20:15:16.437Z"
   },
   {
    "duration": 970,
    "start_time": "2022-11-08T20:15:16.451Z"
   },
   {
    "duration": 80,
    "start_time": "2022-11-08T20:15:17.423Z"
   },
   {
    "duration": 12,
    "start_time": "2022-11-08T20:15:17.505Z"
   },
   {
    "duration": 78,
    "start_time": "2022-11-08T20:15:17.535Z"
   },
   {
    "duration": 1042,
    "start_time": "2022-11-08T20:21:18.074Z"
   },
   {
    "duration": 1202,
    "start_time": "2022-11-08T20:23:39.055Z"
   },
   {
    "duration": 887,
    "start_time": "2022-11-08T20:24:21.705Z"
   },
   {
    "duration": 710,
    "start_time": "2022-11-08T20:24:30.619Z"
   },
   {
    "duration": 829,
    "start_time": "2022-11-08T20:24:35.492Z"
   },
   {
    "duration": 301,
    "start_time": "2022-11-08T20:25:00.227Z"
   },
   {
    "duration": 256,
    "start_time": "2022-11-08T20:25:13.754Z"
   },
   {
    "duration": 253,
    "start_time": "2022-11-08T20:25:18.355Z"
   },
   {
    "duration": 245,
    "start_time": "2022-11-08T20:25:25.837Z"
   },
   {
    "duration": 274,
    "start_time": "2022-11-08T20:27:16.007Z"
   },
   {
    "duration": 262,
    "start_time": "2022-11-08T20:27:25.358Z"
   },
   {
    "duration": 275,
    "start_time": "2022-11-08T20:27:48.460Z"
   },
   {
    "duration": 216,
    "start_time": "2022-11-08T20:27:55.016Z"
   },
   {
    "duration": 292,
    "start_time": "2022-11-08T20:27:58.741Z"
   },
   {
    "duration": 403,
    "start_time": "2022-11-08T20:28:02.593Z"
   },
   {
    "duration": 1413,
    "start_time": "2022-11-08T20:31:39.767Z"
   },
   {
    "duration": 3,
    "start_time": "2022-11-08T20:31:41.182Z"
   },
   {
    "duration": 8,
    "start_time": "2022-11-08T20:31:41.186Z"
   },
   {
    "duration": 6,
    "start_time": "2022-11-08T20:31:41.196Z"
   },
   {
    "duration": 10,
    "start_time": "2022-11-08T20:31:41.203Z"
   },
   {
    "duration": 770,
    "start_time": "2022-11-08T20:31:41.214Z"
   },
   {
    "duration": 1680,
    "start_time": "2022-11-08T20:31:41.986Z"
   },
   {
    "duration": 4,
    "start_time": "2022-11-08T20:31:43.668Z"
   },
   {
    "duration": 693,
    "start_time": "2022-11-08T20:31:43.673Z"
   },
   {
    "duration": 275,
    "start_time": "2022-11-08T20:31:44.369Z"
   },
   {
    "duration": 943,
    "start_time": "2022-11-08T20:31:44.646Z"
   },
   {
    "duration": 19,
    "start_time": "2022-11-08T20:31:45.591Z"
   },
   {
    "duration": 100,
    "start_time": "2022-11-08T20:31:45.612Z"
   },
   {
    "duration": 869,
    "start_time": "2022-11-08T20:31:45.714Z"
   },
   {
    "duration": 3,
    "start_time": "2022-11-08T20:31:46.586Z"
   },
   {
    "duration": 46,
    "start_time": "2022-11-08T20:31:46.591Z"
   },
   {
    "duration": 847,
    "start_time": "2022-11-08T20:31:46.640Z"
   },
   {
    "duration": 519,
    "start_time": "2022-11-08T20:31:47.488Z"
   },
   {
    "duration": 337,
    "start_time": "2022-11-08T20:31:48.009Z"
   },
   {
    "duration": 21,
    "start_time": "2022-11-08T20:31:48.348Z"
   },
   {
    "duration": 815,
    "start_time": "2022-11-08T20:31:48.371Z"
   },
   {
    "duration": 95,
    "start_time": "2022-11-08T20:31:49.188Z"
   },
   {
    "duration": 15,
    "start_time": "2022-11-08T20:31:49.284Z"
   },
   {
    "duration": 5,
    "start_time": "2022-11-08T20:31:49.301Z"
   },
   {
    "duration": 42,
    "start_time": "2022-11-08T20:31:49.310Z"
   },
   {
    "duration": 877,
    "start_time": "2022-11-08T20:31:49.354Z"
   },
   {
    "duration": 82,
    "start_time": "2022-11-08T20:31:50.232Z"
   },
   {
    "duration": 4,
    "start_time": "2022-11-08T20:31:50.335Z"
   },
   {
    "duration": 6,
    "start_time": "2022-11-08T20:31:50.341Z"
   },
   {
    "duration": 711,
    "start_time": "2022-11-08T20:31:50.349Z"
   },
   {
    "duration": 482,
    "start_time": "2022-11-08T20:31:51.062Z"
   },
   {
    "duration": 197,
    "start_time": "2022-11-08T20:31:51.546Z"
   },
   {
    "duration": 55,
    "start_time": "2022-11-08T20:31:51.745Z"
   },
   {
    "duration": 87,
    "start_time": "2022-11-08T20:31:51.801Z"
   },
   {
    "duration": 48,
    "start_time": "2022-11-08T20:31:51.889Z"
   },
   {
    "duration": 23,
    "start_time": "2022-11-08T20:31:51.939Z"
   },
   {
    "duration": 5,
    "start_time": "2022-11-08T20:31:51.963Z"
   },
   {
    "duration": 1302,
    "start_time": "2022-11-08T20:33:11.365Z"
   },
   {
    "duration": 3,
    "start_time": "2022-11-08T20:33:12.669Z"
   },
   {
    "duration": 6,
    "start_time": "2022-11-08T20:33:12.673Z"
   },
   {
    "duration": 6,
    "start_time": "2022-11-08T20:33:12.682Z"
   },
   {
    "duration": 9,
    "start_time": "2022-11-08T20:33:12.689Z"
   },
   {
    "duration": 781,
    "start_time": "2022-11-08T20:33:12.699Z"
   },
   {
    "duration": 1660,
    "start_time": "2022-11-08T20:33:13.482Z"
   },
   {
    "duration": 4,
    "start_time": "2022-11-08T20:33:15.144Z"
   },
   {
    "duration": 700,
    "start_time": "2022-11-08T20:33:15.150Z"
   },
   {
    "duration": 282,
    "start_time": "2022-11-08T20:33:15.852Z"
   },
   {
    "duration": 817,
    "start_time": "2022-11-08T20:33:16.136Z"
   },
   {
    "duration": 18,
    "start_time": "2022-11-08T20:33:16.955Z"
   },
   {
    "duration": 82,
    "start_time": "2022-11-08T20:33:16.974Z"
   },
   {
    "duration": 803,
    "start_time": "2022-11-08T20:33:17.058Z"
   },
   {
    "duration": 3,
    "start_time": "2022-11-08T20:33:17.863Z"
   },
   {
    "duration": 26,
    "start_time": "2022-11-08T20:33:17.868Z"
   },
   {
    "duration": 713,
    "start_time": "2022-11-08T20:33:17.896Z"
   },
   {
    "duration": 446,
    "start_time": "2022-11-08T20:33:18.611Z"
   },
   {
    "duration": 279,
    "start_time": "2022-11-08T20:33:19.059Z"
   },
   {
    "duration": 22,
    "start_time": "2022-11-08T20:33:19.340Z"
   },
   {
    "duration": 787,
    "start_time": "2022-11-08T20:33:19.364Z"
   },
   {
    "duration": 83,
    "start_time": "2022-11-08T20:33:20.152Z"
   },
   {
    "duration": 12,
    "start_time": "2022-11-08T20:33:20.236Z"
   },
   {
    "duration": 110,
    "start_time": "2022-11-08T20:33:20.249Z"
   },
   {
    "duration": 19,
    "start_time": "2022-11-08T20:33:20.360Z"
   },
   {
    "duration": 924,
    "start_time": "2022-11-08T20:33:20.381Z"
   },
   {
    "duration": 89,
    "start_time": "2022-11-08T20:33:21.307Z"
   },
   {
    "duration": 4,
    "start_time": "2022-11-08T20:33:21.400Z"
   },
   {
    "duration": 10,
    "start_time": "2022-11-08T20:33:21.405Z"
   },
   {
    "duration": 615,
    "start_time": "2022-11-08T20:33:21.417Z"
   },
   {
    "duration": 432,
    "start_time": "2022-11-08T20:33:22.033Z"
   },
   {
    "duration": 195,
    "start_time": "2022-11-08T20:33:22.466Z"
   },
   {
    "duration": 55,
    "start_time": "2022-11-08T20:33:22.663Z"
   },
   {
    "duration": 57,
    "start_time": "2022-11-08T20:33:22.734Z"
   },
   {
    "duration": 55,
    "start_time": "2022-11-08T20:33:22.793Z"
   },
   {
    "duration": 31,
    "start_time": "2022-11-08T20:33:22.854Z"
   },
   {
    "duration": 6,
    "start_time": "2022-11-08T20:33:22.887Z"
   },
   {
    "duration": 232040,
    "start_time": "2022-11-08T20:33:22.895Z"
   },
   {
    "duration": 8,
    "start_time": "2022-11-08T20:37:14.937Z"
   },
   {
    "duration": 12,
    "start_time": "2022-11-08T20:37:15.035Z"
   },
   {
    "duration": 478829,
    "start_time": "2022-11-08T20:37:15.049Z"
   },
   {
    "duration": 8,
    "start_time": "2022-11-08T20:45:13.879Z"
   },
   {
    "duration": 7,
    "start_time": "2022-11-08T20:45:13.888Z"
   },
   {
    "duration": 15453,
    "start_time": "2022-11-08T20:45:13.897Z"
   },
   {
    "duration": 9,
    "start_time": "2022-11-08T20:45:29.352Z"
   },
   {
    "duration": 12,
    "start_time": "2022-11-08T20:45:29.362Z"
   },
   {
    "duration": 13,
    "start_time": "2022-11-08T20:45:29.376Z"
   },
   {
    "duration": 5,
    "start_time": "2022-11-08T20:45:29.391Z"
   },
   {
    "duration": 6,
    "start_time": "2022-11-08T20:45:29.398Z"
   },
   {
    "duration": 49636,
    "start_time": "2022-11-08T20:45:29.406Z"
   },
   {
    "duration": 1464,
    "start_time": "2022-11-08T20:47:32.220Z"
   },
   {
    "duration": 3,
    "start_time": "2022-11-08T20:47:33.686Z"
   },
   {
    "duration": 7,
    "start_time": "2022-11-08T20:47:33.691Z"
   },
   {
    "duration": 17,
    "start_time": "2022-11-08T20:47:33.700Z"
   },
   {
    "duration": 16,
    "start_time": "2022-11-08T20:47:33.719Z"
   },
   {
    "duration": 763,
    "start_time": "2022-11-08T20:47:33.737Z"
   },
   {
    "duration": 1732,
    "start_time": "2022-11-08T20:47:34.502Z"
   },
   {
    "duration": 4,
    "start_time": "2022-11-08T20:47:36.236Z"
   },
   {
    "duration": 6,
    "start_time": "2022-11-08T20:47:36.242Z"
   },
   {
    "duration": 714,
    "start_time": "2022-11-08T20:47:36.250Z"
   },
   {
    "duration": 288,
    "start_time": "2022-11-08T20:47:36.967Z"
   },
   {
    "duration": 854,
    "start_time": "2022-11-08T20:47:37.256Z"
   },
   {
    "duration": 25,
    "start_time": "2022-11-08T20:47:38.112Z"
   },
   {
    "duration": 68,
    "start_time": "2022-11-08T20:47:38.139Z"
   },
   {
    "duration": 784,
    "start_time": "2022-11-08T20:47:38.209Z"
   },
   {
    "duration": 3,
    "start_time": "2022-11-08T20:47:38.995Z"
   },
   {
    "duration": 43,
    "start_time": "2022-11-08T20:47:38.999Z"
   },
   {
    "duration": 694,
    "start_time": "2022-11-08T20:47:39.044Z"
   },
   {
    "duration": 466,
    "start_time": "2022-11-08T20:47:39.740Z"
   },
   {
    "duration": 332,
    "start_time": "2022-11-08T20:47:40.209Z"
   },
   {
    "duration": 22,
    "start_time": "2022-11-08T20:47:40.543Z"
   },
   {
    "duration": 783,
    "start_time": "2022-11-08T20:47:40.566Z"
   },
   {
    "duration": 86,
    "start_time": "2022-11-08T20:47:41.351Z"
   },
   {
    "duration": 12,
    "start_time": "2022-11-08T20:47:41.439Z"
   },
   {
    "duration": 108,
    "start_time": "2022-11-08T20:47:41.452Z"
   },
   {
    "duration": 24,
    "start_time": "2022-11-08T20:47:41.562Z"
   },
   {
    "duration": 923,
    "start_time": "2022-11-08T20:47:41.589Z"
   },
   {
    "duration": 84,
    "start_time": "2022-11-08T20:47:42.515Z"
   },
   {
    "duration": 3,
    "start_time": "2022-11-08T20:47:42.601Z"
   },
   {
    "duration": 8,
    "start_time": "2022-11-08T20:47:42.606Z"
   },
   {
    "duration": 726,
    "start_time": "2022-11-08T20:47:42.616Z"
   },
   {
    "duration": 439,
    "start_time": "2022-11-08T20:47:43.344Z"
   },
   {
    "duration": 88,
    "start_time": "2022-11-08T20:47:43.785Z"
   },
   {
    "duration": 77,
    "start_time": "2022-11-08T20:47:43.875Z"
   },
   {
    "duration": 81,
    "start_time": "2022-11-08T20:47:43.954Z"
   },
   {
    "duration": 26,
    "start_time": "2022-11-08T20:47:44.037Z"
   },
   {
    "duration": 24,
    "start_time": "2022-11-08T20:47:44.064Z"
   },
   {
    "duration": 4,
    "start_time": "2022-11-08T20:47:44.090Z"
   },
   {
    "duration": 238444,
    "start_time": "2022-11-08T20:47:44.096Z"
   },
   {
    "duration": 95,
    "start_time": "2022-11-08T20:51:42.542Z"
   },
   {
    "duration": 8,
    "start_time": "2022-11-08T20:51:42.639Z"
   },
   {
    "duration": 10814,
    "start_time": "2022-11-08T20:51:42.649Z"
   },
   {
    "duration": 7,
    "start_time": "2022-11-08T20:51:53.465Z"
   },
   {
    "duration": 6,
    "start_time": "2022-11-08T20:51:53.473Z"
   },
   {
    "duration": 16221,
    "start_time": "2022-11-08T20:51:53.480Z"
   },
   {
    "duration": 8,
    "start_time": "2022-11-08T20:52:09.703Z"
   },
   {
    "duration": 9,
    "start_time": "2022-11-08T20:52:09.712Z"
   },
   {
    "duration": 13,
    "start_time": "2022-11-08T20:52:09.722Z"
   },
   {
    "duration": 5,
    "start_time": "2022-11-08T20:52:09.736Z"
   },
   {
    "duration": 4,
    "start_time": "2022-11-08T20:52:09.742Z"
   },
   {
    "duration": 1501,
    "start_time": "2022-11-08T20:52:09.748Z"
   },
   {
    "duration": 1491,
    "start_time": "2022-11-08T21:05:26.447Z"
   },
   {
    "duration": 3,
    "start_time": "2022-11-08T21:05:27.940Z"
   },
   {
    "duration": 6,
    "start_time": "2022-11-08T21:05:27.944Z"
   },
   {
    "duration": 9,
    "start_time": "2022-11-08T21:05:27.952Z"
   },
   {
    "duration": 7,
    "start_time": "2022-11-08T21:05:27.963Z"
   },
   {
    "duration": 781,
    "start_time": "2022-11-08T21:05:27.972Z"
   },
   {
    "duration": 1764,
    "start_time": "2022-11-08T21:05:28.754Z"
   },
   {
    "duration": 5,
    "start_time": "2022-11-08T21:05:30.520Z"
   },
   {
    "duration": 22,
    "start_time": "2022-11-08T21:05:30.534Z"
   },
   {
    "duration": 729,
    "start_time": "2022-11-08T21:05:30.561Z"
   },
   {
    "duration": 293,
    "start_time": "2022-11-08T21:05:31.292Z"
   },
   {
    "duration": 877,
    "start_time": "2022-11-08T21:05:31.587Z"
   },
   {
    "duration": 18,
    "start_time": "2022-11-08T21:05:32.466Z"
   },
   {
    "duration": 80,
    "start_time": "2022-11-08T21:05:32.486Z"
   },
   {
    "duration": 819,
    "start_time": "2022-11-08T21:05:32.567Z"
   },
   {
    "duration": 3,
    "start_time": "2022-11-08T21:05:33.387Z"
   },
   {
    "duration": 24,
    "start_time": "2022-11-08T21:05:33.391Z"
   },
   {
    "duration": 697,
    "start_time": "2022-11-08T21:05:33.416Z"
   },
   {
    "duration": 483,
    "start_time": "2022-11-08T21:05:34.115Z"
   },
   {
    "duration": 266,
    "start_time": "2022-11-08T21:05:34.600Z"
   },
   {
    "duration": 10,
    "start_time": "2022-11-08T21:05:34.867Z"
   },
   {
    "duration": 755,
    "start_time": "2022-11-08T21:05:34.879Z"
   },
   {
    "duration": 70,
    "start_time": "2022-11-08T21:05:35.636Z"
   },
   {
    "duration": 28,
    "start_time": "2022-11-08T21:05:35.708Z"
   },
   {
    "duration": 102,
    "start_time": "2022-11-08T21:05:35.737Z"
   },
   {
    "duration": 20,
    "start_time": "2022-11-08T21:05:35.840Z"
   },
   {
    "duration": 837,
    "start_time": "2022-11-08T21:05:35.861Z"
   },
   {
    "duration": 87,
    "start_time": "2022-11-08T21:05:36.701Z"
   },
   {
    "duration": 4,
    "start_time": "2022-11-08T21:05:36.790Z"
   },
   {
    "duration": 7,
    "start_time": "2022-11-08T21:05:36.795Z"
   },
   {
    "duration": 732,
    "start_time": "2022-11-08T21:05:36.803Z"
   },
   {
    "duration": 443,
    "start_time": "2022-11-08T21:05:37.536Z"
   },
   {
    "duration": 91,
    "start_time": "2022-11-08T21:05:37.981Z"
   },
   {
    "duration": 67,
    "start_time": "2022-11-08T21:05:38.073Z"
   },
   {
    "duration": 55,
    "start_time": "2022-11-08T21:05:38.142Z"
   },
   {
    "duration": 49,
    "start_time": "2022-11-08T21:05:38.198Z"
   },
   {
    "duration": 22,
    "start_time": "2022-11-08T21:05:38.249Z"
   },
   {
    "duration": 4,
    "start_time": "2022-11-08T21:05:38.273Z"
   },
   {
    "duration": 199061,
    "start_time": "2022-11-08T21:05:38.278Z"
   },
   {
    "duration": 95,
    "start_time": "2022-11-08T21:08:57.341Z"
   },
   {
    "duration": 18,
    "start_time": "2022-11-08T21:08:57.438Z"
   },
   {
    "duration": 11420,
    "start_time": "2022-11-08T21:08:57.458Z"
   },
   {
    "duration": 8,
    "start_time": "2022-11-08T21:09:08.880Z"
   },
   {
    "duration": 9,
    "start_time": "2022-11-08T21:09:08.889Z"
   },
   {
    "duration": 18695,
    "start_time": "2022-11-08T21:09:08.899Z"
   },
   {
    "duration": 10,
    "start_time": "2022-11-08T21:09:27.596Z"
   },
   {
    "duration": 9,
    "start_time": "2022-11-08T21:09:27.607Z"
   },
   {
    "duration": 15,
    "start_time": "2022-11-08T21:09:27.618Z"
   },
   {
    "duration": 8,
    "start_time": "2022-11-08T21:09:27.635Z"
   },
   {
    "duration": 6,
    "start_time": "2022-11-08T21:09:27.644Z"
   },
   {
    "duration": 4896,
    "start_time": "2022-11-08T21:09:27.652Z"
   },
   {
    "duration": 5,
    "start_time": "2022-11-08T21:11:02.597Z"
   },
   {
    "duration": 6,
    "start_time": "2022-11-08T21:11:02.604Z"
   },
   {
    "duration": 6,
    "start_time": "2022-11-08T21:11:02.611Z"
   },
   {
    "duration": 7,
    "start_time": "2022-11-08T21:11:02.619Z"
   },
   {
    "duration": 11,
    "start_time": "2022-11-08T21:11:02.628Z"
   },
   {
    "duration": 685,
    "start_time": "2022-11-08T21:11:02.640Z"
   },
   {
    "duration": 1451,
    "start_time": "2022-11-08T21:11:03.327Z"
   },
   {
    "duration": 118,
    "start_time": "2022-11-08T21:11:04.779Z"
   },
   {
    "duration": 6,
    "start_time": "2022-11-08T21:11:34.489Z"
   },
   {
    "duration": 16,
    "start_time": "2022-11-08T21:11:57.193Z"
   },
   {
    "duration": 15,
    "start_time": "2022-11-08T21:14:31.859Z"
   },
   {
    "duration": 15,
    "start_time": "2022-11-08T21:15:11.199Z"
   },
   {
    "duration": 18,
    "start_time": "2022-11-08T21:15:31.673Z"
   },
   {
    "duration": 18,
    "start_time": "2022-11-08T21:16:42.930Z"
   },
   {
    "duration": 18,
    "start_time": "2022-11-08T21:17:15.707Z"
   },
   {
    "duration": 1415,
    "start_time": "2022-11-08T21:19:26.774Z"
   },
   {
    "duration": 3,
    "start_time": "2022-11-08T21:19:28.191Z"
   },
   {
    "duration": 10,
    "start_time": "2022-11-08T21:19:28.195Z"
   },
   {
    "duration": 7,
    "start_time": "2022-11-08T21:19:28.207Z"
   },
   {
    "duration": 19,
    "start_time": "2022-11-08T21:19:28.215Z"
   },
   {
    "duration": 786,
    "start_time": "2022-11-08T21:19:28.236Z"
   },
   {
    "duration": 1756,
    "start_time": "2022-11-08T21:19:29.023Z"
   },
   {
    "duration": 3,
    "start_time": "2022-11-08T21:19:30.781Z"
   },
   {
    "duration": 758,
    "start_time": "2022-11-08T21:19:30.786Z"
   },
   {
    "duration": 301,
    "start_time": "2022-11-08T21:19:31.547Z"
   },
   {
    "duration": 916,
    "start_time": "2022-11-08T21:19:31.849Z"
   },
   {
    "duration": 19,
    "start_time": "2022-11-08T21:19:32.767Z"
   },
   {
    "duration": 89,
    "start_time": "2022-11-08T21:19:32.788Z"
   },
   {
    "duration": 798,
    "start_time": "2022-11-08T21:19:32.879Z"
   },
   {
    "duration": 2,
    "start_time": "2022-11-08T21:19:33.678Z"
   },
   {
    "duration": 27,
    "start_time": "2022-11-08T21:19:33.682Z"
   },
   {
    "duration": 658,
    "start_time": "2022-11-08T21:19:33.711Z"
   },
   {
    "duration": 458,
    "start_time": "2022-11-08T21:19:34.371Z"
   },
   {
    "duration": 266,
    "start_time": "2022-11-08T21:19:34.834Z"
   },
   {
    "duration": 11,
    "start_time": "2022-11-08T21:19:35.101Z"
   },
   {
    "duration": 773,
    "start_time": "2022-11-08T21:19:35.113Z"
   },
   {
    "duration": 83,
    "start_time": "2022-11-08T21:19:35.888Z"
   },
   {
    "duration": 13,
    "start_time": "2022-11-08T21:19:35.972Z"
   },
   {
    "duration": 117,
    "start_time": "2022-11-08T21:19:35.987Z"
   },
   {
    "duration": 29,
    "start_time": "2022-11-08T21:19:36.106Z"
   },
   {
    "duration": 856,
    "start_time": "2022-11-08T21:19:36.136Z"
   },
   {
    "duration": 89,
    "start_time": "2022-11-08T21:19:36.993Z"
   },
   {
    "duration": 3,
    "start_time": "2022-11-08T21:19:37.086Z"
   },
   {
    "duration": 10,
    "start_time": "2022-11-08T21:19:37.091Z"
   },
   {
    "duration": 622,
    "start_time": "2022-11-08T21:19:37.102Z"
   },
   {
    "duration": 444,
    "start_time": "2022-11-08T21:19:37.726Z"
   },
   {
    "duration": 188,
    "start_time": "2022-11-08T21:19:38.172Z"
   },
   {
    "duration": 55,
    "start_time": "2022-11-08T21:19:38.362Z"
   },
   {
    "duration": 69,
    "start_time": "2022-11-08T21:19:38.418Z"
   },
   {
    "duration": 54,
    "start_time": "2022-11-08T21:19:38.488Z"
   },
   {
    "duration": 23,
    "start_time": "2022-11-08T21:19:38.543Z"
   },
   {
    "duration": 5,
    "start_time": "2022-11-08T21:19:38.568Z"
   },
   {
    "duration": 128690,
    "start_time": "2022-11-08T21:19:38.575Z"
   },
   {
    "duration": 0,
    "start_time": "2022-11-08T21:21:47.266Z"
   },
   {
    "duration": 0,
    "start_time": "2022-11-08T21:21:47.267Z"
   },
   {
    "duration": 0,
    "start_time": "2022-11-08T21:21:47.268Z"
   },
   {
    "duration": 0,
    "start_time": "2022-11-08T21:21:47.270Z"
   },
   {
    "duration": 0,
    "start_time": "2022-11-08T21:21:47.272Z"
   },
   {
    "duration": 0,
    "start_time": "2022-11-08T21:21:47.273Z"
   },
   {
    "duration": 0,
    "start_time": "2022-11-08T21:21:47.275Z"
   },
   {
    "duration": 0,
    "start_time": "2022-11-08T21:21:47.276Z"
   },
   {
    "duration": 0,
    "start_time": "2022-11-08T21:21:47.277Z"
   },
   {
    "duration": 0,
    "start_time": "2022-11-08T21:21:47.278Z"
   },
   {
    "duration": 0,
    "start_time": "2022-11-08T21:21:47.278Z"
   },
   {
    "duration": 0,
    "start_time": "2022-11-08T21:21:47.279Z"
   },
   {
    "duration": 1522,
    "start_time": "2022-11-08T21:22:12.623Z"
   },
   {
    "duration": 4,
    "start_time": "2022-11-08T21:22:14.147Z"
   },
   {
    "duration": 3,
    "start_time": "2022-11-08T21:22:14.155Z"
   },
   {
    "duration": 6,
    "start_time": "2022-11-08T21:22:14.160Z"
   },
   {
    "duration": 8,
    "start_time": "2022-11-08T21:22:14.168Z"
   },
   {
    "duration": 786,
    "start_time": "2022-11-08T21:22:14.178Z"
   },
   {
    "duration": 1595,
    "start_time": "2022-11-08T21:22:14.965Z"
   },
   {
    "duration": 3,
    "start_time": "2022-11-08T21:22:16.562Z"
   },
   {
    "duration": 654,
    "start_time": "2022-11-08T21:22:16.568Z"
   },
   {
    "duration": 267,
    "start_time": "2022-11-08T21:22:17.234Z"
   },
   {
    "duration": 823,
    "start_time": "2022-11-08T21:22:17.503Z"
   },
   {
    "duration": 22,
    "start_time": "2022-11-08T21:22:18.328Z"
   },
   {
    "duration": 65,
    "start_time": "2022-11-08T21:22:18.352Z"
   },
   {
    "duration": 744,
    "start_time": "2022-11-08T21:22:18.419Z"
   },
   {
    "duration": 3,
    "start_time": "2022-11-08T21:22:19.165Z"
   },
   {
    "duration": 25,
    "start_time": "2022-11-08T21:22:19.169Z"
   },
   {
    "duration": 672,
    "start_time": "2022-11-08T21:22:19.195Z"
   },
   {
    "duration": 476,
    "start_time": "2022-11-08T21:22:19.869Z"
   },
   {
    "duration": 265,
    "start_time": "2022-11-08T21:22:20.347Z"
   },
   {
    "duration": 22,
    "start_time": "2022-11-08T21:22:20.614Z"
   },
   {
    "duration": 711,
    "start_time": "2022-11-08T21:22:20.638Z"
   },
   {
    "duration": 84,
    "start_time": "2022-11-08T21:22:21.351Z"
   },
   {
    "duration": 13,
    "start_time": "2022-11-08T21:22:21.436Z"
   },
   {
    "duration": 109,
    "start_time": "2022-11-08T21:22:21.450Z"
   },
   {
    "duration": 19,
    "start_time": "2022-11-08T21:22:21.561Z"
   },
   {
    "duration": 819,
    "start_time": "2022-11-08T21:22:21.581Z"
   },
   {
    "duration": 86,
    "start_time": "2022-11-08T21:22:22.404Z"
   },
   {
    "duration": 5,
    "start_time": "2022-11-08T21:22:22.492Z"
   },
   {
    "duration": 9,
    "start_time": "2022-11-08T21:22:22.498Z"
   },
   {
    "duration": 794,
    "start_time": "2022-11-08T21:22:22.509Z"
   },
   {
    "duration": 439,
    "start_time": "2022-11-08T21:22:23.304Z"
   },
   {
    "duration": 75,
    "start_time": "2022-11-08T21:22:23.745Z"
   },
   {
    "duration": 63,
    "start_time": "2022-11-08T21:22:23.822Z"
   },
   {
    "duration": 75,
    "start_time": "2022-11-08T21:22:23.887Z"
   },
   {
    "duration": 24,
    "start_time": "2022-11-08T21:22:23.963Z"
   },
   {
    "duration": 51,
    "start_time": "2022-11-08T21:22:23.989Z"
   },
   {
    "duration": 5,
    "start_time": "2022-11-08T21:22:24.042Z"
   },
   {
    "duration": 131732,
    "start_time": "2022-11-08T21:22:24.049Z"
   },
   {
    "duration": 0,
    "start_time": "2022-11-08T21:24:35.783Z"
   },
   {
    "duration": 0,
    "start_time": "2022-11-08T21:24:35.784Z"
   },
   {
    "duration": 0,
    "start_time": "2022-11-08T21:24:35.785Z"
   },
   {
    "duration": 0,
    "start_time": "2022-11-08T21:24:35.786Z"
   },
   {
    "duration": 0,
    "start_time": "2022-11-08T21:24:35.788Z"
   },
   {
    "duration": 0,
    "start_time": "2022-11-08T21:24:35.789Z"
   },
   {
    "duration": 0,
    "start_time": "2022-11-08T21:24:35.790Z"
   },
   {
    "duration": 0,
    "start_time": "2022-11-08T21:24:35.790Z"
   },
   {
    "duration": 0,
    "start_time": "2022-11-08T21:24:35.791Z"
   },
   {
    "duration": 0,
    "start_time": "2022-11-08T21:24:35.791Z"
   },
   {
    "duration": 0,
    "start_time": "2022-11-08T21:24:35.792Z"
   },
   {
    "duration": 0,
    "start_time": "2022-11-08T21:24:35.793Z"
   },
   {
    "duration": 10,
    "start_time": "2022-11-08T21:24:42.090Z"
   },
   {
    "duration": 1389,
    "start_time": "2022-11-08T21:24:49.801Z"
   },
   {
    "duration": 3,
    "start_time": "2022-11-08T21:24:51.191Z"
   },
   {
    "duration": 6,
    "start_time": "2022-11-08T21:24:51.196Z"
   },
   {
    "duration": 7,
    "start_time": "2022-11-08T21:24:51.203Z"
   },
   {
    "duration": 9,
    "start_time": "2022-11-08T21:24:51.212Z"
   },
   {
    "duration": 765,
    "start_time": "2022-11-08T21:24:51.235Z"
   },
   {
    "duration": 1702,
    "start_time": "2022-11-08T21:24:52.002Z"
   },
   {
    "duration": 3,
    "start_time": "2022-11-08T21:24:53.706Z"
   },
   {
    "duration": 659,
    "start_time": "2022-11-08T21:24:53.710Z"
   },
   {
    "duration": 280,
    "start_time": "2022-11-08T21:24:54.372Z"
   },
   {
    "duration": 1517,
    "start_time": "2022-11-08T21:24:54.654Z"
   },
   {
    "duration": 66,
    "start_time": "2022-11-08T21:24:56.173Z"
   },
   {
    "duration": 119,
    "start_time": "2022-11-08T21:24:56.241Z"
   },
   {
    "duration": 795,
    "start_time": "2022-11-08T21:24:56.362Z"
   },
   {
    "duration": 3,
    "start_time": "2022-11-08T21:24:57.159Z"
   },
   {
    "duration": 26,
    "start_time": "2022-11-08T21:24:57.164Z"
   },
   {
    "duration": 706,
    "start_time": "2022-11-08T21:24:57.193Z"
   },
   {
    "duration": 552,
    "start_time": "2022-11-08T21:24:57.902Z"
   },
   {
    "duration": 510,
    "start_time": "2022-11-08T21:24:58.455Z"
   },
   {
    "duration": 8,
    "start_time": "2022-11-08T21:24:58.967Z"
   },
   {
    "duration": 1263,
    "start_time": "2022-11-08T21:24:58.977Z"
   },
   {
    "duration": 69,
    "start_time": "2022-11-08T21:25:00.242Z"
   },
   {
    "duration": 30,
    "start_time": "2022-11-08T21:25:00.313Z"
   },
   {
    "duration": 108,
    "start_time": "2022-11-08T21:25:00.345Z"
   },
   {
    "duration": 19,
    "start_time": "2022-11-08T21:25:00.455Z"
   },
   {
    "duration": 916,
    "start_time": "2022-11-08T21:25:00.475Z"
   },
   {
    "duration": 93,
    "start_time": "2022-11-08T21:25:01.393Z"
   },
   {
    "duration": 4,
    "start_time": "2022-11-08T21:25:01.490Z"
   },
   {
    "duration": 9,
    "start_time": "2022-11-08T21:25:01.496Z"
   },
   {
    "duration": 647,
    "start_time": "2022-11-08T21:25:01.507Z"
   },
   {
    "duration": 436,
    "start_time": "2022-11-08T21:25:02.155Z"
   },
   {
    "duration": 202,
    "start_time": "2022-11-08T21:25:02.593Z"
   },
   {
    "duration": 72,
    "start_time": "2022-11-08T21:25:02.797Z"
   },
   {
    "duration": 92,
    "start_time": "2022-11-08T21:25:02.871Z"
   },
   {
    "duration": 25,
    "start_time": "2022-11-08T21:25:02.965Z"
   },
   {
    "duration": 58,
    "start_time": "2022-11-08T21:25:02.992Z"
   },
   {
    "duration": 5,
    "start_time": "2022-11-08T21:25:03.052Z"
   },
   {
    "duration": 1375,
    "start_time": "2022-11-08T21:28:11.712Z"
   },
   {
    "duration": 2,
    "start_time": "2022-11-08T21:28:13.090Z"
   },
   {
    "duration": 9,
    "start_time": "2022-11-08T21:28:13.094Z"
   },
   {
    "duration": 10,
    "start_time": "2022-11-08T21:28:13.105Z"
   },
   {
    "duration": 18,
    "start_time": "2022-11-08T21:28:13.117Z"
   },
   {
    "duration": 1009,
    "start_time": "2022-11-08T21:28:13.137Z"
   },
   {
    "duration": 2193,
    "start_time": "2022-11-08T21:28:14.148Z"
   },
   {
    "duration": 4,
    "start_time": "2022-11-08T21:28:16.342Z"
   },
   {
    "duration": 674,
    "start_time": "2022-11-08T21:28:16.348Z"
   },
   {
    "duration": 290,
    "start_time": "2022-11-08T21:28:17.024Z"
   },
   {
    "duration": 825,
    "start_time": "2022-11-08T21:28:17.316Z"
   },
   {
    "duration": 17,
    "start_time": "2022-11-08T21:28:18.142Z"
   },
   {
    "duration": 89,
    "start_time": "2022-11-08T21:28:18.160Z"
   },
   {
    "duration": 756,
    "start_time": "2022-11-08T21:28:18.251Z"
   },
   {
    "duration": 2,
    "start_time": "2022-11-08T21:28:19.009Z"
   },
   {
    "duration": 36,
    "start_time": "2022-11-08T21:28:19.012Z"
   },
   {
    "duration": 675,
    "start_time": "2022-11-08T21:28:19.050Z"
   },
   {
    "duration": 438,
    "start_time": "2022-11-08T21:28:19.727Z"
   },
   {
    "duration": 307,
    "start_time": "2022-11-08T21:28:20.167Z"
   },
   {
    "duration": 9,
    "start_time": "2022-11-08T21:28:20.476Z"
   },
   {
    "duration": 738,
    "start_time": "2022-11-08T21:28:20.487Z"
   },
   {
    "duration": 72,
    "start_time": "2022-11-08T21:28:21.227Z"
   },
   {
    "duration": 12,
    "start_time": "2022-11-08T21:28:21.301Z"
   },
   {
    "duration": 109,
    "start_time": "2022-11-08T21:28:21.315Z"
   },
   {
    "duration": 19,
    "start_time": "2022-11-08T21:28:21.434Z"
   },
   {
    "duration": 793,
    "start_time": "2022-11-08T21:28:21.454Z"
   },
   {
    "duration": 87,
    "start_time": "2022-11-08T21:28:22.248Z"
   },
   {
    "duration": 4,
    "start_time": "2022-11-08T21:28:22.338Z"
   },
   {
    "duration": 9,
    "start_time": "2022-11-08T21:28:22.343Z"
   },
   {
    "duration": 613,
    "start_time": "2022-11-08T21:28:22.353Z"
   },
   {
    "duration": 440,
    "start_time": "2022-11-08T21:28:22.968Z"
   },
   {
    "duration": 175,
    "start_time": "2022-11-08T21:28:23.410Z"
   },
   {
    "duration": 72,
    "start_time": "2022-11-08T21:28:23.587Z"
   },
   {
    "duration": 51,
    "start_time": "2022-11-08T21:28:23.661Z"
   },
   {
    "duration": 25,
    "start_time": "2022-11-08T21:28:23.735Z"
   },
   {
    "duration": 24,
    "start_time": "2022-11-08T21:28:23.762Z"
   },
   {
    "duration": 5,
    "start_time": "2022-11-08T21:28:23.787Z"
   },
   {
    "duration": 192106,
    "start_time": "2022-11-08T21:28:23.834Z"
   },
   {
    "duration": 95,
    "start_time": "2022-11-08T21:31:35.942Z"
   },
   {
    "duration": 11,
    "start_time": "2022-11-08T21:31:36.039Z"
   },
   {
    "duration": 14028,
    "start_time": "2022-11-08T21:31:36.051Z"
   },
   {
    "duration": 7,
    "start_time": "2022-11-08T21:31:50.081Z"
   },
   {
    "duration": 47,
    "start_time": "2022-11-08T21:31:50.089Z"
   },
   {
    "duration": 21250,
    "start_time": "2022-11-08T21:31:50.138Z"
   },
   {
    "duration": 9,
    "start_time": "2022-11-08T21:32:11.390Z"
   },
   {
    "duration": 8,
    "start_time": "2022-11-08T21:32:11.400Z"
   },
   {
    "duration": 14,
    "start_time": "2022-11-08T21:32:11.410Z"
   },
   {
    "duration": 6,
    "start_time": "2022-11-08T21:32:11.426Z"
   },
   {
    "duration": 5,
    "start_time": "2022-11-08T21:32:11.433Z"
   },
   {
    "duration": 1318,
    "start_time": "2022-11-08T21:32:11.439Z"
   },
   {
    "duration": 1311,
    "start_time": "2022-11-08T21:36:26.182Z"
   },
   {
    "duration": 3,
    "start_time": "2022-11-08T21:36:27.495Z"
   },
   {
    "duration": 6,
    "start_time": "2022-11-08T21:36:27.500Z"
   },
   {
    "duration": 7,
    "start_time": "2022-11-08T21:36:27.508Z"
   },
   {
    "duration": 21,
    "start_time": "2022-11-08T21:36:27.517Z"
   },
   {
    "duration": 768,
    "start_time": "2022-11-08T21:36:27.540Z"
   },
   {
    "duration": 1673,
    "start_time": "2022-11-08T21:36:28.309Z"
   },
   {
    "duration": 4,
    "start_time": "2022-11-08T21:36:29.984Z"
   },
   {
    "duration": 729,
    "start_time": "2022-11-08T21:36:29.990Z"
   },
   {
    "duration": 286,
    "start_time": "2022-11-08T21:36:30.721Z"
   },
   {
    "duration": 883,
    "start_time": "2022-11-08T21:36:31.009Z"
   },
   {
    "duration": 18,
    "start_time": "2022-11-08T21:36:31.894Z"
   },
   {
    "duration": 79,
    "start_time": "2022-11-08T21:36:31.913Z"
   },
   {
    "duration": 761,
    "start_time": "2022-11-08T21:36:31.993Z"
   },
   {
    "duration": 2,
    "start_time": "2022-11-08T21:36:32.757Z"
   },
   {
    "duration": 34,
    "start_time": "2022-11-08T21:36:32.761Z"
   },
   {
    "duration": 713,
    "start_time": "2022-11-08T21:36:32.796Z"
   },
   {
    "duration": 455,
    "start_time": "2022-11-08T21:36:33.511Z"
   },
   {
    "duration": 266,
    "start_time": "2022-11-08T21:36:33.968Z"
   },
   {
    "duration": 21,
    "start_time": "2022-11-08T21:36:34.236Z"
   },
   {
    "duration": 760,
    "start_time": "2022-11-08T21:36:34.258Z"
   },
   {
    "duration": 87,
    "start_time": "2022-11-08T21:36:35.019Z"
   },
   {
    "duration": 14,
    "start_time": "2022-11-08T21:36:35.107Z"
   },
   {
    "duration": 104,
    "start_time": "2022-11-08T21:36:35.135Z"
   },
   {
    "duration": 20,
    "start_time": "2022-11-08T21:36:35.241Z"
   },
   {
    "duration": 844,
    "start_time": "2022-11-08T21:36:35.263Z"
   },
   {
    "duration": 86,
    "start_time": "2022-11-08T21:36:36.109Z"
   },
   {
    "duration": 3,
    "start_time": "2022-11-08T21:36:36.199Z"
   },
   {
    "duration": 8,
    "start_time": "2022-11-08T21:36:36.204Z"
   },
   {
    "duration": 593,
    "start_time": "2022-11-08T21:36:36.213Z"
   },
   {
    "duration": 435,
    "start_time": "2022-11-08T21:36:36.808Z"
   },
   {
    "duration": 179,
    "start_time": "2022-11-08T21:36:37.245Z"
   },
   {
    "duration": 64,
    "start_time": "2022-11-08T21:36:37.426Z"
   },
   {
    "duration": 77,
    "start_time": "2022-11-08T21:36:37.491Z"
   },
   {
    "duration": 25,
    "start_time": "2022-11-08T21:36:37.570Z"
   },
   {
    "duration": 48,
    "start_time": "2022-11-08T21:36:37.597Z"
   },
   {
    "duration": 5,
    "start_time": "2022-11-08T21:36:37.646Z"
   },
   {
    "duration": 59939,
    "start_time": "2022-11-08T21:36:37.653Z"
   },
   {
    "duration": 0,
    "start_time": "2022-11-08T21:37:37.594Z"
   },
   {
    "duration": 0,
    "start_time": "2022-11-08T21:37:37.595Z"
   },
   {
    "duration": 0,
    "start_time": "2022-11-08T21:37:37.596Z"
   },
   {
    "duration": 0,
    "start_time": "2022-11-08T21:37:37.597Z"
   },
   {
    "duration": 0,
    "start_time": "2022-11-08T21:37:37.597Z"
   },
   {
    "duration": 0,
    "start_time": "2022-11-08T21:37:37.598Z"
   },
   {
    "duration": 0,
    "start_time": "2022-11-08T21:37:37.599Z"
   },
   {
    "duration": 0,
    "start_time": "2022-11-08T21:37:37.600Z"
   },
   {
    "duration": 0,
    "start_time": "2022-11-08T21:37:37.601Z"
   },
   {
    "duration": 0,
    "start_time": "2022-11-08T21:37:37.602Z"
   },
   {
    "duration": 0,
    "start_time": "2022-11-08T21:37:37.602Z"
   },
   {
    "duration": 1346,
    "start_time": "2022-11-08T21:37:44.153Z"
   },
   {
    "duration": 3,
    "start_time": "2022-11-08T21:37:45.501Z"
   },
   {
    "duration": 6,
    "start_time": "2022-11-08T21:37:45.505Z"
   },
   {
    "duration": 7,
    "start_time": "2022-11-08T21:37:45.513Z"
   },
   {
    "duration": 15,
    "start_time": "2022-11-08T21:37:45.521Z"
   },
   {
    "duration": 756,
    "start_time": "2022-11-08T21:37:45.537Z"
   },
   {
    "duration": 1635,
    "start_time": "2022-11-08T21:37:46.294Z"
   },
   {
    "duration": 3,
    "start_time": "2022-11-08T21:37:47.935Z"
   },
   {
    "duration": 661,
    "start_time": "2022-11-08T21:37:47.939Z"
   },
   {
    "duration": 285,
    "start_time": "2022-11-08T21:37:48.602Z"
   },
   {
    "duration": 823,
    "start_time": "2022-11-08T21:37:48.890Z"
   },
   {
    "duration": 24,
    "start_time": "2022-11-08T21:37:49.715Z"
   },
   {
    "duration": 60,
    "start_time": "2022-11-08T21:37:49.741Z"
   },
   {
    "duration": 806,
    "start_time": "2022-11-08T21:37:49.803Z"
   },
   {
    "duration": 3,
    "start_time": "2022-11-08T21:37:50.610Z"
   },
   {
    "duration": 38,
    "start_time": "2022-11-08T21:37:50.614Z"
   },
   {
    "duration": 670,
    "start_time": "2022-11-08T21:37:50.654Z"
   },
   {
    "duration": 444,
    "start_time": "2022-11-08T21:37:51.326Z"
   },
   {
    "duration": 259,
    "start_time": "2022-11-08T21:37:51.772Z"
   },
   {
    "duration": 20,
    "start_time": "2022-11-08T21:37:52.032Z"
   },
   {
    "duration": 733,
    "start_time": "2022-11-08T21:37:52.053Z"
   },
   {
    "duration": 88,
    "start_time": "2022-11-08T21:37:52.788Z"
   },
   {
    "duration": 16,
    "start_time": "2022-11-08T21:37:52.878Z"
   },
   {
    "duration": 113,
    "start_time": "2022-11-08T21:37:52.895Z"
   },
   {
    "duration": 31,
    "start_time": "2022-11-08T21:37:53.010Z"
   },
   {
    "duration": 855,
    "start_time": "2022-11-08T21:37:53.042Z"
   },
   {
    "duration": 83,
    "start_time": "2022-11-08T21:37:53.899Z"
   },
   {
    "duration": 4,
    "start_time": "2022-11-08T21:37:53.985Z"
   },
   {
    "duration": 16,
    "start_time": "2022-11-08T21:37:53.991Z"
   },
   {
    "duration": 561,
    "start_time": "2022-11-08T21:37:54.008Z"
   },
   {
    "duration": 414,
    "start_time": "2022-11-08T21:37:54.570Z"
   },
   {
    "duration": 184,
    "start_time": "2022-11-08T21:37:54.986Z"
   },
   {
    "duration": 74,
    "start_time": "2022-11-08T21:37:55.172Z"
   },
   {
    "duration": 56,
    "start_time": "2022-11-08T21:37:55.247Z"
   },
   {
    "duration": 50,
    "start_time": "2022-11-08T21:37:55.305Z"
   },
   {
    "duration": 24,
    "start_time": "2022-11-08T21:37:55.356Z"
   },
   {
    "duration": 5,
    "start_time": "2022-11-08T21:37:55.381Z"
   },
   {
    "duration": 180949,
    "start_time": "2022-11-08T21:37:55.387Z"
   },
   {
    "duration": 97,
    "start_time": "2022-11-08T21:40:56.338Z"
   },
   {
    "duration": 7,
    "start_time": "2022-11-08T21:40:56.437Z"
   },
   {
    "duration": 10533,
    "start_time": "2022-11-08T21:40:56.445Z"
   },
   {
    "duration": 9,
    "start_time": "2022-11-08T21:41:06.980Z"
   },
   {
    "duration": 7,
    "start_time": "2022-11-08T21:41:06.990Z"
   },
   {
    "duration": 16528,
    "start_time": "2022-11-08T21:41:06.999Z"
   },
   {
    "duration": 7,
    "start_time": "2022-11-08T21:41:23.528Z"
   },
   {
    "duration": 14,
    "start_time": "2022-11-08T21:41:23.536Z"
   },
   {
    "duration": 5,
    "start_time": "2022-11-08T21:41:23.551Z"
   },
   {
    "duration": 7,
    "start_time": "2022-11-08T21:41:23.557Z"
   },
   {
    "duration": 1470,
    "start_time": "2022-11-08T21:41:23.565Z"
   },
   {
    "duration": 1546,
    "start_time": "2022-11-08T21:51:14.508Z"
   },
   {
    "duration": 3,
    "start_time": "2022-11-08T21:51:16.056Z"
   },
   {
    "duration": 8,
    "start_time": "2022-11-08T21:51:16.061Z"
   },
   {
    "duration": 8,
    "start_time": "2022-11-08T21:51:16.071Z"
   },
   {
    "duration": 9,
    "start_time": "2022-11-08T21:51:16.081Z"
   },
   {
    "duration": 792,
    "start_time": "2022-11-08T21:51:16.091Z"
   },
   {
    "duration": 1642,
    "start_time": "2022-11-08T21:51:16.885Z"
   },
   {
    "duration": 8,
    "start_time": "2022-11-08T21:51:18.529Z"
   },
   {
    "duration": 1326,
    "start_time": "2022-11-08T21:51:18.539Z"
   },
   {
    "duration": 585,
    "start_time": "2022-11-08T21:51:19.867Z"
   },
   {
    "duration": 1680,
    "start_time": "2022-11-08T21:51:20.454Z"
   },
   {
    "duration": 18,
    "start_time": "2022-11-08T21:51:22.136Z"
   },
   {
    "duration": 118,
    "start_time": "2022-11-08T21:51:22.155Z"
   },
   {
    "duration": 1579,
    "start_time": "2022-11-08T21:51:22.275Z"
   },
   {
    "duration": 2,
    "start_time": "2022-11-08T21:51:23.856Z"
   },
   {
    "duration": 28,
    "start_time": "2022-11-08T21:51:23.860Z"
   },
   {
    "duration": 1169,
    "start_time": "2022-11-08T21:51:23.890Z"
   },
   {
    "duration": 893,
    "start_time": "2022-11-08T21:51:25.060Z"
   },
   {
    "duration": 276,
    "start_time": "2022-11-08T21:51:25.955Z"
   },
   {
    "duration": 22,
    "start_time": "2022-11-08T21:51:26.235Z"
   },
   {
    "duration": 810,
    "start_time": "2022-11-08T21:51:26.259Z"
   },
   {
    "duration": 84,
    "start_time": "2022-11-08T21:51:27.070Z"
   },
   {
    "duration": 14,
    "start_time": "2022-11-08T21:51:27.156Z"
   },
   {
    "duration": 113,
    "start_time": "2022-11-08T21:51:27.172Z"
   },
   {
    "duration": 18,
    "start_time": "2022-11-08T21:51:27.286Z"
   },
   {
    "duration": 868,
    "start_time": "2022-11-08T21:51:27.306Z"
   },
   {
    "duration": 93,
    "start_time": "2022-11-08T21:51:28.176Z"
   },
   {
    "duration": 4,
    "start_time": "2022-11-08T21:51:28.272Z"
   },
   {
    "duration": 8,
    "start_time": "2022-11-08T21:51:28.278Z"
   },
   {
    "duration": 651,
    "start_time": "2022-11-08T21:51:28.287Z"
   },
   {
    "duration": 441,
    "start_time": "2022-11-08T21:51:28.939Z"
   },
   {
    "duration": 191,
    "start_time": "2022-11-08T21:51:29.382Z"
   },
   {
    "duration": 77,
    "start_time": "2022-11-08T21:51:29.575Z"
   },
   {
    "duration": 82,
    "start_time": "2022-11-08T21:51:29.653Z"
   },
   {
    "duration": 27,
    "start_time": "2022-11-08T21:51:29.737Z"
   },
   {
    "duration": 24,
    "start_time": "2022-11-08T21:51:29.765Z"
   },
   {
    "duration": 5,
    "start_time": "2022-11-08T21:51:29.790Z"
   },
   {
    "duration": 168742,
    "start_time": "2022-11-08T21:51:29.796Z"
   },
   {
    "duration": 99,
    "start_time": "2022-11-08T21:54:18.540Z"
   },
   {
    "duration": 8,
    "start_time": "2022-11-08T21:54:18.641Z"
   },
   {
    "duration": 10317,
    "start_time": "2022-11-08T21:54:18.650Z"
   },
   {
    "duration": 7,
    "start_time": "2022-11-08T21:54:28.969Z"
   },
   {
    "duration": 7,
    "start_time": "2022-11-08T21:54:28.977Z"
   },
   {
    "duration": 15637,
    "start_time": "2022-11-08T21:54:28.985Z"
   },
   {
    "duration": 7,
    "start_time": "2022-11-08T21:54:44.624Z"
   },
   {
    "duration": 17,
    "start_time": "2022-11-08T21:54:44.632Z"
   },
   {
    "duration": 7,
    "start_time": "2022-11-08T21:54:44.651Z"
   },
   {
    "duration": 9,
    "start_time": "2022-11-08T21:54:44.659Z"
   },
   {
    "duration": 1484,
    "start_time": "2022-11-08T21:54:44.669Z"
   },
   {
    "duration": 1346,
    "start_time": "2022-11-08T21:56:48.023Z"
   },
   {
    "duration": 3,
    "start_time": "2022-11-08T21:56:49.371Z"
   },
   {
    "duration": 7,
    "start_time": "2022-11-08T21:56:49.375Z"
   },
   {
    "duration": 7,
    "start_time": "2022-11-08T21:56:49.384Z"
   },
   {
    "duration": 8,
    "start_time": "2022-11-08T21:56:49.393Z"
   },
   {
    "duration": 778,
    "start_time": "2022-11-08T21:56:49.402Z"
   },
   {
    "duration": 1612,
    "start_time": "2022-11-08T21:56:50.182Z"
   },
   {
    "duration": 3,
    "start_time": "2022-11-08T21:56:51.795Z"
   },
   {
    "duration": 642,
    "start_time": "2022-11-08T21:56:51.800Z"
   },
   {
    "duration": 275,
    "start_time": "2022-11-08T21:56:52.445Z"
   },
   {
    "duration": 809,
    "start_time": "2022-11-08T21:56:52.721Z"
   },
   {
    "duration": 19,
    "start_time": "2022-11-08T21:56:53.532Z"
   },
   {
    "duration": 82,
    "start_time": "2022-11-08T21:56:53.553Z"
   },
   {
    "duration": 727,
    "start_time": "2022-11-08T21:56:53.637Z"
   },
   {
    "duration": 2,
    "start_time": "2022-11-08T21:56:54.366Z"
   },
   {
    "duration": 25,
    "start_time": "2022-11-08T21:56:54.369Z"
   },
   {
    "duration": 676,
    "start_time": "2022-11-08T21:56:54.395Z"
   },
   {
    "duration": 439,
    "start_time": "2022-11-08T21:56:55.072Z"
   },
   {
    "duration": 257,
    "start_time": "2022-11-08T21:56:55.513Z"
   },
   {
    "duration": 22,
    "start_time": "2022-11-08T21:56:55.772Z"
   },
   {
    "duration": 758,
    "start_time": "2022-11-08T21:56:55.796Z"
   },
   {
    "duration": 81,
    "start_time": "2022-11-08T21:56:56.555Z"
   },
   {
    "duration": 12,
    "start_time": "2022-11-08T21:56:56.637Z"
   },
   {
    "duration": 107,
    "start_time": "2022-11-08T21:56:56.651Z"
   },
   {
    "duration": 18,
    "start_time": "2022-11-08T21:56:56.760Z"
   },
   {
    "duration": 838,
    "start_time": "2022-11-08T21:56:56.780Z"
   },
   {
    "duration": 80,
    "start_time": "2022-11-08T21:56:57.620Z"
   },
   {
    "duration": 3,
    "start_time": "2022-11-08T21:56:57.703Z"
   },
   {
    "duration": 8,
    "start_time": "2022-11-08T21:56:57.708Z"
   },
   {
    "duration": 596,
    "start_time": "2022-11-08T21:56:57.717Z"
   },
   {
    "duration": 424,
    "start_time": "2022-11-08T21:56:58.315Z"
   },
   {
    "duration": 173,
    "start_time": "2022-11-08T21:56:58.741Z"
   },
   {
    "duration": 69,
    "start_time": "2022-11-08T21:56:58.915Z"
   },
   {
    "duration": 76,
    "start_time": "2022-11-08T21:56:58.986Z"
   },
   {
    "duration": 24,
    "start_time": "2022-11-08T21:56:59.064Z"
   },
   {
    "duration": 53,
    "start_time": "2022-11-08T21:56:59.089Z"
   },
   {
    "duration": 5,
    "start_time": "2022-11-08T21:56:59.144Z"
   },
   {
    "duration": 93828,
    "start_time": "2022-11-08T21:56:59.151Z"
   },
   {
    "duration": 0,
    "start_time": "2022-11-08T21:58:32.981Z"
   },
   {
    "duration": 0,
    "start_time": "2022-11-08T21:58:32.982Z"
   },
   {
    "duration": 0,
    "start_time": "2022-11-08T21:58:32.983Z"
   },
   {
    "duration": 0,
    "start_time": "2022-11-08T21:58:32.984Z"
   },
   {
    "duration": 0,
    "start_time": "2022-11-08T21:58:32.985Z"
   },
   {
    "duration": 0,
    "start_time": "2022-11-08T21:58:32.986Z"
   },
   {
    "duration": 0,
    "start_time": "2022-11-08T21:58:32.988Z"
   },
   {
    "duration": 0,
    "start_time": "2022-11-08T21:58:32.989Z"
   },
   {
    "duration": 0,
    "start_time": "2022-11-08T21:58:32.990Z"
   },
   {
    "duration": 0,
    "start_time": "2022-11-08T21:58:32.992Z"
   },
   {
    "duration": 0,
    "start_time": "2022-11-08T21:58:32.994Z"
   },
   {
    "duration": 30,
    "start_time": "2022-11-08T22:00:04.171Z"
   },
   {
    "duration": 72,
    "start_time": "2022-11-08T22:00:12.623Z"
   },
   {
    "duration": 31,
    "start_time": "2022-11-08T22:00:16.496Z"
   },
   {
    "duration": 1325,
    "start_time": "2022-11-08T22:00:36.147Z"
   },
   {
    "duration": 3,
    "start_time": "2022-11-08T22:00:37.474Z"
   },
   {
    "duration": 7,
    "start_time": "2022-11-08T22:00:37.478Z"
   },
   {
    "duration": 7,
    "start_time": "2022-11-08T22:00:37.487Z"
   },
   {
    "duration": 10,
    "start_time": "2022-11-08T22:00:37.496Z"
   },
   {
    "duration": 737,
    "start_time": "2022-11-08T22:00:37.507Z"
   },
   {
    "duration": 1608,
    "start_time": "2022-11-08T22:00:38.245Z"
   },
   {
    "duration": 4,
    "start_time": "2022-11-08T22:00:39.854Z"
   },
   {
    "duration": 710,
    "start_time": "2022-11-08T22:00:39.859Z"
   },
   {
    "duration": 575,
    "start_time": "2022-11-08T22:00:40.572Z"
   },
   {
    "duration": 1351,
    "start_time": "2022-11-08T22:00:41.149Z"
   },
   {
    "duration": 17,
    "start_time": "2022-11-08T22:00:42.502Z"
   },
   {
    "duration": 71,
    "start_time": "2022-11-08T22:00:42.520Z"
   },
   {
    "duration": 780,
    "start_time": "2022-11-08T22:00:42.593Z"
   },
   {
    "duration": 3,
    "start_time": "2022-11-08T22:00:43.375Z"
   },
   {
    "duration": 24,
    "start_time": "2022-11-08T22:00:43.379Z"
   },
   {
    "duration": 678,
    "start_time": "2022-11-08T22:00:43.404Z"
   },
   {
    "duration": 430,
    "start_time": "2022-11-08T22:00:44.084Z"
   },
   {
    "duration": 426,
    "start_time": "2022-11-08T22:00:44.516Z"
   },
   {
    "duration": 21,
    "start_time": "2022-11-08T22:00:44.943Z"
   },
   {
    "duration": 1426,
    "start_time": "2022-11-08T22:00:44.965Z"
   },
   {
    "duration": 17,
    "start_time": "2022-11-08T22:00:46.393Z"
   },
   {
    "duration": 31,
    "start_time": "2022-11-08T22:00:46.411Z"
   },
   {
    "duration": 77,
    "start_time": "2022-11-08T22:00:46.443Z"
   },
   {
    "duration": 21,
    "start_time": "2022-11-08T22:00:46.534Z"
   },
   {
    "duration": 832,
    "start_time": "2022-11-08T22:00:46.557Z"
   },
   {
    "duration": 87,
    "start_time": "2022-11-08T22:00:47.390Z"
   },
   {
    "duration": 4,
    "start_time": "2022-11-08T22:00:47.480Z"
   },
   {
    "duration": 8,
    "start_time": "2022-11-08T22:00:47.486Z"
   },
   {
    "duration": 577,
    "start_time": "2022-11-08T22:00:47.495Z"
   },
   {
    "duration": 417,
    "start_time": "2022-11-08T22:00:48.074Z"
   },
   {
    "duration": 176,
    "start_time": "2022-11-08T22:00:48.493Z"
   },
   {
    "duration": 66,
    "start_time": "2022-11-08T22:00:48.671Z"
   },
   {
    "duration": 50,
    "start_time": "2022-11-08T22:00:48.738Z"
   },
   {
    "duration": 51,
    "start_time": "2022-11-08T22:00:48.790Z"
   },
   {
    "duration": 20,
    "start_time": "2022-11-08T22:00:48.842Z"
   },
   {
    "duration": 5,
    "start_time": "2022-11-08T22:00:48.863Z"
   },
   {
    "duration": 176167,
    "start_time": "2022-11-08T22:00:48.869Z"
   },
   {
    "duration": 100,
    "start_time": "2022-11-08T22:03:45.038Z"
   },
   {
    "duration": 14,
    "start_time": "2022-11-08T22:03:45.139Z"
   },
   {
    "duration": 10324,
    "start_time": "2022-11-08T22:03:45.154Z"
   },
   {
    "duration": 6,
    "start_time": "2022-11-08T22:03:55.480Z"
   },
   {
    "duration": 6,
    "start_time": "2022-11-08T22:03:55.488Z"
   },
   {
    "duration": 15438,
    "start_time": "2022-11-08T22:03:55.496Z"
   },
   {
    "duration": 7,
    "start_time": "2022-11-08T22:04:10.936Z"
   },
   {
    "duration": 25,
    "start_time": "2022-11-08T22:04:10.945Z"
   },
   {
    "duration": 8,
    "start_time": "2022-11-08T22:04:10.972Z"
   },
   {
    "duration": 9,
    "start_time": "2022-11-08T22:04:10.982Z"
   },
   {
    "duration": 1258,
    "start_time": "2022-11-08T22:04:10.993Z"
   },
   {
    "duration": 1237,
    "start_time": "2022-11-08T22:04:31.304Z"
   },
   {
    "duration": 1276,
    "start_time": "2022-11-08T22:05:43.584Z"
   },
   {
    "duration": 3,
    "start_time": "2022-11-08T22:05:44.862Z"
   },
   {
    "duration": 5,
    "start_time": "2022-11-08T22:05:44.867Z"
   },
   {
    "duration": 7,
    "start_time": "2022-11-08T22:05:44.874Z"
   },
   {
    "duration": 8,
    "start_time": "2022-11-08T22:05:44.882Z"
   },
   {
    "duration": 779,
    "start_time": "2022-11-08T22:05:44.891Z"
   },
   {
    "duration": 1631,
    "start_time": "2022-11-08T22:05:45.672Z"
   },
   {
    "duration": 4,
    "start_time": "2022-11-08T22:05:47.305Z"
   },
   {
    "duration": 673,
    "start_time": "2022-11-08T22:05:47.311Z"
   },
   {
    "duration": 281,
    "start_time": "2022-11-08T22:05:47.987Z"
   },
   {
    "duration": 829,
    "start_time": "2022-11-08T22:05:48.269Z"
   },
   {
    "duration": 17,
    "start_time": "2022-11-08T22:05:49.100Z"
   },
   {
    "duration": 83,
    "start_time": "2022-11-08T22:05:49.119Z"
   },
   {
    "duration": 774,
    "start_time": "2022-11-08T22:05:49.204Z"
   },
   {
    "duration": 2,
    "start_time": "2022-11-08T22:05:49.980Z"
   },
   {
    "duration": 25,
    "start_time": "2022-11-08T22:05:49.984Z"
   },
   {
    "duration": 746,
    "start_time": "2022-11-08T22:05:50.011Z"
   },
   {
    "duration": 462,
    "start_time": "2022-11-08T22:05:50.759Z"
   },
   {
    "duration": 281,
    "start_time": "2022-11-08T22:05:51.223Z"
   },
   {
    "duration": 29,
    "start_time": "2022-11-08T22:05:51.506Z"
   },
   {
    "duration": 770,
    "start_time": "2022-11-08T22:05:51.536Z"
   },
   {
    "duration": 31,
    "start_time": "2022-11-08T22:05:52.309Z"
   },
   {
    "duration": 13,
    "start_time": "2022-11-08T22:05:52.342Z"
   },
   {
    "duration": 99,
    "start_time": "2022-11-08T22:05:52.356Z"
   },
   {
    "duration": 27,
    "start_time": "2022-11-08T22:05:52.457Z"
   },
   {
    "duration": 868,
    "start_time": "2022-11-08T22:05:52.486Z"
   },
   {
    "duration": 91,
    "start_time": "2022-11-08T22:05:53.355Z"
   },
   {
    "duration": 3,
    "start_time": "2022-11-08T22:05:53.450Z"
   },
   {
    "duration": 8,
    "start_time": "2022-11-08T22:05:53.455Z"
   },
   {
    "duration": 580,
    "start_time": "2022-11-08T22:05:53.465Z"
   },
   {
    "duration": 410,
    "start_time": "2022-11-08T22:05:54.047Z"
   },
   {
    "duration": 181,
    "start_time": "2022-11-08T22:05:54.459Z"
   },
   {
    "duration": 56,
    "start_time": "2022-11-08T22:05:54.642Z"
   },
   {
    "duration": 82,
    "start_time": "2022-11-08T22:05:54.701Z"
   },
   {
    "duration": 52,
    "start_time": "2022-11-08T22:05:54.785Z"
   },
   {
    "duration": 19,
    "start_time": "2022-11-08T22:05:54.839Z"
   },
   {
    "duration": 4,
    "start_time": "2022-11-08T22:05:54.860Z"
   },
   {
    "duration": 164973,
    "start_time": "2022-11-08T22:05:54.865Z"
   },
   {
    "duration": 96,
    "start_time": "2022-11-08T22:08:39.841Z"
   },
   {
    "duration": 7,
    "start_time": "2022-11-08T22:08:39.939Z"
   },
   {
    "duration": 10030,
    "start_time": "2022-11-08T22:08:39.948Z"
   },
   {
    "duration": 60,
    "start_time": "2022-11-08T22:08:49.979Z"
   },
   {
    "duration": 6,
    "start_time": "2022-11-08T22:08:50.040Z"
   },
   {
    "duration": 15179,
    "start_time": "2022-11-08T22:08:50.047Z"
   },
   {
    "duration": 6,
    "start_time": "2022-11-08T22:09:05.227Z"
   },
   {
    "duration": 15,
    "start_time": "2022-11-08T22:09:05.234Z"
   },
   {
    "duration": 4,
    "start_time": "2022-11-08T22:09:05.250Z"
   },
   {
    "duration": 6,
    "start_time": "2022-11-08T22:09:05.255Z"
   },
   {
    "duration": 1288,
    "start_time": "2022-11-08T22:09:05.262Z"
   },
   {
    "duration": 71,
    "start_time": "2022-11-08T22:27:37.050Z"
   },
   {
    "duration": 102,
    "start_time": "2022-11-08T22:27:45.744Z"
   },
   {
    "duration": 3,
    "start_time": "2022-11-08T22:27:52.640Z"
   },
   {
    "duration": 4,
    "start_time": "2022-11-08T22:27:58.183Z"
   },
   {
    "duration": 4,
    "start_time": "2022-11-08T22:28:34.373Z"
   },
   {
    "duration": 4,
    "start_time": "2022-11-08T22:30:03.215Z"
   },
   {
    "duration": 4,
    "start_time": "2022-11-08T22:31:17.294Z"
   },
   {
    "duration": 17,
    "start_time": "2022-11-08T22:31:22.372Z"
   },
   {
    "duration": 15,
    "start_time": "2022-11-08T22:32:04.720Z"
   },
   {
    "duration": 4,
    "start_time": "2022-11-08T22:32:15.159Z"
   },
   {
    "duration": 16,
    "start_time": "2022-11-08T22:32:21.868Z"
   },
   {
    "duration": 3,
    "start_time": "2022-11-08T22:38:39.296Z"
   },
   {
    "duration": 4,
    "start_time": "2022-11-08T22:38:57.434Z"
   },
   {
    "duration": 6,
    "start_time": "2022-11-08T22:40:00.274Z"
   },
   {
    "duration": 4,
    "start_time": "2022-11-08T22:40:21.784Z"
   },
   {
    "duration": 4,
    "start_time": "2022-11-08T22:41:57.579Z"
   },
   {
    "duration": 3,
    "start_time": "2022-11-08T22:42:02.369Z"
   },
   {
    "duration": 4,
    "start_time": "2022-11-08T22:42:12.226Z"
   },
   {
    "duration": 4,
    "start_time": "2022-11-08T22:43:04.468Z"
   },
   {
    "duration": 4,
    "start_time": "2022-11-08T22:45:33.436Z"
   },
   {
    "duration": 5,
    "start_time": "2022-11-08T22:45:42.640Z"
   },
   {
    "duration": 4,
    "start_time": "2022-11-08T22:45:47.512Z"
   },
   {
    "duration": 4,
    "start_time": "2022-11-08T22:48:06.357Z"
   },
   {
    "duration": 6,
    "start_time": "2022-11-08T22:48:06.364Z"
   },
   {
    "duration": 12,
    "start_time": "2022-11-08T22:48:06.372Z"
   },
   {
    "duration": 11,
    "start_time": "2022-11-08T22:48:06.386Z"
   },
   {
    "duration": 10,
    "start_time": "2022-11-08T22:48:06.400Z"
   },
   {
    "duration": 674,
    "start_time": "2022-11-08T22:48:06.411Z"
   },
   {
    "duration": 1441,
    "start_time": "2022-11-08T22:48:07.087Z"
   },
   {
    "duration": 12,
    "start_time": "2022-11-08T22:48:08.535Z"
   },
   {
    "duration": 5,
    "start_time": "2022-11-08T22:48:20.910Z"
   },
   {
    "duration": 4,
    "start_time": "2022-11-08T22:49:03.553Z"
   },
   {
    "duration": 6,
    "start_time": "2022-11-08T22:49:03.559Z"
   },
   {
    "duration": 5,
    "start_time": "2022-11-08T22:49:03.567Z"
   },
   {
    "duration": 9,
    "start_time": "2022-11-08T22:49:03.574Z"
   },
   {
    "duration": 8,
    "start_time": "2022-11-08T22:49:03.585Z"
   },
   {
    "duration": 691,
    "start_time": "2022-11-08T22:49:03.594Z"
   },
   {
    "duration": 1556,
    "start_time": "2022-11-08T22:49:04.287Z"
   },
   {
    "duration": 4,
    "start_time": "2022-11-08T22:49:05.844Z"
   },
   {
    "duration": 1353,
    "start_time": "2022-11-08T22:49:13.718Z"
   },
   {
    "duration": 3,
    "start_time": "2022-11-08T22:49:15.073Z"
   },
   {
    "duration": 6,
    "start_time": "2022-11-08T22:49:15.079Z"
   },
   {
    "duration": 9,
    "start_time": "2022-11-08T22:49:15.086Z"
   },
   {
    "duration": 8,
    "start_time": "2022-11-08T22:49:15.097Z"
   },
   {
    "duration": 762,
    "start_time": "2022-11-08T22:49:15.106Z"
   },
   {
    "duration": 1583,
    "start_time": "2022-11-08T22:49:15.869Z"
   },
   {
    "duration": 4,
    "start_time": "2022-11-08T22:49:17.454Z"
   },
   {
    "duration": 659,
    "start_time": "2022-11-08T22:49:17.460Z"
   },
   {
    "duration": 275,
    "start_time": "2022-11-08T22:49:18.121Z"
   },
   {
    "duration": 812,
    "start_time": "2022-11-08T22:49:18.398Z"
   },
   {
    "duration": 26,
    "start_time": "2022-11-08T22:49:19.211Z"
   },
   {
    "duration": 63,
    "start_time": "2022-11-08T22:49:19.239Z"
   },
   {
    "duration": 759,
    "start_time": "2022-11-08T22:49:19.304Z"
   },
   {
    "duration": 2,
    "start_time": "2022-11-08T22:49:20.065Z"
   },
   {
    "duration": 25,
    "start_time": "2022-11-08T22:49:20.069Z"
   },
   {
    "duration": 689,
    "start_time": "2022-11-08T22:49:20.095Z"
   },
   {
    "duration": 451,
    "start_time": "2022-11-08T22:49:20.786Z"
   },
   {
    "duration": 261,
    "start_time": "2022-11-08T22:49:21.238Z"
   },
   {
    "duration": 20,
    "start_time": "2022-11-08T22:49:21.501Z"
   },
   {
    "duration": 724,
    "start_time": "2022-11-08T22:49:21.522Z"
   },
   {
    "duration": 15,
    "start_time": "2022-11-08T22:49:22.248Z"
   },
   {
    "duration": 11,
    "start_time": "2022-11-08T22:49:22.265Z"
   },
   {
    "duration": 112,
    "start_time": "2022-11-08T22:49:22.278Z"
   },
   {
    "duration": 17,
    "start_time": "2022-11-08T22:49:22.392Z"
   },
   {
    "duration": 841,
    "start_time": "2022-11-08T22:49:22.411Z"
   },
   {
    "duration": 80,
    "start_time": "2022-11-08T22:49:23.255Z"
   },
   {
    "duration": 4,
    "start_time": "2022-11-08T22:49:23.336Z"
   },
   {
    "duration": 8,
    "start_time": "2022-11-08T22:49:23.341Z"
   },
   {
    "duration": 665,
    "start_time": "2022-11-08T22:49:23.350Z"
   },
   {
    "duration": 413,
    "start_time": "2022-11-08T22:49:24.017Z"
   },
   {
    "duration": 85,
    "start_time": "2022-11-08T22:49:24.436Z"
   },
   {
    "duration": 63,
    "start_time": "2022-11-08T22:49:24.522Z"
   },
   {
    "duration": 79,
    "start_time": "2022-11-08T22:49:24.587Z"
   },
   {
    "duration": 21,
    "start_time": "2022-11-08T22:49:24.667Z"
   },
   {
    "duration": 50,
    "start_time": "2022-11-08T22:49:24.690Z"
   },
   {
    "duration": 4,
    "start_time": "2022-11-08T22:49:24.742Z"
   },
   {
    "duration": 1302,
    "start_time": "2022-11-08T22:51:32.469Z"
   },
   {
    "duration": 2,
    "start_time": "2022-11-08T22:51:33.773Z"
   },
   {
    "duration": 6,
    "start_time": "2022-11-08T22:51:33.777Z"
   },
   {
    "duration": 9,
    "start_time": "2022-11-08T22:51:33.785Z"
   },
   {
    "duration": 7,
    "start_time": "2022-11-08T22:51:33.795Z"
   },
   {
    "duration": 757,
    "start_time": "2022-11-08T22:51:33.804Z"
   },
   {
    "duration": 1605,
    "start_time": "2022-11-08T22:51:34.563Z"
   },
   {
    "duration": 3,
    "start_time": "2022-11-08T22:51:36.169Z"
   },
   {
    "duration": 9,
    "start_time": "2022-11-08T22:51:36.174Z"
   },
   {
    "duration": 669,
    "start_time": "2022-11-08T22:51:36.185Z"
   },
   {
    "duration": 311,
    "start_time": "2022-11-08T22:51:36.856Z"
   },
   {
    "duration": 821,
    "start_time": "2022-11-08T22:51:37.169Z"
   },
   {
    "duration": 17,
    "start_time": "2022-11-08T22:51:37.991Z"
   },
   {
    "duration": 74,
    "start_time": "2022-11-08T22:51:38.009Z"
   },
   {
    "duration": 732,
    "start_time": "2022-11-08T22:51:38.085Z"
   },
   {
    "duration": 2,
    "start_time": "2022-11-08T22:51:38.819Z"
   },
   {
    "duration": 33,
    "start_time": "2022-11-08T22:51:38.822Z"
   },
   {
    "duration": 669,
    "start_time": "2022-11-08T22:51:38.857Z"
   },
   {
    "duration": 445,
    "start_time": "2022-11-08T22:51:39.528Z"
   },
   {
    "duration": 268,
    "start_time": "2022-11-08T22:51:39.975Z"
   },
   {
    "duration": 26,
    "start_time": "2022-11-08T22:51:40.245Z"
   },
   {
    "duration": 764,
    "start_time": "2022-11-08T22:51:40.273Z"
   },
   {
    "duration": 17,
    "start_time": "2022-11-08T22:51:41.039Z"
   },
   {
    "duration": 13,
    "start_time": "2022-11-08T22:51:41.057Z"
   },
   {
    "duration": 109,
    "start_time": "2022-11-08T22:51:41.071Z"
   },
   {
    "duration": 21,
    "start_time": "2022-11-08T22:51:41.182Z"
   },
   {
    "duration": 808,
    "start_time": "2022-11-08T22:51:41.205Z"
   },
   {
    "duration": 87,
    "start_time": "2022-11-08T22:51:42.016Z"
   },
   {
    "duration": 3,
    "start_time": "2022-11-08T22:51:42.105Z"
   },
   {
    "duration": 6,
    "start_time": "2022-11-08T22:51:42.110Z"
   },
   {
    "duration": 667,
    "start_time": "2022-11-08T22:51:42.135Z"
   },
   {
    "duration": 432,
    "start_time": "2022-11-08T22:51:42.804Z"
   },
   {
    "duration": 69,
    "start_time": "2022-11-08T22:51:43.238Z"
   },
   {
    "duration": 63,
    "start_time": "2022-11-08T22:51:43.308Z"
   },
   {
    "duration": 72,
    "start_time": "2022-11-08T22:51:43.373Z"
   },
   {
    "duration": 22,
    "start_time": "2022-11-08T22:51:43.446Z"
   },
   {
    "duration": 19,
    "start_time": "2022-11-08T22:51:43.470Z"
   },
   {
    "duration": 4,
    "start_time": "2022-11-08T22:51:43.490Z"
   },
   {
    "duration": 1316,
    "start_time": "2022-11-08T22:52:23.951Z"
   },
   {
    "duration": 3,
    "start_time": "2022-11-08T22:52:25.269Z"
   },
   {
    "duration": 8,
    "start_time": "2022-11-08T22:52:25.273Z"
   },
   {
    "duration": 12,
    "start_time": "2022-11-08T22:52:25.283Z"
   },
   {
    "duration": 15,
    "start_time": "2022-11-08T22:52:25.297Z"
   },
   {
    "duration": 764,
    "start_time": "2022-11-08T22:52:25.313Z"
   },
   {
    "duration": 2446,
    "start_time": "2022-11-08T22:52:26.079Z"
   },
   {
    "duration": 7,
    "start_time": "2022-11-08T22:52:28.527Z"
   },
   {
    "duration": 3,
    "start_time": "2022-11-08T22:52:28.536Z"
   },
   {
    "duration": 655,
    "start_time": "2022-11-08T22:52:28.541Z"
   },
   {
    "duration": 270,
    "start_time": "2022-11-08T22:52:29.197Z"
   },
   {
    "duration": 831,
    "start_time": "2022-11-08T22:52:29.469Z"
   },
   {
    "duration": 17,
    "start_time": "2022-11-08T22:52:30.302Z"
   },
   {
    "duration": 72,
    "start_time": "2022-11-08T22:52:30.321Z"
   },
   {
    "duration": 773,
    "start_time": "2022-11-08T22:52:30.394Z"
   },
   {
    "duration": 2,
    "start_time": "2022-11-08T22:52:31.169Z"
   },
   {
    "duration": 26,
    "start_time": "2022-11-08T22:52:31.173Z"
   },
   {
    "duration": 704,
    "start_time": "2022-11-08T22:52:31.201Z"
   },
   {
    "duration": 440,
    "start_time": "2022-11-08T22:52:31.907Z"
   },
   {
    "duration": 260,
    "start_time": "2022-11-08T22:52:32.349Z"
   },
   {
    "duration": 30,
    "start_time": "2022-11-08T22:52:32.610Z"
   },
   {
    "duration": 769,
    "start_time": "2022-11-08T22:52:32.642Z"
   },
   {
    "duration": 25,
    "start_time": "2022-11-08T22:52:33.413Z"
   },
   {
    "duration": 12,
    "start_time": "2022-11-08T22:52:33.439Z"
   },
   {
    "duration": 103,
    "start_time": "2022-11-08T22:52:33.452Z"
   },
   {
    "duration": 18,
    "start_time": "2022-11-08T22:52:33.557Z"
   },
   {
    "duration": 816,
    "start_time": "2022-11-08T22:52:33.577Z"
   },
   {
    "duration": 84,
    "start_time": "2022-11-08T22:52:34.396Z"
   },
   {
    "duration": 3,
    "start_time": "2022-11-08T22:52:34.482Z"
   },
   {
    "duration": 6,
    "start_time": "2022-11-08T22:52:34.487Z"
   },
   {
    "duration": 724,
    "start_time": "2022-11-08T22:52:34.494Z"
   },
   {
    "duration": 425,
    "start_time": "2022-11-08T22:52:35.220Z"
   },
   {
    "duration": 92,
    "start_time": "2022-11-08T22:52:35.647Z"
   },
   {
    "duration": 55,
    "start_time": "2022-11-08T22:52:35.741Z"
   },
   {
    "duration": 88,
    "start_time": "2022-11-08T22:52:35.798Z"
   },
   {
    "duration": 49,
    "start_time": "2022-11-08T22:52:35.888Z"
   },
   {
    "duration": 20,
    "start_time": "2022-11-08T22:52:35.938Z"
   },
   {
    "duration": 3,
    "start_time": "2022-11-08T22:52:35.960Z"
   },
   {
    "duration": 164472,
    "start_time": "2022-11-08T22:52:35.965Z"
   },
   {
    "duration": 96,
    "start_time": "2022-11-08T22:55:20.439Z"
   },
   {
    "duration": 7,
    "start_time": "2022-11-08T22:55:20.536Z"
   },
   {
    "duration": 10212,
    "start_time": "2022-11-08T22:55:20.545Z"
   },
   {
    "duration": 8,
    "start_time": "2022-11-08T22:55:30.759Z"
   },
   {
    "duration": 7,
    "start_time": "2022-11-08T22:55:30.769Z"
   },
   {
    "duration": 15371,
    "start_time": "2022-11-08T22:55:30.777Z"
   },
   {
    "duration": 7,
    "start_time": "2022-11-08T22:55:46.149Z"
   },
   {
    "duration": 13,
    "start_time": "2022-11-08T22:55:46.157Z"
   },
   {
    "duration": 4,
    "start_time": "2022-11-08T22:55:46.172Z"
   },
   {
    "duration": 5,
    "start_time": "2022-11-08T22:55:46.177Z"
   },
   {
    "duration": 1370,
    "start_time": "2022-11-08T22:55:46.183Z"
   }
  ],
  "kernelspec": {
   "display_name": "Python 3 (ipykernel)",
   "language": "python",
   "name": "python3"
  },
  "language_info": {
   "codemirror_mode": {
    "name": "ipython",
    "version": 3
   },
   "file_extension": ".py",
   "mimetype": "text/x-python",
   "name": "python",
   "nbconvert_exporter": "python",
   "pygments_lexer": "ipython3",
   "version": "3.9.13"
  },
  "toc": {
   "base_numbering": 1,
   "nav_menu": {},
   "number_sections": true,
   "sideBar": true,
   "skip_h1_title": true,
   "title_cell": "Содержание",
   "title_sidebar": "Содержание",
   "toc_cell": true,
   "toc_position": {
    "height": "calc(100% - 180px)",
    "left": "10px",
    "top": "150px",
    "width": "494.188px"
   },
   "toc_section_display": true,
   "toc_window_display": true
  }
 },
 "nbformat": 4,
 "nbformat_minor": 2
}
