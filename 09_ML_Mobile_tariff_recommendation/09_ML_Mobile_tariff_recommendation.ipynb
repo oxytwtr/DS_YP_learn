{
 "cells": [
  {
   "cell_type": "markdown",
   "metadata": {},
   "source": [
    "# Рекомендация тарифов"
   ]
  },
  {
   "cell_type": "markdown",
   "metadata": {},
   "source": [
    "В вашем распоряжении данные о поведении клиентов, которые уже перешли на эти тарифы (из проекта курса «Статистический анализ данных»). Нужно построить модель для задачи классификации, которая выберет подходящий тариф. Предобработка данных не понадобится — вы её уже сделали.\n",
    "\n",
    "Постройте модель с максимально большим значением *accuracy*. Чтобы сдать проект успешно, нужно довести долю правильных ответов по крайней мере до 0.75. Проверьте *accuracy* на тестовой выборке самостоятельно."
   ]
  },
  {
   "cell_type": "markdown",
   "metadata": {},
   "source": [
    " # Построение модели для рекомендации тарифов\n",
    " \n",
    "Исходные данные от заказчика:\n",
    " Требуется построить систему, способную проанализировать поведение клиентов и предложить пользователям новый тариф: «Смарт» или «Ультра».\n",
    " \n",
    " Предоставлен датасет с данными о поведении клиентов, которые перешли на тарифы  «Смарт» или «Ультра». Предобработка данных выполнена в предыдущем проекте. \n",
    " \n",
    " Нужно построить модель для задачи классификации, которая выберет подходящий тариф. \n",
    "  \n",
    " План работы:\n",
    "\n",
    "- Изучение общей информации о данных\n",
    "- Разделение данных на `обучающую`, `валидационную` и `тестовую` выборки\n",
    "- Исследование качеств разных моделей с разными гиперпараметрами\n",
    "- Выбор оптимальной модели и ее гиперпараметров\n",
    "- Проверка качества модели на тестовой выборке\n",
    "- Проверка модели на вменяемость\n",
    "\n",
    "\n",
    "Описание данных:\n",
    "\n",
    "Каждый объект в наборе данных — это информация о поведении одного пользователя за месяц. Известно:\n",
    "\n",
    "- `сalls` — количество звонков,\n",
    "- `minutes` — суммарная длительность звонков в минутах,\n",
    "- `messages` — количество sms-сообщений,\n",
    "- `mb_used` — израсходованный интернет-трафик в Мб,\n",
    "- `is_ultra` — каким тарифом пользовался в течение месяца («Ультра» — 1, «Смарт» — 0)."
   ]
  },
  {
   "cell_type": "code",
   "execution_count": 1,
   "metadata": {},
   "outputs": [],
   "source": [
    "# Ячейка с импортом библиотек, импорт происходит только в этой ячейке\n",
    "\n",
    "import pandas as pd\n",
    "import numpy as np\n",
    "from numpy import random\n",
    "import matplotlib.pyplot as plt\n",
    "\n",
    "from sklearn.tree import DecisionTreeClassifier\n",
    "from sklearn.ensemble import RandomForestClassifier\n",
    "from sklearn.linear_model import LogisticRegression\n",
    "\n",
    "from sklearn.metrics import accuracy_score\n",
    "from sklearn.model_selection import train_test_split"
   ]
  },
  {
   "cell_type": "code",
   "execution_count": 2,
   "metadata": {},
   "outputs": [],
   "source": [
    "# Ячейка с c начальными настройками Pandas\n",
    "pd.set_option('display.max_columns', 50) \n",
    "pd.options.mode.chained_assignment = None"
   ]
  },
  {
   "cell_type": "code",
   "execution_count": 3,
   "metadata": {},
   "outputs": [],
   "source": [
    "# Ячейка с c глобальными переменными к проекту\n",
    "RANDOM_STATE = 3141592654\n"
   ]
  },
  {
   "cell_type": "markdown",
   "metadata": {},
   "source": [
    "## Открытие и изучение файла"
   ]
  },
  {
   "cell_type": "code",
   "execution_count": 4,
   "metadata": {
    "scrolled": false
   },
   "outputs": [
    {
     "data": {
      "text/html": [
       "<div>\n",
       "<style scoped>\n",
       "    .dataframe tbody tr th:only-of-type {\n",
       "        vertical-align: middle;\n",
       "    }\n",
       "\n",
       "    .dataframe tbody tr th {\n",
       "        vertical-align: top;\n",
       "    }\n",
       "\n",
       "    .dataframe thead th {\n",
       "        text-align: right;\n",
       "    }\n",
       "</style>\n",
       "<table border=\"1\" class=\"dataframe\">\n",
       "  <thead>\n",
       "    <tr style=\"text-align: right;\">\n",
       "      <th></th>\n",
       "      <th>calls</th>\n",
       "      <th>minutes</th>\n",
       "      <th>messages</th>\n",
       "      <th>mb_used</th>\n",
       "      <th>is_ultra</th>\n",
       "    </tr>\n",
       "  </thead>\n",
       "  <tbody>\n",
       "    <tr>\n",
       "      <th>0</th>\n",
       "      <td>40.0</td>\n",
       "      <td>311.90</td>\n",
       "      <td>83.0</td>\n",
       "      <td>19915.42</td>\n",
       "      <td>0</td>\n",
       "    </tr>\n",
       "    <tr>\n",
       "      <th>1</th>\n",
       "      <td>85.0</td>\n",
       "      <td>516.75</td>\n",
       "      <td>56.0</td>\n",
       "      <td>22696.96</td>\n",
       "      <td>0</td>\n",
       "    </tr>\n",
       "    <tr>\n",
       "      <th>2</th>\n",
       "      <td>77.0</td>\n",
       "      <td>467.66</td>\n",
       "      <td>86.0</td>\n",
       "      <td>21060.45</td>\n",
       "      <td>0</td>\n",
       "    </tr>\n",
       "    <tr>\n",
       "      <th>3</th>\n",
       "      <td>106.0</td>\n",
       "      <td>745.53</td>\n",
       "      <td>81.0</td>\n",
       "      <td>8437.39</td>\n",
       "      <td>1</td>\n",
       "    </tr>\n",
       "    <tr>\n",
       "      <th>4</th>\n",
       "      <td>66.0</td>\n",
       "      <td>418.74</td>\n",
       "      <td>1.0</td>\n",
       "      <td>14502.75</td>\n",
       "      <td>0</td>\n",
       "    </tr>\n",
       "    <tr>\n",
       "      <th>5</th>\n",
       "      <td>58.0</td>\n",
       "      <td>344.56</td>\n",
       "      <td>21.0</td>\n",
       "      <td>15823.37</td>\n",
       "      <td>0</td>\n",
       "    </tr>\n",
       "    <tr>\n",
       "      <th>6</th>\n",
       "      <td>57.0</td>\n",
       "      <td>431.64</td>\n",
       "      <td>20.0</td>\n",
       "      <td>3738.90</td>\n",
       "      <td>1</td>\n",
       "    </tr>\n",
       "    <tr>\n",
       "      <th>7</th>\n",
       "      <td>15.0</td>\n",
       "      <td>132.40</td>\n",
       "      <td>6.0</td>\n",
       "      <td>21911.60</td>\n",
       "      <td>0</td>\n",
       "    </tr>\n",
       "    <tr>\n",
       "      <th>8</th>\n",
       "      <td>7.0</td>\n",
       "      <td>43.39</td>\n",
       "      <td>3.0</td>\n",
       "      <td>2538.67</td>\n",
       "      <td>1</td>\n",
       "    </tr>\n",
       "    <tr>\n",
       "      <th>9</th>\n",
       "      <td>90.0</td>\n",
       "      <td>665.41</td>\n",
       "      <td>38.0</td>\n",
       "      <td>17358.61</td>\n",
       "      <td>0</td>\n",
       "    </tr>\n",
       "    <tr>\n",
       "      <th>10</th>\n",
       "      <td>82.0</td>\n",
       "      <td>560.51</td>\n",
       "      <td>20.0</td>\n",
       "      <td>9619.53</td>\n",
       "      <td>1</td>\n",
       "    </tr>\n",
       "    <tr>\n",
       "      <th>11</th>\n",
       "      <td>45.0</td>\n",
       "      <td>344.32</td>\n",
       "      <td>13.0</td>\n",
       "      <td>19898.81</td>\n",
       "      <td>0</td>\n",
       "    </tr>\n",
       "  </tbody>\n",
       "</table>\n",
       "</div>"
      ],
      "text/plain": [
       "    calls  minutes  messages   mb_used  is_ultra\n",
       "0    40.0   311.90      83.0  19915.42         0\n",
       "1    85.0   516.75      56.0  22696.96         0\n",
       "2    77.0   467.66      86.0  21060.45         0\n",
       "3   106.0   745.53      81.0   8437.39         1\n",
       "4    66.0   418.74       1.0  14502.75         0\n",
       "5    58.0   344.56      21.0  15823.37         0\n",
       "6    57.0   431.64      20.0   3738.90         1\n",
       "7    15.0   132.40       6.0  21911.60         0\n",
       "8     7.0    43.39       3.0   2538.67         1\n",
       "9    90.0   665.41      38.0  17358.61         0\n",
       "10   82.0   560.51      20.0   9619.53         1\n",
       "11   45.0   344.32      13.0  19898.81         0"
      ]
     },
     "metadata": {},
     "output_type": "display_data"
    },
    {
     "name": "stdout",
     "output_type": "stream",
     "text": [
      "<class 'pandas.core.frame.DataFrame'>\n",
      "RangeIndex: 3214 entries, 0 to 3213\n",
      "Data columns (total 5 columns):\n",
      " #   Column    Non-Null Count  Dtype  \n",
      "---  ------    --------------  -----  \n",
      " 0   calls     3214 non-null   float64\n",
      " 1   minutes   3214 non-null   float64\n",
      " 2   messages  3214 non-null   float64\n",
      " 3   mb_used   3214 non-null   float64\n",
      " 4   is_ultra  3214 non-null   int64  \n",
      "dtypes: float64(4), int64(1)\n",
      "memory usage: 125.7 KB\n"
     ]
    }
   ],
   "source": [
    "try:\n",
    "    df = pd.read_csv('/datasets/users_behavior.csv')\n",
    "except:\n",
    "    df = pd.read_csv('https://code.s3.yandex.net/datasets/users_behavior.csv')\n",
    "\n",
    "display(df.head(12))\n",
    "df.info()"
   ]
  },
  {
   "cell_type": "markdown",
   "metadata": {},
   "source": [
    "Значения во всех колонках - вещественные числа, кроме колонки `is_ultra` - это категориальное, булево значение, определяющее принадлежность к тарифу УЛЬТРА, если 1 и Смарт, если 0\n",
    "\n",
    "Значения в колонках `calls` и `messages` по смыслу должны быть целочисленными, проверим это:"
   ]
  },
  {
   "cell_type": "code",
   "execution_count": 5,
   "metadata": {
    "scrolled": false
   },
   "outputs": [
    {
     "name": "stdout",
     "output_type": "stream",
     "text": [
      "ОК. Значения в колонке \"calls\" целочисленные.\n",
      "ОК. Значения в колонке \"messages\" целочисленные.\n"
     ]
    }
   ],
   "source": [
    "def is_integer(df_name, list_of_columns): # Функция is_integer принимает имя датасета и список колонок для проверки.\n",
    "    for column in list_of_columns:        # и выводит лог проверки на целочисленность. Возвращает None\n",
    "        try:\n",
    "            if all(x.is_integer() for x in df_name[column]):\n",
    "                print('ОК. Значения в колонке \"', column,'\" целочисленные.', sep='')\n",
    "            else:\n",
    "                print('Ошибка. Обнаружены дробные значения в колонке \"', column,'\", требуется предобработка.', sep='')\n",
    "        except:\n",
    "            print('Ошибка. Колонка с именем \"', column,'\" не найдена, проверьте ввод', sep='')\n",
    "\n",
    "is_integer(df, ['calls', 'messages'])\n"
   ]
  },
  {
   "cell_type": "markdown",
   "metadata": {},
   "source": [
    "Все значения в колонках `calls` и `messages` с большой долей вероятности не дробные, преобразовывать их не будем."
   ]
  },
  {
   "cell_type": "code",
   "execution_count": 6,
   "metadata": {},
   "outputs": [
    {
     "data": {
      "image/png": "[encoded data removed]",
      "text/plain": [
       "<Figure size 1500x1500 with 6 Axes>"
      ]
     },
     "metadata": {},
     "output_type": "display_data"
    }
   ],
   "source": [
    "df.hist(figsize=(15, 15), bins = 36);"
   ]
  },
  {
   "cell_type": "markdown",
   "metadata": {},
   "source": [
    "**Вывод по разделу 1**\n",
    "\n",
    "- В данных 5 колонок (признаков) и 3214 строк (объектов)\n",
    "- Пропуски отсутствуют\n",
    "- Распределение данных для количества звонков и количества сообщений, судя по гистограммам, в целом соответствуют распределению Пуасонна.\n",
    "- Распределение длительности звонков и  объема израсходованного трафика близко к нормальному распределению.\n",
    "- Количество пользователей тарифа `Смарт` более чем в два раза превышает количество пользователей тарифа `Ультра`. Для обучения модели требуется стратифицированная выборка."
   ]
  },
  {
   "cell_type": "markdown",
   "metadata": {},
   "source": [
    "## Разделение данных на выборки"
   ]
  },
  {
   "cell_type": "markdown",
   "metadata": {},
   "source": [
    "Согласно заданию тестовую выборку мы берем из исходного набора данных. Значит, данные нужно разбить на три части: обучающую, валидационную и тестовую. \n",
    "\n",
    "Размеры тестового и валидационного наборов примем равными. \n",
    "\n",
    "Исходные данные разобъем в соотношении 3:1:1\n",
    "\n",
    "Так как в целевом признаке есть дисбаланс классов, выборки стратифицируем с помощью параметра stratify в train_test_split. \n",
    "Для этого создадим массив с распределением целевого признака как в исходном датасете.\n",
    "\n",
    "Также определим признаки для моделей машинного обучения, для каждой из выборок:\n",
    "\n",
    "features — признаки (`calls`, `messages`, `minutes`, `mb_used`);\n",
    "target — целевой признак (`is_ultra`)."
   ]
  },
  {
   "cell_type": "code",
   "execution_count": 7,
   "metadata": {},
   "outputs": [],
   "source": [
    "def make_stratify_array(df_name, boolean_column_name):      # Функция make_stratify_array принимает df_name = имя датасета \n",
    "    try:                                                    # и boolean_column_name = имя колонки с булевыми значениями\n",
    "        if len(df_name[boolean_column_name].unique()) == 2: # возвращает series со схожим распределением булевых значений\n",
    "            stratify_array = pd.Series([df_name[boolean_column_name].unique()[0]]*len(df_name))\n",
    "            for i in range(len(df_name[df_name[boolean_column_name] == df_name[boolean_column_name].unique()[1]])):\n",
    "                #stratify_array[random.randint(0, len(df_name))] = 1\n",
    "                stratify_array[i] = 1\n",
    "            return stratify_array\n",
    "        else:\n",
    "            print('Колонка \"', boolean_column_name, '\" не содержит булевы значения', sep ='')\n",
    "    except:\n",
    "        print('Не найдено имя колонки \"', boolean_column_name, '\".', sep ='')"
   ]
  },
  {
   "cell_type": "code",
   "execution_count": 8,
   "metadata": {},
   "outputs": [],
   "source": [
    "# первый вариант, разбитие на выборки в train_test_split, выделение целевого параметра отдельно вручную (в следуюих ячейках)\n",
    "#df_train, df_valid_and_test = train_test_split(\n",
    "#    df, test_size=0.4, random_state=RANDOM_STATE, stratify=make_stratify_array(df, 'is_ultra')) \n",
    "\n",
    "#df_valid, df_test = train_test_split(\n",
    "#    df_valid_and_test, test_size=0.5, random_state=RANDOM_STATE, stratify=make_stratify_array(df_valid_and_test, 'is_ultra')) "
   ]
  },
  {
   "cell_type": "code",
   "execution_count": 9,
   "metadata": {},
   "outputs": [
    {
     "name": "stdout",
     "output_type": "stream",
     "text": [
      "(1928, 5)\n",
      "(643, 5)\n",
      "(643, 5)\n"
     ]
    }
   ],
   "source": [
    "train, validate, test, = \\\n",
    "        np.split(df.sample(frac=1, random_state=RANDOM_STATE), [int(.6*len(df)), int(.8*len(df))] )\n",
    "\n",
    "#print(df.sample(frac=1, random_state=RANDOM_STATE))\n",
    "print(train.shape)\n",
    "print(validate.shape)\n",
    "print(test.shape)\n",
    "#print(test2.shape)"
   ]
  },
  {
   "cell_type": "code",
   "execution_count": 10,
   "metadata": {},
   "outputs": [],
   "source": [
    "# второй вариант, разбитие на выборки и выделение целевого параметра в train_test_split\n",
    "df_train, df_valid_and_test, target_train, target_valid_and_test  = train_test_split(\n",
    "    df, \n",
    "    df['is_ultra'],  \n",
    "    test_size=0.4, \n",
    "    random_state=RANDOM_STATE, \n",
    "    stratify=make_stratify_array(df, 'is_ultra')) \n",
    "\n",
    "features_train = df_train.drop(['is_ultra'], axis=1)\n",
    "\n",
    "df_valid, df_test, target_valid, target_test  = train_test_split(\n",
    "    df_valid_and_test, \n",
    "    df_valid_and_test['is_ultra'], \n",
    "    test_size=0.5, \n",
    "    random_state=RANDOM_STATE, \n",
    "    stratify=make_stratify_array(df_valid_and_test, 'is_ultra'))\n",
    "\n",
    "features_valid = df_valid.drop(['is_ultra'], axis=1)\n",
    "features_test = df_test.drop(['is_ultra'], axis=1)"
   ]
  },
  {
   "cell_type": "code",
   "execution_count": 11,
   "metadata": {},
   "outputs": [],
   "source": [
    "# Закомментировано для проверки метода выделения целевых параметров при помощи train_test_split\n",
    "#features_train = df_train.drop(['is_ultra'], axis=1)\n",
    "#target_train = df_train['is_ultra']\n",
    "#features_valid = df_valid.drop(['is_ultra'], axis=1)\n",
    "#target_valid = df_valid['is_ultra']\n",
    "#features_test = df_test.drop(['is_ultra'], axis=1)\n",
    "#target_test = df_test['is_ultra']"
   ]
  },
  {
   "cell_type": "markdown",
   "metadata": {},
   "source": [
    "**Вывод по разделу 2**\n",
    "\n",
    "- Методом train_test_split исходный датасет разбит на 3 выборки: обучающую, валидационную и тестовую в соотношении 3:1:1\n",
    "- Определены признаки для моделей машинного обучения:\n",
    "  - целевой признак: `is_ultra`\n",
    "  - признаки: `calls`, `messages`, `minutes`, `mb_used`"
   ]
  },
  {
   "cell_type": "markdown",
   "metadata": {},
   "source": [
    "## Исследование моделей"
   ]
  },
  {
   "cell_type": "markdown",
   "metadata": {},
   "source": [
    "Определение подходящего тарифа - задача бинарной классификации, т.к. предлагаемых тарифов всего два.\n",
    "\n",
    "Для задач предсказания нужного тарифа рассмотрим три модели машинного обучения:\n",
    "\n",
    "- дерево решений\n",
    "- случайный лес\n",
    "- логистическую регрессию\n",
    "\n",
    "Исходя из практики машинного обучения модели имеют следующие характеристики:\n",
    "\n",
    "- Качество (accuracy) - качество предсказания, т.е. общее количество верных предсказаний ко всему количеству объектов\n",
    "- Точность (precision) - показывает, какая доля тарифов, выбранных для некоторых пользователей, действительно соответствуют выбранным пользователями тарифам.\n",
    "- Полнота (recall) выявляет, какую часть реальных тарифов пользователя модель определила верно.\n",
    "- Скорость работы модели\n",
    "\n",
    "Для задач настоящего исследования выбрана метрика Качество (accuracy), так как каждое неправильное предсказание — это неверная подсказка и потенциальная упущенная выгода для компании. И наоборот: чем выше точность классификации, тем больше прибыли принесёт продукт.\n",
    "\n",
    "Объединим критерии в таблицу с указанием характеристик для каждой из выбранных моделей:\n",
    "\n",
    "|Название|Качество (accuracy)|Скорость\n",
    "|:-------------|:-------------|:-------------\n",
    "|Дерево решений|Низкое|Высокая\n",
    "|Случайный лес|Высокое|Низкая\n",
    "|Логистическая регрессия|Среднее|Высокая\n",
    "\n",
    "Так как исследование выполняется не \"на лету\", а для поиска конкретного ответа на заданных данных, то в приоритете высокое качество предсказаний модели, то есть оптимальной моделью для использования можно выбрать `Случайный лес`.\n",
    "\n",
    "Однако в целях изучения материала в проекте будут рассмотрены все три модели c различными гиперпараметрами."
   ]
  },
  {
   "cell_type": "markdown",
   "metadata": {},
   "source": [
    "### Исследование модели `Дерево решений`"
   ]
  },
  {
   "cell_type": "markdown",
   "metadata": {},
   "source": [
    "Самый важный гиперпараметр решающего дерева — `max_depth` (максимальная глубина). \n",
    "Для задач упрощения дерева рассмотрим также параметр `min_samples_split`. Этот гиперпараметр запрещает создавать узлы, в которые попадает слишком мало объектов обучающей выборки.\n",
    "\n",
    "\n",
    "Обучим модели решающего дерева для задачи классификации:\n",
    "- с максимальной глубиной от 1 до 10.\n",
    "- c минимальным количеством объектов в узлах от 2 до 3  \n",
    "\n",
    "Для каждой модели посчитаем качество (accuracy) на валидационной выборке и выберем наилучшую комбинацию:"
   ]
  },
  {
   "cell_type": "code",
   "execution_count": 12,
   "metadata": {
    "scrolled": true
   },
   "outputs": [
    {
     "name": "stdout",
     "output_type": "stream",
     "text": [
      "Accuracy наилучшей модели на валидационной выборке: 0.7869362363919129\n",
      "Глубина дерева: 8\n",
      "Мин. кол-во объектов в узлах: 2\n"
     ]
    }
   ],
   "source": [
    "best_result_tree = 0\n",
    "best_depth = 0\n",
    "best_min_samples = 0\n",
    "\n",
    "for min_samples in range(2, 4):\n",
    "    for depth in range(1, 11):\n",
    "        model = DecisionTreeClassifier(random_state=RANDOM_STATE, max_depth=depth, min_samples_split=min_samples)\n",
    "        model.fit(features_train, target_train)\n",
    "        predictions_valid = model.predict(features_valid)\n",
    "        result = accuracy_score(target_valid, predictions_valid)\n",
    "        if result > best_result_tree:\n",
    "            best_result_tree = result\n",
    "            best_depth = depth\n",
    "            best_min_samples = min_samples\n",
    "        \n",
    "print('Accuracy наилучшей модели на валидационной выборке:', best_result_tree)\n",
    "print('Глубина дерева:', best_depth)\n",
    "print('Мин. кол-во объектов в узлах:', best_min_samples)"
   ]
  },
  {
   "cell_type": "markdown",
   "metadata": {},
   "source": [
    "### Исследование модели `Случайный лес`"
   ]
  },
  {
   "cell_type": "markdown",
   "metadata": {},
   "source": [
    "Для этой модели рассмотрим гиперпараметры `n_estimators` (количество «деревьев»), `max_depth` (максимальная глубина) и `min_samples_split` (минимальное количество объектов в узлах). \n",
    "\n",
    "Обучим модели случайного леса для задачи классификации:\n",
    "- с количеством деревьев: от 10 до 50 с шагом 10\n",
    "- с максимальной глубиной от 1 до 10\n",
    "- c минимальным количеством объектов в узлах от 2 до 3  \n",
    "\n",
    "Для каждой модели посчитаем качество (accuracy) на валидационной выборке и выберем наилучшую комбинацию:"
   ]
  },
  {
   "cell_type": "code",
   "execution_count": 13,
   "metadata": {},
   "outputs": [
    {
     "name": "stdout",
     "output_type": "stream",
     "text": [
      "Accuracy наилучшей модели на валидационной выборке: 0.8087091757387247\n",
      "Количество деревьев: 40\n",
      "Глубина дерева: 10\n",
      "Мин. кол-во объектов в узлах: 2\n"
     ]
    }
   ],
   "source": [
    "best_result_forest = 0\n",
    "best_est = 0\n",
    "best_depth_forest = 0\n",
    "best_min_samples_forest = 0\n",
    "\n",
    "for min_samples in range(2, 4):\n",
    "    for est in range(10, 51, 10):\n",
    "        for depth in range (1, 11):\n",
    "            model = RandomForestClassifier(\n",
    "                random_state=RANDOM_STATE,\n",
    "                n_estimators=est, \n",
    "                max_depth=depth, \n",
    "                min_samples_split=min_samples) \n",
    "            model.fit(features_train, target_train)\n",
    "            predictions_valid = model.predict(features_valid)\n",
    "            result = accuracy_score(target_valid, predictions_valid)\n",
    "            if result > best_result_forest:\n",
    "                best_result_forest = result\n",
    "                best_est = est\n",
    "                best_depth_forest = depth\n",
    "                best_min_samples_forest = min_samples\n",
    "\n",
    "print('Accuracy наилучшей модели на валидационной выборке:', best_result_forest)\n",
    "print('Количество деревьев:', best_est)\n",
    "print('Глубина дерева:', best_depth_forest)\n",
    "print('Мин. кол-во объектов в узлах:', best_min_samples_forest)"
   ]
  },
  {
   "cell_type": "markdown",
   "metadata": {},
   "source": [
    "### Исследование модели `Логистическая регрессия`"
   ]
  },
  {
   "cell_type": "markdown",
   "metadata": {},
   "source": [
    "Для этой модели рассмотрим гиперпараметры `solver`='lbfgs' (алгоритм) и `max_iter`=1000. \n",
    "\n",
    "Алгоритм 'lbfgs' — один из самых распространённых. Он подходит для большинства задач. Гиперпараметром `max_iter` задаётся максимальное количество итераций обучения."
   ]
  },
  {
   "cell_type": "code",
   "execution_count": 14,
   "metadata": {
    "scrolled": false
   },
   "outputs": [
    {
     "name": "stdout",
     "output_type": "stream",
     "text": [
      "Accuracy модели на валидационной выборке: 0.80248833592535\n"
     ]
    }
   ],
   "source": [
    "model = LogisticRegression(random_state=RANDOM_STATE, solver='lbfgs', max_iter=1000)\n",
    "model.fit(features_train, target_train)\n",
    "model.predict(features_valid)\n",
    "best_result_lr = accuracy_score(target_valid, predictions_valid)\n",
    "print('Accuracy модели на валидационной выборке:', best_result_lr)"
   ]
  },
  {
   "cell_type": "code",
   "execution_count": 15,
   "metadata": {},
   "outputs": [
    {
     "data": {
      "text/plain": [
       "Дерево решений             0.786936\n",
       "Случайный лес              0.808709\n",
       "Логистическая регрессия    0.802488\n",
       "dtype: float64"
      ]
     },
     "metadata": {},
     "output_type": "display_data"
    },
    {
     "name": "stdout",
     "output_type": "stream",
     "text": [
      "Выбранная модель с лучшим значением метрики: Случайный лес    0.808709\n",
      "dtype: float64\n"
     ]
    },
    {
     "data": {
      "image/png": "[encoded data removed]",
      "text/plain": [
       "<Figure size 500x800 with 1 Axes>"
      ]
     },
     "metadata": {},
     "output_type": "display_data"
    }
   ],
   "source": [
    "models_accuracy = pd.Series(data=[best_result_tree, best_result_forest, best_result_lr], \n",
    "                            index=['Дерево решений', 'Случайный лес', 'Логистическая регрессия'])\n",
    "\n",
    "models_accuracy.plot(kind='bar', grid=True, figsize=(5,8), title='Распределение значений метрик качества для моделей')\n",
    "\n",
    "display(models_accuracy);\n",
    "print('Выбранная модель с лучшим значением метрики:', models_accuracy.loc[models_accuracy == models_accuracy.max()]);\n"
   ]
  },
  {
   "cell_type": "markdown",
   "metadata": {},
   "source": [
    "**Вывод по разделу 3**\n",
    "\n",
    "- На данном этапе были выбраны 3 модели для исследования: `Дерево решений`, `Случайный лес`, `Логистическая регрессия` \n",
    "- Исходя из практики машинного обучения и особенностей конкретного задания:\n",
    "\n",
    "  - для моделей принята метрика точности: `Качество (accuracy)`\n",
    "  - оптимальной моделью для использования выбран `Случайный лес`, как наилучший по качеству предсказаний\n",
    "  - в проекте исследованы три модели c различными гиперпараметрами\n",
    "  \n",
    "- в результате исследования моделей было определены значения метрик качества и оптимальные гиперпараметры:\n",
    "\n",
    "|Название|Качество (accuracy)|Гиперпараметры\n",
    "|:-------------|:-------------|:-------------\n",
    "|Дерево решений|0.7869362363919129|Глубина дерева = 8, Мин. кол-во объектов в узлах: 2\n",
    "|Случайный лес|0.8087091757387247|Количество деревьев: 40, Максимальная глубина: 10, Мин. кол-во объектов в узлах: 2\n",
    "|Логистическая регрессия|0.80248833592535|Алгоритм ='lbfgs' и max_iter=1000\n",
    "\n",
    "- По итогу исследований для проверки на тестовой выборке принята модель `Случайный лес`, количество деревьев: 40, максимальная глубина: 10, минимальное количество объектов в узлах: 2\n"
   ]
  },
  {
   "cell_type": "markdown",
   "metadata": {},
   "source": [
    "## Проверка модели на тестовой выборке"
   ]
  },
  {
   "cell_type": "code",
   "execution_count": 16,
   "metadata": {},
   "outputs": [
    {
     "name": "stdout",
     "output_type": "stream",
     "text": [
      "Проверим выбранную модель Случайный лес, со следующими гиперпараметрами:\n",
      " - n_estimators = 40 (количество деревьев)\n",
      " - max_depth_forest = 10 (максимальная глубина)\n",
      " - min_samples_split_forest = 2 (мин. кол-во объектов в узлах)\n"
     ]
    }
   ],
   "source": [
    "print('Проверим выбранную модель Случайный лес, со следующими гиперпараметрами:')\n",
    "print(' - n_estimators =',best_est, '(количество деревьев)')\n",
    "print(' - max_depth_forest =',best_depth_forest, '(максимальная глубина)')\n",
    "print(' - min_samples_split_forest =',best_min_samples_forest, '(мин. кол-во объектов в узлах)')"
   ]
  },
  {
   "cell_type": "code",
   "execution_count": 17,
   "metadata": {
    "scrolled": true
   },
   "outputs": [
    {
     "name": "stdout",
     "output_type": "stream",
     "text": [
      "Качество (accuracy) модели на тестовой выборке: 0.8304821150855366\n",
      "Удалось достичь accuracy не меньше 0.75\n",
      "Качество (accuracy) модели на валидационной выборке: 0.8087091757387247\n"
     ]
    }
   ],
   "source": [
    "model = RandomForestClassifier(random_state=RANDOM_STATE, n_estimators=best_est, max_depth=best_depth_forest, min_samples_split=best_min_samples_forest) \n",
    "model.fit(features_train, target_train)\n",
    "predictions_test = model.predict(features_test)\n",
    "result_test = accuracy_score(target_test, predictions_test)\n",
    "\n",
    "print('Качество (accuracy) модели на тестовой выборке:', result_test)\n",
    "if result_test >= 0.75:\n",
    "    print('Удалось достичь accuracy не меньше 0.75')\n",
    "else:\n",
    "    print('Аccuracy меньше 0.75, требуется настройка гиперпараметров.')\n",
    "print('Качество (accuracy) модели на валидационной выборке:', models_accuracy.loc[models_accuracy == models_accuracy.max()][0])\n"
   ]
  },
  {
   "cell_type": "markdown",
   "metadata": {},
   "source": [
    "**Вывод по разделу 4**\n",
    "\n",
    "- Выбранная модель `Случайный лес` с гиперпараметрами количество деревьев: 40, максимальная глубина: 10, мин. кол-во объектов в узлах: 2  проверена на тестовой выборке \n",
    "- Качество (accuracy) выбранной модели на тестовой выборке не меньше 0.75\n",
    "- Качество (accuracy) выбранной модели на тестовой выборке близко к качеству на валидационной выборке (0.830482 и  0.808709 соответственно)\n",
    "- Для задачи классификации, которая выберет подходящий тариф выбрана модель `Случайный лес`  со следующими гиперпараметрами:\n",
    "  - n_estimators = 40 (количество деревьев)\n",
    "  - max_depth = 10 (максимальная глубина)\n",
    "  - min_samples_split = 2 (мин. кол-во объектов в узлах)"
   ]
  },
  {
   "cell_type": "markdown",
   "metadata": {},
   "source": [
    "## Общий вывод"
   ]
  },
  {
   "cell_type": "markdown",
   "metadata": {},
   "source": [
    "# Источник данных\n",
    "Рассматриваемый набор данных, размером 5 колонок (признаков) и 3214 строк (объектов) представляет содержит информацию о поведении клиентов, которые перешли на тарифы «Смарт» или «Ультра». \n",
    "\n",
    "- предобработка данных выполнена в предыдущем проекте.\n",
    "- Пропуски отсутствуют\n",
    "- Распределение данных для количества звонков и количества сообщений, судя по гистограммам, в целом соответствуют распределению Пуасонна.\n",
    "- Распределение длительности звонков и  объема израсходованного трафика близко к нормальному распределению.\n",
    "- Количество пользователей тарифа `Смарт` более чем в два раза превышает количество пользователей тарифа `Ультра`. Для обучения модели требуется стратифицированная выборка.\n",
    "\n",
    "# Цели проекта\n",
    ">Нужно построить модель для задачи классификации, которая выберет подходящий тариф.\n",
    ">Постройте модель с максимально большим значением accuracy. \n",
    "\n",
    "\n",
    "# Выводы по проекту\n",
    "\n",
    "*Разделение данных на выборки и определение признаков для модели машинного обучения*\n",
    "\n",
    "- Методом train_test_split исходный датасет разбит на 3 выборки: обучающую, валидационную и тестовую в соотношении 3:1:1\n",
    "- Определены признаки для моделей машинного обучения:\n",
    "  - целевой признак: `is_ultra`\n",
    "  - признаки: `calls`, `messages`, `minutes`, `mb_used`\n",
    "  \n",
    "*Исследование моделей машинного обучения*\n",
    "\n",
    "- Исходя из практики машинного обучения и особенностей конкретного задания:\n",
    "  - выбраны 3 модели для исследования: `Дерево решений`, `Случайный лес`, `Логистическая регрессия`\n",
    "  - для моделей принята метрика точности: `Качество (accuracy)`\n",
    "  - оптимальной моделью для использования выбран `Случайный лес`, как наилучший по качеству предсказаний\n",
    "  - в проекте исследованы три модели c различными гиперпараметрами\n",
    "  \n",
    "- в результате исследования моделей было определены значения метрик качества и оптимальные гиперпараметры:\n",
    "\n",
    "|Название|Качество (accuracy)|Гиперпараметры\n",
    "|:-------------|:-------------|:-------------\n",
    "|Дерево решений|0.7869362363919129|Глубина дерева = 8, Мин. кол-во объектов в узлах: 2\n",
    "|Случайный лес|0.8087091757387247|Количество деревьев: 40, Максимальная глубина: 10, Мин. кол-во объектов в узлах: 2\n",
    "|Логистическая регрессия|0.80248833592535|Алгоритм ='lbfgs' и max_iter=1000\n",
    "\n",
    "- По итогу исследований для проверки на тестовой выборке принята модель `Случайный лес`, количество деревьев: 40, максимальная глубина: 10, минимальное количество объектов в узлах: 2\n",
    "\n",
    "*Проверка модели на тестовой выборке*\n",
    "\n",
    "- Выбранная модель `Случайный лес` с гиперпараметрами количество деревьев: 40, максимальная глубина: 7, мин. кол-во объектов в узлах: 3  проверена на тестовой выборке\n",
    "- Качество (accuracy) выбранной модели на тестовой выборке не меньше 0.75\n",
    "- Качество (accuracy) выбранной модели на тестовой выборке близко к качеству на валидационной выборке (0.830482 и  0.808709 соответственно)\n",
    "\n",
    "\n",
    "- **Для задачи классификации**, которая выберет **подходящий тариф** выбрана модель **`Случайный лес`**  со следующими гиперпараметрами:\n",
    "  - **n_estimators = 40** (количество деревьев)\n",
    "  - **max_depth = 10** (максимальная глубина)\n",
    "  - **min_samples_split = 2** (мин. кол-во объектов в узлах)"
   ]
  },
  {
   "cell_type": "markdown",
   "metadata": {},
   "source": [
    "## (бонус) Проверьте модели на адекватность"
   ]
  },
  {
   "cell_type": "markdown",
   "metadata": {},
   "source": [
    "Проверим выбранную модель на адекватность. \n",
    "\n",
    "Для этого \n",
    "- создадим проверочный список с искусственным предсказанием (в котором распределение тарифов близко к распределению в рассматриваемом наборе данных) \n",
    "- сравним метрику качества выбранной модели и созданного вручную предсказания."
   ]
  },
  {
   "cell_type": "code",
   "execution_count": 18,
   "metadata": {},
   "outputs": [
    {
     "name": "stdout",
     "output_type": "stream",
     "text": [
      "Качество (accuracy) искусственного предсказания : 0.5843186060983199\n",
      "Качество (accuracy) выбранной модели: 0.8609209707529558\n",
      "Выбранная модель показывает результаты лучше чем созданные предсказания, то есть модель можно считать адекватной.\n"
     ]
    }
   ],
   "source": [
    "features = df.drop(['is_ultra'], axis=1)\n",
    "target = df['is_ultra']\n",
    "\n",
    "model = RandomForestClassifier(\n",
    "    random_state=RANDOM_STATE,\n",
    "    n_estimators=best_est, \n",
    "    max_depth=best_depth, \n",
    "    min_samples_split=best_min_samples_forest) \n",
    "\n",
    "model.fit(features, target)\n",
    "predictions = model.predict(features)\n",
    "\n",
    "target_distr = pd.Series([0]*len(target))\n",
    "\n",
    "for i in range(len(target[target == 1])):\n",
    "    target_distr[random.randint(0, len(target))] = 1\n",
    "\n",
    "\n",
    "print('Качество (accuracy) искусственного предсказания :', accuracy_score(target, target_distr))\n",
    "print('Качество (accuracy) выбранной модели:', accuracy_score(target, predictions))\n",
    "\n",
    "print('Выбранная модель показывает результаты лучше чем созданные предсказания, то есть модель можно считать адекватной.')"
   ]
  },
  {
   "cell_type": "code",
   "execution_count": 19,
   "metadata": {},
   "outputs": [
    {
     "data": {
      "image/png": "[encoded data removed]",
      "text/plain": [
       "<Figure size 640x480 with 1 Axes>"
      ]
     },
     "metadata": {},
     "output_type": "display_data"
    }
   ],
   "source": [
    "target_distr.hist(bins=10, alpha=0.5)\n",
    "target.hist(bins=10,alpha=0.5)\n",
    "plt.title('Сравнение распределения тарифов в искусственном предсказании и в наборе данных');\n",
    "\n",
    "plt.legend(['Искусственное предсказание', 'Набор данных'])\n",
    "plt.xlabel('Тарифы: «Ультра» — 1, «Смарт» — 0');\n",
    "plt.ylabel('Количество пользователей');\n",
    "plt.show;"
   ]
  }
 ],
 "metadata": {
  "ExecuteTimeLog": [
   {
    "duration": 1527,
    "start_time": "2022-08-23T20:28:12.537Z"
   },
   {
    "duration": 4,
    "start_time": "2022-08-23T20:28:14.067Z"
   },
   {
    "duration": 150,
    "start_time": "2022-08-23T20:28:14.072Z"
   },
   {
    "duration": 7,
    "start_time": "2022-08-23T20:28:14.224Z"
   },
   {
    "duration": 3,
    "start_time": "2022-08-23T20:41:07.280Z"
   },
   {
    "duration": 21,
    "start_time": "2022-08-23T20:41:07.285Z"
   },
   {
    "duration": 62,
    "start_time": "2022-08-23T20:41:07.308Z"
   },
   {
    "duration": 833,
    "start_time": "2022-08-23T20:41:07.371Z"
   },
   {
    "duration": 4,
    "start_time": "2022-08-23T20:53:29.544Z"
   },
   {
    "duration": 6,
    "start_time": "2022-08-23T20:53:29.550Z"
   },
   {
    "duration": 52,
    "start_time": "2022-08-23T20:53:29.558Z"
   },
   {
    "duration": 932,
    "start_time": "2022-08-23T20:53:29.612Z"
   },
   {
    "duration": 4,
    "start_time": "2022-08-23T20:58:16.956Z"
   },
   {
    "duration": 6,
    "start_time": "2022-08-23T20:58:58.962Z"
   },
   {
    "duration": 3,
    "start_time": "2022-08-23T21:14:17.522Z"
   },
   {
    "duration": 20,
    "start_time": "2022-08-23T21:14:17.527Z"
   },
   {
    "duration": 62,
    "start_time": "2022-08-23T21:14:17.548Z"
   },
   {
    "duration": 6,
    "start_time": "2022-08-23T21:14:17.613Z"
   },
   {
    "duration": 815,
    "start_time": "2022-08-23T21:14:17.621Z"
   },
   {
    "duration": 8,
    "start_time": "2022-08-23T21:14:18.438Z"
   },
   {
    "duration": 40,
    "start_time": "2022-08-23T21:31:41.483Z"
   },
   {
    "duration": 3,
    "start_time": "2022-08-23T21:31:41.525Z"
   },
   {
    "duration": 50,
    "start_time": "2022-08-23T21:31:41.529Z"
   },
   {
    "duration": 5,
    "start_time": "2022-08-23T21:31:41.581Z"
   },
   {
    "duration": 984,
    "start_time": "2022-08-23T21:31:41.587Z"
   },
   {
    "duration": 12,
    "start_time": "2022-08-23T21:31:42.573Z"
   },
   {
    "duration": 22,
    "start_time": "2022-08-23T21:31:42.587Z"
   },
   {
    "duration": 94,
    "start_time": "2022-08-23T21:31:42.611Z"
   },
   {
    "duration": 3,
    "start_time": "2022-08-23T21:36:18.241Z"
   },
   {
    "duration": 9,
    "start_time": "2022-08-23T21:36:18.246Z"
   },
   {
    "duration": 55,
    "start_time": "2022-08-23T21:36:18.256Z"
   },
   {
    "duration": 5,
    "start_time": "2022-08-23T21:36:18.313Z"
   },
   {
    "duration": 977,
    "start_time": "2022-08-23T21:36:18.321Z"
   },
   {
    "duration": 7,
    "start_time": "2022-08-23T21:36:19.300Z"
   },
   {
    "duration": 6,
    "start_time": "2022-08-23T21:36:19.309Z"
   },
   {
    "duration": 102,
    "start_time": "2022-08-23T21:36:19.317Z"
   },
   {
    "duration": 4,
    "start_time": "2022-08-23T21:44:41.967Z"
   },
   {
    "duration": 19,
    "start_time": "2022-08-23T21:44:41.973Z"
   },
   {
    "duration": 52,
    "start_time": "2022-08-23T21:44:41.994Z"
   },
   {
    "duration": 5,
    "start_time": "2022-08-23T21:44:42.048Z"
   },
   {
    "duration": 918,
    "start_time": "2022-08-23T21:44:42.055Z"
   },
   {
    "duration": 6,
    "start_time": "2022-08-23T21:44:42.975Z"
   },
   {
    "duration": 22,
    "start_time": "2022-08-23T21:44:42.982Z"
   },
   {
    "duration": 93,
    "start_time": "2022-08-23T21:44:43.005Z"
   },
   {
    "duration": 3,
    "start_time": "2022-08-23T21:44:58.443Z"
   },
   {
    "duration": 12,
    "start_time": "2022-08-23T21:44:58.448Z"
   },
   {
    "duration": 48,
    "start_time": "2022-08-23T21:44:58.461Z"
   },
   {
    "duration": 4,
    "start_time": "2022-08-23T21:44:58.511Z"
   },
   {
    "duration": 873,
    "start_time": "2022-08-23T21:44:58.518Z"
   },
   {
    "duration": 12,
    "start_time": "2022-08-23T21:44:59.393Z"
   },
   {
    "duration": 9,
    "start_time": "2022-08-23T21:44:59.407Z"
   },
   {
    "duration": 91,
    "start_time": "2022-08-23T21:44:59.418Z"
   },
   {
    "duration": 3,
    "start_time": "2022-08-23T21:45:07.797Z"
   },
   {
    "duration": 7,
    "start_time": "2022-08-23T21:45:07.802Z"
   },
   {
    "duration": 51,
    "start_time": "2022-08-23T21:45:07.813Z"
   },
   {
    "duration": 4,
    "start_time": "2022-08-23T21:45:07.867Z"
   },
   {
    "duration": 918,
    "start_time": "2022-08-23T21:45:07.873Z"
   },
   {
    "duration": 14,
    "start_time": "2022-08-23T21:45:08.793Z"
   },
   {
    "duration": 25,
    "start_time": "2022-08-23T21:45:08.810Z"
   },
   {
    "duration": 3,
    "start_time": "2022-08-23T21:45:15.355Z"
   },
   {
    "duration": 13,
    "start_time": "2022-08-23T21:45:15.360Z"
   },
   {
    "duration": 60,
    "start_time": "2022-08-23T21:45:15.375Z"
   },
   {
    "duration": 4,
    "start_time": "2022-08-23T21:45:15.438Z"
   },
   {
    "duration": 809,
    "start_time": "2022-08-23T21:45:15.444Z"
   },
   {
    "duration": 7,
    "start_time": "2022-08-23T21:45:16.255Z"
   },
   {
    "duration": 7,
    "start_time": "2022-08-23T21:45:16.263Z"
   },
   {
    "duration": 92,
    "start_time": "2022-08-23T21:45:16.272Z"
   },
   {
    "duration": 5,
    "start_time": "2022-08-23T21:45:32.122Z"
   },
   {
    "duration": 11,
    "start_time": "2022-08-23T21:45:32.130Z"
   },
   {
    "duration": 48,
    "start_time": "2022-08-23T21:45:32.143Z"
   },
   {
    "duration": 5,
    "start_time": "2022-08-23T21:45:32.194Z"
   },
   {
    "duration": 832,
    "start_time": "2022-08-23T21:45:32.202Z"
   },
   {
    "duration": 7,
    "start_time": "2022-08-23T21:45:33.037Z"
   },
   {
    "duration": 7,
    "start_time": "2022-08-23T21:45:33.046Z"
   },
   {
    "duration": 516,
    "start_time": "2022-08-23T21:45:33.054Z"
   },
   {
    "duration": 3,
    "start_time": "2022-08-23T21:45:44.115Z"
   },
   {
    "duration": 27,
    "start_time": "2022-08-23T21:45:44.121Z"
   },
   {
    "duration": 67,
    "start_time": "2022-08-23T21:45:44.150Z"
   },
   {
    "duration": 5,
    "start_time": "2022-08-23T21:45:44.219Z"
   },
   {
    "duration": 967,
    "start_time": "2022-08-23T21:45:44.226Z"
   },
   {
    "duration": 9,
    "start_time": "2022-08-23T21:45:45.194Z"
   },
   {
    "duration": 16,
    "start_time": "2022-08-23T21:45:45.204Z"
   },
   {
    "duration": 3,
    "start_time": "2022-08-23T21:55:36.516Z"
   },
   {
    "duration": 10,
    "start_time": "2022-08-23T21:55:36.522Z"
   },
   {
    "duration": 51,
    "start_time": "2022-08-23T21:55:36.533Z"
   },
   {
    "duration": 4,
    "start_time": "2022-08-23T21:55:36.586Z"
   },
   {
    "duration": 842,
    "start_time": "2022-08-23T21:55:36.592Z"
   },
   {
    "duration": 9,
    "start_time": "2022-08-23T21:55:37.436Z"
   },
   {
    "duration": 13,
    "start_time": "2022-08-23T21:55:37.446Z"
   },
   {
    "duration": 91,
    "start_time": "2022-08-23T21:55:37.461Z"
   },
   {
    "duration": 129,
    "start_time": "2022-08-23T21:55:37.555Z"
   },
   {
    "duration": 14,
    "start_time": "2022-08-23T21:56:15.646Z"
   },
   {
    "duration": 3,
    "start_time": "2022-08-23T21:56:15.663Z"
   },
   {
    "duration": 51,
    "start_time": "2022-08-23T21:56:15.668Z"
   },
   {
    "duration": 5,
    "start_time": "2022-08-23T21:56:15.722Z"
   },
   {
    "duration": 939,
    "start_time": "2022-08-23T21:56:15.729Z"
   },
   {
    "duration": 7,
    "start_time": "2022-08-23T21:56:16.669Z"
   },
   {
    "duration": 12,
    "start_time": "2022-08-23T21:56:16.678Z"
   },
   {
    "duration": 79,
    "start_time": "2022-08-23T21:56:16.691Z"
   },
   {
    "duration": 3940,
    "start_time": "2022-08-23T21:56:16.772Z"
   },
   {
    "duration": 3,
    "start_time": "2022-08-23T21:56:52.744Z"
   },
   {
    "duration": 6,
    "start_time": "2022-08-23T21:56:52.749Z"
   },
   {
    "duration": 45,
    "start_time": "2022-08-23T21:56:52.757Z"
   },
   {
    "duration": 4,
    "start_time": "2022-08-23T21:56:52.805Z"
   },
   {
    "duration": 816,
    "start_time": "2022-08-23T21:56:52.811Z"
   },
   {
    "duration": 6,
    "start_time": "2022-08-23T21:56:53.629Z"
   },
   {
    "duration": 7,
    "start_time": "2022-08-23T21:56:53.637Z"
   },
   {
    "duration": 88,
    "start_time": "2022-08-23T21:56:53.646Z"
   },
   {
    "duration": 11607,
    "start_time": "2022-08-23T21:56:53.736Z"
   },
   {
    "duration": 4,
    "start_time": "2022-08-23T21:57:48.661Z"
   },
   {
    "duration": 8,
    "start_time": "2022-08-23T21:57:48.668Z"
   },
   {
    "duration": 60,
    "start_time": "2022-08-23T21:57:48.678Z"
   },
   {
    "duration": 4,
    "start_time": "2022-08-23T21:57:48.740Z"
   },
   {
    "duration": 966,
    "start_time": "2022-08-23T21:57:48.746Z"
   },
   {
    "duration": 7,
    "start_time": "2022-08-23T21:57:49.714Z"
   },
   {
    "duration": 7,
    "start_time": "2022-08-23T21:57:49.723Z"
   },
   {
    "duration": 94,
    "start_time": "2022-08-23T21:57:49.732Z"
   },
   {
    "duration": 7262,
    "start_time": "2022-08-23T21:57:49.828Z"
   },
   {
    "duration": 4,
    "start_time": "2022-08-23T21:58:35.527Z"
   },
   {
    "duration": 23,
    "start_time": "2022-08-23T21:58:35.533Z"
   },
   {
    "duration": 52,
    "start_time": "2022-08-23T21:58:35.558Z"
   },
   {
    "duration": 5,
    "start_time": "2022-08-23T21:58:35.612Z"
   },
   {
    "duration": 810,
    "start_time": "2022-08-23T21:58:35.618Z"
   },
   {
    "duration": 8,
    "start_time": "2022-08-23T21:58:36.430Z"
   },
   {
    "duration": 7,
    "start_time": "2022-08-23T21:58:36.439Z"
   },
   {
    "duration": 91,
    "start_time": "2022-08-23T21:58:36.447Z"
   },
   {
    "duration": 10157,
    "start_time": "2022-08-23T21:58:36.540Z"
   },
   {
    "duration": 4,
    "start_time": "2022-08-23T22:05:20.883Z"
   },
   {
    "duration": 7,
    "start_time": "2022-08-23T22:05:20.889Z"
   },
   {
    "duration": 51,
    "start_time": "2022-08-23T22:05:20.897Z"
   },
   {
    "duration": 4,
    "start_time": "2022-08-23T22:05:20.950Z"
   },
   {
    "duration": 909,
    "start_time": "2022-08-23T22:05:20.955Z"
   },
   {
    "duration": 6,
    "start_time": "2022-08-23T22:05:21.866Z"
   },
   {
    "duration": 7,
    "start_time": "2022-08-23T22:05:21.873Z"
   },
   {
    "duration": 86,
    "start_time": "2022-08-23T22:05:21.881Z"
   },
   {
    "duration": 3820,
    "start_time": "2022-08-23T22:05:21.970Z"
   },
   {
    "duration": 33,
    "start_time": "2022-08-23T22:05:25.792Z"
   },
   {
    "duration": 3,
    "start_time": "2022-08-23T22:29:27.864Z"
   },
   {
    "duration": 10,
    "start_time": "2022-08-23T22:29:27.869Z"
   },
   {
    "duration": 45,
    "start_time": "2022-08-23T22:29:27.897Z"
   },
   {
    "duration": 5,
    "start_time": "2022-08-23T22:29:27.944Z"
   },
   {
    "duration": 841,
    "start_time": "2022-08-23T22:29:27.951Z"
   },
   {
    "duration": 12,
    "start_time": "2022-08-23T22:29:28.794Z"
   },
   {
    "duration": 9,
    "start_time": "2022-08-23T22:29:28.808Z"
   },
   {
    "duration": 88,
    "start_time": "2022-08-23T22:29:28.819Z"
   },
   {
    "duration": 3865,
    "start_time": "2022-08-23T22:29:28.909Z"
   },
   {
    "duration": 37,
    "start_time": "2022-08-23T22:29:32.776Z"
   },
   {
    "duration": 46,
    "start_time": "2022-08-23T22:29:32.815Z"
   },
   {
    "duration": 3,
    "start_time": "2022-08-23T22:31:13.916Z"
   },
   {
    "duration": 8,
    "start_time": "2022-08-23T22:31:13.921Z"
   },
   {
    "duration": 47,
    "start_time": "2022-08-23T22:31:13.930Z"
   },
   {
    "duration": 5,
    "start_time": "2022-08-23T22:31:13.979Z"
   },
   {
    "duration": 917,
    "start_time": "2022-08-23T22:31:13.986Z"
   },
   {
    "duration": 7,
    "start_time": "2022-08-23T22:31:14.905Z"
   },
   {
    "duration": 12,
    "start_time": "2022-08-23T22:31:14.913Z"
   },
   {
    "duration": 70,
    "start_time": "2022-08-23T22:31:14.927Z"
   },
   {
    "duration": 3932,
    "start_time": "2022-08-23T22:31:14.999Z"
   },
   {
    "duration": 34,
    "start_time": "2022-08-23T22:31:18.933Z"
   },
   {
    "duration": 207,
    "start_time": "2022-08-23T22:31:18.970Z"
   },
   {
    "duration": 3,
    "start_time": "2022-08-23T22:31:37.842Z"
   },
   {
    "duration": 7,
    "start_time": "2022-08-23T22:31:37.848Z"
   },
   {
    "duration": 48,
    "start_time": "2022-08-23T22:31:37.856Z"
   },
   {
    "duration": 5,
    "start_time": "2022-08-23T22:31:37.906Z"
   },
   {
    "duration": 815,
    "start_time": "2022-08-23T22:31:37.913Z"
   },
   {
    "duration": 6,
    "start_time": "2022-08-23T22:31:38.730Z"
   },
   {
    "duration": 9,
    "start_time": "2022-08-23T22:31:38.738Z"
   },
   {
    "duration": 85,
    "start_time": "2022-08-23T22:31:38.748Z"
   },
   {
    "duration": 4005,
    "start_time": "2022-08-23T22:31:38.836Z"
   },
   {
    "duration": 26,
    "start_time": "2022-08-23T22:31:42.842Z"
   },
   {
    "duration": 184,
    "start_time": "2022-08-23T22:31:42.870Z"
   },
   {
    "duration": 3,
    "start_time": "2022-08-23T23:11:38.598Z"
   },
   {
    "duration": 7,
    "start_time": "2022-08-23T23:11:38.604Z"
   },
   {
    "duration": 49,
    "start_time": "2022-08-23T23:11:38.613Z"
   },
   {
    "duration": 4,
    "start_time": "2022-08-23T23:11:38.663Z"
   },
   {
    "duration": 861,
    "start_time": "2022-08-23T23:11:38.669Z"
   },
   {
    "duration": 7,
    "start_time": "2022-08-23T23:11:39.533Z"
   },
   {
    "duration": 11,
    "start_time": "2022-08-23T23:11:39.542Z"
   },
   {
    "duration": 216,
    "start_time": "2022-08-23T23:11:39.555Z"
   },
   {
    "duration": 192,
    "start_time": "2022-08-23T23:12:45.289Z"
   },
   {
    "duration": 181,
    "start_time": "2022-08-23T23:16:25.468Z"
   },
   {
    "duration": 4,
    "start_time": "2022-08-23T23:17:43.073Z"
   },
   {
    "duration": 6,
    "start_time": "2022-08-23T23:17:43.079Z"
   },
   {
    "duration": 55,
    "start_time": "2022-08-23T23:17:43.087Z"
   },
   {
    "duration": 5,
    "start_time": "2022-08-23T23:17:43.143Z"
   },
   {
    "duration": 908,
    "start_time": "2022-08-23T23:17:43.151Z"
   },
   {
    "duration": 7,
    "start_time": "2022-08-23T23:17:44.061Z"
   },
   {
    "duration": 6,
    "start_time": "2022-08-23T23:17:44.069Z"
   },
   {
    "duration": 215,
    "start_time": "2022-08-23T23:17:44.076Z"
   },
   {
    "duration": 11810,
    "start_time": "2022-08-23T23:17:44.294Z"
   },
   {
    "duration": 4,
    "start_time": "2022-08-23T23:19:14.765Z"
   },
   {
    "duration": 12,
    "start_time": "2022-08-23T23:19:14.771Z"
   },
   {
    "duration": 48,
    "start_time": "2022-08-23T23:19:14.785Z"
   },
   {
    "duration": 4,
    "start_time": "2022-08-23T23:19:14.835Z"
   },
   {
    "duration": 803,
    "start_time": "2022-08-23T23:19:14.841Z"
   },
   {
    "duration": 5,
    "start_time": "2022-08-23T23:19:15.646Z"
   },
   {
    "duration": 15,
    "start_time": "2022-08-23T23:19:15.653Z"
   },
   {
    "duration": 171,
    "start_time": "2022-08-23T23:19:15.669Z"
   },
   {
    "duration": 3,
    "start_time": "2022-08-23T23:19:29.970Z"
   },
   {
    "duration": 7,
    "start_time": "2022-08-23T23:19:29.975Z"
   },
   {
    "duration": 64,
    "start_time": "2022-08-23T23:19:29.983Z"
   },
   {
    "duration": 3,
    "start_time": "2022-08-23T23:19:30.049Z"
   },
   {
    "duration": 899,
    "start_time": "2022-08-23T23:19:30.054Z"
   },
   {
    "duration": 7,
    "start_time": "2022-08-23T23:19:30.955Z"
   },
   {
    "duration": 9,
    "start_time": "2022-08-23T23:19:30.963Z"
   },
   {
    "duration": 152,
    "start_time": "2022-08-23T23:19:30.973Z"
   },
   {
    "duration": 7644,
    "start_time": "2022-08-23T23:19:31.127Z"
   },
   {
    "duration": 4,
    "start_time": "2022-08-23T23:21:54.345Z"
   },
   {
    "duration": 9,
    "start_time": "2022-08-23T23:21:54.351Z"
   },
   {
    "duration": 69,
    "start_time": "2022-08-23T23:21:54.362Z"
   },
   {
    "duration": 4,
    "start_time": "2022-08-23T23:21:54.433Z"
   },
   {
    "duration": 802,
    "start_time": "2022-08-23T23:21:54.438Z"
   },
   {
    "duration": 5,
    "start_time": "2022-08-23T23:21:55.243Z"
   },
   {
    "duration": 7,
    "start_time": "2022-08-23T23:21:55.250Z"
   },
   {
    "duration": 153,
    "start_time": "2022-08-23T23:21:55.259Z"
   },
   {
    "duration": 7869,
    "start_time": "2022-08-23T23:21:55.415Z"
   },
   {
    "duration": 33,
    "start_time": "2022-08-23T23:22:03.286Z"
   },
   {
    "duration": 132,
    "start_time": "2022-08-23T23:22:03.321Z"
   },
   {
    "duration": 10,
    "start_time": "2022-08-23T23:28:13.334Z"
   },
   {
    "duration": 4,
    "start_time": "2022-08-23T23:28:21.319Z"
   },
   {
    "duration": 24,
    "start_time": "2022-08-23T23:28:21.325Z"
   },
   {
    "duration": 71,
    "start_time": "2022-08-23T23:28:21.350Z"
   },
   {
    "duration": 4,
    "start_time": "2022-08-23T23:28:21.423Z"
   },
   {
    "duration": 895,
    "start_time": "2022-08-23T23:28:21.429Z"
   },
   {
    "duration": 7,
    "start_time": "2022-08-23T23:28:22.325Z"
   },
   {
    "duration": 19,
    "start_time": "2022-08-23T23:28:22.333Z"
   },
   {
    "duration": 150,
    "start_time": "2022-08-23T23:28:22.353Z"
   },
   {
    "duration": 7701,
    "start_time": "2022-08-23T23:28:22.506Z"
   },
   {
    "duration": 26,
    "start_time": "2022-08-23T23:28:30.209Z"
   },
   {
    "duration": 178,
    "start_time": "2022-08-23T23:28:30.237Z"
   },
   {
    "duration": 4,
    "start_time": "2022-08-23T23:28:41.462Z"
   },
   {
    "duration": 7,
    "start_time": "2022-08-23T23:28:41.468Z"
   },
   {
    "duration": 52,
    "start_time": "2022-08-23T23:28:41.476Z"
   },
   {
    "duration": 5,
    "start_time": "2022-08-23T23:28:41.530Z"
   },
   {
    "duration": 829,
    "start_time": "2022-08-23T23:28:41.537Z"
   },
   {
    "duration": 7,
    "start_time": "2022-08-23T23:28:42.368Z"
   },
   {
    "duration": 27,
    "start_time": "2022-08-23T23:28:42.376Z"
   },
   {
    "duration": 141,
    "start_time": "2022-08-23T23:28:42.405Z"
   },
   {
    "duration": 7985,
    "start_time": "2022-08-23T23:28:42.548Z"
   },
   {
    "duration": 27,
    "start_time": "2022-08-23T23:28:50.535Z"
   },
   {
    "duration": 13,
    "start_time": "2022-08-23T23:28:50.564Z"
   },
   {
    "duration": 4,
    "start_time": "2022-08-23T23:30:51.848Z"
   },
   {
    "duration": 8,
    "start_time": "2022-08-23T23:30:51.854Z"
   },
   {
    "duration": 49,
    "start_time": "2022-08-23T23:30:51.864Z"
   },
   {
    "duration": 5,
    "start_time": "2022-08-23T23:30:51.915Z"
   },
   {
    "duration": 816,
    "start_time": "2022-08-23T23:30:51.922Z"
   },
   {
    "duration": 6,
    "start_time": "2022-08-23T23:30:52.740Z"
   },
   {
    "duration": 8,
    "start_time": "2022-08-23T23:30:52.748Z"
   },
   {
    "duration": 150,
    "start_time": "2022-08-23T23:30:52.758Z"
   },
   {
    "duration": 7717,
    "start_time": "2022-08-23T23:30:52.910Z"
   },
   {
    "duration": 26,
    "start_time": "2022-08-23T23:31:00.628Z"
   },
   {
    "duration": 168,
    "start_time": "2022-08-23T23:31:00.655Z"
   },
   {
    "duration": 4,
    "start_time": "2022-08-23T23:31:46.667Z"
   },
   {
    "duration": 13,
    "start_time": "2022-08-23T23:31:46.674Z"
   },
   {
    "duration": 54,
    "start_time": "2022-08-23T23:31:46.688Z"
   },
   {
    "duration": 5,
    "start_time": "2022-08-23T23:31:46.743Z"
   },
   {
    "duration": 903,
    "start_time": "2022-08-23T23:31:46.750Z"
   },
   {
    "duration": 6,
    "start_time": "2022-08-23T23:31:47.655Z"
   },
   {
    "duration": 9,
    "start_time": "2022-08-23T23:31:47.662Z"
   },
   {
    "duration": 148,
    "start_time": "2022-08-23T23:31:47.673Z"
   },
   {
    "duration": 7719,
    "start_time": "2022-08-23T23:31:47.823Z"
   },
   {
    "duration": 27,
    "start_time": "2022-08-23T23:31:55.543Z"
   },
   {
    "duration": 4,
    "start_time": "2022-08-23T23:31:55.572Z"
   },
   {
    "duration": 3,
    "start_time": "2022-08-23T23:33:31.673Z"
   },
   {
    "duration": 28,
    "start_time": "2022-08-23T23:33:31.678Z"
   },
   {
    "duration": 73,
    "start_time": "2022-08-23T23:33:31.708Z"
   },
   {
    "duration": 5,
    "start_time": "2022-08-23T23:33:31.783Z"
   },
   {
    "duration": 796,
    "start_time": "2022-08-23T23:33:31.789Z"
   },
   {
    "duration": 14,
    "start_time": "2022-08-23T23:33:32.588Z"
   },
   {
    "duration": 6,
    "start_time": "2022-08-23T23:33:32.604Z"
   },
   {
    "duration": 137,
    "start_time": "2022-08-23T23:33:32.612Z"
   },
   {
    "duration": 7642,
    "start_time": "2022-08-23T23:33:32.752Z"
   },
   {
    "duration": 29,
    "start_time": "2022-08-23T23:33:40.402Z"
   },
   {
    "duration": 152,
    "start_time": "2022-08-23T23:33:40.433Z"
   },
   {
    "duration": 4,
    "start_time": "2022-08-23T23:35:17.215Z"
   },
   {
    "duration": 19,
    "start_time": "2022-08-23T23:35:17.222Z"
   },
   {
    "duration": 56,
    "start_time": "2022-08-23T23:35:17.243Z"
   },
   {
    "duration": 5,
    "start_time": "2022-08-23T23:35:17.301Z"
   },
   {
    "duration": 939,
    "start_time": "2022-08-23T23:35:17.307Z"
   },
   {
    "duration": 7,
    "start_time": "2022-08-23T23:35:18.248Z"
   },
   {
    "duration": 10,
    "start_time": "2022-08-23T23:35:18.257Z"
   },
   {
    "duration": 160,
    "start_time": "2022-08-23T23:35:18.269Z"
   },
   {
    "duration": 7714,
    "start_time": "2022-08-23T23:35:18.430Z"
   },
   {
    "duration": 26,
    "start_time": "2022-08-23T23:35:26.147Z"
   },
   {
    "duration": 218,
    "start_time": "2022-08-23T23:35:26.174Z"
   },
   {
    "duration": 197,
    "start_time": "2022-08-23T23:36:08.210Z"
   },
   {
    "duration": 152,
    "start_time": "2022-08-23T23:36:15.040Z"
   },
   {
    "duration": 142,
    "start_time": "2022-08-23T23:36:25.843Z"
   },
   {
    "duration": 25,
    "start_time": "2022-08-23T23:37:01.035Z"
   },
   {
    "duration": 3,
    "start_time": "2022-08-23T23:38:47.964Z"
   },
   {
    "duration": 5,
    "start_time": "2022-08-23T23:38:47.969Z"
   },
   {
    "duration": 50,
    "start_time": "2022-08-23T23:38:47.976Z"
   },
   {
    "duration": 4,
    "start_time": "2022-08-23T23:38:48.028Z"
   },
   {
    "duration": 940,
    "start_time": "2022-08-23T23:38:48.034Z"
   },
   {
    "duration": 7,
    "start_time": "2022-08-23T23:38:48.976Z"
   },
   {
    "duration": 19,
    "start_time": "2022-08-23T23:38:48.984Z"
   },
   {
    "duration": 153,
    "start_time": "2022-08-23T23:38:49.005Z"
   },
   {
    "duration": 7827,
    "start_time": "2022-08-23T23:38:49.159Z"
   },
   {
    "duration": 34,
    "start_time": "2022-08-23T23:38:56.988Z"
   },
   {
    "duration": 168,
    "start_time": "2022-08-23T23:38:57.024Z"
   },
   {
    "duration": 4,
    "start_time": "2022-08-23T23:40:32.497Z"
   },
   {
    "duration": 8,
    "start_time": "2022-08-23T23:40:32.503Z"
   },
   {
    "duration": 53,
    "start_time": "2022-08-23T23:40:32.512Z"
   },
   {
    "duration": 4,
    "start_time": "2022-08-23T23:40:32.567Z"
   },
   {
    "duration": 765,
    "start_time": "2022-08-23T23:40:32.573Z"
   },
   {
    "duration": 7,
    "start_time": "2022-08-23T23:40:33.339Z"
   },
   {
    "duration": 7,
    "start_time": "2022-08-23T23:40:33.348Z"
   },
   {
    "duration": 153,
    "start_time": "2022-08-23T23:40:33.357Z"
   },
   {
    "duration": 7662,
    "start_time": "2022-08-23T23:40:33.513Z"
   },
   {
    "duration": 37,
    "start_time": "2022-08-23T23:40:41.177Z"
   },
   {
    "duration": 171,
    "start_time": "2022-08-23T23:40:41.216Z"
   },
   {
    "duration": 888,
    "start_time": "2022-08-23T23:42:35.887Z"
   },
   {
    "duration": 5,
    "start_time": "2022-08-23T23:43:06.281Z"
   },
   {
    "duration": 278,
    "start_time": "2022-08-23T23:43:13.727Z"
   },
   {
    "duration": 155,
    "start_time": "2022-08-23T23:44:17.645Z"
   },
   {
    "duration": 4,
    "start_time": "2022-08-23T23:44:27.601Z"
   },
   {
    "duration": 7,
    "start_time": "2022-08-23T23:44:27.607Z"
   },
   {
    "duration": 50,
    "start_time": "2022-08-23T23:44:27.615Z"
   },
   {
    "duration": 4,
    "start_time": "2022-08-23T23:44:27.667Z"
   },
   {
    "duration": 799,
    "start_time": "2022-08-23T23:44:27.673Z"
   },
   {
    "duration": 8,
    "start_time": "2022-08-23T23:44:28.474Z"
   },
   {
    "duration": 23,
    "start_time": "2022-08-23T23:44:28.483Z"
   },
   {
    "duration": 148,
    "start_time": "2022-08-23T23:44:28.507Z"
   },
   {
    "duration": 7606,
    "start_time": "2022-08-23T23:44:28.657Z"
   },
   {
    "duration": 26,
    "start_time": "2022-08-23T23:44:36.265Z"
   },
   {
    "duration": 160,
    "start_time": "2022-08-23T23:44:36.302Z"
   },
   {
    "duration": 147,
    "start_time": "2022-08-23T23:44:44.177Z"
   },
   {
    "duration": 155,
    "start_time": "2022-08-23T23:45:00.779Z"
   },
   {
    "duration": 3,
    "start_time": "2022-08-23T23:46:01.350Z"
   },
   {
    "duration": 10,
    "start_time": "2022-08-23T23:46:01.355Z"
   },
   {
    "duration": 48,
    "start_time": "2022-08-23T23:46:01.367Z"
   },
   {
    "duration": 5,
    "start_time": "2022-08-23T23:46:01.418Z"
   },
   {
    "duration": 927,
    "start_time": "2022-08-23T23:46:01.425Z"
   },
   {
    "duration": 8,
    "start_time": "2022-08-23T23:46:02.354Z"
   },
   {
    "duration": 14,
    "start_time": "2022-08-23T23:46:02.364Z"
   },
   {
    "duration": 159,
    "start_time": "2022-08-23T23:46:02.380Z"
   },
   {
    "duration": 7741,
    "start_time": "2022-08-23T23:46:02.542Z"
   },
   {
    "duration": 37,
    "start_time": "2022-08-23T23:46:10.286Z"
   },
   {
    "duration": 163,
    "start_time": "2022-08-23T23:46:10.324Z"
   },
   {
    "duration": 120,
    "start_time": "2022-08-23T23:49:28.560Z"
   },
   {
    "duration": 1346,
    "start_time": "2022-08-23T23:51:44.114Z"
   },
   {
    "duration": 3,
    "start_time": "2022-08-23T23:51:45.463Z"
   },
   {
    "duration": 65,
    "start_time": "2022-08-23T23:51:45.468Z"
   },
   {
    "duration": 4,
    "start_time": "2022-08-23T23:51:45.535Z"
   },
   {
    "duration": 843,
    "start_time": "2022-08-23T23:51:45.540Z"
   },
   {
    "duration": 7,
    "start_time": "2022-08-23T23:51:46.384Z"
   },
   {
    "duration": 54,
    "start_time": "2022-08-23T23:51:46.392Z"
   },
   {
    "duration": 224,
    "start_time": "2022-08-23T23:51:46.448Z"
   },
   {
    "duration": 7620,
    "start_time": "2022-08-23T23:51:46.674Z"
   },
   {
    "duration": 25,
    "start_time": "2022-08-23T23:51:54.302Z"
   },
   {
    "duration": 177,
    "start_time": "2022-08-23T23:51:54.329Z"
   },
   {
    "duration": 128,
    "start_time": "2022-08-23T23:51:54.508Z"
   },
   {
    "duration": 4,
    "start_time": "2022-08-24T00:01:52.991Z"
   },
   {
    "duration": 16,
    "start_time": "2022-08-24T00:01:52.997Z"
   },
   {
    "duration": 58,
    "start_time": "2022-08-24T00:01:53.015Z"
   },
   {
    "duration": 4,
    "start_time": "2022-08-24T00:01:53.075Z"
   },
   {
    "duration": 776,
    "start_time": "2022-08-24T00:01:53.082Z"
   },
   {
    "duration": 6,
    "start_time": "2022-08-24T00:01:53.860Z"
   },
   {
    "duration": 7,
    "start_time": "2022-08-24T00:01:53.868Z"
   },
   {
    "duration": 153,
    "start_time": "2022-08-24T00:01:53.876Z"
   },
   {
    "duration": 7753,
    "start_time": "2022-08-24T00:01:54.030Z"
   },
   {
    "duration": 37,
    "start_time": "2022-08-24T00:02:01.784Z"
   },
   {
    "duration": 166,
    "start_time": "2022-08-24T00:02:01.822Z"
   },
   {
    "duration": 142,
    "start_time": "2022-08-24T00:02:01.990Z"
   },
   {
    "duration": 1482,
    "start_time": "2022-08-24T00:02:26.651Z"
   },
   {
    "duration": 3,
    "start_time": "2022-08-24T00:02:28.135Z"
   },
   {
    "duration": 82,
    "start_time": "2022-08-24T00:02:28.139Z"
   },
   {
    "duration": 5,
    "start_time": "2022-08-24T00:02:28.223Z"
   },
   {
    "duration": 866,
    "start_time": "2022-08-24T00:02:28.229Z"
   },
   {
    "duration": 6,
    "start_time": "2022-08-24T00:02:29.103Z"
   },
   {
    "duration": 32,
    "start_time": "2022-08-24T00:02:29.111Z"
   },
   {
    "duration": 220,
    "start_time": "2022-08-24T00:02:29.145Z"
   },
   {
    "duration": 7673,
    "start_time": "2022-08-24T00:02:29.366Z"
   },
   {
    "duration": 26,
    "start_time": "2022-08-24T00:02:37.041Z"
   },
   {
    "duration": 172,
    "start_time": "2022-08-24T00:02:37.069Z"
   },
   {
    "duration": 131,
    "start_time": "2022-08-24T00:02:37.243Z"
   },
   {
    "duration": 64,
    "start_time": "2022-08-24T00:07:15.908Z"
   },
   {
    "duration": 59,
    "start_time": "2022-08-24T00:07:24.620Z"
   },
   {
    "duration": 116,
    "start_time": "2022-08-24T00:07:46.454Z"
   },
   {
    "duration": 1331,
    "start_time": "2022-08-24T00:08:09.629Z"
   },
   {
    "duration": 3,
    "start_time": "2022-08-24T00:08:10.962Z"
   },
   {
    "duration": 56,
    "start_time": "2022-08-24T00:08:10.966Z"
   },
   {
    "duration": 4,
    "start_time": "2022-08-24T00:08:11.024Z"
   },
   {
    "duration": 828,
    "start_time": "2022-08-24T00:08:11.030Z"
   },
   {
    "duration": 6,
    "start_time": "2022-08-24T00:08:11.860Z"
   },
   {
    "duration": 27,
    "start_time": "2022-08-24T00:08:11.868Z"
   },
   {
    "duration": 228,
    "start_time": "2022-08-24T00:08:11.897Z"
   },
   {
    "duration": 7606,
    "start_time": "2022-08-24T00:08:12.126Z"
   },
   {
    "duration": 26,
    "start_time": "2022-08-24T00:08:19.734Z"
   },
   {
    "duration": 171,
    "start_time": "2022-08-24T00:08:19.762Z"
   },
   {
    "duration": 136,
    "start_time": "2022-08-24T00:08:19.934Z"
   },
   {
    "duration": 4,
    "start_time": "2022-08-24T00:09:40.060Z"
   },
   {
    "duration": 11,
    "start_time": "2022-08-24T00:09:40.067Z"
   },
   {
    "duration": 57,
    "start_time": "2022-08-24T00:09:40.080Z"
   },
   {
    "duration": 4,
    "start_time": "2022-08-24T00:09:40.139Z"
   },
   {
    "duration": 803,
    "start_time": "2022-08-24T00:09:40.146Z"
   },
   {
    "duration": 7,
    "start_time": "2022-08-24T00:09:40.951Z"
   },
   {
    "duration": 14,
    "start_time": "2022-08-24T00:09:40.959Z"
   },
   {
    "duration": 151,
    "start_time": "2022-08-24T00:09:40.974Z"
   },
   {
    "duration": 7625,
    "start_time": "2022-08-24T00:09:41.127Z"
   },
   {
    "duration": 28,
    "start_time": "2022-08-24T00:09:48.753Z"
   },
   {
    "duration": 206,
    "start_time": "2022-08-24T00:09:48.782Z"
   },
   {
    "duration": 131,
    "start_time": "2022-08-24T00:09:48.989Z"
   },
   {
    "duration": 3,
    "start_time": "2022-08-24T00:22:49.873Z"
   },
   {
    "duration": 7,
    "start_time": "2022-08-24T00:22:49.878Z"
   },
   {
    "duration": 45,
    "start_time": "2022-08-24T00:22:49.888Z"
   },
   {
    "duration": 5,
    "start_time": "2022-08-24T00:22:49.934Z"
   },
   {
    "duration": 911,
    "start_time": "2022-08-24T00:22:49.941Z"
   },
   {
    "duration": 6,
    "start_time": "2022-08-24T00:22:50.854Z"
   },
   {
    "duration": 6,
    "start_time": "2022-08-24T00:22:50.862Z"
   },
   {
    "duration": 149,
    "start_time": "2022-08-24T00:22:50.869Z"
   },
   {
    "duration": 7792,
    "start_time": "2022-08-24T00:22:51.020Z"
   },
   {
    "duration": 25,
    "start_time": "2022-08-24T00:22:58.814Z"
   },
   {
    "duration": 189,
    "start_time": "2022-08-24T00:22:58.842Z"
   },
   {
    "duration": 127,
    "start_time": "2022-08-24T00:22:59.032Z"
   },
   {
    "duration": 139,
    "start_time": "2022-08-24T00:22:59.160Z"
   },
   {
    "duration": 128,
    "start_time": "2022-08-24T00:23:39.207Z"
   },
   {
    "duration": 132,
    "start_time": "2022-08-24T00:27:46.221Z"
   },
   {
    "duration": 131,
    "start_time": "2022-08-24T00:28:13.001Z"
   },
   {
    "duration": 127,
    "start_time": "2022-08-24T00:29:30.492Z"
   },
   {
    "duration": 127,
    "start_time": "2022-08-24T00:29:35.695Z"
   },
   {
    "duration": 166,
    "start_time": "2022-08-24T00:34:33.553Z"
   },
   {
    "duration": 1040,
    "start_time": "2022-08-24T00:34:59.581Z"
   },
   {
    "duration": 170,
    "start_time": "2022-08-24T00:35:10.763Z"
   },
   {
    "duration": 170,
    "start_time": "2022-08-24T00:35:26.115Z"
   },
   {
    "duration": 170,
    "start_time": "2022-08-24T00:35:37.956Z"
   },
   {
    "duration": 63,
    "start_time": "2022-08-24T00:35:48.611Z"
   },
   {
    "duration": 54,
    "start_time": "2022-08-24T00:35:57.475Z"
   },
   {
    "duration": 165,
    "start_time": "2022-08-24T00:36:01.041Z"
   },
   {
    "duration": 171,
    "start_time": "2022-08-24T00:36:08.475Z"
   },
   {
    "duration": 171,
    "start_time": "2022-08-24T00:41:02.694Z"
   },
   {
    "duration": 175,
    "start_time": "2022-08-24T00:43:05.606Z"
   },
   {
    "duration": 3,
    "start_time": "2022-08-24T00:43:13.785Z"
   },
   {
    "duration": 8,
    "start_time": "2022-08-24T00:43:13.790Z"
   },
   {
    "duration": 54,
    "start_time": "2022-08-24T00:43:13.799Z"
   },
   {
    "duration": 4,
    "start_time": "2022-08-24T00:43:13.855Z"
   },
   {
    "duration": 782,
    "start_time": "2022-08-24T00:43:13.862Z"
   },
   {
    "duration": 7,
    "start_time": "2022-08-24T00:43:14.646Z"
   },
   {
    "duration": 11,
    "start_time": "2022-08-24T00:43:14.654Z"
   },
   {
    "duration": 146,
    "start_time": "2022-08-24T00:43:14.667Z"
   },
   {
    "duration": 3,
    "start_time": "2022-08-24T00:43:22.862Z"
   },
   {
    "duration": 6,
    "start_time": "2022-08-24T00:43:22.867Z"
   },
   {
    "duration": 46,
    "start_time": "2022-08-24T00:43:22.874Z"
   },
   {
    "duration": 4,
    "start_time": "2022-08-24T00:43:22.922Z"
   },
   {
    "duration": 783,
    "start_time": "2022-08-24T00:43:22.928Z"
   },
   {
    "duration": 8,
    "start_time": "2022-08-24T00:43:23.713Z"
   },
   {
    "duration": 8,
    "start_time": "2022-08-24T00:43:23.722Z"
   },
   {
    "duration": 146,
    "start_time": "2022-08-24T00:43:23.731Z"
   },
   {
    "duration": 7585,
    "start_time": "2022-08-24T00:43:23.879Z"
   },
   {
    "duration": 44,
    "start_time": "2022-08-24T00:43:31.466Z"
   },
   {
    "duration": 158,
    "start_time": "2022-08-24T00:43:31.512Z"
   },
   {
    "duration": 131,
    "start_time": "2022-08-24T00:43:31.671Z"
   },
   {
    "duration": 198,
    "start_time": "2022-08-24T00:43:31.804Z"
   },
   {
    "duration": 181,
    "start_time": "2022-08-24T00:44:00.892Z"
   },
   {
    "duration": 185,
    "start_time": "2022-08-24T00:45:32.811Z"
   },
   {
    "duration": 180,
    "start_time": "2022-08-24T00:46:56.175Z"
   },
   {
    "duration": 192,
    "start_time": "2022-08-24T00:47:29.496Z"
   },
   {
    "duration": 179,
    "start_time": "2022-08-24T00:48:12.315Z"
   },
   {
    "duration": 62,
    "start_time": "2022-08-24T00:50:31.172Z"
   },
   {
    "duration": 179,
    "start_time": "2022-08-24T00:50:57.066Z"
   },
   {
    "duration": 262,
    "start_time": "2022-08-24T00:55:19.126Z"
   },
   {
    "duration": 1101,
    "start_time": "2022-08-24T00:55:31.150Z"
   },
   {
    "duration": 3,
    "start_time": "2022-08-24T00:55:32.253Z"
   },
   {
    "duration": 55,
    "start_time": "2022-08-24T00:55:32.257Z"
   },
   {
    "duration": 4,
    "start_time": "2022-08-24T00:55:32.315Z"
   },
   {
    "duration": 797,
    "start_time": "2022-08-24T00:55:32.321Z"
   },
   {
    "duration": 8,
    "start_time": "2022-08-24T00:55:33.120Z"
   },
   {
    "duration": 33,
    "start_time": "2022-08-24T00:55:33.130Z"
   },
   {
    "duration": 213,
    "start_time": "2022-08-24T00:55:33.165Z"
   },
   {
    "duration": 7549,
    "start_time": "2022-08-24T00:55:33.380Z"
   },
   {
    "duration": 27,
    "start_time": "2022-08-24T00:55:40.932Z"
   },
   {
    "duration": 177,
    "start_time": "2022-08-24T00:55:40.962Z"
   },
   {
    "duration": 139,
    "start_time": "2022-08-24T00:55:41.141Z"
   },
   {
    "duration": 303,
    "start_time": "2022-08-24T00:56:19.922Z"
   },
   {
    "duration": 328,
    "start_time": "2022-08-24T00:56:28.603Z"
   },
   {
    "duration": 175,
    "start_time": "2022-08-24T00:59:55.241Z"
   },
   {
    "duration": 170,
    "start_time": "2022-08-24T01:01:42.817Z"
   },
   {
    "duration": 1313,
    "start_time": "2022-08-24T01:04:02.053Z"
   },
   {
    "duration": 3,
    "start_time": "2022-08-24T01:04:03.368Z"
   },
   {
    "duration": 57,
    "start_time": "2022-08-24T01:04:03.373Z"
   },
   {
    "duration": 4,
    "start_time": "2022-08-24T01:04:03.432Z"
   },
   {
    "duration": 842,
    "start_time": "2022-08-24T01:04:03.438Z"
   },
   {
    "duration": 6,
    "start_time": "2022-08-24T01:04:04.282Z"
   },
   {
    "duration": 29,
    "start_time": "2022-08-24T01:04:04.302Z"
   },
   {
    "duration": 217,
    "start_time": "2022-08-24T01:04:04.333Z"
   },
   {
    "duration": 7709,
    "start_time": "2022-08-24T01:04:04.552Z"
   },
   {
    "duration": 26,
    "start_time": "2022-08-24T01:04:12.263Z"
   },
   {
    "duration": 173,
    "start_time": "2022-08-24T01:04:12.303Z"
   },
   {
    "duration": 137,
    "start_time": "2022-08-24T01:04:12.478Z"
   },
   {
    "duration": 192,
    "start_time": "2022-08-24T01:04:12.617Z"
   },
   {
    "duration": 38764,
    "start_time": "2022-08-24T01:04:12.811Z"
   },
   {
    "duration": 111,
    "start_time": "2022-08-24T01:05:29.023Z"
   },
   {
    "duration": 117,
    "start_time": "2022-08-24T01:05:44.418Z"
   },
   {
    "duration": 120,
    "start_time": "2022-08-24T01:06:00.364Z"
   },
   {
    "duration": 118,
    "start_time": "2022-08-24T01:06:07.917Z"
   },
   {
    "duration": 239,
    "start_time": "2022-08-24T01:07:28.689Z"
   },
   {
    "duration": 118,
    "start_time": "2022-08-24T01:07:42.625Z"
   },
   {
    "duration": 4648,
    "start_time": "2022-08-24T01:07:54.500Z"
   },
   {
    "duration": 13,
    "start_time": "2022-08-24T01:08:26.066Z"
   },
   {
    "duration": 359,
    "start_time": "2022-08-24T01:08:53.597Z"
   },
   {
    "duration": 128,
    "start_time": "2022-08-24T01:09:09.296Z"
   },
   {
    "duration": 39257,
    "start_time": "2022-08-24T01:09:30.403Z"
   },
   {
    "duration": 11,
    "start_time": "2022-08-24T01:10:12.230Z"
   },
   {
    "duration": 129,
    "start_time": "2022-08-24T01:11:11.181Z"
   },
   {
    "duration": 117,
    "start_time": "2022-08-24T01:11:20.668Z"
   },
   {
    "duration": 176,
    "start_time": "2022-08-24T01:11:59.638Z"
   },
   {
    "duration": 189,
    "start_time": "2022-08-24T01:13:24.299Z"
   },
   {
    "duration": 198,
    "start_time": "2022-08-24T01:13:30.353Z"
   },
   {
    "duration": 206,
    "start_time": "2022-08-24T01:14:46.227Z"
   },
   {
    "duration": 1229,
    "start_time": "2022-08-24T01:15:54.149Z"
   },
   {
    "duration": 3,
    "start_time": "2022-08-24T01:15:55.380Z"
   },
   {
    "duration": 54,
    "start_time": "2022-08-24T01:15:55.385Z"
   },
   {
    "duration": 4,
    "start_time": "2022-08-24T01:15:55.441Z"
   },
   {
    "duration": 786,
    "start_time": "2022-08-24T01:15:55.448Z"
   },
   {
    "duration": 8,
    "start_time": "2022-08-24T01:15:56.237Z"
   },
   {
    "duration": 37,
    "start_time": "2022-08-24T01:15:56.246Z"
   },
   {
    "duration": 211,
    "start_time": "2022-08-24T01:15:56.285Z"
   },
   {
    "duration": 7567,
    "start_time": "2022-08-24T01:15:56.497Z"
   },
   {
    "duration": 38,
    "start_time": "2022-08-24T01:16:04.065Z"
   },
   {
    "duration": 164,
    "start_time": "2022-08-24T01:16:04.105Z"
   },
   {
    "duration": 132,
    "start_time": "2022-08-24T01:16:04.271Z"
   },
   {
    "duration": 185,
    "start_time": "2022-08-24T01:16:04.409Z"
   },
   {
    "duration": 202,
    "start_time": "2022-08-24T01:16:04.603Z"
   },
   {
    "duration": 1460,
    "start_time": "2022-08-24T15:25:43.823Z"
   },
   {
    "duration": 3,
    "start_time": "2022-08-24T15:25:45.285Z"
   },
   {
    "duration": 49,
    "start_time": "2022-08-24T15:25:45.292Z"
   },
   {
    "duration": 4,
    "start_time": "2022-08-24T15:25:45.342Z"
   },
   {
    "duration": 678,
    "start_time": "2022-08-24T15:25:45.347Z"
   },
   {
    "duration": 6,
    "start_time": "2022-08-24T15:25:46.026Z"
   },
   {
    "duration": 9,
    "start_time": "2022-08-24T15:25:46.034Z"
   },
   {
    "duration": 204,
    "start_time": "2022-08-24T15:25:46.045Z"
   },
   {
    "duration": 7148,
    "start_time": "2022-08-24T15:25:46.251Z"
   },
   {
    "duration": 21,
    "start_time": "2022-08-24T15:25:53.400Z"
   },
   {
    "duration": 157,
    "start_time": "2022-08-24T15:25:53.422Z"
   },
   {
    "duration": 119,
    "start_time": "2022-08-24T15:25:53.581Z"
   },
   {
    "duration": 198,
    "start_time": "2022-08-24T15:25:53.701Z"
   },
   {
    "duration": 177,
    "start_time": "2022-08-24T15:25:53.901Z"
   },
   {
    "duration": 3,
    "start_time": "2022-08-24T15:27:57.603Z"
   },
   {
    "duration": 7,
    "start_time": "2022-08-24T15:27:57.608Z"
   },
   {
    "duration": 46,
    "start_time": "2022-08-24T15:27:57.616Z"
   },
   {
    "duration": 4,
    "start_time": "2022-08-24T15:27:57.664Z"
   },
   {
    "duration": 662,
    "start_time": "2022-08-24T15:27:57.670Z"
   },
   {
    "duration": 5,
    "start_time": "2022-08-24T15:27:58.334Z"
   },
   {
    "duration": 11,
    "start_time": "2022-08-24T15:27:58.341Z"
   },
   {
    "duration": 139,
    "start_time": "2022-08-24T15:27:58.354Z"
   },
   {
    "duration": 7381,
    "start_time": "2022-08-24T15:27:58.495Z"
   },
   {
    "duration": 20,
    "start_time": "2022-08-24T15:28:05.878Z"
   },
   {
    "duration": 142,
    "start_time": "2022-08-24T15:28:05.910Z"
   },
   {
    "duration": 146,
    "start_time": "2022-08-24T15:28:06.054Z"
   },
   {
    "duration": 1266,
    "start_time": "2022-08-24T15:29:36.290Z"
   },
   {
    "duration": 0,
    "start_time": "2022-08-24T15:29:37.558Z"
   },
   {
    "duration": 0,
    "start_time": "2022-08-24T15:29:37.560Z"
   },
   {
    "duration": 0,
    "start_time": "2022-08-24T15:29:37.561Z"
   },
   {
    "duration": 0,
    "start_time": "2022-08-24T15:29:37.562Z"
   },
   {
    "duration": 0,
    "start_time": "2022-08-24T15:29:37.562Z"
   },
   {
    "duration": 0,
    "start_time": "2022-08-24T15:29:37.563Z"
   },
   {
    "duration": 0,
    "start_time": "2022-08-24T15:29:37.564Z"
   },
   {
    "duration": 0,
    "start_time": "2022-08-24T15:29:37.565Z"
   },
   {
    "duration": 0,
    "start_time": "2022-08-24T15:29:37.566Z"
   },
   {
    "duration": 0,
    "start_time": "2022-08-24T15:29:37.567Z"
   },
   {
    "duration": 0,
    "start_time": "2022-08-24T15:29:37.567Z"
   },
   {
    "duration": 0,
    "start_time": "2022-08-24T15:29:37.568Z"
   },
   {
    "duration": 0,
    "start_time": "2022-08-24T15:29:37.569Z"
   },
   {
    "duration": 1299,
    "start_time": "2022-08-24T15:30:05.718Z"
   },
   {
    "duration": 3,
    "start_time": "2022-08-24T15:30:07.018Z"
   },
   {
    "duration": 52,
    "start_time": "2022-08-24T15:30:07.022Z"
   },
   {
    "duration": 4,
    "start_time": "2022-08-24T15:30:07.075Z"
   },
   {
    "duration": 675,
    "start_time": "2022-08-24T15:30:07.081Z"
   },
   {
    "duration": 6,
    "start_time": "2022-08-24T15:30:07.758Z"
   },
   {
    "duration": 7,
    "start_time": "2022-08-24T15:30:07.765Z"
   },
   {
    "duration": 202,
    "start_time": "2022-08-24T15:30:07.774Z"
   },
   {
    "duration": 7229,
    "start_time": "2022-08-24T15:30:07.978Z"
   },
   {
    "duration": 19,
    "start_time": "2022-08-24T15:30:15.210Z"
   },
   {
    "duration": 144,
    "start_time": "2022-08-24T15:30:15.231Z"
   },
   {
    "duration": 149,
    "start_time": "2022-08-24T15:30:15.376Z"
   },
   {
    "duration": 216,
    "start_time": "2022-08-24T15:30:15.526Z"
   },
   {
    "duration": 181,
    "start_time": "2022-08-24T15:30:15.744Z"
   },
   {
    "duration": 43,
    "start_time": "2022-08-24T18:23:35.015Z"
   },
   {
    "duration": 44,
    "start_time": "2022-08-24T18:35:42.367Z"
   },
   {
    "duration": 6,
    "start_time": "2022-08-24T18:35:47.700Z"
   },
   {
    "duration": 6,
    "start_time": "2022-08-24T18:37:26.344Z"
   },
   {
    "duration": 1436,
    "start_time": "2022-08-24T18:40:55.567Z"
   },
   {
    "duration": 5,
    "start_time": "2022-08-24T18:41:15.467Z"
   },
   {
    "duration": 1373,
    "start_time": "2022-08-24T18:41:28.096Z"
   },
   {
    "duration": 10,
    "start_time": "2022-08-24T18:44:35.050Z"
   },
   {
    "duration": 5,
    "start_time": "2022-08-24T18:45:01.266Z"
   },
   {
    "duration": 5,
    "start_time": "2022-08-24T18:46:46.631Z"
   },
   {
    "duration": 5,
    "start_time": "2022-08-24T18:48:58.435Z"
   },
   {
    "duration": 6,
    "start_time": "2022-08-24T18:49:30.670Z"
   },
   {
    "duration": 5,
    "start_time": "2022-08-24T18:50:15.170Z"
   },
   {
    "duration": 6,
    "start_time": "2022-08-24T18:50:18.362Z"
   },
   {
    "duration": 22,
    "start_time": "2022-08-24T19:10:52.250Z"
   },
   {
    "duration": 9,
    "start_time": "2022-08-24T19:11:09.152Z"
   },
   {
    "duration": 10,
    "start_time": "2022-08-24T19:11:22.345Z"
   },
   {
    "duration": 10,
    "start_time": "2022-08-24T19:12:14.810Z"
   },
   {
    "duration": 13,
    "start_time": "2022-08-24T19:12:19.979Z"
   },
   {
    "duration": 6,
    "start_time": "2022-08-24T19:12:21.747Z"
   },
   {
    "duration": 14,
    "start_time": "2022-08-24T19:13:25.125Z"
   },
   {
    "duration": 20,
    "start_time": "2022-08-24T19:13:34.270Z"
   },
   {
    "duration": 15,
    "start_time": "2022-08-24T19:14:48.666Z"
   },
   {
    "duration": 15,
    "start_time": "2022-08-24T19:18:57.782Z"
   },
   {
    "duration": 15,
    "start_time": "2022-08-24T19:19:01.363Z"
   },
   {
    "duration": 15,
    "start_time": "2022-08-24T19:19:02.278Z"
   },
   {
    "duration": 19,
    "start_time": "2022-08-24T19:19:02.819Z"
   },
   {
    "duration": 10,
    "start_time": "2022-08-24T19:22:52.949Z"
   },
   {
    "duration": 3,
    "start_time": "2022-08-24T19:22:57.186Z"
   },
   {
    "duration": 7,
    "start_time": "2022-08-24T19:22:57.191Z"
   },
   {
    "duration": 4,
    "start_time": "2022-08-24T19:22:57.200Z"
   },
   {
    "duration": 44,
    "start_time": "2022-08-24T19:22:57.206Z"
   },
   {
    "duration": 6,
    "start_time": "2022-08-24T19:22:57.253Z"
   },
   {
    "duration": 665,
    "start_time": "2022-08-24T19:22:57.261Z"
   },
   {
    "duration": 15,
    "start_time": "2022-08-24T19:22:57.927Z"
   },
   {
    "duration": 37,
    "start_time": "2022-08-24T19:22:57.944Z"
   },
   {
    "duration": 4,
    "start_time": "2022-08-24T19:37:49.263Z"
   },
   {
    "duration": 7,
    "start_time": "2022-08-24T19:37:49.269Z"
   },
   {
    "duration": 4,
    "start_time": "2022-08-24T19:37:49.277Z"
   },
   {
    "duration": 44,
    "start_time": "2022-08-24T19:37:49.283Z"
   },
   {
    "duration": 109,
    "start_time": "2022-08-24T19:37:49.328Z"
   },
   {
    "duration": 675,
    "start_time": "2022-08-24T19:37:49.439Z"
   },
   {
    "duration": 5,
    "start_time": "2022-08-24T19:37:50.115Z"
   },
   {
    "duration": 8,
    "start_time": "2022-08-24T19:37:50.121Z"
   },
   {
    "duration": 23,
    "start_time": "2022-08-24T19:37:50.130Z"
   },
   {
    "duration": 2,
    "start_time": "2022-08-24T19:37:50.154Z"
   },
   {
    "duration": 1261,
    "start_time": "2022-08-24T19:42:01.197Z"
   },
   {
    "duration": 3,
    "start_time": "2022-08-24T19:42:02.460Z"
   },
   {
    "duration": 28,
    "start_time": "2022-08-24T19:42:02.465Z"
   },
   {
    "duration": 65,
    "start_time": "2022-08-24T19:42:02.495Z"
   },
   {
    "duration": 7,
    "start_time": "2022-08-24T19:42:02.562Z"
   },
   {
    "duration": 745,
    "start_time": "2022-08-24T19:42:02.571Z"
   },
   {
    "duration": 4,
    "start_time": "2022-08-24T19:42:03.317Z"
   },
   {
    "duration": 52,
    "start_time": "2022-08-24T19:42:03.323Z"
   },
   {
    "duration": 146,
    "start_time": "2022-08-24T19:42:03.377Z"
   },
   {
    "duration": 2,
    "start_time": "2022-08-24T19:42:03.525Z"
   },
   {
    "duration": 131,
    "start_time": "2022-08-24T19:42:03.528Z"
   },
   {
    "duration": 0,
    "start_time": "2022-08-24T19:42:03.660Z"
   },
   {
    "duration": 1,
    "start_time": "2022-08-24T19:42:03.661Z"
   },
   {
    "duration": 0,
    "start_time": "2022-08-24T19:42:03.663Z"
   },
   {
    "duration": 0,
    "start_time": "2022-08-24T19:42:03.664Z"
   },
   {
    "duration": 0,
    "start_time": "2022-08-24T19:42:03.665Z"
   },
   {
    "duration": 0,
    "start_time": "2022-08-24T19:42:03.666Z"
   },
   {
    "duration": 1214,
    "start_time": "2022-08-24T19:42:29.564Z"
   },
   {
    "duration": 3,
    "start_time": "2022-08-24T19:42:30.779Z"
   },
   {
    "duration": 17,
    "start_time": "2022-08-24T19:42:30.783Z"
   },
   {
    "duration": 55,
    "start_time": "2022-08-24T19:42:30.801Z"
   },
   {
    "duration": 5,
    "start_time": "2022-08-24T19:42:30.858Z"
   },
   {
    "duration": 694,
    "start_time": "2022-08-24T19:42:30.864Z"
   },
   {
    "duration": 5,
    "start_time": "2022-08-24T19:42:31.559Z"
   },
   {
    "duration": 27,
    "start_time": "2022-08-24T19:42:31.566Z"
   },
   {
    "duration": 100,
    "start_time": "2022-08-24T19:42:31.595Z"
   },
   {
    "duration": 2,
    "start_time": "2022-08-24T19:42:31.697Z"
   },
   {
    "duration": 129,
    "start_time": "2022-08-24T19:42:31.701Z"
   },
   {
    "duration": 0,
    "start_time": "2022-08-24T19:42:31.831Z"
   },
   {
    "duration": 0,
    "start_time": "2022-08-24T19:42:31.833Z"
   },
   {
    "duration": 0,
    "start_time": "2022-08-24T19:42:31.834Z"
   },
   {
    "duration": 0,
    "start_time": "2022-08-24T19:42:31.835Z"
   },
   {
    "duration": 0,
    "start_time": "2022-08-24T19:42:31.836Z"
   },
   {
    "duration": 0,
    "start_time": "2022-08-24T19:42:31.837Z"
   },
   {
    "duration": 4,
    "start_time": "2022-08-24T19:42:38.822Z"
   },
   {
    "duration": 5,
    "start_time": "2022-08-24T19:42:38.827Z"
   },
   {
    "duration": 7,
    "start_time": "2022-08-24T19:42:38.833Z"
   },
   {
    "duration": 43,
    "start_time": "2022-08-24T19:42:38.842Z"
   },
   {
    "duration": 5,
    "start_time": "2022-08-24T19:42:38.887Z"
   },
   {
    "duration": 678,
    "start_time": "2022-08-24T19:42:38.893Z"
   },
   {
    "duration": 5,
    "start_time": "2022-08-24T19:42:39.573Z"
   },
   {
    "duration": 5,
    "start_time": "2022-08-24T19:42:39.579Z"
   },
   {
    "duration": 37,
    "start_time": "2022-08-24T19:42:39.586Z"
   },
   {
    "duration": 2,
    "start_time": "2022-08-24T19:42:39.625Z"
   },
   {
    "duration": 17,
    "start_time": "2022-08-24T19:42:39.629Z"
   },
   {
    "duration": 0,
    "start_time": "2022-08-24T19:42:39.648Z"
   },
   {
    "duration": 0,
    "start_time": "2022-08-24T19:42:39.649Z"
   },
   {
    "duration": 0,
    "start_time": "2022-08-24T19:42:39.651Z"
   },
   {
    "duration": 0,
    "start_time": "2022-08-24T19:42:39.652Z"
   },
   {
    "duration": 0,
    "start_time": "2022-08-24T19:42:39.653Z"
   },
   {
    "duration": 0,
    "start_time": "2022-08-24T19:42:39.654Z"
   },
   {
    "duration": 1277,
    "start_time": "2022-08-24T19:43:00.823Z"
   },
   {
    "duration": 3,
    "start_time": "2022-08-24T19:43:02.102Z"
   },
   {
    "duration": 22,
    "start_time": "2022-08-24T19:43:02.106Z"
   },
   {
    "duration": 57,
    "start_time": "2022-08-24T19:43:02.130Z"
   },
   {
    "duration": 6,
    "start_time": "2022-08-24T19:43:02.188Z"
   },
   {
    "duration": 819,
    "start_time": "2022-08-24T19:43:02.195Z"
   },
   {
    "duration": 5,
    "start_time": "2022-08-24T19:43:03.015Z"
   },
   {
    "duration": 44,
    "start_time": "2022-08-24T19:43:03.021Z"
   },
   {
    "duration": 105,
    "start_time": "2022-08-24T19:43:03.067Z"
   },
   {
    "duration": 3,
    "start_time": "2022-08-24T19:43:03.174Z"
   },
   {
    "duration": 129,
    "start_time": "2022-08-24T19:43:03.178Z"
   },
   {
    "duration": 0,
    "start_time": "2022-08-24T19:43:03.310Z"
   },
   {
    "duration": 0,
    "start_time": "2022-08-24T19:43:03.311Z"
   },
   {
    "duration": 0,
    "start_time": "2022-08-24T19:43:03.313Z"
   },
   {
    "duration": 0,
    "start_time": "2022-08-24T19:43:03.314Z"
   },
   {
    "duration": 0,
    "start_time": "2022-08-24T19:43:03.315Z"
   },
   {
    "duration": 0,
    "start_time": "2022-08-24T19:43:03.316Z"
   },
   {
    "duration": 4,
    "start_time": "2022-08-24T19:43:17.180Z"
   },
   {
    "duration": 7,
    "start_time": "2022-08-24T19:43:17.186Z"
   },
   {
    "duration": 3,
    "start_time": "2022-08-24T19:43:17.195Z"
   },
   {
    "duration": 43,
    "start_time": "2022-08-24T19:43:17.201Z"
   },
   {
    "duration": 7,
    "start_time": "2022-08-24T19:43:17.246Z"
   },
   {
    "duration": 677,
    "start_time": "2022-08-24T19:43:17.255Z"
   },
   {
    "duration": 6,
    "start_time": "2022-08-24T19:43:17.934Z"
   },
   {
    "duration": 5,
    "start_time": "2022-08-24T19:43:17.942Z"
   },
   {
    "duration": 23,
    "start_time": "2022-08-24T19:43:17.949Z"
   },
   {
    "duration": 2,
    "start_time": "2022-08-24T19:43:17.974Z"
   },
   {
    "duration": 44,
    "start_time": "2022-08-24T19:43:17.978Z"
   },
   {
    "duration": 0,
    "start_time": "2022-08-24T19:43:18.024Z"
   },
   {
    "duration": 0,
    "start_time": "2022-08-24T19:43:18.026Z"
   },
   {
    "duration": 0,
    "start_time": "2022-08-24T19:43:18.027Z"
   },
   {
    "duration": 0,
    "start_time": "2022-08-24T19:43:18.029Z"
   },
   {
    "duration": 0,
    "start_time": "2022-08-24T19:43:18.030Z"
   },
   {
    "duration": 0,
    "start_time": "2022-08-24T19:43:18.031Z"
   },
   {
    "duration": 42,
    "start_time": "2022-08-24T19:43:34.165Z"
   },
   {
    "duration": 4,
    "start_time": "2022-08-24T19:43:51.987Z"
   },
   {
    "duration": 27,
    "start_time": "2022-08-24T19:43:51.992Z"
   },
   {
    "duration": 10,
    "start_time": "2022-08-24T19:43:52.020Z"
   },
   {
    "duration": 46,
    "start_time": "2022-08-24T19:43:52.032Z"
   },
   {
    "duration": 5,
    "start_time": "2022-08-24T19:43:52.080Z"
   },
   {
    "duration": 733,
    "start_time": "2022-08-24T19:43:52.087Z"
   },
   {
    "duration": 5,
    "start_time": "2022-08-24T19:43:52.822Z"
   },
   {
    "duration": 23,
    "start_time": "2022-08-24T19:43:52.829Z"
   },
   {
    "duration": 40,
    "start_time": "2022-08-24T19:43:52.854Z"
   },
   {
    "duration": 3,
    "start_time": "2022-08-24T19:43:52.895Z"
   },
   {
    "duration": 16,
    "start_time": "2022-08-24T19:43:52.899Z"
   },
   {
    "duration": 0,
    "start_time": "2022-08-24T19:43:52.916Z"
   },
   {
    "duration": 0,
    "start_time": "2022-08-24T19:43:52.917Z"
   },
   {
    "duration": 0,
    "start_time": "2022-08-24T19:43:52.918Z"
   },
   {
    "duration": 0,
    "start_time": "2022-08-24T19:43:52.919Z"
   },
   {
    "duration": 0,
    "start_time": "2022-08-24T19:43:52.920Z"
   },
   {
    "duration": 0,
    "start_time": "2022-08-24T19:43:52.922Z"
   },
   {
    "duration": 24,
    "start_time": "2022-08-24T19:45:38.731Z"
   },
   {
    "duration": 1353,
    "start_time": "2022-08-24T19:49:42.087Z"
   },
   {
    "duration": 3,
    "start_time": "2022-08-24T19:49:43.442Z"
   },
   {
    "duration": 14,
    "start_time": "2022-08-24T19:49:43.447Z"
   },
   {
    "duration": 65,
    "start_time": "2022-08-24T19:49:43.463Z"
   },
   {
    "duration": 6,
    "start_time": "2022-08-24T19:49:43.530Z"
   },
   {
    "duration": 705,
    "start_time": "2022-08-24T19:49:43.537Z"
   },
   {
    "duration": 4,
    "start_time": "2022-08-24T19:49:44.244Z"
   },
   {
    "duration": 30,
    "start_time": "2022-08-24T19:49:44.250Z"
   },
   {
    "duration": 90,
    "start_time": "2022-08-24T19:49:44.282Z"
   },
   {
    "duration": 3,
    "start_time": "2022-08-24T19:49:44.374Z"
   },
   {
    "duration": 137,
    "start_time": "2022-08-24T19:49:44.378Z"
   },
   {
    "duration": 7208,
    "start_time": "2022-08-24T19:49:44.517Z"
   },
   {
    "duration": 28,
    "start_time": "2022-08-24T19:49:51.727Z"
   },
   {
    "duration": 156,
    "start_time": "2022-08-24T19:49:51.757Z"
   },
   {
    "duration": 154,
    "start_time": "2022-08-24T19:49:51.915Z"
   },
   {
    "duration": 228,
    "start_time": "2022-08-24T19:49:52.071Z"
   },
   {
    "duration": 201,
    "start_time": "2022-08-24T19:49:52.301Z"
   },
   {
    "duration": 1258,
    "start_time": "2022-08-24T19:54:20.695Z"
   },
   {
    "duration": 2,
    "start_time": "2022-08-24T19:54:21.955Z"
   },
   {
    "duration": 5,
    "start_time": "2022-08-24T19:54:21.959Z"
   },
   {
    "duration": 49,
    "start_time": "2022-08-24T19:54:21.966Z"
   },
   {
    "duration": 6,
    "start_time": "2022-08-24T19:54:22.016Z"
   },
   {
    "duration": 791,
    "start_time": "2022-08-24T19:54:22.023Z"
   },
   {
    "duration": 5,
    "start_time": "2022-08-24T19:54:22.816Z"
   },
   {
    "duration": 38,
    "start_time": "2022-08-24T19:54:22.823Z"
   },
   {
    "duration": 97,
    "start_time": "2022-08-24T19:54:22.863Z"
   },
   {
    "duration": 2,
    "start_time": "2022-08-24T19:54:22.963Z"
   },
   {
    "duration": 136,
    "start_time": "2022-08-24T19:54:22.967Z"
   },
   {
    "duration": 7184,
    "start_time": "2022-08-24T19:54:23.110Z"
   },
   {
    "duration": 32,
    "start_time": "2022-08-24T19:54:30.296Z"
   },
   {
    "duration": 155,
    "start_time": "2022-08-24T19:54:30.330Z"
   },
   {
    "duration": 154,
    "start_time": "2022-08-24T19:54:30.487Z"
   },
   {
    "duration": 220,
    "start_time": "2022-08-24T19:54:30.642Z"
   },
   {
    "duration": 184,
    "start_time": "2022-08-24T19:54:30.864Z"
   },
   {
    "duration": 3,
    "start_time": "2022-08-24T20:01:04.950Z"
   },
   {
    "duration": 13,
    "start_time": "2022-08-24T20:01:04.955Z"
   },
   {
    "duration": 10,
    "start_time": "2022-08-24T20:01:04.970Z"
   },
   {
    "duration": 51,
    "start_time": "2022-08-24T20:01:04.982Z"
   },
   {
    "duration": 5,
    "start_time": "2022-08-24T20:01:05.034Z"
   },
   {
    "duration": 660,
    "start_time": "2022-08-24T20:01:05.041Z"
   },
   {
    "duration": 8,
    "start_time": "2022-08-24T20:01:05.703Z"
   },
   {
    "duration": 10,
    "start_time": "2022-08-24T20:01:05.713Z"
   },
   {
    "duration": 26,
    "start_time": "2022-08-24T20:01:05.725Z"
   },
   {
    "duration": 2,
    "start_time": "2022-08-24T20:01:05.753Z"
   },
   {
    "duration": 143,
    "start_time": "2022-08-24T20:01:05.757Z"
   },
   {
    "duration": 7197,
    "start_time": "2022-08-24T20:01:05.902Z"
   },
   {
    "duration": 20,
    "start_time": "2022-08-24T20:01:13.100Z"
   },
   {
    "duration": 150,
    "start_time": "2022-08-24T20:01:13.122Z"
   },
   {
    "duration": 110,
    "start_time": "2022-08-24T20:01:13.274Z"
   },
   {
    "duration": 151,
    "start_time": "2022-08-24T20:01:13.386Z"
   },
   {
    "duration": 177,
    "start_time": "2022-08-24T20:01:13.539Z"
   },
   {
    "duration": 1340,
    "start_time": "2022-08-24T20:02:19.424Z"
   },
   {
    "duration": 2,
    "start_time": "2022-08-24T20:02:20.766Z"
   },
   {
    "duration": 15,
    "start_time": "2022-08-24T20:02:20.770Z"
   },
   {
    "duration": 52,
    "start_time": "2022-08-24T20:02:20.787Z"
   },
   {
    "duration": 5,
    "start_time": "2022-08-24T20:02:20.841Z"
   },
   {
    "duration": 690,
    "start_time": "2022-08-24T20:02:20.848Z"
   },
   {
    "duration": 5,
    "start_time": "2022-08-24T20:02:21.539Z"
   },
   {
    "duration": 20,
    "start_time": "2022-08-24T20:02:21.545Z"
   },
   {
    "duration": 98,
    "start_time": "2022-08-24T20:02:21.566Z"
   },
   {
    "duration": 2,
    "start_time": "2022-08-24T20:02:21.667Z"
   },
   {
    "duration": 135,
    "start_time": "2022-08-24T20:02:21.670Z"
   },
   {
    "duration": 7256,
    "start_time": "2022-08-24T20:02:21.806Z"
   },
   {
    "duration": 28,
    "start_time": "2022-08-24T20:02:29.064Z"
   },
   {
    "duration": 167,
    "start_time": "2022-08-24T20:02:29.094Z"
   },
   {
    "duration": 89,
    "start_time": "2022-08-24T20:02:29.262Z"
   },
   {
    "duration": 137,
    "start_time": "2022-08-24T20:02:29.353Z"
   },
   {
    "duration": 196,
    "start_time": "2022-08-24T20:02:29.491Z"
   },
   {
    "duration": 4,
    "start_time": "2022-08-24T20:05:44.647Z"
   },
   {
    "duration": 7,
    "start_time": "2022-08-24T20:05:44.653Z"
   },
   {
    "duration": 4,
    "start_time": "2022-08-24T20:05:44.662Z"
   },
   {
    "duration": 45,
    "start_time": "2022-08-24T20:05:44.667Z"
   },
   {
    "duration": 6,
    "start_time": "2022-08-24T20:05:44.713Z"
   },
   {
    "duration": 683,
    "start_time": "2022-08-24T20:05:44.720Z"
   },
   {
    "duration": 7,
    "start_time": "2022-08-24T20:05:45.404Z"
   },
   {
    "duration": 7,
    "start_time": "2022-08-24T20:05:45.412Z"
   },
   {
    "duration": 20,
    "start_time": "2022-08-24T20:05:45.421Z"
   },
   {
    "duration": 3,
    "start_time": "2022-08-24T20:05:45.442Z"
   },
   {
    "duration": 152,
    "start_time": "2022-08-24T20:05:45.446Z"
   },
   {
    "duration": 7250,
    "start_time": "2022-08-24T20:05:45.600Z"
   },
   {
    "duration": 29,
    "start_time": "2022-08-24T20:05:52.852Z"
   },
   {
    "duration": 158,
    "start_time": "2022-08-24T20:05:52.883Z"
   },
   {
    "duration": 3,
    "start_time": "2022-08-24T20:06:06.543Z"
   },
   {
    "duration": 23,
    "start_time": "2022-08-24T20:06:06.548Z"
   },
   {
    "duration": 9,
    "start_time": "2022-08-24T20:06:06.573Z"
   },
   {
    "duration": 48,
    "start_time": "2022-08-24T20:06:06.584Z"
   },
   {
    "duration": 6,
    "start_time": "2022-08-24T20:06:06.633Z"
   },
   {
    "duration": 771,
    "start_time": "2022-08-24T20:06:06.640Z"
   },
   {
    "duration": 6,
    "start_time": "2022-08-24T20:06:07.413Z"
   },
   {
    "duration": 33,
    "start_time": "2022-08-24T20:06:07.420Z"
   },
   {
    "duration": 39,
    "start_time": "2022-08-24T20:06:07.456Z"
   },
   {
    "duration": 20,
    "start_time": "2022-08-24T20:06:07.496Z"
   },
   {
    "duration": 151,
    "start_time": "2022-08-24T20:06:07.518Z"
   },
   {
    "duration": 7286,
    "start_time": "2022-08-24T20:06:07.670Z"
   },
   {
    "duration": 26,
    "start_time": "2022-08-24T20:06:14.958Z"
   },
   {
    "duration": 154,
    "start_time": "2022-08-24T20:06:14.986Z"
   },
   {
    "duration": 4,
    "start_time": "2022-08-24T20:09:24.127Z"
   },
   {
    "duration": 4,
    "start_time": "2022-08-24T20:10:19.525Z"
   },
   {
    "duration": 5,
    "start_time": "2022-08-24T20:10:29.848Z"
   },
   {
    "duration": 5,
    "start_time": "2022-08-24T20:10:55.527Z"
   },
   {
    "duration": 117,
    "start_time": "2022-08-24T20:11:22.855Z"
   },
   {
    "duration": 3,
    "start_time": "2022-08-24T20:11:31.893Z"
   },
   {
    "duration": 7,
    "start_time": "2022-08-24T20:11:31.897Z"
   },
   {
    "duration": 10,
    "start_time": "2022-08-24T20:11:31.905Z"
   },
   {
    "duration": 43,
    "start_time": "2022-08-24T20:11:31.925Z"
   },
   {
    "duration": 5,
    "start_time": "2022-08-24T20:11:31.970Z"
   },
   {
    "duration": 726,
    "start_time": "2022-08-24T20:11:31.977Z"
   },
   {
    "duration": 8,
    "start_time": "2022-08-24T20:11:32.705Z"
   },
   {
    "duration": 14,
    "start_time": "2022-08-24T20:11:32.716Z"
   },
   {
    "duration": 29,
    "start_time": "2022-08-24T20:11:32.731Z"
   },
   {
    "duration": 8,
    "start_time": "2022-08-24T20:11:32.762Z"
   },
   {
    "duration": 225,
    "start_time": "2022-08-24T20:11:32.772Z"
   },
   {
    "duration": 7198,
    "start_time": "2022-08-24T20:11:32.998Z"
   },
   {
    "duration": 34,
    "start_time": "2022-08-24T20:11:40.197Z"
   },
   {
    "duration": 144,
    "start_time": "2022-08-24T20:11:40.232Z"
   },
   {
    "duration": 5,
    "start_time": "2022-08-24T20:11:40.379Z"
   },
   {
    "duration": 163,
    "start_time": "2022-08-24T20:11:40.386Z"
   },
   {
    "duration": 3,
    "start_time": "2022-08-24T20:13:29.192Z"
   },
   {
    "duration": 8,
    "start_time": "2022-08-24T20:13:29.197Z"
   },
   {
    "duration": 5,
    "start_time": "2022-08-24T20:13:29.207Z"
   },
   {
    "duration": 43,
    "start_time": "2022-08-24T20:13:29.214Z"
   },
   {
    "duration": 7,
    "start_time": "2022-08-24T20:13:29.260Z"
   },
   {
    "duration": 715,
    "start_time": "2022-08-24T20:13:29.269Z"
   },
   {
    "duration": 4,
    "start_time": "2022-08-24T20:13:29.985Z"
   },
   {
    "duration": 29,
    "start_time": "2022-08-24T20:13:29.991Z"
   },
   {
    "duration": 36,
    "start_time": "2022-08-24T20:13:30.021Z"
   },
   {
    "duration": 35,
    "start_time": "2022-08-24T20:13:30.059Z"
   },
   {
    "duration": 138,
    "start_time": "2022-08-24T20:13:30.095Z"
   },
   {
    "duration": 7419,
    "start_time": "2022-08-24T20:13:30.235Z"
   },
   {
    "duration": 30,
    "start_time": "2022-08-24T20:13:37.656Z"
   },
   {
    "duration": 159,
    "start_time": "2022-08-24T20:13:37.688Z"
   },
   {
    "duration": 4,
    "start_time": "2022-08-24T20:13:37.849Z"
   },
   {
    "duration": 176,
    "start_time": "2022-08-24T20:13:37.855Z"
   },
   {
    "duration": 196,
    "start_time": "2022-08-24T20:13:38.033Z"
   },
   {
    "duration": 174,
    "start_time": "2022-08-24T20:13:38.231Z"
   },
   {
    "duration": 1131,
    "start_time": "2022-08-24T20:22:18.557Z"
   },
   {
    "duration": 0,
    "start_time": "2022-08-24T20:22:19.690Z"
   },
   {
    "duration": 0,
    "start_time": "2022-08-24T20:22:19.693Z"
   },
   {
    "duration": 0,
    "start_time": "2022-08-24T20:22:19.694Z"
   },
   {
    "duration": 0,
    "start_time": "2022-08-24T20:22:19.695Z"
   },
   {
    "duration": 0,
    "start_time": "2022-08-24T20:22:19.696Z"
   },
   {
    "duration": 0,
    "start_time": "2022-08-24T20:22:19.697Z"
   },
   {
    "duration": 0,
    "start_time": "2022-08-24T20:22:19.710Z"
   },
   {
    "duration": 0,
    "start_time": "2022-08-24T20:22:19.711Z"
   },
   {
    "duration": 0,
    "start_time": "2022-08-24T20:22:19.712Z"
   },
   {
    "duration": 0,
    "start_time": "2022-08-24T20:22:19.713Z"
   },
   {
    "duration": 0,
    "start_time": "2022-08-24T20:22:19.714Z"
   },
   {
    "duration": 0,
    "start_time": "2022-08-24T20:22:19.715Z"
   },
   {
    "duration": 0,
    "start_time": "2022-08-24T20:22:19.716Z"
   },
   {
    "duration": 0,
    "start_time": "2022-08-24T20:22:19.716Z"
   },
   {
    "duration": 0,
    "start_time": "2022-08-24T20:22:19.717Z"
   },
   {
    "duration": 1,
    "start_time": "2022-08-24T20:22:19.718Z"
   },
   {
    "duration": 0,
    "start_time": "2022-08-24T20:22:19.719Z"
   },
   {
    "duration": 201,
    "start_time": "2022-08-24T20:23:07.446Z"
   },
   {
    "duration": 3,
    "start_time": "2022-08-24T20:23:07.649Z"
   },
   {
    "duration": 10,
    "start_time": "2022-08-24T20:23:07.653Z"
   },
   {
    "duration": 55,
    "start_time": "2022-08-24T20:23:07.665Z"
   },
   {
    "duration": 6,
    "start_time": "2022-08-24T20:23:07.721Z"
   },
   {
    "duration": 699,
    "start_time": "2022-08-24T20:23:07.728Z"
   },
   {
    "duration": 5,
    "start_time": "2022-08-24T20:23:08.428Z"
   },
   {
    "duration": 33,
    "start_time": "2022-08-24T20:23:08.434Z"
   },
   {
    "duration": 83,
    "start_time": "2022-08-24T20:23:08.469Z"
   },
   {
    "duration": 2,
    "start_time": "2022-08-24T20:23:08.555Z"
   },
   {
    "duration": 131,
    "start_time": "2022-08-24T20:23:08.558Z"
   },
   {
    "duration": 7147,
    "start_time": "2022-08-24T20:23:08.690Z"
   },
   {
    "duration": 30,
    "start_time": "2022-08-24T20:23:15.838Z"
   },
   {
    "duration": 149,
    "start_time": "2022-08-24T20:23:15.869Z"
   },
   {
    "duration": 4,
    "start_time": "2022-08-24T20:23:16.019Z"
   },
   {
    "duration": 151,
    "start_time": "2022-08-24T20:23:16.024Z"
   },
   {
    "duration": 188,
    "start_time": "2022-08-24T20:23:16.177Z"
   },
   {
    "duration": 183,
    "start_time": "2022-08-24T20:23:16.367Z"
   },
   {
    "duration": 1213,
    "start_time": "2022-08-24T20:23:30.469Z"
   },
   {
    "duration": 2,
    "start_time": "2022-08-24T20:23:31.684Z"
   },
   {
    "duration": 6,
    "start_time": "2022-08-24T20:23:31.687Z"
   },
   {
    "duration": 52,
    "start_time": "2022-08-24T20:23:31.694Z"
   },
   {
    "duration": 5,
    "start_time": "2022-08-24T20:23:31.748Z"
   },
   {
    "duration": 688,
    "start_time": "2022-08-24T20:23:31.754Z"
   },
   {
    "duration": 5,
    "start_time": "2022-08-24T20:23:32.444Z"
   },
   {
    "duration": 44,
    "start_time": "2022-08-24T20:23:32.451Z"
   },
   {
    "duration": 97,
    "start_time": "2022-08-24T20:23:32.496Z"
   },
   {
    "duration": 4,
    "start_time": "2022-08-24T20:23:32.596Z"
   },
   {
    "duration": 165,
    "start_time": "2022-08-24T20:23:32.602Z"
   },
   {
    "duration": 7126,
    "start_time": "2022-08-24T20:23:32.769Z"
   },
   {
    "duration": 33,
    "start_time": "2022-08-24T20:23:39.897Z"
   },
   {
    "duration": 153,
    "start_time": "2022-08-24T20:23:39.932Z"
   },
   {
    "duration": 4,
    "start_time": "2022-08-24T20:23:40.087Z"
   },
   {
    "duration": 166,
    "start_time": "2022-08-24T20:23:40.093Z"
   },
   {
    "duration": 197,
    "start_time": "2022-08-24T20:23:40.260Z"
   },
   {
    "duration": 178,
    "start_time": "2022-08-24T20:23:40.458Z"
   },
   {
    "duration": 1501,
    "start_time": "2022-08-25T20:06:31.908Z"
   },
   {
    "duration": 6,
    "start_time": "2022-08-25T20:06:33.411Z"
   },
   {
    "duration": 11,
    "start_time": "2022-08-25T20:06:33.419Z"
   },
   {
    "duration": 90,
    "start_time": "2022-08-25T20:06:33.432Z"
   },
   {
    "duration": 6,
    "start_time": "2022-08-25T20:06:33.523Z"
   },
   {
    "duration": 792,
    "start_time": "2022-08-25T20:06:33.530Z"
   },
   {
    "duration": 5,
    "start_time": "2022-08-25T20:06:34.324Z"
   },
   {
    "duration": 7,
    "start_time": "2022-08-25T20:06:34.330Z"
   },
   {
    "duration": 109,
    "start_time": "2022-08-25T20:06:34.339Z"
   },
   {
    "duration": 2,
    "start_time": "2022-08-25T20:06:34.450Z"
   },
   {
    "duration": 142,
    "start_time": "2022-08-25T20:06:34.453Z"
   },
   {
    "duration": 7335,
    "start_time": "2022-08-25T20:06:34.597Z"
   },
   {
    "duration": 38,
    "start_time": "2022-08-25T20:06:41.934Z"
   },
   {
    "duration": 161,
    "start_time": "2022-08-25T20:06:41.973Z"
   },
   {
    "duration": 5,
    "start_time": "2022-08-25T20:06:42.135Z"
   },
   {
    "duration": 132,
    "start_time": "2022-08-25T20:06:42.141Z"
   },
   {
    "duration": 174,
    "start_time": "2022-08-25T20:06:42.274Z"
   },
   {
    "duration": 184,
    "start_time": "2022-08-25T20:06:42.449Z"
   },
   {
    "duration": 53,
    "start_time": "2022-08-25T20:42:09.067Z"
   },
   {
    "duration": 1262,
    "start_time": "2022-08-25T20:42:15.984Z"
   },
   {
    "duration": 3,
    "start_time": "2022-08-25T20:42:17.248Z"
   },
   {
    "duration": 13,
    "start_time": "2022-08-25T20:42:17.253Z"
   },
   {
    "duration": 67,
    "start_time": "2022-08-25T20:42:17.268Z"
   },
   {
    "duration": 6,
    "start_time": "2022-08-25T20:42:17.337Z"
   },
   {
    "duration": 780,
    "start_time": "2022-08-25T20:42:17.345Z"
   },
   {
    "duration": 5,
    "start_time": "2022-08-25T20:42:18.127Z"
   },
   {
    "duration": 45,
    "start_time": "2022-08-25T20:42:18.133Z"
   },
   {
    "duration": 66,
    "start_time": "2022-08-25T20:42:18.179Z"
   },
   {
    "duration": 1,
    "start_time": "2022-08-25T20:42:18.246Z"
   },
   {
    "duration": 0,
    "start_time": "2022-08-25T20:42:18.248Z"
   },
   {
    "duration": 0,
    "start_time": "2022-08-25T20:42:18.249Z"
   },
   {
    "duration": 0,
    "start_time": "2022-08-25T20:42:18.250Z"
   },
   {
    "duration": 1428,
    "start_time": "2022-08-27T12:09:48.256Z"
   },
   {
    "duration": 8,
    "start_time": "2022-08-27T12:09:49.687Z"
   },
   {
    "duration": 6,
    "start_time": "2022-08-27T12:09:49.697Z"
   },
   {
    "duration": 139,
    "start_time": "2022-08-27T12:09:49.706Z"
   },
   {
    "duration": 6,
    "start_time": "2022-08-27T12:09:49.846Z"
   },
   {
    "duration": 861,
    "start_time": "2022-08-27T12:09:49.853Z"
   },
   {
    "duration": 5,
    "start_time": "2022-08-27T12:09:50.715Z"
   },
   {
    "duration": 11,
    "start_time": "2022-08-27T12:09:50.721Z"
   },
   {
    "duration": 97,
    "start_time": "2022-08-27T12:09:50.734Z"
   },
   {
    "duration": 3,
    "start_time": "2022-08-27T12:10:14.121Z"
   },
   {
    "duration": 14,
    "start_time": "2022-08-27T12:10:14.126Z"
   },
   {
    "duration": 14,
    "start_time": "2022-08-27T12:10:14.141Z"
   },
   {
    "duration": 53,
    "start_time": "2022-08-27T12:10:14.156Z"
   },
   {
    "duration": 6,
    "start_time": "2022-08-27T12:10:14.210Z"
   },
   {
    "duration": 760,
    "start_time": "2022-08-27T12:10:14.218Z"
   },
   {
    "duration": 4,
    "start_time": "2022-08-27T12:10:14.980Z"
   },
   {
    "duration": 15,
    "start_time": "2022-08-27T12:10:14.986Z"
   },
   {
    "duration": 9,
    "start_time": "2022-08-27T12:10:15.003Z"
   },
   {
    "duration": 2,
    "start_time": "2022-08-27T12:10:23.721Z"
   },
   {
    "duration": 9,
    "start_time": "2022-08-27T12:10:23.725Z"
   },
   {
    "duration": 10,
    "start_time": "2022-08-27T12:10:23.736Z"
   },
   {
    "duration": 49,
    "start_time": "2022-08-27T12:10:23.748Z"
   },
   {
    "duration": 5,
    "start_time": "2022-08-27T12:10:23.799Z"
   },
   {
    "duration": 878,
    "start_time": "2022-08-27T12:10:23.806Z"
   },
   {
    "duration": 5,
    "start_time": "2022-08-27T12:10:24.685Z"
   },
   {
    "duration": 9,
    "start_time": "2022-08-27T12:10:24.692Z"
   },
   {
    "duration": 9,
    "start_time": "2022-08-27T12:10:24.703Z"
   },
   {
    "duration": 2,
    "start_time": "2022-08-27T12:10:55.460Z"
   },
   {
    "duration": 9,
    "start_time": "2022-08-27T12:10:55.464Z"
   },
   {
    "duration": 8,
    "start_time": "2022-08-27T12:10:55.475Z"
   },
   {
    "duration": 48,
    "start_time": "2022-08-27T12:10:55.485Z"
   },
   {
    "duration": 6,
    "start_time": "2022-08-27T12:10:55.534Z"
   },
   {
    "duration": 747,
    "start_time": "2022-08-27T12:10:55.541Z"
   },
   {
    "duration": 4,
    "start_time": "2022-08-27T12:10:56.290Z"
   },
   {
    "duration": 28,
    "start_time": "2022-08-27T12:10:56.295Z"
   },
   {
    "duration": 22,
    "start_time": "2022-08-27T12:10:56.324Z"
   },
   {
    "duration": 6,
    "start_time": "2022-08-27T12:11:05.039Z"
   },
   {
    "duration": 11,
    "start_time": "2022-08-27T12:11:24.304Z"
   },
   {
    "duration": 9,
    "start_time": "2022-08-27T12:11:54.831Z"
   },
   {
    "duration": 12,
    "start_time": "2022-08-27T12:12:33.385Z"
   },
   {
    "duration": 12,
    "start_time": "2022-08-27T12:12:42.909Z"
   },
   {
    "duration": 7,
    "start_time": "2022-08-27T12:12:56.466Z"
   },
   {
    "duration": 11,
    "start_time": "2022-08-27T12:13:37.896Z"
   },
   {
    "duration": 6,
    "start_time": "2022-08-27T12:13:44.630Z"
   },
   {
    "duration": 13,
    "start_time": "2022-08-27T12:15:35.046Z"
   },
   {
    "duration": 3,
    "start_time": "2022-08-27T12:17:05.816Z"
   },
   {
    "duration": 9,
    "start_time": "2022-08-27T12:17:05.821Z"
   },
   {
    "duration": 32,
    "start_time": "2022-08-27T12:17:05.832Z"
   },
   {
    "duration": 50,
    "start_time": "2022-08-27T12:17:05.866Z"
   },
   {
    "duration": 5,
    "start_time": "2022-08-27T12:17:05.919Z"
   },
   {
    "duration": 736,
    "start_time": "2022-08-27T12:17:05.926Z"
   },
   {
    "duration": 4,
    "start_time": "2022-08-27T12:17:06.664Z"
   },
   {
    "duration": 16,
    "start_time": "2022-08-27T12:17:06.670Z"
   },
   {
    "duration": 27,
    "start_time": "2022-08-27T12:17:06.688Z"
   },
   {
    "duration": 29,
    "start_time": "2022-08-27T12:17:06.717Z"
   },
   {
    "duration": 3,
    "start_time": "2022-08-27T12:17:14.623Z"
   },
   {
    "duration": 7,
    "start_time": "2022-08-27T12:17:14.628Z"
   },
   {
    "duration": 5,
    "start_time": "2022-08-27T12:17:14.637Z"
   },
   {
    "duration": 50,
    "start_time": "2022-08-27T12:17:14.644Z"
   },
   {
    "duration": 6,
    "start_time": "2022-08-27T12:17:14.696Z"
   },
   {
    "duration": 857,
    "start_time": "2022-08-27T12:17:14.704Z"
   },
   {
    "duration": 4,
    "start_time": "2022-08-27T12:17:15.563Z"
   },
   {
    "duration": 8,
    "start_time": "2022-08-27T12:17:15.569Z"
   },
   {
    "duration": 8,
    "start_time": "2022-08-27T12:17:15.578Z"
   },
   {
    "duration": 9,
    "start_time": "2022-08-27T12:17:15.588Z"
   },
   {
    "duration": 62,
    "start_time": "2022-09-19T07:30:00.787Z"
   },
   {
    "duration": 9,
    "start_time": "2022-09-19T08:00:41.127Z"
   },
   {
    "duration": 7,
    "start_time": "2022-09-19T08:00:44.763Z"
   },
   {
    "duration": 7,
    "start_time": "2022-09-19T08:00:58.143Z"
   }
  ],
  "kernelspec": {
   "display_name": "Python 3 (ipykernel)",
   "language": "python",
   "name": "python3"
  },
  "language_info": {
   "codemirror_mode": {
    "name": "ipython",
    "version": 3
   },
   "file_extension": ".py",
   "mimetype": "text/x-python",
   "name": "python",
   "nbconvert_exporter": "python",
   "pygments_lexer": "ipython3",
   "version": "3.9.13"
  },
  "toc": {
   "base_numbering": 1,
   "nav_menu": {},
   "number_sections": true,
   "sideBar": true,
   "skip_h1_title": true,
   "title_cell": "Table of Contents",
   "title_sidebar": "Contents",
   "toc_cell": false,
   "toc_position": {},
   "toc_section_display": true,
   "toc_window_display": false
  }
 },
 "nbformat": 4,
 "nbformat_minor": 2
}
