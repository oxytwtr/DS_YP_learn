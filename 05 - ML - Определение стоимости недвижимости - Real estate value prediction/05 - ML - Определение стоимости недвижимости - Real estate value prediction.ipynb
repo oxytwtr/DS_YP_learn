{
 "cells": [
  {
   "cell_type": "markdown",
   "metadata": {},
   "source": [
    "# Исследование объявлений о продаже квартир\n",
    "\n",
    "В вашем распоряжении данные сервиса Яндекс.Недвижимость — архив объявлений о продаже квартир в Санкт-Петербурге и соседних населённых пунктов за несколько лет. Нужно научиться определять рыночную стоимость объектов недвижимости. Ваша задача — установить параметры. Это позволит построить автоматизированную систему: она отследит аномалии и мошенническую деятельность. \n",
    "\n",
    "По каждой квартире на продажу доступны два вида данных. Первые вписаны пользователем, вторые — получены автоматически на основе картографических данных. Например, расстояние до центра, аэропорта, ближайшего парка и водоёма. \n",
    "\n",
    "Описание данных \n",
    "- `airports_nearest` — расстояние до ближайшего аэропорта в метрах (м)\n",
    "- `balcony` — число балконов\n",
    "- `ceiling_height` — высота потолков (м)\n",
    "- `cityCenters_nearest` — расстояние до центра города (м)\n",
    "- `days_exposition` — сколько дней было размещено объявление (от публикации до снятия)\n",
    "- `first_day_exposition` — дата публикации\n",
    "- `floor` — этаж\n",
    "- `floors_total` — всего этажей в доме\n",
    "- `is_apartment` — апартаменты (булев тип)\n",
    "- `kitchen_area` — площадь кухни в квадратных метрах (м²)\n",
    "- `last_price` — цена на момент снятия с публикации\n",
    "- `living_area` — жилая площадь в квадратных метрах (м²)\n",
    "- `locality_name` — название населённого пункта\n",
    "- `open_plan` — свободная планировка (булев тип)\n",
    "- `parks_around3000` — число парков в радиусе 3 км\n",
    "- `parks_nearest` — расстояние до ближайшего парка (м)\n",
    "- `ponds_around3000` — число водоёмов в радиусе 3 км\n",
    "- `ponds_nearest` — расстояние до ближайшего водоёма (м)\n",
    "- `rooms` — число комнат\n",
    "- `studio` — квартира-студия (булев тип)\n",
    "- `total_area` — общая площадь квартиры в квадратных метрах (м²)\n",
    "- `total_images` — число фотографий квартиры в объявлении\n",
    "\n",
    "\n",
    "План работы:\n",
    "\n",
    "- изучение общей информации о данных\n",
    "- предобработка данных\n",
    " - поиск пропусков и замена\n",
    " - поиск неявных дубликатов и замена\n",
    " - проверка значений на всплески, нелогичные данные\n",
    "- Исследование параметров\n",
    "- Общий вывод"
   ]
  },
  {
   "cell_type": "markdown",
   "metadata": {},
   "source": [
    "### Откройте файл с данными и изучите общую информацию. "
   ]
  },
  {
   "cell_type": "code",
   "execution_count": 41,
   "metadata": {},
   "outputs": [],
   "source": [
    "# Ячейка с импортом библиотек, \n",
    "# в других ячейках не задавать!\n",
    "import pandas as pd\n",
    "import matplotlib.pyplot as plt"
   ]
  },
  {
   "cell_type": "code",
   "execution_count": 42,
   "metadata": {},
   "outputs": [],
   "source": [
    "# Ячейка с c начальными настройками Pandas\n",
    "pd.set_option('display.max_columns', 50) \n",
    "pd.options.mode.chained_assignment = None"
   ]
  },
  {
   "cell_type": "code",
   "execution_count": 43,
   "metadata": {
    "scrolled": false
   },
   "outputs": [
    {
     "name": "stdout",
     "output_type": "stream",
     "text": [
      "<class 'pandas.core.frame.DataFrame'>\n",
      "RangeIndex: 23699 entries, 0 to 23698\n",
      "Data columns (total 22 columns):\n",
      " #   Column                Non-Null Count  Dtype  \n",
      "---  ------                --------------  -----  \n",
      " 0   total_images          23699 non-null  int64  \n",
      " 1   last_price            23699 non-null  float64\n",
      " 2   total_area            23699 non-null  float64\n",
      " 3   first_day_exposition  23699 non-null  object \n",
      " 4   rooms                 23699 non-null  int64  \n",
      " 5   ceiling_height        14504 non-null  float64\n",
      " 6   floors_total          23613 non-null  float64\n",
      " 7   living_area           21796 non-null  float64\n",
      " 8   floor                 23699 non-null  int64  \n",
      " 9   is_apartment          2775 non-null   object \n",
      " 10  studio                23699 non-null  bool   \n",
      " 11  open_plan             23699 non-null  bool   \n",
      " 12  kitchen_area          21421 non-null  float64\n",
      " 13  balcony               12180 non-null  float64\n",
      " 14  locality_name         23650 non-null  object \n",
      " 15  airports_nearest      18157 non-null  float64\n",
      " 16  cityCenters_nearest   18180 non-null  float64\n",
      " 17  parks_around3000      18181 non-null  float64\n",
      " 18  parks_nearest         8079 non-null   float64\n",
      " 19  ponds_around3000      18181 non-null  float64\n",
      " 20  ponds_nearest         9110 non-null   float64\n",
      " 21  days_exposition       20518 non-null  float64\n",
      "dtypes: bool(2), float64(14), int64(3), object(3)\n",
      "memory usage: 3.7+ MB\n"
     ]
    },
    {
     "data": {
      "text/html": [
       "<div>\n",
       "<style scoped>\n",
       "    .dataframe tbody tr th:only-of-type {\n",
       "        vertical-align: middle;\n",
       "    }\n",
       "\n",
       "    .dataframe tbody tr th {\n",
       "        vertical-align: top;\n",
       "    }\n",
       "\n",
       "    .dataframe thead th {\n",
       "        text-align: right;\n",
       "    }\n",
       "</style>\n",
       "<table border=\"1\" class=\"dataframe\">\n",
       "  <thead>\n",
       "    <tr style=\"text-align: right;\">\n",
       "      <th></th>\n",
       "      <th>total_images</th>\n",
       "      <th>last_price</th>\n",
       "      <th>total_area</th>\n",
       "      <th>first_day_exposition</th>\n",
       "      <th>rooms</th>\n",
       "      <th>ceiling_height</th>\n",
       "      <th>floors_total</th>\n",
       "      <th>living_area</th>\n",
       "      <th>floor</th>\n",
       "      <th>is_apartment</th>\n",
       "      <th>studio</th>\n",
       "      <th>open_plan</th>\n",
       "      <th>kitchen_area</th>\n",
       "      <th>balcony</th>\n",
       "      <th>locality_name</th>\n",
       "      <th>airports_nearest</th>\n",
       "      <th>cityCenters_nearest</th>\n",
       "      <th>parks_around3000</th>\n",
       "      <th>parks_nearest</th>\n",
       "      <th>ponds_around3000</th>\n",
       "      <th>ponds_nearest</th>\n",
       "      <th>days_exposition</th>\n",
       "    </tr>\n",
       "  </thead>\n",
       "  <tbody>\n",
       "    <tr>\n",
       "      <th>0</th>\n",
       "      <td>20</td>\n",
       "      <td>13000000.0</td>\n",
       "      <td>108.00</td>\n",
       "      <td>2019-03-07T00:00:00</td>\n",
       "      <td>3</td>\n",
       "      <td>2.70</td>\n",
       "      <td>16.0</td>\n",
       "      <td>51.00</td>\n",
       "      <td>8</td>\n",
       "      <td>NaN</td>\n",
       "      <td>False</td>\n",
       "      <td>False</td>\n",
       "      <td>25.00</td>\n",
       "      <td>NaN</td>\n",
       "      <td>Санкт-Петербург</td>\n",
       "      <td>18863.0</td>\n",
       "      <td>16028.0</td>\n",
       "      <td>1.0</td>\n",
       "      <td>482.0</td>\n",
       "      <td>2.0</td>\n",
       "      <td>755.0</td>\n",
       "      <td>NaN</td>\n",
       "    </tr>\n",
       "    <tr>\n",
       "      <th>1</th>\n",
       "      <td>7</td>\n",
       "      <td>3350000.0</td>\n",
       "      <td>40.40</td>\n",
       "      <td>2018-12-04T00:00:00</td>\n",
       "      <td>1</td>\n",
       "      <td>NaN</td>\n",
       "      <td>11.0</td>\n",
       "      <td>18.60</td>\n",
       "      <td>1</td>\n",
       "      <td>NaN</td>\n",
       "      <td>False</td>\n",
       "      <td>False</td>\n",
       "      <td>11.00</td>\n",
       "      <td>2.0</td>\n",
       "      <td>посёлок Шушары</td>\n",
       "      <td>12817.0</td>\n",
       "      <td>18603.0</td>\n",
       "      <td>0.0</td>\n",
       "      <td>NaN</td>\n",
       "      <td>0.0</td>\n",
       "      <td>NaN</td>\n",
       "      <td>81.0</td>\n",
       "    </tr>\n",
       "    <tr>\n",
       "      <th>2</th>\n",
       "      <td>10</td>\n",
       "      <td>5196000.0</td>\n",
       "      <td>56.00</td>\n",
       "      <td>2015-08-20T00:00:00</td>\n",
       "      <td>2</td>\n",
       "      <td>NaN</td>\n",
       "      <td>5.0</td>\n",
       "      <td>34.30</td>\n",
       "      <td>4</td>\n",
       "      <td>NaN</td>\n",
       "      <td>False</td>\n",
       "      <td>False</td>\n",
       "      <td>8.30</td>\n",
       "      <td>0.0</td>\n",
       "      <td>Санкт-Петербург</td>\n",
       "      <td>21741.0</td>\n",
       "      <td>13933.0</td>\n",
       "      <td>1.0</td>\n",
       "      <td>90.0</td>\n",
       "      <td>2.0</td>\n",
       "      <td>574.0</td>\n",
       "      <td>558.0</td>\n",
       "    </tr>\n",
       "    <tr>\n",
       "      <th>3</th>\n",
       "      <td>0</td>\n",
       "      <td>64900000.0</td>\n",
       "      <td>159.00</td>\n",
       "      <td>2015-07-24T00:00:00</td>\n",
       "      <td>3</td>\n",
       "      <td>NaN</td>\n",
       "      <td>14.0</td>\n",
       "      <td>NaN</td>\n",
       "      <td>9</td>\n",
       "      <td>NaN</td>\n",
       "      <td>False</td>\n",
       "      <td>False</td>\n",
       "      <td>NaN</td>\n",
       "      <td>0.0</td>\n",
       "      <td>Санкт-Петербург</td>\n",
       "      <td>28098.0</td>\n",
       "      <td>6800.0</td>\n",
       "      <td>2.0</td>\n",
       "      <td>84.0</td>\n",
       "      <td>3.0</td>\n",
       "      <td>234.0</td>\n",
       "      <td>424.0</td>\n",
       "    </tr>\n",
       "    <tr>\n",
       "      <th>4</th>\n",
       "      <td>2</td>\n",
       "      <td>10000000.0</td>\n",
       "      <td>100.00</td>\n",
       "      <td>2018-06-19T00:00:00</td>\n",
       "      <td>2</td>\n",
       "      <td>3.03</td>\n",
       "      <td>14.0</td>\n",
       "      <td>32.00</td>\n",
       "      <td>13</td>\n",
       "      <td>NaN</td>\n",
       "      <td>False</td>\n",
       "      <td>False</td>\n",
       "      <td>41.00</td>\n",
       "      <td>NaN</td>\n",
       "      <td>Санкт-Петербург</td>\n",
       "      <td>31856.0</td>\n",
       "      <td>8098.0</td>\n",
       "      <td>2.0</td>\n",
       "      <td>112.0</td>\n",
       "      <td>1.0</td>\n",
       "      <td>48.0</td>\n",
       "      <td>121.0</td>\n",
       "    </tr>\n",
       "    <tr>\n",
       "      <th>5</th>\n",
       "      <td>10</td>\n",
       "      <td>2890000.0</td>\n",
       "      <td>30.40</td>\n",
       "      <td>2018-09-10T00:00:00</td>\n",
       "      <td>1</td>\n",
       "      <td>NaN</td>\n",
       "      <td>12.0</td>\n",
       "      <td>14.40</td>\n",
       "      <td>5</td>\n",
       "      <td>NaN</td>\n",
       "      <td>False</td>\n",
       "      <td>False</td>\n",
       "      <td>9.10</td>\n",
       "      <td>NaN</td>\n",
       "      <td>городской посёлок Янино-1</td>\n",
       "      <td>NaN</td>\n",
       "      <td>NaN</td>\n",
       "      <td>NaN</td>\n",
       "      <td>NaN</td>\n",
       "      <td>NaN</td>\n",
       "      <td>NaN</td>\n",
       "      <td>55.0</td>\n",
       "    </tr>\n",
       "    <tr>\n",
       "      <th>6</th>\n",
       "      <td>6</td>\n",
       "      <td>3700000.0</td>\n",
       "      <td>37.30</td>\n",
       "      <td>2017-11-02T00:00:00</td>\n",
       "      <td>1</td>\n",
       "      <td>NaN</td>\n",
       "      <td>26.0</td>\n",
       "      <td>10.60</td>\n",
       "      <td>6</td>\n",
       "      <td>NaN</td>\n",
       "      <td>False</td>\n",
       "      <td>False</td>\n",
       "      <td>14.40</td>\n",
       "      <td>1.0</td>\n",
       "      <td>посёлок Парголово</td>\n",
       "      <td>52996.0</td>\n",
       "      <td>19143.0</td>\n",
       "      <td>0.0</td>\n",
       "      <td>NaN</td>\n",
       "      <td>0.0</td>\n",
       "      <td>NaN</td>\n",
       "      <td>155.0</td>\n",
       "    </tr>\n",
       "    <tr>\n",
       "      <th>7</th>\n",
       "      <td>5</td>\n",
       "      <td>7915000.0</td>\n",
       "      <td>71.60</td>\n",
       "      <td>2019-04-18T00:00:00</td>\n",
       "      <td>2</td>\n",
       "      <td>NaN</td>\n",
       "      <td>24.0</td>\n",
       "      <td>NaN</td>\n",
       "      <td>22</td>\n",
       "      <td>NaN</td>\n",
       "      <td>False</td>\n",
       "      <td>False</td>\n",
       "      <td>18.90</td>\n",
       "      <td>2.0</td>\n",
       "      <td>Санкт-Петербург</td>\n",
       "      <td>23982.0</td>\n",
       "      <td>11634.0</td>\n",
       "      <td>0.0</td>\n",
       "      <td>NaN</td>\n",
       "      <td>0.0</td>\n",
       "      <td>NaN</td>\n",
       "      <td>NaN</td>\n",
       "    </tr>\n",
       "    <tr>\n",
       "      <th>8</th>\n",
       "      <td>20</td>\n",
       "      <td>2900000.0</td>\n",
       "      <td>33.16</td>\n",
       "      <td>2018-05-23T00:00:00</td>\n",
       "      <td>1</td>\n",
       "      <td>NaN</td>\n",
       "      <td>27.0</td>\n",
       "      <td>15.43</td>\n",
       "      <td>26</td>\n",
       "      <td>NaN</td>\n",
       "      <td>False</td>\n",
       "      <td>False</td>\n",
       "      <td>8.81</td>\n",
       "      <td>NaN</td>\n",
       "      <td>посёлок Мурино</td>\n",
       "      <td>NaN</td>\n",
       "      <td>NaN</td>\n",
       "      <td>NaN</td>\n",
       "      <td>NaN</td>\n",
       "      <td>NaN</td>\n",
       "      <td>NaN</td>\n",
       "      <td>189.0</td>\n",
       "    </tr>\n",
       "    <tr>\n",
       "      <th>9</th>\n",
       "      <td>18</td>\n",
       "      <td>5400000.0</td>\n",
       "      <td>61.00</td>\n",
       "      <td>2017-02-26T00:00:00</td>\n",
       "      <td>3</td>\n",
       "      <td>2.50</td>\n",
       "      <td>9.0</td>\n",
       "      <td>43.60</td>\n",
       "      <td>7</td>\n",
       "      <td>NaN</td>\n",
       "      <td>False</td>\n",
       "      <td>False</td>\n",
       "      <td>6.50</td>\n",
       "      <td>2.0</td>\n",
       "      <td>Санкт-Петербург</td>\n",
       "      <td>50898.0</td>\n",
       "      <td>15008.0</td>\n",
       "      <td>0.0</td>\n",
       "      <td>NaN</td>\n",
       "      <td>0.0</td>\n",
       "      <td>NaN</td>\n",
       "      <td>289.0</td>\n",
       "    </tr>\n",
       "  </tbody>\n",
       "</table>\n",
       "</div>"
      ],
      "text/plain": [
       "   total_images  last_price  total_area first_day_exposition  rooms  \\\n",
       "0            20  13000000.0      108.00  2019-03-07T00:00:00      3   \n",
       "1             7   3350000.0       40.40  2018-12-04T00:00:00      1   \n",
       "2            10   5196000.0       56.00  2015-08-20T00:00:00      2   \n",
       "3             0  64900000.0      159.00  2015-07-24T00:00:00      3   \n",
       "4             2  10000000.0      100.00  2018-06-19T00:00:00      2   \n",
       "5            10   2890000.0       30.40  2018-09-10T00:00:00      1   \n",
       "6             6   3700000.0       37.30  2017-11-02T00:00:00      1   \n",
       "7             5   7915000.0       71.60  2019-04-18T00:00:00      2   \n",
       "8            20   2900000.0       33.16  2018-05-23T00:00:00      1   \n",
       "9            18   5400000.0       61.00  2017-02-26T00:00:00      3   \n",
       "\n",
       "   ceiling_height  floors_total  living_area  floor is_apartment  studio  \\\n",
       "0            2.70          16.0        51.00      8          NaN   False   \n",
       "1             NaN          11.0        18.60      1          NaN   False   \n",
       "2             NaN           5.0        34.30      4          NaN   False   \n",
       "3             NaN          14.0          NaN      9          NaN   False   \n",
       "4            3.03          14.0        32.00     13          NaN   False   \n",
       "5             NaN          12.0        14.40      5          NaN   False   \n",
       "6             NaN          26.0        10.60      6          NaN   False   \n",
       "7             NaN          24.0          NaN     22          NaN   False   \n",
       "8             NaN          27.0        15.43     26          NaN   False   \n",
       "9            2.50           9.0        43.60      7          NaN   False   \n",
       "\n",
       "   open_plan  kitchen_area  balcony              locality_name  \\\n",
       "0      False         25.00      NaN            Санкт-Петербург   \n",
       "1      False         11.00      2.0             посёлок Шушары   \n",
       "2      False          8.30      0.0            Санкт-Петербург   \n",
       "3      False           NaN      0.0            Санкт-Петербург   \n",
       "4      False         41.00      NaN            Санкт-Петербург   \n",
       "5      False          9.10      NaN  городской посёлок Янино-1   \n",
       "6      False         14.40      1.0          посёлок Парголово   \n",
       "7      False         18.90      2.0            Санкт-Петербург   \n",
       "8      False          8.81      NaN             посёлок Мурино   \n",
       "9      False          6.50      2.0            Санкт-Петербург   \n",
       "\n",
       "   airports_nearest  cityCenters_nearest  parks_around3000  parks_nearest  \\\n",
       "0           18863.0              16028.0               1.0          482.0   \n",
       "1           12817.0              18603.0               0.0            NaN   \n",
       "2           21741.0              13933.0               1.0           90.0   \n",
       "3           28098.0               6800.0               2.0           84.0   \n",
       "4           31856.0               8098.0               2.0          112.0   \n",
       "5               NaN                  NaN               NaN            NaN   \n",
       "6           52996.0              19143.0               0.0            NaN   \n",
       "7           23982.0              11634.0               0.0            NaN   \n",
       "8               NaN                  NaN               NaN            NaN   \n",
       "9           50898.0              15008.0               0.0            NaN   \n",
       "\n",
       "   ponds_around3000  ponds_nearest  days_exposition  \n",
       "0               2.0          755.0              NaN  \n",
       "1               0.0            NaN             81.0  \n",
       "2               2.0          574.0            558.0  \n",
       "3               3.0          234.0            424.0  \n",
       "4               1.0           48.0            121.0  \n",
       "5               NaN            NaN             55.0  \n",
       "6               0.0            NaN            155.0  \n",
       "7               0.0            NaN              NaN  \n",
       "8               NaN            NaN            189.0  \n",
       "9               0.0            NaN            289.0  "
      ]
     },
     "execution_count": 43,
     "metadata": {},
     "output_type": "execute_result"
    }
   ],
   "source": [
    "try:\n",
    "    data = pd.read_csv('/datasets/real_estate_data.csv', sep='\\t')\n",
    "except:\n",
    "    data = pd.read_csv('https://code.s3.yandex.net/datasets/real_estate_data.csv', sep='\\t')\n",
    "\n",
    "\n",
    "data.info()\n",
    "data.head(10)"
   ]
  },
  {
   "cell_type": "markdown",
   "metadata": {},
   "source": [
    "Итак, в наборе данных 22 колонки и 23699 строк.\n",
    "Названия столбцов стандартизированы с учетом змеиного регистра, поэтому, чтобы не нарушать совместимость с исходным файлом данных, переименовывать их не будем.\n",
    "\n",
    "Согласно описанию данных \n",
    "- `airports_nearest` — расстояние до ближайшего аэропорта в метрах (м)\n",
    "- `balcony` — число балконов\n",
    "- `ceiling_height` — высота потолков (м)\n",
    "- `cityCenters_nearest` — расстояние до центра города (м)\n",
    "- `days_exposition` — сколько дней было размещено объявление (от публикации до снятия)\n",
    "- `first_day_exposition` — дата публикации\n",
    "- `floor` — этаж\n",
    "- `floors_total` — всего этажей в доме\n",
    "- `is_apartment` — апартаменты (булев тип)\n",
    "- `kitchen_area` — площадь кухни в квадратных метрах (м²)\n",
    "- `last_price` — цена на момент снятия с публикации\n",
    "- `living_area` — жилая площадь в квадратных метрах (м²)\n",
    "- `locality_name` — название населённого пункта\n",
    "- `open_plan` — свободная планировка (булев тип)\n",
    "- `parks_around3000` — число парков в радиусе 3 км\n",
    "- `parks_nearest` — расстояние до ближайшего парка (м)\n",
    "- `ponds_around3000` — число водоёмов в радиусе 3 км\n",
    "- `ponds_nearest` — расстояние до ближайшего водоёма (м)\n",
    "- `rooms` — число комнат\n",
    "- `studio` — квартира-студия (булев тип)\n",
    "- `total_area` — общая площадь квартиры в квадратных метрах (м²)\n",
    "- `total_images` — число фотографий квартиры в объявлении\n",
    "\n",
    "Выведем сводный набор гистограмм для каждого из столбцов для оценки распределения значений:"
   ]
  },
  {
   "cell_type": "code",
   "execution_count": 44,
   "metadata": {
    "scrolled": false
   },
   "outputs": [
    {
     "data": {
      "image/png": "[encoded data removed]",
      "text/plain": [
       "<Figure size 1080x1440 with 20 Axes>"
      ]
     },
     "metadata": {
      "needs_background": "light"
     },
     "output_type": "display_data"
    }
   ],
   "source": [
    "data.hist(figsize=(15, 20));"
   ]
  },
  {
   "cell_type": "markdown",
   "metadata": {},
   "source": [
    "**Вывод по разделу 1**\n",
    "\n",
    "- В данных 22 колонки и 23699 строк\n",
    "- В 14 из 22 колонок есть пропуски\n",
    "- Распределение данных для количественных значений, судя по гистограммам, в целом соответствует распределению Пуасонна, однако некоторые значения имеют очень широкий диапазон, так что в данных вероятны всплески в крайних значениях, влияющие на общую картину."
   ]
  },
  {
   "cell_type": "markdown",
   "metadata": {},
   "source": [
    "data.info()\n",
    "\n",
    "#data.loc[data['living_area'].isna(), 'living_area'] = data['total_area'] - data['kitchen_area'] - data['balcony']*3\n",
    "(data.loc[data['living_area'].isna(), 'living_area']) = data.loc[data['living_area'].isna(), 'total_area'] - data.loc[data['living_area'].isna(),'kitchen_area'] - data.loc[data['living_area'].isna(),'balcony']*3\n",
    "data.info()\n",
    "display (data.loc[data['living_area'].isna(),'kitchen_area'])"
   ]
  },
  {
   "cell_type": "markdown",
   "metadata": {},
   "source": [
    "### Предобработка данных"
   ]
  },
  {
   "cell_type": "markdown",
   "metadata": {},
   "source": [
    "В 14 из 22 столбцах набора данных есть пропуски. Тип данных в 7 из 22 столбцов тоже не совсем соответствует ожидаемому.\n",
    "\n",
    "Рассмотрим столбцы подробнее, и определим, какие причины пропусков могли быть, и возможно ли заменить их на конкретные значения.\n",
    "\n",
    "В таблице также учтем тип данных в каждом столбце и требуемый новый тип данных.\n",
    "\n",
    "Результаты сведем в таблицу:"
   ]
  },
  {
   "cell_type": "markdown",
   "metadata": {},
   "source": [
    "|Имя столбца|Тип данных|Новый тип данных|Описание данных|Пропуски|Причина|Замена\n",
    "|:-------------|:-------------|:-------------|:-------------|:-------------|:-------------|:-------------\n",
    "|airports_nearest|float64|-|расстояние до ближайшего аэропорта в метрах (м)|5542|-|медиана\n",
    "|balcony|float64|Int64|число балконов|11519|Полностью случайный|0\n",
    "|ceiling_height|float64|-|высота потолков (м)|9195|-|медиана\n",
    "|cityCenters_nearest|float64|-|расстояние до центра города (м)|5519|-|медиана\n",
    "|days_exposition|float64|Int64|сколько дней было размещено объявление (от публикации до снятия)|3181|Не продано|Null\n",
    "|first_day_exposition|object|DateTime|дата публикации|0|-|-\n",
    "|floor|Int64|-|этаж|0|-|-\n",
    "|floors_total|float64|Int64|всего этажей в доме|86|-|медиана\n",
    "|is_apartment|object|Bool|апартаменты (булев тип)|20924|Полностью случайный|0\n",
    "|kitchen_area|float64|-|площадь кухни в квадратных метрах (м²)|2278|Неслучайный|Null\n",
    "|last_price|float64|-|цена на момент снятия с публикации|0|-|-\n",
    "|living_area|float64|-|жилая площадь в квадратных метрах (м²)|1980|Неслучайный|Null\n",
    "|locality_name|object|-|название населённого пункта|49|Неслучайный|Null\n",
    "|open_plan|bool|-|свободная планировка (булев тип)|0|-|-\n",
    "|parks_around3000|float64|Int64|число парков в радиусе 3 км|5518|Полностью случайный|0\n",
    "|parks_nearest|float64|-|расстояние до ближайшего парка (м)|15620|Случайный|Null\n",
    "|ponds_around3000|float64|Int64|число водоёмов в радиусе 3 км|5518|Полностью случайный|0\n",
    "|ponds_nearest|float64|-|расстояние до ближайшего водоёма (м)|14589|Случайный|Null\n",
    "|rooms|Int64|-|число комнат|0|-|-\n",
    "|studio|Bool|-|квартирастудия (булев тип)|0|-|-\n",
    "|total_area|float64|-|общая площадь квартиры в квадратных метрах (м²)|0|-|-\n",
    "|total_images|Int64|-|число фотографий квартиры в объявлении|0|-|-"
   ]
  },
  {
   "cell_type": "markdown",
   "metadata": {},
   "source": [
    "#### Работа с пропусками. Найдем и изучим пропущенные значения в столбцах.\n",
    "\n",
    "- Такие значения как `число балконов`, `статус \"апартаменты\"`, `число парков/водоемов`, судя по гистограмме, являются **категориальными**, для них пропуски можно характеризовать как **полностью случайные**, и заменить их на **0**, так как пропуски в этих значениях  вероятнее всего означают остутствие количества рассматриваемой характеристики, т.е. значение равное 0\n",
    "\n",
    "- Значения с пропусками, характеризующих такие величины как `расстояние до аэропорта`, `высоту потолков` и `количества этажей` являются **количественными**, причина их появления, вероятно, в **невнимательном заполнении объявления**. Их можно заменить на **медианное** значение.\n",
    "\n",
    "- Значения с пропусками для величин `расстояние до ближайшего парка (м)` и `расстояние до ближайшего водоёма (м)` **количественные** и являются **случайными**, так как зависят от значения в столбце `число парков в радиусе 3 км` и `число водоемов в радиусе 3 км` \n",
    "  \n",
    "  Указанная зависимость подтверждается выборкой, где представлены все объявления со значением `число парков /водоемов в радиусе 3 км` = 0 (или NaN) и `расстояние до ближайшего парка / водоема (м)` больше 0. Рассмотрим ее:"
   ]
  },
  {
   "cell_type": "code",
   "execution_count": 5,
   "metadata": {
    "scrolled": false
   },
   "outputs": [
    {
     "data": {
      "text/html": [
       "<div>\n",
       "<style scoped>\n",
       "    .dataframe tbody tr th:only-of-type {\n",
       "        vertical-align: middle;\n",
       "    }\n",
       "\n",
       "    .dataframe tbody tr th {\n",
       "        vertical-align: top;\n",
       "    }\n",
       "\n",
       "    .dataframe thead th {\n",
       "        text-align: right;\n",
       "    }\n",
       "</style>\n",
       "<table border=\"1\" class=\"dataframe\">\n",
       "  <thead>\n",
       "    <tr style=\"text-align: right;\">\n",
       "      <th></th>\n",
       "      <th>total_images</th>\n",
       "      <th>last_price</th>\n",
       "      <th>total_area</th>\n",
       "      <th>first_day_exposition</th>\n",
       "      <th>rooms</th>\n",
       "      <th>ceiling_height</th>\n",
       "      <th>floors_total</th>\n",
       "      <th>living_area</th>\n",
       "      <th>floor</th>\n",
       "      <th>is_apartment</th>\n",
       "      <th>studio</th>\n",
       "      <th>open_plan</th>\n",
       "      <th>kitchen_area</th>\n",
       "      <th>balcony</th>\n",
       "      <th>locality_name</th>\n",
       "      <th>airports_nearest</th>\n",
       "      <th>cityCenters_nearest</th>\n",
       "      <th>parks_around3000</th>\n",
       "      <th>parks_nearest</th>\n",
       "      <th>ponds_around3000</th>\n",
       "      <th>ponds_nearest</th>\n",
       "      <th>days_exposition</th>\n",
       "    </tr>\n",
       "  </thead>\n",
       "  <tbody>\n",
       "    <tr>\n",
       "      <th>1590</th>\n",
       "      <td>3</td>\n",
       "      <td>7500000.0</td>\n",
       "      <td>70.0</td>\n",
       "      <td>2017-07-11T00:00:00</td>\n",
       "      <td>2</td>\n",
       "      <td>NaN</td>\n",
       "      <td>18.0</td>\n",
       "      <td>37.0</td>\n",
       "      <td>13</td>\n",
       "      <td>NaN</td>\n",
       "      <td>False</td>\n",
       "      <td>False</td>\n",
       "      <td>10.0</td>\n",
       "      <td>0.0</td>\n",
       "      <td>Санкт-Петербург</td>\n",
       "      <td>14878.0</td>\n",
       "      <td>9791.0</td>\n",
       "      <td>0.0</td>\n",
       "      <td>3064.0</td>\n",
       "      <td>1.0</td>\n",
       "      <td>264.0</td>\n",
       "      <td>4.0</td>\n",
       "    </tr>\n",
       "    <tr>\n",
       "      <th>10959</th>\n",
       "      <td>9</td>\n",
       "      <td>3000000.0</td>\n",
       "      <td>31.1</td>\n",
       "      <td>2017-03-21T00:00:00</td>\n",
       "      <td>1</td>\n",
       "      <td>NaN</td>\n",
       "      <td>5.0</td>\n",
       "      <td>17.7</td>\n",
       "      <td>2</td>\n",
       "      <td>NaN</td>\n",
       "      <td>False</td>\n",
       "      <td>False</td>\n",
       "      <td>5.5</td>\n",
       "      <td>0.0</td>\n",
       "      <td>Санкт-Петербург</td>\n",
       "      <td>14821.0</td>\n",
       "      <td>9734.0</td>\n",
       "      <td>0.0</td>\n",
       "      <td>3190.0</td>\n",
       "      <td>1.0</td>\n",
       "      <td>431.0</td>\n",
       "      <td>234.0</td>\n",
       "    </tr>\n",
       "    <tr>\n",
       "      <th>19208</th>\n",
       "      <td>17</td>\n",
       "      <td>14950000.0</td>\n",
       "      <td>187.0</td>\n",
       "      <td>2017-10-12T00:00:00</td>\n",
       "      <td>5</td>\n",
       "      <td>3.0</td>\n",
       "      <td>2.0</td>\n",
       "      <td>80.0</td>\n",
       "      <td>2</td>\n",
       "      <td>NaN</td>\n",
       "      <td>False</td>\n",
       "      <td>False</td>\n",
       "      <td>17.0</td>\n",
       "      <td>1.0</td>\n",
       "      <td>Санкт-Петербург</td>\n",
       "      <td>36805.0</td>\n",
       "      <td>8656.0</td>\n",
       "      <td>0.0</td>\n",
       "      <td>3013.0</td>\n",
       "      <td>3.0</td>\n",
       "      <td>537.0</td>\n",
       "      <td>49.0</td>\n",
       "    </tr>\n",
       "    <tr>\n",
       "      <th>19430</th>\n",
       "      <td>9</td>\n",
       "      <td>3900000.0</td>\n",
       "      <td>30.5</td>\n",
       "      <td>2018-02-22T00:00:00</td>\n",
       "      <td>1</td>\n",
       "      <td>2.6</td>\n",
       "      <td>5.0</td>\n",
       "      <td>16.5</td>\n",
       "      <td>1</td>\n",
       "      <td>NaN</td>\n",
       "      <td>False</td>\n",
       "      <td>False</td>\n",
       "      <td>5.5</td>\n",
       "      <td>NaN</td>\n",
       "      <td>Санкт-Петербург</td>\n",
       "      <td>14821.0</td>\n",
       "      <td>9734.0</td>\n",
       "      <td>0.0</td>\n",
       "      <td>3190.0</td>\n",
       "      <td>1.0</td>\n",
       "      <td>431.0</td>\n",
       "      <td>176.0</td>\n",
       "    </tr>\n",
       "  </tbody>\n",
       "</table>\n",
       "</div>"
      ],
      "text/plain": [
       "       total_images  last_price  total_area first_day_exposition  rooms  \\\n",
       "1590              3   7500000.0        70.0  2017-07-11T00:00:00      2   \n",
       "10959             9   3000000.0        31.1  2017-03-21T00:00:00      1   \n",
       "19208            17  14950000.0       187.0  2017-10-12T00:00:00      5   \n",
       "19430             9   3900000.0        30.5  2018-02-22T00:00:00      1   \n",
       "\n",
       "       ceiling_height  floors_total  living_area  floor is_apartment  studio  \\\n",
       "1590              NaN          18.0         37.0     13          NaN   False   \n",
       "10959             NaN           5.0         17.7      2          NaN   False   \n",
       "19208             3.0           2.0         80.0      2          NaN   False   \n",
       "19430             2.6           5.0         16.5      1          NaN   False   \n",
       "\n",
       "       open_plan  kitchen_area  balcony    locality_name  airports_nearest  \\\n",
       "1590       False          10.0      0.0  Санкт-Петербург           14878.0   \n",
       "10959      False           5.5      0.0  Санкт-Петербург           14821.0   \n",
       "19208      False          17.0      1.0  Санкт-Петербург           36805.0   \n",
       "19430      False           5.5      NaN  Санкт-Петербург           14821.0   \n",
       "\n",
       "       cityCenters_nearest  parks_around3000  parks_nearest  ponds_around3000  \\\n",
       "1590                9791.0               0.0         3064.0               1.0   \n",
       "10959               9734.0               0.0         3190.0               1.0   \n",
       "19208               8656.0               0.0         3013.0               3.0   \n",
       "19430               9734.0               0.0         3190.0               1.0   \n",
       "\n",
       "       ponds_nearest  days_exposition  \n",
       "1590           264.0              4.0  \n",
       "10959          431.0            234.0  \n",
       "19208          537.0             49.0  \n",
       "19430          431.0            176.0  "
      ]
     },
     "metadata": {},
     "output_type": "display_data"
    },
    {
     "data": {
      "text/html": [
       "<div>\n",
       "<style scoped>\n",
       "    .dataframe tbody tr th:only-of-type {\n",
       "        vertical-align: middle;\n",
       "    }\n",
       "\n",
       "    .dataframe tbody tr th {\n",
       "        vertical-align: top;\n",
       "    }\n",
       "\n",
       "    .dataframe thead th {\n",
       "        text-align: right;\n",
       "    }\n",
       "</style>\n",
       "<table border=\"1\" class=\"dataframe\">\n",
       "  <thead>\n",
       "    <tr style=\"text-align: right;\">\n",
       "      <th></th>\n",
       "      <th>total_images</th>\n",
       "      <th>last_price</th>\n",
       "      <th>total_area</th>\n",
       "      <th>first_day_exposition</th>\n",
       "      <th>rooms</th>\n",
       "      <th>ceiling_height</th>\n",
       "      <th>floors_total</th>\n",
       "      <th>living_area</th>\n",
       "      <th>floor</th>\n",
       "      <th>is_apartment</th>\n",
       "      <th>studio</th>\n",
       "      <th>open_plan</th>\n",
       "      <th>kitchen_area</th>\n",
       "      <th>balcony</th>\n",
       "      <th>locality_name</th>\n",
       "      <th>airports_nearest</th>\n",
       "      <th>cityCenters_nearest</th>\n",
       "      <th>parks_around3000</th>\n",
       "      <th>parks_nearest</th>\n",
       "      <th>ponds_around3000</th>\n",
       "      <th>ponds_nearest</th>\n",
       "      <th>days_exposition</th>\n",
       "    </tr>\n",
       "  </thead>\n",
       "  <tbody>\n",
       "    <tr>\n",
       "      <th>1590</th>\n",
       "      <td>3</td>\n",
       "      <td>7500000.0</td>\n",
       "      <td>70.0</td>\n",
       "      <td>2017-07-11T00:00:00</td>\n",
       "      <td>2</td>\n",
       "      <td>NaN</td>\n",
       "      <td>18.0</td>\n",
       "      <td>37.0</td>\n",
       "      <td>13</td>\n",
       "      <td>NaN</td>\n",
       "      <td>False</td>\n",
       "      <td>False</td>\n",
       "      <td>10.0</td>\n",
       "      <td>0.0</td>\n",
       "      <td>Санкт-Петербург</td>\n",
       "      <td>14878.0</td>\n",
       "      <td>9791.0</td>\n",
       "      <td>0.0</td>\n",
       "      <td>3064.0</td>\n",
       "      <td>1.0</td>\n",
       "      <td>264.0</td>\n",
       "      <td>4.0</td>\n",
       "    </tr>\n",
       "    <tr>\n",
       "      <th>10959</th>\n",
       "      <td>9</td>\n",
       "      <td>3000000.0</td>\n",
       "      <td>31.1</td>\n",
       "      <td>2017-03-21T00:00:00</td>\n",
       "      <td>1</td>\n",
       "      <td>NaN</td>\n",
       "      <td>5.0</td>\n",
       "      <td>17.7</td>\n",
       "      <td>2</td>\n",
       "      <td>NaN</td>\n",
       "      <td>False</td>\n",
       "      <td>False</td>\n",
       "      <td>5.5</td>\n",
       "      <td>0.0</td>\n",
       "      <td>Санкт-Петербург</td>\n",
       "      <td>14821.0</td>\n",
       "      <td>9734.0</td>\n",
       "      <td>0.0</td>\n",
       "      <td>3190.0</td>\n",
       "      <td>1.0</td>\n",
       "      <td>431.0</td>\n",
       "      <td>234.0</td>\n",
       "    </tr>\n",
       "    <tr>\n",
       "      <th>19208</th>\n",
       "      <td>17</td>\n",
       "      <td>14950000.0</td>\n",
       "      <td>187.0</td>\n",
       "      <td>2017-10-12T00:00:00</td>\n",
       "      <td>5</td>\n",
       "      <td>3.0</td>\n",
       "      <td>2.0</td>\n",
       "      <td>80.0</td>\n",
       "      <td>2</td>\n",
       "      <td>NaN</td>\n",
       "      <td>False</td>\n",
       "      <td>False</td>\n",
       "      <td>17.0</td>\n",
       "      <td>1.0</td>\n",
       "      <td>Санкт-Петербург</td>\n",
       "      <td>36805.0</td>\n",
       "      <td>8656.0</td>\n",
       "      <td>0.0</td>\n",
       "      <td>3013.0</td>\n",
       "      <td>3.0</td>\n",
       "      <td>537.0</td>\n",
       "      <td>49.0</td>\n",
       "    </tr>\n",
       "    <tr>\n",
       "      <th>19430</th>\n",
       "      <td>9</td>\n",
       "      <td>3900000.0</td>\n",
       "      <td>30.5</td>\n",
       "      <td>2018-02-22T00:00:00</td>\n",
       "      <td>1</td>\n",
       "      <td>2.6</td>\n",
       "      <td>5.0</td>\n",
       "      <td>16.5</td>\n",
       "      <td>1</td>\n",
       "      <td>NaN</td>\n",
       "      <td>False</td>\n",
       "      <td>False</td>\n",
       "      <td>5.5</td>\n",
       "      <td>NaN</td>\n",
       "      <td>Санкт-Петербург</td>\n",
       "      <td>14821.0</td>\n",
       "      <td>9734.0</td>\n",
       "      <td>0.0</td>\n",
       "      <td>3190.0</td>\n",
       "      <td>1.0</td>\n",
       "      <td>431.0</td>\n",
       "      <td>176.0</td>\n",
       "    </tr>\n",
       "  </tbody>\n",
       "</table>\n",
       "</div>"
      ],
      "text/plain": [
       "       total_images  last_price  total_area first_day_exposition  rooms  \\\n",
       "1590              3   7500000.0        70.0  2017-07-11T00:00:00      2   \n",
       "10959             9   3000000.0        31.1  2017-03-21T00:00:00      1   \n",
       "19208            17  14950000.0       187.0  2017-10-12T00:00:00      5   \n",
       "19430             9   3900000.0        30.5  2018-02-22T00:00:00      1   \n",
       "\n",
       "       ceiling_height  floors_total  living_area  floor is_apartment  studio  \\\n",
       "1590              NaN          18.0         37.0     13          NaN   False   \n",
       "10959             NaN           5.0         17.7      2          NaN   False   \n",
       "19208             3.0           2.0         80.0      2          NaN   False   \n",
       "19430             2.6           5.0         16.5      1          NaN   False   \n",
       "\n",
       "       open_plan  kitchen_area  balcony    locality_name  airports_nearest  \\\n",
       "1590       False          10.0      0.0  Санкт-Петербург           14878.0   \n",
       "10959      False           5.5      0.0  Санкт-Петербург           14821.0   \n",
       "19208      False          17.0      1.0  Санкт-Петербург           36805.0   \n",
       "19430      False           5.5      NaN  Санкт-Петербург           14821.0   \n",
       "\n",
       "       cityCenters_nearest  parks_around3000  parks_nearest  ponds_around3000  \\\n",
       "1590                9791.0               0.0         3064.0               1.0   \n",
       "10959               9734.0               0.0         3190.0               1.0   \n",
       "19208               8656.0               0.0         3013.0               3.0   \n",
       "19430               9734.0               0.0         3190.0               1.0   \n",
       "\n",
       "       ponds_nearest  days_exposition  \n",
       "1590           264.0              4.0  \n",
       "10959          431.0            234.0  \n",
       "19208          537.0             49.0  \n",
       "19430          431.0            176.0  "
      ]
     },
     "metadata": {},
     "output_type": "display_data"
    }
   ],
   "source": [
    "display(\n",
    "    data.query(\n",
    "        '((parks_around3000 == 0 or parks_around3000 != parks_around3000) and parks_nearest > 0) \\\n",
    "        or ((ponds_around3000 == 0 or ponds_around3000 != ponds_around3000) and ponds_nearest > 0)')\n",
    ")\n",
    "\n",
    "display(\n",
    "    data.query(\n",
    "        '((parks_around3000 == 0 or parks_around3000 != parks_around3000) and parks_nearest > 0) \\\n",
    "        or ((ponds_around3000 == 0 or ponds_around3000 != ponds_around3000) and ponds_nearest > 0)')\n",
    ")"
   ]
  },
  {
   "cell_type": "markdown",
   "metadata": {},
   "source": [
    "- \n",
    "  Как видно существует только 4 таких объявления, то есть в основной массе, если в объявлении указано 0 или NaN парков в пределах 3000 м то расстояние до ближайших парков 0 или NaN\n",
    "  \n",
    "  Таким образом, пропуски в столбцах `расстояние до ближайшего парка (м)` и `расстояние до ближайшего водоёма (м)` мы не меняем, т.е оставляем **пустыми (Null)**, так как \n",
    "  \n",
    "  + Таких пропусков больше половины от общей выборки набора данных\n",
    "  + Подходящее значение для замены неопределимо, т.к. у нас нет выборки значений расстояния для квартир удаленных от парков/водоемов  \n",
    "\n",
    "\n",
    "- Существуют **неслучайные** пропуски, например `площадь кухни`, `жилая площадь` и `название населенного пункта` (часть адреса). Такие значение характеризуют непосредственно сам объект недвижимости, и их отсутствие **не объяснить логически**. Эти значения заменим на **пустые (Null)**\n",
    "\n",
    "Выполним замену значений по принятым правилам:"
   ]
  },
  {
   "cell_type": "markdown",
   "metadata": {},
   "source": [
    "- для значений в столбцах `airports_nearest`, `ceiling_height`, `cityCenters_nearest`, `floors_total` все `NaN` заполним медианным значением для всего соответствующего столбца"
   ]
  },
  {
   "cell_type": "code",
   "execution_count": 6,
   "metadata": {},
   "outputs": [],
   "source": [
    "def nan_to_median(column_names):                 # объявим функцию nan_to_median, принимающую в аргументах список со значениями \n",
    "    for name in column_names:                    # столбцов и заменяющую все NaN значения в каждом столбце на median\n",
    "        data[name] = data[name].where(           # Столбцу 'column_name' методом .where\n",
    "        ~(data[name].isna()),data[name].median() # присвоим значение медианы, если значение в толбце равно NaN\n",
    "        )                                        # Функция возвращает None, т.е работает как процедура, {привет TurboPascal!}\n",
    "\n",
    "# вызываем функцию nan_to_median, передаем ей требуемые значения столбцов\n",
    "nan_to_median(['airports_nearest', 'ceiling_height', 'cityCenters_nearest', 'floors_total']) \n",
    "\n",
    "# как вариант можно было пройтись двумя вложенными циклами, вместо выделения функции nan_to_median, но этот вариант немасштабируемый"
   ]
  },
  {
   "cell_type": "markdown",
   "metadata": {},
   "source": [
    "- для значений в столбцах `balcony`, `is_apartment`, `parks_around3000` и `ponds_around3000` все NaN заполним значением равным 0"
   ]
  },
  {
   "cell_type": "code",
   "execution_count": 7,
   "metadata": {},
   "outputs": [],
   "source": [
    "def nan_to_zero(column_names):                   # объявим функцию nan_to_zero, принимающую в аргументах список со значениями \n",
    "    for name in column_names:                    # столбцов и заменяющую все NaN значения в каждом столбце на 0\n",
    "        data[name] = data[name].where(           # Столбцу 'column_name' методом .where\n",
    "        ~(data[name].isna()), 0                  # присвоим значение = 0, если значение в толбце равно NaN\n",
    "        )                                        # Функция возвращает None, т.е работает как процедура.\n",
    "\n",
    "# вызываем функцию nan_to_zero, передаем ей требуемые значения столбцов\n",
    "nan_to_zero(['balcony', 'is_apartment', 'parks_around3000', 'ponds_around3000']) "
   ]
  },
  {
   "cell_type": "markdown",
   "metadata": {},
   "source": [
    "Проверим основную информацию о наборе данных:"
   ]
  },
  {
   "cell_type": "code",
   "execution_count": 8,
   "metadata": {
    "scrolled": false
   },
   "outputs": [
    {
     "name": "stdout",
     "output_type": "stream",
     "text": [
      "<class 'pandas.core.frame.DataFrame'>\n",
      "RangeIndex: 23699 entries, 0 to 23698\n",
      "Data columns (total 22 columns):\n",
      " #   Column                Non-Null Count  Dtype  \n",
      "---  ------                --------------  -----  \n",
      " 0   total_images          23699 non-null  int64  \n",
      " 1   last_price            23699 non-null  float64\n",
      " 2   total_area            23699 non-null  float64\n",
      " 3   first_day_exposition  23699 non-null  object \n",
      " 4   rooms                 23699 non-null  int64  \n",
      " 5   ceiling_height        23699 non-null  float64\n",
      " 6   floors_total          23699 non-null  float64\n",
      " 7   living_area           21796 non-null  float64\n",
      " 8   floor                 23699 non-null  int64  \n",
      " 9   is_apartment          23699 non-null  object \n",
      " 10  studio                23699 non-null  bool   \n",
      " 11  open_plan             23699 non-null  bool   \n",
      " 12  kitchen_area          21421 non-null  float64\n",
      " 13  balcony               23699 non-null  float64\n",
      " 14  locality_name         23650 non-null  object \n",
      " 15  airports_nearest      23699 non-null  float64\n",
      " 16  cityCenters_nearest   23699 non-null  float64\n",
      " 17  parks_around3000      23699 non-null  float64\n",
      " 18  parks_nearest         8079 non-null   float64\n",
      " 19  ponds_around3000      23699 non-null  float64\n",
      " 20  ponds_nearest         9110 non-null   float64\n",
      " 21  days_exposition       20518 non-null  float64\n",
      "dtypes: bool(2), float64(14), int64(3), object(3)\n",
      "memory usage: 3.7+ MB\n"
     ]
    }
   ],
   "source": [
    "data.info()"
   ]
  },
  {
   "cell_type": "markdown",
   "metadata": {},
   "source": [
    "В наборе данных остались только 6 столбцов с пропусками, что соответствует принятым в настоящем исследовании правилам."
   ]
  },
  {
   "cell_type": "markdown",
   "metadata": {},
   "source": [
    "#### Преобразование типов данных в столбцах. "
   ]
  },
  {
   "cell_type": "markdown",
   "metadata": {},
   "source": [
    "Предварительно в сводной таблице были обозначены типы данных столбцов и предложена замена типа данных.\n",
    "\n",
    "Объясним необходимость замены для каждых отмеченных столбцов:\n",
    "- столбцы `balcony`, `days_exposition`, `floors_total`, `parks_around3000` и `ponds_around3000` предполагают числовое значение и хранятся в виде десятичных дробей **float64**, хотя по смыслу должны быть целыми числами **Int64**\n",
    "- столбец `first_day_exposition` изначально представлен значениями в виде **строки**, но по смыслу это **даты**\n",
    "- столбец `is_apartment` хранит категориальные, буллевы значения но в виде **строк**, т.е. может принимать вид только **Да или Нет**\n",
    "\n",
    "Приведем типы данных указанных столбцов по принятым правилам:"
   ]
  },
  {
   "cell_type": "markdown",
   "metadata": {},
   "source": [
    "- для значений в столбцах `balcony`, `days_exposition`, `floors_total`, `parks_around3000` и `ponds_around3000` тип значения *float64* заменим на целочисленное **Int64**:"
   ]
  },
  {
   "cell_type": "code",
   "execution_count": 9,
   "metadata": {},
   "outputs": [],
   "source": [
    "def float_to_int(column_names):                          # объявим функцию float_to_int, принимающую в аргументах список со значениями \n",
    "    for name in column_names:                            # столбцов и заменяющую все float значения в каждом столбце на int\n",
    "        data[name] = data[name].where(                   # Столбцу 'column_name' методом .where\n",
    "        ~(data[name].isna()), data[name].astype('int64') # присвоим тип = 'Int64', если значение в толбце НЕ равно NaN\n",
    "        )                                                # Функция возвращает None, т.е работает как процедура.\n",
    "\n",
    "# вызываем функцию float_to_int, передаем ей требуемые значения столбцов\n",
    "float_to_int(['balcony', 'floors_total', 'parks_around3000', 'ponds_around3000'])"
   ]
  },
  {
   "cell_type": "markdown",
   "metadata": {},
   "source": [
    "- для значений в столбцах `first_day_exposition` тип значения *object (строка)* заменим на формат **DateTime**\n",
    "- для значений в столбце `is_apartment` тип значения *object (строка)* заменим на формат **Boolean**"
   ]
  },
  {
   "cell_type": "code",
   "execution_count": 10,
   "metadata": {},
   "outputs": [],
   "source": [
    "data['first_day_exposition'] = pd.to_datetime(data['first_day_exposition'], format='%Y-%m-%dT%H:%M:%S')\n",
    "data['is_apartment'] = data['is_apartment'].astype('bool')"
   ]
  },
  {
   "cell_type": "markdown",
   "metadata": {},
   "source": [
    "Проверим основную информацию о наборе данных и убедимся, что типы данных исправлены как и задумано:"
   ]
  },
  {
   "cell_type": "code",
   "execution_count": 11,
   "metadata": {
    "scrolled": false
   },
   "outputs": [
    {
     "name": "stdout",
     "output_type": "stream",
     "text": [
      "<class 'pandas.core.frame.DataFrame'>\n",
      "RangeIndex: 23699 entries, 0 to 23698\n",
      "Data columns (total 22 columns):\n",
      " #   Column                Non-Null Count  Dtype         \n",
      "---  ------                --------------  -----         \n",
      " 0   total_images          23699 non-null  int64         \n",
      " 1   last_price            23699 non-null  float64       \n",
      " 2   total_area            23699 non-null  float64       \n",
      " 3   first_day_exposition  23699 non-null  datetime64[ns]\n",
      " 4   rooms                 23699 non-null  int64         \n",
      " 5   ceiling_height        23699 non-null  float64       \n",
      " 6   floors_total          23699 non-null  float64       \n",
      " 7   living_area           21796 non-null  float64       \n",
      " 8   floor                 23699 non-null  int64         \n",
      " 9   is_apartment          23699 non-null  bool          \n",
      " 10  studio                23699 non-null  bool          \n",
      " 11  open_plan             23699 non-null  bool          \n",
      " 12  kitchen_area          21421 non-null  float64       \n",
      " 13  balcony               23699 non-null  float64       \n",
      " 14  locality_name         23650 non-null  object        \n",
      " 15  airports_nearest      23699 non-null  float64       \n",
      " 16  cityCenters_nearest   23699 non-null  float64       \n",
      " 17  parks_around3000      23699 non-null  float64       \n",
      " 18  parks_nearest         8079 non-null   float64       \n",
      " 19  ponds_around3000      23699 non-null  float64       \n",
      " 20  ponds_nearest         9110 non-null   float64       \n",
      " 21  days_exposition       20518 non-null  float64       \n",
      "dtypes: bool(3), datetime64[ns](1), float64(14), int64(3), object(1)\n",
      "memory usage: 3.5+ MB\n"
     ]
    }
   ],
   "source": [
    "data.info()"
   ]
  },
  {
   "cell_type": "markdown",
   "metadata": {},
   "source": [
    "#### Удаление неявных дубликатов\n",
    "\n",
    "Судя по описанию столбцов неявные дубликаты могут быть только в `locality_name ` - назвние населенного пункта. Изучим значения в этих столбцах и удалим неявные дубликаты, затрудняющие категоризацию:"
   ]
  },
  {
   "cell_type": "code",
   "execution_count": 12,
   "metadata": {
    "scrolled": false
   },
   "outputs": [
    {
     "name": "stdout",
     "output_type": "stream",
     "text": [
      "Количество уникальных значений в \"locality_name\": 365\n"
     ]
    }
   ],
   "source": [
    "print('Количество уникальных значений в \"locality_name\":',len(data['locality_name'].unique()))"
   ]
  },
  {
   "cell_type": "markdown",
   "metadata": {},
   "source": [
    "365 значений - это много. Можно попытаться отыскать неявные дубликаты вручную, но для начала зменим распространенные в столбце варианты написания типа населенного пункта, для уменьшения количества неявных дубликатов:\n",
    "- посёлок -> поселок\n",
    "- городской поселок -> поселок городского типа\n",
    "- поселок при железнодорожной станции -> поселок станции\n",
    "- садоводческое некоммерческое товарищество -> садовое товарищество"
   ]
  },
  {
   "cell_type": "code",
   "execution_count": 13,
   "metadata": {
    "scrolled": false
   },
   "outputs": [
    {
     "name": "stdout",
     "output_type": "stream",
     "text": [
      "Количество уникальных значений в \"locality_name_unique\" после автоматической замены: 322\n",
      "Выполнено 43 замены после проверки по дубликатам в наименованиях типов населенных пунктов.\n"
     ]
    }
   ],
   "source": [
    "# создадим новый столбец с копией locality_name для анализа неявных совпадений\n",
    "data['locality_name_unique'] = data['locality_name']\n",
    "\n",
    "# Заменим повторяющиеся пробелы, если они присутствуют\n",
    "data['locality_name_unique'] = data['locality_name_unique'].str.replace('  ', ' ') \n",
    "\n",
    "# В столбце locality_name_unique обрежем пробелы в начале и конце строки\n",
    "data['locality_name_unique'] = data['locality_name_unique'].str.strip()\n",
    "\n",
    "# Приведем названия типов населенных пунктов к единому виду\n",
    "data['locality_name_unique'] = data['locality_name_unique'].str.replace('посёлок', 'поселок')\n",
    "data['locality_name_unique'] = data['locality_name_unique'].str.replace('городской поселок', 'поселок городского типа')\n",
    "data['locality_name_unique'] = data['locality_name_unique'].str.replace('поселок при железнодорожной станции', 'поселок станции')\n",
    "data['locality_name_unique'] = data['locality_name_unique'].str.replace('садоводческое некоммерческое товарищество', 'садовое товарищество')\n",
    "\n",
    "\n",
    "wrong_list_dict ={\n",
    "    'поселок': ['посёлок', 'паселок', 'пслок'],\n",
    "    'поселок городского типа': ['городской поселок', 'поселок городской', 'пгт'],\n",
    "    'поселок станции': ['поселок при железнодорожной станции', 'поселок при ж.д'], \n",
    "    'садовое товарищество':['садоводческое некоммерческое товарищество', 'cнт']\n",
    "\n",
    "def wrong_to_correct (wrong_list_dict, column):\n",
    "    for correct_name, wrong_name_list in wrong_list_dict:\n",
    "        if data[column].loc[data[column]] in wrong_name_list]\n",
    "    \n",
    "    \n",
    "     \n",
    "\n",
    "    \n",
    "\n",
    "\n",
    "\n",
    "\n",
    "\n",
    "\n",
    "# выведем обновленное количество уникальных значений в locality_name_unique\n",
    "print('Количество уникальных значений в \"locality_name_unique\" после автоматической замены:',len(data['locality_name_unique'].unique())) \n",
    "# и количество проведенных замен\n",
    "print('Выполнено', len(data['locality_name'].unique()) - len(data['locality_name_unique'].unique()), 'замены после проверки по дубликатам в наименованиях типов населенных пунктов.')"
   ]
  },
  {
   "cell_type": "markdown",
   "metadata": {},
   "source": [
    "Дубликаты могут быть также связаны с тем, что один и тот же населенный пункт может называться например и селом и поселком.\n",
    "\n",
    "Покажем такую выборку и оценим ее."
   ]
  },
  {
   "cell_type": "code",
   "execution_count": 14,
   "metadata": {
    "scrolled": false
   },
   "outputs": [
    {
     "name": "stdout",
     "output_type": "stream",
     "text": [
      "Хотя таких неявных дубликатов не очень много, их можно поправить. Исходя из открытых данных выделим неявные дубликаты:\n"
     ]
    },
    {
     "data": {
      "text/html": [
       "<div>\n",
       "<style scoped>\n",
       "    .dataframe tbody tr th:only-of-type {\n",
       "        vertical-align: middle;\n",
       "    }\n",
       "\n",
       "    .dataframe tbody tr th {\n",
       "        vertical-align: top;\n",
       "    }\n",
       "\n",
       "    .dataframe thead th {\n",
       "        text-align: right;\n",
       "    }\n",
       "</style>\n",
       "<table border=\"1\" class=\"dataframe\">\n",
       "  <thead>\n",
       "    <tr style=\"text-align: right;\">\n",
       "      <th></th>\n",
       "      <th>count</th>\n",
       "      <th>origin_name</th>\n",
       "      <th>naked_name</th>\n",
       "      <th>implicit_duplicate</th>\n",
       "    </tr>\n",
       "    <tr>\n",
       "      <th>locality_name_unique</th>\n",
       "      <th></th>\n",
       "      <th></th>\n",
       "      <th></th>\n",
       "      <th></th>\n",
       "    </tr>\n",
       "  </thead>\n",
       "  <tbody>\n",
       "    <tr>\n",
       "      <th>деревня Гарболово</th>\n",
       "      <td>13</td>\n",
       "      <td>деревня Гарболово</td>\n",
       "      <td>Гарболово</td>\n",
       "      <td>True</td>\n",
       "    </tr>\n",
       "    <tr>\n",
       "      <th>поселок Гарболово</th>\n",
       "      <td>4</td>\n",
       "      <td>поселок Гарболово</td>\n",
       "      <td>Гарболово</td>\n",
       "      <td>True</td>\n",
       "    </tr>\n",
       "    <tr>\n",
       "      <th>поселок станции Громово</th>\n",
       "      <td>3</td>\n",
       "      <td>поселок станции Громово</td>\n",
       "      <td>Громово</td>\n",
       "      <td>False</td>\n",
       "    </tr>\n",
       "    <tr>\n",
       "      <th>поселок Громово</th>\n",
       "      <td>3</td>\n",
       "      <td>поселок Громово</td>\n",
       "      <td>Громово</td>\n",
       "      <td>False</td>\n",
       "    </tr>\n",
       "    <tr>\n",
       "      <th>поселок Зимитицы</th>\n",
       "      <td>3</td>\n",
       "      <td>поселок Зимитицы</td>\n",
       "      <td>Зимитицы</td>\n",
       "      <td>True</td>\n",
       "    </tr>\n",
       "    <tr>\n",
       "      <th>деревня Зимитицы</th>\n",
       "      <td>1</td>\n",
       "      <td>деревня Зимитицы</td>\n",
       "      <td>Зимитицы</td>\n",
       "      <td>True</td>\n",
       "    </tr>\n",
       "    <tr>\n",
       "      <th>поселок Калитино</th>\n",
       "      <td>1</td>\n",
       "      <td>поселок Калитино</td>\n",
       "      <td>Калитино</td>\n",
       "      <td>True</td>\n",
       "    </tr>\n",
       "    <tr>\n",
       "      <th>деревня Калитино</th>\n",
       "      <td>7</td>\n",
       "      <td>деревня Калитино</td>\n",
       "      <td>Калитино</td>\n",
       "      <td>True</td>\n",
       "    </tr>\n",
       "    <tr>\n",
       "      <th>Кудрово</th>\n",
       "      <td>173</td>\n",
       "      <td>Кудрово</td>\n",
       "      <td>Кудрово</td>\n",
       "      <td>True</td>\n",
       "    </tr>\n",
       "    <tr>\n",
       "      <th>деревня Кудрово</th>\n",
       "      <td>299</td>\n",
       "      <td>деревня Кудрово</td>\n",
       "      <td>Кудрово</td>\n",
       "      <td>True</td>\n",
       "    </tr>\n",
       "    <tr>\n",
       "      <th>поселок Лесное</th>\n",
       "      <td>2</td>\n",
       "      <td>поселок Лесное</td>\n",
       "      <td>Лесное</td>\n",
       "      <td>False</td>\n",
       "    </tr>\n",
       "    <tr>\n",
       "      <th>коттеджный поселок Лесное</th>\n",
       "      <td>1</td>\n",
       "      <td>коттеджный поселок Лесное</td>\n",
       "      <td>Лесное</td>\n",
       "      <td>False</td>\n",
       "    </tr>\n",
       "    <tr>\n",
       "      <th>поселок Любань</th>\n",
       "      <td>3</td>\n",
       "      <td>поселок Любань</td>\n",
       "      <td>Любань</td>\n",
       "      <td>True</td>\n",
       "    </tr>\n",
       "    <tr>\n",
       "      <th>Любань</th>\n",
       "      <td>8</td>\n",
       "      <td>Любань</td>\n",
       "      <td>Любань</td>\n",
       "      <td>True</td>\n",
       "    </tr>\n",
       "    <tr>\n",
       "      <th>Мурино</th>\n",
       "      <td>34</td>\n",
       "      <td>Мурино</td>\n",
       "      <td>Мурино</td>\n",
       "      <td>True</td>\n",
       "    </tr>\n",
       "    <tr>\n",
       "      <th>поселок Мурино</th>\n",
       "      <td>556</td>\n",
       "      <td>поселок Мурино</td>\n",
       "      <td>Мурино</td>\n",
       "      <td>True</td>\n",
       "    </tr>\n",
       "    <tr>\n",
       "      <th>село Никольское</th>\n",
       "      <td>1</td>\n",
       "      <td>село Никольское</td>\n",
       "      <td>Никольское</td>\n",
       "      <td>False</td>\n",
       "    </tr>\n",
       "    <tr>\n",
       "      <th>Никольское</th>\n",
       "      <td>93</td>\n",
       "      <td>Никольское</td>\n",
       "      <td>Никольское</td>\n",
       "      <td>False</td>\n",
       "    </tr>\n",
       "    <tr>\n",
       "      <th>поселок городского типа Павлово</th>\n",
       "      <td>11</td>\n",
       "      <td>поселок городского типа Павлово</td>\n",
       "      <td>Павлово</td>\n",
       "      <td>False</td>\n",
       "    </tr>\n",
       "    <tr>\n",
       "      <th>село Павлово</th>\n",
       "      <td>7</td>\n",
       "      <td>село Павлово</td>\n",
       "      <td>Павлово</td>\n",
       "      <td>False</td>\n",
       "    </tr>\n",
       "    <tr>\n",
       "      <th>садовое товарищество Приладожский</th>\n",
       "      <td>1</td>\n",
       "      <td>садовое товарищество Приладожский</td>\n",
       "      <td>Приладожский</td>\n",
       "      <td>True</td>\n",
       "    </tr>\n",
       "    <tr>\n",
       "      <th>поселок городского типа Приладожский</th>\n",
       "      <td>9</td>\n",
       "      <td>поселок городского типа Приладожский</td>\n",
       "      <td>Приладожский</td>\n",
       "      <td>True</td>\n",
       "    </tr>\n",
       "    <tr>\n",
       "      <th>поселок Рабитицы</th>\n",
       "      <td>1</td>\n",
       "      <td>поселок Рабитицы</td>\n",
       "      <td>Рабитицы</td>\n",
       "      <td>False</td>\n",
       "    </tr>\n",
       "    <tr>\n",
       "      <th>деревня Рабитицы</th>\n",
       "      <td>2</td>\n",
       "      <td>деревня Рабитицы</td>\n",
       "      <td>Рабитицы</td>\n",
       "      <td>False</td>\n",
       "    </tr>\n",
       "    <tr>\n",
       "      <th>садовое товарищество Рахья</th>\n",
       "      <td>1</td>\n",
       "      <td>садовое товарищество Рахья</td>\n",
       "      <td>Рахья</td>\n",
       "      <td>True</td>\n",
       "    </tr>\n",
       "    <tr>\n",
       "      <th>поселок городского типа Рахья</th>\n",
       "      <td>15</td>\n",
       "      <td>поселок городского типа Рахья</td>\n",
       "      <td>Рахья</td>\n",
       "      <td>True</td>\n",
       "    </tr>\n",
       "    <tr>\n",
       "      <th>поселок Рябово</th>\n",
       "      <td>2</td>\n",
       "      <td>поселок Рябово</td>\n",
       "      <td>Рябово</td>\n",
       "      <td>False</td>\n",
       "    </tr>\n",
       "    <tr>\n",
       "      <th>поселок городского типа Рябово</th>\n",
       "      <td>2</td>\n",
       "      <td>поселок городского типа Рябово</td>\n",
       "      <td>Рябово</td>\n",
       "      <td>False</td>\n",
       "    </tr>\n",
       "    <tr>\n",
       "      <th>поселок городского типа Фёдоровское</th>\n",
       "      <td>7</td>\n",
       "      <td>поселок городского типа Фёдоровское</td>\n",
       "      <td>Фёдоровское</td>\n",
       "      <td>True</td>\n",
       "    </tr>\n",
       "    <tr>\n",
       "      <th>деревня Фёдоровское</th>\n",
       "      <td>8</td>\n",
       "      <td>деревня Фёдоровское</td>\n",
       "      <td>Фёдоровское</td>\n",
       "      <td>True</td>\n",
       "    </tr>\n",
       "    <tr>\n",
       "      <th>поселок Щеглово</th>\n",
       "      <td>23</td>\n",
       "      <td>поселок Щеглово</td>\n",
       "      <td>Щеглово</td>\n",
       "      <td>True</td>\n",
       "    </tr>\n",
       "    <tr>\n",
       "      <th>деревня Щеглово</th>\n",
       "      <td>1</td>\n",
       "      <td>деревня Щеглово</td>\n",
       "      <td>Щеглово</td>\n",
       "      <td>True</td>\n",
       "    </tr>\n",
       "  </tbody>\n",
       "</table>\n",
       "</div>"
      ],
      "text/plain": [
       "                                      count  \\\n",
       "locality_name_unique                          \n",
       "деревня Гарболово                        13   \n",
       "поселок Гарболово                         4   \n",
       "поселок станции Громово                   3   \n",
       "поселок Громово                           3   \n",
       "поселок Зимитицы                          3   \n",
       "деревня Зимитицы                          1   \n",
       "поселок Калитино                          1   \n",
       "деревня Калитино                          7   \n",
       "Кудрово                                 173   \n",
       "деревня Кудрово                         299   \n",
       "поселок Лесное                            2   \n",
       "коттеджный поселок Лесное                 1   \n",
       "поселок Любань                            3   \n",
       "Любань                                    8   \n",
       "Мурино                                   34   \n",
       "поселок Мурино                          556   \n",
       "село Никольское                           1   \n",
       "Никольское                               93   \n",
       "поселок городского типа Павлово          11   \n",
       "село Павлово                              7   \n",
       "садовое товарищество Приладожский         1   \n",
       "поселок городского типа Приладожский      9   \n",
       "поселок Рабитицы                          1   \n",
       "деревня Рабитицы                          2   \n",
       "садовое товарищество Рахья                1   \n",
       "поселок городского типа Рахья            15   \n",
       "поселок Рябово                            2   \n",
       "поселок городского типа Рябово            2   \n",
       "поселок городского типа Фёдоровское       7   \n",
       "деревня Фёдоровское                       8   \n",
       "поселок Щеглово                          23   \n",
       "деревня Щеглово                           1   \n",
       "\n",
       "                                                               origin_name  \\\n",
       "locality_name_unique                                                         \n",
       "деревня Гарболово                                        деревня Гарболово   \n",
       "поселок Гарболово                                        поселок Гарболово   \n",
       "поселок станции Громово                            поселок станции Громово   \n",
       "поселок Громово                                            поселок Громово   \n",
       "поселок Зимитицы                                          поселок Зимитицы   \n",
       "деревня Зимитицы                                          деревня Зимитицы   \n",
       "поселок Калитино                                          поселок Калитино   \n",
       "деревня Калитино                                          деревня Калитино   \n",
       "Кудрово                                                            Кудрово   \n",
       "деревня Кудрово                                            деревня Кудрово   \n",
       "поселок Лесное                                              поселок Лесное   \n",
       "коттеджный поселок Лесное                        коттеджный поселок Лесное   \n",
       "поселок Любань                                              поселок Любань   \n",
       "Любань                                                              Любань   \n",
       "Мурино                                                              Мурино   \n",
       "поселок Мурино                                              поселок Мурино   \n",
       "село Никольское                                            село Никольское   \n",
       "Никольское                                                      Никольское   \n",
       "поселок городского типа Павлово            поселок городского типа Павлово   \n",
       "село Павлово                                                  село Павлово   \n",
       "садовое товарищество Приладожский        садовое товарищество Приладожский   \n",
       "поселок городского типа Приладожский  поселок городского типа Приладожский   \n",
       "поселок Рабитицы                                          поселок Рабитицы   \n",
       "деревня Рабитицы                                          деревня Рабитицы   \n",
       "садовое товарищество Рахья                      садовое товарищество Рахья   \n",
       "поселок городского типа Рахья                поселок городского типа Рахья   \n",
       "поселок Рябово                                              поселок Рябово   \n",
       "поселок городского типа Рябово              поселок городского типа Рябово   \n",
       "поселок городского типа Фёдоровское    поселок городского типа Фёдоровское   \n",
       "деревня Фёдоровское                                    деревня Фёдоровское   \n",
       "поселок Щеглово                                            поселок Щеглово   \n",
       "деревня Щеглово                                            деревня Щеглово   \n",
       "\n",
       "                                        naked_name  implicit_duplicate  \n",
       "locality_name_unique                                                    \n",
       "деревня Гарболово                        Гарболово                True  \n",
       "поселок Гарболово                        Гарболово                True  \n",
       "поселок станции Громово                    Громово               False  \n",
       "поселок Громово                            Громово               False  \n",
       "поселок Зимитицы                          Зимитицы                True  \n",
       "деревня Зимитицы                          Зимитицы                True  \n",
       "поселок Калитино                          Калитино                True  \n",
       "деревня Калитино                          Калитино                True  \n",
       "Кудрово                                    Кудрово                True  \n",
       "деревня Кудрово                            Кудрово                True  \n",
       "поселок Лесное                              Лесное               False  \n",
       "коттеджный поселок Лесное                   Лесное               False  \n",
       "поселок Любань                              Любань                True  \n",
       "Любань                                      Любань                True  \n",
       "Мурино                                      Мурино                True  \n",
       "поселок Мурино                              Мурино                True  \n",
       "село Никольское                         Никольское               False  \n",
       "Никольское                              Никольское               False  \n",
       "поселок городского типа Павлово            Павлово               False  \n",
       "село Павлово                               Павлово               False  \n",
       "садовое товарищество Приладожский     Приладожский                True  \n",
       "поселок городского типа Приладожский  Приладожский                True  \n",
       "поселок Рабитицы                          Рабитицы               False  \n",
       "деревня Рабитицы                          Рабитицы               False  \n",
       "садовое товарищество Рахья                   Рахья                True  \n",
       "поселок городского типа Рахья                Рахья                True  \n",
       "поселок Рябово                              Рябово               False  \n",
       "поселок городского типа Рябово              Рябово               False  \n",
       "поселок городского типа Фёдоровское    Фёдоровское                True  \n",
       "деревня Фёдоровское                    Фёдоровское                True  \n",
       "поселок Щеглово                            Щеглово                True  \n",
       "деревня Щеглово                            Щеглово                True  "
      ]
     },
     "metadata": {},
     "output_type": "display_data"
    },
    {
     "name": "stdout",
     "output_type": "stream",
     "text": [
      "Столбец implicit_duplicate содержит признак неявного дубликата. Эти значения получены ручным анализом по Яндекс Картам\n"
     ]
    }
   ],
   "source": [
    "# Создадим сводную таблицу с уникальными данными из locality_name_unique для дополнительного анализа неявных совпадений\n",
    "locality_name_unique_pivot = data.pivot_table(index='locality_name_unique', values='last_price', aggfunc='count')\n",
    "\n",
    "# Переименуем столбцы\n",
    "locality_name_unique_pivot.columns = ['count']\n",
    "\n",
    "# Удалим все названия типов населенных пунктов из таблицы locality_name_unique_pivot, для этого\n",
    "# Создадим список названий типов населенных пунктов, \n",
    "# в начале списка разместим \"длинные\" значения чтобы корректно обработать удаления\n",
    "locality_name_types = ['поселок городского типа', 'поселок станции', 'коттеджный поселок', 'садовое товарищество', 'поселок', 'деревня', 'село']\n",
    "\n",
    "# В таблицу locality_name_unique_pivot добавим колонку origin_name c названиями населенных пунктов из индекса.\n",
    "locality_name_unique_pivot['origin_name'] = locality_name_unique_pivot.index\n",
    "\n",
    "# В таблицу locality_name_unique_pivot добавим колонку naked_name без названий типов населенных пунктов.\n",
    "locality_name_unique_pivot['naked_name'] = locality_name_unique_pivot.index\n",
    "\n",
    "# Вызовем цикл для перебора по списку названий\n",
    "for name_type in locality_name_types:\n",
    "    locality_name_unique_pivot['naked_name'] = locality_name_unique_pivot['naked_name'].str.replace(name_type, '')\n",
    "    \n",
    "# В столбце naked_name обрежем пробелы в начале и конце строки\n",
    "locality_name_unique_pivot['naked_name'] = locality_name_unique_pivot['naked_name'].str.strip()\n",
    "  \n",
    "# Теперь получим только повторяющиеся значения из таблицы locality_name_unique_pivot по колонке naked_name и оценим результат\n",
    "locality_name_unique_pivot = locality_name_unique_pivot[locality_name_unique_pivot['naked_name'].isin(\n",
    "    locality_name_unique_pivot['naked_name'][locality_name_unique_pivot['naked_name'].duplicated()])].sort_values('naked_name')\n",
    "\n",
    "# Создадим маску с признаками дубля на значения origin_name. Эти данные получены вручную, анализом по Яндекс картам\n",
    "locality_name_unique_pivot['implicit_duplicate'] = [True, True, False, False, True, True, True, True, True, True, False, False, True, True, True, True, False, False, False, False, True, True, False, False, True, True, False, False, True, True, True, True] \n",
    "\n",
    "print('Хотя таких неявных дубликатов не очень много, их можно поправить. Исходя из открытых данных выделим неявные дубликаты:')\n",
    "\n",
    "pd.set_option('display.max_rows', None) # Уберем ограничение кол-ва выводимых строк для наглядной оценки\n",
    "display(locality_name_unique_pivot)\n",
    "pd.set_option('display.max_rows', 10)   # Вернем стандартное ограничение кол-ва выводимых строк\n",
    "\n",
    "print('Столбец implicit_duplicate содержит признак неявного дубликата. Эти значения получены ручным анализом по Яндекс Картам')"
   ]
  },
  {
   "cell_type": "markdown",
   "metadata": {},
   "source": [
    "Переименование неявного дубликата будем проводить по правилу: переименуем в то название, для которого есть больше объявлений"
   ]
  },
  {
   "cell_type": "code",
   "execution_count": 15,
   "metadata": {},
   "outputs": [
    {
     "data": {
      "text/html": [
       "<div>\n",
       "<style scoped>\n",
       "    .dataframe tbody tr th:only-of-type {\n",
       "        vertical-align: middle;\n",
       "    }\n",
       "\n",
       "    .dataframe tbody tr th {\n",
       "        vertical-align: top;\n",
       "    }\n",
       "\n",
       "    .dataframe thead th {\n",
       "        text-align: right;\n",
       "    }\n",
       "</style>\n",
       "<table border=\"1\" class=\"dataframe\">\n",
       "  <thead>\n",
       "    <tr style=\"text-align: right;\">\n",
       "      <th></th>\n",
       "      <th>count</th>\n",
       "      <th>origin_name</th>\n",
       "      <th>naked_name</th>\n",
       "      <th>implicit_duplicate</th>\n",
       "      <th>final_name</th>\n",
       "    </tr>\n",
       "  </thead>\n",
       "  <tbody>\n",
       "    <tr>\n",
       "      <th>0</th>\n",
       "      <td>13</td>\n",
       "      <td>деревня Гарболово</td>\n",
       "      <td>Гарболово</td>\n",
       "      <td>True</td>\n",
       "      <td>деревня Гарболово</td>\n",
       "    </tr>\n",
       "    <tr>\n",
       "      <th>1</th>\n",
       "      <td>4</td>\n",
       "      <td>поселок Гарболово</td>\n",
       "      <td>Гарболово</td>\n",
       "      <td>True</td>\n",
       "      <td>деревня Гарболово</td>\n",
       "    </tr>\n",
       "    <tr>\n",
       "      <th>2</th>\n",
       "      <td>3</td>\n",
       "      <td>поселок Зимитицы</td>\n",
       "      <td>Зимитицы</td>\n",
       "      <td>True</td>\n",
       "      <td>поселок Зимитицы</td>\n",
       "    </tr>\n",
       "    <tr>\n",
       "      <th>3</th>\n",
       "      <td>1</td>\n",
       "      <td>деревня Зимитицы</td>\n",
       "      <td>Зимитицы</td>\n",
       "      <td>True</td>\n",
       "      <td>поселок Зимитицы</td>\n",
       "    </tr>\n",
       "    <tr>\n",
       "      <th>4</th>\n",
       "      <td>1</td>\n",
       "      <td>поселок Калитино</td>\n",
       "      <td>Калитино</td>\n",
       "      <td>True</td>\n",
       "      <td>деревня Калитино</td>\n",
       "    </tr>\n",
       "    <tr>\n",
       "      <th>5</th>\n",
       "      <td>7</td>\n",
       "      <td>деревня Калитино</td>\n",
       "      <td>Калитино</td>\n",
       "      <td>True</td>\n",
       "      <td>деревня Калитино</td>\n",
       "    </tr>\n",
       "    <tr>\n",
       "      <th>6</th>\n",
       "      <td>173</td>\n",
       "      <td>Кудрово</td>\n",
       "      <td>Кудрово</td>\n",
       "      <td>True</td>\n",
       "      <td>деревня Кудрово</td>\n",
       "    </tr>\n",
       "    <tr>\n",
       "      <th>7</th>\n",
       "      <td>299</td>\n",
       "      <td>деревня Кудрово</td>\n",
       "      <td>Кудрово</td>\n",
       "      <td>True</td>\n",
       "      <td>деревня Кудрово</td>\n",
       "    </tr>\n",
       "    <tr>\n",
       "      <th>8</th>\n",
       "      <td>3</td>\n",
       "      <td>поселок Любань</td>\n",
       "      <td>Любань</td>\n",
       "      <td>True</td>\n",
       "      <td>Любань</td>\n",
       "    </tr>\n",
       "    <tr>\n",
       "      <th>9</th>\n",
       "      <td>8</td>\n",
       "      <td>Любань</td>\n",
       "      <td>Любань</td>\n",
       "      <td>True</td>\n",
       "      <td>Любань</td>\n",
       "    </tr>\n",
       "    <tr>\n",
       "      <th>10</th>\n",
       "      <td>34</td>\n",
       "      <td>Мурино</td>\n",
       "      <td>Мурино</td>\n",
       "      <td>True</td>\n",
       "      <td>поселок Мурино</td>\n",
       "    </tr>\n",
       "    <tr>\n",
       "      <th>11</th>\n",
       "      <td>556</td>\n",
       "      <td>поселок Мурино</td>\n",
       "      <td>Мурино</td>\n",
       "      <td>True</td>\n",
       "      <td>поселок Мурино</td>\n",
       "    </tr>\n",
       "    <tr>\n",
       "      <th>12</th>\n",
       "      <td>1</td>\n",
       "      <td>садовое товарищество Приладожский</td>\n",
       "      <td>Приладожский</td>\n",
       "      <td>True</td>\n",
       "      <td>поселок городского типа Приладожский</td>\n",
       "    </tr>\n",
       "    <tr>\n",
       "      <th>13</th>\n",
       "      <td>9</td>\n",
       "      <td>поселок городского типа Приладожский</td>\n",
       "      <td>Приладожский</td>\n",
       "      <td>True</td>\n",
       "      <td>поселок городского типа Приладожский</td>\n",
       "    </tr>\n",
       "    <tr>\n",
       "      <th>14</th>\n",
       "      <td>1</td>\n",
       "      <td>садовое товарищество Рахья</td>\n",
       "      <td>Рахья</td>\n",
       "      <td>True</td>\n",
       "      <td>поселок городского типа Рахья</td>\n",
       "    </tr>\n",
       "    <tr>\n",
       "      <th>15</th>\n",
       "      <td>15</td>\n",
       "      <td>поселок городского типа Рахья</td>\n",
       "      <td>Рахья</td>\n",
       "      <td>True</td>\n",
       "      <td>поселок городского типа Рахья</td>\n",
       "    </tr>\n",
       "    <tr>\n",
       "      <th>16</th>\n",
       "      <td>7</td>\n",
       "      <td>поселок городского типа Фёдоровское</td>\n",
       "      <td>Фёдоровское</td>\n",
       "      <td>True</td>\n",
       "      <td>деревня Фёдоровское</td>\n",
       "    </tr>\n",
       "    <tr>\n",
       "      <th>17</th>\n",
       "      <td>8</td>\n",
       "      <td>деревня Фёдоровское</td>\n",
       "      <td>Фёдоровское</td>\n",
       "      <td>True</td>\n",
       "      <td>деревня Фёдоровское</td>\n",
       "    </tr>\n",
       "    <tr>\n",
       "      <th>18</th>\n",
       "      <td>23</td>\n",
       "      <td>поселок Щеглово</td>\n",
       "      <td>Щеглово</td>\n",
       "      <td>True</td>\n",
       "      <td>поселок Щеглово</td>\n",
       "    </tr>\n",
       "    <tr>\n",
       "      <th>19</th>\n",
       "      <td>1</td>\n",
       "      <td>деревня Щеглово</td>\n",
       "      <td>Щеглово</td>\n",
       "      <td>True</td>\n",
       "      <td>поселок Щеглово</td>\n",
       "    </tr>\n",
       "  </tbody>\n",
       "</table>\n",
       "</div>"
      ],
      "text/plain": [
       "    count                           origin_name    naked_name  \\\n",
       "0      13                     деревня Гарболово     Гарболово   \n",
       "1       4                     поселок Гарболово     Гарболово   \n",
       "2       3                      поселок Зимитицы      Зимитицы   \n",
       "3       1                      деревня Зимитицы      Зимитицы   \n",
       "4       1                      поселок Калитино      Калитино   \n",
       "5       7                      деревня Калитино      Калитино   \n",
       "6     173                               Кудрово       Кудрово   \n",
       "7     299                       деревня Кудрово       Кудрово   \n",
       "8       3                        поселок Любань        Любань   \n",
       "9       8                                Любань        Любань   \n",
       "10     34                                Мурино        Мурино   \n",
       "11    556                        поселок Мурино        Мурино   \n",
       "12      1     садовое товарищество Приладожский  Приладожский   \n",
       "13      9  поселок городского типа Приладожский  Приладожский   \n",
       "14      1            садовое товарищество Рахья         Рахья   \n",
       "15     15         поселок городского типа Рахья         Рахья   \n",
       "16      7   поселок городского типа Фёдоровское   Фёдоровское   \n",
       "17      8                   деревня Фёдоровское   Фёдоровское   \n",
       "18     23                       поселок Щеглово       Щеглово   \n",
       "19      1                       деревня Щеглово       Щеглово   \n",
       "\n",
       "    implicit_duplicate                            final_name  \n",
       "0                 True                     деревня Гарболово  \n",
       "1                 True                     деревня Гарболово  \n",
       "2                 True                      поселок Зимитицы  \n",
       "3                 True                      поселок Зимитицы  \n",
       "4                 True                      деревня Калитино  \n",
       "5                 True                      деревня Калитино  \n",
       "6                 True                       деревня Кудрово  \n",
       "7                 True                       деревня Кудрово  \n",
       "8                 True                                Любань  \n",
       "9                 True                                Любань  \n",
       "10                True                        поселок Мурино  \n",
       "11                True                        поселок Мурино  \n",
       "12                True  поселок городского типа Приладожский  \n",
       "13                True  поселок городского типа Приладожский  \n",
       "14                True         поселок городского типа Рахья  \n",
       "15                True         поселок городского типа Рахья  \n",
       "16                True                   деревня Фёдоровское  \n",
       "17                True                   деревня Фёдоровское  \n",
       "18                True                       поселок Щеглово  \n",
       "19                True                       поселок Щеглово  "
      ]
     },
     "metadata": {},
     "output_type": "display_data"
    },
    {
     "name": "stdout",
     "output_type": "stream",
     "text": [
      "Столбец final_name содержит выбранное имя неявного дубликата.\n"
     ]
    }
   ],
   "source": [
    "# Преобразуем таблицу locality_name_unique_pivot: \n",
    "# Оставим в ней только подлежащие переименованию типы населенных пунктов с соответствующим итоговым названием в столбце final_name\n",
    "\n",
    "locality_name_unique_pivot = locality_name_unique_pivot.merge(\n",
    "    locality_name_unique_pivot.query('implicit_duplicate == True').merge(\n",
    "    locality_name_unique_pivot.query('implicit_duplicate == True').pivot_table(\n",
    "    index='naked_name', values = 'count', aggfunc='max'), on = 'naked_name').query(\n",
    "    'count_x == count_y').drop(['count_x', 'implicit_duplicate', 'count_y'], axis=1), on='naked_name')\n",
    "\n",
    "locality_name_unique_pivot.columns=['count', 'origin_name', 'naked_name', 'implicit_duplicate', 'final_name']\n",
    "\n",
    "pd.set_option('display.max_rows', None)\n",
    "display(locality_name_unique_pivot)\n",
    "pd.set_option('display.max_rows', 10)\n",
    "\n",
    "print('Столбец final_name содержит выбранное имя неявного дубликата.')"
   ]
  },
  {
   "cell_type": "markdown",
   "metadata": {},
   "source": [
    "Заменим в столбце 'locality_name_unique' основного набора данных выявленные неявные дубликаты:"
   ]
  },
  {
   "cell_type": "code",
   "execution_count": 16,
   "metadata": {
    "scrolled": true
   },
   "outputs": [
    {
     "name": "stdout",
     "output_type": "stream",
     "text": [
      "Количество уникальных значений в \"locality_name_unique\" до замены неявных дубликатов: 322\n",
      "Количество уникальных значений в \"locality_name_unique\" после замены неявных дубликатов: 312\n"
     ]
    }
   ],
   "source": [
    "print('Количество уникальных значений в \"locality_name_unique\" до замены неявных дубликатов:',len(data['locality_name_unique'].unique())) \n",
    "\n",
    "for i in range(len(locality_name_unique_pivot)):\n",
    "    data['locality_name_unique'] = data['locality_name_unique'].replace(\n",
    "        locality_name_unique_pivot.loc[i,'origin_name'], locality_name_unique_pivot.loc[i,'final_name'])  \n",
    "\n",
    "print('Количество уникальных значений в \"locality_name_unique\" после замены неявных дубликатов:',len(data['locality_name_unique'].unique())) \n"
   ]
  },
  {
   "cell_type": "markdown",
   "metadata": {},
   "source": [
    "#### Поиск и устранение редких и выбивающиеся значений"
   ]
  },
  {
   "cell_type": "code",
   "execution_count": 17,
   "metadata": {},
   "outputs": [],
   "source": [
    "#for column in ['last_price', 'total_area', 'rooms', 'ceiling_height', 'living_area', 'kitchen_area']:\n",
    "#    plt.subplot(1, 2, 1)\n",
    "#    data.boxplot(column)\n",
    "#    plt.show()\n",
    "#    print(data[column].describe()) \n"
   ]
  },
  {
   "cell_type": "markdown",
   "metadata": {},
   "source": [
    "В разделе 1 мы выводили гистограммы для каждого из столбцов набора данных и ввыводе предположили, что в некоторых столбцах существуют всплески значений.\n",
    "\n",
    "Покажем такие столбцы:\n",
    "\n",
    "`last_price`\n",
    "`total_area`\n",
    "`rooms`\n",
    "`ceiling_height`\n",
    "`living_area`\n",
    "`kitchen_area`\n",
    "\n",
    "Рассмотрим каждый из столбцов"
   ]
  },
  {
   "cell_type": "code",
   "execution_count": 18,
   "metadata": {
    "scrolled": false
   },
   "outputs": [
    {
     "name": "stdout",
     "output_type": "stream",
     "text": [
      "Рассмотрим значения в столбце last_price - Стоимость\n"
     ]
    },
    {
     "data": {
      "image/png": "[encoded data removed]",
      "text/plain": [
       "<Figure size 432x288 with 1 Axes>"
      ]
     },
     "metadata": {
      "needs_background": "light"
     },
     "output_type": "display_data"
    },
    {
     "name": "stdout",
     "output_type": "stream",
     "text": [
      "count    2.369900e+04\n",
      "mean     6.541549e+06\n",
      "std      1.088701e+07\n",
      "min      1.219000e+04\n",
      "25%      3.400000e+06\n",
      "50%      4.650000e+06\n",
      "75%      6.800000e+06\n",
      "max      7.630000e+08\n",
      "Name: last_price, dtype: float64\n",
      "\n",
      "Самые дорогие объекты (цена более 300 млн)\n"
     ]
    },
    {
     "data": {
      "text/html": [
       "<div>\n",
       "<style scoped>\n",
       "    .dataframe tbody tr th:only-of-type {\n",
       "        vertical-align: middle;\n",
       "    }\n",
       "\n",
       "    .dataframe tbody tr th {\n",
       "        vertical-align: top;\n",
       "    }\n",
       "\n",
       "    .dataframe thead th {\n",
       "        text-align: right;\n",
       "    }\n",
       "</style>\n",
       "<table border=\"1\" class=\"dataframe\">\n",
       "  <thead>\n",
       "    <tr style=\"text-align: right;\">\n",
       "      <th></th>\n",
       "      <th>total_images</th>\n",
       "      <th>last_price</th>\n",
       "      <th>total_area</th>\n",
       "      <th>first_day_exposition</th>\n",
       "      <th>rooms</th>\n",
       "      <th>ceiling_height</th>\n",
       "      <th>floors_total</th>\n",
       "      <th>living_area</th>\n",
       "      <th>floor</th>\n",
       "      <th>is_apartment</th>\n",
       "      <th>studio</th>\n",
       "      <th>open_plan</th>\n",
       "      <th>kitchen_area</th>\n",
       "      <th>balcony</th>\n",
       "      <th>locality_name</th>\n",
       "      <th>airports_nearest</th>\n",
       "      <th>cityCenters_nearest</th>\n",
       "      <th>parks_around3000</th>\n",
       "      <th>parks_nearest</th>\n",
       "      <th>ponds_around3000</th>\n",
       "      <th>ponds_nearest</th>\n",
       "      <th>days_exposition</th>\n",
       "      <th>locality_name_unique</th>\n",
       "    </tr>\n",
       "  </thead>\n",
       "  <tbody>\n",
       "    <tr>\n",
       "      <th>12971</th>\n",
       "      <td>19</td>\n",
       "      <td>763000000.0</td>\n",
       "      <td>400.0</td>\n",
       "      <td>2017-09-30</td>\n",
       "      <td>7</td>\n",
       "      <td>2.65</td>\n",
       "      <td>10.0</td>\n",
       "      <td>250.0</td>\n",
       "      <td>10</td>\n",
       "      <td>False</td>\n",
       "      <td>False</td>\n",
       "      <td>False</td>\n",
       "      <td>NaN</td>\n",
       "      <td>2.0</td>\n",
       "      <td>Санкт-Петербург</td>\n",
       "      <td>25108.0</td>\n",
       "      <td>3956.0</td>\n",
       "      <td>1.0</td>\n",
       "      <td>530.0</td>\n",
       "      <td>3.0</td>\n",
       "      <td>756.0</td>\n",
       "      <td>33.0</td>\n",
       "      <td>Санкт-Петербург</td>\n",
       "    </tr>\n",
       "    <tr>\n",
       "      <th>19540</th>\n",
       "      <td>8</td>\n",
       "      <td>420000000.0</td>\n",
       "      <td>900.0</td>\n",
       "      <td>2017-12-06</td>\n",
       "      <td>12</td>\n",
       "      <td>2.80</td>\n",
       "      <td>25.0</td>\n",
       "      <td>409.7</td>\n",
       "      <td>25</td>\n",
       "      <td>False</td>\n",
       "      <td>False</td>\n",
       "      <td>False</td>\n",
       "      <td>112.0</td>\n",
       "      <td>0.0</td>\n",
       "      <td>Санкт-Петербург</td>\n",
       "      <td>30706.0</td>\n",
       "      <td>7877.0</td>\n",
       "      <td>0.0</td>\n",
       "      <td>NaN</td>\n",
       "      <td>2.0</td>\n",
       "      <td>318.0</td>\n",
       "      <td>106.0</td>\n",
       "      <td>Санкт-Петербург</td>\n",
       "    </tr>\n",
       "    <tr>\n",
       "      <th>14706</th>\n",
       "      <td>15</td>\n",
       "      <td>401300000.0</td>\n",
       "      <td>401.0</td>\n",
       "      <td>2016-02-20</td>\n",
       "      <td>5</td>\n",
       "      <td>2.65</td>\n",
       "      <td>9.0</td>\n",
       "      <td>204.0</td>\n",
       "      <td>9</td>\n",
       "      <td>False</td>\n",
       "      <td>False</td>\n",
       "      <td>False</td>\n",
       "      <td>24.0</td>\n",
       "      <td>3.0</td>\n",
       "      <td>Санкт-Петербург</td>\n",
       "      <td>21912.0</td>\n",
       "      <td>2389.0</td>\n",
       "      <td>1.0</td>\n",
       "      <td>545.0</td>\n",
       "      <td>1.0</td>\n",
       "      <td>478.0</td>\n",
       "      <td>393.0</td>\n",
       "      <td>Санкт-Петербург</td>\n",
       "    </tr>\n",
       "    <tr>\n",
       "      <th>1436</th>\n",
       "      <td>19</td>\n",
       "      <td>330000000.0</td>\n",
       "      <td>190.0</td>\n",
       "      <td>2018-04-04</td>\n",
       "      <td>3</td>\n",
       "      <td>3.50</td>\n",
       "      <td>7.0</td>\n",
       "      <td>95.0</td>\n",
       "      <td>5</td>\n",
       "      <td>False</td>\n",
       "      <td>False</td>\n",
       "      <td>False</td>\n",
       "      <td>40.0</td>\n",
       "      <td>0.0</td>\n",
       "      <td>Санкт-Петербург</td>\n",
       "      <td>23011.0</td>\n",
       "      <td>1197.0</td>\n",
       "      <td>3.0</td>\n",
       "      <td>519.0</td>\n",
       "      <td>3.0</td>\n",
       "      <td>285.0</td>\n",
       "      <td>233.0</td>\n",
       "      <td>Санкт-Петербург</td>\n",
       "    </tr>\n",
       "    <tr>\n",
       "      <th>15651</th>\n",
       "      <td>20</td>\n",
       "      <td>300000000.0</td>\n",
       "      <td>618.0</td>\n",
       "      <td>2017-12-18</td>\n",
       "      <td>7</td>\n",
       "      <td>3.40</td>\n",
       "      <td>7.0</td>\n",
       "      <td>258.0</td>\n",
       "      <td>5</td>\n",
       "      <td>False</td>\n",
       "      <td>False</td>\n",
       "      <td>False</td>\n",
       "      <td>70.0</td>\n",
       "      <td>0.0</td>\n",
       "      <td>Санкт-Петербург</td>\n",
       "      <td>32440.0</td>\n",
       "      <td>5297.0</td>\n",
       "      <td>0.0</td>\n",
       "      <td>NaN</td>\n",
       "      <td>2.0</td>\n",
       "      <td>198.0</td>\n",
       "      <td>111.0</td>\n",
       "      <td>Санкт-Петербург</td>\n",
       "    </tr>\n",
       "    <tr>\n",
       "      <th>22831</th>\n",
       "      <td>18</td>\n",
       "      <td>289238400.0</td>\n",
       "      <td>187.5</td>\n",
       "      <td>2019-03-19</td>\n",
       "      <td>2</td>\n",
       "      <td>3.37</td>\n",
       "      <td>6.0</td>\n",
       "      <td>63.7</td>\n",
       "      <td>6</td>\n",
       "      <td>False</td>\n",
       "      <td>False</td>\n",
       "      <td>False</td>\n",
       "      <td>30.2</td>\n",
       "      <td>0.0</td>\n",
       "      <td>Санкт-Петербург</td>\n",
       "      <td>22494.0</td>\n",
       "      <td>1073.0</td>\n",
       "      <td>3.0</td>\n",
       "      <td>386.0</td>\n",
       "      <td>3.0</td>\n",
       "      <td>188.0</td>\n",
       "      <td>NaN</td>\n",
       "      <td>Санкт-Петербург</td>\n",
       "    </tr>\n",
       "    <tr>\n",
       "      <th>16461</th>\n",
       "      <td>17</td>\n",
       "      <td>245000000.0</td>\n",
       "      <td>285.7</td>\n",
       "      <td>2017-04-10</td>\n",
       "      <td>6</td>\n",
       "      <td>3.35</td>\n",
       "      <td>7.0</td>\n",
       "      <td>182.8</td>\n",
       "      <td>4</td>\n",
       "      <td>False</td>\n",
       "      <td>False</td>\n",
       "      <td>False</td>\n",
       "      <td>29.8</td>\n",
       "      <td>0.0</td>\n",
       "      <td>Санкт-Петербург</td>\n",
       "      <td>33143.0</td>\n",
       "      <td>6235.0</td>\n",
       "      <td>3.0</td>\n",
       "      <td>400.0</td>\n",
       "      <td>3.0</td>\n",
       "      <td>140.0</td>\n",
       "      <td>249.0</td>\n",
       "      <td>Санкт-Петербург</td>\n",
       "    </tr>\n",
       "    <tr>\n",
       "      <th>13749</th>\n",
       "      <td>7</td>\n",
       "      <td>240000000.0</td>\n",
       "      <td>410.0</td>\n",
       "      <td>2017-04-01</td>\n",
       "      <td>6</td>\n",
       "      <td>3.40</td>\n",
       "      <td>7.0</td>\n",
       "      <td>218.0</td>\n",
       "      <td>7</td>\n",
       "      <td>False</td>\n",
       "      <td>False</td>\n",
       "      <td>False</td>\n",
       "      <td>40.0</td>\n",
       "      <td>0.0</td>\n",
       "      <td>Санкт-Петербург</td>\n",
       "      <td>32440.0</td>\n",
       "      <td>5297.0</td>\n",
       "      <td>0.0</td>\n",
       "      <td>NaN</td>\n",
       "      <td>2.0</td>\n",
       "      <td>198.0</td>\n",
       "      <td>199.0</td>\n",
       "      <td>Санкт-Петербург</td>\n",
       "    </tr>\n",
       "    <tr>\n",
       "      <th>5893</th>\n",
       "      <td>3</td>\n",
       "      <td>230000000.0</td>\n",
       "      <td>500.0</td>\n",
       "      <td>2017-05-31</td>\n",
       "      <td>6</td>\n",
       "      <td>2.65</td>\n",
       "      <td>7.0</td>\n",
       "      <td>NaN</td>\n",
       "      <td>7</td>\n",
       "      <td>False</td>\n",
       "      <td>False</td>\n",
       "      <td>False</td>\n",
       "      <td>40.0</td>\n",
       "      <td>0.0</td>\n",
       "      <td>Санкт-Петербург</td>\n",
       "      <td>32440.0</td>\n",
       "      <td>5297.0</td>\n",
       "      <td>0.0</td>\n",
       "      <td>NaN</td>\n",
       "      <td>2.0</td>\n",
       "      <td>198.0</td>\n",
       "      <td>50.0</td>\n",
       "      <td>Санкт-Петербург</td>\n",
       "    </tr>\n",
       "  </tbody>\n",
       "</table>\n",
       "</div>"
      ],
      "text/plain": [
       "       total_images   last_price  total_area first_day_exposition  rooms  \\\n",
       "12971            19  763000000.0       400.0           2017-09-30      7   \n",
       "19540             8  420000000.0       900.0           2017-12-06     12   \n",
       "14706            15  401300000.0       401.0           2016-02-20      5   \n",
       "1436             19  330000000.0       190.0           2018-04-04      3   \n",
       "15651            20  300000000.0       618.0           2017-12-18      7   \n",
       "22831            18  289238400.0       187.5           2019-03-19      2   \n",
       "16461            17  245000000.0       285.7           2017-04-10      6   \n",
       "13749             7  240000000.0       410.0           2017-04-01      6   \n",
       "5893              3  230000000.0       500.0           2017-05-31      6   \n",
       "\n",
       "       ceiling_height  floors_total  living_area  floor  is_apartment  studio  \\\n",
       "12971            2.65          10.0        250.0     10         False   False   \n",
       "19540            2.80          25.0        409.7     25         False   False   \n",
       "14706            2.65           9.0        204.0      9         False   False   \n",
       "1436             3.50           7.0         95.0      5         False   False   \n",
       "15651            3.40           7.0        258.0      5         False   False   \n",
       "22831            3.37           6.0         63.7      6         False   False   \n",
       "16461            3.35           7.0        182.8      4         False   False   \n",
       "13749            3.40           7.0        218.0      7         False   False   \n",
       "5893             2.65           7.0          NaN      7         False   False   \n",
       "\n",
       "       open_plan  kitchen_area  balcony    locality_name  airports_nearest  \\\n",
       "12971      False           NaN      2.0  Санкт-Петербург           25108.0   \n",
       "19540      False         112.0      0.0  Санкт-Петербург           30706.0   \n",
       "14706      False          24.0      3.0  Санкт-Петербург           21912.0   \n",
       "1436       False          40.0      0.0  Санкт-Петербург           23011.0   \n",
       "15651      False          70.0      0.0  Санкт-Петербург           32440.0   \n",
       "22831      False          30.2      0.0  Санкт-Петербург           22494.0   \n",
       "16461      False          29.8      0.0  Санкт-Петербург           33143.0   \n",
       "13749      False          40.0      0.0  Санкт-Петербург           32440.0   \n",
       "5893       False          40.0      0.0  Санкт-Петербург           32440.0   \n",
       "\n",
       "       cityCenters_nearest  parks_around3000  parks_nearest  ponds_around3000  \\\n",
       "12971               3956.0               1.0          530.0               3.0   \n",
       "19540               7877.0               0.0            NaN               2.0   \n",
       "14706               2389.0               1.0          545.0               1.0   \n",
       "1436                1197.0               3.0          519.0               3.0   \n",
       "15651               5297.0               0.0            NaN               2.0   \n",
       "22831               1073.0               3.0          386.0               3.0   \n",
       "16461               6235.0               3.0          400.0               3.0   \n",
       "13749               5297.0               0.0            NaN               2.0   \n",
       "5893                5297.0               0.0            NaN               2.0   \n",
       "\n",
       "       ponds_nearest  days_exposition locality_name_unique  \n",
       "12971          756.0             33.0      Санкт-Петербург  \n",
       "19540          318.0            106.0      Санкт-Петербург  \n",
       "14706          478.0            393.0      Санкт-Петербург  \n",
       "1436           285.0            233.0      Санкт-Петербург  \n",
       "15651          198.0            111.0      Санкт-Петербург  \n",
       "22831          188.0              NaN      Санкт-Петербург  \n",
       "16461          140.0            249.0      Санкт-Петербург  \n",
       "13749          198.0            199.0      Санкт-Петербург  \n",
       "5893           198.0             50.0      Санкт-Петербург  "
      ]
     },
     "metadata": {},
     "output_type": "display_data"
    },
    {
     "name": "stdout",
     "output_type": "stream",
     "text": [
      "Объекты с площадью 350-450 м, высотой потолков < 3 и расстоянием до центра менее 8 км\n"
     ]
    },
    {
     "data": {
      "text/html": [
       "<div>\n",
       "<style scoped>\n",
       "    .dataframe tbody tr th:only-of-type {\n",
       "        vertical-align: middle;\n",
       "    }\n",
       "\n",
       "    .dataframe tbody tr th {\n",
       "        vertical-align: top;\n",
       "    }\n",
       "\n",
       "    .dataframe thead th {\n",
       "        text-align: right;\n",
       "    }\n",
       "</style>\n",
       "<table border=\"1\" class=\"dataframe\">\n",
       "  <thead>\n",
       "    <tr style=\"text-align: right;\">\n",
       "      <th></th>\n",
       "      <th>total_images</th>\n",
       "      <th>last_price</th>\n",
       "      <th>total_area</th>\n",
       "      <th>first_day_exposition</th>\n",
       "      <th>rooms</th>\n",
       "      <th>ceiling_height</th>\n",
       "      <th>floors_total</th>\n",
       "      <th>living_area</th>\n",
       "      <th>floor</th>\n",
       "      <th>is_apartment</th>\n",
       "      <th>studio</th>\n",
       "      <th>open_plan</th>\n",
       "      <th>kitchen_area</th>\n",
       "      <th>balcony</th>\n",
       "      <th>locality_name</th>\n",
       "      <th>airports_nearest</th>\n",
       "      <th>cityCenters_nearest</th>\n",
       "      <th>parks_around3000</th>\n",
       "      <th>parks_nearest</th>\n",
       "      <th>ponds_around3000</th>\n",
       "      <th>ponds_nearest</th>\n",
       "      <th>days_exposition</th>\n",
       "      <th>locality_name_unique</th>\n",
       "    </tr>\n",
       "  </thead>\n",
       "  <tbody>\n",
       "    <tr>\n",
       "      <th>12971</th>\n",
       "      <td>19</td>\n",
       "      <td>763000000.0</td>\n",
       "      <td>400.00</td>\n",
       "      <td>2017-09-30</td>\n",
       "      <td>7</td>\n",
       "      <td>2.65</td>\n",
       "      <td>10.0</td>\n",
       "      <td>250.0</td>\n",
       "      <td>10</td>\n",
       "      <td>False</td>\n",
       "      <td>False</td>\n",
       "      <td>False</td>\n",
       "      <td>NaN</td>\n",
       "      <td>2.0</td>\n",
       "      <td>Санкт-Петербург</td>\n",
       "      <td>25108.0</td>\n",
       "      <td>3956.0</td>\n",
       "      <td>1.0</td>\n",
       "      <td>530.0</td>\n",
       "      <td>3.0</td>\n",
       "      <td>756.0</td>\n",
       "      <td>33.0</td>\n",
       "      <td>Санкт-Петербург</td>\n",
       "    </tr>\n",
       "    <tr>\n",
       "      <th>14706</th>\n",
       "      <td>15</td>\n",
       "      <td>401300000.0</td>\n",
       "      <td>401.00</td>\n",
       "      <td>2016-02-20</td>\n",
       "      <td>5</td>\n",
       "      <td>2.65</td>\n",
       "      <td>9.0</td>\n",
       "      <td>204.0</td>\n",
       "      <td>9</td>\n",
       "      <td>False</td>\n",
       "      <td>False</td>\n",
       "      <td>False</td>\n",
       "      <td>24.00</td>\n",
       "      <td>3.0</td>\n",
       "      <td>Санкт-Петербург</td>\n",
       "      <td>21912.0</td>\n",
       "      <td>2389.0</td>\n",
       "      <td>1.0</td>\n",
       "      <td>545.0</td>\n",
       "      <td>1.0</td>\n",
       "      <td>478.0</td>\n",
       "      <td>393.0</td>\n",
       "      <td>Санкт-Петербург</td>\n",
       "    </tr>\n",
       "    <tr>\n",
       "      <th>15151</th>\n",
       "      <td>15</td>\n",
       "      <td>88000000.0</td>\n",
       "      <td>400.00</td>\n",
       "      <td>2019-03-27</td>\n",
       "      <td>9</td>\n",
       "      <td>2.50</td>\n",
       "      <td>2.0</td>\n",
       "      <td>250.0</td>\n",
       "      <td>1</td>\n",
       "      <td>False</td>\n",
       "      <td>False</td>\n",
       "      <td>False</td>\n",
       "      <td>50.00</td>\n",
       "      <td>0.0</td>\n",
       "      <td>Санкт-Петербург</td>\n",
       "      <td>24395.0</td>\n",
       "      <td>2725.0</td>\n",
       "      <td>2.0</td>\n",
       "      <td>315.0</td>\n",
       "      <td>1.0</td>\n",
       "      <td>578.0</td>\n",
       "      <td>NaN</td>\n",
       "      <td>Санкт-Петербург</td>\n",
       "    </tr>\n",
       "    <tr>\n",
       "      <th>6183</th>\n",
       "      <td>10</td>\n",
       "      <td>84382000.0</td>\n",
       "      <td>363.10</td>\n",
       "      <td>2018-10-07</td>\n",
       "      <td>3</td>\n",
       "      <td>2.65</td>\n",
       "      <td>16.0</td>\n",
       "      <td>NaN</td>\n",
       "      <td>12</td>\n",
       "      <td>False</td>\n",
       "      <td>False</td>\n",
       "      <td>False</td>\n",
       "      <td>31.73</td>\n",
       "      <td>0.0</td>\n",
       "      <td>Санкт-Петербург</td>\n",
       "      <td>31887.0</td>\n",
       "      <td>4979.0</td>\n",
       "      <td>0.0</td>\n",
       "      <td>NaN</td>\n",
       "      <td>2.0</td>\n",
       "      <td>182.0</td>\n",
       "      <td>NaN</td>\n",
       "      <td>Санкт-Петербург</td>\n",
       "    </tr>\n",
       "    <tr>\n",
       "      <th>21990</th>\n",
       "      <td>20</td>\n",
       "      <td>68000000.0</td>\n",
       "      <td>373.10</td>\n",
       "      <td>2018-09-08</td>\n",
       "      <td>8</td>\n",
       "      <td>2.65</td>\n",
       "      <td>8.0</td>\n",
       "      <td>176.2</td>\n",
       "      <td>8</td>\n",
       "      <td>False</td>\n",
       "      <td>False</td>\n",
       "      <td>False</td>\n",
       "      <td>29.40</td>\n",
       "      <td>0.0</td>\n",
       "      <td>Санкт-Петербург</td>\n",
       "      <td>37965.0</td>\n",
       "      <td>7873.0</td>\n",
       "      <td>1.0</td>\n",
       "      <td>562.0</td>\n",
       "      <td>3.0</td>\n",
       "      <td>691.0</td>\n",
       "      <td>234.0</td>\n",
       "      <td>Санкт-Петербург</td>\n",
       "    </tr>\n",
       "    <tr>\n",
       "      <th>581</th>\n",
       "      <td>20</td>\n",
       "      <td>65000000.0</td>\n",
       "      <td>365.00</td>\n",
       "      <td>2019-03-18</td>\n",
       "      <td>7</td>\n",
       "      <td>2.90</td>\n",
       "      <td>7.0</td>\n",
       "      <td>NaN</td>\n",
       "      <td>7</td>\n",
       "      <td>False</td>\n",
       "      <td>False</td>\n",
       "      <td>False</td>\n",
       "      <td>NaN</td>\n",
       "      <td>0.0</td>\n",
       "      <td>Санкт-Петербург</td>\n",
       "      <td>19827.0</td>\n",
       "      <td>1690.0</td>\n",
       "      <td>3.0</td>\n",
       "      <td>378.0</td>\n",
       "      <td>3.0</td>\n",
       "      <td>58.0</td>\n",
       "      <td>NaN</td>\n",
       "      <td>Санкт-Петербург</td>\n",
       "    </tr>\n",
       "    <tr>\n",
       "      <th>14991</th>\n",
       "      <td>19</td>\n",
       "      <td>45000000.0</td>\n",
       "      <td>413.50</td>\n",
       "      <td>2018-09-20</td>\n",
       "      <td>7</td>\n",
       "      <td>2.65</td>\n",
       "      <td>20.0</td>\n",
       "      <td>74.2</td>\n",
       "      <td>18</td>\n",
       "      <td>False</td>\n",
       "      <td>False</td>\n",
       "      <td>False</td>\n",
       "      <td>13.90</td>\n",
       "      <td>0.0</td>\n",
       "      <td>Санкт-Петербург</td>\n",
       "      <td>18748.0</td>\n",
       "      <td>4341.0</td>\n",
       "      <td>0.0</td>\n",
       "      <td>NaN</td>\n",
       "      <td>0.0</td>\n",
       "      <td>NaN</td>\n",
       "      <td>182.0</td>\n",
       "      <td>Санкт-Петербург</td>\n",
       "    </tr>\n",
       "    <tr>\n",
       "      <th>14498</th>\n",
       "      <td>6</td>\n",
       "      <td>32250000.0</td>\n",
       "      <td>374.60</td>\n",
       "      <td>2018-06-09</td>\n",
       "      <td>19</td>\n",
       "      <td>2.65</td>\n",
       "      <td>5.0</td>\n",
       "      <td>264.5</td>\n",
       "      <td>2</td>\n",
       "      <td>False</td>\n",
       "      <td>False</td>\n",
       "      <td>False</td>\n",
       "      <td>27.60</td>\n",
       "      <td>0.0</td>\n",
       "      <td>Санкт-Петербург</td>\n",
       "      <td>19497.0</td>\n",
       "      <td>3574.0</td>\n",
       "      <td>0.0</td>\n",
       "      <td>NaN</td>\n",
       "      <td>2.0</td>\n",
       "      <td>548.0</td>\n",
       "      <td>114.0</td>\n",
       "      <td>Санкт-Петербург</td>\n",
       "    </tr>\n",
       "    <tr>\n",
       "      <th>3676</th>\n",
       "      <td>12</td>\n",
       "      <td>28789000.0</td>\n",
       "      <td>441.98</td>\n",
       "      <td>2019-01-23</td>\n",
       "      <td>4</td>\n",
       "      <td>2.65</td>\n",
       "      <td>6.0</td>\n",
       "      <td>NaN</td>\n",
       "      <td>6</td>\n",
       "      <td>False</td>\n",
       "      <td>False</td>\n",
       "      <td>False</td>\n",
       "      <td>35.05</td>\n",
       "      <td>0.0</td>\n",
       "      <td>Санкт-Петербург</td>\n",
       "      <td>20552.0</td>\n",
       "      <td>5181.0</td>\n",
       "      <td>0.0</td>\n",
       "      <td>NaN</td>\n",
       "      <td>0.0</td>\n",
       "      <td>NaN</td>\n",
       "      <td>NaN</td>\n",
       "      <td>Санкт-Петербург</td>\n",
       "    </tr>\n",
       "  </tbody>\n",
       "</table>\n",
       "</div>"
      ],
      "text/plain": [
       "       total_images   last_price  total_area first_day_exposition  rooms  \\\n",
       "12971            19  763000000.0      400.00           2017-09-30      7   \n",
       "14706            15  401300000.0      401.00           2016-02-20      5   \n",
       "15151            15   88000000.0      400.00           2019-03-27      9   \n",
       "6183             10   84382000.0      363.10           2018-10-07      3   \n",
       "21990            20   68000000.0      373.10           2018-09-08      8   \n",
       "581              20   65000000.0      365.00           2019-03-18      7   \n",
       "14991            19   45000000.0      413.50           2018-09-20      7   \n",
       "14498             6   32250000.0      374.60           2018-06-09     19   \n",
       "3676             12   28789000.0      441.98           2019-01-23      4   \n",
       "\n",
       "       ceiling_height  floors_total  living_area  floor  is_apartment  studio  \\\n",
       "12971            2.65          10.0        250.0     10         False   False   \n",
       "14706            2.65           9.0        204.0      9         False   False   \n",
       "15151            2.50           2.0        250.0      1         False   False   \n",
       "6183             2.65          16.0          NaN     12         False   False   \n",
       "21990            2.65           8.0        176.2      8         False   False   \n",
       "581              2.90           7.0          NaN      7         False   False   \n",
       "14991            2.65          20.0         74.2     18         False   False   \n",
       "14498            2.65           5.0        264.5      2         False   False   \n",
       "3676             2.65           6.0          NaN      6         False   False   \n",
       "\n",
       "       open_plan  kitchen_area  balcony    locality_name  airports_nearest  \\\n",
       "12971      False           NaN      2.0  Санкт-Петербург           25108.0   \n",
       "14706      False         24.00      3.0  Санкт-Петербург           21912.0   \n",
       "15151      False         50.00      0.0  Санкт-Петербург           24395.0   \n",
       "6183       False         31.73      0.0  Санкт-Петербург           31887.0   \n",
       "21990      False         29.40      0.0  Санкт-Петербург           37965.0   \n",
       "581        False           NaN      0.0  Санкт-Петербург           19827.0   \n",
       "14991      False         13.90      0.0  Санкт-Петербург           18748.0   \n",
       "14498      False         27.60      0.0  Санкт-Петербург           19497.0   \n",
       "3676       False         35.05      0.0  Санкт-Петербург           20552.0   \n",
       "\n",
       "       cityCenters_nearest  parks_around3000  parks_nearest  ponds_around3000  \\\n",
       "12971               3956.0               1.0          530.0               3.0   \n",
       "14706               2389.0               1.0          545.0               1.0   \n",
       "15151               2725.0               2.0          315.0               1.0   \n",
       "6183                4979.0               0.0            NaN               2.0   \n",
       "21990               7873.0               1.0          562.0               3.0   \n",
       "581                 1690.0               3.0          378.0               3.0   \n",
       "14991               4341.0               0.0            NaN               0.0   \n",
       "14498               3574.0               0.0            NaN               2.0   \n",
       "3676                5181.0               0.0            NaN               0.0   \n",
       "\n",
       "       ponds_nearest  days_exposition locality_name_unique  \n",
       "12971          756.0             33.0      Санкт-Петербург  \n",
       "14706          478.0            393.0      Санкт-Петербург  \n",
       "15151          578.0              NaN      Санкт-Петербург  \n",
       "6183           182.0              NaN      Санкт-Петербург  \n",
       "21990          691.0            234.0      Санкт-Петербург  \n",
       "581             58.0              NaN      Санкт-Петербург  \n",
       "14991            NaN            182.0      Санкт-Петербург  \n",
       "14498          548.0            114.0      Санкт-Петербург  \n",
       "3676             NaN              NaN      Санкт-Петербург  "
      ]
     },
     "metadata": {},
     "output_type": "display_data"
    },
    {
     "name": "stdout",
     "output_type": "stream",
     "text": [
      "Самые дешевые объекты (цена менее 500 тыс.)\n"
     ]
    },
    {
     "data": {
      "text/html": [
       "<div>\n",
       "<style scoped>\n",
       "    .dataframe tbody tr th:only-of-type {\n",
       "        vertical-align: middle;\n",
       "    }\n",
       "\n",
       "    .dataframe tbody tr th {\n",
       "        vertical-align: top;\n",
       "    }\n",
       "\n",
       "    .dataframe thead th {\n",
       "        text-align: right;\n",
       "    }\n",
       "</style>\n",
       "<table border=\"1\" class=\"dataframe\">\n",
       "  <thead>\n",
       "    <tr style=\"text-align: right;\">\n",
       "      <th></th>\n",
       "      <th>total_images</th>\n",
       "      <th>last_price</th>\n",
       "      <th>total_area</th>\n",
       "      <th>first_day_exposition</th>\n",
       "      <th>rooms</th>\n",
       "      <th>ceiling_height</th>\n",
       "      <th>floors_total</th>\n",
       "      <th>living_area</th>\n",
       "      <th>floor</th>\n",
       "      <th>is_apartment</th>\n",
       "      <th>studio</th>\n",
       "      <th>open_plan</th>\n",
       "      <th>kitchen_area</th>\n",
       "      <th>balcony</th>\n",
       "      <th>locality_name</th>\n",
       "      <th>airports_nearest</th>\n",
       "      <th>cityCenters_nearest</th>\n",
       "      <th>parks_around3000</th>\n",
       "      <th>parks_nearest</th>\n",
       "      <th>ponds_around3000</th>\n",
       "      <th>ponds_nearest</th>\n",
       "      <th>days_exposition</th>\n",
       "      <th>locality_name_unique</th>\n",
       "    </tr>\n",
       "  </thead>\n",
       "  <tbody>\n",
       "    <tr>\n",
       "      <th>6859</th>\n",
       "      <td>6</td>\n",
       "      <td>490000.0</td>\n",
       "      <td>40.0</td>\n",
       "      <td>2017-12-11</td>\n",
       "      <td>1</td>\n",
       "      <td>2.65</td>\n",
       "      <td>5.0</td>\n",
       "      <td>NaN</td>\n",
       "      <td>3</td>\n",
       "      <td>False</td>\n",
       "      <td>False</td>\n",
       "      <td>False</td>\n",
       "      <td>NaN</td>\n",
       "      <td>0.0</td>\n",
       "      <td>деревня Старополье</td>\n",
       "      <td>26726.0</td>\n",
       "      <td>13098.5</td>\n",
       "      <td>0.0</td>\n",
       "      <td>NaN</td>\n",
       "      <td>0.0</td>\n",
       "      <td>NaN</td>\n",
       "      <td>43.0</td>\n",
       "      <td>деревня Старополье</td>\n",
       "    </tr>\n",
       "    <tr>\n",
       "      <th>10782</th>\n",
       "      <td>3</td>\n",
       "      <td>490000.0</td>\n",
       "      <td>29.1</td>\n",
       "      <td>2016-05-05</td>\n",
       "      <td>1</td>\n",
       "      <td>2.50</td>\n",
       "      <td>5.0</td>\n",
       "      <td>17.0</td>\n",
       "      <td>5</td>\n",
       "      <td>False</td>\n",
       "      <td>False</td>\n",
       "      <td>False</td>\n",
       "      <td>5.5</td>\n",
       "      <td>0.0</td>\n",
       "      <td>Сланцы</td>\n",
       "      <td>26726.0</td>\n",
       "      <td>13098.5</td>\n",
       "      <td>0.0</td>\n",
       "      <td>NaN</td>\n",
       "      <td>0.0</td>\n",
       "      <td>NaN</td>\n",
       "      <td>719.0</td>\n",
       "      <td>Сланцы</td>\n",
       "    </tr>\n",
       "    <tr>\n",
       "      <th>16032</th>\n",
       "      <td>8</td>\n",
       "      <td>480000.0</td>\n",
       "      <td>32.0</td>\n",
       "      <td>2019-01-06</td>\n",
       "      <td>1</td>\n",
       "      <td>2.65</td>\n",
       "      <td>2.0</td>\n",
       "      <td>16.0</td>\n",
       "      <td>1</td>\n",
       "      <td>False</td>\n",
       "      <td>False</td>\n",
       "      <td>False</td>\n",
       "      <td>NaN</td>\n",
       "      <td>0.0</td>\n",
       "      <td>Сланцы</td>\n",
       "      <td>26726.0</td>\n",
       "      <td>13098.5</td>\n",
       "      <td>0.0</td>\n",
       "      <td>NaN</td>\n",
       "      <td>0.0</td>\n",
       "      <td>NaN</td>\n",
       "      <td>83.0</td>\n",
       "      <td>Сланцы</td>\n",
       "    </tr>\n",
       "    <tr>\n",
       "      <th>18867</th>\n",
       "      <td>1</td>\n",
       "      <td>470000.0</td>\n",
       "      <td>41.0</td>\n",
       "      <td>2018-02-11</td>\n",
       "      <td>1</td>\n",
       "      <td>2.65</td>\n",
       "      <td>5.0</td>\n",
       "      <td>32.0</td>\n",
       "      <td>3</td>\n",
       "      <td>False</td>\n",
       "      <td>False</td>\n",
       "      <td>False</td>\n",
       "      <td>9.0</td>\n",
       "      <td>0.0</td>\n",
       "      <td>деревня Выскатка</td>\n",
       "      <td>26726.0</td>\n",
       "      <td>13098.5</td>\n",
       "      <td>0.0</td>\n",
       "      <td>NaN</td>\n",
       "      <td>0.0</td>\n",
       "      <td>NaN</td>\n",
       "      <td>46.0</td>\n",
       "      <td>деревня Выскатка</td>\n",
       "    </tr>\n",
       "    <tr>\n",
       "      <th>21912</th>\n",
       "      <td>0</td>\n",
       "      <td>470000.0</td>\n",
       "      <td>37.0</td>\n",
       "      <td>2018-02-18</td>\n",
       "      <td>1</td>\n",
       "      <td>2.65</td>\n",
       "      <td>3.0</td>\n",
       "      <td>NaN</td>\n",
       "      <td>3</td>\n",
       "      <td>False</td>\n",
       "      <td>False</td>\n",
       "      <td>False</td>\n",
       "      <td>NaN</td>\n",
       "      <td>0.0</td>\n",
       "      <td>поселок Совхозный</td>\n",
       "      <td>26726.0</td>\n",
       "      <td>13098.5</td>\n",
       "      <td>0.0</td>\n",
       "      <td>NaN</td>\n",
       "      <td>0.0</td>\n",
       "      <td>NaN</td>\n",
       "      <td>45.0</td>\n",
       "      <td>поселок Совхозный</td>\n",
       "    </tr>\n",
       "    <tr>\n",
       "      <th>...</th>\n",
       "      <td>...</td>\n",
       "      <td>...</td>\n",
       "      <td>...</td>\n",
       "      <td>...</td>\n",
       "      <td>...</td>\n",
       "      <td>...</td>\n",
       "      <td>...</td>\n",
       "      <td>...</td>\n",
       "      <td>...</td>\n",
       "      <td>...</td>\n",
       "      <td>...</td>\n",
       "      <td>...</td>\n",
       "      <td>...</td>\n",
       "      <td>...</td>\n",
       "      <td>...</td>\n",
       "      <td>...</td>\n",
       "      <td>...</td>\n",
       "      <td>...</td>\n",
       "      <td>...</td>\n",
       "      <td>...</td>\n",
       "      <td>...</td>\n",
       "      <td>...</td>\n",
       "      <td>...</td>\n",
       "    </tr>\n",
       "    <tr>\n",
       "      <th>17676</th>\n",
       "      <td>0</td>\n",
       "      <td>450000.0</td>\n",
       "      <td>36.5</td>\n",
       "      <td>2018-02-01</td>\n",
       "      <td>1</td>\n",
       "      <td>2.65</td>\n",
       "      <td>5.0</td>\n",
       "      <td>17.3</td>\n",
       "      <td>4</td>\n",
       "      <td>False</td>\n",
       "      <td>False</td>\n",
       "      <td>False</td>\n",
       "      <td>8.5</td>\n",
       "      <td>1.0</td>\n",
       "      <td>деревня Ям-Тесово</td>\n",
       "      <td>26726.0</td>\n",
       "      <td>13098.5</td>\n",
       "      <td>0.0</td>\n",
       "      <td>NaN</td>\n",
       "      <td>0.0</td>\n",
       "      <td>NaN</td>\n",
       "      <td>120.0</td>\n",
       "      <td>деревня Ям-Тесово</td>\n",
       "    </tr>\n",
       "    <tr>\n",
       "      <th>16274</th>\n",
       "      <td>18</td>\n",
       "      <td>440000.0</td>\n",
       "      <td>40.0</td>\n",
       "      <td>2018-07-10</td>\n",
       "      <td>1</td>\n",
       "      <td>2.65</td>\n",
       "      <td>5.0</td>\n",
       "      <td>NaN</td>\n",
       "      <td>1</td>\n",
       "      <td>False</td>\n",
       "      <td>False</td>\n",
       "      <td>False</td>\n",
       "      <td>NaN</td>\n",
       "      <td>0.0</td>\n",
       "      <td>деревня Старополье</td>\n",
       "      <td>26726.0</td>\n",
       "      <td>13098.5</td>\n",
       "      <td>0.0</td>\n",
       "      <td>NaN</td>\n",
       "      <td>0.0</td>\n",
       "      <td>NaN</td>\n",
       "      <td>45.0</td>\n",
       "      <td>деревня Старополье</td>\n",
       "    </tr>\n",
       "    <tr>\n",
       "      <th>14911</th>\n",
       "      <td>5</td>\n",
       "      <td>430000.0</td>\n",
       "      <td>54.0</td>\n",
       "      <td>2018-06-26</td>\n",
       "      <td>2</td>\n",
       "      <td>2.65</td>\n",
       "      <td>3.0</td>\n",
       "      <td>NaN</td>\n",
       "      <td>3</td>\n",
       "      <td>False</td>\n",
       "      <td>False</td>\n",
       "      <td>False</td>\n",
       "      <td>NaN</td>\n",
       "      <td>0.0</td>\n",
       "      <td>посёлок станции Свирь</td>\n",
       "      <td>26726.0</td>\n",
       "      <td>13098.5</td>\n",
       "      <td>0.0</td>\n",
       "      <td>NaN</td>\n",
       "      <td>0.0</td>\n",
       "      <td>NaN</td>\n",
       "      <td>44.0</td>\n",
       "      <td>поселок станции Свирь</td>\n",
       "    </tr>\n",
       "    <tr>\n",
       "      <th>17456</th>\n",
       "      <td>7</td>\n",
       "      <td>430000.0</td>\n",
       "      <td>30.4</td>\n",
       "      <td>2019-04-22</td>\n",
       "      <td>1</td>\n",
       "      <td>2.65</td>\n",
       "      <td>2.0</td>\n",
       "      <td>16.0</td>\n",
       "      <td>1</td>\n",
       "      <td>False</td>\n",
       "      <td>False</td>\n",
       "      <td>False</td>\n",
       "      <td>6.0</td>\n",
       "      <td>0.0</td>\n",
       "      <td>Сланцы</td>\n",
       "      <td>26726.0</td>\n",
       "      <td>13098.5</td>\n",
       "      <td>0.0</td>\n",
       "      <td>NaN</td>\n",
       "      <td>0.0</td>\n",
       "      <td>NaN</td>\n",
       "      <td>NaN</td>\n",
       "      <td>Сланцы</td>\n",
       "    </tr>\n",
       "    <tr>\n",
       "      <th>8793</th>\n",
       "      <td>7</td>\n",
       "      <td>12190.0</td>\n",
       "      <td>109.0</td>\n",
       "      <td>2019-03-20</td>\n",
       "      <td>2</td>\n",
       "      <td>2.75</td>\n",
       "      <td>25.0</td>\n",
       "      <td>32.0</td>\n",
       "      <td>25</td>\n",
       "      <td>False</td>\n",
       "      <td>False</td>\n",
       "      <td>False</td>\n",
       "      <td>40.5</td>\n",
       "      <td>0.0</td>\n",
       "      <td>Санкт-Петербург</td>\n",
       "      <td>36421.0</td>\n",
       "      <td>9176.0</td>\n",
       "      <td>1.0</td>\n",
       "      <td>805.0</td>\n",
       "      <td>0.0</td>\n",
       "      <td>NaN</td>\n",
       "      <td>8.0</td>\n",
       "      <td>Санкт-Петербург</td>\n",
       "    </tr>\n",
       "  </tbody>\n",
       "</table>\n",
       "<p>14 rows × 23 columns</p>\n",
       "</div>"
      ],
      "text/plain": [
       "       total_images  last_price  total_area first_day_exposition  rooms  \\\n",
       "6859              6    490000.0        40.0           2017-12-11      1   \n",
       "10782             3    490000.0        29.1           2016-05-05      1   \n",
       "16032             8    480000.0        32.0           2019-01-06      1   \n",
       "18867             1    470000.0        41.0           2018-02-11      1   \n",
       "21912             0    470000.0        37.0           2018-02-18      1   \n",
       "...             ...         ...         ...                  ...    ...   \n",
       "17676             0    450000.0        36.5           2018-02-01      1   \n",
       "16274            18    440000.0        40.0           2018-07-10      1   \n",
       "14911             5    430000.0        54.0           2018-06-26      2   \n",
       "17456             7    430000.0        30.4           2019-04-22      1   \n",
       "8793              7     12190.0       109.0           2019-03-20      2   \n",
       "\n",
       "       ceiling_height  floors_total  living_area  floor  is_apartment  studio  \\\n",
       "6859             2.65           5.0          NaN      3         False   False   \n",
       "10782            2.50           5.0         17.0      5         False   False   \n",
       "16032            2.65           2.0         16.0      1         False   False   \n",
       "18867            2.65           5.0         32.0      3         False   False   \n",
       "21912            2.65           3.0          NaN      3         False   False   \n",
       "...               ...           ...          ...    ...           ...     ...   \n",
       "17676            2.65           5.0         17.3      4         False   False   \n",
       "16274            2.65           5.0          NaN      1         False   False   \n",
       "14911            2.65           3.0          NaN      3         False   False   \n",
       "17456            2.65           2.0         16.0      1         False   False   \n",
       "8793             2.75          25.0         32.0     25         False   False   \n",
       "\n",
       "       open_plan  kitchen_area  balcony          locality_name  \\\n",
       "6859       False           NaN      0.0     деревня Старополье   \n",
       "10782      False           5.5      0.0                 Сланцы   \n",
       "16032      False           NaN      0.0                 Сланцы   \n",
       "18867      False           9.0      0.0       деревня Выскатка   \n",
       "21912      False           NaN      0.0      поселок Совхозный   \n",
       "...          ...           ...      ...                    ...   \n",
       "17676      False           8.5      1.0      деревня Ям-Тесово   \n",
       "16274      False           NaN      0.0     деревня Старополье   \n",
       "14911      False           NaN      0.0  посёлок станции Свирь   \n",
       "17456      False           6.0      0.0                 Сланцы   \n",
       "8793       False          40.5      0.0        Санкт-Петербург   \n",
       "\n",
       "       airports_nearest  cityCenters_nearest  parks_around3000  parks_nearest  \\\n",
       "6859            26726.0              13098.5               0.0            NaN   \n",
       "10782           26726.0              13098.5               0.0            NaN   \n",
       "16032           26726.0              13098.5               0.0            NaN   \n",
       "18867           26726.0              13098.5               0.0            NaN   \n",
       "21912           26726.0              13098.5               0.0            NaN   \n",
       "...                 ...                  ...               ...            ...   \n",
       "17676           26726.0              13098.5               0.0            NaN   \n",
       "16274           26726.0              13098.5               0.0            NaN   \n",
       "14911           26726.0              13098.5               0.0            NaN   \n",
       "17456           26726.0              13098.5               0.0            NaN   \n",
       "8793            36421.0               9176.0               1.0          805.0   \n",
       "\n",
       "       ponds_around3000  ponds_nearest  days_exposition   locality_name_unique  \n",
       "6859                0.0            NaN             43.0     деревня Старополье  \n",
       "10782               0.0            NaN            719.0                 Сланцы  \n",
       "16032               0.0            NaN             83.0                 Сланцы  \n",
       "18867               0.0            NaN             46.0       деревня Выскатка  \n",
       "21912               0.0            NaN             45.0      поселок Совхозный  \n",
       "...                 ...            ...              ...                    ...  \n",
       "17676               0.0            NaN            120.0      деревня Ям-Тесово  \n",
       "16274               0.0            NaN             45.0     деревня Старополье  \n",
       "14911               0.0            NaN             44.0  поселок станции Свирь  \n",
       "17456               0.0            NaN              NaN                 Сланцы  \n",
       "8793                0.0            NaN              8.0        Санкт-Петербург  \n",
       "\n",
       "[14 rows x 23 columns]"
      ]
     },
     "metadata": {},
     "output_type": "display_data"
    }
   ],
   "source": [
    "print('Рассмотрим значения в столбце last_price - Стоимость')\n",
    "data.boxplot('last_price')\n",
    "plt.show()\n",
    "print(data['last_price'].describe()) \n",
    "print()\n",
    "print('Самые дорогие объекты (цена более 300 млн)')\n",
    "display(data.query('last_price > 2e+08').sort_values('last_price', ascending=False))\n",
    "print('Объекты с площадью 350-450 м, высотой потолков < 3 и расстоянием до центра менее 8 км')\n",
    "display(data.query('(total_area > 350) and (total_area < 450) and (ceiling_height < 3) and (cityCenters_nearest < 8000)').sort_values('last_price', ascending=False))\n",
    "print('Самые дешевые объекты (цена менее 500 тыс.)')\n",
    "display(data.query('last_price < 5e+05').sort_values('last_price', ascending=False))\n",
    "\n",
    "\n",
    "    "
   ]
  },
  {
   "cell_type": "markdown",
   "metadata": {},
   "source": [
    "Стоимость только четырех объектов превышает 300 млн руб, причем самый дорогой из них 763 миллиона рублей, хотя схожие по параметрам объекты находятся в диапазоне 28-88 млн руб. \n",
    "Вероятно здесь ошибка в цене, прибавлен лишний \"0\". \n",
    "\n",
    "Стоимость самого дешевого объекта также сомнительная. Это можно исправить, вероятно здесь указана цена за м2"
   ]
  },
  {
   "cell_type": "code",
   "execution_count": 19,
   "metadata": {},
   "outputs": [],
   "source": [
    "data.loc[(data.total_area > 350) & \n",
    "         (data.total_area < 450) & \n",
    "         (data.ceiling_height < 3) & \n",
    "         (data.cityCenters_nearest < 8000) & \n",
    "         (data.last_price > 3e+08),'last_price'] /= 10\n",
    "\n",
    "data.loc[(data.last_price < 1.3e+04),'last_price'] = data.loc[(data.last_price < 1.3e+04),'last_price'] * data.loc[(data.last_price < 1.3e+04),'total_area']"
   ]
  },
  {
   "cell_type": "code",
   "execution_count": 20,
   "metadata": {
    "scrolled": false
   },
   "outputs": [
    {
     "name": "stdout",
     "output_type": "stream",
     "text": [
      "Рассмотрим значения в столбце total_area - Общая площадь\n"
     ]
    },
    {
     "data": {
      "image/png": "[encoded data removed]",
      "text/plain": [
       "<Figure size 432x288 with 1 Axes>"
      ]
     },
     "metadata": {
      "needs_background": "light"
     },
     "output_type": "display_data"
    },
    {
     "name": "stdout",
     "output_type": "stream",
     "text": [
      "count    23699.000000\n",
      "mean        60.348651\n",
      "std         35.654083\n",
      "min         12.000000\n",
      "25%         40.000000\n",
      "50%         52.000000\n",
      "75%         69.900000\n",
      "max        900.000000\n",
      "Name: total_area, dtype: float64\n"
     ]
    }
   ],
   "source": [
    "print('Рассмотрим значения в столбце total_area - Общая площадь')\n",
    "data.boxplot('total_area')\n",
    "plt.show()\n",
    "print(data['total_area'].describe()) "
   ]
  },
  {
   "cell_type": "markdown",
   "metadata": {},
   "source": [
    "Один объект площадью 900 м2. Возможно это многоуровневая квартира, так как находится она на последнем этаже. Сомнительно, что здесь ошибка в площади, так как жилая площадь примерно соответствует и число комнат значительное. Тем не менее такой объект всего один, очевидно, что он уникальный и похожих на него нет. \n",
    "\n",
    "Его можно отбросить, его параметры будут влиять на исследования.\n",
    "\n",
    "Однако перед этим проведем проверку на размер потерь после удаления таких выбросов:"
   ]
  },
  {
   "cell_type": "code",
   "execution_count": 21,
   "metadata": {
    "scrolled": true
   },
   "outputs": [
    {
     "name": "stdout",
     "output_type": "stream",
     "text": [
      "Рассматриваемые выбросы (объекты с площадью более 800 м2) составляют 0.004% от общей величины выборки.\n",
      "\n",
      "Рассматриваемые выбросы составляют менее 10% от общей выборки.\n",
      "Значения этих данных искажают результаты исследования их значимость не подтверждена количеством, поэтому:\n",
      "УДАЛИМ их из выборки\n"
     ]
    }
   ],
   "source": [
    "# задаем временную переменную, хранящую долю выброса в выборке\n",
    "anomaly_part = len(data.loc[(data.total_area > 800)]) / len(data)\n",
    "print(f'Рассматриваемые выбросы (объекты с площадью более 800 м2) составляют {anomaly_part:.3%} от общей величины выборки.')\n",
    "print()\n",
    "if anomaly_part >= 10:\n",
    "    print('Рассматриваемые выбросы составляют более 10% от общей выборки.\\nЗначения этих данных важны для анализа своим количеством, поэтому: \\nОСТАВИМ их в выборке')\n",
    "else:\n",
    "    print('Рассматриваемые выбросы составляют менее 10% от общей выборки.\\nЗначения этих данных искажают результаты исследования их значимость не подтверждена количеством, поэтому:\\nУДАЛИМ их из выборки')"
   ]
  },
  {
   "cell_type": "code",
   "execution_count": 22,
   "metadata": {},
   "outputs": [],
   "source": [
    "data = data.loc[~(data.total_area > 800)]"
   ]
  },
  {
   "cell_type": "code",
   "execution_count": 23,
   "metadata": {
    "scrolled": false
   },
   "outputs": [
    {
     "name": "stdout",
     "output_type": "stream",
     "text": [
      "Рассмотрим значения в столбце rooms - Количество комнат\n"
     ]
    },
    {
     "data": {
      "image/png": "[encoded data removed]",
      "text/plain": [
       "<Figure size 432x288 with 1 Axes>"
      ]
     },
     "metadata": {
      "needs_background": "light"
     },
     "output_type": "display_data"
    },
    {
     "name": "stdout",
     "output_type": "stream",
     "text": [
      "count    23698.000000\n",
      "mean         2.070217\n",
      "std          1.076497\n",
      "min          0.000000\n",
      "25%          1.000000\n",
      "50%          2.000000\n",
      "75%          3.000000\n",
      "max         19.000000\n",
      "Name: rooms, dtype: float64\n"
     ]
    }
   ],
   "source": [
    "print('Рассмотрим значения в столбце rooms - Количество комнат')\n",
    "data.boxplot('rooms')\n",
    "plt.show()\n",
    "print(data['rooms'].describe()) "
   ]
  },
  {
   "cell_type": "markdown",
   "metadata": {},
   "source": [
    "Здесь очевидно все в порядке, минимум 0 комнат (свободная планировка), максимум 19. Есть часть квартир с большим количеством комнат, они будут участвовать в анализе."
   ]
  },
  {
   "cell_type": "code",
   "execution_count": 24,
   "metadata": {
    "scrolled": false
   },
   "outputs": [
    {
     "name": "stdout",
     "output_type": "stream",
     "text": [
      "Рассмотрим значения в столбце ceiling_height - Высота потолков\n"
     ]
    },
    {
     "data": {
      "image/png": "[encoded data removed]",
      "text/plain": [
       "<Figure size 432x288 with 1 Axes>"
      ]
     },
     "metadata": {
      "needs_background": "light"
     },
     "output_type": "display_data"
    },
    {
     "name": "stdout",
     "output_type": "stream",
     "text": [
      "count    23698.000000\n",
      "mean         2.724355\n",
      "std          0.988319\n",
      "min          1.000000\n",
      "25%          2.600000\n",
      "50%          2.650000\n",
      "75%          2.700000\n",
      "max        100.000000\n",
      "Name: ceiling_height, dtype: float64\n"
     ]
    }
   ],
   "source": [
    "print('Рассмотрим значения в столбце ceiling_height - Высота потолков')\n",
    "data.boxplot('ceiling_height')\n",
    "plt.show()\n",
    "print(data['ceiling_height'].describe()) "
   ]
  },
  {
   "cell_type": "markdown",
   "metadata": {},
   "source": [
    "Объекты с высотой потолков более 20 м выглядят необычными. Скорее всего в этих данных ошибка, и высота указана в дециметрах.\n",
    "\n",
    "Одно значение явно выбивается: объект с высотой потолка 100 м исключим из выборки.\n",
    "\n",
    "Для значений высоты в диапазоне 8-20 м нет разумных объяснений. Таких объектов всего 7, поэтому из выборки их исключим.\n",
    "Высота потолка менее 2 м тоже выглядит подозрительной. Здесь также всего 3 объекта, они исключаются из выборки.\n",
    "\n",
    "Однако перед этим проведем проверку на размер потерь после удаления таких выбросов:"
   ]
  },
  {
   "cell_type": "code",
   "execution_count": 25,
   "metadata": {},
   "outputs": [
    {
     "name": "stdout",
     "output_type": "stream",
     "text": [
      "Рассматриваемые выбросы (объекты с высотой потолка 100 м) составляют 0.004% от общей величины выборки.\n",
      "\n",
      "Рассматриваемые выбросы составляют менее 10% от общей выборки.\n",
      "Значения этих данных искажают результаты исследования их значимость не подтверждена количеством, поэтому:\n",
      "УДАЛИМ их из выборки\n",
      "\n",
      "Рассматриваемые выбросы (объекты с высотой потолка от 8 до 20 м и менне 2 м) составляют 0.135% от общей величины выборки.\n",
      "\n",
      "Рассматриваемые выбросы составляют менее 10% от общей выборки.\n",
      "Значения этих данных искажают результаты исследования их значимость не подтверждена количеством, поэтому:\n",
      "УДАЛИМ их из выборки\n"
     ]
    }
   ],
   "source": [
    "# задаем временную переменную, хранящую долю выброса в выборке\n",
    "anomaly_part = len(data.loc[(data.ceiling_height == 100)]) / len(data)\n",
    "print(f'Рассматриваемые выбросы (объекты с высотой потолка 100 м) составляют {anomaly_part:.3%} от общей величины выборки.')\n",
    "print()\n",
    "if anomaly_part >= 10:\n",
    "    print('Рассматриваемые выбросы составляют более 10% от общей выборки.\\nЗначения этих данных важны для анализа своим количеством, поэтому: \\nОСТАВИМ их в выборке')\n",
    "else:\n",
    "    print('Рассматриваемые выбросы составляют менее 10% от общей выборки.\\nЗначения этих данных искажают результаты исследования их значимость не подтверждена количеством, поэтому:\\nУДАЛИМ их из выборки')\n",
    "print()\n",
    "\n",
    "# задаем временную переменную, хранящую долю выброса в выборке\n",
    "anomaly_part = len(data.loc[(data.ceiling_height < 2) | (data.ceiling_height >= 8)]) / len(data)\n",
    "print(f'Рассматриваемые выбросы (объекты с высотой потолка от 8 до 20 м и менне 2 м) составляют {anomaly_part:.3%} от общей величины выборки.')\n",
    "print()\n",
    "if anomaly_part >= 10:\n",
    "    print('Рассматриваемые выбросы составляют более 10% от общей выборки.\\nЗначения этих данных важны для анализа своим количеством, поэтому: \\nОСТАВИМ их в выборке')\n",
    "else:\n",
    "    print('Рассматриваемые выбросы составляют менее 10% от общей выборки.\\nЗначения этих данных искажают результаты исследования их значимость не подтверждена количеством, поэтому:\\nУДАЛИМ их из выборки')"
   ]
  },
  {
   "cell_type": "code",
   "execution_count": 26,
   "metadata": {
    "scrolled": true
   },
   "outputs": [],
   "source": [
    "data = data.loc[~(data.ceiling_height == 100)]\n",
    "data.loc[(data.ceiling_height > 20)]['ceiling_height'] /= 10\n",
    "data = data.loc[~((data.ceiling_height < 2) & (data.ceiling_height >= 8))]\n"
   ]
  },
  {
   "cell_type": "code",
   "execution_count": 27,
   "metadata": {
    "scrolled": false
   },
   "outputs": [
    {
     "name": "stdout",
     "output_type": "stream",
     "text": [
      "Рассмотрим значения в столбце living_area - Жилая площадь\n"
     ]
    },
    {
     "data": {
      "image/png": "[encoded data removed]",
      "text/plain": [
       "<Figure size 432x288 with 1 Axes>"
      ]
     },
     "metadata": {
      "needs_background": "light"
     },
     "output_type": "display_data"
    },
    {
     "name": "stdout",
     "output_type": "stream",
     "text": [
      "count    21794.000000\n",
      "mean        34.441573\n",
      "std         21.883887\n",
      "min          2.000000\n",
      "25%         18.600000\n",
      "50%         30.000000\n",
      "75%         42.300000\n",
      "max        409.000000\n",
      "Name: living_area, dtype: float64\n"
     ]
    }
   ],
   "source": [
    "print('Рассмотрим значения в столбце living_area - Жилая площадь')\n",
    "data.boxplot('living_area')\n",
    "plt.show()\n",
    "print(data['living_area'].describe()) "
   ]
  },
  {
   "cell_type": "code",
   "execution_count": 28,
   "metadata": {
    "scrolled": false
   },
   "outputs": [
    {
     "name": "stdout",
     "output_type": "stream",
     "text": [
      "Объекты с жилой площадью более 290 м\n"
     ]
    },
    {
     "data": {
      "text/html": [
       "<div>\n",
       "<style scoped>\n",
       "    .dataframe tbody tr th:only-of-type {\n",
       "        vertical-align: middle;\n",
       "    }\n",
       "\n",
       "    .dataframe tbody tr th {\n",
       "        vertical-align: top;\n",
       "    }\n",
       "\n",
       "    .dataframe thead th {\n",
       "        text-align: right;\n",
       "    }\n",
       "</style>\n",
       "<table border=\"1\" class=\"dataframe\">\n",
       "  <thead>\n",
       "    <tr style=\"text-align: right;\">\n",
       "      <th></th>\n",
       "      <th>total_images</th>\n",
       "      <th>last_price</th>\n",
       "      <th>total_area</th>\n",
       "      <th>first_day_exposition</th>\n",
       "      <th>rooms</th>\n",
       "      <th>ceiling_height</th>\n",
       "      <th>floors_total</th>\n",
       "      <th>living_area</th>\n",
       "      <th>floor</th>\n",
       "      <th>is_apartment</th>\n",
       "      <th>studio</th>\n",
       "      <th>open_plan</th>\n",
       "      <th>kitchen_area</th>\n",
       "      <th>balcony</th>\n",
       "      <th>locality_name</th>\n",
       "      <th>airports_nearest</th>\n",
       "      <th>cityCenters_nearest</th>\n",
       "      <th>parks_around3000</th>\n",
       "      <th>parks_nearest</th>\n",
       "      <th>ponds_around3000</th>\n",
       "      <th>ponds_nearest</th>\n",
       "      <th>days_exposition</th>\n",
       "      <th>locality_name_unique</th>\n",
       "    </tr>\n",
       "  </thead>\n",
       "  <tbody>\n",
       "    <tr>\n",
       "      <th>660</th>\n",
       "      <td>3</td>\n",
       "      <td>49950000.0</td>\n",
       "      <td>483.9</td>\n",
       "      <td>2017-10-04</td>\n",
       "      <td>7</td>\n",
       "      <td>3.20</td>\n",
       "      <td>6.0</td>\n",
       "      <td>312.5</td>\n",
       "      <td>4</td>\n",
       "      <td>False</td>\n",
       "      <td>False</td>\n",
       "      <td>False</td>\n",
       "      <td>26.4</td>\n",
       "      <td>0.0</td>\n",
       "      <td>Санкт-Петербург</td>\n",
       "      <td>23079.0</td>\n",
       "      <td>945.0</td>\n",
       "      <td>3.0</td>\n",
       "      <td>461.0</td>\n",
       "      <td>3.0</td>\n",
       "      <td>22.0</td>\n",
       "      <td>391.0</td>\n",
       "      <td>Санкт-Петербург</td>\n",
       "    </tr>\n",
       "    <tr>\n",
       "      <th>4237</th>\n",
       "      <td>1</td>\n",
       "      <td>50000000.0</td>\n",
       "      <td>517.0</td>\n",
       "      <td>2017-10-14</td>\n",
       "      <td>7</td>\n",
       "      <td>2.65</td>\n",
       "      <td>4.0</td>\n",
       "      <td>332.0</td>\n",
       "      <td>3</td>\n",
       "      <td>False</td>\n",
       "      <td>False</td>\n",
       "      <td>False</td>\n",
       "      <td>22.0</td>\n",
       "      <td>0.0</td>\n",
       "      <td>Санкт-Петербург</td>\n",
       "      <td>22835.0</td>\n",
       "      <td>1847.0</td>\n",
       "      <td>2.0</td>\n",
       "      <td>477.0</td>\n",
       "      <td>2.0</td>\n",
       "      <td>540.0</td>\n",
       "      <td>NaN</td>\n",
       "      <td>Санкт-Петербург</td>\n",
       "    </tr>\n",
       "    <tr>\n",
       "      <th>5358</th>\n",
       "      <td>20</td>\n",
       "      <td>65000000.0</td>\n",
       "      <td>590.0</td>\n",
       "      <td>2019-02-14</td>\n",
       "      <td>15</td>\n",
       "      <td>3.50</td>\n",
       "      <td>6.0</td>\n",
       "      <td>409.0</td>\n",
       "      <td>3</td>\n",
       "      <td>False</td>\n",
       "      <td>False</td>\n",
       "      <td>False</td>\n",
       "      <td>100.0</td>\n",
       "      <td>0.0</td>\n",
       "      <td>Санкт-Петербург</td>\n",
       "      <td>24447.0</td>\n",
       "      <td>4666.0</td>\n",
       "      <td>1.0</td>\n",
       "      <td>767.0</td>\n",
       "      <td>0.0</td>\n",
       "      <td>NaN</td>\n",
       "      <td>14.0</td>\n",
       "      <td>Санкт-Петербург</td>\n",
       "    </tr>\n",
       "    <tr>\n",
       "      <th>8018</th>\n",
       "      <td>20</td>\n",
       "      <td>84000000.0</td>\n",
       "      <td>507.0</td>\n",
       "      <td>2015-12-17</td>\n",
       "      <td>5</td>\n",
       "      <td>4.45</td>\n",
       "      <td>7.0</td>\n",
       "      <td>301.5</td>\n",
       "      <td>7</td>\n",
       "      <td>True</td>\n",
       "      <td>False</td>\n",
       "      <td>False</td>\n",
       "      <td>45.5</td>\n",
       "      <td>1.0</td>\n",
       "      <td>Санкт-Петербург</td>\n",
       "      <td>26726.0</td>\n",
       "      <td>5735.0</td>\n",
       "      <td>2.0</td>\n",
       "      <td>110.0</td>\n",
       "      <td>0.0</td>\n",
       "      <td>NaN</td>\n",
       "      <td>1078.0</td>\n",
       "      <td>Санкт-Петербург</td>\n",
       "    </tr>\n",
       "    <tr>\n",
       "      <th>12401</th>\n",
       "      <td>20</td>\n",
       "      <td>91500000.0</td>\n",
       "      <td>495.0</td>\n",
       "      <td>2017-06-19</td>\n",
       "      <td>7</td>\n",
       "      <td>4.65</td>\n",
       "      <td>7.0</td>\n",
       "      <td>347.5</td>\n",
       "      <td>7</td>\n",
       "      <td>False</td>\n",
       "      <td>False</td>\n",
       "      <td>False</td>\n",
       "      <td>25.0</td>\n",
       "      <td>0.0</td>\n",
       "      <td>Санкт-Петербург</td>\n",
       "      <td>26726.0</td>\n",
       "      <td>5735.0</td>\n",
       "      <td>2.0</td>\n",
       "      <td>110.0</td>\n",
       "      <td>0.0</td>\n",
       "      <td>NaN</td>\n",
       "      <td>14.0</td>\n",
       "      <td>Санкт-Петербург</td>\n",
       "    </tr>\n",
       "    <tr>\n",
       "      <th>12859</th>\n",
       "      <td>20</td>\n",
       "      <td>140000000.0</td>\n",
       "      <td>631.2</td>\n",
       "      <td>2019-04-09</td>\n",
       "      <td>7</td>\n",
       "      <td>3.90</td>\n",
       "      <td>4.0</td>\n",
       "      <td>322.3</td>\n",
       "      <td>4</td>\n",
       "      <td>False</td>\n",
       "      <td>False</td>\n",
       "      <td>False</td>\n",
       "      <td>19.5</td>\n",
       "      <td>1.0</td>\n",
       "      <td>Санкт-Петербург</td>\n",
       "      <td>25707.0</td>\n",
       "      <td>4972.0</td>\n",
       "      <td>0.0</td>\n",
       "      <td>NaN</td>\n",
       "      <td>2.0</td>\n",
       "      <td>210.0</td>\n",
       "      <td>NaN</td>\n",
       "      <td>Санкт-Петербург</td>\n",
       "    </tr>\n",
       "    <tr>\n",
       "      <th>14088</th>\n",
       "      <td>8</td>\n",
       "      <td>51000000.0</td>\n",
       "      <td>402.0</td>\n",
       "      <td>2017-02-07</td>\n",
       "      <td>6</td>\n",
       "      <td>3.15</td>\n",
       "      <td>8.0</td>\n",
       "      <td>300.0</td>\n",
       "      <td>6</td>\n",
       "      <td>False</td>\n",
       "      <td>False</td>\n",
       "      <td>False</td>\n",
       "      <td>56.0</td>\n",
       "      <td>2.0</td>\n",
       "      <td>Санкт-Петербург</td>\n",
       "      <td>24484.0</td>\n",
       "      <td>5052.0</td>\n",
       "      <td>1.0</td>\n",
       "      <td>253.0</td>\n",
       "      <td>0.0</td>\n",
       "      <td>NaN</td>\n",
       "      <td>32.0</td>\n",
       "      <td>Санкт-Петербург</td>\n",
       "    </tr>\n",
       "  </tbody>\n",
       "</table>\n",
       "</div>"
      ],
      "text/plain": [
       "       total_images   last_price  total_area first_day_exposition  rooms  \\\n",
       "660               3   49950000.0       483.9           2017-10-04      7   \n",
       "4237              1   50000000.0       517.0           2017-10-14      7   \n",
       "5358             20   65000000.0       590.0           2019-02-14     15   \n",
       "8018             20   84000000.0       507.0           2015-12-17      5   \n",
       "12401            20   91500000.0       495.0           2017-06-19      7   \n",
       "12859            20  140000000.0       631.2           2019-04-09      7   \n",
       "14088             8   51000000.0       402.0           2017-02-07      6   \n",
       "\n",
       "       ceiling_height  floors_total  living_area  floor  is_apartment  studio  \\\n",
       "660              3.20           6.0        312.5      4         False   False   \n",
       "4237             2.65           4.0        332.0      3         False   False   \n",
       "5358             3.50           6.0        409.0      3         False   False   \n",
       "8018             4.45           7.0        301.5      7          True   False   \n",
       "12401            4.65           7.0        347.5      7         False   False   \n",
       "12859            3.90           4.0        322.3      4         False   False   \n",
       "14088            3.15           8.0        300.0      6         False   False   \n",
       "\n",
       "       open_plan  kitchen_area  balcony    locality_name  airports_nearest  \\\n",
       "660        False          26.4      0.0  Санкт-Петербург           23079.0   \n",
       "4237       False          22.0      0.0  Санкт-Петербург           22835.0   \n",
       "5358       False         100.0      0.0  Санкт-Петербург           24447.0   \n",
       "8018       False          45.5      1.0  Санкт-Петербург           26726.0   \n",
       "12401      False          25.0      0.0  Санкт-Петербург           26726.0   \n",
       "12859      False          19.5      1.0  Санкт-Петербург           25707.0   \n",
       "14088      False          56.0      2.0  Санкт-Петербург           24484.0   \n",
       "\n",
       "       cityCenters_nearest  parks_around3000  parks_nearest  ponds_around3000  \\\n",
       "660                  945.0               3.0          461.0               3.0   \n",
       "4237                1847.0               2.0          477.0               2.0   \n",
       "5358                4666.0               1.0          767.0               0.0   \n",
       "8018                5735.0               2.0          110.0               0.0   \n",
       "12401               5735.0               2.0          110.0               0.0   \n",
       "12859               4972.0               0.0            NaN               2.0   \n",
       "14088               5052.0               1.0          253.0               0.0   \n",
       "\n",
       "       ponds_nearest  days_exposition locality_name_unique  \n",
       "660             22.0            391.0      Санкт-Петербург  \n",
       "4237           540.0              NaN      Санкт-Петербург  \n",
       "5358             NaN             14.0      Санкт-Петербург  \n",
       "8018             NaN           1078.0      Санкт-Петербург  \n",
       "12401            NaN             14.0      Санкт-Петербург  \n",
       "12859          210.0              NaN      Санкт-Петербург  \n",
       "14088            NaN             32.0      Санкт-Петербург  "
      ]
     },
     "metadata": {},
     "output_type": "display_data"
    },
    {
     "name": "stdout",
     "output_type": "stream",
     "text": [
      "Объекты с жилой площадью менее 7 м\n"
     ]
    },
    {
     "data": {
      "text/html": [
       "<div>\n",
       "<style scoped>\n",
       "    .dataframe tbody tr th:only-of-type {\n",
       "        vertical-align: middle;\n",
       "    }\n",
       "\n",
       "    .dataframe tbody tr th {\n",
       "        vertical-align: top;\n",
       "    }\n",
       "\n",
       "    .dataframe thead th {\n",
       "        text-align: right;\n",
       "    }\n",
       "</style>\n",
       "<table border=\"1\" class=\"dataframe\">\n",
       "  <thead>\n",
       "    <tr style=\"text-align: right;\">\n",
       "      <th></th>\n",
       "      <th>total_images</th>\n",
       "      <th>last_price</th>\n",
       "      <th>total_area</th>\n",
       "      <th>first_day_exposition</th>\n",
       "      <th>rooms</th>\n",
       "      <th>ceiling_height</th>\n",
       "      <th>floors_total</th>\n",
       "      <th>living_area</th>\n",
       "      <th>floor</th>\n",
       "      <th>is_apartment</th>\n",
       "      <th>studio</th>\n",
       "      <th>open_plan</th>\n",
       "      <th>kitchen_area</th>\n",
       "      <th>balcony</th>\n",
       "      <th>locality_name</th>\n",
       "      <th>airports_nearest</th>\n",
       "      <th>cityCenters_nearest</th>\n",
       "      <th>parks_around3000</th>\n",
       "      <th>parks_nearest</th>\n",
       "      <th>ponds_around3000</th>\n",
       "      <th>ponds_nearest</th>\n",
       "      <th>days_exposition</th>\n",
       "      <th>locality_name_unique</th>\n",
       "    </tr>\n",
       "  </thead>\n",
       "  <tbody>\n",
       "    <tr>\n",
       "      <th>3242</th>\n",
       "      <td>7</td>\n",
       "      <td>4440000.0</td>\n",
       "      <td>41.0</td>\n",
       "      <td>2017-07-02</td>\n",
       "      <td>1</td>\n",
       "      <td>2.65</td>\n",
       "      <td>17.0</td>\n",
       "      <td>3.0</td>\n",
       "      <td>17</td>\n",
       "      <td>False</td>\n",
       "      <td>False</td>\n",
       "      <td>False</td>\n",
       "      <td>11.0</td>\n",
       "      <td>0.0</td>\n",
       "      <td>Санкт-Петербург</td>\n",
       "      <td>19272.0</td>\n",
       "      <td>13073.0</td>\n",
       "      <td>0.0</td>\n",
       "      <td>NaN</td>\n",
       "      <td>0.0</td>\n",
       "      <td>NaN</td>\n",
       "      <td>216.0</td>\n",
       "      <td>Санкт-Петербург</td>\n",
       "    </tr>\n",
       "    <tr>\n",
       "      <th>13915</th>\n",
       "      <td>20</td>\n",
       "      <td>6350000.0</td>\n",
       "      <td>52.0</td>\n",
       "      <td>2018-02-06</td>\n",
       "      <td>2</td>\n",
       "      <td>3.00</td>\n",
       "      <td>6.0</td>\n",
       "      <td>2.0</td>\n",
       "      <td>2</td>\n",
       "      <td>False</td>\n",
       "      <td>False</td>\n",
       "      <td>False</td>\n",
       "      <td>9.0</td>\n",
       "      <td>0.0</td>\n",
       "      <td>Санкт-Петербург</td>\n",
       "      <td>32453.0</td>\n",
       "      <td>6521.0</td>\n",
       "      <td>0.0</td>\n",
       "      <td>NaN</td>\n",
       "      <td>1.0</td>\n",
       "      <td>1012.0</td>\n",
       "      <td>91.0</td>\n",
       "      <td>Санкт-Петербург</td>\n",
       "    </tr>\n",
       "    <tr>\n",
       "      <th>16431</th>\n",
       "      <td>13</td>\n",
       "      <td>3799000.0</td>\n",
       "      <td>31.0</td>\n",
       "      <td>2018-04-12</td>\n",
       "      <td>1</td>\n",
       "      <td>2.60</td>\n",
       "      <td>5.0</td>\n",
       "      <td>6.0</td>\n",
       "      <td>1</td>\n",
       "      <td>False</td>\n",
       "      <td>False</td>\n",
       "      <td>False</td>\n",
       "      <td>17.0</td>\n",
       "      <td>0.0</td>\n",
       "      <td>Санкт-Петербург</td>\n",
       "      <td>32177.0</td>\n",
       "      <td>4826.0</td>\n",
       "      <td>1.0</td>\n",
       "      <td>430.0</td>\n",
       "      <td>0.0</td>\n",
       "      <td>NaN</td>\n",
       "      <td>168.0</td>\n",
       "      <td>Санкт-Петербург</td>\n",
       "    </tr>\n",
       "    <tr>\n",
       "      <th>17582</th>\n",
       "      <td>11</td>\n",
       "      <td>2680000.0</td>\n",
       "      <td>22.0</td>\n",
       "      <td>2018-08-11</td>\n",
       "      <td>0</td>\n",
       "      <td>2.65</td>\n",
       "      <td>25.0</td>\n",
       "      <td>5.0</td>\n",
       "      <td>8</td>\n",
       "      <td>False</td>\n",
       "      <td>True</td>\n",
       "      <td>False</td>\n",
       "      <td>NaN</td>\n",
       "      <td>2.0</td>\n",
       "      <td>Санкт-Петербург</td>\n",
       "      <td>22735.0</td>\n",
       "      <td>11618.0</td>\n",
       "      <td>1.0</td>\n",
       "      <td>835.0</td>\n",
       "      <td>1.0</td>\n",
       "      <td>652.0</td>\n",
       "      <td>70.0</td>\n",
       "      <td>Санкт-Петербург</td>\n",
       "    </tr>\n",
       "    <tr>\n",
       "      <th>19251</th>\n",
       "      <td>19</td>\n",
       "      <td>4050000.0</td>\n",
       "      <td>33.0</td>\n",
       "      <td>2018-10-15</td>\n",
       "      <td>1</td>\n",
       "      <td>2.50</td>\n",
       "      <td>22.0</td>\n",
       "      <td>6.5</td>\n",
       "      <td>21</td>\n",
       "      <td>False</td>\n",
       "      <td>False</td>\n",
       "      <td>False</td>\n",
       "      <td>18.0</td>\n",
       "      <td>0.0</td>\n",
       "      <td>Санкт-Петербург</td>\n",
       "      <td>9258.0</td>\n",
       "      <td>10592.0</td>\n",
       "      <td>1.0</td>\n",
       "      <td>458.0</td>\n",
       "      <td>0.0</td>\n",
       "      <td>NaN</td>\n",
       "      <td>44.0</td>\n",
       "      <td>Санкт-Петербург</td>\n",
       "    </tr>\n",
       "    <tr>\n",
       "      <th>21758</th>\n",
       "      <td>0</td>\n",
       "      <td>2330000.0</td>\n",
       "      <td>23.0</td>\n",
       "      <td>2018-01-01</td>\n",
       "      <td>0</td>\n",
       "      <td>2.65</td>\n",
       "      <td>24.0</td>\n",
       "      <td>2.0</td>\n",
       "      <td>22</td>\n",
       "      <td>False</td>\n",
       "      <td>True</td>\n",
       "      <td>False</td>\n",
       "      <td>NaN</td>\n",
       "      <td>0.0</td>\n",
       "      <td>посёлок Мурино</td>\n",
       "      <td>26726.0</td>\n",
       "      <td>13098.5</td>\n",
       "      <td>0.0</td>\n",
       "      <td>NaN</td>\n",
       "      <td>0.0</td>\n",
       "      <td>NaN</td>\n",
       "      <td>66.0</td>\n",
       "      <td>поселок Мурино</td>\n",
       "    </tr>\n",
       "    <tr>\n",
       "      <th>21943</th>\n",
       "      <td>15</td>\n",
       "      <td>6100000.0</td>\n",
       "      <td>77.6</td>\n",
       "      <td>2019-02-28</td>\n",
       "      <td>4</td>\n",
       "      <td>2.50</td>\n",
       "      <td>9.0</td>\n",
       "      <td>5.4</td>\n",
       "      <td>1</td>\n",
       "      <td>False</td>\n",
       "      <td>False</td>\n",
       "      <td>False</td>\n",
       "      <td>9.8</td>\n",
       "      <td>0.0</td>\n",
       "      <td>Санкт-Петербург</td>\n",
       "      <td>29338.0</td>\n",
       "      <td>11270.0</td>\n",
       "      <td>1.0</td>\n",
       "      <td>584.0</td>\n",
       "      <td>0.0</td>\n",
       "      <td>NaN</td>\n",
       "      <td>33.0</td>\n",
       "      <td>Санкт-Петербург</td>\n",
       "    </tr>\n",
       "    <tr>\n",
       "      <th>23574</th>\n",
       "      <td>14</td>\n",
       "      <td>64990000.0</td>\n",
       "      <td>139.0</td>\n",
       "      <td>2015-11-24</td>\n",
       "      <td>3</td>\n",
       "      <td>3.00</td>\n",
       "      <td>8.0</td>\n",
       "      <td>3.0</td>\n",
       "      <td>8</td>\n",
       "      <td>False</td>\n",
       "      <td>False</td>\n",
       "      <td>False</td>\n",
       "      <td>16.0</td>\n",
       "      <td>1.0</td>\n",
       "      <td>Санкт-Петербург</td>\n",
       "      <td>33255.0</td>\n",
       "      <td>5975.0</td>\n",
       "      <td>1.0</td>\n",
       "      <td>630.0</td>\n",
       "      <td>3.0</td>\n",
       "      <td>100.0</td>\n",
       "      <td>280.0</td>\n",
       "      <td>Санкт-Петербург</td>\n",
       "    </tr>\n",
       "  </tbody>\n",
       "</table>\n",
       "</div>"
      ],
      "text/plain": [
       "       total_images  last_price  total_area first_day_exposition  rooms  \\\n",
       "3242              7   4440000.0        41.0           2017-07-02      1   \n",
       "13915            20   6350000.0        52.0           2018-02-06      2   \n",
       "16431            13   3799000.0        31.0           2018-04-12      1   \n",
       "17582            11   2680000.0        22.0           2018-08-11      0   \n",
       "19251            19   4050000.0        33.0           2018-10-15      1   \n",
       "21758             0   2330000.0        23.0           2018-01-01      0   \n",
       "21943            15   6100000.0        77.6           2019-02-28      4   \n",
       "23574            14  64990000.0       139.0           2015-11-24      3   \n",
       "\n",
       "       ceiling_height  floors_total  living_area  floor  is_apartment  studio  \\\n",
       "3242             2.65          17.0          3.0     17         False   False   \n",
       "13915            3.00           6.0          2.0      2         False   False   \n",
       "16431            2.60           5.0          6.0      1         False   False   \n",
       "17582            2.65          25.0          5.0      8         False    True   \n",
       "19251            2.50          22.0          6.5     21         False   False   \n",
       "21758            2.65          24.0          2.0     22         False    True   \n",
       "21943            2.50           9.0          5.4      1         False   False   \n",
       "23574            3.00           8.0          3.0      8         False   False   \n",
       "\n",
       "       open_plan  kitchen_area  balcony    locality_name  airports_nearest  \\\n",
       "3242       False          11.0      0.0  Санкт-Петербург           19272.0   \n",
       "13915      False           9.0      0.0  Санкт-Петербург           32453.0   \n",
       "16431      False          17.0      0.0  Санкт-Петербург           32177.0   \n",
       "17582      False           NaN      2.0  Санкт-Петербург           22735.0   \n",
       "19251      False          18.0      0.0  Санкт-Петербург            9258.0   \n",
       "21758      False           NaN      0.0   посёлок Мурино           26726.0   \n",
       "21943      False           9.8      0.0  Санкт-Петербург           29338.0   \n",
       "23574      False          16.0      1.0  Санкт-Петербург           33255.0   \n",
       "\n",
       "       cityCenters_nearest  parks_around3000  parks_nearest  ponds_around3000  \\\n",
       "3242               13073.0               0.0            NaN               0.0   \n",
       "13915               6521.0               0.0            NaN               1.0   \n",
       "16431               4826.0               1.0          430.0               0.0   \n",
       "17582              11618.0               1.0          835.0               1.0   \n",
       "19251              10592.0               1.0          458.0               0.0   \n",
       "21758              13098.5               0.0            NaN               0.0   \n",
       "21943              11270.0               1.0          584.0               0.0   \n",
       "23574               5975.0               1.0          630.0               3.0   \n",
       "\n",
       "       ponds_nearest  days_exposition locality_name_unique  \n",
       "3242             NaN            216.0      Санкт-Петербург  \n",
       "13915         1012.0             91.0      Санкт-Петербург  \n",
       "16431            NaN            168.0      Санкт-Петербург  \n",
       "17582          652.0             70.0      Санкт-Петербург  \n",
       "19251            NaN             44.0      Санкт-Петербург  \n",
       "21758            NaN             66.0       поселок Мурино  \n",
       "21943            NaN             33.0      Санкт-Петербург  \n",
       "23574          100.0            280.0      Санкт-Петербург  "
      ]
     },
     "metadata": {},
     "output_type": "display_data"
    }
   ],
   "source": [
    "print('Объекты с жилой площадью более 290 м')\n",
    "display(data.loc[(data.living_area > 290)])\n",
    "print('Объекты с жилой площадью менее 7 м')\n",
    "display(data.loc[(data.living_area < 7)])"
   ]
  },
  {
   "cell_type": "markdown",
   "metadata": {},
   "source": [
    "Значения площади вне границы нормальной выборки объяснимы: существует ряд квартир с большой общей площадью, для них и значение жилой площади будет существенным.\n",
    "\n",
    "По другому дело обстоит с квартирами, чья жилая площадь менее 7 м2\n",
    "\n",
    "Эти данные тяжело объяснить, так как такая площадь не характерна для жилой застройки.\n",
    "\n",
    "Такие объекты не будем включать в окончательную выборку\n",
    "\n",
    "Однако перед этим проведем проверку на размер потерь после удаления таких выбросов:"
   ]
  },
  {
   "cell_type": "code",
   "execution_count": 29,
   "metadata": {},
   "outputs": [
    {
     "name": "stdout",
     "output_type": "stream",
     "text": [
      "Рассматриваемые выбросы (объекты с жилой площадью менее 7 м2) составляют 0.034% от общей величины выборки.\n",
      "\n",
      "Рассматриваемые выбросы составляют менее 10% от общей выборки.\n",
      "Значения этих данных искажают результаты исследования их значимость не подтверждена количеством, поэтому:\n",
      "УДАЛИМ их из выборки\n",
      "\n"
     ]
    }
   ],
   "source": [
    "# задаем временную переменную, хранящую долю выброса в выборке\n",
    "anomaly_part = len(data.loc[(data.living_area < 7)]) / len(data)\n",
    "print(f'Рассматриваемые выбросы (объекты с жилой площадью менее 7 м2) составляют {anomaly_part:.3%} от общей величины выборки.')\n",
    "print()\n",
    "if anomaly_part >= 10:\n",
    "    print('Рассматриваемые выбросы составляют более 10% от общей выборки.\\nЗначения этих данных важны для анализа своим количеством, поэтому: \\nОСТАВИМ их в выборке')\n",
    "else:\n",
    "    print('Рассматриваемые выбросы составляют менее 10% от общей выборки.\\nЗначения этих данных искажают результаты исследования их значимость не подтверждена количеством, поэтому:\\nУДАЛИМ их из выборки')\n",
    "print()"
   ]
  },
  {
   "cell_type": "code",
   "execution_count": 30,
   "metadata": {},
   "outputs": [],
   "source": [
    "data = data.loc[~(data.living_area < 7)]"
   ]
  },
  {
   "cell_type": "code",
   "execution_count": 31,
   "metadata": {
    "scrolled": false
   },
   "outputs": [
    {
     "name": "stdout",
     "output_type": "stream",
     "text": [
      "Рассмотрим значения в столбце kitchen_area - Площадь кухни\n"
     ]
    },
    {
     "data": {
      "image/png": "[encoded data removed]",
      "text/plain": [
       "<Figure size 432x288 with 1 Axes>"
      ]
     },
     "metadata": {
      "needs_background": "light"
     },
     "output_type": "display_data"
    },
    {
     "name": "stdout",
     "output_type": "stream",
     "text": [
      "count    21413.000000\n",
      "mean        10.564239\n",
      "std          5.865208\n",
      "min          1.300000\n",
      "25%          7.000000\n",
      "50%          9.100000\n",
      "75%         12.000000\n",
      "max        107.000000\n",
      "Name: kitchen_area, dtype: float64\n"
     ]
    }
   ],
   "source": [
    "print('Рассмотрим значения в столбце kitchen_area - Площадь кухни')\n",
    "data.boxplot('kitchen_area')\n",
    "plt.show()\n",
    "print(data['kitchen_area'].describe()) "
   ]
  },
  {
   "cell_type": "markdown",
   "metadata": {},
   "source": [
    "По аналогии со значениями общей площади из общего ряда уберем из выборки квартиру с исключительно малым размером кухни, менее 3 м2. \n",
    "\n",
    "Такой объект только один, удалим его из выборки.\n",
    "\n",
    "Однако перед этим проведем проверку на размер потерь после удаления таких выбросов:"
   ]
  },
  {
   "cell_type": "code",
   "execution_count": 32,
   "metadata": {},
   "outputs": [
    {
     "name": "stdout",
     "output_type": "stream",
     "text": [
      "Рассматриваемые выбросы (объекты с площадью кухни менее 3 м2) составляют 0.076% от общей величины выборки.\n",
      "\n",
      "Рассматриваемые выбросы составляют менее 10% от общей выборки.\n",
      "Значения этих данных искажают результаты исследования их значимость не подтверждена количеством, поэтому:\n",
      "УДАЛИМ их из выборки\n",
      "\n"
     ]
    }
   ],
   "source": [
    "# задаем временную переменную, хранящую долю выброса в выборке\n",
    "anomaly_part = len(data.loc[(data.kitchen_area <= 3)]) / len(data)\n",
    "print(f'Рассматриваемые выбросы (объекты с площадью кухни менее 3 м2) составляют {anomaly_part:.3%} от общей величины выборки.')\n",
    "print()\n",
    "if anomaly_part >= 10:\n",
    "    print('Рассматриваемые выбросы составляют более 10% от общей выборки.\\nЗначения этих данных важны для анализа своим количеством, поэтому: \\nОСТАВИМ их в выборке')\n",
    "else:\n",
    "    print('Рассматриваемые выбросы составляют менее 10% от общей выборки.\\nЗначения этих данных искажают результаты исследования их значимость не подтверждена количеством, поэтому:\\nУДАЛИМ их из выборки')\n",
    "print()"
   ]
  },
  {
   "cell_type": "code",
   "execution_count": 33,
   "metadata": {},
   "outputs": [],
   "source": [
    "data = data.loc[~(data.kitchen_area <= 3)]"
   ]
  },
  {
   "cell_type": "markdown",
   "metadata": {},
   "source": [
    "**Вывод по разделу 2**\n",
    "\n",
    "В целом задачи по предобработке выполнены\n",
    "- Типы данных в столбцах приведены к их значениям\n",
    "- Заполнены пропуски в данных\n",
    "- Найдены и исправлены неявные дубликаты\n",
    "- Числовые значения избавлены от выбросов"
   ]
  },
  {
   "cell_type": "markdown",
   "metadata": {},
   "source": [
    "### Посчитайте и добавьте в таблицу новые столбцы"
   ]
  },
  {
   "cell_type": "markdown",
   "metadata": {},
   "source": [
    "Для облегчения категоризации значений, построения выборок добавим в набор данных следующие столбцы:\n",
    "\n",
    "|Имя столбца|Тип данных|Описание данных\n",
    "|:-------------|:-------------|:-------------\n",
    "|sq_metre_price|float64|цена одного квадратного метра\n",
    "|week_day_exposition|Int64|день недели публикации объявления (0 .. 6)\n",
    "|first_month_exposition|Int64|месяц публикации объявления\n",
    "|first_year_exposition|Int64|год публикации объявления\n",
    "|floor_type|Object|тип этажа квартиры (значения — «первый», «последний», «другой»)\n",
    "|cityCenters_nearest_km|Int64|расстояние до центра города в километрах"
   ]
  },
  {
   "cell_type": "code",
   "execution_count": 34,
   "metadata": {
    "scrolled": true
   },
   "outputs": [
    {
     "name": "stdout",
     "output_type": "stream",
     "text": [
      "<class 'pandas.core.frame.DataFrame'>\n",
      "Int64Index: 23671 entries, 0 to 23698\n",
      "Data columns (total 29 columns):\n",
      " #   Column                  Non-Null Count  Dtype         \n",
      "---  ------                  --------------  -----         \n",
      " 0   total_images            23671 non-null  int64         \n",
      " 1   last_price              23671 non-null  float64       \n",
      " 2   total_area              23671 non-null  float64       \n",
      " 3   first_day_exposition    23671 non-null  datetime64[ns]\n",
      " 4   rooms                   23671 non-null  int64         \n",
      " 5   ceiling_height          23671 non-null  float64       \n",
      " 6   floors_total            23671 non-null  float64       \n",
      " 7   living_area             21768 non-null  float64       \n",
      " 8   floor                   23671 non-null  int64         \n",
      " 9   is_apartment            23671 non-null  bool          \n",
      " 10  studio                  23671 non-null  bool          \n",
      " 11  open_plan               23671 non-null  bool          \n",
      " 12  kitchen_area            21395 non-null  float64       \n",
      " 13  balcony                 23671 non-null  float64       \n",
      " 14  locality_name           23622 non-null  object        \n",
      " 15  airports_nearest        23671 non-null  float64       \n",
      " 16  cityCenters_nearest     23671 non-null  float64       \n",
      " 17  parks_around3000        23671 non-null  float64       \n",
      " 18  parks_nearest           8070 non-null   float64       \n",
      " 19  ponds_around3000        23671 non-null  float64       \n",
      " 20  ponds_nearest           9097 non-null   float64       \n",
      " 21  days_exposition         20491 non-null  float64       \n",
      " 22  locality_name_unique    23622 non-null  object        \n",
      " 23  sq_metre_price          23671 non-null  float64       \n",
      " 24  week_day_exposition     23671 non-null  int64         \n",
      " 25  first_month_exposition  23671 non-null  int64         \n",
      " 26  first_year_exposition   23671 non-null  int64         \n",
      " 27  floor_type              23671 non-null  object        \n",
      " 28  cityCenters_nearest_km  23671 non-null  int64         \n",
      "dtypes: bool(3), datetime64[ns](1), float64(15), int64(7), object(3)\n",
      "memory usage: 4.9+ MB\n"
     ]
    },
    {
     "data": {
      "text/html": [
       "<div>\n",
       "<style scoped>\n",
       "    .dataframe tbody tr th:only-of-type {\n",
       "        vertical-align: middle;\n",
       "    }\n",
       "\n",
       "    .dataframe tbody tr th {\n",
       "        vertical-align: top;\n",
       "    }\n",
       "\n",
       "    .dataframe thead th {\n",
       "        text-align: right;\n",
       "    }\n",
       "</style>\n",
       "<table border=\"1\" class=\"dataframe\">\n",
       "  <thead>\n",
       "    <tr style=\"text-align: right;\">\n",
       "      <th></th>\n",
       "      <th>total_images</th>\n",
       "      <th>last_price</th>\n",
       "      <th>total_area</th>\n",
       "      <th>first_day_exposition</th>\n",
       "      <th>rooms</th>\n",
       "      <th>ceiling_height</th>\n",
       "      <th>floors_total</th>\n",
       "      <th>living_area</th>\n",
       "      <th>floor</th>\n",
       "      <th>is_apartment</th>\n",
       "      <th>studio</th>\n",
       "      <th>open_plan</th>\n",
       "      <th>kitchen_area</th>\n",
       "      <th>balcony</th>\n",
       "      <th>locality_name</th>\n",
       "      <th>airports_nearest</th>\n",
       "      <th>cityCenters_nearest</th>\n",
       "      <th>parks_around3000</th>\n",
       "      <th>parks_nearest</th>\n",
       "      <th>ponds_around3000</th>\n",
       "      <th>ponds_nearest</th>\n",
       "      <th>days_exposition</th>\n",
       "      <th>locality_name_unique</th>\n",
       "      <th>sq_metre_price</th>\n",
       "      <th>week_day_exposition</th>\n",
       "      <th>first_month_exposition</th>\n",
       "      <th>first_year_exposition</th>\n",
       "      <th>floor_type</th>\n",
       "      <th>cityCenters_nearest_km</th>\n",
       "    </tr>\n",
       "  </thead>\n",
       "  <tbody>\n",
       "    <tr>\n",
       "      <th>0</th>\n",
       "      <td>20</td>\n",
       "      <td>13000000.0</td>\n",
       "      <td>108.0</td>\n",
       "      <td>2019-03-07</td>\n",
       "      <td>3</td>\n",
       "      <td>2.70</td>\n",
       "      <td>16.0</td>\n",
       "      <td>51.0</td>\n",
       "      <td>8</td>\n",
       "      <td>False</td>\n",
       "      <td>False</td>\n",
       "      <td>False</td>\n",
       "      <td>25.0</td>\n",
       "      <td>0.0</td>\n",
       "      <td>Санкт-Петербург</td>\n",
       "      <td>18863.0</td>\n",
       "      <td>16028.0</td>\n",
       "      <td>1.0</td>\n",
       "      <td>482.0</td>\n",
       "      <td>2.0</td>\n",
       "      <td>755.0</td>\n",
       "      <td>NaN</td>\n",
       "      <td>Санкт-Петербург</td>\n",
       "      <td>120370.370370</td>\n",
       "      <td>3</td>\n",
       "      <td>3</td>\n",
       "      <td>2019</td>\n",
       "      <td>другой</td>\n",
       "      <td>16</td>\n",
       "    </tr>\n",
       "    <tr>\n",
       "      <th>1</th>\n",
       "      <td>7</td>\n",
       "      <td>3350000.0</td>\n",
       "      <td>40.4</td>\n",
       "      <td>2018-12-04</td>\n",
       "      <td>1</td>\n",
       "      <td>2.65</td>\n",
       "      <td>11.0</td>\n",
       "      <td>18.6</td>\n",
       "      <td>1</td>\n",
       "      <td>False</td>\n",
       "      <td>False</td>\n",
       "      <td>False</td>\n",
       "      <td>11.0</td>\n",
       "      <td>2.0</td>\n",
       "      <td>посёлок Шушары</td>\n",
       "      <td>12817.0</td>\n",
       "      <td>18603.0</td>\n",
       "      <td>0.0</td>\n",
       "      <td>NaN</td>\n",
       "      <td>0.0</td>\n",
       "      <td>NaN</td>\n",
       "      <td>81.0</td>\n",
       "      <td>поселок Шушары</td>\n",
       "      <td>82920.792079</td>\n",
       "      <td>1</td>\n",
       "      <td>12</td>\n",
       "      <td>2018</td>\n",
       "      <td>первый</td>\n",
       "      <td>19</td>\n",
       "    </tr>\n",
       "    <tr>\n",
       "      <th>2</th>\n",
       "      <td>10</td>\n",
       "      <td>5196000.0</td>\n",
       "      <td>56.0</td>\n",
       "      <td>2015-08-20</td>\n",
       "      <td>2</td>\n",
       "      <td>2.65</td>\n",
       "      <td>5.0</td>\n",
       "      <td>34.3</td>\n",
       "      <td>4</td>\n",
       "      <td>False</td>\n",
       "      <td>False</td>\n",
       "      <td>False</td>\n",
       "      <td>8.3</td>\n",
       "      <td>0.0</td>\n",
       "      <td>Санкт-Петербург</td>\n",
       "      <td>21741.0</td>\n",
       "      <td>13933.0</td>\n",
       "      <td>1.0</td>\n",
       "      <td>90.0</td>\n",
       "      <td>2.0</td>\n",
       "      <td>574.0</td>\n",
       "      <td>558.0</td>\n",
       "      <td>Санкт-Петербург</td>\n",
       "      <td>92785.714286</td>\n",
       "      <td>3</td>\n",
       "      <td>8</td>\n",
       "      <td>2015</td>\n",
       "      <td>другой</td>\n",
       "      <td>14</td>\n",
       "    </tr>\n",
       "    <tr>\n",
       "      <th>3</th>\n",
       "      <td>0</td>\n",
       "      <td>64900000.0</td>\n",
       "      <td>159.0</td>\n",
       "      <td>2015-07-24</td>\n",
       "      <td>3</td>\n",
       "      <td>2.65</td>\n",
       "      <td>14.0</td>\n",
       "      <td>NaN</td>\n",
       "      <td>9</td>\n",
       "      <td>False</td>\n",
       "      <td>False</td>\n",
       "      <td>False</td>\n",
       "      <td>NaN</td>\n",
       "      <td>0.0</td>\n",
       "      <td>Санкт-Петербург</td>\n",
       "      <td>28098.0</td>\n",
       "      <td>6800.0</td>\n",
       "      <td>2.0</td>\n",
       "      <td>84.0</td>\n",
       "      <td>3.0</td>\n",
       "      <td>234.0</td>\n",
       "      <td>424.0</td>\n",
       "      <td>Санкт-Петербург</td>\n",
       "      <td>408176.100629</td>\n",
       "      <td>4</td>\n",
       "      <td>7</td>\n",
       "      <td>2015</td>\n",
       "      <td>другой</td>\n",
       "      <td>7</td>\n",
       "    </tr>\n",
       "    <tr>\n",
       "      <th>4</th>\n",
       "      <td>2</td>\n",
       "      <td>10000000.0</td>\n",
       "      <td>100.0</td>\n",
       "      <td>2018-06-19</td>\n",
       "      <td>2</td>\n",
       "      <td>3.03</td>\n",
       "      <td>14.0</td>\n",
       "      <td>32.0</td>\n",
       "      <td>13</td>\n",
       "      <td>False</td>\n",
       "      <td>False</td>\n",
       "      <td>False</td>\n",
       "      <td>41.0</td>\n",
       "      <td>0.0</td>\n",
       "      <td>Санкт-Петербург</td>\n",
       "      <td>31856.0</td>\n",
       "      <td>8098.0</td>\n",
       "      <td>2.0</td>\n",
       "      <td>112.0</td>\n",
       "      <td>1.0</td>\n",
       "      <td>48.0</td>\n",
       "      <td>121.0</td>\n",
       "      <td>Санкт-Петербург</td>\n",
       "      <td>100000.000000</td>\n",
       "      <td>1</td>\n",
       "      <td>6</td>\n",
       "      <td>2018</td>\n",
       "      <td>другой</td>\n",
       "      <td>8</td>\n",
       "    </tr>\n",
       "  </tbody>\n",
       "</table>\n",
       "</div>"
      ],
      "text/plain": [
       "   total_images  last_price  total_area first_day_exposition  rooms  \\\n",
       "0            20  13000000.0       108.0           2019-03-07      3   \n",
       "1             7   3350000.0        40.4           2018-12-04      1   \n",
       "2            10   5196000.0        56.0           2015-08-20      2   \n",
       "3             0  64900000.0       159.0           2015-07-24      3   \n",
       "4             2  10000000.0       100.0           2018-06-19      2   \n",
       "\n",
       "   ceiling_height  floors_total  living_area  floor  is_apartment  studio  \\\n",
       "0            2.70          16.0         51.0      8         False   False   \n",
       "1            2.65          11.0         18.6      1         False   False   \n",
       "2            2.65           5.0         34.3      4         False   False   \n",
       "3            2.65          14.0          NaN      9         False   False   \n",
       "4            3.03          14.0         32.0     13         False   False   \n",
       "\n",
       "   open_plan  kitchen_area  balcony    locality_name  airports_nearest  \\\n",
       "0      False          25.0      0.0  Санкт-Петербург           18863.0   \n",
       "1      False          11.0      2.0   посёлок Шушары           12817.0   \n",
       "2      False           8.3      0.0  Санкт-Петербург           21741.0   \n",
       "3      False           NaN      0.0  Санкт-Петербург           28098.0   \n",
       "4      False          41.0      0.0  Санкт-Петербург           31856.0   \n",
       "\n",
       "   cityCenters_nearest  parks_around3000  parks_nearest  ponds_around3000  \\\n",
       "0              16028.0               1.0          482.0               2.0   \n",
       "1              18603.0               0.0            NaN               0.0   \n",
       "2              13933.0               1.0           90.0               2.0   \n",
       "3               6800.0               2.0           84.0               3.0   \n",
       "4               8098.0               2.0          112.0               1.0   \n",
       "\n",
       "   ponds_nearest  days_exposition locality_name_unique  sq_metre_price  \\\n",
       "0          755.0              NaN      Санкт-Петербург   120370.370370   \n",
       "1            NaN             81.0       поселок Шушары    82920.792079   \n",
       "2          574.0            558.0      Санкт-Петербург    92785.714286   \n",
       "3          234.0            424.0      Санкт-Петербург   408176.100629   \n",
       "4           48.0            121.0      Санкт-Петербург   100000.000000   \n",
       "\n",
       "   week_day_exposition  first_month_exposition  first_year_exposition  \\\n",
       "0                    3                       3                   2019   \n",
       "1                    1                      12                   2018   \n",
       "2                    3                       8                   2015   \n",
       "3                    4                       7                   2015   \n",
       "4                    1                       6                   2018   \n",
       "\n",
       "  floor_type  cityCenters_nearest_km  \n",
       "0     другой                      16  \n",
       "1     первый                      19  \n",
       "2     другой                      14  \n",
       "3     другой                       7  \n",
       "4     другой                       8  "
      ]
     },
     "metadata": {},
     "output_type": "display_data"
    }
   ],
   "source": [
    "data['sq_metre_price'] = data['last_price'] / data['total_area']\n",
    "data['week_day_exposition'] =  data['first_day_exposition'].dt.weekday\n",
    "data['first_month_exposition'] = data['first_day_exposition'].dt.month\n",
    "data['first_year_exposition'] = data['first_day_exposition'].dt.year\n",
    "\n",
    "def get_floor_type(row):\n",
    "    if row['floor'] == row['floors_total']:\n",
    "        return 'последний'\n",
    "    elif row['floor'] in [0 ,1]:\n",
    "        return 'первый'\n",
    "    return 'другой'\n",
    "\n",
    "data['floor_type'] = data.apply(get_floor_type, axis=1)\n",
    "\n",
    "data['cityCenters_nearest_km'] =  (data['cityCenters_nearest'] / 1000).round(0).astype('int64')\n",
    "\n",
    "data.info()\n",
    "display(data.head())\n"
   ]
  },
  {
   "cell_type": "markdown",
   "metadata": {},
   "source": [
    "**Вывод по разделу 3**\n",
    "\n",
    "Необходимые столбцы для категоризации и группировки добавлены."
   ]
  },
  {
   "cell_type": "markdown",
   "metadata": {},
   "source": [
    "### Исследовательский анализ данных"
   ]
  },
  {
   "cell_type": "markdown",
   "metadata": {},
   "source": [
    "#### Изучение выбранных параметров объектов"
   ]
  },
  {
   "cell_type": "markdown",
   "metadata": {},
   "source": [
    "Построим отдельные гистограммы для каждого из следующих параметров:\n",
    "- `общая площадь`\n",
    "- `жилая площадь`\n",
    "- `площадь кухни`\n",
    "- `цена объекта`\n",
    "- `количество комнат`\n",
    "- `высота потолков`\n",
    "- `этаж квартиры`\n",
    "- `тип этажа квартиры («первый», «последний», «другой»)`\n",
    "- `общее количество этажей в доме`\n",
    "- `расстояние до центра города в метрах`\n",
    "- `расстояние до ближайшего аэропорта`\n",
    "- `расстояние до ближайшего парка`\n",
    "- `день и месяц публикации объявления`\n"
   ]
  },
  {
   "cell_type": "code",
   "execution_count": 35,
   "metadata": {},
   "outputs": [
    {
     "data": {
      "image/png": "[encoded data removed]",
      "text/plain": [
       "<Figure size 1584x1584 with 16 Axes>"
      ]
     },
     "metadata": {
      "needs_background": "light"
     },
     "output_type": "display_data"
    }
   ],
   "source": [
    "column_list = ['total_area', 'living_area', 'kitchen_area', 'last_price', 'rooms', \n",
    "               'ceiling_height', 'floor', 'floor_type', 'floors_total', 'cityCenters_nearest', \n",
    "               'airports_nearest', 'parks_nearest', 'week_day_exposition', 'first_month_exposition']\n",
    "\n",
    "data[column_list].hist(bins = 60, figsize=(22,22));\n"
   ]
  },
  {
   "cell_type": "markdown",
   "metadata": {},
   "source": [
    "Судя по гистограммам видно, что в целом значения для параметров\n",
    "- общая, жилая площадь и площадь кухни а также цена, количество комнат, высота потолков, этаж и количество этажей соответствуют распределению по Пуасонну, причем:\n",
    "\n",
    "    - количество 1 и 2 комнатных объектов примерно одинаково для выборки, следом идут 3-комнатные объекты, их на 65% меньше чем количество 1 и 2 комнатных вместе взятых\n",
    "    - в выборке представлено доминирующее количество объектов на 1-5 этажах. \n",
    "    - для количества этажей характерны пиковые всплески в общем ожидаемом распределении, что свидетельтвует о больших количествах зданий с одинаковым количеством этажей (типовая застройка). Есть интересный пик 25-27 этажных домов, видимо связанный с введением в эксплуатацию нового крупного жилого комплекса по типовому проекту.\n",
    " \n",
    " \n",
    "- расстояние до центра города, до аэропорта и до парков соответствуют нормальному распределению, причем:\n",
    "\n",
    "    - для значений расстояния до центра и аэропорта характерны пики у медианных значений, связанные с заменой NaN значений на медианные в предобработке данных\n",
    "    - для значений расстояния до парков есть гистограмма около нуля показывает значения с NaN, т.к. они не были предобработаны.\n",
    "    \n",
    "- гистограммы дня и месяца публикации объявления не коррелируют со временем\n",
    "\n",
    "    - для публикаций в течение недели характерна низкая активность в выходные, и высокая - в будни. Причем вторник и среда наиболее распространенные дни публикаций\n",
    "    - для публикаций по месяцам характерна сехонная зависимость. Пики публикаций приходятся на начало весны и конец осени. С мая по июль продолжается сезонный спад, затем повышение количества публикаций равномерно к ноябрю. Декабрь и январь - аналогичны летнему спаду"
   ]
  },
  {
   "cell_type": "markdown",
   "metadata": {},
   "source": [
    "#### Оценка распределения времени продажи квартиры"
   ]
  },
  {
   "cell_type": "code",
   "execution_count": 36,
   "metadata": {
    "scrolled": false
   },
   "outputs": [
    {
     "data": {
      "image/png": "[encoded data removed]",
      "text/plain": [
       "<Figure size 1080x720 with 1 Axes>"
      ]
     },
     "metadata": {
      "needs_background": "light"
     },
     "output_type": "display_data"
    },
    {
     "name": "stdout",
     "output_type": "stream",
     "text": [
      "count    20491.000000\n",
      "mean       180.992777\n",
      "std        219.828477\n",
      "min          1.000000\n",
      "25%         45.000000\n",
      "50%         95.000000\n",
      "75%        232.000000\n",
      "max       1580.000000\n",
      "Name: days_exposition, dtype: float64\n"
     ]
    },
    {
     "data": {
      "image/png": "[encoded data removed]",
      "text/plain": [
       "<Figure size 1080x720 with 1 Axes>"
      ]
     },
     "metadata": {
      "needs_background": "light"
     },
     "output_type": "display_data"
    }
   ],
   "source": [
    "data['days_exposition'].hist(bins = 60, figsize=(15,10));\n",
    "plt.show()\n",
    "print(data['days_exposition'].describe()) \n",
    "data['days_exposition'].hist(bins = 200, range=(0, 200), figsize=(15,10));\n"
   ]
  },
  {
   "cell_type": "markdown",
   "metadata": {},
   "source": [
    "Время продажи принимает вид распределения по Пуассону.\n",
    "\n",
    "Среднее время продажи: 186 дней, медиана 102 дня.\n",
    "Необычнайно долгими можно считать продажи, выходящие за границы нормальных значений, продолжающиеся более 530 дней, т.е примерно 1.5 года.\n",
    "Быстрые продажи вообще характерны для распределения. Их число велико в общей выборке.\n",
    "\n",
    "Если увеличить масштаб гистограммы, видно что пик продаж приходится на 45 и 60 день. Вероятно это связано с автоматическим закрытием объявлений, или ручным снятием объявления продавцом после первого и второго месяца.\n",
    "\n",
    "Продажи в 1 и 2 день очень редки. Их можно считать необычайно быстрыми."
   ]
  },
  {
   "cell_type": "markdown",
   "metadata": {},
   "source": [
    "#### Изучение факторов влияющих на общую (полную) стоимость объекта."
   ]
  },
  {
   "cell_type": "markdown",
   "metadata": {},
   "source": [
    "Посмотрим, зависит ли цена от:\n",
    "- общей площади;\n",
    "- жилой площади;\n",
    "- площади кухни;\n",
    "- количества комнат;\n",
    "- этажа, на котором расположена квартира (первый, последний, другой);\n",
    "- даты размещения (день недели, месяц, год)."
   ]
  },
  {
   "cell_type": "code",
   "execution_count": 37,
   "metadata": {
    "scrolled": false
   },
   "outputs": [
    {
     "data": {
      "image/png": "[encoded data removed]",
      "text/plain": [
       "<Figure size 720x360 with 1 Axes>"
      ]
     },
     "metadata": {
      "needs_background": "light"
     },
     "output_type": "display_data"
    },
    {
     "data": {
      "image/png": "[encoded data removed]",
      "text/plain": [
       "<Figure size 720x360 with 1 Axes>"
      ]
     },
     "metadata": {
      "needs_background": "light"
     },
     "output_type": "display_data"
    },
    {
     "data": {
      "image/png": "[encoded data removed]",
      "text/plain": [
       "<Figure size 720x360 with 1 Axes>"
      ]
     },
     "metadata": {
      "needs_background": "light"
     },
     "output_type": "display_data"
    },
    {
     "data": {
      "image/png": "[encoded data removed]",
      "text/plain": [
       "<Figure size 720x360 with 1 Axes>"
      ]
     },
     "metadata": {
      "needs_background": "light"
     },
     "output_type": "display_data"
    },
    {
     "data": {
      "image/png": "[encoded data removed]",
      "text/plain": [
       "<Figure size 720x360 with 1 Axes>"
      ]
     },
     "metadata": {
      "needs_background": "light"
     },
     "output_type": "display_data"
    },
    {
     "data": {
      "image/png": "[encoded data removed]",
      "text/plain": [
       "<Figure size 720x360 with 1 Axes>"
      ]
     },
     "metadata": {
      "needs_background": "light"
     },
     "output_type": "display_data"
    },
    {
     "data": {
      "image/png": "[encoded data removed]",
      "text/plain": [
       "<Figure size 720x360 with 1 Axes>"
      ]
     },
     "metadata": {
      "needs_background": "light"
     },
     "output_type": "display_data"
    },
    {
     "data": {
      "image/png": "[encoded data removed]",
      "text/plain": [
       "<Figure size 720x360 with 1 Axes>"
      ]
     },
     "metadata": {
      "needs_background": "light"
     },
     "output_type": "display_data"
    }
   ],
   "source": [
    "def scatter_show(x_values, y_values, x_label, y_label, title, knd='scatter', aggf=['median'], alpha_value=0.5, grid_value=1):\n",
    "    \n",
    "    if knd =='scatter': alpha_value = 0.5\n",
    "    elif knd in ['hist', 'line', 'bar', 'area']: alpha_value = 1\n",
    "      \n",
    "    data_pivot_temp = data.pivot_table(index = x_values, values = y_values, aggfunc = aggf).reset_index()\n",
    "    data_pivot_temp.columns = [x_values, y_values]\n",
    "    correlation = data_pivot_temp.corr().reset_index().loc[0,'last_price'].round(2).astype(str)\n",
    "    data_pivot_temp.plot(x=x_values, y=y_values, kind=knd, alpha=alpha_value, grid=grid_value, figsize=(10, 5))\n",
    "    plt.ylabel(y_label)\n",
    "    plt.xlabel(x_label)\n",
    "    plt.title(title + ', коэфф. корреляции=' + correlation)\n",
    "    plt.show;\n",
    "    \n",
    "    #display(correlation.loc[0,'last_price'])\n",
    "\n",
    "scatter_show('total_area', 'last_price', 'Общая площадь, м2', 'Цена', 'Зависимость цены от общей площади')\n",
    "scatter_show('living_area', 'last_price', 'Жилая площадь, м2', 'Цена', 'Зависимость цены от жилой площади')\n",
    "scatter_show('kitchen_area', 'last_price', 'Площадь кухни, м2', 'Цена', 'Зависимость цены от площади кухни')\n",
    "scatter_show('rooms', 'last_price', 'Количество комнат', 'Цена', 'Зависимость цены от количества комнат', 'line')\n",
    "scatter_show('floor_type', 'last_price', 'Тип этажа', 'Цена', 'Зависимость цены от типа этажа','bar')\n",
    "scatter_show('week_day_exposition', 'last_price', 'День недели', 'Цена', 'Зависимость цены от дня недели размещения объявления', 'line')\n",
    "scatter_show('first_month_exposition', 'last_price', 'Месяц', 'Цена', 'Зависимость цены от месяца размещения объявления', 'line')\n",
    "scatter_show('first_year_exposition', 'last_price', 'Год', 'Цена', 'Зависимость цены от года размещения объявления', 'area')"
   ]
  },
  {
   "cell_type": "markdown",
   "metadata": {},
   "source": [
    "Исходя из данных графиков на общую цену объекта влияет,\n",
    "- общая площадь, в большей степени среди прочих площадей\n",
    "- количество комнат, наравне с общей площадью. Причем эта зависимость выражена более явно для 1..7 комнат\n",
    "- день недели подачи объявления, во вторник - самые высокие цены, к пятнице они снижаются\n",
    "- месяц подачи корреирует слабо, но есть зависимость от сезона\n",
    "- год подачи коррелирует отрицательно, однако есть тенденция к повышению цен с 2018 года\n",
    "- для типа этажа корреляция не определена, так как эти значения не числовые. Но связь можно увидеть, первый этаж в среднем на 20% дешевле чем другой "
   ]
  },
  {
   "cell_type": "markdown",
   "metadata": {},
   "source": [
    "#### Cредняя цена одного квадратного метра в населённых пунктах с наибольшим числом объявлений. "
   ]
  },
  {
   "cell_type": "markdown",
   "metadata": {},
   "source": [
    "Построим таблицу, куда войдут 10 населенных пунктов с самым большим числом объявлений (столбец `count`)"
   ]
  },
  {
   "cell_type": "code",
   "execution_count": 38,
   "metadata": {
    "scrolled": false
   },
   "outputs": [
    {
     "data": {
      "text/html": [
       "<div>\n",
       "<style scoped>\n",
       "    .dataframe tbody tr th:only-of-type {\n",
       "        vertical-align: middle;\n",
       "    }\n",
       "\n",
       "    .dataframe tbody tr th {\n",
       "        vertical-align: top;\n",
       "    }\n",
       "\n",
       "    .dataframe thead th {\n",
       "        text-align: right;\n",
       "    }\n",
       "</style>\n",
       "<table border=\"1\" class=\"dataframe\">\n",
       "  <thead>\n",
       "    <tr style=\"text-align: right;\">\n",
       "      <th></th>\n",
       "      <th>count</th>\n",
       "      <th>mean</th>\n",
       "    </tr>\n",
       "    <tr>\n",
       "      <th>locality_name_unique</th>\n",
       "      <th></th>\n",
       "      <th></th>\n",
       "    </tr>\n",
       "  </thead>\n",
       "  <tbody>\n",
       "    <tr>\n",
       "      <th>Санкт-Петербург</th>\n",
       "      <td>15698</td>\n",
       "      <td>114605.128798</td>\n",
       "    </tr>\n",
       "    <tr>\n",
       "      <th>поселок Мурино</th>\n",
       "      <td>587</td>\n",
       "      <td>85993.869739</td>\n",
       "    </tr>\n",
       "    <tr>\n",
       "      <th>деревня Кудрово</th>\n",
       "      <td>472</td>\n",
       "      <td>95324.930544</td>\n",
       "    </tr>\n",
       "    <tr>\n",
       "      <th>поселок Шушары</th>\n",
       "      <td>440</td>\n",
       "      <td>78677.364217</td>\n",
       "    </tr>\n",
       "    <tr>\n",
       "      <th>Всеволожск</th>\n",
       "      <td>398</td>\n",
       "      <td>68654.473986</td>\n",
       "    </tr>\n",
       "    <tr>\n",
       "      <th>Пушкин</th>\n",
       "      <td>368</td>\n",
       "      <td>103081.147013</td>\n",
       "    </tr>\n",
       "    <tr>\n",
       "      <th>Колпино</th>\n",
       "      <td>338</td>\n",
       "      <td>75424.579098</td>\n",
       "    </tr>\n",
       "    <tr>\n",
       "      <th>поселок Парголово</th>\n",
       "      <td>327</td>\n",
       "      <td>90175.913458</td>\n",
       "    </tr>\n",
       "    <tr>\n",
       "      <th>Гатчина</th>\n",
       "      <td>307</td>\n",
       "      <td>68746.146763</td>\n",
       "    </tr>\n",
       "    <tr>\n",
       "      <th>Выборг</th>\n",
       "      <td>237</td>\n",
       "      <td>58141.909153</td>\n",
       "    </tr>\n",
       "  </tbody>\n",
       "</table>\n",
       "</div>"
      ],
      "text/plain": [
       "                      count           mean\n",
       "locality_name_unique                      \n",
       "Санкт-Петербург       15698  114605.128798\n",
       "поселок Мурино          587   85993.869739\n",
       "деревня Кудрово         472   95324.930544\n",
       "поселок Шушары          440   78677.364217\n",
       "Всеволожск              398   68654.473986\n",
       "Пушкин                  368  103081.147013\n",
       "Колпино                 338   75424.579098\n",
       "поселок Парголово       327   90175.913458\n",
       "Гатчина                 307   68746.146763\n",
       "Выборг                  237   58141.909153"
      ]
     },
     "execution_count": 38,
     "metadata": {},
     "output_type": "execute_result"
    }
   ],
   "source": [
    "data_pivot_temp = data.pivot_table(index='locality_name_unique', values='sq_metre_price', aggfunc=['count','mean'])\n",
    "data_pivot_temp.columns = ['count', 'mean']\n",
    "data_pivot_temp = data_pivot_temp.sort_values('count', ascending=False).head(10)\n",
    "data_pivot_temp\n"
   ]
  },
  {
   "cell_type": "markdown",
   "metadata": {},
   "source": [
    "Для оценки значений средней цены квадратного метра в указанных 10 населенных пунктах, графически отобразим основные статичтические данные этой выборки: \n",
    "\n",
    "- построим диаграмму размаха и выведем соответствующие значения в текстовом виде\n",
    "- построим столбчатую диаграмму со значениями средней стоимости квадратного метра\n",
    "\n"
   ]
  },
  {
   "cell_type": "code",
   "execution_count": 39,
   "metadata": {
    "scrolled": false
   },
   "outputs": [
    {
     "data": {
      "image/png": "[encoded data removed]",
      "text/plain": [
       "<Figure size 720x360 with 1 Axes>"
      ]
     },
     "metadata": {
      "needs_background": "light"
     },
     "output_type": "display_data"
    },
    {
     "name": "stdout",
     "output_type": "stream",
     "text": [
      "count        10.000000\n",
      "mean      83882.546277\n",
      "std       17351.503190\n",
      "min       58141.909153\n",
      "25%       70415.754847\n",
      "50%       82335.616978\n",
      "75%       94037.676272\n",
      "max      114605.128798\n",
      "Name: mean, dtype: float64\n"
     ]
    },
    {
     "data": {
      "image/png": "[encoded data removed]",
      "text/plain": [
       "<Figure size 720x360 with 1 Axes>"
      ]
     },
     "metadata": {
      "needs_background": "light"
     },
     "output_type": "display_data"
    }
   ],
   "source": [
    "data_pivot_temp[['mean']].boxplot(figsize=(10, 5))\n",
    "plt.title('Диаграмма размаха средних значений стоимости м2 в 10 населённых пунктах с наибольшим числом объявлений')\n",
    "plt.show()\n",
    "print(data_pivot_temp['mean'].describe()) \n",
    "data_pivot_temp.plot(y='mean', kind='bar', grid=1, figsize=(10, 5))\n",
    "plt.title('Столбчатая диаграмма средних значений стоимости м2 в 10 населённых пунктах с наибольшим числом объявлений')\n",
    "plt.show()\n"
   ]
  },
  {
   "cell_type": "markdown",
   "metadata": {},
   "source": [
    "**Вывод по средней цены одного квадратного метра в населённых пунктах с наибольшим числом объявлений**"
   ]
  },
  {
   "cell_type": "markdown",
   "metadata": {},
   "source": [
    "В столбце `mean` показана средняя цена одного квадратного метра в 10 населённых пунктах с наибольшим числом объявлений.\n",
    "\n",
    "- **самая высокая** стоимость квадратного метра в этой выборке у населенного пункта **\"Санкт-Петербург\"**\n",
    "\n",
    "- **самая низкая** стоимость квадратного метра в этой выборке у населенного пункта **\"Выборг\"**"
   ]
  },
  {
   "cell_type": "markdown",
   "metadata": {},
   "source": [
    "В выборке отсутствуют выбросы: Все значения лежат в диапазоне нормальных значений."
   ]
  },
  {
   "cell_type": "markdown",
   "metadata": {},
   "source": [
    "#### Расчет средней цены каждого километра от центра города\n"
   ]
  },
  {
   "cell_type": "markdown",
   "metadata": {},
   "source": [
    "Построим сводную таблицу со средней ценой для объектов с известным расстоянием до центра в Санкт-Петербурге.\n",
    "\n",
    "То есть, среднюю стоимость объекта для каждого \"километра\"."
   ]
  },
  {
   "cell_type": "code",
   "execution_count": 40,
   "metadata": {
    "scrolled": false
   },
   "outputs": [
    {
     "data": {
      "text/html": [
       "<div>\n",
       "<style scoped>\n",
       "    .dataframe tbody tr th:only-of-type {\n",
       "        vertical-align: middle;\n",
       "    }\n",
       "\n",
       "    .dataframe tbody tr th {\n",
       "        vertical-align: top;\n",
       "    }\n",
       "\n",
       "    .dataframe thead th {\n",
       "        text-align: right;\n",
       "    }\n",
       "</style>\n",
       "<table border=\"1\" class=\"dataframe\">\n",
       "  <thead>\n",
       "    <tr style=\"text-align: right;\">\n",
       "      <th></th>\n",
       "      <th>cityCenters_nearest_km</th>\n",
       "      <th>last_price</th>\n",
       "    </tr>\n",
       "  </thead>\n",
       "  <tbody>\n",
       "    <tr>\n",
       "      <th>0</th>\n",
       "      <td>0</td>\n",
       "      <td>3.144912e+07</td>\n",
       "    </tr>\n",
       "    <tr>\n",
       "      <th>1</th>\n",
       "      <td>1</td>\n",
       "      <td>2.120672e+07</td>\n",
       "    </tr>\n",
       "    <tr>\n",
       "      <th>2</th>\n",
       "      <td>2</td>\n",
       "      <td>1.662326e+07</td>\n",
       "    </tr>\n",
       "    <tr>\n",
       "      <th>3</th>\n",
       "      <td>3</td>\n",
       "      <td>1.112658e+07</td>\n",
       "    </tr>\n",
       "    <tr>\n",
       "      <th>4</th>\n",
       "      <td>4</td>\n",
       "      <td>1.232999e+07</td>\n",
       "    </tr>\n",
       "    <tr>\n",
       "      <th>...</th>\n",
       "      <td>...</td>\n",
       "      <td>...</td>\n",
       "    </tr>\n",
       "    <tr>\n",
       "      <th>25</th>\n",
       "      <td>25</td>\n",
       "      <td>4.052840e+06</td>\n",
       "    </tr>\n",
       "    <tr>\n",
       "      <th>26</th>\n",
       "      <td>26</td>\n",
       "      <td>3.973013e+06</td>\n",
       "    </tr>\n",
       "    <tr>\n",
       "      <th>27</th>\n",
       "      <td>27</td>\n",
       "      <td>8.300000e+06</td>\n",
       "    </tr>\n",
       "    <tr>\n",
       "      <th>28</th>\n",
       "      <td>28</td>\n",
       "      <td>5.026429e+06</td>\n",
       "    </tr>\n",
       "    <tr>\n",
       "      <th>29</th>\n",
       "      <td>29</td>\n",
       "      <td>4.236667e+06</td>\n",
       "    </tr>\n",
       "  </tbody>\n",
       "</table>\n",
       "<p>30 rows × 2 columns</p>\n",
       "</div>"
      ],
      "text/plain": [
       "    cityCenters_nearest_km    last_price\n",
       "0                        0  3.144912e+07\n",
       "1                        1  2.120672e+07\n",
       "2                        2  1.662326e+07\n",
       "3                        3  1.112658e+07\n",
       "4                        4  1.232999e+07\n",
       "..                     ...           ...\n",
       "25                      25  4.052840e+06\n",
       "26                      26  3.973013e+06\n",
       "27                      27  8.300000e+06\n",
       "28                      28  5.026429e+06\n",
       "29                      29  4.236667e+06\n",
       "\n",
       "[30 rows x 2 columns]"
      ]
     },
     "metadata": {},
     "output_type": "display_data"
    },
    {
     "name": "stdout",
     "output_type": "stream",
     "text": [
      "Коэффциент корреляции равен  -0.75\n"
     ]
    },
    {
     "data": {
      "image/png": "[encoded data removed]",
      "text/plain": [
       "<Figure size 720x360 with 1 Axes>"
      ]
     },
     "metadata": {
      "needs_background": "light"
     },
     "output_type": "display_data"
    }
   ],
   "source": [
    "data_pivot_temp = data.query('locality_name_unique == \"Санкт-Петербург\"').pivot_table(index='cityCenters_nearest_km', values='last_price').reset_index()\n",
    "\n",
    "display(data_pivot_temp)\n",
    "print('Коэффциент корреляции равен ', data_pivot_temp.corr().reset_index().loc[0,'last_price'].round(2).astype(str))\n",
    "\n",
    "data_pivot_temp.plot('cityCenters_nearest_km', 'last_price', kind='line', figsize=(10, 5))\n",
    "plt.ylabel('Цена')\n",
    "plt.xlabel('Расстояние до центра, км')\n",
    "plt.title('Зависимость цены объекта от расстояния до центра города')\n",
    "plt.show;\n"
   ]
  },
  {
   "cell_type": "markdown",
   "metadata": {},
   "source": [
    "- Зависимость средней цены от расстояния соответствует распределению Пуассона\n",
    "\n",
    "- **Корреляция отрицательная**, при увеличении расстояния цена снижается.\n",
    "\n",
    "- Присутствуют **пики на расстоянии 5-7 км и 26-28 км**, связанные вероятно с географическими зонами с дорогой застройкой, расположенными на соответствующем расстоянии от центра.\n",
    "\n",
    "- Для расстояний **в диапазоне 0-4 км характерна сильная зависимость**, цена падает при увеличении расстояния достаточно быстро по сравнению с другими диапазонами. Это связано с наличием сверхдорогой недвижимости близко к центру (0-1 км), и меньшим ее количеством на расстоянии 2-4 км\n",
    "- Для **диапазона 10-25 км зависимость слабо выраженная** по сравнению с диапазоном близким к центру города. Это связано с наличием общирного \"кольца\" спальных районов вокруг центра"
   ]
  },
  {
   "cell_type": "markdown",
   "metadata": {},
   "source": [
    "**Вывод по разделу 4**\n",
    "\n",
    "Были проведены исследования по значениям параметров объектов\n",
    "\n",
    "- проверены результаты предобработки данных\n",
    "- оценено, как быстро продавались объекты, и выявлен нормальный диапазон значения дней продажи: 3-530 дней\n",
    "- изучены факторы, влияющие на цену объекта, выявлены наиболее значимые факторы, такие как: общая площадь, количество комнат, день недели подачи объявления и тип этажа: первый, последний или другой\n",
    "- Найдена средняя цена для каждого из 10 населенных пунктов с наибольшим числом объявлений. Среди них максимальная цена за кв.м в Санкт-Петербурге, минимальная в Выборге\n",
    "- Определена зависимость средней цены объекта недвижимости от расстояния до центра. "
   ]
  },
  {
   "cell_type": "markdown",
   "metadata": {},
   "source": [
    "### Общий вывод"
   ]
  },
  {
   "cell_type": "markdown",
   "metadata": {},
   "source": [
    "# Источник данных\n",
    "Рассматриваемый набор данных представляет собой выборку из 23699 объявлений о продаже недвижимости полученную из **Яндекс.Недвижимость**\n",
    "\n",
    "# Предобработка данных\n",
    "\n",
    "#### Сводная таблица с описанием данных, методами и результатами предобработки:\n",
    "\n",
    "Параметр|Описание данных|Тип данных|Изменение типа данных||Кол-во пропусков в исходных данных|Метод замены пропусков\n",
    ":-------------|:-------------|:-------------|:-------------||:-------------|:-------------\n",
    "airports_nearest|расстояние до ближайшего аэропорта в метрах (м)|float64|-||5542|Медианное значение\n",
    "balcony|число балконов|float64|Int64||11519|Замена на 0\n",
    "ceiling_height|высота потолков (м)|float64|-||9195|Медианное значение\n",
    "cityCenters_nearest|расстояние до центра города (м)|float64|-||5519|Медианное значение\n",
    "days_exposition|сколько дней было размещено объявление (от публикации до снятия)|float64|Int64||3181|Пропуски не удалялись\n",
    "first_day_exposition|дата публикации|object|DateTime||0|-\n",
    "floor|этаж|Int64|-||0|-\n",
    "floors_total|всего этажей в доме|float64|Int64||86|Медианное значение\n",
    "is_apartment|апартаменты (булев тип)|object|Bool||20924|Замена на 0\n",
    "kitchen_area|площадь кухни в квадратных метрах (м2)|float64|-||2278|Пропуски не удалялись\n",
    "last_price|цена на момент снятия с публикации|float64|-||0|-\n",
    "living_area|жилая площадь в квадратных метрах (м2)|float64|-||1980|Пропуски не удалялись\n",
    "locality_name|название населённого пункта|object|-||49|Пропуски не удалялись\n",
    "open_plan|свободная планировка (булев тип)|bool|-||0|-\n",
    "parks_around3000|число парков в радиусе 3 км|float64|Int64||5518|Замена на 0\n",
    "parks_nearest|расстояние до ближайшего парка (м)|float64|-||15620|Пропуски не удалялись\n",
    "ponds_around3000|число водоёмов в радиусе 3 км|float64|Int64||5518|Замена на 0\n",
    "ponds_nearest|расстояние до ближайшего водоёма (м)|float64|-||14589|Пропуски не удалялись\n",
    "rooms|число комнат|Int64|-||0|-\n",
    "studio|квартирастудия (булев тип)|Bool|-||0|-\n",
    "total_area|общая площадь квартиры в квадратных метрах (м2)|float64|-||0|-\n",
    "total_images|число фотографий квартиры в объявлении|Int64|-||0|-\n",
    "\n",
    "#### Замена неявных дубликатов:\n",
    "\n",
    "Неявные дубликаты были обнаружены в параметре `locality_name` (название населённого пункта) и были заменены по следующим правилам:\n",
    "\n",
    "- посёлок -> поселок\n",
    "- городской поселок -> поселок городского типа\n",
    "- поселок при железнодорожной станции -> поселок станции\n",
    "- садоводческое некоммерческое товарищество -> садовое товарищество\n",
    "\n",
    "Кроме того, был произведен полуавтоматический поиск совпадающих названий населенных пунктов, но с разными типами населенных пунктов, например `поселок Зимитицы` и `деревня Зимитицы`. Дубликаты, подтверждённые данными с карт, были приведены к единому значению.\n",
    "\n",
    "#### Оценка и исключение  редких и выбивающихся значений:\n",
    "\n",
    "Параметр|Описание данных|Выбросы данных|Процент выбросов|Метод замены выбросов|Причина выбора метода\n",
    ":-------------|:-------------|:-------------|:-------------|:-------------|:-------------\n",
    "last_price|цена на момент снятия с публикации|Цена более 300 млн.|0.017%|Уменьшение значения в 10 раз|Сравнение со схожими по хар-кам объектами\n",
    "last_price|цена на момент снятия с публикации|Цена менее 13 тыс.|0.004%|Изменение значения|Это цена за квадратный метр\n",
    "total_area|общая площадь квартиры в квадратных метрах (м2)|Площадь более 800 м2|0.004%|Удаление объектов|Выборка с выбросами мала\n",
    "rooms|число комнат|не выявлены|-|-|-\n",
    "ceiling_height|высота потолков (м)|Высота потолка 100 м|0.004%|Удаление объектов|Выборка с выбросами мала\n",
    "ceiling_height|высота потолков (м)|Высота потолка от 8 до 20 м|0.135%|Удаление объектов|Выборка с выбросами мала\n",
    "ceiling_height|высота потолков (м)|Высота потолка более 20 м|0.135%|Уменьшение значения в 10 раз|Изначальное значение в дециметрах\n",
    "living_area|жилая площадь в квадратных метрах (м2)|Жилая площадь менее 7 м2|0.034%|Удаление объектов|Выборка с выбросами мала\n",
    "kitchen_area|площадь кухни в квадратных метрах (м2)|Пощадь кухни менее 3 м2|0.076%|Удаление объектов|Выборка с выбросами мала\n",
    "\n",
    "\n",
    "# Цели проекта\n",
    ">Нужно научиться определять рыночную стоимость объектов недвижимости. Ваша задача — установить параметры. Это позволит построить автоматизированную систему: она отследит аномалии и мошенническую деятельность. \n",
    "\n",
    "Исходя из задач проекта, по результатам его выполнения были выбраны следующие параметры, позволяющие выявлять нехарактерные значения:\n",
    "\n",
    "параметр|описание данных| коэффициент корреляции c ценой \n",
    ":-------------|:-------------|:-------------\n",
    "total_area|общая площадь квартиры в квадратных метрах (м?)|0.72\n",
    "rooms|число комнат|0.78\n",
    "week_day_exposition|день недели публикации объявления (0 .. 6)|0.82\n",
    "first_month_exposition|месяц публикации объявления|0.19\n",
    "floor_type|тип этажа квартиры (значения: \"первый\", \"последний\", \"другой\")|n/a\n",
    "cityCenters_nearest|расстояние до центра города (м)|-0.74\n",
    "days_exposition|сколько дней было размещено объявление (от публикации до снятия)|0.15\n",
    "\n",
    "\n",
    "### Выводы по каждым выбранным параметрам\n",
    "\n",
    "\n",
    "- `total_area` - общая площадь квартиры в квадратных метрах (м²)\n",
    " - Наибольшая связь с ценой среди всех прочих параметров площадей.\n",
    "- `rooms` - число комнат\n",
    " - Связь с ценой выражена более явно для 1..7 комнат\n",
    " - Количество 1 и 2 комнатных объектов примерно одинаково для выборки, следом идут 3-комнатные объекты, их на 65% меньше чем количество 1 и 2 комнатных вместе взятых\n",
    "- `week_day_exposition` - день недели публикации объявления (0 .. 6)\n",
    " - Во вторник - самые высокие цены, к пятнице они снижаются\n",
    " - Для публикаций в течение недели характерна низкая активность в выходные, и высокая - в будни. Причем вторник и среда наиболее распространенные дни публикаций\n",
    "- `first_month_exposition` - месяц публикации объявления\n",
    " - В июне и октябре самые низкие цены, в апреле, сентябре и декабре - самые высокие\n",
    " - для публикаций по месяцам характерна сезонная зависимость. Пики публикаций приходятся на начало весны и конец осени. С мая по июль продолжается сезонный спад, затем повышение количества публикаций равномерно к ноябрю. Декабрь и январь - аналогичны летнему спаду\n",
    "- `floor_type` - тип этажа квартиры (значения — «первый», «последний», «другой»)\n",
    " - Первый этаж в среднем на 20% дешевле чем другой\n",
    "- `cityCenters_nearest` - расстояние до центра города (м)\n",
    " - цена снижается с увеличением расстояния\n",
    " - Присутствуют пики на расстоянии 5-7 км и 26-28 км, связанные вероятно с географическими зонами с дорогой застройкой, расположенными на соответствующем расстоянии от центра.\n",
    " - Для расстояний в диапазоне 0-4 км характерна сильная зависимость, цена падает при увеличении расстояния достаточно быстро по сравнению с другими диапазонами. Это связано с наличием сверхдорогой недвижимости близко к центру (0-1 км), и меньшим ее количеством на расстоянии 2-4 км\n",
    " - Для диапазона 10-25 км зависимость слабо выраженная по сравнению с диапазоном близким к центру города. Это связано с наличием общирного \"кольца\" спальных районов вокруг центра"
   ]
  }
 ],
 "metadata": {
  "ExecuteTimeLog": [
   {
    "duration": 427,
    "start_time": "2022-07-12T13:03:07.961Z"
   },
   {
    "duration": 112,
    "start_time": "2022-07-12T13:03:14.410Z"
   },
   {
    "duration": 73,
    "start_time": "2022-07-12T13:03:25.923Z"
   },
   {
    "duration": 99,
    "start_time": "2022-07-12T13:03:30.930Z"
   },
   {
    "duration": 73,
    "start_time": "2022-07-12T13:03:40.734Z"
   },
   {
    "duration": 89,
    "start_time": "2022-07-12T13:03:50.208Z"
   },
   {
    "duration": 101,
    "start_time": "2022-07-12T13:03:57.198Z"
   },
   {
    "duration": 90,
    "start_time": "2022-07-12T13:04:14.203Z"
   },
   {
    "duration": 86,
    "start_time": "2022-07-12T13:04:18.894Z"
   },
   {
    "duration": 86,
    "start_time": "2022-07-12T13:05:24.969Z"
   },
   {
    "duration": 88,
    "start_time": "2022-07-12T13:05:27.709Z"
   },
   {
    "duration": 2266,
    "start_time": "2022-07-12T13:07:23.510Z"
   },
   {
    "duration": 1920,
    "start_time": "2022-07-12T13:08:20.271Z"
   },
   {
    "duration": 229,
    "start_time": "2022-07-12T13:20:54.893Z"
   },
   {
    "duration": 4,
    "start_time": "2022-07-12T13:21:07.684Z"
   },
   {
    "duration": 212,
    "start_time": "2022-07-12T13:21:23.925Z"
   },
   {
    "duration": 3,
    "start_time": "2022-07-12T13:21:29.085Z"
   },
   {
    "duration": 5,
    "start_time": "2022-07-12T13:21:36.060Z"
   },
   {
    "duration": 89,
    "start_time": "2022-07-12T13:22:29.637Z"
   },
   {
    "duration": 3,
    "start_time": "2022-07-12T13:24:23.116Z"
   },
   {
    "duration": 4,
    "start_time": "2022-07-12T13:26:25.935Z"
   },
   {
    "duration": 91,
    "start_time": "2022-07-12T13:41:32.192Z"
   },
   {
    "duration": 1292,
    "start_time": "2022-07-12T13:42:44.932Z"
   },
   {
    "duration": 1868,
    "start_time": "2022-07-12T13:42:48.556Z"
   },
   {
    "duration": 1357,
    "start_time": "2022-07-12T13:42:54.428Z"
   },
   {
    "duration": 11,
    "start_time": "2022-07-12T13:43:17.785Z"
   },
   {
    "duration": 9,
    "start_time": "2022-07-12T13:43:45.210Z"
   },
   {
    "duration": 10,
    "start_time": "2022-07-12T13:44:22.017Z"
   },
   {
    "duration": 10,
    "start_time": "2022-07-12T13:44:38.721Z"
   },
   {
    "duration": 48,
    "start_time": "2022-07-12T13:45:12.688Z"
   },
   {
    "duration": 474,
    "start_time": "2022-07-12T13:45:22.966Z"
   },
   {
    "duration": 1022,
    "start_time": "2022-07-12T13:45:23.442Z"
   },
   {
    "duration": 1854,
    "start_time": "2022-07-12T13:45:52.990Z"
   },
   {
    "duration": 35,
    "start_time": "2022-07-12T13:46:15.940Z"
   },
   {
    "duration": 5,
    "start_time": "2022-07-12T13:46:37.764Z"
   },
   {
    "duration": 10,
    "start_time": "2022-07-12T13:49:29.361Z"
   },
   {
    "duration": 93,
    "start_time": "2022-07-12T13:49:41.376Z"
   },
   {
    "duration": 1942,
    "start_time": "2022-07-12T13:49:41.471Z"
   },
   {
    "duration": 8,
    "start_time": "2022-07-12T13:49:43.414Z"
   },
   {
    "duration": 84,
    "start_time": "2022-07-12T13:49:50.253Z"
   },
   {
    "duration": 1910,
    "start_time": "2022-07-12T13:49:50.339Z"
   },
   {
    "duration": 8,
    "start_time": "2022-07-12T13:49:52.251Z"
   },
   {
    "duration": 9,
    "start_time": "2022-07-12T13:50:02.615Z"
   },
   {
    "duration": 4,
    "start_time": "2022-07-12T13:55:37.981Z"
   },
   {
    "duration": 87,
    "start_time": "2022-07-12T14:05:01.217Z"
   },
   {
    "duration": 8,
    "start_time": "2022-07-12T14:05:52.769Z"
   },
   {
    "duration": 7,
    "start_time": "2022-07-12T14:06:04.646Z"
   },
   {
    "duration": 94,
    "start_time": "2022-07-12T14:06:09.937Z"
   },
   {
    "duration": 2033,
    "start_time": "2022-07-12T14:06:10.033Z"
   },
   {
    "duration": 8,
    "start_time": "2022-07-12T14:06:12.067Z"
   },
   {
    "duration": 9,
    "start_time": "2022-07-12T14:07:12.264Z"
   },
   {
    "duration": 7,
    "start_time": "2022-07-12T14:07:21.753Z"
   },
   {
    "duration": 87,
    "start_time": "2022-07-12T14:07:36.503Z"
   },
   {
    "duration": 86,
    "start_time": "2022-07-12T14:09:25.430Z"
   },
   {
    "duration": 7,
    "start_time": "2022-07-12T14:11:08.296Z"
   },
   {
    "duration": 94,
    "start_time": "2022-07-12T14:11:14.805Z"
   },
   {
    "duration": 87,
    "start_time": "2022-07-12T14:11:36.376Z"
   },
   {
    "duration": 96,
    "start_time": "2022-07-12T14:11:53.766Z"
   },
   {
    "duration": 91,
    "start_time": "2022-07-12T14:12:04.418Z"
   },
   {
    "duration": 96,
    "start_time": "2022-07-12T14:16:40.763Z"
   },
   {
    "duration": 89,
    "start_time": "2022-07-12T14:16:48.482Z"
   },
   {
    "duration": 90,
    "start_time": "2022-07-12T14:17:27.386Z"
   },
   {
    "duration": 87,
    "start_time": "2022-07-12T14:18:19.629Z"
   },
   {
    "duration": 96,
    "start_time": "2022-07-12T14:18:48.787Z"
   },
   {
    "duration": 114,
    "start_time": "2022-07-12T14:22:35.253Z"
   },
   {
    "duration": 92,
    "start_time": "2022-07-12T14:29:03.937Z"
   },
   {
    "duration": 91,
    "start_time": "2022-07-12T14:29:28.417Z"
   },
   {
    "duration": 95,
    "start_time": "2022-07-12T14:30:01.035Z"
   },
   {
    "duration": 93,
    "start_time": "2022-07-12T14:30:27.777Z"
   },
   {
    "duration": 10,
    "start_time": "2022-07-12T14:30:58.086Z"
   },
   {
    "duration": 106,
    "start_time": "2022-07-12T14:32:34.564Z"
   },
   {
    "duration": 85,
    "start_time": "2022-07-12T14:32:51.729Z"
   },
   {
    "duration": 96,
    "start_time": "2022-07-12T14:35:46.696Z"
   },
   {
    "duration": 63,
    "start_time": "2022-07-12T14:38:04.971Z"
   },
   {
    "duration": 121,
    "start_time": "2022-07-12T14:39:03.393Z"
   },
   {
    "duration": 1028,
    "start_time": "2022-07-12T14:39:10.591Z"
   },
   {
    "duration": 85,
    "start_time": "2022-07-12T14:39:22.021Z"
   },
   {
    "duration": 94,
    "start_time": "2022-07-12T14:39:29.895Z"
   },
   {
    "duration": 996,
    "start_time": "2022-07-12T14:39:49.188Z"
   },
   {
    "duration": 101,
    "start_time": "2022-07-12T14:40:03.629Z"
   },
   {
    "duration": 91,
    "start_time": "2022-07-12T14:40:13.556Z"
   },
   {
    "duration": 90,
    "start_time": "2022-07-12T14:42:36.418Z"
   },
   {
    "duration": 86,
    "start_time": "2022-07-12T14:42:43.122Z"
   },
   {
    "duration": 99,
    "start_time": "2022-07-12T14:44:07.401Z"
   },
   {
    "duration": 1196,
    "start_time": "2022-07-12T14:44:22.565Z"
   },
   {
    "duration": 102,
    "start_time": "2022-07-12T14:44:38.623Z"
   },
   {
    "duration": 96,
    "start_time": "2022-07-12T14:44:44.474Z"
   },
   {
    "duration": 92,
    "start_time": "2022-07-12T14:45:17.918Z"
   },
   {
    "duration": 80,
    "start_time": "2022-07-12T14:48:13.445Z"
   },
   {
    "duration": 110,
    "start_time": "2022-07-12T14:52:01.121Z"
   },
   {
    "duration": 1966,
    "start_time": "2022-07-12T14:53:25.159Z"
   },
   {
    "duration": 342,
    "start_time": "2022-07-12T14:55:33.561Z"
   },
   {
    "duration": 347,
    "start_time": "2022-07-12T14:55:49.831Z"
   },
   {
    "duration": 318,
    "start_time": "2022-07-12T14:56:43.885Z"
   },
   {
    "duration": 298,
    "start_time": "2022-07-12T14:56:51.886Z"
   },
   {
    "duration": 275,
    "start_time": "2022-07-12T14:57:23.175Z"
   },
   {
    "duration": 273,
    "start_time": "2022-07-12T14:57:42.668Z"
   },
   {
    "duration": 9,
    "start_time": "2022-07-12T16:42:46.673Z"
   },
   {
    "duration": 20,
    "start_time": "2022-07-12T16:47:19.738Z"
   },
   {
    "duration": 9,
    "start_time": "2022-07-12T16:47:43.646Z"
   },
   {
    "duration": 7,
    "start_time": "2022-07-12T16:47:47.976Z"
   },
   {
    "duration": 11,
    "start_time": "2022-07-12T16:48:14.643Z"
   },
   {
    "duration": 6,
    "start_time": "2022-07-12T16:50:44.001Z"
   },
   {
    "duration": 10,
    "start_time": "2022-07-12T16:50:53.037Z"
   },
   {
    "duration": 10,
    "start_time": "2022-07-12T16:50:59.444Z"
   },
   {
    "duration": 25,
    "start_time": "2022-07-12T16:51:02.538Z"
   },
   {
    "duration": 21,
    "start_time": "2022-07-12T16:51:07.236Z"
   },
   {
    "duration": 66,
    "start_time": "2022-07-12T17:01:25.127Z"
   },
   {
    "duration": 62,
    "start_time": "2022-07-12T17:01:36.285Z"
   },
   {
    "duration": 66,
    "start_time": "2022-07-12T18:15:56.552Z"
   },
   {
    "duration": 52,
    "start_time": "2022-07-12T18:16:08.053Z"
   },
   {
    "duration": 91,
    "start_time": "2022-07-12T18:16:27.357Z"
   },
   {
    "duration": 3,
    "start_time": "2022-07-12T18:16:52.459Z"
   },
   {
    "duration": 6,
    "start_time": "2022-07-12T18:16:56.404Z"
   },
   {
    "duration": 14,
    "start_time": "2022-07-12T18:17:09.574Z"
   },
   {
    "duration": 17,
    "start_time": "2022-07-12T18:17:13.452Z"
   },
   {
    "duration": 18,
    "start_time": "2022-07-12T18:17:21.798Z"
   },
   {
    "duration": 110,
    "start_time": "2022-07-12T18:17:36.854Z"
   },
   {
    "duration": 2137,
    "start_time": "2022-07-12T18:17:36.966Z"
   },
   {
    "duration": 18,
    "start_time": "2022-07-12T18:17:39.104Z"
   },
   {
    "duration": 798,
    "start_time": "2022-07-12T18:21:52.174Z"
   },
   {
    "duration": 17,
    "start_time": "2022-07-12T18:22:04.435Z"
   },
   {
    "duration": 106,
    "start_time": "2022-07-12T18:23:10.750Z"
   },
   {
    "duration": 2267,
    "start_time": "2022-07-12T18:23:10.858Z"
   },
   {
    "duration": 22,
    "start_time": "2022-07-12T18:23:13.126Z"
   },
   {
    "duration": 33,
    "start_time": "2022-07-12T18:32:07.474Z"
   },
   {
    "duration": 44,
    "start_time": "2022-07-12T18:32:16.301Z"
   },
   {
    "duration": 43,
    "start_time": "2022-07-12T18:32:35.695Z"
   },
   {
    "duration": 43,
    "start_time": "2022-07-12T18:33:05.000Z"
   },
   {
    "duration": 22,
    "start_time": "2022-07-12T18:33:13.954Z"
   },
   {
    "duration": 25,
    "start_time": "2022-07-12T18:33:31.203Z"
   },
   {
    "duration": 19,
    "start_time": "2022-07-12T18:33:36.468Z"
   },
   {
    "duration": 20,
    "start_time": "2022-07-12T18:33:45.989Z"
   },
   {
    "duration": 16,
    "start_time": "2022-07-12T18:33:56.743Z"
   },
   {
    "duration": 14,
    "start_time": "2022-07-12T18:34:09.055Z"
   },
   {
    "duration": 24,
    "start_time": "2022-07-12T18:34:35.970Z"
   },
   {
    "duration": 58,
    "start_time": "2022-07-12T18:37:53.367Z"
   },
   {
    "duration": 62,
    "start_time": "2022-07-12T18:41:19.171Z"
   },
   {
    "duration": 64,
    "start_time": "2022-07-12T18:42:03.010Z"
   },
   {
    "duration": 75,
    "start_time": "2022-07-12T18:43:44.893Z"
   },
   {
    "duration": 58,
    "start_time": "2022-07-12T18:44:11.746Z"
   },
   {
    "duration": 55,
    "start_time": "2022-07-12T18:45:30.588Z"
   },
   {
    "duration": 37,
    "start_time": "2022-07-12T18:45:46.834Z"
   },
   {
    "duration": 49,
    "start_time": "2022-07-12T18:45:54.155Z"
   },
   {
    "duration": 60,
    "start_time": "2022-07-12T18:46:17.285Z"
   },
   {
    "duration": 52,
    "start_time": "2022-07-12T18:46:32.765Z"
   },
   {
    "duration": 57,
    "start_time": "2022-07-12T18:46:40.368Z"
   },
   {
    "duration": 34,
    "start_time": "2022-07-12T18:48:15.539Z"
   },
   {
    "duration": 45,
    "start_time": "2022-07-12T18:48:18.857Z"
   },
   {
    "duration": 34,
    "start_time": "2022-07-12T18:48:58.732Z"
   },
   {
    "duration": 44,
    "start_time": "2022-07-12T18:50:24.448Z"
   },
   {
    "duration": 52,
    "start_time": "2022-07-12T18:50:40.435Z"
   },
   {
    "duration": 72,
    "start_time": "2022-07-12T18:50:45.708Z"
   },
   {
    "duration": 63,
    "start_time": "2022-07-12T18:50:50.377Z"
   },
   {
    "duration": 33,
    "start_time": "2022-07-12T19:18:14.795Z"
   },
   {
    "duration": 54,
    "start_time": "2022-07-12T19:18:23.748Z"
   },
   {
    "duration": 26,
    "start_time": "2022-07-12T19:18:32.962Z"
   },
   {
    "duration": 73,
    "start_time": "2022-07-12T19:23:38.174Z"
   },
   {
    "duration": 35,
    "start_time": "2022-07-12T19:24:04.569Z"
   },
   {
    "duration": 49,
    "start_time": "2022-07-12T19:24:15.956Z"
   },
   {
    "duration": 66,
    "start_time": "2022-07-12T19:24:27.210Z"
   },
   {
    "duration": 76,
    "start_time": "2022-07-12T19:24:55.897Z"
   },
   {
    "duration": 46,
    "start_time": "2022-07-12T19:25:20.925Z"
   },
   {
    "duration": 48,
    "start_time": "2022-07-12T19:32:13.148Z"
   },
   {
    "duration": 58,
    "start_time": "2022-07-12T19:32:20.492Z"
   },
   {
    "duration": 49,
    "start_time": "2022-07-12T19:32:44.025Z"
   },
   {
    "duration": 91,
    "start_time": "2022-07-12T19:33:05.188Z"
   },
   {
    "duration": 75,
    "start_time": "2022-07-12T19:33:59.225Z"
   },
   {
    "duration": 52,
    "start_time": "2022-07-12T19:34:09.145Z"
   },
   {
    "duration": 59,
    "start_time": "2022-07-12T19:34:19.690Z"
   },
   {
    "duration": 62,
    "start_time": "2022-07-12T19:35:43.383Z"
   },
   {
    "duration": 60,
    "start_time": "2022-07-12T19:36:27.290Z"
   },
   {
    "duration": 49,
    "start_time": "2022-07-12T19:36:40.986Z"
   },
   {
    "duration": 90,
    "start_time": "2022-07-12T19:36:56.182Z"
   },
   {
    "duration": 72,
    "start_time": "2022-07-12T19:37:15.758Z"
   },
   {
    "duration": 54,
    "start_time": "2022-07-12T19:37:19.640Z"
   },
   {
    "duration": 47,
    "start_time": "2022-07-12T19:37:46.046Z"
   },
   {
    "duration": 62,
    "start_time": "2022-07-12T19:38:04.143Z"
   },
   {
    "duration": 48,
    "start_time": "2022-07-12T19:38:29.025Z"
   },
   {
    "duration": 85,
    "start_time": "2022-07-12T19:38:50.674Z"
   },
   {
    "duration": 57,
    "start_time": "2022-07-12T19:39:09.075Z"
   },
   {
    "duration": 76,
    "start_time": "2022-07-12T19:39:17.524Z"
   },
   {
    "duration": 20,
    "start_time": "2022-07-12T19:39:28.941Z"
   },
   {
    "duration": 18,
    "start_time": "2022-07-12T19:39:48.439Z"
   },
   {
    "duration": 30,
    "start_time": "2022-07-12T19:40:07.295Z"
   },
   {
    "duration": 38,
    "start_time": "2022-07-12T19:40:16.990Z"
   },
   {
    "duration": 56,
    "start_time": "2022-07-12T19:42:57.471Z"
   },
   {
    "duration": 66,
    "start_time": "2022-07-12T19:43:12.457Z"
   },
   {
    "duration": 45,
    "start_time": "2022-07-12T19:43:38.529Z"
   },
   {
    "duration": 15,
    "start_time": "2022-07-12T19:54:36.407Z"
   },
   {
    "duration": 15,
    "start_time": "2022-07-12T19:55:22.068Z"
   },
   {
    "duration": 14,
    "start_time": "2022-07-12T19:55:28.873Z"
   },
   {
    "duration": 14,
    "start_time": "2022-07-12T19:55:33.628Z"
   },
   {
    "duration": 13,
    "start_time": "2022-07-12T19:55:36.554Z"
   },
   {
    "duration": 10,
    "start_time": "2022-07-12T20:07:50.429Z"
   },
   {
    "duration": 10,
    "start_time": "2022-07-12T20:07:52.960Z"
   },
   {
    "duration": 16,
    "start_time": "2022-07-12T20:07:53.835Z"
   },
   {
    "duration": 11,
    "start_time": "2022-07-12T20:07:56.127Z"
   },
   {
    "duration": 146,
    "start_time": "2022-07-12T20:08:03.933Z"
   },
   {
    "duration": 1967,
    "start_time": "2022-07-12T20:08:04.082Z"
   },
   {
    "duration": 44,
    "start_time": "2022-07-12T20:08:06.051Z"
   },
   {
    "duration": 22,
    "start_time": "2022-07-12T20:08:06.098Z"
   },
   {
    "duration": 56,
    "start_time": "2022-07-12T20:08:06.123Z"
   },
   {
    "duration": 31,
    "start_time": "2022-07-12T20:08:06.182Z"
   },
   {
    "duration": 10,
    "start_time": "2022-07-12T20:31:38.871Z"
   },
   {
    "duration": 11,
    "start_time": "2022-07-12T20:33:06.490Z"
   },
   {
    "duration": 11,
    "start_time": "2022-07-12T20:33:28.704Z"
   },
   {
    "duration": 10,
    "start_time": "2022-07-12T20:33:38.309Z"
   },
   {
    "duration": 10,
    "start_time": "2022-07-12T20:33:54.753Z"
   },
   {
    "duration": 10,
    "start_time": "2022-07-12T20:36:45.388Z"
   },
   {
    "duration": 16,
    "start_time": "2022-07-12T20:41:30.653Z"
   },
   {
    "duration": 130,
    "start_time": "2022-07-12T20:44:15.948Z"
   },
   {
    "duration": 2173,
    "start_time": "2022-07-12T20:44:16.080Z"
   },
   {
    "duration": 28,
    "start_time": "2022-07-12T20:44:18.255Z"
   },
   {
    "duration": 31,
    "start_time": "2022-07-12T20:44:18.285Z"
   },
   {
    "duration": 12,
    "start_time": "2022-07-12T20:44:18.319Z"
   },
   {
    "duration": 19,
    "start_time": "2022-07-12T20:44:18.333Z"
   },
   {
    "duration": 29,
    "start_time": "2022-07-12T20:44:18.354Z"
   },
   {
    "duration": 9,
    "start_time": "2022-07-12T20:45:59.826Z"
   },
   {
    "duration": 12,
    "start_time": "2022-07-12T20:47:24.790Z"
   },
   {
    "duration": 24,
    "start_time": "2022-07-12T20:47:44.964Z"
   },
   {
    "duration": 13,
    "start_time": "2022-07-12T20:49:54.341Z"
   },
   {
    "duration": 9,
    "start_time": "2022-07-12T20:49:56.326Z"
   },
   {
    "duration": 111,
    "start_time": "2022-07-12T20:52:36.212Z"
   },
   {
    "duration": 1715,
    "start_time": "2022-07-12T20:52:36.325Z"
   },
   {
    "duration": 26,
    "start_time": "2022-07-12T20:52:38.041Z"
   },
   {
    "duration": 10,
    "start_time": "2022-07-12T20:52:38.069Z"
   },
   {
    "duration": 8,
    "start_time": "2022-07-12T20:52:38.080Z"
   },
   {
    "duration": 34,
    "start_time": "2022-07-12T20:52:38.089Z"
   },
   {
    "duration": 18,
    "start_time": "2022-07-12T20:52:38.125Z"
   },
   {
    "duration": 9,
    "start_time": "2022-07-12T21:05:41.139Z"
   },
   {
    "duration": 8,
    "start_time": "2022-07-12T21:11:24.616Z"
   },
   {
    "duration": 8,
    "start_time": "2022-07-12T21:11:45.059Z"
   },
   {
    "duration": 107,
    "start_time": "2022-07-12T21:11:50.408Z"
   },
   {
    "duration": 2085,
    "start_time": "2022-07-12T21:11:50.517Z"
   },
   {
    "duration": 30,
    "start_time": "2022-07-12T21:11:52.603Z"
   },
   {
    "duration": 10,
    "start_time": "2022-07-12T21:11:52.635Z"
   },
   {
    "duration": 7,
    "start_time": "2022-07-12T21:11:52.647Z"
   },
   {
    "duration": 14,
    "start_time": "2022-07-12T21:11:52.655Z"
   },
   {
    "duration": 8,
    "start_time": "2022-07-12T21:11:52.670Z"
   },
   {
    "duration": 35,
    "start_time": "2022-07-12T21:11:52.679Z"
   },
   {
    "duration": 105,
    "start_time": "2022-07-12T21:13:35.621Z"
   },
   {
    "duration": 2034,
    "start_time": "2022-07-12T21:13:35.728Z"
   },
   {
    "duration": 26,
    "start_time": "2022-07-12T21:13:37.764Z"
   },
   {
    "duration": 21,
    "start_time": "2022-07-12T21:13:37.792Z"
   },
   {
    "duration": 8,
    "start_time": "2022-07-12T21:13:37.814Z"
   },
   {
    "duration": 13,
    "start_time": "2022-07-12T21:13:37.823Z"
   },
   {
    "duration": 8,
    "start_time": "2022-07-12T21:13:37.838Z"
   },
   {
    "duration": 10,
    "start_time": "2022-07-12T21:13:37.848Z"
   },
   {
    "duration": 8,
    "start_time": "2022-07-12T21:14:00.430Z"
   },
   {
    "duration": 7,
    "start_time": "2022-07-12T21:14:41.398Z"
   },
   {
    "duration": 108,
    "start_time": "2022-07-12T21:14:50.262Z"
   },
   {
    "duration": 1818,
    "start_time": "2022-07-12T21:14:50.372Z"
   },
   {
    "duration": 34,
    "start_time": "2022-07-12T21:14:52.192Z"
   },
   {
    "duration": 11,
    "start_time": "2022-07-12T21:14:52.228Z"
   },
   {
    "duration": 9,
    "start_time": "2022-07-12T21:14:52.241Z"
   },
   {
    "duration": 23,
    "start_time": "2022-07-12T21:14:52.252Z"
   },
   {
    "duration": 32,
    "start_time": "2022-07-12T21:14:52.277Z"
   },
   {
    "duration": 9,
    "start_time": "2022-07-12T21:14:52.311Z"
   },
   {
    "duration": 8,
    "start_time": "2022-07-12T21:15:33.166Z"
   },
   {
    "duration": 116,
    "start_time": "2022-07-12T21:15:54.666Z"
   },
   {
    "duration": 2229,
    "start_time": "2022-07-12T21:15:54.785Z"
   },
   {
    "duration": 27,
    "start_time": "2022-07-12T21:15:57.015Z"
   },
   {
    "duration": 10,
    "start_time": "2022-07-12T21:15:57.044Z"
   },
   {
    "duration": 9,
    "start_time": "2022-07-12T21:15:57.056Z"
   },
   {
    "duration": 42,
    "start_time": "2022-07-12T21:15:57.067Z"
   },
   {
    "duration": 11,
    "start_time": "2022-07-12T21:15:57.111Z"
   },
   {
    "duration": 25,
    "start_time": "2022-07-12T21:15:57.124Z"
   },
   {
    "duration": 8,
    "start_time": "2022-07-12T21:18:33.579Z"
   },
   {
    "duration": 7,
    "start_time": "2022-07-12T21:18:40.987Z"
   },
   {
    "duration": 11,
    "start_time": "2022-07-12T21:18:47.152Z"
   },
   {
    "duration": 12,
    "start_time": "2022-07-12T21:18:53.456Z"
   },
   {
    "duration": 7,
    "start_time": "2022-07-12T21:18:57.972Z"
   },
   {
    "duration": 13,
    "start_time": "2022-07-12T21:19:18.849Z"
   },
   {
    "duration": 6,
    "start_time": "2022-07-12T21:20:34.214Z"
   },
   {
    "duration": 5,
    "start_time": "2022-07-12T21:20:46.166Z"
   },
   {
    "duration": 8,
    "start_time": "2022-07-12T21:20:55.162Z"
   },
   {
    "duration": 5,
    "start_time": "2022-07-12T21:21:05.217Z"
   },
   {
    "duration": 61,
    "start_time": "2022-07-12T21:32:22.991Z"
   },
   {
    "duration": 48,
    "start_time": "2022-07-12T21:35:39.889Z"
   },
   {
    "duration": 57,
    "start_time": "2022-07-12T21:36:56.892Z"
   },
   {
    "duration": 57,
    "start_time": "2022-07-12T21:37:14.213Z"
   },
   {
    "duration": 60,
    "start_time": "2022-07-12T21:37:36.088Z"
   },
   {
    "duration": 57,
    "start_time": "2022-07-12T21:38:04.823Z"
   },
   {
    "duration": 54,
    "start_time": "2022-07-12T21:38:15.166Z"
   },
   {
    "duration": 54,
    "start_time": "2022-07-12T21:38:27.704Z"
   },
   {
    "duration": 58,
    "start_time": "2022-07-12T21:39:18.323Z"
   },
   {
    "duration": 80,
    "start_time": "2022-07-12T21:39:31.435Z"
   },
   {
    "duration": 59,
    "start_time": "2022-07-12T21:40:44.037Z"
   },
   {
    "duration": 58,
    "start_time": "2022-07-12T21:40:48.292Z"
   },
   {
    "duration": 75,
    "start_time": "2022-07-12T21:44:09.523Z"
   },
   {
    "duration": 56,
    "start_time": "2022-07-12T21:44:39.553Z"
   },
   {
    "duration": 54,
    "start_time": "2022-07-12T21:45:05.684Z"
   },
   {
    "duration": 55,
    "start_time": "2022-07-12T21:45:11.323Z"
   },
   {
    "duration": 70,
    "start_time": "2022-07-12T21:45:20.214Z"
   },
   {
    "duration": 72,
    "start_time": "2022-07-12T21:45:27.843Z"
   },
   {
    "duration": 76,
    "start_time": "2022-07-12T21:45:37.380Z"
   },
   {
    "duration": 71,
    "start_time": "2022-07-12T21:45:44.325Z"
   },
   {
    "duration": 79,
    "start_time": "2022-07-12T21:45:52.931Z"
   },
   {
    "duration": 94,
    "start_time": "2022-07-12T21:50:37.055Z"
   },
   {
    "duration": 70,
    "start_time": "2022-07-12T22:03:11.996Z"
   },
   {
    "duration": 53,
    "start_time": "2022-07-12T22:03:18.015Z"
   },
   {
    "duration": 54,
    "start_time": "2022-07-12T22:03:39.309Z"
   },
   {
    "duration": 50,
    "start_time": "2022-07-12T22:05:22.147Z"
   },
   {
    "duration": 11,
    "start_time": "2022-07-12T22:05:36.914Z"
   },
   {
    "duration": 5,
    "start_time": "2022-07-12T22:05:45.932Z"
   },
   {
    "duration": 55,
    "start_time": "2022-07-12T22:06:16.874Z"
   },
   {
    "duration": 5,
    "start_time": "2022-07-12T22:06:25.939Z"
   },
   {
    "duration": 7,
    "start_time": "2022-07-12T22:06:33.881Z"
   },
   {
    "duration": 8,
    "start_time": "2022-07-12T22:06:37.373Z"
   },
   {
    "duration": 4,
    "start_time": "2022-07-12T22:06:39.452Z"
   },
   {
    "duration": 4,
    "start_time": "2022-07-12T22:06:55.835Z"
   },
   {
    "duration": 75,
    "start_time": "2022-07-12T22:08:14.582Z"
   },
   {
    "duration": 42,
    "start_time": "2022-07-12T22:08:19.317Z"
   },
   {
    "duration": 60,
    "start_time": "2022-07-12T22:08:34.243Z"
   },
   {
    "duration": 13,
    "start_time": "2022-07-12T22:08:53.195Z"
   },
   {
    "duration": 15,
    "start_time": "2022-07-12T22:09:05.920Z"
   },
   {
    "duration": 11,
    "start_time": "2022-07-12T22:18:00.786Z"
   },
   {
    "duration": 10,
    "start_time": "2022-07-12T22:18:03.465Z"
   },
   {
    "duration": 9,
    "start_time": "2022-07-12T22:19:12.166Z"
   },
   {
    "duration": 19,
    "start_time": "2022-07-12T22:21:56.756Z"
   },
   {
    "duration": 16,
    "start_time": "2022-07-12T22:22:22.923Z"
   },
   {
    "duration": 16,
    "start_time": "2022-07-12T22:22:30.495Z"
   },
   {
    "duration": 20,
    "start_time": "2022-07-12T22:23:27.119Z"
   },
   {
    "duration": 109,
    "start_time": "2022-07-12T22:23:33.072Z"
   },
   {
    "duration": 1704,
    "start_time": "2022-07-12T22:23:33.183Z"
   },
   {
    "duration": 61,
    "start_time": "2022-07-12T22:23:34.889Z"
   },
   {
    "duration": 11,
    "start_time": "2022-07-12T22:23:34.952Z"
   },
   {
    "duration": 8,
    "start_time": "2022-07-12T22:23:34.965Z"
   },
   {
    "duration": 35,
    "start_time": "2022-07-12T22:23:34.975Z"
   },
   {
    "duration": 11,
    "start_time": "2022-07-12T22:23:35.012Z"
   },
   {
    "duration": 9,
    "start_time": "2022-07-12T22:23:35.024Z"
   },
   {
    "duration": 24,
    "start_time": "2022-07-12T22:23:35.034Z"
   },
   {
    "duration": 17,
    "start_time": "2022-07-12T22:24:20.642Z"
   },
   {
    "duration": 59,
    "start_time": "2022-07-12T22:24:30.718Z"
   },
   {
    "duration": 19,
    "start_time": "2022-07-12T22:24:46.937Z"
   },
   {
    "duration": 18,
    "start_time": "2022-07-12T22:24:59.662Z"
   },
   {
    "duration": 15,
    "start_time": "2022-07-12T22:25:23.951Z"
   },
   {
    "duration": 17,
    "start_time": "2022-07-12T22:25:53.602Z"
   },
   {
    "duration": 16,
    "start_time": "2022-07-12T22:26:27.079Z"
   },
   {
    "duration": 17,
    "start_time": "2022-07-12T22:26:38.168Z"
   },
   {
    "duration": 70,
    "start_time": "2022-07-12T22:27:56.715Z"
   },
   {
    "duration": 78,
    "start_time": "2022-07-12T22:28:31.175Z"
   },
   {
    "duration": 12,
    "start_time": "2022-07-12T22:28:40.664Z"
   },
   {
    "duration": 117,
    "start_time": "2022-07-12T22:28:46.312Z"
   },
   {
    "duration": 2058,
    "start_time": "2022-07-12T22:28:46.431Z"
   },
   {
    "duration": 57,
    "start_time": "2022-07-12T22:28:48.491Z"
   },
   {
    "duration": 11,
    "start_time": "2022-07-12T22:28:48.549Z"
   },
   {
    "duration": 8,
    "start_time": "2022-07-12T22:28:48.562Z"
   },
   {
    "duration": 16,
    "start_time": "2022-07-12T22:28:48.572Z"
   },
   {
    "duration": 27,
    "start_time": "2022-07-12T22:28:48.590Z"
   },
   {
    "duration": 7,
    "start_time": "2022-07-12T22:28:48.618Z"
   },
   {
    "duration": 21,
    "start_time": "2022-07-12T22:28:48.626Z"
   },
   {
    "duration": 108,
    "start_time": "2022-07-12T22:29:15.241Z"
   },
   {
    "duration": 1688,
    "start_time": "2022-07-12T22:29:15.351Z"
   },
   {
    "duration": 47,
    "start_time": "2022-07-12T22:29:17.041Z"
   },
   {
    "duration": 24,
    "start_time": "2022-07-12T22:29:17.090Z"
   },
   {
    "duration": 10,
    "start_time": "2022-07-12T22:29:17.116Z"
   },
   {
    "duration": 27,
    "start_time": "2022-07-12T22:29:17.127Z"
   },
   {
    "duration": 10,
    "start_time": "2022-07-12T22:29:17.156Z"
   },
   {
    "duration": 7,
    "start_time": "2022-07-12T22:29:17.168Z"
   },
   {
    "duration": 84,
    "start_time": "2022-07-12T22:29:17.176Z"
   },
   {
    "duration": 62,
    "start_time": "2022-07-12T22:29:40.220Z"
   },
   {
    "duration": 21,
    "start_time": "2022-07-12T22:34:29.960Z"
   },
   {
    "duration": 104,
    "start_time": "2022-07-12T22:34:38.562Z"
   },
   {
    "duration": 2056,
    "start_time": "2022-07-12T22:34:38.668Z"
   },
   {
    "duration": 49,
    "start_time": "2022-07-12T22:34:40.725Z"
   },
   {
    "duration": 10,
    "start_time": "2022-07-12T22:34:40.776Z"
   },
   {
    "duration": 23,
    "start_time": "2022-07-12T22:34:40.787Z"
   },
   {
    "duration": 14,
    "start_time": "2022-07-12T22:34:40.811Z"
   },
   {
    "duration": 8,
    "start_time": "2022-07-12T22:34:40.827Z"
   },
   {
    "duration": 6,
    "start_time": "2022-07-12T22:34:40.837Z"
   },
   {
    "duration": 29,
    "start_time": "2022-07-12T22:34:40.845Z"
   },
   {
    "duration": 109,
    "start_time": "2022-07-12T22:34:55.008Z"
   },
   {
    "duration": 1675,
    "start_time": "2022-07-12T22:34:55.119Z"
   },
   {
    "duration": 56,
    "start_time": "2022-07-12T22:34:56.796Z"
   },
   {
    "duration": 11,
    "start_time": "2022-07-12T22:34:56.853Z"
   },
   {
    "duration": 8,
    "start_time": "2022-07-12T22:34:56.866Z"
   },
   {
    "duration": 34,
    "start_time": "2022-07-12T22:34:56.876Z"
   },
   {
    "duration": 9,
    "start_time": "2022-07-12T22:34:56.912Z"
   },
   {
    "duration": 7,
    "start_time": "2022-07-12T22:34:56.923Z"
   },
   {
    "duration": 90,
    "start_time": "2022-07-12T22:34:56.931Z"
   },
   {
    "duration": 69,
    "start_time": "2022-07-12T22:35:47.268Z"
   },
   {
    "duration": 72,
    "start_time": "2022-07-12T22:42:48.355Z"
   },
   {
    "duration": 75,
    "start_time": "2022-07-12T22:43:28.967Z"
   },
   {
    "duration": 582,
    "start_time": "2022-07-13T08:58:01.999Z"
   },
   {
    "duration": 2400,
    "start_time": "2022-07-13T08:58:02.582Z"
   },
   {
    "duration": 59,
    "start_time": "2022-07-13T08:58:04.983Z"
   },
   {
    "duration": 114,
    "start_time": "2022-07-13T08:58:35.376Z"
   },
   {
    "duration": 2046,
    "start_time": "2022-07-13T08:58:35.491Z"
   },
   {
    "duration": 56,
    "start_time": "2022-07-13T08:58:37.538Z"
   },
   {
    "duration": 32,
    "start_time": "2022-07-13T08:58:37.597Z"
   },
   {
    "duration": 11,
    "start_time": "2022-07-13T08:58:37.630Z"
   },
   {
    "duration": 16,
    "start_time": "2022-07-13T08:58:37.642Z"
   },
   {
    "duration": 11,
    "start_time": "2022-07-13T08:58:37.660Z"
   },
   {
    "duration": 9,
    "start_time": "2022-07-13T08:58:37.673Z"
   },
   {
    "duration": 112,
    "start_time": "2022-07-13T08:58:37.684Z"
   },
   {
    "duration": 62,
    "start_time": "2022-07-13T08:59:02.910Z"
   },
   {
    "duration": 50,
    "start_time": "2022-07-13T08:59:10.395Z"
   },
   {
    "duration": 54,
    "start_time": "2022-07-13T08:59:28.189Z"
   },
   {
    "duration": 110,
    "start_time": "2022-07-13T08:59:43.873Z"
   },
   {
    "duration": 2121,
    "start_time": "2022-07-13T08:59:43.986Z"
   },
   {
    "duration": 64,
    "start_time": "2022-07-13T08:59:46.109Z"
   },
   {
    "duration": 12,
    "start_time": "2022-07-13T08:59:46.176Z"
   },
   {
    "duration": 9,
    "start_time": "2022-07-13T08:59:46.189Z"
   },
   {
    "duration": 35,
    "start_time": "2022-07-13T08:59:46.200Z"
   },
   {
    "duration": 10,
    "start_time": "2022-07-13T08:59:46.236Z"
   },
   {
    "duration": 8,
    "start_time": "2022-07-13T08:59:46.247Z"
   },
   {
    "duration": 56,
    "start_time": "2022-07-13T08:59:46.256Z"
   },
   {
    "duration": 52,
    "start_time": "2022-07-13T09:00:09.126Z"
   },
   {
    "duration": 58,
    "start_time": "2022-07-13T09:00:18.094Z"
   },
   {
    "duration": 18,
    "start_time": "2022-07-13T09:00:27.829Z"
   },
   {
    "duration": 22,
    "start_time": "2022-07-13T09:00:42.895Z"
   },
   {
    "duration": 30,
    "start_time": "2022-07-13T09:01:05.907Z"
   },
   {
    "duration": 99,
    "start_time": "2022-07-13T09:01:22.626Z"
   },
   {
    "duration": 86,
    "start_time": "2022-07-13T09:01:55.779Z"
   },
   {
    "duration": 31,
    "start_time": "2022-07-13T09:02:22.011Z"
   },
   {
    "duration": 29,
    "start_time": "2022-07-13T09:02:35.561Z"
   },
   {
    "duration": 7,
    "start_time": "2022-07-13T09:03:31.124Z"
   },
   {
    "duration": 5,
    "start_time": "2022-07-13T09:03:40.361Z"
   },
   {
    "duration": 11,
    "start_time": "2022-07-13T09:04:30.261Z"
   },
   {
    "duration": 13,
    "start_time": "2022-07-13T09:04:56.535Z"
   },
   {
    "duration": 117,
    "start_time": "2022-07-13T09:05:00.153Z"
   },
   {
    "duration": 2056,
    "start_time": "2022-07-13T09:05:00.272Z"
   },
   {
    "duration": 54,
    "start_time": "2022-07-13T09:05:02.330Z"
   },
   {
    "duration": 12,
    "start_time": "2022-07-13T09:05:02.386Z"
   },
   {
    "duration": 13,
    "start_time": "2022-07-13T09:05:02.422Z"
   },
   {
    "duration": 34,
    "start_time": "2022-07-13T09:05:02.437Z"
   },
   {
    "duration": 23,
    "start_time": "2022-07-13T09:05:02.473Z"
   },
   {
    "duration": 15,
    "start_time": "2022-07-13T09:05:02.498Z"
   },
   {
    "duration": 30,
    "start_time": "2022-07-13T09:05:02.515Z"
   },
   {
    "duration": 2,
    "start_time": "2022-07-13T09:09:41.620Z"
   },
   {
    "duration": 12,
    "start_time": "2022-07-13T09:09:45.367Z"
   },
   {
    "duration": 9,
    "start_time": "2022-07-13T09:12:29.045Z"
   },
   {
    "duration": 75,
    "start_time": "2022-07-13T09:14:44.149Z"
   },
   {
    "duration": 4,
    "start_time": "2022-07-13T09:14:55.278Z"
   },
   {
    "duration": 6,
    "start_time": "2022-07-13T09:14:59.643Z"
   },
   {
    "duration": 9,
    "start_time": "2022-07-13T09:15:19.282Z"
   },
   {
    "duration": 20,
    "start_time": "2022-07-13T09:19:23.379Z"
   },
   {
    "duration": 23,
    "start_time": "2022-07-13T09:20:44.952Z"
   },
   {
    "duration": 20,
    "start_time": "2022-07-13T09:20:53.593Z"
   },
   {
    "duration": 6,
    "start_time": "2022-07-13T09:21:36.350Z"
   },
   {
    "duration": 9,
    "start_time": "2022-07-13T09:21:48.217Z"
   },
   {
    "duration": 9,
    "start_time": "2022-07-13T09:21:52.159Z"
   },
   {
    "duration": 4,
    "start_time": "2022-07-13T09:22:23.635Z"
   },
   {
    "duration": 18,
    "start_time": "2022-07-13T09:26:39.517Z"
   },
   {
    "duration": 17,
    "start_time": "2022-07-13T09:27:02.286Z"
   },
   {
    "duration": 73,
    "start_time": "2022-07-13T09:28:07.917Z"
   },
   {
    "duration": 44,
    "start_time": "2022-07-13T09:28:15.960Z"
   },
   {
    "duration": 24,
    "start_time": "2022-07-13T09:30:06.653Z"
   },
   {
    "duration": 45,
    "start_time": "2022-07-13T09:30:16.032Z"
   },
   {
    "duration": 39,
    "start_time": "2022-07-13T09:30:26.625Z"
   },
   {
    "duration": 18,
    "start_time": "2022-07-13T09:31:42.017Z"
   },
   {
    "duration": 15,
    "start_time": "2022-07-13T09:31:57.334Z"
   },
   {
    "duration": 17,
    "start_time": "2022-07-13T09:33:33.637Z"
   },
   {
    "duration": 33,
    "start_time": "2022-07-13T09:33:47.202Z"
   },
   {
    "duration": 42,
    "start_time": "2022-07-13T09:34:47.575Z"
   },
   {
    "duration": 17,
    "start_time": "2022-07-13T09:35:16.811Z"
   },
   {
    "duration": 37,
    "start_time": "2022-07-13T09:35:21.313Z"
   },
   {
    "duration": 1914,
    "start_time": "2022-07-13T09:35:41.571Z"
   },
   {
    "duration": 11,
    "start_time": "2022-07-13T09:35:55.309Z"
   },
   {
    "duration": 34,
    "start_time": "2022-07-13T09:36:14.271Z"
   },
   {
    "duration": 21,
    "start_time": "2022-07-13T09:36:35.608Z"
   },
   {
    "duration": 35,
    "start_time": "2022-07-13T09:37:13.599Z"
   },
   {
    "duration": 17,
    "start_time": "2022-07-13T09:37:23.762Z"
   },
   {
    "duration": 33,
    "start_time": "2022-07-13T09:37:26.926Z"
   },
   {
    "duration": 20,
    "start_time": "2022-07-13T09:37:42.722Z"
   },
   {
    "duration": 15,
    "start_time": "2022-07-13T09:38:10.650Z"
   },
   {
    "duration": 15,
    "start_time": "2022-07-13T09:38:56.188Z"
   },
   {
    "duration": 15,
    "start_time": "2022-07-13T09:39:08.568Z"
   },
   {
    "duration": 8,
    "start_time": "2022-07-13T09:40:11.676Z"
   },
   {
    "duration": 10,
    "start_time": "2022-07-13T09:40:56.032Z"
   },
   {
    "duration": 13,
    "start_time": "2022-07-13T09:41:20.416Z"
   },
   {
    "duration": 13,
    "start_time": "2022-07-13T09:42:18.990Z"
   },
   {
    "duration": 11,
    "start_time": "2022-07-13T09:42:24.986Z"
   },
   {
    "duration": 10,
    "start_time": "2022-07-13T09:42:37.766Z"
   },
   {
    "duration": 13,
    "start_time": "2022-07-13T09:42:53.338Z"
   },
   {
    "duration": 9,
    "start_time": "2022-07-13T09:43:34.993Z"
   },
   {
    "duration": 12,
    "start_time": "2022-07-13T09:43:43.560Z"
   },
   {
    "duration": 13,
    "start_time": "2022-07-13T09:43:46.964Z"
   },
   {
    "duration": 8,
    "start_time": "2022-07-13T09:43:52.477Z"
   },
   {
    "duration": 11,
    "start_time": "2022-07-13T09:44:46.004Z"
   },
   {
    "duration": 13,
    "start_time": "2022-07-13T09:45:11.472Z"
   },
   {
    "duration": 12,
    "start_time": "2022-07-13T09:45:59.074Z"
   },
   {
    "duration": 9,
    "start_time": "2022-07-13T09:46:00.965Z"
   },
   {
    "duration": 13,
    "start_time": "2022-07-13T09:46:08.141Z"
   },
   {
    "duration": 13,
    "start_time": "2022-07-13T09:55:22.026Z"
   },
   {
    "duration": 11,
    "start_time": "2022-07-13T09:55:46.078Z"
   },
   {
    "duration": 15,
    "start_time": "2022-07-13T09:56:24.818Z"
   },
   {
    "duration": 22,
    "start_time": "2022-07-13T09:58:31.079Z"
   },
   {
    "duration": 46,
    "start_time": "2022-07-13T09:58:36.888Z"
   },
   {
    "duration": 3,
    "start_time": "2022-07-13T10:48:07.720Z"
   },
   {
    "duration": 52,
    "start_time": "2022-07-13T10:55:22.407Z"
   },
   {
    "duration": 18,
    "start_time": "2022-07-13T10:58:06.408Z"
   },
   {
    "duration": 12,
    "start_time": "2022-07-13T11:01:27.429Z"
   },
   {
    "duration": 10,
    "start_time": "2022-07-13T11:01:38.683Z"
   },
   {
    "duration": 3145,
    "start_time": "2022-07-13T11:02:20.736Z"
   },
   {
    "duration": 11,
    "start_time": "2022-07-13T11:02:50.570Z"
   },
   {
    "duration": 9,
    "start_time": "2022-07-13T11:03:02.271Z"
   },
   {
    "duration": 10,
    "start_time": "2022-07-13T11:03:33.212Z"
   },
   {
    "duration": 14,
    "start_time": "2022-07-13T11:03:38.979Z"
   },
   {
    "duration": 8,
    "start_time": "2022-07-13T11:07:47.601Z"
   },
   {
    "duration": 17,
    "start_time": "2022-07-13T11:23:41.178Z"
   },
   {
    "duration": 18,
    "start_time": "2022-07-13T11:23:47.869Z"
   },
   {
    "duration": 118,
    "start_time": "2022-07-13T11:23:53.920Z"
   },
   {
    "duration": 2206,
    "start_time": "2022-07-13T11:23:54.040Z"
   },
   {
    "duration": 58,
    "start_time": "2022-07-13T11:23:56.247Z"
   },
   {
    "duration": 13,
    "start_time": "2022-07-13T11:23:56.324Z"
   },
   {
    "duration": 12,
    "start_time": "2022-07-13T11:23:56.338Z"
   },
   {
    "duration": 22,
    "start_time": "2022-07-13T11:23:56.351Z"
   },
   {
    "duration": 13,
    "start_time": "2022-07-13T11:23:56.374Z"
   },
   {
    "duration": 36,
    "start_time": "2022-07-13T11:23:56.389Z"
   },
   {
    "duration": 18,
    "start_time": "2022-07-13T11:23:56.427Z"
   },
   {
    "duration": 4,
    "start_time": "2022-07-13T11:23:56.448Z"
   },
   {
    "duration": 27,
    "start_time": "2022-07-13T11:23:56.454Z"
   },
   {
    "duration": 18,
    "start_time": "2022-07-13T11:24:29.586Z"
   },
   {
    "duration": 44,
    "start_time": "2022-07-13T11:25:38.893Z"
   },
   {
    "duration": 34,
    "start_time": "2022-07-13T11:25:47.540Z"
   },
   {
    "duration": 25,
    "start_time": "2022-07-13T11:26:13.569Z"
   },
   {
    "duration": 32,
    "start_time": "2022-07-13T11:26:52.141Z"
   },
   {
    "duration": 37,
    "start_time": "2022-07-13T11:27:14.481Z"
   },
   {
    "duration": 36,
    "start_time": "2022-07-13T11:27:26.718Z"
   },
   {
    "duration": 25,
    "start_time": "2022-07-13T11:27:32.676Z"
   },
   {
    "duration": 21,
    "start_time": "2022-07-13T11:27:37.676Z"
   },
   {
    "duration": 45,
    "start_time": "2022-07-13T11:27:46.322Z"
   },
   {
    "duration": 10,
    "start_time": "2022-07-13T11:28:23.220Z"
   },
   {
    "duration": 48,
    "start_time": "2022-07-13T11:32:07.877Z"
   },
   {
    "duration": 33,
    "start_time": "2022-07-13T11:33:43.341Z"
   },
   {
    "duration": 50,
    "start_time": "2022-07-13T11:33:48.390Z"
   },
   {
    "duration": 146,
    "start_time": "2022-07-13T11:33:58.052Z"
   },
   {
    "duration": 2518,
    "start_time": "2022-07-13T11:33:58.200Z"
   },
   {
    "duration": 74,
    "start_time": "2022-07-13T11:34:00.723Z"
   },
   {
    "duration": 33,
    "start_time": "2022-07-13T11:34:00.799Z"
   },
   {
    "duration": 31,
    "start_time": "2022-07-13T11:34:00.835Z"
   },
   {
    "duration": 63,
    "start_time": "2022-07-13T11:34:00.868Z"
   },
   {
    "duration": 27,
    "start_time": "2022-07-13T11:34:00.942Z"
   },
   {
    "duration": 29,
    "start_time": "2022-07-13T11:34:00.972Z"
   },
   {
    "duration": 39,
    "start_time": "2022-07-13T11:34:01.003Z"
   },
   {
    "duration": 17,
    "start_time": "2022-07-13T11:34:01.045Z"
   },
   {
    "duration": 94,
    "start_time": "2022-07-13T11:34:01.064Z"
   },
   {
    "duration": 57,
    "start_time": "2022-07-13T11:34:32.708Z"
   },
   {
    "duration": 73,
    "start_time": "2022-07-13T11:39:38.720Z"
   },
   {
    "duration": 65,
    "start_time": "2022-07-13T11:40:02.967Z"
   },
   {
    "duration": 140,
    "start_time": "2022-07-13T11:40:44.864Z"
   },
   {
    "duration": 2313,
    "start_time": "2022-07-13T11:40:45.006Z"
   },
   {
    "duration": 71,
    "start_time": "2022-07-13T11:40:47.323Z"
   },
   {
    "duration": 29,
    "start_time": "2022-07-13T11:40:47.396Z"
   },
   {
    "duration": 22,
    "start_time": "2022-07-13T11:40:47.428Z"
   },
   {
    "duration": 33,
    "start_time": "2022-07-13T11:40:47.454Z"
   },
   {
    "duration": 10,
    "start_time": "2022-07-13T11:40:47.489Z"
   },
   {
    "duration": 14,
    "start_time": "2022-07-13T11:40:47.501Z"
   },
   {
    "duration": 50,
    "start_time": "2022-07-13T11:40:47.517Z"
   },
   {
    "duration": 5,
    "start_time": "2022-07-13T11:40:47.569Z"
   },
   {
    "duration": 91,
    "start_time": "2022-07-13T11:40:47.576Z"
   },
   {
    "duration": 15,
    "start_time": "2022-07-13T11:41:57.186Z"
   },
   {
    "duration": 78,
    "start_time": "2022-07-13T11:43:31.874Z"
   },
   {
    "duration": 44,
    "start_time": "2022-07-13T11:43:39.459Z"
   },
   {
    "duration": 128,
    "start_time": "2022-07-13T11:43:51.263Z"
   },
   {
    "duration": 2626,
    "start_time": "2022-07-13T11:43:51.394Z"
   },
   {
    "duration": 81,
    "start_time": "2022-07-13T11:43:54.023Z"
   },
   {
    "duration": 34,
    "start_time": "2022-07-13T11:43:54.107Z"
   },
   {
    "duration": 33,
    "start_time": "2022-07-13T11:43:54.143Z"
   },
   {
    "duration": 23,
    "start_time": "2022-07-13T11:43:54.178Z"
   },
   {
    "duration": 12,
    "start_time": "2022-07-13T11:43:54.204Z"
   },
   {
    "duration": 15,
    "start_time": "2022-07-13T11:43:54.218Z"
   },
   {
    "duration": 48,
    "start_time": "2022-07-13T11:43:54.235Z"
   },
   {
    "duration": 6,
    "start_time": "2022-07-13T11:43:54.285Z"
   },
   {
    "duration": 44,
    "start_time": "2022-07-13T11:43:54.293Z"
   },
   {
    "duration": 72,
    "start_time": "2022-07-13T11:44:11.861Z"
   },
   {
    "duration": 149,
    "start_time": "2022-07-13T11:44:15.485Z"
   },
   {
    "duration": 2561,
    "start_time": "2022-07-13T11:44:15.637Z"
   },
   {
    "duration": 96,
    "start_time": "2022-07-13T11:44:18.200Z"
   },
   {
    "duration": 13,
    "start_time": "2022-07-13T11:44:18.298Z"
   },
   {
    "duration": 26,
    "start_time": "2022-07-13T11:44:18.313Z"
   },
   {
    "duration": 40,
    "start_time": "2022-07-13T11:44:18.341Z"
   },
   {
    "duration": 12,
    "start_time": "2022-07-13T11:44:18.383Z"
   },
   {
    "duration": 9,
    "start_time": "2022-07-13T11:44:18.397Z"
   },
   {
    "duration": 23,
    "start_time": "2022-07-13T11:44:18.407Z"
   },
   {
    "duration": 42,
    "start_time": "2022-07-13T11:44:18.432Z"
   },
   {
    "duration": 152,
    "start_time": "2022-07-13T11:50:09.065Z"
   },
   {
    "duration": 2625,
    "start_time": "2022-07-13T11:50:09.219Z"
   },
   {
    "duration": 89,
    "start_time": "2022-07-13T11:50:11.846Z"
   },
   {
    "duration": 19,
    "start_time": "2022-07-13T11:50:11.941Z"
   },
   {
    "duration": 20,
    "start_time": "2022-07-13T11:50:11.963Z"
   },
   {
    "duration": 17,
    "start_time": "2022-07-13T11:50:11.985Z"
   },
   {
    "duration": 10,
    "start_time": "2022-07-13T11:50:12.003Z"
   },
   {
    "duration": 17,
    "start_time": "2022-07-13T11:50:12.015Z"
   },
   {
    "duration": 56,
    "start_time": "2022-07-13T11:50:12.034Z"
   },
   {
    "duration": 5,
    "start_time": "2022-07-13T11:50:12.092Z"
   },
   {
    "duration": 96,
    "start_time": "2022-07-13T11:50:12.098Z"
   },
   {
    "duration": 125,
    "start_time": "2022-07-13T11:52:23.077Z"
   },
   {
    "duration": 2174,
    "start_time": "2022-07-13T11:52:23.204Z"
   },
   {
    "duration": 79,
    "start_time": "2022-07-13T11:52:25.380Z"
   },
   {
    "duration": 11,
    "start_time": "2022-07-13T11:52:25.462Z"
   },
   {
    "duration": 9,
    "start_time": "2022-07-13T11:52:25.474Z"
   },
   {
    "duration": 15,
    "start_time": "2022-07-13T11:52:25.484Z"
   },
   {
    "duration": 19,
    "start_time": "2022-07-13T11:52:25.533Z"
   },
   {
    "duration": 12,
    "start_time": "2022-07-13T11:52:25.554Z"
   },
   {
    "duration": 19,
    "start_time": "2022-07-13T11:52:25.568Z"
   },
   {
    "duration": 4,
    "start_time": "2022-07-13T11:52:25.590Z"
   },
   {
    "duration": 104,
    "start_time": "2022-07-13T11:52:25.596Z"
   },
   {
    "duration": 119,
    "start_time": "2022-07-13T11:52:38.351Z"
   },
   {
    "duration": 2248,
    "start_time": "2022-07-13T11:52:38.472Z"
   },
   {
    "duration": 68,
    "start_time": "2022-07-13T11:52:40.723Z"
   },
   {
    "duration": 12,
    "start_time": "2022-07-13T11:52:40.793Z"
   },
   {
    "duration": 11,
    "start_time": "2022-07-13T11:52:40.823Z"
   },
   {
    "duration": 32,
    "start_time": "2022-07-13T11:52:40.836Z"
   },
   {
    "duration": 10,
    "start_time": "2022-07-13T11:52:40.869Z"
   },
   {
    "duration": 10,
    "start_time": "2022-07-13T11:52:40.880Z"
   },
   {
    "duration": 20,
    "start_time": "2022-07-13T11:52:40.891Z"
   },
   {
    "duration": 10,
    "start_time": "2022-07-13T11:52:40.922Z"
   },
   {
    "duration": 88,
    "start_time": "2022-07-13T11:52:40.934Z"
   },
   {
    "duration": 73,
    "start_time": "2022-07-13T11:52:55.370Z"
   },
   {
    "duration": 126,
    "start_time": "2022-07-13T11:53:03.670Z"
   },
   {
    "duration": 2383,
    "start_time": "2022-07-13T11:53:03.798Z"
   },
   {
    "duration": 80,
    "start_time": "2022-07-13T11:53:06.183Z"
   },
   {
    "duration": 12,
    "start_time": "2022-07-13T11:53:06.266Z"
   },
   {
    "duration": 10,
    "start_time": "2022-07-13T11:53:06.279Z"
   },
   {
    "duration": 52,
    "start_time": "2022-07-13T11:53:06.291Z"
   },
   {
    "duration": 14,
    "start_time": "2022-07-13T11:53:06.345Z"
   },
   {
    "duration": 10,
    "start_time": "2022-07-13T11:53:06.361Z"
   },
   {
    "duration": 21,
    "start_time": "2022-07-13T11:53:06.372Z"
   },
   {
    "duration": 6,
    "start_time": "2022-07-13T11:53:06.395Z"
   },
   {
    "duration": 107,
    "start_time": "2022-07-13T11:53:06.403Z"
   },
   {
    "duration": 78,
    "start_time": "2022-07-13T12:51:48.518Z"
   },
   {
    "duration": 82,
    "start_time": "2022-07-13T12:52:03.764Z"
   },
   {
    "duration": 122,
    "start_time": "2022-07-13T12:52:21.860Z"
   },
   {
    "duration": 2144,
    "start_time": "2022-07-13T12:52:21.984Z"
   },
   {
    "duration": 69,
    "start_time": "2022-07-13T12:52:24.131Z"
   },
   {
    "duration": 30,
    "start_time": "2022-07-13T12:52:24.203Z"
   },
   {
    "duration": 11,
    "start_time": "2022-07-13T12:52:24.235Z"
   },
   {
    "duration": 29,
    "start_time": "2022-07-13T12:52:24.250Z"
   },
   {
    "duration": 11,
    "start_time": "2022-07-13T12:52:24.282Z"
   },
   {
    "duration": 12,
    "start_time": "2022-07-13T12:52:24.295Z"
   },
   {
    "duration": 32,
    "start_time": "2022-07-13T12:52:24.310Z"
   },
   {
    "duration": 17,
    "start_time": "2022-07-13T12:52:24.344Z"
   },
   {
    "duration": 93,
    "start_time": "2022-07-13T12:52:24.364Z"
   },
   {
    "duration": 103,
    "start_time": "2022-07-13T12:58:39.767Z"
   },
   {
    "duration": 111,
    "start_time": "2022-07-13T12:59:24.654Z"
   },
   {
    "duration": 155,
    "start_time": "2022-07-13T13:17:22.225Z"
   },
   {
    "duration": 173,
    "start_time": "2022-07-13T13:19:45.731Z"
   },
   {
    "duration": 164,
    "start_time": "2022-07-13T13:22:53.456Z"
   },
   {
    "duration": 2053,
    "start_time": "2022-07-13T13:22:53.624Z"
   },
   {
    "duration": 67,
    "start_time": "2022-07-13T13:22:55.678Z"
   },
   {
    "duration": 12,
    "start_time": "2022-07-13T13:22:55.747Z"
   },
   {
    "duration": 9,
    "start_time": "2022-07-13T13:22:55.762Z"
   },
   {
    "duration": 16,
    "start_time": "2022-07-13T13:22:55.773Z"
   },
   {
    "duration": 38,
    "start_time": "2022-07-13T13:22:55.791Z"
   },
   {
    "duration": 10,
    "start_time": "2022-07-13T13:22:55.831Z"
   },
   {
    "duration": 23,
    "start_time": "2022-07-13T13:22:55.842Z"
   },
   {
    "duration": 5,
    "start_time": "2022-07-13T13:22:55.867Z"
   },
   {
    "duration": 225,
    "start_time": "2022-07-13T13:22:55.874Z"
   },
   {
    "duration": 163,
    "start_time": "2022-07-13T13:27:59.312Z"
   },
   {
    "duration": 89,
    "start_time": "2022-07-13T13:29:05.083Z"
   },
   {
    "duration": 179,
    "start_time": "2022-07-13T13:29:31.282Z"
   },
   {
    "duration": 160,
    "start_time": "2022-07-13T13:30:09.662Z"
   },
   {
    "duration": 84,
    "start_time": "2022-07-13T13:30:26.253Z"
   },
   {
    "duration": 80,
    "start_time": "2022-07-13T13:31:41.363Z"
   },
   {
    "duration": 163,
    "start_time": "2022-07-13T13:31:52.169Z"
   },
   {
    "duration": 197,
    "start_time": "2022-07-13T13:33:57.143Z"
   },
   {
    "duration": 221,
    "start_time": "2022-07-13T13:35:59.609Z"
   },
   {
    "duration": 112,
    "start_time": "2022-07-13T13:36:30.347Z"
   },
   {
    "duration": 209,
    "start_time": "2022-07-13T13:36:45.849Z"
   },
   {
    "duration": 185,
    "start_time": "2022-07-13T13:37:30.244Z"
   },
   {
    "duration": 108,
    "start_time": "2022-07-13T13:50:56.281Z"
   },
   {
    "duration": 402,
    "start_time": "2022-07-13T13:52:56.936Z"
   },
   {
    "duration": 128,
    "start_time": "2022-07-13T13:53:39.158Z"
   },
   {
    "duration": 2379,
    "start_time": "2022-07-13T13:53:39.288Z"
   },
   {
    "duration": 79,
    "start_time": "2022-07-13T13:53:41.669Z"
   },
   {
    "duration": 17,
    "start_time": "2022-07-13T13:53:41.751Z"
   },
   {
    "duration": 12,
    "start_time": "2022-07-13T13:53:41.770Z"
   },
   {
    "duration": 42,
    "start_time": "2022-07-13T13:53:41.784Z"
   },
   {
    "duration": 19,
    "start_time": "2022-07-13T13:53:41.827Z"
   },
   {
    "duration": 15,
    "start_time": "2022-07-13T13:53:41.849Z"
   },
   {
    "duration": 30,
    "start_time": "2022-07-13T13:53:41.866Z"
   },
   {
    "duration": 7,
    "start_time": "2022-07-13T13:53:41.899Z"
   },
   {
    "duration": 116,
    "start_time": "2022-07-13T13:53:53.594Z"
   },
   {
    "duration": 2125,
    "start_time": "2022-07-13T13:53:53.724Z"
   },
   {
    "duration": 55,
    "start_time": "2022-07-13T13:53:55.851Z"
   },
   {
    "duration": 17,
    "start_time": "2022-07-13T13:53:55.923Z"
   },
   {
    "duration": 10,
    "start_time": "2022-07-13T13:53:55.943Z"
   },
   {
    "duration": 16,
    "start_time": "2022-07-13T13:53:55.955Z"
   },
   {
    "duration": 11,
    "start_time": "2022-07-13T13:53:55.973Z"
   },
   {
    "duration": 41,
    "start_time": "2022-07-13T13:53:55.986Z"
   },
   {
    "duration": 39,
    "start_time": "2022-07-13T13:53:56.032Z"
   },
   {
    "duration": 6,
    "start_time": "2022-07-13T13:53:56.073Z"
   },
   {
    "duration": 402,
    "start_time": "2022-07-13T13:53:56.081Z"
   },
   {
    "duration": 341,
    "start_time": "2022-07-13T13:54:10.797Z"
   },
   {
    "duration": 1694,
    "start_time": "2022-07-13T13:56:05.218Z"
   },
   {
    "duration": 94,
    "start_time": "2022-07-13T13:56:28.450Z"
   },
   {
    "duration": 92,
    "start_time": "2022-07-13T13:56:52.793Z"
   },
   {
    "duration": 95,
    "start_time": "2022-07-13T13:57:49.900Z"
   },
   {
    "duration": 112,
    "start_time": "2022-07-13T13:57:58.017Z"
   },
   {
    "duration": 124,
    "start_time": "2022-07-13T14:00:39.914Z"
   },
   {
    "duration": 103,
    "start_time": "2022-07-13T14:01:47.560Z"
   },
   {
    "duration": 102,
    "start_time": "2022-07-13T14:01:55.378Z"
   },
   {
    "duration": 144,
    "start_time": "2022-07-13T14:02:45.762Z"
   },
   {
    "duration": 123,
    "start_time": "2022-07-13T14:02:53.597Z"
   },
   {
    "duration": 180,
    "start_time": "2022-07-13T14:03:23.118Z"
   },
   {
    "duration": 192,
    "start_time": "2022-07-13T14:03:49.364Z"
   },
   {
    "duration": 213,
    "start_time": "2022-07-13T14:05:38.886Z"
   },
   {
    "duration": 2755,
    "start_time": "2022-07-13T14:05:39.102Z"
   },
   {
    "duration": 95,
    "start_time": "2022-07-13T14:05:41.859Z"
   },
   {
    "duration": 13,
    "start_time": "2022-07-13T14:05:41.956Z"
   },
   {
    "duration": 14,
    "start_time": "2022-07-13T14:05:41.972Z"
   },
   {
    "duration": 15,
    "start_time": "2022-07-13T14:05:41.989Z"
   },
   {
    "duration": 37,
    "start_time": "2022-07-13T14:05:42.006Z"
   },
   {
    "duration": 15,
    "start_time": "2022-07-13T14:05:42.046Z"
   },
   {
    "duration": 20,
    "start_time": "2022-07-13T14:05:42.063Z"
   },
   {
    "duration": 5,
    "start_time": "2022-07-13T14:05:42.085Z"
   },
   {
    "duration": 434,
    "start_time": "2022-07-13T14:05:42.092Z"
   },
   {
    "duration": 116,
    "start_time": "2022-07-13T14:05:59.411Z"
   },
   {
    "duration": 159,
    "start_time": "2022-07-13T14:07:53.119Z"
   },
   {
    "duration": 115,
    "start_time": "2022-07-13T14:09:55.259Z"
   },
   {
    "duration": 132,
    "start_time": "2022-07-13T14:11:23.299Z"
   },
   {
    "duration": 111,
    "start_time": "2022-07-13T14:12:10.876Z"
   },
   {
    "duration": 201,
    "start_time": "2022-07-13T14:12:46.859Z"
   },
   {
    "duration": 211,
    "start_time": "2022-07-13T14:13:19.162Z"
   },
   {
    "duration": 98,
    "start_time": "2022-07-13T14:15:47.882Z"
   },
   {
    "duration": 92,
    "start_time": "2022-07-13T14:28:46.658Z"
   },
   {
    "duration": 60,
    "start_time": "2022-07-13T14:29:27.746Z"
   },
   {
    "duration": 90,
    "start_time": "2022-07-13T14:29:31.998Z"
   },
   {
    "duration": 94,
    "start_time": "2022-07-13T14:32:43.629Z"
   },
   {
    "duration": 84,
    "start_time": "2022-07-13T14:32:47.882Z"
   },
   {
    "duration": 107,
    "start_time": "2022-07-13T14:33:07.443Z"
   },
   {
    "duration": 108,
    "start_time": "2022-07-13T14:33:47.263Z"
   },
   {
    "duration": 88,
    "start_time": "2022-07-13T14:34:17.412Z"
   },
   {
    "duration": 88,
    "start_time": "2022-07-13T14:34:47.509Z"
   },
   {
    "duration": 72,
    "start_time": "2022-07-13T14:35:54.750Z"
   },
   {
    "duration": 51,
    "start_time": "2022-07-13T14:40:36.464Z"
   },
   {
    "duration": 821,
    "start_time": "2022-07-13T14:43:09.814Z"
   },
   {
    "duration": 45,
    "start_time": "2022-07-13T14:43:33.804Z"
   },
   {
    "duration": 23,
    "start_time": "2022-07-13T14:44:43.124Z"
   },
   {
    "duration": 23,
    "start_time": "2022-07-13T14:44:50.579Z"
   },
   {
    "duration": 25,
    "start_time": "2022-07-13T14:47:26.042Z"
   },
   {
    "duration": 28,
    "start_time": "2022-07-13T14:48:15.399Z"
   },
   {
    "duration": 41,
    "start_time": "2022-07-13T14:49:49.798Z"
   },
   {
    "duration": 71,
    "start_time": "2022-07-13T15:11:54.580Z"
   },
   {
    "duration": 29,
    "start_time": "2022-07-13T15:16:28.177Z"
   },
   {
    "duration": 36,
    "start_time": "2022-07-13T15:16:38.115Z"
   },
   {
    "duration": 20,
    "start_time": "2022-07-13T15:27:16.594Z"
   },
   {
    "duration": 28,
    "start_time": "2022-07-13T15:30:36.859Z"
   },
   {
    "duration": 51,
    "start_time": "2022-07-13T15:31:55.141Z"
   },
   {
    "duration": 28,
    "start_time": "2022-07-13T15:36:39.635Z"
   },
   {
    "duration": 28,
    "start_time": "2022-07-13T15:37:31.063Z"
   },
   {
    "duration": 1027,
    "start_time": "2022-07-13T15:37:50.328Z"
   },
   {
    "duration": 27,
    "start_time": "2022-07-13T15:38:22.460Z"
   },
   {
    "duration": 940,
    "start_time": "2022-07-13T15:38:33.510Z"
   },
   {
    "duration": 29,
    "start_time": "2022-07-13T15:39:33.247Z"
   },
   {
    "duration": 36,
    "start_time": "2022-07-13T15:39:49.156Z"
   },
   {
    "duration": 40,
    "start_time": "2022-07-13T15:39:58.699Z"
   },
   {
    "duration": 29,
    "start_time": "2022-07-13T15:40:17.771Z"
   },
   {
    "duration": 36,
    "start_time": "2022-07-13T15:41:27.216Z"
   },
   {
    "duration": 28,
    "start_time": "2022-07-13T15:42:06.413Z"
   },
   {
    "duration": 43,
    "start_time": "2022-07-13T15:42:25.944Z"
   },
   {
    "duration": 1309,
    "start_time": "2022-07-13T15:44:23.935Z"
   },
   {
    "duration": 37,
    "start_time": "2022-07-13T15:44:50.539Z"
   },
   {
    "duration": 1175,
    "start_time": "2022-07-13T15:44:55.843Z"
   },
   {
    "duration": 25,
    "start_time": "2022-07-13T15:45:02.095Z"
   },
   {
    "duration": 33,
    "start_time": "2022-07-13T15:47:00.776Z"
   },
   {
    "duration": 29,
    "start_time": "2022-07-13T15:49:18.295Z"
   },
   {
    "duration": 43,
    "start_time": "2022-07-13T15:49:30.770Z"
   },
   {
    "duration": 29,
    "start_time": "2022-07-13T15:50:08.113Z"
   },
   {
    "duration": 39,
    "start_time": "2022-07-13T15:52:52.335Z"
   },
   {
    "duration": 42,
    "start_time": "2022-07-13T15:53:10.580Z"
   },
   {
    "duration": 41,
    "start_time": "2022-07-13T15:53:57.294Z"
   },
   {
    "duration": 46,
    "start_time": "2022-07-13T15:55:31.408Z"
   },
   {
    "duration": 50,
    "start_time": "2022-07-13T15:56:28.701Z"
   },
   {
    "duration": 29,
    "start_time": "2022-07-13T15:59:37.621Z"
   },
   {
    "duration": 32,
    "start_time": "2022-07-13T15:59:47.565Z"
   },
   {
    "duration": 31,
    "start_time": "2022-07-13T16:00:01.122Z"
   },
   {
    "duration": 34,
    "start_time": "2022-07-13T16:00:52.985Z"
   },
   {
    "duration": 43,
    "start_time": "2022-07-13T16:01:25.273Z"
   },
   {
    "duration": 28,
    "start_time": "2022-07-13T16:02:59.234Z"
   },
   {
    "duration": 28,
    "start_time": "2022-07-13T16:03:21.008Z"
   },
   {
    "duration": 39,
    "start_time": "2022-07-13T16:03:27.874Z"
   },
   {
    "duration": 30,
    "start_time": "2022-07-13T16:03:39.535Z"
   },
   {
    "duration": 32,
    "start_time": "2022-07-13T16:04:13.555Z"
   },
   {
    "duration": 30,
    "start_time": "2022-07-13T16:04:41.883Z"
   },
   {
    "duration": 59,
    "start_time": "2022-07-13T16:04:51.098Z"
   },
   {
    "duration": 34,
    "start_time": "2022-07-13T16:05:10.144Z"
   },
   {
    "duration": 33,
    "start_time": "2022-07-13T16:10:00.980Z"
   },
   {
    "duration": 32,
    "start_time": "2022-07-13T16:10:18.543Z"
   },
   {
    "duration": 30,
    "start_time": "2022-07-13T16:14:11.302Z"
   },
   {
    "duration": 33,
    "start_time": "2022-07-13T16:16:24.010Z"
   },
   {
    "duration": 33,
    "start_time": "2022-07-13T16:16:29.501Z"
   },
   {
    "duration": 47,
    "start_time": "2022-07-13T16:24:46.748Z"
   },
   {
    "duration": 50,
    "start_time": "2022-07-13T16:25:04.723Z"
   },
   {
    "duration": 28,
    "start_time": "2022-07-13T16:26:14.463Z"
   },
   {
    "duration": 15,
    "start_time": "2022-07-13T16:28:58.480Z"
   },
   {
    "duration": 5,
    "start_time": "2022-07-13T16:30:33.909Z"
   },
   {
    "duration": 5,
    "start_time": "2022-07-13T16:30:37.246Z"
   },
   {
    "duration": 5,
    "start_time": "2022-07-13T16:30:50.409Z"
   },
   {
    "duration": 11,
    "start_time": "2022-07-13T16:30:59.471Z"
   },
   {
    "duration": 13,
    "start_time": "2022-07-13T16:31:07.536Z"
   },
   {
    "duration": 16,
    "start_time": "2022-07-13T16:33:04.228Z"
   },
   {
    "duration": 15,
    "start_time": "2022-07-13T16:33:59.788Z"
   },
   {
    "duration": 41,
    "start_time": "2022-07-13T16:34:50.593Z"
   },
   {
    "duration": 133,
    "start_time": "2022-07-13T16:35:09.745Z"
   },
   {
    "duration": 2072,
    "start_time": "2022-07-13T16:35:09.880Z"
   },
   {
    "duration": 71,
    "start_time": "2022-07-13T16:35:11.954Z"
   },
   {
    "duration": 12,
    "start_time": "2022-07-13T16:35:12.027Z"
   },
   {
    "duration": 9,
    "start_time": "2022-07-13T16:35:12.041Z"
   },
   {
    "duration": 19,
    "start_time": "2022-07-13T16:35:12.052Z"
   },
   {
    "duration": 10,
    "start_time": "2022-07-13T16:35:12.073Z"
   },
   {
    "duration": 39,
    "start_time": "2022-07-13T16:35:12.084Z"
   },
   {
    "duration": 22,
    "start_time": "2022-07-13T16:35:12.125Z"
   },
   {
    "duration": 5,
    "start_time": "2022-07-13T16:35:12.149Z"
   },
   {
    "duration": 83,
    "start_time": "2022-07-13T16:35:12.155Z"
   },
   {
    "duration": 27,
    "start_time": "2022-07-13T16:35:12.240Z"
   },
   {
    "duration": 33,
    "start_time": "2022-07-13T16:35:30.697Z"
   },
   {
    "duration": 31,
    "start_time": "2022-07-13T16:36:18.820Z"
   },
   {
    "duration": 4,
    "start_time": "2022-07-13T16:38:38.002Z"
   },
   {
    "duration": 25,
    "start_time": "2022-07-13T16:38:49.562Z"
   },
   {
    "duration": 25,
    "start_time": "2022-07-13T16:42:49.614Z"
   },
   {
    "duration": 22,
    "start_time": "2022-07-13T16:47:39.685Z"
   },
   {
    "duration": 24,
    "start_time": "2022-07-13T16:50:18.294Z"
   },
   {
    "duration": 22,
    "start_time": "2022-07-13T16:50:27.597Z"
   },
   {
    "duration": 23,
    "start_time": "2022-07-13T16:50:31.159Z"
   },
   {
    "duration": 22,
    "start_time": "2022-07-13T16:51:10.099Z"
   },
   {
    "duration": 23,
    "start_time": "2022-07-13T16:51:37.872Z"
   },
   {
    "duration": 24,
    "start_time": "2022-07-13T16:53:16.642Z"
   },
   {
    "duration": 9,
    "start_time": "2022-07-13T17:00:35.592Z"
   },
   {
    "duration": 9,
    "start_time": "2022-07-13T17:01:32.188Z"
   },
   {
    "duration": 10,
    "start_time": "2022-07-13T17:01:34.645Z"
   },
   {
    "duration": 25,
    "start_time": "2022-07-13T17:07:01.411Z"
   },
   {
    "duration": 22,
    "start_time": "2022-07-13T17:07:57.998Z"
   },
   {
    "duration": 31,
    "start_time": "2022-07-13T17:08:15.718Z"
   },
   {
    "duration": 24,
    "start_time": "2022-07-13T17:08:41.202Z"
   },
   {
    "duration": 19,
    "start_time": "2022-07-13T17:08:54.191Z"
   },
   {
    "duration": 21,
    "start_time": "2022-07-13T17:08:59.473Z"
   },
   {
    "duration": 29,
    "start_time": "2022-07-13T17:11:15.424Z"
   },
   {
    "duration": 49,
    "start_time": "2022-07-13T17:17:13.300Z"
   },
   {
    "duration": 31,
    "start_time": "2022-07-13T17:17:46.322Z"
   },
   {
    "duration": 32,
    "start_time": "2022-07-13T17:17:56.895Z"
   },
   {
    "duration": 6,
    "start_time": "2022-07-13T17:21:16.472Z"
   },
   {
    "duration": 33,
    "start_time": "2022-07-13T17:21:23.520Z"
   },
   {
    "duration": 146,
    "start_time": "2022-07-13T17:21:47.861Z"
   },
   {
    "duration": 2464,
    "start_time": "2022-07-13T17:21:48.009Z"
   },
   {
    "duration": 66,
    "start_time": "2022-07-13T17:21:50.474Z"
   },
   {
    "duration": 12,
    "start_time": "2022-07-13T17:21:50.542Z"
   },
   {
    "duration": 9,
    "start_time": "2022-07-13T17:21:50.555Z"
   },
   {
    "duration": 15,
    "start_time": "2022-07-13T17:21:50.566Z"
   },
   {
    "duration": 40,
    "start_time": "2022-07-13T17:21:50.583Z"
   },
   {
    "duration": 10,
    "start_time": "2022-07-13T17:21:50.626Z"
   },
   {
    "duration": 15,
    "start_time": "2022-07-13T17:21:50.638Z"
   },
   {
    "duration": 5,
    "start_time": "2022-07-13T17:21:50.655Z"
   },
   {
    "duration": 87,
    "start_time": "2022-07-13T17:21:50.661Z"
   },
   {
    "duration": 33,
    "start_time": "2022-07-13T17:21:50.750Z"
   },
   {
    "duration": 4,
    "start_time": "2022-07-13T17:21:50.784Z"
   },
   {
    "duration": 32,
    "start_time": "2022-07-13T17:22:35.254Z"
   },
   {
    "duration": 34,
    "start_time": "2022-07-13T17:23:26.861Z"
   },
   {
    "duration": 124,
    "start_time": "2022-07-13T17:23:31.202Z"
   },
   {
    "duration": 2107,
    "start_time": "2022-07-13T17:23:31.328Z"
   },
   {
    "duration": 87,
    "start_time": "2022-07-13T17:23:33.437Z"
   },
   {
    "duration": 14,
    "start_time": "2022-07-13T17:23:33.527Z"
   },
   {
    "duration": 13,
    "start_time": "2022-07-13T17:23:33.542Z"
   },
   {
    "duration": 16,
    "start_time": "2022-07-13T17:23:33.557Z"
   },
   {
    "duration": 10,
    "start_time": "2022-07-13T17:23:33.575Z"
   },
   {
    "duration": 42,
    "start_time": "2022-07-13T17:23:33.587Z"
   },
   {
    "duration": 20,
    "start_time": "2022-07-13T17:23:33.631Z"
   },
   {
    "duration": 5,
    "start_time": "2022-07-13T17:23:33.654Z"
   },
   {
    "duration": 89,
    "start_time": "2022-07-13T17:23:33.662Z"
   },
   {
    "duration": 44,
    "start_time": "2022-07-13T17:23:33.754Z"
   },
   {
    "duration": 50,
    "start_time": "2022-07-13T17:23:33.799Z"
   },
   {
    "duration": 34,
    "start_time": "2022-07-13T17:24:37.671Z"
   },
   {
    "duration": 117,
    "start_time": "2022-07-13T17:24:42.419Z"
   },
   {
    "duration": 2525,
    "start_time": "2022-07-13T17:24:42.538Z"
   },
   {
    "duration": 68,
    "start_time": "2022-07-13T17:24:45.065Z"
   },
   {
    "duration": 13,
    "start_time": "2022-07-13T17:24:45.136Z"
   },
   {
    "duration": 9,
    "start_time": "2022-07-13T17:24:45.150Z"
   },
   {
    "duration": 18,
    "start_time": "2022-07-13T17:24:45.161Z"
   },
   {
    "duration": 11,
    "start_time": "2022-07-13T17:24:45.180Z"
   },
   {
    "duration": 36,
    "start_time": "2022-07-13T17:24:45.194Z"
   },
   {
    "duration": 19,
    "start_time": "2022-07-13T17:24:45.232Z"
   },
   {
    "duration": 4,
    "start_time": "2022-07-13T17:24:45.254Z"
   },
   {
    "duration": 107,
    "start_time": "2022-07-13T17:24:45.259Z"
   },
   {
    "duration": 58,
    "start_time": "2022-07-13T17:24:45.368Z"
   },
   {
    "duration": 39,
    "start_time": "2022-07-13T17:24:45.428Z"
   },
   {
    "duration": 35,
    "start_time": "2022-07-13T17:25:44.682Z"
   },
   {
    "duration": 129,
    "start_time": "2022-07-13T17:25:48.758Z"
   },
   {
    "duration": 2045,
    "start_time": "2022-07-13T17:25:48.890Z"
   },
   {
    "duration": 62,
    "start_time": "2022-07-13T17:25:50.937Z"
   },
   {
    "duration": 36,
    "start_time": "2022-07-13T17:25:51.001Z"
   },
   {
    "duration": 13,
    "start_time": "2022-07-13T17:25:51.040Z"
   },
   {
    "duration": 25,
    "start_time": "2022-07-13T17:25:51.055Z"
   },
   {
    "duration": 11,
    "start_time": "2022-07-13T17:25:51.082Z"
   },
   {
    "duration": 33,
    "start_time": "2022-07-13T17:25:51.095Z"
   },
   {
    "duration": 23,
    "start_time": "2022-07-13T17:25:51.130Z"
   },
   {
    "duration": 5,
    "start_time": "2022-07-13T17:25:51.154Z"
   },
   {
    "duration": 91,
    "start_time": "2022-07-13T17:25:51.161Z"
   },
   {
    "duration": 34,
    "start_time": "2022-07-13T17:25:51.254Z"
   },
   {
    "duration": 51,
    "start_time": "2022-07-13T17:25:51.289Z"
   },
   {
    "duration": 262,
    "start_time": "2022-07-13T17:27:41.543Z"
   },
   {
    "duration": 137,
    "start_time": "2022-07-13T17:28:04.685Z"
   },
   {
    "duration": 2487,
    "start_time": "2022-07-13T17:28:04.824Z"
   },
   {
    "duration": 74,
    "start_time": "2022-07-13T17:28:07.313Z"
   },
   {
    "duration": 14,
    "start_time": "2022-07-13T17:28:07.389Z"
   },
   {
    "duration": 27,
    "start_time": "2022-07-13T17:28:07.405Z"
   },
   {
    "duration": 20,
    "start_time": "2022-07-13T17:28:07.434Z"
   },
   {
    "duration": 11,
    "start_time": "2022-07-13T17:28:07.456Z"
   },
   {
    "duration": 11,
    "start_time": "2022-07-13T17:28:07.469Z"
   },
   {
    "duration": 46,
    "start_time": "2022-07-13T17:28:07.482Z"
   },
   {
    "duration": 6,
    "start_time": "2022-07-13T17:28:07.532Z"
   },
   {
    "duration": 98,
    "start_time": "2022-07-13T17:28:07.540Z"
   },
   {
    "duration": 37,
    "start_time": "2022-07-13T17:28:07.641Z"
   },
   {
    "duration": 56,
    "start_time": "2022-07-13T17:28:07.680Z"
   },
   {
    "duration": 115,
    "start_time": "2022-07-13T17:28:19.599Z"
   },
   {
    "duration": 1936,
    "start_time": "2022-07-13T17:28:19.716Z"
   },
   {
    "duration": 77,
    "start_time": "2022-07-13T17:28:21.654Z"
   },
   {
    "duration": 12,
    "start_time": "2022-07-13T17:28:21.734Z"
   },
   {
    "duration": 11,
    "start_time": "2022-07-13T17:28:21.747Z"
   },
   {
    "duration": 16,
    "start_time": "2022-07-13T17:28:21.759Z"
   },
   {
    "duration": 10,
    "start_time": "2022-07-13T17:28:21.777Z"
   },
   {
    "duration": 42,
    "start_time": "2022-07-13T17:28:21.789Z"
   },
   {
    "duration": 19,
    "start_time": "2022-07-13T17:28:21.833Z"
   },
   {
    "duration": 5,
    "start_time": "2022-07-13T17:28:21.855Z"
   },
   {
    "duration": 87,
    "start_time": "2022-07-13T17:28:21.861Z"
   },
   {
    "duration": 30,
    "start_time": "2022-07-13T17:28:21.950Z"
   },
   {
    "duration": 45,
    "start_time": "2022-07-13T17:28:21.982Z"
   },
   {
    "duration": 125,
    "start_time": "2022-07-13T17:29:55.503Z"
   },
   {
    "duration": 1981,
    "start_time": "2022-07-13T17:29:55.630Z"
   },
   {
    "duration": 59,
    "start_time": "2022-07-13T17:29:57.613Z"
   },
   {
    "duration": 13,
    "start_time": "2022-07-13T17:29:57.674Z"
   },
   {
    "duration": 9,
    "start_time": "2022-07-13T17:29:57.688Z"
   },
   {
    "duration": 37,
    "start_time": "2022-07-13T17:29:57.699Z"
   },
   {
    "duration": 9,
    "start_time": "2022-07-13T17:29:57.738Z"
   },
   {
    "duration": 9,
    "start_time": "2022-07-13T17:29:57.749Z"
   },
   {
    "duration": 15,
    "start_time": "2022-07-13T17:29:57.760Z"
   },
   {
    "duration": 4,
    "start_time": "2022-07-13T17:29:57.778Z"
   },
   {
    "duration": 569,
    "start_time": "2022-07-13T17:29:57.784Z"
   },
   {
    "duration": 31,
    "start_time": "2022-07-13T17:29:58.355Z"
   },
   {
    "duration": 50,
    "start_time": "2022-07-13T17:29:58.388Z"
   },
   {
    "duration": 8,
    "start_time": "2022-07-13T17:29:58.440Z"
   },
   {
    "duration": 10,
    "start_time": "2022-07-13T17:30:28.707Z"
   },
   {
    "duration": 3,
    "start_time": "2022-07-13T17:33:15.254Z"
   },
   {
    "duration": 9,
    "start_time": "2022-07-13T17:33:42.914Z"
   },
   {
    "duration": 4,
    "start_time": "2022-07-13T17:35:58.279Z"
   },
   {
    "duration": 10,
    "start_time": "2022-07-13T17:36:38.678Z"
   },
   {
    "duration": 8,
    "start_time": "2022-07-13T17:40:35.589Z"
   },
   {
    "duration": 5,
    "start_time": "2022-07-13T17:40:54.613Z"
   },
   {
    "duration": 234,
    "start_time": "2022-07-13T17:41:08.463Z"
   },
   {
    "duration": 112,
    "start_time": "2022-07-13T17:41:28.307Z"
   },
   {
    "duration": 2076,
    "start_time": "2022-07-13T17:41:28.421Z"
   },
   {
    "duration": 72,
    "start_time": "2022-07-13T17:41:30.499Z"
   },
   {
    "duration": 13,
    "start_time": "2022-07-13T17:41:30.574Z"
   },
   {
    "duration": 36,
    "start_time": "2022-07-13T17:41:30.589Z"
   },
   {
    "duration": 130,
    "start_time": "2022-07-13T17:41:30.627Z"
   },
   {
    "duration": 45,
    "start_time": "2022-07-13T17:41:30.759Z"
   },
   {
    "duration": 39,
    "start_time": "2022-07-13T17:41:30.806Z"
   },
   {
    "duration": 48,
    "start_time": "2022-07-13T17:41:30.847Z"
   },
   {
    "duration": 35,
    "start_time": "2022-07-13T17:41:30.898Z"
   },
   {
    "duration": 96,
    "start_time": "2022-07-13T17:41:30.935Z"
   },
   {
    "duration": 36,
    "start_time": "2022-07-13T17:41:31.033Z"
   },
   {
    "duration": 55,
    "start_time": "2022-07-13T17:41:31.071Z"
   },
   {
    "duration": 277,
    "start_time": "2022-07-13T17:41:31.129Z"
   },
   {
    "duration": 244,
    "start_time": "2022-07-13T17:43:20.290Z"
   },
   {
    "duration": 248,
    "start_time": "2022-07-13T17:44:10.228Z"
   },
   {
    "duration": 119,
    "start_time": "2022-07-13T17:44:31.276Z"
   },
   {
    "duration": 2311,
    "start_time": "2022-07-13T17:44:31.397Z"
   },
   {
    "duration": 68,
    "start_time": "2022-07-13T17:44:33.711Z"
   },
   {
    "duration": 12,
    "start_time": "2022-07-13T17:44:33.782Z"
   },
   {
    "duration": 33,
    "start_time": "2022-07-13T17:44:33.796Z"
   },
   {
    "duration": 23,
    "start_time": "2022-07-13T17:44:33.830Z"
   },
   {
    "duration": 10,
    "start_time": "2022-07-13T17:44:33.856Z"
   },
   {
    "duration": 24,
    "start_time": "2022-07-13T17:44:33.868Z"
   },
   {
    "duration": 36,
    "start_time": "2022-07-13T17:44:33.894Z"
   },
   {
    "duration": 5,
    "start_time": "2022-07-13T17:44:33.933Z"
   },
   {
    "duration": 76,
    "start_time": "2022-07-13T17:44:33.940Z"
   },
   {
    "duration": 32,
    "start_time": "2022-07-13T17:44:34.023Z"
   },
   {
    "duration": 30,
    "start_time": "2022-07-13T17:44:34.057Z"
   },
   {
    "duration": 281,
    "start_time": "2022-07-13T17:44:34.089Z"
   },
   {
    "duration": 36,
    "start_time": "2022-07-13T17:47:45.787Z"
   },
   {
    "duration": 118,
    "start_time": "2022-07-13T17:47:56.291Z"
   },
   {
    "duration": 1956,
    "start_time": "2022-07-13T17:47:56.411Z"
   },
   {
    "duration": 72,
    "start_time": "2022-07-13T17:47:58.369Z"
   },
   {
    "duration": 15,
    "start_time": "2022-07-13T17:47:58.444Z"
   },
   {
    "duration": 13,
    "start_time": "2022-07-13T17:47:58.461Z"
   },
   {
    "duration": 16,
    "start_time": "2022-07-13T17:47:58.477Z"
   },
   {
    "duration": 34,
    "start_time": "2022-07-13T17:47:58.495Z"
   },
   {
    "duration": 9,
    "start_time": "2022-07-13T17:47:58.531Z"
   },
   {
    "duration": 21,
    "start_time": "2022-07-13T17:47:58.542Z"
   },
   {
    "duration": 6,
    "start_time": "2022-07-13T17:47:58.566Z"
   },
   {
    "duration": 93,
    "start_time": "2022-07-13T17:47:58.573Z"
   },
   {
    "duration": 33,
    "start_time": "2022-07-13T17:47:58.668Z"
   },
   {
    "duration": 36,
    "start_time": "2022-07-13T17:48:51.885Z"
   },
   {
    "duration": 32,
    "start_time": "2022-07-13T17:49:21.078Z"
   },
   {
    "duration": 81,
    "start_time": "2022-07-13T17:51:40.267Z"
   },
   {
    "duration": 117,
    "start_time": "2022-07-13T17:52:18.114Z"
   },
   {
    "duration": 2046,
    "start_time": "2022-07-13T17:52:18.234Z"
   },
   {
    "duration": 63,
    "start_time": "2022-07-13T17:52:20.282Z"
   },
   {
    "duration": 12,
    "start_time": "2022-07-13T17:52:20.347Z"
   },
   {
    "duration": 9,
    "start_time": "2022-07-13T17:52:20.361Z"
   },
   {
    "duration": 21,
    "start_time": "2022-07-13T17:52:20.372Z"
   },
   {
    "duration": 34,
    "start_time": "2022-07-13T17:52:20.395Z"
   },
   {
    "duration": 10,
    "start_time": "2022-07-13T17:52:20.430Z"
   },
   {
    "duration": 31,
    "start_time": "2022-07-13T17:52:20.441Z"
   },
   {
    "duration": 4,
    "start_time": "2022-07-13T17:52:20.475Z"
   },
   {
    "duration": 566,
    "start_time": "2022-07-13T17:52:20.480Z"
   },
   {
    "duration": 35,
    "start_time": "2022-07-13T17:52:21.048Z"
   },
   {
    "duration": 54,
    "start_time": "2022-07-13T17:52:21.085Z"
   },
   {
    "duration": 259,
    "start_time": "2022-07-13T17:52:21.141Z"
   },
   {
    "duration": 245,
    "start_time": "2022-07-13T17:53:33.946Z"
   },
   {
    "duration": 134,
    "start_time": "2022-07-13T17:54:39.087Z"
   },
   {
    "duration": 2047,
    "start_time": "2022-07-13T17:54:39.225Z"
   },
   {
    "duration": 68,
    "start_time": "2022-07-13T17:54:41.274Z"
   },
   {
    "duration": 13,
    "start_time": "2022-07-13T17:54:41.344Z"
   },
   {
    "duration": 25,
    "start_time": "2022-07-13T17:54:41.359Z"
   },
   {
    "duration": 48,
    "start_time": "2022-07-13T17:54:41.385Z"
   },
   {
    "duration": 23,
    "start_time": "2022-07-13T17:54:41.435Z"
   },
   {
    "duration": 27,
    "start_time": "2022-07-13T17:54:41.460Z"
   },
   {
    "duration": 37,
    "start_time": "2022-07-13T17:54:41.489Z"
   },
   {
    "duration": 8,
    "start_time": "2022-07-13T17:54:41.527Z"
   },
   {
    "duration": 92,
    "start_time": "2022-07-13T17:54:41.537Z"
   },
   {
    "duration": 34,
    "start_time": "2022-07-13T17:54:41.631Z"
   },
   {
    "duration": 56,
    "start_time": "2022-07-13T17:54:41.667Z"
   },
   {
    "duration": 283,
    "start_time": "2022-07-13T17:54:41.726Z"
   },
   {
    "duration": 267,
    "start_time": "2022-07-13T17:56:34.384Z"
   },
   {
    "duration": 120,
    "start_time": "2022-07-13T17:56:42.184Z"
   },
   {
    "duration": 2557,
    "start_time": "2022-07-13T17:56:42.307Z"
   },
   {
    "duration": 80,
    "start_time": "2022-07-13T17:56:44.866Z"
   },
   {
    "duration": 15,
    "start_time": "2022-07-13T17:56:44.949Z"
   },
   {
    "duration": 11,
    "start_time": "2022-07-13T17:56:44.966Z"
   },
   {
    "duration": 45,
    "start_time": "2022-07-13T17:56:44.980Z"
   },
   {
    "duration": 14,
    "start_time": "2022-07-13T17:56:45.027Z"
   },
   {
    "duration": 20,
    "start_time": "2022-07-13T17:56:45.043Z"
   },
   {
    "duration": 28,
    "start_time": "2022-07-13T17:56:45.065Z"
   },
   {
    "duration": 5,
    "start_time": "2022-07-13T17:56:45.097Z"
   },
   {
    "duration": 99,
    "start_time": "2022-07-13T17:56:45.104Z"
   },
   {
    "duration": 43,
    "start_time": "2022-07-13T17:56:45.206Z"
   },
   {
    "duration": 32,
    "start_time": "2022-07-13T17:56:45.250Z"
   },
   {
    "duration": 307,
    "start_time": "2022-07-13T17:56:45.284Z"
   },
   {
    "duration": 265,
    "start_time": "2022-07-13T17:57:35.153Z"
   },
   {
    "duration": 119,
    "start_time": "2022-07-13T17:57:39.579Z"
   },
   {
    "duration": 2066,
    "start_time": "2022-07-13T17:57:39.700Z"
   },
   {
    "duration": 79,
    "start_time": "2022-07-13T17:57:41.768Z"
   },
   {
    "duration": 14,
    "start_time": "2022-07-13T17:57:41.850Z"
   },
   {
    "duration": 12,
    "start_time": "2022-07-13T17:57:41.865Z"
   },
   {
    "duration": 16,
    "start_time": "2022-07-13T17:57:41.879Z"
   },
   {
    "duration": 11,
    "start_time": "2022-07-13T17:57:41.925Z"
   },
   {
    "duration": 12,
    "start_time": "2022-07-13T17:57:41.938Z"
   },
   {
    "duration": 28,
    "start_time": "2022-07-13T17:57:41.953Z"
   },
   {
    "duration": 6,
    "start_time": "2022-07-13T17:57:41.985Z"
   },
   {
    "duration": 113,
    "start_time": "2022-07-13T17:57:41.994Z"
   },
   {
    "duration": 53,
    "start_time": "2022-07-13T17:57:42.109Z"
   },
   {
    "duration": 33,
    "start_time": "2022-07-13T17:57:42.164Z"
   },
   {
    "duration": 301,
    "start_time": "2022-07-13T17:57:42.199Z"
   },
   {
    "duration": 120,
    "start_time": "2022-07-13T18:01:23.641Z"
   },
   {
    "duration": 2108,
    "start_time": "2022-07-13T18:01:23.764Z"
   },
   {
    "duration": 95,
    "start_time": "2022-07-13T18:01:25.875Z"
   },
   {
    "duration": 13,
    "start_time": "2022-07-13T18:01:25.972Z"
   },
   {
    "duration": 27,
    "start_time": "2022-07-13T18:01:25.987Z"
   },
   {
    "duration": 19,
    "start_time": "2022-07-13T18:01:26.016Z"
   },
   {
    "duration": 14,
    "start_time": "2022-07-13T18:01:26.037Z"
   },
   {
    "duration": 15,
    "start_time": "2022-07-13T18:01:26.053Z"
   },
   {
    "duration": 55,
    "start_time": "2022-07-13T18:01:26.070Z"
   },
   {
    "duration": 5,
    "start_time": "2022-07-13T18:01:26.129Z"
   },
   {
    "duration": 575,
    "start_time": "2022-07-13T18:01:26.136Z"
   },
   {
    "duration": 32,
    "start_time": "2022-07-13T18:01:26.723Z"
   },
   {
    "duration": 29,
    "start_time": "2022-07-13T18:01:26.757Z"
   },
   {
    "duration": 321,
    "start_time": "2022-07-13T18:01:26.788Z"
   },
   {
    "duration": 111,
    "start_time": "2022-07-13T18:04:01.757Z"
   },
   {
    "duration": 1946,
    "start_time": "2022-07-13T18:04:01.870Z"
   },
   {
    "duration": 55,
    "start_time": "2022-07-13T18:04:03.823Z"
   },
   {
    "duration": 12,
    "start_time": "2022-07-13T18:04:03.881Z"
   },
   {
    "duration": 29,
    "start_time": "2022-07-13T18:04:03.894Z"
   },
   {
    "duration": 15,
    "start_time": "2022-07-13T18:04:03.925Z"
   },
   {
    "duration": 11,
    "start_time": "2022-07-13T18:04:03.941Z"
   },
   {
    "duration": 11,
    "start_time": "2022-07-13T18:04:03.953Z"
   },
   {
    "duration": 19,
    "start_time": "2022-07-13T18:04:03.965Z"
   },
   {
    "duration": 4,
    "start_time": "2022-07-13T18:04:03.986Z"
   },
   {
    "duration": 108,
    "start_time": "2022-07-13T18:04:03.992Z"
   },
   {
    "duration": 72,
    "start_time": "2022-07-13T18:04:21.720Z"
   },
   {
    "duration": 114,
    "start_time": "2022-07-13T18:04:59.943Z"
   },
   {
    "duration": 2449,
    "start_time": "2022-07-13T18:05:00.059Z"
   },
   {
    "duration": 61,
    "start_time": "2022-07-13T18:05:02.510Z"
   },
   {
    "duration": 12,
    "start_time": "2022-07-13T18:05:02.573Z"
   },
   {
    "duration": 15,
    "start_time": "2022-07-13T18:05:02.587Z"
   },
   {
    "duration": 17,
    "start_time": "2022-07-13T18:05:02.623Z"
   },
   {
    "duration": 10,
    "start_time": "2022-07-13T18:05:02.642Z"
   },
   {
    "duration": 9,
    "start_time": "2022-07-13T18:05:02.653Z"
   },
   {
    "duration": 18,
    "start_time": "2022-07-13T18:05:02.664Z"
   },
   {
    "duration": 4,
    "start_time": "2022-07-13T18:05:02.685Z"
   },
   {
    "duration": 101,
    "start_time": "2022-07-13T18:05:02.691Z"
   },
   {
    "duration": 50,
    "start_time": "2022-07-13T18:05:02.794Z"
   },
   {
    "duration": 124,
    "start_time": "2022-07-13T18:05:48.620Z"
   },
   {
    "duration": 2064,
    "start_time": "2022-07-13T18:05:48.747Z"
   },
   {
    "duration": 69,
    "start_time": "2022-07-13T18:05:50.814Z"
   },
   {
    "duration": 12,
    "start_time": "2022-07-13T18:05:50.886Z"
   },
   {
    "duration": 30,
    "start_time": "2022-07-13T18:05:50.900Z"
   },
   {
    "duration": 15,
    "start_time": "2022-07-13T18:05:50.932Z"
   },
   {
    "duration": 10,
    "start_time": "2022-07-13T18:05:50.949Z"
   },
   {
    "duration": 13,
    "start_time": "2022-07-13T18:05:50.961Z"
   },
   {
    "duration": 21,
    "start_time": "2022-07-13T18:05:50.976Z"
   },
   {
    "duration": 25,
    "start_time": "2022-07-13T18:05:50.999Z"
   },
   {
    "duration": 101,
    "start_time": "2022-07-13T18:05:51.026Z"
   },
   {
    "duration": 38,
    "start_time": "2022-07-13T18:05:51.129Z"
   },
   {
    "duration": 108,
    "start_time": "2022-07-13T18:06:37.739Z"
   },
   {
    "duration": 1999,
    "start_time": "2022-07-13T18:06:37.849Z"
   },
   {
    "duration": 57,
    "start_time": "2022-07-13T18:06:39.850Z"
   },
   {
    "duration": 12,
    "start_time": "2022-07-13T18:06:39.924Z"
   },
   {
    "duration": 9,
    "start_time": "2022-07-13T18:06:39.937Z"
   },
   {
    "duration": 15,
    "start_time": "2022-07-13T18:06:39.948Z"
   },
   {
    "duration": 11,
    "start_time": "2022-07-13T18:06:39.965Z"
   },
   {
    "duration": 10,
    "start_time": "2022-07-13T18:06:39.978Z"
   },
   {
    "duration": 46,
    "start_time": "2022-07-13T18:06:39.989Z"
   },
   {
    "duration": 7,
    "start_time": "2022-07-13T18:06:40.037Z"
   },
   {
    "duration": 552,
    "start_time": "2022-07-13T18:06:40.046Z"
   },
   {
    "duration": 43,
    "start_time": "2022-07-13T18:06:40.600Z"
   },
   {
    "duration": 35,
    "start_time": "2022-07-13T18:06:40.645Z"
   },
   {
    "duration": 113,
    "start_time": "2022-07-13T18:07:15.547Z"
   },
   {
    "duration": 2023,
    "start_time": "2022-07-13T18:07:15.662Z"
   },
   {
    "duration": 68,
    "start_time": "2022-07-13T18:07:17.686Z"
   },
   {
    "duration": 12,
    "start_time": "2022-07-13T18:07:17.756Z"
   },
   {
    "duration": 8,
    "start_time": "2022-07-13T18:07:17.770Z"
   },
   {
    "duration": 14,
    "start_time": "2022-07-13T18:07:17.780Z"
   },
   {
    "duration": 34,
    "start_time": "2022-07-13T18:07:17.796Z"
   },
   {
    "duration": 10,
    "start_time": "2022-07-13T18:07:17.832Z"
   },
   {
    "duration": 17,
    "start_time": "2022-07-13T18:07:17.844Z"
   },
   {
    "duration": 4,
    "start_time": "2022-07-13T18:07:17.864Z"
   },
   {
    "duration": 103,
    "start_time": "2022-07-13T18:07:17.870Z"
   },
   {
    "duration": 30,
    "start_time": "2022-07-13T18:07:17.975Z"
   },
   {
    "duration": 40,
    "start_time": "2022-07-13T18:07:18.007Z"
   },
   {
    "duration": 111,
    "start_time": "2022-07-13T18:14:59.416Z"
   },
   {
    "duration": 2411,
    "start_time": "2022-07-13T18:14:59.529Z"
   },
   {
    "duration": 56,
    "start_time": "2022-07-13T18:15:01.942Z"
   },
   {
    "duration": 28,
    "start_time": "2022-07-13T18:15:02.000Z"
   },
   {
    "duration": 9,
    "start_time": "2022-07-13T18:15:02.029Z"
   },
   {
    "duration": 20,
    "start_time": "2022-07-13T18:15:02.040Z"
   },
   {
    "duration": 10,
    "start_time": "2022-07-13T18:15:02.062Z"
   },
   {
    "duration": 9,
    "start_time": "2022-07-13T18:15:02.074Z"
   },
   {
    "duration": 38,
    "start_time": "2022-07-13T18:15:02.085Z"
   },
   {
    "duration": 7,
    "start_time": "2022-07-13T18:15:02.126Z"
   },
   {
    "duration": 101,
    "start_time": "2022-07-13T18:15:02.134Z"
   },
   {
    "duration": 33,
    "start_time": "2022-07-13T18:15:02.236Z"
   },
   {
    "duration": 32,
    "start_time": "2022-07-13T18:15:02.271Z"
   },
   {
    "duration": 267,
    "start_time": "2022-07-13T18:15:02.304Z"
   },
   {
    "duration": 115,
    "start_time": "2022-07-13T18:16:14.324Z"
   },
   {
    "duration": 1949,
    "start_time": "2022-07-13T18:16:14.441Z"
   },
   {
    "duration": 70,
    "start_time": "2022-07-13T18:16:16.392Z"
   },
   {
    "duration": 13,
    "start_time": "2022-07-13T18:16:16.464Z"
   },
   {
    "duration": 11,
    "start_time": "2022-07-13T18:16:16.479Z"
   },
   {
    "duration": 40,
    "start_time": "2022-07-13T18:16:16.492Z"
   },
   {
    "duration": 11,
    "start_time": "2022-07-13T18:16:16.534Z"
   },
   {
    "duration": 10,
    "start_time": "2022-07-13T18:16:16.546Z"
   },
   {
    "duration": 20,
    "start_time": "2022-07-13T18:16:16.557Z"
   },
   {
    "duration": 5,
    "start_time": "2022-07-13T18:16:16.579Z"
   },
   {
    "duration": 113,
    "start_time": "2022-07-13T18:16:16.586Z"
   },
   {
    "duration": 44,
    "start_time": "2022-07-13T18:16:16.701Z"
   },
   {
    "duration": 31,
    "start_time": "2022-07-13T18:16:16.747Z"
   },
   {
    "duration": 320,
    "start_time": "2022-07-13T18:16:16.780Z"
   },
   {
    "duration": 134,
    "start_time": "2022-07-13T18:16:35.936Z"
   },
   {
    "duration": 2055,
    "start_time": "2022-07-13T18:16:36.072Z"
   },
   {
    "duration": 68,
    "start_time": "2022-07-13T18:16:38.130Z"
   },
   {
    "duration": 28,
    "start_time": "2022-07-13T18:16:38.201Z"
   },
   {
    "duration": 11,
    "start_time": "2022-07-13T18:16:38.231Z"
   },
   {
    "duration": 15,
    "start_time": "2022-07-13T18:16:38.245Z"
   },
   {
    "duration": 10,
    "start_time": "2022-07-13T18:16:38.262Z"
   },
   {
    "duration": 11,
    "start_time": "2022-07-13T18:16:38.274Z"
   },
   {
    "duration": 50,
    "start_time": "2022-07-13T18:16:38.287Z"
   },
   {
    "duration": 5,
    "start_time": "2022-07-13T18:16:38.339Z"
   },
   {
    "duration": 579,
    "start_time": "2022-07-13T18:16:38.346Z"
   },
   {
    "duration": 40,
    "start_time": "2022-07-13T18:16:38.927Z"
   },
   {
    "duration": 65,
    "start_time": "2022-07-13T18:16:38.969Z"
   },
   {
    "duration": 292,
    "start_time": "2022-07-13T18:16:39.037Z"
   },
   {
    "duration": 30,
    "start_time": "2022-07-13T18:17:30.658Z"
   },
   {
    "duration": 114,
    "start_time": "2022-07-13T18:17:37.260Z"
   },
   {
    "duration": 2016,
    "start_time": "2022-07-13T18:17:37.376Z"
   },
   {
    "duration": 69,
    "start_time": "2022-07-13T18:17:39.394Z"
   },
   {
    "duration": 12,
    "start_time": "2022-07-13T18:17:39.465Z"
   },
   {
    "duration": 10,
    "start_time": "2022-07-13T18:17:39.479Z"
   },
   {
    "duration": 39,
    "start_time": "2022-07-13T18:17:39.491Z"
   },
   {
    "duration": 11,
    "start_time": "2022-07-13T18:17:39.532Z"
   },
   {
    "duration": 10,
    "start_time": "2022-07-13T18:17:39.545Z"
   },
   {
    "duration": 16,
    "start_time": "2022-07-13T18:17:39.557Z"
   },
   {
    "duration": 4,
    "start_time": "2022-07-13T18:17:39.577Z"
   },
   {
    "duration": 111,
    "start_time": "2022-07-13T18:17:39.583Z"
   },
   {
    "duration": 43,
    "start_time": "2022-07-13T18:17:39.696Z"
   },
   {
    "duration": 33,
    "start_time": "2022-07-13T18:17:39.742Z"
   },
   {
    "duration": 57,
    "start_time": "2022-07-13T18:17:39.778Z"
   },
   {
    "duration": 4,
    "start_time": "2022-07-13T18:25:58.101Z"
   },
   {
    "duration": 8,
    "start_time": "2022-07-13T18:26:03.834Z"
   },
   {
    "duration": 8,
    "start_time": "2022-07-13T18:26:15.418Z"
   },
   {
    "duration": 7,
    "start_time": "2022-07-13T18:26:28.021Z"
   },
   {
    "duration": 6,
    "start_time": "2022-07-13T18:27:21.309Z"
   },
   {
    "duration": 3,
    "start_time": "2022-07-13T18:27:37.593Z"
   },
   {
    "duration": 132,
    "start_time": "2022-07-13T18:28:02.799Z"
   },
   {
    "duration": 2332,
    "start_time": "2022-07-13T18:28:02.934Z"
   },
   {
    "duration": 75,
    "start_time": "2022-07-13T18:28:05.268Z"
   },
   {
    "duration": 13,
    "start_time": "2022-07-13T18:28:05.346Z"
   },
   {
    "duration": 11,
    "start_time": "2022-07-13T18:28:05.360Z"
   },
   {
    "duration": 29,
    "start_time": "2022-07-13T18:28:05.373Z"
   },
   {
    "duration": 21,
    "start_time": "2022-07-13T18:28:05.403Z"
   },
   {
    "duration": 10,
    "start_time": "2022-07-13T18:28:05.425Z"
   },
   {
    "duration": 19,
    "start_time": "2022-07-13T18:28:05.436Z"
   },
   {
    "duration": 5,
    "start_time": "2022-07-13T18:28:05.458Z"
   },
   {
    "duration": 100,
    "start_time": "2022-07-13T18:28:05.465Z"
   },
   {
    "duration": 35,
    "start_time": "2022-07-13T18:28:05.567Z"
   },
   {
    "duration": 45,
    "start_time": "2022-07-13T18:28:05.604Z"
   },
   {
    "duration": 31,
    "start_time": "2022-07-13T18:28:05.651Z"
   },
   {
    "duration": 496,
    "start_time": "2022-07-13T18:28:05.684Z"
   },
   {
    "duration": 746,
    "start_time": "2022-07-13T18:30:52.003Z"
   },
   {
    "duration": 9,
    "start_time": "2022-07-13T18:38:46.970Z"
   },
   {
    "duration": 9,
    "start_time": "2022-07-13T18:39:50.540Z"
   },
   {
    "duration": 131,
    "start_time": "2022-07-13T18:39:57.865Z"
   },
   {
    "duration": 172,
    "start_time": "2022-07-13T18:41:05.195Z"
   },
   {
    "duration": 233,
    "start_time": "2022-07-13T18:41:48.138Z"
   },
   {
    "duration": 698,
    "start_time": "2022-07-13T18:43:23.357Z"
   },
   {
    "duration": 50,
    "start_time": "2022-07-13T18:44:48.309Z"
   },
   {
    "duration": 707,
    "start_time": "2022-07-13T18:44:51.901Z"
   },
   {
    "duration": 878,
    "start_time": "2022-07-13T18:47:08.811Z"
   },
   {
    "duration": 815,
    "start_time": "2022-07-13T18:49:17.050Z"
   },
   {
    "duration": 729,
    "start_time": "2022-07-13T18:52:46.651Z"
   },
   {
    "duration": 721,
    "start_time": "2022-07-13T18:53:52.524Z"
   },
   {
    "duration": 649,
    "start_time": "2022-07-13T18:53:58.544Z"
   },
   {
    "duration": 23,
    "start_time": "2022-07-13T18:54:15.970Z"
   },
   {
    "duration": 679,
    "start_time": "2022-07-13T18:54:18.498Z"
   },
   {
    "duration": 719,
    "start_time": "2022-07-13T18:54:23.479Z"
   },
   {
    "duration": 15,
    "start_time": "2022-07-13T18:54:29.755Z"
   },
   {
    "duration": 702,
    "start_time": "2022-07-13T18:54:33.381Z"
   },
   {
    "duration": 14,
    "start_time": "2022-07-13T18:55:42.755Z"
   },
   {
    "duration": 725,
    "start_time": "2022-07-13T18:57:39.431Z"
   },
   {
    "duration": 760,
    "start_time": "2022-07-13T18:58:00.372Z"
   },
   {
    "duration": 120,
    "start_time": "2022-07-13T18:59:16.408Z"
   },
   {
    "duration": 108,
    "start_time": "2022-07-13T18:59:26.586Z"
   },
   {
    "duration": 54,
    "start_time": "2022-07-13T18:59:39.752Z"
   },
   {
    "duration": 724,
    "start_time": "2022-07-13T19:01:49.088Z"
   },
   {
    "duration": 17,
    "start_time": "2022-07-13T19:01:55.971Z"
   },
   {
    "duration": 774,
    "start_time": "2022-07-13T19:01:58.509Z"
   },
   {
    "duration": 299,
    "start_time": "2022-07-13T19:03:48.912Z"
   },
   {
    "duration": 724,
    "start_time": "2022-07-13T19:08:58.264Z"
   },
   {
    "duration": 109,
    "start_time": "2022-07-13T19:10:03.996Z"
   },
   {
    "duration": 11,
    "start_time": "2022-07-13T19:10:17.327Z"
   },
   {
    "duration": 736,
    "start_time": "2022-07-13T19:10:46.355Z"
   },
   {
    "duration": 1644,
    "start_time": "2022-07-13T19:10:54.191Z"
   },
   {
    "duration": 9,
    "start_time": "2022-07-13T19:11:37.645Z"
   },
   {
    "duration": 735,
    "start_time": "2022-07-13T19:12:39.517Z"
   },
   {
    "duration": 678,
    "start_time": "2022-07-13T19:19:34.050Z"
   },
   {
    "duration": 3,
    "start_time": "2022-07-13T19:22:22.897Z"
   },
   {
    "duration": 129,
    "start_time": "2022-07-13T19:23:04.196Z"
   },
   {
    "duration": 250,
    "start_time": "2022-07-13T19:23:44.108Z"
   },
   {
    "duration": 328,
    "start_time": "2022-07-13T19:23:55.783Z"
   },
   {
    "duration": 269,
    "start_time": "2022-07-13T19:24:01.708Z"
   },
   {
    "duration": 284,
    "start_time": "2022-07-13T19:24:12.518Z"
   },
   {
    "duration": 264,
    "start_time": "2022-07-13T19:24:20.013Z"
   },
   {
    "duration": 284,
    "start_time": "2022-07-13T19:24:24.413Z"
   },
   {
    "duration": 241,
    "start_time": "2022-07-13T19:24:28.455Z"
   },
   {
    "duration": 281,
    "start_time": "2022-07-13T19:25:19.224Z"
   },
   {
    "duration": 280,
    "start_time": "2022-07-13T19:25:41.711Z"
   },
   {
    "duration": 262,
    "start_time": "2022-07-13T19:25:58.252Z"
   },
   {
    "duration": 304,
    "start_time": "2022-07-13T19:26:05.589Z"
   },
   {
    "duration": 276,
    "start_time": "2022-07-13T19:26:18.078Z"
   },
   {
    "duration": 114,
    "start_time": "2022-07-13T19:26:37.479Z"
   },
   {
    "duration": 126,
    "start_time": "2022-07-13T19:26:42.613Z"
   },
   {
    "duration": 143,
    "start_time": "2022-07-13T19:26:50.540Z"
   },
   {
    "duration": 124,
    "start_time": "2022-07-13T19:26:54.501Z"
   },
   {
    "duration": 129,
    "start_time": "2022-07-13T19:27:48.178Z"
   },
   {
    "duration": 125,
    "start_time": "2022-07-13T19:27:54.023Z"
   },
   {
    "duration": 138,
    "start_time": "2022-07-13T19:28:00.623Z"
   },
   {
    "duration": 165,
    "start_time": "2022-07-13T19:29:09.153Z"
   },
   {
    "duration": 175,
    "start_time": "2022-07-13T19:29:18.572Z"
   },
   {
    "duration": 156,
    "start_time": "2022-07-13T19:29:33.644Z"
   },
   {
    "duration": 164,
    "start_time": "2022-07-13T19:29:37.873Z"
   },
   {
    "duration": 166,
    "start_time": "2022-07-13T19:29:44.179Z"
   },
   {
    "duration": 152,
    "start_time": "2022-07-13T19:29:53.167Z"
   },
   {
    "duration": 169,
    "start_time": "2022-07-13T19:31:14.517Z"
   },
   {
    "duration": 204,
    "start_time": "2022-07-13T19:32:15.235Z"
   },
   {
    "duration": 187,
    "start_time": "2022-07-13T19:38:48.185Z"
   },
   {
    "duration": 158,
    "start_time": "2022-07-13T19:49:26.621Z"
   },
   {
    "duration": 185,
    "start_time": "2022-07-13T19:49:32.601Z"
   },
   {
    "duration": 160,
    "start_time": "2022-07-13T19:49:36.193Z"
   },
   {
    "duration": 131,
    "start_time": "2022-07-13T19:49:47.402Z"
   },
   {
    "duration": 2155,
    "start_time": "2022-07-13T19:49:47.535Z"
   },
   {
    "duration": 70,
    "start_time": "2022-07-13T19:49:49.693Z"
   },
   {
    "duration": 15,
    "start_time": "2022-07-13T19:49:49.765Z"
   },
   {
    "duration": 14,
    "start_time": "2022-07-13T19:49:49.783Z"
   },
   {
    "duration": 44,
    "start_time": "2022-07-13T19:49:49.799Z"
   },
   {
    "duration": 17,
    "start_time": "2022-07-13T19:49:49.846Z"
   },
   {
    "duration": 9,
    "start_time": "2022-07-13T19:49:49.865Z"
   },
   {
    "duration": 28,
    "start_time": "2022-07-13T19:49:49.875Z"
   },
   {
    "duration": 5,
    "start_time": "2022-07-13T19:49:49.905Z"
   },
   {
    "duration": 77,
    "start_time": "2022-07-13T19:49:49.924Z"
   },
   {
    "duration": 49,
    "start_time": "2022-07-13T19:49:50.003Z"
   },
   {
    "duration": 29,
    "start_time": "2022-07-13T19:49:50.054Z"
   },
   {
    "duration": 69,
    "start_time": "2022-07-13T19:49:50.084Z"
   },
   {
    "duration": 12,
    "start_time": "2022-07-13T19:49:50.155Z"
   },
   {
    "duration": 202,
    "start_time": "2022-07-13T19:49:50.169Z"
   },
   {
    "duration": 185,
    "start_time": "2022-07-13T19:50:57.144Z"
   },
   {
    "duration": 195,
    "start_time": "2022-07-13T19:54:01.761Z"
   },
   {
    "duration": 202,
    "start_time": "2022-07-13T19:59:26.863Z"
   },
   {
    "duration": 206,
    "start_time": "2022-07-13T19:59:33.058Z"
   },
   {
    "duration": 208,
    "start_time": "2022-07-13T20:02:40.647Z"
   },
   {
    "duration": 257,
    "start_time": "2022-07-13T20:03:19.547Z"
   },
   {
    "duration": 196,
    "start_time": "2022-07-13T20:04:29.357Z"
   },
   {
    "duration": 253,
    "start_time": "2022-07-13T20:05:10.789Z"
   },
   {
    "duration": 230,
    "start_time": "2022-07-13T20:06:27.873Z"
   },
   {
    "duration": 218,
    "start_time": "2022-07-13T20:09:23.753Z"
   },
   {
    "duration": 231,
    "start_time": "2022-07-13T20:09:45.635Z"
   },
   {
    "duration": 238,
    "start_time": "2022-07-13T20:11:22.524Z"
   },
   {
    "duration": 222,
    "start_time": "2022-07-13T20:17:05.035Z"
   },
   {
    "duration": 25,
    "start_time": "2022-07-13T20:27:17.851Z"
   },
   {
    "duration": 447,
    "start_time": "2022-07-13T20:29:00.305Z"
   },
   {
    "duration": 10,
    "start_time": "2022-07-13T20:29:47.274Z"
   },
   {
    "duration": 10,
    "start_time": "2022-07-13T20:30:05.642Z"
   },
   {
    "duration": 10,
    "start_time": "2022-07-13T20:30:20.921Z"
   },
   {
    "duration": 40,
    "start_time": "2022-07-13T20:30:39.951Z"
   },
   {
    "duration": 9,
    "start_time": "2022-07-13T20:31:29.785Z"
   },
   {
    "duration": 49,
    "start_time": "2022-07-13T20:33:23.953Z"
   },
   {
    "duration": 53,
    "start_time": "2022-07-13T20:33:36.566Z"
   },
   {
    "duration": 8,
    "start_time": "2022-07-13T20:33:46.247Z"
   },
   {
    "duration": 9,
    "start_time": "2022-07-13T20:33:50.183Z"
   },
   {
    "duration": 21,
    "start_time": "2022-07-13T20:33:59.823Z"
   },
   {
    "duration": 108,
    "start_time": "2022-07-13T20:34:19.903Z"
   },
   {
    "duration": 1957,
    "start_time": "2022-07-13T20:34:20.013Z"
   },
   {
    "duration": 70,
    "start_time": "2022-07-13T20:34:21.973Z"
   },
   {
    "duration": 12,
    "start_time": "2022-07-13T20:34:22.046Z"
   },
   {
    "duration": 12,
    "start_time": "2022-07-13T20:34:22.060Z"
   },
   {
    "duration": 17,
    "start_time": "2022-07-13T20:34:22.074Z"
   },
   {
    "duration": 12,
    "start_time": "2022-07-13T20:34:22.125Z"
   },
   {
    "duration": 12,
    "start_time": "2022-07-13T20:34:22.138Z"
   },
   {
    "duration": 20,
    "start_time": "2022-07-13T20:34:22.151Z"
   },
   {
    "duration": 5,
    "start_time": "2022-07-13T20:34:22.175Z"
   },
   {
    "duration": 116,
    "start_time": "2022-07-13T20:34:22.182Z"
   },
   {
    "duration": 53,
    "start_time": "2022-07-13T20:34:22.300Z"
   },
   {
    "duration": 34,
    "start_time": "2022-07-13T20:34:22.355Z"
   },
   {
    "duration": 61,
    "start_time": "2022-07-13T20:34:22.391Z"
   },
   {
    "duration": 3,
    "start_time": "2022-07-13T20:34:22.454Z"
   },
   {
    "duration": 266,
    "start_time": "2022-07-13T20:34:22.458Z"
   },
   {
    "duration": 30,
    "start_time": "2022-07-13T20:34:22.726Z"
   },
   {
    "duration": 106,
    "start_time": "2022-07-13T20:34:45.670Z"
   },
   {
    "duration": 1897,
    "start_time": "2022-07-13T20:34:45.778Z"
   },
   {
    "duration": 66,
    "start_time": "2022-07-13T20:34:47.677Z"
   },
   {
    "duration": 12,
    "start_time": "2022-07-13T20:34:47.745Z"
   },
   {
    "duration": 9,
    "start_time": "2022-07-13T20:34:47.758Z"
   },
   {
    "duration": 14,
    "start_time": "2022-07-13T20:34:47.769Z"
   },
   {
    "duration": 41,
    "start_time": "2022-07-13T20:34:47.785Z"
   },
   {
    "duration": 9,
    "start_time": "2022-07-13T20:34:47.828Z"
   },
   {
    "duration": 16,
    "start_time": "2022-07-13T20:34:47.839Z"
   },
   {
    "duration": 4,
    "start_time": "2022-07-13T20:34:47.859Z"
   },
   {
    "duration": 104,
    "start_time": "2022-07-13T20:34:47.864Z"
   },
   {
    "duration": 34,
    "start_time": "2022-07-13T20:34:47.970Z"
   },
   {
    "duration": 34,
    "start_time": "2022-07-13T20:34:48.023Z"
   },
   {
    "duration": 32,
    "start_time": "2022-07-13T20:34:48.058Z"
   },
   {
    "duration": 32,
    "start_time": "2022-07-13T20:34:48.092Z"
   },
   {
    "duration": 255,
    "start_time": "2022-07-13T20:34:48.126Z"
   },
   {
    "duration": 42,
    "start_time": "2022-07-13T20:34:48.382Z"
   },
   {
    "duration": 30,
    "start_time": "2022-07-13T20:35:42.669Z"
   },
   {
    "duration": 38,
    "start_time": "2022-07-13T20:37:12.003Z"
   },
   {
    "duration": 30,
    "start_time": "2022-07-13T20:37:19.315Z"
   },
   {
    "duration": 132,
    "start_time": "2022-07-13T20:37:48.513Z"
   },
   {
    "duration": 3279,
    "start_time": "2022-07-13T20:37:48.647Z"
   },
   {
    "duration": 53,
    "start_time": "2022-07-13T20:37:51.928Z"
   },
   {
    "duration": 12,
    "start_time": "2022-07-13T20:37:51.983Z"
   },
   {
    "duration": 14,
    "start_time": "2022-07-13T20:37:52.023Z"
   },
   {
    "duration": 23,
    "start_time": "2022-07-13T20:37:52.039Z"
   },
   {
    "duration": 14,
    "start_time": "2022-07-13T20:37:52.064Z"
   },
   {
    "duration": 13,
    "start_time": "2022-07-13T20:37:52.080Z"
   },
   {
    "duration": 42,
    "start_time": "2022-07-13T20:37:52.095Z"
   },
   {
    "duration": 11,
    "start_time": "2022-07-13T20:37:52.140Z"
   },
   {
    "duration": 102,
    "start_time": "2022-07-13T20:37:52.154Z"
   },
   {
    "duration": 35,
    "start_time": "2022-07-13T20:37:52.260Z"
   },
   {
    "duration": 75,
    "start_time": "2022-07-13T20:37:52.297Z"
   },
   {
    "duration": 48,
    "start_time": "2022-07-13T20:37:52.374Z"
   },
   {
    "duration": 3,
    "start_time": "2022-07-13T20:37:52.425Z"
   },
   {
    "duration": 272,
    "start_time": "2022-07-13T20:37:52.429Z"
   },
   {
    "duration": 56,
    "start_time": "2022-07-13T20:37:52.704Z"
   },
   {
    "duration": 10,
    "start_time": "2022-07-13T20:38:37.447Z"
   },
   {
    "duration": 38,
    "start_time": "2022-07-13T20:38:41.124Z"
   },
   {
    "duration": 31,
    "start_time": "2022-07-13T20:38:47.346Z"
   },
   {
    "duration": 98,
    "start_time": "2022-07-13T20:39:15.760Z"
   },
   {
    "duration": 46,
    "start_time": "2022-07-13T20:39:20.181Z"
   },
   {
    "duration": 50,
    "start_time": "2022-07-13T20:39:46.349Z"
   },
   {
    "duration": 35,
    "start_time": "2022-07-13T20:40:11.601Z"
   },
   {
    "duration": 29,
    "start_time": "2022-07-13T20:40:34.752Z"
   },
   {
    "duration": 37,
    "start_time": "2022-07-13T20:40:38.599Z"
   },
   {
    "duration": 30,
    "start_time": "2022-07-13T20:40:52.986Z"
   },
   {
    "duration": 112,
    "start_time": "2022-07-13T20:41:03.085Z"
   },
   {
    "duration": 2026,
    "start_time": "2022-07-13T20:41:03.199Z"
   },
   {
    "duration": 53,
    "start_time": "2022-07-13T20:41:05.228Z"
   },
   {
    "duration": 47,
    "start_time": "2022-07-13T20:41:05.285Z"
   },
   {
    "duration": 11,
    "start_time": "2022-07-13T20:41:05.337Z"
   },
   {
    "duration": 18,
    "start_time": "2022-07-13T20:41:05.349Z"
   },
   {
    "duration": 16,
    "start_time": "2022-07-13T20:41:05.368Z"
   },
   {
    "duration": 9,
    "start_time": "2022-07-13T20:41:05.386Z"
   },
   {
    "duration": 23,
    "start_time": "2022-07-13T20:41:05.424Z"
   },
   {
    "duration": 5,
    "start_time": "2022-07-13T20:41:05.450Z"
   },
   {
    "duration": 121,
    "start_time": "2022-07-13T20:41:05.457Z"
   },
   {
    "duration": 47,
    "start_time": "2022-07-13T20:41:05.580Z"
   },
   {
    "duration": 39,
    "start_time": "2022-07-13T20:41:05.631Z"
   },
   {
    "duration": 67,
    "start_time": "2022-07-13T20:41:05.672Z"
   },
   {
    "duration": 4,
    "start_time": "2022-07-13T20:41:05.741Z"
   },
   {
    "duration": 284,
    "start_time": "2022-07-13T20:41:05.747Z"
   },
   {
    "duration": 35,
    "start_time": "2022-07-13T20:41:06.034Z"
   },
   {
    "duration": 12,
    "start_time": "2022-07-13T20:41:13.846Z"
   },
   {
    "duration": 8,
    "start_time": "2022-07-13T20:41:26.391Z"
   },
   {
    "duration": 31,
    "start_time": "2022-07-13T20:41:32.781Z"
   },
   {
    "duration": 30,
    "start_time": "2022-07-13T20:41:54.678Z"
   },
   {
    "duration": 30,
    "start_time": "2022-07-13T20:42:25.270Z"
   },
   {
    "duration": 35,
    "start_time": "2022-07-13T20:42:34.006Z"
   },
   {
    "duration": 39,
    "start_time": "2022-07-13T20:42:59.042Z"
   },
   {
    "duration": 32,
    "start_time": "2022-07-13T20:44:19.762Z"
   },
   {
    "duration": 36,
    "start_time": "2022-07-13T20:49:57.355Z"
   },
   {
    "duration": 15,
    "start_time": "2022-07-13T20:50:03.848Z"
   },
   {
    "duration": 20,
    "start_time": "2022-07-13T20:50:54.057Z"
   },
   {
    "duration": 45,
    "start_time": "2022-07-13T20:50:58.977Z"
   },
   {
    "duration": 28,
    "start_time": "2022-07-13T20:55:59.407Z"
   },
   {
    "duration": 37,
    "start_time": "2022-07-13T20:56:15.008Z"
   },
   {
    "duration": 37,
    "start_time": "2022-07-13T20:56:26.220Z"
   },
   {
    "duration": 60,
    "start_time": "2022-07-13T20:56:55.982Z"
   },
   {
    "duration": 46,
    "start_time": "2022-07-13T20:57:28.039Z"
   },
   {
    "duration": 35,
    "start_time": "2022-07-13T20:57:34.091Z"
   },
   {
    "duration": 111,
    "start_time": "2022-07-13T20:57:39.515Z"
   },
   {
    "duration": 1922,
    "start_time": "2022-07-13T20:57:39.629Z"
   },
   {
    "duration": 50,
    "start_time": "2022-07-13T20:57:41.553Z"
   },
   {
    "duration": 13,
    "start_time": "2022-07-13T20:57:41.622Z"
   },
   {
    "duration": 10,
    "start_time": "2022-07-13T20:57:41.637Z"
   },
   {
    "duration": 20,
    "start_time": "2022-07-13T20:57:41.649Z"
   },
   {
    "duration": 11,
    "start_time": "2022-07-13T20:57:41.671Z"
   },
   {
    "duration": 46,
    "start_time": "2022-07-13T20:57:41.684Z"
   },
   {
    "duration": 16,
    "start_time": "2022-07-13T20:57:41.732Z"
   },
   {
    "duration": 5,
    "start_time": "2022-07-13T20:57:41.750Z"
   },
   {
    "duration": 107,
    "start_time": "2022-07-13T20:57:41.757Z"
   },
   {
    "duration": 34,
    "start_time": "2022-07-13T20:57:41.866Z"
   },
   {
    "duration": 31,
    "start_time": "2022-07-13T20:57:41.923Z"
   },
   {
    "duration": 34,
    "start_time": "2022-07-13T20:57:41.955Z"
   },
   {
    "duration": 3,
    "start_time": "2022-07-13T20:57:41.991Z"
   },
   {
    "duration": 269,
    "start_time": "2022-07-13T20:57:41.996Z"
   },
   {
    "duration": 57,
    "start_time": "2022-07-13T20:57:42.267Z"
   },
   {
    "duration": 39,
    "start_time": "2022-07-13T21:06:07.612Z"
   },
   {
    "duration": 8,
    "start_time": "2022-07-13T21:07:00.544Z"
   },
   {
    "duration": 13,
    "start_time": "2022-07-13T21:08:48.916Z"
   },
   {
    "duration": 11,
    "start_time": "2022-07-13T21:08:53.516Z"
   },
   {
    "duration": 79,
    "start_time": "2022-07-13T21:09:11.736Z"
   },
   {
    "duration": 227,
    "start_time": "2022-07-13T21:10:08.364Z"
   },
   {
    "duration": 246,
    "start_time": "2022-07-13T21:10:15.192Z"
   },
   {
    "duration": 267,
    "start_time": "2022-07-13T21:11:32.508Z"
   },
   {
    "duration": 279,
    "start_time": "2022-07-13T21:12:01.188Z"
   },
   {
    "duration": 69,
    "start_time": "2022-07-13T21:12:22.416Z"
   },
   {
    "duration": 263,
    "start_time": "2022-07-13T21:12:34.485Z"
   },
   {
    "duration": 110,
    "start_time": "2022-07-13T21:13:00.267Z"
   },
   {
    "duration": 2046,
    "start_time": "2022-07-13T21:13:00.380Z"
   },
   {
    "duration": 48,
    "start_time": "2022-07-13T21:13:02.427Z"
   },
   {
    "duration": 11,
    "start_time": "2022-07-13T21:13:02.477Z"
   },
   {
    "duration": 36,
    "start_time": "2022-07-13T21:13:02.490Z"
   },
   {
    "duration": 15,
    "start_time": "2022-07-13T21:13:02.528Z"
   },
   {
    "duration": 10,
    "start_time": "2022-07-13T21:13:02.546Z"
   },
   {
    "duration": 10,
    "start_time": "2022-07-13T21:13:02.558Z"
   },
   {
    "duration": 57,
    "start_time": "2022-07-13T21:13:02.569Z"
   },
   {
    "duration": 5,
    "start_time": "2022-07-13T21:13:02.630Z"
   },
   {
    "duration": 91,
    "start_time": "2022-07-13T21:13:02.637Z"
   },
   {
    "duration": 31,
    "start_time": "2022-07-13T21:13:02.730Z"
   },
   {
    "duration": 31,
    "start_time": "2022-07-13T21:13:02.763Z"
   },
   {
    "duration": 32,
    "start_time": "2022-07-13T21:13:02.822Z"
   },
   {
    "duration": 3,
    "start_time": "2022-07-13T21:13:02.855Z"
   },
   {
    "duration": 279,
    "start_time": "2022-07-13T21:13:02.860Z"
   },
   {
    "duration": 12,
    "start_time": "2022-07-13T21:13:03.141Z"
   },
   {
    "duration": 120,
    "start_time": "2022-07-13T21:14:00.653Z"
   },
   {
    "duration": 1959,
    "start_time": "2022-07-13T21:14:00.776Z"
   },
   {
    "duration": 50,
    "start_time": "2022-07-13T21:14:02.737Z"
   },
   {
    "duration": 39,
    "start_time": "2022-07-13T21:14:02.789Z"
   },
   {
    "duration": 10,
    "start_time": "2022-07-13T21:14:02.830Z"
   },
   {
    "duration": 19,
    "start_time": "2022-07-13T21:14:02.841Z"
   },
   {
    "duration": 10,
    "start_time": "2022-07-13T21:14:02.862Z"
   },
   {
    "duration": 10,
    "start_time": "2022-07-13T21:14:02.874Z"
   },
   {
    "duration": 46,
    "start_time": "2022-07-13T21:14:02.886Z"
   },
   {
    "duration": 5,
    "start_time": "2022-07-13T21:14:02.934Z"
   },
   {
    "duration": 108,
    "start_time": "2022-07-13T21:14:02.941Z"
   },
   {
    "duration": 33,
    "start_time": "2022-07-13T21:14:03.051Z"
   },
   {
    "duration": 57,
    "start_time": "2022-07-13T21:14:03.086Z"
   },
   {
    "duration": 32,
    "start_time": "2022-07-13T21:14:03.145Z"
   },
   {
    "duration": 3,
    "start_time": "2022-07-13T21:14:03.179Z"
   },
   {
    "duration": 275,
    "start_time": "2022-07-13T21:14:03.184Z"
   },
   {
    "duration": 9,
    "start_time": "2022-07-13T21:14:03.460Z"
   },
   {
    "duration": 118,
    "start_time": "2022-07-13T21:14:34.565Z"
   },
   {
    "duration": 111,
    "start_time": "2022-07-13T21:15:05.696Z"
   },
   {
    "duration": 45,
    "start_time": "2022-07-13T21:22:25.491Z"
   },
   {
    "duration": 6,
    "start_time": "2022-07-13T21:26:26.440Z"
   },
   {
    "duration": 96,
    "start_time": "2022-07-13T21:26:35.015Z"
   },
   {
    "duration": 102,
    "start_time": "2022-07-13T21:26:42.968Z"
   },
   {
    "duration": 118,
    "start_time": "2022-07-13T21:27:07.906Z"
   },
   {
    "duration": 2026,
    "start_time": "2022-07-13T21:27:08.027Z"
   },
   {
    "duration": 76,
    "start_time": "2022-07-13T21:27:10.055Z"
   },
   {
    "duration": 13,
    "start_time": "2022-07-13T21:27:10.134Z"
   },
   {
    "duration": 11,
    "start_time": "2022-07-13T21:27:10.149Z"
   },
   {
    "duration": 22,
    "start_time": "2022-07-13T21:27:10.161Z"
   },
   {
    "duration": 38,
    "start_time": "2022-07-13T21:27:10.186Z"
   },
   {
    "duration": 12,
    "start_time": "2022-07-13T21:27:10.226Z"
   },
   {
    "duration": 26,
    "start_time": "2022-07-13T21:27:10.240Z"
   },
   {
    "duration": 6,
    "start_time": "2022-07-13T21:27:10.269Z"
   },
   {
    "duration": 135,
    "start_time": "2022-07-13T21:27:10.277Z"
   },
   {
    "duration": 35,
    "start_time": "2022-07-13T21:27:10.414Z"
   },
   {
    "duration": 32,
    "start_time": "2022-07-13T21:27:10.451Z"
   },
   {
    "duration": 65,
    "start_time": "2022-07-13T21:27:10.485Z"
   },
   {
    "duration": 3,
    "start_time": "2022-07-13T21:27:10.552Z"
   },
   {
    "duration": 245,
    "start_time": "2022-07-13T21:27:10.557Z"
   },
   {
    "duration": 27,
    "start_time": "2022-07-13T21:27:10.803Z"
   },
   {
    "duration": 131,
    "start_time": "2022-07-13T21:27:10.831Z"
   },
   {
    "duration": 142,
    "start_time": "2022-07-13T21:27:10.964Z"
   },
   {
    "duration": 6,
    "start_time": "2022-07-13T21:27:45.310Z"
   },
   {
    "duration": 128,
    "start_time": "2022-07-13T21:29:32.234Z"
   },
   {
    "duration": 132,
    "start_time": "2022-07-13T21:30:49.223Z"
   },
   {
    "duration": 119,
    "start_time": "2022-07-13T21:33:47.998Z"
   },
   {
    "duration": 37,
    "start_time": "2022-07-13T21:35:02.673Z"
   },
   {
    "duration": 35,
    "start_time": "2022-07-13T21:36:29.097Z"
   },
   {
    "duration": 55,
    "start_time": "2022-07-13T21:37:37.731Z"
   },
   {
    "duration": 42,
    "start_time": "2022-07-13T21:38:20.356Z"
   },
   {
    "duration": 54,
    "start_time": "2022-07-13T21:41:32.746Z"
   },
   {
    "duration": 271,
    "start_time": "2022-07-13T21:45:41.236Z"
   },
   {
    "duration": 371,
    "start_time": "2022-07-13T21:45:49.152Z"
   },
   {
    "duration": 2628,
    "start_time": "2022-07-13T21:46:05.519Z"
   },
   {
    "duration": 272,
    "start_time": "2022-07-13T21:46:31.647Z"
   },
   {
    "duration": 390,
    "start_time": "2022-07-13T21:46:39.040Z"
   },
   {
    "duration": 33,
    "start_time": "2022-07-13T21:50:55.510Z"
   },
   {
    "duration": 44,
    "start_time": "2022-07-13T21:56:19.994Z"
   },
   {
    "duration": 25,
    "start_time": "2022-07-13T21:57:11.933Z"
   },
   {
    "duration": 108,
    "start_time": "2022-07-13T21:58:11.958Z"
   },
   {
    "duration": 1903,
    "start_time": "2022-07-13T21:58:12.068Z"
   },
   {
    "duration": 69,
    "start_time": "2022-07-13T21:58:13.973Z"
   },
   {
    "duration": 12,
    "start_time": "2022-07-13T21:58:14.045Z"
   },
   {
    "duration": 10,
    "start_time": "2022-07-13T21:58:14.058Z"
   },
   {
    "duration": 20,
    "start_time": "2022-07-13T21:58:14.070Z"
   },
   {
    "duration": 32,
    "start_time": "2022-07-13T21:58:14.093Z"
   },
   {
    "duration": 10,
    "start_time": "2022-07-13T21:58:14.127Z"
   },
   {
    "duration": 28,
    "start_time": "2022-07-13T21:58:14.138Z"
   },
   {
    "duration": 5,
    "start_time": "2022-07-13T21:58:14.168Z"
   },
   {
    "duration": 93,
    "start_time": "2022-07-13T21:58:14.175Z"
   },
   {
    "duration": 32,
    "start_time": "2022-07-13T21:58:14.269Z"
   },
   {
    "duration": 50,
    "start_time": "2022-07-13T21:58:14.302Z"
   },
   {
    "duration": 32,
    "start_time": "2022-07-13T21:58:14.353Z"
   },
   {
    "duration": 37,
    "start_time": "2022-07-13T21:58:14.387Z"
   },
   {
    "duration": 245,
    "start_time": "2022-07-13T21:58:14.426Z"
   },
   {
    "duration": 10,
    "start_time": "2022-07-13T21:58:14.673Z"
   },
   {
    "duration": 147,
    "start_time": "2022-07-13T21:58:14.685Z"
   },
   {
    "duration": 6,
    "start_time": "2022-07-13T21:58:14.834Z"
   },
   {
    "duration": 145,
    "start_time": "2022-07-13T21:58:14.842Z"
   },
   {
    "duration": 137,
    "start_time": "2022-07-13T21:58:14.989Z"
   },
   {
    "duration": 19,
    "start_time": "2022-07-13T21:58:15.128Z"
   },
   {
    "duration": 9,
    "start_time": "2022-07-13T21:59:03.709Z"
   },
   {
    "duration": 20,
    "start_time": "2022-07-13T21:59:22.941Z"
   },
   {
    "duration": 107,
    "start_time": "2022-07-13T22:01:10.398Z"
   },
   {
    "duration": 1903,
    "start_time": "2022-07-13T22:01:10.507Z"
   },
   {
    "duration": 63,
    "start_time": "2022-07-13T22:01:12.413Z"
   },
   {
    "duration": 12,
    "start_time": "2022-07-13T22:01:12.478Z"
   },
   {
    "duration": 37,
    "start_time": "2022-07-13T22:01:12.492Z"
   },
   {
    "duration": 16,
    "start_time": "2022-07-13T22:01:12.530Z"
   },
   {
    "duration": 10,
    "start_time": "2022-07-13T22:01:12.548Z"
   },
   {
    "duration": 10,
    "start_time": "2022-07-13T22:01:12.560Z"
   },
   {
    "duration": 18,
    "start_time": "2022-07-13T22:01:12.572Z"
   },
   {
    "duration": 6,
    "start_time": "2022-07-13T22:01:12.623Z"
   },
   {
    "duration": 99,
    "start_time": "2022-07-13T22:01:12.631Z"
   },
   {
    "duration": 35,
    "start_time": "2022-07-13T22:01:12.732Z"
   },
   {
    "duration": 66,
    "start_time": "2022-07-13T22:01:12.769Z"
   },
   {
    "duration": 38,
    "start_time": "2022-07-13T22:01:12.837Z"
   },
   {
    "duration": 3,
    "start_time": "2022-07-13T22:01:12.877Z"
   },
   {
    "duration": 290,
    "start_time": "2022-07-13T22:01:12.882Z"
   },
   {
    "duration": 9,
    "start_time": "2022-07-13T22:01:13.174Z"
   },
   {
    "duration": 144,
    "start_time": "2022-07-13T22:01:13.185Z"
   },
   {
    "duration": 6,
    "start_time": "2022-07-13T22:01:13.331Z"
   },
   {
    "duration": 154,
    "start_time": "2022-07-13T22:01:13.338Z"
   },
   {
    "duration": 152,
    "start_time": "2022-07-13T22:01:13.494Z"
   },
   {
    "duration": 151,
    "start_time": "2022-07-13T22:01:13.648Z"
   },
   {
    "duration": 12,
    "start_time": "2022-07-13T22:01:53.545Z"
   },
   {
    "duration": 114,
    "start_time": "2022-07-13T22:02:09.532Z"
   },
   {
    "duration": 1894,
    "start_time": "2022-07-13T22:02:09.648Z"
   },
   {
    "duration": 51,
    "start_time": "2022-07-13T22:02:11.543Z"
   },
   {
    "duration": 31,
    "start_time": "2022-07-13T22:02:11.596Z"
   },
   {
    "duration": 9,
    "start_time": "2022-07-13T22:02:11.629Z"
   },
   {
    "duration": 15,
    "start_time": "2022-07-13T22:02:11.640Z"
   },
   {
    "duration": 10,
    "start_time": "2022-07-13T22:02:11.656Z"
   },
   {
    "duration": 10,
    "start_time": "2022-07-13T22:02:11.667Z"
   },
   {
    "duration": 46,
    "start_time": "2022-07-13T22:02:11.678Z"
   },
   {
    "duration": 5,
    "start_time": "2022-07-13T22:02:11.727Z"
   },
   {
    "duration": 89,
    "start_time": "2022-07-13T22:02:11.734Z"
   },
   {
    "duration": 34,
    "start_time": "2022-07-13T22:02:11.825Z"
   },
   {
    "duration": 32,
    "start_time": "2022-07-13T22:02:11.861Z"
   },
   {
    "duration": 35,
    "start_time": "2022-07-13T22:02:11.924Z"
   },
   {
    "duration": 3,
    "start_time": "2022-07-13T22:02:11.960Z"
   },
   {
    "duration": 235,
    "start_time": "2022-07-13T22:02:11.965Z"
   },
   {
    "duration": 27,
    "start_time": "2022-07-13T22:02:12.202Z"
   },
   {
    "duration": 128,
    "start_time": "2022-07-13T22:02:12.231Z"
   },
   {
    "duration": 6,
    "start_time": "2022-07-13T22:02:12.361Z"
   },
   {
    "duration": 138,
    "start_time": "2022-07-13T22:02:12.369Z"
   },
   {
    "duration": 130,
    "start_time": "2022-07-13T22:02:12.508Z"
   },
   {
    "duration": 43,
    "start_time": "2022-07-13T22:02:12.639Z"
   },
   {
    "duration": 107,
    "start_time": "2022-07-13T22:02:32.655Z"
   },
   {
    "duration": 1795,
    "start_time": "2022-07-13T22:02:32.764Z"
   },
   {
    "duration": 50,
    "start_time": "2022-07-13T22:02:34.560Z"
   },
   {
    "duration": 11,
    "start_time": "2022-07-13T22:02:34.623Z"
   },
   {
    "duration": 8,
    "start_time": "2022-07-13T22:02:34.636Z"
   },
   {
    "duration": 16,
    "start_time": "2022-07-13T22:02:34.646Z"
   },
   {
    "duration": 9,
    "start_time": "2022-07-13T22:02:34.664Z"
   },
   {
    "duration": 9,
    "start_time": "2022-07-13T22:02:34.675Z"
   },
   {
    "duration": 44,
    "start_time": "2022-07-13T22:02:34.685Z"
   },
   {
    "duration": 4,
    "start_time": "2022-07-13T22:02:34.732Z"
   },
   {
    "duration": 87,
    "start_time": "2022-07-13T22:02:34.737Z"
   },
   {
    "duration": 31,
    "start_time": "2022-07-13T22:02:34.826Z"
   },
   {
    "duration": 29,
    "start_time": "2022-07-13T22:02:34.858Z"
   },
   {
    "duration": 59,
    "start_time": "2022-07-13T22:02:34.889Z"
   },
   {
    "duration": 3,
    "start_time": "2022-07-13T22:02:34.950Z"
   },
   {
    "duration": 232,
    "start_time": "2022-07-13T22:02:34.955Z"
   },
   {
    "duration": 9,
    "start_time": "2022-07-13T22:02:35.189Z"
   },
   {
    "duration": 131,
    "start_time": "2022-07-13T22:02:35.200Z"
   },
   {
    "duration": 6,
    "start_time": "2022-07-13T22:02:35.332Z"
   },
   {
    "duration": 128,
    "start_time": "2022-07-13T22:02:35.339Z"
   },
   {
    "duration": 121,
    "start_time": "2022-07-13T22:02:35.468Z"
   },
   {
    "duration": 54,
    "start_time": "2022-07-13T22:02:35.590Z"
   },
   {
    "duration": 32,
    "start_time": "2022-07-13T22:03:52.904Z"
   },
   {
    "duration": 52,
    "start_time": "2022-07-13T22:04:05.602Z"
   },
   {
    "duration": 40,
    "start_time": "2022-07-13T22:04:33.010Z"
   },
   {
    "duration": 123,
    "start_time": "2022-07-13T22:07:08.339Z"
   },
   {
    "duration": 3099,
    "start_time": "2022-07-13T22:07:08.464Z"
   },
   {
    "duration": 78,
    "start_time": "2022-07-13T22:07:11.565Z"
   },
   {
    "duration": 14,
    "start_time": "2022-07-13T22:07:11.645Z"
   },
   {
    "duration": 12,
    "start_time": "2022-07-13T22:07:11.660Z"
   },
   {
    "duration": 15,
    "start_time": "2022-07-13T22:07:11.674Z"
   },
   {
    "duration": 42,
    "start_time": "2022-07-13T22:07:11.691Z"
   },
   {
    "duration": 14,
    "start_time": "2022-07-13T22:07:11.735Z"
   },
   {
    "duration": 25,
    "start_time": "2022-07-13T22:07:11.751Z"
   },
   {
    "duration": 6,
    "start_time": "2022-07-13T22:07:11.779Z"
   },
   {
    "duration": 122,
    "start_time": "2022-07-13T22:07:11.787Z"
   },
   {
    "duration": 36,
    "start_time": "2022-07-13T22:07:11.923Z"
   },
   {
    "duration": 38,
    "start_time": "2022-07-13T22:07:11.961Z"
   },
   {
    "duration": 32,
    "start_time": "2022-07-13T22:07:12.024Z"
   },
   {
    "duration": 2,
    "start_time": "2022-07-13T22:07:12.058Z"
   },
   {
    "duration": 273,
    "start_time": "2022-07-13T22:07:12.062Z"
   },
   {
    "duration": 10,
    "start_time": "2022-07-13T22:07:12.337Z"
   },
   {
    "duration": 137,
    "start_time": "2022-07-13T22:07:12.348Z"
   },
   {
    "duration": 7,
    "start_time": "2022-07-13T22:07:12.487Z"
   },
   {
    "duration": 162,
    "start_time": "2022-07-13T22:07:12.496Z"
   },
   {
    "duration": 143,
    "start_time": "2022-07-13T22:07:12.661Z"
   },
   {
    "duration": 162,
    "start_time": "2022-07-13T22:07:12.806Z"
   },
   {
    "duration": 109,
    "start_time": "2022-07-13T22:09:08.881Z"
   },
   {
    "duration": 1868,
    "start_time": "2022-07-13T22:09:08.992Z"
   },
   {
    "duration": 66,
    "start_time": "2022-07-13T22:09:10.862Z"
   },
   {
    "duration": 13,
    "start_time": "2022-07-13T22:09:10.931Z"
   },
   {
    "duration": 9,
    "start_time": "2022-07-13T22:09:10.946Z"
   },
   {
    "duration": 18,
    "start_time": "2022-07-13T22:09:10.957Z"
   },
   {
    "duration": 10,
    "start_time": "2022-07-13T22:09:10.977Z"
   },
   {
    "duration": 42,
    "start_time": "2022-07-13T22:09:10.989Z"
   },
   {
    "duration": 20,
    "start_time": "2022-07-13T22:09:11.033Z"
   },
   {
    "duration": 5,
    "start_time": "2022-07-13T22:09:11.056Z"
   },
   {
    "duration": 104,
    "start_time": "2022-07-13T22:09:11.062Z"
   },
   {
    "duration": 33,
    "start_time": "2022-07-13T22:09:11.168Z"
   },
   {
    "duration": 51,
    "start_time": "2022-07-13T22:09:11.203Z"
   },
   {
    "duration": 32,
    "start_time": "2022-07-13T22:09:11.255Z"
   },
   {
    "duration": 3,
    "start_time": "2022-07-13T22:09:11.289Z"
   },
   {
    "duration": 273,
    "start_time": "2022-07-13T22:09:11.293Z"
   },
   {
    "duration": 13,
    "start_time": "2022-07-13T22:09:11.568Z"
   },
   {
    "duration": 154,
    "start_time": "2022-07-13T22:09:11.583Z"
   },
   {
    "duration": 8,
    "start_time": "2022-07-13T22:09:11.739Z"
   },
   {
    "duration": 146,
    "start_time": "2022-07-13T22:09:11.749Z"
   },
   {
    "duration": 141,
    "start_time": "2022-07-13T22:09:11.897Z"
   },
   {
    "duration": 11,
    "start_time": "2022-07-13T22:09:12.039Z"
   },
   {
    "duration": 153,
    "start_time": "2022-07-13T22:09:12.052Z"
   },
   {
    "duration": 47,
    "start_time": "2022-07-13T22:10:29.005Z"
   },
   {
    "duration": 25,
    "start_time": "2022-07-13T22:10:33.430Z"
   },
   {
    "duration": 37,
    "start_time": "2022-07-13T22:12:00.644Z"
   },
   {
    "duration": 40,
    "start_time": "2022-07-13T22:12:25.138Z"
   },
   {
    "duration": 36,
    "start_time": "2022-07-13T22:16:47.867Z"
   },
   {
    "duration": 26,
    "start_time": "2022-07-13T22:16:56.407Z"
   },
   {
    "duration": 27,
    "start_time": "2022-07-13T22:21:04.242Z"
   },
   {
    "duration": 26,
    "start_time": "2022-07-13T22:22:16.135Z"
   },
   {
    "duration": 64,
    "start_time": "2022-07-13T22:22:45.931Z"
   },
   {
    "duration": 52,
    "start_time": "2022-07-13T22:22:51.265Z"
   },
   {
    "duration": 29,
    "start_time": "2022-07-13T22:22:56.562Z"
   },
   {
    "duration": 58,
    "start_time": "2022-07-13T22:23:08.660Z"
   },
   {
    "duration": 50,
    "start_time": "2022-07-13T22:23:11.596Z"
   },
   {
    "duration": 26,
    "start_time": "2022-07-13T22:23:17.113Z"
   },
   {
    "duration": 41,
    "start_time": "2022-07-13T22:23:24.941Z"
   },
   {
    "duration": 26,
    "start_time": "2022-07-13T22:23:55.709Z"
   },
   {
    "duration": 28,
    "start_time": "2022-07-13T22:24:15.893Z"
   },
   {
    "duration": 28,
    "start_time": "2022-07-13T22:25:45.492Z"
   },
   {
    "duration": 57,
    "start_time": "2022-07-13T22:25:59.181Z"
   },
   {
    "duration": 53,
    "start_time": "2022-07-13T22:27:39.414Z"
   },
   {
    "duration": 53,
    "start_time": "2022-07-13T22:29:52.221Z"
   },
   {
    "duration": 8,
    "start_time": "2022-07-13T22:30:38.956Z"
   },
   {
    "duration": 113,
    "start_time": "2022-07-13T22:31:14.446Z"
   },
   {
    "duration": 25,
    "start_time": "2022-07-13T22:31:45.541Z"
   },
   {
    "duration": 41,
    "start_time": "2022-07-13T22:32:09.718Z"
   },
   {
    "duration": 34,
    "start_time": "2022-07-13T22:32:15.853Z"
   },
   {
    "duration": 51,
    "start_time": "2022-07-13T22:32:18.856Z"
   },
   {
    "duration": 35,
    "start_time": "2022-07-13T22:32:21.853Z"
   },
   {
    "duration": 18,
    "start_time": "2022-07-13T22:32:26.361Z"
   },
   {
    "duration": 35,
    "start_time": "2022-07-13T22:32:36.445Z"
   },
   {
    "duration": 27,
    "start_time": "2022-07-13T22:32:39.252Z"
   },
   {
    "duration": 25,
    "start_time": "2022-07-13T22:32:54.026Z"
   },
   {
    "duration": 19,
    "start_time": "2022-07-13T22:34:23.140Z"
   },
   {
    "duration": 35,
    "start_time": "2022-07-13T22:34:25.877Z"
   },
   {
    "duration": 39,
    "start_time": "2022-07-13T22:38:48.188Z"
   },
   {
    "duration": 125,
    "start_time": "2022-07-13T22:39:10.999Z"
   },
   {
    "duration": 1947,
    "start_time": "2022-07-13T22:39:11.126Z"
   },
   {
    "duration": 71,
    "start_time": "2022-07-13T22:39:13.074Z"
   },
   {
    "duration": 13,
    "start_time": "2022-07-13T22:39:13.147Z"
   },
   {
    "duration": 16,
    "start_time": "2022-07-13T22:39:13.162Z"
   },
   {
    "duration": 42,
    "start_time": "2022-07-13T22:39:13.181Z"
   },
   {
    "duration": 10,
    "start_time": "2022-07-13T22:39:13.226Z"
   },
   {
    "duration": 21,
    "start_time": "2022-07-13T22:39:13.238Z"
   },
   {
    "duration": 32,
    "start_time": "2022-07-13T22:39:13.262Z"
   },
   {
    "duration": 6,
    "start_time": "2022-07-13T22:39:13.298Z"
   },
   {
    "duration": 132,
    "start_time": "2022-07-13T22:39:13.306Z"
   },
   {
    "duration": 51,
    "start_time": "2022-07-13T22:39:13.440Z"
   },
   {
    "duration": 68,
    "start_time": "2022-07-13T22:39:13.494Z"
   },
   {
    "duration": 70,
    "start_time": "2022-07-13T22:39:13.564Z"
   },
   {
    "duration": 3,
    "start_time": "2022-07-13T22:39:13.637Z"
   },
   {
    "duration": 260,
    "start_time": "2022-07-13T22:39:13.642Z"
   },
   {
    "duration": 28,
    "start_time": "2022-07-13T22:39:13.904Z"
   },
   {
    "duration": 139,
    "start_time": "2022-07-13T22:39:13.934Z"
   },
   {
    "duration": 6,
    "start_time": "2022-07-13T22:39:14.075Z"
   },
   {
    "duration": 207,
    "start_time": "2022-07-13T22:39:14.083Z"
   },
   {
    "duration": 136,
    "start_time": "2022-07-13T22:39:14.292Z"
   },
   {
    "duration": 19,
    "start_time": "2022-07-13T22:39:14.430Z"
   },
   {
    "duration": 217,
    "start_time": "2022-07-13T22:39:14.451Z"
   },
   {
    "duration": 81,
    "start_time": "2022-07-13T22:39:14.670Z"
   },
   {
    "duration": 6,
    "start_time": "2022-07-13T22:39:14.753Z"
   },
   {
    "duration": 145,
    "start_time": "2022-07-13T22:39:14.761Z"
   },
   {
    "duration": 22,
    "start_time": "2022-07-13T22:39:14.908Z"
   },
   {
    "duration": 100,
    "start_time": "2022-07-13T23:07:49.991Z"
   },
   {
    "duration": 61,
    "start_time": "2022-07-13T23:09:38.389Z"
   },
   {
    "duration": 409,
    "start_time": "2022-07-13T23:10:09.970Z"
   },
   {
    "duration": 849,
    "start_time": "2022-07-13T23:10:29.627Z"
   },
   {
    "duration": 734,
    "start_time": "2022-07-13T23:10:37.345Z"
   },
   {
    "duration": 1330,
    "start_time": "2022-07-13T23:11:14.865Z"
   },
   {
    "duration": 294,
    "start_time": "2022-07-13T23:11:34.185Z"
   },
   {
    "duration": 402,
    "start_time": "2022-07-13T23:11:49.353Z"
   },
   {
    "duration": 447,
    "start_time": "2022-07-13T23:14:15.926Z"
   },
   {
    "duration": 359,
    "start_time": "2022-07-13T23:14:28.647Z"
   },
   {
    "duration": 315,
    "start_time": "2022-07-13T23:20:14.642Z"
   },
   {
    "duration": 318,
    "start_time": "2022-07-13T23:20:36.392Z"
   },
   {
    "duration": 316,
    "start_time": "2022-07-13T23:20:51.957Z"
   },
   {
    "duration": 317,
    "start_time": "2022-07-13T23:21:54.327Z"
   },
   {
    "duration": 339,
    "start_time": "2022-07-13T23:22:35.580Z"
   },
   {
    "duration": 5,
    "start_time": "2022-07-13T23:24:12.139Z"
   },
   {
    "duration": 342,
    "start_time": "2022-07-13T23:24:20.616Z"
   },
   {
    "duration": 346,
    "start_time": "2022-07-13T23:25:04.642Z"
   },
   {
    "duration": 348,
    "start_time": "2022-07-13T23:25:27.498Z"
   },
   {
    "duration": 347,
    "start_time": "2022-07-13T23:25:49.420Z"
   },
   {
    "duration": 136,
    "start_time": "2022-07-13T23:25:53.913Z"
   },
   {
    "duration": 2890,
    "start_time": "2022-07-13T23:25:54.052Z"
   },
   {
    "duration": 49,
    "start_time": "2022-07-13T23:25:56.944Z"
   },
   {
    "duration": 32,
    "start_time": "2022-07-13T23:25:56.996Z"
   },
   {
    "duration": 11,
    "start_time": "2022-07-13T23:25:57.030Z"
   },
   {
    "duration": 17,
    "start_time": "2022-07-13T23:25:57.043Z"
   },
   {
    "duration": 11,
    "start_time": "2022-07-13T23:25:57.062Z"
   },
   {
    "duration": 9,
    "start_time": "2022-07-13T23:25:57.075Z"
   },
   {
    "duration": 14,
    "start_time": "2022-07-13T23:25:57.124Z"
   },
   {
    "duration": 5,
    "start_time": "2022-07-13T23:25:57.142Z"
   },
   {
    "duration": 106,
    "start_time": "2022-07-13T23:25:57.149Z"
   },
   {
    "duration": 35,
    "start_time": "2022-07-13T23:25:57.257Z"
   },
   {
    "duration": 56,
    "start_time": "2022-07-13T23:25:57.294Z"
   },
   {
    "duration": 34,
    "start_time": "2022-07-13T23:25:57.352Z"
   },
   {
    "duration": 3,
    "start_time": "2022-07-13T23:25:57.387Z"
   },
   {
    "duration": 296,
    "start_time": "2022-07-13T23:25:57.391Z"
   },
   {
    "duration": 36,
    "start_time": "2022-07-13T23:25:57.689Z"
   },
   {
    "duration": 130,
    "start_time": "2022-07-13T23:25:57.727Z"
   },
   {
    "duration": 7,
    "start_time": "2022-07-13T23:25:57.858Z"
   },
   {
    "duration": 142,
    "start_time": "2022-07-13T23:25:57.866Z"
   },
   {
    "duration": 146,
    "start_time": "2022-07-13T23:25:58.010Z"
   },
   {
    "duration": 13,
    "start_time": "2022-07-13T23:25:58.158Z"
   },
   {
    "duration": 179,
    "start_time": "2022-07-13T23:25:58.173Z"
   },
   {
    "duration": 78,
    "start_time": "2022-07-13T23:25:58.354Z"
   },
   {
    "duration": 7,
    "start_time": "2022-07-13T23:25:58.434Z"
   },
   {
    "duration": 142,
    "start_time": "2022-07-13T23:25:58.442Z"
   },
   {
    "duration": 7,
    "start_time": "2022-07-13T23:25:58.586Z"
   },
   {
    "duration": 443,
    "start_time": "2022-07-13T23:25:58.625Z"
   },
   {
    "duration": 2013,
    "start_time": "2022-07-13T23:28:28.659Z"
   },
   {
    "duration": 2100,
    "start_time": "2022-07-13T23:28:47.082Z"
   },
   {
    "duration": 2146,
    "start_time": "2022-07-13T23:28:52.907Z"
   },
   {
    "duration": 2617,
    "start_time": "2022-07-13T23:29:13.517Z"
   },
   {
    "duration": 712,
    "start_time": "2022-07-13T23:29:49.748Z"
   },
   {
    "duration": 337,
    "start_time": "2022-07-13T23:31:00.251Z"
   },
   {
    "duration": 1641,
    "start_time": "2022-07-13T23:35:27.694Z"
   },
   {
    "duration": 2585,
    "start_time": "2022-07-13T23:39:57.021Z"
   },
   {
    "duration": 1608,
    "start_time": "2022-07-13T23:40:08.165Z"
   },
   {
    "duration": 1999,
    "start_time": "2022-07-13T23:40:32.285Z"
   },
   {
    "duration": 1873,
    "start_time": "2022-07-13T23:40:56.879Z"
   },
   {
    "duration": 2084,
    "start_time": "2022-07-13T23:41:09.951Z"
   },
   {
    "duration": 1709,
    "start_time": "2022-07-13T23:49:15.474Z"
   },
   {
    "duration": 3098,
    "start_time": "2022-07-13T23:49:34.528Z"
   },
   {
    "duration": 50,
    "start_time": "2022-07-13T23:56:25.898Z"
   },
   {
    "duration": 42,
    "start_time": "2022-07-13T23:56:51.913Z"
   },
   {
    "duration": 3115,
    "start_time": "2022-07-14T00:04:12.001Z"
   },
   {
    "duration": 3145,
    "start_time": "2022-07-14T00:04:26.364Z"
   },
   {
    "duration": 3651,
    "start_time": "2022-07-14T00:04:33.267Z"
   },
   {
    "duration": 2668,
    "start_time": "2022-07-14T00:04:56.658Z"
   },
   {
    "duration": 699,
    "start_time": "2022-07-14T00:18:23.622Z"
   },
   {
    "duration": 482,
    "start_time": "2022-07-14T00:18:30.808Z"
   },
   {
    "duration": 314,
    "start_time": "2022-07-14T00:18:36.639Z"
   },
   {
    "duration": 2000,
    "start_time": "2022-07-14T00:18:43.983Z"
   },
   {
    "duration": 2684,
    "start_time": "2022-07-14T00:18:53.073Z"
   },
   {
    "duration": 3920,
    "start_time": "2022-07-14T00:19:12.239Z"
   },
   {
    "duration": 224,
    "start_time": "2022-07-14T00:19:25.085Z"
   },
   {
    "duration": 251,
    "start_time": "2022-07-14T00:19:28.772Z"
   },
   {
    "duration": 228,
    "start_time": "2022-07-14T00:19:31.874Z"
   },
   {
    "duration": 245,
    "start_time": "2022-07-14T00:19:35.141Z"
   },
   {
    "duration": 245,
    "start_time": "2022-07-14T00:19:39.668Z"
   },
   {
    "duration": 251,
    "start_time": "2022-07-14T00:21:29.300Z"
   },
   {
    "duration": 498,
    "start_time": "2022-07-14T00:28:35.141Z"
   },
   {
    "duration": 729,
    "start_time": "2022-07-14T00:32:18.914Z"
   },
   {
    "duration": 17,
    "start_time": "2022-07-14T00:40:52.838Z"
   },
   {
    "duration": 980,
    "start_time": "2022-07-14T00:43:05.020Z"
   },
   {
    "duration": 162,
    "start_time": "2022-07-14T00:43:22.251Z"
   },
   {
    "duration": 27,
    "start_time": "2022-07-14T00:44:17.382Z"
   },
   {
    "duration": 1051,
    "start_time": "2022-07-14T00:44:33.711Z"
   },
   {
    "duration": 1032,
    "start_time": "2022-07-14T00:44:50.345Z"
   },
   {
    "duration": 18,
    "start_time": "2022-07-14T00:47:00.654Z"
   },
   {
    "duration": 25,
    "start_time": "2022-07-14T00:48:15.486Z"
   },
   {
    "duration": 28,
    "start_time": "2022-07-14T00:50:40.923Z"
   },
   {
    "duration": 1175,
    "start_time": "2022-07-14T00:51:30.013Z"
   },
   {
    "duration": 15,
    "start_time": "2022-07-14T00:52:50.218Z"
   },
   {
    "duration": 12,
    "start_time": "2022-07-14T00:52:55.003Z"
   },
   {
    "duration": 13,
    "start_time": "2022-07-14T00:53:05.395Z"
   },
   {
    "duration": 25,
    "start_time": "2022-07-14T00:53:14.318Z"
   },
   {
    "duration": 67,
    "start_time": "2022-07-14T00:54:17.147Z"
   },
   {
    "duration": 174,
    "start_time": "2022-07-14T00:54:22.593Z"
   },
   {
    "duration": 159,
    "start_time": "2022-07-14T00:55:43.035Z"
   },
   {
    "duration": 171,
    "start_time": "2022-07-14T00:55:47.820Z"
   },
   {
    "duration": 170,
    "start_time": "2022-07-14T00:55:51.573Z"
   },
   {
    "duration": 152,
    "start_time": "2022-07-14T00:55:55.458Z"
   },
   {
    "duration": 154,
    "start_time": "2022-07-14T00:56:33.778Z"
   },
   {
    "duration": 184,
    "start_time": "2022-07-14T00:56:36.553Z"
   },
   {
    "duration": 155,
    "start_time": "2022-07-14T00:56:41.475Z"
   },
   {
    "duration": 659,
    "start_time": "2022-07-14T00:58:17.502Z"
   },
   {
    "duration": 255,
    "start_time": "2022-07-14T00:58:55.743Z"
   },
   {
    "duration": 184,
    "start_time": "2022-07-14T00:59:10.066Z"
   },
   {
    "duration": 178,
    "start_time": "2022-07-14T00:59:20.529Z"
   },
   {
    "duration": 180,
    "start_time": "2022-07-14T00:59:29.663Z"
   },
   {
    "duration": 180,
    "start_time": "2022-07-14T01:00:38.071Z"
   },
   {
    "duration": 156,
    "start_time": "2022-07-14T01:00:52.884Z"
   },
   {
    "duration": 152,
    "start_time": "2022-07-14T01:00:57.331Z"
   },
   {
    "duration": 183,
    "start_time": "2022-07-14T01:07:35.263Z"
   },
   {
    "duration": 318,
    "start_time": "2022-07-14T01:08:38.960Z"
   },
   {
    "duration": 1181,
    "start_time": "2022-07-14T01:13:31.651Z"
   },
   {
    "duration": 1249,
    "start_time": "2022-07-14T01:15:46.898Z"
   },
   {
    "duration": 1186,
    "start_time": "2022-07-14T01:16:23.325Z"
   },
   {
    "duration": 1205,
    "start_time": "2022-07-14T01:16:54.436Z"
   },
   {
    "duration": 1213,
    "start_time": "2022-07-14T01:17:31.679Z"
   },
   {
    "duration": 68,
    "start_time": "2022-07-14T01:19:02.649Z"
   },
   {
    "duration": 517,
    "start_time": "2022-07-14T01:19:09.834Z"
   },
   {
    "duration": 1227,
    "start_time": "2022-07-14T01:20:44.368Z"
   },
   {
    "duration": 1230,
    "start_time": "2022-07-14T01:21:20.849Z"
   },
   {
    "duration": 503,
    "start_time": "2022-07-14T01:21:45.258Z"
   },
   {
    "duration": 1185,
    "start_time": "2022-07-14T01:21:55.293Z"
   },
   {
    "duration": 1332,
    "start_time": "2022-07-14T01:22:08.153Z"
   },
   {
    "duration": 1249,
    "start_time": "2022-07-14T01:22:35.646Z"
   },
   {
    "duration": 2521,
    "start_time": "2022-07-14T01:29:07.120Z"
   },
   {
    "duration": 1338,
    "start_time": "2022-07-14T01:29:26.213Z"
   },
   {
    "duration": 1299,
    "start_time": "2022-07-14T01:29:53.955Z"
   },
   {
    "duration": 1297,
    "start_time": "2022-07-14T01:34:01.680Z"
   },
   {
    "duration": 1333,
    "start_time": "2022-07-14T01:36:53.961Z"
   },
   {
    "duration": 1289,
    "start_time": "2022-07-14T01:37:13.137Z"
   },
   {
    "duration": 1271,
    "start_time": "2022-07-14T01:37:39.529Z"
   },
   {
    "duration": 1357,
    "start_time": "2022-07-14T01:38:08.111Z"
   },
   {
    "duration": 104,
    "start_time": "2022-07-14T01:38:44.055Z"
   },
   {
    "duration": 1884,
    "start_time": "2022-07-14T01:38:44.161Z"
   },
   {
    "duration": 78,
    "start_time": "2022-07-14T01:38:46.047Z"
   },
   {
    "duration": 13,
    "start_time": "2022-07-14T01:38:46.127Z"
   },
   {
    "duration": 10,
    "start_time": "2022-07-14T01:38:46.141Z"
   },
   {
    "duration": 16,
    "start_time": "2022-07-14T01:38:46.153Z"
   },
   {
    "duration": 12,
    "start_time": "2022-07-14T01:38:46.171Z"
   },
   {
    "duration": 46,
    "start_time": "2022-07-14T01:38:46.185Z"
   },
   {
    "duration": 17,
    "start_time": "2022-07-14T01:38:46.233Z"
   },
   {
    "duration": 4,
    "start_time": "2022-07-14T01:38:46.253Z"
   },
   {
    "duration": 104,
    "start_time": "2022-07-14T01:38:46.259Z"
   },
   {
    "duration": 32,
    "start_time": "2022-07-14T01:38:46.365Z"
   },
   {
    "duration": 47,
    "start_time": "2022-07-14T01:38:46.399Z"
   },
   {
    "duration": 30,
    "start_time": "2022-07-14T01:38:46.448Z"
   },
   {
    "duration": 3,
    "start_time": "2022-07-14T01:38:46.480Z"
   },
   {
    "duration": 280,
    "start_time": "2022-07-14T01:38:46.484Z"
   },
   {
    "duration": 10,
    "start_time": "2022-07-14T01:38:46.766Z"
   },
   {
    "duration": 146,
    "start_time": "2022-07-14T01:38:46.777Z"
   },
   {
    "duration": 9,
    "start_time": "2022-07-14T01:38:46.925Z"
   },
   {
    "duration": 140,
    "start_time": "2022-07-14T01:38:46.936Z"
   },
   {
    "duration": 127,
    "start_time": "2022-07-14T01:38:47.078Z"
   },
   {
    "duration": 26,
    "start_time": "2022-07-14T01:38:47.206Z"
   },
   {
    "duration": 152,
    "start_time": "2022-07-14T01:38:47.234Z"
   },
   {
    "duration": 69,
    "start_time": "2022-07-14T01:38:47.389Z"
   },
   {
    "duration": 6,
    "start_time": "2022-07-14T01:38:47.460Z"
   },
   {
    "duration": 156,
    "start_time": "2022-07-14T01:38:47.468Z"
   },
   {
    "duration": 7,
    "start_time": "2022-07-14T01:38:47.626Z"
   },
   {
    "duration": 364,
    "start_time": "2022-07-14T01:38:47.637Z"
   },
   {
    "duration": 2553,
    "start_time": "2022-07-14T01:38:48.002Z"
   },
   {
    "duration": 660,
    "start_time": "2022-07-14T01:38:50.556Z"
   },
   {
    "duration": 1264,
    "start_time": "2022-07-14T01:38:51.218Z"
   },
   {
    "duration": 2400,
    "start_time": "2022-07-14T01:39:31.112Z"
   },
   {
    "duration": 1283,
    "start_time": "2022-07-14T01:39:45.295Z"
   },
   {
    "duration": 1312,
    "start_time": "2022-07-14T01:40:18.197Z"
   },
   {
    "duration": 1245,
    "start_time": "2022-07-14T01:42:24.748Z"
   },
   {
    "duration": 51,
    "start_time": "2022-07-14T01:43:14.541Z"
   },
   {
    "duration": 1275,
    "start_time": "2022-07-14T01:43:25.638Z"
   },
   {
    "duration": 124,
    "start_time": "2022-07-14T01:44:23.746Z"
   },
   {
    "duration": 1301,
    "start_time": "2022-07-14T01:44:49.066Z"
   },
   {
    "duration": 1252,
    "start_time": "2022-07-14T01:46:41.131Z"
   },
   {
    "duration": 1246,
    "start_time": "2022-07-14T01:48:16.394Z"
   },
   {
    "duration": 1291,
    "start_time": "2022-07-14T01:48:36.289Z"
   },
   {
    "duration": 1326,
    "start_time": "2022-07-14T01:48:47.676Z"
   },
   {
    "duration": 1248,
    "start_time": "2022-07-14T01:49:24.434Z"
   },
   {
    "duration": 1644,
    "start_time": "2022-07-14T01:50:02.499Z"
   },
   {
    "duration": 1374,
    "start_time": "2022-07-14T01:50:09.595Z"
   },
   {
    "duration": 1361,
    "start_time": "2022-07-14T01:51:03.691Z"
   },
   {
    "duration": 27,
    "start_time": "2022-07-14T01:56:57.508Z"
   },
   {
    "duration": 34,
    "start_time": "2022-07-14T01:59:43.382Z"
   },
   {
    "duration": 30,
    "start_time": "2022-07-14T02:00:15.736Z"
   },
   {
    "duration": 28,
    "start_time": "2022-07-14T02:01:02.854Z"
   },
   {
    "duration": 54,
    "start_time": "2022-07-14T02:02:52.959Z"
   },
   {
    "duration": 34,
    "start_time": "2022-07-14T02:03:10.084Z"
   },
   {
    "duration": 44,
    "start_time": "2022-07-14T02:04:40.163Z"
   },
   {
    "duration": 28,
    "start_time": "2022-07-14T02:06:05.667Z"
   },
   {
    "duration": 29,
    "start_time": "2022-07-14T02:08:23.447Z"
   },
   {
    "duration": 32,
    "start_time": "2022-07-14T02:08:47.172Z"
   },
   {
    "duration": 28,
    "start_time": "2022-07-14T02:09:24.768Z"
   },
   {
    "duration": 34,
    "start_time": "2022-07-14T02:10:02.513Z"
   },
   {
    "duration": 26,
    "start_time": "2022-07-14T02:10:17.470Z"
   },
   {
    "duration": 28,
    "start_time": "2022-07-14T02:10:42.202Z"
   },
   {
    "duration": 107,
    "start_time": "2022-07-14T02:11:20.539Z"
   },
   {
    "duration": 1825,
    "start_time": "2022-07-14T02:11:20.648Z"
   },
   {
    "duration": 59,
    "start_time": "2022-07-14T02:11:22.475Z"
   },
   {
    "duration": 12,
    "start_time": "2022-07-14T02:11:22.536Z"
   },
   {
    "duration": 9,
    "start_time": "2022-07-14T02:11:22.549Z"
   },
   {
    "duration": 14,
    "start_time": "2022-07-14T02:11:22.560Z"
   },
   {
    "duration": 10,
    "start_time": "2022-07-14T02:11:22.576Z"
   },
   {
    "duration": 9,
    "start_time": "2022-07-14T02:11:22.623Z"
   },
   {
    "duration": 18,
    "start_time": "2022-07-14T02:11:22.634Z"
   },
   {
    "duration": 4,
    "start_time": "2022-07-14T02:11:22.655Z"
   },
   {
    "duration": 98,
    "start_time": "2022-07-14T02:11:22.660Z"
   },
   {
    "duration": 31,
    "start_time": "2022-07-14T02:11:22.760Z"
   },
   {
    "duration": 53,
    "start_time": "2022-07-14T02:11:22.793Z"
   },
   {
    "duration": 31,
    "start_time": "2022-07-14T02:11:22.848Z"
   },
   {
    "duration": 3,
    "start_time": "2022-07-14T02:11:22.880Z"
   },
   {
    "duration": 273,
    "start_time": "2022-07-14T02:11:22.884Z"
   },
   {
    "duration": 9,
    "start_time": "2022-07-14T02:11:23.158Z"
   },
   {
    "duration": 146,
    "start_time": "2022-07-14T02:11:23.169Z"
   },
   {
    "duration": 7,
    "start_time": "2022-07-14T02:11:23.322Z"
   },
   {
    "duration": 142,
    "start_time": "2022-07-14T02:11:23.331Z"
   },
   {
    "duration": 133,
    "start_time": "2022-07-14T02:11:23.475Z"
   },
   {
    "duration": 21,
    "start_time": "2022-07-14T02:11:23.610Z"
   },
   {
    "duration": 155,
    "start_time": "2022-07-14T02:11:23.633Z"
   },
   {
    "duration": 66,
    "start_time": "2022-07-14T02:11:23.790Z"
   },
   {
    "duration": 5,
    "start_time": "2022-07-14T02:11:23.858Z"
   },
   {
    "duration": 142,
    "start_time": "2022-07-14T02:11:23.865Z"
   },
   {
    "duration": 18,
    "start_time": "2022-07-14T02:11:24.008Z"
   },
   {
    "duration": 345,
    "start_time": "2022-07-14T02:11:24.029Z"
   },
   {
    "duration": 3642,
    "start_time": "2022-07-14T02:11:24.376Z"
   },
   {
    "duration": 673,
    "start_time": "2022-07-14T02:11:28.019Z"
   },
   {
    "duration": 1423,
    "start_time": "2022-07-14T02:11:28.693Z"
   },
   {
    "duration": 32,
    "start_time": "2022-07-14T02:11:30.117Z"
   },
   {
    "duration": 26,
    "start_time": "2022-07-14T02:12:11.722Z"
   },
   {
    "duration": 53,
    "start_time": "2022-07-14T02:12:51.475Z"
   },
   {
    "duration": 62,
    "start_time": "2022-07-14T02:13:09.451Z"
   },
   {
    "duration": 797,
    "start_time": "2022-07-14T02:13:51.924Z"
   },
   {
    "duration": 32,
    "start_time": "2022-07-14T02:14:30.963Z"
   },
   {
    "duration": 219,
    "start_time": "2022-07-14T02:15:06.145Z"
   },
   {
    "duration": 28,
    "start_time": "2022-07-14T02:15:17.473Z"
   },
   {
    "duration": 28,
    "start_time": "2022-07-14T02:15:28.533Z"
   },
   {
    "duration": 38,
    "start_time": "2022-07-14T02:16:14.913Z"
   },
   {
    "duration": 31,
    "start_time": "2022-07-14T02:16:36.813Z"
   },
   {
    "duration": 43,
    "start_time": "2022-07-14T02:17:05.008Z"
   },
   {
    "duration": 24,
    "start_time": "2022-07-14T02:17:45.644Z"
   },
   {
    "duration": 33,
    "start_time": "2022-07-14T02:18:12.795Z"
   },
   {
    "duration": 134,
    "start_time": "2022-07-14T02:33:20.890Z"
   },
   {
    "duration": 1835,
    "start_time": "2022-07-14T02:33:21.027Z"
   },
   {
    "duration": 67,
    "start_time": "2022-07-14T02:33:22.865Z"
   },
   {
    "duration": 12,
    "start_time": "2022-07-14T02:33:22.935Z"
   },
   {
    "duration": 9,
    "start_time": "2022-07-14T02:33:22.948Z"
   },
   {
    "duration": 15,
    "start_time": "2022-07-14T02:33:22.958Z"
   },
   {
    "duration": 10,
    "start_time": "2022-07-14T02:33:22.975Z"
   },
   {
    "duration": 44,
    "start_time": "2022-07-14T02:33:22.987Z"
   },
   {
    "duration": 25,
    "start_time": "2022-07-14T02:33:23.033Z"
   },
   {
    "duration": 6,
    "start_time": "2022-07-14T02:33:23.063Z"
   },
   {
    "duration": 101,
    "start_time": "2022-07-14T02:33:23.071Z"
   },
   {
    "duration": 31,
    "start_time": "2022-07-14T02:33:23.174Z"
   },
   {
    "duration": 32,
    "start_time": "2022-07-14T02:33:23.224Z"
   },
   {
    "duration": 45,
    "start_time": "2022-07-14T02:33:23.257Z"
   },
   {
    "duration": 3,
    "start_time": "2022-07-14T02:33:23.304Z"
   },
   {
    "duration": 241,
    "start_time": "2022-07-14T02:33:23.323Z"
   },
   {
    "duration": 11,
    "start_time": "2022-07-14T02:33:23.565Z"
   },
   {
    "duration": 137,
    "start_time": "2022-07-14T02:33:23.577Z"
   },
   {
    "duration": 13,
    "start_time": "2022-07-14T02:33:23.715Z"
   },
   {
    "duration": 141,
    "start_time": "2022-07-14T02:33:23.730Z"
   },
   {
    "duration": 153,
    "start_time": "2022-07-14T02:33:23.872Z"
   },
   {
    "duration": 16,
    "start_time": "2022-07-14T02:33:24.027Z"
   },
   {
    "duration": 178,
    "start_time": "2022-07-14T02:33:24.045Z"
   },
   {
    "duration": 37,
    "start_time": "2022-07-14T02:33:24.224Z"
   },
   {
    "duration": 9,
    "start_time": "2022-07-14T02:33:24.263Z"
   },
   {
    "duration": 154,
    "start_time": "2022-07-14T02:33:24.273Z"
   },
   {
    "duration": 9,
    "start_time": "2022-07-14T02:33:24.429Z"
   },
   {
    "duration": 330,
    "start_time": "2022-07-14T02:33:24.441Z"
   },
   {
    "duration": 2584,
    "start_time": "2022-07-14T02:33:24.773Z"
   },
   {
    "duration": 635,
    "start_time": "2022-07-14T02:33:27.359Z"
   },
   {
    "duration": 1312,
    "start_time": "2022-07-14T02:33:27.997Z"
   },
   {
    "duration": 29,
    "start_time": "2022-07-14T02:33:29.311Z"
   },
   {
    "duration": 109,
    "start_time": "2022-07-14T02:35:37.137Z"
   },
   {
    "duration": 1869,
    "start_time": "2022-07-14T02:35:37.248Z"
   },
   {
    "duration": 52,
    "start_time": "2022-07-14T02:35:39.119Z"
   },
   {
    "duration": 15,
    "start_time": "2022-07-14T02:35:39.174Z"
   },
   {
    "duration": 40,
    "start_time": "2022-07-14T02:35:39.190Z"
   },
   {
    "duration": 18,
    "start_time": "2022-07-14T02:35:39.232Z"
   },
   {
    "duration": 13,
    "start_time": "2022-07-14T02:35:39.253Z"
   },
   {
    "duration": 14,
    "start_time": "2022-07-14T02:35:39.267Z"
   },
   {
    "duration": 52,
    "start_time": "2022-07-14T02:35:39.283Z"
   },
   {
    "duration": 4,
    "start_time": "2022-07-14T02:35:39.339Z"
   },
   {
    "duration": 1254,
    "start_time": "2022-07-14T02:35:39.345Z"
   },
   {
    "duration": 49,
    "start_time": "2022-07-14T02:35:40.601Z"
   },
   {
    "duration": 32,
    "start_time": "2022-07-14T02:35:40.652Z"
   },
   {
    "duration": 61,
    "start_time": "2022-07-14T02:35:40.686Z"
   },
   {
    "duration": 3,
    "start_time": "2022-07-14T02:35:40.749Z"
   },
   {
    "duration": 252,
    "start_time": "2022-07-14T02:35:40.753Z"
   },
   {
    "duration": 25,
    "start_time": "2022-07-14T02:35:41.007Z"
   },
   {
    "duration": 151,
    "start_time": "2022-07-14T02:35:41.034Z"
   },
   {
    "duration": 6,
    "start_time": "2022-07-14T02:35:41.187Z"
   },
   {
    "duration": 147,
    "start_time": "2022-07-14T02:35:41.194Z"
   },
   {
    "duration": 140,
    "start_time": "2022-07-14T02:35:41.342Z"
   },
   {
    "duration": 10,
    "start_time": "2022-07-14T02:35:41.484Z"
   },
   {
    "duration": 161,
    "start_time": "2022-07-14T02:35:41.495Z"
   },
   {
    "duration": 72,
    "start_time": "2022-07-14T02:35:41.658Z"
   },
   {
    "duration": 6,
    "start_time": "2022-07-14T02:35:41.732Z"
   },
   {
    "duration": 142,
    "start_time": "2022-07-14T02:35:41.740Z"
   },
   {
    "duration": 5,
    "start_time": "2022-07-14T02:35:41.884Z"
   },
   {
    "duration": 364,
    "start_time": "2022-07-14T02:35:41.893Z"
   },
   {
    "duration": 2570,
    "start_time": "2022-07-14T02:35:42.259Z"
   },
   {
    "duration": 645,
    "start_time": "2022-07-14T02:35:44.831Z"
   },
   {
    "duration": 1370,
    "start_time": "2022-07-14T02:35:45.478Z"
   },
   {
    "duration": 24,
    "start_time": "2022-07-14T02:35:46.850Z"
   },
   {
    "duration": 1342,
    "start_time": "2022-07-14T02:37:32.397Z"
   },
   {
    "duration": 1541,
    "start_time": "2022-07-14T02:37:45.428Z"
   },
   {
    "duration": 1469,
    "start_time": "2022-07-14T02:38:00.063Z"
   },
   {
    "duration": 1438,
    "start_time": "2022-07-14T02:39:00.110Z"
   },
   {
    "duration": 1403,
    "start_time": "2022-07-14T02:42:33.243Z"
   },
   {
    "duration": 1114,
    "start_time": "2022-07-14T02:43:26.744Z"
   },
   {
    "duration": 1404,
    "start_time": "2022-07-14T02:43:43.622Z"
   },
   {
    "duration": 180,
    "start_time": "2022-07-14T02:46:44.768Z"
   },
   {
    "duration": 178,
    "start_time": "2022-07-14T02:50:20.854Z"
   },
   {
    "duration": 814,
    "start_time": "2022-07-14T02:50:35.858Z"
   },
   {
    "duration": 1344,
    "start_time": "2022-07-14T02:51:03.346Z"
   },
   {
    "duration": 1308,
    "start_time": "2022-07-14T02:52:01.070Z"
   },
   {
    "duration": 1345,
    "start_time": "2022-07-14T02:52:16.286Z"
   },
   {
    "duration": 63,
    "start_time": "2022-07-14T02:55:55.888Z"
   },
   {
    "duration": 2586,
    "start_time": "2022-07-14T02:55:58.923Z"
   },
   {
    "duration": 182,
    "start_time": "2022-07-14T03:00:10.858Z"
   },
   {
    "duration": 79,
    "start_time": "2022-07-14T03:00:41.674Z"
   },
   {
    "duration": 175,
    "start_time": "2022-07-14T03:00:46.975Z"
   },
   {
    "duration": 186,
    "start_time": "2022-07-14T03:00:57.996Z"
   },
   {
    "duration": 7,
    "start_time": "2022-07-14T03:02:57.284Z"
   },
   {
    "duration": 1504,
    "start_time": "2022-07-14T03:03:00.949Z"
   },
   {
    "duration": 1391,
    "start_time": "2022-07-14T03:03:19.690Z"
   },
   {
    "duration": 175,
    "start_time": "2022-07-14T03:03:24.203Z"
   },
   {
    "duration": 188,
    "start_time": "2022-07-14T03:04:04.390Z"
   },
   {
    "duration": 1410,
    "start_time": "2022-07-14T03:05:16.199Z"
   },
   {
    "duration": 1443,
    "start_time": "2022-07-14T03:05:27.802Z"
   },
   {
    "duration": 1422,
    "start_time": "2022-07-14T03:06:22.509Z"
   },
   {
    "duration": 1421,
    "start_time": "2022-07-14T03:06:54.119Z"
   },
   {
    "duration": 167,
    "start_time": "2022-07-14T03:07:17.740Z"
   },
   {
    "duration": 189,
    "start_time": "2022-07-14T03:07:43.520Z"
   },
   {
    "duration": 1348,
    "start_time": "2022-07-14T03:09:57.293Z"
   },
   {
    "duration": 1418,
    "start_time": "2022-07-14T03:10:11.786Z"
   },
   {
    "duration": 1340,
    "start_time": "2022-07-14T03:10:23.155Z"
   },
   {
    "duration": 1433,
    "start_time": "2022-07-14T03:10:45.710Z"
   },
   {
    "duration": 91,
    "start_time": "2022-07-14T03:11:37.131Z"
   },
   {
    "duration": 1356,
    "start_time": "2022-07-14T03:11:45.060Z"
   },
   {
    "duration": 19,
    "start_time": "2022-07-14T03:23:34.077Z"
   },
   {
    "duration": 21,
    "start_time": "2022-07-14T03:24:02.481Z"
   },
   {
    "duration": 40,
    "start_time": "2022-07-14T03:24:24.206Z"
   },
   {
    "duration": 21,
    "start_time": "2022-07-14T03:24:33.595Z"
   },
   {
    "duration": 13,
    "start_time": "2022-07-14T03:25:44.105Z"
   },
   {
    "duration": 21,
    "start_time": "2022-07-14T03:26:27.644Z"
   },
   {
    "duration": 30,
    "start_time": "2022-07-14T03:27:43.379Z"
   },
   {
    "duration": 31,
    "start_time": "2022-07-14T03:28:19.307Z"
   },
   {
    "duration": 176,
    "start_time": "2022-07-14T03:32:01.102Z"
   },
   {
    "duration": 202,
    "start_time": "2022-07-14T03:32:40.829Z"
   },
   {
    "duration": 170,
    "start_time": "2022-07-14T03:33:37.577Z"
   },
   {
    "duration": 180,
    "start_time": "2022-07-14T03:34:08.562Z"
   },
   {
    "duration": 175,
    "start_time": "2022-07-14T03:34:19.317Z"
   },
   {
    "duration": 51,
    "start_time": "2022-07-14T03:40:56.403Z"
   },
   {
    "duration": 54,
    "start_time": "2022-07-14T03:49:32.082Z"
   },
   {
    "duration": 128,
    "start_time": "2022-07-14T04:26:13.900Z"
   },
   {
    "duration": 1925,
    "start_time": "2022-07-14T04:26:14.030Z"
   },
   {
    "duration": 79,
    "start_time": "2022-07-14T04:26:15.957Z"
   },
   {
    "duration": 14,
    "start_time": "2022-07-14T04:26:16.038Z"
   },
   {
    "duration": 10,
    "start_time": "2022-07-14T04:26:16.054Z"
   },
   {
    "duration": 18,
    "start_time": "2022-07-14T04:26:16.066Z"
   },
   {
    "duration": 43,
    "start_time": "2022-07-14T04:26:16.086Z"
   },
   {
    "duration": 10,
    "start_time": "2022-07-14T04:26:16.131Z"
   },
   {
    "duration": 16,
    "start_time": "2022-07-14T04:26:16.143Z"
   },
   {
    "duration": 5,
    "start_time": "2022-07-14T04:26:16.162Z"
   },
   {
    "duration": 112,
    "start_time": "2022-07-14T04:26:16.169Z"
   },
   {
    "duration": 51,
    "start_time": "2022-07-14T04:26:16.283Z"
   },
   {
    "duration": 32,
    "start_time": "2022-07-14T04:26:16.335Z"
   },
   {
    "duration": 59,
    "start_time": "2022-07-14T04:26:16.369Z"
   },
   {
    "duration": 3,
    "start_time": "2022-07-14T04:26:16.430Z"
   },
   {
    "duration": 260,
    "start_time": "2022-07-14T04:26:16.434Z"
   },
   {
    "duration": 30,
    "start_time": "2022-07-14T04:26:16.695Z"
   },
   {
    "duration": 139,
    "start_time": "2022-07-14T04:26:16.727Z"
   },
   {
    "duration": 6,
    "start_time": "2022-07-14T04:26:16.868Z"
   },
   {
    "duration": 150,
    "start_time": "2022-07-14T04:26:16.876Z"
   },
   {
    "duration": 139,
    "start_time": "2022-07-14T04:26:17.028Z"
   },
   {
    "duration": 11,
    "start_time": "2022-07-14T04:26:17.169Z"
   },
   {
    "duration": 152,
    "start_time": "2022-07-14T04:26:17.183Z"
   },
   {
    "duration": 54,
    "start_time": "2022-07-14T04:26:17.337Z"
   },
   {
    "duration": 34,
    "start_time": "2022-07-14T04:26:17.393Z"
   },
   {
    "duration": 132,
    "start_time": "2022-07-14T04:26:17.429Z"
   },
   {
    "duration": 7,
    "start_time": "2022-07-14T04:26:17.562Z"
   },
   {
    "duration": 365,
    "start_time": "2022-07-14T04:26:17.572Z"
   },
   {
    "duration": 3750,
    "start_time": "2022-07-14T04:26:17.939Z"
   },
   {
    "duration": 672,
    "start_time": "2022-07-14T04:26:21.692Z"
   },
   {
    "duration": 1442,
    "start_time": "2022-07-14T04:26:22.366Z"
   },
   {
    "duration": 26,
    "start_time": "2022-07-14T04:26:23.810Z"
   },
   {
    "duration": 203,
    "start_time": "2022-07-14T04:26:23.838Z"
   },
   {
    "duration": 121,
    "start_time": "2022-07-14T04:31:00.605Z"
   },
   {
    "duration": 1995,
    "start_time": "2022-07-14T04:31:00.728Z"
   },
   {
    "duration": 51,
    "start_time": "2022-07-14T04:31:02.725Z"
   },
   {
    "duration": 12,
    "start_time": "2022-07-14T04:31:02.779Z"
   },
   {
    "duration": 38,
    "start_time": "2022-07-14T04:31:02.792Z"
   },
   {
    "duration": 15,
    "start_time": "2022-07-14T04:31:02.832Z"
   },
   {
    "duration": 11,
    "start_time": "2022-07-14T04:31:02.849Z"
   },
   {
    "duration": 9,
    "start_time": "2022-07-14T04:31:02.862Z"
   },
   {
    "duration": 54,
    "start_time": "2022-07-14T04:31:02.873Z"
   },
   {
    "duration": 8,
    "start_time": "2022-07-14T04:31:02.930Z"
   },
   {
    "duration": 92,
    "start_time": "2022-07-14T04:31:02.940Z"
   },
   {
    "duration": 36,
    "start_time": "2022-07-14T04:31:03.034Z"
   },
   {
    "duration": 58,
    "start_time": "2022-07-14T04:31:03.072Z"
   },
   {
    "duration": 35,
    "start_time": "2022-07-14T04:31:03.132Z"
   },
   {
    "duration": 3,
    "start_time": "2022-07-14T04:31:03.169Z"
   },
   {
    "duration": 256,
    "start_time": "2022-07-14T04:31:03.173Z"
   },
   {
    "duration": 9,
    "start_time": "2022-07-14T04:31:03.431Z"
   },
   {
    "duration": 132,
    "start_time": "2022-07-14T04:31:03.442Z"
   },
   {
    "duration": 8,
    "start_time": "2022-07-14T04:31:03.576Z"
   },
   {
    "duration": 151,
    "start_time": "2022-07-14T04:31:03.586Z"
   },
   {
    "duration": 134,
    "start_time": "2022-07-14T04:31:03.738Z"
   },
   {
    "duration": 12,
    "start_time": "2022-07-14T04:31:03.873Z"
   },
   {
    "duration": 152,
    "start_time": "2022-07-14T04:31:03.887Z"
   },
   {
    "duration": 53,
    "start_time": "2022-07-14T04:31:04.040Z"
   },
   {
    "duration": 33,
    "start_time": "2022-07-14T04:31:04.095Z"
   },
   {
    "duration": 136,
    "start_time": "2022-07-14T04:31:04.130Z"
   },
   {
    "duration": 7,
    "start_time": "2022-07-14T04:31:04.268Z"
   },
   {
    "duration": 385,
    "start_time": "2022-07-14T04:31:04.280Z"
   },
   {
    "duration": 2487,
    "start_time": "2022-07-14T04:31:04.667Z"
   },
   {
    "duration": 667,
    "start_time": "2022-07-14T04:31:07.156Z"
   },
   {
    "duration": 1406,
    "start_time": "2022-07-14T04:31:07.825Z"
   },
   {
    "duration": 24,
    "start_time": "2022-07-14T04:31:09.233Z"
   },
   {
    "duration": 203,
    "start_time": "2022-07-14T04:31:09.259Z"
   },
   {
    "duration": 32,
    "start_time": "2022-07-14T04:33:15.127Z"
   },
   {
    "duration": 106,
    "start_time": "2022-07-14T04:33:26.541Z"
   },
   {
    "duration": 1833,
    "start_time": "2022-07-14T04:33:26.649Z"
   },
   {
    "duration": 65,
    "start_time": "2022-07-14T04:33:28.484Z"
   },
   {
    "duration": 12,
    "start_time": "2022-07-14T04:33:28.551Z"
   },
   {
    "duration": 9,
    "start_time": "2022-07-14T04:33:28.565Z"
   },
   {
    "duration": 14,
    "start_time": "2022-07-14T04:33:28.575Z"
   },
   {
    "duration": 39,
    "start_time": "2022-07-14T04:33:28.591Z"
   },
   {
    "duration": 9,
    "start_time": "2022-07-14T04:33:28.632Z"
   },
   {
    "duration": 19,
    "start_time": "2022-07-14T04:33:28.642Z"
   },
   {
    "duration": 5,
    "start_time": "2022-07-14T04:33:28.663Z"
   },
   {
    "duration": 109,
    "start_time": "2022-07-14T04:33:28.669Z"
   },
   {
    "duration": 31,
    "start_time": "2022-07-14T04:33:28.779Z"
   },
   {
    "duration": 109,
    "start_time": "2022-07-14T04:34:30.274Z"
   },
   {
    "duration": 3082,
    "start_time": "2022-07-14T04:34:30.386Z"
   },
   {
    "duration": 62,
    "start_time": "2022-07-14T04:34:33.470Z"
   },
   {
    "duration": 12,
    "start_time": "2022-07-14T04:34:33.534Z"
   },
   {
    "duration": 9,
    "start_time": "2022-07-14T04:34:33.547Z"
   },
   {
    "duration": 16,
    "start_time": "2022-07-14T04:34:33.557Z"
   },
   {
    "duration": 10,
    "start_time": "2022-07-14T04:34:33.575Z"
   },
   {
    "duration": 40,
    "start_time": "2022-07-14T04:34:33.587Z"
   },
   {
    "duration": 17,
    "start_time": "2022-07-14T04:34:33.629Z"
   },
   {
    "duration": 5,
    "start_time": "2022-07-14T04:34:33.649Z"
   },
   {
    "duration": 98,
    "start_time": "2022-07-14T04:34:33.656Z"
   },
   {
    "duration": 32,
    "start_time": "2022-07-14T04:34:33.756Z"
   },
   {
    "duration": 56,
    "start_time": "2022-07-14T04:34:33.790Z"
   },
   {
    "duration": 34,
    "start_time": "2022-07-14T04:34:33.848Z"
   },
   {
    "duration": 3,
    "start_time": "2022-07-14T04:34:33.883Z"
   },
   {
    "duration": 271,
    "start_time": "2022-07-14T04:34:33.888Z"
   },
   {
    "duration": 11,
    "start_time": "2022-07-14T04:34:34.162Z"
   },
   {
    "duration": 133,
    "start_time": "2022-07-14T04:35:21.956Z"
   },
   {
    "duration": 108,
    "start_time": "2022-07-14T04:37:02.416Z"
   },
   {
    "duration": 1856,
    "start_time": "2022-07-14T04:37:02.526Z"
   },
   {
    "duration": 63,
    "start_time": "2022-07-14T04:37:04.384Z"
   },
   {
    "duration": 13,
    "start_time": "2022-07-14T04:37:04.448Z"
   },
   {
    "duration": 10,
    "start_time": "2022-07-14T04:37:04.463Z"
   },
   {
    "duration": 20,
    "start_time": "2022-07-14T04:37:04.475Z"
   },
   {
    "duration": 35,
    "start_time": "2022-07-14T04:37:04.496Z"
   },
   {
    "duration": 9,
    "start_time": "2022-07-14T04:37:04.533Z"
   },
   {
    "duration": 30,
    "start_time": "2022-07-14T04:37:04.543Z"
   },
   {
    "duration": 5,
    "start_time": "2022-07-14T04:37:04.574Z"
   },
   {
    "duration": 99,
    "start_time": "2022-07-14T04:37:04.581Z"
   },
   {
    "duration": 51,
    "start_time": "2022-07-14T04:37:04.682Z"
   },
   {
    "duration": 30,
    "start_time": "2022-07-14T04:37:04.735Z"
   },
   {
    "duration": 60,
    "start_time": "2022-07-14T04:37:04.768Z"
   },
   {
    "duration": 3,
    "start_time": "2022-07-14T04:37:04.830Z"
   },
   {
    "duration": 253,
    "start_time": "2022-07-14T04:37:04.834Z"
   },
   {
    "duration": 10,
    "start_time": "2022-07-14T04:37:05.089Z"
   },
   {
    "duration": 147,
    "start_time": "2022-07-14T04:37:05.100Z"
   },
   {
    "duration": 6,
    "start_time": "2022-07-14T04:37:05.248Z"
   },
   {
    "duration": 148,
    "start_time": "2022-07-14T04:37:05.255Z"
   },
   {
    "duration": 140,
    "start_time": "2022-07-14T04:37:05.405Z"
   },
   {
    "duration": 11,
    "start_time": "2022-07-14T04:37:05.547Z"
   },
   {
    "duration": 150,
    "start_time": "2022-07-14T04:37:05.560Z"
   },
   {
    "duration": 61,
    "start_time": "2022-07-14T04:37:05.712Z"
   },
   {
    "duration": 7,
    "start_time": "2022-07-14T04:37:05.774Z"
   },
   {
    "duration": 154,
    "start_time": "2022-07-14T04:37:05.783Z"
   },
   {
    "duration": 6,
    "start_time": "2022-07-14T04:37:05.939Z"
   },
   {
    "duration": 368,
    "start_time": "2022-07-14T04:37:05.946Z"
   },
   {
    "duration": 2548,
    "start_time": "2022-07-14T04:37:06.316Z"
   },
   {
    "duration": 742,
    "start_time": "2022-07-14T04:37:08.865Z"
   },
   {
    "duration": 1504,
    "start_time": "2022-07-14T04:37:09.608Z"
   },
   {
    "duration": 33,
    "start_time": "2022-07-14T04:37:11.114Z"
   },
   {
    "duration": 222,
    "start_time": "2022-07-14T04:37:11.149Z"
   },
   {
    "duration": 466,
    "start_time": "2022-07-14T14:49:36.396Z"
   },
   {
    "duration": 1884,
    "start_time": "2022-07-14T14:49:36.864Z"
   },
   {
    "duration": 62,
    "start_time": "2022-07-14T14:49:38.749Z"
   },
   {
    "duration": 12,
    "start_time": "2022-07-14T14:49:38.814Z"
   },
   {
    "duration": 32,
    "start_time": "2022-07-14T14:49:38.828Z"
   },
   {
    "duration": 22,
    "start_time": "2022-07-14T14:49:38.862Z"
   },
   {
    "duration": 10,
    "start_time": "2022-07-14T14:49:38.886Z"
   },
   {
    "duration": 10,
    "start_time": "2022-07-14T14:49:38.897Z"
   },
   {
    "duration": 18,
    "start_time": "2022-07-14T14:49:38.909Z"
   },
   {
    "duration": 4,
    "start_time": "2022-07-14T14:49:38.929Z"
   },
   {
    "duration": 71,
    "start_time": "2022-07-14T14:49:38.954Z"
   },
   {
    "duration": 40,
    "start_time": "2022-07-14T14:49:39.028Z"
   },
   {
    "duration": 26,
    "start_time": "2022-07-14T14:49:39.070Z"
   },
   {
    "duration": 24,
    "start_time": "2022-07-14T14:49:39.098Z"
   },
   {
    "duration": 28,
    "start_time": "2022-07-14T14:49:39.124Z"
   },
   {
    "duration": 235,
    "start_time": "2022-07-14T14:49:39.154Z"
   },
   {
    "duration": 9,
    "start_time": "2022-07-14T14:49:39.391Z"
   },
   {
    "duration": 115,
    "start_time": "2022-07-14T14:49:39.401Z"
   },
   {
    "duration": 7,
    "start_time": "2022-07-14T14:49:39.518Z"
   },
   {
    "duration": 118,
    "start_time": "2022-07-14T14:49:39.527Z"
   },
   {
    "duration": 113,
    "start_time": "2022-07-14T14:49:39.651Z"
   },
   {
    "duration": 11,
    "start_time": "2022-07-14T14:49:39.766Z"
   },
   {
    "duration": 136,
    "start_time": "2022-07-14T14:49:39.778Z"
   },
   {
    "duration": 64,
    "start_time": "2022-07-14T14:49:39.915Z"
   },
   {
    "duration": 6,
    "start_time": "2022-07-14T14:49:39.980Z"
   },
   {
    "duration": 115,
    "start_time": "2022-07-14T14:49:39.987Z"
   },
   {
    "duration": 4,
    "start_time": "2022-07-14T14:49:40.104Z"
   },
   {
    "duration": 383,
    "start_time": "2022-07-14T14:49:40.111Z"
   },
   {
    "duration": 3080,
    "start_time": "2022-07-14T14:49:40.496Z"
   },
   {
    "duration": 1194,
    "start_time": "2022-07-14T14:49:43.578Z"
   },
   {
    "duration": 2021,
    "start_time": "2022-07-14T14:49:44.774Z"
   },
   {
    "duration": 20,
    "start_time": "2022-07-14T14:49:46.852Z"
   },
   {
    "duration": 303,
    "start_time": "2022-07-14T14:49:46.874Z"
   },
   {
    "duration": 744,
    "start_time": "2022-07-14T19:28:30.151Z"
   },
   {
    "duration": 3,
    "start_time": "2022-07-14T19:28:36.523Z"
   },
   {
    "duration": 366,
    "start_time": "2022-07-14T19:28:38.562Z"
   },
   {
    "duration": 3,
    "start_time": "2022-07-14T19:30:48.103Z"
   },
   {
    "duration": 116,
    "start_time": "2022-07-14T19:30:50.644Z"
   },
   {
    "duration": 49,
    "start_time": "2022-07-14T19:32:14.114Z"
   },
   {
    "duration": 49,
    "start_time": "2022-07-14T19:38:28.746Z"
   },
   {
    "duration": 7,
    "start_time": "2022-07-14T19:38:35.306Z"
   },
   {
    "duration": 6,
    "start_time": "2022-07-14T19:38:46.881Z"
   },
   {
    "duration": 11,
    "start_time": "2022-07-14T19:38:50.522Z"
   },
   {
    "duration": 12,
    "start_time": "2022-07-14T19:39:05.083Z"
   },
   {
    "duration": 12,
    "start_time": "2022-07-14T19:43:01.933Z"
   },
   {
    "duration": 11,
    "start_time": "2022-07-14T19:43:07.856Z"
   },
   {
    "duration": 10,
    "start_time": "2022-07-14T19:43:14.136Z"
   },
   {
    "duration": 12,
    "start_time": "2022-07-14T19:43:50.395Z"
   },
   {
    "duration": 10,
    "start_time": "2022-07-14T19:43:53.718Z"
   },
   {
    "duration": 12,
    "start_time": "2022-07-14T19:43:57.476Z"
   },
   {
    "duration": 11,
    "start_time": "2022-07-14T19:44:01.580Z"
   },
   {
    "duration": 12,
    "start_time": "2022-07-14T19:44:06.990Z"
   },
   {
    "duration": 12,
    "start_time": "2022-07-14T19:44:09.865Z"
   },
   {
    "duration": 69,
    "start_time": "2022-07-14T19:54:18.463Z"
   },
   {
    "duration": 13,
    "start_time": "2022-07-14T19:55:02.099Z"
   },
   {
    "duration": 12,
    "start_time": "2022-07-14T19:55:10.397Z"
   },
   {
    "duration": 13,
    "start_time": "2022-07-14T19:55:22.571Z"
   },
   {
    "duration": 16,
    "start_time": "2022-07-14T19:55:24.713Z"
   },
   {
    "duration": 16,
    "start_time": "2022-07-14T19:55:27.051Z"
   },
   {
    "duration": 14,
    "start_time": "2022-07-14T19:55:37.676Z"
   },
   {
    "duration": 12,
    "start_time": "2022-07-14T19:55:50.394Z"
   },
   {
    "duration": 10,
    "start_time": "2022-07-14T19:55:57.477Z"
   },
   {
    "duration": 209,
    "start_time": "2022-07-14T20:02:15.369Z"
   },
   {
    "duration": 3,
    "start_time": "2022-07-14T20:02:22.205Z"
   },
   {
    "duration": 12,
    "start_time": "2022-07-14T20:02:22.211Z"
   },
   {
    "duration": 205,
    "start_time": "2022-07-14T20:02:22.225Z"
   },
   {
    "duration": 2162,
    "start_time": "2022-07-14T20:02:22.432Z"
   },
   {
    "duration": 62,
    "start_time": "2022-07-14T20:02:24.596Z"
   },
   {
    "duration": 15,
    "start_time": "2022-07-14T20:02:24.660Z"
   },
   {
    "duration": 34,
    "start_time": "2022-07-14T20:02:24.677Z"
   },
   {
    "duration": 32,
    "start_time": "2022-07-14T20:02:24.712Z"
   },
   {
    "duration": 10,
    "start_time": "2022-07-14T20:02:24.746Z"
   },
   {
    "duration": 19,
    "start_time": "2022-07-14T20:02:24.758Z"
   },
   {
    "duration": 17,
    "start_time": "2022-07-14T20:02:24.782Z"
   },
   {
    "duration": 5,
    "start_time": "2022-07-14T20:02:24.801Z"
   },
   {
    "duration": 76,
    "start_time": "2022-07-14T20:02:24.824Z"
   },
   {
    "duration": 53,
    "start_time": "2022-07-14T20:02:24.902Z"
   },
   {
    "duration": 36,
    "start_time": "2022-07-14T20:02:24.956Z"
   },
   {
    "duration": 55,
    "start_time": "2022-07-14T20:02:24.994Z"
   },
   {
    "duration": 6,
    "start_time": "2022-07-14T20:02:25.052Z"
   },
   {
    "duration": 273,
    "start_time": "2022-07-14T20:02:25.061Z"
   },
   {
    "duration": 12,
    "start_time": "2022-07-14T20:02:25.336Z"
   },
   {
    "duration": 139,
    "start_time": "2022-07-14T20:02:25.350Z"
   },
   {
    "duration": 10,
    "start_time": "2022-07-14T20:02:25.491Z"
   },
   {
    "duration": 25,
    "start_time": "2022-07-14T20:02:25.502Z"
   },
   {
    "duration": 174,
    "start_time": "2022-07-14T20:02:25.530Z"
   },
   {
    "duration": 184,
    "start_time": "2022-07-14T20:02:25.706Z"
   },
   {
    "duration": 13,
    "start_time": "2022-07-14T20:02:25.892Z"
   },
   {
    "duration": 166,
    "start_time": "2022-07-14T20:02:25.906Z"
   },
   {
    "duration": 76,
    "start_time": "2022-07-14T20:02:26.074Z"
   },
   {
    "duration": 6,
    "start_time": "2022-07-14T20:02:26.152Z"
   },
   {
    "duration": 250,
    "start_time": "2022-07-14T20:02:26.162Z"
   },
   {
    "duration": 21,
    "start_time": "2022-07-14T20:02:26.414Z"
   },
   {
    "duration": 329,
    "start_time": "2022-07-14T20:02:26.438Z"
   },
   {
    "duration": 2690,
    "start_time": "2022-07-14T20:02:26.769Z"
   },
   {
    "duration": 856,
    "start_time": "2022-07-14T20:02:29.462Z"
   },
   {
    "duration": 1499,
    "start_time": "2022-07-14T20:02:30.329Z"
   },
   {
    "duration": 29,
    "start_time": "2022-07-14T20:02:31.830Z"
   },
   {
    "duration": 141,
    "start_time": "2022-07-14T20:02:31.861Z"
   },
   {
    "duration": 228,
    "start_time": "2022-07-14T20:03:19.410Z"
   },
   {
    "duration": 2,
    "start_time": "2022-07-14T20:03:24.780Z"
   },
   {
    "duration": 22,
    "start_time": "2022-07-14T20:03:24.784Z"
   },
   {
    "duration": 171,
    "start_time": "2022-07-14T20:03:24.808Z"
   },
   {
    "duration": 2064,
    "start_time": "2022-07-14T20:03:24.980Z"
   },
   {
    "duration": 44,
    "start_time": "2022-07-14T20:03:27.049Z"
   },
   {
    "duration": 29,
    "start_time": "2022-07-14T20:03:27.095Z"
   },
   {
    "duration": 12,
    "start_time": "2022-07-14T20:03:27.127Z"
   },
   {
    "duration": 31,
    "start_time": "2022-07-14T20:03:27.141Z"
   },
   {
    "duration": 9,
    "start_time": "2022-07-14T20:03:27.174Z"
   },
   {
    "duration": 8,
    "start_time": "2022-07-14T20:03:27.185Z"
   },
   {
    "duration": 29,
    "start_time": "2022-07-14T20:03:27.196Z"
   },
   {
    "duration": 8,
    "start_time": "2022-07-14T20:03:27.227Z"
   },
   {
    "duration": 108,
    "start_time": "2022-07-14T20:03:27.237Z"
   },
   {
    "duration": 44,
    "start_time": "2022-07-14T20:03:27.348Z"
   },
   {
    "duration": 61,
    "start_time": "2022-07-14T20:03:27.394Z"
   },
   {
    "duration": 35,
    "start_time": "2022-07-14T20:03:27.457Z"
   },
   {
    "duration": 2,
    "start_time": "2022-07-14T20:03:27.494Z"
   },
   {
    "duration": 269,
    "start_time": "2022-07-14T20:03:27.498Z"
   },
   {
    "duration": 12,
    "start_time": "2022-07-14T20:03:27.769Z"
   },
   {
    "duration": 146,
    "start_time": "2022-07-14T20:03:27.783Z"
   },
   {
    "duration": 17,
    "start_time": "2022-07-14T20:03:27.931Z"
   },
   {
    "duration": 12,
    "start_time": "2022-07-14T20:03:27.950Z"
   },
   {
    "duration": 137,
    "start_time": "2022-07-14T20:03:27.964Z"
   },
   {
    "duration": 157,
    "start_time": "2022-07-14T20:03:28.102Z"
   },
   {
    "duration": 11,
    "start_time": "2022-07-14T20:03:28.261Z"
   },
   {
    "duration": 159,
    "start_time": "2022-07-14T20:03:28.273Z"
   },
   {
    "duration": 51,
    "start_time": "2022-07-14T20:03:28.434Z"
   },
   {
    "duration": 5,
    "start_time": "2022-07-14T20:03:28.486Z"
   },
   {
    "duration": 136,
    "start_time": "2022-07-14T20:03:28.523Z"
   },
   {
    "duration": 6,
    "start_time": "2022-07-14T20:03:28.661Z"
   },
   {
    "duration": 445,
    "start_time": "2022-07-14T20:03:28.669Z"
   },
   {
    "duration": 2753,
    "start_time": "2022-07-14T20:03:29.115Z"
   },
   {
    "duration": 781,
    "start_time": "2022-07-14T20:03:31.871Z"
   },
   {
    "duration": 1522,
    "start_time": "2022-07-14T20:03:32.654Z"
   },
   {
    "duration": 225,
    "start_time": "2022-07-14T20:03:34.179Z"
   },
   {
    "duration": 3,
    "start_time": "2022-07-14T20:04:04.486Z"
   },
   {
    "duration": 25,
    "start_time": "2022-07-14T20:04:04.492Z"
   },
   {
    "duration": 188,
    "start_time": "2022-07-14T20:04:04.520Z"
   },
   {
    "duration": 2137,
    "start_time": "2022-07-14T20:04:04.710Z"
   },
   {
    "duration": 48,
    "start_time": "2022-07-14T20:04:06.851Z"
   },
   {
    "duration": 44,
    "start_time": "2022-07-14T20:04:06.901Z"
   },
   {
    "duration": 18,
    "start_time": "2022-07-14T20:04:06.953Z"
   },
   {
    "duration": 21,
    "start_time": "2022-07-14T20:04:06.973Z"
   },
   {
    "duration": 13,
    "start_time": "2022-07-14T20:04:06.996Z"
   },
   {
    "duration": 29,
    "start_time": "2022-07-14T20:04:07.011Z"
   },
   {
    "duration": 26,
    "start_time": "2022-07-14T20:04:07.045Z"
   },
   {
    "duration": 4,
    "start_time": "2022-07-14T20:04:07.073Z"
   },
   {
    "duration": 100,
    "start_time": "2022-07-14T20:04:07.079Z"
   },
   {
    "duration": 33,
    "start_time": "2022-07-14T20:04:07.181Z"
   },
   {
    "duration": 64,
    "start_time": "2022-07-14T20:04:07.215Z"
   },
   {
    "duration": 48,
    "start_time": "2022-07-14T20:04:07.282Z"
   },
   {
    "duration": 2,
    "start_time": "2022-07-14T20:04:07.332Z"
   },
   {
    "duration": 335,
    "start_time": "2022-07-14T20:04:07.337Z"
   },
   {
    "duration": 9,
    "start_time": "2022-07-14T20:04:07.673Z"
   },
   {
    "duration": 127,
    "start_time": "2022-07-14T20:04:07.684Z"
   },
   {
    "duration": 19,
    "start_time": "2022-07-14T20:04:07.813Z"
   },
   {
    "duration": 14,
    "start_time": "2022-07-14T20:04:07.835Z"
   },
   {
    "duration": 153,
    "start_time": "2022-07-14T20:04:07.852Z"
   },
   {
    "duration": 133,
    "start_time": "2022-07-14T20:04:08.007Z"
   },
   {
    "duration": 13,
    "start_time": "2022-07-14T20:04:08.142Z"
   },
   {
    "duration": 172,
    "start_time": "2022-07-14T20:04:08.157Z"
   },
   {
    "duration": 59,
    "start_time": "2022-07-14T20:04:08.331Z"
   },
   {
    "duration": 5,
    "start_time": "2022-07-14T20:04:08.392Z"
   },
   {
    "duration": 129,
    "start_time": "2022-07-14T20:04:08.400Z"
   },
   {
    "duration": 7,
    "start_time": "2022-07-14T20:04:08.531Z"
   },
   {
    "duration": 377,
    "start_time": "2022-07-14T20:04:08.539Z"
   },
   {
    "duration": 2791,
    "start_time": "2022-07-14T20:04:08.924Z"
   },
   {
    "duration": 642,
    "start_time": "2022-07-14T20:04:11.730Z"
   },
   {
    "duration": 1478,
    "start_time": "2022-07-14T20:04:12.373Z"
   },
   {
    "duration": 24,
    "start_time": "2022-07-14T20:04:13.853Z"
   },
   {
    "duration": 313,
    "start_time": "2022-07-14T20:04:46.061Z"
   },
   {
    "duration": 9,
    "start_time": "2022-07-14T20:05:40.581Z"
   },
   {
    "duration": 106,
    "start_time": "2022-07-14T20:05:55.989Z"
   },
   {
    "duration": 13,
    "start_time": "2022-07-14T20:06:09.430Z"
   },
   {
    "duration": 123,
    "start_time": "2022-07-14T20:07:09.579Z"
   },
   {
    "duration": 118,
    "start_time": "2022-07-14T20:08:51.995Z"
   },
   {
    "duration": 126,
    "start_time": "2022-07-14T20:09:08.529Z"
   },
   {
    "duration": 116,
    "start_time": "2022-07-14T20:09:25.019Z"
   },
   {
    "duration": 4184,
    "start_time": "2022-07-14T20:13:04.454Z"
   },
   {
    "duration": 3857,
    "start_time": "2022-07-14T20:13:21.550Z"
   },
   {
    "duration": 134,
    "start_time": "2022-07-14T20:14:38.860Z"
   },
   {
    "duration": 6652,
    "start_time": "2022-07-14T20:14:48.081Z"
   },
   {
    "duration": 17,
    "start_time": "2022-07-14T20:18:14.941Z"
   },
   {
    "duration": 23,
    "start_time": "2022-07-14T20:18:22.536Z"
   },
   {
    "duration": 12,
    "start_time": "2022-07-14T20:18:31.605Z"
   },
   {
    "duration": 1086,
    "start_time": "2022-07-14T20:19:14.511Z"
   },
   {
    "duration": 261,
    "start_time": "2022-07-14T20:19:30.013Z"
   },
   {
    "duration": 261,
    "start_time": "2022-07-14T20:21:01.294Z"
   },
   {
    "duration": 283,
    "start_time": "2022-07-14T20:21:25.007Z"
   },
   {
    "duration": 105,
    "start_time": "2022-07-14T20:21:43.323Z"
   },
   {
    "duration": 405,
    "start_time": "2022-07-14T20:21:47.965Z"
   },
   {
    "duration": 336,
    "start_time": "2022-07-14T20:22:17.172Z"
   },
   {
    "duration": 313,
    "start_time": "2022-07-14T20:22:26.194Z"
   },
   {
    "duration": 10,
    "start_time": "2022-07-14T20:36:21.869Z"
   },
   {
    "duration": 8,
    "start_time": "2022-07-14T20:36:26.474Z"
   },
   {
    "duration": 8,
    "start_time": "2022-07-14T20:36:29.285Z"
   },
   {
    "duration": 8,
    "start_time": "2022-07-14T20:36:32.347Z"
   },
   {
    "duration": 8,
    "start_time": "2022-07-14T20:36:35.094Z"
   },
   {
    "duration": 7,
    "start_time": "2022-07-14T20:36:38.316Z"
   },
   {
    "duration": 7,
    "start_time": "2022-07-14T20:36:41.505Z"
   },
   {
    "duration": 10,
    "start_time": "2022-07-14T20:36:45.574Z"
   },
   {
    "duration": 8,
    "start_time": "2022-07-14T20:36:48.636Z"
   },
   {
    "duration": 9,
    "start_time": "2022-07-14T20:37:17.887Z"
   },
   {
    "duration": 2,
    "start_time": "2022-07-14T20:37:31.559Z"
   },
   {
    "duration": 18,
    "start_time": "2022-07-14T20:37:31.563Z"
   },
   {
    "duration": 121,
    "start_time": "2022-07-14T20:37:31.583Z"
   },
   {
    "duration": 1775,
    "start_time": "2022-07-14T20:37:31.706Z"
   },
   {
    "duration": 59,
    "start_time": "2022-07-14T20:37:33.483Z"
   },
   {
    "duration": 11,
    "start_time": "2022-07-14T20:37:33.544Z"
   },
   {
    "duration": 8,
    "start_time": "2022-07-14T20:37:33.556Z"
   },
   {
    "duration": 23,
    "start_time": "2022-07-14T20:37:33.565Z"
   },
   {
    "duration": 8,
    "start_time": "2022-07-14T20:37:33.590Z"
   },
   {
    "duration": 24,
    "start_time": "2022-07-14T20:37:33.600Z"
   },
   {
    "duration": 15,
    "start_time": "2022-07-14T20:37:33.626Z"
   },
   {
    "duration": 4,
    "start_time": "2022-07-14T20:37:33.643Z"
   },
   {
    "duration": 83,
    "start_time": "2022-07-14T20:37:33.648Z"
   },
   {
    "duration": 27,
    "start_time": "2022-07-14T20:37:33.733Z"
   },
   {
    "duration": 25,
    "start_time": "2022-07-14T20:37:33.762Z"
   },
   {
    "duration": 50,
    "start_time": "2022-07-14T20:37:33.789Z"
   },
   {
    "duration": 2,
    "start_time": "2022-07-14T20:37:33.841Z"
   },
   {
    "duration": 213,
    "start_time": "2022-07-14T20:37:33.844Z"
   },
   {
    "duration": 7,
    "start_time": "2022-07-14T20:37:34.059Z"
   },
   {
    "duration": 115,
    "start_time": "2022-07-14T20:37:34.068Z"
   },
   {
    "duration": 7,
    "start_time": "2022-07-14T20:37:34.185Z"
   },
   {
    "duration": 15,
    "start_time": "2022-07-14T20:37:34.193Z"
   },
   {
    "duration": 125,
    "start_time": "2022-07-14T20:37:34.210Z"
   },
   {
    "duration": 118,
    "start_time": "2022-07-14T20:37:34.336Z"
   },
   {
    "duration": 7,
    "start_time": "2022-07-14T20:37:34.456Z"
   },
   {
    "duration": 2,
    "start_time": "2022-07-14T20:37:44.341Z"
   },
   {
    "duration": 6,
    "start_time": "2022-07-14T20:37:44.345Z"
   },
   {
    "duration": 112,
    "start_time": "2022-07-14T20:37:44.353Z"
   },
   {
    "duration": 1816,
    "start_time": "2022-07-14T20:37:44.466Z"
   },
   {
    "duration": 56,
    "start_time": "2022-07-14T20:37:46.284Z"
   },
   {
    "duration": 10,
    "start_time": "2022-07-14T20:37:46.341Z"
   },
   {
    "duration": 8,
    "start_time": "2022-07-14T20:37:46.352Z"
   },
   {
    "duration": 13,
    "start_time": "2022-07-14T20:37:46.361Z"
   },
   {
    "duration": 8,
    "start_time": "2022-07-14T20:37:46.375Z"
   },
   {
    "duration": 8,
    "start_time": "2022-07-14T20:37:46.385Z"
   },
   {
    "duration": 37,
    "start_time": "2022-07-14T20:37:46.395Z"
   },
   {
    "duration": 4,
    "start_time": "2022-07-14T20:37:46.434Z"
   },
   {
    "duration": 72,
    "start_time": "2022-07-14T20:37:46.439Z"
   },
   {
    "duration": 36,
    "start_time": "2022-07-14T20:37:46.512Z"
   },
   {
    "duration": 26,
    "start_time": "2022-07-14T20:37:46.550Z"
   },
   {
    "duration": 66,
    "start_time": "2022-07-14T20:37:46.577Z"
   },
   {
    "duration": 3,
    "start_time": "2022-07-14T20:37:46.646Z"
   },
   {
    "duration": 201,
    "start_time": "2022-07-14T20:37:46.651Z"
   },
   {
    "duration": 8,
    "start_time": "2022-07-14T20:37:46.854Z"
   },
   {
    "duration": 116,
    "start_time": "2022-07-14T20:37:46.863Z"
   },
   {
    "duration": 7,
    "start_time": "2022-07-14T20:37:46.981Z"
   },
   {
    "duration": 20,
    "start_time": "2022-07-14T20:37:46.989Z"
   },
   {
    "duration": 119,
    "start_time": "2022-07-14T20:37:47.011Z"
   },
   {
    "duration": 120,
    "start_time": "2022-07-14T20:37:47.131Z"
   },
   {
    "duration": 9,
    "start_time": "2022-07-14T20:37:47.255Z"
   },
   {
    "duration": 3,
    "start_time": "2022-07-14T20:38:43.979Z"
   },
   {
    "duration": 6,
    "start_time": "2022-07-14T20:38:43.984Z"
   },
   {
    "duration": 115,
    "start_time": "2022-07-14T20:38:43.992Z"
   },
   {
    "duration": 1881,
    "start_time": "2022-07-14T20:38:44.123Z"
   },
   {
    "duration": 56,
    "start_time": "2022-07-14T20:38:46.007Z"
   },
   {
    "duration": 11,
    "start_time": "2022-07-14T20:38:46.065Z"
   },
   {
    "duration": 8,
    "start_time": "2022-07-14T20:38:46.077Z"
   },
   {
    "duration": 17,
    "start_time": "2022-07-14T20:38:46.086Z"
   },
   {
    "duration": 9,
    "start_time": "2022-07-14T20:38:46.123Z"
   },
   {
    "duration": 10,
    "start_time": "2022-07-14T20:38:46.135Z"
   },
   {
    "duration": 21,
    "start_time": "2022-07-14T20:38:46.146Z"
   },
   {
    "duration": 4,
    "start_time": "2022-07-14T20:38:46.169Z"
   },
   {
    "duration": 90,
    "start_time": "2022-07-14T20:38:46.174Z"
   },
   {
    "duration": 29,
    "start_time": "2022-07-14T20:38:46.265Z"
   },
   {
    "duration": 44,
    "start_time": "2022-07-14T20:38:46.296Z"
   },
   {
    "duration": 28,
    "start_time": "2022-07-14T20:38:46.341Z"
   },
   {
    "duration": 2,
    "start_time": "2022-07-14T20:38:46.371Z"
   },
   {
    "duration": 249,
    "start_time": "2022-07-14T20:38:46.374Z"
   },
   {
    "duration": 8,
    "start_time": "2022-07-14T20:38:46.625Z"
   },
   {
    "duration": 105,
    "start_time": "2022-07-14T20:38:46.635Z"
   },
   {
    "duration": 7,
    "start_time": "2022-07-14T20:38:46.742Z"
   },
   {
    "duration": 10,
    "start_time": "2022-07-14T20:38:46.750Z"
   },
   {
    "duration": 130,
    "start_time": "2022-07-14T20:38:46.761Z"
   },
   {
    "duration": 237,
    "start_time": "2022-07-14T20:38:46.893Z"
   },
   {
    "duration": 12,
    "start_time": "2022-07-14T20:38:47.133Z"
   },
   {
    "duration": 3,
    "start_time": "2022-07-14T20:39:07.966Z"
   },
   {
    "duration": 9,
    "start_time": "2022-07-14T20:39:07.972Z"
   },
   {
    "duration": 114,
    "start_time": "2022-07-14T20:39:07.983Z"
   },
   {
    "duration": 1740,
    "start_time": "2022-07-14T20:39:08.098Z"
   },
   {
    "duration": 46,
    "start_time": "2022-07-14T20:39:09.840Z"
   },
   {
    "duration": 10,
    "start_time": "2022-07-14T20:39:09.887Z"
   },
   {
    "duration": 29,
    "start_time": "2022-07-14T20:39:09.899Z"
   },
   {
    "duration": 16,
    "start_time": "2022-07-14T20:39:09.930Z"
   },
   {
    "duration": 10,
    "start_time": "2022-07-14T20:39:09.947Z"
   },
   {
    "duration": 8,
    "start_time": "2022-07-14T20:39:09.958Z"
   },
   {
    "duration": 18,
    "start_time": "2022-07-14T20:39:09.968Z"
   },
   {
    "duration": 4,
    "start_time": "2022-07-14T20:39:09.987Z"
   },
   {
    "duration": 97,
    "start_time": "2022-07-14T20:39:09.993Z"
   },
   {
    "duration": 36,
    "start_time": "2022-07-14T20:39:10.091Z"
   },
   {
    "duration": 28,
    "start_time": "2022-07-14T20:39:10.129Z"
   },
   {
    "duration": 31,
    "start_time": "2022-07-14T20:39:10.159Z"
   },
   {
    "duration": 2,
    "start_time": "2022-07-14T20:39:10.193Z"
   },
   {
    "duration": 254,
    "start_time": "2022-07-14T20:39:10.196Z"
   },
   {
    "duration": 8,
    "start_time": "2022-07-14T20:39:10.451Z"
   },
   {
    "duration": 215,
    "start_time": "2022-07-14T20:39:10.460Z"
   },
   {
    "duration": 7,
    "start_time": "2022-07-14T20:39:10.677Z"
   },
   {
    "duration": 8,
    "start_time": "2022-07-14T20:39:10.686Z"
   },
   {
    "duration": 130,
    "start_time": "2022-07-14T20:39:10.695Z"
   },
   {
    "duration": 119,
    "start_time": "2022-07-14T20:39:10.827Z"
   },
   {
    "duration": 11,
    "start_time": "2022-07-14T20:39:10.948Z"
   },
   {
    "duration": 13,
    "start_time": "2022-07-14T20:40:42.198Z"
   },
   {
    "duration": 2,
    "start_time": "2022-07-14T20:41:36.014Z"
   },
   {
    "duration": 12,
    "start_time": "2022-07-14T20:41:36.018Z"
   },
   {
    "duration": 117,
    "start_time": "2022-07-14T20:41:36.032Z"
   },
   {
    "duration": 1805,
    "start_time": "2022-07-14T20:41:36.151Z"
   },
   {
    "duration": 41,
    "start_time": "2022-07-14T20:41:37.958Z"
   },
   {
    "duration": 26,
    "start_time": "2022-07-14T20:41:38.000Z"
   },
   {
    "duration": 8,
    "start_time": "2022-07-14T20:41:38.028Z"
   },
   {
    "duration": 15,
    "start_time": "2022-07-14T20:41:38.037Z"
   },
   {
    "duration": 9,
    "start_time": "2022-07-14T20:41:38.054Z"
   },
   {
    "duration": 9,
    "start_time": "2022-07-14T20:41:38.065Z"
   },
   {
    "duration": 17,
    "start_time": "2022-07-14T20:41:38.076Z"
   },
   {
    "duration": 5,
    "start_time": "2022-07-14T20:41:38.095Z"
   },
   {
    "duration": 69,
    "start_time": "2022-07-14T20:41:38.124Z"
   },
   {
    "duration": 46,
    "start_time": "2022-07-14T20:41:38.195Z"
   },
   {
    "duration": 27,
    "start_time": "2022-07-14T20:41:38.243Z"
   },
   {
    "duration": 28,
    "start_time": "2022-07-14T20:41:38.271Z"
   },
   {
    "duration": 2,
    "start_time": "2022-07-14T20:41:38.323Z"
   },
   {
    "duration": 227,
    "start_time": "2022-07-14T20:41:38.327Z"
   },
   {
    "duration": 8,
    "start_time": "2022-07-14T20:41:38.556Z"
   },
   {
    "duration": 118,
    "start_time": "2022-07-14T20:41:38.565Z"
   },
   {
    "duration": 8,
    "start_time": "2022-07-14T20:41:38.685Z"
   },
   {
    "duration": 9,
    "start_time": "2022-07-14T20:41:38.694Z"
   },
   {
    "duration": 142,
    "start_time": "2022-07-14T20:41:38.704Z"
   },
   {
    "duration": 116,
    "start_time": "2022-07-14T20:41:38.848Z"
   },
   {
    "duration": 12,
    "start_time": "2022-07-14T20:41:38.965Z"
   },
   {
    "duration": 10,
    "start_time": "2022-07-14T20:41:38.978Z"
   },
   {
    "duration": 140,
    "start_time": "2022-07-14T20:41:38.990Z"
   },
   {
    "duration": 46,
    "start_time": "2022-07-14T20:41:39.132Z"
   },
   {
    "duration": 6,
    "start_time": "2022-07-14T20:41:39.181Z"
   },
   {
    "duration": 5,
    "start_time": "2022-07-14T20:41:39.189Z"
   },
   {
    "duration": 3,
    "start_time": "2022-07-14T20:43:54.584Z"
   },
   {
    "duration": 10,
    "start_time": "2022-07-14T20:43:54.589Z"
   },
   {
    "duration": 135,
    "start_time": "2022-07-14T20:43:54.600Z"
   },
   {
    "duration": 1870,
    "start_time": "2022-07-14T20:43:54.737Z"
   },
   {
    "duration": 58,
    "start_time": "2022-07-14T20:43:56.610Z"
   },
   {
    "duration": 11,
    "start_time": "2022-07-14T20:43:56.670Z"
   },
   {
    "duration": 9,
    "start_time": "2022-07-14T20:43:56.682Z"
   },
   {
    "duration": 33,
    "start_time": "2022-07-14T20:43:56.692Z"
   },
   {
    "duration": 10,
    "start_time": "2022-07-14T20:43:56.726Z"
   },
   {
    "duration": 9,
    "start_time": "2022-07-14T20:43:56.738Z"
   },
   {
    "duration": 28,
    "start_time": "2022-07-14T20:43:56.748Z"
   },
   {
    "duration": 4,
    "start_time": "2022-07-14T20:43:56.778Z"
   },
   {
    "duration": 78,
    "start_time": "2022-07-14T20:43:56.784Z"
   },
   {
    "duration": 33,
    "start_time": "2022-07-14T20:43:56.864Z"
   },
   {
    "duration": 38,
    "start_time": "2022-07-14T20:43:56.898Z"
   },
   {
    "duration": 29,
    "start_time": "2022-07-14T20:43:56.937Z"
   },
   {
    "duration": 2,
    "start_time": "2022-07-14T20:43:56.968Z"
   },
   {
    "duration": 396,
    "start_time": "2022-07-14T20:43:56.971Z"
   },
   {
    "duration": 10,
    "start_time": "2022-07-14T20:43:57.424Z"
   },
   {
    "duration": 122,
    "start_time": "2022-07-14T20:43:57.435Z"
   },
   {
    "duration": 7,
    "start_time": "2022-07-14T20:43:57.559Z"
   },
   {
    "duration": 11,
    "start_time": "2022-07-14T20:43:57.568Z"
   },
   {
    "duration": 124,
    "start_time": "2022-07-14T20:43:57.581Z"
   },
   {
    "duration": 122,
    "start_time": "2022-07-14T20:43:57.707Z"
   },
   {
    "duration": 11,
    "start_time": "2022-07-14T20:43:57.832Z"
   },
   {
    "duration": 14,
    "start_time": "2022-07-14T20:43:57.845Z"
   },
   {
    "duration": 131,
    "start_time": "2022-07-14T20:43:57.861Z"
   },
   {
    "duration": 58,
    "start_time": "2022-07-14T20:43:57.993Z"
   },
   {
    "duration": 8,
    "start_time": "2022-07-14T20:43:58.052Z"
   },
   {
    "duration": 6,
    "start_time": "2022-07-14T20:43:58.061Z"
   },
   {
    "duration": 8,
    "start_time": "2022-07-14T20:44:25.725Z"
   },
   {
    "duration": 2,
    "start_time": "2022-07-14T20:45:31.277Z"
   },
   {
    "duration": 71,
    "start_time": "2022-07-14T20:45:31.281Z"
   },
   {
    "duration": 214,
    "start_time": "2022-07-14T20:45:31.354Z"
   },
   {
    "duration": 1791,
    "start_time": "2022-07-14T20:45:31.569Z"
   },
   {
    "duration": 44,
    "start_time": "2022-07-14T20:45:33.363Z"
   },
   {
    "duration": 10,
    "start_time": "2022-07-14T20:45:33.424Z"
   },
   {
    "duration": 10,
    "start_time": "2022-07-14T20:45:33.436Z"
   },
   {
    "duration": 16,
    "start_time": "2022-07-14T20:45:33.447Z"
   },
   {
    "duration": 9,
    "start_time": "2022-07-14T20:45:33.465Z"
   },
   {
    "duration": 9,
    "start_time": "2022-07-14T20:45:33.475Z"
   },
   {
    "duration": 39,
    "start_time": "2022-07-14T20:45:33.486Z"
   },
   {
    "duration": 5,
    "start_time": "2022-07-14T20:45:33.526Z"
   },
   {
    "duration": 96,
    "start_time": "2022-07-14T20:45:33.532Z"
   },
   {
    "duration": 28,
    "start_time": "2022-07-14T20:45:33.630Z"
   },
   {
    "duration": 26,
    "start_time": "2022-07-14T20:45:33.659Z"
   },
   {
    "duration": 54,
    "start_time": "2022-07-14T20:45:33.687Z"
   },
   {
    "duration": 2,
    "start_time": "2022-07-14T20:45:33.743Z"
   },
   {
    "duration": 219,
    "start_time": "2022-07-14T20:45:33.746Z"
   },
   {
    "duration": 9,
    "start_time": "2022-07-14T20:45:33.966Z"
   },
   {
    "duration": 118,
    "start_time": "2022-07-14T20:45:33.977Z"
   },
   {
    "duration": 8,
    "start_time": "2022-07-14T20:45:34.097Z"
   },
   {
    "duration": 20,
    "start_time": "2022-07-14T20:45:34.106Z"
   },
   {
    "duration": 122,
    "start_time": "2022-07-14T20:45:34.128Z"
   },
   {
    "duration": 122,
    "start_time": "2022-07-14T20:45:34.252Z"
   },
   {
    "duration": 11,
    "start_time": "2022-07-14T20:45:34.376Z"
   },
   {
    "duration": 12,
    "start_time": "2022-07-14T20:45:34.389Z"
   },
   {
    "duration": 267,
    "start_time": "2022-07-14T20:45:34.404Z"
   },
   {
    "duration": 64,
    "start_time": "2022-07-14T20:45:34.673Z"
   },
   {
    "duration": 6,
    "start_time": "2022-07-14T20:45:34.740Z"
   },
   {
    "duration": 8,
    "start_time": "2022-07-14T20:45:34.747Z"
   },
   {
    "duration": 120,
    "start_time": "2022-07-14T20:45:34.756Z"
   },
   {
    "duration": 7,
    "start_time": "2022-07-14T20:45:34.878Z"
   },
   {
    "duration": 9,
    "start_time": "2022-07-14T20:45:34.886Z"
   },
   {
    "duration": 3,
    "start_time": "2022-07-14T20:47:28.119Z"
   },
   {
    "duration": 13,
    "start_time": "2022-07-14T20:47:28.124Z"
   },
   {
    "duration": 116,
    "start_time": "2022-07-14T20:47:28.139Z"
   },
   {
    "duration": 1676,
    "start_time": "2022-07-14T20:47:28.257Z"
   },
   {
    "duration": 41,
    "start_time": "2022-07-14T20:47:29.935Z"
   },
   {
    "duration": 10,
    "start_time": "2022-07-14T20:47:29.977Z"
   },
   {
    "duration": 13,
    "start_time": "2022-07-14T20:47:29.988Z"
   },
   {
    "duration": 27,
    "start_time": "2022-07-14T20:47:30.003Z"
   },
   {
    "duration": 9,
    "start_time": "2022-07-14T20:47:30.032Z"
   },
   {
    "duration": 15,
    "start_time": "2022-07-14T20:47:30.043Z"
   },
   {
    "duration": 30,
    "start_time": "2022-07-14T20:47:30.060Z"
   },
   {
    "duration": 5,
    "start_time": "2022-07-14T20:47:30.091Z"
   },
   {
    "duration": 184,
    "start_time": "2022-07-14T20:47:30.098Z"
   },
   {
    "duration": 41,
    "start_time": "2022-07-14T20:47:30.284Z"
   },
   {
    "duration": 26,
    "start_time": "2022-07-14T20:47:30.327Z"
   },
   {
    "duration": 33,
    "start_time": "2022-07-14T20:47:30.355Z"
   },
   {
    "duration": 2,
    "start_time": "2022-07-14T20:47:30.389Z"
   },
   {
    "duration": 257,
    "start_time": "2022-07-14T20:47:30.393Z"
   },
   {
    "duration": 9,
    "start_time": "2022-07-14T20:47:30.652Z"
   },
   {
    "duration": 115,
    "start_time": "2022-07-14T20:47:30.662Z"
   },
   {
    "duration": 7,
    "start_time": "2022-07-14T20:47:30.779Z"
   },
   {
    "duration": 20,
    "start_time": "2022-07-14T20:47:30.788Z"
   },
   {
    "duration": 130,
    "start_time": "2022-07-14T20:47:30.809Z"
   },
   {
    "duration": 128,
    "start_time": "2022-07-14T20:47:30.940Z"
   },
   {
    "duration": 12,
    "start_time": "2022-07-14T20:47:31.070Z"
   },
   {
    "duration": 34,
    "start_time": "2022-07-14T20:47:31.083Z"
   },
   {
    "duration": 124,
    "start_time": "2022-07-14T20:47:31.119Z"
   },
   {
    "duration": 48,
    "start_time": "2022-07-14T20:47:31.245Z"
   },
   {
    "duration": 29,
    "start_time": "2022-07-14T20:47:31.296Z"
   },
   {
    "duration": 9,
    "start_time": "2022-07-14T20:47:31.327Z"
   },
   {
    "duration": 140,
    "start_time": "2022-07-14T20:47:31.337Z"
   },
   {
    "duration": 50,
    "start_time": "2022-07-14T20:47:31.479Z"
   },
   {
    "duration": 5,
    "start_time": "2022-07-14T20:47:31.531Z"
   },
   {
    "duration": 3,
    "start_time": "2022-07-14T20:47:48.022Z"
   },
   {
    "duration": 18,
    "start_time": "2022-07-14T20:47:48.027Z"
   },
   {
    "duration": 127,
    "start_time": "2022-07-14T20:47:48.046Z"
   },
   {
    "duration": 2005,
    "start_time": "2022-07-14T20:47:48.175Z"
   },
   {
    "duration": 68,
    "start_time": "2022-07-14T20:47:50.183Z"
   },
   {
    "duration": 11,
    "start_time": "2022-07-14T20:47:50.253Z"
   },
   {
    "duration": 9,
    "start_time": "2022-07-14T20:47:50.265Z"
   },
   {
    "duration": 22,
    "start_time": "2022-07-14T20:47:50.275Z"
   },
   {
    "duration": 26,
    "start_time": "2022-07-14T20:47:50.299Z"
   },
   {
    "duration": 16,
    "start_time": "2022-07-14T20:47:50.328Z"
   },
   {
    "duration": 21,
    "start_time": "2022-07-14T20:47:50.346Z"
   },
   {
    "duration": 7,
    "start_time": "2022-07-14T20:47:50.368Z"
   },
   {
    "duration": 99,
    "start_time": "2022-07-14T20:47:50.376Z"
   },
   {
    "duration": 31,
    "start_time": "2022-07-14T20:47:50.477Z"
   },
   {
    "duration": 34,
    "start_time": "2022-07-14T20:47:50.525Z"
   },
   {
    "duration": 31,
    "start_time": "2022-07-14T20:47:50.561Z"
   },
   {
    "duration": 2,
    "start_time": "2022-07-14T20:47:50.593Z"
   },
   {
    "duration": 275,
    "start_time": "2022-07-14T20:47:50.597Z"
   },
   {
    "duration": 8,
    "start_time": "2022-07-14T20:47:50.873Z"
   },
   {
    "duration": 123,
    "start_time": "2022-07-14T20:47:50.883Z"
   },
   {
    "duration": 16,
    "start_time": "2022-07-14T20:47:51.008Z"
   },
   {
    "duration": 8,
    "start_time": "2022-07-14T20:47:51.026Z"
   },
   {
    "duration": 132,
    "start_time": "2022-07-14T20:47:51.036Z"
   },
   {
    "duration": 124,
    "start_time": "2022-07-14T20:47:51.170Z"
   },
   {
    "duration": 12,
    "start_time": "2022-07-14T20:47:51.296Z"
   },
   {
    "duration": 16,
    "start_time": "2022-07-14T20:47:51.324Z"
   },
   {
    "duration": 140,
    "start_time": "2022-07-14T20:47:51.342Z"
   },
   {
    "duration": 57,
    "start_time": "2022-07-14T20:47:51.484Z"
   },
   {
    "duration": 7,
    "start_time": "2022-07-14T20:47:51.544Z"
   },
   {
    "duration": 8,
    "start_time": "2022-07-14T20:47:51.552Z"
   },
   {
    "duration": 123,
    "start_time": "2022-07-14T20:47:51.561Z"
   },
   {
    "duration": 49,
    "start_time": "2022-07-14T20:47:51.686Z"
   },
   {
    "duration": 6,
    "start_time": "2022-07-14T20:47:51.737Z"
   },
   {
    "duration": 2,
    "start_time": "2022-07-14T20:50:15.511Z"
   },
   {
    "duration": 8,
    "start_time": "2022-07-14T20:50:15.515Z"
   },
   {
    "duration": 127,
    "start_time": "2022-07-14T20:50:15.525Z"
   },
   {
    "duration": 1845,
    "start_time": "2022-07-14T20:50:15.654Z"
   },
   {
    "duration": 49,
    "start_time": "2022-07-14T20:50:17.501Z"
   },
   {
    "duration": 10,
    "start_time": "2022-07-14T20:50:17.552Z"
   },
   {
    "duration": 9,
    "start_time": "2022-07-14T20:50:17.563Z"
   },
   {
    "duration": 17,
    "start_time": "2022-07-14T20:50:17.573Z"
   },
   {
    "duration": 34,
    "start_time": "2022-07-14T20:50:17.592Z"
   },
   {
    "duration": 13,
    "start_time": "2022-07-14T20:50:17.629Z"
   },
   {
    "duration": 23,
    "start_time": "2022-07-14T20:50:17.644Z"
   },
   {
    "duration": 5,
    "start_time": "2022-07-14T20:50:17.668Z"
   },
   {
    "duration": 91,
    "start_time": "2022-07-14T20:50:17.674Z"
   },
   {
    "duration": 28,
    "start_time": "2022-07-14T20:50:17.767Z"
   },
   {
    "duration": 41,
    "start_time": "2022-07-14T20:50:17.797Z"
   },
   {
    "duration": 34,
    "start_time": "2022-07-14T20:50:17.839Z"
   },
   {
    "duration": 2,
    "start_time": "2022-07-14T20:50:17.875Z"
   },
   {
    "duration": 228,
    "start_time": "2022-07-14T20:50:17.878Z"
   },
   {
    "duration": 22,
    "start_time": "2022-07-14T20:50:18.107Z"
   },
   {
    "duration": 107,
    "start_time": "2022-07-14T20:50:18.130Z"
   },
   {
    "duration": 7,
    "start_time": "2022-07-14T20:50:18.239Z"
   },
   {
    "duration": 9,
    "start_time": "2022-07-14T20:50:18.247Z"
   },
   {
    "duration": 135,
    "start_time": "2022-07-14T20:50:18.257Z"
   },
   {
    "duration": 214,
    "start_time": "2022-07-14T20:50:18.394Z"
   },
   {
    "duration": 19,
    "start_time": "2022-07-14T20:50:18.611Z"
   },
   {
    "duration": 11,
    "start_time": "2022-07-14T20:50:18.632Z"
   },
   {
    "duration": 138,
    "start_time": "2022-07-14T20:50:18.644Z"
   },
   {
    "duration": 59,
    "start_time": "2022-07-14T20:50:18.783Z"
   },
   {
    "duration": 7,
    "start_time": "2022-07-14T20:50:18.843Z"
   },
   {
    "duration": 6,
    "start_time": "2022-07-14T20:50:18.851Z"
   },
   {
    "duration": 125,
    "start_time": "2022-07-14T20:50:18.858Z"
   },
   {
    "duration": 49,
    "start_time": "2022-07-14T20:50:18.985Z"
   },
   {
    "duration": 5,
    "start_time": "2022-07-14T20:50:19.035Z"
   },
   {
    "duration": 3,
    "start_time": "2022-07-14T20:50:45.172Z"
   },
   {
    "duration": 14,
    "start_time": "2022-07-14T20:50:45.177Z"
   },
   {
    "duration": 138,
    "start_time": "2022-07-14T20:50:45.192Z"
   },
   {
    "duration": 1815,
    "start_time": "2022-07-14T20:50:45.332Z"
   },
   {
    "duration": 79,
    "start_time": "2022-07-14T20:50:47.149Z"
   },
   {
    "duration": 14,
    "start_time": "2022-07-14T20:50:47.230Z"
   },
   {
    "duration": 11,
    "start_time": "2022-07-14T20:50:47.246Z"
   },
   {
    "duration": 35,
    "start_time": "2022-07-14T20:50:47.258Z"
   },
   {
    "duration": 12,
    "start_time": "2022-07-14T20:50:47.295Z"
   },
   {
    "duration": 23,
    "start_time": "2022-07-14T20:50:47.309Z"
   },
   {
    "duration": 24,
    "start_time": "2022-07-14T20:50:47.335Z"
   },
   {
    "duration": 5,
    "start_time": "2022-07-14T20:50:47.360Z"
   },
   {
    "duration": 83,
    "start_time": "2022-07-14T20:50:47.367Z"
   },
   {
    "duration": 33,
    "start_time": "2022-07-14T20:50:47.453Z"
   },
   {
    "duration": 46,
    "start_time": "2022-07-14T20:50:47.487Z"
   },
   {
    "duration": 29,
    "start_time": "2022-07-14T20:50:47.534Z"
   },
   {
    "duration": 2,
    "start_time": "2022-07-14T20:50:47.565Z"
   },
   {
    "duration": 224,
    "start_time": "2022-07-14T20:50:47.569Z"
   },
   {
    "duration": 29,
    "start_time": "2022-07-14T20:50:47.795Z"
   },
   {
    "duration": 114,
    "start_time": "2022-07-14T20:50:47.826Z"
   },
   {
    "duration": 7,
    "start_time": "2022-07-14T20:50:47.941Z"
   },
   {
    "duration": 18,
    "start_time": "2022-07-14T20:50:47.949Z"
   },
   {
    "duration": 122,
    "start_time": "2022-07-14T20:50:47.969Z"
   },
   {
    "duration": 118,
    "start_time": "2022-07-14T20:50:48.093Z"
   },
   {
    "duration": 20,
    "start_time": "2022-07-14T20:50:48.212Z"
   },
   {
    "duration": 19,
    "start_time": "2022-07-14T20:50:48.233Z"
   },
   {
    "duration": 126,
    "start_time": "2022-07-14T20:50:48.253Z"
   },
   {
    "duration": 56,
    "start_time": "2022-07-14T20:50:48.380Z"
   },
   {
    "duration": 7,
    "start_time": "2022-07-14T20:50:48.439Z"
   },
   {
    "duration": 8,
    "start_time": "2022-07-14T20:50:48.448Z"
   },
   {
    "duration": 124,
    "start_time": "2022-07-14T20:50:48.458Z"
   },
   {
    "duration": 51,
    "start_time": "2022-07-14T20:50:48.583Z"
   },
   {
    "duration": 4,
    "start_time": "2022-07-14T20:50:48.636Z"
   },
   {
    "duration": 3,
    "start_time": "2022-07-14T21:02:51.699Z"
   },
   {
    "duration": 7,
    "start_time": "2022-07-14T21:02:51.704Z"
   },
   {
    "duration": 127,
    "start_time": "2022-07-14T21:02:51.713Z"
   },
   {
    "duration": 1947,
    "start_time": "2022-07-14T21:02:51.842Z"
   },
   {
    "duration": 66,
    "start_time": "2022-07-14T21:02:53.792Z"
   },
   {
    "duration": 16,
    "start_time": "2022-07-14T21:02:53.860Z"
   },
   {
    "duration": 14,
    "start_time": "2022-07-14T21:02:53.878Z"
   },
   {
    "duration": 42,
    "start_time": "2022-07-14T21:02:53.894Z"
   },
   {
    "duration": 10,
    "start_time": "2022-07-14T21:02:53.939Z"
   },
   {
    "duration": 14,
    "start_time": "2022-07-14T21:02:53.952Z"
   },
   {
    "duration": 26,
    "start_time": "2022-07-14T21:02:53.967Z"
   },
   {
    "duration": 8,
    "start_time": "2022-07-14T21:02:53.996Z"
   },
   {
    "duration": 94,
    "start_time": "2022-07-14T21:02:54.005Z"
   },
   {
    "duration": 54,
    "start_time": "2022-07-14T21:02:54.101Z"
   },
   {
    "duration": 32,
    "start_time": "2022-07-14T21:02:54.156Z"
   },
   {
    "duration": 56,
    "start_time": "2022-07-14T21:02:54.190Z"
   },
   {
    "duration": 2,
    "start_time": "2022-07-14T21:02:54.249Z"
   },
   {
    "duration": 251,
    "start_time": "2022-07-14T21:02:54.253Z"
   },
   {
    "duration": 28,
    "start_time": "2022-07-14T21:02:54.506Z"
   },
   {
    "duration": 164,
    "start_time": "2022-07-14T21:02:54.536Z"
   },
   {
    "duration": 6,
    "start_time": "2022-07-14T21:02:54.704Z"
   },
   {
    "duration": 27,
    "start_time": "2022-07-14T21:02:54.711Z"
   },
   {
    "duration": 3,
    "start_time": "2022-07-14T21:04:40.269Z"
   },
   {
    "duration": 5,
    "start_time": "2022-07-14T21:04:40.274Z"
   },
   {
    "duration": 124,
    "start_time": "2022-07-14T21:04:40.282Z"
   },
   {
    "duration": 2103,
    "start_time": "2022-07-14T21:04:40.408Z"
   },
   {
    "duration": 64,
    "start_time": "2022-07-14T21:04:42.513Z"
   },
   {
    "duration": 11,
    "start_time": "2022-07-14T21:04:42.579Z"
   },
   {
    "duration": 32,
    "start_time": "2022-07-14T21:04:42.592Z"
   },
   {
    "duration": 29,
    "start_time": "2022-07-14T21:04:42.627Z"
   },
   {
    "duration": 9,
    "start_time": "2022-07-14T21:04:42.658Z"
   },
   {
    "duration": 8,
    "start_time": "2022-07-14T21:04:42.670Z"
   },
   {
    "duration": 18,
    "start_time": "2022-07-14T21:04:42.680Z"
   },
   {
    "duration": 4,
    "start_time": "2022-07-14T21:04:42.700Z"
   },
   {
    "duration": 99,
    "start_time": "2022-07-14T21:04:42.705Z"
   },
   {
    "duration": 60,
    "start_time": "2022-07-14T21:04:42.806Z"
   },
   {
    "duration": 26,
    "start_time": "2022-07-14T21:04:42.868Z"
   },
   {
    "duration": 69,
    "start_time": "2022-07-14T21:04:42.896Z"
   },
   {
    "duration": 3,
    "start_time": "2022-07-14T21:04:42.967Z"
   },
   {
    "duration": 270,
    "start_time": "2022-07-14T21:04:42.972Z"
   },
   {
    "duration": 10,
    "start_time": "2022-07-14T21:04:43.246Z"
   },
   {
    "duration": 137,
    "start_time": "2022-07-14T21:04:43.257Z"
   },
   {
    "duration": 5,
    "start_time": "2022-07-14T21:04:43.395Z"
   },
   {
    "duration": 23,
    "start_time": "2022-07-14T21:04:43.402Z"
   },
   {
    "duration": 148,
    "start_time": "2022-07-14T21:04:43.428Z"
   },
   {
    "duration": 131,
    "start_time": "2022-07-14T21:04:43.578Z"
   },
   {
    "duration": 20,
    "start_time": "2022-07-14T21:04:43.712Z"
   },
   {
    "duration": 26,
    "start_time": "2022-07-14T21:04:43.735Z"
   },
   {
    "duration": 3,
    "start_time": "2022-07-14T21:06:11.722Z"
   },
   {
    "duration": 13,
    "start_time": "2022-07-14T21:06:11.727Z"
   },
   {
    "duration": 127,
    "start_time": "2022-07-14T21:06:11.743Z"
   },
   {
    "duration": 1880,
    "start_time": "2022-07-14T21:06:11.872Z"
   },
   {
    "duration": 45,
    "start_time": "2022-07-14T21:06:13.754Z"
   },
   {
    "duration": 28,
    "start_time": "2022-07-14T21:06:13.801Z"
   },
   {
    "duration": 12,
    "start_time": "2022-07-14T21:06:13.831Z"
   },
   {
    "duration": 17,
    "start_time": "2022-07-14T21:06:13.844Z"
   },
   {
    "duration": 12,
    "start_time": "2022-07-14T21:06:13.865Z"
   },
   {
    "duration": 9,
    "start_time": "2022-07-14T21:06:13.879Z"
   },
   {
    "duration": 45,
    "start_time": "2022-07-14T21:06:13.891Z"
   },
   {
    "duration": 10,
    "start_time": "2022-07-14T21:06:13.939Z"
   },
   {
    "duration": 93,
    "start_time": "2022-07-14T21:06:13.951Z"
   },
   {
    "duration": 33,
    "start_time": "2022-07-14T21:06:14.046Z"
   },
   {
    "duration": 58,
    "start_time": "2022-07-14T21:06:14.081Z"
   },
   {
    "duration": 33,
    "start_time": "2022-07-14T21:06:14.142Z"
   },
   {
    "duration": 3,
    "start_time": "2022-07-14T21:06:14.176Z"
   },
   {
    "duration": 284,
    "start_time": "2022-07-14T21:06:14.180Z"
   },
   {
    "duration": 9,
    "start_time": "2022-07-14T21:06:14.465Z"
   },
   {
    "duration": 158,
    "start_time": "2022-07-14T21:06:14.476Z"
   },
   {
    "duration": 10,
    "start_time": "2022-07-14T21:06:14.636Z"
   },
   {
    "duration": 15,
    "start_time": "2022-07-14T21:06:14.648Z"
   },
   {
    "duration": 166,
    "start_time": "2022-07-14T21:06:14.665Z"
   },
   {
    "duration": 157,
    "start_time": "2022-07-14T21:06:14.835Z"
   },
   {
    "duration": 8,
    "start_time": "2022-07-14T21:06:14.993Z"
   },
   {
    "duration": 47,
    "start_time": "2022-07-14T21:06:15.003Z"
   },
   {
    "duration": 257,
    "start_time": "2022-07-14T21:06:15.052Z"
   },
   {
    "duration": 52,
    "start_time": "2022-07-14T21:06:15.310Z"
   },
   {
    "duration": 6,
    "start_time": "2022-07-14T21:06:15.366Z"
   },
   {
    "duration": 9,
    "start_time": "2022-07-14T21:06:15.374Z"
   },
   {
    "duration": 3,
    "start_time": "2022-07-14T21:07:14.553Z"
   },
   {
    "duration": 9,
    "start_time": "2022-07-14T21:07:14.557Z"
   },
   {
    "duration": 137,
    "start_time": "2022-07-14T21:07:14.568Z"
   },
   {
    "duration": 1967,
    "start_time": "2022-07-14T21:07:14.706Z"
   },
   {
    "duration": 60,
    "start_time": "2022-07-14T21:07:16.675Z"
   },
   {
    "duration": 16,
    "start_time": "2022-07-14T21:07:16.738Z"
   },
   {
    "duration": 21,
    "start_time": "2022-07-14T21:07:16.756Z"
   },
   {
    "duration": 25,
    "start_time": "2022-07-14T21:07:16.778Z"
   },
   {
    "duration": 10,
    "start_time": "2022-07-14T21:07:16.805Z"
   },
   {
    "duration": 24,
    "start_time": "2022-07-14T21:07:16.817Z"
   },
   {
    "duration": 18,
    "start_time": "2022-07-14T21:07:16.843Z"
   },
   {
    "duration": 6,
    "start_time": "2022-07-14T21:07:16.863Z"
   },
   {
    "duration": 87,
    "start_time": "2022-07-14T21:07:16.870Z"
   },
   {
    "duration": 30,
    "start_time": "2022-07-14T21:07:16.959Z"
   },
   {
    "duration": 38,
    "start_time": "2022-07-14T21:07:16.990Z"
   },
   {
    "duration": 39,
    "start_time": "2022-07-14T21:07:17.031Z"
   },
   {
    "duration": 2,
    "start_time": "2022-07-14T21:07:17.072Z"
   },
   {
    "duration": 282,
    "start_time": "2022-07-14T21:07:17.076Z"
   },
   {
    "duration": 8,
    "start_time": "2022-07-14T21:07:17.359Z"
   },
   {
    "duration": 246,
    "start_time": "2022-07-14T21:07:17.368Z"
   },
   {
    "duration": 11,
    "start_time": "2022-07-14T21:07:17.616Z"
   },
   {
    "duration": 12,
    "start_time": "2022-07-14T21:07:17.630Z"
   },
   {
    "duration": 142,
    "start_time": "2022-07-14T21:07:17.644Z"
   },
   {
    "duration": 124,
    "start_time": "2022-07-14T21:07:17.788Z"
   },
   {
    "duration": 14,
    "start_time": "2022-07-14T21:07:17.915Z"
   },
   {
    "duration": 26,
    "start_time": "2022-07-14T21:07:17.932Z"
   },
   {
    "duration": 141,
    "start_time": "2022-07-14T21:07:17.960Z"
   },
   {
    "duration": 50,
    "start_time": "2022-07-14T21:07:18.102Z"
   },
   {
    "duration": 5,
    "start_time": "2022-07-14T21:07:18.154Z"
   },
   {
    "duration": 7,
    "start_time": "2022-07-14T21:07:18.161Z"
   },
   {
    "duration": 3,
    "start_time": "2022-07-14T21:08:20.919Z"
   },
   {
    "duration": 11,
    "start_time": "2022-07-14T21:08:20.924Z"
   },
   {
    "duration": 127,
    "start_time": "2022-07-14T21:08:20.937Z"
   },
   {
    "duration": 2106,
    "start_time": "2022-07-14T21:08:21.066Z"
   },
   {
    "duration": 78,
    "start_time": "2022-07-14T21:08:23.174Z"
   },
   {
    "duration": 10,
    "start_time": "2022-07-14T21:08:23.254Z"
   },
   {
    "duration": 19,
    "start_time": "2022-07-14T21:08:23.266Z"
   },
   {
    "duration": 31,
    "start_time": "2022-07-14T21:08:23.287Z"
   },
   {
    "duration": 14,
    "start_time": "2022-07-14T21:08:23.320Z"
   },
   {
    "duration": 25,
    "start_time": "2022-07-14T21:08:23.339Z"
   },
   {
    "duration": 21,
    "start_time": "2022-07-14T21:08:23.366Z"
   },
   {
    "duration": 8,
    "start_time": "2022-07-14T21:08:23.389Z"
   },
   {
    "duration": 94,
    "start_time": "2022-07-14T21:08:23.398Z"
   },
   {
    "duration": 52,
    "start_time": "2022-07-14T21:08:23.494Z"
   },
   {
    "duration": 29,
    "start_time": "2022-07-14T21:08:23.548Z"
   },
   {
    "duration": 61,
    "start_time": "2022-07-14T21:08:23.579Z"
   },
   {
    "duration": 3,
    "start_time": "2022-07-14T21:08:23.641Z"
   },
   {
    "duration": 259,
    "start_time": "2022-07-14T21:08:23.646Z"
   },
   {
    "duration": 29,
    "start_time": "2022-07-14T21:08:23.907Z"
   },
   {
    "duration": 124,
    "start_time": "2022-07-14T21:08:23.938Z"
   },
   {
    "duration": 6,
    "start_time": "2022-07-14T21:08:24.064Z"
   },
   {
    "duration": 12,
    "start_time": "2022-07-14T21:08:24.072Z"
   },
   {
    "duration": 147,
    "start_time": "2022-07-14T21:08:24.086Z"
   },
   {
    "duration": 127,
    "start_time": "2022-07-14T21:08:24.235Z"
   },
   {
    "duration": 9,
    "start_time": "2022-07-14T21:08:24.365Z"
   },
   {
    "duration": 15,
    "start_time": "2022-07-14T21:08:24.375Z"
   },
   {
    "duration": 4,
    "start_time": "2022-07-14T21:09:21.047Z"
   },
   {
    "duration": 9,
    "start_time": "2022-07-14T21:09:21.054Z"
   },
   {
    "duration": 127,
    "start_time": "2022-07-14T21:09:21.066Z"
   },
   {
    "duration": 2167,
    "start_time": "2022-07-14T21:09:21.195Z"
   },
   {
    "duration": 42,
    "start_time": "2022-07-14T21:09:23.364Z"
   },
   {
    "duration": 28,
    "start_time": "2022-07-14T21:09:23.408Z"
   },
   {
    "duration": 13,
    "start_time": "2022-07-14T21:09:23.439Z"
   },
   {
    "duration": 17,
    "start_time": "2022-07-14T21:09:23.453Z"
   },
   {
    "duration": 10,
    "start_time": "2022-07-14T21:09:23.472Z"
   },
   {
    "duration": 8,
    "start_time": "2022-07-14T21:09:23.483Z"
   },
   {
    "duration": 20,
    "start_time": "2022-07-14T21:09:23.531Z"
   },
   {
    "duration": 4,
    "start_time": "2022-07-14T21:09:23.553Z"
   },
   {
    "duration": 95,
    "start_time": "2022-07-14T21:09:23.559Z"
   },
   {
    "duration": 30,
    "start_time": "2022-07-14T21:09:23.656Z"
   },
   {
    "duration": 37,
    "start_time": "2022-07-14T21:09:23.688Z"
   },
   {
    "duration": 34,
    "start_time": "2022-07-14T21:09:23.727Z"
   },
   {
    "duration": 3,
    "start_time": "2022-07-14T21:09:23.762Z"
   },
   {
    "duration": 257,
    "start_time": "2022-07-14T21:09:23.767Z"
   },
   {
    "duration": 13,
    "start_time": "2022-07-14T21:09:24.026Z"
   },
   {
    "duration": 135,
    "start_time": "2022-07-14T21:09:24.041Z"
   },
   {
    "duration": 7,
    "start_time": "2022-07-14T21:09:24.178Z"
   },
   {
    "duration": 18,
    "start_time": "2022-07-14T21:09:24.187Z"
   },
   {
    "duration": 160,
    "start_time": "2022-07-14T21:09:24.207Z"
   },
   {
    "duration": 139,
    "start_time": "2022-07-14T21:09:24.369Z"
   },
   {
    "duration": 31,
    "start_time": "2022-07-14T21:09:24.510Z"
   },
   {
    "duration": 24,
    "start_time": "2022-07-14T21:09:24.543Z"
   },
   {
    "duration": 11,
    "start_time": "2022-07-14T21:10:00.530Z"
   },
   {
    "duration": 3,
    "start_time": "2022-07-14T21:10:56.665Z"
   },
   {
    "duration": 10,
    "start_time": "2022-07-14T21:10:56.669Z"
   },
   {
    "duration": 148,
    "start_time": "2022-07-14T21:10:56.681Z"
   },
   {
    "duration": 2092,
    "start_time": "2022-07-14T21:10:56.832Z"
   },
   {
    "duration": 59,
    "start_time": "2022-07-14T21:10:58.928Z"
   },
   {
    "duration": 13,
    "start_time": "2022-07-14T21:10:58.989Z"
   },
   {
    "duration": 11,
    "start_time": "2022-07-14T21:10:59.024Z"
   },
   {
    "duration": 19,
    "start_time": "2022-07-14T21:10:59.037Z"
   },
   {
    "duration": 10,
    "start_time": "2022-07-14T21:10:59.060Z"
   },
   {
    "duration": 9,
    "start_time": "2022-07-14T21:10:59.073Z"
   },
   {
    "duration": 41,
    "start_time": "2022-07-14T21:10:59.083Z"
   },
   {
    "duration": 6,
    "start_time": "2022-07-14T21:10:59.126Z"
   },
   {
    "duration": 85,
    "start_time": "2022-07-14T21:10:59.134Z"
   },
   {
    "duration": 39,
    "start_time": "2022-07-14T21:10:59.225Z"
   },
   {
    "duration": 26,
    "start_time": "2022-07-14T21:10:59.265Z"
   },
   {
    "duration": 57,
    "start_time": "2022-07-14T21:10:59.293Z"
   },
   {
    "duration": 3,
    "start_time": "2022-07-14T21:10:59.352Z"
   },
   {
    "duration": 237,
    "start_time": "2022-07-14T21:10:59.356Z"
   },
   {
    "duration": 8,
    "start_time": "2022-07-14T21:10:59.595Z"
   },
   {
    "duration": 135,
    "start_time": "2022-07-14T21:10:59.605Z"
   },
   {
    "duration": 10,
    "start_time": "2022-07-14T21:10:59.742Z"
   },
   {
    "duration": 12,
    "start_time": "2022-07-14T21:10:59.754Z"
   },
   {
    "duration": 135,
    "start_time": "2022-07-14T21:10:59.767Z"
   },
   {
    "duration": 147,
    "start_time": "2022-07-14T21:10:59.903Z"
   },
   {
    "duration": 9,
    "start_time": "2022-07-14T21:11:00.053Z"
   },
   {
    "duration": 17,
    "start_time": "2022-07-14T21:11:00.063Z"
   },
   {
    "duration": 168,
    "start_time": "2022-07-14T21:11:00.081Z"
   },
   {
    "duration": 50,
    "start_time": "2022-07-14T21:11:00.251Z"
   },
   {
    "duration": 30,
    "start_time": "2022-07-14T21:11:00.302Z"
   },
   {
    "duration": 21,
    "start_time": "2022-07-14T21:11:00.334Z"
   },
   {
    "duration": 251,
    "start_time": "2022-07-14T21:11:00.356Z"
   },
   {
    "duration": 5,
    "start_time": "2022-07-14T21:11:00.609Z"
   },
   {
    "duration": 7,
    "start_time": "2022-07-14T21:11:15.516Z"
   },
   {
    "duration": 3,
    "start_time": "2022-07-14T21:11:19.128Z"
   },
   {
    "duration": 15,
    "start_time": "2022-07-14T21:11:19.133Z"
   },
   {
    "duration": 133,
    "start_time": "2022-07-14T21:11:19.150Z"
   },
   {
    "duration": 1958,
    "start_time": "2022-07-14T21:11:19.286Z"
   },
   {
    "duration": 44,
    "start_time": "2022-07-14T21:11:21.247Z"
   },
   {
    "duration": 35,
    "start_time": "2022-07-14T21:11:21.292Z"
   },
   {
    "duration": 13,
    "start_time": "2022-07-14T21:11:21.329Z"
   },
   {
    "duration": 21,
    "start_time": "2022-07-14T21:11:21.345Z"
   },
   {
    "duration": 9,
    "start_time": "2022-07-14T21:11:21.368Z"
   },
   {
    "duration": 11,
    "start_time": "2022-07-14T21:11:21.379Z"
   },
   {
    "duration": 15,
    "start_time": "2022-07-14T21:11:21.392Z"
   },
   {
    "duration": 7,
    "start_time": "2022-07-14T21:11:21.428Z"
   },
   {
    "duration": 84,
    "start_time": "2022-07-14T21:11:21.437Z"
   },
   {
    "duration": 44,
    "start_time": "2022-07-14T21:11:21.523Z"
   },
   {
    "duration": 27,
    "start_time": "2022-07-14T21:11:21.569Z"
   },
   {
    "duration": 62,
    "start_time": "2022-07-14T21:11:21.598Z"
   },
   {
    "duration": 3,
    "start_time": "2022-07-14T21:11:21.662Z"
   },
   {
    "duration": 221,
    "start_time": "2022-07-14T21:11:21.666Z"
   },
   {
    "duration": 8,
    "start_time": "2022-07-14T21:11:21.889Z"
   },
   {
    "duration": 277,
    "start_time": "2022-07-14T21:11:21.899Z"
   },
   {
    "duration": 6,
    "start_time": "2022-07-14T21:11:22.178Z"
   },
   {
    "duration": 18,
    "start_time": "2022-07-14T21:11:22.185Z"
   },
   {
    "duration": 139,
    "start_time": "2022-07-14T21:11:22.205Z"
   },
   {
    "duration": 114,
    "start_time": "2022-07-14T21:11:22.349Z"
   },
   {
    "duration": 10,
    "start_time": "2022-07-14T21:11:22.465Z"
   },
   {
    "duration": 18,
    "start_time": "2022-07-14T21:11:22.478Z"
   },
   {
    "duration": 167,
    "start_time": "2022-07-14T21:11:22.497Z"
   },
   {
    "duration": 65,
    "start_time": "2022-07-14T21:11:22.666Z"
   },
   {
    "duration": 9,
    "start_time": "2022-07-14T21:11:22.733Z"
   },
   {
    "duration": 11,
    "start_time": "2022-07-14T21:11:22.744Z"
   },
   {
    "duration": 132,
    "start_time": "2022-07-14T21:11:22.756Z"
   },
   {
    "duration": 6,
    "start_time": "2022-07-14T21:11:22.890Z"
   },
   {
    "duration": 27,
    "start_time": "2022-07-14T21:11:22.897Z"
   },
   {
    "duration": 594,
    "start_time": "2022-07-14T22:26:50.417Z"
   },
   {
    "duration": 705,
    "start_time": "2022-07-14T22:28:35.602Z"
   },
   {
    "duration": 593,
    "start_time": "2022-07-14T22:28:45.515Z"
   },
   {
    "duration": 696,
    "start_time": "2022-07-14T22:29:30.220Z"
   },
   {
    "duration": 601,
    "start_time": "2022-07-14T22:29:38.102Z"
   },
   {
    "duration": 613,
    "start_time": "2022-07-14T23:20:16.308Z"
   },
   {
    "duration": 2,
    "start_time": "2022-07-14T23:20:16.923Z"
   },
   {
    "duration": 132,
    "start_time": "2022-07-14T23:20:16.927Z"
   },
   {
    "duration": 1760,
    "start_time": "2022-07-14T23:20:17.061Z"
   },
   {
    "duration": 41,
    "start_time": "2022-07-14T23:20:18.822Z"
   },
   {
    "duration": 10,
    "start_time": "2022-07-14T23:20:18.864Z"
   },
   {
    "duration": 9,
    "start_time": "2022-07-14T23:20:18.875Z"
   },
   {
    "duration": 16,
    "start_time": "2022-07-14T23:20:18.885Z"
   },
   {
    "duration": 29,
    "start_time": "2022-07-14T23:20:18.902Z"
   },
   {
    "duration": 8,
    "start_time": "2022-07-14T23:20:18.933Z"
   },
   {
    "duration": 16,
    "start_time": "2022-07-14T23:20:18.943Z"
   },
   {
    "duration": 4,
    "start_time": "2022-07-14T23:20:18.961Z"
   },
   {
    "duration": 93,
    "start_time": "2022-07-14T23:20:18.966Z"
   },
   {
    "duration": 29,
    "start_time": "2022-07-14T23:20:19.060Z"
   },
   {
    "duration": 42,
    "start_time": "2022-07-14T23:20:19.090Z"
   },
   {
    "duration": 30,
    "start_time": "2022-07-14T23:20:19.134Z"
   },
   {
    "duration": 2,
    "start_time": "2022-07-14T23:20:19.165Z"
   },
   {
    "duration": 210,
    "start_time": "2022-07-14T23:20:19.168Z"
   },
   {
    "duration": 9,
    "start_time": "2022-07-14T23:20:19.379Z"
   },
   {
    "duration": 116,
    "start_time": "2022-07-14T23:20:19.389Z"
   },
   {
    "duration": 5,
    "start_time": "2022-07-14T23:20:19.507Z"
   },
   {
    "duration": 8,
    "start_time": "2022-07-14T23:20:19.524Z"
   },
   {
    "duration": 120,
    "start_time": "2022-07-14T23:20:19.533Z"
   },
   {
    "duration": 117,
    "start_time": "2022-07-14T23:20:19.655Z"
   },
   {
    "duration": 8,
    "start_time": "2022-07-14T23:20:19.774Z"
   },
   {
    "duration": 18,
    "start_time": "2022-07-14T23:20:19.783Z"
   },
   {
    "duration": 133,
    "start_time": "2022-07-14T23:20:19.802Z"
   },
   {
    "duration": 46,
    "start_time": "2022-07-14T23:20:19.938Z"
   },
   {
    "duration": 6,
    "start_time": "2022-07-14T23:20:19.985Z"
   },
   {
    "duration": 35,
    "start_time": "2022-07-14T23:20:19.992Z"
   },
   {
    "duration": 110,
    "start_time": "2022-07-14T23:20:20.028Z"
   },
   {
    "duration": 6,
    "start_time": "2022-07-14T23:20:20.139Z"
   },
   {
    "duration": 11,
    "start_time": "2022-07-14T23:20:20.146Z"
   },
   {
    "duration": 446,
    "start_time": "2022-07-14T23:20:20.159Z"
   },
   {
    "duration": 2247,
    "start_time": "2022-07-14T23:20:20.606Z"
   },
   {
    "duration": 687,
    "start_time": "2022-07-14T23:20:22.855Z"
   },
   {
    "duration": 1241,
    "start_time": "2022-07-14T23:20:23.544Z"
   },
   {
    "duration": 22,
    "start_time": "2022-07-14T23:20:24.787Z"
   },
   {
    "duration": 316,
    "start_time": "2022-07-14T23:20:24.810Z"
   },
   {
    "duration": 174,
    "start_time": "2022-07-14T23:20:25.128Z"
   },
   {
    "duration": 563,
    "start_time": "2022-07-14T23:23:28.881Z"
   },
   {
    "duration": 3,
    "start_time": "2022-07-14T23:23:29.445Z"
   },
   {
    "duration": 123,
    "start_time": "2022-07-14T23:23:29.449Z"
   },
   {
    "duration": 1759,
    "start_time": "2022-07-14T23:23:29.574Z"
   },
   {
    "duration": 45,
    "start_time": "2022-07-14T23:23:31.335Z"
   },
   {
    "duration": 9,
    "start_time": "2022-07-14T23:23:31.382Z"
   },
   {
    "duration": 46,
    "start_time": "2022-07-14T23:23:31.392Z"
   },
   {
    "duration": 44,
    "start_time": "2022-07-14T23:23:31.440Z"
   },
   {
    "duration": 14,
    "start_time": "2022-07-14T23:23:31.485Z"
   },
   {
    "duration": 18,
    "start_time": "2022-07-14T23:23:31.502Z"
   },
   {
    "duration": 122,
    "start_time": "2022-07-14T23:23:31.522Z"
   },
   {
    "duration": 19,
    "start_time": "2022-07-14T23:23:31.645Z"
   },
   {
    "duration": 120,
    "start_time": "2022-07-14T23:23:31.665Z"
   },
   {
    "duration": 27,
    "start_time": "2022-07-14T23:23:31.787Z"
   },
   {
    "duration": 33,
    "start_time": "2022-07-14T23:23:31.823Z"
   },
   {
    "duration": 44,
    "start_time": "2022-07-14T23:23:31.858Z"
   },
   {
    "duration": 2,
    "start_time": "2022-07-14T23:23:31.903Z"
   },
   {
    "duration": 220,
    "start_time": "2022-07-14T23:23:31.907Z"
   },
   {
    "duration": 9,
    "start_time": "2022-07-14T23:23:32.128Z"
   },
   {
    "duration": 108,
    "start_time": "2022-07-14T23:23:32.138Z"
   },
   {
    "duration": 5,
    "start_time": "2022-07-14T23:23:32.247Z"
   },
   {
    "duration": 22,
    "start_time": "2022-07-14T23:23:32.253Z"
   },
   {
    "duration": 128,
    "start_time": "2022-07-14T23:23:32.276Z"
   },
   {
    "duration": 118,
    "start_time": "2022-07-14T23:23:32.405Z"
   },
   {
    "duration": 7,
    "start_time": "2022-07-14T23:23:32.525Z"
   },
   {
    "duration": 17,
    "start_time": "2022-07-14T23:23:32.534Z"
   },
   {
    "duration": 124,
    "start_time": "2022-07-14T23:23:32.552Z"
   },
   {
    "duration": 65,
    "start_time": "2022-07-14T23:23:32.679Z"
   },
   {
    "duration": 5,
    "start_time": "2022-07-14T23:23:32.746Z"
   },
   {
    "duration": 10,
    "start_time": "2022-07-14T23:23:32.753Z"
   },
   {
    "duration": 116,
    "start_time": "2022-07-14T23:23:32.764Z"
   },
   {
    "duration": 6,
    "start_time": "2022-07-14T23:23:32.881Z"
   },
   {
    "duration": 20,
    "start_time": "2022-07-14T23:23:32.888Z"
   },
   {
    "duration": 437,
    "start_time": "2022-07-14T23:23:32.910Z"
   },
   {
    "duration": 2301,
    "start_time": "2022-07-14T23:23:33.348Z"
   },
   {
    "duration": 679,
    "start_time": "2022-07-14T23:23:35.650Z"
   },
   {
    "duration": 1232,
    "start_time": "2022-07-14T23:23:36.330Z"
   },
   {
    "duration": 21,
    "start_time": "2022-07-14T23:23:37.564Z"
   },
   {
    "duration": 300,
    "start_time": "2022-07-14T23:23:37.586Z"
   },
   {
    "duration": 166,
    "start_time": "2022-07-14T23:23:37.888Z"
   },
   {
    "duration": 644,
    "start_time": "2022-07-14T23:30:03.207Z"
   },
   {
    "duration": 3,
    "start_time": "2022-07-14T23:30:03.852Z"
   },
   {
    "duration": 128,
    "start_time": "2022-07-14T23:30:03.859Z"
   },
   {
    "duration": 1844,
    "start_time": "2022-07-14T23:30:03.989Z"
   },
   {
    "duration": 44,
    "start_time": "2022-07-14T23:30:05.834Z"
   },
   {
    "duration": 11,
    "start_time": "2022-07-14T23:30:05.879Z"
   },
   {
    "duration": 12,
    "start_time": "2022-07-14T23:30:05.891Z"
   },
   {
    "duration": 25,
    "start_time": "2022-07-14T23:30:05.904Z"
   },
   {
    "duration": 8,
    "start_time": "2022-07-14T23:30:05.932Z"
   },
   {
    "duration": 15,
    "start_time": "2022-07-14T23:30:05.941Z"
   },
   {
    "duration": 17,
    "start_time": "2022-07-14T23:30:05.958Z"
   },
   {
    "duration": 4,
    "start_time": "2022-07-14T23:30:05.976Z"
   },
   {
    "duration": 87,
    "start_time": "2022-07-14T23:30:05.982Z"
   },
   {
    "duration": 28,
    "start_time": "2022-07-14T23:30:06.070Z"
   },
   {
    "duration": 39,
    "start_time": "2022-07-14T23:30:06.100Z"
   },
   {
    "duration": 26,
    "start_time": "2022-07-14T23:30:06.141Z"
   },
   {
    "duration": 2,
    "start_time": "2022-07-14T23:30:06.169Z"
   },
   {
    "duration": 218,
    "start_time": "2022-07-14T23:30:06.173Z"
   },
   {
    "duration": 8,
    "start_time": "2022-07-14T23:30:06.392Z"
   },
   {
    "duration": 122,
    "start_time": "2022-07-14T23:30:06.402Z"
   },
   {
    "duration": 5,
    "start_time": "2022-07-14T23:30:06.525Z"
   },
   {
    "duration": 14,
    "start_time": "2022-07-14T23:30:06.531Z"
   },
   {
    "duration": 115,
    "start_time": "2022-07-14T23:30:06.547Z"
   },
   {
    "duration": 115,
    "start_time": "2022-07-14T23:30:06.663Z"
   },
   {
    "duration": 7,
    "start_time": "2022-07-14T23:30:06.780Z"
   },
   {
    "duration": 17,
    "start_time": "2022-07-14T23:30:06.788Z"
   },
   {
    "duration": 129,
    "start_time": "2022-07-14T23:30:06.808Z"
   },
   {
    "duration": 47,
    "start_time": "2022-07-14T23:30:06.938Z"
   },
   {
    "duration": 6,
    "start_time": "2022-07-14T23:30:06.987Z"
   },
   {
    "duration": 29,
    "start_time": "2022-07-14T23:30:06.995Z"
   },
   {
    "duration": 124,
    "start_time": "2022-07-14T23:30:07.025Z"
   },
   {
    "duration": 7,
    "start_time": "2022-07-14T23:30:07.151Z"
   },
   {
    "duration": 18,
    "start_time": "2022-07-14T23:30:07.160Z"
   },
   {
    "duration": 445,
    "start_time": "2022-07-14T23:30:07.181Z"
   },
   {
    "duration": 2306,
    "start_time": "2022-07-14T23:30:07.627Z"
   },
   {
    "duration": 705,
    "start_time": "2022-07-14T23:30:09.934Z"
   },
   {
    "duration": 1232,
    "start_time": "2022-07-14T23:30:10.641Z"
   },
   {
    "duration": 22,
    "start_time": "2022-07-14T23:30:11.874Z"
   },
   {
    "duration": 317,
    "start_time": "2022-07-14T23:30:11.897Z"
   },
   {
    "duration": 167,
    "start_time": "2022-07-14T23:30:12.223Z"
   },
   {
    "duration": 778,
    "start_time": "2022-08-14T09:09:30.829Z"
   },
   {
    "duration": 3,
    "start_time": "2022-08-14T09:09:31.610Z"
   },
   {
    "duration": 379,
    "start_time": "2022-08-14T09:09:31.622Z"
   },
   {
    "duration": 1860,
    "start_time": "2022-08-14T09:09:32.003Z"
   },
   {
    "duration": 12,
    "start_time": "2022-08-14T09:09:33.864Z"
   },
   {
    "duration": 2,
    "start_time": "2022-08-14T09:10:29.731Z"
   },
   {
    "duration": 2,
    "start_time": "2022-08-14T09:10:29.737Z"
   },
   {
    "duration": 119,
    "start_time": "2022-08-14T09:10:29.747Z"
   },
   {
    "duration": 1714,
    "start_time": "2022-08-14T09:10:29.868Z"
   },
   {
    "duration": 15,
    "start_time": "2022-08-14T09:10:31.584Z"
   },
   {
    "duration": 17,
    "start_time": "2022-08-14T09:11:04.938Z"
   },
   {
    "duration": 24,
    "start_time": "2022-08-14T09:11:32.939Z"
   },
   {
    "duration": 22,
    "start_time": "2022-08-14T09:12:20.035Z"
   },
   {
    "duration": 4,
    "start_time": "2022-08-14T09:16:08.128Z"
   },
   {
    "duration": 25,
    "start_time": "2022-08-14T09:16:20.150Z"
   },
   {
    "duration": 3,
    "start_time": "2022-08-14T09:16:48.645Z"
   },
   {
    "duration": 5,
    "start_time": "2022-08-14T09:16:48.651Z"
   },
   {
    "duration": 114,
    "start_time": "2022-08-14T09:16:48.660Z"
   },
   {
    "duration": 1707,
    "start_time": "2022-08-14T09:16:48.775Z"
   },
   {
    "duration": 38,
    "start_time": "2022-08-14T09:16:50.484Z"
   },
   {
    "duration": 2,
    "start_time": "2022-08-14T09:19:29.600Z"
   },
   {
    "duration": 6,
    "start_time": "2022-08-14T09:19:29.607Z"
   },
   {
    "duration": 120,
    "start_time": "2022-08-14T09:19:29.623Z"
   },
   {
    "duration": 1643,
    "start_time": "2022-08-14T09:19:29.745Z"
   },
   {
    "duration": 35,
    "start_time": "2022-08-14T09:19:31.390Z"
   },
   {
    "duration": 3,
    "start_time": "2022-08-14T09:20:02.023Z"
   },
   {
    "duration": 11,
    "start_time": "2022-08-14T09:20:02.028Z"
   },
   {
    "duration": 128,
    "start_time": "2022-08-14T09:20:02.041Z"
   },
   {
    "duration": 1820,
    "start_time": "2022-08-14T09:20:02.171Z"
   },
   {
    "duration": 33,
    "start_time": "2022-08-14T09:20:03.992Z"
   },
   {
    "duration": 2,
    "start_time": "2022-08-14T09:21:20.394Z"
   },
   {
    "duration": 3,
    "start_time": "2022-08-14T09:21:20.401Z"
   },
   {
    "duration": 133,
    "start_time": "2022-08-14T09:21:20.408Z"
   },
   {
    "duration": 1705,
    "start_time": "2022-08-14T09:21:20.543Z"
   },
   {
    "duration": 24,
    "start_time": "2022-08-14T09:21:22.249Z"
   },
   {
    "duration": 2,
    "start_time": "2022-08-14T09:29:29.396Z"
   },
   {
    "duration": 7,
    "start_time": "2022-08-14T09:29:29.402Z"
   },
   {
    "duration": 143,
    "start_time": "2022-08-14T09:29:29.411Z"
   },
   {
    "duration": 1691,
    "start_time": "2022-08-14T09:29:29.555Z"
   },
   {
    "duration": 108,
    "start_time": "2022-08-14T09:29:31.248Z"
   },
   {
    "duration": 3,
    "start_time": "2022-08-14T09:29:47.791Z"
   },
   {
    "duration": 3,
    "start_time": "2022-08-14T09:29:47.799Z"
   },
   {
    "duration": 130,
    "start_time": "2022-08-14T09:29:47.808Z"
   },
   {
    "duration": 1767,
    "start_time": "2022-08-14T09:29:47.940Z"
   },
   {
    "duration": 35,
    "start_time": "2022-08-14T09:29:49.708Z"
   }
  ],
  "kernelspec": {
   "display_name": "Python 3 (ipykernel)",
   "language": "python",
   "name": "python3"
  },
  "language_info": {
   "codemirror_mode": {
    "name": "ipython",
    "version": 3
   },
   "file_extension": ".py",
   "mimetype": "text/x-python",
   "name": "python",
   "nbconvert_exporter": "python",
   "pygments_lexer": "ipython3",
   "version": "3.9.13"
  },
  "toc": {
   "base_numbering": 1,
   "nav_menu": {},
   "number_sections": true,
   "sideBar": true,
   "skip_h1_title": true,
   "title_cell": "Table of Contents",
   "title_sidebar": "Contents",
   "toc_cell": false,
   "toc_position": {},
   "toc_section_display": true,
   "toc_window_display": true
  }
 },
 "nbformat": 4,
 "nbformat_minor": 2
}
