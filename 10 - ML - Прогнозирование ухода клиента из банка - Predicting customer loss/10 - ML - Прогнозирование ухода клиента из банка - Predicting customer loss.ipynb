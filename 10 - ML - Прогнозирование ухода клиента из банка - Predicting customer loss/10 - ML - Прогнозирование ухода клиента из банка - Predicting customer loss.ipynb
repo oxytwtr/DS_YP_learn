{
 "cells": [
  {
   "cell_type": "markdown",
   "metadata": {
    "toc": true
   },
   "source": [
    "<h1>Содержание<span class=\"tocSkip\"></span></h1>\n",
    "<div class=\"toc\"><ul class=\"toc-item\"><li><span><a href=\"#Подготовка-данных\" data-toc-modified-id=\"Подготовка-данных-1\"><span class=\"toc-item-num\">1&nbsp;&nbsp;</span>Подготовка данных</a></span><ul class=\"toc-item\"><li><span><a href=\"#Открытие-файла,-знакомство-с-данными\" data-toc-modified-id=\"Открытие-файла,-знакомство-с-данными-1.1\"><span class=\"toc-item-num\">1.1&nbsp;&nbsp;</span>Открытие файла, знакомство с данными</a></span></li><li><span><a href=\"#Предобработка-данных.-План-работы\" data-toc-modified-id=\"Предобработка-данных.-План-работы-1.2\"><span class=\"toc-item-num\">1.2&nbsp;&nbsp;</span>Предобработка данных. План работы</a></span></li><li><span><a href=\"#Приведение-названия-признаков-в-стандартизированный-вид,-проверка-наличия-дубликатов-и-проверка-неявных-дубликатов\" data-toc-modified-id=\"Приведение-названия-признаков-в-стандартизированный-вид,-проверка-наличия-дубликатов-и-проверка-неявных-дубликатов-1.3\"><span class=\"toc-item-num\">1.3&nbsp;&nbsp;</span>Приведение названия признаков в стандартизированный вид, проверка наличия дубликатов и проверка неявных дубликатов</a></span></li><li><span><a href=\"#Оценка-и-исправление-пропусков-в-данных\" data-toc-modified-id=\"Оценка-и-исправление-пропусков-в-данных-1.4\"><span class=\"toc-item-num\">1.4&nbsp;&nbsp;</span>Оценка и исправление пропусков в данных</a></span></li><li><span><a href=\"#Преобразование-типов-данных\" data-toc-modified-id=\"Преобразование-типов-данных-1.5\"><span class=\"toc-item-num\">1.5&nbsp;&nbsp;</span>Преобразование типов данных</a></span></li><li><span><a href=\"#Проверка-наличия-избыточных-данных\" data-toc-modified-id=\"Проверка-наличия-избыточных-данных-1.6\"><span class=\"toc-item-num\">1.6&nbsp;&nbsp;</span>Проверка наличия избыточных данных</a></span></li><li><span><a href=\"#Анализ-выбросов-в-данных\" data-toc-modified-id=\"Анализ-выбросов-в-данных-1.7\"><span class=\"toc-item-num\">1.7&nbsp;&nbsp;</span>Анализ выбросов в данных</a></span></li><li><span><a href=\"#Оценка-данных-после-предобработки\" data-toc-modified-id=\"Оценка-данных-после-предобработки-1.8\"><span class=\"toc-item-num\">1.8&nbsp;&nbsp;</span>Оценка данных после предобработки</a></span></li><li><span><a href=\"#Вывод-по-разделу-1\" data-toc-modified-id=\"Вывод-по-разделу-1-1.9\"><span class=\"toc-item-num\">1.9&nbsp;&nbsp;</span>Вывод по разделу 1</a></span></li></ul></li><li><span><a href=\"#Исследование-задачи\" data-toc-modified-id=\"Исследование-задачи-2\"><span class=\"toc-item-num\">2&nbsp;&nbsp;</span>Исследование задачи</a></span><ul class=\"toc-item\"><li><span><a href=\"#Общая-информация\" data-toc-modified-id=\"Общая-информация-2.1\"><span class=\"toc-item-num\">2.1&nbsp;&nbsp;</span>Общая информация</a></span></li><li><span><a href=\"#Исследование-задачи.-План-работы\" data-toc-modified-id=\"Исследование-задачи.-План-работы-2.2\"><span class=\"toc-item-num\">2.2&nbsp;&nbsp;</span>Исследование задачи. План работы</a></span></li><li><span><a href=\"#Кодирование-категориальных-переменных\" data-toc-modified-id=\"Кодирование-категориальных-переменных-2.3\"><span class=\"toc-item-num\">2.3&nbsp;&nbsp;</span>Кодирование категориальных переменных</a></span></li><li><span><a href=\"#Разделение-набора-данных-на-обучающую-и-валидационную-выборки\" data-toc-modified-id=\"Разделение-набора-данных-на-обучающую-и-валидационную-выборки-2.4\"><span class=\"toc-item-num\">2.4&nbsp;&nbsp;</span>Разделение набора данных на обучающую и валидационную выборки</a></span></li><li><span><a href=\"#Масштабирование-численных-признаков\" data-toc-modified-id=\"Масштабирование-численных-признаков-2.5\"><span class=\"toc-item-num\">2.5&nbsp;&nbsp;</span>Масштабирование численных признаков</a></span></li><li><span><a href=\"#Обучение-моделей-машинного-обучения\" data-toc-modified-id=\"Обучение-моделей-машинного-обучения-2.6\"><span class=\"toc-item-num\">2.6&nbsp;&nbsp;</span>Обучение моделей машинного обучения</a></span></li><li><span><a href=\"#Выбор-базовой-модели\" data-toc-modified-id=\"Выбор-базовой-модели-2.7\"><span class=\"toc-item-num\">2.7&nbsp;&nbsp;</span>Выбор базовой модели</a></span></li><li><span><a href=\"#Вывод-по-разделу-2\" data-toc-modified-id=\"Вывод-по-разделу-2-2.8\"><span class=\"toc-item-num\">2.8&nbsp;&nbsp;</span>Вывод по разделу 2</a></span></li></ul></li><li><span><a href=\"#Борьба-с-дисбалансом\" data-toc-modified-id=\"Борьба-с-дисбалансом-3\"><span class=\"toc-item-num\">3&nbsp;&nbsp;</span>Борьба с дисбалансом</a></span><ul class=\"toc-item\"><li><span><a href=\"#Борьба-с-дисбалансом.-План-работы\" data-toc-modified-id=\"Борьба-с-дисбалансом.-План-работы-3.1\"><span class=\"toc-item-num\">3.1&nbsp;&nbsp;</span>Борьба с дисбалансом. План работы</a></span></li><li><span><a href=\"#Учет-дисбаланса-классов-в-модели-машинного-обучения\" data-toc-modified-id=\"Учет-дисбаланса-классов-в-модели-машинного-обучения-3.2\"><span class=\"toc-item-num\">3.2&nbsp;&nbsp;</span>Учет дисбаланса классов в модели машинного обучения</a></span></li><li><span><a href=\"#Подбор-гиперпараметров-моделей,-выбор-подходящей-для-задач-классификации\" data-toc-modified-id=\"Подбор-гиперпараметров-моделей,-выбор-подходящей-для-задач-классификации-3.3\"><span class=\"toc-item-num\">3.3&nbsp;&nbsp;</span>Подбор гиперпараметров моделей, выбор подходящей для задач классификации</a></span></li><li><span><a href=\"#Вывод-по-разделу-3\" data-toc-modified-id=\"Вывод-по-разделу-3-3.4\"><span class=\"toc-item-num\">3.4&nbsp;&nbsp;</span>Вывод по разделу 3</a></span></li></ul></li><li><span><a href=\"#Тестирование-модели\" data-toc-modified-id=\"Тестирование-модели-4\"><span class=\"toc-item-num\">4&nbsp;&nbsp;</span>Тестирование модели</a></span><ul class=\"toc-item\"><li><span><a href=\"#Тестирование-модели.-План-работы\" data-toc-modified-id=\"Тестирование-модели.-План-работы-4.1\"><span class=\"toc-item-num\">4.1&nbsp;&nbsp;</span>Тестирование модели. План работы</a></span></li><li><span><a href=\"#Объединение-обучающей-и-валидационной-выборке\" data-toc-modified-id=\"Объединение-обучающей-и-валидационной-выборке-4.2\"><span class=\"toc-item-num\">4.2&nbsp;&nbsp;</span>Объединение обучающей и валидационной выборке</a></span></li><li><span><a href=\"#Тестирование-выбранной-модели-на-тестовой-выборке\" data-toc-modified-id=\"Тестирование-выбранной-модели-на-тестовой-выборке-4.3\"><span class=\"toc-item-num\">4.3&nbsp;&nbsp;</span>Тестирование выбранной модели на тестовой выборке</a></span></li><li><span><a href=\"#Изучение-метрики-AUC-ROC\" data-toc-modified-id=\"Изучение-метрики-AUC-ROC-4.4\"><span class=\"toc-item-num\">4.4&nbsp;&nbsp;</span>Изучение метрики AUC-ROC</a></span></li><li><span><a href=\"#Проверка-адекватности-модели\" data-toc-modified-id=\"Проверка-адекватности-модели-4.5\"><span class=\"toc-item-num\">4.5&nbsp;&nbsp;</span>Проверка адекватности модели</a></span></li><li><span><a href=\"#Вывод-по-разделу-4\" data-toc-modified-id=\"Вывод-по-разделу-4-4.6\"><span class=\"toc-item-num\">4.6&nbsp;&nbsp;</span>Вывод по разделу 4</a></span></li></ul></li><li><span><a href=\"#Общий-вывод\" data-toc-modified-id=\"Общий-вывод-5\"><span class=\"toc-item-num\">5&nbsp;&nbsp;</span>Общий вывод</a></span></li><li><span><a href=\"#Чек-лист-готовности-проекта\" data-toc-modified-id=\"Чек-лист-готовности-проекта-6\"><span class=\"toc-item-num\">6&nbsp;&nbsp;</span>Чек-лист готовности проекта</a></span></li></ul></div>"
   ]
  },
  {
   "cell_type": "markdown",
   "metadata": {},
   "source": [
    "# Отток клиентов"
   ]
  },
  {
   "cell_type": "markdown",
   "metadata": {},
   "source": [
    "Из «Бета-Банка» стали уходить клиенты. Каждый месяц. Немного, но заметно. Банковские маркетологи посчитали: сохранять текущих клиентов дешевле, чем привлекать новых.\n",
    "\n",
    "Нужно спрогнозировать, уйдёт клиент из банка в ближайшее время или нет. Вам предоставлены исторические данные о поведении клиентов и расторжении договоров с банком. \n",
    "\n",
    "Постройте модель с предельно большим значением *F1*-меры. Чтобы сдать проект успешно, нужно довести метрику до 0.59. Проверьте *F1*-меру на тестовой выборке самостоятельно.\n",
    "\n",
    "Дополнительно измеряйте *AUC-ROC*, сравнивайте её значение с *F1*-мерой.\n",
    "\n",
    "Источник данных: [https://www.kaggle.com/barelydedicated/bank-customer-churn-modeling](https://www.kaggle.com/barelydedicated/bank-customer-churn-modeling)"
   ]
  },
  {
   "cell_type": "markdown",
   "metadata": {},
   "source": [
    "# Построение модели для прогнозирования ухода клиента\n",
    "\n",
    "Исходные данные от заказчика:\n",
    " Требуется построить систему, способную проанализировать поведение клиентов и для прогноза возможности ухода клиента.\n",
    " \n",
    " Предоставлен датасет с данными клиентов, полученный из открытых источников.\n",
    " \n",
    " Нужно построить модель для задачи классификации, которая определит, прекратит ли клиент обслуживание в банке.\n",
    " Значение метрики F1-мера должно быть не менее 0.59\n",
    " \n",
    " План работы:\n",
    "\n",
    "- Изучение общей информации о данных\n",
    "- Предобработка/подготовка данных\n",
    "- Анализ баланса классов\n",
    "- Обучение модели без учета баланса(дисбаланса) классов\n",
    "- Обучение модели с учетом баланса(дисбаланса) классов, исследование качеств разных моделей с разными гиперпараметрами\n",
    "- Выбор оптимальной модели и ее гиперпараметров\n",
    "- Финальное тестирование, проверка модели на вменяемость\n",
    "\n",
    "Описание данных:\n",
    "\n",
    "Каждый объект в наборе данных — это информация о одном из клиентов. Известно:\n",
    "\n",
    "**Признаки**\n",
    "- `RowNumber` — индекс строки в данных\n",
    "- `CustomerId` — уникальный идентификатор клиента\n",
    "- `Surname` — фамилия\n",
    "- `CreditScore` — кредитный рейтинг\n",
    "- `Geography` — страна проживания\n",
    "- `Gender` — пол\n",
    "- `Age` — возраст\n",
    "- `Tenure` — сколько лет человек является клиентом банка\n",
    "- `Balance` — баланс на счёте\n",
    "- `NumOfProducts` — количество продуктов банка, используемых клиентом\n",
    "- `HasCrCard` — наличие кредитной карты\n",
    "- `IsActiveMember` — активность клиента\n",
    "- `EstimatedSalary` — предполагаемая зарплата\n",
    "\n",
    "**Целевой признак**\n",
    "- `Exited` — факт ухода клиента\n",
    "\n"
   ]
  },
  {
   "cell_type": "code",
   "execution_count": 1,
   "metadata": {},
   "outputs": [],
   "source": [
    "# СЛУЖЕБНОЕ Ячейка с импортом библиотек, импорт происходит только в этой ячейке\n",
    "import pandas as pd\n",
    "import matplotlib.pyplot as plt\n",
    "import math\n",
    "\n",
    "from sklearn.model_selection import train_test_split\n",
    "from sklearn.preprocessing import StandardScaler\n",
    "from sklearn.utils import shuffle\n",
    "\n",
    "from sklearn.linear_model import LogisticRegression\n",
    "from sklearn.tree import DecisionTreeClassifier\n",
    "from sklearn.ensemble import RandomForestClassifier\n",
    "\n",
    "from sklearn.metrics import f1_score, roc_curve, roc_auc_score, recall_score, precision_score"
   ]
  },
  {
   "cell_type": "code",
   "execution_count": 2,
   "metadata": {},
   "outputs": [],
   "source": [
    "# СЛУЖЕБНОЕ Ячейка с c начальными настройками Pandas\n",
    "pd.set_option('display.max_columns', 50) \n",
    "pd.options.mode.chained_assignment = None"
   ]
  },
  {
   "cell_type": "code",
   "execution_count": 3,
   "metadata": {},
   "outputs": [],
   "source": [
    "# СЛУЖЕБНОЕ Ячейка с c глобальными переменными к проекту\n",
    "RANDOM_STATE = 3141592654\n",
    "REQUIRED_F1 = 0.59\n",
    "\n",
    "# границы гиперпараметров для Решающего дерева\n",
    "#                      | полный диапазон ~ 60 мин | сокращенный диапазон ~ 0,5 мин|\n",
    "MIN_SAMPLES_RANGE_TREE = (2, 3)   # (2, 4)        | (2, 4)                \n",
    "DEPTH_RANGE_TREE = (5, 10, 1)     # (2, 50, 1)    | (5, 31, 1)\n",
    "\n",
    "# границы гиперпараметров для Случайного леса (до балансировки)\n",
    "MIN_SAMPLES_RANGE_RF_UB = (5, 6)  # (2, 4)        | (3, 4)\n",
    "DEPTH_RANGE_RF_UB = (19, 21, 1)   # (2, 50, 1)    | (21, 23, 1)\n",
    "EST_RANGE_RF_UB = (40, 61, 10)    # (10, 151, 10) | (50, 61, 10)\n",
    "\n",
    "# границы гиперпараметров для Случайного леса (после балансировки)\n",
    "MIN_SAMPLES_RANGE_RF = (2, 3)     # (2, 4)        | (2, 3)\n",
    "DEPTH_RANGE_RF = (19, 21, 1)      # (2, 50, 1)    | (26, 28, 1)\n",
    "EST_RANGE_RF = (310, 321, 10)     # (10, 151, 10) | (110, 121, 10)"
   ]
  },
  {
   "cell_type": "markdown",
   "metadata": {},
   "source": [
    "## Подготовка данных"
   ]
  },
  {
   "cell_type": "markdown",
   "metadata": {},
   "source": [
    "### Открытие файла, знакомство с данными"
   ]
  },
  {
   "cell_type": "code",
   "execution_count": 4,
   "metadata": {
    "scrolled": false
   },
   "outputs": [
    {
     "data": {
      "text/html": [
       "<div>\n",
       "<style scoped>\n",
       "    .dataframe tbody tr th:only-of-type {\n",
       "        vertical-align: middle;\n",
       "    }\n",
       "\n",
       "    .dataframe tbody tr th {\n",
       "        vertical-align: top;\n",
       "    }\n",
       "\n",
       "    .dataframe thead th {\n",
       "        text-align: right;\n",
       "    }\n",
       "</style>\n",
       "<table border=\"1\" class=\"dataframe\">\n",
       "  <thead>\n",
       "    <tr style=\"text-align: right;\">\n",
       "      <th></th>\n",
       "      <th>RowNumber</th>\n",
       "      <th>CustomerId</th>\n",
       "      <th>Surname</th>\n",
       "      <th>CreditScore</th>\n",
       "      <th>Geography</th>\n",
       "      <th>Gender</th>\n",
       "      <th>Age</th>\n",
       "      <th>Tenure</th>\n",
       "      <th>Balance</th>\n",
       "      <th>NumOfProducts</th>\n",
       "      <th>HasCrCard</th>\n",
       "      <th>IsActiveMember</th>\n",
       "      <th>EstimatedSalary</th>\n",
       "      <th>Exited</th>\n",
       "    </tr>\n",
       "  </thead>\n",
       "  <tbody>\n",
       "    <tr>\n",
       "      <th>0</th>\n",
       "      <td>1</td>\n",
       "      <td>15634602</td>\n",
       "      <td>Hargrave</td>\n",
       "      <td>619</td>\n",
       "      <td>France</td>\n",
       "      <td>Female</td>\n",
       "      <td>42</td>\n",
       "      <td>2.0</td>\n",
       "      <td>0.00</td>\n",
       "      <td>1</td>\n",
       "      <td>1</td>\n",
       "      <td>1</td>\n",
       "      <td>101348.88</td>\n",
       "      <td>1</td>\n",
       "    </tr>\n",
       "    <tr>\n",
       "      <th>1</th>\n",
       "      <td>2</td>\n",
       "      <td>15647311</td>\n",
       "      <td>Hill</td>\n",
       "      <td>608</td>\n",
       "      <td>Spain</td>\n",
       "      <td>Female</td>\n",
       "      <td>41</td>\n",
       "      <td>1.0</td>\n",
       "      <td>83807.86</td>\n",
       "      <td>1</td>\n",
       "      <td>0</td>\n",
       "      <td>1</td>\n",
       "      <td>112542.58</td>\n",
       "      <td>0</td>\n",
       "    </tr>\n",
       "    <tr>\n",
       "      <th>2</th>\n",
       "      <td>3</td>\n",
       "      <td>15619304</td>\n",
       "      <td>Onio</td>\n",
       "      <td>502</td>\n",
       "      <td>France</td>\n",
       "      <td>Female</td>\n",
       "      <td>42</td>\n",
       "      <td>8.0</td>\n",
       "      <td>159660.80</td>\n",
       "      <td>3</td>\n",
       "      <td>1</td>\n",
       "      <td>0</td>\n",
       "      <td>113931.57</td>\n",
       "      <td>1</td>\n",
       "    </tr>\n",
       "    <tr>\n",
       "      <th>3</th>\n",
       "      <td>4</td>\n",
       "      <td>15701354</td>\n",
       "      <td>Boni</td>\n",
       "      <td>699</td>\n",
       "      <td>France</td>\n",
       "      <td>Female</td>\n",
       "      <td>39</td>\n",
       "      <td>1.0</td>\n",
       "      <td>0.00</td>\n",
       "      <td>2</td>\n",
       "      <td>0</td>\n",
       "      <td>0</td>\n",
       "      <td>93826.63</td>\n",
       "      <td>0</td>\n",
       "    </tr>\n",
       "    <tr>\n",
       "      <th>4</th>\n",
       "      <td>5</td>\n",
       "      <td>15737888</td>\n",
       "      <td>Mitchell</td>\n",
       "      <td>850</td>\n",
       "      <td>Spain</td>\n",
       "      <td>Female</td>\n",
       "      <td>43</td>\n",
       "      <td>2.0</td>\n",
       "      <td>125510.82</td>\n",
       "      <td>1</td>\n",
       "      <td>1</td>\n",
       "      <td>1</td>\n",
       "      <td>79084.10</td>\n",
       "      <td>0</td>\n",
       "    </tr>\n",
       "    <tr>\n",
       "      <th>5</th>\n",
       "      <td>6</td>\n",
       "      <td>15574012</td>\n",
       "      <td>Chu</td>\n",
       "      <td>645</td>\n",
       "      <td>Spain</td>\n",
       "      <td>Male</td>\n",
       "      <td>44</td>\n",
       "      <td>8.0</td>\n",
       "      <td>113755.78</td>\n",
       "      <td>2</td>\n",
       "      <td>1</td>\n",
       "      <td>0</td>\n",
       "      <td>149756.71</td>\n",
       "      <td>1</td>\n",
       "    </tr>\n",
       "    <tr>\n",
       "      <th>6</th>\n",
       "      <td>7</td>\n",
       "      <td>15592531</td>\n",
       "      <td>Bartlett</td>\n",
       "      <td>822</td>\n",
       "      <td>France</td>\n",
       "      <td>Male</td>\n",
       "      <td>50</td>\n",
       "      <td>7.0</td>\n",
       "      <td>0.00</td>\n",
       "      <td>2</td>\n",
       "      <td>1</td>\n",
       "      <td>1</td>\n",
       "      <td>10062.80</td>\n",
       "      <td>0</td>\n",
       "    </tr>\n",
       "    <tr>\n",
       "      <th>7</th>\n",
       "      <td>8</td>\n",
       "      <td>15656148</td>\n",
       "      <td>Obinna</td>\n",
       "      <td>376</td>\n",
       "      <td>Germany</td>\n",
       "      <td>Female</td>\n",
       "      <td>29</td>\n",
       "      <td>4.0</td>\n",
       "      <td>115046.74</td>\n",
       "      <td>4</td>\n",
       "      <td>1</td>\n",
       "      <td>0</td>\n",
       "      <td>119346.88</td>\n",
       "      <td>1</td>\n",
       "    </tr>\n",
       "    <tr>\n",
       "      <th>8</th>\n",
       "      <td>9</td>\n",
       "      <td>15792365</td>\n",
       "      <td>He</td>\n",
       "      <td>501</td>\n",
       "      <td>France</td>\n",
       "      <td>Male</td>\n",
       "      <td>44</td>\n",
       "      <td>4.0</td>\n",
       "      <td>142051.07</td>\n",
       "      <td>2</td>\n",
       "      <td>0</td>\n",
       "      <td>1</td>\n",
       "      <td>74940.50</td>\n",
       "      <td>0</td>\n",
       "    </tr>\n",
       "    <tr>\n",
       "      <th>9</th>\n",
       "      <td>10</td>\n",
       "      <td>15592389</td>\n",
       "      <td>H?</td>\n",
       "      <td>684</td>\n",
       "      <td>France</td>\n",
       "      <td>Male</td>\n",
       "      <td>27</td>\n",
       "      <td>2.0</td>\n",
       "      <td>134603.88</td>\n",
       "      <td>1</td>\n",
       "      <td>1</td>\n",
       "      <td>1</td>\n",
       "      <td>71725.73</td>\n",
       "      <td>0</td>\n",
       "    </tr>\n",
       "    <tr>\n",
       "      <th>10</th>\n",
       "      <td>11</td>\n",
       "      <td>15767821</td>\n",
       "      <td>Bearce</td>\n",
       "      <td>528</td>\n",
       "      <td>France</td>\n",
       "      <td>Male</td>\n",
       "      <td>31</td>\n",
       "      <td>6.0</td>\n",
       "      <td>102016.72</td>\n",
       "      <td>2</td>\n",
       "      <td>0</td>\n",
       "      <td>0</td>\n",
       "      <td>80181.12</td>\n",
       "      <td>0</td>\n",
       "    </tr>\n",
       "    <tr>\n",
       "      <th>11</th>\n",
       "      <td>12</td>\n",
       "      <td>15737173</td>\n",
       "      <td>Andrews</td>\n",
       "      <td>497</td>\n",
       "      <td>Spain</td>\n",
       "      <td>Male</td>\n",
       "      <td>24</td>\n",
       "      <td>3.0</td>\n",
       "      <td>0.00</td>\n",
       "      <td>2</td>\n",
       "      <td>1</td>\n",
       "      <td>0</td>\n",
       "      <td>76390.01</td>\n",
       "      <td>0</td>\n",
       "    </tr>\n",
       "    <tr>\n",
       "      <th>12</th>\n",
       "      <td>13</td>\n",
       "      <td>15632264</td>\n",
       "      <td>Kay</td>\n",
       "      <td>476</td>\n",
       "      <td>France</td>\n",
       "      <td>Female</td>\n",
       "      <td>34</td>\n",
       "      <td>10.0</td>\n",
       "      <td>0.00</td>\n",
       "      <td>2</td>\n",
       "      <td>1</td>\n",
       "      <td>0</td>\n",
       "      <td>26260.98</td>\n",
       "      <td>0</td>\n",
       "    </tr>\n",
       "  </tbody>\n",
       "</table>\n",
       "</div>"
      ],
      "text/plain": [
       "    RowNumber  CustomerId   Surname  CreditScore Geography  Gender  Age  \\\n",
       "0           1    15634602  Hargrave          619    France  Female   42   \n",
       "1           2    15647311      Hill          608     Spain  Female   41   \n",
       "2           3    15619304      Onio          502    France  Female   42   \n",
       "3           4    15701354      Boni          699    France  Female   39   \n",
       "4           5    15737888  Mitchell          850     Spain  Female   43   \n",
       "5           6    15574012       Chu          645     Spain    Male   44   \n",
       "6           7    15592531  Bartlett          822    France    Male   50   \n",
       "7           8    15656148    Obinna          376   Germany  Female   29   \n",
       "8           9    15792365        He          501    France    Male   44   \n",
       "9          10    15592389        H?          684    France    Male   27   \n",
       "10         11    15767821    Bearce          528    France    Male   31   \n",
       "11         12    15737173   Andrews          497     Spain    Male   24   \n",
       "12         13    15632264       Kay          476    France  Female   34   \n",
       "\n",
       "    Tenure    Balance  NumOfProducts  HasCrCard  IsActiveMember  \\\n",
       "0      2.0       0.00              1          1               1   \n",
       "1      1.0   83807.86              1          0               1   \n",
       "2      8.0  159660.80              3          1               0   \n",
       "3      1.0       0.00              2          0               0   \n",
       "4      2.0  125510.82              1          1               1   \n",
       "5      8.0  113755.78              2          1               0   \n",
       "6      7.0       0.00              2          1               1   \n",
       "7      4.0  115046.74              4          1               0   \n",
       "8      4.0  142051.07              2          0               1   \n",
       "9      2.0  134603.88              1          1               1   \n",
       "10     6.0  102016.72              2          0               0   \n",
       "11     3.0       0.00              2          1               0   \n",
       "12    10.0       0.00              2          1               0   \n",
       "\n",
       "    EstimatedSalary  Exited  \n",
       "0         101348.88       1  \n",
       "1         112542.58       0  \n",
       "2         113931.57       1  \n",
       "3          93826.63       0  \n",
       "4          79084.10       0  \n",
       "5         149756.71       1  \n",
       "6          10062.80       0  \n",
       "7         119346.88       1  \n",
       "8          74940.50       0  \n",
       "9          71725.73       0  \n",
       "10         80181.12       0  \n",
       "11         76390.01       0  \n",
       "12         26260.98       0  "
      ]
     },
     "metadata": {},
     "output_type": "display_data"
    },
    {
     "name": "stdout",
     "output_type": "stream",
     "text": [
      "<class 'pandas.core.frame.DataFrame'>\n",
      "RangeIndex: 10000 entries, 0 to 9999\n",
      "Data columns (total 14 columns):\n",
      " #   Column           Non-Null Count  Dtype  \n",
      "---  ------           --------------  -----  \n",
      " 0   RowNumber        10000 non-null  int64  \n",
      " 1   CustomerId       10000 non-null  int64  \n",
      " 2   Surname          10000 non-null  object \n",
      " 3   CreditScore      10000 non-null  int64  \n",
      " 4   Geography        10000 non-null  object \n",
      " 5   Gender           10000 non-null  object \n",
      " 6   Age              10000 non-null  int64  \n",
      " 7   Tenure           9091 non-null   float64\n",
      " 8   Balance          10000 non-null  float64\n",
      " 9   NumOfProducts    10000 non-null  int64  \n",
      " 10  HasCrCard        10000 non-null  int64  \n",
      " 11  IsActiveMember   10000 non-null  int64  \n",
      " 12  EstimatedSalary  10000 non-null  float64\n",
      " 13  Exited           10000 non-null  int64  \n",
      "dtypes: float64(3), int64(8), object(3)\n",
      "memory usage: 1.1+ MB\n"
     ]
    },
    {
     "data": {
      "text/html": [
       "<div>\n",
       "<style scoped>\n",
       "    .dataframe tbody tr th:only-of-type {\n",
       "        vertical-align: middle;\n",
       "    }\n",
       "\n",
       "    .dataframe tbody tr th {\n",
       "        vertical-align: top;\n",
       "    }\n",
       "\n",
       "    .dataframe thead th {\n",
       "        text-align: right;\n",
       "    }\n",
       "</style>\n",
       "<table border=\"1\" class=\"dataframe\">\n",
       "  <thead>\n",
       "    <tr style=\"text-align: right;\">\n",
       "      <th></th>\n",
       "      <th>RowNumber</th>\n",
       "      <th>CustomerId</th>\n",
       "      <th>CreditScore</th>\n",
       "      <th>Age</th>\n",
       "      <th>Tenure</th>\n",
       "      <th>Balance</th>\n",
       "      <th>NumOfProducts</th>\n",
       "      <th>HasCrCard</th>\n",
       "      <th>IsActiveMember</th>\n",
       "      <th>EstimatedSalary</th>\n",
       "      <th>Exited</th>\n",
       "    </tr>\n",
       "  </thead>\n",
       "  <tbody>\n",
       "    <tr>\n",
       "      <th>count</th>\n",
       "      <td>10000.00000</td>\n",
       "      <td>1.000000e+04</td>\n",
       "      <td>10000.000000</td>\n",
       "      <td>10000.000000</td>\n",
       "      <td>9091.000000</td>\n",
       "      <td>10000.000000</td>\n",
       "      <td>10000.000000</td>\n",
       "      <td>10000.00000</td>\n",
       "      <td>10000.000000</td>\n",
       "      <td>10000.000000</td>\n",
       "      <td>10000.000000</td>\n",
       "    </tr>\n",
       "    <tr>\n",
       "      <th>mean</th>\n",
       "      <td>5000.50000</td>\n",
       "      <td>1.569094e+07</td>\n",
       "      <td>650.528800</td>\n",
       "      <td>38.921800</td>\n",
       "      <td>4.997690</td>\n",
       "      <td>76485.889288</td>\n",
       "      <td>1.530200</td>\n",
       "      <td>0.70550</td>\n",
       "      <td>0.515100</td>\n",
       "      <td>100090.239881</td>\n",
       "      <td>0.203700</td>\n",
       "    </tr>\n",
       "    <tr>\n",
       "      <th>std</th>\n",
       "      <td>2886.89568</td>\n",
       "      <td>7.193619e+04</td>\n",
       "      <td>96.653299</td>\n",
       "      <td>10.487806</td>\n",
       "      <td>2.894723</td>\n",
       "      <td>62397.405202</td>\n",
       "      <td>0.581654</td>\n",
       "      <td>0.45584</td>\n",
       "      <td>0.499797</td>\n",
       "      <td>57510.492818</td>\n",
       "      <td>0.402769</td>\n",
       "    </tr>\n",
       "    <tr>\n",
       "      <th>min</th>\n",
       "      <td>1.00000</td>\n",
       "      <td>1.556570e+07</td>\n",
       "      <td>350.000000</td>\n",
       "      <td>18.000000</td>\n",
       "      <td>0.000000</td>\n",
       "      <td>0.000000</td>\n",
       "      <td>1.000000</td>\n",
       "      <td>0.00000</td>\n",
       "      <td>0.000000</td>\n",
       "      <td>11.580000</td>\n",
       "      <td>0.000000</td>\n",
       "    </tr>\n",
       "    <tr>\n",
       "      <th>25%</th>\n",
       "      <td>2500.75000</td>\n",
       "      <td>1.562853e+07</td>\n",
       "      <td>584.000000</td>\n",
       "      <td>32.000000</td>\n",
       "      <td>2.000000</td>\n",
       "      <td>0.000000</td>\n",
       "      <td>1.000000</td>\n",
       "      <td>0.00000</td>\n",
       "      <td>0.000000</td>\n",
       "      <td>51002.110000</td>\n",
       "      <td>0.000000</td>\n",
       "    </tr>\n",
       "    <tr>\n",
       "      <th>50%</th>\n",
       "      <td>5000.50000</td>\n",
       "      <td>1.569074e+07</td>\n",
       "      <td>652.000000</td>\n",
       "      <td>37.000000</td>\n",
       "      <td>5.000000</td>\n",
       "      <td>97198.540000</td>\n",
       "      <td>1.000000</td>\n",
       "      <td>1.00000</td>\n",
       "      <td>1.000000</td>\n",
       "      <td>100193.915000</td>\n",
       "      <td>0.000000</td>\n",
       "    </tr>\n",
       "    <tr>\n",
       "      <th>75%</th>\n",
       "      <td>7500.25000</td>\n",
       "      <td>1.575323e+07</td>\n",
       "      <td>718.000000</td>\n",
       "      <td>44.000000</td>\n",
       "      <td>7.000000</td>\n",
       "      <td>127644.240000</td>\n",
       "      <td>2.000000</td>\n",
       "      <td>1.00000</td>\n",
       "      <td>1.000000</td>\n",
       "      <td>149388.247500</td>\n",
       "      <td>0.000000</td>\n",
       "    </tr>\n",
       "    <tr>\n",
       "      <th>max</th>\n",
       "      <td>10000.00000</td>\n",
       "      <td>1.581569e+07</td>\n",
       "      <td>850.000000</td>\n",
       "      <td>92.000000</td>\n",
       "      <td>10.000000</td>\n",
       "      <td>250898.090000</td>\n",
       "      <td>4.000000</td>\n",
       "      <td>1.00000</td>\n",
       "      <td>1.000000</td>\n",
       "      <td>199992.480000</td>\n",
       "      <td>1.000000</td>\n",
       "    </tr>\n",
       "  </tbody>\n",
       "</table>\n",
       "</div>"
      ],
      "text/plain": [
       "         RowNumber    CustomerId   CreditScore           Age       Tenure  \\\n",
       "count  10000.00000  1.000000e+04  10000.000000  10000.000000  9091.000000   \n",
       "mean    5000.50000  1.569094e+07    650.528800     38.921800     4.997690   \n",
       "std     2886.89568  7.193619e+04     96.653299     10.487806     2.894723   \n",
       "min        1.00000  1.556570e+07    350.000000     18.000000     0.000000   \n",
       "25%     2500.75000  1.562853e+07    584.000000     32.000000     2.000000   \n",
       "50%     5000.50000  1.569074e+07    652.000000     37.000000     5.000000   \n",
       "75%     7500.25000  1.575323e+07    718.000000     44.000000     7.000000   \n",
       "max    10000.00000  1.581569e+07    850.000000     92.000000    10.000000   \n",
       "\n",
       "             Balance  NumOfProducts    HasCrCard  IsActiveMember  \\\n",
       "count   10000.000000   10000.000000  10000.00000    10000.000000   \n",
       "mean    76485.889288       1.530200      0.70550        0.515100   \n",
       "std     62397.405202       0.581654      0.45584        0.499797   \n",
       "min         0.000000       1.000000      0.00000        0.000000   \n",
       "25%         0.000000       1.000000      0.00000        0.000000   \n",
       "50%     97198.540000       1.000000      1.00000        1.000000   \n",
       "75%    127644.240000       2.000000      1.00000        1.000000   \n",
       "max    250898.090000       4.000000      1.00000        1.000000   \n",
       "\n",
       "       EstimatedSalary        Exited  \n",
       "count     10000.000000  10000.000000  \n",
       "mean     100090.239881      0.203700  \n",
       "std       57510.492818      0.402769  \n",
       "min          11.580000      0.000000  \n",
       "25%       51002.110000      0.000000  \n",
       "50%      100193.915000      0.000000  \n",
       "75%      149388.247500      0.000000  \n",
       "max      199992.480000      1.000000  "
      ]
     },
     "execution_count": 4,
     "metadata": {},
     "output_type": "execute_result"
    }
   ],
   "source": [
    "try:\n",
    "    data = pd.read_csv('/datasets/Churn.csv')\n",
    "except:\n",
    "    data = pd.read_csv('https://code.s3.yandex.net/datasets/Churn.csv')\n",
    "\n",
    "display(data.head(13))\n",
    "data.info()\n",
    "data.describe()"
   ]
  },
  {
   "cell_type": "markdown",
   "metadata": {},
   "source": [
    "### Предобработка данных. План работы"
   ]
  },
  {
   "cell_type": "markdown",
   "metadata": {},
   "source": [
    "Произведем первичную предобработку данных\n",
    "- Приведём названия признаков в стандартизированный вид\n",
    "- Проверим наличие дубликатов в признаке `CustomerId`\n",
    "- Проверим значения в признаках `Geography` и `Gender` \n",
    "- Оценим и исправим пропуски в данных\n",
    "- Преобразуем типы данных, при необходимости\n",
    "- Проверим наличие избыточных данных\n",
    "- Проведем анализ выбросов в данных"
   ]
  },
  {
   "cell_type": "markdown",
   "metadata": {},
   "source": [
    "### Приведение названия признаков в стандартизированный вид, проверка наличия дубликатов и проверка неявных дубликатов"
   ]
  },
  {
   "cell_type": "code",
   "execution_count": 5,
   "metadata": {
    "scrolled": false
   },
   "outputs": [
    {
     "name": "stdout",
     "output_type": "stream",
     "text": [
      "Приведём названия признаков в стандартизированный вид, в змеиный регистр\n",
      "\n",
      "- Изменнные имена признаков: ['row_number' 'customer_id' 'surname' 'credit_score' 'geography' 'gender'\n",
      " 'age' 'tenure' 'balance' 'num_of_products' 'has_crcard'\n",
      " 'is_active_member' 'estimated_salary' 'exited']\n"
     ]
    }
   ],
   "source": [
    "print('Приведём названия признаков в стандартизированный вид, в змеиный регистр')\n",
    "print()\n",
    "data.columns = ['row_number', 'customer_id', 'surname', 'credit_score', 'geography',\n",
    "       'gender', 'age', 'tenure', 'balance', 'num_of_products', 'has_crcard',\n",
    "       'is_active_member', 'estimated_salary', 'exited']\n",
    "print('- Изменнные имена признаков:', data.columns.values)"
   ]
  },
  {
   "cell_type": "code",
   "execution_count": 6,
   "metadata": {},
   "outputs": [
    {
     "name": "stdout",
     "output_type": "stream",
     "text": [
      "Проверим наличие дубликатов в признаке CustomerId\n",
      "\n",
      "- Дубликаты в колонке \"customer_id\" отсутствуют\n",
      "\n"
     ]
    }
   ],
   "source": [
    "print('Проверим наличие дубликатов в признаке CustomerId')\n",
    "print()\n",
    "if len(data['customer_id']) == len(data['customer_id'].unique()):\n",
    "    print('- Дубликаты в колонке \"customer_id\" отсутствуют')\n",
    "else:\n",
    "    print('- В колонке \"customer_id\" найдены дубликаты в количестве', \n",
    "          data['customer_id'] - len(data['customer_id'].unique()), 'шт.')\n",
    "    data.drop_duplicates(subset=['customer_id'], inplace=True)\n",
    "    print(' - Дубликаты в колонке \"customer_id\" удалены')\n",
    "print()"
   ]
  },
  {
   "cell_type": "code",
   "execution_count": 7,
   "metadata": {},
   "outputs": [
    {
     "name": "stdout",
     "output_type": "stream",
     "text": [
      "- Уникальные значения в признаке \"Geography\" ['France' 'Spain' 'Germany']\n",
      "- Уникальные значения в признаке \"Gender\" ['Female' 'Male']\n"
     ]
    }
   ],
   "source": [
    "# Проверим значения в признаках `Geography` и `Gender` \n",
    "print('- Уникальные значения в признаке \"Geography\"', data['geography'].unique())\n",
    "print('- Уникальные значения в признаке \"Gender\"', data['gender'].unique())"
   ]
  },
  {
   "cell_type": "markdown",
   "metadata": {},
   "source": [
    "### Оценка и исправление пропусков в данных\n",
    "\n",
    "В значениях признка `Tenure` присутствуют пропуски. Это единственный признак с пропусками.\n",
    "\n",
    "Проверим долю объектов с пропусками и удалим их, если такая доля менее 5%. В противном случае заменим ее на медиану."
   ]
  },
  {
   "cell_type": "code",
   "execution_count": 8,
   "metadata": {},
   "outputs": [
    {
     "name": "stdout",
     "output_type": "stream",
     "text": [
      "Рассматриваемая выборка (Объекты с пропусками в признаках ['tenure'] составляет 9.09% от общего размера данных.\n",
      "\n",
      "Рассматриваемая выборка составляет более 5.00% от общего размера данных.\n",
      "Значения этих данных важны для анализа своим количеством, поэтому: \n",
      "ОСТАВИМ их в наборе данных\n"
     ]
    }
   ],
   "source": [
    "def nan_processing(df_name, columns_list, threshold=0.1):\n",
    "    '''\n",
    "    df_name: исходный pandas.DataFrame\n",
    "    columns_list: список колонок в df_name, в которых функция ведет поиск NaN\n",
    "    threshold: порог доли удаляемых данных, при достижении которого функция не станет преобразовывать датафрейм\n",
    "    return:  предобработанный pandas.DataFrame\n",
    "    Функция принимает на вход pandas.DataFrame и список с колонками из него, \n",
    "    возвращает pandas.DataFrame, в котором удалены NaN (в колонках из списка).\n",
    "    Если общая доля удаляемых данных в сумме для всех колонок превышает порог \n",
    "    threshold, то функция не преобразовывает датафрейм.\n",
    "    '''\n",
    "    anomaly_part = 0\n",
    "    for column in columns_list:\n",
    "        anomaly_part += len(df_name.loc[df_name[column].isna()]) / len(df_name)\n",
    "    print(f'Рассматриваемая выборка (Объекты с пропусками в признаках {columns_list} составляет {anomaly_part:.2%} от общего размера данных.')\n",
    "    print()\n",
    "    if anomaly_part >= threshold:\n",
    "        print(f'Рассматриваемая выборка составляет более {threshold:.2%} от общего размера данных.\\nЗначения этих данных важны для анализа своим количеством, поэтому: \\nОСТАВИМ их в наборе данных')\n",
    "    else:\n",
    "        print(f'Рассматриваемая выборка составляет менее {threshold:.2%} от общего размера данных.\\nЗначения этих данных искажают результаты исследования их значимость не подтверждена количеством, поэтому:\\nУДАЛИМ их из набора данных')\n",
    "        df_name.dropna(subset=columns_list, inplace=True)\n",
    "    return df_name\n",
    "\n",
    "data = nan_processing(data, ['tenure'], 0.05)"
   ]
  },
  {
   "cell_type": "markdown",
   "metadata": {},
   "source": [
    "Функция проверки показала критический для возможного удаления объем пропусков в признаке `Tenure`.\n",
    "\n",
    "Для корректного решения задачи машинного обучения заменим пропуски медианным значением. Это одна из центральных характеристик статистической совокупности, не чувствительная к выбросам."
   ]
  },
  {
   "cell_type": "code",
   "execution_count": 9,
   "metadata": {},
   "outputs": [],
   "source": [
    "def nan_to_median(df_name, columns_list):\n",
    "    '''\n",
    "    df_name: исходный pandas.DataFrame\n",
    "    columns_list: список колонок в df_name, в которых функция ведет поиск NaN и замену их на медианы\n",
    "    return:  предобработанный pandas.DataFrame\n",
    "    Функция принимает на вход pandas.DataFrame и список с колонками из него, возвращает pandas.DataFrame,\n",
    "    в котором (в колонках из списка) NaN заменены на медианы.\n",
    "    '''\n",
    "    \n",
    "    for name in columns_list:\n",
    "        df_name[name] = df_name[name].where(\n",
    "        ~(df_name[name].isna()),df_name[name].median()\n",
    "        )\n",
    "    return df_name\n",
    "\n",
    "data = nan_to_median(data, ['tenure']) "
   ]
  },
  {
   "cell_type": "code",
   "execution_count": 10,
   "metadata": {},
   "outputs": [],
   "source": [
    "# Код ревьюера\n",
    "def some_func(param_a, param_b):\n",
    "    '''\n",
    "    param_a: число\n",
    "    param_b: число\n",
    "    return: сумма чисел a и b\n",
    "    Функция принемает на вход параметры a и b, возращает сумму\n",
    "    '''\n",
    "    return param_a + param_b"
   ]
  },
  {
   "cell_type": "code",
   "execution_count": 11,
   "metadata": {},
   "outputs": [
    {
     "name": "stdout",
     "output_type": "stream",
     "text": [
      "Help on function some_func in module __main__:\n",
      "\n",
      "some_func(param_a, param_b)\n",
      "    param_a: число\n",
      "    param_b: число\n",
      "    return: сумма чисел a и b\n",
      "    Функция принемает на вход параметры a и b, возращает сумму\n",
      "\n"
     ]
    }
   ],
   "source": [
    "# Код ревьюера\n",
    "help(some_func)"
   ]
  },
  {
   "cell_type": "code",
   "execution_count": 12,
   "metadata": {},
   "outputs": [
    {
     "data": {
      "text/plain": [
       "4"
      ]
     },
     "execution_count": 12,
     "metadata": {},
     "output_type": "execute_result"
    }
   ],
   "source": [
    "# Код ревьюера\n",
    "result = some_func(2, 2)\n",
    "result"
   ]
  },
  {
   "cell_type": "markdown",
   "metadata": {},
   "source": [
    "### Преобразование типов данных\n",
    "\n",
    "В целом для каждого признака в наборе данных принят соответствующий тип данных. Сомнения вызывает только признак `tenure`. Возможно после удаления пропусков в нем остались только целочисленные значения.\n",
    "Проверим это."
   ]
  },
  {
   "cell_type": "code",
   "execution_count": 13,
   "metadata": {
    "scrolled": false
   },
   "outputs": [
    {
     "name": "stdout",
     "output_type": "stream",
     "text": [
      "Значения в признаке \"tenure\" целочисленные.\n",
      "Значения в признаке \"tenure\" преобразованы в целочисленный тип.\n"
     ]
    }
   ],
   "source": [
    "def is_integer(df_name, columns_list):\n",
    "    '''\n",
    "    df_name: исходный pandas.DataFrame\n",
    "    columns_list: список колонок в df_name, в которых функция ведет проверку на целочисленность\n",
    "    return: преобразованный pandas.DataFrame \n",
    "    Функция принимает на вход pandas.DataFrame и список колонок, печатает лог проверки,\n",
    "    изменяет тип даных в колонке на int64, если все значения в ней фактически целочисленные\n",
    "    возращает преобразованный pandas.DataFrame\n",
    "    '''    \n",
    "        \n",
    "    for column in columns_list:\n",
    "        try:\n",
    "            if all(x.is_integer() for x in df_name[column]):\n",
    "                print('Значения в признаке \"', column,'\" целочисленные.', sep='')\n",
    "                df_name[column] = df_name[column].astype('int64')\n",
    "                print('Значения в признаке \"', column,'\" преобразованы в целочисленный тип.', sep='')\n",
    "            else:\n",
    "                print('Обнаружены дробные значения в колонке \"', column,'\".', sep='')\n",
    "        except:\n",
    "            print('Ошибка. Колонка с именем \"', column,'\" не найдена, проверьте ввод', sep='')\n",
    "    return df_name\n",
    "\n",
    "data = is_integer(data, ['tenure'])"
   ]
  },
  {
   "cell_type": "markdown",
   "metadata": {},
   "source": [
    "### Проверка наличия избыточных данных\n",
    "\n",
    "Признак `row_number` - индекс строки в наборе данных, дублирует собственный индекс созданного датафрейма. Такой признак не нужен для анализа и окажет неясное влияение на результаты работы моделей машинного обучения.\n",
    "\n",
    "Признак `customer_id` - уникальный идентификатор клиента, однозначно определяет клиента банка и не подходит для задач машинного обучения, так его повторение в новых данных для модели не предполагается.\n",
    "\n",
    "Признак `surname` - фамилия клиента. Так как фамилия не характеризует поведение клиента, данный признак можно рассматривать как избыточный, не влияющий на результаты исследования.\n",
    "\n",
    "УДАЛИМ признак `row_number` и `customer_id`, `surname`."
   ]
  },
  {
   "cell_type": "code",
   "execution_count": 14,
   "metadata": {},
   "outputs": [],
   "source": [
    "data.drop(labels=['row_number', 'customer_id', 'surname'], axis=1, inplace=True)"
   ]
  },
  {
   "cell_type": "markdown",
   "metadata": {},
   "source": [
    "### Анализ выбросов в данных"
   ]
  },
  {
   "cell_type": "code",
   "execution_count": 15,
   "metadata": {
    "scrolled": false
   },
   "outputs": [
    {
     "data": {
      "image/png": "[encoded data removed]",
      "text/plain": [
       "<Figure size 1080x1080 with 9 Axes>"
      ]
     },
     "metadata": {
      "needs_background": "light"
     },
     "output_type": "display_data"
    }
   ],
   "source": [
    "data.hist(figsize=(15, 15), bins = 36);"
   ]
  },
  {
   "cell_type": "markdown",
   "metadata": {},
   "source": [
    "Выбросы обнаружены в следующих признках:\n",
    "\n",
    "- `credit_score`-  Кредитный рейтинг, выбросы у максимума значений\n",
    "- `balance` - Баланс на счёте, выбросы на 0 значении\n",
    "\n",
    "Для признка `balance` наличие выбросов для значения 0 обоснованы: многие клиенты не кладут деньги в банк потому что не успели до начала исследования или по иным причинам. Такие выбросы трогать не будем.\n",
    "\n",
    "В значениях признака `credit_score`-  Кредитный рейтинг  есть выбросы на максимуме значений. Изучим их "
   ]
  },
  {
   "cell_type": "code",
   "execution_count": 16,
   "metadata": {
    "scrolled": false
   },
   "outputs": [
    {
     "data": {
      "image/png": "[encoded data removed]",
      "text/plain": [
       "<Figure size 1080x360 with 1 Axes>"
      ]
     },
     "metadata": {
      "needs_background": "light"
     },
     "output_type": "display_data"
    }
   ],
   "source": [
    "data['credit_score'].hist(figsize=(15, 5), range = (800,870),bins = 100)\n",
    "plt.ylabel('Количество клиентов')\n",
    "plt.xlabel('Кредитный рейтинг')\n",
    "plt.title('Распределение значений кредитного рейтинга среди клиентов банка с рейтингом более 800')\n",
    "plt.show()"
   ]
  },
  {
   "cell_type": "markdown",
   "metadata": {},
   "source": [
    "Около 200 клиентов имеют максимальный рейтинг = 850. Оценим распределение других признаков для таких клиентов."
   ]
  },
  {
   "cell_type": "code",
   "execution_count": 17,
   "metadata": {},
   "outputs": [
    {
     "name": "stdout",
     "output_type": "stream",
     "text": [
      "Распределение признкаов для клиентов с кредитным рейтингом = 850\n"
     ]
    },
    {
     "data": {
      "image/png": "[encoded data removed]",
      "text/plain": [
       "<Figure size 1080x1080 with 9 Axes>"
      ]
     },
     "metadata": {
      "needs_background": "light"
     },
     "output_type": "display_data"
    }
   ],
   "source": [
    "print('Распределение признкаов для клиентов с кредитным рейтингом = 850')\n",
    "data.loc[data['credit_score'] == 850].hist(figsize=(15, 15), bins = 42);"
   ]
  },
  {
   "cell_type": "markdown",
   "metadata": {},
   "source": [
    "В целом значения остальных признаков для клиентов с рейтингом 850 распределены аналогично всей выборке. \n",
    "\n",
    "В исследовании принято решение учитывать таких клиентов для задач машинного обучения, так как пояснения от заказчика о природе возникновения выброса получить не удалось.\n",
    "\n",
    "ОСТАВИМ данные клиентов с кредитным рейтингом = 850"
   ]
  },
  {
   "cell_type": "markdown",
   "metadata": {},
   "source": [
    "### Оценка данных после предобработки"
   ]
  },
  {
   "cell_type": "code",
   "execution_count": 18,
   "metadata": {
    "scrolled": false
   },
   "outputs": [
    {
     "data": {
      "text/html": [
       "<div>\n",
       "<style scoped>\n",
       "    .dataframe tbody tr th:only-of-type {\n",
       "        vertical-align: middle;\n",
       "    }\n",
       "\n",
       "    .dataframe tbody tr th {\n",
       "        vertical-align: top;\n",
       "    }\n",
       "\n",
       "    .dataframe thead th {\n",
       "        text-align: right;\n",
       "    }\n",
       "</style>\n",
       "<table border=\"1\" class=\"dataframe\">\n",
       "  <thead>\n",
       "    <tr style=\"text-align: right;\">\n",
       "      <th></th>\n",
       "      <th>credit_score</th>\n",
       "      <th>geography</th>\n",
       "      <th>gender</th>\n",
       "      <th>age</th>\n",
       "      <th>tenure</th>\n",
       "      <th>balance</th>\n",
       "      <th>num_of_products</th>\n",
       "      <th>has_crcard</th>\n",
       "      <th>is_active_member</th>\n",
       "      <th>estimated_salary</th>\n",
       "      <th>exited</th>\n",
       "    </tr>\n",
       "  </thead>\n",
       "  <tbody>\n",
       "    <tr>\n",
       "      <th>0</th>\n",
       "      <td>619</td>\n",
       "      <td>France</td>\n",
       "      <td>Female</td>\n",
       "      <td>42</td>\n",
       "      <td>2</td>\n",
       "      <td>0.00</td>\n",
       "      <td>1</td>\n",
       "      <td>1</td>\n",
       "      <td>1</td>\n",
       "      <td>101348.88</td>\n",
       "      <td>1</td>\n",
       "    </tr>\n",
       "    <tr>\n",
       "      <th>1</th>\n",
       "      <td>608</td>\n",
       "      <td>Spain</td>\n",
       "      <td>Female</td>\n",
       "      <td>41</td>\n",
       "      <td>1</td>\n",
       "      <td>83807.86</td>\n",
       "      <td>1</td>\n",
       "      <td>0</td>\n",
       "      <td>1</td>\n",
       "      <td>112542.58</td>\n",
       "      <td>0</td>\n",
       "    </tr>\n",
       "    <tr>\n",
       "      <th>2</th>\n",
       "      <td>502</td>\n",
       "      <td>France</td>\n",
       "      <td>Female</td>\n",
       "      <td>42</td>\n",
       "      <td>8</td>\n",
       "      <td>159660.80</td>\n",
       "      <td>3</td>\n",
       "      <td>1</td>\n",
       "      <td>0</td>\n",
       "      <td>113931.57</td>\n",
       "      <td>1</td>\n",
       "    </tr>\n",
       "    <tr>\n",
       "      <th>3</th>\n",
       "      <td>699</td>\n",
       "      <td>France</td>\n",
       "      <td>Female</td>\n",
       "      <td>39</td>\n",
       "      <td>1</td>\n",
       "      <td>0.00</td>\n",
       "      <td>2</td>\n",
       "      <td>0</td>\n",
       "      <td>0</td>\n",
       "      <td>93826.63</td>\n",
       "      <td>0</td>\n",
       "    </tr>\n",
       "    <tr>\n",
       "      <th>4</th>\n",
       "      <td>850</td>\n",
       "      <td>Spain</td>\n",
       "      <td>Female</td>\n",
       "      <td>43</td>\n",
       "      <td>2</td>\n",
       "      <td>125510.82</td>\n",
       "      <td>1</td>\n",
       "      <td>1</td>\n",
       "      <td>1</td>\n",
       "      <td>79084.10</td>\n",
       "      <td>0</td>\n",
       "    </tr>\n",
       "    <tr>\n",
       "      <th>5</th>\n",
       "      <td>645</td>\n",
       "      <td>Spain</td>\n",
       "      <td>Male</td>\n",
       "      <td>44</td>\n",
       "      <td>8</td>\n",
       "      <td>113755.78</td>\n",
       "      <td>2</td>\n",
       "      <td>1</td>\n",
       "      <td>0</td>\n",
       "      <td>149756.71</td>\n",
       "      <td>1</td>\n",
       "    </tr>\n",
       "    <tr>\n",
       "      <th>6</th>\n",
       "      <td>822</td>\n",
       "      <td>France</td>\n",
       "      <td>Male</td>\n",
       "      <td>50</td>\n",
       "      <td>7</td>\n",
       "      <td>0.00</td>\n",
       "      <td>2</td>\n",
       "      <td>1</td>\n",
       "      <td>1</td>\n",
       "      <td>10062.80</td>\n",
       "      <td>0</td>\n",
       "    </tr>\n",
       "    <tr>\n",
       "      <th>7</th>\n",
       "      <td>376</td>\n",
       "      <td>Germany</td>\n",
       "      <td>Female</td>\n",
       "      <td>29</td>\n",
       "      <td>4</td>\n",
       "      <td>115046.74</td>\n",
       "      <td>4</td>\n",
       "      <td>1</td>\n",
       "      <td>0</td>\n",
       "      <td>119346.88</td>\n",
       "      <td>1</td>\n",
       "    </tr>\n",
       "    <tr>\n",
       "      <th>8</th>\n",
       "      <td>501</td>\n",
       "      <td>France</td>\n",
       "      <td>Male</td>\n",
       "      <td>44</td>\n",
       "      <td>4</td>\n",
       "      <td>142051.07</td>\n",
       "      <td>2</td>\n",
       "      <td>0</td>\n",
       "      <td>1</td>\n",
       "      <td>74940.50</td>\n",
       "      <td>0</td>\n",
       "    </tr>\n",
       "    <tr>\n",
       "      <th>9</th>\n",
       "      <td>684</td>\n",
       "      <td>France</td>\n",
       "      <td>Male</td>\n",
       "      <td>27</td>\n",
       "      <td>2</td>\n",
       "      <td>134603.88</td>\n",
       "      <td>1</td>\n",
       "      <td>1</td>\n",
       "      <td>1</td>\n",
       "      <td>71725.73</td>\n",
       "      <td>0</td>\n",
       "    </tr>\n",
       "    <tr>\n",
       "      <th>10</th>\n",
       "      <td>528</td>\n",
       "      <td>France</td>\n",
       "      <td>Male</td>\n",
       "      <td>31</td>\n",
       "      <td>6</td>\n",
       "      <td>102016.72</td>\n",
       "      <td>2</td>\n",
       "      <td>0</td>\n",
       "      <td>0</td>\n",
       "      <td>80181.12</td>\n",
       "      <td>0</td>\n",
       "    </tr>\n",
       "    <tr>\n",
       "      <th>11</th>\n",
       "      <td>497</td>\n",
       "      <td>Spain</td>\n",
       "      <td>Male</td>\n",
       "      <td>24</td>\n",
       "      <td>3</td>\n",
       "      <td>0.00</td>\n",
       "      <td>2</td>\n",
       "      <td>1</td>\n",
       "      <td>0</td>\n",
       "      <td>76390.01</td>\n",
       "      <td>0</td>\n",
       "    </tr>\n",
       "    <tr>\n",
       "      <th>12</th>\n",
       "      <td>476</td>\n",
       "      <td>France</td>\n",
       "      <td>Female</td>\n",
       "      <td>34</td>\n",
       "      <td>10</td>\n",
       "      <td>0.00</td>\n",
       "      <td>2</td>\n",
       "      <td>1</td>\n",
       "      <td>0</td>\n",
       "      <td>26260.98</td>\n",
       "      <td>0</td>\n",
       "    </tr>\n",
       "  </tbody>\n",
       "</table>\n",
       "</div>"
      ],
      "text/plain": [
       "    credit_score geography  gender  age  tenure    balance  num_of_products  \\\n",
       "0            619    France  Female   42       2       0.00                1   \n",
       "1            608     Spain  Female   41       1   83807.86                1   \n",
       "2            502    France  Female   42       8  159660.80                3   \n",
       "3            699    France  Female   39       1       0.00                2   \n",
       "4            850     Spain  Female   43       2  125510.82                1   \n",
       "5            645     Spain    Male   44       8  113755.78                2   \n",
       "6            822    France    Male   50       7       0.00                2   \n",
       "7            376   Germany  Female   29       4  115046.74                4   \n",
       "8            501    France    Male   44       4  142051.07                2   \n",
       "9            684    France    Male   27       2  134603.88                1   \n",
       "10           528    France    Male   31       6  102016.72                2   \n",
       "11           497     Spain    Male   24       3       0.00                2   \n",
       "12           476    France  Female   34      10       0.00                2   \n",
       "\n",
       "    has_crcard  is_active_member  estimated_salary  exited  \n",
       "0            1                 1         101348.88       1  \n",
       "1            0                 1         112542.58       0  \n",
       "2            1                 0         113931.57       1  \n",
       "3            0                 0          93826.63       0  \n",
       "4            1                 1          79084.10       0  \n",
       "5            1                 0         149756.71       1  \n",
       "6            1                 1          10062.80       0  \n",
       "7            1                 0         119346.88       1  \n",
       "8            0                 1          74940.50       0  \n",
       "9            1                 1          71725.73       0  \n",
       "10           0                 0          80181.12       0  \n",
       "11           1                 0          76390.01       0  \n",
       "12           1                 0          26260.98       0  "
      ]
     },
     "metadata": {},
     "output_type": "display_data"
    },
    {
     "name": "stdout",
     "output_type": "stream",
     "text": [
      "<class 'pandas.core.frame.DataFrame'>\n",
      "RangeIndex: 10000 entries, 0 to 9999\n",
      "Data columns (total 11 columns):\n",
      " #   Column            Non-Null Count  Dtype  \n",
      "---  ------            --------------  -----  \n",
      " 0   credit_score      10000 non-null  int64  \n",
      " 1   geography         10000 non-null  object \n",
      " 2   gender            10000 non-null  object \n",
      " 3   age               10000 non-null  int64  \n",
      " 4   tenure            10000 non-null  int64  \n",
      " 5   balance           10000 non-null  float64\n",
      " 6   num_of_products   10000 non-null  int64  \n",
      " 7   has_crcard        10000 non-null  int64  \n",
      " 8   is_active_member  10000 non-null  int64  \n",
      " 9   estimated_salary  10000 non-null  float64\n",
      " 10  exited            10000 non-null  int64  \n",
      "dtypes: float64(2), int64(7), object(2)\n",
      "memory usage: 859.5+ KB\n"
     ]
    },
    {
     "data": {
      "image/png": "[encoded data removed]",
      "text/plain": [
       "<Figure size 1080x1080 with 9 Axes>"
      ]
     },
     "metadata": {
      "needs_background": "light"
     },
     "output_type": "display_data"
    }
   ],
   "source": [
    "display(data.head(13))\n",
    "data.info()\n",
    "data.hist(figsize=(15, 15), bins = 36);"
   ]
  },
  {
   "cell_type": "markdown",
   "metadata": {},
   "source": [
    "|Признак|Тип данных|Новый тип данных|Описание данных|Тип признака|Кол-во пропусков в исходных данных|Примечание\n",
    "|:-------------|:-------------|:-------------|:-------------|:-------------|:-------------|:-------------\n",
    "|credit_score|float64|-|кредитный рейтинг|численный|0|Присутствуют выбросы, оставлены в наборе данных\n",
    "|geography|object|-|страна проживания|категориальный|0|-\n",
    "|gender|float64|-|пол|категориальный|0|-\n",
    "|age|int64|-|возраст|численный|0|-\n",
    "|tenure|float64|int64|сколько лет человек является клиентом банка|численный|909|Пропуски заменены на медиану\n",
    "|balance|float64|-|баланс на счёте|численный|0|-\n",
    "|num_of_products|int64|-|количество продуктов банка, используемых клиентом|численный|0|-\n",
    "|has_crcard|int64|-|наличие кредитной карты|категориальный|0|-\n",
    "|is_active_member|int64|-|активность клиента|категориальный|0|-\n",
    "|estimated_salary|float64|-|предполагаемая зарплата|численный|0|-\n",
    "|exited|int64|-|факт ухода клиента|категориальный|0|-\n",
    "\n"
   ]
  },
  {
   "cell_type": "markdown",
   "metadata": {},
   "source": [
    "### Вывод по разделу 1\n",
    "\n",
    "- В данных 11 колонок (признаков) и 10 000 строк (объектов). Признак `exited` определен как целевой.\n",
    "- Пропуски в признаке `tenure` заменены на медианы\n",
    "- После предобработки пропуски отсутствуют\n",
    "- Признаки `row_number`, `customer_id`, `surname` определены как несоответствующие задачам МО, и удалены из набора данных\n",
    "- Выбросы в данных присутствуют только в признаке `balance`. Исследованием принято решение их учитывать. \n",
    "- Распределение данных для кредитного рейтинга `credit_score`, возраста `age`, длительности сотрудничества с баком `tenure` судя по гистограммам, в целом соответствуют распределению Пуасонна.\n",
    "- Распределение длительности звонков и  объема израсходованного трафика близко к нормальному распределению.\n",
    "- Обнаружен дисбаланс целевого признака `exited`\n",
    "- требуется масштабирование численных признаков `credit_score`, `age`, `tenure`, `balance`, `num_of_products` и `estimated_salary`"
   ]
  },
  {
   "cell_type": "markdown",
   "metadata": {},
   "source": [
    "## Исследование задачи"
   ]
  },
  {
   "cell_type": "markdown",
   "metadata": {},
   "source": [
    "### Общая информация\n",
    "\n",
    "Исходя из отмеченных в этапе предобработки выводов в наборе данных:\n",
    "\n",
    "- присутствует дисбаланс целевого признака `exited`\n",
    "- требуется масштабирование численных признаков  `credit_score`, `age`, `tenure`, `balance`, `num_of_products` и `estimated_salary`\n",
    "- требуется кодирование категориальных признаков \n",
    "\n",
    "Для задач предсказания рассмотрим три модели машинного обучения:\n",
    "\n",
    "- дерево решений\n",
    "- случайный лес\n",
    "- логистическую регрессию\n",
    "\n",
    "Первоначально задача будет решаться без учета дисбаланса классов. Будут определены метрики трех моделей после подбора гиперпараметров для каждой из них.\n",
    "\n",
    "Определение факта возможного ухода клиента - задача бинарной классификации, т.к. предполагаемых вариантов всего два.\n",
    "\n",
    "Исходя из практики машинного обучения модели имеют следующие характеристики:\n",
    "\n",
    "- Качество (accuracy) - качество предсказания, т.е. общее количество верных предсказаний ко всему количеству объектов\n",
    "- Точность (precision) -  определяет, как много отрицательных ответов нашла модель, пока искала положительные. precision = TP/( TP + FP)\n",
    "- Полнота (recall) - выявляет, какую долю положительных среди всех ответов выделила модель. Recall = TP/(TP + FN)\n",
    "- F1-мера (F1-score) объединяет точность и полноту предсказания верных ответов, это среднее гармоническое полноты и точности. F1-score = (2 *  precision * recall) / (precision + recall)\n",
    "- AUC-ROC - площадь под под ROC-кривой, показывающей зависимость доли ложноположительных ответов (FPR) от доли истинно положительных ответов (TPR). это метрика качества, которая изменяется от 0 до 1. \n",
    "- Скорость работы модели\n",
    "\n",
    "Для задач настоящего исследования выбрана F1-мера и AUC-ROC.\n",
    "\n",
    "F1-мера является агрегирующей метрикой для Precision и Recall. Полнота и точность оценивают качество прогноза положительного класса с разных позиций. Recall описывает, как хорошо модель разобралась в особенностях этого класса и распознала его. Precision выявляет, не переусердствует ли модель, присваивая положительные метки.\n",
    "\n",
    "AUC-ROC покащывает, как сильно наша модель отличается от случайной. Для модели, которая всегда отвечает случайно, ROC-кривая выглядит как прямая (AUC-ROC = 0.5)  идущая из левого нижнего угла в верхний правый. Чем график выше, тем больше значение TPR и лучше качество модели (площадь AUC-ROC выше)."
   ]
  },
  {
   "cell_type": "markdown",
   "metadata": {},
   "source": [
    "### Исследование задачи. План работы\n",
    "\n",
    "- кодирование категориальных признаков для корректной работы модели\n",
    "- разделение набора данных на обучающую и валидационную выборки с учетом дисбаланса целевого признака\n",
    "- масштабирование численных признаков `credit_score`, `age`, `tenure`, `balance`, `num_of_products` и `estimated_salary`\n",
    "- обучение моделей машинного обучения: `Логистическая регрессия`, `Решающее дерево`, `Случайный лес` с подбором гиперпараметров\n",
    "- выбор базовой модели"
   ]
  },
  {
   "cell_type": "markdown",
   "metadata": {},
   "source": [
    "### Кодирование категориальных переменных\n",
    "\n",
    "Для кодирования категориальных признаков применим метод One-Hot Encoding. Она подходит для решения нашей задачи: работает со всеми моделями."
   ]
  },
  {
   "cell_type": "code",
   "execution_count": 19,
   "metadata": {},
   "outputs": [],
   "source": [
    "data_ohe = pd.get_dummies(data, drop_first=True)\n",
    "target = data_ohe['exited']\n",
    "features = data_ohe.drop(['exited'] , axis=1)"
   ]
  },
  {
   "cell_type": "markdown",
   "metadata": {},
   "source": [
    "Оценим выборки после кодирования категориальных переменных."
   ]
  },
  {
   "cell_type": "code",
   "execution_count": 20,
   "metadata": {},
   "outputs": [
    {
     "name": "stdout",
     "output_type": "stream",
     "text": [
      "Целевой признак TARGET\n",
      "0     1\n",
      "1     0\n",
      "2     1\n",
      "3     0\n",
      "4     0\n",
      "5     1\n",
      "6     0\n",
      "7     1\n",
      "8     0\n",
      "9     0\n",
      "10    0\n",
      "11    0\n",
      "Name: exited, dtype: int64\n"
     ]
    },
    {
     "data": {
      "image/png": "[encoded data removed]",
      "text/plain": [
       "<Figure size 432x288 with 1 Axes>"
      ]
     },
     "metadata": {
      "needs_background": "light"
     },
     "output_type": "display_data"
    },
    {
     "name": "stdout",
     "output_type": "stream",
     "text": [
      "Признаки FEATURES\n"
     ]
    },
    {
     "data": {
      "text/html": [
       "<div>\n",
       "<style scoped>\n",
       "    .dataframe tbody tr th:only-of-type {\n",
       "        vertical-align: middle;\n",
       "    }\n",
       "\n",
       "    .dataframe tbody tr th {\n",
       "        vertical-align: top;\n",
       "    }\n",
       "\n",
       "    .dataframe thead th {\n",
       "        text-align: right;\n",
       "    }\n",
       "</style>\n",
       "<table border=\"1\" class=\"dataframe\">\n",
       "  <thead>\n",
       "    <tr style=\"text-align: right;\">\n",
       "      <th></th>\n",
       "      <th>credit_score</th>\n",
       "      <th>age</th>\n",
       "      <th>tenure</th>\n",
       "      <th>balance</th>\n",
       "      <th>num_of_products</th>\n",
       "      <th>has_crcard</th>\n",
       "      <th>is_active_member</th>\n",
       "      <th>estimated_salary</th>\n",
       "      <th>geography_Germany</th>\n",
       "      <th>geography_Spain</th>\n",
       "      <th>gender_Male</th>\n",
       "    </tr>\n",
       "  </thead>\n",
       "  <tbody>\n",
       "    <tr>\n",
       "      <th>0</th>\n",
       "      <td>619</td>\n",
       "      <td>42</td>\n",
       "      <td>2</td>\n",
       "      <td>0.00</td>\n",
       "      <td>1</td>\n",
       "      <td>1</td>\n",
       "      <td>1</td>\n",
       "      <td>101348.88</td>\n",
       "      <td>0</td>\n",
       "      <td>0</td>\n",
       "      <td>0</td>\n",
       "    </tr>\n",
       "    <tr>\n",
       "      <th>1</th>\n",
       "      <td>608</td>\n",
       "      <td>41</td>\n",
       "      <td>1</td>\n",
       "      <td>83807.86</td>\n",
       "      <td>1</td>\n",
       "      <td>0</td>\n",
       "      <td>1</td>\n",
       "      <td>112542.58</td>\n",
       "      <td>0</td>\n",
       "      <td>1</td>\n",
       "      <td>0</td>\n",
       "    </tr>\n",
       "    <tr>\n",
       "      <th>2</th>\n",
       "      <td>502</td>\n",
       "      <td>42</td>\n",
       "      <td>8</td>\n",
       "      <td>159660.80</td>\n",
       "      <td>3</td>\n",
       "      <td>1</td>\n",
       "      <td>0</td>\n",
       "      <td>113931.57</td>\n",
       "      <td>0</td>\n",
       "      <td>0</td>\n",
       "      <td>0</td>\n",
       "    </tr>\n",
       "    <tr>\n",
       "      <th>3</th>\n",
       "      <td>699</td>\n",
       "      <td>39</td>\n",
       "      <td>1</td>\n",
       "      <td>0.00</td>\n",
       "      <td>2</td>\n",
       "      <td>0</td>\n",
       "      <td>0</td>\n",
       "      <td>93826.63</td>\n",
       "      <td>0</td>\n",
       "      <td>0</td>\n",
       "      <td>0</td>\n",
       "    </tr>\n",
       "    <tr>\n",
       "      <th>4</th>\n",
       "      <td>850</td>\n",
       "      <td>43</td>\n",
       "      <td>2</td>\n",
       "      <td>125510.82</td>\n",
       "      <td>1</td>\n",
       "      <td>1</td>\n",
       "      <td>1</td>\n",
       "      <td>79084.10</td>\n",
       "      <td>0</td>\n",
       "      <td>1</td>\n",
       "      <td>0</td>\n",
       "    </tr>\n",
       "  </tbody>\n",
       "</table>\n",
       "</div>"
      ],
      "text/plain": [
       "   credit_score  age  tenure    balance  num_of_products  has_crcard  \\\n",
       "0           619   42       2       0.00                1           1   \n",
       "1           608   41       1   83807.86                1           0   \n",
       "2           502   42       8  159660.80                3           1   \n",
       "3           699   39       1       0.00                2           0   \n",
       "4           850   43       2  125510.82                1           1   \n",
       "\n",
       "   is_active_member  estimated_salary  geography_Germany  geography_Spain  \\\n",
       "0                 1         101348.88                  0                0   \n",
       "1                 1         112542.58                  0                1   \n",
       "2                 0         113931.57                  0                0   \n",
       "3                 0          93826.63                  0                0   \n",
       "4                 1          79084.10                  0                1   \n",
       "\n",
       "   gender_Male  \n",
       "0            0  \n",
       "1            0  \n",
       "2            0  \n",
       "3            0  \n",
       "4            0  "
      ]
     },
     "metadata": {},
     "output_type": "display_data"
    },
    {
     "name": "stdout",
     "output_type": "stream",
     "text": [
      "<class 'pandas.core.frame.DataFrame'>\n",
      "RangeIndex: 10000 entries, 0 to 9999\n",
      "Data columns (total 11 columns):\n",
      " #   Column             Non-Null Count  Dtype  \n",
      "---  ------             --------------  -----  \n",
      " 0   credit_score       10000 non-null  int64  \n",
      " 1   age                10000 non-null  int64  \n",
      " 2   tenure             10000 non-null  int64  \n",
      " 3   balance            10000 non-null  float64\n",
      " 4   num_of_products    10000 non-null  int64  \n",
      " 5   has_crcard         10000 non-null  int64  \n",
      " 6   is_active_member   10000 non-null  int64  \n",
      " 7   estimated_salary   10000 non-null  float64\n",
      " 8   geography_Germany  10000 non-null  uint8  \n",
      " 9   geography_Spain    10000 non-null  uint8  \n",
      " 10  gender_Male        10000 non-null  uint8  \n",
      "dtypes: float64(2), int64(6), uint8(3)\n",
      "memory usage: 654.4 KB\n",
      "None\n"
     ]
    }
   ],
   "source": [
    "print('Целевой признак TARGET')\n",
    "print(target.head(12))\n",
    "\n",
    "target.value_counts().plot(kind='bar')\n",
    "plt.title('Распределение значений целевого признака TARGET')\n",
    "plt.show()\n",
    "\n",
    "print('Признаки FEATURES')\n",
    "\n",
    "display(features.head())\n",
    "print(features.info())"
   ]
  },
  {
   "cell_type": "markdown",
   "metadata": {},
   "source": [
    "### Разделение набора данных на обучающую и валидационную выборки\n",
    "\n",
    "Так как тестовая выборка не предоставлена заказчиком исследования, то берем из исходного набора данных. Значит, данные нужно разбить на три части: обучающую, валидационную и тестовую. \n",
    "\n",
    "Размеры тестового и валидационного наборов примем равными. \n",
    "\n",
    "Исходные данные разобъем в соотношении 3:1:1\n",
    "\n",
    "Так как в целевом признаке есть дисбаланс классов, выборки стратифицируем с помощью параметра stratify в train_test_split. "
   ]
  },
  {
   "cell_type": "code",
   "execution_count": 21,
   "metadata": {},
   "outputs": [],
   "source": [
    "features_train, features_valid_and_test, target_train, target_valid_and_test = train_test_split(\n",
    "    features, \n",
    "    target,  \n",
    "    test_size=0.4, \n",
    "    random_state=RANDOM_STATE,\n",
    "    stratify=target)\n",
    "\n",
    "features_valid, features_test, target_valid, target_test  = train_test_split(\n",
    "    features_valid_and_test, \n",
    "    target_valid_and_test, \n",
    "    test_size=0.5, \n",
    "    random_state=RANDOM_STATE,\n",
    "    stratify=target_valid_and_test)"
   ]
  },
  {
   "cell_type": "markdown",
   "metadata": {},
   "source": [
    "### Масштабирование численных признаков\n",
    "\n",
    "Для того, чтобы алгоритмы МА не выделяли признаки со значительно отличающимися разбросами числовых значений применим один из методов масштабирования — стандартизацию данных.\n",
    "\n",
    "Согласно выводам раздела 1 определены следующие численные признаки:\n",
    "\n",
    "`credit_score`, `age`, `tenure`, `balance`, `num_of_products` и `estimated_salary`"
   ]
  },
  {
   "cell_type": "code",
   "execution_count": 22,
   "metadata": {},
   "outputs": [],
   "source": [
    "numeric = ['credit_score', 'age', 'tenure', 'balance', 'num_of_products', 'estimated_salary']\n",
    "\n",
    "scaler = StandardScaler()\n",
    "scaler.fit(features_train[numeric]) \n",
    "\n",
    "features_train[numeric] = scaler.transform(features_train[numeric])\n",
    "features_valid[numeric] = scaler.transform(features_valid[numeric])\n",
    "features_test[numeric] = scaler.transform(features_test[numeric])"
   ]
  },
  {
   "cell_type": "markdown",
   "metadata": {},
   "source": [
    "Оценим выборок после масштабирования численных признаков."
   ]
  },
  {
   "cell_type": "code",
   "execution_count": 23,
   "metadata": {},
   "outputs": [
    {
     "name": "stdout",
     "output_type": "stream",
     "text": [
      "Признаки FEATURES TRAIN (обучающие)\n"
     ]
    },
    {
     "data": {
      "text/html": [
       "<div>\n",
       "<style scoped>\n",
       "    .dataframe tbody tr th:only-of-type {\n",
       "        vertical-align: middle;\n",
       "    }\n",
       "\n",
       "    .dataframe tbody tr th {\n",
       "        vertical-align: top;\n",
       "    }\n",
       "\n",
       "    .dataframe thead th {\n",
       "        text-align: right;\n",
       "    }\n",
       "</style>\n",
       "<table border=\"1\" class=\"dataframe\">\n",
       "  <thead>\n",
       "    <tr style=\"text-align: right;\">\n",
       "      <th></th>\n",
       "      <th>credit_score</th>\n",
       "      <th>age</th>\n",
       "      <th>tenure</th>\n",
       "      <th>balance</th>\n",
       "      <th>num_of_products</th>\n",
       "      <th>has_crcard</th>\n",
       "      <th>is_active_member</th>\n",
       "      <th>estimated_salary</th>\n",
       "      <th>geography_Germany</th>\n",
       "      <th>geography_Spain</th>\n",
       "      <th>gender_Male</th>\n",
       "    </tr>\n",
       "  </thead>\n",
       "  <tbody>\n",
       "    <tr>\n",
       "      <th>count</th>\n",
       "      <td>6.000000e+03</td>\n",
       "      <td>6.000000e+03</td>\n",
       "      <td>6.000000e+03</td>\n",
       "      <td>6.000000e+03</td>\n",
       "      <td>6.000000e+03</td>\n",
       "      <td>6000.000000</td>\n",
       "      <td>6000.000000</td>\n",
       "      <td>6.000000e+03</td>\n",
       "      <td>6000.000000</td>\n",
       "      <td>6000.000000</td>\n",
       "      <td>6000.000000</td>\n",
       "    </tr>\n",
       "    <tr>\n",
       "      <th>mean</th>\n",
       "      <td>3.221127e-16</td>\n",
       "      <td>1.610564e-16</td>\n",
       "      <td>6.039613e-17</td>\n",
       "      <td>-1.006602e-17</td>\n",
       "      <td>9.000208e-17</td>\n",
       "      <td>0.709500</td>\n",
       "      <td>0.516500</td>\n",
       "      <td>-3.777719e-16</td>\n",
       "      <td>0.246333</td>\n",
       "      <td>0.249333</td>\n",
       "      <td>0.548167</td>\n",
       "    </tr>\n",
       "    <tr>\n",
       "      <th>std</th>\n",
       "      <td>1.000083e+00</td>\n",
       "      <td>1.000083e+00</td>\n",
       "      <td>1.000083e+00</td>\n",
       "      <td>1.000083e+00</td>\n",
       "      <td>1.000083e+00</td>\n",
       "      <td>0.454031</td>\n",
       "      <td>0.499769</td>\n",
       "      <td>1.000083e+00</td>\n",
       "      <td>0.430911</td>\n",
       "      <td>0.432663</td>\n",
       "      <td>0.497716</td>\n",
       "    </tr>\n",
       "    <tr>\n",
       "      <th>min</th>\n",
       "      <td>-3.135985e+00</td>\n",
       "      <td>-1.993572e+00</td>\n",
       "      <td>-1.845977e+00</td>\n",
       "      <td>-1.225425e+00</td>\n",
       "      <td>-8.927397e-01</td>\n",
       "      <td>0.000000</td>\n",
       "      <td>0.000000</td>\n",
       "      <td>-1.739547e+00</td>\n",
       "      <td>0.000000</td>\n",
       "      <td>0.000000</td>\n",
       "      <td>0.000000</td>\n",
       "    </tr>\n",
       "    <tr>\n",
       "      <th>25%</th>\n",
       "      <td>-6.897323e-01</td>\n",
       "      <td>-6.535809e-01</td>\n",
       "      <td>-7.550097e-01</td>\n",
       "      <td>-1.225425e+00</td>\n",
       "      <td>-8.927397e-01</td>\n",
       "      <td>0.000000</td>\n",
       "      <td>0.000000</td>\n",
       "      <td>-8.559535e-01</td>\n",
       "      <td>0.000000</td>\n",
       "      <td>0.000000</td>\n",
       "      <td>0.000000</td>\n",
       "    </tr>\n",
       "    <tr>\n",
       "      <th>50%</th>\n",
       "      <td>7.710034e-03</td>\n",
       "      <td>-1.750125e-01</td>\n",
       "      <td>-2.769844e-02</td>\n",
       "      <td>3.238340e-01</td>\n",
       "      <td>-8.927397e-01</td>\n",
       "      <td>1.000000</td>\n",
       "      <td>1.000000</td>\n",
       "      <td>5.750691e-03</td>\n",
       "      <td>0.000000</td>\n",
       "      <td>0.000000</td>\n",
       "      <td>1.000000</td>\n",
       "    </tr>\n",
       "    <tr>\n",
       "      <th>75%</th>\n",
       "      <td>6.843332e-01</td>\n",
       "      <td>4.949833e-01</td>\n",
       "      <td>6.996128e-01</td>\n",
       "      <td>8.180025e-01</td>\n",
       "      <td>8.290341e-01</td>\n",
       "      <td>1.000000</td>\n",
       "      <td>1.000000</td>\n",
       "      <td>8.602608e-01</td>\n",
       "      <td>0.000000</td>\n",
       "      <td>0.000000</td>\n",
       "      <td>1.000000</td>\n",
       "    </tr>\n",
       "    <tr>\n",
       "      <th>max</th>\n",
       "      <td>2.068808e+00</td>\n",
       "      <td>5.089240e+00</td>\n",
       "      <td>1.790580e+00</td>\n",
       "      <td>2.785626e+00</td>\n",
       "      <td>4.272582e+00</td>\n",
       "      <td>1.000000</td>\n",
       "      <td>1.000000</td>\n",
       "      <td>1.731416e+00</td>\n",
       "      <td>1.000000</td>\n",
       "      <td>1.000000</td>\n",
       "      <td>1.000000</td>\n",
       "    </tr>\n",
       "  </tbody>\n",
       "</table>\n",
       "</div>"
      ],
      "text/plain": [
       "       credit_score           age        tenure       balance  \\\n",
       "count  6.000000e+03  6.000000e+03  6.000000e+03  6.000000e+03   \n",
       "mean   3.221127e-16  1.610564e-16  6.039613e-17 -1.006602e-17   \n",
       "std    1.000083e+00  1.000083e+00  1.000083e+00  1.000083e+00   \n",
       "min   -3.135985e+00 -1.993572e+00 -1.845977e+00 -1.225425e+00   \n",
       "25%   -6.897323e-01 -6.535809e-01 -7.550097e-01 -1.225425e+00   \n",
       "50%    7.710034e-03 -1.750125e-01 -2.769844e-02  3.238340e-01   \n",
       "75%    6.843332e-01  4.949833e-01  6.996128e-01  8.180025e-01   \n",
       "max    2.068808e+00  5.089240e+00  1.790580e+00  2.785626e+00   \n",
       "\n",
       "       num_of_products   has_crcard  is_active_member  estimated_salary  \\\n",
       "count     6.000000e+03  6000.000000       6000.000000      6.000000e+03   \n",
       "mean      9.000208e-17     0.709500          0.516500     -3.777719e-16   \n",
       "std       1.000083e+00     0.454031          0.499769      1.000083e+00   \n",
       "min      -8.927397e-01     0.000000          0.000000     -1.739547e+00   \n",
       "25%      -8.927397e-01     0.000000          0.000000     -8.559535e-01   \n",
       "50%      -8.927397e-01     1.000000          1.000000      5.750691e-03   \n",
       "75%       8.290341e-01     1.000000          1.000000      8.602608e-01   \n",
       "max       4.272582e+00     1.000000          1.000000      1.731416e+00   \n",
       "\n",
       "       geography_Germany  geography_Spain  gender_Male  \n",
       "count        6000.000000      6000.000000  6000.000000  \n",
       "mean            0.246333         0.249333     0.548167  \n",
       "std             0.430911         0.432663     0.497716  \n",
       "min             0.000000         0.000000     0.000000  \n",
       "25%             0.000000         0.000000     0.000000  \n",
       "50%             0.000000         0.000000     1.000000  \n",
       "75%             0.000000         0.000000     1.000000  \n",
       "max             1.000000         1.000000     1.000000  "
      ]
     },
     "metadata": {},
     "output_type": "display_data"
    },
    {
     "name": "stdout",
     "output_type": "stream",
     "text": [
      "Признаки FEATURES VALID (Валидационные)\n"
     ]
    },
    {
     "data": {
      "text/html": [
       "<div>\n",
       "<style scoped>\n",
       "    .dataframe tbody tr th:only-of-type {\n",
       "        vertical-align: middle;\n",
       "    }\n",
       "\n",
       "    .dataframe tbody tr th {\n",
       "        vertical-align: top;\n",
       "    }\n",
       "\n",
       "    .dataframe thead th {\n",
       "        text-align: right;\n",
       "    }\n",
       "</style>\n",
       "<table border=\"1\" class=\"dataframe\">\n",
       "  <thead>\n",
       "    <tr style=\"text-align: right;\">\n",
       "      <th></th>\n",
       "      <th>credit_score</th>\n",
       "      <th>age</th>\n",
       "      <th>tenure</th>\n",
       "      <th>balance</th>\n",
       "      <th>num_of_products</th>\n",
       "      <th>has_crcard</th>\n",
       "      <th>is_active_member</th>\n",
       "      <th>estimated_salary</th>\n",
       "      <th>geography_Germany</th>\n",
       "      <th>geography_Spain</th>\n",
       "      <th>gender_Male</th>\n",
       "    </tr>\n",
       "  </thead>\n",
       "  <tbody>\n",
       "    <tr>\n",
       "      <th>count</th>\n",
       "      <td>2000.000000</td>\n",
       "      <td>2000.000000</td>\n",
       "      <td>2000.000000</td>\n",
       "      <td>2000.000000</td>\n",
       "      <td>2000.000000</td>\n",
       "      <td>2000.000000</td>\n",
       "      <td>2000.000000</td>\n",
       "      <td>2000.000000</td>\n",
       "      <td>2000.000000</td>\n",
       "      <td>2000.0000</td>\n",
       "      <td>2000.000000</td>\n",
       "    </tr>\n",
       "    <tr>\n",
       "      <th>mean</th>\n",
       "      <td>-0.015998</td>\n",
       "      <td>0.046373</td>\n",
       "      <td>-0.060791</td>\n",
       "      <td>0.015263</td>\n",
       "      <td>0.027548</td>\n",
       "      <td>0.709000</td>\n",
       "      <td>0.523000</td>\n",
       "      <td>0.016563</td>\n",
       "      <td>0.260500</td>\n",
       "      <td>0.2415</td>\n",
       "      <td>0.536000</td>\n",
       "    </tr>\n",
       "    <tr>\n",
       "      <th>std</th>\n",
       "      <td>1.008825</td>\n",
       "      <td>1.025198</td>\n",
       "      <td>1.015675</td>\n",
       "      <td>0.985496</td>\n",
       "      <td>1.014216</td>\n",
       "      <td>0.454337</td>\n",
       "      <td>0.499596</td>\n",
       "      <td>0.993410</td>\n",
       "      <td>0.439017</td>\n",
       "      <td>0.4281</td>\n",
       "      <td>0.498827</td>\n",
       "    </tr>\n",
       "    <tr>\n",
       "      <th>min</th>\n",
       "      <td>-3.135985</td>\n",
       "      <td>-1.993572</td>\n",
       "      <td>-1.845977</td>\n",
       "      <td>-1.225425</td>\n",
       "      <td>-0.892740</td>\n",
       "      <td>0.000000</td>\n",
       "      <td>0.000000</td>\n",
       "      <td>-1.737612</td>\n",
       "      <td>0.000000</td>\n",
       "      <td>0.0000</td>\n",
       "      <td>0.000000</td>\n",
       "    </tr>\n",
       "    <tr>\n",
       "      <th>25%</th>\n",
       "      <td>-0.731371</td>\n",
       "      <td>-0.653581</td>\n",
       "      <td>-0.755010</td>\n",
       "      <td>-1.225425</td>\n",
       "      <td>-0.892740</td>\n",
       "      <td>0.000000</td>\n",
       "      <td>0.000000</td>\n",
       "      <td>-0.824058</td>\n",
       "      <td>0.000000</td>\n",
       "      <td>0.0000</td>\n",
       "      <td>0.000000</td>\n",
       "    </tr>\n",
       "    <tr>\n",
       "      <th>50%</th>\n",
       "      <td>-0.002700</td>\n",
       "      <td>-0.079299</td>\n",
       "      <td>-0.027698</td>\n",
       "      <td>0.344932</td>\n",
       "      <td>-0.892740</td>\n",
       "      <td>1.000000</td>\n",
       "      <td>1.000000</td>\n",
       "      <td>0.007108</td>\n",
       "      <td>0.000000</td>\n",
       "      <td>0.0000</td>\n",
       "      <td>1.000000</td>\n",
       "    </tr>\n",
       "    <tr>\n",
       "      <th>75%</th>\n",
       "      <td>0.705152</td>\n",
       "      <td>0.494983</td>\n",
       "      <td>0.699613</td>\n",
       "      <td>0.813571</td>\n",
       "      <td>0.829034</td>\n",
       "      <td>1.000000</td>\n",
       "      <td>1.000000</td>\n",
       "      <td>0.893594</td>\n",
       "      <td>1.000000</td>\n",
       "      <td>0.0000</td>\n",
       "      <td>1.000000</td>\n",
       "    </tr>\n",
       "    <tr>\n",
       "      <th>max</th>\n",
       "      <td>2.068808</td>\n",
       "      <td>4.132103</td>\n",
       "      <td>1.790580</td>\n",
       "      <td>2.182095</td>\n",
       "      <td>4.272582</td>\n",
       "      <td>1.000000</td>\n",
       "      <td>1.000000</td>\n",
       "      <td>1.731718</td>\n",
       "      <td>1.000000</td>\n",
       "      <td>1.0000</td>\n",
       "      <td>1.000000</td>\n",
       "    </tr>\n",
       "  </tbody>\n",
       "</table>\n",
       "</div>"
      ],
      "text/plain": [
       "       credit_score          age       tenure      balance  num_of_products  \\\n",
       "count   2000.000000  2000.000000  2000.000000  2000.000000      2000.000000   \n",
       "mean      -0.015998     0.046373    -0.060791     0.015263         0.027548   \n",
       "std        1.008825     1.025198     1.015675     0.985496         1.014216   \n",
       "min       -3.135985    -1.993572    -1.845977    -1.225425        -0.892740   \n",
       "25%       -0.731371    -0.653581    -0.755010    -1.225425        -0.892740   \n",
       "50%       -0.002700    -0.079299    -0.027698     0.344932        -0.892740   \n",
       "75%        0.705152     0.494983     0.699613     0.813571         0.829034   \n",
       "max        2.068808     4.132103     1.790580     2.182095         4.272582   \n",
       "\n",
       "        has_crcard  is_active_member  estimated_salary  geography_Germany  \\\n",
       "count  2000.000000       2000.000000       2000.000000        2000.000000   \n",
       "mean      0.709000          0.523000          0.016563           0.260500   \n",
       "std       0.454337          0.499596          0.993410           0.439017   \n",
       "min       0.000000          0.000000         -1.737612           0.000000   \n",
       "25%       0.000000          0.000000         -0.824058           0.000000   \n",
       "50%       1.000000          1.000000          0.007108           0.000000   \n",
       "75%       1.000000          1.000000          0.893594           1.000000   \n",
       "max       1.000000          1.000000          1.731718           1.000000   \n",
       "\n",
       "       geography_Spain  gender_Male  \n",
       "count        2000.0000  2000.000000  \n",
       "mean            0.2415     0.536000  \n",
       "std             0.4281     0.498827  \n",
       "min             0.0000     0.000000  \n",
       "25%             0.0000     0.000000  \n",
       "50%             0.0000     1.000000  \n",
       "75%             0.0000     1.000000  \n",
       "max             1.0000     1.000000  "
      ]
     },
     "metadata": {},
     "output_type": "display_data"
    },
    {
     "name": "stdout",
     "output_type": "stream",
     "text": [
      "Признаки FEATURES TEST (Тестовые)\n"
     ]
    },
    {
     "data": {
      "text/html": [
       "<div>\n",
       "<style scoped>\n",
       "    .dataframe tbody tr th:only-of-type {\n",
       "        vertical-align: middle;\n",
       "    }\n",
       "\n",
       "    .dataframe tbody tr th {\n",
       "        vertical-align: top;\n",
       "    }\n",
       "\n",
       "    .dataframe thead th {\n",
       "        text-align: right;\n",
       "    }\n",
       "</style>\n",
       "<table border=\"1\" class=\"dataframe\">\n",
       "  <thead>\n",
       "    <tr style=\"text-align: right;\">\n",
       "      <th></th>\n",
       "      <th>credit_score</th>\n",
       "      <th>age</th>\n",
       "      <th>tenure</th>\n",
       "      <th>balance</th>\n",
       "      <th>num_of_products</th>\n",
       "      <th>has_crcard</th>\n",
       "      <th>is_active_member</th>\n",
       "      <th>estimated_salary</th>\n",
       "      <th>geography_Germany</th>\n",
       "      <th>geography_Spain</th>\n",
       "      <th>gender_Male</th>\n",
       "    </tr>\n",
       "  </thead>\n",
       "  <tbody>\n",
       "    <tr>\n",
       "      <th>count</th>\n",
       "      <td>2000.000000</td>\n",
       "      <td>2000.000000</td>\n",
       "      <td>2000.000000</td>\n",
       "      <td>2000.000000</td>\n",
       "      <td>2000.000000</td>\n",
       "      <td>2000.000000</td>\n",
       "      <td>2000.000000</td>\n",
       "      <td>2000.000000</td>\n",
       "      <td>2000.00000</td>\n",
       "      <td>2000.000000</td>\n",
       "      <td>2000.000000</td>\n",
       "    </tr>\n",
       "    <tr>\n",
       "      <th>mean</th>\n",
       "      <td>-0.022025</td>\n",
       "      <td>-0.001723</td>\n",
       "      <td>-0.081519</td>\n",
       "      <td>-0.028575</td>\n",
       "      <td>0.073175</td>\n",
       "      <td>0.690000</td>\n",
       "      <td>0.503000</td>\n",
       "      <td>-0.027536</td>\n",
       "      <td>0.25500</td>\n",
       "      <td>0.249000</td>\n",
       "      <td>0.548000</td>\n",
       "    </tr>\n",
       "    <tr>\n",
       "      <th>std</th>\n",
       "      <td>1.021636</td>\n",
       "      <td>0.993010</td>\n",
       "      <td>0.999813</td>\n",
       "      <td>1.001816</td>\n",
       "      <td>0.991246</td>\n",
       "      <td>0.462609</td>\n",
       "      <td>0.500116</td>\n",
       "      <td>0.998190</td>\n",
       "      <td>0.43597</td>\n",
       "      <td>0.432542</td>\n",
       "      <td>0.497815</td>\n",
       "    </tr>\n",
       "    <tr>\n",
       "      <th>min</th>\n",
       "      <td>-2.979841</td>\n",
       "      <td>-1.993572</td>\n",
       "      <td>-1.845977</td>\n",
       "      <td>-1.225425</td>\n",
       "      <td>-0.892740</td>\n",
       "      <td>0.000000</td>\n",
       "      <td>0.000000</td>\n",
       "      <td>-1.733971</td>\n",
       "      <td>0.00000</td>\n",
       "      <td>0.000000</td>\n",
       "      <td>0.000000</td>\n",
       "    </tr>\n",
       "    <tr>\n",
       "      <th>25%</th>\n",
       "      <td>-0.720961</td>\n",
       "      <td>-0.653581</td>\n",
       "      <td>-0.755010</td>\n",
       "      <td>-1.225425</td>\n",
       "      <td>-0.892740</td>\n",
       "      <td>0.000000</td>\n",
       "      <td>0.000000</td>\n",
       "      <td>-0.881233</td>\n",
       "      <td>0.00000</td>\n",
       "      <td>0.000000</td>\n",
       "      <td>0.000000</td>\n",
       "    </tr>\n",
       "    <tr>\n",
       "      <th>50%</th>\n",
       "      <td>0.007710</td>\n",
       "      <td>-0.175012</td>\n",
       "      <td>-0.027698</td>\n",
       "      <td>0.325443</td>\n",
       "      <td>0.829034</td>\n",
       "      <td>1.000000</td>\n",
       "      <td>1.000000</td>\n",
       "      <td>-0.024325</td>\n",
       "      <td>0.00000</td>\n",
       "      <td>0.000000</td>\n",
       "      <td>1.000000</td>\n",
       "    </tr>\n",
       "    <tr>\n",
       "      <th>75%</th>\n",
       "      <td>0.684333</td>\n",
       "      <td>0.494983</td>\n",
       "      <td>0.699613</td>\n",
       "      <td>0.806817</td>\n",
       "      <td>0.829034</td>\n",
       "      <td>1.000000</td>\n",
       "      <td>1.000000</td>\n",
       "      <td>0.789709</td>\n",
       "      <td>1.00000</td>\n",
       "      <td>0.000000</td>\n",
       "      <td>1.000000</td>\n",
       "    </tr>\n",
       "    <tr>\n",
       "      <th>max</th>\n",
       "      <td>2.068808</td>\n",
       "      <td>4.227817</td>\n",
       "      <td>1.790580</td>\n",
       "      <td>2.168792</td>\n",
       "      <td>4.272582</td>\n",
       "      <td>1.000000</td>\n",
       "      <td>1.000000</td>\n",
       "      <td>1.732096</td>\n",
       "      <td>1.00000</td>\n",
       "      <td>1.000000</td>\n",
       "      <td>1.000000</td>\n",
       "    </tr>\n",
       "  </tbody>\n",
       "</table>\n",
       "</div>"
      ],
      "text/plain": [
       "       credit_score          age       tenure      balance  num_of_products  \\\n",
       "count   2000.000000  2000.000000  2000.000000  2000.000000      2000.000000   \n",
       "mean      -0.022025    -0.001723    -0.081519    -0.028575         0.073175   \n",
       "std        1.021636     0.993010     0.999813     1.001816         0.991246   \n",
       "min       -2.979841    -1.993572    -1.845977    -1.225425        -0.892740   \n",
       "25%       -0.720961    -0.653581    -0.755010    -1.225425        -0.892740   \n",
       "50%        0.007710    -0.175012    -0.027698     0.325443         0.829034   \n",
       "75%        0.684333     0.494983     0.699613     0.806817         0.829034   \n",
       "max        2.068808     4.227817     1.790580     2.168792         4.272582   \n",
       "\n",
       "        has_crcard  is_active_member  estimated_salary  geography_Germany  \\\n",
       "count  2000.000000       2000.000000       2000.000000         2000.00000   \n",
       "mean      0.690000          0.503000         -0.027536            0.25500   \n",
       "std       0.462609          0.500116          0.998190            0.43597   \n",
       "min       0.000000          0.000000         -1.733971            0.00000   \n",
       "25%       0.000000          0.000000         -0.881233            0.00000   \n",
       "50%       1.000000          1.000000         -0.024325            0.00000   \n",
       "75%       1.000000          1.000000          0.789709            1.00000   \n",
       "max       1.000000          1.000000          1.732096            1.00000   \n",
       "\n",
       "       geography_Spain  gender_Male  \n",
       "count      2000.000000  2000.000000  \n",
       "mean          0.249000     0.548000  \n",
       "std           0.432542     0.497815  \n",
       "min           0.000000     0.000000  \n",
       "25%           0.000000     0.000000  \n",
       "50%           0.000000     1.000000  \n",
       "75%           0.000000     1.000000  \n",
       "max           1.000000     1.000000  "
      ]
     },
     "metadata": {},
     "output_type": "display_data"
    }
   ],
   "source": [
    "print('Признаки FEATURES TRAIN (обучающие)')\n",
    "display(features_train.describe())\n",
    "\n",
    "print('Признаки FEATURES VALID (Валидационные)')\n",
    "display(features_valid.describe())\n",
    "\n",
    "print('Признаки FEATURES TEST (Тестовые)')\n",
    "display(features_test.describe())"
   ]
  },
  {
   "cell_type": "markdown",
   "metadata": {},
   "source": [
    "### Обучение моделей машинного обучения"
   ]
  },
  {
   "cell_type": "code",
   "execution_count": 24,
   "metadata": {},
   "outputs": [],
   "source": [
    "def threshold_check(result_f1, required_f1_value=REQUIRED_F1):\n",
    "    '''\n",
    "    result_f1: значение метрики F1-меры\n",
    "    required_f1_value: требуемое минимальное значение F1-меры, по умолчанию равно глобальной переменной REQUIRED_F1\n",
    "    return: None\n",
    "    Функция принимает на вход значение метрики F1-меры и требуемое минимальное значение F1-меры,\n",
    "    сравнивает их и печатает лог проверки.\n",
    "    возращает None\n",
    "    '''\n",
    "    if result_f1 < required_f1_value:\n",
    "        print(f'Требуемое значение {required_f1_value} не обеспечено')\n",
    "    else:\n",
    "        print(f'Требуемое значение {required_f1_value} достигнуто')"
   ]
  },
  {
   "cell_type": "code",
   "execution_count": 25,
   "metadata": {},
   "outputs": [],
   "source": [
    "def lr_research(features_train, features_valid, target_train, target_valid,\n",
    "                cl_weight=None, need_to_calculate_auc_roc=False,\n",
    "                solver_name='liblinear', iter_value=100,\n",
    "                rnd=RANDOM_STATE):\n",
    "    '''\n",
    "    features_train: массив с признаками (обучающий)\n",
    "    features_valid: массив с признаками (валидационный)\n",
    "    target_train: массив с целевым признаком (обучающий)\n",
    "    target_valid: массив с целевым признаком (валидационный)\n",
    "    cl_weight: словарь с весами классов {class_label: weight}, None - классы имеют один вес,\n",
    "               или 'balanced' для автоматической балансировки\n",
    "    need_to_calculate_auc_roc: булево значение, определяющее, нужно ли считать величину AUC-ROC\n",
    "    solver_name: имя алгоритма для логистической регрессии\n",
    "    iter_value: количество итераций для расчета \n",
    "    rnd: параметр для управления используемым генератором случайных чисел, описывает состояние генератора.\n",
    "         По умолчанию равен глобальной переменной RANDOM_STATE\n",
    "   \n",
    "    Функция принимает на вход разделенные на обучающий и валидационный массив с признаками и целевым признаком,\n",
    "    гиперпараметры Логистической регрессии, обучает модель на указанных гиперпараметрах, проверяет модель\n",
    "    на валидационной выборке, вычисляет значение F1-меры и AUC-ROC\n",
    "    \n",
    "    Возращает значение F1-меры и AUC-ROC\n",
    "    '''    \n",
    "    print('Подбор гиперпараметров Логистической регрессии')\n",
    "    \n",
    "    result_auc_roc = -100.0 \n",
    "    \n",
    "    model = LogisticRegression(\n",
    "        random_state=rnd,\n",
    "        solver=solver_name,\n",
    "        max_iter=iter_value)\n",
    "        \n",
    "    model.fit(features_train, target_train)\n",
    "    predicted_valid = model.predict(features_valid)\n",
    "    result_f1 = f1_score(target_valid, predicted_valid)\n",
    "        \n",
    "    if need_to_calculate_auc_roc:\n",
    "        probabilities_test = model.predict_proba(features_valid)\n",
    "        probabilities_one_test = probabilities_test[:, 1]\n",
    "        result_auc_roc = roc_auc_score(target_valid, probabilities_one_test)\n",
    "               \n",
    "    return result_f1, result_auc_roc"
   ]
  },
  {
   "cell_type": "code",
   "execution_count": 26,
   "metadata": {},
   "outputs": [],
   "source": [
    "def tree_research(features_train, features_valid, target_train, target_valid,\n",
    "                  cl_weight=None, need_to_calculate_auc_roc=False,\n",
    "                  min_samples_range=(2, 4),\n",
    "                  depth_range=(1, 50, 1),\n",
    "                  rnd=RANDOM_STATE):\n",
    "    '''\n",
    "    features_train: массив с признаками (обучающий)\n",
    "    features_valid: массив с признаками (валидационный)\n",
    "    target_train: массив с целевым признаком (обучающий)\n",
    "    target_valid: массив с целевым признаком (валидационный)\n",
    "    cl_weight: словарь с весами классов {class_label: weight}, None - классы имеют один вес,\n",
    "               или 'balanced' для автоматической балансировки\n",
    "    need_to_calculate_auc_roc: булево значение, определяющее, нужно ли считать величину AUC-ROC\n",
    "    min_samples_range: кортеж с границами возможных значений гиперпараметра min_samples_split (Мин. кол-во объектов в узлах)\n",
    "    depth_range: кортеж с границами возможных значений гиперпараметра max_depth (Глубина дерева)\n",
    "    rnd: параметр для управления используемым генератором случайных чисел, описывает состояние генератора.\n",
    "         По умолчанию равен глобальной переменной RANDOM_STATE\n",
    "    \n",
    "    Функция принимает на вход разделенные на обучающий и валидационный массив с признаками и целевым признаком,\n",
    "    границы значений гиперпараметров Решающего дерева, обучает модель с разными значениями гиперпараметров\n",
    "    в указанных границах, проверяет модель на валидационной выборке и вычисляет значение F1-меры и AUC-ROC.\n",
    "    \n",
    "    Возращает значение F1-меры, AUC-ROC, подобранные значения гиперпараметров min_samples_split, max_depth \n",
    "    для лучшего значения F1-меры. Выводит лог расчета. \n",
    "    '''       \n",
    "    print('Подбор гиперпараметров Решающего дерева')\n",
    "\n",
    "    best_result_tree = 0\n",
    "    auc_roc_at_best_result_tree = 0\n",
    "    best_depth_tree = 0\n",
    "    best_min_samples_tree = 0\n",
    "    result_auc_roc = -100.0 \n",
    "\n",
    "    for min_samples in range(min_samples_range[0], min_samples_range[1]):\n",
    "        for depth in range(depth_range[0], depth_range[1], depth_range[2]):\n",
    "            model = DecisionTreeClassifier(\n",
    "                random_state=rnd,\n",
    "                min_samples_split=min_samples,\n",
    "                max_depth=depth)\n",
    "                \n",
    "            model.fit(features_train, target_train)\n",
    "            predicted_valid = model.predict(features_valid)\n",
    "            result_f1 = f1_score(target_valid, predicted_valid)\n",
    "        \n",
    "            if need_to_calculate_auc_roc:\n",
    "                probabilities_test = model.predict_proba(features_valid)\n",
    "                probabilities_one_test = probabilities_test[:, 1]\n",
    "                result_auc_roc = roc_auc_score(target_valid, probabilities_one_test) \n",
    "        \n",
    "            print(f'Мин. кол-во объектов в узлах: {min_samples}, Глубина дерева: {depth}, F1-мера={result_f1:.5}, AUC-ROC={result_auc_roc:.5}', end='\\r')\n",
    "        \n",
    "            if result_f1 > best_result_tree:\n",
    "                best_result_tree = result_f1\n",
    "                auc_roc_at_best_result_tree = result_auc_roc\n",
    "                best_min_samples_tree = min_samples\n",
    "                best_depth_tree = depth\n",
    "                \n",
    "                \n",
    "    return best_result_tree, auc_roc_at_best_result_tree, best_min_samples_tree, best_depth_tree"
   ]
  },
  {
   "cell_type": "code",
   "execution_count": 27,
   "metadata": {},
   "outputs": [],
   "source": [
    "def rf_research(features_train, features_valid, target_train, target_valid,\n",
    "                cl_weight=None, need_to_calculate_auc_roc=False,\n",
    "                min_samples_range=(2, 4),\n",
    "                depth_range=(1, 50, 1),\n",
    "                est_range=(10, 101, 10),\n",
    "                rnd=RANDOM_STATE):\n",
    "    '''\n",
    "    features_train: массив с признаками (обучающий)\n",
    "    features_valid: массив с признаками (валидационный)\n",
    "    target_train: массив с целевым признаком (обучающий)\n",
    "    target_valid: массив с целевым признаком (валидационный)\n",
    "    cl_weight: словарь с весами классов {class_label: weight}, None - классы имеют один вес,\n",
    "               или 'balanced' для автоматической балансировки\n",
    "    need_to_calculate_auc_roc: булево значение, определяющее, нужно ли считать величину AUC-ROC\n",
    "    min_samples_range: кортеж с границами возможных значений гиперпараметра min_samples_split (Мин. кол-во объектов в узлах)\n",
    "    depth_range: кортеж с границами возможных значений гиперпараметра max_depth (Глубина дерева в лесу)\n",
    "    est_range: кортеж с границами возможных значений гиперпараметра n_estimators (Кол-во деревьев в лесу)\n",
    "    rnd: параметр для управления используемым генератором случайных чисел, описывает состояние генератора.\n",
    "         По умолчанию равен глобальной переменной RANDOM_STATE\n",
    "    \n",
    "    Функция принимает на вход разделенные на обучающий и валидационный массив с признаками и целевым признаком,\n",
    "    границы значений гиперпараметров Случайного леса, обучает модель с разными значениями гиперпараметров\n",
    "    в указанных границах, проверяет модель на валидационной выборке и вычисляет значение F1-меры и AUC-ROC.\n",
    "    \n",
    "    Возращает значение F1-меры, AUC-ROC, подобранные значения гиперпараметров min_samples_split, max_depth, n_estimators\n",
    "    для лучшего значения F1-меры. Выводит лог расчета. \n",
    "    ''' \n",
    "    print('Подбор гиперпараметров Случайного леса')\n",
    "    \n",
    "    best_result_rf = 0\n",
    "    auc_roc_at_best_result_rf = 0\n",
    "    best_depth_rf = 0\n",
    "    best_est_rf = 0\n",
    "    best_min_samples_rf = 0\n",
    "    result_auc_roc = -100.0\n",
    "    \n",
    "    for min_samples in range(min_samples_range[0], min_samples_range[1]):\n",
    "        for depth in range(depth_range[0], depth_range[1], depth_range[2]):\n",
    "            for est in range(est_range[0], est_range[1], est_range[2]):\n",
    "                model = RandomForestClassifier(\n",
    "                    random_state=rnd,\n",
    "                    min_samples_split=min_samples,\n",
    "                    max_depth=depth,\n",
    "                    n_estimators=est)\n",
    "                \n",
    "                model.fit(features_train, target_train)\n",
    "                predicted_valid = model.predict(features_valid)\n",
    "                result_f1 = f1_score(target_valid, predicted_valid)\n",
    "            \n",
    "                if need_to_calculate_auc_roc:\n",
    "                    probabilities_test = model.predict_proba(features_valid)\n",
    "                    probabilities_one_test = probabilities_test[:, 1]\n",
    "                    result_auc_roc = roc_auc_score(target_valid, probabilities_one_test) \n",
    "                \n",
    "                print(f'Мин. кол-во объектов в узлах: {min_samples}, глубина леса: {depth}, число деревьев: {est}, F1-мера={result_f1:.5}, AUC-ROC={result_auc_roc:.5}', end='\\r')\n",
    "            \n",
    "                if result_f1 > best_result_rf:\n",
    "                    best_result_rf = result_f1\n",
    "                    auc_roc_at_best_result_rf = result_auc_roc\n",
    "                    best_min_samples_rf = min_samples\n",
    "                    best_depth_rf = depth\n",
    "                    best_est_rf = est\n",
    "                \n",
    "    return best_result_rf, auc_roc_at_best_result_rf, best_min_samples_rf, best_depth_rf, best_est_rf"
   ]
  },
  {
   "cell_type": "code",
   "execution_count": 28,
   "metadata": {},
   "outputs": [
    {
     "name": "stdout",
     "output_type": "stream",
     "text": [
      "Подбор гиперпараметров Логистической регрессии\n",
      "Лучший  результат: F1-мера=0.325, AUC-ROC=0.756\n",
      "Требуемое значение 0.59 не обеспечено\n"
     ]
    }
   ],
   "source": [
    "best_result_lr, auc_roc_at_best_result_lr = lr_research(features_train, features_valid,\n",
    "                                                        target_train, target_valid,\n",
    "                                                        None, True)\n",
    "\n",
    "print(f'Лучший  результат: F1-мера={best_result_lr:.3}, AUC-ROC={auc_roc_at_best_result_lr:.3}')\n",
    "\n",
    "threshold_check(best_result_lr)"
   ]
  },
  {
   "cell_type": "code",
   "execution_count": 29,
   "metadata": {
    "scrolled": true
   },
   "outputs": [
    {
     "name": "stdout",
     "output_type": "stream",
     "text": [
      "Подбор гиперпараметров Решающего дерева\n",
      "Лучший  результат: F1-мера=0.561, AUC-ROC=0.834. Мин. кол-во объектов в узлах: 2, глубина дерева: 7\n",
      "Требуемое значение 0.59 не обеспечено\n",
      "CPU times: user 120 ms, sys: 49 µs, total: 120 ms\n",
      "Wall time: 126 ms\n"
     ]
    }
   ],
   "source": [
    "%%time\n",
    "#Замер времени подбора гиперпараметров оставлен в технических целях\n",
    "\n",
    "best_result_tree, auc_roc_at_best_result_tree, best_min_samples_tree, best_depth_tree = tree_research(features_train, features_valid,\n",
    "                                                                                                      target_train, target_valid,\n",
    "                                                                                                      None, True,\n",
    "                                                                                                      MIN_SAMPLES_RANGE_TREE, DEPTH_RANGE_TREE)\n",
    "\n",
    "print(f'Лучший  результат: F1-мера={best_result_tree:.3}, AUC-ROC={auc_roc_at_best_result_tree:.3}. Мин. кол-во объектов в узлах: {best_min_samples_tree}, глубина дерева: {best_depth_tree}')\n",
    "\n",
    "threshold_check(best_result_tree)"
   ]
  },
  {
   "cell_type": "code",
   "execution_count": 30,
   "metadata": {},
   "outputs": [
    {
     "name": "stdout",
     "output_type": "stream",
     "text": [
      "Подбор гиперпараметров Случайного леса\n",
      "Лучший  результат: F1-мера=0.592, AUC-ROC=0.85. Мин. кол-во объектов в узлах: 5, глубина дерева в лесу: 20, число деревьев: 40\n",
      "Требуемое значение 0.59 достигнуто\n",
      "CPU times: user 2.28 s, sys: 26.6 ms, total: 2.3 s\n",
      "Wall time: 2.32 s\n"
     ]
    }
   ],
   "source": [
    "%%time\n",
    "#Замер времени подбора гиперпараметров оставлен в технических целях\n",
    "best_result_rf, auc_roc_at_best_result_rf, best_min_samples_rf, best_depth_rf, best_est_rf  = rf_research(features_train, features_valid,\n",
    "                                                                                                         target_train, target_valid,\n",
    "                                                                                                         None, True,\n",
    "                                                                                                         MIN_SAMPLES_RANGE_RF_UB, DEPTH_RANGE_RF_UB, EST_RANGE_RF_UB)\n",
    "\n",
    "print(f'Лучший  результат: F1-мера={best_result_rf:.3}, AUC-ROC={auc_roc_at_best_result_rf:.3}. Мин. кол-во объектов в узлах: {best_min_samples_rf}, глубина дерева в лесу: {best_depth_rf}, число деревьев: {best_est_rf}')\n",
    "\n",
    "threshold_check(best_result_rf)"
   ]
  },
  {
   "cell_type": "code",
   "execution_count": 31,
   "metadata": {
    "scrolled": true
   },
   "outputs": [
    {
     "data": {
      "text/html": [
       "<div>\n",
       "<style scoped>\n",
       "    .dataframe tbody tr th:only-of-type {\n",
       "        vertical-align: middle;\n",
       "    }\n",
       "\n",
       "    .dataframe tbody tr th {\n",
       "        vertical-align: top;\n",
       "    }\n",
       "\n",
       "    .dataframe thead th {\n",
       "        text-align: right;\n",
       "    }\n",
       "</style>\n",
       "<table border=\"1\" class=\"dataframe\">\n",
       "  <thead>\n",
       "    <tr style=\"text-align: right;\">\n",
       "      <th></th>\n",
       "      <th>f1_score</th>\n",
       "      <th>auc_roc</th>\n",
       "      <th>min_samples_split</th>\n",
       "      <th>max_depth</th>\n",
       "      <th>n_estimators</th>\n",
       "    </tr>\n",
       "  </thead>\n",
       "  <tbody>\n",
       "    <tr>\n",
       "      <th>LogisticRegression</th>\n",
       "      <td>0.325260</td>\n",
       "      <td>0.755714</td>\n",
       "      <td>NaN</td>\n",
       "      <td>NaN</td>\n",
       "      <td>NaN</td>\n",
       "    </tr>\n",
       "    <tr>\n",
       "      <th>DecisionTree</th>\n",
       "      <td>0.560940</td>\n",
       "      <td>0.834221</td>\n",
       "      <td>2.0</td>\n",
       "      <td>7.0</td>\n",
       "      <td>NaN</td>\n",
       "    </tr>\n",
       "    <tr>\n",
       "      <th>RandomForest</th>\n",
       "      <td>0.591631</td>\n",
       "      <td>0.849794</td>\n",
       "      <td>5.0</td>\n",
       "      <td>20.0</td>\n",
       "      <td>40.0</td>\n",
       "    </tr>\n",
       "  </tbody>\n",
       "</table>\n",
       "</div>"
      ],
      "text/plain": [
       "                    f1_score   auc_roc  min_samples_split  max_depth  \\\n",
       "LogisticRegression  0.325260  0.755714                NaN        NaN   \n",
       "DecisionTree        0.560940  0.834221                2.0        7.0   \n",
       "RandomForest        0.591631  0.849794                5.0       20.0   \n",
       "\n",
       "                    n_estimators  \n",
       "LogisticRegression           NaN  \n",
       "DecisionTree                 NaN  \n",
       "RandomForest                40.0  "
      ]
     },
     "metadata": {},
     "output_type": "display_data"
    }
   ],
   "source": [
    "models_unbalanced = pd.DataFrame({\n",
    "        'f1_score': [best_result_lr, best_result_tree, best_result_rf],\n",
    "        'auc_roc': [auc_roc_at_best_result_lr, auc_roc_at_best_result_tree, auc_roc_at_best_result_rf],\n",
    "        'min_samples_split':[None, best_min_samples_tree, best_min_samples_rf],\n",
    "        'max_depth': [None, best_depth_tree, best_depth_rf],\n",
    "        'n_estimators': [None, None, best_est_rf]},\n",
    "        index=['LogisticRegression', 'DecisionTree', 'RandomForest'])\n",
    "\n",
    "display(models_unbalanced)"
   ]
  },
  {
   "cell_type": "code",
   "execution_count": 32,
   "metadata": {},
   "outputs": [
    {
     "data": {
      "image/png": "[encoded data removed]",
      "text/plain": [
       "<Figure size 720x576 with 1 Axes>"
      ]
     },
     "metadata": {
      "needs_background": "light"
     },
     "output_type": "display_data"
    }
   ],
   "source": [
    "models_unbalanced.plot(\n",
    "    y=['f1_score'], \n",
    "    kind='bar', grid=1, figsize=(10, 8))\n",
    "plt.ylabel('Значение метрики')\n",
    "plt.xticks(rotation=45)\n",
    "plt.title('Распределение значений метрик моделей\\n без обработки дисбаланса классов')\n",
    "plt.show()"
   ]
  },
  {
   "cell_type": "code",
   "execution_count": 33,
   "metadata": {},
   "outputs": [
    {
     "name": "stdout",
     "output_type": "stream",
     "text": [
      "Этап исследования моделей без учета дисбаланса целевого признака\n",
      "Лучший результат показывает модель RandomForest, F1-мера=0.592\n",
      "\n",
      "Выбранная модель, значения метрик на валидационной выборке и гиперпараметры модели:\n"
     ]
    },
    {
     "data": {
      "text/html": [
       "<div>\n",
       "<style scoped>\n",
       "    .dataframe tbody tr th:only-of-type {\n",
       "        vertical-align: middle;\n",
       "    }\n",
       "\n",
       "    .dataframe tbody tr th {\n",
       "        vertical-align: top;\n",
       "    }\n",
       "\n",
       "    .dataframe thead th {\n",
       "        text-align: right;\n",
       "    }\n",
       "</style>\n",
       "<table border=\"1\" class=\"dataframe\">\n",
       "  <thead>\n",
       "    <tr style=\"text-align: right;\">\n",
       "      <th></th>\n",
       "      <th>f1_score</th>\n",
       "      <th>auc_roc</th>\n",
       "      <th>min_samples_split</th>\n",
       "      <th>max_depth</th>\n",
       "      <th>n_estimators</th>\n",
       "    </tr>\n",
       "  </thead>\n",
       "  <tbody>\n",
       "    <tr>\n",
       "      <th>RandomForest</th>\n",
       "      <td>0.591631</td>\n",
       "      <td>0.849794</td>\n",
       "      <td>5.0</td>\n",
       "      <td>20.0</td>\n",
       "      <td>40.0</td>\n",
       "    </tr>\n",
       "  </tbody>\n",
       "</table>\n",
       "</div>"
      ],
      "text/plain": [
       "              f1_score   auc_roc  min_samples_split  max_depth  n_estimators\n",
       "RandomForest  0.591631  0.849794                5.0       20.0          40.0"
      ]
     },
     "metadata": {},
     "output_type": "display_data"
    }
   ],
   "source": [
    "best_model_unbalanced = models_unbalanced.loc[\n",
    "    models_unbalanced['f1_score'] == max(models_unbalanced['f1_score'])]\n",
    "\n",
    "print('Этап исследования моделей без учета дисбаланса целевого признака')\n",
    "print(f'Лучший результат показывает модель {best_model_unbalanced.index.any()}, F1-мера={max(best_model_unbalanced.f1_score):.3}\\n\\nВыбранная модель, значения метрик на валидационной выборке и гиперпараметры модели:')\n",
    "display(best_model_unbalanced)"
   ]
  },
  {
   "cell_type": "code",
   "execution_count": 34,
   "metadata": {},
   "outputs": [],
   "source": [
    "def scores_calculation(target_array,\n",
    "                       predicted_array,\n",
    "                       description_text='Результаты расчета метрик модели',\n",
    "                       required_value=REQUIRED_F1): \n",
    "    '''\n",
    "    target_array: массив с целевым признаком\n",
    "    predicted_array: массив с результатами предсказаний модели\n",
    "    description_text: текст, выводимый в начале ведения лога оценки в функции, напр. 'Метрики модели Случайный лес:'\n",
    "    required_value: требуемый нижний порог значения F1-меры \n",
    "    \n",
    "    Функция принимает на вход целевой признак, результаты предсказаний,\n",
    "    вычисляет значение F1-меры, сравнивает значение F1-меры с нижним порогом required_value\n",
    "    Печатает лог со значениями F1-меры, результатами оценки\n",
    "    \n",
    "    Возвращает None\n",
    "    '''\n",
    "    \n",
    "    print(description_text)\n",
    "    print()\n",
    "           \n",
    "    f1_score_value = f1_score(target_array, predicted_array, zero_division=1)\n",
    "    \n",
    "    if f1_score_value < required_value:\n",
    "        print(f'F1-мера: {f1_score_value:.3}. Требуемое значение {required_value} не обеспечено')\n",
    "    else:\n",
    "        print(f'F1-мера: {f1_score_value:.3}. Требуемое значение {required_value} достигнуто')\n",
    "        \n",
    "    print('Составляющие F1-меры:')\n",
    "    print(f'Полнота (recall_score): {recall_score(target_array, predicted_array):.3}')\n",
    "    print(f'Точность (precision_score): {precision_score(target_array, predicted_array):.3}')"
   ]
  },
  {
   "cell_type": "markdown",
   "metadata": {},
   "source": [
    "### Выбор базовой модели\n",
    "\n",
    "Для последующей оценки полученных метрик выберем базовую модель.\n",
    "\n",
    "Так как целью исследования является выбор наилучшей модели с наилучшими гиперпараметрами, дальнейшие действия (борьба с дисбалансом) должны улучшить качество модели.\n",
    "\n",
    "Поэтому в качестве базовой примем модель, показывающую наилучшие разультаты для исходных, несбалансированных выборок."
   ]
  },
  {
   "cell_type": "code",
   "execution_count": 35,
   "metadata": {
    "scrolled": false
   },
   "outputs": [
    {
     "name": "stdout",
     "output_type": "stream",
     "text": [
      "Модель, выбранная в качестве базовой, её гиперпараметры и значения метрик:\n"
     ]
    },
    {
     "data": {
      "text/html": [
       "<div>\n",
       "<style scoped>\n",
       "    .dataframe tbody tr th:only-of-type {\n",
       "        vertical-align: middle;\n",
       "    }\n",
       "\n",
       "    .dataframe tbody tr th {\n",
       "        vertical-align: top;\n",
       "    }\n",
       "\n",
       "    .dataframe thead th {\n",
       "        text-align: right;\n",
       "    }\n",
       "</style>\n",
       "<table border=\"1\" class=\"dataframe\">\n",
       "  <thead>\n",
       "    <tr style=\"text-align: right;\">\n",
       "      <th></th>\n",
       "      <th>f1_score</th>\n",
       "      <th>auc_roc</th>\n",
       "      <th>min_samples_split</th>\n",
       "      <th>max_depth</th>\n",
       "      <th>n_estimators</th>\n",
       "    </tr>\n",
       "  </thead>\n",
       "  <tbody>\n",
       "    <tr>\n",
       "      <th>RandomForest</th>\n",
       "      <td>0.591631</td>\n",
       "      <td>0.849794</td>\n",
       "      <td>5.0</td>\n",
       "      <td>20.0</td>\n",
       "      <td>40.0</td>\n",
       "    </tr>\n",
       "  </tbody>\n",
       "</table>\n",
       "</div>"
      ],
      "text/plain": [
       "              f1_score   auc_roc  min_samples_split  max_depth  n_estimators\n",
       "RandomForest  0.591631  0.849794                5.0       20.0          40.0"
      ]
     },
     "metadata": {},
     "output_type": "display_data"
    }
   ],
   "source": [
    "print('Модель, выбранная в качестве базовой, её гиперпараметры и значения метрик:')\n",
    "\n",
    "display(best_model_unbalanced)"
   ]
  },
  {
   "cell_type": "code",
   "execution_count": 36,
   "metadata": {},
   "outputs": [],
   "source": [
    "# сбрасываю мультииндекс в столбцы для удобства обращения к элементам\n",
    "best_model_unbalanced.reset_index(inplace=True)\n",
    "best_model_unbalanced.rename(columns = {\n",
    "    'index': 'model_name'}, inplace = True)"
   ]
  },
  {
   "cell_type": "code",
   "execution_count": 37,
   "metadata": {},
   "outputs": [],
   "source": [
    "# Объявляю переменные с сохраненными гиперпараметрами для базовой модели после подбора\n",
    "model_base = max(best_model_unbalanced.model_name)\n",
    "best_min_samples_base = round(max(best_model_unbalanced.min_samples_split))\n",
    "best_depth_base = round(max(best_model_unbalanced.max_depth))\n",
    "best_est_base = round(max(best_model_unbalanced.n_estimators))"
   ]
  },
  {
   "cell_type": "markdown",
   "metadata": {},
   "source": [
    "### Вывод по разделу 2\n",
    "\n",
    "- Выполнено масштабирование численных признаков `credit_score`, `age`, `tenure`, `balance`, `num_of_products` и `estimated_salary`\n",
    "- Лучшее полученное значение F1-меры близко к пороговому. Требуются мероприятия по улучшению моделей.\n",
    "- В нашей задаче наблюдается сильный дисбаланс классов, что плохо сказывается на обучении модели.\n",
    "- Для проверки качества итоговой модели выбрана базовая модель Случайный лес для исходных (несбалансированных) выборок с гиперпараметрами Мин. кол-во объектов в узлах: 3, глубина дерева в лесу: 22, число деревьев: 60."
   ]
  },
  {
   "cell_type": "markdown",
   "metadata": {},
   "source": [
    "## Борьба с дисбалансом"
   ]
  },
  {
   "cell_type": "markdown",
   "metadata": {},
   "source": [
    "### Борьба с дисбалансом. План работы\n",
    "\n",
    "Исходя из выводов по разделу 2 для борьбы с дисбалансом предпримем следующие шаги:\n",
    "\n",
    "- учет дисбаланса классов в модели машинного обучения, для трех разных моделей\n",
    "- подбор гиперпараметров моделей, выбор подходящей для задач классификации"
   ]
  },
  {
   "cell_type": "markdown",
   "metadata": {},
   "source": [
    "### Учет дисбаланса классов в модели машинного обучения"
   ]
  },
  {
   "cell_type": "markdown",
   "metadata": {},
   "source": [
    "Чтобы увеличить качество модели при обнаруженном дисбалансе классов, применим техники: \n",
    "\n",
    "- контроль дисбаланса при объявлении модели (взвешивание классов)\n",
    "- контроль дисбаланса методом увеличения выборки (upsampling)\n",
    "- контроль дисбаланса методом уменьшения выборки (downsampling)\n",
    "\n",
    "Объявим функции контроля дисбаланса для каждой техники"
   ]
  },
  {
   "cell_type": "code",
   "execution_count": 38,
   "metadata": {},
   "outputs": [],
   "source": [
    "def upsample(features, target, repeat=0, rnd=RANDOM_STATE):\n",
    "    '''\n",
    "    features: массив с признаками\n",
    "    target: массив с целевым признаком (категориальным, 0 или 1)\n",
    "    repeat: число n, целое - количество повтороений.\n",
    "            Если 0, то подходящее кол-во повторений выбирается автоматически для равномерной балансировки массивов\n",
    "    rnd: параметр для управления используемым генератором случайных чисел для перемешивания, \n",
    "         описывает состояние генератора. По умолчанию равен глобальной переменной RANDOM_STATE\n",
    "    \n",
    "    Функция принимает в массив с признаками, массив с целевым признаком и количество повторений n \n",
    "    и значение rnd для генератора случайных чисел\n",
    "    \n",
    "    Возвращает предобработанные features, target после увеличения доли наименее распространенного \n",
    "    значения целевого признака в n раз и перемешивания.\n",
    "    '''\n",
    "    \n",
    "    features_zeros = features[target == 0]\n",
    "    features_ones = features[target == 1]\n",
    "    target_zeros = target[target == 0]\n",
    "    target_ones = target[target == 1]   \n",
    "    \n",
    "    if len(target_zeros) > len(target_ones):\n",
    "        if repeat == 0:\n",
    "            repeat = math.ceil(len(target_zeros) / len(target_ones))\n",
    "        zeros_repeat = 1\n",
    "        ones_repeat = repeat\n",
    "    else:\n",
    "        if repeat == 0:\n",
    "            repeat = math.ceil(len(target_ones) / len(target_zeros))\n",
    "        zeros_repeat = repeat\n",
    "        ones_repeat = 1\n",
    "    \n",
    "    features_upsampled = pd.concat([features_zeros] * zeros_repeat  + [features_ones] * ones_repeat)\n",
    "    target_upsampled = pd.concat([target_zeros] * zeros_repeat + [target_ones] * ones_repeat)\n",
    "    \n",
    "    features_upsampled, target_upsampled = shuffle(\n",
    "        features_upsampled, target_upsampled, random_state=rnd)\n",
    "    \n",
    "    return features_upsampled, target_upsampled    "
   ]
  },
  {
   "cell_type": "code",
   "execution_count": 39,
   "metadata": {},
   "outputs": [],
   "source": [
    "def downsample(features, target, fraction=0, rnd=RANDOM_STATE):\n",
    "    '''\n",
    "    features: массив с признаками\n",
    "    target: массив с целевым признаком (категориальным, 0 или 1)\n",
    "    fraction: доля наиболее распространенного значения целевого признака, которую надо оставить, вещественное значение\n",
    "              Если 0, то подходящая доля выбирается автоматически для равномерной балансировки массивов\n",
    "    rnd: параметр для управления используемым генератором случайных чисел для перемешивания.\n",
    "         описывает состояние генератора. По умолчанию равен глобальной переменной RANDOM_STATE\n",
    "    \n",
    "    Функция принимает в массив с признаками, массив с целевым признаком, значение доли\n",
    "    и значение rnd для генератора случайных чисел\n",
    "    \n",
    "    Возвращает предобработанные features, target после уменьшения доли наиболее распространенного \n",
    "    значения целевого признака и перемешивания.\n",
    "    '''\n",
    "    \n",
    "    features_zeros = features[target == 0]\n",
    "    features_ones = features[target == 1]\n",
    "    target_zeros = target[target == 0]\n",
    "    target_ones = target[target == 1]\n",
    "\n",
    "    if len(target_zeros) > len(target_ones):\n",
    "        if fraction == 0:\n",
    "            fraction =  round(len(target_ones) / len(target_zeros),3)\n",
    "        zeros_fraction = fraction\n",
    "        ones_fraction = 1\n",
    "    else:\n",
    "        if fraction == 0:\n",
    "            fraction = len(target_zeros) / len(target_ones)\n",
    "        zeros_fraction = 1\n",
    "        ones_fraction = fraction\n",
    "         \n",
    "    features_downsampled = pd.concat(\n",
    "        [features_zeros.sample(frac=zeros_fraction, random_state=rnd)] + \n",
    "        [features_ones.sample(frac=ones_fraction, random_state=rnd)])\n",
    "    target_downsampled = pd.concat(\n",
    "        [target_zeros.sample(frac=zeros_fraction, random_state=rnd)] + \n",
    "        [target_ones.sample(frac=ones_fraction, random_state=rnd)])\n",
    "    \n",
    "    features_downsampled, target_downsampled = shuffle(\n",
    "        features_downsampled, target_downsampled, random_state=rnd)\n",
    "    \n",
    "    return features_downsampled, target_downsampled"
   ]
  },
  {
   "cell_type": "code",
   "execution_count": 40,
   "metadata": {},
   "outputs": [],
   "source": [
    "features_downsampled, target_downsampled = downsample(features_train, target_train)\n",
    "features_upsampled, target_upsampled = upsample(features_train, target_train)"
   ]
  },
  {
   "cell_type": "markdown",
   "metadata": {},
   "source": [
    "### Подбор гиперпараметров моделей, выбор подходящей для задач классификации"
   ]
  },
  {
   "cell_type": "markdown",
   "metadata": {},
   "source": [
    "Для задач предсказания рассмотрим три модели машинного обучения:\n",
    "\n",
    "- дерево решений\n",
    "- случайный лес\n",
    "- логистическую регрессию\n",
    "\n",
    "Объединим критерии в таблицу с указанием характеристик для каждой из выбранных моделей:\n",
    "\n",
    "|Название|Качество|Скорость\n",
    "|:-------------|:-------------|:-------------\n",
    "|Дерево решений|Низкое|Высокая\n",
    "|Случайный лес|Высокое|Низкая\n",
    "|Логистическая регрессия|Среднее|Высокая\n",
    "\n",
    "Так как исследование выполняется не \"на лету\", а для поиска конкретного ответа на заданных данных, то в приоритете высокое качество предсказаний модели, то есть оптимальной моделью для использования можно выбрать `Случайный лес`.\n",
    "\n",
    "Модель логистической регрессии примем как базовую. Метрики следующих рассмотренных моделей должны превышать метрики базовой модели.\n",
    "\n",
    "Для задач исследования подберем гиперпараметры и оценим метрики трех выбранных моделей, для каждого из трех рассматривамых техник контроля дисбаланса."
   ]
  },
  {
   "cell_type": "code",
   "execution_count": 41,
   "metadata": {
    "scrolled": false
   },
   "outputs": [
    {
     "name": "stdout",
     "output_type": "stream",
     "text": [
      "Подбор гиперпараметров трех моделей для разных методов борьбы с дисбалансом\n",
      "\n",
      "Метод Model balance\n",
      "\n",
      "Подбор гиперпараметров Логистической регрессии\n",
      "Лучший  результат: F1-мера=0.325, AUC-ROC=0.756\n",
      "Подбор гиперпараметров Решающего дерева\n",
      "Лучший  результат : F1-мера=0.561, AUC-ROC=0.834. Мин. кол-во объектов в узлах: 2, глубина дерева: 7\n",
      "Подбор гиперпараметров Случайного леса\n",
      "Лучший  результат: F1-мера=0.576, AUC-ROC=0.857. Мин. кол-во объектов в узлах: 2, глубина дерева в лесу: 20, число деревьев: 310\n",
      "\n"
     ]
    },
    {
     "data": {
      "text/html": [
       "<div>\n",
       "<style scoped>\n",
       "    .dataframe tbody tr th:only-of-type {\n",
       "        vertical-align: middle;\n",
       "    }\n",
       "\n",
       "    .dataframe tbody tr th {\n",
       "        vertical-align: top;\n",
       "    }\n",
       "\n",
       "    .dataframe thead th {\n",
       "        text-align: right;\n",
       "    }\n",
       "</style>\n",
       "<table border=\"1\" class=\"dataframe\">\n",
       "  <thead>\n",
       "    <tr style=\"text-align: right;\">\n",
       "      <th></th>\n",
       "      <th></th>\n",
       "      <th>f1_score</th>\n",
       "      <th>auc_roc</th>\n",
       "      <th>min_samples_split</th>\n",
       "      <th>max_depth</th>\n",
       "      <th>n_estimators</th>\n",
       "    </tr>\n",
       "  </thead>\n",
       "  <tbody>\n",
       "    <tr>\n",
       "      <th rowspan=\"3\" valign=\"top\">Model balance</th>\n",
       "      <th>LogisticRegression</th>\n",
       "      <td>0.325260</td>\n",
       "      <td>0.755714</td>\n",
       "      <td>NaN</td>\n",
       "      <td>NaN</td>\n",
       "      <td>NaN</td>\n",
       "    </tr>\n",
       "    <tr>\n",
       "      <th>DecisionTree</th>\n",
       "      <td>0.560940</td>\n",
       "      <td>0.834221</td>\n",
       "      <td>2.0</td>\n",
       "      <td>7.0</td>\n",
       "      <td>NaN</td>\n",
       "    </tr>\n",
       "    <tr>\n",
       "      <th>RandomForest</th>\n",
       "      <td>0.575581</td>\n",
       "      <td>0.857046</td>\n",
       "      <td>2.0</td>\n",
       "      <td>20.0</td>\n",
       "      <td>310.0</td>\n",
       "    </tr>\n",
       "  </tbody>\n",
       "</table>\n",
       "</div>"
      ],
      "text/plain": [
       "                                  f1_score   auc_roc  min_samples_split  \\\n",
       "Model balance LogisticRegression  0.325260  0.755714                NaN   \n",
       "              DecisionTree        0.560940  0.834221                2.0   \n",
       "              RandomForest        0.575581  0.857046                2.0   \n",
       "\n",
       "                                  max_depth  n_estimators  \n",
       "Model balance LogisticRegression        NaN           NaN  \n",
       "              DecisionTree              7.0           NaN  \n",
       "              RandomForest             20.0         310.0  "
      ]
     },
     "metadata": {},
     "output_type": "display_data"
    },
    {
     "name": "stdout",
     "output_type": "stream",
     "text": [
      "Лучший  результат для метода Model balance:\n"
     ]
    },
    {
     "data": {
      "text/html": [
       "<div>\n",
       "<style scoped>\n",
       "    .dataframe tbody tr th:only-of-type {\n",
       "        vertical-align: middle;\n",
       "    }\n",
       "\n",
       "    .dataframe tbody tr th {\n",
       "        vertical-align: top;\n",
       "    }\n",
       "\n",
       "    .dataframe thead th {\n",
       "        text-align: right;\n",
       "    }\n",
       "</style>\n",
       "<table border=\"1\" class=\"dataframe\">\n",
       "  <thead>\n",
       "    <tr style=\"text-align: right;\">\n",
       "      <th></th>\n",
       "      <th></th>\n",
       "      <th>f1_score</th>\n",
       "      <th>auc_roc</th>\n",
       "      <th>min_samples_split</th>\n",
       "      <th>max_depth</th>\n",
       "      <th>n_estimators</th>\n",
       "    </tr>\n",
       "  </thead>\n",
       "  <tbody>\n",
       "    <tr>\n",
       "      <th>Model balance</th>\n",
       "      <th>RandomForest</th>\n",
       "      <td>0.575581</td>\n",
       "      <td>0.857046</td>\n",
       "      <td>2.0</td>\n",
       "      <td>20.0</td>\n",
       "      <td>310.0</td>\n",
       "    </tr>\n",
       "  </tbody>\n",
       "</table>\n",
       "</div>"
      ],
      "text/plain": [
       "                            f1_score   auc_roc  min_samples_split  max_depth  \\\n",
       "Model balance RandomForest  0.575581  0.857046                2.0       20.0   \n",
       "\n",
       "                            n_estimators  \n",
       "Model balance RandomForest         310.0  "
      ]
     },
     "metadata": {},
     "output_type": "display_data"
    },
    {
     "name": "stdout",
     "output_type": "stream",
     "text": [
      "----------------------------------------------------------------------\n",
      "\n",
      "Метод Upsampling\n",
      "\n",
      "Подбор гиперпараметров Логистической регрессии\n",
      "Лучший  результат: F1-мера=0.325, AUC-ROC=0.758\n",
      "Подбор гиперпараметров Решающего дерева\n",
      "Лучший  результат : F1-мера=0.568, AUC-ROC=0.812. Мин. кол-во объектов в узлах: 2, глубина дерева: 8\n",
      "Подбор гиперпараметров Случайного леса\n",
      "Лучший  результат: F1-мера=0.613, AUC-ROC=0.853. Мин. кол-во объектов в узлах: 2, глубина дерева в лесу: 20, число деревьев: 320\n",
      "\n"
     ]
    },
    {
     "data": {
      "text/html": [
       "<div>\n",
       "<style scoped>\n",
       "    .dataframe tbody tr th:only-of-type {\n",
       "        vertical-align: middle;\n",
       "    }\n",
       "\n",
       "    .dataframe tbody tr th {\n",
       "        vertical-align: top;\n",
       "    }\n",
       "\n",
       "    .dataframe thead th {\n",
       "        text-align: right;\n",
       "    }\n",
       "</style>\n",
       "<table border=\"1\" class=\"dataframe\">\n",
       "  <thead>\n",
       "    <tr style=\"text-align: right;\">\n",
       "      <th></th>\n",
       "      <th></th>\n",
       "      <th>f1_score</th>\n",
       "      <th>auc_roc</th>\n",
       "      <th>min_samples_split</th>\n",
       "      <th>max_depth</th>\n",
       "      <th>n_estimators</th>\n",
       "    </tr>\n",
       "  </thead>\n",
       "  <tbody>\n",
       "    <tr>\n",
       "      <th rowspan=\"3\" valign=\"top\">Upsampling</th>\n",
       "      <th>LogisticRegression</th>\n",
       "      <td>0.489039</td>\n",
       "      <td>0.757941</td>\n",
       "      <td>NaN</td>\n",
       "      <td>NaN</td>\n",
       "      <td>NaN</td>\n",
       "    </tr>\n",
       "    <tr>\n",
       "      <th>DecisionTree</th>\n",
       "      <td>0.567515</td>\n",
       "      <td>0.811647</td>\n",
       "      <td>2.0</td>\n",
       "      <td>8.0</td>\n",
       "      <td>NaN</td>\n",
       "    </tr>\n",
       "    <tr>\n",
       "      <th>RandomForest</th>\n",
       "      <td>0.613402</td>\n",
       "      <td>0.852857</td>\n",
       "      <td>2.0</td>\n",
       "      <td>20.0</td>\n",
       "      <td>320.0</td>\n",
       "    </tr>\n",
       "  </tbody>\n",
       "</table>\n",
       "</div>"
      ],
      "text/plain": [
       "                               f1_score   auc_roc  min_samples_split  \\\n",
       "Upsampling LogisticRegression  0.489039  0.757941                NaN   \n",
       "           DecisionTree        0.567515  0.811647                2.0   \n",
       "           RandomForest        0.613402  0.852857                2.0   \n",
       "\n",
       "                               max_depth  n_estimators  \n",
       "Upsampling LogisticRegression        NaN           NaN  \n",
       "           DecisionTree              8.0           NaN  \n",
       "           RandomForest             20.0         320.0  "
      ]
     },
     "metadata": {},
     "output_type": "display_data"
    },
    {
     "name": "stdout",
     "output_type": "stream",
     "text": [
      "Лучший  результат для метода Upsampling:\n"
     ]
    },
    {
     "data": {
      "text/html": [
       "<div>\n",
       "<style scoped>\n",
       "    .dataframe tbody tr th:only-of-type {\n",
       "        vertical-align: middle;\n",
       "    }\n",
       "\n",
       "    .dataframe tbody tr th {\n",
       "        vertical-align: top;\n",
       "    }\n",
       "\n",
       "    .dataframe thead th {\n",
       "        text-align: right;\n",
       "    }\n",
       "</style>\n",
       "<table border=\"1\" class=\"dataframe\">\n",
       "  <thead>\n",
       "    <tr style=\"text-align: right;\">\n",
       "      <th></th>\n",
       "      <th></th>\n",
       "      <th>f1_score</th>\n",
       "      <th>auc_roc</th>\n",
       "      <th>min_samples_split</th>\n",
       "      <th>max_depth</th>\n",
       "      <th>n_estimators</th>\n",
       "    </tr>\n",
       "  </thead>\n",
       "  <tbody>\n",
       "    <tr>\n",
       "      <th>Upsampling</th>\n",
       "      <th>RandomForest</th>\n",
       "      <td>0.613402</td>\n",
       "      <td>0.852857</td>\n",
       "      <td>2.0</td>\n",
       "      <td>20.0</td>\n",
       "      <td>320.0</td>\n",
       "    </tr>\n",
       "  </tbody>\n",
       "</table>\n",
       "</div>"
      ],
      "text/plain": [
       "                         f1_score   auc_roc  min_samples_split  max_depth  \\\n",
       "Upsampling RandomForest  0.613402  0.852857                2.0       20.0   \n",
       "\n",
       "                         n_estimators  \n",
       "Upsampling RandomForest         320.0  "
      ]
     },
     "metadata": {},
     "output_type": "display_data"
    },
    {
     "name": "stdout",
     "output_type": "stream",
     "text": [
      "----------------------------------------------------------------------\n",
      "\n",
      "Метод Downsampling\n",
      "\n",
      "Подбор гиперпараметров Логистической регрессии\n",
      "Лучший  результат: F1-мера=0.325, AUC-ROC=0.755\n",
      "Подбор гиперпараметров Решающего дерева\n",
      "Лучший  результат : F1-мера=0.573, AUC-ROC=0.833. Мин. кол-во объектов в узлах: 2, глубина дерева: 6\n",
      "Подбор гиперпараметров Случайного леса\n",
      "Лучший  результат: F1-мера=0.588, AUC-ROC=0.853. Мин. кол-во объектов в узлах: 2, глубина дерева в лесу: 19, число деревьев: 310\n",
      "\n"
     ]
    },
    {
     "data": {
      "text/html": [
       "<div>\n",
       "<style scoped>\n",
       "    .dataframe tbody tr th:only-of-type {\n",
       "        vertical-align: middle;\n",
       "    }\n",
       "\n",
       "    .dataframe tbody tr th {\n",
       "        vertical-align: top;\n",
       "    }\n",
       "\n",
       "    .dataframe thead th {\n",
       "        text-align: right;\n",
       "    }\n",
       "</style>\n",
       "<table border=\"1\" class=\"dataframe\">\n",
       "  <thead>\n",
       "    <tr style=\"text-align: right;\">\n",
       "      <th></th>\n",
       "      <th></th>\n",
       "      <th>f1_score</th>\n",
       "      <th>auc_roc</th>\n",
       "      <th>min_samples_split</th>\n",
       "      <th>max_depth</th>\n",
       "      <th>n_estimators</th>\n",
       "    </tr>\n",
       "  </thead>\n",
       "  <tbody>\n",
       "    <tr>\n",
       "      <th rowspan=\"3\" valign=\"top\">Downsampling</th>\n",
       "      <th>LogisticRegression</th>\n",
       "      <td>0.483165</td>\n",
       "      <td>0.755424</td>\n",
       "      <td>NaN</td>\n",
       "      <td>NaN</td>\n",
       "      <td>NaN</td>\n",
       "    </tr>\n",
       "    <tr>\n",
       "      <th>DecisionTree</th>\n",
       "      <td>0.572753</td>\n",
       "      <td>0.832608</td>\n",
       "      <td>2.0</td>\n",
       "      <td>6.0</td>\n",
       "      <td>NaN</td>\n",
       "    </tr>\n",
       "    <tr>\n",
       "      <th>RandomForest</th>\n",
       "      <td>0.587902</td>\n",
       "      <td>0.852507</td>\n",
       "      <td>2.0</td>\n",
       "      <td>19.0</td>\n",
       "      <td>310.0</td>\n",
       "    </tr>\n",
       "  </tbody>\n",
       "</table>\n",
       "</div>"
      ],
      "text/plain": [
       "                                 f1_score   auc_roc  min_samples_split  \\\n",
       "Downsampling LogisticRegression  0.483165  0.755424                NaN   \n",
       "             DecisionTree        0.572753  0.832608                2.0   \n",
       "             RandomForest        0.587902  0.852507                2.0   \n",
       "\n",
       "                                 max_depth  n_estimators  \n",
       "Downsampling LogisticRegression        NaN           NaN  \n",
       "             DecisionTree              6.0           NaN  \n",
       "             RandomForest             19.0         310.0  "
      ]
     },
     "metadata": {},
     "output_type": "display_data"
    },
    {
     "name": "stdout",
     "output_type": "stream",
     "text": [
      "Лучший  результат для метода Downsampling:\n"
     ]
    },
    {
     "data": {
      "text/html": [
       "<div>\n",
       "<style scoped>\n",
       "    .dataframe tbody tr th:only-of-type {\n",
       "        vertical-align: middle;\n",
       "    }\n",
       "\n",
       "    .dataframe tbody tr th {\n",
       "        vertical-align: top;\n",
       "    }\n",
       "\n",
       "    .dataframe thead th {\n",
       "        text-align: right;\n",
       "    }\n",
       "</style>\n",
       "<table border=\"1\" class=\"dataframe\">\n",
       "  <thead>\n",
       "    <tr style=\"text-align: right;\">\n",
       "      <th></th>\n",
       "      <th></th>\n",
       "      <th>f1_score</th>\n",
       "      <th>auc_roc</th>\n",
       "      <th>min_samples_split</th>\n",
       "      <th>max_depth</th>\n",
       "      <th>n_estimators</th>\n",
       "    </tr>\n",
       "  </thead>\n",
       "  <tbody>\n",
       "    <tr>\n",
       "      <th>Downsampling</th>\n",
       "      <th>RandomForest</th>\n",
       "      <td>0.587902</td>\n",
       "      <td>0.852507</td>\n",
       "      <td>2.0</td>\n",
       "      <td>19.0</td>\n",
       "      <td>310.0</td>\n",
       "    </tr>\n",
       "  </tbody>\n",
       "</table>\n",
       "</div>"
      ],
      "text/plain": [
       "                           f1_score   auc_roc  min_samples_split  max_depth  \\\n",
       "Downsampling RandomForest  0.587902  0.852507                2.0       19.0   \n",
       "\n",
       "                           n_estimators  \n",
       "Downsampling RandomForest         310.0  "
      ]
     },
     "metadata": {},
     "output_type": "display_data"
    },
    {
     "name": "stdout",
     "output_type": "stream",
     "text": [
      "----------------------------------------------------------------------\n",
      "\n",
      "CPU times: user 29.3 s, sys: 617 ms, total: 29.9 s\n",
      "Wall time: 30 s\n"
     ]
    }
   ],
   "source": [
    "%%time\n",
    "#Замер времени подбора гиперпараметров оставлен в технических целях\n",
    "print('Подбор гиперпараметров трех моделей для разных методов борьбы с дисбалансом') \n",
    "print()\n",
    "best_result_f1 = 0\n",
    "best_method = ''\n",
    "models_balanced=pd.DataFrame()\n",
    "\n",
    "for [features_train_select, features_valid_select, target_train_select, target_valid_select, method_name] in [\n",
    "    [features_train, features_valid, target_train, target_valid, 'Model balance'],\n",
    "    [features_upsampled, features_valid, target_upsampled, target_valid, 'Upsampling'], \n",
    "    [features_downsampled, features_valid, target_downsampled, target_valid, 'Downsampling']]:\n",
    "    \n",
    "    print('Метод', method_name)\n",
    "    print() \n",
    "    if method_name == 'Model balance':\n",
    "        cl_weight = 'balanced'\n",
    "    else:\n",
    "        cl_weight = None\n",
    "        \n",
    "    best_result_balanced_lr, auc_roc_at_best_result_lr = lr_research(\n",
    "        features_train_select, features_valid_select, \n",
    "        target_train_select, target_valid_select, \n",
    "        cl_weight, True)\n",
    "    print(f'Лучший  результат: F1-мера={best_result_lr:.3}, AUC-ROC={auc_roc_at_best_result_lr:.3}')\n",
    "    \n",
    "    best_result_tree, auc_roc_at_best_result_tree, best_min_samples_tree, best_depth_tree = tree_research(\n",
    "        features_train_select, features_valid_select,\n",
    "        target_train_select, target_valid_select,\n",
    "        cl_weight, True,\n",
    "        MIN_SAMPLES_RANGE_TREE, DEPTH_RANGE_TREE)\n",
    "    print(f'Лучший  результат : F1-мера={best_result_tree:.3}, AUC-ROC={auc_roc_at_best_result_tree:.3}. Мин. кол-во объектов в узлах: {best_min_samples_tree}, глубина дерева: {best_depth_tree}')\n",
    "    \n",
    "    best_result_rf, auc_roc_at_best_result_rf, best_min_samples_rf, best_depth_rf, best_est_rf,  = rf_research(\n",
    "        features_train_select, features_valid_select,\n",
    "        target_train_select, target_valid_select,\n",
    "        cl_weight, True,\n",
    "        MIN_SAMPLES_RANGE_RF, DEPTH_RANGE_RF, EST_RANGE_RF)\n",
    "    print(f'Лучший  результат: F1-мера={best_result_rf:.3}, AUC-ROC={auc_roc_at_best_result_rf:.3}. Мин. кол-во объектов в узлах: {best_min_samples_rf}, глубина дерева в лесу: {best_depth_rf}, число деревьев: {best_est_rf}')\n",
    "    print()\n",
    " \n",
    "    model_hyperparametres = pd.DataFrame({\n",
    "        'f1_score': [best_result_balanced_lr, best_result_tree, best_result_rf],\n",
    "        'auc_roc': [auc_roc_at_best_result_lr, auc_roc_at_best_result_tree, auc_roc_at_best_result_rf],\n",
    "        'min_samples_split':[None, best_min_samples_tree, best_min_samples_rf],\n",
    "        'max_depth': [None, best_depth_tree, best_depth_rf],\n",
    "        'n_estimators': [None, None, best_est_rf]},\n",
    "        # применяю мультииндекс для наглядности\n",
    "        index=[[method_name, method_name, method_name],\n",
    "               ['LogisticRegression', 'DecisionTree', 'RandomForest']])\n",
    "    display(model_hyperparametres)\n",
    "       \n",
    "    models_balanced = pd.concat([models_balanced, model_hyperparametres])\n",
    "    \n",
    "    print(f'Лучший  результат для метода {method_name}:')\n",
    "    display(model_hyperparametres.loc[model_hyperparametres['f1_score'] == max([best_result_balanced_lr, best_result_tree, best_result_rf])])\n",
    "    print('-' * 70)\n",
    "    print()\n",
    "    if best_result_f1 < max([best_result_balanced_lr, best_result_tree, best_result_rf]):\n",
    "        best_result_f1 = max([best_result_balanced_lr, best_result_tree, best_result_rf])\n",
    "        best_method = method_name"
   ]
  },
  {
   "cell_type": "code",
   "execution_count": 42,
   "metadata": {},
   "outputs": [
    {
     "data": {
      "image/png": "[encoded data removed]",
      "text/plain": [
       "<Figure size 1080x864 with 1 Axes>"
      ]
     },
     "metadata": {
      "needs_background": "light"
     },
     "output_type": "display_data"
    }
   ],
   "source": [
    "models_balanced[['f1_score', 'auc_roc']].plot(kind='bar', grid=1, figsize=(15, 12))\n",
    "plt.ylabel('Значение метрики')\n",
    "plt.xticks(rotation=45)\n",
    "plt.title('Распределение значений метрик моделей\\n с учетом обработки дисбаланса классов тремя разными техниками ')\n",
    "plt.legend(loc='lower right')\n",
    "plt.show()"
   ]
  },
  {
   "cell_type": "code",
   "execution_count": 43,
   "metadata": {
    "scrolled": false
   },
   "outputs": [
    {
     "name": "stdout",
     "output_type": "stream",
     "text": [
      "Этап исследования моделей с учетом дисбаланса целевого признака\n",
      "Лучший  результат показывает метод Upsampling, F1-мера=0.613\n",
      "\n",
      "Выбранная модель, значения метрик на валидационной выборке и гиперпараметры модели:\n"
     ]
    },
    {
     "data": {
      "text/html": [
       "<div>\n",
       "<style scoped>\n",
       "    .dataframe tbody tr th:only-of-type {\n",
       "        vertical-align: middle;\n",
       "    }\n",
       "\n",
       "    .dataframe tbody tr th {\n",
       "        vertical-align: top;\n",
       "    }\n",
       "\n",
       "    .dataframe thead th {\n",
       "        text-align: right;\n",
       "    }\n",
       "</style>\n",
       "<table border=\"1\" class=\"dataframe\">\n",
       "  <thead>\n",
       "    <tr style=\"text-align: right;\">\n",
       "      <th></th>\n",
       "      <th></th>\n",
       "      <th>f1_score</th>\n",
       "      <th>auc_roc</th>\n",
       "      <th>min_samples_split</th>\n",
       "      <th>max_depth</th>\n",
       "      <th>n_estimators</th>\n",
       "    </tr>\n",
       "  </thead>\n",
       "  <tbody>\n",
       "    <tr>\n",
       "      <th>Upsampling</th>\n",
       "      <th>RandomForest</th>\n",
       "      <td>0.613402</td>\n",
       "      <td>0.852857</td>\n",
       "      <td>2.0</td>\n",
       "      <td>20.0</td>\n",
       "      <td>320.0</td>\n",
       "    </tr>\n",
       "  </tbody>\n",
       "</table>\n",
       "</div>"
      ],
      "text/plain": [
       "                         f1_score   auc_roc  min_samples_split  max_depth  \\\n",
       "Upsampling RandomForest  0.613402  0.852857                2.0       20.0   \n",
       "\n",
       "                         n_estimators  \n",
       "Upsampling RandomForest         320.0  "
      ]
     },
     "metadata": {},
     "output_type": "display_data"
    },
    {
     "name": "stdout",
     "output_type": "stream",
     "text": [
      "Требуемое значение 0.59 достигнуто\n"
     ]
    }
   ],
   "source": [
    "print('Этап исследования моделей с учетом дисбаланса целевого признака')\n",
    "print(f'Лучший  результат показывает метод {best_method}, F1-мера={best_result_f1:.3}\\n\\nВыбранная модель, значения метрик на валидационной выборке и гиперпараметры модели:')\n",
    "best_model_balanced = pd.DataFrame()\n",
    "best_model_balanced = models_balanced.loc[models_balanced['f1_score'] == best_result_f1]\n",
    "display(best_model_balanced)\n",
    "threshold_check(best_result_f1)"
   ]
  },
  {
   "cell_type": "code",
   "execution_count": 44,
   "metadata": {
    "scrolled": true
   },
   "outputs": [],
   "source": [
    "# сбрасываю мультииндекс в столбцы для удобства обращения к элементам\n",
    "best_model_balanced.reset_index(inplace=True)\n",
    "best_model_balanced.rename(columns = {\n",
    "    'level_0': 'balancing_method', 'level_1': 'model_name'}, inplace = True)"
   ]
  },
  {
   "cell_type": "code",
   "execution_count": 45,
   "metadata": {},
   "outputs": [],
   "source": [
    "# Объявляю переменные с сохраненными гиперпараметрами для модели после подбора\n",
    "model_selected = max(best_model_balanced.model_name)\n",
    "method_selected = max(best_model_balanced.balancing_method)\n",
    "best_min_samples_selected = round(max(best_model_balanced.min_samples_split))\n",
    "best_depth_selected = round(max(best_model_balanced.max_depth))\n",
    "best_est_selected = round(max(best_model_balanced.n_estimators))"
   ]
  },
  {
   "cell_type": "markdown",
   "metadata": {},
   "source": [
    "### Вывод по разделу 3\n",
    "\n",
    "- В качестве базовой модели (модели для сравнения) была выбрана Логистическая регрессия\n",
    "- На данном этапе был учтен дисбаланс классов, сравнены три техники:\n",
    "  - контроль дисбаланса при объявлении модели (взвешивание классов)\n",
    "  - контроль дисбаланса методом увеличения выборки (upsampling)\n",
    "  - контроль дисбаланса методом уменьшения выборки (downsampling)\n",
    "- Рассмотрены три модели для задач исследования: `Логистическая регрессия`, `Решающее дерево` и `Случайный лес`\n",
    "- Исходя из практики машинного обучения и особенностей конкретного задания для оценки моделей принята метрика F1-мера и AUC-ROC\n",
    "- в результате исследования моделей было определены значения метрик качества и оптимальные гиперпараметры для каждого метода борьбы с дисбалансом\n",
    "- На валидационной выборке достигнуто требуемое заданием значение F1-меры (не менее 0.59)\n",
    "- По итогу исследований для проверки на тестовой выборке принята модель `Случайный лес`, Мин. кол-во объектов в узлах: 2, Число деревьев: 27, Глубина леса: 120"
   ]
  },
  {
   "cell_type": "markdown",
   "metadata": {},
   "source": [
    "## Тестирование модели"
   ]
  },
  {
   "cell_type": "markdown",
   "metadata": {},
   "source": [
    "### Тестирование модели. План работы\n",
    "\n",
    "План работы.\n",
    "- объединение обучающей и валидационной выборке\n",
    "- повторное обучение модели на совмещенной выборке\n",
    "- тестирование выбранной модели на тестовой выборке\n",
    "- изучение метрики AUC-ROC\n",
    "- проверка адекватности модели"
   ]
  },
  {
   "cell_type": "markdown",
   "metadata": {},
   "source": [
    "### Объединение обучающей и валидационной выборке"
   ]
  },
  {
   "cell_type": "markdown",
   "metadata": {},
   "source": [
    "В целях увеличения качества предлагаемой модели заново обучим модель на обучающей выборке, совмещенной с валидационной.\n",
    "\n",
    "Так мы получим большее количество данных для более адекватного обучания модели."
   ]
  },
  {
   "cell_type": "code",
   "execution_count": 46,
   "metadata": {},
   "outputs": [],
   "source": [
    "features_full_train = pd.concat([features_train, features_valid])\n",
    "target_full_train = pd.concat([target_train, target_valid])\n",
    "\n",
    "if method_selected == 'Upsampling':\n",
    "    features_balanced, target_balanced = upsample(features_full_train, target_full_train)\n",
    "    cl_weight = None\n",
    "    \n",
    "elif method_selected == 'Downsampling':\n",
    "    features_balanced, target_balanced = downsample(features_full_train, target_full_train)\n",
    "    cl_weight = None\n",
    "    \n",
    "elif method_selected == 'Model balance':\n",
    "    features_balanced, target_balanced = features_full_train, target_full_train\n",
    "    cl_weight = 'balanced'\n",
    "    \n",
    "        "
   ]
  },
  {
   "cell_type": "markdown",
   "metadata": {},
   "source": [
    "### Тестирование выбранной модели на тестовой выборке"
   ]
  },
  {
   "cell_type": "code",
   "execution_count": 47,
   "metadata": {
    "scrolled": true
   },
   "outputs": [
    {
     "name": "stdout",
     "output_type": "stream",
     "text": [
      "Проверим выбранную модель RandomForest, метод борьбы с дисбалансом: Upsampling, с подобранными гиперпараметрами:\n",
      " - min_samples_split_forest = 2, (мин. кол-во объектов в узлах)\n",
      " - max_depth = 20, (максимальная глубина)\n",
      " - n_estimators = 320, (количество деревьев)\n"
     ]
    }
   ],
   "source": [
    "print(f'Проверим выбранную модель {model_selected}, метод борьбы с дисбалансом: {method_selected}, с подобранными гиперпараметрами:')\n",
    "print(f' - min_samples_split_forest = {best_min_samples_selected}, (мин. кол-во объектов в узлах)')\n",
    "print(f' - max_depth = {best_depth_selected}, (максимальная глубина)')\n",
    "print(f' - n_estimators = {best_est_selected}, (количество деревьев)')"
   ]
  },
  {
   "cell_type": "code",
   "execution_count": 48,
   "metadata": {},
   "outputs": [
    {
     "name": "stdout",
     "output_type": "stream",
     "text": [
      "Значение метрики F1-мера выбранной модели на тестовой выборке: 0.6076\n",
      "Требуемое значение 0.59 достигнуто\n",
      "\n",
      "CPU times: user 4.36 s, sys: 43.9 ms, total: 4.4 s\n",
      "Wall time: 4.42 s\n"
     ]
    }
   ],
   "source": [
    "%%time\n",
    "model = RandomForestClassifier(\n",
    "    random_state=RANDOM_STATE,\n",
    "    min_samples_split=best_min_samples_selected,\n",
    "    max_depth=best_depth_selected,\n",
    "    n_estimators=best_est_selected,\n",
    "    class_weight=cl_weight)\n",
    "\n",
    "model.fit(features_balanced, target_balanced)\n",
    "predicted_test = model.predict(features_test)\n",
    "\n",
    "f1_score_total = f1_score(target_test, predicted_test)\n",
    "print(f'Значение метрики F1-мера выбранной модели на тестовой выборке: {f1_score_total:.4}')\n",
    "threshold_check(f1_score_total)\n",
    "\n",
    "print()"
   ]
  },
  {
   "cell_type": "raw",
   "metadata": {},
   "source": [
    "# Код ревьюера\n",
    "features_full_train = pd.concat([features_train, features_valid])\n",
    "target_full_train = pd.concat([target_train, target_valid])\n",
    "\n",
    "features_upsampled, target_upsampled = upsample(features_full_train, target_full_train, 4)"
   ]
  },
  {
   "cell_type": "markdown",
   "metadata": {},
   "source": [
    "### Изучение метрики AUC-ROC\n",
    "\n",
    "Для оценки, насколько выбранная модель отличается от случайной, построим ROC-кривую и посчитаем площадь под ней - AUC-ROC "
   ]
  },
  {
   "cell_type": "code",
   "execution_count": 49,
   "metadata": {},
   "outputs": [
    {
     "data": {
      "image/png": "[encoded data removed]",
      "text/plain": [
       "<Figure size 432x288 with 1 Axes>"
      ]
     },
     "metadata": {
      "needs_background": "light"
     },
     "output_type": "display_data"
    },
    {
     "name": "stdout",
     "output_type": "stream",
     "text": [
      "AUC-ROC выбранной модели на тестовой выборке: 0.848\n"
     ]
    }
   ],
   "source": [
    "probabilities_test = model.predict_proba(features_test)\n",
    "probabilities_one_test = probabilities_test[:, 1]\n",
    "\n",
    "fpr, tpr, thresholds = roc_curve(target_test, probabilities_one_test) \n",
    "\n",
    "plt.figure()\n",
    "plt.plot([0, 1], [0, 1], linestyle='--')\n",
    "plt.xlim([0.0, 1.0])\n",
    "plt.ylim([0.0, 1.0])\n",
    "plt.xlabel(\"False Positive Rate\")\n",
    "plt.ylabel(\"True Positive Rate\")\n",
    "plt.title(\"ROC-кривая\")\n",
    "plt.plot(fpr, tpr, linestyle='-')\n",
    "plt.show()\n",
    "\n",
    "roc_auc_score_total = roc_auc_score(target_test, probabilities_one_test)\n",
    "print(f'AUC-ROC выбранной модели на тестовой выборке: {roc_auc_score_total:.3}')\n"
   ]
  },
  {
   "cell_type": "markdown",
   "metadata": {},
   "source": [
    "### Проверка адекватности модели\n",
    "\n",
    "Проверим выбранную модель на адекватность. \n",
    "\n",
    "Для этого сравним метрики выбранной модели и метрики базовой модели **на тестовой выборке.**"
   ]
  },
  {
   "cell_type": "code",
   "execution_count": 50,
   "metadata": {},
   "outputs": [
    {
     "name": "stdout",
     "output_type": "stream",
     "text": [
      "ВЫБРАННАЯ МОДЕЛЬ, проверка на тестовой выборке\n",
      "\n",
      "Выбранная модель RandomForest, метод борьбы с дисбалансом: Upsampling, гиперпараметры:\n",
      " - min_samples_split_forest = 2, (мин. кол-во объектов в узлах)\n",
      " - max_depth = 20, (максимальная глубина)\n",
      " - n_estimators = 320, (количество деревьев)\n",
      "\n",
      "Значение F1-меры 0.6076\n",
      "Значение AUC-ROC 0.8475\n"
     ]
    }
   ],
   "source": [
    "print('ВЫБРАННАЯ МОДЕЛЬ, проверка на тестовой выборке')\n",
    "print()\n",
    "print(f'Выбранная модель {model_selected}, метод борьбы с дисбалансом: {method_selected}, гиперпараметры:')\n",
    "print(f' - min_samples_split_forest = {best_min_samples_selected}, (мин. кол-во объектов в узлах)')\n",
    "print(f' - max_depth = {best_depth_selected}, (максимальная глубина)')\n",
    "print(f' - n_estimators = {best_est_selected}, (количество деревьев)')\n",
    "print()\n",
    "print(f'Значение F1-меры {f1_score_total:.4}')\n",
    "print(f'Значение AUC-ROC {roc_auc_score_total:.4}')"
   ]
  },
  {
   "cell_type": "code",
   "execution_count": 51,
   "metadata": {},
   "outputs": [
    {
     "name": "stdout",
     "output_type": "stream",
     "text": [
      "БАЗОВАЯ МОДЕЛЬ, проверка на тестовой выборке\n",
      "\n",
      "Базовая модель RandomForest, гиперпараметры:\n",
      " - min_samples_split_forest = 5, (мин. кол-во объектов в узлах)\n",
      " - max_depth = 20, (максимальная глубина)\n",
      " - n_estimators = 40, (количество деревьев)\n",
      "\n",
      "Значение F1-меры: 0.5679\n",
      "Значение AUC-ROC: 0.8458\n"
     ]
    }
   ],
   "source": [
    "model = RandomForestClassifier(\n",
    "    random_state=RANDOM_STATE,\n",
    "    min_samples_split=best_min_samples_base,\n",
    "    max_depth=best_depth_base,\n",
    "    n_estimators=best_est_base)\n",
    "\n",
    "model.fit(features_train, target_train)\n",
    "predicted_test = model.predict(features_test)\n",
    "f1_score_base = f1_score(target_test, predicted_test)\n",
    "\n",
    "probabilities_test = model.predict_proba(features_test)\n",
    "probabilities_one_test = probabilities_test[:, 1]\n",
    "roc_auc_score_base = roc_auc_score(target_test, probabilities_one_test)\n",
    "\n",
    "print('БАЗОВАЯ МОДЕЛЬ, проверка на тестовой выборке')\n",
    "print()\n",
    "print(f'Базовая модель {model_base}, гиперпараметры:')\n",
    "print(f' - min_samples_split_forest = {best_min_samples_base}, (мин. кол-во объектов в узлах)')\n",
    "print(f' - max_depth = {best_depth_base}, (максимальная глубина)')\n",
    "print(f' - n_estimators = {best_est_base}, (количество деревьев)')\n",
    "print()\n",
    "print(f'Значение F1-меры: {f1_score_base:.4}')\n",
    "print(f'Значение AUC-ROC: {roc_auc_score_base:.4}')"
   ]
  },
  {
   "cell_type": "code",
   "execution_count": 52,
   "metadata": {
    "scrolled": true
   },
   "outputs": [
    {
     "name": "stdout",
     "output_type": "stream",
     "text": [
      "Выбранная модель адекватна. Значение метрики F1-мера превышает соответствующее значение базовой модели\n"
     ]
    }
   ],
   "source": [
    "if f1_score_total > f1_score_base:\n",
    "    print('Выбранная модель адекватна. Значение метрики F1-мера превышает соответствующее значение базовой модели')\n",
    "else:\n",
    "    print('Модель не прошла проверку на адекватность!')"
   ]
  },
  {
   "cell_type": "markdown",
   "metadata": {},
   "source": [
    "### Вывод по разделу 4\n",
    "\n",
    "- выбранная модель случайный лес с гиперпараметрами: мин. кол-во объектов в узлах: 2, глубина леса: 27, число деревьев: 120,  проверена на тестовой выборке\n",
    "- F1-мера выбранной модели на тестовой выборке равна 0.610, больше заданного порога 0.59\n",
    "- F1-мера выбранной модели на тестовой выборке близка к значению на валидационной выборке (0.610 и 0.615 соответственно)\n",
    "- AUC-ROC выбранной модели на тестовой выборке близка к значению на валидационной выборке (0.846 и 0.851 соответственно)\n",
    "- Для задачи классификации, которая определит, прекратит ли клиент обслуживание в банке, выбрана модель `Случайный лес`  со следующими гиперпараметрами:\n",
    "  - min_samples_split_forest = 2 (мин. кол-во объектов в узлах)\n",
    "  - max_depth = 27 (максимальная глубина)\n",
    "  - n_estimators = 120 (количество деревьев)\n",
    "  \n"
   ]
  },
  {
   "cell_type": "markdown",
   "metadata": {},
   "source": [
    "## Общий вывод"
   ]
  },
  {
   "cell_type": "markdown",
   "metadata": {},
   "source": [
    "# Источник данных\n",
    "\n",
    "Исходные данные от заказчика:\n",
    " Требуется построить систему, способную проанализировать поведение клиентов и для прогноза возможности ухода клиента.\n",
    " \n",
    " Предоставлен датасет с данными клиентов, полученный из открытых источников.\n",
    " \n",
    "# Цели проекта\n",
    " \n",
    " Нужно построить модель для задачи классификации, которая определит, прекратит ли клиент обслуживание в банке.\n",
    " Значение метрики F1-мера должно быть не менее 0.59\n",
    " \n",
    "# Выводы по проекту\n",
    "\n",
    "*Предобработка данных*\n",
    "\n",
    "- В данных 11 колонок (признаков) и 10 000 строк (объектов). Признак `exited` определен как целевой.\n",
    "- Пропуски в признаке `tenure` заменены на медианы\n",
    "- После предобработки пропуски отсутствуют\n",
    "- Признаки `row_number`, `customer_id`, `surname` определены как несоответствующие задачем МО, и удалены из набора данных\n",
    "- Выбросы в данных присутствуют только в признаке `balance`. Исследованием принято решение их учитывать. \n",
    "- Распределение данных для кредитного рейтинга `credit_score`, возраста `age`, длительности сотрудничества с баком `tenure` судя по гистограммам, в целом соответствуют распределению Пуасонна.\n",
    "- Распределение длительности звонков и  объема израсходованного трафика близко к нормальному распределению.\n",
    "- Обнаружен дисбаланс целевого признака `exited`\n",
    "- Требуется масштабирование численных признаков `credit_score`, `age`, `tenure`, `balance`, `num_of_products` и `estimated_salary`\n",
    "\n",
    "*Исследование задачи*\n",
    "\n",
    "- Выполнено масштабирование численных признаков `credit_score`, `age`, `tenure`, `balance`, `num_of_products` и `estimated_salary`\n",
    "- Лучшее полученное значение F1-меры близко к пороговому. Требуются мероприятия по улучшению моделей.\n",
    "- В нашей задаче наблюдается сильный дисбаланс классов, что плохо сказывается на обучении модели.\n",
    "- Для проверки качества итоговой модели выбрана базовая модель Случайный лес для исходных (несбалансированных) выборок с гиперпараметрами Мин. кол-во объектов в узлах: 3, глубина дерева в лесу: 22, число деревьев: 60.\n",
    "\n",
    "*Учет дисбаланса классов в модели машинного обучения*\n",
    "\n",
    "- В качестве базовой модели (модели для сравнения) была выбрана Логистическая регрессия\n",
    "- На данном этапе был учтен дисбаланс классов, сравнены три техники:\n",
    "  - контроль дисбаланса при объявлении модели (взвешивание классов)\n",
    "  - контроль дисбаланса методом увеличения выборки (upsampling)\n",
    "  - контроль дисбаланса методом уменьшения выборки (downsampling)\n",
    "- Рассмотрены три модели для задач исследования: `Логистическая регрессия`, `Решающее дерево` и `Случайный лес`\n",
    "- Исходя из практики машинного обучения и особенностей конкретного задания для оценки моделей принята метрика F1-мера и AUC-ROC\n",
    "- в результате исследования моделей было определены значения метрик качества и оптимальные гиперпараметры для каждого метода борьбы с дисбалансом:\n",
    "- На валидационной выборке достигнуто требуемое заданием значение F1-меры (не менее 0.59)\n",
    "- По итогу исследований для проверки на тестовой выборке принята модель `Случайный лес`, Мин. кол-во объектов в узлах: 2, Число деревьев: 27, Глубина леса: 120\n",
    "\n",
    "*Тестирование модели*\n",
    "\n",
    "- выбранная модель случайный лес с гиперпараметрами: мин. кол-во объектов в узлах: 2, глубина леса: 27, число деревьев: 120,  проверена на тестовой выборке\n",
    "- F1-мера выбранной модели на тестовой выборке равна 0.610, больше заданного порога 0.59\n",
    "- F1-мера выбранной модели на тестовой выборке близко к значению на валидационной выборке (0.610 и 0.615 соответственно)\n",
    "- AUC-ROC выбранной модели на тестовой выборке близко к значению на валидационной выборке (0.846 и 0.851 соответственно)\n",
    "\n",
    "\n",
    "# *ОСНОВНОЙ ВЫВОД*\n",
    "\n",
    "- Для **задачи классификации**,  которая определит, **прекратит ли клиент обслуживание в банке**, выбрана модель **`Случайный лес`**  со следующими гиперпараметрами:\n",
    "  - **min_samples_split_forest = 2** (мин. кол-во объектов в узлах)\n",
    "  - **max_depth = 27** (максимальная глубина)\n",
    "  - **n_estimators = 120** (количество деревьев)\n",
    "\n",
    "  \n",
    "- **F1-мера выбранной модели на тестовой выборке равна 0.610**, что больше заданного порога 0.59\n",
    "  \n",
    "  \n"
   ]
  }
 ],
 "metadata": {
  "ExecuteTimeLog": [
   {
    "duration": 54,
    "start_time": "2022-09-17T20:41:13.848Z"
   },
   {
    "duration": 1643,
    "start_time": "2022-09-17T20:41:21.783Z"
   },
   {
    "duration": 3,
    "start_time": "2022-09-17T20:41:23.428Z"
   },
   {
    "duration": 6,
    "start_time": "2022-09-17T20:41:23.433Z"
   },
   {
    "duration": 121,
    "start_time": "2022-09-17T20:41:23.441Z"
   },
   {
    "duration": 65,
    "start_time": "2022-09-17T20:42:26.438Z"
   },
   {
    "duration": 73,
    "start_time": "2022-09-17T20:51:00.204Z"
   },
   {
    "duration": 4,
    "start_time": "2022-09-17T20:51:05.151Z"
   },
   {
    "duration": 27,
    "start_time": "2022-09-17T20:51:05.158Z"
   },
   {
    "duration": 12,
    "start_time": "2022-09-17T20:51:05.187Z"
   },
   {
    "duration": 76,
    "start_time": "2022-09-17T20:51:05.238Z"
   },
   {
    "duration": 4,
    "start_time": "2022-09-17T20:51:05.382Z"
   },
   {
    "duration": 3,
    "start_time": "2022-09-17T20:52:47.800Z"
   },
   {
    "duration": 7,
    "start_time": "2022-09-17T20:53:34.403Z"
   },
   {
    "duration": 6,
    "start_time": "2022-09-17T20:53:41.570Z"
   },
   {
    "duration": 6,
    "start_time": "2022-09-17T20:54:39.873Z"
   },
   {
    "duration": 5,
    "start_time": "2022-09-17T20:55:43.888Z"
   },
   {
    "duration": 295,
    "start_time": "2022-09-17T20:57:06.981Z"
   },
   {
    "duration": 7,
    "start_time": "2022-09-17T20:57:41.293Z"
   },
   {
    "duration": 12,
    "start_time": "2022-09-17T20:57:46.895Z"
   },
   {
    "duration": 6,
    "start_time": "2022-09-17T20:57:52.914Z"
   },
   {
    "duration": 12,
    "start_time": "2022-09-17T20:59:16.508Z"
   },
   {
    "duration": 81,
    "start_time": "2022-09-17T20:59:20.446Z"
   },
   {
    "duration": 7,
    "start_time": "2022-09-17T20:59:24.707Z"
   },
   {
    "duration": 5,
    "start_time": "2022-09-17T21:00:23.496Z"
   },
   {
    "duration": 6,
    "start_time": "2022-09-17T21:00:29.772Z"
   },
   {
    "duration": 13,
    "start_time": "2022-09-17T21:01:12.876Z"
   },
   {
    "duration": 11,
    "start_time": "2022-09-17T21:01:20.547Z"
   },
   {
    "duration": 7,
    "start_time": "2022-09-17T21:07:56.307Z"
   },
   {
    "duration": 7,
    "start_time": "2022-09-17T21:08:34.244Z"
   },
   {
    "duration": 7,
    "start_time": "2022-09-17T21:09:31.918Z"
   },
   {
    "duration": 106,
    "start_time": "2022-09-17T21:09:52.403Z"
   },
   {
    "duration": 8,
    "start_time": "2022-09-17T21:09:56.484Z"
   },
   {
    "duration": 12,
    "start_time": "2022-09-17T21:10:02.850Z"
   },
   {
    "duration": 6,
    "start_time": "2022-09-17T21:10:03.889Z"
   },
   {
    "duration": 15,
    "start_time": "2022-09-17T21:10:14.758Z"
   },
   {
    "duration": 14,
    "start_time": "2022-09-17T21:10:24.931Z"
   },
   {
    "duration": 102,
    "start_time": "2022-09-17T21:10:28.542Z"
   },
   {
    "duration": 10,
    "start_time": "2022-09-17T21:10:33.771Z"
   },
   {
    "duration": 14,
    "start_time": "2022-09-17T21:11:16.665Z"
   },
   {
    "duration": 13,
    "start_time": "2022-09-17T21:11:59.940Z"
   },
   {
    "duration": 164,
    "start_time": "2022-09-17T21:15:35.550Z"
   },
   {
    "duration": 4,
    "start_time": "2022-09-17T21:15:38.738Z"
   },
   {
    "duration": 123,
    "start_time": "2022-09-17T21:19:35.537Z"
   },
   {
    "duration": 8,
    "start_time": "2022-09-17T21:19:59.633Z"
   },
   {
    "duration": 19,
    "start_time": "2022-09-17T21:20:06.594Z"
   },
   {
    "duration": 8,
    "start_time": "2022-09-17T21:20:12.399Z"
   },
   {
    "duration": 8,
    "start_time": "2022-09-17T21:20:40.820Z"
   },
   {
    "duration": 46,
    "start_time": "2022-09-19T06:43:57.203Z"
   },
   {
    "duration": 1501,
    "start_time": "2022-09-19T06:44:01.534Z"
   },
   {
    "duration": 3,
    "start_time": "2022-09-19T06:44:03.037Z"
   },
   {
    "duration": 10,
    "start_time": "2022-09-19T06:44:03.041Z"
   },
   {
    "duration": 114,
    "start_time": "2022-09-19T06:44:03.053Z"
   },
   {
    "duration": 8,
    "start_time": "2022-09-19T06:44:03.171Z"
   },
   {
    "duration": 9,
    "start_time": "2022-09-19T06:44:03.181Z"
   },
   {
    "duration": 6,
    "start_time": "2022-09-19T06:45:31.055Z"
   },
   {
    "duration": 3,
    "start_time": "2022-09-19T06:45:45.448Z"
   },
   {
    "duration": 7,
    "start_time": "2022-09-19T06:45:45.453Z"
   },
   {
    "duration": 6,
    "start_time": "2022-09-19T06:45:45.462Z"
   },
   {
    "duration": 66,
    "start_time": "2022-09-19T06:45:45.470Z"
   },
   {
    "duration": 8,
    "start_time": "2022-09-19T06:45:45.537Z"
   },
   {
    "duration": 10,
    "start_time": "2022-09-19T06:45:45.547Z"
   },
   {
    "duration": 3,
    "start_time": "2022-09-19T06:45:58.790Z"
   },
   {
    "duration": 6,
    "start_time": "2022-09-19T06:45:58.795Z"
   },
   {
    "duration": 9,
    "start_time": "2022-09-19T06:45:58.802Z"
   },
   {
    "duration": 66,
    "start_time": "2022-09-19T06:45:58.812Z"
   },
   {
    "duration": 8,
    "start_time": "2022-09-19T06:45:58.880Z"
   },
   {
    "duration": 111,
    "start_time": "2022-09-19T06:45:58.890Z"
   },
   {
    "duration": 3,
    "start_time": "2022-09-19T06:52:58.732Z"
   },
   {
    "duration": 7,
    "start_time": "2022-09-19T06:52:58.737Z"
   },
   {
    "duration": 4,
    "start_time": "2022-09-19T06:52:58.746Z"
   },
   {
    "duration": 63,
    "start_time": "2022-09-19T06:52:58.751Z"
   },
   {
    "duration": 9,
    "start_time": "2022-09-19T06:52:58.816Z"
   },
   {
    "duration": 64,
    "start_time": "2022-09-19T06:52:58.853Z"
   },
   {
    "duration": 47,
    "start_time": "2022-09-19T06:53:07.244Z"
   },
   {
    "duration": 52,
    "start_time": "2022-09-19T06:53:33.919Z"
   },
   {
    "duration": 51,
    "start_time": "2022-09-19T06:54:38.858Z"
   },
   {
    "duration": 1370,
    "start_time": "2022-09-19T06:55:00.712Z"
   },
   {
    "duration": 3,
    "start_time": "2022-09-19T06:55:02.084Z"
   },
   {
    "duration": 23,
    "start_time": "2022-09-19T06:55:02.089Z"
   },
   {
    "duration": 79,
    "start_time": "2022-09-19T06:55:02.114Z"
   },
   {
    "duration": 9,
    "start_time": "2022-09-19T06:55:02.195Z"
   },
   {
    "duration": 166,
    "start_time": "2022-09-19T06:55:02.206Z"
   },
   {
    "duration": 3,
    "start_time": "2022-09-19T06:56:22.429Z"
   },
   {
    "duration": 7,
    "start_time": "2022-09-19T06:56:22.435Z"
   },
   {
    "duration": 11,
    "start_time": "2022-09-19T06:56:22.444Z"
   },
   {
    "duration": 64,
    "start_time": "2022-09-19T06:56:22.456Z"
   },
   {
    "duration": 9,
    "start_time": "2022-09-19T06:56:22.522Z"
   },
   {
    "duration": 90,
    "start_time": "2022-09-19T06:56:22.533Z"
   },
   {
    "duration": 49,
    "start_time": "2022-09-19T06:56:49.736Z"
   },
   {
    "duration": 63,
    "start_time": "2022-09-19T06:57:04.819Z"
   },
   {
    "duration": 62,
    "start_time": "2022-09-19T06:57:16.942Z"
   },
   {
    "duration": 60,
    "start_time": "2022-09-19T06:57:57.741Z"
   },
   {
    "duration": 74,
    "start_time": "2022-09-19T06:58:04.931Z"
   },
   {
    "duration": 42,
    "start_time": "2022-09-19T06:58:09.121Z"
   },
   {
    "duration": 1052,
    "start_time": "2022-09-19T06:58:29.501Z"
   },
   {
    "duration": 11,
    "start_time": "2022-09-19T06:58:37.359Z"
   },
   {
    "duration": 17,
    "start_time": "2022-09-19T07:04:54.035Z"
   },
   {
    "duration": 6,
    "start_time": "2022-09-19T07:06:07.191Z"
   },
   {
    "duration": 14,
    "start_time": "2022-09-19T07:06:53.947Z"
   },
   {
    "duration": 14,
    "start_time": "2022-09-19T07:07:11.355Z"
   },
   {
    "duration": 28,
    "start_time": "2022-09-19T07:07:20.396Z"
   },
   {
    "duration": 27,
    "start_time": "2022-09-19T07:11:31.145Z"
   },
   {
    "duration": 9,
    "start_time": "2022-09-19T07:11:46.838Z"
   },
   {
    "duration": 14,
    "start_time": "2022-09-19T07:11:53.695Z"
   },
   {
    "duration": 4,
    "start_time": "2022-09-19T07:12:01.290Z"
   },
   {
    "duration": 26,
    "start_time": "2022-09-19T07:12:01.296Z"
   },
   {
    "duration": 16,
    "start_time": "2022-09-19T07:12:01.325Z"
   },
   {
    "duration": 85,
    "start_time": "2022-09-19T07:12:01.343Z"
   },
   {
    "duration": 9,
    "start_time": "2022-09-19T07:12:01.430Z"
   },
   {
    "duration": 55,
    "start_time": "2022-09-19T07:12:01.440Z"
   },
   {
    "duration": 116,
    "start_time": "2022-09-19T07:12:18.217Z"
   },
   {
    "duration": 20,
    "start_time": "2022-09-19T07:12:21.465Z"
   },
   {
    "duration": 3,
    "start_time": "2022-09-19T07:12:31.789Z"
   },
   {
    "duration": 9,
    "start_time": "2022-09-19T07:12:31.795Z"
   },
   {
    "duration": 18,
    "start_time": "2022-09-19T07:12:31.806Z"
   },
   {
    "duration": 69,
    "start_time": "2022-09-19T07:12:31.826Z"
   },
   {
    "duration": 9,
    "start_time": "2022-09-19T07:12:31.898Z"
   },
   {
    "duration": 21,
    "start_time": "2022-09-19T07:12:31.908Z"
   },
   {
    "duration": 60,
    "start_time": "2022-09-19T07:13:24.601Z"
   },
   {
    "duration": 83,
    "start_time": "2022-09-19T07:13:30.356Z"
   },
   {
    "duration": 65,
    "start_time": "2022-09-19T07:13:34.553Z"
   },
   {
    "duration": 17,
    "start_time": "2022-09-19T07:19:40.611Z"
   },
   {
    "duration": 4,
    "start_time": "2022-09-19T07:21:49.924Z"
   },
   {
    "duration": 7,
    "start_time": "2022-09-19T07:21:49.931Z"
   },
   {
    "duration": 9,
    "start_time": "2022-09-19T07:21:49.939Z"
   },
   {
    "duration": 80,
    "start_time": "2022-09-19T07:21:49.950Z"
   },
   {
    "duration": 11,
    "start_time": "2022-09-19T07:21:50.032Z"
   },
   {
    "duration": 43,
    "start_time": "2022-09-19T07:21:50.045Z"
   },
   {
    "duration": 4,
    "start_time": "2022-09-19T07:25:02.926Z"
   },
   {
    "duration": 50,
    "start_time": "2022-09-19T07:25:02.932Z"
   },
   {
    "duration": 9,
    "start_time": "2022-09-19T07:25:02.984Z"
   },
   {
    "duration": 93,
    "start_time": "2022-09-19T07:25:02.995Z"
   },
   {
    "duration": 8,
    "start_time": "2022-09-19T07:25:03.090Z"
   },
   {
    "duration": 36,
    "start_time": "2022-09-19T07:25:03.099Z"
   },
   {
    "duration": 9,
    "start_time": "2022-09-19T07:26:09.751Z"
   },
   {
    "duration": 6,
    "start_time": "2022-09-19T07:26:42.361Z"
   },
   {
    "duration": 6,
    "start_time": "2022-09-19T07:30:41.999Z"
   },
   {
    "duration": 4,
    "start_time": "2022-09-19T07:30:54.436Z"
   },
   {
    "duration": 10,
    "start_time": "2022-09-19T07:30:54.442Z"
   },
   {
    "duration": 11,
    "start_time": "2022-09-19T07:30:54.453Z"
   },
   {
    "duration": 59,
    "start_time": "2022-09-19T07:30:54.466Z"
   },
   {
    "duration": 8,
    "start_time": "2022-09-19T07:30:54.527Z"
   },
   {
    "duration": 10,
    "start_time": "2022-09-19T07:30:54.537Z"
   },
   {
    "duration": 19,
    "start_time": "2022-09-19T07:30:54.549Z"
   },
   {
    "duration": 3,
    "start_time": "2022-09-19T07:31:40.604Z"
   },
   {
    "duration": 19,
    "start_time": "2022-09-19T07:31:40.609Z"
   },
   {
    "duration": 7,
    "start_time": "2022-09-19T07:31:40.630Z"
   },
   {
    "duration": 64,
    "start_time": "2022-09-19T07:31:40.639Z"
   },
   {
    "duration": 10,
    "start_time": "2022-09-19T07:31:40.705Z"
   },
   {
    "duration": 20,
    "start_time": "2022-09-19T07:31:40.717Z"
   },
   {
    "duration": 15,
    "start_time": "2022-09-19T07:31:40.739Z"
   },
   {
    "duration": 15,
    "start_time": "2022-09-19T07:31:53.724Z"
   },
   {
    "duration": 19,
    "start_time": "2022-09-19T07:33:02.395Z"
   },
   {
    "duration": 23,
    "start_time": "2022-09-19T07:33:25.657Z"
   },
   {
    "duration": 16,
    "start_time": "2022-09-19T07:33:51.645Z"
   },
   {
    "duration": 16,
    "start_time": "2022-09-19T07:34:00.624Z"
   },
   {
    "duration": 16,
    "start_time": "2022-09-19T07:36:14.247Z"
   },
   {
    "duration": 4,
    "start_time": "2022-09-19T07:36:33.796Z"
   },
   {
    "duration": 6,
    "start_time": "2022-09-19T07:36:33.803Z"
   },
   {
    "duration": 5,
    "start_time": "2022-09-19T07:36:33.811Z"
   },
   {
    "duration": 82,
    "start_time": "2022-09-19T07:36:33.817Z"
   },
   {
    "duration": 11,
    "start_time": "2022-09-19T07:36:33.902Z"
   },
   {
    "duration": 12,
    "start_time": "2022-09-19T07:36:33.915Z"
   },
   {
    "duration": 24,
    "start_time": "2022-09-19T07:36:33.947Z"
   },
   {
    "duration": 4,
    "start_time": "2022-09-19T07:46:05.403Z"
   },
   {
    "duration": 26,
    "start_time": "2022-09-19T07:46:05.409Z"
   },
   {
    "duration": 20,
    "start_time": "2022-09-19T07:46:05.438Z"
   },
   {
    "duration": 68,
    "start_time": "2022-09-19T07:46:05.460Z"
   },
   {
    "duration": 10,
    "start_time": "2022-09-19T07:46:05.613Z"
   },
   {
    "duration": 12,
    "start_time": "2022-09-19T07:46:05.718Z"
   },
   {
    "duration": 19,
    "start_time": "2022-09-19T07:46:05.732Z"
   },
   {
    "duration": 9,
    "start_time": "2022-09-19T07:46:05.840Z"
   },
   {
    "duration": 41,
    "start_time": "2022-09-19T07:46:05.851Z"
   },
   {
    "duration": 17,
    "start_time": "2022-09-19T07:47:15.983Z"
   },
   {
    "duration": 18,
    "start_time": "2022-09-19T07:47:20.682Z"
   },
   {
    "duration": 19,
    "start_time": "2022-09-19T07:47:42.662Z"
   },
   {
    "duration": 5,
    "start_time": "2022-09-19T07:47:47.740Z"
   },
   {
    "duration": 10,
    "start_time": "2022-09-19T07:47:47.747Z"
   },
   {
    "duration": 22,
    "start_time": "2022-09-19T07:47:47.759Z"
   },
   {
    "duration": 92,
    "start_time": "2022-09-19T07:47:47.783Z"
   },
   {
    "duration": 12,
    "start_time": "2022-09-19T07:47:47.878Z"
   },
   {
    "duration": 25,
    "start_time": "2022-09-19T07:47:47.892Z"
   },
   {
    "duration": 24,
    "start_time": "2022-09-19T07:47:47.919Z"
   },
   {
    "duration": 41,
    "start_time": "2022-09-19T07:47:47.944Z"
   },
   {
    "duration": 8,
    "start_time": "2022-09-19T07:48:09.203Z"
   },
   {
    "duration": 8,
    "start_time": "2022-09-19T07:48:17.399Z"
   },
   {
    "duration": 24,
    "start_time": "2022-09-19T07:48:20.427Z"
   },
   {
    "duration": 4,
    "start_time": "2022-09-19T07:48:27.540Z"
   },
   {
    "duration": 16,
    "start_time": "2022-09-19T07:48:27.546Z"
   },
   {
    "duration": 10,
    "start_time": "2022-09-19T07:48:27.564Z"
   },
   {
    "duration": 83,
    "start_time": "2022-09-19T07:48:27.576Z"
   },
   {
    "duration": 11,
    "start_time": "2022-09-19T07:48:27.661Z"
   },
   {
    "duration": 29,
    "start_time": "2022-09-19T07:48:27.674Z"
   },
   {
    "duration": 17,
    "start_time": "2022-09-19T07:48:27.705Z"
   },
   {
    "duration": 21,
    "start_time": "2022-09-19T07:48:27.724Z"
   },
   {
    "duration": 36,
    "start_time": "2022-09-19T07:48:27.748Z"
   },
   {
    "duration": 5,
    "start_time": "2022-09-19T07:49:46.085Z"
   },
   {
    "duration": 17,
    "start_time": "2022-09-19T07:49:46.092Z"
   },
   {
    "duration": 7,
    "start_time": "2022-09-19T07:49:46.111Z"
   },
   {
    "duration": 87,
    "start_time": "2022-09-19T07:49:46.120Z"
   },
   {
    "duration": 12,
    "start_time": "2022-09-19T07:49:46.210Z"
   },
   {
    "duration": 37,
    "start_time": "2022-09-19T07:49:46.224Z"
   },
   {
    "duration": 41,
    "start_time": "2022-09-19T07:49:46.264Z"
   },
   {
    "duration": 86,
    "start_time": "2022-09-19T07:49:46.308Z"
   },
   {
    "duration": 0,
    "start_time": "2022-09-19T07:49:46.403Z"
   },
   {
    "duration": 23,
    "start_time": "2022-09-19T07:50:00.192Z"
   },
   {
    "duration": 6,
    "start_time": "2022-09-19T07:50:10.116Z"
   },
   {
    "duration": 5,
    "start_time": "2022-09-19T07:50:15.991Z"
   },
   {
    "duration": 16,
    "start_time": "2022-09-19T07:50:15.999Z"
   },
   {
    "duration": 8,
    "start_time": "2022-09-19T07:50:16.017Z"
   },
   {
    "duration": 86,
    "start_time": "2022-09-19T07:50:16.027Z"
   },
   {
    "duration": 10,
    "start_time": "2022-09-19T07:50:16.115Z"
   },
   {
    "duration": 21,
    "start_time": "2022-09-19T07:50:16.128Z"
   },
   {
    "duration": 22,
    "start_time": "2022-09-19T07:50:16.151Z"
   },
   {
    "duration": 16,
    "start_time": "2022-09-19T07:50:16.175Z"
   },
   {
    "duration": 45,
    "start_time": "2022-09-19T07:50:16.193Z"
   },
   {
    "duration": 2078,
    "start_time": "2022-09-19T07:50:50.328Z"
   },
   {
    "duration": 474,
    "start_time": "2022-09-19T07:59:04.652Z"
   },
   {
    "duration": 1632,
    "start_time": "2022-09-19T07:59:23.062Z"
   },
   {
    "duration": 2087,
    "start_time": "2022-09-19T08:01:06.428Z"
   },
   {
    "duration": 191,
    "start_time": "2022-09-19T08:01:12.615Z"
   },
   {
    "duration": 90,
    "start_time": "2022-09-19T08:01:32.212Z"
   },
   {
    "duration": 1739,
    "start_time": "2022-09-19T08:01:59.544Z"
   },
   {
    "duration": 1666,
    "start_time": "2022-09-19T08:02:11.205Z"
   },
   {
    "duration": 1420,
    "start_time": "2022-09-19T08:03:33.647Z"
   },
   {
    "duration": 391,
    "start_time": "2022-09-19T08:03:38.732Z"
   },
   {
    "duration": 271,
    "start_time": "2022-09-19T08:03:45.016Z"
   },
   {
    "duration": 1211,
    "start_time": "2022-09-19T08:03:54.382Z"
   },
   {
    "duration": 1257,
    "start_time": "2022-09-19T08:04:01.184Z"
   },
   {
    "duration": 1916,
    "start_time": "2022-09-19T08:04:15.816Z"
   },
   {
    "duration": 97,
    "start_time": "2022-09-19T08:04:32.711Z"
   },
   {
    "duration": 279,
    "start_time": "2022-09-19T08:07:10.328Z"
   },
   {
    "duration": 9,
    "start_time": "2022-09-19T08:15:19.453Z"
   },
   {
    "duration": 20,
    "start_time": "2022-09-19T08:15:23.212Z"
   },
   {
    "duration": 32,
    "start_time": "2022-09-19T08:15:28.952Z"
   },
   {
    "duration": 26,
    "start_time": "2022-09-19T08:15:40.194Z"
   },
   {
    "duration": 29,
    "start_time": "2022-09-19T08:15:50.151Z"
   },
   {
    "duration": 20,
    "start_time": "2022-09-19T08:19:20.503Z"
   },
   {
    "duration": 2500,
    "start_time": "2022-09-19T08:19:37.247Z"
   },
   {
    "duration": 2569,
    "start_time": "2022-09-19T08:20:10.195Z"
   },
   {
    "duration": 4191,
    "start_time": "2022-09-19T08:20:35.430Z"
   },
   {
    "duration": 2030,
    "start_time": "2022-09-19T08:20:49.527Z"
   },
   {
    "duration": 298,
    "start_time": "2022-09-19T08:21:32.056Z"
   },
   {
    "duration": 228,
    "start_time": "2022-09-19T08:22:55.153Z"
   },
   {
    "duration": 290,
    "start_time": "2022-09-19T08:23:03.833Z"
   },
   {
    "duration": 331,
    "start_time": "2022-09-19T08:23:13.595Z"
   },
   {
    "duration": 289,
    "start_time": "2022-09-19T08:23:39.945Z"
   },
   {
    "duration": 288,
    "start_time": "2022-09-19T08:23:43.582Z"
   },
   {
    "duration": 284,
    "start_time": "2022-09-19T08:23:59.854Z"
   },
   {
    "duration": 5,
    "start_time": "2022-09-19T08:28:58.289Z"
   },
   {
    "duration": 1911,
    "start_time": "2022-09-19T08:29:12.690Z"
   },
   {
    "duration": 1576,
    "start_time": "2022-09-19T08:30:05.219Z"
   },
   {
    "duration": 1643,
    "start_time": "2022-09-19T08:30:57.691Z"
   },
   {
    "duration": 9,
    "start_time": "2022-09-19T13:59:35.429Z"
   },
   {
    "duration": 3,
    "start_time": "2022-09-19T14:09:18.500Z"
   },
   {
    "duration": 8,
    "start_time": "2022-09-19T14:09:18.504Z"
   },
   {
    "duration": 13,
    "start_time": "2022-09-19T14:09:18.514Z"
   },
   {
    "duration": 58,
    "start_time": "2022-09-19T14:09:18.528Z"
   },
   {
    "duration": 8,
    "start_time": "2022-09-19T14:09:18.621Z"
   },
   {
    "duration": 17,
    "start_time": "2022-09-19T14:09:18.631Z"
   },
   {
    "duration": 14,
    "start_time": "2022-09-19T14:09:18.649Z"
   },
   {
    "duration": 13,
    "start_time": "2022-09-19T14:09:18.664Z"
   },
   {
    "duration": 1525,
    "start_time": "2022-09-19T14:09:18.761Z"
   },
   {
    "duration": 1285,
    "start_time": "2022-09-19T14:09:20.288Z"
   },
   {
    "duration": 1586,
    "start_time": "2022-09-19T14:09:21.575Z"
   },
   {
    "duration": 4,
    "start_time": "2022-09-19T14:09:23.163Z"
   },
   {
    "duration": 1710,
    "start_time": "2022-09-19T14:09:23.169Z"
   },
   {
    "duration": 208,
    "start_time": "2022-09-19T14:09:24.880Z"
   },
   {
    "duration": 58,
    "start_time": "2022-09-19T14:09:25.089Z"
   },
   {
    "duration": 9,
    "start_time": "2022-09-19T14:09:25.148Z"
   },
   {
    "duration": 10,
    "start_time": "2022-09-19T14:10:51.633Z"
   },
   {
    "duration": 0,
    "start_time": "2022-09-19T14:10:51.644Z"
   },
   {
    "duration": 0,
    "start_time": "2022-09-19T14:10:51.645Z"
   },
   {
    "duration": 0,
    "start_time": "2022-09-19T14:10:51.647Z"
   },
   {
    "duration": 0,
    "start_time": "2022-09-19T14:10:51.648Z"
   },
   {
    "duration": 0,
    "start_time": "2022-09-19T14:10:51.649Z"
   },
   {
    "duration": 0,
    "start_time": "2022-09-19T14:10:51.650Z"
   },
   {
    "duration": 17,
    "start_time": "2022-09-19T14:10:51.652Z"
   },
   {
    "duration": 0,
    "start_time": "2022-09-19T14:10:51.671Z"
   },
   {
    "duration": 0,
    "start_time": "2022-09-19T14:10:51.672Z"
   },
   {
    "duration": 0,
    "start_time": "2022-09-19T14:10:51.673Z"
   },
   {
    "duration": 0,
    "start_time": "2022-09-19T14:10:51.674Z"
   },
   {
    "duration": 0,
    "start_time": "2022-09-19T14:10:51.676Z"
   },
   {
    "duration": 0,
    "start_time": "2022-09-19T14:10:51.676Z"
   },
   {
    "duration": 0,
    "start_time": "2022-09-19T14:10:51.678Z"
   },
   {
    "duration": 0,
    "start_time": "2022-09-19T14:10:51.679Z"
   },
   {
    "duration": 10,
    "start_time": "2022-09-19T14:11:05.816Z"
   },
   {
    "duration": 0,
    "start_time": "2022-09-19T14:11:05.827Z"
   },
   {
    "duration": 0,
    "start_time": "2022-09-19T14:11:05.828Z"
   },
   {
    "duration": 0,
    "start_time": "2022-09-19T14:11:05.829Z"
   },
   {
    "duration": 0,
    "start_time": "2022-09-19T14:11:05.831Z"
   },
   {
    "duration": 0,
    "start_time": "2022-09-19T14:11:05.832Z"
   },
   {
    "duration": 0,
    "start_time": "2022-09-19T14:11:05.833Z"
   },
   {
    "duration": 12,
    "start_time": "2022-09-19T14:11:05.835Z"
   },
   {
    "duration": 0,
    "start_time": "2022-09-19T14:11:05.848Z"
   },
   {
    "duration": 0,
    "start_time": "2022-09-19T14:11:05.850Z"
   },
   {
    "duration": 0,
    "start_time": "2022-09-19T14:11:05.851Z"
   },
   {
    "duration": 0,
    "start_time": "2022-09-19T14:11:05.852Z"
   },
   {
    "duration": 0,
    "start_time": "2022-09-19T14:11:05.853Z"
   },
   {
    "duration": 0,
    "start_time": "2022-09-19T14:11:05.854Z"
   },
   {
    "duration": 0,
    "start_time": "2022-09-19T14:11:05.855Z"
   },
   {
    "duration": 0,
    "start_time": "2022-09-19T14:11:05.856Z"
   },
   {
    "duration": 1410,
    "start_time": "2022-09-19T14:11:30.620Z"
   },
   {
    "duration": 0,
    "start_time": "2022-09-19T14:11:32.032Z"
   },
   {
    "duration": 0,
    "start_time": "2022-09-19T14:11:32.033Z"
   },
   {
    "duration": 0,
    "start_time": "2022-09-19T14:11:32.034Z"
   },
   {
    "duration": 0,
    "start_time": "2022-09-19T14:11:32.035Z"
   },
   {
    "duration": 0,
    "start_time": "2022-09-19T14:11:32.036Z"
   },
   {
    "duration": 0,
    "start_time": "2022-09-19T14:11:32.037Z"
   },
   {
    "duration": 0,
    "start_time": "2022-09-19T14:11:32.047Z"
   },
   {
    "duration": 0,
    "start_time": "2022-09-19T14:11:32.047Z"
   },
   {
    "duration": 0,
    "start_time": "2022-09-19T14:11:32.049Z"
   },
   {
    "duration": 0,
    "start_time": "2022-09-19T14:11:32.049Z"
   },
   {
    "duration": 0,
    "start_time": "2022-09-19T14:11:32.050Z"
   },
   {
    "duration": 0,
    "start_time": "2022-09-19T14:11:32.051Z"
   },
   {
    "duration": 0,
    "start_time": "2022-09-19T14:11:32.052Z"
   },
   {
    "duration": 0,
    "start_time": "2022-09-19T14:11:32.053Z"
   },
   {
    "duration": 0,
    "start_time": "2022-09-19T14:11:32.054Z"
   },
   {
    "duration": 10,
    "start_time": "2022-09-19T14:12:10.554Z"
   },
   {
    "duration": 0,
    "start_time": "2022-09-19T14:12:10.565Z"
   },
   {
    "duration": 10,
    "start_time": "2022-09-19T14:13:24.733Z"
   },
   {
    "duration": 45,
    "start_time": "2022-09-19T14:13:40.734Z"
   },
   {
    "duration": 1455,
    "start_time": "2022-09-19T14:13:44.986Z"
   },
   {
    "duration": 10,
    "start_time": "2022-09-19T14:14:29.545Z"
   },
   {
    "duration": 9,
    "start_time": "2022-09-19T14:14:41.798Z"
   },
   {
    "duration": 3,
    "start_time": "2022-09-19T14:14:52.070Z"
   },
   {
    "duration": 59,
    "start_time": "2022-09-19T14:15:26.254Z"
   },
   {
    "duration": 3,
    "start_time": "2022-09-19T14:15:31.138Z"
   },
   {
    "duration": 4,
    "start_time": "2022-09-19T14:15:38.451Z"
   },
   {
    "duration": 9,
    "start_time": "2022-09-19T14:15:38.457Z"
   },
   {
    "duration": 6,
    "start_time": "2022-09-19T14:15:38.467Z"
   },
   {
    "duration": 65,
    "start_time": "2022-09-19T14:15:38.474Z"
   },
   {
    "duration": 7,
    "start_time": "2022-09-19T14:15:38.540Z"
   },
   {
    "duration": 14,
    "start_time": "2022-09-19T14:15:38.549Z"
   },
   {
    "duration": 7,
    "start_time": "2022-09-19T14:15:38.564Z"
   },
   {
    "duration": 6,
    "start_time": "2022-09-19T14:15:38.573Z"
   },
   {
    "duration": 1538,
    "start_time": "2022-09-19T14:15:38.580Z"
   },
   {
    "duration": 278,
    "start_time": "2022-09-19T14:15:40.120Z"
   },
   {
    "duration": 1641,
    "start_time": "2022-09-19T14:15:40.400Z"
   },
   {
    "duration": 5,
    "start_time": "2022-09-19T14:15:42.043Z"
   },
   {
    "duration": 1505,
    "start_time": "2022-09-19T14:15:42.050Z"
   },
   {
    "duration": 211,
    "start_time": "2022-09-19T14:15:43.556Z"
   },
   {
    "duration": 52,
    "start_time": "2022-09-19T14:15:43.768Z"
   },
   {
    "duration": 525,
    "start_time": "2022-09-19T14:15:43.822Z"
   },
   {
    "duration": 485,
    "start_time": "2022-09-19T14:16:08.566Z"
   },
   {
    "duration": 3,
    "start_time": "2022-09-19T14:27:55.306Z"
   },
   {
    "duration": 16,
    "start_time": "2022-09-19T14:27:55.311Z"
   },
   {
    "duration": 9,
    "start_time": "2022-09-19T14:27:55.328Z"
   },
   {
    "duration": 64,
    "start_time": "2022-09-19T14:27:55.339Z"
   },
   {
    "duration": 9,
    "start_time": "2022-09-19T14:27:55.405Z"
   },
   {
    "duration": 16,
    "start_time": "2022-09-19T14:27:55.416Z"
   },
   {
    "duration": 11,
    "start_time": "2022-09-19T14:27:55.434Z"
   },
   {
    "duration": 11,
    "start_time": "2022-09-19T14:27:55.447Z"
   },
   {
    "duration": 1546,
    "start_time": "2022-09-19T14:27:55.460Z"
   },
   {
    "duration": 456,
    "start_time": "2022-09-19T14:27:57.008Z"
   },
   {
    "duration": 1709,
    "start_time": "2022-09-19T14:27:57.466Z"
   },
   {
    "duration": 5,
    "start_time": "2022-09-19T14:27:59.176Z"
   },
   {
    "duration": 1650,
    "start_time": "2022-09-19T14:27:59.183Z"
   },
   {
    "duration": 206,
    "start_time": "2022-09-19T14:28:00.834Z"
   },
   {
    "duration": 67,
    "start_time": "2022-09-19T14:28:01.042Z"
   },
   {
    "duration": 538,
    "start_time": "2022-09-19T14:28:01.111Z"
   },
   {
    "duration": 450,
    "start_time": "2022-09-19T14:28:07.199Z"
   },
   {
    "duration": 5156,
    "start_time": "2022-09-19T14:31:32.195Z"
   },
   {
    "duration": 11,
    "start_time": "2022-09-19T14:34:11.385Z"
   },
   {
    "duration": 3,
    "start_time": "2022-09-19T14:34:17.642Z"
   },
   {
    "duration": 16,
    "start_time": "2022-09-19T14:34:17.647Z"
   },
   {
    "duration": 26,
    "start_time": "2022-09-19T14:34:17.664Z"
   },
   {
    "duration": 68,
    "start_time": "2022-09-19T14:34:17.692Z"
   },
   {
    "duration": 8,
    "start_time": "2022-09-19T14:34:17.761Z"
   },
   {
    "duration": 16,
    "start_time": "2022-09-19T14:34:17.771Z"
   },
   {
    "duration": 16,
    "start_time": "2022-09-19T14:34:17.788Z"
   },
   {
    "duration": 22,
    "start_time": "2022-09-19T14:34:17.806Z"
   },
   {
    "duration": 1524,
    "start_time": "2022-09-19T14:34:17.829Z"
   },
   {
    "duration": 271,
    "start_time": "2022-09-19T14:34:19.355Z"
   },
   {
    "duration": 1565,
    "start_time": "2022-09-19T14:34:19.627Z"
   },
   {
    "duration": 5,
    "start_time": "2022-09-19T14:34:21.193Z"
   },
   {
    "duration": 1521,
    "start_time": "2022-09-19T14:34:21.199Z"
   },
   {
    "duration": 169,
    "start_time": "2022-09-19T14:34:22.722Z"
   },
   {
    "duration": 45,
    "start_time": "2022-09-19T14:34:22.893Z"
   },
   {
    "duration": 14,
    "start_time": "2022-09-19T14:34:22.940Z"
   },
   {
    "duration": 0,
    "start_time": "2022-09-19T14:34:22.956Z"
   },
   {
    "duration": 4,
    "start_time": "2022-09-19T14:35:51.702Z"
   },
   {
    "duration": 11,
    "start_time": "2022-09-19T14:35:51.708Z"
   },
   {
    "duration": 20,
    "start_time": "2022-09-19T14:35:51.720Z"
   },
   {
    "duration": 64,
    "start_time": "2022-09-19T14:35:51.742Z"
   },
   {
    "duration": 7,
    "start_time": "2022-09-19T14:35:51.808Z"
   },
   {
    "duration": 16,
    "start_time": "2022-09-19T14:35:51.816Z"
   },
   {
    "duration": 11,
    "start_time": "2022-09-19T14:35:51.833Z"
   },
   {
    "duration": 9,
    "start_time": "2022-09-19T14:35:51.845Z"
   },
   {
    "duration": 1524,
    "start_time": "2022-09-19T14:35:51.855Z"
   },
   {
    "duration": 279,
    "start_time": "2022-09-19T14:35:53.381Z"
   },
   {
    "duration": 1609,
    "start_time": "2022-09-19T14:35:53.661Z"
   },
   {
    "duration": 5,
    "start_time": "2022-09-19T14:35:55.272Z"
   },
   {
    "duration": 1650,
    "start_time": "2022-09-19T14:35:55.278Z"
   },
   {
    "duration": 181,
    "start_time": "2022-09-19T14:35:56.929Z"
   },
   {
    "duration": 58,
    "start_time": "2022-09-19T14:35:57.112Z"
   },
   {
    "duration": 146,
    "start_time": "2022-09-19T14:35:57.172Z"
   },
   {
    "duration": 0,
    "start_time": "2022-09-19T14:35:57.321Z"
   },
   {
    "duration": 4,
    "start_time": "2022-09-19T14:37:15.298Z"
   },
   {
    "duration": 11,
    "start_time": "2022-09-19T14:37:15.304Z"
   },
   {
    "duration": 9,
    "start_time": "2022-09-19T14:37:15.316Z"
   },
   {
    "duration": 65,
    "start_time": "2022-09-19T14:37:15.327Z"
   },
   {
    "duration": 12,
    "start_time": "2022-09-19T14:37:15.394Z"
   },
   {
    "duration": 27,
    "start_time": "2022-09-19T14:37:15.407Z"
   },
   {
    "duration": 9,
    "start_time": "2022-09-19T14:37:15.436Z"
   },
   {
    "duration": 16,
    "start_time": "2022-09-19T14:37:15.447Z"
   },
   {
    "duration": 1638,
    "start_time": "2022-09-19T14:37:15.465Z"
   },
   {
    "duration": 283,
    "start_time": "2022-09-19T14:37:17.105Z"
   },
   {
    "duration": 1638,
    "start_time": "2022-09-19T14:37:17.390Z"
   },
   {
    "duration": 5,
    "start_time": "2022-09-19T14:37:19.029Z"
   },
   {
    "duration": 1469,
    "start_time": "2022-09-19T14:37:19.035Z"
   },
   {
    "duration": 178,
    "start_time": "2022-09-19T14:37:20.506Z"
   },
   {
    "duration": 63,
    "start_time": "2022-09-19T14:37:20.685Z"
   },
   {
    "duration": 19,
    "start_time": "2022-09-19T14:37:20.750Z"
   },
   {
    "duration": 14,
    "start_time": "2022-09-19T14:37:20.770Z"
   },
   {
    "duration": 3,
    "start_time": "2022-09-19T14:37:36.735Z"
   },
   {
    "duration": 9,
    "start_time": "2022-09-19T14:37:36.740Z"
   },
   {
    "duration": 18,
    "start_time": "2022-09-19T14:37:36.751Z"
   },
   {
    "duration": 60,
    "start_time": "2022-09-19T14:37:36.771Z"
   },
   {
    "duration": 9,
    "start_time": "2022-09-19T14:37:36.832Z"
   },
   {
    "duration": 21,
    "start_time": "2022-09-19T14:37:36.842Z"
   },
   {
    "duration": 12,
    "start_time": "2022-09-19T14:37:36.865Z"
   },
   {
    "duration": 30,
    "start_time": "2022-09-19T14:37:36.878Z"
   },
   {
    "duration": 1537,
    "start_time": "2022-09-19T14:37:36.910Z"
   },
   {
    "duration": 270,
    "start_time": "2022-09-19T14:37:38.449Z"
   },
   {
    "duration": 1628,
    "start_time": "2022-09-19T14:37:38.721Z"
   },
   {
    "duration": 4,
    "start_time": "2022-09-19T14:37:40.351Z"
   },
   {
    "duration": 1576,
    "start_time": "2022-09-19T14:37:40.357Z"
   },
   {
    "duration": 181,
    "start_time": "2022-09-19T14:37:41.934Z"
   },
   {
    "duration": 56,
    "start_time": "2022-09-19T14:37:42.117Z"
   },
   {
    "duration": 23,
    "start_time": "2022-09-19T14:37:42.174Z"
   },
   {
    "duration": 1975,
    "start_time": "2022-09-19T14:37:42.198Z"
   },
   {
    "duration": 4,
    "start_time": "2022-09-19T15:37:43.719Z"
   },
   {
    "duration": 8,
    "start_time": "2022-09-19T15:37:43.725Z"
   },
   {
    "duration": 4,
    "start_time": "2022-09-19T15:37:43.735Z"
   },
   {
    "duration": 60,
    "start_time": "2022-09-19T15:37:43.742Z"
   },
   {
    "duration": 10,
    "start_time": "2022-09-19T15:37:43.804Z"
   },
   {
    "duration": 10,
    "start_time": "2022-09-19T15:37:43.816Z"
   },
   {
    "duration": 17,
    "start_time": "2022-09-19T15:37:43.829Z"
   },
   {
    "duration": 9,
    "start_time": "2022-09-19T15:37:43.848Z"
   },
   {
    "duration": 1605,
    "start_time": "2022-09-19T15:37:43.859Z"
   },
   {
    "duration": 317,
    "start_time": "2022-09-19T15:37:45.467Z"
   },
   {
    "duration": 1879,
    "start_time": "2022-09-19T15:37:45.786Z"
   },
   {
    "duration": 5,
    "start_time": "2022-09-19T15:37:47.667Z"
   },
   {
    "duration": 1533,
    "start_time": "2022-09-19T15:37:47.673Z"
   },
   {
    "duration": 193,
    "start_time": "2022-09-19T15:37:49.207Z"
   },
   {
    "duration": 54,
    "start_time": "2022-09-19T15:37:49.403Z"
   },
   {
    "duration": 21,
    "start_time": "2022-09-19T15:37:49.461Z"
   },
   {
    "duration": 2586,
    "start_time": "2022-09-19T15:37:49.483Z"
   },
   {
    "duration": 206,
    "start_time": "2022-09-19T15:41:28.757Z"
   },
   {
    "duration": 2285,
    "start_time": "2022-09-19T15:42:10.997Z"
   },
   {
    "duration": 11,
    "start_time": "2022-09-19T15:43:37.073Z"
   },
   {
    "duration": 5,
    "start_time": "2022-09-19T15:45:48.333Z"
   },
   {
    "duration": 9,
    "start_time": "2022-09-19T15:45:48.340Z"
   },
   {
    "duration": 6,
    "start_time": "2022-09-19T15:45:48.351Z"
   },
   {
    "duration": 62,
    "start_time": "2022-09-19T15:45:48.359Z"
   },
   {
    "duration": 8,
    "start_time": "2022-09-19T15:45:48.423Z"
   },
   {
    "duration": 14,
    "start_time": "2022-09-19T15:45:48.433Z"
   },
   {
    "duration": 8,
    "start_time": "2022-09-19T15:45:48.448Z"
   },
   {
    "duration": 10,
    "start_time": "2022-09-19T15:45:48.458Z"
   },
   {
    "duration": 1502,
    "start_time": "2022-09-19T15:45:48.470Z"
   },
   {
    "duration": 289,
    "start_time": "2022-09-19T15:45:49.976Z"
   },
   {
    "duration": 1649,
    "start_time": "2022-09-19T15:45:50.266Z"
   },
   {
    "duration": 5,
    "start_time": "2022-09-19T15:45:51.917Z"
   },
   {
    "duration": 1593,
    "start_time": "2022-09-19T15:45:51.923Z"
   },
   {
    "duration": 193,
    "start_time": "2022-09-19T15:45:53.518Z"
   },
   {
    "duration": 54,
    "start_time": "2022-09-19T15:45:53.713Z"
   },
   {
    "duration": 4679,
    "start_time": "2022-09-19T15:45:53.769Z"
   },
   {
    "duration": 46,
    "start_time": "2022-09-19T15:47:31.668Z"
   },
   {
    "duration": 5,
    "start_time": "2022-09-19T15:47:36.431Z"
   },
   {
    "duration": 8,
    "start_time": "2022-09-19T15:47:36.438Z"
   },
   {
    "duration": 11,
    "start_time": "2022-09-19T15:47:36.448Z"
   },
   {
    "duration": 65,
    "start_time": "2022-09-19T15:47:36.461Z"
   },
   {
    "duration": 8,
    "start_time": "2022-09-19T15:47:36.528Z"
   },
   {
    "duration": 11,
    "start_time": "2022-09-19T15:47:36.538Z"
   },
   {
    "duration": 8,
    "start_time": "2022-09-19T15:47:36.550Z"
   },
   {
    "duration": 11,
    "start_time": "2022-09-19T15:47:36.560Z"
   },
   {
    "duration": 1662,
    "start_time": "2022-09-19T15:47:36.573Z"
   },
   {
    "duration": 271,
    "start_time": "2022-09-19T15:47:38.238Z"
   },
   {
    "duration": 1669,
    "start_time": "2022-09-19T15:47:38.511Z"
   },
   {
    "duration": 4,
    "start_time": "2022-09-19T15:47:40.182Z"
   },
   {
    "duration": 1614,
    "start_time": "2022-09-19T15:47:40.188Z"
   },
   {
    "duration": 199,
    "start_time": "2022-09-19T15:47:41.803Z"
   },
   {
    "duration": 54,
    "start_time": "2022-09-19T15:47:42.004Z"
   },
   {
    "duration": 3887,
    "start_time": "2022-09-19T15:47:42.060Z"
   },
   {
    "duration": 4,
    "start_time": "2022-09-19T15:48:57.538Z"
   },
   {
    "duration": 5,
    "start_time": "2022-09-19T15:48:57.545Z"
   },
   {
    "duration": 6,
    "start_time": "2022-09-19T15:48:57.552Z"
   },
   {
    "duration": 78,
    "start_time": "2022-09-19T15:48:57.560Z"
   },
   {
    "duration": 10,
    "start_time": "2022-09-19T15:48:57.640Z"
   },
   {
    "duration": 21,
    "start_time": "2022-09-19T15:48:57.652Z"
   },
   {
    "duration": 12,
    "start_time": "2022-09-19T15:48:57.675Z"
   },
   {
    "duration": 10,
    "start_time": "2022-09-19T15:48:57.688Z"
   },
   {
    "duration": 1676,
    "start_time": "2022-09-19T15:48:57.699Z"
   },
   {
    "duration": 285,
    "start_time": "2022-09-19T15:48:59.378Z"
   },
   {
    "duration": 1729,
    "start_time": "2022-09-19T15:48:59.665Z"
   },
   {
    "duration": 6,
    "start_time": "2022-09-19T15:49:01.396Z"
   },
   {
    "duration": 1444,
    "start_time": "2022-09-19T15:49:01.403Z"
   },
   {
    "duration": 177,
    "start_time": "2022-09-19T15:49:02.849Z"
   },
   {
    "duration": 5,
    "start_time": "2022-09-19T15:49:03.027Z"
   },
   {
    "duration": 22,
    "start_time": "2022-09-19T15:49:03.034Z"
   },
   {
    "duration": 31,
    "start_time": "2022-09-19T15:49:03.058Z"
   },
   {
    "duration": 27,
    "start_time": "2022-09-19T15:50:37.148Z"
   },
   {
    "duration": 4,
    "start_time": "2022-09-19T15:58:01.299Z"
   },
   {
    "duration": 32,
    "start_time": "2022-09-19T15:58:01.305Z"
   },
   {
    "duration": 16,
    "start_time": "2022-09-19T15:58:01.339Z"
   },
   {
    "duration": 81,
    "start_time": "2022-09-19T15:58:01.357Z"
   },
   {
    "duration": 10,
    "start_time": "2022-09-19T15:58:01.441Z"
   },
   {
    "duration": 25,
    "start_time": "2022-09-19T15:58:01.453Z"
   },
   {
    "duration": 25,
    "start_time": "2022-09-19T15:58:01.480Z"
   },
   {
    "duration": 34,
    "start_time": "2022-09-19T15:58:01.507Z"
   },
   {
    "duration": 1693,
    "start_time": "2022-09-19T15:58:01.543Z"
   },
   {
    "duration": 292,
    "start_time": "2022-09-19T15:58:03.239Z"
   },
   {
    "duration": 1643,
    "start_time": "2022-09-19T15:58:03.533Z"
   },
   {
    "duration": 5,
    "start_time": "2022-09-19T15:58:05.178Z"
   },
   {
    "duration": 1729,
    "start_time": "2022-09-19T15:58:05.184Z"
   },
   {
    "duration": 182,
    "start_time": "2022-09-19T15:58:06.915Z"
   },
   {
    "duration": 54,
    "start_time": "2022-09-19T15:58:07.099Z"
   },
   {
    "duration": 423,
    "start_time": "2022-09-19T15:58:07.155Z"
   },
   {
    "duration": 4,
    "start_time": "2022-09-19T16:01:24.534Z"
   },
   {
    "duration": 11,
    "start_time": "2022-09-19T16:01:24.540Z"
   },
   {
    "duration": 5,
    "start_time": "2022-09-19T16:01:24.553Z"
   },
   {
    "duration": 60,
    "start_time": "2022-09-19T16:01:24.560Z"
   },
   {
    "duration": 9,
    "start_time": "2022-09-19T16:01:24.621Z"
   },
   {
    "duration": 12,
    "start_time": "2022-09-19T16:01:24.631Z"
   },
   {
    "duration": 10,
    "start_time": "2022-09-19T16:01:24.644Z"
   },
   {
    "duration": 8,
    "start_time": "2022-09-19T16:01:24.656Z"
   },
   {
    "duration": 1551,
    "start_time": "2022-09-19T16:01:24.666Z"
   },
   {
    "duration": 374,
    "start_time": "2022-09-19T16:01:26.220Z"
   },
   {
    "duration": 1692,
    "start_time": "2022-09-19T16:01:26.595Z"
   },
   {
    "duration": 4,
    "start_time": "2022-09-19T16:01:28.289Z"
   },
   {
    "duration": 1665,
    "start_time": "2022-09-19T16:01:28.295Z"
   },
   {
    "duration": 196,
    "start_time": "2022-09-19T16:01:29.962Z"
   },
   {
    "duration": 72,
    "start_time": "2022-09-19T16:01:30.161Z"
   },
   {
    "duration": 513,
    "start_time": "2022-09-19T16:01:30.235Z"
   },
   {
    "duration": 439,
    "start_time": "2022-09-19T16:06:27.220Z"
   },
   {
    "duration": 536,
    "start_time": "2022-09-19T16:06:35.422Z"
   },
   {
    "duration": 541,
    "start_time": "2022-09-19T16:07:15.308Z"
   },
   {
    "duration": 4,
    "start_time": "2022-09-19T16:42:08.561Z"
   },
   {
    "duration": 8,
    "start_time": "2022-09-19T16:42:08.567Z"
   },
   {
    "duration": 12,
    "start_time": "2022-09-19T16:42:08.576Z"
   },
   {
    "duration": 73,
    "start_time": "2022-09-19T16:42:08.590Z"
   },
   {
    "duration": 10,
    "start_time": "2022-09-19T16:42:08.665Z"
   },
   {
    "duration": 14,
    "start_time": "2022-09-19T16:42:08.677Z"
   },
   {
    "duration": 11,
    "start_time": "2022-09-19T16:42:08.693Z"
   },
   {
    "duration": 8,
    "start_time": "2022-09-19T16:42:08.706Z"
   },
   {
    "duration": 1594,
    "start_time": "2022-09-19T16:42:08.717Z"
   },
   {
    "duration": 529,
    "start_time": "2022-09-19T16:42:10.314Z"
   },
   {
    "duration": 1645,
    "start_time": "2022-09-19T16:42:10.846Z"
   },
   {
    "duration": 5,
    "start_time": "2022-09-19T16:42:12.493Z"
   },
   {
    "duration": 1584,
    "start_time": "2022-09-19T16:42:12.500Z"
   },
   {
    "duration": 153,
    "start_time": "2022-09-19T16:42:14.085Z"
   },
   {
    "duration": 0,
    "start_time": "2022-09-19T16:42:14.240Z"
   },
   {
    "duration": 0,
    "start_time": "2022-09-19T16:42:14.246Z"
   },
   {
    "duration": 159,
    "start_time": "2022-09-19T16:42:55.583Z"
   },
   {
    "duration": 3,
    "start_time": "2022-09-19T16:46:53.943Z"
   },
   {
    "duration": 7,
    "start_time": "2022-09-19T16:46:53.948Z"
   },
   {
    "duration": 4,
    "start_time": "2022-09-19T16:46:53.957Z"
   },
   {
    "duration": 57,
    "start_time": "2022-09-19T16:46:53.963Z"
   },
   {
    "duration": 7,
    "start_time": "2022-09-19T16:46:54.022Z"
   },
   {
    "duration": 15,
    "start_time": "2022-09-19T16:46:54.031Z"
   },
   {
    "duration": 7,
    "start_time": "2022-09-19T16:46:54.047Z"
   },
   {
    "duration": 9,
    "start_time": "2022-09-19T16:46:54.055Z"
   },
   {
    "duration": 1476,
    "start_time": "2022-09-19T16:46:54.066Z"
   },
   {
    "duration": 264,
    "start_time": "2022-09-19T16:46:55.543Z"
   },
   {
    "duration": 1739,
    "start_time": "2022-09-19T16:46:55.808Z"
   },
   {
    "duration": 4,
    "start_time": "2022-09-19T16:46:57.549Z"
   },
   {
    "duration": 1539,
    "start_time": "2022-09-19T16:46:57.554Z"
   },
   {
    "duration": 11,
    "start_time": "2022-09-19T16:46:59.095Z"
   },
   {
    "duration": 7,
    "start_time": "2022-09-19T16:46:59.107Z"
   },
   {
    "duration": 137,
    "start_time": "2022-09-19T16:46:59.116Z"
   },
   {
    "duration": 3,
    "start_time": "2022-09-19T16:48:21.041Z"
   },
   {
    "duration": 5,
    "start_time": "2022-09-19T16:48:21.046Z"
   },
   {
    "duration": 5,
    "start_time": "2022-09-19T16:48:21.053Z"
   },
   {
    "duration": 57,
    "start_time": "2022-09-19T16:48:21.060Z"
   },
   {
    "duration": 9,
    "start_time": "2022-09-19T16:48:21.118Z"
   },
   {
    "duration": 12,
    "start_time": "2022-09-19T16:48:21.129Z"
   },
   {
    "duration": 7,
    "start_time": "2022-09-19T16:48:21.143Z"
   },
   {
    "duration": 11,
    "start_time": "2022-09-19T16:48:21.152Z"
   },
   {
    "duration": 1574,
    "start_time": "2022-09-19T16:48:21.165Z"
   },
   {
    "duration": 299,
    "start_time": "2022-09-19T16:48:22.740Z"
   },
   {
    "duration": 1671,
    "start_time": "2022-09-19T16:48:23.040Z"
   },
   {
    "duration": 5,
    "start_time": "2022-09-19T16:48:24.712Z"
   },
   {
    "duration": 1468,
    "start_time": "2022-09-19T16:48:24.718Z"
   },
   {
    "duration": 16,
    "start_time": "2022-09-19T16:48:26.189Z"
   },
   {
    "duration": 12,
    "start_time": "2022-09-19T16:48:26.206Z"
   },
   {
    "duration": 136,
    "start_time": "2022-09-19T16:48:26.220Z"
   },
   {
    "duration": 4,
    "start_time": "2022-09-19T16:48:44.110Z"
   },
   {
    "duration": 6,
    "start_time": "2022-09-19T16:48:44.115Z"
   },
   {
    "duration": 8,
    "start_time": "2022-09-19T16:48:44.122Z"
   },
   {
    "duration": 57,
    "start_time": "2022-09-19T16:48:44.132Z"
   },
   {
    "duration": 8,
    "start_time": "2022-09-19T16:48:44.190Z"
   },
   {
    "duration": 10,
    "start_time": "2022-09-19T16:48:44.200Z"
   },
   {
    "duration": 8,
    "start_time": "2022-09-19T16:48:44.211Z"
   },
   {
    "duration": 9,
    "start_time": "2022-09-19T16:48:44.220Z"
   },
   {
    "duration": 1507,
    "start_time": "2022-09-19T16:48:44.231Z"
   },
   {
    "duration": 264,
    "start_time": "2022-09-19T16:48:45.746Z"
   },
   {
    "duration": 1672,
    "start_time": "2022-09-19T16:48:46.011Z"
   },
   {
    "duration": 6,
    "start_time": "2022-09-19T16:48:47.685Z"
   },
   {
    "duration": 1521,
    "start_time": "2022-09-19T16:48:47.692Z"
   },
   {
    "duration": 198,
    "start_time": "2022-09-19T16:48:49.214Z"
   },
   {
    "duration": 55,
    "start_time": "2022-09-19T16:48:49.413Z"
   },
   {
    "duration": 579,
    "start_time": "2022-09-19T16:48:49.469Z"
   },
   {
    "duration": 14,
    "start_time": "2022-09-19T19:26:52.881Z"
   },
   {
    "duration": 4,
    "start_time": "2022-09-19T19:26:59.715Z"
   },
   {
    "duration": 19,
    "start_time": "2022-09-19T19:26:59.721Z"
   },
   {
    "duration": 44,
    "start_time": "2022-09-19T19:26:59.741Z"
   },
   {
    "duration": 65,
    "start_time": "2022-09-19T19:26:59.787Z"
   },
   {
    "duration": 11,
    "start_time": "2022-09-19T19:26:59.855Z"
   },
   {
    "duration": 17,
    "start_time": "2022-09-19T19:26:59.867Z"
   },
   {
    "duration": 21,
    "start_time": "2022-09-19T19:26:59.886Z"
   },
   {
    "duration": 20,
    "start_time": "2022-09-19T19:26:59.909Z"
   },
   {
    "duration": 3,
    "start_time": "2022-09-19T19:31:48.760Z"
   },
   {
    "duration": 7,
    "start_time": "2022-09-19T19:31:48.765Z"
   },
   {
    "duration": 8,
    "start_time": "2022-09-19T19:31:48.773Z"
   },
   {
    "duration": 58,
    "start_time": "2022-09-19T19:31:48.783Z"
   },
   {
    "duration": 15,
    "start_time": "2022-09-19T19:31:48.844Z"
   },
   {
    "duration": 16,
    "start_time": "2022-09-19T19:31:48.862Z"
   },
   {
    "duration": 11,
    "start_time": "2022-09-19T19:31:48.880Z"
   },
   {
    "duration": 6,
    "start_time": "2022-09-19T19:31:48.963Z"
   },
   {
    "duration": 1420,
    "start_time": "2022-09-19T19:31:48.971Z"
   },
   {
    "duration": 295,
    "start_time": "2022-09-19T19:31:50.393Z"
   },
   {
    "duration": 1544,
    "start_time": "2022-09-19T19:31:50.690Z"
   },
   {
    "duration": 15,
    "start_time": "2022-09-19T19:31:52.235Z"
   },
   {
    "duration": 1394,
    "start_time": "2022-09-19T19:31:52.251Z"
   },
   {
    "duration": 4,
    "start_time": "2022-09-19T19:33:30.061Z"
   },
   {
    "duration": 10,
    "start_time": "2022-09-19T19:33:30.067Z"
   },
   {
    "duration": 13,
    "start_time": "2022-09-19T19:33:30.078Z"
   },
   {
    "duration": 88,
    "start_time": "2022-09-19T19:33:30.094Z"
   },
   {
    "duration": 9,
    "start_time": "2022-09-19T19:33:30.184Z"
   },
   {
    "duration": 34,
    "start_time": "2022-09-19T19:33:30.195Z"
   },
   {
    "duration": 38,
    "start_time": "2022-09-19T19:33:30.231Z"
   },
   {
    "duration": 28,
    "start_time": "2022-09-19T19:33:30.270Z"
   },
   {
    "duration": 1527,
    "start_time": "2022-09-19T19:33:30.300Z"
   },
   {
    "duration": 290,
    "start_time": "2022-09-19T19:33:31.830Z"
   },
   {
    "duration": 1589,
    "start_time": "2022-09-19T19:33:32.122Z"
   },
   {
    "duration": 4,
    "start_time": "2022-09-19T19:33:33.713Z"
   },
   {
    "duration": 1374,
    "start_time": "2022-09-19T19:33:33.719Z"
   },
   {
    "duration": 194,
    "start_time": "2022-09-19T19:33:35.095Z"
   },
   {
    "duration": 47,
    "start_time": "2022-09-19T19:33:35.291Z"
   },
   {
    "duration": 606,
    "start_time": "2022-09-19T19:33:35.347Z"
   },
   {
    "duration": 516,
    "start_time": "2022-09-19T19:35:11.045Z"
   },
   {
    "duration": 521,
    "start_time": "2022-09-19T19:35:20.942Z"
   },
   {
    "duration": 498,
    "start_time": "2022-09-19T19:35:53.064Z"
   },
   {
    "duration": 116,
    "start_time": "2022-09-19T19:45:21.366Z"
   },
   {
    "duration": 5,
    "start_time": "2022-09-19T19:45:40.140Z"
   },
   {
    "duration": 554,
    "start_time": "2022-09-19T19:46:34.394Z"
   },
   {
    "duration": 4,
    "start_time": "2022-09-19T19:47:12.228Z"
   },
   {
    "duration": 6,
    "start_time": "2022-09-19T19:47:12.235Z"
   },
   {
    "duration": 18,
    "start_time": "2022-09-19T19:47:12.243Z"
   },
   {
    "duration": 62,
    "start_time": "2022-09-19T19:47:12.263Z"
   },
   {
    "duration": 9,
    "start_time": "2022-09-19T19:47:12.327Z"
   },
   {
    "duration": 11,
    "start_time": "2022-09-19T19:47:12.338Z"
   },
   {
    "duration": 23,
    "start_time": "2022-09-19T19:47:12.352Z"
   },
   {
    "duration": 11,
    "start_time": "2022-09-19T19:47:12.377Z"
   },
   {
    "duration": 1469,
    "start_time": "2022-09-19T19:47:12.390Z"
   },
   {
    "duration": 306,
    "start_time": "2022-09-19T19:47:13.863Z"
   },
   {
    "duration": 1516,
    "start_time": "2022-09-19T19:47:14.171Z"
   },
   {
    "duration": 5,
    "start_time": "2022-09-19T19:47:15.689Z"
   },
   {
    "duration": 1603,
    "start_time": "2022-09-19T19:47:15.695Z"
   },
   {
    "duration": 195,
    "start_time": "2022-09-19T19:47:17.300Z"
   },
   {
    "duration": 59,
    "start_time": "2022-09-19T19:47:17.497Z"
   },
   {
    "duration": 32,
    "start_time": "2022-09-19T19:47:17.558Z"
   },
   {
    "duration": 568,
    "start_time": "2022-09-19T19:47:17.592Z"
   },
   {
    "duration": 462,
    "start_time": "2022-09-19T19:48:51.106Z"
   },
   {
    "duration": 85,
    "start_time": "2022-09-19T19:49:36.347Z"
   },
   {
    "duration": 466,
    "start_time": "2022-09-19T19:49:50.204Z"
   },
   {
    "duration": 511,
    "start_time": "2022-09-19T19:50:11.343Z"
   },
   {
    "duration": 4,
    "start_time": "2022-09-19T19:52:23.884Z"
   },
   {
    "duration": 9,
    "start_time": "2022-09-19T19:52:23.890Z"
   },
   {
    "duration": 8,
    "start_time": "2022-09-19T19:52:23.900Z"
   },
   {
    "duration": 89,
    "start_time": "2022-09-19T19:52:23.911Z"
   },
   {
    "duration": 11,
    "start_time": "2022-09-19T19:52:24.003Z"
   },
   {
    "duration": 14,
    "start_time": "2022-09-19T19:52:24.016Z"
   },
   {
    "duration": 44,
    "start_time": "2022-09-19T19:52:24.032Z"
   },
   {
    "duration": 14,
    "start_time": "2022-09-19T19:52:24.078Z"
   },
   {
    "duration": 1422,
    "start_time": "2022-09-19T19:52:24.094Z"
   },
   {
    "duration": 337,
    "start_time": "2022-09-19T19:52:25.519Z"
   },
   {
    "duration": 1834,
    "start_time": "2022-09-19T19:52:25.860Z"
   },
   {
    "duration": 5,
    "start_time": "2022-09-19T19:52:27.695Z"
   },
   {
    "duration": 1619,
    "start_time": "2022-09-19T19:52:27.702Z"
   },
   {
    "duration": 198,
    "start_time": "2022-09-19T19:52:29.323Z"
   },
   {
    "duration": 75,
    "start_time": "2022-09-19T19:52:29.522Z"
   },
   {
    "duration": 590,
    "start_time": "2022-09-19T19:52:29.599Z"
   },
   {
    "duration": 8,
    "start_time": "2022-09-19T20:07:00.461Z"
   },
   {
    "duration": 32,
    "start_time": "2022-09-19T20:07:00.471Z"
   },
   {
    "duration": 16,
    "start_time": "2022-09-19T20:07:00.504Z"
   },
   {
    "duration": 103,
    "start_time": "2022-09-19T20:07:00.522Z"
   },
   {
    "duration": 8,
    "start_time": "2022-09-19T20:07:00.627Z"
   },
   {
    "duration": 60,
    "start_time": "2022-09-19T20:07:00.636Z"
   },
   {
    "duration": 37,
    "start_time": "2022-09-19T20:07:00.698Z"
   },
   {
    "duration": 43,
    "start_time": "2022-09-19T20:07:00.737Z"
   },
   {
    "duration": 1489,
    "start_time": "2022-09-19T20:07:00.782Z"
   },
   {
    "duration": 427,
    "start_time": "2022-09-19T20:07:02.272Z"
   },
   {
    "duration": 1508,
    "start_time": "2022-09-19T20:07:02.701Z"
   },
   {
    "duration": 5,
    "start_time": "2022-09-19T20:07:04.210Z"
   },
   {
    "duration": 1618,
    "start_time": "2022-09-19T20:07:04.216Z"
   },
   {
    "duration": 203,
    "start_time": "2022-09-19T20:07:05.837Z"
   },
   {
    "duration": 59,
    "start_time": "2022-09-19T20:07:06.042Z"
   },
   {
    "duration": 653,
    "start_time": "2022-09-19T20:07:06.103Z"
   },
   {
    "duration": 34,
    "start_time": "2022-09-19T20:07:06.760Z"
   },
   {
    "duration": 5,
    "start_time": "2022-09-19T20:07:50.162Z"
   },
   {
    "duration": 29,
    "start_time": "2022-09-19T20:07:50.172Z"
   },
   {
    "duration": 6,
    "start_time": "2022-09-19T20:07:50.203Z"
   },
   {
    "duration": 79,
    "start_time": "2022-09-19T20:07:50.211Z"
   },
   {
    "duration": 9,
    "start_time": "2022-09-19T20:07:50.293Z"
   },
   {
    "duration": 21,
    "start_time": "2022-09-19T20:07:50.304Z"
   },
   {
    "duration": 11,
    "start_time": "2022-09-19T20:07:50.326Z"
   },
   {
    "duration": 22,
    "start_time": "2022-09-19T20:07:50.353Z"
   },
   {
    "duration": 1516,
    "start_time": "2022-09-19T20:07:50.377Z"
   },
   {
    "duration": 316,
    "start_time": "2022-09-19T20:07:51.894Z"
   },
   {
    "duration": 1674,
    "start_time": "2022-09-19T20:07:52.212Z"
   },
   {
    "duration": 5,
    "start_time": "2022-09-19T20:07:53.888Z"
   },
   {
    "duration": 1411,
    "start_time": "2022-09-19T20:07:53.894Z"
   },
   {
    "duration": 204,
    "start_time": "2022-09-19T20:07:55.308Z"
   },
   {
    "duration": 56,
    "start_time": "2022-09-19T20:07:55.514Z"
   },
   {
    "duration": 496,
    "start_time": "2022-09-19T20:07:55.571Z"
   },
   {
    "duration": 88,
    "start_time": "2022-09-19T20:07:56.069Z"
   },
   {
    "duration": 3,
    "start_time": "2022-09-19T20:26:42.390Z"
   },
   {
    "duration": 8,
    "start_time": "2022-09-19T20:26:42.395Z"
   },
   {
    "duration": 8,
    "start_time": "2022-09-19T20:26:42.404Z"
   },
   {
    "duration": 55,
    "start_time": "2022-09-19T20:26:42.589Z"
   },
   {
    "duration": 12,
    "start_time": "2022-09-19T20:26:42.954Z"
   },
   {
    "duration": 9,
    "start_time": "2022-09-19T20:26:43.105Z"
   },
   {
    "duration": 8,
    "start_time": "2022-09-19T20:26:43.259Z"
   },
   {
    "duration": 5,
    "start_time": "2022-09-19T20:26:43.409Z"
   },
   {
    "duration": 1386,
    "start_time": "2022-09-19T20:26:43.588Z"
   },
   {
    "duration": 287,
    "start_time": "2022-09-19T20:26:44.976Z"
   },
   {
    "duration": 1577,
    "start_time": "2022-09-19T20:26:45.264Z"
   },
   {
    "duration": 15,
    "start_time": "2022-09-19T20:26:46.842Z"
   },
   {
    "duration": 1312,
    "start_time": "2022-09-19T20:26:46.858Z"
   },
   {
    "duration": 4,
    "start_time": "2022-09-19T20:35:56.292Z"
   },
   {
    "duration": 8,
    "start_time": "2022-09-19T20:35:56.299Z"
   },
   {
    "duration": 8,
    "start_time": "2022-09-19T20:35:56.309Z"
   },
   {
    "duration": 85,
    "start_time": "2022-09-19T20:35:56.319Z"
   },
   {
    "duration": 11,
    "start_time": "2022-09-19T20:35:56.406Z"
   },
   {
    "duration": 17,
    "start_time": "2022-09-19T20:35:56.420Z"
   },
   {
    "duration": 36,
    "start_time": "2022-09-19T20:35:56.439Z"
   },
   {
    "duration": 15,
    "start_time": "2022-09-19T20:35:56.476Z"
   },
   {
    "duration": 1438,
    "start_time": "2022-09-19T20:35:56.493Z"
   },
   {
    "duration": 298,
    "start_time": "2022-09-19T20:35:57.934Z"
   },
   {
    "duration": 1493,
    "start_time": "2022-09-19T20:35:58.234Z"
   },
   {
    "duration": 4,
    "start_time": "2022-09-19T20:35:59.729Z"
   },
   {
    "duration": 1511,
    "start_time": "2022-09-19T20:35:59.734Z"
   },
   {
    "duration": 176,
    "start_time": "2022-09-19T20:36:01.258Z"
   },
   {
    "duration": 55,
    "start_time": "2022-09-19T20:36:01.436Z"
   },
   {
    "duration": 471,
    "start_time": "2022-09-19T20:36:01.494Z"
   },
   {
    "duration": 96,
    "start_time": "2022-09-19T20:36:01.967Z"
   },
   {
    "duration": 28,
    "start_time": "2022-09-19T20:36:02.064Z"
   },
   {
    "duration": 471,
    "start_time": "2022-09-19T20:36:02.093Z"
   },
   {
    "duration": 4,
    "start_time": "2022-09-19T20:38:41.805Z"
   },
   {
    "duration": 7,
    "start_time": "2022-09-19T20:38:41.810Z"
   },
   {
    "duration": 5,
    "start_time": "2022-09-19T20:38:41.818Z"
   },
   {
    "duration": 66,
    "start_time": "2022-09-19T20:38:41.824Z"
   },
   {
    "duration": 8,
    "start_time": "2022-09-19T20:38:41.891Z"
   },
   {
    "duration": 13,
    "start_time": "2022-09-19T20:38:41.901Z"
   },
   {
    "duration": 16,
    "start_time": "2022-09-19T20:38:41.915Z"
   },
   {
    "duration": 11,
    "start_time": "2022-09-19T20:38:41.932Z"
   },
   {
    "duration": 1280,
    "start_time": "2022-09-19T20:38:41.945Z"
   },
   {
    "duration": 286,
    "start_time": "2022-09-19T20:38:43.227Z"
   },
   {
    "duration": 1508,
    "start_time": "2022-09-19T20:38:43.516Z"
   },
   {
    "duration": 5,
    "start_time": "2022-09-19T20:38:45.026Z"
   },
   {
    "duration": 1561,
    "start_time": "2022-09-19T20:38:45.033Z"
   },
   {
    "duration": 170,
    "start_time": "2022-09-19T20:38:46.596Z"
   },
   {
    "duration": 51,
    "start_time": "2022-09-19T20:38:46.768Z"
   },
   {
    "duration": 5344,
    "start_time": "2022-09-19T20:38:46.821Z"
   },
   {
    "duration": 182,
    "start_time": "2022-09-19T20:38:52.168Z"
   },
   {
    "duration": 22,
    "start_time": "2022-09-19T20:38:52.360Z"
   },
   {
    "duration": 9783,
    "start_time": "2022-09-19T20:38:52.383Z"
   },
   {
    "duration": 3,
    "start_time": "2022-09-19T20:45:57.810Z"
   },
   {
    "duration": 12,
    "start_time": "2022-09-19T20:45:57.815Z"
   },
   {
    "duration": 5,
    "start_time": "2022-09-19T20:45:57.828Z"
   },
   {
    "duration": 72,
    "start_time": "2022-09-19T20:45:57.835Z"
   },
   {
    "duration": 8,
    "start_time": "2022-09-19T20:45:57.909Z"
   },
   {
    "duration": 23,
    "start_time": "2022-09-19T20:45:57.919Z"
   },
   {
    "duration": 18,
    "start_time": "2022-09-19T20:45:57.944Z"
   },
   {
    "duration": 12,
    "start_time": "2022-09-19T20:45:57.964Z"
   },
   {
    "duration": 1367,
    "start_time": "2022-09-19T20:45:57.978Z"
   },
   {
    "duration": 421,
    "start_time": "2022-09-19T20:45:59.348Z"
   },
   {
    "duration": 1431,
    "start_time": "2022-09-19T20:45:59.770Z"
   },
   {
    "duration": 5,
    "start_time": "2022-09-19T20:46:01.202Z"
   },
   {
    "duration": 1513,
    "start_time": "2022-09-19T20:46:01.209Z"
   },
   {
    "duration": 199,
    "start_time": "2022-09-19T20:46:02.723Z"
   },
   {
    "duration": 54,
    "start_time": "2022-09-19T20:46:02.923Z"
   },
   {
    "duration": 572,
    "start_time": "2022-09-19T20:46:02.979Z"
   },
   {
    "duration": 12,
    "start_time": "2022-09-19T20:46:03.553Z"
   },
   {
    "duration": 19,
    "start_time": "2022-09-19T20:46:03.567Z"
   },
   {
    "duration": 572,
    "start_time": "2022-09-19T20:46:03.588Z"
   },
   {
    "duration": 93,
    "start_time": "2022-09-19T20:46:04.162Z"
   },
   {
    "duration": 5,
    "start_time": "2022-09-19T20:46:48.628Z"
   },
   {
    "duration": 12,
    "start_time": "2022-09-19T20:46:48.635Z"
   },
   {
    "duration": 5,
    "start_time": "2022-09-19T20:46:48.649Z"
   },
   {
    "duration": 67,
    "start_time": "2022-09-19T20:46:48.656Z"
   },
   {
    "duration": 9,
    "start_time": "2022-09-19T20:46:48.726Z"
   },
   {
    "duration": 9,
    "start_time": "2022-09-19T20:46:48.737Z"
   },
   {
    "duration": 9,
    "start_time": "2022-09-19T20:46:48.748Z"
   },
   {
    "duration": 7,
    "start_time": "2022-09-19T20:46:48.759Z"
   },
   {
    "duration": 1366,
    "start_time": "2022-09-19T20:46:48.768Z"
   },
   {
    "duration": 284,
    "start_time": "2022-09-19T20:46:50.136Z"
   },
   {
    "duration": 1494,
    "start_time": "2022-09-19T20:46:50.421Z"
   },
   {
    "duration": 6,
    "start_time": "2022-09-19T20:46:51.916Z"
   },
   {
    "duration": 1333,
    "start_time": "2022-09-19T20:46:51.925Z"
   },
   {
    "duration": 197,
    "start_time": "2022-09-19T20:46:53.260Z"
   },
   {
    "duration": 47,
    "start_time": "2022-09-19T20:46:53.459Z"
   },
   {
    "duration": 539,
    "start_time": "2022-09-19T20:46:53.508Z"
   },
   {
    "duration": 101,
    "start_time": "2022-09-19T20:46:54.050Z"
   },
   {
    "duration": 29,
    "start_time": "2022-09-19T20:46:54.153Z"
   },
   {
    "duration": 477,
    "start_time": "2022-09-19T20:46:54.184Z"
   },
   {
    "duration": 32222,
    "start_time": "2022-09-19T20:46:54.749Z"
   },
   {
    "duration": 92482,
    "start_time": "2022-09-19T20:47:47.869Z"
   },
   {
    "duration": 49,
    "start_time": "2022-09-20T07:15:05.450Z"
   },
   {
    "duration": 8,
    "start_time": "2022-09-20T07:15:07.840Z"
   },
   {
    "duration": 1546,
    "start_time": "2022-09-20T07:15:13.773Z"
   },
   {
    "duration": 3,
    "start_time": "2022-09-20T07:15:15.322Z"
   },
   {
    "duration": 18,
    "start_time": "2022-09-20T07:15:15.327Z"
   },
   {
    "duration": 121,
    "start_time": "2022-09-20T07:15:15.348Z"
   },
   {
    "duration": 8,
    "start_time": "2022-09-20T07:15:15.471Z"
   },
   {
    "duration": 15,
    "start_time": "2022-09-20T07:15:15.480Z"
   },
   {
    "duration": 9,
    "start_time": "2022-09-20T07:15:15.497Z"
   },
   {
    "duration": 17,
    "start_time": "2022-09-20T07:15:15.507Z"
   },
   {
    "duration": 1629,
    "start_time": "2022-09-20T07:15:15.526Z"
   },
   {
    "duration": 344,
    "start_time": "2022-09-20T07:15:17.158Z"
   },
   {
    "duration": 1859,
    "start_time": "2022-09-20T07:15:17.503Z"
   },
   {
    "duration": 5,
    "start_time": "2022-09-20T07:15:19.364Z"
   },
   {
    "duration": 1570,
    "start_time": "2022-09-20T07:15:19.371Z"
   },
   {
    "duration": 221,
    "start_time": "2022-09-20T07:15:20.943Z"
   },
   {
    "duration": 62,
    "start_time": "2022-09-20T07:15:21.166Z"
   },
   {
    "duration": 495,
    "start_time": "2022-09-20T07:15:21.230Z"
   },
   {
    "duration": 94,
    "start_time": "2022-09-20T07:15:21.727Z"
   },
   {
    "duration": 42,
    "start_time": "2022-09-20T07:15:21.824Z"
   },
   {
    "duration": 566,
    "start_time": "2022-09-20T07:15:21.868Z"
   },
   {
    "duration": 112,
    "start_time": "2022-09-20T07:17:00.723Z"
   },
   {
    "duration": 620,
    "start_time": "2022-09-20T07:17:07.709Z"
   },
   {
    "duration": 623,
    "start_time": "2022-09-20T07:19:56.999Z"
   },
   {
    "duration": 546,
    "start_time": "2022-09-20T07:35:19.984Z"
   },
   {
    "duration": 549,
    "start_time": "2022-09-20T07:35:53.694Z"
   },
   {
    "duration": 15,
    "start_time": "2022-09-20T07:36:22.665Z"
   },
   {
    "duration": 522,
    "start_time": "2022-09-20T07:36:56.102Z"
   },
   {
    "duration": 78,
    "start_time": "2022-09-20T07:39:07.142Z"
   },
   {
    "duration": 4,
    "start_time": "2022-09-20T07:39:18.892Z"
   },
   {
    "duration": 45,
    "start_time": "2022-09-20T07:39:18.900Z"
   },
   {
    "duration": 28,
    "start_time": "2022-09-20T07:39:18.948Z"
   },
   {
    "duration": 87,
    "start_time": "2022-09-20T07:39:18.979Z"
   },
   {
    "duration": 13,
    "start_time": "2022-09-20T07:39:19.068Z"
   },
   {
    "duration": 28,
    "start_time": "2022-09-20T07:39:19.084Z"
   },
   {
    "duration": 47,
    "start_time": "2022-09-20T07:39:19.114Z"
   },
   {
    "duration": 17,
    "start_time": "2022-09-20T07:39:19.163Z"
   },
   {
    "duration": 1740,
    "start_time": "2022-09-20T07:39:19.182Z"
   },
   {
    "duration": 352,
    "start_time": "2022-09-20T07:39:20.925Z"
   },
   {
    "duration": 1765,
    "start_time": "2022-09-20T07:39:21.279Z"
   },
   {
    "duration": 5,
    "start_time": "2022-09-20T07:39:23.047Z"
   },
   {
    "duration": 1696,
    "start_time": "2022-09-20T07:39:23.053Z"
   },
   {
    "duration": 220,
    "start_time": "2022-09-20T07:39:24.751Z"
   },
   {
    "duration": 61,
    "start_time": "2022-09-20T07:39:24.973Z"
   },
   {
    "duration": 590,
    "start_time": "2022-09-20T07:39:25.037Z"
   },
   {
    "duration": 15,
    "start_time": "2022-09-20T07:39:25.628Z"
   },
   {
    "duration": 38,
    "start_time": "2022-09-20T07:39:25.644Z"
   },
   {
    "duration": 537,
    "start_time": "2022-09-20T07:39:25.684Z"
   },
   {
    "duration": 5,
    "start_time": "2022-09-20T07:39:26.224Z"
   },
   {
    "duration": 174,
    "start_time": "2022-09-20T07:39:26.231Z"
   },
   {
    "duration": 4,
    "start_time": "2022-09-20T07:40:18.019Z"
   },
   {
    "duration": 24,
    "start_time": "2022-09-20T07:40:18.025Z"
   },
   {
    "duration": 4,
    "start_time": "2022-09-20T07:40:18.051Z"
   },
   {
    "duration": 58,
    "start_time": "2022-09-20T07:40:18.058Z"
   },
   {
    "duration": 11,
    "start_time": "2022-09-20T07:40:18.118Z"
   },
   {
    "duration": 23,
    "start_time": "2022-09-20T07:40:18.131Z"
   },
   {
    "duration": 9,
    "start_time": "2022-09-20T07:40:18.156Z"
   },
   {
    "duration": 8,
    "start_time": "2022-09-20T07:40:18.167Z"
   },
   {
    "duration": 1643,
    "start_time": "2022-09-20T07:40:18.178Z"
   },
   {
    "duration": 364,
    "start_time": "2022-09-20T07:40:19.823Z"
   },
   {
    "duration": 1815,
    "start_time": "2022-09-20T07:40:20.189Z"
   },
   {
    "duration": 14,
    "start_time": "2022-09-20T07:40:22.007Z"
   },
   {
    "duration": 1707,
    "start_time": "2022-09-20T07:40:22.025Z"
   },
   {
    "duration": 222,
    "start_time": "2022-09-20T07:40:23.734Z"
   },
   {
    "duration": 52,
    "start_time": "2022-09-20T07:40:23.958Z"
   },
   {
    "duration": 511,
    "start_time": "2022-09-20T07:40:24.012Z"
   },
   {
    "duration": 105,
    "start_time": "2022-09-20T07:40:24.525Z"
   },
   {
    "duration": 31,
    "start_time": "2022-09-20T07:40:24.632Z"
   },
   {
    "duration": 472,
    "start_time": "2022-09-20T07:40:24.665Z"
   },
   {
    "duration": 93,
    "start_time": "2022-09-20T07:40:25.139Z"
   },
   {
    "duration": 1586,
    "start_time": "2022-09-20T07:40:25.238Z"
   },
   {
    "duration": 2473,
    "start_time": "2022-09-20T07:40:53.250Z"
   },
   {
    "duration": 1559,
    "start_time": "2022-09-20T07:41:04.277Z"
   },
   {
    "duration": 596,
    "start_time": "2022-09-20T07:41:09.036Z"
   },
   {
    "duration": 672,
    "start_time": "2022-09-20T07:41:16.659Z"
   },
   {
    "duration": 1477,
    "start_time": "2022-09-20T07:41:25.144Z"
   },
   {
    "duration": 837,
    "start_time": "2022-09-20T07:42:13.112Z"
   },
   {
    "duration": 6,
    "start_time": "2022-09-20T07:47:58.802Z"
   },
   {
    "duration": 29,
    "start_time": "2022-09-20T07:47:58.811Z"
   },
   {
    "duration": 54,
    "start_time": "2022-09-20T07:47:58.842Z"
   },
   {
    "duration": 144,
    "start_time": "2022-09-20T07:47:58.899Z"
   },
   {
    "duration": 18,
    "start_time": "2022-09-20T07:47:59.045Z"
   },
   {
    "duration": 34,
    "start_time": "2022-09-20T07:47:59.069Z"
   },
   {
    "duration": 68,
    "start_time": "2022-09-20T07:47:59.105Z"
   },
   {
    "duration": 90,
    "start_time": "2022-09-20T07:47:59.175Z"
   },
   {
    "duration": 1719,
    "start_time": "2022-09-20T07:47:59.267Z"
   },
   {
    "duration": 543,
    "start_time": "2022-09-20T07:48:00.991Z"
   },
   {
    "duration": 1894,
    "start_time": "2022-09-20T07:48:01.536Z"
   },
   {
    "duration": 6,
    "start_time": "2022-09-20T07:48:03.433Z"
   },
   {
    "duration": 1794,
    "start_time": "2022-09-20T07:48:03.441Z"
   },
   {
    "duration": 208,
    "start_time": "2022-09-20T07:48:05.239Z"
   },
   {
    "duration": 52,
    "start_time": "2022-09-20T07:48:05.449Z"
   },
   {
    "duration": 523,
    "start_time": "2022-09-20T07:48:05.503Z"
   },
   {
    "duration": 99,
    "start_time": "2022-09-20T07:48:06.028Z"
   },
   {
    "duration": 35,
    "start_time": "2022-09-20T07:48:06.129Z"
   },
   {
    "duration": 558,
    "start_time": "2022-09-20T07:48:06.166Z"
   },
   {
    "duration": 14,
    "start_time": "2022-09-20T07:48:06.727Z"
   },
   {
    "duration": 996,
    "start_time": "2022-09-20T07:48:06.744Z"
   },
   {
    "duration": 82,
    "start_time": "2022-09-20T07:48:07.742Z"
   },
   {
    "duration": 410,
    "start_time": "2022-09-20T07:48:07.826Z"
   },
   {
    "duration": 51,
    "start_time": "2022-09-20T07:48:52.079Z"
   },
   {
    "duration": 880,
    "start_time": "2022-09-20T07:48:56.146Z"
   },
   {
    "duration": 481,
    "start_time": "2022-09-20T08:02:37.040Z"
   },
   {
    "duration": 385,
    "start_time": "2022-09-20T08:02:59.843Z"
   },
   {
    "duration": 364,
    "start_time": "2022-09-20T08:03:03.557Z"
   },
   {
    "duration": 322,
    "start_time": "2022-09-20T08:03:10.806Z"
   },
   {
    "duration": 10,
    "start_time": "2022-09-20T08:14:00.029Z"
   },
   {
    "duration": 103,
    "start_time": "2022-09-20T08:14:32.582Z"
   },
   {
    "duration": 421,
    "start_time": "2022-09-20T08:14:42.415Z"
   },
   {
    "duration": 404,
    "start_time": "2022-09-20T08:16:02.377Z"
   },
   {
    "duration": 2038,
    "start_time": "2022-09-20T08:16:14.723Z"
   },
   {
    "duration": 5,
    "start_time": "2022-09-20T08:16:54.795Z"
   },
   {
    "duration": 37,
    "start_time": "2022-09-20T08:16:54.802Z"
   },
   {
    "duration": 27,
    "start_time": "2022-09-20T08:16:54.841Z"
   },
   {
    "duration": 88,
    "start_time": "2022-09-20T08:16:54.871Z"
   },
   {
    "duration": 19,
    "start_time": "2022-09-20T08:16:54.961Z"
   },
   {
    "duration": 46,
    "start_time": "2022-09-20T08:16:54.982Z"
   },
   {
    "duration": 37,
    "start_time": "2022-09-20T08:16:55.030Z"
   },
   {
    "duration": 31,
    "start_time": "2022-09-20T08:16:55.070Z"
   },
   {
    "duration": 1884,
    "start_time": "2022-09-20T08:16:55.105Z"
   },
   {
    "duration": 349,
    "start_time": "2022-09-20T08:16:56.992Z"
   },
   {
    "duration": 1789,
    "start_time": "2022-09-20T08:16:57.343Z"
   },
   {
    "duration": 8,
    "start_time": "2022-09-20T08:16:59.134Z"
   },
   {
    "duration": 1763,
    "start_time": "2022-09-20T08:16:59.144Z"
   },
   {
    "duration": 195,
    "start_time": "2022-09-20T08:17:00.909Z"
   },
   {
    "duration": 53,
    "start_time": "2022-09-20T08:17:01.106Z"
   },
   {
    "duration": 564,
    "start_time": "2022-09-20T08:17:01.161Z"
   },
   {
    "duration": 106,
    "start_time": "2022-09-20T08:17:01.727Z"
   },
   {
    "duration": 26,
    "start_time": "2022-09-20T08:17:01.836Z"
   },
   {
    "duration": 557,
    "start_time": "2022-09-20T08:17:01.864Z"
   },
   {
    "duration": 6,
    "start_time": "2022-09-20T08:17:02.423Z"
   },
   {
    "duration": 893,
    "start_time": "2022-09-20T08:17:02.430Z"
   },
   {
    "duration": 6,
    "start_time": "2022-09-20T08:17:03.325Z"
   },
   {
    "duration": 311,
    "start_time": "2022-09-20T08:17:03.421Z"
   },
   {
    "duration": 474,
    "start_time": "2022-09-20T08:17:03.734Z"
   },
   {
    "duration": 2612,
    "start_time": "2022-09-20T08:20:02.201Z"
   },
   {
    "duration": 114,
    "start_time": "2022-09-20T08:20:26.505Z"
   },
   {
    "duration": 122,
    "start_time": "2022-09-20T08:20:31.405Z"
   },
   {
    "duration": 2816,
    "start_time": "2022-09-20T08:20:33.874Z"
   },
   {
    "duration": 2687,
    "start_time": "2022-09-20T08:25:19.425Z"
   },
   {
    "duration": 2770,
    "start_time": "2022-09-20T08:26:20.328Z"
   },
   {
    "duration": 2723,
    "start_time": "2022-09-20T08:26:33.910Z"
   },
   {
    "duration": 2752,
    "start_time": "2022-09-20T08:26:50.271Z"
   },
   {
    "duration": 2814,
    "start_time": "2022-09-20T08:26:59.354Z"
   },
   {
    "duration": 5,
    "start_time": "2022-09-20T08:44:48.168Z"
   },
   {
    "duration": 10,
    "start_time": "2022-09-20T08:44:48.176Z"
   },
   {
    "duration": 19,
    "start_time": "2022-09-20T08:44:48.188Z"
   },
   {
    "duration": 69,
    "start_time": "2022-09-20T08:44:48.209Z"
   },
   {
    "duration": 11,
    "start_time": "2022-09-20T08:44:48.279Z"
   },
   {
    "duration": 30,
    "start_time": "2022-09-20T08:44:48.291Z"
   },
   {
    "duration": 20,
    "start_time": "2022-09-20T08:44:48.323Z"
   },
   {
    "duration": 12,
    "start_time": "2022-09-20T08:44:48.345Z"
   },
   {
    "duration": 1612,
    "start_time": "2022-09-20T08:44:48.359Z"
   },
   {
    "duration": 323,
    "start_time": "2022-09-20T08:44:49.974Z"
   },
   {
    "duration": 1713,
    "start_time": "2022-09-20T08:44:50.298Z"
   },
   {
    "duration": 10,
    "start_time": "2022-09-20T08:44:52.013Z"
   },
   {
    "duration": 1505,
    "start_time": "2022-09-20T08:44:52.024Z"
   },
   {
    "duration": 183,
    "start_time": "2022-09-20T08:44:53.530Z"
   },
   {
    "duration": 53,
    "start_time": "2022-09-20T08:44:53.715Z"
   },
   {
    "duration": 551,
    "start_time": "2022-09-20T08:44:53.770Z"
   },
   {
    "duration": 97,
    "start_time": "2022-09-20T08:44:54.324Z"
   },
   {
    "duration": 31,
    "start_time": "2022-09-20T08:44:54.423Z"
   },
   {
    "duration": 566,
    "start_time": "2022-09-20T08:44:54.455Z"
   },
   {
    "duration": 5,
    "start_time": "2022-09-20T08:44:55.023Z"
   },
   {
    "duration": 900,
    "start_time": "2022-09-20T08:44:55.030Z"
   },
   {
    "duration": 5,
    "start_time": "2022-09-20T08:44:56.021Z"
   },
   {
    "duration": 394,
    "start_time": "2022-09-20T08:44:56.027Z"
   },
   {
    "duration": 2981,
    "start_time": "2022-09-20T08:44:56.423Z"
   },
   {
    "duration": 30340,
    "start_time": "2022-09-20T08:44:59.405Z"
   },
   {
    "duration": 30490,
    "start_time": "2022-09-20T09:46:17.469Z"
   },
   {
    "duration": 30124,
    "start_time": "2022-09-20T09:47:15.219Z"
   },
   {
    "duration": 29827,
    "start_time": "2022-09-20T09:51:47.352Z"
   },
   {
    "duration": 29173,
    "start_time": "2022-09-20T09:52:30.172Z"
   },
   {
    "duration": 1381,
    "start_time": "2022-09-20T09:53:56.126Z"
   },
   {
    "duration": 3,
    "start_time": "2022-09-20T09:53:57.509Z"
   },
   {
    "duration": 24,
    "start_time": "2022-09-20T09:53:57.520Z"
   },
   {
    "duration": 82,
    "start_time": "2022-09-20T09:53:57.546Z"
   },
   {
    "duration": 8,
    "start_time": "2022-09-20T09:53:57.630Z"
   },
   {
    "duration": 37,
    "start_time": "2022-09-20T09:53:57.639Z"
   },
   {
    "duration": 39,
    "start_time": "2022-09-20T09:53:57.678Z"
   },
   {
    "duration": 45,
    "start_time": "2022-09-20T09:53:57.719Z"
   },
   {
    "duration": 1601,
    "start_time": "2022-09-20T09:53:57.766Z"
   },
   {
    "duration": 311,
    "start_time": "2022-09-20T09:53:59.370Z"
   },
   {
    "duration": 1688,
    "start_time": "2022-09-20T09:53:59.695Z"
   },
   {
    "duration": 6,
    "start_time": "2022-09-20T09:54:01.384Z"
   },
   {
    "duration": 1495,
    "start_time": "2022-09-20T09:54:01.391Z"
   },
   {
    "duration": 223,
    "start_time": "2022-09-20T09:54:02.888Z"
   },
   {
    "duration": 60,
    "start_time": "2022-09-20T09:54:03.113Z"
   },
   {
    "duration": 455,
    "start_time": "2022-09-20T09:54:03.175Z"
   },
   {
    "duration": 103,
    "start_time": "2022-09-20T09:54:03.721Z"
   },
   {
    "duration": 25,
    "start_time": "2022-09-20T09:54:03.826Z"
   },
   {
    "duration": 573,
    "start_time": "2022-09-20T09:54:03.853Z"
   },
   {
    "duration": 94,
    "start_time": "2022-09-20T09:54:04.427Z"
   },
   {
    "duration": 800,
    "start_time": "2022-09-20T09:54:04.523Z"
   },
   {
    "duration": 96,
    "start_time": "2022-09-20T09:54:05.325Z"
   },
   {
    "duration": 398,
    "start_time": "2022-09-20T09:54:05.423Z"
   },
   {
    "duration": 2836,
    "start_time": "2022-09-20T09:54:05.823Z"
   },
   {
    "duration": 28182,
    "start_time": "2022-09-20T09:54:37.664Z"
   },
   {
    "duration": 28295,
    "start_time": "2022-09-20T09:55:27.992Z"
   },
   {
    "duration": 28409,
    "start_time": "2022-09-20T09:56:07.255Z"
   },
   {
    "duration": 2757,
    "start_time": "2022-09-20T09:57:55.331Z"
   },
   {
    "duration": 2890,
    "start_time": "2022-09-20T09:58:08.332Z"
   },
   {
    "duration": 28125,
    "start_time": "2022-09-20T09:59:26.190Z"
   },
   {
    "duration": 28264,
    "start_time": "2022-09-20T10:02:12.280Z"
   },
   {
    "duration": 28626,
    "start_time": "2022-09-20T10:12:37.971Z"
   },
   {
    "duration": 28608,
    "start_time": "2022-09-20T10:13:33.661Z"
   },
   {
    "duration": 28810,
    "start_time": "2022-09-20T10:18:05.139Z"
   },
   {
    "duration": 4,
    "start_time": "2022-09-20T10:18:42.531Z"
   },
   {
    "duration": 11,
    "start_time": "2022-09-20T10:18:42.537Z"
   },
   {
    "duration": 8,
    "start_time": "2022-09-20T10:18:42.549Z"
   },
   {
    "duration": 63,
    "start_time": "2022-09-20T10:18:42.559Z"
   },
   {
    "duration": 9,
    "start_time": "2022-09-20T10:18:42.624Z"
   },
   {
    "duration": 11,
    "start_time": "2022-09-20T10:18:42.635Z"
   },
   {
    "duration": 14,
    "start_time": "2022-09-20T10:18:42.648Z"
   },
   {
    "duration": 14,
    "start_time": "2022-09-20T10:18:42.664Z"
   },
   {
    "duration": 1564,
    "start_time": "2022-09-20T10:18:42.680Z"
   },
   {
    "duration": 309,
    "start_time": "2022-09-20T10:18:44.247Z"
   },
   {
    "duration": 1680,
    "start_time": "2022-09-20T10:18:44.558Z"
   },
   {
    "duration": 5,
    "start_time": "2022-09-20T10:18:46.240Z"
   },
   {
    "duration": 1569,
    "start_time": "2022-09-20T10:18:46.247Z"
   },
   {
    "duration": 208,
    "start_time": "2022-09-20T10:18:47.818Z"
   },
   {
    "duration": 51,
    "start_time": "2022-09-20T10:18:48.028Z"
   },
   {
    "duration": 540,
    "start_time": "2022-09-20T10:18:48.081Z"
   },
   {
    "duration": 102,
    "start_time": "2022-09-20T10:18:48.622Z"
   },
   {
    "duration": 23,
    "start_time": "2022-09-20T10:18:48.726Z"
   },
   {
    "duration": 574,
    "start_time": "2022-09-20T10:18:48.750Z"
   },
   {
    "duration": 94,
    "start_time": "2022-09-20T10:18:49.327Z"
   },
   {
    "duration": 798,
    "start_time": "2022-09-20T10:18:49.423Z"
   },
   {
    "duration": 6,
    "start_time": "2022-09-20T10:18:50.223Z"
   },
   {
    "duration": 407,
    "start_time": "2022-09-20T10:18:50.321Z"
   },
   {
    "duration": 2853,
    "start_time": "2022-09-20T10:18:50.730Z"
   },
   {
    "duration": 28594,
    "start_time": "2022-09-20T10:18:53.585Z"
   },
   {
    "duration": 14,
    "start_time": "2022-09-20T10:23:52.664Z"
   },
   {
    "duration": 5,
    "start_time": "2022-09-20T10:25:37.766Z"
   },
   {
    "duration": 951,
    "start_time": "2022-09-20T10:28:49.230Z"
   },
   {
    "duration": 77,
    "start_time": "2022-09-20T10:35:01.565Z"
   },
   {
    "duration": 6,
    "start_time": "2022-09-20T10:35:49.788Z"
   },
   {
    "duration": 40,
    "start_time": "2022-09-20T10:35:49.796Z"
   },
   {
    "duration": 26,
    "start_time": "2022-09-20T10:35:49.839Z"
   },
   {
    "duration": 84,
    "start_time": "2022-09-20T10:35:49.867Z"
   },
   {
    "duration": 10,
    "start_time": "2022-09-20T10:35:49.954Z"
   },
   {
    "duration": 35,
    "start_time": "2022-09-20T10:35:49.966Z"
   },
   {
    "duration": 49,
    "start_time": "2022-09-20T10:35:50.003Z"
   },
   {
    "duration": 37,
    "start_time": "2022-09-20T10:35:50.054Z"
   },
   {
    "duration": 1512,
    "start_time": "2022-09-20T10:35:50.093Z"
   },
   {
    "duration": 327,
    "start_time": "2022-09-20T10:35:51.607Z"
   },
   {
    "duration": 1711,
    "start_time": "2022-09-20T10:35:51.935Z"
   },
   {
    "duration": 5,
    "start_time": "2022-09-20T10:35:53.648Z"
   },
   {
    "duration": 1598,
    "start_time": "2022-09-20T10:35:53.655Z"
   },
   {
    "duration": 193,
    "start_time": "2022-09-20T10:35:55.255Z"
   },
   {
    "duration": 82,
    "start_time": "2022-09-20T10:35:55.451Z"
   },
   {
    "duration": 485,
    "start_time": "2022-09-20T10:35:55.536Z"
   },
   {
    "duration": 100,
    "start_time": "2022-09-20T10:35:56.026Z"
   },
   {
    "duration": 21,
    "start_time": "2022-09-20T10:35:56.128Z"
   },
   {
    "duration": 475,
    "start_time": "2022-09-20T10:35:56.151Z"
   },
   {
    "duration": 93,
    "start_time": "2022-09-20T10:35:56.628Z"
   },
   {
    "duration": 608,
    "start_time": "2022-09-20T10:35:56.723Z"
   },
   {
    "duration": 9,
    "start_time": "2022-09-20T10:35:57.422Z"
   },
   {
    "duration": 304,
    "start_time": "2022-09-20T10:35:57.521Z"
   },
   {
    "duration": 2340,
    "start_time": "2022-09-20T10:35:57.827Z"
   },
   {
    "duration": 25855,
    "start_time": "2022-09-20T10:36:00.168Z"
   },
   {
    "duration": 4,
    "start_time": "2022-09-20T10:36:26.025Z"
   },
   {
    "duration": 25827,
    "start_time": "2022-09-20T10:37:34.110Z"
   },
   {
    "duration": 4,
    "start_time": "2022-09-20T10:40:03.421Z"
   },
   {
    "duration": 24,
    "start_time": "2022-09-20T10:40:03.427Z"
   },
   {
    "duration": 15,
    "start_time": "2022-09-20T10:40:03.453Z"
   },
   {
    "duration": 79,
    "start_time": "2022-09-20T10:40:03.471Z"
   },
   {
    "duration": 9,
    "start_time": "2022-09-20T10:40:03.551Z"
   },
   {
    "duration": 32,
    "start_time": "2022-09-20T10:40:03.562Z"
   },
   {
    "duration": 11,
    "start_time": "2022-09-20T10:40:03.596Z"
   },
   {
    "duration": 16,
    "start_time": "2022-09-20T10:40:03.609Z"
   },
   {
    "duration": 1528,
    "start_time": "2022-09-20T10:40:03.628Z"
   },
   {
    "duration": 318,
    "start_time": "2022-09-20T10:40:05.157Z"
   },
   {
    "duration": 1785,
    "start_time": "2022-09-20T10:40:05.477Z"
   },
   {
    "duration": 5,
    "start_time": "2022-09-20T10:40:07.264Z"
   },
   {
    "duration": 1479,
    "start_time": "2022-09-20T10:40:07.271Z"
   },
   {
    "duration": 196,
    "start_time": "2022-09-20T10:40:08.752Z"
   },
   {
    "duration": 95,
    "start_time": "2022-09-20T10:40:08.951Z"
   },
   {
    "duration": 471,
    "start_time": "2022-09-20T10:40:09.049Z"
   },
   {
    "duration": 99,
    "start_time": "2022-09-20T10:40:09.523Z"
   },
   {
    "duration": 22,
    "start_time": "2022-09-20T10:40:09.623Z"
   },
   {
    "duration": 474,
    "start_time": "2022-09-20T10:40:09.646Z"
   },
   {
    "duration": 5,
    "start_time": "2022-09-20T10:40:10.123Z"
   },
   {
    "duration": 697,
    "start_time": "2022-09-20T10:40:10.130Z"
   },
   {
    "duration": 92,
    "start_time": "2022-09-20T10:40:10.829Z"
   },
   {
    "duration": 298,
    "start_time": "2022-09-20T10:40:10.923Z"
   },
   {
    "duration": 2308,
    "start_time": "2022-09-20T10:40:11.226Z"
   },
   {
    "duration": 26795,
    "start_time": "2022-09-20T10:40:13.535Z"
   },
   {
    "duration": 40167,
    "start_time": "2022-09-20T10:41:31.975Z"
   },
   {
    "duration": 4,
    "start_time": "2022-09-20T10:44:05.934Z"
   },
   {
    "duration": 1076,
    "start_time": "2022-09-20T10:44:10.645Z"
   },
   {
    "duration": 4,
    "start_time": "2022-09-20T10:46:54.166Z"
   },
   {
    "duration": 3,
    "start_time": "2022-09-20T10:46:54.194Z"
   },
   {
    "duration": 18,
    "start_time": "2022-09-20T10:46:54.199Z"
   },
   {
    "duration": 79,
    "start_time": "2022-09-20T10:46:54.219Z"
   },
   {
    "duration": 9,
    "start_time": "2022-09-20T10:46:54.300Z"
   },
   {
    "duration": 38,
    "start_time": "2022-09-20T10:46:54.311Z"
   },
   {
    "duration": 25,
    "start_time": "2022-09-20T10:46:54.351Z"
   },
   {
    "duration": 38,
    "start_time": "2022-09-20T10:46:54.378Z"
   },
   {
    "duration": 1456,
    "start_time": "2022-09-20T10:46:54.418Z"
   },
   {
    "duration": 410,
    "start_time": "2022-09-20T10:46:55.876Z"
   },
   {
    "duration": 1569,
    "start_time": "2022-09-20T10:46:56.287Z"
   },
   {
    "duration": 6,
    "start_time": "2022-09-20T10:46:57.858Z"
   },
   {
    "duration": 1623,
    "start_time": "2022-09-20T10:46:57.866Z"
   },
   {
    "duration": 189,
    "start_time": "2022-09-20T10:46:59.491Z"
   },
   {
    "duration": 81,
    "start_time": "2022-09-20T10:46:59.682Z"
   },
   {
    "duration": 456,
    "start_time": "2022-09-20T10:46:59.765Z"
   },
   {
    "duration": 100,
    "start_time": "2022-09-20T10:47:00.223Z"
   },
   {
    "duration": 51,
    "start_time": "2022-09-20T10:47:00.325Z"
   },
   {
    "duration": 449,
    "start_time": "2022-09-20T10:47:00.378Z"
   },
   {
    "duration": 92,
    "start_time": "2022-09-20T10:47:00.830Z"
   },
   {
    "duration": 697,
    "start_time": "2022-09-20T10:47:00.924Z"
   },
   {
    "duration": 6,
    "start_time": "2022-09-20T10:47:01.622Z"
   },
   {
    "duration": 396,
    "start_time": "2022-09-20T10:47:01.630Z"
   },
   {
    "duration": 2461,
    "start_time": "2022-09-20T10:47:02.030Z"
   },
   {
    "duration": 38794,
    "start_time": "2022-09-20T10:47:04.493Z"
   },
   {
    "duration": 4,
    "start_time": "2022-09-20T10:47:43.289Z"
   },
   {
    "duration": 1046,
    "start_time": "2022-09-20T10:47:43.294Z"
   },
   {
    "duration": 98,
    "start_time": "2022-09-20T10:48:31.596Z"
   },
   {
    "duration": 1057,
    "start_time": "2022-09-20T10:49:12.441Z"
   },
   {
    "duration": 1065,
    "start_time": "2022-09-20T10:50:15.127Z"
   },
   {
    "duration": 4,
    "start_time": "2022-09-20T10:51:40.466Z"
   },
   {
    "duration": 12,
    "start_time": "2022-09-20T10:51:40.471Z"
   },
   {
    "duration": 14,
    "start_time": "2022-09-20T10:51:40.485Z"
   },
   {
    "duration": 87,
    "start_time": "2022-09-20T10:51:40.501Z"
   },
   {
    "duration": 9,
    "start_time": "2022-09-20T10:51:40.590Z"
   },
   {
    "duration": 41,
    "start_time": "2022-09-20T10:51:40.600Z"
   },
   {
    "duration": 41,
    "start_time": "2022-09-20T10:51:40.643Z"
   },
   {
    "duration": 33,
    "start_time": "2022-09-20T10:51:40.686Z"
   },
   {
    "duration": 1686,
    "start_time": "2022-09-20T10:51:40.725Z"
   },
   {
    "duration": 359,
    "start_time": "2022-09-20T10:51:42.412Z"
   },
   {
    "duration": 1654,
    "start_time": "2022-09-20T10:51:42.773Z"
   },
   {
    "duration": 5,
    "start_time": "2022-09-20T10:51:44.428Z"
   },
   {
    "duration": 1453,
    "start_time": "2022-09-20T10:51:44.435Z"
   },
   {
    "duration": 189,
    "start_time": "2022-09-20T10:51:45.891Z"
   },
   {
    "duration": 76,
    "start_time": "2022-09-20T10:51:46.082Z"
   },
   {
    "duration": 461,
    "start_time": "2022-09-20T10:51:46.160Z"
   },
   {
    "duration": 104,
    "start_time": "2022-09-20T10:51:46.622Z"
   },
   {
    "duration": 36,
    "start_time": "2022-09-20T10:51:46.728Z"
   },
   {
    "duration": 456,
    "start_time": "2022-09-20T10:51:46.766Z"
   },
   {
    "duration": 6,
    "start_time": "2022-09-20T10:51:47.224Z"
   },
   {
    "duration": 700,
    "start_time": "2022-09-20T10:51:47.321Z"
   },
   {
    "duration": 95,
    "start_time": "2022-09-20T10:51:48.024Z"
   },
   {
    "duration": 300,
    "start_time": "2022-09-20T10:51:48.122Z"
   },
   {
    "duration": 2566,
    "start_time": "2022-09-20T10:51:48.428Z"
   },
   {
    "duration": 38390,
    "start_time": "2022-09-20T10:51:50.996Z"
   },
   {
    "duration": 5,
    "start_time": "2022-09-20T10:52:29.388Z"
   },
   {
    "duration": 1073,
    "start_time": "2022-09-20T10:52:29.395Z"
   },
   {
    "duration": 4,
    "start_time": "2022-09-20T10:55:52.533Z"
   },
   {
    "duration": 12,
    "start_time": "2022-09-20T10:55:52.538Z"
   },
   {
    "duration": 9,
    "start_time": "2022-09-20T10:55:52.552Z"
   },
   {
    "duration": 72,
    "start_time": "2022-09-20T10:55:52.564Z"
   },
   {
    "duration": 11,
    "start_time": "2022-09-20T10:55:52.638Z"
   },
   {
    "duration": 19,
    "start_time": "2022-09-20T10:55:52.651Z"
   },
   {
    "duration": 37,
    "start_time": "2022-09-20T10:55:52.672Z"
   },
   {
    "duration": 11,
    "start_time": "2022-09-20T10:55:52.711Z"
   },
   {
    "duration": 1407,
    "start_time": "2022-09-20T10:55:52.725Z"
   },
   {
    "duration": 316,
    "start_time": "2022-09-20T10:55:54.135Z"
   },
   {
    "duration": 1811,
    "start_time": "2022-09-20T10:55:54.453Z"
   },
   {
    "duration": 5,
    "start_time": "2022-09-20T10:55:56.267Z"
   },
   {
    "duration": 1834,
    "start_time": "2022-09-20T10:55:56.274Z"
   },
   {
    "duration": 191,
    "start_time": "2022-09-20T10:55:58.110Z"
   },
   {
    "duration": 71,
    "start_time": "2022-09-20T10:55:58.303Z"
   },
   {
    "duration": 545,
    "start_time": "2022-09-20T10:55:58.376Z"
   },
   {
    "duration": 16,
    "start_time": "2022-09-20T10:55:58.923Z"
   },
   {
    "duration": 40,
    "start_time": "2022-09-20T10:55:58.941Z"
   },
   {
    "duration": 440,
    "start_time": "2022-09-20T10:55:58.983Z"
   },
   {
    "duration": 6,
    "start_time": "2022-09-20T10:55:59.425Z"
   },
   {
    "duration": 608,
    "start_time": "2022-09-20T10:55:59.521Z"
   },
   {
    "duration": 93,
    "start_time": "2022-09-20T10:56:00.131Z"
   },
   {
    "duration": 495,
    "start_time": "2022-09-20T10:56:00.226Z"
   },
   {
    "duration": 2261,
    "start_time": "2022-09-20T10:56:00.723Z"
   },
   {
    "duration": 37121,
    "start_time": "2022-09-20T10:56:02.986Z"
   },
   {
    "duration": 5,
    "start_time": "2022-09-20T10:56:40.108Z"
   },
   {
    "duration": 193,
    "start_time": "2022-09-20T10:56:40.120Z"
   },
   {
    "duration": 1349,
    "start_time": "2022-09-20T10:57:34.359Z"
   },
   {
    "duration": 3,
    "start_time": "2022-09-20T10:57:35.710Z"
   },
   {
    "duration": 11,
    "start_time": "2022-09-20T10:57:35.714Z"
   },
   {
    "duration": 73,
    "start_time": "2022-09-20T10:57:35.727Z"
   },
   {
    "duration": 9,
    "start_time": "2022-09-20T10:57:35.803Z"
   },
   {
    "duration": 20,
    "start_time": "2022-09-20T10:57:35.813Z"
   },
   {
    "duration": 14,
    "start_time": "2022-09-20T10:57:35.835Z"
   },
   {
    "duration": 10,
    "start_time": "2022-09-20T10:57:35.851Z"
   },
   {
    "duration": 1541,
    "start_time": "2022-09-20T10:57:35.862Z"
   },
   {
    "duration": 326,
    "start_time": "2022-09-20T10:57:37.405Z"
   },
   {
    "duration": 1824,
    "start_time": "2022-09-20T10:57:37.733Z"
   },
   {
    "duration": 5,
    "start_time": "2022-09-20T10:57:39.559Z"
   },
   {
    "duration": 1507,
    "start_time": "2022-09-20T10:57:39.566Z"
   },
   {
    "duration": 242,
    "start_time": "2022-09-20T10:57:41.077Z"
   },
   {
    "duration": 78,
    "start_time": "2022-09-20T10:57:41.321Z"
   },
   {
    "duration": 424,
    "start_time": "2022-09-20T10:57:41.401Z"
   },
   {
    "duration": 96,
    "start_time": "2022-09-20T10:57:41.826Z"
   },
   {
    "duration": 22,
    "start_time": "2022-09-20T10:57:41.924Z"
   },
   {
    "duration": 477,
    "start_time": "2022-09-20T10:57:41.948Z"
   },
   {
    "duration": 5,
    "start_time": "2022-09-20T10:57:42.428Z"
   },
   {
    "duration": 611,
    "start_time": "2022-09-20T10:57:42.521Z"
   },
   {
    "duration": 6,
    "start_time": "2022-09-20T10:57:43.220Z"
   },
   {
    "duration": 399,
    "start_time": "2022-09-20T10:57:43.228Z"
   },
   {
    "duration": 2406,
    "start_time": "2022-09-20T10:57:43.630Z"
   },
   {
    "duration": 40099,
    "start_time": "2022-09-20T10:57:46.038Z"
   },
   {
    "duration": 5,
    "start_time": "2022-09-20T10:58:26.139Z"
   },
   {
    "duration": 1193,
    "start_time": "2022-09-20T10:58:26.146Z"
   },
   {
    "duration": 1446,
    "start_time": "2022-09-20T10:59:38.800Z"
   },
   {
    "duration": 2,
    "start_time": "2022-09-20T10:59:40.249Z"
   },
   {
    "duration": 5,
    "start_time": "2022-09-20T10:59:40.256Z"
   },
   {
    "duration": 70,
    "start_time": "2022-09-20T10:59:40.262Z"
   },
   {
    "duration": 9,
    "start_time": "2022-09-20T10:59:40.334Z"
   },
   {
    "duration": 17,
    "start_time": "2022-09-20T10:59:40.345Z"
   },
   {
    "duration": 21,
    "start_time": "2022-09-20T10:59:40.364Z"
   },
   {
    "duration": 19,
    "start_time": "2022-09-20T10:59:40.386Z"
   },
   {
    "duration": 1528,
    "start_time": "2022-09-20T10:59:40.408Z"
   },
   {
    "duration": 321,
    "start_time": "2022-09-20T10:59:41.938Z"
   },
   {
    "duration": 1671,
    "start_time": "2022-09-20T10:59:42.261Z"
   },
   {
    "duration": 5,
    "start_time": "2022-09-20T10:59:43.933Z"
   },
   {
    "duration": 1486,
    "start_time": "2022-09-20T10:59:43.939Z"
   },
   {
    "duration": 11,
    "start_time": "2022-09-20T10:59:45.427Z"
   },
   {
    "duration": 11,
    "start_time": "2022-09-20T10:59:45.440Z"
   },
   {
    "duration": 168,
    "start_time": "2022-09-20T10:59:45.452Z"
   },
   {
    "duration": 12,
    "start_time": "2022-09-20T10:59:45.622Z"
   },
   {
    "duration": 19,
    "start_time": "2022-09-20T10:59:45.636Z"
   },
   {
    "duration": 69,
    "start_time": "2022-09-20T10:59:45.657Z"
   },
   {
    "duration": 6,
    "start_time": "2022-09-20T10:59:45.728Z"
   },
   {
    "duration": 187,
    "start_time": "2022-09-20T10:59:45.735Z"
   },
   {
    "duration": 6,
    "start_time": "2022-09-20T10:59:45.924Z"
   },
   {
    "duration": 101,
    "start_time": "2022-09-20T10:59:46.021Z"
   },
   {
    "duration": 1044,
    "start_time": "2022-09-20T10:59:46.124Z"
   },
   {
    "duration": 15983,
    "start_time": "2022-09-20T10:59:47.170Z"
   },
   {
    "duration": 5,
    "start_time": "2022-09-20T11:00:03.154Z"
   },
   {
    "duration": 79,
    "start_time": "2022-09-20T11:00:03.162Z"
   },
   {
    "duration": 21,
    "start_time": "2022-09-20T11:00:46.928Z"
   },
   {
    "duration": 4,
    "start_time": "2022-09-20T11:00:52.624Z"
   },
   {
    "duration": 8,
    "start_time": "2022-09-20T11:00:52.631Z"
   },
   {
    "duration": 11,
    "start_time": "2022-09-20T11:00:52.641Z"
   },
   {
    "duration": 71,
    "start_time": "2022-09-20T11:00:52.654Z"
   },
   {
    "duration": 15,
    "start_time": "2022-09-20T11:00:52.728Z"
   },
   {
    "duration": 25,
    "start_time": "2022-09-20T11:00:52.746Z"
   },
   {
    "duration": 11,
    "start_time": "2022-09-20T11:00:52.773Z"
   },
   {
    "duration": 13,
    "start_time": "2022-09-20T11:00:52.786Z"
   },
   {
    "duration": 1479,
    "start_time": "2022-09-20T11:00:52.801Z"
   },
   {
    "duration": 322,
    "start_time": "2022-09-20T11:00:54.283Z"
   },
   {
    "duration": 1679,
    "start_time": "2022-09-20T11:00:54.607Z"
   },
   {
    "duration": 4,
    "start_time": "2022-09-20T11:00:56.288Z"
   },
   {
    "duration": 1616,
    "start_time": "2022-09-20T11:00:56.295Z"
   },
   {
    "duration": 17,
    "start_time": "2022-09-20T11:00:57.913Z"
   },
   {
    "duration": 22,
    "start_time": "2022-09-20T11:00:57.932Z"
   },
   {
    "duration": 75,
    "start_time": "2022-09-20T11:00:57.955Z"
   },
   {
    "duration": 12,
    "start_time": "2022-09-20T11:00:58.121Z"
   },
   {
    "duration": 22,
    "start_time": "2022-09-20T11:00:58.135Z"
   },
   {
    "duration": 68,
    "start_time": "2022-09-20T11:00:58.159Z"
   },
   {
    "duration": 93,
    "start_time": "2022-09-20T11:00:58.229Z"
   },
   {
    "duration": 98,
    "start_time": "2022-09-20T11:00:58.324Z"
   },
   {
    "duration": 96,
    "start_time": "2022-09-20T11:00:58.424Z"
   },
   {
    "duration": 102,
    "start_time": "2022-09-20T11:00:58.522Z"
   },
   {
    "duration": 1160,
    "start_time": "2022-09-20T11:00:58.626Z"
   },
   {
    "duration": 16136,
    "start_time": "2022-09-20T11:00:59.788Z"
   },
   {
    "duration": 5,
    "start_time": "2022-09-20T11:01:15.926Z"
   },
   {
    "duration": 66,
    "start_time": "2022-09-20T11:01:15.932Z"
   },
   {
    "duration": 60,
    "start_time": "2022-09-20T11:04:00.126Z"
   },
   {
    "duration": 62,
    "start_time": "2022-09-20T11:04:25.648Z"
   },
   {
    "duration": 5,
    "start_time": "2022-09-20T11:08:23.654Z"
   },
   {
    "duration": 62,
    "start_time": "2022-09-20T11:08:36.862Z"
   },
   {
    "duration": 65,
    "start_time": "2022-09-20T11:08:49.592Z"
   },
   {
    "duration": 12,
    "start_time": "2022-09-20T11:09:16.172Z"
   },
   {
    "duration": 1523,
    "start_time": "2022-09-20T11:09:23.302Z"
   },
   {
    "duration": 3,
    "start_time": "2022-09-20T11:09:24.827Z"
   },
   {
    "duration": 18,
    "start_time": "2022-09-20T11:09:24.832Z"
   },
   {
    "duration": 69,
    "start_time": "2022-09-20T11:09:24.852Z"
   },
   {
    "duration": 9,
    "start_time": "2022-09-20T11:09:24.923Z"
   },
   {
    "duration": 18,
    "start_time": "2022-09-20T11:09:24.934Z"
   },
   {
    "duration": 8,
    "start_time": "2022-09-20T11:09:24.955Z"
   },
   {
    "duration": 10,
    "start_time": "2022-09-20T11:09:24.965Z"
   },
   {
    "duration": 1666,
    "start_time": "2022-09-20T11:09:24.977Z"
   },
   {
    "duration": 413,
    "start_time": "2022-09-20T11:09:26.646Z"
   },
   {
    "duration": 1893,
    "start_time": "2022-09-20T11:09:27.061Z"
   },
   {
    "duration": 6,
    "start_time": "2022-09-20T11:09:28.957Z"
   },
   {
    "duration": 1616,
    "start_time": "2022-09-20T11:09:28.967Z"
   },
   {
    "duration": 13,
    "start_time": "2022-09-20T11:09:30.585Z"
   },
   {
    "duration": 39,
    "start_time": "2022-09-20T11:09:30.601Z"
   },
   {
    "duration": 84,
    "start_time": "2022-09-20T11:09:30.642Z"
   },
   {
    "duration": 223,
    "start_time": "2022-09-20T11:09:30.727Z"
   },
   {
    "duration": 45,
    "start_time": "2022-09-20T11:09:30.951Z"
   },
   {
    "duration": 130,
    "start_time": "2022-09-20T11:09:30.998Z"
   },
   {
    "duration": 102,
    "start_time": "2022-09-20T11:09:31.130Z"
   },
   {
    "duration": 90,
    "start_time": "2022-09-20T11:09:31.234Z"
   },
   {
    "duration": 5,
    "start_time": "2022-09-20T11:09:31.326Z"
   },
   {
    "duration": 200,
    "start_time": "2022-09-20T11:09:31.421Z"
   },
   {
    "duration": 1060,
    "start_time": "2022-09-20T11:09:31.623Z"
   },
   {
    "duration": 17015,
    "start_time": "2022-09-20T11:09:32.686Z"
   },
   {
    "duration": 4,
    "start_time": "2022-09-20T11:09:49.703Z"
   },
   {
    "duration": 73,
    "start_time": "2022-09-20T11:09:49.709Z"
   },
   {
    "duration": 12,
    "start_time": "2022-09-20T11:12:08.722Z"
   },
   {
    "duration": 15,
    "start_time": "2022-09-20T11:13:13.664Z"
   },
   {
    "duration": 14,
    "start_time": "2022-09-20T11:13:55.643Z"
   },
   {
    "duration": 183,
    "start_time": "2022-09-20T11:20:23.598Z"
   },
   {
    "duration": 72,
    "start_time": "2022-09-20T11:20:44.484Z"
   },
   {
    "duration": 75,
    "start_time": "2022-09-20T11:21:38.464Z"
   },
   {
    "duration": 67,
    "start_time": "2022-09-20T11:21:50.846Z"
   },
   {
    "duration": 58,
    "start_time": "2022-09-20T11:23:19.390Z"
   },
   {
    "duration": 60,
    "start_time": "2022-09-20T11:24:19.702Z"
   },
   {
    "duration": 1438,
    "start_time": "2022-09-20T11:24:34.760Z"
   },
   {
    "duration": 3,
    "start_time": "2022-09-20T11:24:36.200Z"
   },
   {
    "duration": 6,
    "start_time": "2022-09-20T11:24:36.205Z"
   },
   {
    "duration": 74,
    "start_time": "2022-09-20T11:24:36.220Z"
   },
   {
    "duration": 14,
    "start_time": "2022-09-20T11:24:36.297Z"
   },
   {
    "duration": 13,
    "start_time": "2022-09-20T11:24:36.312Z"
   },
   {
    "duration": 12,
    "start_time": "2022-09-20T11:24:36.327Z"
   },
   {
    "duration": 12,
    "start_time": "2022-09-20T11:24:36.341Z"
   },
   {
    "duration": 1562,
    "start_time": "2022-09-20T11:24:36.355Z"
   },
   {
    "duration": 321,
    "start_time": "2022-09-20T11:24:37.920Z"
   },
   {
    "duration": 1839,
    "start_time": "2022-09-20T11:24:38.242Z"
   },
   {
    "duration": 6,
    "start_time": "2022-09-20T11:24:40.083Z"
   },
   {
    "duration": 1512,
    "start_time": "2022-09-20T11:24:40.090Z"
   },
   {
    "duration": 39,
    "start_time": "2022-09-20T11:24:41.605Z"
   },
   {
    "duration": 21,
    "start_time": "2022-09-20T11:24:41.648Z"
   },
   {
    "duration": 72,
    "start_time": "2022-09-20T11:24:41.671Z"
   },
   {
    "duration": 16,
    "start_time": "2022-09-20T11:24:41.821Z"
   },
   {
    "duration": 38,
    "start_time": "2022-09-20T11:24:41.921Z"
   },
   {
    "duration": 65,
    "start_time": "2022-09-20T11:24:41.960Z"
   },
   {
    "duration": 94,
    "start_time": "2022-09-20T11:24:42.027Z"
   },
   {
    "duration": 98,
    "start_time": "2022-09-20T11:24:42.124Z"
   },
   {
    "duration": 107,
    "start_time": "2022-09-20T11:24:42.224Z"
   },
   {
    "duration": 87,
    "start_time": "2022-09-20T11:24:42.333Z"
   },
   {
    "duration": 1069,
    "start_time": "2022-09-20T11:24:42.422Z"
   },
   {
    "duration": 16186,
    "start_time": "2022-09-20T11:24:43.492Z"
   },
   {
    "duration": 5,
    "start_time": "2022-09-20T11:24:59.681Z"
   },
   {
    "duration": 73,
    "start_time": "2022-09-20T11:24:59.688Z"
   },
   {
    "duration": 74,
    "start_time": "2022-09-20T11:25:24.025Z"
   },
   {
    "duration": 67,
    "start_time": "2022-09-20T11:25:44.578Z"
   },
   {
    "duration": 4,
    "start_time": "2022-09-20T11:28:39.602Z"
   },
   {
    "duration": 4,
    "start_time": "2022-09-20T11:30:10.975Z"
   },
   {
    "duration": 5,
    "start_time": "2022-09-20T11:30:22.079Z"
   },
   {
    "duration": 9,
    "start_time": "2022-09-20T11:30:26.619Z"
   },
   {
    "duration": 81,
    "start_time": "2022-09-20T12:41:41.100Z"
   },
   {
    "duration": 75,
    "start_time": "2022-09-20T12:42:16.441Z"
   },
   {
    "duration": 79,
    "start_time": "2022-09-20T12:42:33.135Z"
   },
   {
    "duration": 76,
    "start_time": "2022-09-20T12:42:42.141Z"
   },
   {
    "duration": 5,
    "start_time": "2022-09-20T12:43:00.503Z"
   },
   {
    "duration": 29,
    "start_time": "2022-09-20T12:43:00.510Z"
   },
   {
    "duration": 28,
    "start_time": "2022-09-20T12:43:00.541Z"
   },
   {
    "duration": 96,
    "start_time": "2022-09-20T12:43:00.573Z"
   },
   {
    "duration": 10,
    "start_time": "2022-09-20T12:43:00.671Z"
   },
   {
    "duration": 22,
    "start_time": "2022-09-20T12:43:00.683Z"
   },
   {
    "duration": 26,
    "start_time": "2022-09-20T12:43:00.707Z"
   },
   {
    "duration": 13,
    "start_time": "2022-09-20T12:43:00.736Z"
   },
   {
    "duration": 1603,
    "start_time": "2022-09-20T12:43:00.751Z"
   },
   {
    "duration": 330,
    "start_time": "2022-09-20T12:43:02.357Z"
   },
   {
    "duration": 1720,
    "start_time": "2022-09-20T12:43:02.689Z"
   },
   {
    "duration": 21,
    "start_time": "2022-09-20T12:43:04.412Z"
   },
   {
    "duration": 1622,
    "start_time": "2022-09-20T12:43:04.435Z"
   },
   {
    "duration": 12,
    "start_time": "2022-09-20T12:43:06.058Z"
   },
   {
    "duration": 19,
    "start_time": "2022-09-20T12:43:06.072Z"
   },
   {
    "duration": 130,
    "start_time": "2022-09-20T12:43:06.093Z"
   },
   {
    "duration": 113,
    "start_time": "2022-09-20T12:43:06.224Z"
   },
   {
    "duration": 27,
    "start_time": "2022-09-20T12:43:06.340Z"
   },
   {
    "duration": 167,
    "start_time": "2022-09-20T12:43:06.370Z"
   },
   {
    "duration": 20,
    "start_time": "2022-09-20T12:43:06.540Z"
   },
   {
    "duration": 79,
    "start_time": "2022-09-20T12:43:06.562Z"
   },
   {
    "duration": 18,
    "start_time": "2022-09-20T12:43:06.722Z"
   },
   {
    "duration": 91,
    "start_time": "2022-09-20T12:43:06.742Z"
   },
   {
    "duration": 1116,
    "start_time": "2022-09-20T12:43:06.837Z"
   },
   {
    "duration": 16342,
    "start_time": "2022-09-20T12:43:07.955Z"
   },
   {
    "duration": 5,
    "start_time": "2022-09-20T12:43:24.299Z"
   },
   {
    "duration": 5,
    "start_time": "2022-09-20T12:43:36.473Z"
   },
   {
    "duration": 9,
    "start_time": "2022-09-20T12:43:36.480Z"
   },
   {
    "duration": 16,
    "start_time": "2022-09-20T12:43:36.490Z"
   },
   {
    "duration": 74,
    "start_time": "2022-09-20T12:43:36.509Z"
   },
   {
    "duration": 9,
    "start_time": "2022-09-20T12:43:36.585Z"
   },
   {
    "duration": 18,
    "start_time": "2022-09-20T12:43:36.596Z"
   },
   {
    "duration": 13,
    "start_time": "2022-09-20T12:43:36.616Z"
   },
   {
    "duration": 17,
    "start_time": "2022-09-20T12:43:36.630Z"
   },
   {
    "duration": 1734,
    "start_time": "2022-09-20T12:43:36.649Z"
   },
   {
    "duration": 349,
    "start_time": "2022-09-20T12:43:38.385Z"
   },
   {
    "duration": 1922,
    "start_time": "2022-09-20T12:43:38.738Z"
   },
   {
    "duration": 5,
    "start_time": "2022-09-20T12:43:40.662Z"
   },
   {
    "duration": 1560,
    "start_time": "2022-09-20T12:43:40.668Z"
   },
   {
    "duration": 16,
    "start_time": "2022-09-20T12:43:42.230Z"
   },
   {
    "duration": 22,
    "start_time": "2022-09-20T12:43:42.248Z"
   },
   {
    "duration": 60,
    "start_time": "2022-09-20T12:43:42.272Z"
   },
   {
    "duration": 94,
    "start_time": "2022-09-20T12:43:42.334Z"
   },
   {
    "duration": 38,
    "start_time": "2022-09-20T12:43:42.430Z"
   },
   {
    "duration": 70,
    "start_time": "2022-09-20T12:43:42.470Z"
   },
   {
    "duration": 12,
    "start_time": "2022-09-20T12:43:42.621Z"
   },
   {
    "duration": 88,
    "start_time": "2022-09-20T12:43:42.636Z"
   },
   {
    "duration": 6,
    "start_time": "2022-09-20T12:43:42.726Z"
   },
   {
    "duration": 192,
    "start_time": "2022-09-20T12:43:42.733Z"
   },
   {
    "duration": 1117,
    "start_time": "2022-09-20T12:43:42.931Z"
   },
   {
    "duration": 16489,
    "start_time": "2022-09-20T12:43:44.050Z"
   },
   {
    "duration": 5,
    "start_time": "2022-09-20T12:44:00.541Z"
   },
   {
    "duration": 115,
    "start_time": "2022-09-20T12:44:00.548Z"
   },
   {
    "duration": 75,
    "start_time": "2022-09-20T12:45:57.664Z"
   },
   {
    "duration": 76,
    "start_time": "2022-09-20T12:46:01.920Z"
   },
   {
    "duration": 5,
    "start_time": "2022-09-20T12:46:04.848Z"
   },
   {
    "duration": 29,
    "start_time": "2022-09-20T12:46:04.855Z"
   },
   {
    "duration": 21,
    "start_time": "2022-09-20T12:46:04.886Z"
   },
   {
    "duration": 88,
    "start_time": "2022-09-20T12:46:04.909Z"
   },
   {
    "duration": 10,
    "start_time": "2022-09-20T12:46:04.999Z"
   },
   {
    "duration": 30,
    "start_time": "2022-09-20T12:46:05.010Z"
   },
   {
    "duration": 40,
    "start_time": "2022-09-20T12:46:05.041Z"
   },
   {
    "duration": 9,
    "start_time": "2022-09-20T12:46:05.083Z"
   },
   {
    "duration": 1611,
    "start_time": "2022-09-20T12:46:05.094Z"
   },
   {
    "duration": 320,
    "start_time": "2022-09-20T12:46:06.708Z"
   },
   {
    "duration": 1680,
    "start_time": "2022-09-20T12:46:07.029Z"
   },
   {
    "duration": 12,
    "start_time": "2022-09-20T12:46:08.711Z"
   },
   {
    "duration": 1680,
    "start_time": "2022-09-20T12:46:08.724Z"
   },
   {
    "duration": 21,
    "start_time": "2022-09-20T12:46:10.406Z"
   },
   {
    "duration": 15,
    "start_time": "2022-09-20T12:46:10.429Z"
   },
   {
    "duration": 80,
    "start_time": "2022-09-20T12:46:10.446Z"
   },
   {
    "duration": 100,
    "start_time": "2022-09-20T12:46:10.528Z"
   },
   {
    "duration": 19,
    "start_time": "2022-09-20T12:46:10.630Z"
   },
   {
    "duration": 78,
    "start_time": "2022-09-20T12:46:10.651Z"
   },
   {
    "duration": 5,
    "start_time": "2022-09-20T12:46:10.821Z"
   },
   {
    "duration": 96,
    "start_time": "2022-09-20T12:46:10.828Z"
   },
   {
    "duration": 95,
    "start_time": "2022-09-20T12:46:10.926Z"
   },
   {
    "duration": 99,
    "start_time": "2022-09-20T12:46:11.023Z"
   },
   {
    "duration": 1074,
    "start_time": "2022-09-20T12:46:11.123Z"
   },
   {
    "duration": 16071,
    "start_time": "2022-09-20T12:46:12.199Z"
   },
   {
    "duration": 5,
    "start_time": "2022-09-20T12:46:28.271Z"
   },
   {
    "duration": 4,
    "start_time": "2022-09-20T12:47:59.744Z"
   },
   {
    "duration": 17,
    "start_time": "2022-09-20T12:47:59.750Z"
   },
   {
    "duration": 10,
    "start_time": "2022-09-20T12:47:59.769Z"
   },
   {
    "duration": 69,
    "start_time": "2022-09-20T12:47:59.782Z"
   },
   {
    "duration": 9,
    "start_time": "2022-09-20T12:47:59.853Z"
   },
   {
    "duration": 15,
    "start_time": "2022-09-20T12:47:59.864Z"
   },
   {
    "duration": 12,
    "start_time": "2022-09-20T12:47:59.882Z"
   },
   {
    "duration": 24,
    "start_time": "2022-09-20T12:47:59.896Z"
   },
   {
    "duration": 1595,
    "start_time": "2022-09-20T12:47:59.922Z"
   },
   {
    "duration": 318,
    "start_time": "2022-09-20T12:48:01.522Z"
   },
   {
    "duration": 1569,
    "start_time": "2022-09-20T12:48:01.842Z"
   },
   {
    "duration": 10,
    "start_time": "2022-09-20T12:48:03.413Z"
   },
   {
    "duration": 1611,
    "start_time": "2022-09-20T12:48:03.424Z"
   },
   {
    "duration": 12,
    "start_time": "2022-09-20T12:48:05.036Z"
   },
   {
    "duration": 22,
    "start_time": "2022-09-20T12:48:05.050Z"
   },
   {
    "duration": 146,
    "start_time": "2022-09-20T12:48:05.074Z"
   },
   {
    "duration": 101,
    "start_time": "2022-09-20T12:48:05.223Z"
   },
   {
    "duration": 21,
    "start_time": "2022-09-20T12:48:05.326Z"
   },
   {
    "duration": 78,
    "start_time": "2022-09-20T12:48:05.349Z"
   },
   {
    "duration": 93,
    "start_time": "2022-09-20T12:48:05.430Z"
   },
   {
    "duration": 97,
    "start_time": "2022-09-20T12:48:05.525Z"
   },
   {
    "duration": 97,
    "start_time": "2022-09-20T12:48:05.623Z"
   },
   {
    "duration": 103,
    "start_time": "2022-09-20T12:48:05.722Z"
   },
   {
    "duration": 1122,
    "start_time": "2022-09-20T12:48:05.827Z"
   },
   {
    "duration": 16320,
    "start_time": "2022-09-20T12:48:06.951Z"
   },
   {
    "duration": 5,
    "start_time": "2022-09-20T12:48:23.273Z"
   },
   {
    "duration": 89,
    "start_time": "2022-09-20T12:48:23.280Z"
   },
   {
    "duration": 4,
    "start_time": "2022-09-20T12:48:42.150Z"
   },
   {
    "duration": 8,
    "start_time": "2022-09-20T12:48:42.156Z"
   },
   {
    "duration": 9,
    "start_time": "2022-09-20T12:48:42.165Z"
   },
   {
    "duration": 64,
    "start_time": "2022-09-20T12:48:42.175Z"
   },
   {
    "duration": 10,
    "start_time": "2022-09-20T12:48:42.241Z"
   },
   {
    "duration": 20,
    "start_time": "2022-09-20T12:48:42.252Z"
   },
   {
    "duration": 10,
    "start_time": "2022-09-20T12:48:42.273Z"
   },
   {
    "duration": 17,
    "start_time": "2022-09-20T12:48:42.285Z"
   },
   {
    "duration": 1493,
    "start_time": "2022-09-20T12:48:42.304Z"
   },
   {
    "duration": 322,
    "start_time": "2022-09-20T12:48:43.798Z"
   },
   {
    "duration": 1609,
    "start_time": "2022-09-20T12:48:44.123Z"
   },
   {
    "duration": 5,
    "start_time": "2022-09-20T12:48:45.734Z"
   },
   {
    "duration": 1605,
    "start_time": "2022-09-20T12:48:45.741Z"
   },
   {
    "duration": 11,
    "start_time": "2022-09-20T12:48:47.348Z"
   },
   {
    "duration": 19,
    "start_time": "2022-09-20T12:48:47.361Z"
   },
   {
    "duration": 57,
    "start_time": "2022-09-20T12:48:47.381Z"
   },
   {
    "duration": 104,
    "start_time": "2022-09-20T12:48:47.521Z"
   },
   {
    "duration": 23,
    "start_time": "2022-09-20T12:48:47.627Z"
   },
   {
    "duration": 74,
    "start_time": "2022-09-20T12:48:47.652Z"
   },
   {
    "duration": 93,
    "start_time": "2022-09-20T12:48:47.728Z"
   },
   {
    "duration": 100,
    "start_time": "2022-09-20T12:48:47.823Z"
   },
   {
    "duration": 95,
    "start_time": "2022-09-20T12:48:47.925Z"
   },
   {
    "duration": 99,
    "start_time": "2022-09-20T12:48:48.023Z"
   },
   {
    "duration": 1124,
    "start_time": "2022-09-20T12:48:48.126Z"
   },
   {
    "duration": 15954,
    "start_time": "2022-09-20T12:48:49.252Z"
   },
   {
    "duration": 15,
    "start_time": "2022-09-20T12:49:05.208Z"
   },
   {
    "duration": 89,
    "start_time": "2022-09-20T12:49:05.225Z"
   },
   {
    "duration": 6,
    "start_time": "2022-09-20T12:49:05.316Z"
   },
   {
    "duration": 5,
    "start_time": "2022-09-20T12:49:35.145Z"
   },
   {
    "duration": 5,
    "start_time": "2022-09-20T12:49:35.157Z"
   },
   {
    "duration": 8,
    "start_time": "2022-09-20T12:49:35.163Z"
   },
   {
    "duration": 73,
    "start_time": "2022-09-20T12:49:35.172Z"
   },
   {
    "duration": 11,
    "start_time": "2022-09-20T12:49:35.247Z"
   },
   {
    "duration": 12,
    "start_time": "2022-09-20T12:49:35.260Z"
   },
   {
    "duration": 16,
    "start_time": "2022-09-20T12:49:35.273Z"
   },
   {
    "duration": 9,
    "start_time": "2022-09-20T12:49:35.291Z"
   },
   {
    "duration": 1495,
    "start_time": "2022-09-20T12:49:35.320Z"
   },
   {
    "duration": 463,
    "start_time": "2022-09-20T12:49:36.817Z"
   },
   {
    "duration": 1578,
    "start_time": "2022-09-20T12:49:37.282Z"
   },
   {
    "duration": 7,
    "start_time": "2022-09-20T12:49:38.862Z"
   },
   {
    "duration": 1642,
    "start_time": "2022-09-20T12:49:38.870Z"
   },
   {
    "duration": 12,
    "start_time": "2022-09-20T12:49:40.520Z"
   },
   {
    "duration": 30,
    "start_time": "2022-09-20T12:49:40.535Z"
   },
   {
    "duration": 60,
    "start_time": "2022-09-20T12:49:40.566Z"
   },
   {
    "duration": 102,
    "start_time": "2022-09-20T12:49:40.629Z"
   },
   {
    "duration": 26,
    "start_time": "2022-09-20T12:49:40.733Z"
   },
   {
    "duration": 159,
    "start_time": "2022-09-20T12:49:40.762Z"
   },
   {
    "duration": 5,
    "start_time": "2022-09-20T12:49:40.923Z"
   },
   {
    "duration": 94,
    "start_time": "2022-09-20T12:49:40.930Z"
   },
   {
    "duration": 96,
    "start_time": "2022-09-20T12:49:41.026Z"
   },
   {
    "duration": 98,
    "start_time": "2022-09-20T12:49:41.124Z"
   },
   {
    "duration": 1133,
    "start_time": "2022-09-20T12:49:41.224Z"
   },
   {
    "duration": 15951,
    "start_time": "2022-09-20T12:49:42.359Z"
   },
   {
    "duration": 9,
    "start_time": "2022-09-20T12:49:58.312Z"
   },
   {
    "duration": 103,
    "start_time": "2022-09-20T12:49:58.323Z"
   },
   {
    "duration": 6,
    "start_time": "2022-09-20T12:49:58.428Z"
   },
   {
    "duration": 4,
    "start_time": "2022-09-20T13:00:06.098Z"
   },
   {
    "duration": 21,
    "start_time": "2022-09-20T13:00:06.104Z"
   },
   {
    "duration": 11,
    "start_time": "2022-09-20T13:00:06.126Z"
   },
   {
    "duration": 67,
    "start_time": "2022-09-20T13:00:06.139Z"
   },
   {
    "duration": 9,
    "start_time": "2022-09-20T13:00:06.207Z"
   },
   {
    "duration": 11,
    "start_time": "2022-09-20T13:00:06.218Z"
   },
   {
    "duration": 10,
    "start_time": "2022-09-20T13:00:06.230Z"
   },
   {
    "duration": 12,
    "start_time": "2022-09-20T13:00:06.241Z"
   },
   {
    "duration": 1614,
    "start_time": "2022-09-20T13:00:06.255Z"
   },
   {
    "duration": 352,
    "start_time": "2022-09-20T13:00:07.871Z"
   },
   {
    "duration": 1805,
    "start_time": "2022-09-20T13:00:08.224Z"
   },
   {
    "duration": 5,
    "start_time": "2022-09-20T13:00:10.031Z"
   },
   {
    "duration": 1532,
    "start_time": "2022-09-20T13:00:10.037Z"
   },
   {
    "duration": 13,
    "start_time": "2022-09-20T13:00:11.570Z"
   },
   {
    "duration": 19,
    "start_time": "2022-09-20T13:00:11.584Z"
   },
   {
    "duration": 121,
    "start_time": "2022-09-20T13:00:11.605Z"
   },
   {
    "duration": 101,
    "start_time": "2022-09-20T13:00:11.728Z"
   },
   {
    "duration": 25,
    "start_time": "2022-09-20T13:00:11.831Z"
   },
   {
    "duration": 69,
    "start_time": "2022-09-20T13:00:11.858Z"
   },
   {
    "duration": 93,
    "start_time": "2022-09-20T13:00:11.928Z"
   },
   {
    "duration": 199,
    "start_time": "2022-09-20T13:00:12.023Z"
   },
   {
    "duration": 97,
    "start_time": "2022-09-20T13:00:12.224Z"
   },
   {
    "duration": 201,
    "start_time": "2022-09-20T13:00:12.323Z"
   },
   {
    "duration": 966,
    "start_time": "2022-09-20T13:00:12.620Z"
   },
   {
    "duration": 10638,
    "start_time": "2022-09-20T13:00:13.587Z"
   },
   {
    "duration": 5,
    "start_time": "2022-09-20T13:00:24.227Z"
   },
   {
    "duration": 99,
    "start_time": "2022-09-20T13:00:24.233Z"
   },
   {
    "duration": 7,
    "start_time": "2022-09-20T13:00:24.334Z"
   },
   {
    "duration": 1532,
    "start_time": "2022-09-20T13:00:54.682Z"
   },
   {
    "duration": 3,
    "start_time": "2022-09-20T13:00:56.217Z"
   },
   {
    "duration": 8,
    "start_time": "2022-09-20T13:00:56.222Z"
   },
   {
    "duration": 72,
    "start_time": "2022-09-20T13:00:56.233Z"
   },
   {
    "duration": 10,
    "start_time": "2022-09-20T13:00:56.307Z"
   },
   {
    "duration": 16,
    "start_time": "2022-09-20T13:00:56.319Z"
   },
   {
    "duration": 11,
    "start_time": "2022-09-20T13:00:56.337Z"
   },
   {
    "duration": 10,
    "start_time": "2022-09-20T13:00:56.350Z"
   },
   {
    "duration": 1636,
    "start_time": "2022-09-20T13:00:56.363Z"
   },
   {
    "duration": 331,
    "start_time": "2022-09-20T13:00:58.002Z"
   },
   {
    "duration": 1977,
    "start_time": "2022-09-20T13:00:58.335Z"
   },
   {
    "duration": 6,
    "start_time": "2022-09-20T13:01:00.320Z"
   },
   {
    "duration": 1582,
    "start_time": "2022-09-20T13:01:00.328Z"
   },
   {
    "duration": 15,
    "start_time": "2022-09-20T13:01:01.912Z"
   },
   {
    "duration": 79,
    "start_time": "2022-09-20T13:01:01.929Z"
   },
   {
    "duration": 123,
    "start_time": "2022-09-20T13:01:02.010Z"
   },
   {
    "duration": 98,
    "start_time": "2022-09-20T13:01:02.135Z"
   },
   {
    "duration": 26,
    "start_time": "2022-09-20T13:01:02.235Z"
   },
   {
    "duration": 61,
    "start_time": "2022-09-20T13:01:02.263Z"
   },
   {
    "duration": 96,
    "start_time": "2022-09-20T13:01:02.326Z"
   },
   {
    "duration": 97,
    "start_time": "2022-09-20T13:01:02.424Z"
   },
   {
    "duration": 99,
    "start_time": "2022-09-20T13:01:02.523Z"
   },
   {
    "duration": 96,
    "start_time": "2022-09-20T13:01:02.624Z"
   },
   {
    "duration": 1073,
    "start_time": "2022-09-20T13:01:02.723Z"
   },
   {
    "duration": 10670,
    "start_time": "2022-09-20T13:01:03.797Z"
   },
   {
    "duration": 5,
    "start_time": "2022-09-20T13:01:14.469Z"
   },
   {
    "duration": 109,
    "start_time": "2022-09-20T13:01:14.476Z"
   },
   {
    "duration": 7,
    "start_time": "2022-09-20T13:01:14.588Z"
   },
   {
    "duration": 100,
    "start_time": "2022-09-20T13:24:36.031Z"
   },
   {
    "duration": 171,
    "start_time": "2022-09-20T13:25:04.751Z"
   },
   {
    "duration": 204,
    "start_time": "2022-09-20T13:25:36.319Z"
   },
   {
    "duration": 304,
    "start_time": "2022-09-20T13:28:18.724Z"
   },
   {
    "duration": 105,
    "start_time": "2022-09-20T13:28:26.524Z"
   },
   {
    "duration": 86,
    "start_time": "2022-09-20T13:30:58.871Z"
   },
   {
    "duration": 1456,
    "start_time": "2022-09-20T13:53:57.683Z"
   },
   {
    "duration": 4,
    "start_time": "2022-09-20T13:53:59.142Z"
   },
   {
    "duration": 7,
    "start_time": "2022-09-20T13:53:59.148Z"
   },
   {
    "duration": 72,
    "start_time": "2022-09-20T13:53:59.158Z"
   },
   {
    "duration": 10,
    "start_time": "2022-09-20T13:53:59.232Z"
   },
   {
    "duration": 15,
    "start_time": "2022-09-20T13:53:59.244Z"
   },
   {
    "duration": 9,
    "start_time": "2022-09-20T13:53:59.261Z"
   },
   {
    "duration": 11,
    "start_time": "2022-09-20T13:53:59.271Z"
   },
   {
    "duration": 1580,
    "start_time": "2022-09-20T13:53:59.283Z"
   },
   {
    "duration": 317,
    "start_time": "2022-09-20T13:54:00.866Z"
   },
   {
    "duration": 1735,
    "start_time": "2022-09-20T13:54:01.185Z"
   },
   {
    "duration": 5,
    "start_time": "2022-09-20T13:54:02.922Z"
   },
   {
    "duration": 1533,
    "start_time": "2022-09-20T13:54:02.929Z"
   },
   {
    "duration": 12,
    "start_time": "2022-09-20T13:54:04.464Z"
   },
   {
    "duration": 19,
    "start_time": "2022-09-20T13:54:04.477Z"
   },
   {
    "duration": 124,
    "start_time": "2022-09-20T13:54:04.498Z"
   },
   {
    "duration": 104,
    "start_time": "2022-09-20T13:54:04.627Z"
   },
   {
    "duration": 15,
    "start_time": "2022-09-20T13:54:04.733Z"
   },
   {
    "duration": 171,
    "start_time": "2022-09-20T13:54:04.750Z"
   },
   {
    "duration": 11,
    "start_time": "2022-09-20T13:54:04.923Z"
   },
   {
    "duration": 89,
    "start_time": "2022-09-20T13:54:04.936Z"
   },
   {
    "duration": 104,
    "start_time": "2022-09-20T13:54:05.026Z"
   },
   {
    "duration": 93,
    "start_time": "2022-09-20T13:54:05.132Z"
   },
   {
    "duration": 1033,
    "start_time": "2022-09-20T13:54:05.227Z"
   },
   {
    "duration": 10500,
    "start_time": "2022-09-20T13:54:06.262Z"
   },
   {
    "duration": 4,
    "start_time": "2022-09-20T13:54:16.764Z"
   },
   {
    "duration": 180,
    "start_time": "2022-09-20T13:54:16.769Z"
   },
   {
    "duration": 0,
    "start_time": "2022-09-20T13:54:16.950Z"
   },
   {
    "duration": 67,
    "start_time": "2022-09-20T13:54:45.415Z"
   },
   {
    "duration": 1521,
    "start_time": "2022-09-20T13:55:17.885Z"
   },
   {
    "duration": 3,
    "start_time": "2022-09-20T13:55:19.408Z"
   },
   {
    "duration": 18,
    "start_time": "2022-09-20T13:55:19.412Z"
   },
   {
    "duration": 75,
    "start_time": "2022-09-20T13:55:19.432Z"
   },
   {
    "duration": 9,
    "start_time": "2022-09-20T13:55:19.510Z"
   },
   {
    "duration": 16,
    "start_time": "2022-09-20T13:55:19.521Z"
   },
   {
    "duration": 8,
    "start_time": "2022-09-20T13:55:19.539Z"
   },
   {
    "duration": 9,
    "start_time": "2022-09-20T13:55:19.548Z"
   },
   {
    "duration": 1568,
    "start_time": "2022-09-20T13:55:19.559Z"
   },
   {
    "duration": 321,
    "start_time": "2022-09-20T13:55:21.129Z"
   },
   {
    "duration": 1774,
    "start_time": "2022-09-20T13:55:21.452Z"
   },
   {
    "duration": 5,
    "start_time": "2022-09-20T13:55:23.228Z"
   },
   {
    "duration": 1471,
    "start_time": "2022-09-20T13:55:23.235Z"
   },
   {
    "duration": 18,
    "start_time": "2022-09-20T13:55:24.709Z"
   },
   {
    "duration": 15,
    "start_time": "2022-09-20T13:55:24.729Z"
   },
   {
    "duration": 78,
    "start_time": "2022-09-20T13:55:24.746Z"
   },
   {
    "duration": 101,
    "start_time": "2022-09-20T13:55:24.826Z"
   },
   {
    "duration": 27,
    "start_time": "2022-09-20T13:55:24.929Z"
   },
   {
    "duration": 69,
    "start_time": "2022-09-20T13:55:24.959Z"
   },
   {
    "duration": 110,
    "start_time": "2022-09-20T13:55:25.031Z"
   },
   {
    "duration": 81,
    "start_time": "2022-09-20T13:55:25.143Z"
   },
   {
    "duration": 97,
    "start_time": "2022-09-20T13:55:25.226Z"
   },
   {
    "duration": 96,
    "start_time": "2022-09-20T13:55:25.325Z"
   },
   {
    "duration": 1095,
    "start_time": "2022-09-20T13:55:25.425Z"
   },
   {
    "duration": 10535,
    "start_time": "2022-09-20T13:55:26.522Z"
   },
   {
    "duration": 5,
    "start_time": "2022-09-20T13:55:37.059Z"
   },
   {
    "duration": 82,
    "start_time": "2022-09-20T13:55:37.066Z"
   },
   {
    "duration": 170,
    "start_time": "2022-09-20T13:55:37.150Z"
   },
   {
    "duration": 1390,
    "start_time": "2022-09-20T13:57:15.825Z"
   },
   {
    "duration": 3,
    "start_time": "2022-09-20T13:57:17.217Z"
   },
   {
    "duration": 12,
    "start_time": "2022-09-20T13:57:17.221Z"
   },
   {
    "duration": 76,
    "start_time": "2022-09-20T13:57:17.236Z"
   },
   {
    "duration": 10,
    "start_time": "2022-09-20T13:57:17.313Z"
   },
   {
    "duration": 19,
    "start_time": "2022-09-20T13:57:17.325Z"
   },
   {
    "duration": 16,
    "start_time": "2022-09-20T13:57:17.346Z"
   },
   {
    "duration": 18,
    "start_time": "2022-09-20T13:57:17.363Z"
   },
   {
    "duration": 1551,
    "start_time": "2022-09-20T13:57:17.383Z"
   },
   {
    "duration": 387,
    "start_time": "2022-09-20T13:57:18.938Z"
   },
   {
    "duration": 1702,
    "start_time": "2022-09-20T13:57:19.327Z"
   },
   {
    "duration": 5,
    "start_time": "2022-09-20T13:57:21.031Z"
   },
   {
    "duration": 1504,
    "start_time": "2022-09-20T13:57:21.038Z"
   },
   {
    "duration": 243,
    "start_time": "2022-09-20T13:57:22.544Z"
   },
   {
    "duration": 84,
    "start_time": "2022-09-20T13:57:22.789Z"
   },
   {
    "duration": 452,
    "start_time": "2022-09-20T13:57:22.875Z"
   },
   {
    "duration": 97,
    "start_time": "2022-09-20T13:57:23.329Z"
   },
   {
    "duration": 37,
    "start_time": "2022-09-20T13:57:23.427Z"
   },
   {
    "duration": 555,
    "start_time": "2022-09-20T13:57:23.466Z"
   },
   {
    "duration": 103,
    "start_time": "2022-09-20T13:57:24.023Z"
   },
   {
    "duration": 593,
    "start_time": "2022-09-20T13:57:24.128Z"
   },
   {
    "duration": 142,
    "start_time": "2022-09-20T13:57:24.723Z"
   },
   {
    "duration": 261,
    "start_time": "2022-09-20T13:57:24.867Z"
   },
   {
    "duration": 2465,
    "start_time": "2022-09-20T13:57:25.130Z"
   },
   {
    "duration": 27805,
    "start_time": "2022-09-20T13:57:27.597Z"
   },
   {
    "duration": 6,
    "start_time": "2022-09-20T13:57:55.403Z"
   },
   {
    "duration": 1283,
    "start_time": "2022-09-20T13:57:55.411Z"
   },
   {
    "duration": 1430,
    "start_time": "2022-09-20T13:57:56.697Z"
   },
   {
    "duration": 90,
    "start_time": "2022-09-20T14:03:03.748Z"
   },
   {
    "duration": 132,
    "start_time": "2022-09-20T14:03:08.291Z"
   },
   {
    "duration": 3,
    "start_time": "2022-09-20T14:03:38.464Z"
   },
   {
    "duration": 37,
    "start_time": "2022-09-20T14:03:38.469Z"
   },
   {
    "duration": 22,
    "start_time": "2022-09-20T14:03:38.508Z"
   },
   {
    "duration": 75,
    "start_time": "2022-09-20T14:03:38.533Z"
   },
   {
    "duration": 9,
    "start_time": "2022-09-20T14:03:38.610Z"
   },
   {
    "duration": 51,
    "start_time": "2022-09-20T14:03:38.621Z"
   },
   {
    "duration": 35,
    "start_time": "2022-09-20T14:03:38.674Z"
   },
   {
    "duration": 33,
    "start_time": "2022-09-20T14:03:38.711Z"
   },
   {
    "duration": 1538,
    "start_time": "2022-09-20T14:03:38.747Z"
   },
   {
    "duration": 305,
    "start_time": "2022-09-20T14:03:40.287Z"
   },
   {
    "duration": 1709,
    "start_time": "2022-09-20T14:03:40.594Z"
   },
   {
    "duration": 5,
    "start_time": "2022-09-20T14:03:42.305Z"
   },
   {
    "duration": 1582,
    "start_time": "2022-09-20T14:03:42.312Z"
   },
   {
    "duration": 209,
    "start_time": "2022-09-20T14:03:43.896Z"
   },
   {
    "duration": 81,
    "start_time": "2022-09-20T14:03:44.107Z"
   },
   {
    "duration": 433,
    "start_time": "2022-09-20T14:03:44.190Z"
   },
   {
    "duration": 100,
    "start_time": "2022-09-20T14:03:44.624Z"
   },
   {
    "duration": 28,
    "start_time": "2022-09-20T14:03:44.725Z"
   },
   {
    "duration": 471,
    "start_time": "2022-09-20T14:03:44.755Z"
   },
   {
    "duration": 154,
    "start_time": "2022-09-20T14:03:45.228Z"
   },
   {
    "duration": 539,
    "start_time": "2022-09-20T14:03:45.384Z"
   },
   {
    "duration": 139,
    "start_time": "2022-09-20T14:03:45.925Z"
   },
   {
    "duration": 261,
    "start_time": "2022-09-20T14:03:46.066Z"
   },
   {
    "duration": 2274,
    "start_time": "2022-09-20T14:03:46.331Z"
   },
   {
    "duration": 26973,
    "start_time": "2022-09-20T14:03:48.607Z"
   },
   {
    "duration": 4,
    "start_time": "2022-09-20T14:04:15.582Z"
   },
   {
    "duration": 1105,
    "start_time": "2022-09-20T14:04:15.588Z"
   },
   {
    "duration": 116,
    "start_time": "2022-09-20T14:04:16.695Z"
   },
   {
    "duration": 112,
    "start_time": "2022-09-20T14:04:21.549Z"
   },
   {
    "duration": 111,
    "start_time": "2022-09-20T14:04:27.222Z"
   },
   {
    "duration": 1561,
    "start_time": "2022-09-20T14:21:58.001Z"
   },
   {
    "duration": 3,
    "start_time": "2022-09-20T14:21:59.564Z"
   },
   {
    "duration": 13,
    "start_time": "2022-09-20T14:21:59.569Z"
   },
   {
    "duration": 81,
    "start_time": "2022-09-20T14:21:59.584Z"
   },
   {
    "duration": 9,
    "start_time": "2022-09-20T14:21:59.667Z"
   },
   {
    "duration": 14,
    "start_time": "2022-09-20T14:21:59.677Z"
   },
   {
    "duration": 38,
    "start_time": "2022-09-20T14:21:59.692Z"
   },
   {
    "duration": 10,
    "start_time": "2022-09-20T14:21:59.732Z"
   },
   {
    "duration": 1688,
    "start_time": "2022-09-20T14:21:59.744Z"
   },
   {
    "duration": 342,
    "start_time": "2022-09-20T14:22:01.435Z"
   },
   {
    "duration": 1828,
    "start_time": "2022-09-20T14:22:01.779Z"
   },
   {
    "duration": 22,
    "start_time": "2022-09-20T14:22:03.610Z"
   },
   {
    "duration": 1634,
    "start_time": "2022-09-20T14:22:03.635Z"
   },
   {
    "duration": 261,
    "start_time": "2022-09-20T14:22:05.272Z"
   },
   {
    "duration": 79,
    "start_time": "2022-09-20T14:22:05.536Z"
   },
   {
    "duration": 421,
    "start_time": "2022-09-20T14:22:05.616Z"
   },
   {
    "duration": 85,
    "start_time": "2022-09-20T14:22:06.041Z"
   },
   {
    "duration": 36,
    "start_time": "2022-09-20T14:22:06.131Z"
   },
   {
    "duration": 457,
    "start_time": "2022-09-20T14:22:06.169Z"
   },
   {
    "duration": 196,
    "start_time": "2022-09-20T14:22:06.629Z"
   },
   {
    "duration": 505,
    "start_time": "2022-09-20T14:22:06.827Z"
   },
   {
    "duration": 216,
    "start_time": "2022-09-20T14:22:07.334Z"
   },
   {
    "duration": 270,
    "start_time": "2022-09-20T14:22:07.552Z"
   },
   {
    "duration": 2614,
    "start_time": "2022-09-20T14:22:07.825Z"
   },
   {
    "duration": 28351,
    "start_time": "2022-09-20T14:22:10.441Z"
   },
   {
    "duration": 5,
    "start_time": "2022-09-20T14:22:38.794Z"
   },
   {
    "duration": 737,
    "start_time": "2022-09-20T14:22:38.801Z"
   },
   {
    "duration": 1087,
    "start_time": "2022-09-20T14:22:39.543Z"
   },
   {
    "duration": 117,
    "start_time": "2022-09-20T14:23:28.687Z"
   },
   {
    "duration": 1525,
    "start_time": "2022-09-20T14:23:35.830Z"
   },
   {
    "duration": 3,
    "start_time": "2022-09-20T14:23:37.358Z"
   },
   {
    "duration": 9,
    "start_time": "2022-09-20T14:23:37.362Z"
   },
   {
    "duration": 77,
    "start_time": "2022-09-20T14:23:37.374Z"
   },
   {
    "duration": 10,
    "start_time": "2022-09-20T14:23:37.452Z"
   },
   {
    "duration": 21,
    "start_time": "2022-09-20T14:23:37.464Z"
   },
   {
    "duration": 8,
    "start_time": "2022-09-20T14:23:37.487Z"
   },
   {
    "duration": 24,
    "start_time": "2022-09-20T14:23:37.497Z"
   },
   {
    "duration": 1642,
    "start_time": "2022-09-20T14:23:37.522Z"
   },
   {
    "duration": 325,
    "start_time": "2022-09-20T14:23:39.167Z"
   },
   {
    "duration": 1768,
    "start_time": "2022-09-20T14:23:39.494Z"
   },
   {
    "duration": 5,
    "start_time": "2022-09-20T14:23:41.264Z"
   },
   {
    "duration": 1558,
    "start_time": "2022-09-20T14:23:41.271Z"
   },
   {
    "duration": 13,
    "start_time": "2022-09-20T14:23:42.831Z"
   },
   {
    "duration": 22,
    "start_time": "2022-09-20T14:23:42.846Z"
   },
   {
    "duration": 249,
    "start_time": "2022-09-20T14:23:42.870Z"
   },
   {
    "duration": 14,
    "start_time": "2022-09-20T14:23:43.122Z"
   },
   {
    "duration": 42,
    "start_time": "2022-09-20T14:23:43.137Z"
   },
   {
    "duration": 147,
    "start_time": "2022-09-20T14:23:43.182Z"
   },
   {
    "duration": 96,
    "start_time": "2022-09-20T14:23:43.331Z"
   },
   {
    "duration": 95,
    "start_time": "2022-09-20T14:23:43.429Z"
   },
   {
    "duration": 102,
    "start_time": "2022-09-20T14:23:43.526Z"
   },
   {
    "duration": 191,
    "start_time": "2022-09-20T14:23:43.630Z"
   },
   {
    "duration": 984,
    "start_time": "2022-09-20T14:23:43.826Z"
   },
   {
    "duration": 10503,
    "start_time": "2022-09-20T14:23:44.812Z"
   },
   {
    "duration": 5,
    "start_time": "2022-09-20T14:23:55.320Z"
   },
   {
    "duration": 66,
    "start_time": "2022-09-20T14:23:55.326Z"
   },
   {
    "duration": 130,
    "start_time": "2022-09-20T14:23:55.396Z"
   },
   {
    "duration": 1504,
    "start_time": "2022-09-20T14:29:04.518Z"
   },
   {
    "duration": 3,
    "start_time": "2022-09-20T14:29:06.024Z"
   },
   {
    "duration": 24,
    "start_time": "2022-09-20T14:29:06.029Z"
   },
   {
    "duration": 81,
    "start_time": "2022-09-20T14:29:06.055Z"
   },
   {
    "duration": 10,
    "start_time": "2022-09-20T14:29:06.137Z"
   },
   {
    "duration": 40,
    "start_time": "2022-09-20T14:29:06.149Z"
   },
   {
    "duration": 28,
    "start_time": "2022-09-20T14:29:06.191Z"
   },
   {
    "duration": 27,
    "start_time": "2022-09-20T14:29:06.221Z"
   },
   {
    "duration": 1571,
    "start_time": "2022-09-20T14:29:06.250Z"
   },
   {
    "duration": 328,
    "start_time": "2022-09-20T14:29:07.825Z"
   },
   {
    "duration": 1799,
    "start_time": "2022-09-20T14:29:08.155Z"
   },
   {
    "duration": 5,
    "start_time": "2022-09-20T14:29:09.955Z"
   },
   {
    "duration": 1487,
    "start_time": "2022-09-20T14:29:09.962Z"
   },
   {
    "duration": 240,
    "start_time": "2022-09-20T14:29:11.451Z"
   },
   {
    "duration": 113,
    "start_time": "2022-09-20T14:29:11.693Z"
   },
   {
    "duration": 421,
    "start_time": "2022-09-20T14:29:11.808Z"
   },
   {
    "duration": 99,
    "start_time": "2022-09-20T14:29:12.231Z"
   },
   {
    "duration": 51,
    "start_time": "2022-09-20T14:29:12.332Z"
   },
   {
    "duration": 436,
    "start_time": "2022-09-20T14:29:12.386Z"
   },
   {
    "duration": 197,
    "start_time": "2022-09-20T14:29:12.824Z"
   },
   {
    "duration": 598,
    "start_time": "2022-09-20T14:29:13.023Z"
   },
   {
    "duration": 141,
    "start_time": "2022-09-20T14:29:13.624Z"
   },
   {
    "duration": 256,
    "start_time": "2022-09-20T14:29:13.767Z"
   },
   {
    "duration": 2374,
    "start_time": "2022-09-20T14:29:14.025Z"
   },
   {
    "duration": 27990,
    "start_time": "2022-09-20T14:29:16.401Z"
   },
   {
    "duration": 4,
    "start_time": "2022-09-20T14:29:44.393Z"
   },
   {
    "duration": 1352,
    "start_time": "2022-09-20T14:29:44.399Z"
   },
   {
    "duration": 1373,
    "start_time": "2022-09-20T14:29:45.754Z"
   },
   {
    "duration": 5813,
    "start_time": "2022-09-20T14:31:21.640Z"
   },
   {
    "duration": 13358,
    "start_time": "2022-09-20T14:31:34.587Z"
   },
   {
    "duration": 1450,
    "start_time": "2022-09-20T14:32:05.944Z"
   },
   {
    "duration": 3,
    "start_time": "2022-09-20T14:32:07.396Z"
   },
   {
    "duration": 8,
    "start_time": "2022-09-20T14:32:07.401Z"
   },
   {
    "duration": 69,
    "start_time": "2022-09-20T14:32:07.411Z"
   },
   {
    "duration": 9,
    "start_time": "2022-09-20T14:32:07.481Z"
   },
   {
    "duration": 13,
    "start_time": "2022-09-20T14:32:07.492Z"
   },
   {
    "duration": 8,
    "start_time": "2022-09-20T14:32:07.506Z"
   },
   {
    "duration": 5,
    "start_time": "2022-09-20T14:32:07.520Z"
   },
   {
    "duration": 1585,
    "start_time": "2022-09-20T14:32:07.527Z"
   },
   {
    "duration": 325,
    "start_time": "2022-09-20T14:32:09.120Z"
   },
   {
    "duration": 1728,
    "start_time": "2022-09-20T14:32:09.447Z"
   },
   {
    "duration": 4,
    "start_time": "2022-09-20T14:32:11.177Z"
   },
   {
    "duration": 1553,
    "start_time": "2022-09-20T14:32:11.182Z"
   },
   {
    "duration": 237,
    "start_time": "2022-09-20T14:32:12.737Z"
   },
   {
    "duration": 77,
    "start_time": "2022-09-20T14:32:12.976Z"
   },
   {
    "duration": 376,
    "start_time": "2022-09-20T14:32:13.055Z"
   },
   {
    "duration": 100,
    "start_time": "2022-09-20T14:32:13.521Z"
   },
   {
    "duration": 43,
    "start_time": "2022-09-20T14:32:13.623Z"
   },
   {
    "duration": 466,
    "start_time": "2022-09-20T14:32:13.668Z"
   },
   {
    "duration": 102,
    "start_time": "2022-09-20T14:32:14.221Z"
   },
   {
    "duration": 596,
    "start_time": "2022-09-20T14:32:14.325Z"
   },
   {
    "duration": 136,
    "start_time": "2022-09-20T14:32:14.923Z"
   },
   {
    "duration": 263,
    "start_time": "2022-09-20T14:32:15.060Z"
   },
   {
    "duration": 13076,
    "start_time": "2022-09-20T14:32:15.325Z"
   },
   {
    "duration": 74666,
    "start_time": "2022-09-20T14:32:28.403Z"
   },
   {
    "duration": 4,
    "start_time": "2022-09-20T14:33:43.071Z"
   },
   {
    "duration": 1704,
    "start_time": "2022-09-20T14:33:43.077Z"
   },
   {
    "duration": 1855,
    "start_time": "2022-09-20T14:33:44.784Z"
   },
   {
    "duration": 1663,
    "start_time": "2022-09-20T14:49:34.051Z"
   },
   {
    "duration": 4,
    "start_time": "2022-09-20T14:49:41.281Z"
   },
   {
    "duration": 10,
    "start_time": "2022-09-20T14:49:41.287Z"
   },
   {
    "duration": 5,
    "start_time": "2022-09-20T14:49:41.298Z"
   },
   {
    "duration": 59,
    "start_time": "2022-09-20T14:49:41.305Z"
   },
   {
    "duration": 9,
    "start_time": "2022-09-20T14:49:41.366Z"
   },
   {
    "duration": 19,
    "start_time": "2022-09-20T14:49:41.376Z"
   },
   {
    "duration": 9,
    "start_time": "2022-09-20T14:49:41.397Z"
   },
   {
    "duration": 13,
    "start_time": "2022-09-20T14:49:41.407Z"
   },
   {
    "duration": 1487,
    "start_time": "2022-09-20T14:49:41.422Z"
   },
   {
    "duration": 305,
    "start_time": "2022-09-20T14:49:42.911Z"
   },
   {
    "duration": 1641,
    "start_time": "2022-09-20T14:49:43.220Z"
   },
   {
    "duration": 5,
    "start_time": "2022-09-20T14:49:44.862Z"
   },
   {
    "duration": 1566,
    "start_time": "2022-09-20T14:49:44.869Z"
   },
   {
    "duration": 211,
    "start_time": "2022-09-20T14:49:46.439Z"
   },
   {
    "duration": 79,
    "start_time": "2022-09-20T14:49:46.652Z"
   },
   {
    "duration": 394,
    "start_time": "2022-09-20T14:49:46.733Z"
   },
   {
    "duration": 101,
    "start_time": "2022-09-20T14:49:47.129Z"
   },
   {
    "duration": 36,
    "start_time": "2022-09-20T14:49:47.232Z"
   },
   {
    "duration": 408,
    "start_time": "2022-09-20T14:49:47.320Z"
   },
   {
    "duration": 164,
    "start_time": "2022-09-20T14:49:47.730Z"
   },
   {
    "duration": 532,
    "start_time": "2022-09-20T14:49:47.896Z"
   },
   {
    "duration": 141,
    "start_time": "2022-09-20T14:49:48.429Z"
   },
   {
    "duration": 250,
    "start_time": "2022-09-20T14:49:48.572Z"
   },
   {
    "duration": 12629,
    "start_time": "2022-09-20T14:49:48.824Z"
   },
   {
    "duration": 72904,
    "start_time": "2022-09-20T14:50:01.455Z"
   },
   {
    "duration": 4,
    "start_time": "2022-09-20T14:51:14.361Z"
   },
   {
    "duration": 1672,
    "start_time": "2022-09-20T14:51:14.366Z"
   },
   {
    "duration": 56,
    "start_time": "2022-09-20T16:19:47.019Z"
   },
   {
    "duration": 795,
    "start_time": "2022-09-20T16:20:00.320Z"
   },
   {
    "duration": 528,
    "start_time": "2022-09-20T16:24:36.394Z"
   },
   {
    "duration": 4,
    "start_time": "2022-09-20T16:25:09.644Z"
   },
   {
    "duration": 9,
    "start_time": "2022-09-20T16:25:09.650Z"
   },
   {
    "duration": 16,
    "start_time": "2022-09-20T16:25:09.662Z"
   },
   {
    "duration": 64,
    "start_time": "2022-09-20T16:25:09.680Z"
   },
   {
    "duration": 10,
    "start_time": "2022-09-20T16:25:09.746Z"
   },
   {
    "duration": 11,
    "start_time": "2022-09-20T16:25:09.758Z"
   },
   {
    "duration": 9,
    "start_time": "2022-09-20T16:25:09.770Z"
   },
   {
    "duration": 10,
    "start_time": "2022-09-20T16:25:09.780Z"
   },
   {
    "duration": 1615,
    "start_time": "2022-09-20T16:25:09.793Z"
   },
   {
    "duration": 333,
    "start_time": "2022-09-20T16:25:11.410Z"
   },
   {
    "duration": 1704,
    "start_time": "2022-09-20T16:25:11.744Z"
   },
   {
    "duration": 5,
    "start_time": "2022-09-20T16:25:13.450Z"
   },
   {
    "duration": 1460,
    "start_time": "2022-09-20T16:25:13.456Z"
   },
   {
    "duration": 200,
    "start_time": "2022-09-20T16:25:14.920Z"
   },
   {
    "duration": 73,
    "start_time": "2022-09-20T16:25:15.122Z"
   },
   {
    "duration": 425,
    "start_time": "2022-09-20T16:25:15.197Z"
   },
   {
    "duration": 100,
    "start_time": "2022-09-20T16:25:15.624Z"
   },
   {
    "duration": 26,
    "start_time": "2022-09-20T16:25:15.726Z"
   },
   {
    "duration": 1240,
    "start_time": "2022-09-20T16:25:15.754Z"
   },
   {
    "duration": 1226,
    "start_time": "2022-09-20T16:25:33.051Z"
   },
   {
    "duration": 1690,
    "start_time": "2022-09-20T18:36:32.373Z"
   },
   {
    "duration": 5,
    "start_time": "2022-09-20T18:48:01.598Z"
   },
   {
    "duration": 21,
    "start_time": "2022-09-20T18:48:01.605Z"
   },
   {
    "duration": 38,
    "start_time": "2022-09-20T18:48:01.628Z"
   },
   {
    "duration": 78,
    "start_time": "2022-09-20T18:48:01.668Z"
   },
   {
    "duration": 9,
    "start_time": "2022-09-20T18:48:01.748Z"
   },
   {
    "duration": 30,
    "start_time": "2022-09-20T18:48:01.759Z"
   },
   {
    "duration": 43,
    "start_time": "2022-09-20T18:48:01.791Z"
   },
   {
    "duration": 39,
    "start_time": "2022-09-20T18:48:01.836Z"
   },
   {
    "duration": 1676,
    "start_time": "2022-09-20T18:48:01.879Z"
   },
   {
    "duration": 324,
    "start_time": "2022-09-20T18:48:03.557Z"
   },
   {
    "duration": 1705,
    "start_time": "2022-09-20T18:48:03.883Z"
   },
   {
    "duration": 6,
    "start_time": "2022-09-20T18:48:05.590Z"
   },
   {
    "duration": 1516,
    "start_time": "2022-09-20T18:48:05.597Z"
   },
   {
    "duration": 191,
    "start_time": "2022-09-20T18:48:07.115Z"
   },
   {
    "duration": 81,
    "start_time": "2022-09-20T18:48:07.308Z"
   },
   {
    "duration": 435,
    "start_time": "2022-09-20T18:48:07.391Z"
   },
   {
    "duration": 98,
    "start_time": "2022-09-20T18:48:07.829Z"
   },
   {
    "duration": 34,
    "start_time": "2022-09-20T18:48:07.929Z"
   },
   {
    "duration": 207,
    "start_time": "2022-09-20T18:48:07.965Z"
   },
   {
    "duration": 0,
    "start_time": "2022-09-20T18:48:08.174Z"
   },
   {
    "duration": 4,
    "start_time": "2022-09-20T18:48:24.651Z"
   },
   {
    "duration": 11,
    "start_time": "2022-09-20T18:48:24.657Z"
   },
   {
    "duration": 8,
    "start_time": "2022-09-20T18:48:24.670Z"
   },
   {
    "duration": 64,
    "start_time": "2022-09-20T18:48:24.681Z"
   },
   {
    "duration": 9,
    "start_time": "2022-09-20T18:48:24.747Z"
   },
   {
    "duration": 52,
    "start_time": "2022-09-20T18:48:24.758Z"
   },
   {
    "duration": 43,
    "start_time": "2022-09-20T18:48:24.812Z"
   },
   {
    "duration": 39,
    "start_time": "2022-09-20T18:48:24.857Z"
   },
   {
    "duration": 1494,
    "start_time": "2022-09-20T18:48:24.898Z"
   },
   {
    "duration": 309,
    "start_time": "2022-09-20T18:48:26.394Z"
   },
   {
    "duration": 1657,
    "start_time": "2022-09-20T18:48:26.704Z"
   },
   {
    "duration": 5,
    "start_time": "2022-09-20T18:48:28.363Z"
   },
   {
    "duration": 1693,
    "start_time": "2022-09-20T18:48:28.370Z"
   },
   {
    "duration": 201,
    "start_time": "2022-09-20T18:48:30.065Z"
   },
   {
    "duration": 83,
    "start_time": "2022-09-20T18:48:30.268Z"
   },
   {
    "duration": 468,
    "start_time": "2022-09-20T18:48:30.353Z"
   },
   {
    "duration": 101,
    "start_time": "2022-09-20T18:48:30.822Z"
   },
   {
    "duration": 39,
    "start_time": "2022-09-20T18:48:30.925Z"
   },
   {
    "duration": 51,
    "start_time": "2022-09-20T18:48:30.966Z"
   },
   {
    "duration": 4,
    "start_time": "2022-09-20T18:48:47.885Z"
   },
   {
    "duration": 16,
    "start_time": "2022-09-20T18:48:47.891Z"
   },
   {
    "duration": 11,
    "start_time": "2022-09-20T18:48:47.909Z"
   },
   {
    "duration": 66,
    "start_time": "2022-09-20T18:48:47.922Z"
   },
   {
    "duration": 10,
    "start_time": "2022-09-20T18:48:47.990Z"
   },
   {
    "duration": 17,
    "start_time": "2022-09-20T18:48:48.002Z"
   },
   {
    "duration": 14,
    "start_time": "2022-09-20T18:48:48.021Z"
   },
   {
    "duration": 15,
    "start_time": "2022-09-20T18:48:48.037Z"
   },
   {
    "duration": 1523,
    "start_time": "2022-09-20T18:48:48.054Z"
   },
   {
    "duration": 314,
    "start_time": "2022-09-20T18:48:49.579Z"
   },
   {
    "duration": 1730,
    "start_time": "2022-09-20T18:48:49.895Z"
   },
   {
    "duration": 6,
    "start_time": "2022-09-20T18:48:51.627Z"
   },
   {
    "duration": 1612,
    "start_time": "2022-09-20T18:48:51.634Z"
   },
   {
    "duration": 186,
    "start_time": "2022-09-20T18:48:53.248Z"
   },
   {
    "duration": 75,
    "start_time": "2022-09-20T18:48:53.436Z"
   },
   {
    "duration": 405,
    "start_time": "2022-09-20T18:48:53.520Z"
   },
   {
    "duration": 99,
    "start_time": "2022-09-20T18:48:53.928Z"
   },
   {
    "duration": 32,
    "start_time": "2022-09-20T18:48:54.029Z"
   },
   {
    "duration": 6,
    "start_time": "2022-09-20T18:48:54.063Z"
   },
   {
    "duration": 0,
    "start_time": "2022-09-20T18:48:54.071Z"
   },
   {
    "duration": 4,
    "start_time": "2022-09-20T18:49:31.325Z"
   },
   {
    "duration": 34,
    "start_time": "2022-09-20T18:49:31.331Z"
   },
   {
    "duration": 5,
    "start_time": "2022-09-20T18:49:31.367Z"
   },
   {
    "duration": 72,
    "start_time": "2022-09-20T18:49:31.375Z"
   },
   {
    "duration": 11,
    "start_time": "2022-09-20T18:49:31.449Z"
   },
   {
    "duration": 31,
    "start_time": "2022-09-20T18:49:31.462Z"
   },
   {
    "duration": 14,
    "start_time": "2022-09-20T18:49:31.495Z"
   },
   {
    "duration": 42,
    "start_time": "2022-09-20T18:49:31.510Z"
   },
   {
    "duration": 1549,
    "start_time": "2022-09-20T18:49:31.555Z"
   },
   {
    "duration": 478,
    "start_time": "2022-09-20T18:49:33.105Z"
   },
   {
    "duration": 1587,
    "start_time": "2022-09-20T18:49:33.584Z"
   },
   {
    "duration": 5,
    "start_time": "2022-09-20T18:49:35.173Z"
   },
   {
    "duration": 1668,
    "start_time": "2022-09-20T18:49:35.179Z"
   },
   {
    "duration": 226,
    "start_time": "2022-09-20T18:49:36.849Z"
   },
   {
    "duration": 83,
    "start_time": "2022-09-20T18:49:37.077Z"
   },
   {
    "duration": 460,
    "start_time": "2022-09-20T18:49:37.162Z"
   },
   {
    "duration": 97,
    "start_time": "2022-09-20T18:49:37.625Z"
   },
   {
    "duration": 33,
    "start_time": "2022-09-20T18:49:37.724Z"
   },
   {
    "duration": 7,
    "start_time": "2022-09-20T18:49:37.759Z"
   },
   {
    "duration": 1282,
    "start_time": "2022-09-20T18:49:37.769Z"
   },
   {
    "duration": 5,
    "start_time": "2022-09-20T18:49:56.143Z"
   },
   {
    "duration": 13,
    "start_time": "2022-09-20T18:49:56.150Z"
   },
   {
    "duration": 7,
    "start_time": "2022-09-20T18:49:56.165Z"
   },
   {
    "duration": 61,
    "start_time": "2022-09-20T18:49:56.175Z"
   },
   {
    "duration": 10,
    "start_time": "2022-09-20T18:49:56.238Z"
   },
   {
    "duration": 14,
    "start_time": "2022-09-20T18:49:56.250Z"
   },
   {
    "duration": 21,
    "start_time": "2022-09-20T18:49:56.266Z"
   },
   {
    "duration": 13,
    "start_time": "2022-09-20T18:49:56.289Z"
   },
   {
    "duration": 1560,
    "start_time": "2022-09-20T18:49:56.304Z"
   },
   {
    "duration": 318,
    "start_time": "2022-09-20T18:49:57.867Z"
   },
   {
    "duration": 1808,
    "start_time": "2022-09-20T18:49:58.187Z"
   },
   {
    "duration": 5,
    "start_time": "2022-09-20T18:49:59.997Z"
   },
   {
    "duration": 1485,
    "start_time": "2022-09-20T18:50:00.004Z"
   },
   {
    "duration": 195,
    "start_time": "2022-09-20T18:50:01.492Z"
   },
   {
    "duration": 80,
    "start_time": "2022-09-20T18:50:01.689Z"
   },
   {
    "duration": 457,
    "start_time": "2022-09-20T18:50:01.771Z"
   },
   {
    "duration": 12,
    "start_time": "2022-09-20T18:50:02.320Z"
   },
   {
    "duration": 76,
    "start_time": "2022-09-20T18:50:02.334Z"
   },
   {
    "duration": 29,
    "start_time": "2022-09-20T18:50:02.412Z"
   },
   {
    "duration": 1231,
    "start_time": "2022-09-20T18:50:02.443Z"
   },
   {
    "duration": 2344,
    "start_time": "2022-09-20T18:53:29.988Z"
   },
   {
    "duration": 9,
    "start_time": "2022-09-20T18:53:56.544Z"
   },
   {
    "duration": 1190,
    "start_time": "2022-09-20T18:53:59.772Z"
   },
   {
    "duration": 6,
    "start_time": "2022-09-20T18:54:20.652Z"
   },
   {
    "duration": 2478,
    "start_time": "2022-09-20T18:54:22.677Z"
   },
   {
    "duration": 2504,
    "start_time": "2022-09-20T18:54:32.004Z"
   },
   {
    "duration": 3793,
    "start_time": "2022-09-20T19:06:31.324Z"
   },
   {
    "duration": 1596,
    "start_time": "2022-09-20T19:07:05.062Z"
   },
   {
    "duration": 52,
    "start_time": "2022-09-20T19:07:23.065Z"
   },
   {
    "duration": 1421,
    "start_time": "2022-09-20T19:07:41.114Z"
   },
   {
    "duration": 1383,
    "start_time": "2022-09-20T19:07:59.855Z"
   },
   {
    "duration": 1355,
    "start_time": "2022-09-20T19:08:46.366Z"
   },
   {
    "duration": 7,
    "start_time": "2022-09-20T19:12:44.504Z"
   },
   {
    "duration": 7,
    "start_time": "2022-09-20T19:13:36.814Z"
   },
   {
    "duration": 1550,
    "start_time": "2022-09-20T19:14:10.976Z"
   },
   {
    "duration": 1558,
    "start_time": "2022-09-20T19:14:27.770Z"
   },
   {
    "duration": 1359,
    "start_time": "2022-09-20T19:14:43.878Z"
   },
   {
    "duration": 1438,
    "start_time": "2022-09-20T19:16:16.049Z"
   },
   {
    "duration": 1411,
    "start_time": "2022-09-20T19:16:26.647Z"
   },
   {
    "duration": 7,
    "start_time": "2022-09-20T19:17:08.235Z"
   },
   {
    "duration": 7,
    "start_time": "2022-09-20T19:17:10.316Z"
   },
   {
    "duration": 1413,
    "start_time": "2022-09-20T19:17:11.876Z"
   },
   {
    "duration": 1505,
    "start_time": "2022-09-20T19:17:57.223Z"
   },
   {
    "duration": 1436,
    "start_time": "2022-09-20T19:18:06.739Z"
   },
   {
    "duration": 106,
    "start_time": "2022-09-20T19:21:20.671Z"
   },
   {
    "duration": 1405,
    "start_time": "2022-09-20T19:21:22.677Z"
   },
   {
    "duration": 98,
    "start_time": "2022-09-20T19:25:52.041Z"
   },
   {
    "duration": 1822,
    "start_time": "2022-09-20T19:25:54.001Z"
   },
   {
    "duration": 1446,
    "start_time": "2022-09-20T19:26:29.241Z"
   },
   {
    "duration": 5,
    "start_time": "2022-09-20T19:40:38.113Z"
   },
   {
    "duration": 34,
    "start_time": "2022-09-20T19:40:38.121Z"
   },
   {
    "duration": 33,
    "start_time": "2022-09-20T19:40:38.157Z"
   },
   {
    "duration": 107,
    "start_time": "2022-09-20T19:40:38.201Z"
   },
   {
    "duration": 11,
    "start_time": "2022-09-20T19:40:38.310Z"
   },
   {
    "duration": 35,
    "start_time": "2022-09-20T19:40:38.323Z"
   },
   {
    "duration": 41,
    "start_time": "2022-09-20T19:40:38.360Z"
   },
   {
    "duration": 53,
    "start_time": "2022-09-20T19:40:38.403Z"
   },
   {
    "duration": 1647,
    "start_time": "2022-09-20T19:40:38.459Z"
   },
   {
    "duration": 458,
    "start_time": "2022-09-20T19:40:40.108Z"
   },
   {
    "duration": 1731,
    "start_time": "2022-09-20T19:40:40.568Z"
   },
   {
    "duration": 6,
    "start_time": "2022-09-20T19:40:42.300Z"
   },
   {
    "duration": 1747,
    "start_time": "2022-09-20T19:40:42.308Z"
   },
   {
    "duration": 195,
    "start_time": "2022-09-20T19:40:44.056Z"
   },
   {
    "duration": 83,
    "start_time": "2022-09-20T19:40:44.252Z"
   },
   {
    "duration": 397,
    "start_time": "2022-09-20T19:40:44.337Z"
   },
   {
    "duration": 23,
    "start_time": "2022-09-20T19:40:44.821Z"
   },
   {
    "duration": 91,
    "start_time": "2022-09-20T19:40:44.845Z"
   },
   {
    "duration": 7,
    "start_time": "2022-09-20T19:40:44.938Z"
   },
   {
    "duration": 1318,
    "start_time": "2022-09-20T19:40:44.947Z"
   },
   {
    "duration": 93,
    "start_time": "2022-09-20T19:40:46.268Z"
   },
   {
    "duration": 22,
    "start_time": "2022-09-20T19:40:46.363Z"
   },
   {
    "duration": 0,
    "start_time": "2022-09-20T19:40:46.387Z"
   },
   {
    "duration": 0,
    "start_time": "2022-09-20T19:40:46.388Z"
   },
   {
    "duration": 4,
    "start_time": "2022-09-20T19:41:53.555Z"
   },
   {
    "duration": 11,
    "start_time": "2022-09-20T19:41:53.562Z"
   },
   {
    "duration": 11,
    "start_time": "2022-09-20T19:41:53.575Z"
   },
   {
    "duration": 67,
    "start_time": "2022-09-20T19:41:53.589Z"
   },
   {
    "duration": 11,
    "start_time": "2022-09-20T19:41:53.658Z"
   },
   {
    "duration": 12,
    "start_time": "2022-09-20T19:41:53.671Z"
   },
   {
    "duration": 9,
    "start_time": "2022-09-20T19:41:53.685Z"
   },
   {
    "duration": 12,
    "start_time": "2022-09-20T19:41:53.721Z"
   },
   {
    "duration": 1628,
    "start_time": "2022-09-20T19:41:53.736Z"
   },
   {
    "duration": 324,
    "start_time": "2022-09-20T19:41:55.367Z"
   },
   {
    "duration": 1853,
    "start_time": "2022-09-20T19:41:55.693Z"
   },
   {
    "duration": 7,
    "start_time": "2022-09-20T19:41:57.548Z"
   },
   {
    "duration": 1840,
    "start_time": "2022-09-20T19:41:57.557Z"
   },
   {
    "duration": 189,
    "start_time": "2022-09-20T19:41:59.399Z"
   },
   {
    "duration": 81,
    "start_time": "2022-09-20T19:41:59.590Z"
   },
   {
    "duration": 448,
    "start_time": "2022-09-20T19:41:59.673Z"
   },
   {
    "duration": 102,
    "start_time": "2022-09-20T19:42:00.122Z"
   },
   {
    "duration": 37,
    "start_time": "2022-09-20T19:42:00.227Z"
   },
   {
    "duration": 6,
    "start_time": "2022-09-20T19:42:00.266Z"
   },
   {
    "duration": 1192,
    "start_time": "2022-09-20T19:42:00.274Z"
   },
   {
    "duration": 75,
    "start_time": "2022-09-20T19:42:01.470Z"
   },
   {
    "duration": 1547,
    "start_time": "2022-09-20T19:42:01.547Z"
   },
   {
    "duration": 62,
    "start_time": "2022-09-20T19:42:03.096Z"
   },
   {
    "duration": 947,
    "start_time": "2022-09-20T19:42:03.162Z"
   },
   {
    "duration": 661,
    "start_time": "2022-09-20T19:42:27.764Z"
   },
   {
    "duration": 1436,
    "start_time": "2022-09-20T19:43:27.029Z"
   },
   {
    "duration": 1591,
    "start_time": "2022-09-20T19:43:34.916Z"
   },
   {
    "duration": 1919,
    "start_time": "2022-09-20T19:44:52.912Z"
   },
   {
    "duration": 1322,
    "start_time": "2022-09-20T19:45:20.874Z"
   },
   {
    "duration": 9,
    "start_time": "2022-09-20T19:45:42.730Z"
   },
   {
    "duration": 1379,
    "start_time": "2022-09-20T19:45:44.773Z"
   },
   {
    "duration": 1239,
    "start_time": "2022-09-20T19:46:09.754Z"
   },
   {
    "duration": 1275,
    "start_time": "2022-09-20T19:47:01.414Z"
   },
   {
    "duration": 1659,
    "start_time": "2022-09-20T19:47:22.273Z"
   },
   {
    "duration": 698,
    "start_time": "2022-09-20T19:47:50.525Z"
   },
   {
    "duration": 879,
    "start_time": "2022-09-20T19:47:58.076Z"
   },
   {
    "duration": 802,
    "start_time": "2022-09-20T19:48:07.654Z"
   },
   {
    "duration": 6,
    "start_time": "2022-09-20T19:48:14.991Z"
   },
   {
    "duration": 7,
    "start_time": "2022-09-20T19:48:14.999Z"
   },
   {
    "duration": 20,
    "start_time": "2022-09-20T19:48:15.008Z"
   },
   {
    "duration": 76,
    "start_time": "2022-09-20T19:48:15.031Z"
   },
   {
    "duration": 11,
    "start_time": "2022-09-20T19:48:15.110Z"
   },
   {
    "duration": 11,
    "start_time": "2022-09-20T19:48:15.122Z"
   },
   {
    "duration": 11,
    "start_time": "2022-09-20T19:48:15.134Z"
   },
   {
    "duration": 16,
    "start_time": "2022-09-20T19:48:15.147Z"
   },
   {
    "duration": 1860,
    "start_time": "2022-09-20T19:48:15.164Z"
   },
   {
    "duration": 363,
    "start_time": "2022-09-20T19:48:17.027Z"
   },
   {
    "duration": 1930,
    "start_time": "2022-09-20T19:48:17.392Z"
   },
   {
    "duration": 6,
    "start_time": "2022-09-20T19:48:19.324Z"
   },
   {
    "duration": 1486,
    "start_time": "2022-09-20T19:48:19.332Z"
   },
   {
    "duration": 187,
    "start_time": "2022-09-20T19:48:20.821Z"
   },
   {
    "duration": 106,
    "start_time": "2022-09-20T19:48:21.011Z"
   },
   {
    "duration": 413,
    "start_time": "2022-09-20T19:48:21.119Z"
   },
   {
    "duration": 94,
    "start_time": "2022-09-20T19:48:21.535Z"
   },
   {
    "duration": 114,
    "start_time": "2022-09-20T19:48:21.631Z"
   },
   {
    "duration": 10,
    "start_time": "2022-09-20T19:48:21.747Z"
   },
   {
    "duration": 1220,
    "start_time": "2022-09-20T19:48:21.760Z"
   },
   {
    "duration": 97,
    "start_time": "2022-09-20T19:48:22.982Z"
   },
   {
    "duration": 1497,
    "start_time": "2022-09-20T19:48:23.081Z"
   },
   {
    "duration": 78,
    "start_time": "2022-09-20T19:48:24.580Z"
   },
   {
    "duration": 658,
    "start_time": "2022-09-20T19:48:24.661Z"
   },
   {
    "duration": 5,
    "start_time": "2022-09-20T19:48:33.725Z"
   },
   {
    "duration": 14,
    "start_time": "2022-09-20T19:48:33.732Z"
   },
   {
    "duration": 6,
    "start_time": "2022-09-20T19:48:33.748Z"
   },
   {
    "duration": 71,
    "start_time": "2022-09-20T19:48:33.756Z"
   },
   {
    "duration": 11,
    "start_time": "2022-09-20T19:48:33.831Z"
   },
   {
    "duration": 27,
    "start_time": "2022-09-20T19:48:33.844Z"
   },
   {
    "duration": 26,
    "start_time": "2022-09-20T19:48:33.873Z"
   },
   {
    "duration": 21,
    "start_time": "2022-09-20T19:48:33.900Z"
   },
   {
    "duration": 1712,
    "start_time": "2022-09-20T19:48:33.923Z"
   },
   {
    "duration": 352,
    "start_time": "2022-09-20T19:48:35.637Z"
   },
   {
    "duration": 1761,
    "start_time": "2022-09-20T19:48:35.991Z"
   },
   {
    "duration": 5,
    "start_time": "2022-09-20T19:48:37.754Z"
   },
   {
    "duration": 1748,
    "start_time": "2022-09-20T19:48:37.762Z"
   },
   {
    "duration": 201,
    "start_time": "2022-09-20T19:48:39.512Z"
   },
   {
    "duration": 75,
    "start_time": "2022-09-20T19:48:39.715Z"
   },
   {
    "duration": 441,
    "start_time": "2022-09-20T19:48:39.792Z"
   },
   {
    "duration": 97,
    "start_time": "2022-09-20T19:48:40.234Z"
   },
   {
    "duration": 33,
    "start_time": "2022-09-20T19:48:40.333Z"
   },
   {
    "duration": 7,
    "start_time": "2022-09-20T19:48:40.368Z"
   },
   {
    "duration": 1181,
    "start_time": "2022-09-20T19:48:40.377Z"
   },
   {
    "duration": 83,
    "start_time": "2022-09-20T19:48:41.561Z"
   },
   {
    "duration": 1615,
    "start_time": "2022-09-20T19:48:41.646Z"
   },
   {
    "duration": 57,
    "start_time": "2022-09-20T19:48:43.263Z"
   },
   {
    "duration": 724,
    "start_time": "2022-09-20T19:48:43.322Z"
   },
   {
    "duration": 868,
    "start_time": "2022-09-20T19:49:48.300Z"
   },
   {
    "duration": 5,
    "start_time": "2022-09-20T19:49:59.600Z"
   },
   {
    "duration": 11,
    "start_time": "2022-09-20T19:49:59.608Z"
   },
   {
    "duration": 5,
    "start_time": "2022-09-20T19:49:59.621Z"
   },
   {
    "duration": 64,
    "start_time": "2022-09-20T19:49:59.628Z"
   },
   {
    "duration": 9,
    "start_time": "2022-09-20T19:49:59.694Z"
   },
   {
    "duration": 21,
    "start_time": "2022-09-20T19:49:59.704Z"
   },
   {
    "duration": 11,
    "start_time": "2022-09-20T19:49:59.727Z"
   },
   {
    "duration": 9,
    "start_time": "2022-09-20T19:49:59.740Z"
   },
   {
    "duration": 1551,
    "start_time": "2022-09-20T19:49:59.751Z"
   },
   {
    "duration": 343,
    "start_time": "2022-09-20T19:50:01.304Z"
   },
   {
    "duration": 1874,
    "start_time": "2022-09-20T19:50:01.650Z"
   },
   {
    "duration": 6,
    "start_time": "2022-09-20T19:50:03.526Z"
   },
   {
    "duration": 1660,
    "start_time": "2022-09-20T19:50:03.534Z"
   },
   {
    "duration": 205,
    "start_time": "2022-09-20T19:50:05.196Z"
   },
   {
    "duration": 80,
    "start_time": "2022-09-20T19:50:05.403Z"
   },
   {
    "duration": 448,
    "start_time": "2022-09-20T19:50:05.485Z"
   },
   {
    "duration": 105,
    "start_time": "2022-09-20T19:50:05.935Z"
   },
   {
    "duration": 106,
    "start_time": "2022-09-20T19:50:06.043Z"
   },
   {
    "duration": 9,
    "start_time": "2022-09-20T19:50:06.151Z"
   },
   {
    "duration": 1250,
    "start_time": "2022-09-20T19:50:06.163Z"
   },
   {
    "duration": 84,
    "start_time": "2022-09-20T19:50:07.416Z"
   },
   {
    "duration": 1703,
    "start_time": "2022-09-20T19:50:07.502Z"
   },
   {
    "duration": 75,
    "start_time": "2022-09-20T19:50:09.210Z"
   },
   {
    "duration": 1298,
    "start_time": "2022-09-20T19:50:09.288Z"
   },
   {
    "duration": 363,
    "start_time": "2022-09-20T19:50:52.369Z"
   },
   {
    "duration": 369,
    "start_time": "2022-09-20T19:51:00.785Z"
   },
   {
    "duration": 261,
    "start_time": "2022-09-20T19:51:06.535Z"
   },
   {
    "duration": 355,
    "start_time": "2022-09-20T19:51:11.238Z"
   },
   {
    "duration": 355,
    "start_time": "2022-09-20T19:51:14.863Z"
   },
   {
    "duration": 312,
    "start_time": "2022-09-20T19:51:56.235Z"
   },
   {
    "duration": 833,
    "start_time": "2022-09-20T19:56:16.220Z"
   },
   {
    "duration": 5,
    "start_time": "2022-09-20T20:00:53.764Z"
   },
   {
    "duration": 30,
    "start_time": "2022-09-20T20:00:53.771Z"
   },
   {
    "duration": 22,
    "start_time": "2022-09-20T20:00:53.803Z"
   },
   {
    "duration": 85,
    "start_time": "2022-09-20T20:00:53.828Z"
   },
   {
    "duration": 12,
    "start_time": "2022-09-20T20:00:53.915Z"
   },
   {
    "duration": 44,
    "start_time": "2022-09-20T20:00:53.929Z"
   },
   {
    "duration": 49,
    "start_time": "2022-09-20T20:00:53.975Z"
   },
   {
    "duration": 41,
    "start_time": "2022-09-20T20:00:54.026Z"
   },
   {
    "duration": 1697,
    "start_time": "2022-09-20T20:00:54.071Z"
   },
   {
    "duration": 355,
    "start_time": "2022-09-20T20:00:55.770Z"
   },
   {
    "duration": 1787,
    "start_time": "2022-09-20T20:00:56.127Z"
   },
   {
    "duration": 6,
    "start_time": "2022-09-20T20:00:57.916Z"
   },
   {
    "duration": 1858,
    "start_time": "2022-09-20T20:00:57.924Z"
   },
   {
    "duration": 204,
    "start_time": "2022-09-20T20:00:59.784Z"
   },
   {
    "duration": 80,
    "start_time": "2022-09-20T20:00:59.990Z"
   },
   {
    "duration": 452,
    "start_time": "2022-09-20T20:01:00.072Z"
   },
   {
    "duration": 103,
    "start_time": "2022-09-20T20:01:00.526Z"
   },
   {
    "duration": 48,
    "start_time": "2022-09-20T20:01:00.632Z"
   },
   {
    "duration": 7,
    "start_time": "2022-09-20T20:01:00.682Z"
   },
   {
    "duration": 1183,
    "start_time": "2022-09-20T20:01:00.690Z"
   },
   {
    "duration": 82,
    "start_time": "2022-09-20T20:01:01.876Z"
   },
   {
    "duration": 1533,
    "start_time": "2022-09-20T20:01:01.959Z"
   },
   {
    "duration": 58,
    "start_time": "2022-09-20T20:01:03.494Z"
   },
   {
    "duration": 607,
    "start_time": "2022-09-20T20:01:03.554Z"
   },
   {
    "duration": 279,
    "start_time": "2022-09-20T20:01:04.162Z"
   },
   {
    "duration": 292,
    "start_time": "2022-09-20T20:01:12.923Z"
   },
   {
    "duration": 274,
    "start_time": "2022-09-20T20:02:46.387Z"
   },
   {
    "duration": 321,
    "start_time": "2022-09-20T20:02:51.725Z"
   },
   {
    "duration": 15,
    "start_time": "2022-09-20T20:03:18.845Z"
   },
   {
    "duration": 278,
    "start_time": "2022-09-20T20:03:27.845Z"
   },
   {
    "duration": 358,
    "start_time": "2022-09-20T20:04:48.966Z"
   },
   {
    "duration": 298,
    "start_time": "2022-09-20T20:05:02.613Z"
   },
   {
    "duration": 5,
    "start_time": "2022-09-20T20:07:47.947Z"
   },
   {
    "duration": 23,
    "start_time": "2022-09-20T20:07:47.954Z"
   },
   {
    "duration": 14,
    "start_time": "2022-09-20T20:07:47.979Z"
   },
   {
    "duration": 90,
    "start_time": "2022-09-20T20:07:47.995Z"
   },
   {
    "duration": 11,
    "start_time": "2022-09-20T20:07:48.086Z"
   },
   {
    "duration": 16,
    "start_time": "2022-09-20T20:07:48.099Z"
   },
   {
    "duration": 10,
    "start_time": "2022-09-20T20:07:48.117Z"
   },
   {
    "duration": 29,
    "start_time": "2022-09-20T20:07:48.129Z"
   },
   {
    "duration": 1773,
    "start_time": "2022-09-20T20:07:48.161Z"
   },
   {
    "duration": 366,
    "start_time": "2022-09-20T20:07:49.936Z"
   },
   {
    "duration": 1835,
    "start_time": "2022-09-20T20:07:50.304Z"
   },
   {
    "duration": 6,
    "start_time": "2022-09-20T20:07:52.141Z"
   },
   {
    "duration": 1531,
    "start_time": "2022-09-20T20:07:52.148Z"
   },
   {
    "duration": 202,
    "start_time": "2022-09-20T20:07:53.681Z"
   },
   {
    "duration": 82,
    "start_time": "2022-09-20T20:07:53.885Z"
   },
   {
    "duration": 462,
    "start_time": "2022-09-20T20:07:53.969Z"
   },
   {
    "duration": 98,
    "start_time": "2022-09-20T20:07:54.433Z"
   },
   {
    "duration": 55,
    "start_time": "2022-09-20T20:07:54.534Z"
   },
   {
    "duration": 8,
    "start_time": "2022-09-20T20:07:54.593Z"
   },
   {
    "duration": 1237,
    "start_time": "2022-09-20T20:07:54.603Z"
   },
   {
    "duration": 94,
    "start_time": "2022-09-20T20:07:55.842Z"
   },
   {
    "duration": 1548,
    "start_time": "2022-09-20T20:07:55.938Z"
   },
   {
    "duration": 64,
    "start_time": "2022-09-20T20:07:57.488Z"
   },
   {
    "duration": 695,
    "start_time": "2022-09-20T20:07:57.554Z"
   },
   {
    "duration": 272,
    "start_time": "2022-09-20T20:07:58.251Z"
   },
   {
    "duration": 4,
    "start_time": "2022-09-20T20:17:47.164Z"
   },
   {
    "duration": 15,
    "start_time": "2022-09-20T20:17:47.170Z"
   },
   {
    "duration": 12,
    "start_time": "2022-09-20T20:17:47.187Z"
   },
   {
    "duration": 74,
    "start_time": "2022-09-20T20:17:47.202Z"
   },
   {
    "duration": 10,
    "start_time": "2022-09-20T20:17:47.277Z"
   },
   {
    "duration": 23,
    "start_time": "2022-09-20T20:17:47.289Z"
   },
   {
    "duration": 24,
    "start_time": "2022-09-20T20:17:47.314Z"
   },
   {
    "duration": 20,
    "start_time": "2022-09-20T20:17:47.339Z"
   },
   {
    "duration": 1573,
    "start_time": "2022-09-20T20:17:47.362Z"
   },
   {
    "duration": 394,
    "start_time": "2022-09-20T20:17:48.937Z"
   },
   {
    "duration": 1669,
    "start_time": "2022-09-20T20:17:49.334Z"
   },
   {
    "duration": 5,
    "start_time": "2022-09-20T20:17:51.005Z"
   },
   {
    "duration": 1637,
    "start_time": "2022-09-20T20:17:51.021Z"
   },
   {
    "duration": 189,
    "start_time": "2022-09-20T20:17:52.660Z"
   },
   {
    "duration": 78,
    "start_time": "2022-09-20T20:17:52.851Z"
   },
   {
    "duration": 492,
    "start_time": "2022-09-20T20:17:52.931Z"
   },
   {
    "duration": 12,
    "start_time": "2022-09-20T20:17:53.425Z"
   },
   {
    "duration": 94,
    "start_time": "2022-09-20T20:17:53.439Z"
   },
   {
    "duration": 5,
    "start_time": "2022-09-20T20:17:53.535Z"
   },
   {
    "duration": 1224,
    "start_time": "2022-09-20T20:17:53.542Z"
   },
   {
    "duration": 78,
    "start_time": "2022-09-20T20:17:54.768Z"
   },
   {
    "duration": 1513,
    "start_time": "2022-09-20T20:17:54.848Z"
   },
   {
    "duration": 58,
    "start_time": "2022-09-20T20:17:56.363Z"
   },
   {
    "duration": 695,
    "start_time": "2022-09-20T20:17:56.423Z"
   },
   {
    "duration": 246,
    "start_time": "2022-09-20T20:17:57.119Z"
   },
   {
    "duration": 16986,
    "start_time": "2022-09-20T20:17:57.367Z"
   },
   {
    "duration": 16998,
    "start_time": "2022-09-20T20:18:26.617Z"
   },
   {
    "duration": 5237,
    "start_time": "2022-09-20T20:19:23.413Z"
   },
   {
    "duration": 5109,
    "start_time": "2022-09-20T20:19:31.390Z"
   },
   {
    "duration": 5320,
    "start_time": "2022-09-20T20:20:08.684Z"
   },
   {
    "duration": 5866,
    "start_time": "2022-09-20T20:27:26.083Z"
   },
   {
    "duration": 5551,
    "start_time": "2022-09-20T20:27:47.050Z"
   },
   {
    "duration": 17973,
    "start_time": "2022-09-20T20:28:32.417Z"
   },
   {
    "duration": 5634,
    "start_time": "2022-09-20T20:33:23.196Z"
   },
   {
    "duration": 13063,
    "start_time": "2022-09-20T20:34:14.562Z"
   },
   {
    "duration": 13940,
    "start_time": "2022-09-20T20:35:01.318Z"
   },
   {
    "duration": 83929,
    "start_time": "2022-09-20T20:46:51.527Z"
   },
   {
    "duration": 3615,
    "start_time": "2022-09-20T20:48:27.146Z"
   },
   {
    "duration": 4,
    "start_time": "2022-09-20T20:48:38.126Z"
   },
   {
    "duration": 34,
    "start_time": "2022-09-20T20:48:38.132Z"
   },
   {
    "duration": 48,
    "start_time": "2022-09-20T20:48:38.168Z"
   },
   {
    "duration": 97,
    "start_time": "2022-09-20T20:48:38.219Z"
   },
   {
    "duration": 10,
    "start_time": "2022-09-20T20:48:38.319Z"
   },
   {
    "duration": 15,
    "start_time": "2022-09-20T20:48:38.331Z"
   },
   {
    "duration": 36,
    "start_time": "2022-09-20T20:48:38.348Z"
   },
   {
    "duration": 39,
    "start_time": "2022-09-20T20:48:38.386Z"
   },
   {
    "duration": 1701,
    "start_time": "2022-09-20T20:48:38.427Z"
   },
   {
    "duration": 345,
    "start_time": "2022-09-20T20:48:40.132Z"
   },
   {
    "duration": 1791,
    "start_time": "2022-09-20T20:48:40.479Z"
   },
   {
    "duration": 6,
    "start_time": "2022-09-20T20:48:42.272Z"
   },
   {
    "duration": 1565,
    "start_time": "2022-09-20T20:48:42.280Z"
   },
   {
    "duration": 191,
    "start_time": "2022-09-20T20:48:43.848Z"
   },
   {
    "duration": 79,
    "start_time": "2022-09-20T20:48:44.041Z"
   },
   {
    "duration": 401,
    "start_time": "2022-09-20T20:48:44.123Z"
   },
   {
    "duration": 104,
    "start_time": "2022-09-20T20:48:44.526Z"
   },
   {
    "duration": 44,
    "start_time": "2022-09-20T20:48:44.632Z"
   },
   {
    "duration": 14,
    "start_time": "2022-09-20T20:48:44.678Z"
   },
   {
    "duration": 1206,
    "start_time": "2022-09-20T20:48:44.694Z"
   },
   {
    "duration": 74,
    "start_time": "2022-09-20T20:48:45.902Z"
   },
   {
    "duration": 1498,
    "start_time": "2022-09-20T20:48:45.978Z"
   },
   {
    "duration": 60,
    "start_time": "2022-09-20T20:48:47.478Z"
   },
   {
    "duration": 658,
    "start_time": "2022-09-20T20:48:47.540Z"
   },
   {
    "duration": 244,
    "start_time": "2022-09-20T20:48:48.200Z"
   },
   {
    "duration": 35240,
    "start_time": "2022-09-20T20:48:48.446Z"
   },
   {
    "duration": 19937,
    "start_time": "2022-09-20T20:49:31.794Z"
   },
   {
    "duration": 195,
    "start_time": "2022-09-20T20:52:02.327Z"
   },
   {
    "duration": 224,
    "start_time": "2022-09-20T20:53:06.803Z"
   },
   {
    "duration": 218,
    "start_time": "2022-09-20T20:53:34.004Z"
   },
   {
    "duration": 174,
    "start_time": "2022-09-20T20:53:43.468Z"
   },
   {
    "duration": 4961,
    "start_time": "2022-09-20T20:56:45.285Z"
   },
   {
    "duration": 5224,
    "start_time": "2022-09-20T20:57:15.672Z"
   },
   {
    "duration": 5001,
    "start_time": "2022-09-20T20:57:31.402Z"
   },
   {
    "duration": 12564,
    "start_time": "2022-09-20T21:01:21.692Z"
   },
   {
    "duration": 8293,
    "start_time": "2022-09-20T21:01:45.505Z"
   },
   {
    "duration": 72891,
    "start_time": "2022-09-20T21:02:05.352Z"
   },
   {
    "duration": 13314,
    "start_time": "2022-09-20T21:03:27.767Z"
   },
   {
    "duration": 19747,
    "start_time": "2022-09-20T21:04:17.134Z"
   },
   {
    "duration": 19663,
    "start_time": "2022-09-20T21:05:41.092Z"
   },
   {
    "duration": 20167,
    "start_time": "2022-09-20T21:06:08.355Z"
   },
   {
    "duration": 4,
    "start_time": "2022-09-20T21:14:42.783Z"
   },
   {
    "duration": 12,
    "start_time": "2022-09-20T21:14:42.790Z"
   },
   {
    "duration": 23,
    "start_time": "2022-09-20T21:14:42.804Z"
   },
   {
    "duration": 66,
    "start_time": "2022-09-20T21:14:42.829Z"
   },
   {
    "duration": 9,
    "start_time": "2022-09-20T21:14:42.897Z"
   },
   {
    "duration": 12,
    "start_time": "2022-09-20T21:14:42.908Z"
   },
   {
    "duration": 8,
    "start_time": "2022-09-20T21:14:42.922Z"
   },
   {
    "duration": 14,
    "start_time": "2022-09-20T21:14:42.932Z"
   },
   {
    "duration": 1440,
    "start_time": "2022-09-20T21:14:42.949Z"
   },
   {
    "duration": 414,
    "start_time": "2022-09-20T21:14:44.391Z"
   },
   {
    "duration": 1648,
    "start_time": "2022-09-20T21:14:44.807Z"
   },
   {
    "duration": 5,
    "start_time": "2022-09-20T21:14:46.458Z"
   },
   {
    "duration": 1688,
    "start_time": "2022-09-20T21:14:46.465Z"
   },
   {
    "duration": 221,
    "start_time": "2022-09-20T21:14:48.155Z"
   },
   {
    "duration": 78,
    "start_time": "2022-09-20T21:14:48.378Z"
   },
   {
    "duration": 379,
    "start_time": "2022-09-20T21:14:48.458Z"
   },
   {
    "duration": 102,
    "start_time": "2022-09-20T21:14:48.921Z"
   },
   {
    "duration": 51,
    "start_time": "2022-09-20T21:14:49.026Z"
   },
   {
    "duration": 8,
    "start_time": "2022-09-20T21:14:49.079Z"
   },
   {
    "duration": 1201,
    "start_time": "2022-09-20T21:14:49.089Z"
   },
   {
    "duration": 80,
    "start_time": "2022-09-20T21:14:50.292Z"
   },
   {
    "duration": 1505,
    "start_time": "2022-09-20T21:14:50.374Z"
   },
   {
    "duration": 62,
    "start_time": "2022-09-20T21:14:51.881Z"
   },
   {
    "duration": 673,
    "start_time": "2022-09-20T21:14:51.947Z"
   },
   {
    "duration": 251,
    "start_time": "2022-09-20T21:14:52.622Z"
   },
   {
    "duration": 246,
    "start_time": "2022-09-20T21:14:52.875Z"
   },
   {
    "duration": 5319,
    "start_time": "2022-09-20T21:14:53.132Z"
   },
   {
    "duration": 13108,
    "start_time": "2022-09-20T21:14:58.453Z"
   },
   {
    "duration": 19619,
    "start_time": "2022-09-20T21:15:11.563Z"
   },
   {
    "duration": 6,
    "start_time": "2022-09-20T21:15:31.183Z"
   },
   {
    "duration": 1597,
    "start_time": "2022-09-20T21:15:31.191Z"
   },
   {
    "duration": 227,
    "start_time": "2022-09-20T21:15:32.790Z"
   },
   {
    "duration": 1680,
    "start_time": "2022-09-20T21:17:58.186Z"
   },
   {
    "duration": 227,
    "start_time": "2022-09-20T21:20:23.742Z"
   },
   {
    "duration": 251,
    "start_time": "2022-09-20T21:21:08.321Z"
   },
   {
    "duration": 225,
    "start_time": "2022-09-20T21:21:35.957Z"
   },
   {
    "duration": 357,
    "start_time": "2022-09-20T21:21:53.480Z"
   },
   {
    "duration": 633,
    "start_time": "2022-09-20T21:22:44.287Z"
   },
   {
    "duration": 1841,
    "start_time": "2022-09-20T21:23:55.680Z"
   },
   {
    "duration": 144,
    "start_time": "2022-09-20T21:29:46.392Z"
   },
   {
    "duration": 135,
    "start_time": "2022-09-20T21:30:05.874Z"
   },
   {
    "duration": 38,
    "start_time": "2022-09-20T21:30:35.011Z"
   },
   {
    "duration": 153,
    "start_time": "2022-09-20T21:30:50.007Z"
   },
   {
    "duration": 152,
    "start_time": "2022-09-20T21:31:35.691Z"
   },
   {
    "duration": 157,
    "start_time": "2022-09-20T21:31:59.049Z"
   },
   {
    "duration": 4,
    "start_time": "2022-09-20T21:37:55.236Z"
   },
   {
    "duration": 9,
    "start_time": "2022-09-20T21:37:55.242Z"
   },
   {
    "duration": 6,
    "start_time": "2022-09-20T21:37:55.252Z"
   },
   {
    "duration": 65,
    "start_time": "2022-09-20T21:37:55.260Z"
   },
   {
    "duration": 10,
    "start_time": "2022-09-20T21:37:55.327Z"
   },
   {
    "duration": 13,
    "start_time": "2022-09-20T21:37:55.338Z"
   },
   {
    "duration": 9,
    "start_time": "2022-09-20T21:37:55.352Z"
   },
   {
    "duration": 7,
    "start_time": "2022-09-20T21:37:55.362Z"
   },
   {
    "duration": 1585,
    "start_time": "2022-09-20T21:37:55.371Z"
   },
   {
    "duration": 321,
    "start_time": "2022-09-20T21:37:56.958Z"
   },
   {
    "duration": 1717,
    "start_time": "2022-09-20T21:37:57.281Z"
   },
   {
    "duration": 7,
    "start_time": "2022-09-20T21:37:59.001Z"
   },
   {
    "duration": 1536,
    "start_time": "2022-09-20T21:37:59.010Z"
   },
   {
    "duration": 187,
    "start_time": "2022-09-20T21:38:00.547Z"
   },
   {
    "duration": 71,
    "start_time": "2022-09-20T21:38:00.736Z"
   },
   {
    "duration": 11,
    "start_time": "2022-09-20T21:38:00.809Z"
   },
   {
    "duration": 1377,
    "start_time": "2022-09-20T21:38:00.822Z"
   },
   {
    "duration": 1402,
    "start_time": "2022-09-20T21:38:11.352Z"
   },
   {
    "duration": 1387,
    "start_time": "2022-09-20T21:39:13.070Z"
   },
   {
    "duration": 2515,
    "start_time": "2022-09-20T21:41:09.984Z"
   },
   {
    "duration": 6,
    "start_time": "2022-09-20T21:41:59.244Z"
   },
   {
    "duration": 8380,
    "start_time": "2022-09-20T21:42:01.307Z"
   },
   {
    "duration": 4015,
    "start_time": "2022-09-20T21:44:26.457Z"
   },
   {
    "duration": 8112,
    "start_time": "2022-09-20T21:44:43.471Z"
   },
   {
    "duration": 8062,
    "start_time": "2022-09-20T21:45:08.655Z"
   },
   {
    "duration": 8154,
    "start_time": "2022-09-20T21:46:07.938Z"
   },
   {
    "duration": 8155,
    "start_time": "2022-09-20T21:46:20.411Z"
   },
   {
    "duration": 4266,
    "start_time": "2022-09-20T21:46:46.092Z"
   },
   {
    "duration": 4270,
    "start_time": "2022-09-20T21:47:24.093Z"
   },
   {
    "duration": 4107,
    "start_time": "2022-09-20T21:49:14.810Z"
   },
   {
    "duration": 4142,
    "start_time": "2022-09-20T21:49:49.914Z"
   },
   {
    "duration": 7,
    "start_time": "2022-09-20T21:59:44.244Z"
   },
   {
    "duration": 275,
    "start_time": "2022-09-20T21:59:47.017Z"
   },
   {
    "duration": 269,
    "start_time": "2022-09-20T22:00:29.998Z"
   },
   {
    "duration": 3947,
    "start_time": "2022-09-20T22:00:48.995Z"
   },
   {
    "duration": 4151,
    "start_time": "2022-09-20T22:02:49.902Z"
   },
   {
    "duration": 4257,
    "start_time": "2022-09-20T22:03:36.091Z"
   },
   {
    "duration": 4274,
    "start_time": "2022-09-20T22:04:24.114Z"
   },
   {
    "duration": 1423,
    "start_time": "2022-09-20T22:05:23.872Z"
   },
   {
    "duration": 4,
    "start_time": "2022-09-20T22:05:25.297Z"
   },
   {
    "duration": 7,
    "start_time": "2022-09-20T22:05:25.302Z"
   },
   {
    "duration": 86,
    "start_time": "2022-09-20T22:05:25.310Z"
   },
   {
    "duration": 9,
    "start_time": "2022-09-20T22:05:25.399Z"
   },
   {
    "duration": 20,
    "start_time": "2022-09-20T22:05:25.410Z"
   },
   {
    "duration": 15,
    "start_time": "2022-09-20T22:05:25.436Z"
   },
   {
    "duration": 10,
    "start_time": "2022-09-20T22:05:25.453Z"
   },
   {
    "duration": 1622,
    "start_time": "2022-09-20T22:05:25.465Z"
   },
   {
    "duration": 350,
    "start_time": "2022-09-20T22:05:27.088Z"
   },
   {
    "duration": 2002,
    "start_time": "2022-09-20T22:05:27.440Z"
   },
   {
    "duration": 6,
    "start_time": "2022-09-20T22:05:29.445Z"
   },
   {
    "duration": 1523,
    "start_time": "2022-09-20T22:05:29.452Z"
   },
   {
    "duration": 230,
    "start_time": "2022-09-20T22:05:30.980Z"
   },
   {
    "duration": 84,
    "start_time": "2022-09-20T22:05:31.212Z"
   },
   {
    "duration": 7,
    "start_time": "2022-09-20T22:05:31.297Z"
   },
   {
    "duration": 4328,
    "start_time": "2022-09-20T22:05:31.305Z"
   },
   {
    "duration": 119,
    "start_time": "2022-09-20T22:05:35.638Z"
   },
   {
    "duration": 0,
    "start_time": "2022-09-20T22:05:35.758Z"
   },
   {
    "duration": 0,
    "start_time": "2022-09-20T22:05:35.761Z"
   },
   {
    "duration": 0,
    "start_time": "2022-09-20T22:05:35.762Z"
   },
   {
    "duration": 0,
    "start_time": "2022-09-20T22:05:35.764Z"
   },
   {
    "duration": 0,
    "start_time": "2022-09-20T22:05:35.766Z"
   },
   {
    "duration": 0,
    "start_time": "2022-09-20T22:05:35.767Z"
   },
   {
    "duration": 0,
    "start_time": "2022-09-20T22:05:35.769Z"
   },
   {
    "duration": 0,
    "start_time": "2022-09-20T22:05:35.771Z"
   },
   {
    "duration": 0,
    "start_time": "2022-09-20T22:05:35.772Z"
   },
   {
    "duration": 0,
    "start_time": "2022-09-20T22:05:35.774Z"
   },
   {
    "duration": 0,
    "start_time": "2022-09-20T22:05:35.776Z"
   },
   {
    "duration": 0,
    "start_time": "2022-09-20T22:05:35.778Z"
   },
   {
    "duration": 0,
    "start_time": "2022-09-20T22:05:35.779Z"
   },
   {
    "duration": 0,
    "start_time": "2022-09-20T22:05:35.781Z"
   },
   {
    "duration": 0,
    "start_time": "2022-09-20T22:05:35.782Z"
   },
   {
    "duration": 0,
    "start_time": "2022-09-20T22:05:35.823Z"
   },
   {
    "duration": 1422,
    "start_time": "2022-09-20T22:06:34.107Z"
   },
   {
    "duration": 3,
    "start_time": "2022-09-20T22:06:35.535Z"
   },
   {
    "duration": 10,
    "start_time": "2022-09-20T22:06:35.542Z"
   },
   {
    "duration": 84,
    "start_time": "2022-09-20T22:06:35.554Z"
   },
   {
    "duration": 10,
    "start_time": "2022-09-20T22:06:35.639Z"
   },
   {
    "duration": 11,
    "start_time": "2022-09-20T22:06:35.651Z"
   },
   {
    "duration": 13,
    "start_time": "2022-09-20T22:06:35.664Z"
   },
   {
    "duration": 8,
    "start_time": "2022-09-20T22:06:35.679Z"
   },
   {
    "duration": 1658,
    "start_time": "2022-09-20T22:06:35.689Z"
   },
   {
    "duration": 355,
    "start_time": "2022-09-20T22:06:37.349Z"
   },
   {
    "duration": 1877,
    "start_time": "2022-09-20T22:06:37.707Z"
   },
   {
    "duration": 6,
    "start_time": "2022-09-20T22:06:39.586Z"
   },
   {
    "duration": 1541,
    "start_time": "2022-09-20T22:06:39.594Z"
   },
   {
    "duration": 222,
    "start_time": "2022-09-20T22:06:41.137Z"
   },
   {
    "duration": 86,
    "start_time": "2022-09-20T22:06:41.361Z"
   },
   {
    "duration": 8,
    "start_time": "2022-09-20T22:06:41.449Z"
   },
   {
    "duration": 4306,
    "start_time": "2022-09-20T22:06:41.460Z"
   },
   {
    "duration": 4,
    "start_time": "2022-09-20T22:06:45.768Z"
   },
   {
    "duration": 17,
    "start_time": "2022-09-20T22:06:45.774Z"
   },
   {
    "duration": 52,
    "start_time": "2022-09-20T22:06:45.793Z"
   },
   {
    "duration": 4374,
    "start_time": "2022-09-20T22:06:45.848Z"
   },
   {
    "duration": 95,
    "start_time": "2022-09-20T22:06:50.224Z"
   },
   {
    "duration": 5720,
    "start_time": "2022-09-20T22:06:50.321Z"
   },
   {
    "duration": 54,
    "start_time": "2022-09-20T22:06:56.043Z"
   },
   {
    "duration": 2045,
    "start_time": "2022-09-20T22:06:56.099Z"
   },
   {
    "duration": 259,
    "start_time": "2022-09-20T22:06:58.145Z"
   },
   {
    "duration": 579,
    "start_time": "2022-09-20T22:06:58.406Z"
   },
   {
    "duration": 5872,
    "start_time": "2022-09-20T22:06:58.990Z"
   },
   {
    "duration": 14644,
    "start_time": "2022-09-20T22:07:04.865Z"
   },
   {
    "duration": 20842,
    "start_time": "2022-09-20T22:07:19.511Z"
   },
   {
    "duration": 163,
    "start_time": "2022-09-20T22:07:40.355Z"
   },
   {
    "duration": 9,
    "start_time": "2022-09-20T22:07:40.522Z"
   },
   {
    "duration": 1636,
    "start_time": "2022-09-20T22:07:40.533Z"
   },
   {
    "duration": 243,
    "start_time": "2022-09-20T22:07:42.170Z"
   },
   {
    "duration": 1916,
    "start_time": "2022-09-20T22:07:42.415Z"
   },
   {
    "duration": 1395,
    "start_time": "2022-09-20T22:11:55.147Z"
   },
   {
    "duration": 3,
    "start_time": "2022-09-20T22:11:56.546Z"
   },
   {
    "duration": 8,
    "start_time": "2022-09-20T22:11:56.551Z"
   },
   {
    "duration": 84,
    "start_time": "2022-09-20T22:11:56.561Z"
   },
   {
    "duration": 8,
    "start_time": "2022-09-20T22:11:56.647Z"
   },
   {
    "duration": 14,
    "start_time": "2022-09-20T22:11:56.657Z"
   },
   {
    "duration": 8,
    "start_time": "2022-09-20T22:11:56.673Z"
   },
   {
    "duration": 9,
    "start_time": "2022-09-20T22:11:56.683Z"
   },
   {
    "duration": 1595,
    "start_time": "2022-09-20T22:11:56.693Z"
   },
   {
    "duration": 325,
    "start_time": "2022-09-20T22:11:58.291Z"
   },
   {
    "duration": 1825,
    "start_time": "2022-09-20T22:11:58.617Z"
   },
   {
    "duration": 5,
    "start_time": "2022-09-20T22:12:00.443Z"
   },
   {
    "duration": 1530,
    "start_time": "2022-09-20T22:12:00.450Z"
   },
   {
    "duration": 243,
    "start_time": "2022-09-20T22:12:01.982Z"
   },
   {
    "duration": 81,
    "start_time": "2022-09-20T22:12:02.227Z"
   },
   {
    "duration": 11,
    "start_time": "2022-09-20T22:12:02.310Z"
   },
   {
    "duration": 1556,
    "start_time": "2022-09-20T22:12:02.330Z"
   },
   {
    "duration": 4,
    "start_time": "2022-09-20T22:12:03.888Z"
   },
   {
    "duration": 27,
    "start_time": "2022-09-20T22:12:03.894Z"
   },
   {
    "duration": 29,
    "start_time": "2022-09-20T22:12:03.923Z"
   },
   {
    "duration": 1302,
    "start_time": "2022-09-20T22:12:03.953Z"
   },
   {
    "duration": 99,
    "start_time": "2022-09-20T22:12:05.256Z"
   },
   {
    "duration": 1658,
    "start_time": "2022-09-20T22:12:05.357Z"
   },
   {
    "duration": 55,
    "start_time": "2022-09-20T22:12:07.017Z"
   },
   {
    "duration": 685,
    "start_time": "2022-09-20T22:12:07.073Z"
   },
   {
    "duration": 242,
    "start_time": "2022-09-20T22:12:07.760Z"
   },
   {
    "duration": 525,
    "start_time": "2022-09-20T22:12:08.004Z"
   },
   {
    "duration": 5773,
    "start_time": "2022-09-20T22:12:08.533Z"
   },
   {
    "duration": 13353,
    "start_time": "2022-09-20T22:12:14.308Z"
   },
   {
    "duration": 16353,
    "start_time": "2022-09-20T22:12:27.663Z"
   },
   {
    "duration": 156,
    "start_time": "2022-09-20T22:12:44.019Z"
   },
   {
    "duration": 5,
    "start_time": "2022-09-20T22:12:44.177Z"
   },
   {
    "duration": 1614,
    "start_time": "2022-09-20T22:12:44.184Z"
   },
   {
    "duration": 248,
    "start_time": "2022-09-20T22:12:45.800Z"
   },
   {
    "duration": 1878,
    "start_time": "2022-09-20T22:12:46.050Z"
   },
   {
    "duration": 1366,
    "start_time": "2022-09-20T22:12:57.205Z"
   },
   {
    "duration": 3,
    "start_time": "2022-09-20T22:12:58.573Z"
   },
   {
    "duration": 7,
    "start_time": "2022-09-20T22:12:58.578Z"
   },
   {
    "duration": 78,
    "start_time": "2022-09-20T22:12:58.587Z"
   },
   {
    "duration": 9,
    "start_time": "2022-09-20T22:12:58.667Z"
   },
   {
    "duration": 12,
    "start_time": "2022-09-20T22:12:58.678Z"
   },
   {
    "duration": 42,
    "start_time": "2022-09-20T22:12:58.692Z"
   },
   {
    "duration": 11,
    "start_time": "2022-09-20T22:12:58.736Z"
   },
   {
    "duration": 1661,
    "start_time": "2022-09-20T22:12:58.749Z"
   },
   {
    "duration": 328,
    "start_time": "2022-09-20T22:13:00.413Z"
   },
   {
    "duration": 1785,
    "start_time": "2022-09-20T22:13:00.744Z"
   },
   {
    "duration": 5,
    "start_time": "2022-09-20T22:13:02.536Z"
   },
   {
    "duration": 1547,
    "start_time": "2022-09-20T22:13:02.545Z"
   },
   {
    "duration": 247,
    "start_time": "2022-09-20T22:13:04.094Z"
   },
   {
    "duration": 89,
    "start_time": "2022-09-20T22:13:04.343Z"
   },
   {
    "duration": 8,
    "start_time": "2022-09-20T22:13:04.434Z"
   },
   {
    "duration": 1778,
    "start_time": "2022-09-20T22:13:04.444Z"
   },
   {
    "duration": 5,
    "start_time": "2022-09-20T22:13:06.234Z"
   },
   {
    "duration": 17,
    "start_time": "2022-09-20T22:13:06.241Z"
   },
   {
    "duration": 26,
    "start_time": "2022-09-20T22:13:06.260Z"
   },
   {
    "duration": 1553,
    "start_time": "2022-09-20T22:13:06.288Z"
   },
   {
    "duration": 93,
    "start_time": "2022-09-20T22:13:07.843Z"
   },
   {
    "duration": 2112,
    "start_time": "2022-09-20T22:13:07.938Z"
   },
   {
    "duration": 55,
    "start_time": "2022-09-20T22:13:10.052Z"
   },
   {
    "duration": 765,
    "start_time": "2022-09-20T22:13:10.108Z"
   },
   {
    "duration": 234,
    "start_time": "2022-09-20T22:13:10.875Z"
   },
   {
    "duration": 478,
    "start_time": "2022-09-20T22:13:11.111Z"
   },
   {
    "duration": 5504,
    "start_time": "2022-09-20T22:13:11.593Z"
   },
   {
    "duration": 14251,
    "start_time": "2022-09-20T22:13:17.098Z"
   },
   {
    "duration": 1402,
    "start_time": "2022-09-20T22:13:53.790Z"
   },
   {
    "duration": 3,
    "start_time": "2022-09-20T22:13:55.194Z"
   },
   {
    "duration": 6,
    "start_time": "2022-09-20T22:13:55.201Z"
   },
   {
    "duration": 75,
    "start_time": "2022-09-20T22:13:55.209Z"
   },
   {
    "duration": 9,
    "start_time": "2022-09-20T22:13:55.285Z"
   },
   {
    "duration": 18,
    "start_time": "2022-09-20T22:13:55.296Z"
   },
   {
    "duration": 27,
    "start_time": "2022-09-20T22:13:55.316Z"
   },
   {
    "duration": 11,
    "start_time": "2022-09-20T22:13:55.345Z"
   },
   {
    "duration": 1575,
    "start_time": "2022-09-20T22:13:55.359Z"
   },
   {
    "duration": 316,
    "start_time": "2022-09-20T22:13:56.937Z"
   },
   {
    "duration": 1790,
    "start_time": "2022-09-20T22:13:57.255Z"
   },
   {
    "duration": 6,
    "start_time": "2022-09-20T22:13:59.047Z"
   },
   {
    "duration": 1522,
    "start_time": "2022-09-20T22:13:59.056Z"
   },
   {
    "duration": 235,
    "start_time": "2022-09-20T22:14:00.580Z"
   },
   {
    "duration": 80,
    "start_time": "2022-09-20T22:14:00.817Z"
   },
   {
    "duration": 7,
    "start_time": "2022-09-20T22:14:00.898Z"
   },
   {
    "duration": 1807,
    "start_time": "2022-09-20T22:14:00.919Z"
   },
   {
    "duration": 5,
    "start_time": "2022-09-20T22:14:02.729Z"
   },
   {
    "duration": 32,
    "start_time": "2022-09-20T22:14:02.740Z"
   },
   {
    "duration": 25,
    "start_time": "2022-09-20T22:14:02.774Z"
   },
   {
    "duration": 1516,
    "start_time": "2022-09-20T22:14:02.801Z"
   },
   {
    "duration": 106,
    "start_time": "2022-09-20T22:14:04.319Z"
   },
   {
    "duration": 2041,
    "start_time": "2022-09-20T22:14:04.427Z"
   },
   {
    "duration": 62,
    "start_time": "2022-09-20T22:14:06.470Z"
   },
   {
    "duration": 820,
    "start_time": "2022-09-20T22:14:06.534Z"
   },
   {
    "duration": 245,
    "start_time": "2022-09-20T22:14:07.355Z"
   },
   {
    "duration": 231,
    "start_time": "2022-09-20T22:14:07.604Z"
   },
   {
    "duration": 5699,
    "start_time": "2022-09-20T22:14:07.837Z"
   },
   {
    "duration": 13254,
    "start_time": "2022-09-20T22:14:13.538Z"
   },
   {
    "duration": 19985,
    "start_time": "2022-09-20T22:14:26.793Z"
   },
   {
    "duration": 165,
    "start_time": "2022-09-20T22:14:46.780Z"
   },
   {
    "duration": 5,
    "start_time": "2022-09-20T22:14:46.947Z"
   },
   {
    "duration": 1617,
    "start_time": "2022-09-20T22:14:46.954Z"
   },
   {
    "duration": 231,
    "start_time": "2022-09-20T22:14:48.573Z"
   },
   {
    "duration": 1924,
    "start_time": "2022-09-20T22:14:48.806Z"
   },
   {
    "duration": 1385,
    "start_time": "2022-09-20T22:31:03.557Z"
   },
   {
    "duration": 4,
    "start_time": "2022-09-20T22:31:04.944Z"
   },
   {
    "duration": 7,
    "start_time": "2022-09-20T22:31:04.950Z"
   },
   {
    "duration": 74,
    "start_time": "2022-09-20T22:31:04.960Z"
   },
   {
    "duration": 10,
    "start_time": "2022-09-20T22:31:05.035Z"
   },
   {
    "duration": 19,
    "start_time": "2022-09-20T22:31:05.047Z"
   },
   {
    "duration": 14,
    "start_time": "2022-09-20T22:31:05.068Z"
   },
   {
    "duration": 14,
    "start_time": "2022-09-20T22:31:05.084Z"
   },
   {
    "duration": 1596,
    "start_time": "2022-09-20T22:31:05.100Z"
   },
   {
    "duration": 346,
    "start_time": "2022-09-20T22:31:06.699Z"
   },
   {
    "duration": 1928,
    "start_time": "2022-09-20T22:31:07.047Z"
   },
   {
    "duration": 6,
    "start_time": "2022-09-20T22:31:08.977Z"
   },
   {
    "duration": 1625,
    "start_time": "2022-09-20T22:31:08.985Z"
   },
   {
    "duration": 236,
    "start_time": "2022-09-20T22:31:10.611Z"
   },
   {
    "duration": 89,
    "start_time": "2022-09-20T22:31:10.849Z"
   },
   {
    "duration": 7,
    "start_time": "2022-09-20T22:31:10.940Z"
   },
   {
    "duration": 1824,
    "start_time": "2022-09-20T22:31:10.950Z"
   },
   {
    "duration": 5,
    "start_time": "2022-09-20T22:31:12.776Z"
   },
   {
    "duration": 18,
    "start_time": "2022-09-20T22:31:12.783Z"
   },
   {
    "duration": 46,
    "start_time": "2022-09-20T22:31:12.803Z"
   },
   {
    "duration": 1592,
    "start_time": "2022-09-20T22:31:12.850Z"
   },
   {
    "duration": 97,
    "start_time": "2022-09-20T22:31:14.444Z"
   },
   {
    "duration": 2044,
    "start_time": "2022-09-20T22:31:14.542Z"
   },
   {
    "duration": 62,
    "start_time": "2022-09-20T22:31:16.588Z"
   },
   {
    "duration": 842,
    "start_time": "2022-09-20T22:31:16.652Z"
   },
   {
    "duration": 259,
    "start_time": "2022-09-20T22:31:17.496Z"
   },
   {
    "duration": 200,
    "start_time": "2022-09-20T22:31:17.757Z"
   },
   {
    "duration": 5826,
    "start_time": "2022-09-20T22:31:18.024Z"
   },
   {
    "duration": 13935,
    "start_time": "2022-09-20T22:31:23.852Z"
   },
   {
    "duration": 21034,
    "start_time": "2022-09-20T22:31:37.788Z"
   },
   {
    "duration": 204,
    "start_time": "2022-09-20T22:31:58.827Z"
   },
   {
    "duration": 11,
    "start_time": "2022-09-20T22:31:59.032Z"
   },
   {
    "duration": 1763,
    "start_time": "2022-09-20T22:31:59.045Z"
   },
   {
    "duration": 244,
    "start_time": "2022-09-20T22:32:00.810Z"
   },
   {
    "duration": 2074,
    "start_time": "2022-09-20T22:32:01.056Z"
   },
   {
    "duration": 1427,
    "start_time": "2022-09-20T22:32:23.208Z"
   },
   {
    "duration": 6,
    "start_time": "2022-09-20T22:32:24.637Z"
   },
   {
    "duration": 7,
    "start_time": "2022-09-20T22:32:24.644Z"
   },
   {
    "duration": 75,
    "start_time": "2022-09-20T22:32:24.653Z"
   },
   {
    "duration": 12,
    "start_time": "2022-09-20T22:32:24.731Z"
   },
   {
    "duration": 15,
    "start_time": "2022-09-20T22:32:24.744Z"
   },
   {
    "duration": 9,
    "start_time": "2022-09-20T22:32:24.761Z"
   },
   {
    "duration": 10,
    "start_time": "2022-09-20T22:32:24.772Z"
   },
   {
    "duration": 1612,
    "start_time": "2022-09-20T22:32:24.784Z"
   },
   {
    "duration": 336,
    "start_time": "2022-09-20T22:32:26.399Z"
   },
   {
    "duration": 1737,
    "start_time": "2022-09-20T22:32:26.737Z"
   },
   {
    "duration": 5,
    "start_time": "2022-09-20T22:32:28.476Z"
   },
   {
    "duration": 1602,
    "start_time": "2022-09-20T22:32:28.482Z"
   },
   {
    "duration": 232,
    "start_time": "2022-09-20T22:32:30.086Z"
   },
   {
    "duration": 82,
    "start_time": "2022-09-20T22:32:30.321Z"
   },
   {
    "duration": 18,
    "start_time": "2022-09-20T22:32:30.405Z"
   },
   {
    "duration": 1821,
    "start_time": "2022-09-20T22:32:30.430Z"
   },
   {
    "duration": 4,
    "start_time": "2022-09-20T22:32:32.252Z"
   },
   {
    "duration": 16,
    "start_time": "2022-09-20T22:32:32.258Z"
   },
   {
    "duration": 50,
    "start_time": "2022-09-20T22:32:32.276Z"
   },
   {
    "duration": 1605,
    "start_time": "2022-09-20T22:32:32.328Z"
   },
   {
    "duration": 87,
    "start_time": "2022-09-20T22:32:33.934Z"
   },
   {
    "duration": 2077,
    "start_time": "2022-09-20T22:32:34.022Z"
   },
   {
    "duration": 62,
    "start_time": "2022-09-20T22:32:36.101Z"
   },
   {
    "duration": 837,
    "start_time": "2022-09-20T22:32:36.166Z"
   },
   {
    "duration": 253,
    "start_time": "2022-09-20T22:32:37.005Z"
   },
   {
    "duration": 267,
    "start_time": "2022-09-20T22:32:37.260Z"
   },
   {
    "duration": 5807,
    "start_time": "2022-09-20T22:32:37.533Z"
   },
   {
    "duration": 13472,
    "start_time": "2022-09-20T22:32:43.342Z"
   },
   {
    "duration": 21084,
    "start_time": "2022-09-20T22:32:56.816Z"
   },
   {
    "duration": 166,
    "start_time": "2022-09-20T22:33:17.902Z"
   },
   {
    "duration": 6,
    "start_time": "2022-09-20T22:33:18.070Z"
   },
   {
    "duration": 1811,
    "start_time": "2022-09-20T22:33:18.078Z"
   },
   {
    "duration": 254,
    "start_time": "2022-09-20T22:33:19.891Z"
   },
   {
    "duration": 1885,
    "start_time": "2022-09-20T22:33:20.148Z"
   },
   {
    "duration": 277,
    "start_time": "2022-09-20T22:35:17.868Z"
   },
   {
    "duration": 174,
    "start_time": "2022-09-20T22:36:17.875Z"
   },
   {
    "duration": 4,
    "start_time": "2022-09-20T22:37:03.374Z"
   },
   {
    "duration": 6,
    "start_time": "2022-09-20T22:37:05.705Z"
   },
   {
    "duration": 159,
    "start_time": "2022-09-20T22:37:09.455Z"
   },
   {
    "duration": 236,
    "start_time": "2022-09-20T22:38:46.090Z"
   },
   {
    "duration": 61,
    "start_time": "2022-09-20T22:38:57.298Z"
   },
   {
    "duration": 18,
    "start_time": "2022-09-20T22:39:18.350Z"
   },
   {
    "duration": 184,
    "start_time": "2022-09-20T22:40:29.499Z"
   },
   {
    "duration": 175,
    "start_time": "2022-09-20T22:40:52.975Z"
   },
   {
    "duration": 176,
    "start_time": "2022-09-20T22:41:21.511Z"
   },
   {
    "duration": 162,
    "start_time": "2022-09-20T22:41:26.148Z"
   },
   {
    "duration": 107,
    "start_time": "2022-09-20T22:42:59.982Z"
   },
   {
    "duration": 79,
    "start_time": "2022-09-20T22:43:15.677Z"
   },
   {
    "duration": 127,
    "start_time": "2022-09-20T22:43:22.753Z"
   },
   {
    "duration": 191,
    "start_time": "2022-09-20T22:43:59.675Z"
   },
   {
    "duration": 194,
    "start_time": "2022-09-20T22:44:36.601Z"
   },
   {
    "duration": 178,
    "start_time": "2022-09-20T22:44:44.966Z"
   },
   {
    "duration": 300,
    "start_time": "2022-09-20T22:45:04.646Z"
   },
   {
    "duration": 13,
    "start_time": "2022-09-20T22:45:32.818Z"
   },
   {
    "duration": 171,
    "start_time": "2022-09-20T22:45:37.419Z"
   },
   {
    "duration": 188,
    "start_time": "2022-09-20T22:45:42.670Z"
   },
   {
    "duration": 174,
    "start_time": "2022-09-20T22:46:03.502Z"
   },
   {
    "duration": 183,
    "start_time": "2022-09-20T22:46:35.076Z"
   },
   {
    "duration": 1459,
    "start_time": "2022-09-20T22:46:50.102Z"
   },
   {
    "duration": 3,
    "start_time": "2022-09-20T22:46:51.563Z"
   },
   {
    "duration": 16,
    "start_time": "2022-09-20T22:46:51.568Z"
   },
   {
    "duration": 83,
    "start_time": "2022-09-20T22:46:51.586Z"
   },
   {
    "duration": 8,
    "start_time": "2022-09-20T22:46:51.671Z"
   },
   {
    "duration": 18,
    "start_time": "2022-09-20T22:46:51.681Z"
   },
   {
    "duration": 8,
    "start_time": "2022-09-20T22:46:51.701Z"
   },
   {
    "duration": 9,
    "start_time": "2022-09-20T22:46:51.723Z"
   },
   {
    "duration": 1638,
    "start_time": "2022-09-20T22:46:51.734Z"
   },
   {
    "duration": 328,
    "start_time": "2022-09-20T22:46:53.374Z"
   },
   {
    "duration": 1774,
    "start_time": "2022-09-20T22:46:53.704Z"
   },
   {
    "duration": 6,
    "start_time": "2022-09-20T22:46:55.480Z"
   },
   {
    "duration": 1564,
    "start_time": "2022-09-20T22:46:55.487Z"
   },
   {
    "duration": 227,
    "start_time": "2022-09-20T22:46:57.053Z"
   },
   {
    "duration": 86,
    "start_time": "2022-09-20T22:46:57.282Z"
   },
   {
    "duration": 6,
    "start_time": "2022-09-20T22:46:57.371Z"
   },
   {
    "duration": 1857,
    "start_time": "2022-09-20T22:46:57.378Z"
   },
   {
    "duration": 5,
    "start_time": "2022-09-20T22:46:59.236Z"
   },
   {
    "duration": 17,
    "start_time": "2022-09-20T22:46:59.244Z"
   },
   {
    "duration": 35,
    "start_time": "2022-09-20T22:46:59.263Z"
   },
   {
    "duration": 1546,
    "start_time": "2022-09-20T22:46:59.299Z"
   },
   {
    "duration": 95,
    "start_time": "2022-09-20T22:47:00.847Z"
   },
   {
    "duration": 2101,
    "start_time": "2022-09-20T22:47:00.944Z"
   },
   {
    "duration": 53,
    "start_time": "2022-09-20T22:47:03.050Z"
   },
   {
    "duration": 787,
    "start_time": "2022-09-20T22:47:03.104Z"
   },
   {
    "duration": 262,
    "start_time": "2022-09-20T22:47:03.893Z"
   },
   {
    "duration": 270,
    "start_time": "2022-09-20T22:47:04.157Z"
   },
   {
    "duration": 5831,
    "start_time": "2022-09-20T22:47:04.437Z"
   },
   {
    "duration": 13779,
    "start_time": "2022-09-20T22:47:10.270Z"
   },
   {
    "duration": 20916,
    "start_time": "2022-09-20T22:47:24.052Z"
   },
   {
    "duration": 182,
    "start_time": "2022-09-20T22:47:44.969Z"
   },
   {
    "duration": 6,
    "start_time": "2022-09-20T22:47:45.152Z"
   },
   {
    "duration": 1692,
    "start_time": "2022-09-20T22:47:45.159Z"
   },
   {
    "duration": 245,
    "start_time": "2022-09-20T22:47:46.853Z"
   },
   {
    "duration": 1936,
    "start_time": "2022-09-20T22:47:47.100Z"
   },
   {
    "duration": 1691,
    "start_time": "2022-09-20T22:49:27.071Z"
   },
   {
    "duration": 3,
    "start_time": "2022-09-20T22:49:28.764Z"
   },
   {
    "duration": 6,
    "start_time": "2022-09-20T22:49:28.768Z"
   },
   {
    "duration": 77,
    "start_time": "2022-09-20T22:49:28.776Z"
   },
   {
    "duration": 18,
    "start_time": "2022-09-20T22:49:28.856Z"
   },
   {
    "duration": 20,
    "start_time": "2022-09-20T22:49:28.876Z"
   },
   {
    "duration": 41,
    "start_time": "2022-09-20T22:49:28.898Z"
   },
   {
    "duration": 28,
    "start_time": "2022-09-20T22:49:28.941Z"
   },
   {
    "duration": 1821,
    "start_time": "2022-09-20T22:49:28.972Z"
   },
   {
    "duration": 357,
    "start_time": "2022-09-20T22:49:30.796Z"
   },
   {
    "duration": 1849,
    "start_time": "2022-09-20T22:49:31.158Z"
   },
   {
    "duration": 22,
    "start_time": "2022-09-20T22:49:33.009Z"
   },
   {
    "duration": 1614,
    "start_time": "2022-09-20T22:49:33.034Z"
   },
   {
    "duration": 228,
    "start_time": "2022-09-20T22:49:34.650Z"
   },
   {
    "duration": 89,
    "start_time": "2022-09-20T22:49:34.880Z"
   },
   {
    "duration": 6,
    "start_time": "2022-09-20T22:49:34.971Z"
   },
   {
    "duration": 1857,
    "start_time": "2022-09-20T22:49:34.978Z"
   },
   {
    "duration": 7,
    "start_time": "2022-09-20T22:49:36.838Z"
   },
   {
    "duration": 25,
    "start_time": "2022-09-20T22:49:36.848Z"
   },
   {
    "duration": 26,
    "start_time": "2022-09-20T22:49:36.875Z"
   },
   {
    "duration": 1571,
    "start_time": "2022-09-20T22:49:36.903Z"
   },
   {
    "duration": 102,
    "start_time": "2022-09-20T22:49:38.476Z"
   },
   {
    "duration": 2173,
    "start_time": "2022-09-20T22:49:38.580Z"
   },
   {
    "duration": 52,
    "start_time": "2022-09-20T22:49:40.756Z"
   },
   {
    "duration": 871,
    "start_time": "2022-09-20T22:49:40.811Z"
   },
   {
    "duration": 311,
    "start_time": "2022-09-20T22:49:41.684Z"
   },
   {
    "duration": 233,
    "start_time": "2022-09-20T22:49:41.997Z"
   },
   {
    "duration": 5941,
    "start_time": "2022-09-20T22:49:42.234Z"
   },
   {
    "duration": 13988,
    "start_time": "2022-09-20T22:49:48.178Z"
   },
   {
    "duration": 21128,
    "start_time": "2022-09-20T22:50:02.168Z"
   },
   {
    "duration": 188,
    "start_time": "2022-09-20T22:50:23.297Z"
   },
   {
    "duration": 4,
    "start_time": "2022-09-20T22:50:23.487Z"
   },
   {
    "duration": 1658,
    "start_time": "2022-09-20T22:50:23.492Z"
   },
   {
    "duration": 245,
    "start_time": "2022-09-20T22:50:25.152Z"
   },
   {
    "duration": 1925,
    "start_time": "2022-09-20T22:50:25.398Z"
   },
   {
    "duration": 1735,
    "start_time": "2022-09-21T03:08:37.856Z"
   },
   {
    "duration": 3,
    "start_time": "2022-09-21T03:08:39.593Z"
   },
   {
    "duration": 6,
    "start_time": "2022-09-21T03:08:39.598Z"
   },
   {
    "duration": 113,
    "start_time": "2022-09-21T03:08:39.606Z"
   },
   {
    "duration": 9,
    "start_time": "2022-09-21T03:08:39.721Z"
   },
   {
    "duration": 51,
    "start_time": "2022-09-21T03:08:39.732Z"
   },
   {
    "duration": 18,
    "start_time": "2022-09-21T03:08:39.785Z"
   },
   {
    "duration": 22,
    "start_time": "2022-09-21T03:08:39.805Z"
   },
   {
    "duration": 1508,
    "start_time": "2022-09-21T03:08:39.829Z"
   },
   {
    "duration": 312,
    "start_time": "2022-09-21T03:08:41.340Z"
   },
   {
    "duration": 1688,
    "start_time": "2022-09-21T03:08:41.654Z"
   },
   {
    "duration": 4,
    "start_time": "2022-09-21T03:08:43.344Z"
   },
   {
    "duration": 1488,
    "start_time": "2022-09-21T03:08:43.350Z"
   },
   {
    "duration": 225,
    "start_time": "2022-09-21T03:08:44.839Z"
   },
   {
    "duration": 81,
    "start_time": "2022-09-21T03:08:45.065Z"
   },
   {
    "duration": 6,
    "start_time": "2022-09-21T03:08:45.149Z"
   },
   {
    "duration": 1730,
    "start_time": "2022-09-21T03:08:45.156Z"
   },
   {
    "duration": 5,
    "start_time": "2022-09-21T03:08:46.888Z"
   },
   {
    "duration": 26,
    "start_time": "2022-09-21T03:08:46.895Z"
   },
   {
    "duration": 30,
    "start_time": "2022-09-21T03:08:46.923Z"
   },
   {
    "duration": 1542,
    "start_time": "2022-09-21T03:08:46.955Z"
   },
   {
    "duration": 95,
    "start_time": "2022-09-21T03:08:48.499Z"
   },
   {
    "duration": 2019,
    "start_time": "2022-09-21T03:08:48.596Z"
   },
   {
    "duration": 50,
    "start_time": "2022-09-21T03:08:50.616Z"
   },
   {
    "duration": 788,
    "start_time": "2022-09-21T03:08:50.668Z"
   },
   {
    "duration": 221,
    "start_time": "2022-09-21T03:08:51.458Z"
   },
   {
    "duration": 241,
    "start_time": "2022-09-21T03:08:51.681Z"
   },
   {
    "duration": 5304,
    "start_time": "2022-09-21T03:08:51.927Z"
   },
   {
    "duration": 12805,
    "start_time": "2022-09-21T03:08:57.232Z"
   },
   {
    "duration": 19036,
    "start_time": "2022-09-21T03:09:10.039Z"
   },
   {
    "duration": 165,
    "start_time": "2022-09-21T03:09:29.077Z"
   },
   {
    "duration": 4,
    "start_time": "2022-09-21T03:09:29.244Z"
   },
   {
    "duration": 1537,
    "start_time": "2022-09-21T03:09:29.250Z"
   },
   {
    "duration": 234,
    "start_time": "2022-09-21T03:09:30.789Z"
   },
   {
    "duration": 1799,
    "start_time": "2022-09-21T03:09:31.025Z"
   },
   {
    "duration": 3,
    "start_time": "2022-09-21T03:20:26.813Z"
   },
   {
    "duration": 109,
    "start_time": "2022-09-21T03:20:35.386Z"
   },
   {
    "duration": 10,
    "start_time": "2022-09-21T03:20:38.320Z"
   },
   {
    "duration": 10,
    "start_time": "2022-09-21T03:20:43.005Z"
   },
   {
    "duration": 3,
    "start_time": "2022-09-21T03:21:44.186Z"
   },
   {
    "duration": 3,
    "start_time": "2022-09-21T03:22:23.061Z"
   },
   {
    "duration": 4,
    "start_time": "2022-09-21T03:22:40.656Z"
   },
   {
    "duration": 4,
    "start_time": "2022-09-21T03:37:19.368Z"
   },
   {
    "duration": 68,
    "start_time": "2022-09-21T10:19:44.481Z"
   },
   {
    "duration": 55,
    "start_time": "2022-09-21T10:27:13.122Z"
   },
   {
    "duration": 1508,
    "start_time": "2022-09-21T10:27:20.854Z"
   },
   {
    "duration": 3,
    "start_time": "2022-09-21T10:27:22.363Z"
   },
   {
    "duration": 8,
    "start_time": "2022-09-21T10:27:22.367Z"
   },
   {
    "duration": 155,
    "start_time": "2022-09-21T10:27:22.376Z"
   },
   {
    "duration": 3,
    "start_time": "2022-09-21T10:29:37.133Z"
   },
   {
    "duration": 12,
    "start_time": "2022-09-21T10:29:37.138Z"
   },
   {
    "duration": 7,
    "start_time": "2022-09-21T10:29:37.151Z"
   },
   {
    "duration": 101,
    "start_time": "2022-09-21T10:29:37.160Z"
   },
   {
    "duration": 4,
    "start_time": "2022-09-21T10:29:37.309Z"
   },
   {
    "duration": 7,
    "start_time": "2022-09-21T10:29:37.315Z"
   },
   {
    "duration": 8,
    "start_time": "2022-09-21T10:29:37.324Z"
   },
   {
    "duration": 4,
    "start_time": "2022-09-21T10:38:31.799Z"
   },
   {
    "duration": 5,
    "start_time": "2022-09-21T10:38:45.503Z"
   },
   {
    "duration": 11,
    "start_time": "2022-09-21T10:39:18.052Z"
   },
   {
    "duration": 113,
    "start_time": "2022-09-21T10:39:40.169Z"
   },
   {
    "duration": 9,
    "start_time": "2022-09-21T10:39:55.293Z"
   },
   {
    "duration": 7,
    "start_time": "2022-09-21T10:40:06.227Z"
   },
   {
    "duration": 10,
    "start_time": "2022-09-21T10:40:19.267Z"
   },
   {
    "duration": 9,
    "start_time": "2022-09-21T10:40:56.696Z"
   },
   {
    "duration": 10,
    "start_time": "2022-09-21T10:41:03.970Z"
   },
   {
    "duration": 9,
    "start_time": "2022-09-21T10:41:22.630Z"
   },
   {
    "duration": 9,
    "start_time": "2022-09-21T10:43:26.462Z"
   },
   {
    "duration": 8,
    "start_time": "2022-09-21T10:43:34.827Z"
   },
   {
    "duration": 9,
    "start_time": "2022-09-21T10:43:40.299Z"
   },
   {
    "duration": 9,
    "start_time": "2022-09-21T10:43:47.728Z"
   },
   {
    "duration": 9,
    "start_time": "2022-09-21T10:43:53.263Z"
   },
   {
    "duration": 10,
    "start_time": "2022-09-21T10:43:58.496Z"
   },
   {
    "duration": 10,
    "start_time": "2022-09-21T10:44:17.353Z"
   },
   {
    "duration": 11,
    "start_time": "2022-09-21T10:47:56.410Z"
   },
   {
    "duration": 3,
    "start_time": "2022-09-21T10:48:13.451Z"
   },
   {
    "duration": 6,
    "start_time": "2022-09-21T10:48:13.457Z"
   },
   {
    "duration": 6,
    "start_time": "2022-09-21T10:48:13.465Z"
   },
   {
    "duration": 105,
    "start_time": "2022-09-21T10:48:13.473Z"
   },
   {
    "duration": 5,
    "start_time": "2022-09-21T10:48:13.580Z"
   },
   {
    "duration": 11,
    "start_time": "2022-09-21T10:48:13.587Z"
   },
   {
    "duration": 20,
    "start_time": "2022-09-21T10:48:13.600Z"
   },
   {
    "duration": 8,
    "start_time": "2022-09-21T10:48:13.730Z"
   },
   {
    "duration": 7,
    "start_time": "2022-09-21T10:52:09.893Z"
   },
   {
    "duration": 4,
    "start_time": "2022-09-21T11:17:48.965Z"
   },
   {
    "duration": 67,
    "start_time": "2022-09-21T11:18:10.844Z"
   },
   {
    "duration": 5,
    "start_time": "2022-09-21T11:18:15.555Z"
   },
   {
    "duration": 98,
    "start_time": "2022-09-21T11:18:24.248Z"
   },
   {
    "duration": 4,
    "start_time": "2022-09-21T11:18:28.977Z"
   },
   {
    "duration": 6,
    "start_time": "2022-09-21T11:31:46.432Z"
   },
   {
    "duration": 6,
    "start_time": "2022-09-21T11:31:56.612Z"
   },
   {
    "duration": 14,
    "start_time": "2022-09-21T11:32:11.147Z"
   },
   {
    "duration": 8,
    "start_time": "2022-09-21T11:35:57.436Z"
   },
   {
    "duration": 10,
    "start_time": "2022-09-21T11:40:09.177Z"
   },
   {
    "duration": 10,
    "start_time": "2022-09-21T11:40:27.141Z"
   },
   {
    "duration": 10,
    "start_time": "2022-09-21T11:41:39.565Z"
   },
   {
    "duration": 11,
    "start_time": "2022-09-21T11:41:54.854Z"
   },
   {
    "duration": 11,
    "start_time": "2022-09-21T11:42:07.680Z"
   },
   {
    "duration": 8,
    "start_time": "2022-09-21T11:44:14.541Z"
   },
   {
    "duration": 6,
    "start_time": "2022-09-21T11:44:24.703Z"
   },
   {
    "duration": 4,
    "start_time": "2022-09-21T11:51:47.193Z"
   },
   {
    "duration": 19,
    "start_time": "2022-09-21T11:51:47.198Z"
   },
   {
    "duration": 6,
    "start_time": "2022-09-21T11:51:47.218Z"
   },
   {
    "duration": 96,
    "start_time": "2022-09-21T11:51:47.226Z"
   },
   {
    "duration": 4,
    "start_time": "2022-09-21T11:51:47.323Z"
   },
   {
    "duration": 8,
    "start_time": "2022-09-21T11:51:47.329Z"
   },
   {
    "duration": 10,
    "start_time": "2022-09-21T11:51:47.339Z"
   },
   {
    "duration": 6,
    "start_time": "2022-09-21T11:51:47.631Z"
   },
   {
    "duration": 15,
    "start_time": "2022-09-21T11:51:47.639Z"
   },
   {
    "duration": 11,
    "start_time": "2022-09-21T11:51:47.655Z"
   },
   {
    "duration": 27,
    "start_time": "2022-09-21T11:51:47.668Z"
   },
   {
    "duration": 10,
    "start_time": "2022-09-21T11:51:47.697Z"
   },
   {
    "duration": 14,
    "start_time": "2022-09-21T11:51:47.708Z"
   },
   {
    "duration": 7,
    "start_time": "2022-09-21T11:51:47.885Z"
   },
   {
    "duration": 1420,
    "start_time": "2022-09-21T11:51:47.894Z"
   },
   {
    "duration": 288,
    "start_time": "2022-09-21T11:51:49.316Z"
   },
   {
    "duration": 1531,
    "start_time": "2022-09-21T11:51:49.606Z"
   },
   {
    "duration": 1389,
    "start_time": "2022-09-21T11:51:51.139Z"
   },
   {
    "duration": 3,
    "start_time": "2022-09-21T12:58:07.033Z"
   },
   {
    "duration": 6,
    "start_time": "2022-09-21T12:58:07.040Z"
   },
   {
    "duration": 6,
    "start_time": "2022-09-21T12:58:07.047Z"
   },
   {
    "duration": 89,
    "start_time": "2022-09-21T12:58:07.071Z"
   },
   {
    "duration": 4,
    "start_time": "2022-09-21T12:58:07.162Z"
   },
   {
    "duration": 19,
    "start_time": "2022-09-21T12:58:07.167Z"
   },
   {
    "duration": 7,
    "start_time": "2022-09-21T12:58:07.187Z"
   },
   {
    "duration": 7,
    "start_time": "2022-09-21T12:58:07.196Z"
   },
   {
    "duration": 10,
    "start_time": "2022-09-21T12:58:07.204Z"
   },
   {
    "duration": 6,
    "start_time": "2022-09-21T12:58:07.215Z"
   },
   {
    "duration": 6,
    "start_time": "2022-09-21T12:58:07.223Z"
   },
   {
    "duration": 6,
    "start_time": "2022-09-21T12:58:07.233Z"
   },
   {
    "duration": 11,
    "start_time": "2022-09-21T12:58:07.240Z"
   },
   {
    "duration": 12,
    "start_time": "2022-09-21T12:58:07.253Z"
   },
   {
    "duration": 1462,
    "start_time": "2022-09-21T12:58:07.266Z"
   },
   {
    "duration": 275,
    "start_time": "2022-09-21T12:58:08.730Z"
   },
   {
    "duration": 1494,
    "start_time": "2022-09-21T12:58:09.007Z"
   },
   {
    "duration": 1453,
    "start_time": "2022-09-21T12:58:10.503Z"
   },
   {
    "duration": 11,
    "start_time": "2022-09-21T12:58:11.958Z"
   },
   {
    "duration": 7,
    "start_time": "2022-09-21T12:58:11.971Z"
   },
   {
    "duration": 18,
    "start_time": "2022-09-21T12:58:59.129Z"
   },
   {
    "duration": 4,
    "start_time": "2022-09-21T12:59:20.577Z"
   },
   {
    "duration": 72,
    "start_time": "2022-09-21T13:05:54.817Z"
   },
   {
    "duration": 4,
    "start_time": "2022-09-21T13:06:00.478Z"
   },
   {
    "duration": 17,
    "start_time": "2022-09-21T13:06:00.484Z"
   },
   {
    "duration": 27,
    "start_time": "2022-09-21T13:06:00.503Z"
   },
   {
    "duration": 105,
    "start_time": "2022-09-21T13:06:00.532Z"
   },
   {
    "duration": 5,
    "start_time": "2022-09-21T13:06:00.638Z"
   },
   {
    "duration": 55,
    "start_time": "2022-09-21T13:06:00.644Z"
   },
   {
    "duration": 13,
    "start_time": "2022-09-21T13:06:00.701Z"
   },
   {
    "duration": 9,
    "start_time": "2022-09-21T13:06:00.715Z"
   },
   {
    "duration": 10,
    "start_time": "2022-09-21T13:06:00.726Z"
   },
   {
    "duration": 40,
    "start_time": "2022-09-21T13:06:00.738Z"
   },
   {
    "duration": 21,
    "start_time": "2022-09-21T13:06:00.780Z"
   },
   {
    "duration": 26,
    "start_time": "2022-09-21T13:06:00.803Z"
   },
   {
    "duration": 65,
    "start_time": "2022-09-21T13:06:00.831Z"
   },
   {
    "duration": 22,
    "start_time": "2022-09-21T13:06:00.897Z"
   },
   {
    "duration": 1360,
    "start_time": "2022-09-21T13:06:00.921Z"
   },
   {
    "duration": 287,
    "start_time": "2022-09-21T13:06:02.283Z"
   },
   {
    "duration": 1682,
    "start_time": "2022-09-21T13:06:02.571Z"
   },
   {
    "duration": 1482,
    "start_time": "2022-09-21T13:06:04.254Z"
   },
   {
    "duration": 11,
    "start_time": "2022-09-21T13:06:05.738Z"
   },
   {
    "duration": 4,
    "start_time": "2022-09-21T13:06:05.750Z"
   },
   {
    "duration": 16,
    "start_time": "2022-09-21T13:06:05.755Z"
   },
   {
    "duration": 26,
    "start_time": "2022-09-21T13:06:05.772Z"
   },
   {
    "duration": 5,
    "start_time": "2022-09-21T17:42:56.546Z"
   },
   {
    "duration": 8,
    "start_time": "2022-09-21T17:42:56.554Z"
   },
   {
    "duration": 6,
    "start_time": "2022-09-21T17:42:56.563Z"
   },
   {
    "duration": 118,
    "start_time": "2022-09-21T17:42:56.571Z"
   },
   {
    "duration": 5,
    "start_time": "2022-09-21T17:42:56.691Z"
   },
   {
    "duration": 8,
    "start_time": "2022-09-21T17:42:56.697Z"
   },
   {
    "duration": 7,
    "start_time": "2022-09-21T17:42:56.707Z"
   },
   {
    "duration": 7,
    "start_time": "2022-09-21T17:42:56.735Z"
   },
   {
    "duration": 16,
    "start_time": "2022-09-21T17:42:56.744Z"
   },
   {
    "duration": 10,
    "start_time": "2022-09-21T17:42:56.762Z"
   },
   {
    "duration": 8,
    "start_time": "2022-09-21T17:42:56.776Z"
   },
   {
    "duration": 10,
    "start_time": "2022-09-21T17:42:56.786Z"
   },
   {
    "duration": 10,
    "start_time": "2022-09-21T17:42:56.799Z"
   },
   {
    "duration": 25,
    "start_time": "2022-09-21T17:42:56.811Z"
   },
   {
    "duration": 1347,
    "start_time": "2022-09-21T17:42:56.839Z"
   },
   {
    "duration": 424,
    "start_time": "2022-09-21T17:42:58.188Z"
   },
   {
    "duration": 1506,
    "start_time": "2022-09-21T17:42:58.614Z"
   },
   {
    "duration": 1555,
    "start_time": "2022-09-21T17:43:00.122Z"
   },
   {
    "duration": 11,
    "start_time": "2022-09-21T17:43:01.681Z"
   },
   {
    "duration": 28,
    "start_time": "2022-09-21T17:43:01.694Z"
   },
   {
    "duration": 50,
    "start_time": "2022-09-21T17:43:01.724Z"
   },
   {
    "duration": 27,
    "start_time": "2022-09-21T17:43:01.776Z"
   },
   {
    "duration": 69,
    "start_time": "2022-09-21T17:43:01.805Z"
   },
   {
    "duration": 0,
    "start_time": "2022-09-21T17:43:01.876Z"
   },
   {
    "duration": 8,
    "start_time": "2022-09-21T17:43:09.162Z"
   },
   {
    "duration": 14,
    "start_time": "2022-09-21T17:43:12.035Z"
   },
   {
    "duration": 10,
    "start_time": "2022-09-21T17:44:49.334Z"
   },
   {
    "duration": 17,
    "start_time": "2022-09-21T17:44:51.317Z"
   },
   {
    "duration": 7,
    "start_time": "2022-09-21T17:45:45.468Z"
   },
   {
    "duration": 45,
    "start_time": "2022-09-21T17:45:47.607Z"
   },
   {
    "duration": 6,
    "start_time": "2022-09-21T17:46:44.679Z"
   },
   {
    "duration": 101,
    "start_time": "2022-09-21T17:46:48.033Z"
   },
   {
    "duration": 5,
    "start_time": "2022-09-21T17:47:41.250Z"
   },
   {
    "duration": 10,
    "start_time": "2022-09-21T17:47:41.257Z"
   },
   {
    "duration": 7,
    "start_time": "2022-09-21T17:47:41.269Z"
   },
   {
    "duration": 98,
    "start_time": "2022-09-21T17:47:41.278Z"
   },
   {
    "duration": 5,
    "start_time": "2022-09-21T17:47:41.378Z"
   },
   {
    "duration": 7,
    "start_time": "2022-09-21T17:47:41.385Z"
   },
   {
    "duration": 8,
    "start_time": "2022-09-21T17:47:41.394Z"
   },
   {
    "duration": 33,
    "start_time": "2022-09-21T17:47:41.403Z"
   },
   {
    "duration": 6,
    "start_time": "2022-09-21T17:47:41.438Z"
   },
   {
    "duration": 11,
    "start_time": "2022-09-21T17:47:41.445Z"
   },
   {
    "duration": 11,
    "start_time": "2022-09-21T17:47:41.457Z"
   },
   {
    "duration": 11,
    "start_time": "2022-09-21T17:47:41.470Z"
   },
   {
    "duration": 12,
    "start_time": "2022-09-21T17:47:41.482Z"
   },
   {
    "duration": 12,
    "start_time": "2022-09-21T17:47:41.496Z"
   },
   {
    "duration": 1569,
    "start_time": "2022-09-21T17:47:41.509Z"
   },
   {
    "duration": 286,
    "start_time": "2022-09-21T17:47:43.080Z"
   },
   {
    "duration": 1620,
    "start_time": "2022-09-21T17:47:43.367Z"
   },
   {
    "duration": 1461,
    "start_time": "2022-09-21T17:47:44.989Z"
   },
   {
    "duration": 18,
    "start_time": "2022-09-21T17:47:46.453Z"
   },
   {
    "duration": 4,
    "start_time": "2022-09-21T17:47:46.474Z"
   },
   {
    "duration": 26,
    "start_time": "2022-09-21T17:47:46.480Z"
   },
   {
    "duration": 55,
    "start_time": "2022-09-21T17:47:46.509Z"
   },
   {
    "duration": 11,
    "start_time": "2022-09-21T17:47:46.568Z"
   },
   {
    "duration": 110,
    "start_time": "2022-09-21T17:47:46.581Z"
   },
   {
    "duration": 7,
    "start_time": "2022-09-21T17:48:19.818Z"
   },
   {
    "duration": 74,
    "start_time": "2022-09-21T17:48:21.677Z"
   },
   {
    "duration": 84,
    "start_time": "2022-09-21T17:49:23.889Z"
   },
   {
    "duration": 7,
    "start_time": "2022-09-21T17:49:32.362Z"
   },
   {
    "duration": 75,
    "start_time": "2022-09-21T17:49:34.471Z"
   },
   {
    "duration": 7,
    "start_time": "2022-09-21T17:51:42.318Z"
   },
   {
    "duration": 76,
    "start_time": "2022-09-21T17:51:45.288Z"
   },
   {
    "duration": 7,
    "start_time": "2022-09-21T17:52:03.096Z"
   },
   {
    "duration": 67,
    "start_time": "2022-09-21T17:52:04.950Z"
   },
   {
    "duration": 72,
    "start_time": "2022-09-21T17:52:12.068Z"
   },
   {
    "duration": 8,
    "start_time": "2022-09-21T17:52:23.362Z"
   },
   {
    "duration": 88,
    "start_time": "2022-09-21T17:52:26.049Z"
   },
   {
    "duration": 7,
    "start_time": "2022-09-21T17:53:08.567Z"
   },
   {
    "duration": 105,
    "start_time": "2022-09-21T17:53:10.447Z"
   },
   {
    "duration": 10,
    "start_time": "2022-09-21T17:53:52.499Z"
   },
   {
    "duration": 107,
    "start_time": "2022-09-21T17:53:54.213Z"
   },
   {
    "duration": 11,
    "start_time": "2022-09-21T17:54:13.620Z"
   },
   {
    "duration": 158,
    "start_time": "2022-09-21T17:54:15.462Z"
   },
   {
    "duration": 159,
    "start_time": "2022-09-21T17:54:45.475Z"
   },
   {
    "duration": 153,
    "start_time": "2022-09-21T17:54:50.366Z"
   },
   {
    "duration": 166,
    "start_time": "2022-09-21T17:54:54.950Z"
   },
   {
    "duration": 23,
    "start_time": "2022-09-21T17:55:06.089Z"
   },
   {
    "duration": 160,
    "start_time": "2022-09-21T17:55:08.106Z"
   },
   {
    "duration": 7,
    "start_time": "2022-09-21T17:56:55.509Z"
   },
   {
    "duration": 69469,
    "start_time": "2022-09-21T17:56:57.653Z"
   },
   {
    "duration": 4926,
    "start_time": "2022-09-21T17:58:11.857Z"
   },
   {
    "duration": 10,
    "start_time": "2022-09-21T17:58:54.545Z"
   },
   {
    "duration": 5672,
    "start_time": "2022-09-21T17:58:56.749Z"
   },
   {
    "duration": 10,
    "start_time": "2022-09-21T17:59:21.888Z"
   },
   {
    "duration": 6443,
    "start_time": "2022-09-21T17:59:24.076Z"
   },
   {
    "duration": 3,
    "start_time": "2022-09-21T18:31:57.443Z"
   },
   {
    "duration": 8,
    "start_time": "2022-09-21T18:31:58.911Z"
   },
   {
    "duration": 7,
    "start_time": "2022-09-21T18:32:03.654Z"
   },
   {
    "duration": 4657,
    "start_time": "2022-09-21T18:32:05.450Z"
   },
   {
    "duration": 5,
    "start_time": "2022-09-21T19:08:10.664Z"
   },
   {
    "duration": 20,
    "start_time": "2022-09-21T19:08:10.672Z"
   },
   {
    "duration": 18,
    "start_time": "2022-09-21T19:08:10.695Z"
   },
   {
    "duration": 148,
    "start_time": "2022-09-21T19:08:10.715Z"
   },
   {
    "duration": 5,
    "start_time": "2022-09-21T19:08:10.865Z"
   },
   {
    "duration": 18,
    "start_time": "2022-09-21T19:08:10.872Z"
   },
   {
    "duration": 30,
    "start_time": "2022-09-21T19:08:10.892Z"
   },
   {
    "duration": 44,
    "start_time": "2022-09-21T19:08:10.924Z"
   },
   {
    "duration": 24,
    "start_time": "2022-09-21T19:08:10.970Z"
   },
   {
    "duration": 17,
    "start_time": "2022-09-21T19:08:10.996Z"
   },
   {
    "duration": 34,
    "start_time": "2022-09-21T19:08:11.014Z"
   },
   {
    "duration": 28,
    "start_time": "2022-09-21T19:08:11.049Z"
   },
   {
    "duration": 30,
    "start_time": "2022-09-21T19:08:11.078Z"
   },
   {
    "duration": 28,
    "start_time": "2022-09-21T19:08:11.109Z"
   },
   {
    "duration": 1566,
    "start_time": "2022-09-21T19:08:11.138Z"
   },
   {
    "duration": 285,
    "start_time": "2022-09-21T19:08:12.706Z"
   },
   {
    "duration": 1619,
    "start_time": "2022-09-21T19:08:12.993Z"
   },
   {
    "duration": 1453,
    "start_time": "2022-09-21T19:08:14.613Z"
   },
   {
    "duration": 12,
    "start_time": "2022-09-21T19:08:16.067Z"
   },
   {
    "duration": 4,
    "start_time": "2022-09-21T19:08:16.080Z"
   },
   {
    "duration": 17,
    "start_time": "2022-09-21T19:08:16.086Z"
   },
   {
    "duration": 50,
    "start_time": "2022-09-21T19:08:16.105Z"
   },
   {
    "duration": 4,
    "start_time": "2022-09-21T19:08:16.157Z"
   },
   {
    "duration": 22,
    "start_time": "2022-09-21T19:08:16.164Z"
   },
   {
    "duration": 19,
    "start_time": "2022-09-21T19:08:16.188Z"
   },
   {
    "duration": 63,
    "start_time": "2022-09-21T19:08:16.209Z"
   },
   {
    "duration": 0,
    "start_time": "2022-09-21T19:08:16.274Z"
   },
   {
    "duration": 5,
    "start_time": "2022-09-21T19:09:13.328Z"
   },
   {
    "duration": 6,
    "start_time": "2022-09-21T19:09:16.041Z"
   },
   {
    "duration": 336,
    "start_time": "2022-09-21T19:09:21.296Z"
   },
   {
    "duration": 3255,
    "start_time": "2022-09-21T19:09:49.602Z"
   },
   {
    "duration": 16,
    "start_time": "2022-09-21T19:09:54.433Z"
   },
   {
    "duration": 4682,
    "start_time": "2022-09-21T19:10:30.369Z"
   },
   {
    "duration": 350,
    "start_time": "2022-09-21T19:10:43.599Z"
   },
   {
    "duration": 7,
    "start_time": "2022-09-21T19:11:07.663Z"
   },
   {
    "duration": 6,
    "start_time": "2022-09-21T19:11:10.151Z"
   },
   {
    "duration": 5,
    "start_time": "2022-09-21T19:11:13.354Z"
   },
   {
    "duration": 8,
    "start_time": "2022-09-21T19:11:16.357Z"
   },
   {
    "duration": 9,
    "start_time": "2022-09-21T19:11:21.654Z"
   },
   {
    "duration": 5590,
    "start_time": "2022-09-21T19:11:23.829Z"
   },
   {
    "duration": 410,
    "start_time": "2022-09-21T19:11:30.451Z"
   },
   {
    "duration": 8,
    "start_time": "2022-09-21T19:14:08.860Z"
   },
   {
    "duration": 7,
    "start_time": "2022-09-21T19:14:11.012Z"
   },
   {
    "duration": 3963,
    "start_time": "2022-09-21T19:14:14.379Z"
   },
   {
    "duration": 6,
    "start_time": "2022-09-21T19:18:35.623Z"
   },
   {
    "duration": 4890,
    "start_time": "2022-09-21T19:18:37.475Z"
   },
   {
    "duration": 6618,
    "start_time": "2022-09-21T19:18:45.032Z"
   },
   {
    "duration": 54,
    "start_time": "2022-09-21T19:18:55.452Z"
   },
   {
    "duration": 6,
    "start_time": "2022-09-21T19:19:15.668Z"
   },
   {
    "duration": 6,
    "start_time": "2022-09-21T19:19:18.321Z"
   },
   {
    "duration": 23,
    "start_time": "2022-09-21T19:19:20.332Z"
   },
   {
    "duration": 7,
    "start_time": "2022-09-21T19:19:34.454Z"
   },
   {
    "duration": 26,
    "start_time": "2022-09-21T19:19:36.773Z"
   },
   {
    "duration": 4,
    "start_time": "2022-09-21T19:23:09.628Z"
   },
   {
    "duration": 5,
    "start_time": "2022-09-21T19:23:21.852Z"
   },
   {
    "duration": 6,
    "start_time": "2022-09-21T19:24:50.753Z"
   },
   {
    "duration": 9,
    "start_time": "2022-09-21T19:42:42.767Z"
   },
   {
    "duration": 7,
    "start_time": "2022-09-21T19:43:16.965Z"
   },
   {
    "duration": 7,
    "start_time": "2022-09-21T19:43:44.330Z"
   },
   {
    "duration": 10,
    "start_time": "2022-09-21T19:44:27.528Z"
   },
   {
    "duration": 7,
    "start_time": "2022-09-21T19:44:41.269Z"
   },
   {
    "duration": 8,
    "start_time": "2022-09-21T19:45:49.122Z"
   },
   {
    "duration": 9,
    "start_time": "2022-09-21T19:46:08.479Z"
   },
   {
    "duration": 10,
    "start_time": "2022-09-21T19:46:36.560Z"
   },
   {
    "duration": 4,
    "start_time": "2022-09-21T19:47:16.991Z"
   },
   {
    "duration": 140,
    "start_time": "2022-09-21T19:52:30.325Z"
   },
   {
    "duration": 84,
    "start_time": "2022-09-21T20:06:15.059Z"
   },
   {
    "duration": 8,
    "start_time": "2022-09-21T20:06:34.018Z"
   },
   {
    "duration": 62,
    "start_time": "2022-09-21T20:06:39.618Z"
   },
   {
    "duration": 8,
    "start_time": "2022-09-21T20:08:34.717Z"
   },
   {
    "duration": 44180,
    "start_time": "2022-09-21T20:08:37.678Z"
   },
   {
    "duration": 9,
    "start_time": "2022-09-21T20:09:24.854Z"
   },
   {
    "duration": 68954,
    "start_time": "2022-09-21T20:09:28.005Z"
   },
   {
    "duration": 10,
    "start_time": "2022-09-21T20:11:09.712Z"
   },
   {
    "duration": 386277,
    "start_time": "2022-09-21T20:11:12.751Z"
   },
   {
    "duration": 6,
    "start_time": "2022-09-21T20:20:07.639Z"
   },
   {
    "duration": 19,
    "start_time": "2022-09-21T20:20:07.648Z"
   },
   {
    "duration": 5,
    "start_time": "2022-09-21T20:20:07.669Z"
   },
   {
    "duration": 101,
    "start_time": "2022-09-21T20:20:07.676Z"
   },
   {
    "duration": 4,
    "start_time": "2022-09-21T20:20:07.779Z"
   },
   {
    "duration": 18,
    "start_time": "2022-09-21T20:20:07.785Z"
   },
   {
    "duration": 8,
    "start_time": "2022-09-21T20:20:07.805Z"
   },
   {
    "duration": 18,
    "start_time": "2022-09-21T20:20:07.833Z"
   },
   {
    "duration": 11,
    "start_time": "2022-09-21T20:20:07.854Z"
   },
   {
    "duration": 8,
    "start_time": "2022-09-21T20:20:07.867Z"
   },
   {
    "duration": 5,
    "start_time": "2022-09-21T20:20:07.877Z"
   },
   {
    "duration": 9,
    "start_time": "2022-09-21T20:20:07.884Z"
   },
   {
    "duration": 9,
    "start_time": "2022-09-21T20:20:07.894Z"
   },
   {
    "duration": 15,
    "start_time": "2022-09-21T20:20:07.904Z"
   },
   {
    "duration": 1752,
    "start_time": "2022-09-21T20:20:07.921Z"
   },
   {
    "duration": 326,
    "start_time": "2022-09-21T20:20:09.676Z"
   },
   {
    "duration": 1884,
    "start_time": "2022-09-21T20:20:10.004Z"
   },
   {
    "duration": 1684,
    "start_time": "2022-09-21T20:20:11.890Z"
   },
   {
    "duration": 12,
    "start_time": "2022-09-21T20:20:13.579Z"
   },
   {
    "duration": 7,
    "start_time": "2022-09-21T20:20:13.594Z"
   },
   {
    "duration": 38,
    "start_time": "2022-09-21T20:20:13.603Z"
   },
   {
    "duration": 31,
    "start_time": "2022-09-21T20:20:13.644Z"
   },
   {
    "duration": 4,
    "start_time": "2022-09-21T20:20:13.677Z"
   },
   {
    "duration": 14,
    "start_time": "2022-09-21T20:20:13.682Z"
   },
   {
    "duration": 11,
    "start_time": "2022-09-21T20:20:13.698Z"
   },
   {
    "duration": 29,
    "start_time": "2022-09-21T20:20:13.711Z"
   },
   {
    "duration": 40,
    "start_time": "2022-09-21T20:20:13.752Z"
   },
   {
    "duration": 101,
    "start_time": "2022-09-21T20:20:13.836Z"
   },
   {
    "duration": 0,
    "start_time": "2022-09-21T20:20:13.939Z"
   },
   {
    "duration": 3385,
    "start_time": "2022-09-21T20:20:29.523Z"
   },
   {
    "duration": 6,
    "start_time": "2022-09-21T20:20:36.749Z"
   },
   {
    "duration": 8,
    "start_time": "2022-09-21T20:20:36.758Z"
   },
   {
    "duration": 8,
    "start_time": "2022-09-21T20:20:36.767Z"
   },
   {
    "duration": 113,
    "start_time": "2022-09-21T20:20:36.776Z"
   },
   {
    "duration": 4,
    "start_time": "2022-09-21T20:20:36.892Z"
   },
   {
    "duration": 16,
    "start_time": "2022-09-21T20:20:36.898Z"
   },
   {
    "duration": 27,
    "start_time": "2022-09-21T20:20:36.916Z"
   },
   {
    "duration": 17,
    "start_time": "2022-09-21T20:20:36.945Z"
   },
   {
    "duration": 9,
    "start_time": "2022-09-21T20:20:36.964Z"
   },
   {
    "duration": 7,
    "start_time": "2022-09-21T20:20:36.975Z"
   },
   {
    "duration": 6,
    "start_time": "2022-09-21T20:20:36.984Z"
   },
   {
    "duration": 8,
    "start_time": "2022-09-21T20:20:36.991Z"
   },
   {
    "duration": 13,
    "start_time": "2022-09-21T20:20:37.002Z"
   },
   {
    "duration": 20,
    "start_time": "2022-09-21T20:20:37.017Z"
   },
   {
    "duration": 1489,
    "start_time": "2022-09-21T20:20:37.039Z"
   },
   {
    "duration": 368,
    "start_time": "2022-09-21T20:20:38.530Z"
   },
   {
    "duration": 1916,
    "start_time": "2022-09-21T20:20:38.900Z"
   },
   {
    "duration": 1685,
    "start_time": "2022-09-21T20:20:40.819Z"
   },
   {
    "duration": 19,
    "start_time": "2022-09-21T20:20:42.505Z"
   },
   {
    "duration": 38,
    "start_time": "2022-09-21T20:20:42.526Z"
   },
   {
    "duration": 33,
    "start_time": "2022-09-21T20:20:42.566Z"
   },
   {
    "duration": 72,
    "start_time": "2022-09-21T20:20:42.601Z"
   },
   {
    "duration": 6,
    "start_time": "2022-09-21T20:20:42.676Z"
   },
   {
    "duration": 34,
    "start_time": "2022-09-21T20:20:42.685Z"
   },
   {
    "duration": 52,
    "start_time": "2022-09-21T20:20:42.722Z"
   },
   {
    "duration": 14,
    "start_time": "2022-09-21T20:20:42.776Z"
   },
   {
    "duration": 36,
    "start_time": "2022-09-21T20:20:42.792Z"
   },
   {
    "duration": 3422,
    "start_time": "2022-09-21T20:20:42.837Z"
   },
   {
    "duration": 141641,
    "start_time": "2022-09-21T20:20:46.261Z"
   },
   {
    "duration": 12,
    "start_time": "2022-09-21T20:32:37.860Z"
   },
   {
    "duration": 12,
    "start_time": "2022-09-21T20:33:02.402Z"
   },
   {
    "duration": 15,
    "start_time": "2022-09-21T20:33:06.130Z"
   },
   {
    "duration": 14,
    "start_time": "2022-09-21T20:35:02.193Z"
   },
   {
    "duration": 21,
    "start_time": "2022-09-21T20:35:06.198Z"
   },
   {
    "duration": 18,
    "start_time": "2022-09-21T20:35:09.755Z"
   },
   {
    "duration": 20,
    "start_time": "2022-09-21T20:35:53.651Z"
   },
   {
    "duration": 15,
    "start_time": "2022-09-21T20:36:34.604Z"
   },
   {
    "duration": 15,
    "start_time": "2022-09-21T20:37:03.608Z"
   },
   {
    "duration": 17,
    "start_time": "2022-09-21T20:37:56.962Z"
   },
   {
    "duration": 20,
    "start_time": "2022-09-21T20:38:00.997Z"
   },
   {
    "duration": 18,
    "start_time": "2022-09-21T20:38:16.540Z"
   },
   {
    "duration": 16,
    "start_time": "2022-09-21T20:38:20.248Z"
   },
   {
    "duration": 21,
    "start_time": "2022-09-21T20:38:35.632Z"
   },
   {
    "duration": 3273,
    "start_time": "2022-09-21T20:38:54.075Z"
   },
   {
    "duration": 13,
    "start_time": "2022-09-21T20:39:01.578Z"
   },
   {
    "duration": 17,
    "start_time": "2022-09-21T20:39:27.576Z"
   },
   {
    "duration": 16,
    "start_time": "2022-09-21T20:39:33.254Z"
   },
   {
    "duration": 17,
    "start_time": "2022-09-21T20:39:36.157Z"
   },
   {
    "duration": 17,
    "start_time": "2022-09-21T20:39:41.111Z"
   },
   {
    "duration": 16,
    "start_time": "2022-09-21T20:42:04.013Z"
   },
   {
    "duration": 17,
    "start_time": "2022-09-21T20:42:10.489Z"
   },
   {
    "duration": 19,
    "start_time": "2022-09-21T20:42:21.311Z"
   },
   {
    "duration": 1394,
    "start_time": "2022-09-21T20:42:27.172Z"
   },
   {
    "duration": 18,
    "start_time": "2022-09-21T20:42:35.895Z"
   },
   {
    "duration": 16,
    "start_time": "2022-09-21T20:43:15.746Z"
   },
   {
    "duration": 17,
    "start_time": "2022-09-21T20:43:20.550Z"
   },
   {
    "duration": 13,
    "start_time": "2022-09-21T20:45:13.665Z"
   },
   {
    "duration": 14,
    "start_time": "2022-09-21T20:45:28.894Z"
   },
   {
    "duration": 15,
    "start_time": "2022-09-21T20:46:01.879Z"
   },
   {
    "duration": 15,
    "start_time": "2022-09-21T20:46:33.445Z"
   },
   {
    "duration": 15,
    "start_time": "2022-09-21T20:51:11.846Z"
   },
   {
    "duration": 978,
    "start_time": "2022-09-21T20:52:11.077Z"
   },
   {
    "duration": 174,
    "start_time": "2022-09-21T20:53:22.933Z"
   },
   {
    "duration": 169,
    "start_time": "2022-09-21T20:56:34.231Z"
   },
   {
    "duration": 112,
    "start_time": "2022-09-21T21:00:45.887Z"
   },
   {
    "duration": 61,
    "start_time": "2022-09-21T21:00:59.645Z"
   },
   {
    "duration": 92,
    "start_time": "2022-09-21T21:01:09.232Z"
   },
   {
    "duration": 157,
    "start_time": "2022-09-21T21:01:57.531Z"
   },
   {
    "duration": 102,
    "start_time": "2022-09-21T21:02:05.445Z"
   },
   {
    "duration": 180,
    "start_time": "2022-09-21T21:02:23.731Z"
   },
   {
    "duration": 166,
    "start_time": "2022-09-21T21:02:59.065Z"
   },
   {
    "duration": 181,
    "start_time": "2022-09-21T21:03:14.725Z"
   },
   {
    "duration": 194,
    "start_time": "2022-09-21T21:03:38.561Z"
   },
   {
    "duration": 175,
    "start_time": "2022-09-21T21:03:42.787Z"
   },
   {
    "duration": 178,
    "start_time": "2022-09-21T21:03:52.480Z"
   },
   {
    "duration": 347,
    "start_time": "2022-09-21T21:04:46.657Z"
   },
   {
    "duration": 175,
    "start_time": "2022-09-21T21:05:00.855Z"
   },
   {
    "duration": 179,
    "start_time": "2022-09-21T21:10:19.064Z"
   },
   {
    "duration": 25,
    "start_time": "2022-09-21T21:10:59.159Z"
   },
   {
    "duration": 17,
    "start_time": "2022-09-21T21:11:05.370Z"
   },
   {
    "duration": 11,
    "start_time": "2022-09-21T21:11:10.381Z"
   },
   {
    "duration": 12,
    "start_time": "2022-09-21T21:12:10.170Z"
   },
   {
    "duration": 12,
    "start_time": "2022-09-21T21:12:17.206Z"
   },
   {
    "duration": 23,
    "start_time": "2022-09-21T21:12:51.430Z"
   },
   {
    "duration": 13,
    "start_time": "2022-09-21T21:13:16.972Z"
   },
   {
    "duration": 11,
    "start_time": "2022-09-21T21:14:31.400Z"
   },
   {
    "duration": 4,
    "start_time": "2022-09-21T21:14:47.174Z"
   },
   {
    "duration": 5,
    "start_time": "2022-09-21T21:14:49.600Z"
   },
   {
    "duration": 13,
    "start_time": "2022-09-21T21:15:09.814Z"
   },
   {
    "duration": 15,
    "start_time": "2022-09-21T21:16:30.657Z"
   },
   {
    "duration": 14,
    "start_time": "2022-09-21T21:16:42.955Z"
   },
   {
    "duration": 12,
    "start_time": "2022-09-21T21:16:45.907Z"
   },
   {
    "duration": 89,
    "start_time": "2022-09-22T12:32:41.216Z"
   },
   {
    "duration": 3,
    "start_time": "2022-09-22T12:32:49.570Z"
   },
   {
    "duration": 7,
    "start_time": "2022-09-22T12:56:41.753Z"
   },
   {
    "duration": 103,
    "start_time": "2022-09-22T12:56:52.432Z"
   },
   {
    "duration": 82,
    "start_time": "2022-09-22T12:57:05.870Z"
   },
   {
    "duration": 47,
    "start_time": "2022-09-22T12:57:12.950Z"
   },
   {
    "duration": 1647,
    "start_time": "2022-09-22T12:57:20.955Z"
   },
   {
    "duration": 3,
    "start_time": "2022-09-22T12:57:22.605Z"
   },
   {
    "duration": 6,
    "start_time": "2022-09-22T12:57:22.610Z"
   },
   {
    "duration": 231,
    "start_time": "2022-09-22T12:57:22.620Z"
   },
   {
    "duration": 4,
    "start_time": "2022-09-22T12:57:22.853Z"
   },
   {
    "duration": 15,
    "start_time": "2022-09-22T12:57:22.860Z"
   },
   {
    "duration": 17,
    "start_time": "2022-09-22T12:57:22.877Z"
   },
   {
    "duration": 10,
    "start_time": "2022-09-22T12:57:22.897Z"
   },
   {
    "duration": 13,
    "start_time": "2022-09-22T12:57:22.910Z"
   },
   {
    "duration": 4,
    "start_time": "2022-09-22T12:57:22.927Z"
   },
   {
    "duration": 12,
    "start_time": "2022-09-22T12:57:22.933Z"
   },
   {
    "duration": 6,
    "start_time": "2022-09-22T12:57:22.947Z"
   },
   {
    "duration": 39,
    "start_time": "2022-09-22T12:57:22.955Z"
   },
   {
    "duration": 10,
    "start_time": "2022-09-22T12:57:22.996Z"
   },
   {
    "duration": 1640,
    "start_time": "2022-09-22T12:57:23.008Z"
   },
   {
    "duration": 295,
    "start_time": "2022-09-22T12:57:24.650Z"
   },
   {
    "duration": 1725,
    "start_time": "2022-09-22T12:57:24.947Z"
   },
   {
    "duration": 1513,
    "start_time": "2022-09-22T12:57:26.674Z"
   },
   {
    "duration": 13,
    "start_time": "2022-09-22T12:57:28.189Z"
   },
   {
    "duration": 6,
    "start_time": "2022-09-22T12:57:28.205Z"
   },
   {
    "duration": 15,
    "start_time": "2022-09-22T12:57:28.213Z"
   },
   {
    "duration": 60,
    "start_time": "2022-09-22T12:57:28.230Z"
   },
   {
    "duration": 5,
    "start_time": "2022-09-22T12:57:28.293Z"
   },
   {
    "duration": 23,
    "start_time": "2022-09-22T12:57:28.300Z"
   },
   {
    "duration": 12,
    "start_time": "2022-09-22T12:57:28.325Z"
   },
   {
    "duration": 12,
    "start_time": "2022-09-22T12:57:28.339Z"
   },
   {
    "duration": 13,
    "start_time": "2022-09-22T12:57:28.354Z"
   },
   {
    "duration": 124,
    "start_time": "2022-09-22T12:57:28.372Z"
   },
   {
    "duration": 3631,
    "start_time": "2022-09-22T12:57:28.498Z"
   },
   {
    "duration": 146979,
    "start_time": "2022-09-22T12:57:32.132Z"
   },
   {
    "duration": 186,
    "start_time": "2022-09-22T12:59:59.113Z"
   },
   {
    "duration": 5,
    "start_time": "2022-09-22T12:59:59.300Z"
   },
   {
    "duration": 88,
    "start_time": "2022-09-22T12:59:59.306Z"
   },
   {
    "duration": 0,
    "start_time": "2022-09-22T12:59:59.396Z"
   },
   {
    "duration": 0,
    "start_time": "2022-09-22T12:59:59.397Z"
   },
   {
    "duration": 23,
    "start_time": "2022-09-22T13:00:08.439Z"
   },
   {
    "duration": 10,
    "start_time": "2022-09-22T13:00:22.450Z"
   },
   {
    "duration": 22,
    "start_time": "2022-09-22T13:00:48.042Z"
   },
   {
    "duration": 15,
    "start_time": "2022-09-22T13:01:11.253Z"
   },
   {
    "duration": 22,
    "start_time": "2022-09-22T13:01:47.785Z"
   },
   {
    "duration": 90,
    "start_time": "2022-09-22T13:01:58.504Z"
   },
   {
    "duration": 15,
    "start_time": "2022-09-22T13:02:02.654Z"
   },
   {
    "duration": 15,
    "start_time": "2022-09-22T13:02:14.757Z"
   },
   {
    "duration": 21,
    "start_time": "2022-09-22T13:07:05.454Z"
   },
   {
    "duration": 19,
    "start_time": "2022-09-22T13:07:18.184Z"
   },
   {
    "duration": 17,
    "start_time": "2022-09-22T13:08:05.180Z"
   },
   {
    "duration": 17,
    "start_time": "2022-09-22T13:08:21.055Z"
   },
   {
    "duration": 22,
    "start_time": "2022-09-22T13:14:01.265Z"
   },
   {
    "duration": 6,
    "start_time": "2022-09-22T13:35:28.153Z"
   },
   {
    "duration": 6,
    "start_time": "2022-09-22T13:35:59.623Z"
   },
   {
    "duration": 7,
    "start_time": "2022-09-22T13:39:11.938Z"
   },
   {
    "duration": 10,
    "start_time": "2022-09-22T13:39:14.017Z"
   },
   {
    "duration": 17,
    "start_time": "2022-09-22T13:39:30.960Z"
   },
   {
    "duration": 17,
    "start_time": "2022-09-22T13:39:36.979Z"
   },
   {
    "duration": 31,
    "start_time": "2022-09-22T13:39:51.985Z"
   },
   {
    "duration": 11,
    "start_time": "2022-09-22T13:40:39.634Z"
   },
   {
    "duration": 6,
    "start_time": "2022-09-22T13:40:41.210Z"
   },
   {
    "duration": 10,
    "start_time": "2022-09-22T13:40:42.849Z"
   },
   {
    "duration": 3,
    "start_time": "2022-09-22T13:46:04.514Z"
   },
   {
    "duration": 7,
    "start_time": "2022-09-22T13:46:47.601Z"
   },
   {
    "duration": 23,
    "start_time": "2022-09-22T13:46:51.908Z"
   },
   {
    "duration": 6,
    "start_time": "2022-09-22T13:47:25.510Z"
   },
   {
    "duration": 10,
    "start_time": "2022-09-22T13:47:27.745Z"
   },
   {
    "duration": 10,
    "start_time": "2022-09-22T13:47:31.179Z"
   },
   {
    "duration": 6,
    "start_time": "2022-09-22T13:47:40.461Z"
   },
   {
    "duration": 12,
    "start_time": "2022-09-22T13:47:42.446Z"
   },
   {
    "duration": 9,
    "start_time": "2022-09-22T13:48:12.032Z"
   },
   {
    "duration": 12,
    "start_time": "2022-09-22T13:48:13.765Z"
   },
   {
    "duration": 10,
    "start_time": "2022-09-22T13:48:18.845Z"
   },
   {
    "duration": 7,
    "start_time": "2022-09-22T13:48:29.808Z"
   },
   {
    "duration": 18,
    "start_time": "2022-09-22T13:48:31.604Z"
   },
   {
    "duration": 6,
    "start_time": "2022-09-22T13:48:56.358Z"
   },
   {
    "duration": 11,
    "start_time": "2022-09-22T13:48:58.407Z"
   },
   {
    "duration": 7,
    "start_time": "2022-09-22T13:49:20.334Z"
   },
   {
    "duration": 10,
    "start_time": "2022-09-22T13:49:22.350Z"
   },
   {
    "duration": 8,
    "start_time": "2022-09-22T18:47:04.720Z"
   },
   {
    "duration": 11,
    "start_time": "2022-09-22T18:47:06.862Z"
   },
   {
    "duration": 174,
    "start_time": "2022-09-22T19:01:53.722Z"
   },
   {
    "duration": 424,
    "start_time": "2022-09-22T19:18:11.672Z"
   },
   {
    "duration": 365,
    "start_time": "2022-09-22T19:18:38.632Z"
   },
   {
    "duration": 12,
    "start_time": "2022-09-22T19:19:57.995Z"
   },
   {
    "duration": 387,
    "start_time": "2022-09-22T19:20:34.803Z"
   },
   {
    "duration": 257,
    "start_time": "2022-09-22T19:21:30.645Z"
   },
   {
    "duration": 435,
    "start_time": "2022-09-22T19:23:08.556Z"
   },
   {
    "duration": 532,
    "start_time": "2022-09-22T19:23:33.658Z"
   },
   {
    "duration": 477,
    "start_time": "2022-09-22T19:24:04.215Z"
   },
   {
    "duration": 389,
    "start_time": "2022-09-22T19:24:40.405Z"
   },
   {
    "duration": 520,
    "start_time": "2022-09-22T19:25:58.569Z"
   },
   {
    "duration": 480,
    "start_time": "2022-09-22T19:26:07.010Z"
   },
   {
    "duration": 7871,
    "start_time": "2022-09-22T19:34:55.602Z"
   },
   {
    "duration": 86590,
    "start_time": "2022-09-22T19:37:02.702Z"
   },
   {
    "duration": 26023,
    "start_time": "2022-09-22T19:38:31.136Z"
   },
   {
    "duration": 33760,
    "start_time": "2022-09-22T19:39:23.508Z"
   },
   {
    "duration": 16569,
    "start_time": "2022-09-22T19:41:12.507Z"
   },
   {
    "duration": 49357,
    "start_time": "2022-09-22T19:41:34.382Z"
   },
   {
    "duration": 44868,
    "start_time": "2022-09-22T19:48:07.161Z"
   },
   {
    "duration": 6312,
    "start_time": "2022-09-22T19:51:04.555Z"
   },
   {
    "duration": 46043,
    "start_time": "2022-09-22T19:51:20.461Z"
   },
   {
    "duration": 11422,
    "start_time": "2022-09-22T19:55:29.982Z"
   },
   {
    "duration": 44662,
    "start_time": "2022-09-22T19:55:47.375Z"
   },
   {
    "duration": 17860,
    "start_time": "2022-09-22T20:00:13.775Z"
   },
   {
    "duration": 45298,
    "start_time": "2022-09-22T20:00:33.124Z"
   },
   {
    "duration": 44647,
    "start_time": "2022-09-22T20:01:24.008Z"
   },
   {
    "duration": 43892,
    "start_time": "2022-09-22T20:02:16.866Z"
   },
   {
    "duration": 44854,
    "start_time": "2022-09-22T20:03:47.663Z"
   },
   {
    "duration": 10736,
    "start_time": "2022-09-22T20:05:28.607Z"
   },
   {
    "duration": 2831,
    "start_time": "2022-09-22T20:05:49.317Z"
   },
   {
    "duration": 45039,
    "start_time": "2022-09-22T20:16:06.120Z"
   },
   {
    "duration": 6,
    "start_time": "2022-09-22T20:20:42.403Z"
   },
   {
    "duration": 5,
    "start_time": "2022-09-22T20:21:37.548Z"
   },
   {
    "duration": 4754,
    "start_time": "2022-09-22T20:29:32.892Z"
   },
   {
    "duration": 2664,
    "start_time": "2022-09-22T20:29:44.437Z"
   },
   {
    "duration": 6,
    "start_time": "2022-09-22T20:29:51.512Z"
   },
   {
    "duration": 6,
    "start_time": "2022-09-22T20:29:54.571Z"
   },
   {
    "duration": 6,
    "start_time": "2022-09-22T20:29:56.338Z"
   },
   {
    "duration": 15,
    "start_time": "2022-09-22T20:29:58.570Z"
   },
   {
    "duration": 44290,
    "start_time": "2022-09-22T20:30:00.872Z"
   },
   {
    "duration": 43409,
    "start_time": "2022-09-22T20:30:46.596Z"
   },
   {
    "duration": 115,
    "start_time": "2022-09-22T20:38:45.520Z"
   },
   {
    "duration": 14381,
    "start_time": "2022-09-22T20:39:21.845Z"
   },
   {
    "duration": 112,
    "start_time": "2022-09-22T20:41:20.721Z"
   },
   {
    "duration": 108,
    "start_time": "2022-09-22T20:42:08.453Z"
   },
   {
    "duration": 14933,
    "start_time": "2022-09-22T20:42:35.168Z"
   },
   {
    "duration": 9875,
    "start_time": "2022-09-22T20:43:57.866Z"
   },
   {
    "duration": 28543,
    "start_time": "2022-09-22T20:44:22.909Z"
   },
   {
    "duration": 21664,
    "start_time": "2022-09-22T20:45:31.396Z"
   },
   {
    "duration": 21224,
    "start_time": "2022-09-22T20:48:44.045Z"
   },
   {
    "duration": 10,
    "start_time": "2022-09-22T20:53:13.800Z"
   },
   {
    "duration": 10,
    "start_time": "2022-09-22T20:53:30.665Z"
   },
   {
    "duration": 21145,
    "start_time": "2022-09-22T20:53:57.421Z"
   },
   {
    "duration": 20420,
    "start_time": "2022-09-22T20:58:35.222Z"
   },
   {
    "duration": 12,
    "start_time": "2022-09-22T21:00:06.565Z"
   },
   {
    "duration": 278,
    "start_time": "2022-09-22T21:00:58.284Z"
   },
   {
    "duration": 443,
    "start_time": "2022-09-22T21:03:01.178Z"
   },
   {
    "duration": 203,
    "start_time": "2022-09-22T21:03:47.357Z"
   },
   {
    "duration": 224,
    "start_time": "2022-09-22T21:04:11.092Z"
   },
   {
    "duration": 14,
    "start_time": "2022-09-22T21:04:24.017Z"
   },
   {
    "duration": 201,
    "start_time": "2022-09-22T21:04:33.405Z"
   },
   {
    "duration": 307,
    "start_time": "2022-09-22T21:05:51.709Z"
   },
   {
    "duration": 93,
    "start_time": "2022-09-22T21:06:28.575Z"
   },
   {
    "duration": 270,
    "start_time": "2022-09-22T21:06:34.974Z"
   },
   {
    "duration": 75,
    "start_time": "2022-09-22T21:07:00.696Z"
   },
   {
    "duration": 76,
    "start_time": "2022-09-22T21:07:05.581Z"
   },
   {
    "duration": 264,
    "start_time": "2022-09-22T21:07:12.489Z"
   },
   {
    "duration": 20,
    "start_time": "2022-09-22T21:09:26.589Z"
   },
   {
    "duration": 211,
    "start_time": "2022-09-22T21:09:31.642Z"
   },
   {
    "duration": 71,
    "start_time": "2022-09-22T21:10:46.291Z"
   },
   {
    "duration": 13,
    "start_time": "2022-09-22T21:10:51.373Z"
   },
   {
    "duration": 117,
    "start_time": "2022-09-22T21:11:02.101Z"
   },
   {
    "duration": 10,
    "start_time": "2022-09-22T21:11:33.928Z"
   },
   {
    "duration": 109,
    "start_time": "2022-09-22T21:12:53.611Z"
   },
   {
    "duration": 11,
    "start_time": "2022-09-22T21:13:15.005Z"
   },
   {
    "duration": 109,
    "start_time": "2022-09-22T21:13:22.958Z"
   },
   {
    "duration": 110,
    "start_time": "2022-09-22T21:13:44.343Z"
   },
   {
    "duration": 131,
    "start_time": "2022-09-22T21:15:48.169Z"
   },
   {
    "duration": 131,
    "start_time": "2022-09-22T21:16:05.868Z"
   },
   {
    "duration": 287,
    "start_time": "2022-09-22T21:17:45.511Z"
   },
   {
    "duration": 355,
    "start_time": "2022-09-22T21:18:14.469Z"
   },
   {
    "duration": 331,
    "start_time": "2022-09-22T21:20:08.415Z"
   },
   {
    "duration": 300,
    "start_time": "2022-09-22T21:20:17.020Z"
   },
   {
    "duration": 289,
    "start_time": "2022-09-22T21:20:57.216Z"
   },
   {
    "duration": 19,
    "start_time": "2022-09-22T21:21:11.685Z"
   },
   {
    "duration": 20708,
    "start_time": "2022-09-22T21:27:45.447Z"
   },
   {
    "duration": 15,
    "start_time": "2022-09-22T21:30:09.487Z"
   },
   {
    "duration": 13,
    "start_time": "2022-09-22T21:48:54.585Z"
   },
   {
    "duration": 204,
    "start_time": "2022-09-22T21:51:41.554Z"
   },
   {
    "duration": 7,
    "start_time": "2022-09-22T21:52:09.677Z"
   },
   {
    "duration": 203,
    "start_time": "2022-09-22T21:52:11.662Z"
   },
   {
    "duration": 0,
    "start_time": "2022-09-22T22:02:09.421Z"
   },
   {
    "duration": 22803,
    "start_time": "2022-09-22T22:02:12.701Z"
   },
   {
    "duration": 4,
    "start_time": "2022-09-22T22:02:57.621Z"
   },
   {
    "duration": 26,
    "start_time": "2022-09-22T22:02:57.627Z"
   },
   {
    "duration": 30,
    "start_time": "2022-09-22T22:02:57.654Z"
   },
   {
    "duration": 136,
    "start_time": "2022-09-22T22:02:57.686Z"
   },
   {
    "duration": 4,
    "start_time": "2022-09-22T22:02:57.824Z"
   },
   {
    "duration": 31,
    "start_time": "2022-09-22T22:02:57.830Z"
   },
   {
    "duration": 49,
    "start_time": "2022-09-22T22:02:57.863Z"
   },
   {
    "duration": 25,
    "start_time": "2022-09-22T22:02:57.914Z"
   },
   {
    "duration": 35,
    "start_time": "2022-09-22T22:02:57.941Z"
   },
   {
    "duration": 22,
    "start_time": "2022-09-22T22:02:57.978Z"
   },
   {
    "duration": 70,
    "start_time": "2022-09-22T22:02:58.002Z"
   },
   {
    "duration": 19,
    "start_time": "2022-09-22T22:02:58.074Z"
   },
   {
    "duration": 35,
    "start_time": "2022-09-22T22:02:58.094Z"
   },
   {
    "duration": 21,
    "start_time": "2022-09-22T22:02:58.131Z"
   },
   {
    "duration": 1821,
    "start_time": "2022-09-22T22:02:58.155Z"
   },
   {
    "duration": 310,
    "start_time": "2022-09-22T22:02:59.978Z"
   },
   {
    "duration": 2088,
    "start_time": "2022-09-22T22:03:00.290Z"
   },
   {
    "duration": 1612,
    "start_time": "2022-09-22T22:03:02.382Z"
   },
   {
    "duration": 15,
    "start_time": "2022-09-22T22:03:03.995Z"
   },
   {
    "duration": 37,
    "start_time": "2022-09-22T22:03:04.012Z"
   },
   {
    "duration": 26,
    "start_time": "2022-09-22T22:03:04.052Z"
   },
   {
    "duration": 48,
    "start_time": "2022-09-22T22:03:04.080Z"
   },
   {
    "duration": 13,
    "start_time": "2022-09-22T22:03:04.130Z"
   },
   {
    "duration": 22,
    "start_time": "2022-09-22T22:03:04.146Z"
   },
   {
    "duration": 28,
    "start_time": "2022-09-22T22:03:04.170Z"
   },
   {
    "duration": 41,
    "start_time": "2022-09-22T22:03:04.201Z"
   },
   {
    "duration": 41,
    "start_time": "2022-09-22T22:03:04.245Z"
   },
   {
    "duration": 104,
    "start_time": "2022-09-22T22:03:04.288Z"
   },
   {
    "duration": 3617,
    "start_time": "2022-09-22T22:03:04.395Z"
   },
   {
    "duration": 147154,
    "start_time": "2022-09-22T22:03:08.014Z"
   },
   {
    "duration": 8,
    "start_time": "2022-09-22T22:05:35.169Z"
   },
   {
    "duration": 227,
    "start_time": "2022-09-22T22:05:35.179Z"
   },
   {
    "duration": 6,
    "start_time": "2022-09-22T22:05:35.408Z"
   },
   {
    "duration": 33,
    "start_time": "2022-09-22T22:05:35.416Z"
   },
   {
    "duration": 10,
    "start_time": "2022-09-22T22:05:35.451Z"
   },
   {
    "duration": 42,
    "start_time": "2022-09-22T22:05:35.463Z"
   },
   {
    "duration": 32,
    "start_time": "2022-09-22T22:05:35.507Z"
   },
   {
    "duration": 1351108,
    "start_time": "2022-09-22T22:05:35.542Z"
   },
   {
    "duration": 297,
    "start_time": "2022-09-22T22:28:06.652Z"
   },
   {
    "duration": 10,
    "start_time": "2022-09-22T22:28:06.951Z"
   },
   {
    "duration": 1687,
    "start_time": "2022-09-23T11:23:05.420Z"
   },
   {
    "duration": 3,
    "start_time": "2022-09-23T11:23:07.109Z"
   },
   {
    "duration": 10,
    "start_time": "2022-09-23T11:23:07.113Z"
   },
   {
    "duration": 232,
    "start_time": "2022-09-23T11:23:07.125Z"
   },
   {
    "duration": 6,
    "start_time": "2022-09-23T11:23:07.360Z"
   },
   {
    "duration": 15,
    "start_time": "2022-09-23T11:23:07.368Z"
   },
   {
    "duration": 15,
    "start_time": "2022-09-23T11:23:07.389Z"
   },
   {
    "duration": 12,
    "start_time": "2022-09-23T11:23:07.407Z"
   },
   {
    "duration": 9,
    "start_time": "2022-09-23T11:23:07.421Z"
   },
   {
    "duration": 4,
    "start_time": "2022-09-23T11:23:07.434Z"
   },
   {
    "duration": 10,
    "start_time": "2022-09-23T11:23:07.440Z"
   },
   {
    "duration": 6,
    "start_time": "2022-09-23T11:23:07.452Z"
   },
   {
    "duration": 37,
    "start_time": "2022-09-23T11:23:07.460Z"
   },
   {
    "duration": 18,
    "start_time": "2022-09-23T11:23:07.498Z"
   },
   {
    "duration": 1654,
    "start_time": "2022-09-23T11:23:07.518Z"
   },
   {
    "duration": 296,
    "start_time": "2022-09-23T11:23:09.173Z"
   },
   {
    "duration": 1701,
    "start_time": "2022-09-23T11:23:09.470Z"
   },
   {
    "duration": 1630,
    "start_time": "2022-09-23T11:23:11.173Z"
   },
   {
    "duration": 12,
    "start_time": "2022-09-23T11:23:12.805Z"
   },
   {
    "duration": 9,
    "start_time": "2022-09-23T11:23:12.819Z"
   },
   {
    "duration": 17,
    "start_time": "2022-09-23T11:23:12.829Z"
   },
   {
    "duration": 26,
    "start_time": "2022-09-23T11:23:12.848Z"
   },
   {
    "duration": 5,
    "start_time": "2022-09-23T11:23:12.889Z"
   },
   {
    "duration": 12,
    "start_time": "2022-09-23T11:23:12.895Z"
   },
   {
    "duration": 7,
    "start_time": "2022-09-23T11:23:12.909Z"
   },
   {
    "duration": 9,
    "start_time": "2022-09-23T11:23:12.918Z"
   },
   {
    "duration": 11,
    "start_time": "2022-09-23T11:23:12.929Z"
   },
   {
    "duration": 146,
    "start_time": "2022-09-23T11:23:12.944Z"
   },
   {
    "duration": 836,
    "start_time": "2022-09-23T11:23:13.093Z"
   },
   {
    "duration": 76,
    "start_time": "2022-09-23T11:23:13.931Z"
   },
   {
    "duration": 0,
    "start_time": "2022-09-23T11:23:14.009Z"
   },
   {
    "duration": 0,
    "start_time": "2022-09-23T11:23:14.010Z"
   },
   {
    "duration": 0,
    "start_time": "2022-09-23T11:23:14.012Z"
   },
   {
    "duration": 0,
    "start_time": "2022-09-23T11:23:14.013Z"
   },
   {
    "duration": 0,
    "start_time": "2022-09-23T11:23:14.015Z"
   },
   {
    "duration": 0,
    "start_time": "2022-09-23T11:23:14.017Z"
   },
   {
    "duration": 0,
    "start_time": "2022-09-23T11:23:14.018Z"
   },
   {
    "duration": 0,
    "start_time": "2022-09-23T11:23:14.020Z"
   },
   {
    "duration": 0,
    "start_time": "2022-09-23T11:23:14.022Z"
   },
   {
    "duration": 0,
    "start_time": "2022-09-23T11:23:14.024Z"
   },
   {
    "duration": 0,
    "start_time": "2022-09-23T11:23:14.025Z"
   },
   {
    "duration": 4,
    "start_time": "2022-09-23T11:25:33.340Z"
   },
   {
    "duration": 12,
    "start_time": "2022-09-23T11:25:33.346Z"
   },
   {
    "duration": 6,
    "start_time": "2022-09-23T11:25:33.360Z"
   },
   {
    "duration": 111,
    "start_time": "2022-09-23T11:25:33.376Z"
   },
   {
    "duration": 4,
    "start_time": "2022-09-23T11:25:33.489Z"
   },
   {
    "duration": 20,
    "start_time": "2022-09-23T11:25:33.496Z"
   },
   {
    "duration": 8,
    "start_time": "2022-09-23T11:25:33.518Z"
   },
   {
    "duration": 25,
    "start_time": "2022-09-23T11:25:33.527Z"
   },
   {
    "duration": 20,
    "start_time": "2022-09-23T11:25:33.556Z"
   },
   {
    "duration": 21,
    "start_time": "2022-09-23T11:25:33.578Z"
   },
   {
    "duration": 16,
    "start_time": "2022-09-23T11:25:33.600Z"
   },
   {
    "duration": 21,
    "start_time": "2022-09-23T11:25:33.617Z"
   },
   {
    "duration": 36,
    "start_time": "2022-09-23T11:25:33.640Z"
   },
   {
    "duration": 22,
    "start_time": "2022-09-23T11:25:33.678Z"
   },
   {
    "duration": 1440,
    "start_time": "2022-09-23T11:25:33.701Z"
   },
   {
    "duration": 301,
    "start_time": "2022-09-23T11:25:35.143Z"
   },
   {
    "duration": 1651,
    "start_time": "2022-09-23T11:25:35.447Z"
   },
   {
    "duration": 1628,
    "start_time": "2022-09-23T11:25:37.100Z"
   },
   {
    "duration": 13,
    "start_time": "2022-09-23T11:25:38.729Z"
   },
   {
    "duration": 7,
    "start_time": "2022-09-23T11:25:38.743Z"
   },
   {
    "duration": 26,
    "start_time": "2022-09-23T11:25:38.752Z"
   },
   {
    "duration": 27,
    "start_time": "2022-09-23T11:25:38.779Z"
   },
   {
    "duration": 4,
    "start_time": "2022-09-23T11:25:38.807Z"
   },
   {
    "duration": 13,
    "start_time": "2022-09-23T11:25:38.812Z"
   },
   {
    "duration": 37,
    "start_time": "2022-09-23T11:25:38.827Z"
   },
   {
    "duration": 8,
    "start_time": "2022-09-23T11:25:38.866Z"
   },
   {
    "duration": 22,
    "start_time": "2022-09-23T11:25:38.878Z"
   },
   {
    "duration": 88,
    "start_time": "2022-09-23T11:25:38.901Z"
   },
   {
    "duration": 829,
    "start_time": "2022-09-23T11:25:38.991Z"
   },
   {
    "duration": 37824,
    "start_time": "2022-09-23T11:25:39.822Z"
   },
   {
    "duration": 6,
    "start_time": "2022-09-23T11:26:17.648Z"
   },
   {
    "duration": 218,
    "start_time": "2022-09-23T11:26:17.656Z"
   },
   {
    "duration": 5,
    "start_time": "2022-09-23T11:26:17.876Z"
   },
   {
    "duration": 25,
    "start_time": "2022-09-23T11:26:17.889Z"
   },
   {
    "duration": 14,
    "start_time": "2022-09-23T11:26:17.917Z"
   },
   {
    "duration": 19,
    "start_time": "2022-09-23T11:26:17.933Z"
   },
   {
    "duration": 31,
    "start_time": "2022-09-23T11:26:17.953Z"
   },
   {
    "duration": 112014,
    "start_time": "2022-09-23T11:26:17.986Z"
   },
   {
    "duration": 326,
    "start_time": "2022-09-23T11:28:10.002Z"
   },
   {
    "duration": 121,
    "start_time": "2022-09-23T11:28:10.330Z"
   },
   {
    "duration": 0,
    "start_time": "2022-09-23T11:28:10.452Z"
   },
   {
    "duration": 1242,
    "start_time": "2022-09-23T11:29:34.439Z"
   },
   {
    "duration": 13,
    "start_time": "2022-09-23T11:30:06.782Z"
   },
   {
    "duration": 25,
    "start_time": "2022-09-23T11:46:20.243Z"
   },
   {
    "duration": 25,
    "start_time": "2022-09-23T11:52:01.977Z"
   },
   {
    "duration": 113043,
    "start_time": "2022-09-23T11:52:11.477Z"
   },
   {
    "duration": 23,
    "start_time": "2022-09-23T12:13:05.671Z"
   },
   {
    "duration": 23,
    "start_time": "2022-09-23T12:13:23.202Z"
   },
   {
    "duration": 23,
    "start_time": "2022-09-23T12:13:37.781Z"
   },
   {
    "duration": 22,
    "start_time": "2022-09-23T12:13:52.961Z"
   },
   {
    "duration": 28,
    "start_time": "2022-09-23T12:13:57.183Z"
   },
   {
    "duration": 3,
    "start_time": "2022-09-23T12:14:52.433Z"
   },
   {
    "duration": 1485,
    "start_time": "2022-09-23T12:14:59.797Z"
   },
   {
    "duration": 2,
    "start_time": "2022-09-23T12:15:01.284Z"
   },
   {
    "duration": 33,
    "start_time": "2022-09-23T12:15:01.289Z"
   },
   {
    "duration": 138,
    "start_time": "2022-09-23T12:15:01.325Z"
   },
   {
    "duration": 5,
    "start_time": "2022-09-23T12:15:01.465Z"
   },
   {
    "duration": 57,
    "start_time": "2022-09-23T12:15:01.471Z"
   },
   {
    "duration": 35,
    "start_time": "2022-09-23T12:15:01.529Z"
   },
   {
    "duration": 36,
    "start_time": "2022-09-23T12:15:01.566Z"
   },
   {
    "duration": 37,
    "start_time": "2022-09-23T12:15:01.604Z"
   },
   {
    "duration": 21,
    "start_time": "2022-09-23T12:15:01.644Z"
   },
   {
    "duration": 24,
    "start_time": "2022-09-23T12:15:01.666Z"
   },
   {
    "duration": 30,
    "start_time": "2022-09-23T12:15:01.692Z"
   },
   {
    "duration": 24,
    "start_time": "2022-09-23T12:15:01.724Z"
   },
   {
    "duration": 40,
    "start_time": "2022-09-23T12:15:01.749Z"
   },
   {
    "duration": 1624,
    "start_time": "2022-09-23T12:15:01.792Z"
   },
   {
    "duration": 296,
    "start_time": "2022-09-23T12:15:03.418Z"
   },
   {
    "duration": 1667,
    "start_time": "2022-09-23T12:15:03.716Z"
   },
   {
    "duration": 1502,
    "start_time": "2022-09-23T12:15:05.385Z"
   },
   {
    "duration": 12,
    "start_time": "2022-09-23T12:15:06.888Z"
   },
   {
    "duration": 32,
    "start_time": "2022-09-23T12:15:06.902Z"
   },
   {
    "duration": 30,
    "start_time": "2022-09-23T12:15:06.935Z"
   },
   {
    "duration": 31,
    "start_time": "2022-09-23T12:15:06.967Z"
   },
   {
    "duration": 6,
    "start_time": "2022-09-23T12:15:07.000Z"
   },
   {
    "duration": 46,
    "start_time": "2022-09-23T12:15:07.008Z"
   },
   {
    "duration": 24,
    "start_time": "2022-09-23T12:15:07.055Z"
   },
   {
    "duration": 40,
    "start_time": "2022-09-23T12:15:07.081Z"
   },
   {
    "duration": 45,
    "start_time": "2022-09-23T12:15:07.123Z"
   },
   {
    "duration": 60,
    "start_time": "2022-09-23T12:15:07.171Z"
   },
   {
    "duration": 493,
    "start_time": "2022-09-23T12:15:07.298Z"
   },
   {
    "duration": 19511,
    "start_time": "2022-09-23T12:15:07.794Z"
   },
   {
    "duration": 7,
    "start_time": "2022-09-23T12:15:27.306Z"
   },
   {
    "duration": 189,
    "start_time": "2022-09-23T12:15:27.315Z"
   },
   {
    "duration": 5,
    "start_time": "2022-09-23T12:15:27.506Z"
   },
   {
    "duration": 31,
    "start_time": "2022-09-23T12:15:27.512Z"
   },
   {
    "duration": 6,
    "start_time": "2022-09-23T12:15:27.544Z"
   },
   {
    "duration": 10,
    "start_time": "2022-09-23T12:15:27.552Z"
   },
   {
    "duration": 28,
    "start_time": "2022-09-23T12:15:27.563Z"
   },
   {
    "duration": 57430,
    "start_time": "2022-09-23T12:15:27.593Z"
   },
   {
    "duration": 335,
    "start_time": "2022-09-23T12:16:25.025Z"
   },
   {
    "duration": 29,
    "start_time": "2022-09-23T12:16:25.362Z"
   },
   {
    "duration": 1305,
    "start_time": "2022-09-23T12:16:25.399Z"
   },
   {
    "duration": 0,
    "start_time": "2022-09-23T12:16:26.706Z"
   },
   {
    "duration": 0,
    "start_time": "2022-09-23T12:16:26.707Z"
   },
   {
    "duration": 0,
    "start_time": "2022-09-23T12:16:26.709Z"
   },
   {
    "duration": 0,
    "start_time": "2022-09-23T12:16:26.710Z"
   },
   {
    "duration": 0,
    "start_time": "2022-09-23T12:16:26.712Z"
   },
   {
    "duration": 18,
    "start_time": "2022-09-23T12:17:13.036Z"
   },
   {
    "duration": 14,
    "start_time": "2022-09-23T12:17:29.632Z"
   },
   {
    "duration": 57597,
    "start_time": "2022-09-23T12:17:33.350Z"
   },
   {
    "duration": 295,
    "start_time": "2022-09-23T12:18:37.867Z"
   },
   {
    "duration": 13,
    "start_time": "2022-09-23T12:18:40.767Z"
   },
   {
    "duration": 12,
    "start_time": "2022-09-23T12:18:42.967Z"
   },
   {
    "duration": 24,
    "start_time": "2022-09-23T12:18:49.272Z"
   },
   {
    "duration": 24,
    "start_time": "2022-09-23T12:19:13.913Z"
   },
   {
    "duration": 24,
    "start_time": "2022-09-23T12:19:24.302Z"
   },
   {
    "duration": 56142,
    "start_time": "2022-09-23T12:19:47.840Z"
   },
   {
    "duration": 315,
    "start_time": "2022-09-23T12:21:09.389Z"
   },
   {
    "duration": 12,
    "start_time": "2022-09-23T12:21:13.108Z"
   },
   {
    "duration": 3,
    "start_time": "2022-09-23T12:21:15.313Z"
   },
   {
    "duration": 23,
    "start_time": "2022-09-23T12:21:17.274Z"
   },
   {
    "duration": 23,
    "start_time": "2022-09-23T12:22:24.523Z"
   },
   {
    "duration": 5,
    "start_time": "2022-09-23T12:24:50.771Z"
   },
   {
    "duration": 14,
    "start_time": "2022-09-23T12:25:24.901Z"
   },
   {
    "duration": 1403,
    "start_time": "2022-09-23T12:25:38.722Z"
   },
   {
    "duration": 1178,
    "start_time": "2022-09-23T12:25:45.293Z"
   },
   {
    "duration": 6,
    "start_time": "2022-09-23T12:25:58.496Z"
   },
   {
    "duration": 1196,
    "start_time": "2022-09-23T12:26:17.695Z"
   },
   {
    "duration": 1303,
    "start_time": "2022-09-23T12:26:23.969Z"
   },
   {
    "duration": 1248,
    "start_time": "2022-09-23T12:26:34.327Z"
   },
   {
    "duration": 5,
    "start_time": "2022-09-23T12:26:52.477Z"
   },
   {
    "duration": 5,
    "start_time": "2022-09-23T12:27:21.470Z"
   },
   {
    "duration": 5,
    "start_time": "2022-09-23T12:28:34.925Z"
   },
   {
    "duration": 4,
    "start_time": "2022-09-23T12:29:18.508Z"
   },
   {
    "duration": 1264,
    "start_time": "2022-09-23T12:29:21.547Z"
   },
   {
    "duration": 1193,
    "start_time": "2022-09-23T12:29:25.482Z"
   },
   {
    "duration": 4,
    "start_time": "2022-09-23T12:29:29.288Z"
   },
   {
    "duration": 12,
    "start_time": "2022-09-23T12:29:58.256Z"
   },
   {
    "duration": 5,
    "start_time": "2022-09-23T12:30:07.204Z"
   },
   {
    "duration": 15,
    "start_time": "2022-09-23T12:30:27.832Z"
   },
   {
    "duration": 5,
    "start_time": "2022-09-23T12:31:08.632Z"
   },
   {
    "duration": 14,
    "start_time": "2022-09-23T12:31:32.100Z"
   },
   {
    "duration": 5,
    "start_time": "2022-09-23T12:31:35.544Z"
   },
   {
    "duration": 9,
    "start_time": "2022-09-23T12:39:49.522Z"
   },
   {
    "duration": 83,
    "start_time": "2022-09-23T12:50:16.297Z"
   },
   {
    "duration": 74,
    "start_time": "2022-09-23T12:50:21.641Z"
   },
   {
    "duration": 71,
    "start_time": "2022-09-23T12:50:29.084Z"
   },
   {
    "duration": 13,
    "start_time": "2022-09-23T12:50:59.699Z"
   },
   {
    "duration": 14,
    "start_time": "2022-09-23T12:51:26.905Z"
   },
   {
    "duration": 14,
    "start_time": "2022-09-23T12:51:37.738Z"
   },
   {
    "duration": 17,
    "start_time": "2022-09-23T12:53:09.324Z"
   },
   {
    "duration": 6,
    "start_time": "2022-09-23T12:53:56.737Z"
   },
   {
    "duration": 13,
    "start_time": "2022-09-23T12:54:01.494Z"
   },
   {
    "duration": 4,
    "start_time": "2022-09-23T12:54:03.068Z"
   },
   {
    "duration": 1207,
    "start_time": "2022-09-23T12:54:05.227Z"
   },
   {
    "duration": 6,
    "start_time": "2022-09-23T13:03:09.626Z"
   },
   {
    "duration": 67,
    "start_time": "2022-09-23T13:03:14.732Z"
   },
   {
    "duration": 5,
    "start_time": "2022-09-23T13:03:40.496Z"
   },
   {
    "duration": 64,
    "start_time": "2022-09-23T13:03:44.022Z"
   },
   {
    "duration": 4,
    "start_time": "2022-09-23T13:04:01.472Z"
   },
   {
    "duration": 1308,
    "start_time": "2022-09-23T13:04:04.273Z"
   },
   {
    "duration": 168,
    "start_time": "2022-09-23T13:06:43.057Z"
   },
   {
    "duration": 85,
    "start_time": "2022-09-23T13:06:54.557Z"
   },
   {
    "duration": 74,
    "start_time": "2022-09-23T13:07:10.532Z"
   },
   {
    "duration": 173,
    "start_time": "2022-09-23T13:07:16.277Z"
   },
   {
    "duration": 1267,
    "start_time": "2022-09-23T13:09:18.766Z"
   },
   {
    "duration": 1215,
    "start_time": "2022-09-23T13:09:32.039Z"
   },
   {
    "duration": 62,
    "start_time": "2022-09-23T13:15:47.736Z"
   },
   {
    "duration": 4,
    "start_time": "2022-09-23T13:16:26.323Z"
   },
   {
    "duration": 11,
    "start_time": "2022-09-23T13:16:28.559Z"
   },
   {
    "duration": 12,
    "start_time": "2022-09-23T13:38:46.032Z"
   },
   {
    "duration": 4,
    "start_time": "2022-09-23T13:39:21.441Z"
   },
   {
    "duration": 10,
    "start_time": "2022-09-23T13:39:23.498Z"
   },
   {
    "duration": 4,
    "start_time": "2022-09-23T13:40:19.955Z"
   },
   {
    "duration": 1210,
    "start_time": "2022-09-23T13:42:03.639Z"
   },
   {
    "duration": 1160,
    "start_time": "2022-09-23T13:42:15.939Z"
   },
   {
    "duration": 1168,
    "start_time": "2022-09-23T13:42:38.808Z"
   },
   {
    "duration": 170,
    "start_time": "2022-09-23T13:42:52.172Z"
   },
   {
    "duration": 1330,
    "start_time": "2022-09-23T13:58:19.264Z"
   },
   {
    "duration": 1347,
    "start_time": "2022-09-23T14:33:21.944Z"
   },
   {
    "duration": 1412,
    "start_time": "2022-09-23T14:34:04.586Z"
   },
   {
    "duration": 1498,
    "start_time": "2022-09-23T14:34:09.501Z"
   },
   {
    "duration": 1523,
    "start_time": "2022-09-23T14:34:14.072Z"
   },
   {
    "duration": 1466,
    "start_time": "2022-09-23T14:35:04.029Z"
   },
   {
    "duration": 1460,
    "start_time": "2022-09-23T14:35:11.532Z"
   },
   {
    "duration": 1434,
    "start_time": "2022-09-23T14:35:51.161Z"
   },
   {
    "duration": 1471,
    "start_time": "2022-09-23T14:36:34.020Z"
   },
   {
    "duration": 1499,
    "start_time": "2022-09-23T14:36:48.196Z"
   },
   {
    "duration": 1348,
    "start_time": "2022-09-23T14:36:59.947Z"
   },
   {
    "duration": 10,
    "start_time": "2022-09-23T14:37:54.617Z"
   },
   {
    "duration": 12,
    "start_time": "2022-09-23T14:38:22.318Z"
   },
   {
    "duration": 186,
    "start_time": "2022-09-23T14:38:41.911Z"
   },
   {
    "duration": 10,
    "start_time": "2022-09-23T14:38:46.605Z"
   },
   {
    "duration": 10,
    "start_time": "2022-09-23T14:39:02.733Z"
   },
   {
    "duration": 78,
    "start_time": "2022-09-23T14:39:12.540Z"
   },
   {
    "duration": 11,
    "start_time": "2022-09-23T14:39:17.551Z"
   },
   {
    "duration": 10,
    "start_time": "2022-09-23T14:39:25.883Z"
   },
   {
    "duration": 14,
    "start_time": "2022-09-23T14:39:39.383Z"
   },
   {
    "duration": 16,
    "start_time": "2022-09-23T14:39:41.956Z"
   },
   {
    "duration": 1393,
    "start_time": "2022-09-23T14:42:55.598Z"
   },
   {
    "duration": 1383,
    "start_time": "2022-09-23T14:43:00.715Z"
   },
   {
    "duration": 1479,
    "start_time": "2022-09-23T14:43:07.922Z"
   },
   {
    "duration": 1384,
    "start_time": "2022-09-23T14:43:13.408Z"
   },
   {
    "duration": 1326,
    "start_time": "2022-09-23T14:43:17.665Z"
   },
   {
    "duration": 5,
    "start_time": "2022-09-23T14:43:52.291Z"
   },
   {
    "duration": 11,
    "start_time": "2022-09-23T14:43:54.403Z"
   },
   {
    "duration": 10,
    "start_time": "2022-09-23T14:43:56.387Z"
   },
   {
    "duration": 11,
    "start_time": "2022-09-23T14:44:14.189Z"
   },
   {
    "duration": 4,
    "start_time": "2022-09-23T14:44:20.020Z"
   },
   {
    "duration": 10,
    "start_time": "2022-09-23T14:44:29.468Z"
   },
   {
    "duration": 5,
    "start_time": "2022-09-23T14:44:34.479Z"
   },
   {
    "duration": 11,
    "start_time": "2022-09-23T14:44:36.969Z"
   },
   {
    "duration": 1426,
    "start_time": "2022-09-23T14:44:58.965Z"
   },
   {
    "duration": 1433,
    "start_time": "2022-09-23T14:45:09.556Z"
   },
   {
    "duration": 1422,
    "start_time": "2022-09-23T14:45:25.966Z"
   },
   {
    "duration": 1381,
    "start_time": "2022-09-23T14:45:32.614Z"
   },
   {
    "duration": 1395,
    "start_time": "2022-09-23T14:45:37.302Z"
   },
   {
    "duration": 11,
    "start_time": "2022-09-23T15:11:44.613Z"
   },
   {
    "duration": 1495,
    "start_time": "2022-09-23T15:18:06.255Z"
   },
   {
    "duration": 3,
    "start_time": "2022-09-23T15:18:07.752Z"
   },
   {
    "duration": 20,
    "start_time": "2022-09-23T15:18:07.756Z"
   },
   {
    "duration": 130,
    "start_time": "2022-09-23T15:18:07.779Z"
   },
   {
    "duration": 4,
    "start_time": "2022-09-23T15:18:07.910Z"
   },
   {
    "duration": 17,
    "start_time": "2022-09-23T15:18:07.916Z"
   },
   {
    "duration": 30,
    "start_time": "2022-09-23T15:18:07.935Z"
   },
   {
    "duration": 24,
    "start_time": "2022-09-23T15:18:07.966Z"
   },
   {
    "duration": 64,
    "start_time": "2022-09-23T15:18:07.992Z"
   },
   {
    "duration": 48,
    "start_time": "2022-09-23T15:18:08.060Z"
   },
   {
    "duration": 54,
    "start_time": "2022-09-23T15:18:08.110Z"
   },
   {
    "duration": 32,
    "start_time": "2022-09-23T15:18:08.166Z"
   },
   {
    "duration": 45,
    "start_time": "2022-09-23T15:18:08.201Z"
   },
   {
    "duration": 89,
    "start_time": "2022-09-23T15:18:08.248Z"
   },
   {
    "duration": 1720,
    "start_time": "2022-09-23T15:18:08.339Z"
   },
   {
    "duration": 324,
    "start_time": "2022-09-23T15:18:10.061Z"
   },
   {
    "duration": 1921,
    "start_time": "2022-09-23T15:18:10.389Z"
   },
   {
    "duration": 1492,
    "start_time": "2022-09-23T15:18:12.312Z"
   },
   {
    "duration": 11,
    "start_time": "2022-09-23T15:18:13.806Z"
   },
   {
    "duration": 3,
    "start_time": "2022-09-23T15:18:13.819Z"
   },
   {
    "duration": 18,
    "start_time": "2022-09-23T15:18:13.824Z"
   },
   {
    "duration": 46,
    "start_time": "2022-09-23T15:18:13.843Z"
   },
   {
    "duration": 3,
    "start_time": "2022-09-23T15:18:13.891Z"
   },
   {
    "duration": 16,
    "start_time": "2022-09-23T15:18:13.896Z"
   },
   {
    "duration": 6,
    "start_time": "2022-09-23T15:18:13.915Z"
   },
   {
    "duration": 13,
    "start_time": "2022-09-23T15:18:13.922Z"
   },
   {
    "duration": 12,
    "start_time": "2022-09-23T15:18:13.937Z"
   },
   {
    "duration": 143,
    "start_time": "2022-09-23T15:18:13.952Z"
   },
   {
    "duration": 3294,
    "start_time": "2022-09-23T15:18:14.097Z"
   },
   {
    "duration": 837087,
    "start_time": "2022-09-23T15:18:17.393Z"
   },
   {
    "duration": 13,
    "start_time": "2022-09-23T15:32:14.482Z"
   },
   {
    "duration": 193,
    "start_time": "2022-09-23T15:32:14.497Z"
   },
   {
    "duration": 6,
    "start_time": "2022-09-23T15:32:14.692Z"
   },
   {
    "duration": 17,
    "start_time": "2022-09-23T15:32:14.699Z"
   },
   {
    "duration": 7,
    "start_time": "2022-09-23T15:32:14.719Z"
   },
   {
    "duration": 27,
    "start_time": "2022-09-23T15:32:14.728Z"
   },
   {
    "duration": 45,
    "start_time": "2022-09-23T15:32:14.757Z"
   },
   {
    "duration": 2410698,
    "start_time": "2022-09-23T15:32:14.804Z"
   },
   {
    "duration": 281,
    "start_time": "2022-09-23T16:12:25.504Z"
   },
   {
    "duration": 12,
    "start_time": "2022-09-23T16:12:25.787Z"
   },
   {
    "duration": 27,
    "start_time": "2022-09-23T16:12:25.801Z"
   },
   {
    "duration": 7,
    "start_time": "2022-09-23T16:12:25.829Z"
   },
   {
    "duration": 17,
    "start_time": "2022-09-23T16:12:25.837Z"
   },
   {
    "duration": 34,
    "start_time": "2022-09-23T16:12:25.856Z"
   },
   {
    "duration": 1564,
    "start_time": "2022-09-23T16:12:25.892Z"
   },
   {
    "duration": 193,
    "start_time": "2022-09-23T16:12:27.458Z"
   },
   {
    "duration": 1741,
    "start_time": "2022-09-23T16:12:27.653Z"
   },
   {
    "duration": 8,
    "start_time": "2022-09-23T16:51:52.986Z"
   },
   {
    "duration": 73,
    "start_time": "2022-09-23T16:51:54.938Z"
   },
   {
    "duration": 12,
    "start_time": "2022-09-23T16:52:03.032Z"
   },
   {
    "duration": 158,
    "start_time": "2022-09-23T18:12:52.848Z"
   },
   {
    "duration": 173,
    "start_time": "2022-09-23T18:13:40.681Z"
   },
   {
    "duration": 13,
    "start_time": "2022-09-23T18:16:13.854Z"
   },
   {
    "duration": 16,
    "start_time": "2022-09-23T18:16:38.242Z"
   },
   {
    "duration": 4,
    "start_time": "2022-09-23T18:19:22.563Z"
   },
   {
    "duration": 11,
    "start_time": "2022-09-23T18:24:30.668Z"
   },
   {
    "duration": 227,
    "start_time": "2022-09-23T18:24:38.262Z"
   },
   {
    "duration": 248,
    "start_time": "2022-09-23T18:25:10.864Z"
   },
   {
    "duration": 157,
    "start_time": "2022-09-23T18:25:58.313Z"
   },
   {
    "duration": 161,
    "start_time": "2022-09-23T18:26:47.825Z"
   },
   {
    "duration": 12,
    "start_time": "2022-09-23T18:27:17.455Z"
   },
   {
    "duration": 167,
    "start_time": "2022-09-23T18:27:39.794Z"
   },
   {
    "duration": 17,
    "start_time": "2022-09-23T18:28:11.805Z"
   },
   {
    "duration": 11,
    "start_time": "2022-09-23T18:29:41.404Z"
   },
   {
    "duration": 12,
    "start_time": "2022-09-23T18:30:05.519Z"
   },
   {
    "duration": 12,
    "start_time": "2022-09-23T18:30:17.133Z"
   },
   {
    "duration": 17,
    "start_time": "2022-09-23T18:30:40.882Z"
   },
   {
    "duration": 19,
    "start_time": "2022-09-23T18:30:45.989Z"
   },
   {
    "duration": 5,
    "start_time": "2022-09-23T18:30:52.519Z"
   },
   {
    "duration": 15,
    "start_time": "2022-09-23T18:30:55.996Z"
   },
   {
    "duration": 12,
    "start_time": "2022-09-23T18:31:03.022Z"
   },
   {
    "duration": 12,
    "start_time": "2022-09-23T18:31:08.714Z"
   },
   {
    "duration": 12,
    "start_time": "2022-09-23T18:31:19.451Z"
   },
   {
    "duration": 115,
    "start_time": "2022-09-23T18:31:40.538Z"
   },
   {
    "duration": 132,
    "start_time": "2022-09-23T18:31:58.807Z"
   },
   {
    "duration": 117,
    "start_time": "2022-09-23T18:32:15.219Z"
   },
   {
    "duration": 2118,
    "start_time": "2022-09-23T18:32:33.309Z"
   },
   {
    "duration": 12,
    "start_time": "2022-09-23T18:32:53.249Z"
   },
   {
    "duration": 22,
    "start_time": "2022-09-23T18:33:00.480Z"
   },
   {
    "duration": 13,
    "start_time": "2022-09-23T18:33:08.365Z"
   },
   {
    "duration": 12,
    "start_time": "2022-09-23T18:33:30.509Z"
   },
   {
    "duration": 11,
    "start_time": "2022-09-23T18:33:36.155Z"
   },
   {
    "duration": 12,
    "start_time": "2022-09-23T18:33:41.155Z"
   },
   {
    "duration": 19,
    "start_time": "2022-09-23T18:34:30.392Z"
   },
   {
    "duration": 16350,
    "start_time": "2022-09-23T18:41:33.814Z"
   },
   {
    "duration": 1698,
    "start_time": "2022-09-23T18:45:28.379Z"
   },
   {
    "duration": 1684,
    "start_time": "2022-09-23T18:46:33.630Z"
   },
   {
    "duration": 10,
    "start_time": "2022-09-23T18:49:40.427Z"
   },
   {
    "duration": 11,
    "start_time": "2022-09-23T18:49:55.247Z"
   },
   {
    "duration": 3,
    "start_time": "2022-09-23T18:50:12.540Z"
   },
   {
    "duration": 6,
    "start_time": "2022-09-23T18:50:12.545Z"
   },
   {
    "duration": 5,
    "start_time": "2022-09-23T18:50:12.553Z"
   },
   {
    "duration": 105,
    "start_time": "2022-09-23T18:50:12.560Z"
   },
   {
    "duration": 4,
    "start_time": "2022-09-23T18:50:12.667Z"
   },
   {
    "duration": 21,
    "start_time": "2022-09-23T18:50:12.673Z"
   },
   {
    "duration": 25,
    "start_time": "2022-09-23T18:50:12.700Z"
   },
   {
    "duration": 7,
    "start_time": "2022-09-23T18:50:12.728Z"
   },
   {
    "duration": 21,
    "start_time": "2022-09-23T18:50:12.737Z"
   },
   {
    "duration": 9,
    "start_time": "2022-09-23T18:50:12.760Z"
   },
   {
    "duration": 7,
    "start_time": "2022-09-23T18:50:12.771Z"
   },
   {
    "duration": 8,
    "start_time": "2022-09-23T18:50:12.780Z"
   },
   {
    "duration": 31,
    "start_time": "2022-09-23T18:50:12.790Z"
   },
   {
    "duration": 14,
    "start_time": "2022-09-23T18:50:12.823Z"
   },
   {
    "duration": 1643,
    "start_time": "2022-09-23T18:50:12.839Z"
   },
   {
    "duration": 294,
    "start_time": "2022-09-23T18:50:14.484Z"
   },
   {
    "duration": 1839,
    "start_time": "2022-09-23T18:50:14.780Z"
   },
   {
    "duration": 1561,
    "start_time": "2022-09-23T18:50:16.620Z"
   },
   {
    "duration": 24,
    "start_time": "2022-09-23T18:50:18.188Z"
   },
   {
    "duration": 6,
    "start_time": "2022-09-23T18:50:18.214Z"
   },
   {
    "duration": 20,
    "start_time": "2022-09-23T18:50:18.222Z"
   },
   {
    "duration": 45,
    "start_time": "2022-09-23T18:50:18.244Z"
   },
   {
    "duration": 10,
    "start_time": "2022-09-23T18:50:18.291Z"
   },
   {
    "duration": 15,
    "start_time": "2022-09-23T18:50:18.306Z"
   },
   {
    "duration": 10,
    "start_time": "2022-09-23T18:50:18.323Z"
   },
   {
    "duration": 9,
    "start_time": "2022-09-23T18:50:18.335Z"
   },
   {
    "duration": 54,
    "start_time": "2022-09-23T18:50:18.346Z"
   },
   {
    "duration": 1924,
    "start_time": "2022-09-23T18:50:18.401Z"
   },
   {
    "duration": 225401,
    "start_time": "2022-09-23T18:50:20.326Z"
   },
   {
    "duration": 11,
    "start_time": "2022-09-23T18:54:05.729Z"
   },
   {
    "duration": 182,
    "start_time": "2022-09-23T18:54:05.741Z"
   },
   {
    "duration": 10,
    "start_time": "2022-09-23T18:54:05.924Z"
   },
   {
    "duration": 7,
    "start_time": "2022-09-23T18:54:05.936Z"
   },
   {
    "duration": 14,
    "start_time": "2022-09-23T18:54:05.945Z"
   },
   {
    "duration": 5,
    "start_time": "2022-09-23T18:54:05.961Z"
   },
   {
    "duration": 36,
    "start_time": "2022-09-23T18:54:05.968Z"
   },
   {
    "duration": 21,
    "start_time": "2022-09-23T18:54:06.006Z"
   },
   {
    "duration": 85882,
    "start_time": "2022-09-23T18:54:06.029Z"
   },
   {
    "duration": 19,
    "start_time": "2022-09-23T18:55:31.914Z"
   },
   {
    "duration": 0,
    "start_time": "2022-09-23T18:55:31.936Z"
   },
   {
    "duration": 0,
    "start_time": "2022-09-23T18:55:31.938Z"
   },
   {
    "duration": 0,
    "start_time": "2022-09-23T18:55:31.939Z"
   },
   {
    "duration": 12,
    "start_time": "2022-09-23T18:55:34.071Z"
   },
   {
    "duration": 172,
    "start_time": "2022-09-23T18:55:41.979Z"
   },
   {
    "duration": 11,
    "start_time": "2022-09-23T18:55:47.932Z"
   },
   {
    "duration": 10,
    "start_time": "2022-09-23T18:56:13.541Z"
   },
   {
    "duration": 3,
    "start_time": "2022-09-23T19:09:53.548Z"
   },
   {
    "duration": 10,
    "start_time": "2022-09-23T19:09:53.553Z"
   },
   {
    "duration": 10,
    "start_time": "2022-09-23T19:09:53.564Z"
   },
   {
    "duration": 106,
    "start_time": "2022-09-23T19:09:53.576Z"
   },
   {
    "duration": 6,
    "start_time": "2022-09-23T19:09:53.684Z"
   },
   {
    "duration": 12,
    "start_time": "2022-09-23T19:09:53.691Z"
   },
   {
    "duration": 15,
    "start_time": "2022-09-23T19:09:53.705Z"
   },
   {
    "duration": 10,
    "start_time": "2022-09-23T19:09:53.721Z"
   },
   {
    "duration": 9,
    "start_time": "2022-09-23T19:09:53.734Z"
   },
   {
    "duration": 7,
    "start_time": "2022-09-23T19:09:53.745Z"
   },
   {
    "duration": 11,
    "start_time": "2022-09-23T19:09:53.753Z"
   },
   {
    "duration": 6,
    "start_time": "2022-09-23T19:09:53.766Z"
   },
   {
    "duration": 22,
    "start_time": "2022-09-23T19:09:53.774Z"
   },
   {
    "duration": 9,
    "start_time": "2022-09-23T19:09:53.798Z"
   },
   {
    "duration": 1542,
    "start_time": "2022-09-23T19:09:53.809Z"
   },
   {
    "duration": 300,
    "start_time": "2022-09-23T19:09:55.354Z"
   },
   {
    "duration": 1724,
    "start_time": "2022-09-23T19:09:55.655Z"
   },
   {
    "duration": 1506,
    "start_time": "2022-09-23T19:09:57.381Z"
   },
   {
    "duration": 16,
    "start_time": "2022-09-23T19:09:58.893Z"
   },
   {
    "duration": 10,
    "start_time": "2022-09-23T19:09:58.910Z"
   },
   {
    "duration": 13,
    "start_time": "2022-09-23T19:09:58.922Z"
   },
   {
    "duration": 32,
    "start_time": "2022-09-23T19:09:58.937Z"
   },
   {
    "duration": 3,
    "start_time": "2022-09-23T19:09:58.973Z"
   },
   {
    "duration": 29,
    "start_time": "2022-09-23T19:09:58.978Z"
   },
   {
    "duration": 10,
    "start_time": "2022-09-23T19:09:59.009Z"
   },
   {
    "duration": 9,
    "start_time": "2022-09-23T19:09:59.022Z"
   },
   {
    "duration": 156,
    "start_time": "2022-09-23T19:09:59.033Z"
   },
   {
    "duration": 145,
    "start_time": "2022-09-23T19:09:59.192Z"
   },
   {
    "duration": 0,
    "start_time": "2022-09-23T19:09:59.338Z"
   },
   {
    "duration": 0,
    "start_time": "2022-09-23T19:09:59.339Z"
   },
   {
    "duration": 0,
    "start_time": "2022-09-23T19:09:59.341Z"
   },
   {
    "duration": 0,
    "start_time": "2022-09-23T19:09:59.342Z"
   },
   {
    "duration": 0,
    "start_time": "2022-09-23T19:09:59.343Z"
   },
   {
    "duration": 0,
    "start_time": "2022-09-23T19:09:59.344Z"
   },
   {
    "duration": 0,
    "start_time": "2022-09-23T19:09:59.345Z"
   },
   {
    "duration": 0,
    "start_time": "2022-09-23T19:09:59.346Z"
   },
   {
    "duration": 0,
    "start_time": "2022-09-23T19:09:59.347Z"
   },
   {
    "duration": 0,
    "start_time": "2022-09-23T19:09:59.348Z"
   },
   {
    "duration": 0,
    "start_time": "2022-09-23T19:09:59.349Z"
   },
   {
    "duration": 0,
    "start_time": "2022-09-23T19:09:59.350Z"
   },
   {
    "duration": 0,
    "start_time": "2022-09-23T19:09:59.351Z"
   },
   {
    "duration": 4,
    "start_time": "2022-09-23T19:11:28.029Z"
   },
   {
    "duration": 43,
    "start_time": "2022-09-23T19:11:28.036Z"
   },
   {
    "duration": 5,
    "start_time": "2022-09-23T19:11:28.081Z"
   },
   {
    "duration": 107,
    "start_time": "2022-09-23T19:11:28.088Z"
   },
   {
    "duration": 7,
    "start_time": "2022-09-23T19:11:28.197Z"
   },
   {
    "duration": 21,
    "start_time": "2022-09-23T19:11:28.206Z"
   },
   {
    "duration": 23,
    "start_time": "2022-09-23T19:11:28.229Z"
   },
   {
    "duration": 9,
    "start_time": "2022-09-23T19:11:28.254Z"
   },
   {
    "duration": 18,
    "start_time": "2022-09-23T19:11:28.268Z"
   },
   {
    "duration": 6,
    "start_time": "2022-09-23T19:11:28.288Z"
   },
   {
    "duration": 15,
    "start_time": "2022-09-23T19:11:28.296Z"
   },
   {
    "duration": 10,
    "start_time": "2022-09-23T19:11:28.313Z"
   },
   {
    "duration": 10,
    "start_time": "2022-09-23T19:11:28.325Z"
   },
   {
    "duration": 6,
    "start_time": "2022-09-23T19:11:28.337Z"
   },
   {
    "duration": 1885,
    "start_time": "2022-09-23T19:11:28.345Z"
   },
   {
    "duration": 415,
    "start_time": "2022-09-23T19:11:30.232Z"
   },
   {
    "duration": 1805,
    "start_time": "2022-09-23T19:11:30.648Z"
   },
   {
    "duration": 1685,
    "start_time": "2022-09-23T19:11:32.454Z"
   },
   {
    "duration": 14,
    "start_time": "2022-09-23T19:11:34.141Z"
   },
   {
    "duration": 4,
    "start_time": "2022-09-23T19:11:34.156Z"
   },
   {
    "duration": 31,
    "start_time": "2022-09-23T19:11:34.162Z"
   },
   {
    "duration": 29,
    "start_time": "2022-09-23T19:11:34.195Z"
   },
   {
    "duration": 4,
    "start_time": "2022-09-23T19:11:34.226Z"
   },
   {
    "duration": 10,
    "start_time": "2022-09-23T19:11:34.233Z"
   },
   {
    "duration": 9,
    "start_time": "2022-09-23T19:11:34.245Z"
   },
   {
    "duration": 34,
    "start_time": "2022-09-23T19:11:34.255Z"
   },
   {
    "duration": 200,
    "start_time": "2022-09-23T19:11:34.291Z"
   },
   {
    "duration": 1784,
    "start_time": "2022-09-23T19:11:34.493Z"
   },
   {
    "duration": 165444,
    "start_time": "2022-09-23T19:11:36.278Z"
   },
   {
    "duration": 0,
    "start_time": "2022-09-23T19:14:21.723Z"
   },
   {
    "duration": 0,
    "start_time": "2022-09-23T19:14:21.725Z"
   },
   {
    "duration": 0,
    "start_time": "2022-09-23T19:14:21.726Z"
   },
   {
    "duration": 0,
    "start_time": "2022-09-23T19:14:21.726Z"
   },
   {
    "duration": 0,
    "start_time": "2022-09-23T19:14:21.728Z"
   },
   {
    "duration": 0,
    "start_time": "2022-09-23T19:14:21.728Z"
   },
   {
    "duration": 0,
    "start_time": "2022-09-23T19:14:21.730Z"
   },
   {
    "duration": 0,
    "start_time": "2022-09-23T19:14:21.730Z"
   },
   {
    "duration": 0,
    "start_time": "2022-09-23T19:14:21.732Z"
   },
   {
    "duration": 0,
    "start_time": "2022-09-23T19:14:21.733Z"
   },
   {
    "duration": 0,
    "start_time": "2022-09-23T19:14:21.734Z"
   },
   {
    "duration": 0,
    "start_time": "2022-09-23T19:14:21.735Z"
   },
   {
    "duration": 1431,
    "start_time": "2022-09-23T19:22:22.014Z"
   },
   {
    "duration": 2,
    "start_time": "2022-09-23T19:22:23.448Z"
   },
   {
    "duration": 8,
    "start_time": "2022-09-23T19:22:23.451Z"
   },
   {
    "duration": 118,
    "start_time": "2022-09-23T19:22:23.463Z"
   },
   {
    "duration": 5,
    "start_time": "2022-09-23T19:22:23.582Z"
   },
   {
    "duration": 21,
    "start_time": "2022-09-23T19:22:23.588Z"
   },
   {
    "duration": 9,
    "start_time": "2022-09-23T19:22:23.611Z"
   },
   {
    "duration": 12,
    "start_time": "2022-09-23T19:22:23.622Z"
   },
   {
    "duration": 31,
    "start_time": "2022-09-23T19:22:23.635Z"
   },
   {
    "duration": 4,
    "start_time": "2022-09-23T19:22:23.668Z"
   },
   {
    "duration": 12,
    "start_time": "2022-09-23T19:22:23.674Z"
   },
   {
    "duration": 23,
    "start_time": "2022-09-23T19:22:23.689Z"
   },
   {
    "duration": 11,
    "start_time": "2022-09-23T19:22:23.714Z"
   },
   {
    "duration": 11,
    "start_time": "2022-09-23T19:22:23.727Z"
   },
   {
    "duration": 1525,
    "start_time": "2022-09-23T19:22:23.739Z"
   },
   {
    "duration": 292,
    "start_time": "2022-09-23T19:22:25.266Z"
   },
   {
    "duration": 1680,
    "start_time": "2022-09-23T19:22:25.559Z"
   },
   {
    "duration": 1487,
    "start_time": "2022-09-23T19:22:27.240Z"
   },
   {
    "duration": 16,
    "start_time": "2022-09-23T19:22:28.728Z"
   },
   {
    "duration": 26,
    "start_time": "2022-09-23T19:22:28.746Z"
   },
   {
    "duration": 33,
    "start_time": "2022-09-23T19:22:28.774Z"
   },
   {
    "duration": 29,
    "start_time": "2022-09-23T19:22:28.809Z"
   },
   {
    "duration": 4,
    "start_time": "2022-09-23T19:22:28.840Z"
   },
   {
    "duration": 28,
    "start_time": "2022-09-23T19:22:28.846Z"
   },
   {
    "duration": 10,
    "start_time": "2022-09-23T19:22:28.877Z"
   },
   {
    "duration": 18,
    "start_time": "2022-09-23T19:22:28.891Z"
   },
   {
    "duration": 88,
    "start_time": "2022-09-23T19:22:28.911Z"
   },
   {
    "duration": 1757,
    "start_time": "2022-09-23T19:22:29.008Z"
   },
   {
    "duration": 141,
    "start_time": "2022-09-23T19:22:30.766Z"
   },
   {
    "duration": 0,
    "start_time": "2022-09-23T19:22:30.909Z"
   },
   {
    "duration": 0,
    "start_time": "2022-09-23T19:22:30.911Z"
   },
   {
    "duration": 0,
    "start_time": "2022-09-23T19:22:30.912Z"
   },
   {
    "duration": 0,
    "start_time": "2022-09-23T19:22:30.913Z"
   },
   {
    "duration": 0,
    "start_time": "2022-09-23T19:22:30.914Z"
   },
   {
    "duration": 0,
    "start_time": "2022-09-23T19:22:30.916Z"
   },
   {
    "duration": 0,
    "start_time": "2022-09-23T19:22:30.917Z"
   },
   {
    "duration": 0,
    "start_time": "2022-09-23T19:22:30.918Z"
   },
   {
    "duration": 0,
    "start_time": "2022-09-23T19:22:30.920Z"
   },
   {
    "duration": 0,
    "start_time": "2022-09-23T19:22:30.921Z"
   },
   {
    "duration": 0,
    "start_time": "2022-09-23T19:22:30.922Z"
   },
   {
    "duration": 0,
    "start_time": "2022-09-23T19:22:30.923Z"
   },
   {
    "duration": 0,
    "start_time": "2022-09-23T19:22:30.925Z"
   },
   {
    "duration": 0,
    "start_time": "2022-09-23T19:22:30.926Z"
   },
   {
    "duration": 0,
    "start_time": "2022-09-23T19:22:30.928Z"
   },
   {
    "duration": 0,
    "start_time": "2022-09-23T19:22:30.929Z"
   },
   {
    "duration": 0,
    "start_time": "2022-09-23T19:22:30.930Z"
   },
   {
    "duration": 0,
    "start_time": "2022-09-23T19:22:30.931Z"
   },
   {
    "duration": 0,
    "start_time": "2022-09-23T19:22:30.932Z"
   },
   {
    "duration": 11,
    "start_time": "2022-09-23T19:24:10.302Z"
   },
   {
    "duration": 5,
    "start_time": "2022-09-23T19:24:14.763Z"
   },
   {
    "duration": 1443,
    "start_time": "2022-09-23T19:24:57.330Z"
   },
   {
    "duration": 2,
    "start_time": "2022-09-23T19:24:58.775Z"
   },
   {
    "duration": 7,
    "start_time": "2022-09-23T19:24:58.779Z"
   },
   {
    "duration": 126,
    "start_time": "2022-09-23T19:24:58.788Z"
   },
   {
    "duration": 5,
    "start_time": "2022-09-23T19:24:58.915Z"
   },
   {
    "duration": 5,
    "start_time": "2022-09-23T19:24:58.922Z"
   },
   {
    "duration": 6,
    "start_time": "2022-09-23T19:24:58.929Z"
   },
   {
    "duration": 10,
    "start_time": "2022-09-23T19:24:58.936Z"
   },
   {
    "duration": 10,
    "start_time": "2022-09-23T19:24:58.947Z"
   },
   {
    "duration": 3,
    "start_time": "2022-09-23T19:24:58.959Z"
   },
   {
    "duration": 4,
    "start_time": "2022-09-23T19:24:58.999Z"
   },
   {
    "duration": 6,
    "start_time": "2022-09-23T19:24:59.005Z"
   },
   {
    "duration": 10,
    "start_time": "2022-09-23T19:24:59.013Z"
   },
   {
    "duration": 8,
    "start_time": "2022-09-23T19:24:59.025Z"
   },
   {
    "duration": 2395,
    "start_time": "2022-09-23T19:24:59.034Z"
   },
   {
    "duration": 776,
    "start_time": "2022-09-23T19:25:01.431Z"
   },
   {
    "duration": 1729,
    "start_time": "2022-09-23T19:25:02.209Z"
   },
   {
    "duration": 1563,
    "start_time": "2022-09-23T19:25:03.940Z"
   },
   {
    "duration": 12,
    "start_time": "2022-09-23T19:25:05.506Z"
   },
   {
    "duration": 4,
    "start_time": "2022-09-23T19:25:05.520Z"
   },
   {
    "duration": 18,
    "start_time": "2022-09-23T19:25:05.525Z"
   },
   {
    "duration": 27,
    "start_time": "2022-09-23T19:25:05.544Z"
   },
   {
    "duration": 28,
    "start_time": "2022-09-23T19:25:05.573Z"
   },
   {
    "duration": 10,
    "start_time": "2022-09-23T19:25:05.603Z"
   },
   {
    "duration": 10,
    "start_time": "2022-09-23T19:25:05.615Z"
   },
   {
    "duration": 9,
    "start_time": "2022-09-23T19:25:05.627Z"
   },
   {
    "duration": 64,
    "start_time": "2022-09-23T19:25:05.637Z"
   },
   {
    "duration": 1862,
    "start_time": "2022-09-23T19:25:05.706Z"
   },
   {
    "duration": 5,
    "start_time": "2022-09-23T19:25:07.570Z"
   },
   {
    "duration": 30,
    "start_time": "2022-09-23T19:25:07.576Z"
   },
   {
    "duration": 172,
    "start_time": "2022-09-23T19:25:07.608Z"
   },
   {
    "duration": 28,
    "start_time": "2022-09-23T19:25:07.782Z"
   },
   {
    "duration": 13,
    "start_time": "2022-09-23T19:25:07.811Z"
   },
   {
    "duration": 14,
    "start_time": "2022-09-23T19:25:07.826Z"
   },
   {
    "duration": 6,
    "start_time": "2022-09-23T19:25:07.842Z"
   },
   {
    "duration": 10,
    "start_time": "2022-09-23T19:25:07.850Z"
   },
   {
    "duration": 24,
    "start_time": "2022-09-23T19:25:07.861Z"
   },
   {
    "duration": 2075,
    "start_time": "2022-09-23T19:25:07.887Z"
   },
   {
    "duration": 16,
    "start_time": "2022-09-23T19:25:09.964Z"
   },
   {
    "duration": 0,
    "start_time": "2022-09-23T19:25:09.982Z"
   },
   {
    "duration": 0,
    "start_time": "2022-09-23T19:25:09.983Z"
   },
   {
    "duration": 0,
    "start_time": "2022-09-23T19:25:09.985Z"
   },
   {
    "duration": 0,
    "start_time": "2022-09-23T19:25:09.986Z"
   },
   {
    "duration": 0,
    "start_time": "2022-09-23T19:25:09.987Z"
   },
   {
    "duration": 2,
    "start_time": "2022-09-23T19:25:09.988Z"
   },
   {
    "duration": 0,
    "start_time": "2022-09-23T19:25:09.991Z"
   },
   {
    "duration": 0,
    "start_time": "2022-09-23T19:25:09.992Z"
   },
   {
    "duration": 0,
    "start_time": "2022-09-23T19:25:09.992Z"
   },
   {
    "duration": 1487,
    "start_time": "2022-09-23T19:26:37.457Z"
   },
   {
    "duration": 3,
    "start_time": "2022-09-23T19:26:38.946Z"
   },
   {
    "duration": 6,
    "start_time": "2022-09-23T19:26:38.950Z"
   },
   {
    "duration": 127,
    "start_time": "2022-09-23T19:26:38.958Z"
   },
   {
    "duration": 9,
    "start_time": "2022-09-23T19:26:39.086Z"
   },
   {
    "duration": 21,
    "start_time": "2022-09-23T19:26:39.097Z"
   },
   {
    "duration": 7,
    "start_time": "2022-09-23T19:26:39.120Z"
   },
   {
    "duration": 9,
    "start_time": "2022-09-23T19:26:39.129Z"
   },
   {
    "duration": 13,
    "start_time": "2022-09-23T19:26:39.139Z"
   },
   {
    "duration": 4,
    "start_time": "2022-09-23T19:26:39.155Z"
   },
   {
    "duration": 6,
    "start_time": "2022-09-23T19:26:39.160Z"
   },
   {
    "duration": 31,
    "start_time": "2022-09-23T19:26:39.168Z"
   },
   {
    "duration": 10,
    "start_time": "2022-09-23T19:26:39.204Z"
   },
   {
    "duration": 9,
    "start_time": "2022-09-23T19:26:39.216Z"
   },
   {
    "duration": 3002,
    "start_time": "2022-09-23T19:26:39.227Z"
   },
   {
    "duration": 431,
    "start_time": "2022-09-23T19:26:42.232Z"
   },
   {
    "duration": 1757,
    "start_time": "2022-09-23T19:26:42.665Z"
   },
   {
    "duration": 1529,
    "start_time": "2022-09-23T19:26:44.424Z"
   },
   {
    "duration": 11,
    "start_time": "2022-09-23T19:26:45.955Z"
   },
   {
    "duration": 4,
    "start_time": "2022-09-23T19:26:45.968Z"
   },
   {
    "duration": 31,
    "start_time": "2022-09-23T19:26:45.973Z"
   },
   {
    "duration": 31,
    "start_time": "2022-09-23T19:26:46.008Z"
   },
   {
    "duration": 4,
    "start_time": "2022-09-23T19:26:46.041Z"
   },
   {
    "duration": 14,
    "start_time": "2022-09-23T19:26:46.046Z"
   },
   {
    "duration": 9,
    "start_time": "2022-09-23T19:26:46.062Z"
   },
   {
    "duration": 25,
    "start_time": "2022-09-23T19:26:46.073Z"
   },
   {
    "duration": 118,
    "start_time": "2022-09-23T19:26:46.099Z"
   },
   {
    "duration": 1700,
    "start_time": "2022-09-23T19:26:46.292Z"
   },
   {
    "duration": 1021,
    "start_time": "2022-09-23T19:26:47.999Z"
   },
   {
    "duration": 11,
    "start_time": "2022-09-23T19:26:49.022Z"
   },
   {
    "duration": 187,
    "start_time": "2022-09-23T19:26:49.035Z"
   },
   {
    "duration": 12,
    "start_time": "2022-09-23T19:26:49.224Z"
   },
   {
    "duration": 7,
    "start_time": "2022-09-23T19:26:49.237Z"
   },
   {
    "duration": 15,
    "start_time": "2022-09-23T19:26:49.246Z"
   },
   {
    "duration": 31,
    "start_time": "2022-09-23T19:26:49.264Z"
   },
   {
    "duration": 19,
    "start_time": "2022-09-23T19:26:49.297Z"
   },
   {
    "duration": 21,
    "start_time": "2022-09-23T19:26:49.318Z"
   },
   {
    "duration": 8066,
    "start_time": "2022-09-23T19:26:49.341Z"
   },
   {
    "duration": 702,
    "start_time": "2022-09-23T19:26:57.408Z"
   },
   {
    "duration": 296,
    "start_time": "2022-09-23T19:26:58.112Z"
   },
   {
    "duration": 0,
    "start_time": "2022-09-23T19:26:58.412Z"
   },
   {
    "duration": 0,
    "start_time": "2022-09-23T19:26:58.414Z"
   },
   {
    "duration": 0,
    "start_time": "2022-09-23T19:26:58.415Z"
   },
   {
    "duration": 0,
    "start_time": "2022-09-23T19:26:58.417Z"
   },
   {
    "duration": 0,
    "start_time": "2022-09-23T19:26:58.418Z"
   },
   {
    "duration": 0,
    "start_time": "2022-09-23T19:26:58.420Z"
   },
   {
    "duration": 0,
    "start_time": "2022-09-23T19:26:58.421Z"
   },
   {
    "duration": 0,
    "start_time": "2022-09-23T19:26:58.422Z"
   },
   {
    "duration": 13,
    "start_time": "2022-09-23T19:27:33.927Z"
   },
   {
    "duration": 19,
    "start_time": "2022-09-23T19:27:50.778Z"
   },
   {
    "duration": 10,
    "start_time": "2022-09-23T19:29:49.757Z"
   },
   {
    "duration": 4,
    "start_time": "2022-09-23T19:29:58.832Z"
   },
   {
    "duration": 5,
    "start_time": "2022-09-23T19:30:32.953Z"
   },
   {
    "duration": 7,
    "start_time": "2022-09-23T19:30:49.390Z"
   },
   {
    "duration": 7,
    "start_time": "2022-09-23T19:30:55.484Z"
   },
   {
    "duration": 5,
    "start_time": "2022-09-23T19:30:58.514Z"
   },
   {
    "duration": 7,
    "start_time": "2022-09-23T19:31:02.087Z"
   },
   {
    "duration": 7,
    "start_time": "2022-09-23T19:31:05.658Z"
   },
   {
    "duration": 3,
    "start_time": "2022-09-23T19:31:32.450Z"
   },
   {
    "duration": 11,
    "start_time": "2022-09-23T19:32:36.869Z"
   },
   {
    "duration": 11,
    "start_time": "2022-09-23T19:33:19.244Z"
   },
   {
    "duration": 9,
    "start_time": "2022-09-23T19:34:21.593Z"
   },
   {
    "duration": 9,
    "start_time": "2022-09-23T19:34:30.961Z"
   },
   {
    "duration": 10,
    "start_time": "2022-09-23T19:35:45.798Z"
   },
   {
    "duration": 14,
    "start_time": "2022-09-23T19:35:52.684Z"
   },
   {
    "duration": 10,
    "start_time": "2022-09-23T19:35:57.954Z"
   },
   {
    "duration": 14,
    "start_time": "2022-09-23T19:38:21.447Z"
   },
   {
    "duration": 81,
    "start_time": "2022-09-23T19:38:35.710Z"
   },
   {
    "duration": 4,
    "start_time": "2022-09-23T19:38:50.049Z"
   },
   {
    "duration": 4,
    "start_time": "2022-09-23T19:38:59.790Z"
   },
   {
    "duration": 4,
    "start_time": "2022-09-23T19:39:12.016Z"
   },
   {
    "duration": 157,
    "start_time": "2022-09-23T19:39:16.205Z"
   },
   {
    "duration": 1488,
    "start_time": "2022-09-23T19:39:55.037Z"
   },
   {
    "duration": 1498,
    "start_time": "2022-09-23T19:40:02.444Z"
   },
   {
    "duration": 186,
    "start_time": "2022-09-23T19:41:41.436Z"
   },
   {
    "duration": 1526,
    "start_time": "2022-09-23T19:47:18.679Z"
   },
   {
    "duration": 3,
    "start_time": "2022-09-23T19:47:20.207Z"
   },
   {
    "duration": 11,
    "start_time": "2022-09-23T19:47:20.212Z"
   },
   {
    "duration": 118,
    "start_time": "2022-09-23T19:47:20.226Z"
   },
   {
    "duration": 6,
    "start_time": "2022-09-23T19:47:20.346Z"
   },
   {
    "duration": 18,
    "start_time": "2022-09-23T19:47:20.354Z"
   },
   {
    "duration": 15,
    "start_time": "2022-09-23T19:47:20.375Z"
   },
   {
    "duration": 17,
    "start_time": "2022-09-23T19:47:20.392Z"
   },
   {
    "duration": 46,
    "start_time": "2022-09-23T19:47:20.411Z"
   },
   {
    "duration": 42,
    "start_time": "2022-09-23T19:47:20.459Z"
   },
   {
    "duration": 16,
    "start_time": "2022-09-23T19:47:20.503Z"
   },
   {
    "duration": 26,
    "start_time": "2022-09-23T19:47:20.520Z"
   },
   {
    "duration": 31,
    "start_time": "2022-09-23T19:47:20.548Z"
   },
   {
    "duration": 38,
    "start_time": "2022-09-23T19:47:20.580Z"
   },
   {
    "duration": 2493,
    "start_time": "2022-09-23T19:47:20.620Z"
   },
   {
    "duration": 536,
    "start_time": "2022-09-23T19:47:23.115Z"
   },
   {
    "duration": 1675,
    "start_time": "2022-09-23T19:47:23.653Z"
   },
   {
    "duration": 1511,
    "start_time": "2022-09-23T19:47:25.330Z"
   },
   {
    "duration": 12,
    "start_time": "2022-09-23T19:47:26.844Z"
   },
   {
    "duration": 17,
    "start_time": "2022-09-23T19:47:26.858Z"
   },
   {
    "duration": 29,
    "start_time": "2022-09-23T19:47:26.877Z"
   },
   {
    "duration": 57,
    "start_time": "2022-09-23T19:47:26.908Z"
   },
   {
    "duration": 3,
    "start_time": "2022-09-23T19:47:26.967Z"
   },
   {
    "duration": 23,
    "start_time": "2022-09-23T19:47:26.972Z"
   },
   {
    "duration": 24,
    "start_time": "2022-09-23T19:47:26.997Z"
   },
   {
    "duration": 31,
    "start_time": "2022-09-23T19:47:27.023Z"
   },
   {
    "duration": 49,
    "start_time": "2022-09-23T19:47:27.056Z"
   },
   {
    "duration": 1852,
    "start_time": "2022-09-23T19:47:27.111Z"
   },
   {
    "duration": 534,
    "start_time": "2022-09-23T19:47:28.965Z"
   },
   {
    "duration": 11,
    "start_time": "2022-09-23T19:47:29.501Z"
   },
   {
    "duration": 171,
    "start_time": "2022-09-23T19:47:29.514Z"
   },
   {
    "duration": 12,
    "start_time": "2022-09-23T19:47:29.689Z"
   },
   {
    "duration": 9,
    "start_time": "2022-09-23T19:47:29.703Z"
   },
   {
    "duration": 16,
    "start_time": "2022-09-23T19:47:29.715Z"
   },
   {
    "duration": 9,
    "start_time": "2022-09-23T19:47:29.733Z"
   },
   {
    "duration": 10,
    "start_time": "2022-09-23T19:47:29.744Z"
   },
   {
    "duration": 49,
    "start_time": "2022-09-23T19:47:29.756Z"
   },
   {
    "duration": 7909,
    "start_time": "2022-09-23T19:47:29.807Z"
   },
   {
    "duration": 308,
    "start_time": "2022-09-23T19:47:37.718Z"
   },
   {
    "duration": 13,
    "start_time": "2022-09-23T19:47:38.028Z"
   },
   {
    "duration": 21,
    "start_time": "2022-09-23T19:47:38.043Z"
   },
   {
    "duration": 4,
    "start_time": "2022-09-23T19:47:38.090Z"
   },
   {
    "duration": 14,
    "start_time": "2022-09-23T19:47:38.096Z"
   },
   {
    "duration": 4,
    "start_time": "2022-09-23T19:47:38.112Z"
   },
   {
    "duration": 1742,
    "start_time": "2022-09-23T19:47:38.117Z"
   },
   {
    "duration": 204,
    "start_time": "2022-09-23T19:47:39.860Z"
   },
   {
    "duration": 24,
    "start_time": "2022-09-23T19:47:40.065Z"
   },
   {
    "duration": 11,
    "start_time": "2022-09-23T19:47:40.091Z"
   },
   {
    "duration": 6,
    "start_time": "2022-09-23T19:47:40.104Z"
   },
   {
    "duration": 106,
    "start_time": "2022-09-23T19:52:48.343Z"
   },
   {
    "duration": 233,
    "start_time": "2022-09-23T19:53:01.888Z"
   },
   {
    "duration": 1537,
    "start_time": "2022-09-23T19:53:04.984Z"
   },
   {
    "duration": 5,
    "start_time": "2022-09-23T19:53:10.329Z"
   },
   {
    "duration": 4,
    "start_time": "2022-09-23T19:53:17.868Z"
   },
   {
    "duration": 12,
    "start_time": "2022-09-23T19:56:50.889Z"
   },
   {
    "duration": 10,
    "start_time": "2022-09-23T19:57:10.069Z"
   },
   {
    "duration": 14,
    "start_time": "2022-09-23T19:57:12.358Z"
   },
   {
    "duration": 17,
    "start_time": "2022-09-23T19:58:29.828Z"
   },
   {
    "duration": 18,
    "start_time": "2022-09-23T19:58:42.690Z"
   },
   {
    "duration": 11,
    "start_time": "2022-09-23T19:58:51.157Z"
   },
   {
    "duration": 10,
    "start_time": "2022-09-23T19:58:57.928Z"
   },
   {
    "duration": 18,
    "start_time": "2022-09-23T19:59:02.302Z"
   },
   {
    "duration": 10,
    "start_time": "2022-09-23T19:59:08.882Z"
   },
   {
    "duration": 1494,
    "start_time": "2022-09-23T20:06:51.192Z"
   },
   {
    "duration": 3,
    "start_time": "2022-09-23T20:06:52.688Z"
   },
   {
    "duration": 10,
    "start_time": "2022-09-23T20:06:52.692Z"
   },
   {
    "duration": 107,
    "start_time": "2022-09-23T20:06:52.704Z"
   },
   {
    "duration": 4,
    "start_time": "2022-09-23T20:06:52.813Z"
   },
   {
    "duration": 11,
    "start_time": "2022-09-23T20:06:52.819Z"
   },
   {
    "duration": 16,
    "start_time": "2022-09-23T20:06:52.832Z"
   },
   {
    "duration": 8,
    "start_time": "2022-09-23T20:06:52.850Z"
   },
   {
    "duration": 9,
    "start_time": "2022-09-23T20:06:52.860Z"
   },
   {
    "duration": 18,
    "start_time": "2022-09-23T20:06:52.872Z"
   },
   {
    "duration": 8,
    "start_time": "2022-09-23T20:06:52.892Z"
   },
   {
    "duration": 6,
    "start_time": "2022-09-23T20:06:52.901Z"
   },
   {
    "duration": 9,
    "start_time": "2022-09-23T20:06:52.909Z"
   },
   {
    "duration": 6,
    "start_time": "2022-09-23T20:06:52.919Z"
   },
   {
    "duration": 2390,
    "start_time": "2022-09-23T20:06:52.927Z"
   },
   {
    "duration": 452,
    "start_time": "2022-09-23T20:06:55.319Z"
   },
   {
    "duration": 1657,
    "start_time": "2022-09-23T20:06:55.774Z"
   },
   {
    "duration": 1498,
    "start_time": "2022-09-23T20:06:57.433Z"
   },
   {
    "duration": 14,
    "start_time": "2022-09-23T20:06:58.932Z"
   },
   {
    "duration": 3,
    "start_time": "2022-09-23T20:06:58.948Z"
   },
   {
    "duration": 12,
    "start_time": "2022-09-23T20:06:58.953Z"
   },
   {
    "duration": 48,
    "start_time": "2022-09-23T20:06:58.966Z"
   },
   {
    "duration": 4,
    "start_time": "2022-09-23T20:06:59.017Z"
   },
   {
    "duration": 13,
    "start_time": "2022-09-23T20:06:59.023Z"
   },
   {
    "duration": 11,
    "start_time": "2022-09-23T20:06:59.038Z"
   },
   {
    "duration": 12,
    "start_time": "2022-09-23T20:06:59.050Z"
   },
   {
    "duration": 51,
    "start_time": "2022-09-23T20:06:59.063Z"
   },
   {
    "duration": 2024,
    "start_time": "2022-09-23T20:06:59.119Z"
   },
   {
    "duration": 581636,
    "start_time": "2022-09-23T20:07:01.144Z"
   },
   {
    "duration": 22,
    "start_time": "2022-09-23T20:16:42.782Z"
   },
   {
    "duration": 209,
    "start_time": "2022-09-23T20:16:42.805Z"
   },
   {
    "duration": 13,
    "start_time": "2022-09-23T20:16:43.016Z"
   },
   {
    "duration": 7,
    "start_time": "2022-09-23T20:16:43.031Z"
   },
   {
    "duration": 15,
    "start_time": "2022-09-23T20:16:43.040Z"
   },
   {
    "duration": 43,
    "start_time": "2022-09-23T20:16:43.056Z"
   },
   {
    "duration": 5,
    "start_time": "2022-09-23T20:16:43.100Z"
   },
   {
    "duration": 8,
    "start_time": "2022-09-23T20:16:43.108Z"
   },
   {
    "duration": 9,
    "start_time": "2022-09-23T20:16:43.119Z"
   },
   {
    "duration": 24,
    "start_time": "2022-09-23T20:16:43.130Z"
   },
   {
    "duration": 8577,
    "start_time": "2022-09-23T20:16:43.156Z"
   },
   {
    "duration": 432,
    "start_time": "2022-09-23T20:16:51.735Z"
   },
   {
    "duration": 39,
    "start_time": "2022-09-23T20:16:52.169Z"
   },
   {
    "duration": 32,
    "start_time": "2022-09-23T20:16:52.210Z"
   },
   {
    "duration": 18,
    "start_time": "2022-09-23T20:16:52.244Z"
   },
   {
    "duration": 33,
    "start_time": "2022-09-23T20:16:52.263Z"
   },
   {
    "duration": 13,
    "start_time": "2022-09-23T20:16:52.305Z"
   },
   {
    "duration": 1893,
    "start_time": "2022-09-23T20:16:52.320Z"
   },
   {
    "duration": 203,
    "start_time": "2022-09-23T20:16:54.215Z"
   },
   {
    "duration": 6,
    "start_time": "2022-09-23T20:16:54.420Z"
   },
   {
    "duration": 536,
    "start_time": "2022-09-23T20:16:54.428Z"
   },
   {
    "duration": 3,
    "start_time": "2022-09-23T20:16:54.966Z"
   },
   {
    "duration": 5,
    "start_time": "2022-09-23T20:43:02.043Z"
   },
   {
    "duration": 1544,
    "start_time": "2022-09-23T20:50:06.966Z"
   },
   {
    "duration": 2,
    "start_time": "2022-09-23T20:50:08.512Z"
   },
   {
    "duration": 10,
    "start_time": "2022-09-23T20:50:08.516Z"
   },
   {
    "duration": 119,
    "start_time": "2022-09-23T20:50:08.528Z"
   },
   {
    "duration": 5,
    "start_time": "2022-09-23T20:50:08.649Z"
   },
   {
    "duration": 10,
    "start_time": "2022-09-23T20:50:08.656Z"
   },
   {
    "duration": 22,
    "start_time": "2022-09-23T20:50:08.668Z"
   },
   {
    "duration": 12,
    "start_time": "2022-09-23T20:50:08.692Z"
   },
   {
    "duration": 10,
    "start_time": "2022-09-23T20:50:08.705Z"
   },
   {
    "duration": 3,
    "start_time": "2022-09-23T20:50:08.718Z"
   },
   {
    "duration": 6,
    "start_time": "2022-09-23T20:50:08.723Z"
   },
   {
    "duration": 5,
    "start_time": "2022-09-23T20:50:08.731Z"
   },
   {
    "duration": 10,
    "start_time": "2022-09-23T20:50:08.738Z"
   },
   {
    "duration": 41,
    "start_time": "2022-09-23T20:50:08.751Z"
   },
   {
    "duration": 1703,
    "start_time": "2022-09-23T20:50:08.795Z"
   },
   {
    "duration": 405,
    "start_time": "2022-09-23T20:50:10.499Z"
   },
   {
    "duration": 2811,
    "start_time": "2022-09-23T20:50:10.907Z"
   },
   {
    "duration": 2601,
    "start_time": "2022-09-23T20:50:13.721Z"
   },
   {
    "duration": 12,
    "start_time": "2022-09-23T20:50:16.324Z"
   },
   {
    "duration": 12,
    "start_time": "2022-09-23T20:50:16.338Z"
   },
   {
    "duration": 43,
    "start_time": "2022-09-23T20:50:16.352Z"
   },
   {
    "duration": 40,
    "start_time": "2022-09-23T20:50:16.397Z"
   },
   {
    "duration": 4,
    "start_time": "2022-09-23T20:50:16.439Z"
   },
   {
    "duration": 30,
    "start_time": "2022-09-23T20:50:16.445Z"
   },
   {
    "duration": 29,
    "start_time": "2022-09-23T20:50:16.477Z"
   },
   {
    "duration": 27,
    "start_time": "2022-09-23T20:50:16.508Z"
   },
   {
    "duration": 58,
    "start_time": "2022-09-23T20:50:16.537Z"
   },
   {
    "duration": 95,
    "start_time": "2022-09-23T20:50:16.600Z"
   },
   {
    "duration": 0,
    "start_time": "2022-09-23T20:50:16.700Z"
   },
   {
    "duration": 0,
    "start_time": "2022-09-23T20:50:16.701Z"
   },
   {
    "duration": 0,
    "start_time": "2022-09-23T20:50:16.701Z"
   },
   {
    "duration": 0,
    "start_time": "2022-09-23T20:50:16.702Z"
   },
   {
    "duration": 0,
    "start_time": "2022-09-23T20:50:16.702Z"
   },
   {
    "duration": 0,
    "start_time": "2022-09-23T20:50:16.703Z"
   },
   {
    "duration": 0,
    "start_time": "2022-09-23T20:50:16.703Z"
   },
   {
    "duration": 0,
    "start_time": "2022-09-23T20:50:16.704Z"
   },
   {
    "duration": 0,
    "start_time": "2022-09-23T20:50:16.704Z"
   },
   {
    "duration": 0,
    "start_time": "2022-09-23T20:50:16.705Z"
   },
   {
    "duration": 1,
    "start_time": "2022-09-23T20:50:16.705Z"
   },
   {
    "duration": 0,
    "start_time": "2022-09-23T20:50:16.706Z"
   },
   {
    "duration": 0,
    "start_time": "2022-09-23T20:50:16.707Z"
   },
   {
    "duration": 0,
    "start_time": "2022-09-23T20:50:16.789Z"
   },
   {
    "duration": 0,
    "start_time": "2022-09-23T20:50:16.791Z"
   },
   {
    "duration": 0,
    "start_time": "2022-09-23T20:50:16.794Z"
   },
   {
    "duration": 0,
    "start_time": "2022-09-23T20:50:16.795Z"
   },
   {
    "duration": 0,
    "start_time": "2022-09-23T20:50:16.797Z"
   },
   {
    "duration": 0,
    "start_time": "2022-09-23T20:50:16.800Z"
   },
   {
    "duration": 0,
    "start_time": "2022-09-23T20:50:16.801Z"
   },
   {
    "duration": 0,
    "start_time": "2022-09-23T20:50:16.802Z"
   },
   {
    "duration": 1,
    "start_time": "2022-09-23T20:50:16.803Z"
   },
   {
    "duration": 0,
    "start_time": "2022-09-23T20:50:16.805Z"
   },
   {
    "duration": 4,
    "start_time": "2022-09-23T20:50:39.666Z"
   },
   {
    "duration": 4,
    "start_time": "2022-09-23T20:53:43.156Z"
   },
   {
    "duration": 4,
    "start_time": "2022-09-23T20:53:47.567Z"
   },
   {
    "duration": 5,
    "start_time": "2022-09-23T20:53:50.912Z"
   },
   {
    "duration": 3,
    "start_time": "2022-09-23T20:53:54.722Z"
   },
   {
    "duration": 3,
    "start_time": "2022-09-23T20:54:25.594Z"
   },
   {
    "duration": 4,
    "start_time": "2022-09-23T20:54:29.590Z"
   },
   {
    "duration": 7,
    "start_time": "2022-09-23T20:54:39.673Z"
   },
   {
    "duration": 14,
    "start_time": "2022-09-23T20:55:11.691Z"
   },
   {
    "duration": 13,
    "start_time": "2022-09-23T20:55:23.284Z"
   },
   {
    "duration": 196,
    "start_time": "2022-09-23T20:55:43.345Z"
   },
   {
    "duration": 212,
    "start_time": "2022-09-23T20:56:11.070Z"
   },
   {
    "duration": 161,
    "start_time": "2022-09-23T20:56:57.765Z"
   },
   {
    "duration": 163,
    "start_time": "2022-09-23T20:57:21.587Z"
   },
   {
    "duration": 181,
    "start_time": "2022-09-23T20:57:25.722Z"
   },
   {
    "duration": 5,
    "start_time": "2022-09-23T20:57:29.607Z"
   },
   {
    "duration": 150,
    "start_time": "2022-09-23T20:57:36.987Z"
   },
   {
    "duration": 74,
    "start_time": "2022-09-23T20:57:51.023Z"
   },
   {
    "duration": 14593,
    "start_time": "2022-09-23T20:57:52.914Z"
   },
   {
    "duration": 3,
    "start_time": "2022-09-23T20:58:40.879Z"
   },
   {
    "duration": 13734,
    "start_time": "2022-09-23T20:59:18.789Z"
   },
   {
    "duration": 509,
    "start_time": "2022-09-23T20:59:41.840Z"
   },
   {
    "duration": 1764,
    "start_time": "2022-09-23T21:02:20.570Z"
   },
   {
    "duration": 1719,
    "start_time": "2022-09-23T21:02:38.202Z"
   },
   {
    "duration": 13993,
    "start_time": "2022-09-23T21:03:19.196Z"
   },
   {
    "duration": 200,
    "start_time": "2022-09-23T21:03:57.297Z"
   },
   {
    "duration": 82,
    "start_time": "2022-09-23T21:04:09.109Z"
   },
   {
    "duration": 175,
    "start_time": "2022-09-23T21:04:11.330Z"
   },
   {
    "duration": 5,
    "start_time": "2022-09-23T21:06:01.959Z"
   },
   {
    "duration": 116,
    "start_time": "2022-09-23T21:06:07.467Z"
   },
   {
    "duration": 13547,
    "start_time": "2022-09-23T21:06:12.730Z"
   },
   {
    "duration": 1727,
    "start_time": "2022-09-23T21:06:44.746Z"
   },
   {
    "duration": 1496,
    "start_time": "2022-09-23T21:07:07.878Z"
   },
   {
    "duration": 3,
    "start_time": "2022-09-23T21:07:09.377Z"
   },
   {
    "duration": 10,
    "start_time": "2022-09-23T21:07:09.381Z"
   },
   {
    "duration": 112,
    "start_time": "2022-09-23T21:07:09.393Z"
   },
   {
    "duration": 5,
    "start_time": "2022-09-23T21:07:09.507Z"
   },
   {
    "duration": 7,
    "start_time": "2022-09-23T21:07:09.514Z"
   },
   {
    "duration": 5,
    "start_time": "2022-09-23T21:07:09.523Z"
   },
   {
    "duration": 8,
    "start_time": "2022-09-23T21:07:09.530Z"
   },
   {
    "duration": 15,
    "start_time": "2022-09-23T21:07:09.540Z"
   },
   {
    "duration": 3,
    "start_time": "2022-09-23T21:07:09.558Z"
   },
   {
    "duration": 28,
    "start_time": "2022-09-23T21:07:09.562Z"
   },
   {
    "duration": 4,
    "start_time": "2022-09-23T21:07:09.592Z"
   },
   {
    "duration": 11,
    "start_time": "2022-09-23T21:07:09.597Z"
   },
   {
    "duration": 10,
    "start_time": "2022-09-23T21:07:09.609Z"
   },
   {
    "duration": 2274,
    "start_time": "2022-09-23T21:07:09.621Z"
   },
   {
    "duration": 614,
    "start_time": "2022-09-23T21:07:11.897Z"
   },
   {
    "duration": 1873,
    "start_time": "2022-09-23T21:07:12.513Z"
   },
   {
    "duration": 1563,
    "start_time": "2022-09-23T21:07:14.389Z"
   },
   {
    "duration": 12,
    "start_time": "2022-09-23T21:07:15.954Z"
   },
   {
    "duration": 5,
    "start_time": "2022-09-23T21:07:15.967Z"
   },
   {
    "duration": 12,
    "start_time": "2022-09-23T21:07:15.990Z"
   },
   {
    "duration": 28,
    "start_time": "2022-09-23T21:07:16.004Z"
   },
   {
    "duration": 4,
    "start_time": "2022-09-23T21:07:16.034Z"
   },
   {
    "duration": 21,
    "start_time": "2022-09-23T21:07:16.040Z"
   },
   {
    "duration": 32,
    "start_time": "2022-09-23T21:07:16.062Z"
   },
   {
    "duration": 31,
    "start_time": "2022-09-23T21:07:16.095Z"
   },
   {
    "duration": 65,
    "start_time": "2022-09-23T21:07:16.128Z"
   },
   {
    "duration": 1907,
    "start_time": "2022-09-23T21:07:16.200Z"
   },
   {
    "duration": 501,
    "start_time": "2022-09-23T21:07:18.109Z"
   },
   {
    "duration": 12,
    "start_time": "2022-09-23T21:07:18.612Z"
   },
   {
    "duration": 181,
    "start_time": "2022-09-23T21:07:18.626Z"
   },
   {
    "duration": 11,
    "start_time": "2022-09-23T21:07:18.809Z"
   },
   {
    "duration": 12,
    "start_time": "2022-09-23T21:07:18.821Z"
   },
   {
    "duration": 18,
    "start_time": "2022-09-23T21:07:18.835Z"
   },
   {
    "duration": 12,
    "start_time": "2022-09-23T21:07:18.855Z"
   },
   {
    "duration": 8,
    "start_time": "2022-09-23T21:07:18.868Z"
   },
   {
    "duration": 16,
    "start_time": "2022-09-23T21:07:18.877Z"
   },
   {
    "duration": 12,
    "start_time": "2022-09-23T21:07:18.895Z"
   },
   {
    "duration": 21,
    "start_time": "2022-09-23T21:07:18.908Z"
   },
   {
    "duration": 8340,
    "start_time": "2022-09-23T21:07:18.931Z"
   },
   {
    "duration": 331,
    "start_time": "2022-09-23T21:07:27.273Z"
   },
   {
    "duration": 13,
    "start_time": "2022-09-23T21:07:27.606Z"
   },
   {
    "duration": 8,
    "start_time": "2022-09-23T21:07:27.621Z"
   },
   {
    "duration": 6,
    "start_time": "2022-09-23T21:07:27.631Z"
   },
   {
    "duration": 16,
    "start_time": "2022-09-23T21:07:27.639Z"
   },
   {
    "duration": 35,
    "start_time": "2022-09-23T21:07:27.657Z"
   },
   {
    "duration": 1980,
    "start_time": "2022-09-23T21:07:27.694Z"
   },
   {
    "duration": 189,
    "start_time": "2022-09-23T21:07:29.676Z"
   },
   {
    "duration": 6,
    "start_time": "2022-09-23T21:07:29.867Z"
   },
   {
    "duration": 502,
    "start_time": "2022-09-23T21:07:29.874Z"
   },
   {
    "duration": 4,
    "start_time": "2022-09-23T21:07:30.378Z"
   },
   {
    "duration": 1421,
    "start_time": "2022-09-23T21:08:36.712Z"
   },
   {
    "duration": 2,
    "start_time": "2022-09-23T21:08:38.135Z"
   },
   {
    "duration": 12,
    "start_time": "2022-09-23T21:08:38.139Z"
   },
   {
    "duration": 113,
    "start_time": "2022-09-23T21:08:38.153Z"
   },
   {
    "duration": 6,
    "start_time": "2022-09-23T21:08:38.268Z"
   },
   {
    "duration": 22,
    "start_time": "2022-09-23T21:08:38.275Z"
   },
   {
    "duration": 7,
    "start_time": "2022-09-23T21:08:38.299Z"
   },
   {
    "duration": 8,
    "start_time": "2022-09-23T21:08:38.308Z"
   },
   {
    "duration": 26,
    "start_time": "2022-09-23T21:08:38.317Z"
   },
   {
    "duration": 28,
    "start_time": "2022-09-23T21:08:38.346Z"
   },
   {
    "duration": 10,
    "start_time": "2022-09-23T21:08:38.376Z"
   },
   {
    "duration": 30,
    "start_time": "2022-09-23T21:08:38.387Z"
   },
   {
    "duration": 27,
    "start_time": "2022-09-23T21:08:38.419Z"
   },
   {
    "duration": 38,
    "start_time": "2022-09-23T21:08:38.448Z"
   },
   {
    "duration": 1561,
    "start_time": "2022-09-23T21:08:38.488Z"
   },
   {
    "duration": 304,
    "start_time": "2022-09-23T21:08:40.051Z"
   },
   {
    "duration": 1786,
    "start_time": "2022-09-23T21:08:40.357Z"
   },
   {
    "duration": 1478,
    "start_time": "2022-09-23T21:08:42.145Z"
   },
   {
    "duration": 12,
    "start_time": "2022-09-23T21:08:43.625Z"
   },
   {
    "duration": 6,
    "start_time": "2022-09-23T21:08:43.639Z"
   },
   {
    "duration": 17,
    "start_time": "2022-09-23T21:08:43.647Z"
   },
   {
    "duration": 41,
    "start_time": "2022-09-23T21:08:43.665Z"
   },
   {
    "duration": 3,
    "start_time": "2022-09-23T21:08:43.708Z"
   },
   {
    "duration": 7,
    "start_time": "2022-09-23T21:08:43.713Z"
   },
   {
    "duration": 8,
    "start_time": "2022-09-23T21:08:43.722Z"
   },
   {
    "duration": 8,
    "start_time": "2022-09-23T21:08:43.731Z"
   },
   {
    "duration": 55,
    "start_time": "2022-09-23T21:08:43.741Z"
   },
   {
    "duration": 2312,
    "start_time": "2022-09-23T21:08:43.800Z"
   },
   {
    "duration": 990,
    "start_time": "2022-09-23T21:08:46.114Z"
   },
   {
    "duration": 11,
    "start_time": "2022-09-23T21:08:47.106Z"
   },
   {
    "duration": 231,
    "start_time": "2022-09-23T21:08:47.119Z"
   },
   {
    "duration": 11,
    "start_time": "2022-09-23T21:08:47.352Z"
   },
   {
    "duration": 40,
    "start_time": "2022-09-23T21:08:47.365Z"
   },
   {
    "duration": 39,
    "start_time": "2022-09-23T21:08:47.407Z"
   },
   {
    "duration": 40,
    "start_time": "2022-09-23T21:08:47.448Z"
   },
   {
    "duration": 40,
    "start_time": "2022-09-23T21:08:47.490Z"
   },
   {
    "duration": 24,
    "start_time": "2022-09-23T21:08:47.532Z"
   },
   {
    "duration": 55,
    "start_time": "2022-09-23T21:08:47.558Z"
   },
   {
    "duration": 60,
    "start_time": "2022-09-23T21:08:47.615Z"
   },
   {
    "duration": 8134,
    "start_time": "2022-09-23T21:08:47.677Z"
   },
   {
    "duration": 303,
    "start_time": "2022-09-23T21:08:55.813Z"
   },
   {
    "duration": 13,
    "start_time": "2022-09-23T21:08:56.117Z"
   },
   {
    "duration": 12,
    "start_time": "2022-09-23T21:08:56.132Z"
   },
   {
    "duration": 8,
    "start_time": "2022-09-23T21:08:56.146Z"
   },
   {
    "duration": 19,
    "start_time": "2022-09-23T21:08:56.156Z"
   },
   {
    "duration": 14,
    "start_time": "2022-09-23T21:08:56.177Z"
   },
   {
    "duration": 1659,
    "start_time": "2022-09-23T21:08:56.192Z"
   },
   {
    "duration": 185,
    "start_time": "2022-09-23T21:08:57.852Z"
   },
   {
    "duration": 5,
    "start_time": "2022-09-23T21:08:58.039Z"
   },
   {
    "duration": 490,
    "start_time": "2022-09-23T21:08:58.046Z"
   },
   {
    "duration": 4,
    "start_time": "2022-09-23T21:08:58.537Z"
   },
   {
    "duration": 4,
    "start_time": "2022-09-23T21:14:36.941Z"
   },
   {
    "duration": 12,
    "start_time": "2022-09-23T21:14:36.946Z"
   },
   {
    "duration": 5,
    "start_time": "2022-09-23T21:14:36.960Z"
   },
   {
    "duration": 113,
    "start_time": "2022-09-23T21:14:36.967Z"
   },
   {
    "duration": 5,
    "start_time": "2022-09-23T21:14:37.082Z"
   },
   {
    "duration": 33,
    "start_time": "2022-09-23T21:14:37.088Z"
   },
   {
    "duration": 9,
    "start_time": "2022-09-23T21:14:37.123Z"
   },
   {
    "duration": 7,
    "start_time": "2022-09-23T21:14:37.133Z"
   },
   {
    "duration": 10,
    "start_time": "2022-09-23T21:14:37.142Z"
   },
   {
    "duration": 18,
    "start_time": "2022-09-23T21:14:37.153Z"
   },
   {
    "duration": 5,
    "start_time": "2022-09-23T21:14:37.173Z"
   },
   {
    "duration": 6,
    "start_time": "2022-09-23T21:14:37.180Z"
   },
   {
    "duration": 8,
    "start_time": "2022-09-23T21:14:37.187Z"
   },
   {
    "duration": 6,
    "start_time": "2022-09-23T21:14:37.197Z"
   },
   {
    "duration": 1412,
    "start_time": "2022-09-23T21:14:37.205Z"
   },
   {
    "duration": 275,
    "start_time": "2022-09-23T21:14:38.618Z"
   },
   {
    "duration": 1632,
    "start_time": "2022-09-23T21:14:38.895Z"
   },
   {
    "duration": 1666,
    "start_time": "2022-09-23T21:14:40.530Z"
   },
   {
    "duration": 13,
    "start_time": "2022-09-23T21:14:42.197Z"
   },
   {
    "duration": 4,
    "start_time": "2022-09-23T21:14:42.212Z"
   },
   {
    "duration": 13,
    "start_time": "2022-09-23T21:14:42.217Z"
   },
   {
    "duration": 27,
    "start_time": "2022-09-23T21:14:42.231Z"
   },
   {
    "duration": 3,
    "start_time": "2022-09-23T21:14:42.261Z"
   },
   {
    "duration": 5,
    "start_time": "2022-09-23T21:14:42.290Z"
   },
   {
    "duration": 7,
    "start_time": "2022-09-23T21:14:42.297Z"
   },
   {
    "duration": 17,
    "start_time": "2022-09-23T21:14:42.306Z"
   },
   {
    "duration": 69,
    "start_time": "2022-09-23T21:14:42.325Z"
   },
   {
    "duration": 1823,
    "start_time": "2022-09-23T21:14:42.396Z"
   },
   {
    "duration": 472,
    "start_time": "2022-09-23T21:14:44.221Z"
   },
   {
    "duration": 12,
    "start_time": "2022-09-23T21:14:44.695Z"
   },
   {
    "duration": 170,
    "start_time": "2022-09-23T21:14:44.709Z"
   },
   {
    "duration": 13,
    "start_time": "2022-09-23T21:14:44.889Z"
   },
   {
    "duration": 7,
    "start_time": "2022-09-23T21:14:44.903Z"
   },
   {
    "duration": 15,
    "start_time": "2022-09-23T21:14:44.911Z"
   },
   {
    "duration": 7,
    "start_time": "2022-09-23T21:14:44.928Z"
   },
   {
    "duration": 8,
    "start_time": "2022-09-23T21:14:44.936Z"
   },
   {
    "duration": 6,
    "start_time": "2022-09-23T21:14:44.945Z"
   },
   {
    "duration": 9,
    "start_time": "2022-09-23T21:14:44.953Z"
   },
   {
    "duration": 37,
    "start_time": "2022-09-23T21:14:44.963Z"
   },
   {
    "duration": 7945,
    "start_time": "2022-09-23T21:14:45.002Z"
   },
   {
    "duration": 305,
    "start_time": "2022-09-23T21:14:52.948Z"
   },
   {
    "duration": 15,
    "start_time": "2022-09-23T21:14:53.254Z"
   },
   {
    "duration": 5,
    "start_time": "2022-09-23T21:14:53.288Z"
   },
   {
    "duration": 10,
    "start_time": "2022-09-23T21:14:53.295Z"
   },
   {
    "duration": 16,
    "start_time": "2022-09-23T21:14:53.307Z"
   },
   {
    "duration": 5,
    "start_time": "2022-09-23T21:14:53.325Z"
   },
   {
    "duration": 1505,
    "start_time": "2022-09-23T21:14:53.332Z"
   },
   {
    "duration": 199,
    "start_time": "2022-09-23T21:14:54.839Z"
   },
   {
    "duration": 5,
    "start_time": "2022-09-23T21:14:55.040Z"
   },
   {
    "duration": 492,
    "start_time": "2022-09-23T21:14:55.047Z"
   },
   {
    "duration": 3,
    "start_time": "2022-09-23T21:14:55.541Z"
   },
   {
    "duration": 4,
    "start_time": "2022-09-23T21:16:19.464Z"
   },
   {
    "duration": 5,
    "start_time": "2022-09-23T21:16:19.470Z"
   },
   {
    "duration": 5,
    "start_time": "2022-09-23T21:16:19.477Z"
   },
   {
    "duration": 98,
    "start_time": "2022-09-23T21:16:19.484Z"
   },
   {
    "duration": 7,
    "start_time": "2022-09-23T21:16:19.584Z"
   },
   {
    "duration": 8,
    "start_time": "2022-09-23T21:16:19.593Z"
   },
   {
    "duration": 6,
    "start_time": "2022-09-23T21:16:19.603Z"
   },
   {
    "duration": 7,
    "start_time": "2022-09-23T21:16:19.611Z"
   },
   {
    "duration": 8,
    "start_time": "2022-09-23T21:16:19.620Z"
   },
   {
    "duration": 5,
    "start_time": "2022-09-23T21:16:19.629Z"
   },
   {
    "duration": 6,
    "start_time": "2022-09-23T21:16:19.636Z"
   },
   {
    "duration": 14,
    "start_time": "2022-09-23T21:16:19.644Z"
   },
   {
    "duration": 9,
    "start_time": "2022-09-23T21:16:19.690Z"
   },
   {
    "duration": 12,
    "start_time": "2022-09-23T21:16:19.701Z"
   },
   {
    "duration": 1619,
    "start_time": "2022-09-23T21:16:19.716Z"
   },
   {
    "duration": 283,
    "start_time": "2022-09-23T21:16:21.338Z"
   },
   {
    "duration": 1673,
    "start_time": "2022-09-23T21:16:21.622Z"
   },
   {
    "duration": 1474,
    "start_time": "2022-09-23T21:16:23.297Z"
   },
   {
    "duration": 19,
    "start_time": "2022-09-23T21:16:24.773Z"
   },
   {
    "duration": 4,
    "start_time": "2022-09-23T21:16:24.794Z"
   },
   {
    "duration": 19,
    "start_time": "2022-09-23T21:16:24.800Z"
   },
   {
    "duration": 27,
    "start_time": "2022-09-23T21:16:24.821Z"
   },
   {
    "duration": 5,
    "start_time": "2022-09-23T21:16:24.849Z"
   },
   {
    "duration": 34,
    "start_time": "2022-09-23T21:16:24.855Z"
   },
   {
    "duration": 11,
    "start_time": "2022-09-23T21:16:24.891Z"
   },
   {
    "duration": 10,
    "start_time": "2022-09-23T21:16:24.904Z"
   },
   {
    "duration": 76,
    "start_time": "2022-09-23T21:16:24.915Z"
   },
   {
    "duration": 1946,
    "start_time": "2022-09-23T21:16:24.993Z"
   },
   {
    "duration": 493,
    "start_time": "2022-09-23T21:16:26.941Z"
   },
   {
    "duration": 12,
    "start_time": "2022-09-23T21:16:27.436Z"
   },
   {
    "duration": 180,
    "start_time": "2022-09-23T21:16:27.450Z"
   },
   {
    "duration": 12,
    "start_time": "2022-09-23T21:16:27.632Z"
   },
   {
    "duration": 8,
    "start_time": "2022-09-23T21:16:27.646Z"
   },
   {
    "duration": 14,
    "start_time": "2022-09-23T21:16:27.656Z"
   },
   {
    "duration": 5,
    "start_time": "2022-09-23T21:16:27.688Z"
   },
   {
    "duration": 8,
    "start_time": "2022-09-23T21:16:27.695Z"
   },
   {
    "duration": 8,
    "start_time": "2022-09-23T21:16:27.705Z"
   },
   {
    "duration": 9,
    "start_time": "2022-09-23T21:16:27.715Z"
   },
   {
    "duration": 18,
    "start_time": "2022-09-23T21:16:27.728Z"
   },
   {
    "duration": 8596,
    "start_time": "2022-09-23T21:16:27.748Z"
   },
   {
    "duration": 313,
    "start_time": "2022-09-23T21:16:36.346Z"
   },
   {
    "duration": 12,
    "start_time": "2022-09-23T21:16:36.661Z"
   },
   {
    "duration": 17,
    "start_time": "2022-09-23T21:16:36.675Z"
   },
   {
    "duration": 6,
    "start_time": "2022-09-23T21:16:36.694Z"
   },
   {
    "duration": 14,
    "start_time": "2022-09-23T21:16:36.702Z"
   },
   {
    "duration": 5,
    "start_time": "2022-09-23T21:16:36.717Z"
   },
   {
    "duration": 1590,
    "start_time": "2022-09-23T21:16:36.724Z"
   },
   {
    "duration": 193,
    "start_time": "2022-09-23T21:16:38.316Z"
   },
   {
    "duration": 4,
    "start_time": "2022-09-23T21:16:38.511Z"
   },
   {
    "duration": 473,
    "start_time": "2022-09-23T21:16:38.517Z"
   },
   {
    "duration": 3,
    "start_time": "2022-09-23T21:16:38.992Z"
   },
   {
    "duration": 1417,
    "start_time": "2022-09-23T21:23:20.228Z"
   },
   {
    "duration": 2,
    "start_time": "2022-09-23T21:23:21.647Z"
   },
   {
    "duration": 9,
    "start_time": "2022-09-23T21:23:21.651Z"
   },
   {
    "duration": 115,
    "start_time": "2022-09-23T21:23:21.662Z"
   },
   {
    "duration": 5,
    "start_time": "2022-09-23T21:23:21.778Z"
   },
   {
    "duration": 18,
    "start_time": "2022-09-23T21:23:21.789Z"
   },
   {
    "duration": 19,
    "start_time": "2022-09-23T21:23:21.809Z"
   },
   {
    "duration": 15,
    "start_time": "2022-09-23T21:23:21.830Z"
   },
   {
    "duration": 28,
    "start_time": "2022-09-23T21:23:21.847Z"
   },
   {
    "duration": 16,
    "start_time": "2022-09-23T21:23:21.878Z"
   },
   {
    "duration": 25,
    "start_time": "2022-09-23T21:23:21.896Z"
   },
   {
    "duration": 15,
    "start_time": "2022-09-23T21:23:21.923Z"
   },
   {
    "duration": 14,
    "start_time": "2022-09-23T21:23:21.941Z"
   },
   {
    "duration": 20,
    "start_time": "2022-09-23T21:23:21.957Z"
   },
   {
    "duration": 1562,
    "start_time": "2022-09-23T21:23:21.981Z"
   },
   {
    "duration": 284,
    "start_time": "2022-09-23T21:23:23.545Z"
   },
   {
    "duration": 2162,
    "start_time": "2022-09-23T21:23:23.830Z"
   },
   {
    "duration": 2748,
    "start_time": "2022-09-23T21:23:25.994Z"
   },
   {
    "duration": 12,
    "start_time": "2022-09-23T21:23:28.744Z"
   },
   {
    "duration": 4,
    "start_time": "2022-09-23T21:23:28.758Z"
   },
   {
    "duration": 31,
    "start_time": "2022-09-23T21:23:28.763Z"
   },
   {
    "duration": 42,
    "start_time": "2022-09-23T21:23:28.796Z"
   },
   {
    "duration": 5,
    "start_time": "2022-09-23T21:23:28.840Z"
   },
   {
    "duration": 11,
    "start_time": "2022-09-23T21:23:28.847Z"
   },
   {
    "duration": 10,
    "start_time": "2022-09-23T21:23:28.859Z"
   },
   {
    "duration": 22,
    "start_time": "2022-09-23T21:23:28.876Z"
   },
   {
    "duration": 92,
    "start_time": "2022-09-23T21:23:28.900Z"
   },
   {
    "duration": 3400,
    "start_time": "2022-09-23T21:23:28.997Z"
   },
   {
    "duration": 22310,
    "start_time": "2022-09-23T21:23:32.399Z"
   },
   {
    "duration": 12,
    "start_time": "2022-09-23T21:23:54.711Z"
   },
   {
    "duration": 0,
    "start_time": "2022-09-23T21:23:54.725Z"
   },
   {
    "duration": 0,
    "start_time": "2022-09-23T21:23:54.726Z"
   },
   {
    "duration": 0,
    "start_time": "2022-09-23T21:23:54.727Z"
   },
   {
    "duration": 0,
    "start_time": "2022-09-23T21:23:54.728Z"
   },
   {
    "duration": 0,
    "start_time": "2022-09-23T21:23:54.729Z"
   },
   {
    "duration": 0,
    "start_time": "2022-09-23T21:23:54.730Z"
   },
   {
    "duration": 0,
    "start_time": "2022-09-23T21:23:54.731Z"
   },
   {
    "duration": 0,
    "start_time": "2022-09-23T21:23:54.733Z"
   },
   {
    "duration": 0,
    "start_time": "2022-09-23T21:23:54.733Z"
   },
   {
    "duration": 0,
    "start_time": "2022-09-23T21:23:54.734Z"
   },
   {
    "duration": 0,
    "start_time": "2022-09-23T21:23:54.735Z"
   },
   {
    "duration": 0,
    "start_time": "2022-09-23T21:23:54.736Z"
   },
   {
    "duration": 0,
    "start_time": "2022-09-23T21:23:54.737Z"
   },
   {
    "duration": 0,
    "start_time": "2022-09-23T21:23:54.738Z"
   },
   {
    "duration": 0,
    "start_time": "2022-09-23T21:23:54.739Z"
   },
   {
    "duration": 0,
    "start_time": "2022-09-23T21:23:54.740Z"
   },
   {
    "duration": 0,
    "start_time": "2022-09-23T21:23:54.741Z"
   },
   {
    "duration": 0,
    "start_time": "2022-09-23T21:23:54.742Z"
   },
   {
    "duration": 0,
    "start_time": "2022-09-23T21:23:54.744Z"
   },
   {
    "duration": 0,
    "start_time": "2022-09-23T21:23:54.745Z"
   },
   {
    "duration": 0,
    "start_time": "2022-09-23T21:23:54.746Z"
   },
   {
    "duration": 1511,
    "start_time": "2022-09-23T21:24:07.675Z"
   },
   {
    "duration": 3,
    "start_time": "2022-09-23T21:24:09.188Z"
   },
   {
    "duration": 8,
    "start_time": "2022-09-23T21:24:09.193Z"
   },
   {
    "duration": 109,
    "start_time": "2022-09-23T21:24:09.203Z"
   },
   {
    "duration": 5,
    "start_time": "2022-09-23T21:24:09.314Z"
   },
   {
    "duration": 10,
    "start_time": "2022-09-23T21:24:09.321Z"
   },
   {
    "duration": 8,
    "start_time": "2022-09-23T21:24:09.332Z"
   },
   {
    "duration": 10,
    "start_time": "2022-09-23T21:24:09.341Z"
   },
   {
    "duration": 14,
    "start_time": "2022-09-23T21:24:09.353Z"
   },
   {
    "duration": 21,
    "start_time": "2022-09-23T21:24:09.369Z"
   },
   {
    "duration": 10,
    "start_time": "2022-09-23T21:24:09.392Z"
   },
   {
    "duration": 7,
    "start_time": "2022-09-23T21:24:09.404Z"
   },
   {
    "duration": 14,
    "start_time": "2022-09-23T21:24:09.412Z"
   },
   {
    "duration": 11,
    "start_time": "2022-09-23T21:24:09.428Z"
   },
   {
    "duration": 1725,
    "start_time": "2022-09-23T21:24:09.441Z"
   },
   {
    "duration": 327,
    "start_time": "2022-09-23T21:24:11.168Z"
   },
   {
    "duration": 1820,
    "start_time": "2022-09-23T21:24:11.497Z"
   },
   {
    "duration": 1524,
    "start_time": "2022-09-23T21:24:13.319Z"
   },
   {
    "duration": 12,
    "start_time": "2022-09-23T21:24:14.845Z"
   },
   {
    "duration": 5,
    "start_time": "2022-09-23T21:24:14.859Z"
   },
   {
    "duration": 26,
    "start_time": "2022-09-23T21:24:14.865Z"
   },
   {
    "duration": 30,
    "start_time": "2022-09-23T21:24:14.893Z"
   },
   {
    "duration": 3,
    "start_time": "2022-09-23T21:24:14.925Z"
   },
   {
    "duration": 8,
    "start_time": "2022-09-23T21:24:14.930Z"
   },
   {
    "duration": 12,
    "start_time": "2022-09-23T21:24:14.939Z"
   },
   {
    "duration": 11,
    "start_time": "2022-09-23T21:24:14.953Z"
   },
   {
    "duration": 125,
    "start_time": "2022-09-23T21:24:14.966Z"
   },
   {
    "duration": 3434,
    "start_time": "2022-09-23T21:24:15.097Z"
   },
   {
    "duration": 832002,
    "start_time": "2022-09-23T21:24:18.533Z"
   },
   {
    "duration": 13,
    "start_time": "2022-09-23T21:38:10.537Z"
   },
   {
    "duration": 199,
    "start_time": "2022-09-23T21:38:10.552Z"
   },
   {
    "duration": 14,
    "start_time": "2022-09-23T21:38:10.752Z"
   },
   {
    "duration": 21,
    "start_time": "2022-09-23T21:38:10.768Z"
   },
   {
    "duration": 47,
    "start_time": "2022-09-23T21:38:10.791Z"
   },
   {
    "duration": 21,
    "start_time": "2022-09-23T21:38:10.840Z"
   },
   {
    "duration": 15,
    "start_time": "2022-09-23T21:38:10.863Z"
   },
   {
    "duration": 21,
    "start_time": "2022-09-23T21:38:10.881Z"
   },
   {
    "duration": 16,
    "start_time": "2022-09-23T21:38:10.904Z"
   },
   {
    "duration": 28,
    "start_time": "2022-09-23T21:38:10.922Z"
   },
   {
    "duration": 2440414,
    "start_time": "2022-09-23T21:38:10.952Z"
   },
   {
    "duration": 298,
    "start_time": "2022-09-23T22:18:51.368Z"
   },
   {
    "duration": 25,
    "start_time": "2022-09-23T22:18:51.668Z"
   },
   {
    "duration": 8,
    "start_time": "2022-09-23T22:18:51.695Z"
   },
   {
    "duration": 6,
    "start_time": "2022-09-23T22:18:51.704Z"
   },
   {
    "duration": 17,
    "start_time": "2022-09-23T22:18:51.712Z"
   },
   {
    "duration": 4,
    "start_time": "2022-09-23T22:18:51.731Z"
   },
   {
    "duration": 1673,
    "start_time": "2022-09-23T22:18:51.737Z"
   },
   {
    "duration": 198,
    "start_time": "2022-09-23T22:18:53.412Z"
   },
   {
    "duration": 6,
    "start_time": "2022-09-23T22:18:53.612Z"
   },
   {
    "duration": 495,
    "start_time": "2022-09-23T22:18:53.620Z"
   },
   {
    "duration": 3,
    "start_time": "2022-09-23T22:18:54.117Z"
   },
   {
    "duration": 1423,
    "start_time": "2022-09-23T22:25:32.819Z"
   },
   {
    "duration": 2,
    "start_time": "2022-09-23T22:25:34.245Z"
   },
   {
    "duration": 7,
    "start_time": "2022-09-23T22:25:34.249Z"
   },
   {
    "duration": 118,
    "start_time": "2022-09-23T22:25:34.258Z"
   },
   {
    "duration": 12,
    "start_time": "2022-09-23T22:25:34.377Z"
   },
   {
    "duration": 5,
    "start_time": "2022-09-23T22:25:34.391Z"
   },
   {
    "duration": 11,
    "start_time": "2022-09-23T22:25:34.397Z"
   },
   {
    "duration": 13,
    "start_time": "2022-09-23T22:25:34.410Z"
   },
   {
    "duration": 36,
    "start_time": "2022-09-23T22:25:34.425Z"
   },
   {
    "duration": 17,
    "start_time": "2022-09-23T22:25:34.464Z"
   },
   {
    "duration": 44,
    "start_time": "2022-09-23T22:25:34.483Z"
   },
   {
    "duration": 35,
    "start_time": "2022-09-23T22:25:34.530Z"
   },
   {
    "duration": 19,
    "start_time": "2022-09-23T22:25:34.568Z"
   },
   {
    "duration": 17,
    "start_time": "2022-09-23T22:25:34.589Z"
   },
   {
    "duration": 1677,
    "start_time": "2022-09-23T22:25:34.607Z"
   },
   {
    "duration": 293,
    "start_time": "2022-09-23T22:25:36.285Z"
   },
   {
    "duration": 1725,
    "start_time": "2022-09-23T22:25:36.580Z"
   },
   {
    "duration": 1480,
    "start_time": "2022-09-23T22:25:38.306Z"
   },
   {
    "duration": 12,
    "start_time": "2022-09-23T22:25:39.789Z"
   },
   {
    "duration": 7,
    "start_time": "2022-09-23T22:25:39.803Z"
   },
   {
    "duration": 14,
    "start_time": "2022-09-23T22:25:39.811Z"
   },
   {
    "duration": 29,
    "start_time": "2022-09-23T22:25:39.827Z"
   },
   {
    "duration": 4,
    "start_time": "2022-09-23T22:25:39.857Z"
   },
   {
    "duration": 32,
    "start_time": "2022-09-23T22:25:39.862Z"
   },
   {
    "duration": 9,
    "start_time": "2022-09-23T22:25:39.896Z"
   },
   {
    "duration": 9,
    "start_time": "2022-09-23T22:25:39.906Z"
   },
   {
    "duration": 78,
    "start_time": "2022-09-23T22:25:39.917Z"
   },
   {
    "duration": 1980,
    "start_time": "2022-09-23T22:25:40.090Z"
   },
   {
    "duration": 1780,
    "start_time": "2022-09-23T22:25:42.072Z"
   },
   {
    "duration": 12,
    "start_time": "2022-09-23T22:25:43.854Z"
   },
   {
    "duration": 188,
    "start_time": "2022-09-23T22:25:43.867Z"
   },
   {
    "duration": 12,
    "start_time": "2022-09-23T22:25:44.057Z"
   },
   {
    "duration": 18,
    "start_time": "2022-09-23T22:25:44.071Z"
   },
   {
    "duration": 17,
    "start_time": "2022-09-23T22:25:44.091Z"
   },
   {
    "duration": 15,
    "start_time": "2022-09-23T22:25:44.110Z"
   },
   {
    "duration": 19,
    "start_time": "2022-09-23T22:25:44.126Z"
   },
   {
    "duration": 8,
    "start_time": "2022-09-23T22:25:44.146Z"
   },
   {
    "duration": 9,
    "start_time": "2022-09-23T22:25:44.156Z"
   },
   {
    "duration": 29,
    "start_time": "2022-09-23T22:25:44.166Z"
   },
   {
    "duration": 15982,
    "start_time": "2022-09-23T22:25:44.197Z"
   },
   {
    "duration": 509,
    "start_time": "2022-09-23T22:26:00.190Z"
   },
   {
    "duration": 13,
    "start_time": "2022-09-23T22:26:00.701Z"
   },
   {
    "duration": 28,
    "start_time": "2022-09-23T22:26:00.716Z"
   },
   {
    "duration": 35,
    "start_time": "2022-09-23T22:26:00.746Z"
   },
   {
    "duration": 48,
    "start_time": "2022-09-23T22:26:00.783Z"
   },
   {
    "duration": 18,
    "start_time": "2022-09-23T22:26:00.834Z"
   },
   {
    "duration": 1651,
    "start_time": "2022-09-23T22:26:00.854Z"
   },
   {
    "duration": 194,
    "start_time": "2022-09-23T22:26:02.507Z"
   },
   {
    "duration": 5,
    "start_time": "2022-09-23T22:26:02.703Z"
   },
   {
    "duration": 501,
    "start_time": "2022-09-23T22:26:02.709Z"
   },
   {
    "duration": 3,
    "start_time": "2022-09-23T22:26:03.212Z"
   },
   {
    "duration": 1572,
    "start_time": "2022-09-24T05:26:14.826Z"
   },
   {
    "duration": 3,
    "start_time": "2022-09-24T05:26:16.400Z"
   },
   {
    "duration": 19,
    "start_time": "2022-09-24T05:26:16.405Z"
   },
   {
    "duration": 145,
    "start_time": "2022-09-24T05:26:16.426Z"
   },
   {
    "duration": 4,
    "start_time": "2022-09-24T05:26:16.573Z"
   },
   {
    "duration": 21,
    "start_time": "2022-09-24T05:26:16.579Z"
   },
   {
    "duration": 19,
    "start_time": "2022-09-24T05:26:16.601Z"
   },
   {
    "duration": 15,
    "start_time": "2022-09-24T05:26:16.622Z"
   },
   {
    "duration": 9,
    "start_time": "2022-09-24T05:26:16.639Z"
   },
   {
    "duration": 5,
    "start_time": "2022-09-24T05:26:16.649Z"
   },
   {
    "duration": 6,
    "start_time": "2022-09-24T05:26:16.655Z"
   },
   {
    "duration": 5,
    "start_time": "2022-09-24T05:26:16.663Z"
   },
   {
    "duration": 8,
    "start_time": "2022-09-24T05:26:16.669Z"
   },
   {
    "duration": 8,
    "start_time": "2022-09-24T05:26:16.681Z"
   },
   {
    "duration": 1507,
    "start_time": "2022-09-24T05:26:16.690Z"
   },
   {
    "duration": 275,
    "start_time": "2022-09-24T05:26:18.199Z"
   },
   {
    "duration": 2410,
    "start_time": "2022-09-24T05:26:18.476Z"
   },
   {
    "duration": 1350,
    "start_time": "2022-09-24T05:26:20.888Z"
   },
   {
    "duration": 12,
    "start_time": "2022-09-24T05:26:22.239Z"
   },
   {
    "duration": 4,
    "start_time": "2022-09-24T05:26:22.252Z"
   },
   {
    "duration": 27,
    "start_time": "2022-09-24T05:26:22.257Z"
   },
   {
    "duration": 27,
    "start_time": "2022-09-24T05:26:22.285Z"
   },
   {
    "duration": 3,
    "start_time": "2022-09-24T05:26:22.313Z"
   },
   {
    "duration": 10,
    "start_time": "2022-09-24T05:26:22.318Z"
   },
   {
    "duration": 10,
    "start_time": "2022-09-24T05:26:22.330Z"
   },
   {
    "duration": 10,
    "start_time": "2022-09-24T05:26:22.341Z"
   },
   {
    "duration": 50,
    "start_time": "2022-09-24T05:26:22.353Z"
   },
   {
    "duration": 1706,
    "start_time": "2022-09-24T05:26:22.405Z"
   },
   {
    "duration": 1630,
    "start_time": "2022-09-24T05:26:24.114Z"
   },
   {
    "duration": 10,
    "start_time": "2022-09-24T05:26:25.745Z"
   },
   {
    "duration": 163,
    "start_time": "2022-09-24T05:26:25.756Z"
   },
   {
    "duration": 10,
    "start_time": "2022-09-24T05:26:25.921Z"
   },
   {
    "duration": 13,
    "start_time": "2022-09-24T05:26:25.933Z"
   },
   {
    "duration": 15,
    "start_time": "2022-09-24T05:26:25.948Z"
   },
   {
    "duration": 13,
    "start_time": "2022-09-24T05:26:25.964Z"
   },
   {
    "duration": 26,
    "start_time": "2022-09-24T05:26:25.978Z"
   },
   {
    "duration": 8,
    "start_time": "2022-09-24T05:26:26.005Z"
   },
   {
    "duration": 13,
    "start_time": "2022-09-24T05:26:26.014Z"
   },
   {
    "duration": 22,
    "start_time": "2022-09-24T05:26:26.028Z"
   },
   {
    "duration": 14893,
    "start_time": "2022-09-24T05:26:26.052Z"
   },
   {
    "duration": 456,
    "start_time": "2022-09-24T05:26:40.950Z"
   },
   {
    "duration": 13,
    "start_time": "2022-09-24T05:26:41.408Z"
   },
   {
    "duration": 8,
    "start_time": "2022-09-24T05:26:41.423Z"
   },
   {
    "duration": 6,
    "start_time": "2022-09-24T05:26:41.433Z"
   },
   {
    "duration": 37,
    "start_time": "2022-09-24T05:26:41.441Z"
   },
   {
    "duration": 5,
    "start_time": "2022-09-24T05:26:41.480Z"
   },
   {
    "duration": 1477,
    "start_time": "2022-09-24T05:26:41.487Z"
   },
   {
    "duration": 196,
    "start_time": "2022-09-24T05:26:42.966Z"
   },
   {
    "duration": 15,
    "start_time": "2022-09-24T05:26:43.163Z"
   },
   {
    "duration": 451,
    "start_time": "2022-09-24T05:26:43.180Z"
   },
   {
    "duration": 3,
    "start_time": "2022-09-24T05:26:43.634Z"
   },
   {
    "duration": 104,
    "start_time": "2022-09-24T05:53:05.834Z"
   },
   {
    "duration": 6,
    "start_time": "2022-09-24T05:53:11.105Z"
   },
   {
    "duration": 6,
    "start_time": "2022-09-24T05:53:18.393Z"
   },
   {
    "duration": 136,
    "start_time": "2022-09-24T13:14:41.314Z"
   },
   {
    "duration": 13,
    "start_time": "2022-09-24T13:14:59.506Z"
   },
   {
    "duration": 15,
    "start_time": "2022-09-24T13:15:04.396Z"
   },
   {
    "duration": 6,
    "start_time": "2022-09-24T13:17:40.425Z"
   },
   {
    "duration": 5,
    "start_time": "2022-09-24T13:17:55.580Z"
   },
   {
    "duration": 4,
    "start_time": "2022-09-24T13:18:15.553Z"
   },
   {
    "duration": 12,
    "start_time": "2022-09-24T13:18:19.157Z"
   },
   {
    "duration": 9,
    "start_time": "2022-09-24T13:18:25.103Z"
   },
   {
    "duration": 4,
    "start_time": "2022-09-24T13:18:33.047Z"
   },
   {
    "duration": 11,
    "start_time": "2022-09-24T13:18:44.796Z"
   },
   {
    "duration": 13,
    "start_time": "2022-09-24T13:19:17.469Z"
   },
   {
    "duration": 18,
    "start_time": "2022-09-24T13:19:29.785Z"
   },
   {
    "duration": 13,
    "start_time": "2022-09-24T14:04:25.146Z"
   },
   {
    "duration": 20,
    "start_time": "2022-09-24T14:04:37.022Z"
   },
   {
    "duration": 21,
    "start_time": "2022-09-24T14:04:46.294Z"
   },
   {
    "duration": 12,
    "start_time": "2022-09-24T14:05:20.509Z"
   },
   {
    "duration": 23,
    "start_time": "2022-09-24T14:05:27.636Z"
   },
   {
    "duration": 27,
    "start_time": "2022-09-24T14:06:04.642Z"
   },
   {
    "duration": 89,
    "start_time": "2022-09-24T14:06:15.582Z"
   },
   {
    "duration": 32,
    "start_time": "2022-09-24T14:06:25.889Z"
   },
   {
    "duration": 12,
    "start_time": "2022-09-24T14:06:33.817Z"
   },
   {
    "duration": 91,
    "start_time": "2022-09-24T14:06:47.121Z"
   },
   {
    "duration": 25,
    "start_time": "2022-09-24T14:06:53.240Z"
   },
   {
    "duration": 28,
    "start_time": "2022-09-24T14:07:05.538Z"
   },
   {
    "duration": 5,
    "start_time": "2022-09-24T14:07:19.920Z"
   },
   {
    "duration": 23,
    "start_time": "2022-09-24T14:07:26.418Z"
   },
   {
    "duration": 23,
    "start_time": "2022-09-24T14:07:40.107Z"
   },
   {
    "duration": 109,
    "start_time": "2022-09-24T14:08:11.930Z"
   },
   {
    "duration": 29,
    "start_time": "2022-09-24T14:08:16.096Z"
   },
   {
    "duration": 29,
    "start_time": "2022-09-24T14:08:20.564Z"
   },
   {
    "duration": 16,
    "start_time": "2022-09-24T14:09:48.558Z"
   },
   {
    "duration": 18,
    "start_time": "2022-09-24T14:10:00.296Z"
   },
   {
    "duration": 80,
    "start_time": "2022-09-24T14:10:17.054Z"
   },
   {
    "duration": 51,
    "start_time": "2022-09-24T14:10:33.086Z"
   },
   {
    "duration": 33,
    "start_time": "2022-09-24T14:12:21.575Z"
   },
   {
    "duration": 0,
    "start_time": "2022-09-24T14:14:11.305Z"
   },
   {
    "duration": 14996,
    "start_time": "2022-09-24T14:14:16.033Z"
   },
   {
    "duration": 135,
    "start_time": "2022-09-24T14:14:38.024Z"
   },
   {
    "duration": 139,
    "start_time": "2022-09-24T14:15:02.577Z"
   },
   {
    "duration": 150,
    "start_time": "2022-09-24T14:15:08.429Z"
   },
   {
    "duration": 136,
    "start_time": "2022-09-24T14:15:23.729Z"
   },
   {
    "duration": 30,
    "start_time": "2022-09-24T14:32:46.756Z"
   },
   {
    "duration": 96,
    "start_time": "2022-09-24T14:32:49.065Z"
   },
   {
    "duration": 95,
    "start_time": "2022-09-24T14:33:06.118Z"
   },
   {
    "duration": 127,
    "start_time": "2022-09-24T14:33:17.790Z"
   },
   {
    "duration": 125,
    "start_time": "2022-09-24T14:33:21.488Z"
   },
   {
    "duration": 81,
    "start_time": "2022-09-24T20:18:39.483Z"
   },
   {
    "duration": 1492,
    "start_time": "2022-09-24T20:21:28.466Z"
   },
   {
    "duration": 3,
    "start_time": "2022-09-24T20:21:29.960Z"
   },
   {
    "duration": 8,
    "start_time": "2022-09-24T20:21:29.965Z"
   },
   {
    "duration": 113,
    "start_time": "2022-09-24T20:21:29.975Z"
   },
   {
    "duration": 5,
    "start_time": "2022-09-24T20:21:30.090Z"
   },
   {
    "duration": 25,
    "start_time": "2022-09-24T20:21:30.097Z"
   },
   {
    "duration": 47,
    "start_time": "2022-09-24T20:21:30.124Z"
   },
   {
    "duration": 36,
    "start_time": "2022-09-24T20:21:30.173Z"
   },
   {
    "duration": 41,
    "start_time": "2022-09-24T20:21:30.211Z"
   },
   {
    "duration": 25,
    "start_time": "2022-09-24T20:21:30.255Z"
   },
   {
    "duration": 77,
    "start_time": "2022-09-24T20:21:30.282Z"
   },
   {
    "duration": 31,
    "start_time": "2022-09-24T20:21:30.361Z"
   },
   {
    "duration": 24,
    "start_time": "2022-09-24T20:21:30.394Z"
   },
   {
    "duration": 21,
    "start_time": "2022-09-24T20:21:30.420Z"
   },
   {
    "duration": 1777,
    "start_time": "2022-09-24T20:21:30.444Z"
   },
   {
    "duration": 295,
    "start_time": "2022-09-24T20:21:32.223Z"
   },
   {
    "duration": 1703,
    "start_time": "2022-09-24T20:21:32.520Z"
   },
   {
    "duration": 1510,
    "start_time": "2022-09-24T20:21:34.224Z"
   },
   {
    "duration": 12,
    "start_time": "2022-09-24T20:21:35.736Z"
   },
   {
    "duration": 152,
    "start_time": "2022-09-24T20:21:35.749Z"
   },
   {
    "duration": 11,
    "start_time": "2022-09-24T20:21:35.902Z"
   },
   {
    "duration": 25,
    "start_time": "2022-09-24T20:21:35.914Z"
   },
   {
    "duration": 148,
    "start_time": "2022-09-24T20:21:35.941Z"
   },
   {
    "duration": 3,
    "start_time": "2022-09-24T20:21:36.091Z"
   },
   {
    "duration": 23,
    "start_time": "2022-09-24T20:21:36.096Z"
   },
   {
    "duration": 24,
    "start_time": "2022-09-24T20:21:36.122Z"
   },
   {
    "duration": 26,
    "start_time": "2022-09-24T20:21:36.148Z"
   },
   {
    "duration": 52,
    "start_time": "2022-09-24T20:21:36.179Z"
   },
   {
    "duration": 227,
    "start_time": "2022-09-24T20:21:36.291Z"
   },
   {
    "duration": 2325,
    "start_time": "2022-09-24T20:21:36.521Z"
   },
   {
    "duration": 12,
    "start_time": "2022-09-24T20:21:38.848Z"
   },
   {
    "duration": 199,
    "start_time": "2022-09-24T20:21:38.862Z"
   },
   {
    "duration": 12,
    "start_time": "2022-09-24T20:21:39.063Z"
   },
   {
    "duration": 6,
    "start_time": "2022-09-24T20:21:39.088Z"
   },
   {
    "duration": 19,
    "start_time": "2022-09-24T20:21:39.095Z"
   },
   {
    "duration": 10,
    "start_time": "2022-09-24T20:21:39.116Z"
   },
   {
    "duration": 39,
    "start_time": "2022-09-24T20:21:39.128Z"
   },
   {
    "duration": 37,
    "start_time": "2022-09-24T20:21:39.169Z"
   },
   {
    "duration": 37,
    "start_time": "2022-09-24T20:21:39.208Z"
   },
   {
    "duration": 32,
    "start_time": "2022-09-24T20:21:39.247Z"
   },
   {
    "duration": 30176,
    "start_time": "2022-09-24T20:21:39.281Z"
   },
   {
    "duration": 326,
    "start_time": "2022-09-24T20:22:09.459Z"
   },
   {
    "duration": 14,
    "start_time": "2022-09-24T20:22:09.787Z"
   },
   {
    "duration": 17,
    "start_time": "2022-09-24T20:22:09.803Z"
   },
   {
    "duration": 9,
    "start_time": "2022-09-24T20:22:09.822Z"
   },
   {
    "duration": 15,
    "start_time": "2022-09-24T20:22:09.833Z"
   },
   {
    "duration": 4,
    "start_time": "2022-09-24T20:22:09.850Z"
   },
   {
    "duration": 4433,
    "start_time": "2022-09-24T20:22:09.856Z"
   },
   {
    "duration": 336,
    "start_time": "2022-09-24T20:22:14.290Z"
   },
   {
    "duration": 7,
    "start_time": "2022-09-24T20:22:14.628Z"
   },
   {
    "duration": 346,
    "start_time": "2022-09-24T20:22:14.637Z"
   },
   {
    "duration": 6,
    "start_time": "2022-09-24T20:22:14.984Z"
   }
  ],
  "kernelspec": {
   "display_name": "Python 3 (ipykernel)",
   "language": "python",
   "name": "python3"
  },
  "language_info": {
   "codemirror_mode": {
    "name": "ipython",
    "version": 3
   },
   "file_extension": ".py",
   "mimetype": "text/x-python",
   "name": "python",
   "nbconvert_exporter": "python",
   "pygments_lexer": "ipython3",
   "version": "3.9.13"
  },
  "toc": {
   "base_numbering": 1,
   "nav_menu": {},
   "number_sections": true,
   "sideBar": true,
   "skip_h1_title": true,
   "title_cell": "Содержание",
   "title_sidebar": "Contents",
   "toc_cell": true,
   "toc_position": {
    "height": "calc(100% - 180px)",
    "left": "10px",
    "top": "150px",
    "width": "350.188px"
   },
   "toc_section_display": true,
   "toc_window_display": true
  }
 },
 "nbformat": 4,
 "nbformat_minor": 2
}
